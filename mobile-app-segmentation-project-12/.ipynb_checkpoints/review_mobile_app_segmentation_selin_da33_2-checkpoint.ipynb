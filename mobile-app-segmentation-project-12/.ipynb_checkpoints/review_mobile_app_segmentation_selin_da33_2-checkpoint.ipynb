{
 "cells": [
  {
   "cell_type": "markdown",
   "id": "EL658ZAhtmPt",
   "metadata": {
    "id": "EL658ZAhtmPt"
   },
   "source": [
    "<div style=\"border-radius: 15px; box-shadow: 2px 2px 4px; border: 1px solid; background:#bdc3c7; padding: 20px\"> <h7 style=\"color:black; margin-bottom:20px\"> Вадим, привет!) Это Михаил.\n",
    "\n",
    "Мои комментарии и замечания далее по тексту помечены различными цветами:\n",
    "    \n",
    "---    \n",
    "<div class=\"alert alert-block alert-danger\">\n",
    "❌ : Критическое замечание, которые следует исправить.\n",
    "</div> \n",
    "    \n",
    "---\n",
    "    \n",
    "<div class=\"alert alert-block alert-warning\">\n",
    "⚠️ : Замечание\\совет на будущее.\n",
    "</div>\n",
    "    \n",
    "---\n",
    "    \n",
    "<div class=\"alert alert-block alert-success\">\n",
    "✔️ : Когда всё сделано правильно.\n",
    "</div>\n",
    "    \n",
    "---\n",
    "    \n",
    "p.s.: не удаляй мои замечания, если предстоит что то доработать в проекте.</h7>"
   ]
  },
  {
   "cell_type": "markdown",
   "id": "29b75ace",
   "metadata": {
    "id": "29b75ace"
   },
   "source": [
    "## Задание\n",
    "\n",
    "---\n",
    "\n",
    "**Задача:**\n",
    "\n",
    "**Выделите группы пользователей, которые различаются по метрикам:**\n",
    "\n",
    "1. retention rate,\n",
    "2. время, проведённое в приложении, \n",
    "3. частота действий, \n",
    "4. конверсия в целевое действие — просмотр контактов.\n",
    "---\n",
    "\n",
    "- Проведите исследовательский анализ данных\n",
    "- Сегментируйте пользователей на основе действий\n",
    "- Проверьте статистические гипотезы\n",
    "    1. *Некоторые пользователи установили приложение по ссылке из `yandex`, другие — из `google`. Проверьте гипотезу: две эти группы демонстрируют разную конверсию в просмотры контактов.*\n",
    "    2. *Сформулируйте собственную гипотезу. Дополните её нулевой и альтернативной гипотезами. Проведите статистический тест.*"
   ]
  },
  {
   "cell_type": "markdown",
   "id": "6c5303e5",
   "metadata": {
    "id": "6c5303e5"
   },
   "source": [
    "**Декомпозиция задачи**"
   ]
  },
  {
   "cell_type": "markdown",
   "id": "4b6b0e82",
   "metadata": {
    "id": "4b6b0e82"
   },
   "source": [
    "# Загрузка данных и библиотек для их обработки."
   ]
  },
  {
   "cell_type": "code",
   "execution_count": 1,
   "id": "Bg5jY96tfrah",
   "metadata": {
    "colab": {
     "base_uri": "https://localhost:8080/"
    },
    "executionInfo": {
     "elapsed": 1282,
     "status": "ok",
     "timestamp": 1650033969852,
     "user": {
      "displayName": "Vadim Selin",
      "userId": "13742755250186020674"
     },
     "user_tz": -180
    },
    "id": "Bg5jY96tfrah",
    "outputId": "ca272ac2-98b4-40a2-ead4-7ba2be764a61"
   },
   "outputs": [],
   "source": [
    "import pandas as pd\n",
    "import numpy as np\n",
    "import seaborn as sns\n",
    "import matplotlib.pyplot as plt\n",
    "from statsmodels.stats.proportion import proportions_ztest\n",
    "from sklearn.preprocessing import StandardScaler\n",
    "from scipy.cluster.hierarchy import dendrogram, linkage\n",
    "from sklearn.cluster import KMeans"
   ]
  },
  {
   "cell_type": "code",
   "execution_count": 2,
   "id": "NsjTg39-gCHp",
   "metadata": {
    "colab": {
     "base_uri": "https://localhost:8080/"
    },
    "executionInfo": {
     "elapsed": 1401,
     "status": "ok",
     "timestamp": 1650033971251,
     "user": {
      "displayName": "Vadim Selin",
      "userId": "13742755250186020674"
     },
     "user_tz": -180
    },
    "id": "NsjTg39-gCHp",
    "outputId": "aab521b0-8f53-4a91-a466-29533c4d90d3"
   },
   "outputs": [
    {
     "name": "stdout",
     "output_type": "stream",
     "text": [
      "/bin/bash: gdown: command not found\r\n"
     ]
    }
   ],
   "source": [
    "! gdown --id 11Z8YQ7HUtpyOpywT4edBzAUVPk7-0sGL"
   ]
  },
  {
   "cell_type": "code",
   "execution_count": 3,
   "id": "lmZSWl2MgCdo",
   "metadata": {
    "colab": {
     "base_uri": "https://localhost:8080/"
    },
    "executionInfo": {
     "elapsed": 1647,
     "status": "ok",
     "timestamp": 1650033972896,
     "user": {
      "displayName": "Vadim Selin",
      "userId": "13742755250186020674"
     },
     "user_tz": -180
    },
    "id": "lmZSWl2MgCdo",
    "outputId": "1369f0a5-96e6-412a-9dff-884101c7877c"
   },
   "outputs": [
    {
     "name": "stdout",
     "output_type": "stream",
     "text": [
      "/bin/bash: gdown: command not found\r\n"
     ]
    }
   ],
   "source": [
    "! gdown --id 1tZ9h9O9ajv0zMNZQUv7_WCnA64dGJ3UJ"
   ]
  },
  {
   "cell_type": "code",
   "execution_count": 4,
   "id": "ca-ELH1UgF6Q",
   "metadata": {
    "executionInfo": {
     "elapsed": 467,
     "status": "ok",
     "timestamp": 1650033973362,
     "user": {
      "displayName": "Vadim Selin",
      "userId": "13742755250186020674"
     },
     "user_tz": -180
    },
    "id": "ca-ELH1UgF6Q"
   },
   "outputs": [
    {
     "ename": "FileNotFoundError",
     "evalue": "[Errno 2] No such file or directory: 'mobile_dataset.csv'",
     "output_type": "error",
     "traceback": [
      "\u001b[0;31m---------------------------------------------------------------------------\u001b[0m",
      "\u001b[0;31mFileNotFoundError\u001b[0m                         Traceback (most recent call last)",
      "\u001b[0;32m/tmp/ipykernel_269/3714146774.py\u001b[0m in \u001b[0;36m<module>\u001b[0;34m\u001b[0m\n\u001b[0;32m----> 1\u001b[0;31m \u001b[0mdf\u001b[0m \u001b[0;34m=\u001b[0m \u001b[0mpd\u001b[0m\u001b[0;34m.\u001b[0m\u001b[0mread_csv\u001b[0m\u001b[0;34m(\u001b[0m\u001b[0;34m'mobile_dataset.csv'\u001b[0m\u001b[0;34m)\u001b[0m\u001b[0;34m\u001b[0m\u001b[0;34m\u001b[0m\u001b[0m\n\u001b[0m",
      "\u001b[0;32m/opt/conda/lib/python3.9/site-packages/pandas/io/parsers.py\u001b[0m in \u001b[0;36mread_csv\u001b[0;34m(filepath_or_buffer, sep, delimiter, header, names, index_col, usecols, squeeze, prefix, mangle_dupe_cols, dtype, engine, converters, true_values, false_values, skipinitialspace, skiprows, skipfooter, nrows, na_values, keep_default_na, na_filter, verbose, skip_blank_lines, parse_dates, infer_datetime_format, keep_date_col, date_parser, dayfirst, cache_dates, iterator, chunksize, compression, thousands, decimal, lineterminator, quotechar, quoting, doublequote, escapechar, comment, encoding, dialect, error_bad_lines, warn_bad_lines, delim_whitespace, low_memory, memory_map, float_precision, storage_options)\u001b[0m\n\u001b[1;32m    608\u001b[0m     \u001b[0mkwds\u001b[0m\u001b[0;34m.\u001b[0m\u001b[0mupdate\u001b[0m\u001b[0;34m(\u001b[0m\u001b[0mkwds_defaults\u001b[0m\u001b[0;34m)\u001b[0m\u001b[0;34m\u001b[0m\u001b[0;34m\u001b[0m\u001b[0m\n\u001b[1;32m    609\u001b[0m \u001b[0;34m\u001b[0m\u001b[0m\n\u001b[0;32m--> 610\u001b[0;31m     \u001b[0;32mreturn\u001b[0m \u001b[0m_read\u001b[0m\u001b[0;34m(\u001b[0m\u001b[0mfilepath_or_buffer\u001b[0m\u001b[0;34m,\u001b[0m \u001b[0mkwds\u001b[0m\u001b[0;34m)\u001b[0m\u001b[0;34m\u001b[0m\u001b[0;34m\u001b[0m\u001b[0m\n\u001b[0m\u001b[1;32m    611\u001b[0m \u001b[0;34m\u001b[0m\u001b[0m\n\u001b[1;32m    612\u001b[0m \u001b[0;34m\u001b[0m\u001b[0m\n",
      "\u001b[0;32m/opt/conda/lib/python3.9/site-packages/pandas/io/parsers.py\u001b[0m in \u001b[0;36m_read\u001b[0;34m(filepath_or_buffer, kwds)\u001b[0m\n\u001b[1;32m    460\u001b[0m \u001b[0;34m\u001b[0m\u001b[0m\n\u001b[1;32m    461\u001b[0m     \u001b[0;31m# Create the parser.\u001b[0m\u001b[0;34m\u001b[0m\u001b[0;34m\u001b[0m\u001b[0;34m\u001b[0m\u001b[0m\n\u001b[0;32m--> 462\u001b[0;31m     \u001b[0mparser\u001b[0m \u001b[0;34m=\u001b[0m \u001b[0mTextFileReader\u001b[0m\u001b[0;34m(\u001b[0m\u001b[0mfilepath_or_buffer\u001b[0m\u001b[0;34m,\u001b[0m \u001b[0;34m**\u001b[0m\u001b[0mkwds\u001b[0m\u001b[0;34m)\u001b[0m\u001b[0;34m\u001b[0m\u001b[0;34m\u001b[0m\u001b[0m\n\u001b[0m\u001b[1;32m    463\u001b[0m \u001b[0;34m\u001b[0m\u001b[0m\n\u001b[1;32m    464\u001b[0m     \u001b[0;32mif\u001b[0m \u001b[0mchunksize\u001b[0m \u001b[0;32mor\u001b[0m \u001b[0miterator\u001b[0m\u001b[0;34m:\u001b[0m\u001b[0;34m\u001b[0m\u001b[0;34m\u001b[0m\u001b[0m\n",
      "\u001b[0;32m/opt/conda/lib/python3.9/site-packages/pandas/io/parsers.py\u001b[0m in \u001b[0;36m__init__\u001b[0;34m(self, f, engine, **kwds)\u001b[0m\n\u001b[1;32m    817\u001b[0m             \u001b[0mself\u001b[0m\u001b[0;34m.\u001b[0m\u001b[0moptions\u001b[0m\u001b[0;34m[\u001b[0m\u001b[0;34m\"has_index_names\"\u001b[0m\u001b[0;34m]\u001b[0m \u001b[0;34m=\u001b[0m \u001b[0mkwds\u001b[0m\u001b[0;34m[\u001b[0m\u001b[0;34m\"has_index_names\"\u001b[0m\u001b[0;34m]\u001b[0m\u001b[0;34m\u001b[0m\u001b[0;34m\u001b[0m\u001b[0m\n\u001b[1;32m    818\u001b[0m \u001b[0;34m\u001b[0m\u001b[0m\n\u001b[0;32m--> 819\u001b[0;31m         \u001b[0mself\u001b[0m\u001b[0;34m.\u001b[0m\u001b[0m_engine\u001b[0m \u001b[0;34m=\u001b[0m \u001b[0mself\u001b[0m\u001b[0;34m.\u001b[0m\u001b[0m_make_engine\u001b[0m\u001b[0;34m(\u001b[0m\u001b[0mself\u001b[0m\u001b[0;34m.\u001b[0m\u001b[0mengine\u001b[0m\u001b[0;34m)\u001b[0m\u001b[0;34m\u001b[0m\u001b[0;34m\u001b[0m\u001b[0m\n\u001b[0m\u001b[1;32m    820\u001b[0m \u001b[0;34m\u001b[0m\u001b[0m\n\u001b[1;32m    821\u001b[0m     \u001b[0;32mdef\u001b[0m \u001b[0mclose\u001b[0m\u001b[0;34m(\u001b[0m\u001b[0mself\u001b[0m\u001b[0;34m)\u001b[0m\u001b[0;34m:\u001b[0m\u001b[0;34m\u001b[0m\u001b[0;34m\u001b[0m\u001b[0m\n",
      "\u001b[0;32m/opt/conda/lib/python3.9/site-packages/pandas/io/parsers.py\u001b[0m in \u001b[0;36m_make_engine\u001b[0;34m(self, engine)\u001b[0m\n\u001b[1;32m   1048\u001b[0m             )\n\u001b[1;32m   1049\u001b[0m         \u001b[0;31m# error: Too many arguments for \"ParserBase\"\u001b[0m\u001b[0;34m\u001b[0m\u001b[0;34m\u001b[0m\u001b[0;34m\u001b[0m\u001b[0m\n\u001b[0;32m-> 1050\u001b[0;31m         \u001b[0;32mreturn\u001b[0m \u001b[0mmapping\u001b[0m\u001b[0;34m[\u001b[0m\u001b[0mengine\u001b[0m\u001b[0;34m]\u001b[0m\u001b[0;34m(\u001b[0m\u001b[0mself\u001b[0m\u001b[0;34m.\u001b[0m\u001b[0mf\u001b[0m\u001b[0;34m,\u001b[0m \u001b[0;34m**\u001b[0m\u001b[0mself\u001b[0m\u001b[0;34m.\u001b[0m\u001b[0moptions\u001b[0m\u001b[0;34m)\u001b[0m  \u001b[0;31m# type: ignore[call-arg]\u001b[0m\u001b[0;34m\u001b[0m\u001b[0;34m\u001b[0m\u001b[0m\n\u001b[0m\u001b[1;32m   1051\u001b[0m \u001b[0;34m\u001b[0m\u001b[0m\n\u001b[1;32m   1052\u001b[0m     \u001b[0;32mdef\u001b[0m \u001b[0m_failover_to_python\u001b[0m\u001b[0;34m(\u001b[0m\u001b[0mself\u001b[0m\u001b[0;34m)\u001b[0m\u001b[0;34m:\u001b[0m\u001b[0;34m\u001b[0m\u001b[0;34m\u001b[0m\u001b[0m\n",
      "\u001b[0;32m/opt/conda/lib/python3.9/site-packages/pandas/io/parsers.py\u001b[0m in \u001b[0;36m__init__\u001b[0;34m(self, src, **kwds)\u001b[0m\n\u001b[1;32m   1865\u001b[0m \u001b[0;34m\u001b[0m\u001b[0m\n\u001b[1;32m   1866\u001b[0m         \u001b[0;31m# open handles\u001b[0m\u001b[0;34m\u001b[0m\u001b[0;34m\u001b[0m\u001b[0;34m\u001b[0m\u001b[0m\n\u001b[0;32m-> 1867\u001b[0;31m         \u001b[0mself\u001b[0m\u001b[0;34m.\u001b[0m\u001b[0m_open_handles\u001b[0m\u001b[0;34m(\u001b[0m\u001b[0msrc\u001b[0m\u001b[0;34m,\u001b[0m \u001b[0mkwds\u001b[0m\u001b[0;34m)\u001b[0m\u001b[0;34m\u001b[0m\u001b[0;34m\u001b[0m\u001b[0m\n\u001b[0m\u001b[1;32m   1868\u001b[0m         \u001b[0;32massert\u001b[0m \u001b[0mself\u001b[0m\u001b[0;34m.\u001b[0m\u001b[0mhandles\u001b[0m \u001b[0;32mis\u001b[0m \u001b[0;32mnot\u001b[0m \u001b[0;32mNone\u001b[0m\u001b[0;34m\u001b[0m\u001b[0;34m\u001b[0m\u001b[0m\n\u001b[1;32m   1869\u001b[0m         \u001b[0;32mfor\u001b[0m \u001b[0mkey\u001b[0m \u001b[0;32min\u001b[0m \u001b[0;34m(\u001b[0m\u001b[0;34m\"storage_options\"\u001b[0m\u001b[0;34m,\u001b[0m \u001b[0;34m\"encoding\"\u001b[0m\u001b[0;34m,\u001b[0m \u001b[0;34m\"memory_map\"\u001b[0m\u001b[0;34m,\u001b[0m \u001b[0;34m\"compression\"\u001b[0m\u001b[0;34m)\u001b[0m\u001b[0;34m:\u001b[0m\u001b[0;34m\u001b[0m\u001b[0;34m\u001b[0m\u001b[0m\n",
      "\u001b[0;32m/opt/conda/lib/python3.9/site-packages/pandas/io/parsers.py\u001b[0m in \u001b[0;36m_open_handles\u001b[0;34m(self, src, kwds)\u001b[0m\n\u001b[1;32m   1360\u001b[0m         \u001b[0mLet\u001b[0m \u001b[0mthe\u001b[0m \u001b[0mreaders\u001b[0m \u001b[0mopen\u001b[0m \u001b[0mIOHanldes\u001b[0m \u001b[0mafter\u001b[0m \u001b[0mthey\u001b[0m \u001b[0mare\u001b[0m \u001b[0mdone\u001b[0m \u001b[0;32mwith\u001b[0m \u001b[0mtheir\u001b[0m \u001b[0mpotential\u001b[0m \u001b[0mraises\u001b[0m\u001b[0;34m.\u001b[0m\u001b[0;34m\u001b[0m\u001b[0;34m\u001b[0m\u001b[0m\n\u001b[1;32m   1361\u001b[0m         \"\"\"\n\u001b[0;32m-> 1362\u001b[0;31m         self.handles = get_handle(\n\u001b[0m\u001b[1;32m   1363\u001b[0m             \u001b[0msrc\u001b[0m\u001b[0;34m,\u001b[0m\u001b[0;34m\u001b[0m\u001b[0;34m\u001b[0m\u001b[0m\n\u001b[1;32m   1364\u001b[0m             \u001b[0;34m\"r\"\u001b[0m\u001b[0;34m,\u001b[0m\u001b[0;34m\u001b[0m\u001b[0;34m\u001b[0m\u001b[0m\n",
      "\u001b[0;32m/opt/conda/lib/python3.9/site-packages/pandas/io/common.py\u001b[0m in \u001b[0;36mget_handle\u001b[0;34m(path_or_buf, mode, encoding, compression, memory_map, is_text, errors, storage_options)\u001b[0m\n\u001b[1;32m    640\u001b[0m                 \u001b[0merrors\u001b[0m \u001b[0;34m=\u001b[0m \u001b[0;34m\"replace\"\u001b[0m\u001b[0;34m\u001b[0m\u001b[0;34m\u001b[0m\u001b[0m\n\u001b[1;32m    641\u001b[0m             \u001b[0;31m# Encoding\u001b[0m\u001b[0;34m\u001b[0m\u001b[0;34m\u001b[0m\u001b[0;34m\u001b[0m\u001b[0m\n\u001b[0;32m--> 642\u001b[0;31m             handle = open(\n\u001b[0m\u001b[1;32m    643\u001b[0m                 \u001b[0mhandle\u001b[0m\u001b[0;34m,\u001b[0m\u001b[0;34m\u001b[0m\u001b[0;34m\u001b[0m\u001b[0m\n\u001b[1;32m    644\u001b[0m                 \u001b[0mioargs\u001b[0m\u001b[0;34m.\u001b[0m\u001b[0mmode\u001b[0m\u001b[0;34m,\u001b[0m\u001b[0;34m\u001b[0m\u001b[0;34m\u001b[0m\u001b[0m\n",
      "\u001b[0;31mFileNotFoundError\u001b[0m: [Errno 2] No such file or directory: 'mobile_dataset.csv'"
     ]
    }
   ],
   "source": [
    "df = pd.read_csv('mobile_dataset.csv')"
   ]
  },
  {
   "cell_type": "code",
   "execution_count": 5,
   "id": "ZXdmtojOgMvg",
   "metadata": {
    "executionInfo": {
     "elapsed": 20,
     "status": "ok",
     "timestamp": 1650033973363,
     "user": {
      "displayName": "Vadim Selin",
      "userId": "13742755250186020674"
     },
     "user_tz": -180
    },
    "id": "ZXdmtojOgMvg"
   },
   "outputs": [
    {
     "ename": "FileNotFoundError",
     "evalue": "[Errno 2] No such file or directory: 'mobile_soures.csv'",
     "output_type": "error",
     "traceback": [
      "\u001b[0;31m---------------------------------------------------------------------------\u001b[0m",
      "\u001b[0;31mFileNotFoundError\u001b[0m                         Traceback (most recent call last)",
      "\u001b[0;32m/tmp/ipykernel_269/2190384464.py\u001b[0m in \u001b[0;36m<module>\u001b[0;34m\u001b[0m\n\u001b[0;32m----> 1\u001b[0;31m \u001b[0msrc\u001b[0m \u001b[0;34m=\u001b[0m \u001b[0mpd\u001b[0m\u001b[0;34m.\u001b[0m\u001b[0mread_csv\u001b[0m\u001b[0;34m(\u001b[0m\u001b[0;34m'mobile_soures.csv'\u001b[0m\u001b[0;34m)\u001b[0m\u001b[0;34m\u001b[0m\u001b[0;34m\u001b[0m\u001b[0m\n\u001b[0m",
      "\u001b[0;32m/opt/conda/lib/python3.9/site-packages/pandas/io/parsers.py\u001b[0m in \u001b[0;36mread_csv\u001b[0;34m(filepath_or_buffer, sep, delimiter, header, names, index_col, usecols, squeeze, prefix, mangle_dupe_cols, dtype, engine, converters, true_values, false_values, skipinitialspace, skiprows, skipfooter, nrows, na_values, keep_default_na, na_filter, verbose, skip_blank_lines, parse_dates, infer_datetime_format, keep_date_col, date_parser, dayfirst, cache_dates, iterator, chunksize, compression, thousands, decimal, lineterminator, quotechar, quoting, doublequote, escapechar, comment, encoding, dialect, error_bad_lines, warn_bad_lines, delim_whitespace, low_memory, memory_map, float_precision, storage_options)\u001b[0m\n\u001b[1;32m    608\u001b[0m     \u001b[0mkwds\u001b[0m\u001b[0;34m.\u001b[0m\u001b[0mupdate\u001b[0m\u001b[0;34m(\u001b[0m\u001b[0mkwds_defaults\u001b[0m\u001b[0;34m)\u001b[0m\u001b[0;34m\u001b[0m\u001b[0;34m\u001b[0m\u001b[0m\n\u001b[1;32m    609\u001b[0m \u001b[0;34m\u001b[0m\u001b[0m\n\u001b[0;32m--> 610\u001b[0;31m     \u001b[0;32mreturn\u001b[0m \u001b[0m_read\u001b[0m\u001b[0;34m(\u001b[0m\u001b[0mfilepath_or_buffer\u001b[0m\u001b[0;34m,\u001b[0m \u001b[0mkwds\u001b[0m\u001b[0;34m)\u001b[0m\u001b[0;34m\u001b[0m\u001b[0;34m\u001b[0m\u001b[0m\n\u001b[0m\u001b[1;32m    611\u001b[0m \u001b[0;34m\u001b[0m\u001b[0m\n\u001b[1;32m    612\u001b[0m \u001b[0;34m\u001b[0m\u001b[0m\n",
      "\u001b[0;32m/opt/conda/lib/python3.9/site-packages/pandas/io/parsers.py\u001b[0m in \u001b[0;36m_read\u001b[0;34m(filepath_or_buffer, kwds)\u001b[0m\n\u001b[1;32m    460\u001b[0m \u001b[0;34m\u001b[0m\u001b[0m\n\u001b[1;32m    461\u001b[0m     \u001b[0;31m# Create the parser.\u001b[0m\u001b[0;34m\u001b[0m\u001b[0;34m\u001b[0m\u001b[0;34m\u001b[0m\u001b[0m\n\u001b[0;32m--> 462\u001b[0;31m     \u001b[0mparser\u001b[0m \u001b[0;34m=\u001b[0m \u001b[0mTextFileReader\u001b[0m\u001b[0;34m(\u001b[0m\u001b[0mfilepath_or_buffer\u001b[0m\u001b[0;34m,\u001b[0m \u001b[0;34m**\u001b[0m\u001b[0mkwds\u001b[0m\u001b[0;34m)\u001b[0m\u001b[0;34m\u001b[0m\u001b[0;34m\u001b[0m\u001b[0m\n\u001b[0m\u001b[1;32m    463\u001b[0m \u001b[0;34m\u001b[0m\u001b[0m\n\u001b[1;32m    464\u001b[0m     \u001b[0;32mif\u001b[0m \u001b[0mchunksize\u001b[0m \u001b[0;32mor\u001b[0m \u001b[0miterator\u001b[0m\u001b[0;34m:\u001b[0m\u001b[0;34m\u001b[0m\u001b[0;34m\u001b[0m\u001b[0m\n",
      "\u001b[0;32m/opt/conda/lib/python3.9/site-packages/pandas/io/parsers.py\u001b[0m in \u001b[0;36m__init__\u001b[0;34m(self, f, engine, **kwds)\u001b[0m\n\u001b[1;32m    817\u001b[0m             \u001b[0mself\u001b[0m\u001b[0;34m.\u001b[0m\u001b[0moptions\u001b[0m\u001b[0;34m[\u001b[0m\u001b[0;34m\"has_index_names\"\u001b[0m\u001b[0;34m]\u001b[0m \u001b[0;34m=\u001b[0m \u001b[0mkwds\u001b[0m\u001b[0;34m[\u001b[0m\u001b[0;34m\"has_index_names\"\u001b[0m\u001b[0;34m]\u001b[0m\u001b[0;34m\u001b[0m\u001b[0;34m\u001b[0m\u001b[0m\n\u001b[1;32m    818\u001b[0m \u001b[0;34m\u001b[0m\u001b[0m\n\u001b[0;32m--> 819\u001b[0;31m         \u001b[0mself\u001b[0m\u001b[0;34m.\u001b[0m\u001b[0m_engine\u001b[0m \u001b[0;34m=\u001b[0m \u001b[0mself\u001b[0m\u001b[0;34m.\u001b[0m\u001b[0m_make_engine\u001b[0m\u001b[0;34m(\u001b[0m\u001b[0mself\u001b[0m\u001b[0;34m.\u001b[0m\u001b[0mengine\u001b[0m\u001b[0;34m)\u001b[0m\u001b[0;34m\u001b[0m\u001b[0;34m\u001b[0m\u001b[0m\n\u001b[0m\u001b[1;32m    820\u001b[0m \u001b[0;34m\u001b[0m\u001b[0m\n\u001b[1;32m    821\u001b[0m     \u001b[0;32mdef\u001b[0m \u001b[0mclose\u001b[0m\u001b[0;34m(\u001b[0m\u001b[0mself\u001b[0m\u001b[0;34m)\u001b[0m\u001b[0;34m:\u001b[0m\u001b[0;34m\u001b[0m\u001b[0;34m\u001b[0m\u001b[0m\n",
      "\u001b[0;32m/opt/conda/lib/python3.9/site-packages/pandas/io/parsers.py\u001b[0m in \u001b[0;36m_make_engine\u001b[0;34m(self, engine)\u001b[0m\n\u001b[1;32m   1048\u001b[0m             )\n\u001b[1;32m   1049\u001b[0m         \u001b[0;31m# error: Too many arguments for \"ParserBase\"\u001b[0m\u001b[0;34m\u001b[0m\u001b[0;34m\u001b[0m\u001b[0;34m\u001b[0m\u001b[0m\n\u001b[0;32m-> 1050\u001b[0;31m         \u001b[0;32mreturn\u001b[0m \u001b[0mmapping\u001b[0m\u001b[0;34m[\u001b[0m\u001b[0mengine\u001b[0m\u001b[0;34m]\u001b[0m\u001b[0;34m(\u001b[0m\u001b[0mself\u001b[0m\u001b[0;34m.\u001b[0m\u001b[0mf\u001b[0m\u001b[0;34m,\u001b[0m \u001b[0;34m**\u001b[0m\u001b[0mself\u001b[0m\u001b[0;34m.\u001b[0m\u001b[0moptions\u001b[0m\u001b[0;34m)\u001b[0m  \u001b[0;31m# type: ignore[call-arg]\u001b[0m\u001b[0;34m\u001b[0m\u001b[0;34m\u001b[0m\u001b[0m\n\u001b[0m\u001b[1;32m   1051\u001b[0m \u001b[0;34m\u001b[0m\u001b[0m\n\u001b[1;32m   1052\u001b[0m     \u001b[0;32mdef\u001b[0m \u001b[0m_failover_to_python\u001b[0m\u001b[0;34m(\u001b[0m\u001b[0mself\u001b[0m\u001b[0;34m)\u001b[0m\u001b[0;34m:\u001b[0m\u001b[0;34m\u001b[0m\u001b[0;34m\u001b[0m\u001b[0m\n",
      "\u001b[0;32m/opt/conda/lib/python3.9/site-packages/pandas/io/parsers.py\u001b[0m in \u001b[0;36m__init__\u001b[0;34m(self, src, **kwds)\u001b[0m\n\u001b[1;32m   1865\u001b[0m \u001b[0;34m\u001b[0m\u001b[0m\n\u001b[1;32m   1866\u001b[0m         \u001b[0;31m# open handles\u001b[0m\u001b[0;34m\u001b[0m\u001b[0;34m\u001b[0m\u001b[0;34m\u001b[0m\u001b[0m\n\u001b[0;32m-> 1867\u001b[0;31m         \u001b[0mself\u001b[0m\u001b[0;34m.\u001b[0m\u001b[0m_open_handles\u001b[0m\u001b[0;34m(\u001b[0m\u001b[0msrc\u001b[0m\u001b[0;34m,\u001b[0m \u001b[0mkwds\u001b[0m\u001b[0;34m)\u001b[0m\u001b[0;34m\u001b[0m\u001b[0;34m\u001b[0m\u001b[0m\n\u001b[0m\u001b[1;32m   1868\u001b[0m         \u001b[0;32massert\u001b[0m \u001b[0mself\u001b[0m\u001b[0;34m.\u001b[0m\u001b[0mhandles\u001b[0m \u001b[0;32mis\u001b[0m \u001b[0;32mnot\u001b[0m \u001b[0;32mNone\u001b[0m\u001b[0;34m\u001b[0m\u001b[0;34m\u001b[0m\u001b[0m\n\u001b[1;32m   1869\u001b[0m         \u001b[0;32mfor\u001b[0m \u001b[0mkey\u001b[0m \u001b[0;32min\u001b[0m \u001b[0;34m(\u001b[0m\u001b[0;34m\"storage_options\"\u001b[0m\u001b[0;34m,\u001b[0m \u001b[0;34m\"encoding\"\u001b[0m\u001b[0;34m,\u001b[0m \u001b[0;34m\"memory_map\"\u001b[0m\u001b[0;34m,\u001b[0m \u001b[0;34m\"compression\"\u001b[0m\u001b[0;34m)\u001b[0m\u001b[0;34m:\u001b[0m\u001b[0;34m\u001b[0m\u001b[0;34m\u001b[0m\u001b[0m\n",
      "\u001b[0;32m/opt/conda/lib/python3.9/site-packages/pandas/io/parsers.py\u001b[0m in \u001b[0;36m_open_handles\u001b[0;34m(self, src, kwds)\u001b[0m\n\u001b[1;32m   1360\u001b[0m         \u001b[0mLet\u001b[0m \u001b[0mthe\u001b[0m \u001b[0mreaders\u001b[0m \u001b[0mopen\u001b[0m \u001b[0mIOHanldes\u001b[0m \u001b[0mafter\u001b[0m \u001b[0mthey\u001b[0m \u001b[0mare\u001b[0m \u001b[0mdone\u001b[0m \u001b[0;32mwith\u001b[0m \u001b[0mtheir\u001b[0m \u001b[0mpotential\u001b[0m \u001b[0mraises\u001b[0m\u001b[0;34m.\u001b[0m\u001b[0;34m\u001b[0m\u001b[0;34m\u001b[0m\u001b[0m\n\u001b[1;32m   1361\u001b[0m         \"\"\"\n\u001b[0;32m-> 1362\u001b[0;31m         self.handles = get_handle(\n\u001b[0m\u001b[1;32m   1363\u001b[0m             \u001b[0msrc\u001b[0m\u001b[0;34m,\u001b[0m\u001b[0;34m\u001b[0m\u001b[0;34m\u001b[0m\u001b[0m\n\u001b[1;32m   1364\u001b[0m             \u001b[0;34m\"r\"\u001b[0m\u001b[0;34m,\u001b[0m\u001b[0;34m\u001b[0m\u001b[0;34m\u001b[0m\u001b[0m\n",
      "\u001b[0;32m/opt/conda/lib/python3.9/site-packages/pandas/io/common.py\u001b[0m in \u001b[0;36mget_handle\u001b[0;34m(path_or_buf, mode, encoding, compression, memory_map, is_text, errors, storage_options)\u001b[0m\n\u001b[1;32m    640\u001b[0m                 \u001b[0merrors\u001b[0m \u001b[0;34m=\u001b[0m \u001b[0;34m\"replace\"\u001b[0m\u001b[0;34m\u001b[0m\u001b[0;34m\u001b[0m\u001b[0m\n\u001b[1;32m    641\u001b[0m             \u001b[0;31m# Encoding\u001b[0m\u001b[0;34m\u001b[0m\u001b[0;34m\u001b[0m\u001b[0;34m\u001b[0m\u001b[0m\n\u001b[0;32m--> 642\u001b[0;31m             handle = open(\n\u001b[0m\u001b[1;32m    643\u001b[0m                 \u001b[0mhandle\u001b[0m\u001b[0;34m,\u001b[0m\u001b[0;34m\u001b[0m\u001b[0;34m\u001b[0m\u001b[0m\n\u001b[1;32m    644\u001b[0m                 \u001b[0mioargs\u001b[0m\u001b[0;34m.\u001b[0m\u001b[0mmode\u001b[0m\u001b[0;34m,\u001b[0m\u001b[0;34m\u001b[0m\u001b[0;34m\u001b[0m\u001b[0m\n",
      "\u001b[0;31mFileNotFoundError\u001b[0m: [Errno 2] No such file or directory: 'mobile_soures.csv'"
     ]
    }
   ],
   "source": [
    "src = pd.read_csv('mobile_soures.csv')"
   ]
  },
  {
   "cell_type": "markdown",
   "id": "60325004",
   "metadata": {},
   "source": [
    "<div class=\"alert alert-danger\" style=\"border-radius: 15px; box-shadow: 4px 4px 4px; border: 1px solid \" > <b>Комментарии от тимлида ❌ : </b> \n",
    "\n",
    "По поводу выгрузки данных, ты обращаешься к локальному пути, а для проверки на платформе надо обращаться к данным через папку /datasets/. Учти пожалуйста это в будущих работах\n",
    "\n",
    "</div>"
   ]
  },
  {
   "cell_type": "code",
   "execution_count": 6,
   "id": "320e6188",
   "metadata": {},
   "outputs": [],
   "source": [
    "# КОД РЕВЬЮЕРА\n",
    "\n",
    "df = pd.read_csv('/datasets/mobile_dataset.csv')\n",
    "src = pd.read_csv('/datasets/mobile_soures.csv')"
   ]
  },
  {
   "cell_type": "code",
   "execution_count": 7,
   "id": "ap_1ZQ22gT7I",
   "metadata": {
    "colab": {
     "base_uri": "https://localhost:8080/",
     "height": 206
    },
    "executionInfo": {
     "elapsed": 20,
     "status": "ok",
     "timestamp": 1650033973363,
     "user": {
      "displayName": "Vadim Selin",
      "userId": "13742755250186020674"
     },
     "user_tz": -180
    },
    "id": "ap_1ZQ22gT7I",
    "outputId": "0e32af22-3a9f-4be1-fd23-50bf419b82f5"
   },
   "outputs": [
    {
     "data": {
      "text/html": [
       "<div>\n",
       "<style scoped>\n",
       "    .dataframe tbody tr th:only-of-type {\n",
       "        vertical-align: middle;\n",
       "    }\n",
       "\n",
       "    .dataframe tbody tr th {\n",
       "        vertical-align: top;\n",
       "    }\n",
       "\n",
       "    .dataframe thead th {\n",
       "        text-align: right;\n",
       "    }\n",
       "</style>\n",
       "<table border=\"1\" class=\"dataframe\">\n",
       "  <thead>\n",
       "    <tr style=\"text-align: right;\">\n",
       "      <th></th>\n",
       "      <th>event.time</th>\n",
       "      <th>event.name</th>\n",
       "      <th>user.id</th>\n",
       "    </tr>\n",
       "  </thead>\n",
       "  <tbody>\n",
       "    <tr>\n",
       "      <th>0</th>\n",
       "      <td>2019-10-07 00:00:00.431357</td>\n",
       "      <td>advert_open</td>\n",
       "      <td>020292ab-89bc-4156-9acf-68bc2783f894</td>\n",
       "    </tr>\n",
       "    <tr>\n",
       "      <th>1</th>\n",
       "      <td>2019-10-07 00:00:01.236320</td>\n",
       "      <td>tips_show</td>\n",
       "      <td>020292ab-89bc-4156-9acf-68bc2783f894</td>\n",
       "    </tr>\n",
       "    <tr>\n",
       "      <th>2</th>\n",
       "      <td>2019-10-07 00:00:02.245341</td>\n",
       "      <td>tips_show</td>\n",
       "      <td>cf7eda61-9349-469f-ac27-e5b6f5ec475c</td>\n",
       "    </tr>\n",
       "    <tr>\n",
       "      <th>3</th>\n",
       "      <td>2019-10-07 00:00:07.039334</td>\n",
       "      <td>tips_show</td>\n",
       "      <td>020292ab-89bc-4156-9acf-68bc2783f894</td>\n",
       "    </tr>\n",
       "    <tr>\n",
       "      <th>4</th>\n",
       "      <td>2019-10-07 00:00:56.319813</td>\n",
       "      <td>advert_open</td>\n",
       "      <td>cf7eda61-9349-469f-ac27-e5b6f5ec475c</td>\n",
       "    </tr>\n",
       "  </tbody>\n",
       "</table>\n",
       "</div>"
      ],
      "text/plain": [
       "                   event.time   event.name  \\\n",
       "0  2019-10-07 00:00:00.431357  advert_open   \n",
       "1  2019-10-07 00:00:01.236320    tips_show   \n",
       "2  2019-10-07 00:00:02.245341    tips_show   \n",
       "3  2019-10-07 00:00:07.039334    tips_show   \n",
       "4  2019-10-07 00:00:56.319813  advert_open   \n",
       "\n",
       "                                user.id  \n",
       "0  020292ab-89bc-4156-9acf-68bc2783f894  \n",
       "1  020292ab-89bc-4156-9acf-68bc2783f894  \n",
       "2  cf7eda61-9349-469f-ac27-e5b6f5ec475c  \n",
       "3  020292ab-89bc-4156-9acf-68bc2783f894  \n",
       "4  cf7eda61-9349-469f-ac27-e5b6f5ec475c  "
      ]
     },
     "execution_count": 7,
     "metadata": {},
     "output_type": "execute_result"
    }
   ],
   "source": [
    "df.head()"
   ]
  },
  {
   "cell_type": "code",
   "execution_count": 8,
   "id": "Sb6CLE-ggUM4",
   "metadata": {
    "colab": {
     "base_uri": "https://localhost:8080/",
     "height": 206
    },
    "executionInfo": {
     "elapsed": 20,
     "status": "ok",
     "timestamp": 1650033973364,
     "user": {
      "displayName": "Vadim Selin",
      "userId": "13742755250186020674"
     },
     "user_tz": -180
    },
    "id": "Sb6CLE-ggUM4",
    "outputId": "bc440184-f603-4bb6-d9d3-f3df8d9dda1f"
   },
   "outputs": [
    {
     "data": {
      "text/html": [
       "<div>\n",
       "<style scoped>\n",
       "    .dataframe tbody tr th:only-of-type {\n",
       "        vertical-align: middle;\n",
       "    }\n",
       "\n",
       "    .dataframe tbody tr th {\n",
       "        vertical-align: top;\n",
       "    }\n",
       "\n",
       "    .dataframe thead th {\n",
       "        text-align: right;\n",
       "    }\n",
       "</style>\n",
       "<table border=\"1\" class=\"dataframe\">\n",
       "  <thead>\n",
       "    <tr style=\"text-align: right;\">\n",
       "      <th></th>\n",
       "      <th>userId</th>\n",
       "      <th>source</th>\n",
       "    </tr>\n",
       "  </thead>\n",
       "  <tbody>\n",
       "    <tr>\n",
       "      <th>0</th>\n",
       "      <td>020292ab-89bc-4156-9acf-68bc2783f894</td>\n",
       "      <td>other</td>\n",
       "    </tr>\n",
       "    <tr>\n",
       "      <th>1</th>\n",
       "      <td>cf7eda61-9349-469f-ac27-e5b6f5ec475c</td>\n",
       "      <td>yandex</td>\n",
       "    </tr>\n",
       "    <tr>\n",
       "      <th>2</th>\n",
       "      <td>8c356c42-3ba9-4cb6-80b8-3f868d0192c3</td>\n",
       "      <td>yandex</td>\n",
       "    </tr>\n",
       "    <tr>\n",
       "      <th>3</th>\n",
       "      <td>d9b06b47-0f36-419b-bbb0-3533e582a6cb</td>\n",
       "      <td>other</td>\n",
       "    </tr>\n",
       "    <tr>\n",
       "      <th>4</th>\n",
       "      <td>f32e1e2a-3027-4693-b793-b7b3ff274439</td>\n",
       "      <td>google</td>\n",
       "    </tr>\n",
       "  </tbody>\n",
       "</table>\n",
       "</div>"
      ],
      "text/plain": [
       "                                 userId  source\n",
       "0  020292ab-89bc-4156-9acf-68bc2783f894   other\n",
       "1  cf7eda61-9349-469f-ac27-e5b6f5ec475c  yandex\n",
       "2  8c356c42-3ba9-4cb6-80b8-3f868d0192c3  yandex\n",
       "3  d9b06b47-0f36-419b-bbb0-3533e582a6cb   other\n",
       "4  f32e1e2a-3027-4693-b793-b7b3ff274439  google"
      ]
     },
     "execution_count": 8,
     "metadata": {},
     "output_type": "execute_result"
    }
   ],
   "source": [
    "src.head()"
   ]
  },
  {
   "cell_type": "markdown",
   "id": "8mSFKc32gUdo",
   "metadata": {
    "id": "8mSFKc32gUdo"
   },
   "source": [
    "## Описание данных:\n",
    "\n",
    "Датасет содержит данные о событиях, совершенных в мобильном приложении \"Ненужные вещи\". В нем пользователи продают свои ненужные вещи, размещая их на доске объявлений.\n",
    "\n",
    "В датасете содержатся данные пользователей, впервые совершивших действия в приложении после 7 октября 2019 года.\n",
    "\n",
    "Колонки в *mobile_sources.csv*: \n",
    "\n",
    "- `userId` — идентификатор пользователя,\n",
    "- `source` — источник, с которого пользователь установил приложение.\n",
    "\n",
    "Колонки в mobile_dataset.csv: **\n",
    "\n",
    "- `event.time` — время совершения,\n",
    "- `user.id` — идентификатор пользователя,\n",
    "- `event.name` — действие пользователя.\n",
    "\n",
    "Виды действий:\n",
    "\n",
    "- `advert_open` — открыл карточки объявления,\n",
    "- `photos_show` — просмотрел фотографий в объявлении,\n",
    "- `tips_show` — увидел рекомендованные объявления,\n",
    "- `tips_click` — кликнул по рекомендованному объявлению,\n",
    "- `contacts_show` и `show_contacts` — посмотрел номер телефона,\n",
    "- `contacts_call` — позвонил по номеру из объявления,\n",
    "- `map` — открыл карту объявлений,\n",
    "- `search_1`—`search_7` — разные действия, связанные с поиском по сайту,\n",
    "- `favorites_add` — добавил объявление в избранное."
   ]
  },
  {
   "cell_type": "markdown",
   "id": "c6646db0",
   "metadata": {
    "id": "c6646db0"
   },
   "source": [
    "# Предобработка."
   ]
  },
  {
   "cell_type": "markdown",
   "id": "h1PUi0xhgzrw",
   "metadata": {
    "id": "h1PUi0xhgzrw"
   },
   "source": [
    "## Поменяю названия полей и присоединю информацию об источниках к основному датасету `df`"
   ]
  },
  {
   "cell_type": "code",
   "execution_count": 9,
   "id": "gkv8dGDcgz8Q",
   "metadata": {
    "executionInfo": {
     "elapsed": 19,
     "status": "ok",
     "timestamp": 1650033973364,
     "user": {
      "displayName": "Vadim Selin",
      "userId": "13742755250186020674"
     },
     "user_tz": -180
    },
    "id": "gkv8dGDcgz8Q"
   },
   "outputs": [],
   "source": [
    "df.columns = ['event_time', 'event_name', 'user_id']"
   ]
  },
  {
   "cell_type": "code",
   "execution_count": 10,
   "id": "nG2u4Vazg0LY",
   "metadata": {
    "executionInfo": {
     "elapsed": 19,
     "status": "ok",
     "timestamp": 1650033973364,
     "user": {
      "displayName": "Vadim Selin",
      "userId": "13742755250186020674"
     },
     "user_tz": -180
    },
    "id": "nG2u4Vazg0LY"
   },
   "outputs": [],
   "source": [
    "src.rename(columns={'userId': 'user_id'}, inplace=True)"
   ]
  },
  {
   "cell_type": "code",
   "execution_count": 11,
   "id": "dAjmTO6OhfnA",
   "metadata": {
    "colab": {
     "base_uri": "https://localhost:8080/"
    },
    "executionInfo": {
     "elapsed": 19,
     "status": "ok",
     "timestamp": 1650033973364,
     "user": {
      "displayName": "Vadim Selin",
      "userId": "13742755250186020674"
     },
     "user_tz": -180
    },
    "id": "dAjmTO6OhfnA",
    "outputId": "8751e268-f2e6-458e-e162-7ec1d9f01bc4"
   },
   "outputs": [
    {
     "data": {
      "text/plain": [
       "4293"
      ]
     },
     "execution_count": 11,
     "metadata": {},
     "output_type": "execute_result"
    }
   ],
   "source": [
    "df['user_id'].nunique()"
   ]
  },
  {
   "cell_type": "code",
   "execution_count": 12,
   "id": "GPOrxSCYhsNA",
   "metadata": {
    "colab": {
     "base_uri": "https://localhost:8080/"
    },
    "executionInfo": {
     "elapsed": 17,
     "status": "ok",
     "timestamp": 1650033973365,
     "user": {
      "displayName": "Vadim Selin",
      "userId": "13742755250186020674"
     },
     "user_tz": -180
    },
    "id": "GPOrxSCYhsNA",
    "outputId": "026207b5-5213-4a0a-8f52-bac1beb35736"
   },
   "outputs": [
    {
     "data": {
      "text/plain": [
       "4293"
      ]
     },
     "execution_count": 12,
     "metadata": {},
     "output_type": "execute_result"
    }
   ],
   "source": [
    "src['user_id'].nunique()"
   ]
  },
  {
   "cell_type": "code",
   "execution_count": 13,
   "id": "jw7UMQWThxlv",
   "metadata": {
    "executionInfo": {
     "elapsed": 15,
     "status": "ok",
     "timestamp": 1650033973365,
     "user": {
      "displayName": "Vadim Selin",
      "userId": "13742755250186020674"
     },
     "user_tz": -180
    },
    "id": "jw7UMQWThxlv"
   },
   "outputs": [],
   "source": [
    "df = df.merge(src, how='left', on='user_id')"
   ]
  },
  {
   "cell_type": "code",
   "execution_count": 14,
   "id": "GjXQLoGPiHzv",
   "metadata": {
    "colab": {
     "base_uri": "https://localhost:8080/"
    },
    "executionInfo": {
     "elapsed": 14,
     "status": "ok",
     "timestamp": 1650033973365,
     "user": {
      "displayName": "Vadim Selin",
      "userId": "13742755250186020674"
     },
     "user_tz": -180
    },
    "id": "GjXQLoGPiHzv",
    "outputId": "b825be2e-d2af-46a9-cf5f-a63a95a11c27"
   },
   "outputs": [
    {
     "data": {
      "text/plain": [
       "4293"
      ]
     },
     "execution_count": 14,
     "metadata": {},
     "output_type": "execute_result"
    }
   ],
   "source": [
    "df['user_id'].nunique()"
   ]
  },
  {
   "cell_type": "markdown",
   "id": "a2-7g6eGiNYP",
   "metadata": {
    "id": "a2-7g6eGiNYP"
   },
   "source": [
    "- Все пользователи остались на месте\n",
    "- Проверю пропуски, дубли, типы данных"
   ]
  },
  {
   "cell_type": "markdown",
   "id": "Rko_Nef1_UcR",
   "metadata": {
    "id": "Rko_Nef1_UcR"
   },
   "source": [
    "## Проверить пропуски в данных"
   ]
  },
  {
   "cell_type": "code",
   "execution_count": 15,
   "id": "rKGx2-CDiajg",
   "metadata": {
    "colab": {
     "base_uri": "https://localhost:8080/"
    },
    "executionInfo": {
     "elapsed": 11,
     "status": "ok",
     "timestamp": 1650033973365,
     "user": {
      "displayName": "Vadim Selin",
      "userId": "13742755250186020674"
     },
     "user_tz": -180
    },
    "id": "rKGx2-CDiajg",
    "outputId": "a1255b34-6e2f-4bfd-e005-2b7aa88f5058"
   },
   "outputs": [
    {
     "data": {
      "text/plain": [
       "event_time    0.0\n",
       "event_name    0.0\n",
       "user_id       0.0\n",
       "source        0.0\n",
       "dtype: float64"
      ]
     },
     "execution_count": 15,
     "metadata": {},
     "output_type": "execute_result"
    }
   ],
   "source": [
    "df.isna().mean()"
   ]
  },
  {
   "cell_type": "markdown",
   "id": "s7c5n1S2igsQ",
   "metadata": {
    "id": "s7c5n1S2igsQ"
   },
   "source": [
    "- Такой вывод короче и наглядней, нежели `df.info()`, на мой взгляд "
   ]
  },
  {
   "cell_type": "markdown",
   "id": "DrlFZfIm_UcR",
   "metadata": {
    "id": "DrlFZfIm_UcR"
   },
   "source": [
    "## Проверить на дубли"
   ]
  },
  {
   "cell_type": "code",
   "execution_count": 16,
   "id": "MuITjmZEi9gH",
   "metadata": {
    "colab": {
     "base_uri": "https://localhost:8080/"
    },
    "executionInfo": {
     "elapsed": 288,
     "status": "ok",
     "timestamp": 1650033973645,
     "user": {
      "displayName": "Vadim Selin",
      "userId": "13742755250186020674"
     },
     "user_tz": -180
    },
    "id": "MuITjmZEi9gH",
    "outputId": "480b6c8a-a27d-4706-d7ce-fd877854e35c"
   },
   "outputs": [
    {
     "data": {
      "text/plain": [
       "0.0"
      ]
     },
     "execution_count": 16,
     "metadata": {},
     "output_type": "execute_result"
    }
   ],
   "source": [
    "df.duplicated().mean()"
   ]
  },
  {
   "cell_type": "markdown",
   "id": "ZDMAwRCJlvEg",
   "metadata": {
    "id": "ZDMAwRCJlvEg"
   },
   "source": [
    "- Полных дублей нет и это хорошо"
   ]
  },
  {
   "cell_type": "markdown",
   "id": "UqUl18rW_UcS",
   "metadata": {
    "id": "UqUl18rW_UcS"
   },
   "source": [
    "## Поверить типы данных\n",
    "- соответствуют-ли поставленной задаче"
   ]
  },
  {
   "cell_type": "code",
   "execution_count": 17,
   "id": "lBC3I6Vol3Bv",
   "metadata": {
    "colab": {
     "base_uri": "https://localhost:8080/"
    },
    "executionInfo": {
     "elapsed": 12,
     "status": "ok",
     "timestamp": 1650033973646,
     "user": {
      "displayName": "Vadim Selin",
      "userId": "13742755250186020674"
     },
     "user_tz": -180
    },
    "id": "lBC3I6Vol3Bv",
    "outputId": "d272febc-48e4-4f30-9d16-444fec11666d"
   },
   "outputs": [
    {
     "name": "stdout",
     "output_type": "stream",
     "text": [
      "<class 'pandas.core.frame.DataFrame'>\n",
      "Int64Index: 74197 entries, 0 to 74196\n",
      "Data columns (total 4 columns):\n",
      " #   Column      Non-Null Count  Dtype \n",
      "---  ------      --------------  ----- \n",
      " 0   event_time  74197 non-null  object\n",
      " 1   event_name  74197 non-null  object\n",
      " 2   user_id     74197 non-null  object\n",
      " 3   source      74197 non-null  object\n",
      "dtypes: object(4)\n",
      "memory usage: 2.8+ MB\n"
     ]
    }
   ],
   "source": [
    "df.info()"
   ]
  },
  {
   "cell_type": "markdown",
   "id": "2VMXJKmRmFsn",
   "metadata": {
    "id": "2VMXJKmRmFsn"
   },
   "source": [
    "- `df.dtypes` мне знаком, но хотелось сразу увидеть размер датафрейма\n",
    "- переведу `event_time` в тип `datetime`, поскольку с датой и временем надо будет проводить множество операций"
   ]
  },
  {
   "cell_type": "code",
   "execution_count": 18,
   "id": "hOHDZzO0mqxf",
   "metadata": {
    "executionInfo": {
     "elapsed": 8,
     "status": "ok",
     "timestamp": 1650033973646,
     "user": {
      "displayName": "Vadim Selin",
      "userId": "13742755250186020674"
     },
     "user_tz": -180
    },
    "id": "hOHDZzO0mqxf"
   },
   "outputs": [],
   "source": [
    "df['event_time'] = pd.to_datetime(df['event_time'], format='%Y-%m-%d %H:%M:%S.%f')"
   ]
  },
  {
   "cell_type": "code",
   "execution_count": 19,
   "id": "SlULAKqznDdP",
   "metadata": {
    "colab": {
     "base_uri": "https://localhost:8080/"
    },
    "executionInfo": {
     "elapsed": 8,
     "status": "ok",
     "timestamp": 1650033973646,
     "user": {
      "displayName": "Vadim Selin",
      "userId": "13742755250186020674"
     },
     "user_tz": -180
    },
    "id": "SlULAKqznDdP",
    "outputId": "4c21fa99-5232-49a9-ccfb-554d6684293d"
   },
   "outputs": [
    {
     "data": {
      "text/plain": [
       "23099   2019-10-16 15:57:14.717500\n",
       "29988   2019-10-19 09:44:20.299958\n",
       "15638   2019-10-13 22:54:29.234076\n",
       "Name: event_time, dtype: datetime64[ns]"
      ]
     },
     "execution_count": 19,
     "metadata": {},
     "output_type": "execute_result"
    }
   ],
   "source": [
    "df['event_time'].sample(3, random_state=0)"
   ]
  },
  {
   "cell_type": "markdown",
   "id": "0dpudwsNQdF2",
   "metadata": {
    "id": "0dpudwsNQdF2"
   },
   "source": [
    "## Объединить однотипные события"
   ]
  },
  {
   "cell_type": "code",
   "execution_count": 20,
   "id": "mL8HNzdgQc1H",
   "metadata": {
    "colab": {
     "base_uri": "https://localhost:8080/"
    },
    "executionInfo": {
     "elapsed": 5,
     "status": "ok",
     "timestamp": 1650033973646,
     "user": {
      "displayName": "Vadim Selin",
      "userId": "13742755250186020674"
     },
     "user_tz": -180
    },
    "id": "mL8HNzdgQc1H",
    "outputId": "1c6909be-d202-44c5-8589-db32d5d1538b"
   },
   "outputs": [
    {
     "data": {
      "text/plain": [
       "tips_show        40055\n",
       "photos_show      10012\n",
       "advert_open       6164\n",
       "contacts_show     4450\n",
       "map               3881\n",
       "search_1          3506\n",
       "favorites_add     1417\n",
       "search_5          1049\n",
       "tips_click         814\n",
       "search_4           701\n",
       "contacts_call      541\n",
       "search_3           522\n",
       "search_6           460\n",
       "search_2           324\n",
       "search_7           222\n",
       "show_contacts       79\n",
       "Name: event_name, dtype: int64"
      ]
     },
     "execution_count": 20,
     "metadata": {},
     "output_type": "execute_result"
    }
   ],
   "source": [
    "df['event_name'].value_counts()"
   ]
  },
  {
   "cell_type": "markdown",
   "id": "lfOZJ15r_UcT",
   "metadata": {
    "id": "lfOZJ15r_UcT"
   },
   "source": [
    "- в описании данных видно, что просмотру контактов соответствует два наименования событий `contacts_show` и `show_contacts`, поэтому объеденю их\n",
    "- также есть 7 наименований для поисковых действий в приложении, разница между которыми не влияет на ответы на поставленные вопросы, поэтому объеденю их"
   ]
  },
  {
   "cell_type": "code",
   "execution_count": 21,
   "id": "wxrPNUdcPQ-1",
   "metadata": {
    "executionInfo": {
     "elapsed": 2,
     "status": "ok",
     "timestamp": 1650033973646,
     "user": {
      "displayName": "Vadim Selin",
      "userId": "13742755250186020674"
     },
     "user_tz": -180
    },
    "id": "wxrPNUdcPQ-1"
   },
   "outputs": [],
   "source": [
    "df.replace(\n",
    "    {\n",
    "        'event_name': {\n",
    "            'show_contacts': 'contacts_show', \n",
    "            'search_1': 'search_action',\n",
    "            'search_2': 'search_action',\n",
    "            'search_3': 'search_action',\n",
    "            'search_4': 'search_action',\n",
    "            'search_5': 'search_action',\n",
    "            'search_6': 'search_action',\n",
    "            'search_7': 'search_action',\n",
    "        }\n",
    "    }, inplace=True\n",
    ")"
   ]
  },
  {
   "cell_type": "markdown",
   "id": "e163437a",
   "metadata": {},
   "source": [
    "<div class=\"alert alert-success\" style=\"border-radius: 15px; box-shadow: 4px 4px 4px; border: 1px solid \" > <b>Комментарии от тимлида ✔️ : </b> \n",
    "\n",
    "Здорово, что заметил данный нюанс. Действительно, данные события можно объединить\n",
    "   \n",
    "</div>"
   ]
  },
  {
   "cell_type": "code",
   "execution_count": 22,
   "id": "0mr07fr2PSXW",
   "metadata": {
    "colab": {
     "base_uri": "https://localhost:8080/"
    },
    "executionInfo": {
     "elapsed": 329,
     "status": "ok",
     "timestamp": 1650033973973,
     "user": {
      "displayName": "Vadim Selin",
      "userId": "13742755250186020674"
     },
     "user_tz": -180
    },
    "id": "0mr07fr2PSXW",
    "outputId": "67a3c72b-dc23-4119-c943-d15754554b87"
   },
   "outputs": [
    {
     "data": {
      "text/plain": [
       "tips_show        40055\n",
       "photos_show      10012\n",
       "search_action     6784\n",
       "advert_open       6164\n",
       "contacts_show     4529\n",
       "map               3881\n",
       "favorites_add     1417\n",
       "tips_click         814\n",
       "contacts_call      541\n",
       "Name: event_name, dtype: int64"
      ]
     },
     "execution_count": 22,
     "metadata": {},
     "output_type": "execute_result"
    }
   ],
   "source": [
    "df['event_name'].value_counts()"
   ]
  },
  {
   "cell_type": "markdown",
   "id": "053646ae",
   "metadata": {},
   "source": [
    "<div class=\"alert alert-success\" style=\"border-radius: 15px; box-shadow: 4px 4px 4px; border: 1px solid \" > <b>Комментарии от тимлида ✔️ : </b> \n",
    "\n",
    "На этом этапе всё хорошо. Ты посмотрел содержимое данных. Выполнил первичную проверку на пропуски и дубликаты. Можно приступать к следующему шагу\n",
    "   \n",
    "</div>"
   ]
  },
  {
   "cell_type": "markdown",
   "id": "bc1754eb",
   "metadata": {
    "id": "bc1754eb"
   },
   "source": [
    "# Исследовательский анализ данных."
   ]
  },
  {
   "cell_type": "markdown",
   "id": "a6c157b6",
   "metadata": {
    "id": "a6c157b6"
   },
   "source": [
    "## Определить временной диапазон датасета."
   ]
  },
  {
   "cell_type": "code",
   "execution_count": 23,
   "id": "OG_i35v7Q58d",
   "metadata": {
    "colab": {
     "base_uri": "https://localhost:8080/"
    },
    "executionInfo": {
     "elapsed": 14,
     "status": "ok",
     "timestamp": 1650033973973,
     "user": {
      "displayName": "Vadim Selin",
      "userId": "13742755250186020674"
     },
     "user_tz": -180
    },
    "id": "OG_i35v7Q58d",
    "outputId": "165ca573-6206-4abe-aed0-0fe215efdb24"
   },
   "outputs": [
    {
     "data": {
      "text/plain": [
       "Timestamp('2019-10-07 00:00:00.431357')"
      ]
     },
     "execution_count": 23,
     "metadata": {},
     "output_type": "execute_result"
    }
   ],
   "source": [
    "df['event_time'].min()"
   ]
  },
  {
   "cell_type": "code",
   "execution_count": 24,
   "id": "U7rO6axPQ_XN",
   "metadata": {
    "colab": {
     "base_uri": "https://localhost:8080/"
    },
    "executionInfo": {
     "elapsed": 12,
     "status": "ok",
     "timestamp": 1650033973974,
     "user": {
      "displayName": "Vadim Selin",
      "userId": "13742755250186020674"
     },
     "user_tz": -180
    },
    "id": "U7rO6axPQ_XN",
    "outputId": "8c73d237-9dcc-47a0-9375-aa32e32f32f5"
   },
   "outputs": [
    {
     "data": {
      "text/plain": [
       "Timestamp('2019-11-03 23:58:12.532487')"
      ]
     },
     "execution_count": 24,
     "metadata": {},
     "output_type": "execute_result"
    }
   ],
   "source": [
    "df['event_time'].max()"
   ]
  },
  {
   "cell_type": "markdown",
   "id": "BPJTtQLRRCqF",
   "metadata": {
    "id": "BPJTtQLRRCqF"
   },
   "source": [
    "- Данные охватывают период чуть менее месяца (с 7 октября по 3 ноября включительно, 28 дней), поэтому имеет смысл добавить столбец с днём. "
   ]
  },
  {
   "cell_type": "markdown",
   "id": "229b5442",
   "metadata": {
    "id": "229b5442"
   },
   "source": [
    "## Добавить временные поля на основе поля `event_time`\n",
    "- Для последующих рассчётов dau,wau."
   ]
  },
  {
   "cell_type": "code",
   "execution_count": 25,
   "id": "WyiVh03URJX2",
   "metadata": {
    "executionInfo": {
     "elapsed": 9,
     "status": "ok",
     "timestamp": 1650033973974,
     "user": {
      "displayName": "Vadim Selin",
      "userId": "13742755250186020674"
     },
     "user_tz": -180
    },
    "id": "WyiVh03URJX2"
   },
   "outputs": [],
   "source": [
    "df['event_date'] = df['event_time'].astype('datetime64[D]')"
   ]
  },
  {
   "cell_type": "code",
   "execution_count": 26,
   "id": "BbiMnZ5PRWJN",
   "metadata": {
    "executionInfo": {
     "elapsed": 9,
     "status": "ok",
     "timestamp": 1650033973974,
     "user": {
      "displayName": "Vadim Selin",
      "userId": "13742755250186020674"
     },
     "user_tz": -180
    },
    "id": "BbiMnZ5PRWJN"
   },
   "outputs": [],
   "source": [
    "df['event_week'] = df['event_time'].dt.isocalendar().week"
   ]
  },
  {
   "cell_type": "code",
   "execution_count": 27,
   "id": "I0kgQEEuRW6G",
   "metadata": {
    "colab": {
     "base_uri": "https://localhost:8080/"
    },
    "executionInfo": {
     "elapsed": 9,
     "status": "ok",
     "timestamp": 1650033973974,
     "user": {
      "displayName": "Vadim Selin",
      "userId": "13742755250186020674"
     },
     "user_tz": -180
    },
    "id": "I0kgQEEuRW6G",
    "outputId": "a4014b8f-974e-4f7c-878c-c00ea7bcee76"
   },
   "outputs": [
    {
     "data": {
      "text/plain": [
       "43    20636\n",
       "44    19416\n",
       "42    18323\n",
       "41    15822\n",
       "Name: event_week, dtype: Int64"
      ]
     },
     "execution_count": 27,
     "metadata": {},
     "output_type": "execute_result"
    }
   ],
   "source": [
    "df['event_week'].value_counts()"
   ]
  },
  {
   "cell_type": "markdown",
   "id": "nn7ZTCcyRuYm",
   "metadata": {
    "id": "nn7ZTCcyRuYm"
   },
   "source": [
    "- C каждой следующей неделей в логе событий всё больше: маркетинг работает, активность пользователей растёт.\n",
    "- Проверю, верно-ли прошло разделение по неделям: возьму точный срез по первой неделе и сравню число событий с значением числа строк в `value_counts()` в стороке по 41 неделе."
   ]
  },
  {
   "cell_type": "markdown",
   "id": "3016e3f6",
   "metadata": {},
   "source": [
    "<div class=\"alert alert-success\" style=\"border-radius: 15px; box-shadow: 4px 4px 4px; border: 1px solid \" > <b>Комментарии от тимлида ✔️ : </b> \n",
    "\n",
    "Хорошее замечание. Согласен)\n",
    "   \n",
    "</div>"
   ]
  },
  {
   "cell_type": "code",
   "execution_count": 28,
   "id": "17GkvGa-R_fF",
   "metadata": {
    "colab": {
     "base_uri": "https://localhost:8080/"
    },
    "executionInfo": {
     "elapsed": 7,
     "status": "ok",
     "timestamp": 1650033973975,
     "user": {
      "displayName": "Vadim Selin",
      "userId": "13742755250186020674"
     },
     "user_tz": -180
    },
    "id": "17GkvGa-R_fF",
    "outputId": "61920d64-3040-4699-a128-43de32689782"
   },
   "outputs": [
    {
     "data": {
      "text/plain": [
       "15822"
      ]
     },
     "execution_count": 28,
     "metadata": {},
     "output_type": "execute_result"
    }
   ],
   "source": [
    "# 41-я неделя\n",
    "df.query('event_time >= \"2019-10-07 00:00:00.431357\" &\\\n",
    " event_time < \"2019-10-14 00:00:00.000000\"').shape[0]"
   ]
  },
  {
   "cell_type": "code",
   "execution_count": 29,
   "id": "8DqxKBn6m8zl",
   "metadata": {
    "colab": {
     "base_uri": "https://localhost:8080/"
    },
    "executionInfo": {
     "elapsed": 323,
     "status": "ok",
     "timestamp": 1650033974294,
     "user": {
      "displayName": "Vadim Selin",
      "userId": "13742755250186020674"
     },
     "user_tz": -180
    },
    "id": "8DqxKBn6m8zl",
    "outputId": "72588131-f28f-4453-fc08-52cd98948579"
   },
   "outputs": [
    {
     "data": {
      "text/plain": [
       "18323"
      ]
     },
     "execution_count": 29,
     "metadata": {},
     "output_type": "execute_result"
    }
   ],
   "source": [
    "# 42-я неделя\n",
    "df.query('event_time >= \"2019-10-14 00:00:00.000000\" &\\\n",
    " event_time < \"2019-10-21 00:00:00.000000\"').shape[0]"
   ]
  },
  {
   "cell_type": "markdown",
   "id": "qgREwyqDnM09",
   "metadata": {
    "id": "qgREwyqDnM09"
   },
   "source": [
    "- Данные по неделям поделились правильно"
   ]
  },
  {
   "cell_type": "markdown",
   "id": "08459253",
   "metadata": {
    "id": "08459253"
   },
   "source": [
    "## Проверить полноту данных: распределение количества событий по дням.\n",
    "\n",
    "- Сделаю это, построив гистограмму по столбцу `event_time` с параметром `bins` равный числу дней 28 в исследуемом датасете.\n",
    "- Это позволит наглядно увидеть относительный объём событий за каждый день."
   ]
  },
  {
   "cell_type": "code",
   "execution_count": 30,
   "id": "cnP6X35XnZsm",
   "metadata": {
    "colab": {
     "base_uri": "https://localhost:8080/",
     "height": 350
    },
    "executionInfo": {
     "elapsed": 784,
     "status": "ok",
     "timestamp": 1650033975077,
     "user": {
      "displayName": "Vadim Selin",
      "userId": "13742755250186020674"
     },
     "user_tz": -180
    },
    "id": "cnP6X35XnZsm",
    "outputId": "61991d31-8b98-4376-88f2-414964d96289"
   },
   "outputs": [
    {
     "data": {
      "image/png": "[encoded data removed]",
      "text/plain": [
       "<Figure size 1152x360 with 1 Axes>"
      ]
     },
     "metadata": {
      "needs_background": "light"
     },
     "output_type": "display_data"
    }
   ],
   "source": [
    "df['event_time'].hist(figsize=(16, 5), bins=28)\n",
    "plt.title('Распределение всех событий по дням')\n",
    "plt.ylabel('Количество событий')\n",
    "plt.xlabel('Дата')\n",
    "plt.show()"
   ]
  },
  {
   "cell_type": "markdown",
   "id": "wJYgGJxfojPF",
   "metadata": {
    "id": "wJYgGJxfojPF"
   },
   "source": [
    "- \"пустых\" дней нет. Данные получены без заметных потерь.\n",
    "- также заметна тенденция роста числа событий, которая была заметна на группировке по неделям.\n",
    "- рассмотрю данные поближе, увиличив `bins` до количества часов в исследуемом периоде 28 * 24 = 672"
   ]
  },
  {
   "cell_type": "code",
   "execution_count": 31,
   "id": "xxF-xlz0qbpt",
   "metadata": {
    "colab": {
     "base_uri": "https://localhost:8080/",
     "height": 350
    },
    "executionInfo": {
     "elapsed": 2902,
     "status": "ok",
     "timestamp": 1650033977978,
     "user": {
      "displayName": "Vadim Selin",
      "userId": "13742755250186020674"
     },
     "user_tz": -180
    },
    "id": "xxF-xlz0qbpt",
    "outputId": "5620ee6a-e828-4954-a902-4825b7fcf9cb"
   },
   "outputs": [
    {
     "data": {
      "image/png": "[encoded data removed]",
      "text/plain": [
       "<Figure size 1152x360 with 1 Axes>"
      ]
     },
     "metadata": {
      "needs_background": "light"
     },
     "output_type": "display_data"
    }
   ],
   "source": [
    "df['event_time'].hist(figsize=(16, 5), bins=672)\n",
    "plt.title('Распределение всех событий по часам')\n",
    "plt.ylabel('Количество событий')\n",
    "plt.xlabel('Дата')\n",
    "plt.show()"
   ]
  },
  {
   "cell_type": "markdown",
   "id": "0dbfafe5",
   "metadata": {},
   "source": [
    "<div class=\"alert alert-success\" style=\"border-radius: 15px; box-shadow: 4px 4px 4px; border: 1px solid \" > <b>Комментарии от тимлида ✔️ : </b> \n",
    "\n",
    "График достаточно наглядно показывает распределение событий\n",
    "\n",
    "Видно  внутридневную периодичность. Молодец!\n",
    "   \n",
    "</div>"
   ]
  },
  {
   "cell_type": "markdown",
   "id": "hS-1f6OCq25c",
   "metadata": {
    "id": "hS-1f6OCq25c"
   },
   "source": [
    "- наблюдается дневная активность, которая после полуночи сменяется затишьем.\n",
    "- также как на распределении по дням видна тенденция к росту числа событий с каждой неделей с некоторым откатом на четвёртой неделе.\n",
    "    - рассчитаю `dau` и `wau`, чтобы посмотреть как рост числа событий связан с числом уникальных пользователей в день и неделю"
   ]
  },
  {
   "cell_type": "markdown",
   "id": "z-QUPAkV_HuW",
   "metadata": {
    "id": "z-QUPAkV_HuW"
   },
   "source": [
    "## Рассчитать `DAU`, `WAU`. Вычислить средние значения этих метрик за весь период. \n",
    "\n",
    "- Построить графики изменения метрик во времени."
   ]
  },
  {
   "cell_type": "code",
   "execution_count": 32,
   "id": "V-WFdN3J1wt9",
   "metadata": {
    "executionInfo": {
     "elapsed": 10,
     "status": "ok",
     "timestamp": 1650033977979,
     "user": {
      "displayName": "Vadim Selin",
      "userId": "13742755250186020674"
     },
     "user_tz": -180
    },
    "id": "V-WFdN3J1wt9"
   },
   "outputs": [],
   "source": [
    "dau = df.groupby('event_date', as_index=False).agg({'user_id': 'nunique'})"
   ]
  },
  {
   "cell_type": "code",
   "execution_count": 33,
   "id": "h2vFqqztH9-t",
   "metadata": {
    "executionInfo": {
     "elapsed": 9,
     "status": "ok",
     "timestamp": 1650033977979,
     "user": {
      "displayName": "Vadim Selin",
      "userId": "13742755250186020674"
     },
     "user_tz": -180
    },
    "id": "h2vFqqztH9-t"
   },
   "outputs": [],
   "source": [
    "dau.rename(columns={'user_id': 'unique_day_users'}, inplace=True)"
   ]
  },
  {
   "cell_type": "code",
   "execution_count": 34,
   "id": "0_qfdaGDH9-t",
   "metadata": {
    "colab": {
     "base_uri": "https://localhost:8080/",
     "height": 926
    },
    "executionInfo": {
     "elapsed": 8,
     "status": "ok",
     "timestamp": 1650033977979,
     "user": {
      "displayName": "Vadim Selin",
      "userId": "13742755250186020674"
     },
     "user_tz": -180
    },
    "id": "0_qfdaGDH9-t",
    "outputId": "60ec89ba-5a68-41a2-8f2e-009d6c78da9e"
   },
   "outputs": [
    {
     "data": {
      "text/html": [
       "<div>\n",
       "<style scoped>\n",
       "    .dataframe tbody tr th:only-of-type {\n",
       "        vertical-align: middle;\n",
       "    }\n",
       "\n",
       "    .dataframe tbody tr th {\n",
       "        vertical-align: top;\n",
       "    }\n",
       "\n",
       "    .dataframe thead th {\n",
       "        text-align: right;\n",
       "    }\n",
       "</style>\n",
       "<table border=\"1\" class=\"dataframe\">\n",
       "  <thead>\n",
       "    <tr style=\"text-align: right;\">\n",
       "      <th></th>\n",
       "      <th>event_date</th>\n",
       "      <th>unique_day_users</th>\n",
       "    </tr>\n",
       "  </thead>\n",
       "  <tbody>\n",
       "    <tr>\n",
       "      <th>0</th>\n",
       "      <td>2019-10-07</td>\n",
       "      <td>204</td>\n",
       "    </tr>\n",
       "    <tr>\n",
       "      <th>1</th>\n",
       "      <td>2019-10-08</td>\n",
       "      <td>204</td>\n",
       "    </tr>\n",
       "    <tr>\n",
       "      <th>2</th>\n",
       "      <td>2019-10-09</td>\n",
       "      <td>227</td>\n",
       "    </tr>\n",
       "    <tr>\n",
       "      <th>3</th>\n",
       "      <td>2019-10-10</td>\n",
       "      <td>233</td>\n",
       "    </tr>\n",
       "    <tr>\n",
       "      <th>4</th>\n",
       "      <td>2019-10-11</td>\n",
       "      <td>206</td>\n",
       "    </tr>\n",
       "    <tr>\n",
       "      <th>5</th>\n",
       "      <td>2019-10-12</td>\n",
       "      <td>178</td>\n",
       "    </tr>\n",
       "    <tr>\n",
       "      <th>6</th>\n",
       "      <td>2019-10-13</td>\n",
       "      <td>226</td>\n",
       "    </tr>\n",
       "    <tr>\n",
       "      <th>7</th>\n",
       "      <td>2019-10-14</td>\n",
       "      <td>298</td>\n",
       "    </tr>\n",
       "    <tr>\n",
       "      <th>8</th>\n",
       "      <td>2019-10-15</td>\n",
       "      <td>303</td>\n",
       "    </tr>\n",
       "    <tr>\n",
       "      <th>9</th>\n",
       "      <td>2019-10-16</td>\n",
       "      <td>278</td>\n",
       "    </tr>\n",
       "    <tr>\n",
       "      <th>10</th>\n",
       "      <td>2019-10-17</td>\n",
       "      <td>307</td>\n",
       "    </tr>\n",
       "    <tr>\n",
       "      <th>11</th>\n",
       "      <td>2019-10-18</td>\n",
       "      <td>308</td>\n",
       "    </tr>\n",
       "    <tr>\n",
       "      <th>12</th>\n",
       "      <td>2019-10-19</td>\n",
       "      <td>271</td>\n",
       "    </tr>\n",
       "    <tr>\n",
       "      <th>13</th>\n",
       "      <td>2019-10-20</td>\n",
       "      <td>274</td>\n",
       "    </tr>\n",
       "    <tr>\n",
       "      <th>14</th>\n",
       "      <td>2019-10-21</td>\n",
       "      <td>326</td>\n",
       "    </tr>\n",
       "    <tr>\n",
       "      <th>15</th>\n",
       "      <td>2019-10-22</td>\n",
       "      <td>310</td>\n",
       "    </tr>\n",
       "    <tr>\n",
       "      <th>16</th>\n",
       "      <td>2019-10-23</td>\n",
       "      <td>352</td>\n",
       "    </tr>\n",
       "    <tr>\n",
       "      <th>17</th>\n",
       "      <td>2019-10-24</td>\n",
       "      <td>319</td>\n",
       "    </tr>\n",
       "    <tr>\n",
       "      <th>18</th>\n",
       "      <td>2019-10-25</td>\n",
       "      <td>305</td>\n",
       "    </tr>\n",
       "    <tr>\n",
       "      <th>19</th>\n",
       "      <td>2019-10-26</td>\n",
       "      <td>287</td>\n",
       "    </tr>\n",
       "    <tr>\n",
       "      <th>20</th>\n",
       "      <td>2019-10-27</td>\n",
       "      <td>299</td>\n",
       "    </tr>\n",
       "    <tr>\n",
       "      <th>21</th>\n",
       "      <td>2019-10-28</td>\n",
       "      <td>348</td>\n",
       "    </tr>\n",
       "    <tr>\n",
       "      <th>22</th>\n",
       "      <td>2019-10-29</td>\n",
       "      <td>312</td>\n",
       "    </tr>\n",
       "    <tr>\n",
       "      <th>23</th>\n",
       "      <td>2019-10-30</td>\n",
       "      <td>313</td>\n",
       "    </tr>\n",
       "    <tr>\n",
       "      <th>24</th>\n",
       "      <td>2019-10-31</td>\n",
       "      <td>325</td>\n",
       "    </tr>\n",
       "    <tr>\n",
       "      <th>25</th>\n",
       "      <td>2019-11-01</td>\n",
       "      <td>279</td>\n",
       "    </tr>\n",
       "    <tr>\n",
       "      <th>26</th>\n",
       "      <td>2019-11-02</td>\n",
       "      <td>240</td>\n",
       "    </tr>\n",
       "    <tr>\n",
       "      <th>27</th>\n",
       "      <td>2019-11-03</td>\n",
       "      <td>285</td>\n",
       "    </tr>\n",
       "  </tbody>\n",
       "</table>\n",
       "</div>"
      ],
      "text/plain": [
       "   event_date  unique_day_users\n",
       "0  2019-10-07               204\n",
       "1  2019-10-08               204\n",
       "2  2019-10-09               227\n",
       "3  2019-10-10               233\n",
       "4  2019-10-11               206\n",
       "5  2019-10-12               178\n",
       "6  2019-10-13               226\n",
       "7  2019-10-14               298\n",
       "8  2019-10-15               303\n",
       "9  2019-10-16               278\n",
       "10 2019-10-17               307\n",
       "11 2019-10-18               308\n",
       "12 2019-10-19               271\n",
       "13 2019-10-20               274\n",
       "14 2019-10-21               326\n",
       "15 2019-10-22               310\n",
       "16 2019-10-23               352\n",
       "17 2019-10-24               319\n",
       "18 2019-10-25               305\n",
       "19 2019-10-26               287\n",
       "20 2019-10-27               299\n",
       "21 2019-10-28               348\n",
       "22 2019-10-29               312\n",
       "23 2019-10-30               313\n",
       "24 2019-10-31               325\n",
       "25 2019-11-01               279\n",
       "26 2019-11-02               240\n",
       "27 2019-11-03               285"
      ]
     },
     "execution_count": 34,
     "metadata": {},
     "output_type": "execute_result"
    }
   ],
   "source": [
    "dau"
   ]
  },
  {
   "cell_type": "markdown",
   "id": "LYNgjSh_NhNK",
   "metadata": {
    "id": "LYNgjSh_NhNK"
   },
   "source": [
    "- Рассчитаю средний `dau` за весь период."
   ]
  },
  {
   "cell_type": "code",
   "execution_count": 35,
   "id": "VLoCGMWVH9-t",
   "metadata": {
    "executionInfo": {
     "elapsed": 8,
     "status": "ok",
     "timestamp": 1650033977980,
     "user": {
      "displayName": "Vadim Selin",
      "userId": "13742755250186020674"
     },
     "user_tz": -180
    },
    "id": "VLoCGMWVH9-t"
   },
   "outputs": [],
   "source": [
    "dau_total = dau['unique_day_users'].mean()"
   ]
  },
  {
   "cell_type": "code",
   "execution_count": 36,
   "id": "Rh9tVU1MH9-t",
   "metadata": {
    "colab": {
     "base_uri": "https://localhost:8080/"
    },
    "executionInfo": {
     "elapsed": 8,
     "status": "ok",
     "timestamp": 1650033977980,
     "user": {
      "displayName": "Vadim Selin",
      "userId": "13742755250186020674"
     },
     "user_tz": -180
    },
    "id": "Rh9tVU1MH9-t",
    "outputId": "973d7fa0-23eb-41f0-f35a-6b7730b209ae"
   },
   "outputs": [
    {
     "data": {
      "text/plain": [
       "279.18"
      ]
     },
     "execution_count": 36,
     "metadata": {},
     "output_type": "execute_result"
    }
   ],
   "source": [
    "round(dau_total, 2)"
   ]
  },
  {
   "cell_type": "markdown",
   "id": "Heq3ZuG6H9-u",
   "metadata": {
    "id": "Heq3ZuG6H9-u"
   },
   "source": [
    "- Среднее число уникальных пользователей в приложении 279.\n",
    "- Число событий в неделе и на графике распределения росло от начала записи лога.\n",
    "- Вероятно, это связано с ростом числа уникальных пользователей.\n",
    "- Проверю это на ежедневном графике изменения `dau`."
   ]
  },
  {
   "cell_type": "code",
   "execution_count": 37,
   "id": "te0hVhscH9-u",
   "metadata": {
    "colab": {
     "base_uri": "https://localhost:8080/",
     "height": 426
    },
    "executionInfo": {
     "elapsed": 624,
     "status": "ok",
     "timestamp": 1650033978599,
     "user": {
      "displayName": "Vadim Selin",
      "userId": "13742755250186020674"
     },
     "user_tz": -180
    },
    "id": "te0hVhscH9-u",
    "outputId": "f2cc8b69-27a1-4697-cd7b-d777ba018c59"
   },
   "outputs": [
    {
     "data": {
      "image/png": "[encoded data removed]",
      "text/plain": [
       "<Figure size 1008x432 with 1 Axes>"
      ]
     },
     "metadata": {
      "needs_background": "light"
     },
     "output_type": "display_data"
    }
   ],
   "source": [
    "dau.plot(x='event_date',figsize=(14,6), ylim=0, grid=True)\n",
    "plt.title('Число уникальных пользователей в день')\n",
    "plt.ylabel('Количество пользователей')\n",
    "plt.xlabel('Дата')\n",
    "plt.show()"
   ]
  },
  {
   "cell_type": "markdown",
   "id": "vseIa8qJH9-u",
   "metadata": {
    "id": "vseIa8qJH9-u"
   },
   "source": [
    "- Так и есть: ежедневное число уникальных пользователей колеблется, но проявляет тенденцию к росту.\n",
    "- Есть небольшой спад к концу лога, который, очевидно, отразится на недельном графике.\n",
    "- Рассчитаю и построю график `wau`."
   ]
  },
  {
   "cell_type": "code",
   "execution_count": 38,
   "id": "PvFWIAkbH9-u",
   "metadata": {
    "executionInfo": {
     "elapsed": 5,
     "status": "ok",
     "timestamp": 1650033978600,
     "user": {
      "displayName": "Vadim Selin",
      "userId": "13742755250186020674"
     },
     "user_tz": -180
    },
    "id": "PvFWIAkbH9-u"
   },
   "outputs": [],
   "source": [
    "wau = df.groupby('event_week', as_index=False).agg({'user_id': 'nunique'})"
   ]
  },
  {
   "cell_type": "code",
   "execution_count": 39,
   "id": "4BSltJ6DH9-u",
   "metadata": {
    "executionInfo": {
     "elapsed": 4,
     "status": "ok",
     "timestamp": 1650033978600,
     "user": {
      "displayName": "Vadim Selin",
      "userId": "13742755250186020674"
     },
     "user_tz": -180
    },
    "id": "4BSltJ6DH9-u"
   },
   "outputs": [],
   "source": [
    "wau.rename(columns={'user_id': 'unique_week_users'}, inplace=True)"
   ]
  },
  {
   "cell_type": "code",
   "execution_count": 40,
   "id": "b4QOyWS-H9-u",
   "metadata": {
    "colab": {
     "base_uri": "https://localhost:8080/",
     "height": 174
    },
    "executionInfo": {
     "elapsed": 449,
     "status": "ok",
     "timestamp": 1650033979045,
     "user": {
      "displayName": "Vadim Selin",
      "userId": "13742755250186020674"
     },
     "user_tz": -180
    },
    "id": "b4QOyWS-H9-u",
    "outputId": "11729802-7174-480d-8ed1-4f2bc0fe302b"
   },
   "outputs": [
    {
     "data": {
      "text/html": [
       "<div>\n",
       "<style scoped>\n",
       "    .dataframe tbody tr th:only-of-type {\n",
       "        vertical-align: middle;\n",
       "    }\n",
       "\n",
       "    .dataframe tbody tr th {\n",
       "        vertical-align: top;\n",
       "    }\n",
       "\n",
       "    .dataframe thead th {\n",
       "        text-align: right;\n",
       "    }\n",
       "</style>\n",
       "<table border=\"1\" class=\"dataframe\">\n",
       "  <thead>\n",
       "    <tr style=\"text-align: right;\">\n",
       "      <th></th>\n",
       "      <th>event_week</th>\n",
       "      <th>unique_week_users</th>\n",
       "    </tr>\n",
       "  </thead>\n",
       "  <tbody>\n",
       "    <tr>\n",
       "      <th>0</th>\n",
       "      <td>41</td>\n",
       "      <td>1130</td>\n",
       "    </tr>\n",
       "    <tr>\n",
       "      <th>1</th>\n",
       "      <td>42</td>\n",
       "      <td>1438</td>\n",
       "    </tr>\n",
       "    <tr>\n",
       "      <th>2</th>\n",
       "      <td>43</td>\n",
       "      <td>1546</td>\n",
       "    </tr>\n",
       "    <tr>\n",
       "      <th>3</th>\n",
       "      <td>44</td>\n",
       "      <td>1416</td>\n",
       "    </tr>\n",
       "  </tbody>\n",
       "</table>\n",
       "</div>"
      ],
      "text/plain": [
       "   event_week  unique_week_users\n",
       "0          41               1130\n",
       "1          42               1438\n",
       "2          43               1546\n",
       "3          44               1416"
      ]
     },
     "execution_count": 40,
     "metadata": {},
     "output_type": "execute_result"
    }
   ],
   "source": [
    "wau"
   ]
  },
  {
   "cell_type": "markdown",
   "id": "Je5KPaamN86Z",
   "metadata": {
    "id": "Je5KPaamN86Z"
   },
   "source": [
    "- Рассчитаю средний `wau` за весь период."
   ]
  },
  {
   "cell_type": "code",
   "execution_count": 41,
   "id": "amBHdVm6H9-u",
   "metadata": {
    "executionInfo": {
     "elapsed": 3,
     "status": "ok",
     "timestamp": 1650033979046,
     "user": {
      "displayName": "Vadim Selin",
      "userId": "13742755250186020674"
     },
     "user_tz": -180
    },
    "id": "amBHdVm6H9-u"
   },
   "outputs": [],
   "source": [
    "wau_total = wau['unique_week_users'].mean()"
   ]
  },
  {
   "cell_type": "code",
   "execution_count": 42,
   "id": "tDRv12rMH9-v",
   "metadata": {
    "colab": {
     "base_uri": "https://localhost:8080/"
    },
    "executionInfo": {
     "elapsed": 2,
     "status": "ok",
     "timestamp": 1650033979046,
     "user": {
      "displayName": "Vadim Selin",
      "userId": "13742755250186020674"
     },
     "user_tz": -180
    },
    "id": "tDRv12rMH9-v",
    "outputId": "61debeb2-60b5-412d-e26e-df066d2061d2"
   },
   "outputs": [
    {
     "data": {
      "text/plain": [
       "1382.5"
      ]
     },
     "execution_count": 42,
     "metadata": {},
     "output_type": "execute_result"
    }
   ],
   "source": [
    "wau_total"
   ]
  },
  {
   "cell_type": "code",
   "execution_count": 43,
   "id": "660A7EiHH9-v",
   "metadata": {
    "colab": {
     "base_uri": "https://localhost:8080/",
     "height": 294
    },
    "executionInfo": {
     "elapsed": 430,
     "status": "ok",
     "timestamp": 1650033979474,
     "user": {
      "displayName": "Vadim Selin",
      "userId": "13742755250186020674"
     },
     "user_tz": -180
    },
    "id": "660A7EiHH9-v",
    "outputId": "746cfd14-a9dc-4614-c686-3735c631b470"
   },
   "outputs": [
    {
     "data": {
      "image/png": "[encoded data removed]",
      "text/plain": [
       "<Figure size 432x288 with 1 Axes>"
      ]
     },
     "metadata": {
      "needs_background": "light"
     },
     "output_type": "display_data"
    }
   ],
   "source": [
    "wau.plot(x='event_week', ylim=0, xlim=(41, 44), grid=True)\n",
    "plt.title('Число уникальных пользователей в неделю')\n",
    "plt.ylabel('Количество пользователей')\n",
    "plt.xlabel('неделя года')\n",
    "plt.show()"
   ]
  },
  {
   "cell_type": "markdown",
   "id": "fDT20GZL4BlN",
   "metadata": {
    "id": "fDT20GZL4BlN"
   },
   "source": [
    "- Выведу распределение числа событий по неделям, чтобы отразить взаимосвязь числа событий с числом уникальных пользователей"
   ]
  },
  {
   "cell_type": "code",
   "execution_count": 44,
   "id": "cOPFvIZV2vmt",
   "metadata": {
    "colab": {
     "base_uri": "https://localhost:8080/",
     "height": 264
    },
    "executionInfo": {
     "elapsed": 309,
     "status": "ok",
     "timestamp": 1650033979781,
     "user": {
      "displayName": "Vadim Selin",
      "userId": "13742755250186020674"
     },
     "user_tz": -180
    },
    "id": "cOPFvIZV2vmt",
    "outputId": "d3ebbea3-095b-4696-a462-1199271739cb"
   },
   "outputs": [
    {
     "data": {
      "image/png": "[encoded data removed]",
      "text/plain": [
       "<Figure size 432x288 with 1 Axes>"
      ]
     },
     "metadata": {
      "needs_background": "light"
     },
     "output_type": "display_data"
    }
   ],
   "source": [
    "df['event_week'].hist(bins=4)\n",
    "plt.xlim(41, 44)\n",
    "plt.show()"
   ]
  },
  {
   "cell_type": "markdown",
   "id": "HXMpfC6MH9-v",
   "metadata": {
    "id": "HXMpfC6MH9-v"
   },
   "source": [
    "- Среднее число уникальных пользователей в неделю составляет `1385,5`.\n",
    "- Со второй недели число уникальных пользователей превышает `1400`.\n",
    "- Но после 3-й недели фиксирую спад.\n",
    "- Вероятно, это связано с показателем `retention rate`, который рассчитаю далее."
   ]
  },
  {
   "cell_type": "markdown",
   "id": "b21dc373",
   "metadata": {},
   "source": [
    "<div class=\"alert alert-success\" style=\"border-radius: 15px; box-shadow: 4px 4px 4px; border: 1px solid \" > <b>Комментарии от тимлида ✔️ : </b> \n",
    "\n",
    "Согласен с расчетами\n",
    "   \n",
    "</div>"
   ]
  },
  {
   "cell_type": "markdown",
   "id": "35c065b5",
   "metadata": {
    "id": "35c065b5"
   },
   "source": [
    "## Выбор подхода разделения пользователей на группы\n",
    "\n",
    "В задании требуется выделить группы пользователей на основе retention rate; времени, проведённого в приложении; частоты действий; конверсии в целевое действие — просмотр контактов.\n",
    "\n",
    "И тут может быть два подхода:\n",
    "\n",
    "1. Взять всех пользователей и посчитать метрики по ним. А потом на основании различий метрик выделить группы.\n",
    "2. Разделить пользователей в зависимости от событий, которые они совершили в исследуемый период. И уже после этой группировки по событиям сравнивать интересующие нас метрики.\n",
    "\n",
    "Я выберу второй подход, поскольку мне он кажется более честным (и в перспективе хочу его доработать [с учетом временного разброса событий](https://towardsdatascience.com/how-to-apply-k-means-clustering-to-time-series-data-28d04a8f7da3)): группы будут выделяться на основании событий, а не метрик, рассчитанных на основе тех же событий. Выделять группы буду с помощью алгоритма кластеризации `k-means`. \n",
    "\n",
    "Определять число групп для алгоритма `k-means` буду с помощью *агломеративной иерархической кластеризации* и дендрограммы, визуализирующей её.\n",
    "\n",
    "Прежде чем проводить кластеризацию, выясню, каково распределение числа событий на пользователя за весь исследуемый период.\n",
    "- При этом важно помнить, что некоторые пользователи будут совершать события с самого первого дня исследуемого периода, а некоторые впервые оказались в приложении в конце записанного лога.\n",
    "- Поэтому буду осторожен с фильтрацией"
   ]
  },
  {
   "cell_type": "markdown",
   "id": "3b319145",
   "metadata": {},
   "source": [
    "<div class=\"alert alert-success\" style=\"border-radius: 15px; box-shadow: 4px 4px 4px; border: 1px solid \" > <b>Комментарии от тимлида ✔️ : </b> \n",
    "\n",
    "Здорово, что расписал свой подходе. Это очень помогает понять твою логику\n",
    "   \n",
    "</div>"
   ]
  },
  {
   "cell_type": "code",
   "execution_count": 45,
   "id": "TAOA0LKhMHm_",
   "metadata": {
    "executionInfo": {
     "elapsed": 3,
     "status": "ok",
     "timestamp": 1650033979781,
     "user": {
      "displayName": "Vadim Selin",
      "userId": "13742755250186020674"
     },
     "user_tz": -180
    },
    "id": "TAOA0LKhMHm_"
   },
   "outputs": [],
   "source": [
    "event_per_usr = pd.DataFrame(df.groupby('user_id')['event_name'].count())"
   ]
  },
  {
   "cell_type": "code",
   "execution_count": 46,
   "id": "b446974d",
   "metadata": {
    "executionInfo": {
     "elapsed": 3,
     "status": "ok",
     "timestamp": 1650033979781,
     "user": {
      "displayName": "Vadim Selin",
      "userId": "13742755250186020674"
     },
     "user_tz": -180
    },
    "id": "b446974d"
   },
   "outputs": [],
   "source": [
    "event_per_usr = event_per_usr.rename(columns={'event_name': 'event_cnt'})"
   ]
  },
  {
   "cell_type": "code",
   "execution_count": 47,
   "id": "aadb83b4",
   "metadata": {
    "colab": {
     "base_uri": "https://localhost:8080/",
     "height": 294
    },
    "executionInfo": {
     "elapsed": 683,
     "status": "ok",
     "timestamp": 1650033980461,
     "user": {
      "displayName": "Vadim Selin",
      "userId": "13742755250186020674"
     },
     "user_tz": -180
    },
    "id": "aadb83b4",
    "outputId": "459d8c73-f94c-4b34-ae66-2082d7b02d0c"
   },
   "outputs": [
    {
     "data": {
      "image/png": "[encoded data removed]",
      "text/plain": [
       "<Figure size 432x288 with 1 Axes>"
      ]
     },
     "metadata": {
      "needs_background": "light"
     },
     "output_type": "display_data"
    }
   ],
   "source": [
    "event_per_usr['event_cnt'].hist(bins=100)\n",
    "plt.title('Распределение количества событий на одного пользователя')\n",
    "plt.xlabel('Число событий на пользователя')\n",
    "plt.ylabel('Число пользователей')\n",
    "plt.show()"
   ]
  },
  {
   "cell_type": "markdown",
   "id": "6b6cb2a9",
   "metadata": {
    "id": "6b6cb2a9"
   },
   "source": [
    "- Имеем перекошенное распределение событий во времени (период записи лога), похожее на Пуассоновское. Лежащее в пределах от `0` до `500`\n",
    "- Изучу его квартили, выбросы на диаграмме `boxplot`\n",
    "- А, главное, решу - отбарсывать эти выбросы и нет."
   ]
  },
  {
   "cell_type": "code",
   "execution_count": 48,
   "id": "WCOJOjDrMm9-",
   "metadata": {
    "colab": {
     "base_uri": "https://localhost:8080/",
     "height": 505
    },
    "executionInfo": {
     "elapsed": 614,
     "status": "ok",
     "timestamp": 1650033981073,
     "user": {
      "displayName": "Vadim Selin",
      "userId": "13742755250186020674"
     },
     "user_tz": -180
    },
    "id": "WCOJOjDrMm9-",
    "outputId": "099bb142-dc55-41bc-a600-b62d7011013d"
   },
   "outputs": [
    {
     "data": {
      "text/plain": [
       "(0.0, 60.0)"
      ]
     },
     "execution_count": 48,
     "metadata": {},
     "output_type": "execute_result"
    },
    {
     "data": {
      "image/png": "[encoded data removed]",
      "text/plain": [
       "<Figure size 360x576 with 1 Axes>"
      ]
     },
     "metadata": {
      "needs_background": "light"
     },
     "output_type": "display_data"
    }
   ],
   "source": [
    "plt.figure(figsize=(5, 8)) \n",
    "event_per_usr.boxplot(column='event_cnt')\n",
    "plt.ylim(0,60)"
   ]
  },
  {
   "cell_type": "code",
   "execution_count": 49,
   "id": "jvOdQsDgNe9l",
   "metadata": {
    "colab": {
     "base_uri": "https://localhost:8080/",
     "height": 300
    },
    "executionInfo": {
     "elapsed": 18,
     "status": "ok",
     "timestamp": 1650033981073,
     "user": {
      "displayName": "Vadim Selin",
      "userId": "13742755250186020674"
     },
     "user_tz": -180
    },
    "id": "jvOdQsDgNe9l",
    "outputId": "10404c1f-c13f-455e-8c89-5c72328f21d3"
   },
   "outputs": [
    {
     "data": {
      "text/html": [
       "<div>\n",
       "<style scoped>\n",
       "    .dataframe tbody tr th:only-of-type {\n",
       "        vertical-align: middle;\n",
       "    }\n",
       "\n",
       "    .dataframe tbody tr th {\n",
       "        vertical-align: top;\n",
       "    }\n",
       "\n",
       "    .dataframe thead th {\n",
       "        text-align: right;\n",
       "    }\n",
       "</style>\n",
       "<table border=\"1\" class=\"dataframe\">\n",
       "  <thead>\n",
       "    <tr style=\"text-align: right;\">\n",
       "      <th></th>\n",
       "      <th>event_cnt</th>\n",
       "    </tr>\n",
       "  </thead>\n",
       "  <tbody>\n",
       "    <tr>\n",
       "      <th>count</th>\n",
       "      <td>4293.000000</td>\n",
       "    </tr>\n",
       "    <tr>\n",
       "      <th>mean</th>\n",
       "      <td>17.283252</td>\n",
       "    </tr>\n",
       "    <tr>\n",
       "      <th>std</th>\n",
       "      <td>29.130677</td>\n",
       "    </tr>\n",
       "    <tr>\n",
       "      <th>min</th>\n",
       "      <td>1.000000</td>\n",
       "    </tr>\n",
       "    <tr>\n",
       "      <th>25%</th>\n",
       "      <td>5.000000</td>\n",
       "    </tr>\n",
       "    <tr>\n",
       "      <th>50%</th>\n",
       "      <td>9.000000</td>\n",
       "    </tr>\n",
       "    <tr>\n",
       "      <th>75%</th>\n",
       "      <td>17.000000</td>\n",
       "    </tr>\n",
       "    <tr>\n",
       "      <th>max</th>\n",
       "      <td>478.000000</td>\n",
       "    </tr>\n",
       "  </tbody>\n",
       "</table>\n",
       "</div>"
      ],
      "text/plain": [
       "         event_cnt\n",
       "count  4293.000000\n",
       "mean     17.283252\n",
       "std      29.130677\n",
       "min       1.000000\n",
       "25%       5.000000\n",
       "50%       9.000000\n",
       "75%      17.000000\n",
       "max     478.000000"
      ]
     },
     "execution_count": 49,
     "metadata": {},
     "output_type": "execute_result"
    }
   ],
   "source": [
    "event_per_usr.describe()"
   ]
  },
  {
   "cell_type": "code",
   "execution_count": 50,
   "id": "aa0043de",
   "metadata": {
    "colab": {
     "base_uri": "https://localhost:8080/"
    },
    "executionInfo": {
     "elapsed": 17,
     "status": "ok",
     "timestamp": 1650033981073,
     "user": {
      "displayName": "Vadim Selin",
      "userId": "13742755250186020674"
     },
     "user_tz": -180
    },
    "id": "aa0043de",
    "outputId": "2c0bf0fd-733b-4c5a-ae5e-00e3f0bc7e7d"
   },
   "outputs": [
    {
     "data": {
      "text/plain": [
       "0    5\n",
       "dtype: int64"
      ]
     },
     "execution_count": 50,
     "metadata": {},
     "output_type": "execute_result"
    }
   ],
   "source": [
    "event_per_usr['event_cnt'].mode()"
   ]
  },
  {
   "cell_type": "markdown",
   "id": "74f26dc4",
   "metadata": {
    "id": "74f26dc4"
   },
   "source": [
    "- По версии \"ящика с усами\" пользователи, совершившие более 35 событий, относятся к выбросам\n",
    "- Мода составляет 5 событий на пользователя\n",
    "- А максимум равен 478 событиям\n",
    "\n",
    "Но если учесть, что в логе у нас события за 28 дней, то 478 событий - это не очень-то похоже на аномальное поведение. Это всего-лишь 17 событий в день в среднем, если вы являлилсь пользователем от начала до конца лога. В обычной жизни многие пользуются приложениями годами, а не один раз. И 17 тапов в приложении за день - это может быть весьма скромно.\n",
    "\n",
    "Посмотрю, какова доля пользователей, совершивших более 35 событий за исследуемый период"
   ]
  },
  {
   "cell_type": "markdown",
   "id": "b8507650",
   "metadata": {},
   "source": [
    "<div class=\"alert alert-success\" style=\"border-radius: 15px; box-shadow: 4px 4px 4px; border: 1px solid \" > <b>Комментарии от тимлида ✔️ : </b> \n",
    "\n",
    "Важное уточнение. Согласен. Не всегда стоит ориентироваться на boxplot\n",
    "   \n",
    "</div>"
   ]
  },
  {
   "cell_type": "code",
   "execution_count": 51,
   "id": "6a1b7a25",
   "metadata": {
    "colab": {
     "base_uri": "https://localhost:8080/"
    },
    "executionInfo": {
     "elapsed": 12,
     "status": "ok",
     "timestamp": 1650033981074,
     "user": {
      "displayName": "Vadim Selin",
      "userId": "13742755250186020674"
     },
     "user_tz": -180
    },
    "id": "6a1b7a25",
    "outputId": "29d6b1e2-035b-4a3a-a6e4-47ee3a81b40b"
   },
   "outputs": [
    {
     "data": {
      "text/plain": [
       "0.8989051945026788"
      ]
     },
     "execution_count": 51,
     "metadata": {},
     "output_type": "execute_result"
    }
   ],
   "source": [
    "len(event_per_usr.query('event_cnt <= 35')) / len(event_per_usr)"
   ]
  },
  {
   "cell_type": "markdown",
   "id": "d38d538c",
   "metadata": {
    "id": "d38d538c"
   },
   "source": [
    "- Более 10% пользователей совершили более 35 событий за вермя исследования\n",
    "- А может, это наши лучшие клиенты\n",
    "- Проверю, когда они совершили свои первые действия "
   ]
  },
  {
   "cell_type": "code",
   "execution_count": 52,
   "id": "72c9030a",
   "metadata": {
    "executionInfo": {
     "elapsed": 10,
     "status": "ok",
     "timestamp": 1650033981074,
     "user": {
      "displayName": "Vadim Selin",
      "userId": "13742755250186020674"
     },
     "user_tz": -180
    },
    "id": "72c9030a"
   },
   "outputs": [],
   "source": [
    "event_per_usr_f = event_per_usr[event_per_usr['event_cnt'] <= 35]"
   ]
  },
  {
   "cell_type": "code",
   "execution_count": 53,
   "id": "a4382ac1",
   "metadata": {
    "executionInfo": {
     "elapsed": 9,
     "status": "ok",
     "timestamp": 1650033981074,
     "user": {
      "displayName": "Vadim Selin",
      "userId": "13742755250186020674"
     },
     "user_tz": -180
    },
    "id": "a4382ac1"
   },
   "outputs": [],
   "source": [
    "# создам временный сводник по самым активным пользователям\n",
    "t = (\n",
    "    df[~df['user_id'].isin(event_per_usr_f.index)]\n",
    "    .groupby('user_id').agg({'event_date': ['min', 'count']})\n",
    "\n",
    ")"
   ]
  },
  {
   "cell_type": "code",
   "execution_count": 54,
   "id": "a38b85b7",
   "metadata": {
    "colab": {
     "base_uri": "https://localhost:8080/",
     "height": 486
    },
    "executionInfo": {
     "elapsed": 12,
     "status": "ok",
     "timestamp": 1650033981077,
     "user": {
      "displayName": "Vadim Selin",
      "userId": "13742755250186020674"
     },
     "user_tz": -180
    },
    "id": "a38b85b7",
    "outputId": "8a1576f0-6adf-49f9-b4a6-4a3220e7a4f3"
   },
   "outputs": [
    {
     "data": {
      "text/html": [
       "<div>\n",
       "<style scoped>\n",
       "    .dataframe tbody tr th:only-of-type {\n",
       "        vertical-align: middle;\n",
       "    }\n",
       "\n",
       "    .dataframe tbody tr th {\n",
       "        vertical-align: top;\n",
       "    }\n",
       "\n",
       "    .dataframe thead tr th {\n",
       "        text-align: left;\n",
       "    }\n",
       "\n",
       "    .dataframe thead tr:last-of-type th {\n",
       "        text-align: right;\n",
       "    }\n",
       "</style>\n",
       "<table border=\"1\" class=\"dataframe\">\n",
       "  <thead>\n",
       "    <tr>\n",
       "      <th></th>\n",
       "      <th colspan=\"2\" halign=\"left\">event_date</th>\n",
       "    </tr>\n",
       "    <tr>\n",
       "      <th></th>\n",
       "      <th>min</th>\n",
       "      <th>count</th>\n",
       "    </tr>\n",
       "    <tr>\n",
       "      <th>user_id</th>\n",
       "      <th></th>\n",
       "      <th></th>\n",
       "    </tr>\n",
       "  </thead>\n",
       "  <tbody>\n",
       "    <tr>\n",
       "      <th>00157779-810c-4498-9e05-a1e9e3cedf93</th>\n",
       "      <td>2019-10-19</td>\n",
       "      <td>71</td>\n",
       "    </tr>\n",
       "    <tr>\n",
       "      <th>017c6afc-965d-4c94-84ee-f0e326998e30</th>\n",
       "      <td>2019-10-10</td>\n",
       "      <td>41</td>\n",
       "    </tr>\n",
       "    <tr>\n",
       "      <th>02c90994-8de8-49e8-a384-415fb1602ac5</th>\n",
       "      <td>2019-10-14</td>\n",
       "      <td>40</td>\n",
       "    </tr>\n",
       "    <tr>\n",
       "      <th>04adf25e-cb60-4cbd-bedc-ddc1057cde06</th>\n",
       "      <td>2019-10-13</td>\n",
       "      <td>110</td>\n",
       "    </tr>\n",
       "    <tr>\n",
       "      <th>04d0b1b4-d31f-4c19-bc7e-14e5fcf6f791</th>\n",
       "      <td>2019-10-26</td>\n",
       "      <td>170</td>\n",
       "    </tr>\n",
       "    <tr>\n",
       "      <th>...</th>\n",
       "      <td>...</td>\n",
       "      <td>...</td>\n",
       "    </tr>\n",
       "    <tr>\n",
       "      <th>fdd232f5-962d-4eed-ac02-f0141385cc8f</th>\n",
       "      <td>2019-10-08</td>\n",
       "      <td>90</td>\n",
       "    </tr>\n",
       "    <tr>\n",
       "      <th>feb7c7a1-26e0-4ea9-9cdc-3e5b401cac97</th>\n",
       "      <td>2019-10-17</td>\n",
       "      <td>75</td>\n",
       "    </tr>\n",
       "    <tr>\n",
       "      <th>fee3ba1c-16f4-46f7-bf56-4bf80cc4e2f5</th>\n",
       "      <td>2019-10-26</td>\n",
       "      <td>56</td>\n",
       "    </tr>\n",
       "    <tr>\n",
       "      <th>ff82c7c7-16d6-44b1-833b-a217747b0b02</th>\n",
       "      <td>2019-10-15</td>\n",
       "      <td>52</td>\n",
       "    </tr>\n",
       "    <tr>\n",
       "      <th>fffb9e79-b927-4dbb-9b48-7fd09b23a62b</th>\n",
       "      <td>2019-10-12</td>\n",
       "      <td>303</td>\n",
       "    </tr>\n",
       "  </tbody>\n",
       "</table>\n",
       "<p>434 rows × 2 columns</p>\n",
       "</div>"
      ],
      "text/plain": [
       "                                     event_date      \n",
       "                                            min count\n",
       "user_id                                              \n",
       "00157779-810c-4498-9e05-a1e9e3cedf93 2019-10-19    71\n",
       "017c6afc-965d-4c94-84ee-f0e326998e30 2019-10-10    41\n",
       "02c90994-8de8-49e8-a384-415fb1602ac5 2019-10-14    40\n",
       "04adf25e-cb60-4cbd-bedc-ddc1057cde06 2019-10-13   110\n",
       "04d0b1b4-d31f-4c19-bc7e-14e5fcf6f791 2019-10-26   170\n",
       "...                                         ...   ...\n",
       "fdd232f5-962d-4eed-ac02-f0141385cc8f 2019-10-08    90\n",
       "feb7c7a1-26e0-4ea9-9cdc-3e5b401cac97 2019-10-17    75\n",
       "fee3ba1c-16f4-46f7-bf56-4bf80cc4e2f5 2019-10-26    56\n",
       "ff82c7c7-16d6-44b1-833b-a217747b0b02 2019-10-15    52\n",
       "fffb9e79-b927-4dbb-9b48-7fd09b23a62b 2019-10-12   303\n",
       "\n",
       "[434 rows x 2 columns]"
      ]
     },
     "execution_count": 54,
     "metadata": {},
     "output_type": "execute_result"
    }
   ],
   "source": [
    "t"
   ]
  },
  {
   "cell_type": "code",
   "execution_count": 55,
   "id": "655fbecb",
   "metadata": {
    "executionInfo": {
     "elapsed": 13,
     "status": "ok",
     "timestamp": 1650033981078,
     "user": {
      "displayName": "Vadim Selin",
      "userId": "13742755250186020674"
     },
     "user_tz": -180
    },
    "id": "655fbecb"
   },
   "outputs": [],
   "source": [
    "# сделаю индексы одноуровненвыми\n",
    "t.columns = ['_'.join(col).strip() for col in t.columns.values]"
   ]
  },
  {
   "cell_type": "code",
   "execution_count": 56,
   "id": "4950223b",
   "metadata": {
    "colab": {
     "base_uri": "https://localhost:8080/",
     "height": 454
    },
    "executionInfo": {
     "elapsed": 12,
     "status": "ok",
     "timestamp": 1650033981078,
     "user": {
      "displayName": "Vadim Selin",
      "userId": "13742755250186020674"
     },
     "user_tz": -180
    },
    "id": "4950223b",
    "outputId": "361b63d9-18e8-4d8b-d90e-8931e9d6a2bd"
   },
   "outputs": [
    {
     "data": {
      "text/html": [
       "<div>\n",
       "<style scoped>\n",
       "    .dataframe tbody tr th:only-of-type {\n",
       "        vertical-align: middle;\n",
       "    }\n",
       "\n",
       "    .dataframe tbody tr th {\n",
       "        vertical-align: top;\n",
       "    }\n",
       "\n",
       "    .dataframe thead th {\n",
       "        text-align: right;\n",
       "    }\n",
       "</style>\n",
       "<table border=\"1\" class=\"dataframe\">\n",
       "  <thead>\n",
       "    <tr style=\"text-align: right;\">\n",
       "      <th></th>\n",
       "      <th>event_date_min</th>\n",
       "      <th>event_date_count</th>\n",
       "    </tr>\n",
       "    <tr>\n",
       "      <th>user_id</th>\n",
       "      <th></th>\n",
       "      <th></th>\n",
       "    </tr>\n",
       "  </thead>\n",
       "  <tbody>\n",
       "    <tr>\n",
       "      <th>cb36854f-570a-41f4-baa8-36680b396370</th>\n",
       "      <td>2019-10-07</td>\n",
       "      <td>478</td>\n",
       "    </tr>\n",
       "    <tr>\n",
       "      <th>e13f9f32-7ae3-4204-8d60-898db040bcfc</th>\n",
       "      <td>2019-10-18</td>\n",
       "      <td>465</td>\n",
       "    </tr>\n",
       "    <tr>\n",
       "      <th>9ce63488-758a-481a-bcb5-a02b467e1d84</th>\n",
       "      <td>2019-10-08</td>\n",
       "      <td>407</td>\n",
       "    </tr>\n",
       "    <tr>\n",
       "      <th>21230dd9-2f7f-4b77-a436-43d4d10388e0</th>\n",
       "      <td>2019-10-10</td>\n",
       "      <td>400</td>\n",
       "    </tr>\n",
       "    <tr>\n",
       "      <th>be1449f6-ca45-4f94-93a7-ea4b079b8f0f</th>\n",
       "      <td>2019-10-07</td>\n",
       "      <td>397</td>\n",
       "    </tr>\n",
       "    <tr>\n",
       "      <th>...</th>\n",
       "      <td>...</td>\n",
       "      <td>...</td>\n",
       "    </tr>\n",
       "    <tr>\n",
       "      <th>f9e48f0a-b7b3-452b-9018-0d1e1574b9f5</th>\n",
       "      <td>2019-10-23</td>\n",
       "      <td>36</td>\n",
       "    </tr>\n",
       "    <tr>\n",
       "      <th>8d4aff9c-730e-4164-bf93-9873d215a7ad</th>\n",
       "      <td>2019-10-10</td>\n",
       "      <td>36</td>\n",
       "    </tr>\n",
       "    <tr>\n",
       "      <th>a9a31e05-6a54-497b-b827-baff2ecd5a45</th>\n",
       "      <td>2019-10-19</td>\n",
       "      <td>36</td>\n",
       "    </tr>\n",
       "    <tr>\n",
       "      <th>8c2b2b75-992a-4cf8-a92e-578e5f6b06d3</th>\n",
       "      <td>2019-10-15</td>\n",
       "      <td>36</td>\n",
       "    </tr>\n",
       "    <tr>\n",
       "      <th>e4ba7f63-afc1-4c47-bfda-5df687a9aaae</th>\n",
       "      <td>2019-10-23</td>\n",
       "      <td>36</td>\n",
       "    </tr>\n",
       "  </tbody>\n",
       "</table>\n",
       "<p>434 rows × 2 columns</p>\n",
       "</div>"
      ],
      "text/plain": [
       "                                     event_date_min  event_date_count\n",
       "user_id                                                              \n",
       "cb36854f-570a-41f4-baa8-36680b396370     2019-10-07               478\n",
       "e13f9f32-7ae3-4204-8d60-898db040bcfc     2019-10-18               465\n",
       "9ce63488-758a-481a-bcb5-a02b467e1d84     2019-10-08               407\n",
       "21230dd9-2f7f-4b77-a436-43d4d10388e0     2019-10-10               400\n",
       "be1449f6-ca45-4f94-93a7-ea4b079b8f0f     2019-10-07               397\n",
       "...                                             ...               ...\n",
       "f9e48f0a-b7b3-452b-9018-0d1e1574b9f5     2019-10-23                36\n",
       "8d4aff9c-730e-4164-bf93-9873d215a7ad     2019-10-10                36\n",
       "a9a31e05-6a54-497b-b827-baff2ecd5a45     2019-10-19                36\n",
       "8c2b2b75-992a-4cf8-a92e-578e5f6b06d3     2019-10-15                36\n",
       "e4ba7f63-afc1-4c47-bfda-5df687a9aaae     2019-10-23                36\n",
       "\n",
       "[434 rows x 2 columns]"
      ]
     },
     "execution_count": 56,
     "metadata": {},
     "output_type": "execute_result"
    }
   ],
   "source": [
    "t.sort_values(by='event_date_count', ascending=False)"
   ]
  },
  {
   "cell_type": "markdown",
   "id": "1e4b342c",
   "metadata": {
    "id": "1e4b342c"
   },
   "source": [
    "- Самый активный пользователь впервые начал соввершать действия с первого дня записи лога. Поэтому не удивительно, что он за месяц смог совершить 478 событий. \n",
    "- Посмотрю на диаграмме рассеяния, как на временной оси лога расположены первые визиты пользователей с самым большим числом событий."
   ]
  },
  {
   "cell_type": "code",
   "execution_count": 57,
   "id": "8df482bc",
   "metadata": {
    "colab": {
     "base_uri": "https://localhost:8080/",
     "height": 404
    },
    "executionInfo": {
     "elapsed": 653,
     "status": "ok",
     "timestamp": 1650033981719,
     "user": {
      "displayName": "Vadim Selin",
      "userId": "13742755250186020674"
     },
     "user_tz": -180
    },
    "id": "8df482bc",
    "outputId": "00727346-80d9-46e7-8f8a-369fb592ccd5"
   },
   "outputs": [
    {
     "data": {
      "image/png": "[encoded data removed]",
      "text/plain": [
       "<Figure size 720x432 with 1 Axes>"
      ]
     },
     "metadata": {
      "needs_background": "light"
     },
     "output_type": "display_data"
    }
   ],
   "source": [
    "t.plot(\n",
    "    x='event_date_min', \n",
    "    y='event_date_count', \n",
    "    kind='scatter', \n",
    "    alpha=0.3,\n",
    "    figsize=(10, 6)\n",
    ")\n",
    "plt.title('Сумма событий и дата первого визита самых активных пользователей')\n",
    "plt.ylabel('Сумма событий за весь период лога')\n",
    "plt.xlabel('Дата первого события в логе')\n",
    "plt.show()"
   ]
  },
  {
   "cell_type": "markdown",
   "id": "32bb81f1",
   "metadata": {
    "id": "32bb81f1"
   },
   "source": [
    "Даже для отдельных, наиболее щедрых на события пользователей, актуально утверждение:\n",
    "- кто раньше начал пользоваться приложеним, тот успел больше совершить событий\n",
    "- поэтому считать таковых пользователей аномальными и исключать из кластеризации я не буду"
   ]
  },
  {
   "cell_type": "markdown",
   "id": "b74334a4",
   "metadata": {},
   "source": [
    "<div class=\"alert alert-success\" style=\"border-radius: 15px; box-shadow: 4px 4px 4px; border: 1px solid \" > <b>Комментарии от тимлида ✔️ : </b> \n",
    "\n",
    "Это грамотное решение - посмотреть на активность данных пользователей. Так держать!\n",
    "   \n",
    "</div>"
   ]
  },
  {
   "cell_type": "markdown",
   "id": "1e84ebe8",
   "metadata": {
    "id": "1e84ebe8"
   },
   "source": [
    "# Кластеризация, изучение продуктовых метрик по кластерам."
   ]
  },
  {
   "cell_type": "markdown",
   "id": "f2642196",
   "metadata": {
    "id": "f2642196"
   },
   "source": [
    "## Создам по каждому виду события дополнительный столбец с флагами\n",
    "\n",
    "- для каждого пользователя (1,0 - совершил,не совершил)"
   ]
  },
  {
   "cell_type": "code",
   "execution_count": 58,
   "id": "SRWc39RE85Qk",
   "metadata": {
    "executionInfo": {
     "elapsed": 15,
     "status": "ok",
     "timestamp": 1650033981720,
     "user": {
      "displayName": "Vadim Selin",
      "userId": "13742755250186020674"
     },
     "user_tz": -180
    },
    "id": "SRWc39RE85Qk"
   },
   "outputs": [],
   "source": [
    "flag_t = pd.get_dummies(df['event_name'])"
   ]
  },
  {
   "cell_type": "code",
   "execution_count": 59,
   "id": "C0Iq1NA-9A8D",
   "metadata": {
    "colab": {
     "base_uri": "https://localhost:8080/",
     "height": 423
    },
    "executionInfo": {
     "elapsed": 14,
     "status": "ok",
     "timestamp": 1650033981721,
     "user": {
      "displayName": "Vadim Selin",
      "userId": "13742755250186020674"
     },
     "user_tz": -180
    },
    "id": "C0Iq1NA-9A8D",
    "outputId": "96afc21e-16c1-4ec4-c270-114225d376ec"
   },
   "outputs": [
    {
     "data": {
      "text/html": [
       "<div>\n",
       "<style scoped>\n",
       "    .dataframe tbody tr th:only-of-type {\n",
       "        vertical-align: middle;\n",
       "    }\n",
       "\n",
       "    .dataframe tbody tr th {\n",
       "        vertical-align: top;\n",
       "    }\n",
       "\n",
       "    .dataframe thead th {\n",
       "        text-align: right;\n",
       "    }\n",
       "</style>\n",
       "<table border=\"1\" class=\"dataframe\">\n",
       "  <thead>\n",
       "    <tr style=\"text-align: right;\">\n",
       "      <th></th>\n",
       "      <th>advert_open</th>\n",
       "      <th>contacts_call</th>\n",
       "      <th>contacts_show</th>\n",
       "      <th>favorites_add</th>\n",
       "      <th>map</th>\n",
       "      <th>photos_show</th>\n",
       "      <th>search_action</th>\n",
       "      <th>tips_click</th>\n",
       "      <th>tips_show</th>\n",
       "    </tr>\n",
       "  </thead>\n",
       "  <tbody>\n",
       "    <tr>\n",
       "      <th>0</th>\n",
       "      <td>1</td>\n",
       "      <td>0</td>\n",
       "      <td>0</td>\n",
       "      <td>0</td>\n",
       "      <td>0</td>\n",
       "      <td>0</td>\n",
       "      <td>0</td>\n",
       "      <td>0</td>\n",
       "      <td>0</td>\n",
       "    </tr>\n",
       "    <tr>\n",
       "      <th>1</th>\n",
       "      <td>0</td>\n",
       "      <td>0</td>\n",
       "      <td>0</td>\n",
       "      <td>0</td>\n",
       "      <td>0</td>\n",
       "      <td>0</td>\n",
       "      <td>0</td>\n",
       "      <td>0</td>\n",
       "      <td>1</td>\n",
       "    </tr>\n",
       "    <tr>\n",
       "      <th>2</th>\n",
       "      <td>0</td>\n",
       "      <td>0</td>\n",
       "      <td>0</td>\n",
       "      <td>0</td>\n",
       "      <td>0</td>\n",
       "      <td>0</td>\n",
       "      <td>0</td>\n",
       "      <td>0</td>\n",
       "      <td>1</td>\n",
       "    </tr>\n",
       "    <tr>\n",
       "      <th>3</th>\n",
       "      <td>0</td>\n",
       "      <td>0</td>\n",
       "      <td>0</td>\n",
       "      <td>0</td>\n",
       "      <td>0</td>\n",
       "      <td>0</td>\n",
       "      <td>0</td>\n",
       "      <td>0</td>\n",
       "      <td>1</td>\n",
       "    </tr>\n",
       "    <tr>\n",
       "      <th>4</th>\n",
       "      <td>1</td>\n",
       "      <td>0</td>\n",
       "      <td>0</td>\n",
       "      <td>0</td>\n",
       "      <td>0</td>\n",
       "      <td>0</td>\n",
       "      <td>0</td>\n",
       "      <td>0</td>\n",
       "      <td>0</td>\n",
       "    </tr>\n",
       "    <tr>\n",
       "      <th>...</th>\n",
       "      <td>...</td>\n",
       "      <td>...</td>\n",
       "      <td>...</td>\n",
       "      <td>...</td>\n",
       "      <td>...</td>\n",
       "      <td>...</td>\n",
       "      <td>...</td>\n",
       "      <td>...</td>\n",
       "      <td>...</td>\n",
       "    </tr>\n",
       "    <tr>\n",
       "      <th>74192</th>\n",
       "      <td>0</td>\n",
       "      <td>0</td>\n",
       "      <td>0</td>\n",
       "      <td>0</td>\n",
       "      <td>0</td>\n",
       "      <td>0</td>\n",
       "      <td>0</td>\n",
       "      <td>0</td>\n",
       "      <td>1</td>\n",
       "    </tr>\n",
       "    <tr>\n",
       "      <th>74193</th>\n",
       "      <td>0</td>\n",
       "      <td>0</td>\n",
       "      <td>0</td>\n",
       "      <td>0</td>\n",
       "      <td>0</td>\n",
       "      <td>0</td>\n",
       "      <td>0</td>\n",
       "      <td>0</td>\n",
       "      <td>1</td>\n",
       "    </tr>\n",
       "    <tr>\n",
       "      <th>74194</th>\n",
       "      <td>0</td>\n",
       "      <td>0</td>\n",
       "      <td>0</td>\n",
       "      <td>0</td>\n",
       "      <td>0</td>\n",
       "      <td>0</td>\n",
       "      <td>1</td>\n",
       "      <td>0</td>\n",
       "      <td>0</td>\n",
       "    </tr>\n",
       "    <tr>\n",
       "      <th>74195</th>\n",
       "      <td>0</td>\n",
       "      <td>0</td>\n",
       "      <td>0</td>\n",
       "      <td>0</td>\n",
       "      <td>0</td>\n",
       "      <td>0</td>\n",
       "      <td>0</td>\n",
       "      <td>0</td>\n",
       "      <td>1</td>\n",
       "    </tr>\n",
       "    <tr>\n",
       "      <th>74196</th>\n",
       "      <td>0</td>\n",
       "      <td>0</td>\n",
       "      <td>0</td>\n",
       "      <td>0</td>\n",
       "      <td>0</td>\n",
       "      <td>0</td>\n",
       "      <td>0</td>\n",
       "      <td>0</td>\n",
       "      <td>1</td>\n",
       "    </tr>\n",
       "  </tbody>\n",
       "</table>\n",
       "<p>74197 rows × 9 columns</p>\n",
       "</div>"
      ],
      "text/plain": [
       "       advert_open  contacts_call  contacts_show  favorites_add  map  \\\n",
       "0                1              0              0              0    0   \n",
       "1                0              0              0              0    0   \n",
       "2                0              0              0              0    0   \n",
       "3                0              0              0              0    0   \n",
       "4                1              0              0              0    0   \n",
       "...            ...            ...            ...            ...  ...   \n",
       "74192            0              0              0              0    0   \n",
       "74193            0              0              0              0    0   \n",
       "74194            0              0              0              0    0   \n",
       "74195            0              0              0              0    0   \n",
       "74196            0              0              0              0    0   \n",
       "\n",
       "       photos_show  search_action  tips_click  tips_show  \n",
       "0                0              0           0          0  \n",
       "1                0              0           0          1  \n",
       "2                0              0           0          1  \n",
       "3                0              0           0          1  \n",
       "4                0              0           0          0  \n",
       "...            ...            ...         ...        ...  \n",
       "74192            0              0           0          1  \n",
       "74193            0              0           0          1  \n",
       "74194            0              1           0          0  \n",
       "74195            0              0           0          1  \n",
       "74196            0              0           0          1  \n",
       "\n",
       "[74197 rows x 9 columns]"
      ]
     },
     "execution_count": 59,
     "metadata": {},
     "output_type": "execute_result"
    }
   ],
   "source": [
    "flag_t"
   ]
  },
  {
   "cell_type": "markdown",
   "id": "9Hc1UYWS9Mkl",
   "metadata": {
    "id": "9Hc1UYWS9Mkl"
   },
   "source": [
    "- Получил датафрейм такой же длинны как исходный `df`и с тем же набором индексов\n",
    "- Проверю, что все события остались на месте"
   ]
  },
  {
   "cell_type": "code",
   "execution_count": 60,
   "id": "8a4JhGuu8VcM",
   "metadata": {
    "colab": {
     "base_uri": "https://localhost:8080/"
    },
    "executionInfo": {
     "elapsed": 13,
     "status": "ok",
     "timestamp": 1650033981721,
     "user": {
      "displayName": "Vadim Selin",
      "userId": "13742755250186020674"
     },
     "user_tz": -180
    },
    "id": "8a4JhGuu8VcM",
    "outputId": "d9921304-35c5-4d84-b657-87de5a01b39b"
   },
   "outputs": [
    {
     "data": {
      "text/plain": [
       "tips_show        40055\n",
       "photos_show      10012\n",
       "search_action     6784\n",
       "advert_open       6164\n",
       "contacts_show     4529\n",
       "map               3881\n",
       "favorites_add     1417\n",
       "tips_click         814\n",
       "contacts_call      541\n",
       "dtype: int64"
      ]
     },
     "execution_count": 60,
     "metadata": {},
     "output_type": "execute_result"
    }
   ],
   "source": [
    "flag_t.sum().sort_values(ascending=False)"
   ]
  },
  {
   "cell_type": "code",
   "execution_count": 61,
   "id": "phOfkRJ68rEM",
   "metadata": {
    "colab": {
     "base_uri": "https://localhost:8080/"
    },
    "executionInfo": {
     "elapsed": 10,
     "status": "ok",
     "timestamp": 1650033981722,
     "user": {
      "displayName": "Vadim Selin",
      "userId": "13742755250186020674"
     },
     "user_tz": -180
    },
    "id": "phOfkRJ68rEM",
    "outputId": "aed6fe47-21ee-412c-8f52-b78202f8112d"
   },
   "outputs": [
    {
     "data": {
      "text/plain": [
       "tips_show        40055\n",
       "photos_show      10012\n",
       "search_action     6784\n",
       "advert_open       6164\n",
       "contacts_show     4529\n",
       "map               3881\n",
       "favorites_add     1417\n",
       "tips_click         814\n",
       "contacts_call      541\n",
       "Name: event_name, dtype: int64"
      ]
     },
     "execution_count": 61,
     "metadata": {},
     "output_type": "execute_result"
    }
   ],
   "source": [
    "df['event_name'].value_counts()"
   ]
  },
  {
   "cell_type": "markdown",
   "id": "QfsOnpYD-Ca0",
   "metadata": {
    "id": "QfsOnpYD-Ca0"
   },
   "source": [
    "- Чтобы информация о событии в таблице `flag_t` соответствовала своему пользователю и времени объеденю `df` и `flag_t`\n",
    "- Это же позволит проверить правильность сопоставления конкретного события флагу."
   ]
  },
  {
   "cell_type": "code",
   "execution_count": 62,
   "id": "J-m8SXWw-tYE",
   "metadata": {
    "executionInfo": {
     "elapsed": 7,
     "status": "ok",
     "timestamp": 1650033981722,
     "user": {
      "displayName": "Vadim Selin",
      "userId": "13742755250186020674"
     },
     "user_tz": -180
    },
    "id": "J-m8SXWw-tYE"
   },
   "outputs": [],
   "source": [
    "df = df.merge(flag_t, how='left', left_index=True, right_index=True)"
   ]
  },
  {
   "cell_type": "markdown",
   "id": "b-jXh0J0_a4c",
   "metadata": {
    "id": "b-jXh0J0_a4c"
   },
   "source": [
    "- Проверю случайной выборкой, что флаги соответствуют событиям"
   ]
  },
  {
   "cell_type": "code",
   "execution_count": 63,
   "id": "mTXlcXiG_pCD",
   "metadata": {
    "colab": {
     "base_uri": "https://localhost:8080/",
     "height": 580
    },
    "executionInfo": {
     "elapsed": 550,
     "status": "ok",
     "timestamp": 1650033982265,
     "user": {
      "displayName": "Vadim Selin",
      "userId": "13742755250186020674"
     },
     "user_tz": -180
    },
    "id": "mTXlcXiG_pCD",
    "outputId": "b00343b1-392c-4477-a88d-371bab8229de"
   },
   "outputs": [
    {
     "data": {
      "text/html": [
       "<div>\n",
       "<style scoped>\n",
       "    .dataframe tbody tr th:only-of-type {\n",
       "        vertical-align: middle;\n",
       "    }\n",
       "\n",
       "    .dataframe tbody tr th {\n",
       "        vertical-align: top;\n",
       "    }\n",
       "\n",
       "    .dataframe thead th {\n",
       "        text-align: right;\n",
       "    }\n",
       "</style>\n",
       "<table border=\"1\" class=\"dataframe\">\n",
       "  <thead>\n",
       "    <tr style=\"text-align: right;\">\n",
       "      <th></th>\n",
       "      <th>event_time</th>\n",
       "      <th>event_name</th>\n",
       "      <th>user_id</th>\n",
       "      <th>source</th>\n",
       "      <th>event_date</th>\n",
       "      <th>event_week</th>\n",
       "      <th>advert_open</th>\n",
       "      <th>contacts_call</th>\n",
       "      <th>contacts_show</th>\n",
       "      <th>favorites_add</th>\n",
       "      <th>map</th>\n",
       "      <th>photos_show</th>\n",
       "      <th>search_action</th>\n",
       "      <th>tips_click</th>\n",
       "      <th>tips_show</th>\n",
       "    </tr>\n",
       "  </thead>\n",
       "  <tbody>\n",
       "    <tr>\n",
       "      <th>71890</th>\n",
       "      <td>2019-11-03 12:27:22.786513</td>\n",
       "      <td>photos_show</td>\n",
       "      <td>f44e494a-ebb9-4c50-9e6d-7f06fa763cdc</td>\n",
       "      <td>yandex</td>\n",
       "      <td>2019-11-03</td>\n",
       "      <td>44</td>\n",
       "      <td>0</td>\n",
       "      <td>0</td>\n",
       "      <td>0</td>\n",
       "      <td>0</td>\n",
       "      <td>0</td>\n",
       "      <td>1</td>\n",
       "      <td>0</td>\n",
       "      <td>0</td>\n",
       "      <td>0</td>\n",
       "    </tr>\n",
       "    <tr>\n",
       "      <th>331</th>\n",
       "      <td>2019-10-07 10:22:07.869935</td>\n",
       "      <td>tips_show</td>\n",
       "      <td>1a3361d1-2002-4389-a669-ecb06ea7a90a</td>\n",
       "      <td>yandex</td>\n",
       "      <td>2019-10-07</td>\n",
       "      <td>41</td>\n",
       "      <td>0</td>\n",
       "      <td>0</td>\n",
       "      <td>0</td>\n",
       "      <td>0</td>\n",
       "      <td>0</td>\n",
       "      <td>0</td>\n",
       "      <td>0</td>\n",
       "      <td>0</td>\n",
       "      <td>1</td>\n",
       "    </tr>\n",
       "    <tr>\n",
       "      <th>48908</th>\n",
       "      <td>2019-10-26 02:56:49.569447</td>\n",
       "      <td>advert_open</td>\n",
       "      <td>7af68b4f-6ffe-41f6-ac1f-cc32731d4f88</td>\n",
       "      <td>other</td>\n",
       "      <td>2019-10-26</td>\n",
       "      <td>43</td>\n",
       "      <td>1</td>\n",
       "      <td>0</td>\n",
       "      <td>0</td>\n",
       "      <td>0</td>\n",
       "      <td>0</td>\n",
       "      <td>0</td>\n",
       "      <td>0</td>\n",
       "      <td>0</td>\n",
       "      <td>0</td>\n",
       "    </tr>\n",
       "    <tr>\n",
       "      <th>10299</th>\n",
       "      <td>2019-10-11 14:55:55.678968</td>\n",
       "      <td>tips_show</td>\n",
       "      <td>cfd9b735-0bc2-448d-8d54-0019db8748a3</td>\n",
       "      <td>yandex</td>\n",
       "      <td>2019-10-11</td>\n",
       "      <td>41</td>\n",
       "      <td>0</td>\n",
       "      <td>0</td>\n",
       "      <td>0</td>\n",
       "      <td>0</td>\n",
       "      <td>0</td>\n",
       "      <td>0</td>\n",
       "      <td>0</td>\n",
       "      <td>0</td>\n",
       "      <td>1</td>\n",
       "    </tr>\n",
       "    <tr>\n",
       "      <th>55006</th>\n",
       "      <td>2019-10-28 08:49:25.580550</td>\n",
       "      <td>map</td>\n",
       "      <td>6b97233c-c894-4926-a708-115518f0822c</td>\n",
       "      <td>yandex</td>\n",
       "      <td>2019-10-28</td>\n",
       "      <td>44</td>\n",
       "      <td>0</td>\n",
       "      <td>0</td>\n",
       "      <td>0</td>\n",
       "      <td>0</td>\n",
       "      <td>1</td>\n",
       "      <td>0</td>\n",
       "      <td>0</td>\n",
       "      <td>0</td>\n",
       "      <td>0</td>\n",
       "    </tr>\n",
       "    <tr>\n",
       "      <th>65106</th>\n",
       "      <td>2019-10-31 13:27:02.579297</td>\n",
       "      <td>tips_show</td>\n",
       "      <td>c53af9bf-61b3-4eaa-9b3e-64f79bb65e55</td>\n",
       "      <td>other</td>\n",
       "      <td>2019-10-31</td>\n",
       "      <td>44</td>\n",
       "      <td>0</td>\n",
       "      <td>0</td>\n",
       "      <td>0</td>\n",
       "      <td>0</td>\n",
       "      <td>0</td>\n",
       "      <td>0</td>\n",
       "      <td>0</td>\n",
       "      <td>0</td>\n",
       "      <td>1</td>\n",
       "    </tr>\n",
       "    <tr>\n",
       "      <th>28502</th>\n",
       "      <td>2019-10-18 15:55:10.732524</td>\n",
       "      <td>tips_show</td>\n",
       "      <td>b65e5c0a-9d16-4ae8-b56e-0832821c0265</td>\n",
       "      <td>yandex</td>\n",
       "      <td>2019-10-18</td>\n",
       "      <td>42</td>\n",
       "      <td>0</td>\n",
       "      <td>0</td>\n",
       "      <td>0</td>\n",
       "      <td>0</td>\n",
       "      <td>0</td>\n",
       "      <td>0</td>\n",
       "      <td>0</td>\n",
       "      <td>0</td>\n",
       "      <td>1</td>\n",
       "    </tr>\n",
       "    <tr>\n",
       "      <th>31536</th>\n",
       "      <td>2019-10-19 21:00:01.674727</td>\n",
       "      <td>photos_show</td>\n",
       "      <td>cea32a6f-3d5f-4e8a-a09b-e4a1915a0d92</td>\n",
       "      <td>other</td>\n",
       "      <td>2019-10-19</td>\n",
       "      <td>42</td>\n",
       "      <td>0</td>\n",
       "      <td>0</td>\n",
       "      <td>0</td>\n",
       "      <td>0</td>\n",
       "      <td>0</td>\n",
       "      <td>1</td>\n",
       "      <td>0</td>\n",
       "      <td>0</td>\n",
       "      <td>0</td>\n",
       "    </tr>\n",
       "    <tr>\n",
       "      <th>71700</th>\n",
       "      <td>2019-11-03 10:42:04.726882</td>\n",
       "      <td>tips_show</td>\n",
       "      <td>d581f667-9b01-4f19-a29f-4d5636533d77</td>\n",
       "      <td>google</td>\n",
       "      <td>2019-11-03</td>\n",
       "      <td>44</td>\n",
       "      <td>0</td>\n",
       "      <td>0</td>\n",
       "      <td>0</td>\n",
       "      <td>0</td>\n",
       "      <td>0</td>\n",
       "      <td>0</td>\n",
       "      <td>0</td>\n",
       "      <td>0</td>\n",
       "      <td>1</td>\n",
       "    </tr>\n",
       "    <tr>\n",
       "      <th>17595</th>\n",
       "      <td>2019-10-14 16:25:38.371576</td>\n",
       "      <td>tips_show</td>\n",
       "      <td>26e46040-b175-4e7f-8359-509022388ebb</td>\n",
       "      <td>other</td>\n",
       "      <td>2019-10-14</td>\n",
       "      <td>42</td>\n",
       "      <td>0</td>\n",
       "      <td>0</td>\n",
       "      <td>0</td>\n",
       "      <td>0</td>\n",
       "      <td>0</td>\n",
       "      <td>0</td>\n",
       "      <td>0</td>\n",
       "      <td>0</td>\n",
       "      <td>1</td>\n",
       "    </tr>\n",
       "  </tbody>\n",
       "</table>\n",
       "</div>"
      ],
      "text/plain": [
       "                      event_time   event_name  \\\n",
       "71890 2019-11-03 12:27:22.786513  photos_show   \n",
       "331   2019-10-07 10:22:07.869935    tips_show   \n",
       "48908 2019-10-26 02:56:49.569447  advert_open   \n",
       "10299 2019-10-11 14:55:55.678968    tips_show   \n",
       "55006 2019-10-28 08:49:25.580550          map   \n",
       "65106 2019-10-31 13:27:02.579297    tips_show   \n",
       "28502 2019-10-18 15:55:10.732524    tips_show   \n",
       "31536 2019-10-19 21:00:01.674727  photos_show   \n",
       "71700 2019-11-03 10:42:04.726882    tips_show   \n",
       "17595 2019-10-14 16:25:38.371576    tips_show   \n",
       "\n",
       "                                    user_id  source event_date  event_week  \\\n",
       "71890  f44e494a-ebb9-4c50-9e6d-7f06fa763cdc  yandex 2019-11-03          44   \n",
       "331    1a3361d1-2002-4389-a669-ecb06ea7a90a  yandex 2019-10-07          41   \n",
       "48908  7af68b4f-6ffe-41f6-ac1f-cc32731d4f88   other 2019-10-26          43   \n",
       "10299  cfd9b735-0bc2-448d-8d54-0019db8748a3  yandex 2019-10-11          41   \n",
       "55006  6b97233c-c894-4926-a708-115518f0822c  yandex 2019-10-28          44   \n",
       "65106  c53af9bf-61b3-4eaa-9b3e-64f79bb65e55   other 2019-10-31          44   \n",
       "28502  b65e5c0a-9d16-4ae8-b56e-0832821c0265  yandex 2019-10-18          42   \n",
       "31536  cea32a6f-3d5f-4e8a-a09b-e4a1915a0d92   other 2019-10-19          42   \n",
       "71700  d581f667-9b01-4f19-a29f-4d5636533d77  google 2019-11-03          44   \n",
       "17595  26e46040-b175-4e7f-8359-509022388ebb   other 2019-10-14          42   \n",
       "\n",
       "       advert_open  contacts_call  contacts_show  favorites_add  map  \\\n",
       "71890            0              0              0              0    0   \n",
       "331              0              0              0              0    0   \n",
       "48908            1              0              0              0    0   \n",
       "10299            0              0              0              0    0   \n",
       "55006            0              0              0              0    1   \n",
       "65106            0              0              0              0    0   \n",
       "28502            0              0              0              0    0   \n",
       "31536            0              0              0              0    0   \n",
       "71700            0              0              0              0    0   \n",
       "17595            0              0              0              0    0   \n",
       "\n",
       "       photos_show  search_action  tips_click  tips_show  \n",
       "71890            1              0           0          0  \n",
       "331              0              0           0          1  \n",
       "48908            0              0           0          0  \n",
       "10299            0              0           0          1  \n",
       "55006            0              0           0          0  \n",
       "65106            0              0           0          1  \n",
       "28502            0              0           0          1  \n",
       "31536            1              0           0          0  \n",
       "71700            0              0           0          1  \n",
       "17595            0              0           0          1  "
      ]
     },
     "execution_count": 63,
     "metadata": {},
     "output_type": "execute_result"
    }
   ],
   "source": [
    "df.sample(10, random_state=5)"
   ]
  },
  {
   "cell_type": "code",
   "execution_count": 64,
   "id": "pXPYLDn6ASmc",
   "metadata": {
    "colab": {
     "base_uri": "https://localhost:8080/"
    },
    "executionInfo": {
     "elapsed": 10,
     "status": "ok",
     "timestamp": 1650033982266,
     "user": {
      "displayName": "Vadim Selin",
      "userId": "13742755250186020674"
     },
     "user_tz": -180
    },
    "id": "pXPYLDn6ASmc",
    "outputId": "99b1d25e-6237-44f2-c9a9-3dc399b4c02e"
   },
   "outputs": [
    {
     "data": {
      "text/plain": [
       "event_time       0.0\n",
       "event_name       0.0\n",
       "user_id          0.0\n",
       "source           0.0\n",
       "event_date       0.0\n",
       "event_week       0.0\n",
       "advert_open      0.0\n",
       "contacts_call    0.0\n",
       "contacts_show    0.0\n",
       "favorites_add    0.0\n",
       "map              0.0\n",
       "photos_show      0.0\n",
       "search_action    0.0\n",
       "tips_click       0.0\n",
       "tips_show        0.0\n",
       "dtype: float64"
      ]
     },
     "execution_count": 64,
     "metadata": {},
     "output_type": "execute_result"
    }
   ],
   "source": [
    "df.isna().mean()"
   ]
  },
  {
   "cell_type": "markdown",
   "id": "siXr894vCta9",
   "metadata": {
    "id": "siXr894vCta9"
   },
   "source": [
    "- События соответствуют, пропусков не получил после объединения\n",
    "- Можно проводить кластеризацию"
   ]
  },
  {
   "cell_type": "markdown",
   "id": "0f44a4cb",
   "metadata": {
    "id": "0f44a4cb"
   },
   "source": [
    "## Провести кластеризацию пользователей по матрице основных параметров"
   ]
  },
  {
   "cell_type": "markdown",
   "id": "a2579cf3",
   "metadata": {
    "id": "a2579cf3"
   },
   "source": [
    "- Создам матрицу признаков для кластеризации:\n",
    "    - оставлю от исходного датафрейма только столбцы с `user_id` и полями с флагами событий по каждому событию и пользователю\n",
    "    - сгруппирую данные по `user_id` и вычислю среднее. В случае с флагами получу по каждому признаку для каждого пользователя долю всех совершённых им событий. То есть если пользователь всего совершил 100 событий в целом, 80 из них `tips_show`, то значения поля `tips_show` будет `0.8`\n",
    "    - выбрано именно среднее а не сумма, потому что масштаб числовых значений будет меньше, что положительно скажется на стандартизации датасета"
   ]
  },
  {
   "cell_type": "markdown",
   "id": "16ee6964",
   "metadata": {},
   "source": [
    "<div class=\"alert alert-success\" style=\"border-radius: 15px; box-shadow: 4px 4px 4px; border: 1px solid \" > <b>Комментарии от тимлида ✔️ : </b> \n",
    "\n",
    "Всё верно\n",
    "   \n",
    "</div>"
   ]
  },
  {
   "cell_type": "code",
   "execution_count": 65,
   "id": "I3PedbkMBP52",
   "metadata": {
    "executionInfo": {
     "elapsed": 7,
     "status": "ok",
     "timestamp": 1650033982267,
     "user": {
      "displayName": "Vadim Selin",
      "userId": "13742755250186020674"
     },
     "user_tz": -180
    },
    "id": "I3PedbkMBP52"
   },
   "outputs": [],
   "source": [
    "t = df[['user_id', 'advert_open', 'contacts_call', 'contacts_show',\n",
    "       'favorites_add', 'map', 'photos_show', 'search_action', 'tips_click',\n",
    "       'tips_show']].groupby('user_id').mean()"
   ]
  },
  {
   "cell_type": "code",
   "execution_count": 66,
   "id": "kjGxQBOIB6ne",
   "metadata": {
    "colab": {
     "base_uri": "https://localhost:8080/",
     "height": 454
    },
    "executionInfo": {
     "elapsed": 7,
     "status": "ok",
     "timestamp": 1650033982267,
     "user": {
      "displayName": "Vadim Selin",
      "userId": "13742755250186020674"
     },
     "user_tz": -180
    },
    "id": "kjGxQBOIB6ne",
    "outputId": "b141f6fd-1f87-49c5-e62f-374b69569b9d"
   },
   "outputs": [
    {
     "data": {
      "text/html": [
       "<div>\n",
       "<style scoped>\n",
       "    .dataframe tbody tr th:only-of-type {\n",
       "        vertical-align: middle;\n",
       "    }\n",
       "\n",
       "    .dataframe tbody tr th {\n",
       "        vertical-align: top;\n",
       "    }\n",
       "\n",
       "    .dataframe thead th {\n",
       "        text-align: right;\n",
       "    }\n",
       "</style>\n",
       "<table border=\"1\" class=\"dataframe\">\n",
       "  <thead>\n",
       "    <tr style=\"text-align: right;\">\n",
       "      <th></th>\n",
       "      <th>advert_open</th>\n",
       "      <th>contacts_call</th>\n",
       "      <th>contacts_show</th>\n",
       "      <th>favorites_add</th>\n",
       "      <th>map</th>\n",
       "      <th>photos_show</th>\n",
       "      <th>search_action</th>\n",
       "      <th>tips_click</th>\n",
       "      <th>tips_show</th>\n",
       "    </tr>\n",
       "    <tr>\n",
       "      <th>user_id</th>\n",
       "      <th></th>\n",
       "      <th></th>\n",
       "      <th></th>\n",
       "      <th></th>\n",
       "      <th></th>\n",
       "      <th></th>\n",
       "      <th></th>\n",
       "      <th></th>\n",
       "      <th></th>\n",
       "    </tr>\n",
       "  </thead>\n",
       "  <tbody>\n",
       "    <tr>\n",
       "      <th>0001b1d5-b74a-4cbf-aeb0-7df5947bf349</th>\n",
       "      <td>0.000000</td>\n",
       "      <td>0.000000</td>\n",
       "      <td>0.000000</td>\n",
       "      <td>0.000000</td>\n",
       "      <td>0.171429</td>\n",
       "      <td>0.000000</td>\n",
       "      <td>0.000000</td>\n",
       "      <td>0.0</td>\n",
       "      <td>0.828571</td>\n",
       "    </tr>\n",
       "    <tr>\n",
       "      <th>00157779-810c-4498-9e05-a1e9e3cedf93</th>\n",
       "      <td>0.028169</td>\n",
       "      <td>0.070423</td>\n",
       "      <td>0.154930</td>\n",
       "      <td>0.028169</td>\n",
       "      <td>0.000000</td>\n",
       "      <td>0.464789</td>\n",
       "      <td>0.253521</td>\n",
       "      <td>0.0</td>\n",
       "      <td>0.000000</td>\n",
       "    </tr>\n",
       "    <tr>\n",
       "      <th>00463033-5717-4bf1-91b4-09183923b9df</th>\n",
       "      <td>0.000000</td>\n",
       "      <td>0.000000</td>\n",
       "      <td>0.000000</td>\n",
       "      <td>0.000000</td>\n",
       "      <td>0.000000</td>\n",
       "      <td>1.000000</td>\n",
       "      <td>0.000000</td>\n",
       "      <td>0.0</td>\n",
       "      <td>0.000000</td>\n",
       "    </tr>\n",
       "    <tr>\n",
       "      <th>004690c3-5a84-4bb7-a8af-e0c8f8fca64e</th>\n",
       "      <td>0.156250</td>\n",
       "      <td>0.000000</td>\n",
       "      <td>0.000000</td>\n",
       "      <td>0.000000</td>\n",
       "      <td>0.187500</td>\n",
       "      <td>0.000000</td>\n",
       "      <td>0.531250</td>\n",
       "      <td>0.0</td>\n",
       "      <td>0.125000</td>\n",
       "    </tr>\n",
       "    <tr>\n",
       "      <th>00551e79-152e-4441-9cf7-565d7eb04090</th>\n",
       "      <td>0.000000</td>\n",
       "      <td>0.375000</td>\n",
       "      <td>0.375000</td>\n",
       "      <td>0.000000</td>\n",
       "      <td>0.000000</td>\n",
       "      <td>0.125000</td>\n",
       "      <td>0.125000</td>\n",
       "      <td>0.0</td>\n",
       "      <td>0.000000</td>\n",
       "    </tr>\n",
       "    <tr>\n",
       "      <th>...</th>\n",
       "      <td>...</td>\n",
       "      <td>...</td>\n",
       "      <td>...</td>\n",
       "      <td>...</td>\n",
       "      <td>...</td>\n",
       "      <td>...</td>\n",
       "      <td>...</td>\n",
       "      <td>...</td>\n",
       "      <td>...</td>\n",
       "    </tr>\n",
       "    <tr>\n",
       "      <th>ffab8d8a-30bb-424a-a3ab-0b63ebbf7b07</th>\n",
       "      <td>0.000000</td>\n",
       "      <td>0.000000</td>\n",
       "      <td>0.000000</td>\n",
       "      <td>0.000000</td>\n",
       "      <td>0.117647</td>\n",
       "      <td>0.000000</td>\n",
       "      <td>0.000000</td>\n",
       "      <td>0.0</td>\n",
       "      <td>0.882353</td>\n",
       "    </tr>\n",
       "    <tr>\n",
       "      <th>ffc01466-fdb1-4460-ae94-e800f52eb136</th>\n",
       "      <td>0.000000</td>\n",
       "      <td>0.000000</td>\n",
       "      <td>0.142857</td>\n",
       "      <td>0.000000</td>\n",
       "      <td>0.000000</td>\n",
       "      <td>0.857143</td>\n",
       "      <td>0.000000</td>\n",
       "      <td>0.0</td>\n",
       "      <td>0.000000</td>\n",
       "    </tr>\n",
       "    <tr>\n",
       "      <th>ffcf50d9-293c-4254-8243-4890b030b238</th>\n",
       "      <td>0.000000</td>\n",
       "      <td>0.000000</td>\n",
       "      <td>0.000000</td>\n",
       "      <td>0.000000</td>\n",
       "      <td>0.500000</td>\n",
       "      <td>0.000000</td>\n",
       "      <td>0.000000</td>\n",
       "      <td>0.0</td>\n",
       "      <td>0.500000</td>\n",
       "    </tr>\n",
       "    <tr>\n",
       "      <th>ffe68f10-e48e-470e-be9b-eeb93128ff1a</th>\n",
       "      <td>0.000000</td>\n",
       "      <td>0.000000</td>\n",
       "      <td>0.076923</td>\n",
       "      <td>0.000000</td>\n",
       "      <td>0.000000</td>\n",
       "      <td>0.538462</td>\n",
       "      <td>0.384615</td>\n",
       "      <td>0.0</td>\n",
       "      <td>0.000000</td>\n",
       "    </tr>\n",
       "    <tr>\n",
       "      <th>fffb9e79-b927-4dbb-9b48-7fd09b23a62b</th>\n",
       "      <td>0.000000</td>\n",
       "      <td>0.000000</td>\n",
       "      <td>0.224422</td>\n",
       "      <td>0.000000</td>\n",
       "      <td>0.006601</td>\n",
       "      <td>0.000000</td>\n",
       "      <td>0.000000</td>\n",
       "      <td>0.0</td>\n",
       "      <td>0.768977</td>\n",
       "    </tr>\n",
       "  </tbody>\n",
       "</table>\n",
       "<p>4293 rows × 9 columns</p>\n",
       "</div>"
      ],
      "text/plain": [
       "                                      advert_open  contacts_call  \\\n",
       "user_id                                                            \n",
       "0001b1d5-b74a-4cbf-aeb0-7df5947bf349     0.000000       0.000000   \n",
       "00157779-810c-4498-9e05-a1e9e3cedf93     0.028169       0.070423   \n",
       "00463033-5717-4bf1-91b4-09183923b9df     0.000000       0.000000   \n",
       "004690c3-5a84-4bb7-a8af-e0c8f8fca64e     0.156250       0.000000   \n",
       "00551e79-152e-4441-9cf7-565d7eb04090     0.000000       0.375000   \n",
       "...                                           ...            ...   \n",
       "ffab8d8a-30bb-424a-a3ab-0b63ebbf7b07     0.000000       0.000000   \n",
       "ffc01466-fdb1-4460-ae94-e800f52eb136     0.000000       0.000000   \n",
       "ffcf50d9-293c-4254-8243-4890b030b238     0.000000       0.000000   \n",
       "ffe68f10-e48e-470e-be9b-eeb93128ff1a     0.000000       0.000000   \n",
       "fffb9e79-b927-4dbb-9b48-7fd09b23a62b     0.000000       0.000000   \n",
       "\n",
       "                                      contacts_show  favorites_add       map  \\\n",
       "user_id                                                                        \n",
       "0001b1d5-b74a-4cbf-aeb0-7df5947bf349       0.000000       0.000000  0.171429   \n",
       "00157779-810c-4498-9e05-a1e9e3cedf93       0.154930       0.028169  0.000000   \n",
       "00463033-5717-4bf1-91b4-09183923b9df       0.000000       0.000000  0.000000   \n",
       "004690c3-5a84-4bb7-a8af-e0c8f8fca64e       0.000000       0.000000  0.187500   \n",
       "00551e79-152e-4441-9cf7-565d7eb04090       0.375000       0.000000  0.000000   \n",
       "...                                             ...            ...       ...   \n",
       "ffab8d8a-30bb-424a-a3ab-0b63ebbf7b07       0.000000       0.000000  0.117647   \n",
       "ffc01466-fdb1-4460-ae94-e800f52eb136       0.142857       0.000000  0.000000   \n",
       "ffcf50d9-293c-4254-8243-4890b030b238       0.000000       0.000000  0.500000   \n",
       "ffe68f10-e48e-470e-be9b-eeb93128ff1a       0.076923       0.000000  0.000000   \n",
       "fffb9e79-b927-4dbb-9b48-7fd09b23a62b       0.224422       0.000000  0.006601   \n",
       "\n",
       "                                      photos_show  search_action  tips_click  \\\n",
       "user_id                                                                        \n",
       "0001b1d5-b74a-4cbf-aeb0-7df5947bf349     0.000000       0.000000         0.0   \n",
       "00157779-810c-4498-9e05-a1e9e3cedf93     0.464789       0.253521         0.0   \n",
       "00463033-5717-4bf1-91b4-09183923b9df     1.000000       0.000000         0.0   \n",
       "004690c3-5a84-4bb7-a8af-e0c8f8fca64e     0.000000       0.531250         0.0   \n",
       "00551e79-152e-4441-9cf7-565d7eb04090     0.125000       0.125000         0.0   \n",
       "...                                           ...            ...         ...   \n",
       "ffab8d8a-30bb-424a-a3ab-0b63ebbf7b07     0.000000       0.000000         0.0   \n",
       "ffc01466-fdb1-4460-ae94-e800f52eb136     0.857143       0.000000         0.0   \n",
       "ffcf50d9-293c-4254-8243-4890b030b238     0.000000       0.000000         0.0   \n",
       "ffe68f10-e48e-470e-be9b-eeb93128ff1a     0.538462       0.384615         0.0   \n",
       "fffb9e79-b927-4dbb-9b48-7fd09b23a62b     0.000000       0.000000         0.0   \n",
       "\n",
       "                                      tips_show  \n",
       "user_id                                          \n",
       "0001b1d5-b74a-4cbf-aeb0-7df5947bf349   0.828571  \n",
       "00157779-810c-4498-9e05-a1e9e3cedf93   0.000000  \n",
       "00463033-5717-4bf1-91b4-09183923b9df   0.000000  \n",
       "004690c3-5a84-4bb7-a8af-e0c8f8fca64e   0.125000  \n",
       "00551e79-152e-4441-9cf7-565d7eb04090   0.000000  \n",
       "...                                         ...  \n",
       "ffab8d8a-30bb-424a-a3ab-0b63ebbf7b07   0.882353  \n",
       "ffc01466-fdb1-4460-ae94-e800f52eb136   0.000000  \n",
       "ffcf50d9-293c-4254-8243-4890b030b238   0.500000  \n",
       "ffe68f10-e48e-470e-be9b-eeb93128ff1a   0.000000  \n",
       "fffb9e79-b927-4dbb-9b48-7fd09b23a62b   0.768977  \n",
       "\n",
       "[4293 rows x 9 columns]"
      ]
     },
     "execution_count": 66,
     "metadata": {},
     "output_type": "execute_result"
    }
   ],
   "source": [
    "t"
   ]
  },
  {
   "cell_type": "markdown",
   "id": "e7a1bf0e",
   "metadata": {
    "executionInfo": {
     "elapsed": 269,
     "status": "ok",
     "timestamp": 1649422371124,
     "user": {
      "displayName": "Vadim Selin",
      "userId": "13742755250186020674"
     },
     "user_tz": -180
    },
    "id": "e7a1bf0e"
   },
   "source": [
    "- Проведу обязательную для используемых алгоритмов стандартизацию данных"
   ]
  },
  {
   "cell_type": "markdown",
   "id": "b6b6fdc3",
   "metadata": {},
   "source": [
    "<div class=\"alert alert-success\" style=\"border-radius: 15px; box-shadow: 4px 4px 4px; border: 1px solid \" > <b>Комментарии от тимлида ✔️ : </b> \n",
    "\n",
    "Здорово, что не забыл данный пункт\n",
    "   \n",
    "</div>"
   ]
  },
  {
   "cell_type": "code",
   "execution_count": 67,
   "id": "-XMANzvMbDV-",
   "metadata": {
    "executionInfo": {
     "elapsed": 6,
     "status": "ok",
     "timestamp": 1650033982267,
     "user": {
      "displayName": "Vadim Selin",
      "userId": "13742755250186020674"
     },
     "user_tz": -180
    },
    "id": "-XMANzvMbDV-"
   },
   "outputs": [],
   "source": [
    "sc = StandardScaler()"
   ]
  },
  {
   "cell_type": "code",
   "execution_count": 68,
   "id": "iqZKxxOFbDV-",
   "metadata": {
    "executionInfo": {
     "elapsed": 7,
     "status": "ok",
     "timestamp": 1650033982268,
     "user": {
      "displayName": "Vadim Selin",
      "userId": "13742755250186020674"
     },
     "user_tz": -180
    },
    "id": "iqZKxxOFbDV-"
   },
   "outputs": [],
   "source": [
    "t_sc = sc.fit_transform(t)"
   ]
  },
  {
   "cell_type": "markdown",
   "id": "4MlVmQ7fbDV-",
   "metadata": {
    "id": "4MlVmQ7fbDV-"
   },
   "source": [
    "- Построю матрицу расстояний перед построением дендрограммы"
   ]
  },
  {
   "cell_type": "code",
   "execution_count": 69,
   "id": "-UbStOSSbDV-",
   "metadata": {
    "executionInfo": {
     "elapsed": 1746,
     "status": "ok",
     "timestamp": 1650033984007,
     "user": {
      "displayName": "Vadim Selin",
      "userId": "13742755250186020674"
     },
     "user_tz": -180
    },
    "id": "-UbStOSSbDV-"
   },
   "outputs": [],
   "source": [
    "linked = linkage(t_sc, method = 'ward')"
   ]
  },
  {
   "cell_type": "markdown",
   "id": "O6f4My4RbDV-",
   "metadata": {
    "id": "O6f4My4RbDV-"
   },
   "source": [
    "- Строим дендрограмму "
   ]
  },
  {
   "cell_type": "code",
   "execution_count": 70,
   "id": "hdzhCsGobDV-",
   "metadata": {
    "executionInfo": {
     "elapsed": 3,
     "status": "ok",
     "timestamp": 1650033984007,
     "user": {
      "displayName": "Vadim Selin",
      "userId": "13742755250186020674"
     },
     "user_tz": -180
    },
    "id": "hdzhCsGobDV-"
   },
   "outputs": [],
   "source": [
    "#plt.figure(figsize=(15, 10))  \n",
    "#dendrogram(linked, orientation='top')\n",
    "#plt.show()"
   ]
  },
  {
   "cell_type": "markdown",
   "id": "f4fac2ba",
   "metadata": {
    "id": "f4fac2ba"
   },
   "source": [
    "- Результатом агломеративной иерархической кластеризации стали 5 сегментов пользователей\n",
    "- Применю алгоритм k-means с числом кластеров 5, чтобы получить вектор кластеров"
   ]
  },
  {
   "cell_type": "code",
   "execution_count": 71,
   "id": "L69q41pCbDV-",
   "metadata": {
    "executionInfo": {
     "elapsed": 2,
     "status": "ok",
     "timestamp": 1650033984007,
     "user": {
      "displayName": "Vadim Selin",
      "userId": "13742755250186020674"
     },
     "user_tz": -180
    },
    "id": "L69q41pCbDV-"
   },
   "outputs": [],
   "source": [
    "km = KMeans(n_clusters = 5, random_state=0)"
   ]
  },
  {
   "cell_type": "code",
   "execution_count": 72,
   "id": "IieZvDFRbDV-",
   "metadata": {
    "executionInfo": {
     "elapsed": 668,
     "status": "ok",
     "timestamp": 1650033984673,
     "user": {
      "displayName": "Vadim Selin",
      "userId": "13742755250186020674"
     },
     "user_tz": -180
    },
    "id": "IieZvDFRbDV-"
   },
   "outputs": [],
   "source": [
    "labels = km.fit_predict(t_sc)"
   ]
  },
  {
   "cell_type": "code",
   "execution_count": 73,
   "id": "mYlLRhRWbDV_",
   "metadata": {
    "executionInfo": {
     "elapsed": 9,
     "status": "ok",
     "timestamp": 1650033984673,
     "user": {
      "displayName": "Vadim Selin",
      "userId": "13742755250186020674"
     },
     "user_tz": -180
    },
    "id": "mYlLRhRWbDV_"
   },
   "outputs": [],
   "source": [
    "t['cluster_km'] = labels"
   ]
  },
  {
   "cell_type": "code",
   "execution_count": 74,
   "id": "qrbyI7NbJkwu",
   "metadata": {
    "executionInfo": {
     "elapsed": 7,
     "status": "ok",
     "timestamp": 1650033984673,
     "user": {
      "displayName": "Vadim Selin",
      "userId": "13742755250186020674"
     },
     "user_tz": -180
    },
    "id": "qrbyI7NbJkwu"
   },
   "outputs": [],
   "source": [
    "t = t.reset_index()"
   ]
  },
  {
   "cell_type": "code",
   "execution_count": 75,
   "id": "cTClfnvGO2M3",
   "metadata": {
    "colab": {
     "base_uri": "https://localhost:8080/"
    },
    "executionInfo": {
     "elapsed": 7,
     "status": "ok",
     "timestamp": 1650033984673,
     "user": {
      "displayName": "Vadim Selin",
      "userId": "13742755250186020674"
     },
     "user_tz": -180
    },
    "id": "cTClfnvGO2M3",
    "outputId": "e107d3cc-1164-4156-832a-f0ef21d5ce3c"
   },
   "outputs": [
    {
     "data": {
      "text/plain": [
       "1    2113\n",
       "0     703\n",
       "2     634\n",
       "3     627\n",
       "4     216\n",
       "Name: cluster_km, dtype: int64"
      ]
     },
     "execution_count": 75,
     "metadata": {},
     "output_type": "execute_result"
    }
   ],
   "source": [
    "t['cluster_km'].value_counts()"
   ]
  },
  {
   "cell_type": "markdown",
   "id": "b5e056e0",
   "metadata": {
    "id": "b5e056e0"
   },
   "source": [
    "- Сегменты пользователей получились неодинаковыми по размеру, но этого никто и не обещал\n",
    "- Более того, в реальной жизни чаще всё неоднородно\n",
    "- В ходе сравнения метрик выясню, есть-ли различия именно между 5 сегментами или их может быть меньше\n",
    "\n",
    "---\n",
    "\n",
    "Оставлю от таблыцы `t` только поля `user_id` и `cluster_km`, чтобы присоединить их к исходному датафрейму `df`"
   ]
  },
  {
   "cell_type": "code",
   "execution_count": 76,
   "id": "EE9Y6G2-PbPn",
   "metadata": {
    "executionInfo": {
     "elapsed": 7,
     "status": "ok",
     "timestamp": 1650033984674,
     "user": {
      "displayName": "Vadim Selin",
      "userId": "13742755250186020674"
     },
     "user_tz": -180
    },
    "id": "EE9Y6G2-PbPn"
   },
   "outputs": [],
   "source": [
    "t = t[['user_id', 'cluster_km']]"
   ]
  },
  {
   "cell_type": "code",
   "execution_count": 77,
   "id": "ZwCJL7g7P7OP",
   "metadata": {
    "executionInfo": {
     "elapsed": 7,
     "status": "ok",
     "timestamp": 1650033984674,
     "user": {
      "displayName": "Vadim Selin",
      "userId": "13742755250186020674"
     },
     "user_tz": -180
    },
    "id": "ZwCJL7g7P7OP"
   },
   "outputs": [],
   "source": [
    "# отброшу бинарные столбцы признаков за ненадобностью\n",
    "df = df[['event_time', 'event_name', 'user_id', 'source', 'event_date',\n",
    "       'event_week']]"
   ]
  },
  {
   "cell_type": "code",
   "execution_count": 78,
   "id": "WOG96YFnP7d-",
   "metadata": {
    "executionInfo": {
     "elapsed": 7,
     "status": "ok",
     "timestamp": 1650033984674,
     "user": {
      "displayName": "Vadim Selin",
      "userId": "13742755250186020674"
     },
     "user_tz": -180
    },
    "id": "WOG96YFnP7d-"
   },
   "outputs": [],
   "source": [
    "df = df.merge(t, how='left', on='user_id')"
   ]
  },
  {
   "cell_type": "code",
   "execution_count": 79,
   "id": "c647a8ec",
   "metadata": {
    "colab": {
     "base_uri": "https://localhost:8080/"
    },
    "executionInfo": {
     "elapsed": 410,
     "status": "ok",
     "timestamp": 1650033985077,
     "user": {
      "displayName": "Vadim Selin",
      "userId": "13742755250186020674"
     },
     "user_tz": -180
    },
    "id": "c647a8ec",
    "outputId": "02be3c9d-22f0-4831-a6c9-8349ad158c97"
   },
   "outputs": [
    {
     "data": {
      "text/plain": [
       "event_time    0.0\n",
       "event_name    0.0\n",
       "user_id       0.0\n",
       "source        0.0\n",
       "event_date    0.0\n",
       "event_week    0.0\n",
       "cluster_km    0.0\n",
       "dtype: float64"
      ]
     },
     "execution_count": 79,
     "metadata": {},
     "output_type": "execute_result"
    }
   ],
   "source": [
    "# проверка после merge\n",
    "df.isna().mean()"
   ]
  },
  {
   "cell_type": "markdown",
   "id": "097fb0f7",
   "metadata": {
    "id": "097fb0f7"
   },
   "source": [
    "- Посмотрю распределение событий по новым категориям пользователей"
   ]
  },
  {
   "cell_type": "code",
   "execution_count": 80,
   "id": "J65LyGqUQjAu",
   "metadata": {
    "colab": {
     "base_uri": "https://localhost:8080/",
     "height": 292
    },
    "executionInfo": {
     "elapsed": 496,
     "status": "ok",
     "timestamp": 1650033985572,
     "user": {
      "displayName": "Vadim Selin",
      "userId": "13742755250186020674"
     },
     "user_tz": -180
    },
    "id": "J65LyGqUQjAu",
    "outputId": "a34cd94b-25a8-475b-c282-bb4a084f9e21"
   },
   "outputs": [
    {
     "data": {
      "image/png": "[encoded data removed]",
      "text/plain": [
       "<Figure size 432x288 with 1 Axes>"
      ]
     },
     "metadata": {
      "needs_background": "light"
     },
     "output_type": "display_data"
    }
   ],
   "source": [
    "df['cluster_km'].value_counts().plot(kind='bar', grid=True)\n",
    "plt.title('Распределение числа событий по сегментам пользователей')\n",
    "plt.xlabel('Сегмент пользоватлей')\n",
    "plt.ylabel('Число событий в логе')\n",
    "plt.show()"
   ]
  },
  {
   "cell_type": "markdown",
   "id": "bbef521b",
   "metadata": {
    "id": "bbef521b"
   },
   "source": [
    "- Распределение числа событий по сегментам весьма неоднородно, поэтому узнаю как оно соотносится с числом пользователей в сегменте\n",
    "- Создам временную переменную `t` с таблицей, содержащей число пользователей сегментов и количество совершённых ими событий"
   ]
  },
  {
   "cell_type": "code",
   "execution_count": 81,
   "id": "daa8f2b7",
   "metadata": {
    "executionInfo": {
     "elapsed": 8,
     "status": "ok",
     "timestamp": 1650033985574,
     "user": {
      "displayName": "Vadim Selin",
      "userId": "13742755250186020674"
     },
     "user_tz": -180
    },
    "id": "daa8f2b7"
   },
   "outputs": [],
   "source": [
    "t = (\n",
    "    pd.DataFrame(df['cluster_km'].value_counts().sort_index()) # число событий по сегментам\n",
    "    .merge(\n",
    "        df.groupby('cluster_km').agg({'user_id': 'nunique'}),  # число уникальных пользователей в сегментах\n",
    "        how='left', left_index=True, right_index=True)\n",
    ")"
   ]
  },
  {
   "cell_type": "code",
   "execution_count": 82,
   "id": "cf6528ec",
   "metadata": {
    "executionInfo": {
     "elapsed": 7,
     "status": "ok",
     "timestamp": 1650033985574,
     "user": {
      "displayName": "Vadim Selin",
      "userId": "13742755250186020674"
     },
     "user_tz": -180
    },
    "id": "cf6528ec"
   },
   "outputs": [],
   "source": [
    "t = t.rename(columns={'cluster_km': 'events_cnt', 'user_id': 'user_cnt'})"
   ]
  },
  {
   "cell_type": "code",
   "execution_count": 83,
   "id": "ff0ec36a",
   "metadata": {
    "executionInfo": {
     "elapsed": 8,
     "status": "ok",
     "timestamp": 1650033985575,
     "user": {
      "displayName": "Vadim Selin",
      "userId": "13742755250186020674"
     },
     "user_tz": -180
    },
    "id": "ff0ec36a"
   },
   "outputs": [],
   "source": [
    "t = t.sort_values('events_cnt')"
   ]
  },
  {
   "cell_type": "code",
   "execution_count": 84,
   "id": "b9cbf161",
   "metadata": {
    "colab": {
     "base_uri": "https://localhost:8080/",
     "height": 206
    },
    "executionInfo": {
     "elapsed": 8,
     "status": "ok",
     "timestamp": 1650033985575,
     "user": {
      "displayName": "Vadim Selin",
      "userId": "13742755250186020674"
     },
     "user_tz": -180
    },
    "id": "b9cbf161",
    "outputId": "63fb14ad-e9e5-4298-d405-136b9f6e9148"
   },
   "outputs": [
    {
     "data": {
      "text/html": [
       "<div>\n",
       "<style scoped>\n",
       "    .dataframe tbody tr th:only-of-type {\n",
       "        vertical-align: middle;\n",
       "    }\n",
       "\n",
       "    .dataframe tbody tr th {\n",
       "        vertical-align: top;\n",
       "    }\n",
       "\n",
       "    .dataframe thead th {\n",
       "        text-align: right;\n",
       "    }\n",
       "</style>\n",
       "<table border=\"1\" class=\"dataframe\">\n",
       "  <thead>\n",
       "    <tr style=\"text-align: right;\">\n",
       "      <th></th>\n",
       "      <th>events_cnt</th>\n",
       "      <th>user_cnt</th>\n",
       "    </tr>\n",
       "  </thead>\n",
       "  <tbody>\n",
       "    <tr>\n",
       "      <th>4</th>\n",
       "      <td>2403</td>\n",
       "      <td>216</td>\n",
       "    </tr>\n",
       "    <tr>\n",
       "      <th>3</th>\n",
       "      <td>6130</td>\n",
       "      <td>627</td>\n",
       "    </tr>\n",
       "    <tr>\n",
       "      <th>0</th>\n",
       "      <td>10808</td>\n",
       "      <td>703</td>\n",
       "    </tr>\n",
       "    <tr>\n",
       "      <th>2</th>\n",
       "      <td>13148</td>\n",
       "      <td>634</td>\n",
       "    </tr>\n",
       "    <tr>\n",
       "      <th>1</th>\n",
       "      <td>41708</td>\n",
       "      <td>2113</td>\n",
       "    </tr>\n",
       "  </tbody>\n",
       "</table>\n",
       "</div>"
      ],
      "text/plain": [
       "   events_cnt  user_cnt\n",
       "4        2403       216\n",
       "3        6130       627\n",
       "0       10808       703\n",
       "2       13148       634\n",
       "1       41708      2113"
      ]
     },
     "execution_count": 84,
     "metadata": {},
     "output_type": "execute_result"
    }
   ],
   "source": [
    "t"
   ]
  },
  {
   "cell_type": "markdown",
   "id": "c40a0dd7",
   "metadata": {
    "id": "c40a0dd7"
   },
   "source": [
    "- Зависимость между столбцами есть, но от близкой к линейной её отделяет 2-й сегмент:\n",
    "    - пользователей меньше, чем в 0-м, но они активней\n",
    "    - выведу простой график для наглядности"
   ]
  },
  {
   "cell_type": "code",
   "execution_count": 85,
   "id": "9e7397b8",
   "metadata": {
    "colab": {
     "base_uri": "https://localhost:8080/",
     "height": 294
    },
    "executionInfo": {
     "elapsed": 821,
     "status": "ok",
     "timestamp": 1650033986389,
     "user": {
      "displayName": "Vadim Selin",
      "userId": "13742755250186020674"
     },
     "user_tz": -180
    },
    "id": "9e7397b8",
    "outputId": "f44643ce-b1d1-48a0-d4c9-389bd359c1e6"
   },
   "outputs": [
    {
     "data": {
      "image/png": "[encoded data removed]",
      "text/plain": [
       "<Figure size 432x288 with 1 Axes>"
      ]
     },
     "metadata": {
      "needs_background": "light"
     },
     "output_type": "display_data"
    }
   ],
   "source": [
    "y = t['events_cnt']\n",
    "x = t['user_cnt']\n",
    "n = t.index\n",
    "\n",
    "fig, ax = plt.subplots()\n",
    "ax.plot(x, y)\n",
    "\n",
    "for i, txt in enumerate(n):\n",
    "    ax.annotate(txt, (x[i], y[i]))\n",
    "plt.title('Соотношение числа пользователей в сегментах и числа их событий')\n",
    "plt.xlabel('Количество пользоватлей')\n",
    "plt.ylabel('Число событий в логе')\n",
    "plt.show()"
   ]
  },
  {
   "cell_type": "markdown",
   "id": "ade2f976",
   "metadata": {
    "id": "ade2f976"
   },
   "source": [
    "- На графике видно, что чем больше пользоватлей сегмента, тем больше событий они совершают\n",
    "- Но данное утверждение не однозначно\n",
    "    - Например пользователи `0`-сегмента при меньшем своём количестве успели совершить больше событий, нежели пользователи `4`-сегмента\n",
    "    - Есть две догадки на эту тему:\n",
    "        1. Пользователи `0`-сегмента появились в логе раньше, поэтому успели больше\n",
    "        2. Они более активны\n",
    "- **На данный момент зафиксирую информацию о том, что независимо от времени в любом периоде исследования есть более активные сегменты, есть менее активные**\n",
    "    - *Это похоже на записки капитана очевидность, но в данном случае мне об этом говорят не домыслы и опыт, а цифры сегментов, полученных алгоритмом кластеризации.*\n",
    "    - Теперь проверю различие сегментов по их метрикам."
   ]
  },
  {
   "cell_type": "markdown",
   "id": "48aaebe1",
   "metadata": {},
   "source": [
    "<div class=\"alert alert-success\" style=\"border-radius: 15px; box-shadow: 4px 4px 4px; border: 1px solid \" > <b>Комментарии от тимлида ✔️ : </b> \n",
    "\n",
    "Да, это логичный результат, но ты подтвердил рассчетами. Молодец!\n",
    "   \n",
    "</div>"
   ]
  },
  {
   "cell_type": "markdown",
   "id": "8aa30731",
   "metadata": {
    "id": "8aa30731"
   },
   "source": [
    "## Рассчитать `Retention rate` (с визуализацией) для полученных кластеров и сравнить между собой"
   ]
  },
  {
   "cell_type": "markdown",
   "id": "1773676b",
   "metadata": {
    "id": "1773676b"
   },
   "source": [
    "- Получу дату первого визита для каждого пользователя и добавлю её к датафрейму"
   ]
  },
  {
   "cell_type": "code",
   "execution_count": 86,
   "id": "088699c3",
   "metadata": {
    "executionInfo": {
     "elapsed": 8,
     "status": "ok",
     "timestamp": 1650033986390,
     "user": {
      "displayName": "Vadim Selin",
      "userId": "13742755250186020674"
     },
     "user_tz": -180
    },
    "id": "088699c3"
   },
   "outputs": [],
   "source": [
    "t_start = df.groupby('user_id')['event_date'].min()"
   ]
  },
  {
   "cell_type": "code",
   "execution_count": 87,
   "id": "963bcda3",
   "metadata": {
    "executionInfo": {
     "elapsed": 8,
     "status": "ok",
     "timestamp": 1650033986390,
     "user": {
      "displayName": "Vadim Selin",
      "userId": "13742755250186020674"
     },
     "user_tz": -180
    },
    "id": "963bcda3"
   },
   "outputs": [],
   "source": [
    "t_start.name = 'first_start_date'"
   ]
  },
  {
   "cell_type": "code",
   "execution_count": 88,
   "id": "a6fcbd4e",
   "metadata": {
    "colab": {
     "base_uri": "https://localhost:8080/"
    },
    "executionInfo": {
     "elapsed": 9,
     "status": "ok",
     "timestamp": 1650033986391,
     "user": {
      "displayName": "Vadim Selin",
      "userId": "13742755250186020674"
     },
     "user_tz": -180
    },
    "id": "a6fcbd4e",
    "outputId": "85a5267c-8507-41b8-914b-6ca061ad468d"
   },
   "outputs": [
    {
     "data": {
      "text/plain": [
       "user_id\n",
       "0001b1d5-b74a-4cbf-aeb0-7df5947bf349   2019-10-07\n",
       "00157779-810c-4498-9e05-a1e9e3cedf93   2019-10-19\n",
       "00463033-5717-4bf1-91b4-09183923b9df   2019-11-01\n",
       "004690c3-5a84-4bb7-a8af-e0c8f8fca64e   2019-10-18\n",
       "00551e79-152e-4441-9cf7-565d7eb04090   2019-10-25\n",
       "                                          ...    \n",
       "ffab8d8a-30bb-424a-a3ab-0b63ebbf7b07   2019-10-13\n",
       "ffc01466-fdb1-4460-ae94-e800f52eb136   2019-10-07\n",
       "ffcf50d9-293c-4254-8243-4890b030b238   2019-10-23\n",
       "ffe68f10-e48e-470e-be9b-eeb93128ff1a   2019-10-21\n",
       "fffb9e79-b927-4dbb-9b48-7fd09b23a62b   2019-10-12\n",
       "Name: first_start_date, Length: 4293, dtype: datetime64[ns]"
      ]
     },
     "execution_count": 88,
     "metadata": {},
     "output_type": "execute_result"
    }
   ],
   "source": [
    "t_start"
   ]
  },
  {
   "cell_type": "code",
   "execution_count": 89,
   "id": "ab8086f3",
   "metadata": {
    "executionInfo": {
     "elapsed": 8,
     "status": "ok",
     "timestamp": 1650033986391,
     "user": {
      "displayName": "Vadim Selin",
      "userId": "13742755250186020674"
     },
     "user_tz": -180
    },
    "id": "ab8086f3"
   },
   "outputs": [],
   "source": [
    "df = df.join(t_start, on='user_id')"
   ]
  },
  {
   "cell_type": "markdown",
   "id": "af7ac6dd",
   "metadata": {
    "id": "af7ac6dd"
   },
   "source": [
    "- Получу неделю первого визита\n",
    "    - брать меньший период считаю нецелесообразным, потому что считать ежедневный отток в нашем приложении беcсмысленно\n",
    "    - большинство пользователей не покупают и не продают \"ненужные вещи\" каждый день"
   ]
  },
  {
   "cell_type": "code",
   "execution_count": 90,
   "id": "10053770",
   "metadata": {
    "executionInfo": {
     "elapsed": 8,
     "status": "ok",
     "timestamp": 1650033986391,
     "user": {
      "displayName": "Vadim Selin",
      "userId": "13742755250186020674"
     },
     "user_tz": -180
    },
    "id": "10053770"
   },
   "outputs": [],
   "source": [
    "df['start_event_week'] = df['first_start_date'].dt.isocalendar().week"
   ]
  },
  {
   "cell_type": "markdown",
   "id": "14e8f6b7",
   "metadata": {
    "id": "14e8f6b7"
   },
   "source": [
    "- Получу lifetime недельных когорт "
   ]
  },
  {
   "cell_type": "code",
   "execution_count": 91,
   "id": "9d07f566",
   "metadata": {
    "executionInfo": {
     "elapsed": 8,
     "status": "ok",
     "timestamp": 1650033986392,
     "user": {
      "displayName": "Vadim Selin",
      "userId": "13742755250186020674"
     },
     "user_tz": -180
    },
    "id": "9d07f566"
   },
   "outputs": [],
   "source": [
    "df['cohort_lifetime'] = df['event_week'] - df['start_event_week']"
   ]
  },
  {
   "cell_type": "markdown",
   "id": "99acbfe7",
   "metadata": {
    "id": "99acbfe7"
   },
   "source": [
    "- Сгруппирую данные по сегменту и  `cohort_lifetime`, чтобы получить число пользоватлей каждого сегмента в первую и последующие недели"
   ]
  },
  {
   "cell_type": "code",
   "execution_count": 92,
   "id": "73a52bd4",
   "metadata": {
    "executionInfo": {
     "elapsed": 8,
     "status": "ok",
     "timestamp": 1650033986392,
     "user": {
      "displayName": "Vadim Selin",
      "userId": "13742755250186020674"
     },
     "user_tz": -180
    },
    "id": "73a52bd4"
   },
   "outputs": [],
   "source": [
    "cohorts = df.groupby(['cluster_km', 'cohort_lifetime'], as_index=False).agg({'user_id': 'nunique'})"
   ]
  },
  {
   "cell_type": "code",
   "execution_count": 93,
   "id": "bfb11173",
   "metadata": {
    "executionInfo": {
     "elapsed": 8,
     "status": "ok",
     "timestamp": 1650033986392,
     "user": {
      "displayName": "Vadim Selin",
      "userId": "13742755250186020674"
     },
     "user_tz": -180
    },
    "id": "bfb11173"
   },
   "outputs": [],
   "source": [
    "cohorts = cohorts.rename(columns={'user_id': 'user_cnt'})"
   ]
  },
  {
   "cell_type": "code",
   "execution_count": 94,
   "id": "0d7ed287",
   "metadata": {
    "colab": {
     "base_uri": "https://localhost:8080/",
     "height": 206
    },
    "executionInfo": {
     "elapsed": 591,
     "status": "ok",
     "timestamp": 1650033986975,
     "user": {
      "displayName": "Vadim Selin",
      "userId": "13742755250186020674"
     },
     "user_tz": -180
    },
    "id": "0d7ed287",
    "outputId": "7551ab05-aecd-448f-ca86-3a0dd6ba33dd"
   },
   "outputs": [
    {
     "data": {
      "text/html": [
       "<div>\n",
       "<style scoped>\n",
       "    .dataframe tbody tr th:only-of-type {\n",
       "        vertical-align: middle;\n",
       "    }\n",
       "\n",
       "    .dataframe tbody tr th {\n",
       "        vertical-align: top;\n",
       "    }\n",
       "\n",
       "    .dataframe thead th {\n",
       "        text-align: right;\n",
       "    }\n",
       "</style>\n",
       "<table border=\"1\" class=\"dataframe\">\n",
       "  <thead>\n",
       "    <tr style=\"text-align: right;\">\n",
       "      <th></th>\n",
       "      <th>cluster_km</th>\n",
       "      <th>cohort_lifetime</th>\n",
       "      <th>user_cnt</th>\n",
       "    </tr>\n",
       "  </thead>\n",
       "  <tbody>\n",
       "    <tr>\n",
       "      <th>0</th>\n",
       "      <td>0</td>\n",
       "      <td>0</td>\n",
       "      <td>703</td>\n",
       "    </tr>\n",
       "    <tr>\n",
       "      <th>1</th>\n",
       "      <td>0</td>\n",
       "      <td>1</td>\n",
       "      <td>180</td>\n",
       "    </tr>\n",
       "    <tr>\n",
       "      <th>2</th>\n",
       "      <td>0</td>\n",
       "      <td>2</td>\n",
       "      <td>74</td>\n",
       "    </tr>\n",
       "    <tr>\n",
       "      <th>3</th>\n",
       "      <td>0</td>\n",
       "      <td>3</td>\n",
       "      <td>26</td>\n",
       "    </tr>\n",
       "    <tr>\n",
       "      <th>4</th>\n",
       "      <td>1</td>\n",
       "      <td>0</td>\n",
       "      <td>2113</td>\n",
       "    </tr>\n",
       "  </tbody>\n",
       "</table>\n",
       "</div>"
      ],
      "text/plain": [
       "   cluster_km  cohort_lifetime  user_cnt\n",
       "0           0                0       703\n",
       "1           0                1       180\n",
       "2           0                2        74\n",
       "3           0                3        26\n",
       "4           1                0      2113"
      ]
     },
     "execution_count": 94,
     "metadata": {},
     "output_type": "execute_result"
    }
   ],
   "source": [
    "cohorts.head()"
   ]
  },
  {
   "cell_type": "markdown",
   "id": "2ed1b117",
   "metadata": {
    "id": "2ed1b117"
   },
   "source": [
    "- Получу число уникальных пользователей когорты на момент её формирования и добавлю к датафрейму `cohorts`"
   ]
  },
  {
   "cell_type": "code",
   "execution_count": 95,
   "id": "8d1ff3ba",
   "metadata": {
    "executionInfo": {
     "elapsed": 9,
     "status": "ok",
     "timestamp": 1650033986975,
     "user": {
      "displayName": "Vadim Selin",
      "userId": "13742755250186020674"
     },
     "user_tz": -180
    },
    "id": "8d1ff3ba"
   },
   "outputs": [],
   "source": [
    "t = cohorts[cohorts['cohort_lifetime']==0][['cluster_km', 'user_cnt']]"
   ]
  },
  {
   "cell_type": "code",
   "execution_count": 96,
   "id": "f7aadc82",
   "metadata": {
    "colab": {
     "base_uri": "https://localhost:8080/",
     "height": 206
    },
    "executionInfo": {
     "elapsed": 9,
     "status": "ok",
     "timestamp": 1650033986975,
     "user": {
      "displayName": "Vadim Selin",
      "userId": "13742755250186020674"
     },
     "user_tz": -180
    },
    "id": "f7aadc82",
    "outputId": "343046cc-d204-46bd-ebb7-0f36e1af8bac"
   },
   "outputs": [
    {
     "data": {
      "text/html": [
       "<div>\n",
       "<style scoped>\n",
       "    .dataframe tbody tr th:only-of-type {\n",
       "        vertical-align: middle;\n",
       "    }\n",
       "\n",
       "    .dataframe tbody tr th {\n",
       "        vertical-align: top;\n",
       "    }\n",
       "\n",
       "    .dataframe thead th {\n",
       "        text-align: right;\n",
       "    }\n",
       "</style>\n",
       "<table border=\"1\" class=\"dataframe\">\n",
       "  <thead>\n",
       "    <tr style=\"text-align: right;\">\n",
       "      <th></th>\n",
       "      <th>cluster_km</th>\n",
       "      <th>user_cnt</th>\n",
       "    </tr>\n",
       "  </thead>\n",
       "  <tbody>\n",
       "    <tr>\n",
       "      <th>0</th>\n",
       "      <td>0</td>\n",
       "      <td>703</td>\n",
       "    </tr>\n",
       "    <tr>\n",
       "      <th>4</th>\n",
       "      <td>1</td>\n",
       "      <td>2113</td>\n",
       "    </tr>\n",
       "    <tr>\n",
       "      <th>8</th>\n",
       "      <td>2</td>\n",
       "      <td>634</td>\n",
       "    </tr>\n",
       "    <tr>\n",
       "      <th>12</th>\n",
       "      <td>3</td>\n",
       "      <td>627</td>\n",
       "    </tr>\n",
       "    <tr>\n",
       "      <th>16</th>\n",
       "      <td>4</td>\n",
       "      <td>216</td>\n",
       "    </tr>\n",
       "  </tbody>\n",
       "</table>\n",
       "</div>"
      ],
      "text/plain": [
       "    cluster_km  user_cnt\n",
       "0            0       703\n",
       "4            1      2113\n",
       "8            2       634\n",
       "12           3       627\n",
       "16           4       216"
      ]
     },
     "execution_count": 96,
     "metadata": {},
     "output_type": "execute_result"
    }
   ],
   "source": [
    "t"
   ]
  },
  {
   "cell_type": "code",
   "execution_count": 97,
   "id": "903a1cc7",
   "metadata": {
    "executionInfo": {
     "elapsed": 9,
     "status": "ok",
     "timestamp": 1650033986976,
     "user": {
      "displayName": "Vadim Selin",
      "userId": "13742755250186020674"
     },
     "user_tz": -180
    },
    "id": "903a1cc7"
   },
   "outputs": [],
   "source": [
    "cohorts = cohorts.merge(t, how='left', on='cluster_km', suffixes=('','_start'))"
   ]
  },
  {
   "cell_type": "markdown",
   "id": "5078c152",
   "metadata": {
    "id": "5078c152"
   },
   "source": [
    "- Вычислю `retention rate` или долю пользователей когорты для каждой последующей недели относительно стартовой"
   ]
  },
  {
   "cell_type": "code",
   "execution_count": 98,
   "id": "405af235",
   "metadata": {
    "executionInfo": {
     "elapsed": 8,
     "status": "ok",
     "timestamp": 1650033986976,
     "user": {
      "displayName": "Vadim Selin",
      "userId": "13742755250186020674"
     },
     "user_tz": -180
    },
    "id": "405af235"
   },
   "outputs": [],
   "source": [
    "cohorts['retention'] = cohorts['user_cnt'] / cohorts['user_cnt_start']"
   ]
  },
  {
   "cell_type": "code",
   "execution_count": 99,
   "id": "9bbb7983",
   "metadata": {
    "colab": {
     "base_uri": "https://localhost:8080/",
     "height": 676
    },
    "executionInfo": {
     "elapsed": 8,
     "status": "ok",
     "timestamp": 1650033986976,
     "user": {
      "displayName": "Vadim Selin",
      "userId": "13742755250186020674"
     },
     "user_tz": -180
    },
    "id": "9bbb7983",
    "outputId": "e3813b95-d6b0-4d65-ded6-a566978b55eb"
   },
   "outputs": [
    {
     "data": {
      "text/html": [
       "<div>\n",
       "<style scoped>\n",
       "    .dataframe tbody tr th:only-of-type {\n",
       "        vertical-align: middle;\n",
       "    }\n",
       "\n",
       "    .dataframe tbody tr th {\n",
       "        vertical-align: top;\n",
       "    }\n",
       "\n",
       "    .dataframe thead th {\n",
       "        text-align: right;\n",
       "    }\n",
       "</style>\n",
       "<table border=\"1\" class=\"dataframe\">\n",
       "  <thead>\n",
       "    <tr style=\"text-align: right;\">\n",
       "      <th></th>\n",
       "      <th>cluster_km</th>\n",
       "      <th>cohort_lifetime</th>\n",
       "      <th>user_cnt</th>\n",
       "      <th>user_cnt_start</th>\n",
       "      <th>retention</th>\n",
       "    </tr>\n",
       "  </thead>\n",
       "  <tbody>\n",
       "    <tr>\n",
       "      <th>0</th>\n",
       "      <td>0</td>\n",
       "      <td>0</td>\n",
       "      <td>703</td>\n",
       "      <td>703</td>\n",
       "      <td>1.000000</td>\n",
       "    </tr>\n",
       "    <tr>\n",
       "      <th>1</th>\n",
       "      <td>0</td>\n",
       "      <td>1</td>\n",
       "      <td>180</td>\n",
       "      <td>703</td>\n",
       "      <td>0.256046</td>\n",
       "    </tr>\n",
       "    <tr>\n",
       "      <th>2</th>\n",
       "      <td>0</td>\n",
       "      <td>2</td>\n",
       "      <td>74</td>\n",
       "      <td>703</td>\n",
       "      <td>0.105263</td>\n",
       "    </tr>\n",
       "    <tr>\n",
       "      <th>3</th>\n",
       "      <td>0</td>\n",
       "      <td>3</td>\n",
       "      <td>26</td>\n",
       "      <td>703</td>\n",
       "      <td>0.036984</td>\n",
       "    </tr>\n",
       "    <tr>\n",
       "      <th>4</th>\n",
       "      <td>1</td>\n",
       "      <td>0</td>\n",
       "      <td>2113</td>\n",
       "      <td>2113</td>\n",
       "      <td>1.000000</td>\n",
       "    </tr>\n",
       "    <tr>\n",
       "      <th>5</th>\n",
       "      <td>1</td>\n",
       "      <td>1</td>\n",
       "      <td>340</td>\n",
       "      <td>2113</td>\n",
       "      <td>0.160909</td>\n",
       "    </tr>\n",
       "    <tr>\n",
       "      <th>6</th>\n",
       "      <td>1</td>\n",
       "      <td>2</td>\n",
       "      <td>153</td>\n",
       "      <td>2113</td>\n",
       "      <td>0.072409</td>\n",
       "    </tr>\n",
       "    <tr>\n",
       "      <th>7</th>\n",
       "      <td>1</td>\n",
       "      <td>3</td>\n",
       "      <td>50</td>\n",
       "      <td>2113</td>\n",
       "      <td>0.023663</td>\n",
       "    </tr>\n",
       "    <tr>\n",
       "      <th>8</th>\n",
       "      <td>2</td>\n",
       "      <td>0</td>\n",
       "      <td>634</td>\n",
       "      <td>634</td>\n",
       "      <td>1.000000</td>\n",
       "    </tr>\n",
       "    <tr>\n",
       "      <th>9</th>\n",
       "      <td>2</td>\n",
       "      <td>1</td>\n",
       "      <td>86</td>\n",
       "      <td>634</td>\n",
       "      <td>0.135647</td>\n",
       "    </tr>\n",
       "    <tr>\n",
       "      <th>10</th>\n",
       "      <td>2</td>\n",
       "      <td>2</td>\n",
       "      <td>37</td>\n",
       "      <td>634</td>\n",
       "      <td>0.058360</td>\n",
       "    </tr>\n",
       "    <tr>\n",
       "      <th>11</th>\n",
       "      <td>2</td>\n",
       "      <td>3</td>\n",
       "      <td>17</td>\n",
       "      <td>634</td>\n",
       "      <td>0.026814</td>\n",
       "    </tr>\n",
       "    <tr>\n",
       "      <th>12</th>\n",
       "      <td>3</td>\n",
       "      <td>0</td>\n",
       "      <td>627</td>\n",
       "      <td>627</td>\n",
       "      <td>1.000000</td>\n",
       "    </tr>\n",
       "    <tr>\n",
       "      <th>13</th>\n",
       "      <td>3</td>\n",
       "      <td>1</td>\n",
       "      <td>142</td>\n",
       "      <td>627</td>\n",
       "      <td>0.226475</td>\n",
       "    </tr>\n",
       "    <tr>\n",
       "      <th>14</th>\n",
       "      <td>3</td>\n",
       "      <td>2</td>\n",
       "      <td>50</td>\n",
       "      <td>627</td>\n",
       "      <td>0.079745</td>\n",
       "    </tr>\n",
       "    <tr>\n",
       "      <th>15</th>\n",
       "      <td>3</td>\n",
       "      <td>3</td>\n",
       "      <td>19</td>\n",
       "      <td>627</td>\n",
       "      <td>0.030303</td>\n",
       "    </tr>\n",
       "    <tr>\n",
       "      <th>16</th>\n",
       "      <td>4</td>\n",
       "      <td>0</td>\n",
       "      <td>216</td>\n",
       "      <td>216</td>\n",
       "      <td>1.000000</td>\n",
       "    </tr>\n",
       "    <tr>\n",
       "      <th>17</th>\n",
       "      <td>4</td>\n",
       "      <td>1</td>\n",
       "      <td>45</td>\n",
       "      <td>216</td>\n",
       "      <td>0.208333</td>\n",
       "    </tr>\n",
       "    <tr>\n",
       "      <th>18</th>\n",
       "      <td>4</td>\n",
       "      <td>2</td>\n",
       "      <td>11</td>\n",
       "      <td>216</td>\n",
       "      <td>0.050926</td>\n",
       "    </tr>\n",
       "    <tr>\n",
       "      <th>19</th>\n",
       "      <td>4</td>\n",
       "      <td>3</td>\n",
       "      <td>7</td>\n",
       "      <td>216</td>\n",
       "      <td>0.032407</td>\n",
       "    </tr>\n",
       "  </tbody>\n",
       "</table>\n",
       "</div>"
      ],
      "text/plain": [
       "    cluster_km  cohort_lifetime  user_cnt  user_cnt_start  retention\n",
       "0            0                0       703             703   1.000000\n",
       "1            0                1       180             703   0.256046\n",
       "2            0                2        74             703   0.105263\n",
       "3            0                3        26             703   0.036984\n",
       "4            1                0      2113            2113   1.000000\n",
       "5            1                1       340            2113   0.160909\n",
       "6            1                2       153            2113   0.072409\n",
       "7            1                3        50            2113   0.023663\n",
       "8            2                0       634             634   1.000000\n",
       "9            2                1        86             634   0.135647\n",
       "10           2                2        37             634   0.058360\n",
       "11           2                3        17             634   0.026814\n",
       "12           3                0       627             627   1.000000\n",
       "13           3                1       142             627   0.226475\n",
       "14           3                2        50             627   0.079745\n",
       "15           3                3        19             627   0.030303\n",
       "16           4                0       216             216   1.000000\n",
       "17           4                1        45             216   0.208333\n",
       "18           4                2        11             216   0.050926\n",
       "19           4                3         7             216   0.032407"
      ]
     },
     "execution_count": 99,
     "metadata": {},
     "output_type": "execute_result"
    }
   ],
   "source": [
    "cohorts"
   ]
  },
  {
   "cell_type": "code",
   "execution_count": 100,
   "id": "c9153004",
   "metadata": {
    "executionInfo": {
     "elapsed": 8,
     "status": "ok",
     "timestamp": 1650033986976,
     "user": {
      "displayName": "Vadim Selin",
      "userId": "13742755250186020674"
     },
     "user_tz": -180
    },
    "id": "c9153004"
   },
   "outputs": [],
   "source": [
    "retention_pivot = cohorts.pivot_table(\n",
    "index='cluster_km',\n",
    "columns='cohort_lifetime',\n",
    "values='retention',\n",
    "aggfunc='sum')"
   ]
  },
  {
   "cell_type": "code",
   "execution_count": 101,
   "id": "2dfc2ab3",
   "metadata": {
    "colab": {
     "base_uri": "https://localhost:8080/",
     "height": 237
    },
    "executionInfo": {
     "elapsed": 8,
     "status": "ok",
     "timestamp": 1650033986977,
     "user": {
      "displayName": "Vadim Selin",
      "userId": "13742755250186020674"
     },
     "user_tz": -180
    },
    "id": "2dfc2ab3",
    "outputId": "22e95cec-f158-498c-f88e-6efab578ccda"
   },
   "outputs": [
    {
     "data": {
      "text/html": [
       "<div>\n",
       "<style scoped>\n",
       "    .dataframe tbody tr th:only-of-type {\n",
       "        vertical-align: middle;\n",
       "    }\n",
       "\n",
       "    .dataframe tbody tr th {\n",
       "        vertical-align: top;\n",
       "    }\n",
       "\n",
       "    .dataframe thead th {\n",
       "        text-align: right;\n",
       "    }\n",
       "</style>\n",
       "<table border=\"1\" class=\"dataframe\">\n",
       "  <thead>\n",
       "    <tr style=\"text-align: right;\">\n",
       "      <th>cohort_lifetime</th>\n",
       "      <th>0</th>\n",
       "      <th>1</th>\n",
       "      <th>2</th>\n",
       "      <th>3</th>\n",
       "    </tr>\n",
       "    <tr>\n",
       "      <th>cluster_km</th>\n",
       "      <th></th>\n",
       "      <th></th>\n",
       "      <th></th>\n",
       "      <th></th>\n",
       "    </tr>\n",
       "  </thead>\n",
       "  <tbody>\n",
       "    <tr>\n",
       "      <th>0</th>\n",
       "      <td>1.0</td>\n",
       "      <td>0.256046</td>\n",
       "      <td>0.105263</td>\n",
       "      <td>0.036984</td>\n",
       "    </tr>\n",
       "    <tr>\n",
       "      <th>1</th>\n",
       "      <td>1.0</td>\n",
       "      <td>0.160909</td>\n",
       "      <td>0.072409</td>\n",
       "      <td>0.023663</td>\n",
       "    </tr>\n",
       "    <tr>\n",
       "      <th>2</th>\n",
       "      <td>1.0</td>\n",
       "      <td>0.135647</td>\n",
       "      <td>0.058360</td>\n",
       "      <td>0.026814</td>\n",
       "    </tr>\n",
       "    <tr>\n",
       "      <th>3</th>\n",
       "      <td>1.0</td>\n",
       "      <td>0.226475</td>\n",
       "      <td>0.079745</td>\n",
       "      <td>0.030303</td>\n",
       "    </tr>\n",
       "    <tr>\n",
       "      <th>4</th>\n",
       "      <td>1.0</td>\n",
       "      <td>0.208333</td>\n",
       "      <td>0.050926</td>\n",
       "      <td>0.032407</td>\n",
       "    </tr>\n",
       "  </tbody>\n",
       "</table>\n",
       "</div>"
      ],
      "text/plain": [
       "cohort_lifetime    0         1         2         3\n",
       "cluster_km                                        \n",
       "0                1.0  0.256046  0.105263  0.036984\n",
       "1                1.0  0.160909  0.072409  0.023663\n",
       "2                1.0  0.135647  0.058360  0.026814\n",
       "3                1.0  0.226475  0.079745  0.030303\n",
       "4                1.0  0.208333  0.050926  0.032407"
      ]
     },
     "execution_count": 101,
     "metadata": {},
     "output_type": "execute_result"
    }
   ],
   "source": [
    "retention_pivot"
   ]
  },
  {
   "cell_type": "code",
   "execution_count": 102,
   "id": "4739359e",
   "metadata": {
    "colab": {
     "base_uri": "https://localhost:8080/",
     "height": 404
    },
    "executionInfo": {
     "elapsed": 504,
     "status": "ok",
     "timestamp": 1650033987474,
     "user": {
      "displayName": "Vadim Selin",
      "userId": "13742755250186020674"
     },
     "user_tz": -180
    },
    "id": "4739359e",
    "outputId": "ffd86ff3-a507-410b-919c-afff42001d24"
   },
   "outputs": [
    {
     "data": {
      "image/png": "[encoded data removed]",
      "text/plain": [
       "<Figure size 720x432 with 2 Axes>"
      ]
     },
     "metadata": {
      "needs_background": "light"
     },
     "output_type": "display_data"
    }
   ],
   "source": [
    "plt.figure(figsize=(10,6))\n",
    "plt.title('Удержание пользователей в когортах')\n",
    "sns.heatmap(\n",
    "    retention_pivot,\n",
    "    annot=True,\n",
    "    fmt='.2%',\n",
    "    linewidths=0.5,\n",
    "    linecolor='white',\n",
    "    cmap='gist_heat_r'\n",
    ")\n",
    "plt.ylabel('Сегмент пользователей')\n",
    "plt.show()"
   ]
  },
  {
   "cell_type": "markdown",
   "id": "9d513248",
   "metadata": {},
   "source": [
    "<div class=\"alert alert-success\" style=\"border-radius: 15px; box-shadow: 4px 4px 4px; border: 1px solid \" > <b>Комментарии от тимлида ✔️ : </b> \n",
    "\n",
    "Отлично! Retention rate рассчитан верно и тепловая карта оформлена корректно\n",
    "   \n",
    "</div>"
   ]
  },
  {
   "cell_type": "markdown",
   "id": "3b7c6891",
   "metadata": {
    "id": "3b7c6891"
   },
   "source": [
    "- На вторую неделю жизни разница в удержании пользователей между сегментами уже существенно отличается\n",
    "- Самые \"верные\" пользователи `0`- сегмента на протяжении всех недель демонстрируют наибольшие показатели по удержанию\n",
    "- Помню, что число событий у этого сегмента было больше, чем у более многочисленного `4`- сегмента\n",
    "    - Теперь если взглянуть на `retention rate` становится ясно, что это связано с показателем удержания пользователей на протяжении всего исследуемого периода: `4` сегмент быстрее рассеялся, потому и событий не успел столько совершить, как более устойчивый `0`-й\n",
    "- Быстрее всех со второй недели разбегаются пользователи `2`-сегмента\n",
    "    - Этих ребят можно и нужно возвращать в приложение email рассылкой c лучшими подборками, сделанными на основе их поисковых действий. Тут также можно применить алгоритм машинного обучение по ретро-данным \"кто что купил и что он перед этим смотрел и какие события совершал\""
   ]
  },
  {
   "cell_type": "markdown",
   "id": "337fa6ef",
   "metadata": {
    "id": "337fa6ef"
   },
   "source": [
    "## Определю среднюю пользовательскую сессию (сеанса)\n",
    "- Эта пользовательская сессия не будет ограничена одинаковым для всех временным интервалом, поскольку данный подход устарел. \n",
    "    - Он был актуален в прошлом для веб-сайтов. \n",
    "    - Но на сегодняшний день для приложений и современных веб сайтов он не подходит.\n",
    "    - Более современный подход - учёт времени бездействия между событиями:\n",
    "      - Длительность сеанса при этом не ограничена\n",
    "      - Такой подход сегодня используется в новом поколении системы аналитики Google Analytics 4\n",
    "      - Задача определения сеанса сводится к определению наиболее подходящего большинству пользователей времени бездействия.\n",
    "      - При превышении этого времени бездействия с новым событием начинается новый сеанс.\n",
    "- **Для применения этого подхода к моим данным введу такое допущение:**\n",
    "    - в данном логе любое самое первое событие для каждого пользователя является началом сессии, то есть нет пользователей, которые уже находились в сессии в момент начала записи лога. \n",
    "---"
   ]
  },
  {
   "cell_type": "markdown",
   "id": "3465a2dd",
   "metadata": {},
   "source": [
    "<div class=\"alert alert-success\" style=\"border-radius: 15px; box-shadow: 4px 4px 4px; border: 1px solid \" > <b>Комментарии от тимлида ✔️ : </b> \n",
    "\n",
    "По тем данным, что располагаем вполне грамотное допущение\n",
    "   \n",
    "</div>"
   ]
  },
  {
   "cell_type": "markdown",
   "id": "fd1372ce",
   "metadata": {
    "id": "fd1372ce"
   },
   "source": [
    "Пересохраню датафрейм `df` отбросив уже ненужные данные о когортах "
   ]
  },
  {
   "cell_type": "code",
   "execution_count": 103,
   "id": "ee62902f",
   "metadata": {
    "executionInfo": {
     "elapsed": 3,
     "status": "ok",
     "timestamp": 1650033987474,
     "user": {
      "displayName": "Vadim Selin",
      "userId": "13742755250186020674"
     },
     "user_tz": -180
    },
    "id": "ee62902f"
   },
   "outputs": [],
   "source": [
    "df = df[['event_time', 'event_name', 'user_id', 'source', 'event_date',\n",
    "       'cluster_km']]"
   ]
  },
  {
   "cell_type": "markdown",
   "id": "c943758b",
   "metadata": {
    "id": "c943758b"
   },
   "source": [
    "- Вычислю дельту между событиями для каждого пользователя и переведу её в секунды"
   ]
  },
  {
   "cell_type": "code",
   "execution_count": 104,
   "id": "52fc9910",
   "metadata": {
    "executionInfo": {
     "elapsed": 3411,
     "status": "ok",
     "timestamp": 1650033990883,
     "user": {
      "displayName": "Vadim Selin",
      "userId": "13742755250186020674"
     },
     "user_tz": -180
    },
    "id": "52fc9910"
   },
   "outputs": [],
   "source": [
    "between_events = pd.DataFrame(df.groupby('user_id')['event_time'].diff().dt.seconds)"
   ]
  },
  {
   "cell_type": "code",
   "execution_count": 105,
   "id": "55790caa",
   "metadata": {
    "executionInfo": {
     "elapsed": 12,
     "status": "ok",
     "timestamp": 1650033990883,
     "user": {
      "displayName": "Vadim Selin",
      "userId": "13742755250186020674"
     },
     "user_tz": -180
    },
    "id": "55790caa"
   },
   "outputs": [],
   "source": [
    "between_events = between_events.rename(columns={'event_time':'seconds_between'})"
   ]
  },
  {
   "cell_type": "markdown",
   "id": "acc93347",
   "metadata": {
    "id": "acc93347"
   },
   "source": [
    "- Получил датафрейм с такими же индексами, как у основного `df` и значения временных дельт, соответствующих событиям\n",
    "- Присоединю его к основному `df`"
   ]
  },
  {
   "cell_type": "code",
   "execution_count": 106,
   "id": "fea91fb0",
   "metadata": {
    "executionInfo": {
     "elapsed": 12,
     "status": "ok",
     "timestamp": 1650033990883,
     "user": {
      "displayName": "Vadim Selin",
      "userId": "13742755250186020674"
     },
     "user_tz": -180
    },
    "id": "fea91fb0"
   },
   "outputs": [],
   "source": [
    "df = df.merge(between_events, how='left', left_index=True, right_index=True)"
   ]
  },
  {
   "cell_type": "code",
   "execution_count": 107,
   "id": "4cac9284",
   "metadata": {
    "colab": {
     "base_uri": "https://localhost:8080/",
     "height": 423
    },
    "executionInfo": {
     "elapsed": 13,
     "status": "ok",
     "timestamp": 1650033990884,
     "user": {
      "displayName": "Vadim Selin",
      "userId": "13742755250186020674"
     },
     "user_tz": -180
    },
    "id": "4cac9284",
    "outputId": "15b4c5e2-43a8-412e-eb4d-6ace83f4264f"
   },
   "outputs": [
    {
     "data": {
      "text/html": [
       "<div>\n",
       "<style scoped>\n",
       "    .dataframe tbody tr th:only-of-type {\n",
       "        vertical-align: middle;\n",
       "    }\n",
       "\n",
       "    .dataframe tbody tr th {\n",
       "        vertical-align: top;\n",
       "    }\n",
       "\n",
       "    .dataframe thead th {\n",
       "        text-align: right;\n",
       "    }\n",
       "</style>\n",
       "<table border=\"1\" class=\"dataframe\">\n",
       "  <thead>\n",
       "    <tr style=\"text-align: right;\">\n",
       "      <th></th>\n",
       "      <th>event_time</th>\n",
       "      <th>event_name</th>\n",
       "      <th>user_id</th>\n",
       "      <th>source</th>\n",
       "      <th>event_date</th>\n",
       "      <th>cluster_km</th>\n",
       "      <th>seconds_between</th>\n",
       "    </tr>\n",
       "  </thead>\n",
       "  <tbody>\n",
       "    <tr>\n",
       "      <th>0</th>\n",
       "      <td>2019-10-07 00:00:00.431357</td>\n",
       "      <td>advert_open</td>\n",
       "      <td>020292ab-89bc-4156-9acf-68bc2783f894</td>\n",
       "      <td>other</td>\n",
       "      <td>2019-10-07</td>\n",
       "      <td>2</td>\n",
       "      <td>NaN</td>\n",
       "    </tr>\n",
       "    <tr>\n",
       "      <th>1</th>\n",
       "      <td>2019-10-07 00:00:01.236320</td>\n",
       "      <td>tips_show</td>\n",
       "      <td>020292ab-89bc-4156-9acf-68bc2783f894</td>\n",
       "      <td>other</td>\n",
       "      <td>2019-10-07</td>\n",
       "      <td>2</td>\n",
       "      <td>0.0</td>\n",
       "    </tr>\n",
       "    <tr>\n",
       "      <th>2</th>\n",
       "      <td>2019-10-07 00:00:02.245341</td>\n",
       "      <td>tips_show</td>\n",
       "      <td>cf7eda61-9349-469f-ac27-e5b6f5ec475c</td>\n",
       "      <td>yandex</td>\n",
       "      <td>2019-10-07</td>\n",
       "      <td>1</td>\n",
       "      <td>NaN</td>\n",
       "    </tr>\n",
       "    <tr>\n",
       "      <th>3</th>\n",
       "      <td>2019-10-07 00:00:07.039334</td>\n",
       "      <td>tips_show</td>\n",
       "      <td>020292ab-89bc-4156-9acf-68bc2783f894</td>\n",
       "      <td>other</td>\n",
       "      <td>2019-10-07</td>\n",
       "      <td>2</td>\n",
       "      <td>5.0</td>\n",
       "    </tr>\n",
       "    <tr>\n",
       "      <th>4</th>\n",
       "      <td>2019-10-07 00:00:56.319813</td>\n",
       "      <td>advert_open</td>\n",
       "      <td>cf7eda61-9349-469f-ac27-e5b6f5ec475c</td>\n",
       "      <td>yandex</td>\n",
       "      <td>2019-10-07</td>\n",
       "      <td>1</td>\n",
       "      <td>54.0</td>\n",
       "    </tr>\n",
       "    <tr>\n",
       "      <th>...</th>\n",
       "      <td>...</td>\n",
       "      <td>...</td>\n",
       "      <td>...</td>\n",
       "      <td>...</td>\n",
       "      <td>...</td>\n",
       "      <td>...</td>\n",
       "      <td>...</td>\n",
       "    </tr>\n",
       "    <tr>\n",
       "      <th>74192</th>\n",
       "      <td>2019-11-03 23:53:29.534986</td>\n",
       "      <td>tips_show</td>\n",
       "      <td>28fccdf4-7b9e-42f5-bc73-439a265f20e9</td>\n",
       "      <td>google</td>\n",
       "      <td>2019-11-03</td>\n",
       "      <td>1</td>\n",
       "      <td>4.0</td>\n",
       "    </tr>\n",
       "    <tr>\n",
       "      <th>74193</th>\n",
       "      <td>2019-11-03 23:54:00.407086</td>\n",
       "      <td>tips_show</td>\n",
       "      <td>28fccdf4-7b9e-42f5-bc73-439a265f20e9</td>\n",
       "      <td>google</td>\n",
       "      <td>2019-11-03</td>\n",
       "      <td>1</td>\n",
       "      <td>30.0</td>\n",
       "    </tr>\n",
       "    <tr>\n",
       "      <th>74194</th>\n",
       "      <td>2019-11-03 23:56:57.041825</td>\n",
       "      <td>search_action</td>\n",
       "      <td>20850c8f-4135-4059-b13b-198d3ac59902</td>\n",
       "      <td>google</td>\n",
       "      <td>2019-11-03</td>\n",
       "      <td>3</td>\n",
       "      <td>15915.0</td>\n",
       "    </tr>\n",
       "    <tr>\n",
       "      <th>74195</th>\n",
       "      <td>2019-11-03 23:57:06.232189</td>\n",
       "      <td>tips_show</td>\n",
       "      <td>28fccdf4-7b9e-42f5-bc73-439a265f20e9</td>\n",
       "      <td>google</td>\n",
       "      <td>2019-11-03</td>\n",
       "      <td>1</td>\n",
       "      <td>185.0</td>\n",
       "    </tr>\n",
       "    <tr>\n",
       "      <th>74196</th>\n",
       "      <td>2019-11-03 23:58:12.532487</td>\n",
       "      <td>tips_show</td>\n",
       "      <td>28fccdf4-7b9e-42f5-bc73-439a265f20e9</td>\n",
       "      <td>google</td>\n",
       "      <td>2019-11-03</td>\n",
       "      <td>1</td>\n",
       "      <td>66.0</td>\n",
       "    </tr>\n",
       "  </tbody>\n",
       "</table>\n",
       "<p>74197 rows × 7 columns</p>\n",
       "</div>"
      ],
      "text/plain": [
       "                      event_time     event_name  \\\n",
       "0     2019-10-07 00:00:00.431357    advert_open   \n",
       "1     2019-10-07 00:00:01.236320      tips_show   \n",
       "2     2019-10-07 00:00:02.245341      tips_show   \n",
       "3     2019-10-07 00:00:07.039334      tips_show   \n",
       "4     2019-10-07 00:00:56.319813    advert_open   \n",
       "...                          ...            ...   \n",
       "74192 2019-11-03 23:53:29.534986      tips_show   \n",
       "74193 2019-11-03 23:54:00.407086      tips_show   \n",
       "74194 2019-11-03 23:56:57.041825  search_action   \n",
       "74195 2019-11-03 23:57:06.232189      tips_show   \n",
       "74196 2019-11-03 23:58:12.532487      tips_show   \n",
       "\n",
       "                                    user_id  source event_date  cluster_km  \\\n",
       "0      020292ab-89bc-4156-9acf-68bc2783f894   other 2019-10-07           2   \n",
       "1      020292ab-89bc-4156-9acf-68bc2783f894   other 2019-10-07           2   \n",
       "2      cf7eda61-9349-469f-ac27-e5b6f5ec475c  yandex 2019-10-07           1   \n",
       "3      020292ab-89bc-4156-9acf-68bc2783f894   other 2019-10-07           2   \n",
       "4      cf7eda61-9349-469f-ac27-e5b6f5ec475c  yandex 2019-10-07           1   \n",
       "...                                     ...     ...        ...         ...   \n",
       "74192  28fccdf4-7b9e-42f5-bc73-439a265f20e9  google 2019-11-03           1   \n",
       "74193  28fccdf4-7b9e-42f5-bc73-439a265f20e9  google 2019-11-03           1   \n",
       "74194  20850c8f-4135-4059-b13b-198d3ac59902  google 2019-11-03           3   \n",
       "74195  28fccdf4-7b9e-42f5-bc73-439a265f20e9  google 2019-11-03           1   \n",
       "74196  28fccdf4-7b9e-42f5-bc73-439a265f20e9  google 2019-11-03           1   \n",
       "\n",
       "       seconds_between  \n",
       "0                  NaN  \n",
       "1                  0.0  \n",
       "2                  NaN  \n",
       "3                  5.0  \n",
       "4                 54.0  \n",
       "...                ...  \n",
       "74192              4.0  \n",
       "74193             30.0  \n",
       "74194          15915.0  \n",
       "74195            185.0  \n",
       "74196             66.0  \n",
       "\n",
       "[74197 rows x 7 columns]"
      ]
     },
     "execution_count": 107,
     "metadata": {},
     "output_type": "execute_result"
    }
   ],
   "source": [
    "df"
   ]
  },
  {
   "cell_type": "markdown",
   "id": "2ac38a15",
   "metadata": {
    "id": "2ac38a15"
   },
   "source": [
    "- Из первых строк стало понятно, что самому первому событию каждого пользователя значение временной дельты соответствует `nan`, потому что функция `diff` не считает разницу с предыдущим событием, его нет.\n",
    "- Также видно, что когда разница между событиями меньше 1 секунды (быстрые пальцы) значение дельты при переводе в секунды равно `0`\n",
    "---\n",
    "Заменю значения дельты `nan` на `0`, а `0`(где на самом деле просто чуть меньше секунды) на 1"
   ]
  },
  {
   "cell_type": "code",
   "execution_count": 108,
   "id": "e6346bf3",
   "metadata": {
    "executionInfo": {
     "elapsed": 12,
     "status": "ok",
     "timestamp": 1650033990884,
     "user": {
      "displayName": "Vadim Selin",
      "userId": "13742755250186020674"
     },
     "user_tz": -180
    },
    "id": "e6346bf3"
   },
   "outputs": [],
   "source": [
    "df = df.replace({'seconds_between':{0:1, np.nan:0}})"
   ]
  },
  {
   "cell_type": "markdown",
   "id": "c82c509d",
   "metadata": {
    "id": "c82c509d"
   },
   "source": [
    "- Посмотрю на распределение значений временных дельт между событиями, опущу нулевые значения для первых сеансов пользователей"
   ]
  },
  {
   "cell_type": "code",
   "execution_count": 109,
   "id": "11fbb34d",
   "metadata": {
    "colab": {
     "base_uri": "https://localhost:8080/"
    },
    "executionInfo": {
     "elapsed": 12,
     "status": "ok",
     "timestamp": 1650033990885,
     "user": {
      "displayName": "Vadim Selin",
      "userId": "13742755250186020674"
     },
     "user_tz": -180
    },
    "id": "11fbb34d",
    "outputId": "5640311a-d032-4637-a337-99c46a56662f"
   },
   "outputs": [
    {
     "data": {
      "text/plain": [
       "count    69904.000000\n",
       "mean      2928.564446\n",
       "std      12589.866125\n",
       "min          1.000000\n",
       "25%         23.000000\n",
       "50%         70.000000\n",
       "75%        180.000000\n",
       "max      86383.000000\n",
       "Name: seconds_between, dtype: float64"
      ]
     },
     "execution_count": 109,
     "metadata": {},
     "output_type": "execute_result"
    }
   ],
   "source": [
    "df[df['seconds_between'] != 0]['seconds_between'].describe()"
   ]
  },
  {
   "cell_type": "markdown",
   "id": "rO3zosYMbPYI",
   "metadata": {
    "id": "rO3zosYMbPYI"
   },
   "source": [
    "- Получу самое частое значение дельты"
   ]
  },
  {
   "cell_type": "code",
   "execution_count": 110,
   "id": "c9bfa2c9",
   "metadata": {
    "colab": {
     "base_uri": "https://localhost:8080/"
    },
    "executionInfo": {
     "elapsed": 9,
     "status": "ok",
     "timestamp": 1650033990885,
     "user": {
      "displayName": "Vadim Selin",
      "userId": "13742755250186020674"
     },
     "user_tz": -180
    },
    "id": "c9bfa2c9",
    "outputId": "0d8e18ff-b61e-48c4-a32e-aa226e622390"
   },
   "outputs": [
    {
     "data": {
      "text/plain": [
       "0    1.0\n",
       "dtype: float64"
      ]
     },
     "execution_count": 110,
     "metadata": {},
     "output_type": "execute_result"
    }
   ],
   "source": [
    "# беру моду именно по дельтам, поэтому отбрасываю первое событие с условной нулевой дельтой \n",
    "df[df['seconds_between'] != 0]['seconds_between'].mode()"
   ]
  },
  {
   "cell_type": "markdown",
   "id": "5c6c96ce",
   "metadata": {
    "id": "5c6c96ce"
   },
   "source": [
    "- Распределение сильно смещено вправо:\n",
    "    - Мода 1\n",
    "    - Медиана 70\n",
    "    - Среднее 2928\n",
    "---\n",
    "- Очевидно, что среднее значение временной дельты между событиями сильно оттянуто периодами бездействия между сессиями\n",
    "- А вот медиана не будет этому подвержена.\n",
    "- Но значение в 70 секунд (по опыту использования подобных приложений) мало, чтобы определить его как типичное для пользователей максимальное время бездействия, после которого можно начинать отсчитывать следующую сессию.\n",
    "- Поскольку в нашем приложении есть события результат которых требует большего вермени на изучение (чтение описания, просмотр фото, изучение карты, переходы в браузер вне приложения для поиска дополнительной информации по объекту объявления)\n",
    "- Поэтому рассмотрю в качестве верхней границы времени бездействия (в рамках текущего сеанса) верхний предел статистически значимой выборки значений `seconds_between` на диаграмме `boxplot`.\n",
    "    - Потому что половина событий в логе происходит с большим временем бездействия.\n",
    "    - А между сессиями время бездействия должно быть существенно больше и число таких интервалов должно быть заметно меньше, чем у событий проходящих в сессиях.\n",
    "    - Поэтому на диаграмме `boxplot` стоит ожидать межсессионные дельты в области выбросов.\n",
    "- Верхний предел статистически значимой выборки значений `seconds_between` будет равен сумме полутора межквартильных размахов и значения 3-го квартиля: `1.5 * (180 - 23) + 180 = 415.5`\n",
    "- Это почти 7 минут и гораздо больше похоже на то время, за которое даже не самый активный пользователь прочтёт, посмотрит что нужно и перейдёт к следующему действию (событию)"
   ]
  },
  {
   "cell_type": "markdown",
   "id": "7548bbd0",
   "metadata": {},
   "source": [
    "<div class=\"alert alert-success\" style=\"border-radius: 15px; box-shadow: 4px 4px 4px; border: 1px solid \" > <b>Комментарии от тимлида ✔️ : </b> \n",
    "\n",
    "Отличное решение. Вполне имеет право на жизнь\n",
    "   \n",
    "</div>"
   ]
  },
  {
   "cell_type": "code",
   "execution_count": 111,
   "id": "405b76a9",
   "metadata": {
    "colab": {
     "base_uri": "https://localhost:8080/",
     "height": 444
    },
    "executionInfo": {
     "elapsed": 460,
     "status": "ok",
     "timestamp": 1650033991339,
     "user": {
      "displayName": "Vadim Selin",
      "userId": "13742755250186020674"
     },
     "user_tz": -180
    },
    "id": "405b76a9",
    "outputId": "fcd41e83-713c-4b84-ee23-9c1858c647f3"
   },
   "outputs": [
    {
     "data": {
      "image/png": "[encoded data removed]",
      "text/plain": [
       "<Figure size 360x504 with 1 Axes>"
      ]
     },
     "metadata": {
      "needs_background": "light"
     },
     "output_type": "display_data"
    }
   ],
   "source": [
    "df[df['seconds_between'] != 0].boxplot('seconds_between', figsize=(5, 7))\n",
    "plt.ylim(0, 1000)\n",
    "plt.title('Распределение временных дельт между событиями по каждому пользователю')\n",
    "plt.show()"
   ]
  },
  {
   "cell_type": "markdown",
   "id": "747ae095",
   "metadata": {
    "id": "747ae095"
   },
   "source": [
    "---\n",
    "Длительность времени бездействия до начала следующей пользовательской сессии определю как 420 секунд (округлённые до 7 минут 415,5 секунд). Для сравнения, в Google Analytics 4 оно составляет 30 минут, после чего сеанс автоматически прекращается. Это обусловленно в первую очередь количеством контента, которое может изучать средний пользователь до совершения следующего события.\n",
    "\n",
    "---\n",
    "\n",
    "- Теперь промаркирую события, чтобы выделить начало каждой новой сессии"
   ]
  },
  {
   "cell_type": "markdown",
   "id": "BN6pNgrjDhki",
   "metadata": {
    "id": "BN6pNgrjDhki"
   },
   "source": [
    "- Присвою каждому первому событию каждого пользователя в логе маркер `start_new_session`, как условился в **допущении** выше"
   ]
  },
  {
   "cell_type": "code",
   "execution_count": 112,
   "id": "o6YZ-EbfDhki",
   "metadata": {
    "executionInfo": {
     "elapsed": 4,
     "status": "ok",
     "timestamp": 1650033991339,
     "user": {
      "displayName": "Vadim Selin",
      "userId": "13742755250186020674"
     },
     "user_tz": -180
    },
    "id": "o6YZ-EbfDhki"
   },
   "outputs": [],
   "source": [
    "df['session_status'] = np.where(df['seconds_between'] == 0, 'start_new_session', np.nan)"
   ]
  },
  {
   "cell_type": "markdown",
   "id": "T_xPCVwmfQrv",
   "metadata": {
    "id": "T_xPCVwmfQrv"
   },
   "source": [
    "- Из следующей операции исключю все первые `start_new_session`\n",
    "- Все последующие события пользователей с временной дельтой **(к предыдущему событию этого пользователя)** меньше 420 секунд, промаркирую как `session_continues`\n",
    "- если дельта больше 420 - `start_new_session`."
   ]
  },
  {
   "cell_type": "code",
   "execution_count": 113,
   "id": "7j6aTo-cDhki",
   "metadata": {
    "executionInfo": {
     "elapsed": 402,
     "status": "ok",
     "timestamp": 1650033991737,
     "user": {
      "displayName": "Vadim Selin",
      "userId": "13742755250186020674"
     },
     "user_tz": -180
    },
    "id": "7j6aTo-cDhki"
   },
   "outputs": [],
   "source": [
    "df.loc[df['session_status'] != 'start_new_session', 'session_status'] = df['seconds_between'].apply(lambda x : 'session_continues' if x < 420 else 'start_new_session')"
   ]
  },
  {
   "cell_type": "code",
   "execution_count": 114,
   "id": "hb3I3552hoI5",
   "metadata": {
    "colab": {
     "base_uri": "https://localhost:8080/",
     "height": 423
    },
    "executionInfo": {
     "elapsed": 8,
     "status": "ok",
     "timestamp": 1650033991738,
     "user": {
      "displayName": "Vadim Selin",
      "userId": "13742755250186020674"
     },
     "user_tz": -180
    },
    "id": "hb3I3552hoI5",
    "outputId": "e76a0044-1498-4356-bc57-dc754fde5973"
   },
   "outputs": [
    {
     "data": {
      "text/html": [
       "<div>\n",
       "<style scoped>\n",
       "    .dataframe tbody tr th:only-of-type {\n",
       "        vertical-align: middle;\n",
       "    }\n",
       "\n",
       "    .dataframe tbody tr th {\n",
       "        vertical-align: top;\n",
       "    }\n",
       "\n",
       "    .dataframe thead th {\n",
       "        text-align: right;\n",
       "    }\n",
       "</style>\n",
       "<table border=\"1\" class=\"dataframe\">\n",
       "  <thead>\n",
       "    <tr style=\"text-align: right;\">\n",
       "      <th></th>\n",
       "      <th>event_time</th>\n",
       "      <th>event_name</th>\n",
       "      <th>user_id</th>\n",
       "      <th>source</th>\n",
       "      <th>event_date</th>\n",
       "      <th>cluster_km</th>\n",
       "      <th>seconds_between</th>\n",
       "      <th>session_status</th>\n",
       "    </tr>\n",
       "  </thead>\n",
       "  <tbody>\n",
       "    <tr>\n",
       "      <th>0</th>\n",
       "      <td>2019-10-07 00:00:00.431357</td>\n",
       "      <td>advert_open</td>\n",
       "      <td>020292ab-89bc-4156-9acf-68bc2783f894</td>\n",
       "      <td>other</td>\n",
       "      <td>2019-10-07</td>\n",
       "      <td>2</td>\n",
       "      <td>0.0</td>\n",
       "      <td>start_new_session</td>\n",
       "    </tr>\n",
       "    <tr>\n",
       "      <th>1</th>\n",
       "      <td>2019-10-07 00:00:01.236320</td>\n",
       "      <td>tips_show</td>\n",
       "      <td>020292ab-89bc-4156-9acf-68bc2783f894</td>\n",
       "      <td>other</td>\n",
       "      <td>2019-10-07</td>\n",
       "      <td>2</td>\n",
       "      <td>1.0</td>\n",
       "      <td>session_continues</td>\n",
       "    </tr>\n",
       "    <tr>\n",
       "      <th>2</th>\n",
       "      <td>2019-10-07 00:00:02.245341</td>\n",
       "      <td>tips_show</td>\n",
       "      <td>cf7eda61-9349-469f-ac27-e5b6f5ec475c</td>\n",
       "      <td>yandex</td>\n",
       "      <td>2019-10-07</td>\n",
       "      <td>1</td>\n",
       "      <td>0.0</td>\n",
       "      <td>start_new_session</td>\n",
       "    </tr>\n",
       "    <tr>\n",
       "      <th>3</th>\n",
       "      <td>2019-10-07 00:00:07.039334</td>\n",
       "      <td>tips_show</td>\n",
       "      <td>020292ab-89bc-4156-9acf-68bc2783f894</td>\n",
       "      <td>other</td>\n",
       "      <td>2019-10-07</td>\n",
       "      <td>2</td>\n",
       "      <td>5.0</td>\n",
       "      <td>session_continues</td>\n",
       "    </tr>\n",
       "    <tr>\n",
       "      <th>4</th>\n",
       "      <td>2019-10-07 00:00:56.319813</td>\n",
       "      <td>advert_open</td>\n",
       "      <td>cf7eda61-9349-469f-ac27-e5b6f5ec475c</td>\n",
       "      <td>yandex</td>\n",
       "      <td>2019-10-07</td>\n",
       "      <td>1</td>\n",
       "      <td>54.0</td>\n",
       "      <td>session_continues</td>\n",
       "    </tr>\n",
       "    <tr>\n",
       "      <th>...</th>\n",
       "      <td>...</td>\n",
       "      <td>...</td>\n",
       "      <td>...</td>\n",
       "      <td>...</td>\n",
       "      <td>...</td>\n",
       "      <td>...</td>\n",
       "      <td>...</td>\n",
       "      <td>...</td>\n",
       "    </tr>\n",
       "    <tr>\n",
       "      <th>74192</th>\n",
       "      <td>2019-11-03 23:53:29.534986</td>\n",
       "      <td>tips_show</td>\n",
       "      <td>28fccdf4-7b9e-42f5-bc73-439a265f20e9</td>\n",
       "      <td>google</td>\n",
       "      <td>2019-11-03</td>\n",
       "      <td>1</td>\n",
       "      <td>4.0</td>\n",
       "      <td>session_continues</td>\n",
       "    </tr>\n",
       "    <tr>\n",
       "      <th>74193</th>\n",
       "      <td>2019-11-03 23:54:00.407086</td>\n",
       "      <td>tips_show</td>\n",
       "      <td>28fccdf4-7b9e-42f5-bc73-439a265f20e9</td>\n",
       "      <td>google</td>\n",
       "      <td>2019-11-03</td>\n",
       "      <td>1</td>\n",
       "      <td>30.0</td>\n",
       "      <td>session_continues</td>\n",
       "    </tr>\n",
       "    <tr>\n",
       "      <th>74194</th>\n",
       "      <td>2019-11-03 23:56:57.041825</td>\n",
       "      <td>search_action</td>\n",
       "      <td>20850c8f-4135-4059-b13b-198d3ac59902</td>\n",
       "      <td>google</td>\n",
       "      <td>2019-11-03</td>\n",
       "      <td>3</td>\n",
       "      <td>15915.0</td>\n",
       "      <td>start_new_session</td>\n",
       "    </tr>\n",
       "    <tr>\n",
       "      <th>74195</th>\n",
       "      <td>2019-11-03 23:57:06.232189</td>\n",
       "      <td>tips_show</td>\n",
       "      <td>28fccdf4-7b9e-42f5-bc73-439a265f20e9</td>\n",
       "      <td>google</td>\n",
       "      <td>2019-11-03</td>\n",
       "      <td>1</td>\n",
       "      <td>185.0</td>\n",
       "      <td>session_continues</td>\n",
       "    </tr>\n",
       "    <tr>\n",
       "      <th>74196</th>\n",
       "      <td>2019-11-03 23:58:12.532487</td>\n",
       "      <td>tips_show</td>\n",
       "      <td>28fccdf4-7b9e-42f5-bc73-439a265f20e9</td>\n",
       "      <td>google</td>\n",
       "      <td>2019-11-03</td>\n",
       "      <td>1</td>\n",
       "      <td>66.0</td>\n",
       "      <td>session_continues</td>\n",
       "    </tr>\n",
       "  </tbody>\n",
       "</table>\n",
       "<p>74197 rows × 8 columns</p>\n",
       "</div>"
      ],
      "text/plain": [
       "                      event_time     event_name  \\\n",
       "0     2019-10-07 00:00:00.431357    advert_open   \n",
       "1     2019-10-07 00:00:01.236320      tips_show   \n",
       "2     2019-10-07 00:00:02.245341      tips_show   \n",
       "3     2019-10-07 00:00:07.039334      tips_show   \n",
       "4     2019-10-07 00:00:56.319813    advert_open   \n",
       "...                          ...            ...   \n",
       "74192 2019-11-03 23:53:29.534986      tips_show   \n",
       "74193 2019-11-03 23:54:00.407086      tips_show   \n",
       "74194 2019-11-03 23:56:57.041825  search_action   \n",
       "74195 2019-11-03 23:57:06.232189      tips_show   \n",
       "74196 2019-11-03 23:58:12.532487      tips_show   \n",
       "\n",
       "                                    user_id  source event_date  cluster_km  \\\n",
       "0      020292ab-89bc-4156-9acf-68bc2783f894   other 2019-10-07           2   \n",
       "1      020292ab-89bc-4156-9acf-68bc2783f894   other 2019-10-07           2   \n",
       "2      cf7eda61-9349-469f-ac27-e5b6f5ec475c  yandex 2019-10-07           1   \n",
       "3      020292ab-89bc-4156-9acf-68bc2783f894   other 2019-10-07           2   \n",
       "4      cf7eda61-9349-469f-ac27-e5b6f5ec475c  yandex 2019-10-07           1   \n",
       "...                                     ...     ...        ...         ...   \n",
       "74192  28fccdf4-7b9e-42f5-bc73-439a265f20e9  google 2019-11-03           1   \n",
       "74193  28fccdf4-7b9e-42f5-bc73-439a265f20e9  google 2019-11-03           1   \n",
       "74194  20850c8f-4135-4059-b13b-198d3ac59902  google 2019-11-03           3   \n",
       "74195  28fccdf4-7b9e-42f5-bc73-439a265f20e9  google 2019-11-03           1   \n",
       "74196  28fccdf4-7b9e-42f5-bc73-439a265f20e9  google 2019-11-03           1   \n",
       "\n",
       "       seconds_between     session_status  \n",
       "0                  0.0  start_new_session  \n",
       "1                  1.0  session_continues  \n",
       "2                  0.0  start_new_session  \n",
       "3                  5.0  session_continues  \n",
       "4                 54.0  session_continues  \n",
       "...                ...                ...  \n",
       "74192              4.0  session_continues  \n",
       "74193             30.0  session_continues  \n",
       "74194          15915.0  start_new_session  \n",
       "74195            185.0  session_continues  \n",
       "74196             66.0  session_continues  \n",
       "\n",
       "[74197 rows x 8 columns]"
      ]
     },
     "execution_count": 114,
     "metadata": {},
     "output_type": "execute_result"
    }
   ],
   "source": [
    "df"
   ]
  },
  {
   "cell_type": "markdown",
   "id": "DGxylV0uQsRG",
   "metadata": {
    "id": "DGxylV0uQsRG"
   },
   "source": [
    "- Замечательно, но теперь бы пронумеровать каждую сессию для каждого пользователя своим номером, чтобы группировкой по этому номеру можно было получить первое и последнее событие в конкретной сессии.\n",
    "- Это нужно для того, чтобы посчитать длительность каждой отдельной сессии для каждого пользователя.\n",
    "- Создам новый столбец `session_number` и заполню его пропусками."
   ]
  },
  {
   "cell_type": "code",
   "execution_count": 115,
   "id": "UuqSVYkKMgE2",
   "metadata": {
    "executionInfo": {
     "elapsed": 7,
     "status": "ok",
     "timestamp": 1650033991738,
     "user": {
      "displayName": "Vadim Selin",
      "userId": "13742755250186020674"
     },
     "user_tz": -180
    },
    "id": "UuqSVYkKMgE2"
   },
   "outputs": [],
   "source": [
    "df['session_number'] = np.nan"
   ]
  },
  {
   "cell_type": "code",
   "execution_count": 116,
   "id": "ZPwoxZEcNQXr",
   "metadata": {
    "colab": {
     "base_uri": "https://localhost:8080/",
     "height": 423
    },
    "executionInfo": {
     "elapsed": 7,
     "status": "ok",
     "timestamp": 1650033991739,
     "user": {
      "displayName": "Vadim Selin",
      "userId": "13742755250186020674"
     },
     "user_tz": -180
    },
    "id": "ZPwoxZEcNQXr",
    "outputId": "00f8ad61-1e6f-4504-abf6-c161324f0d72"
   },
   "outputs": [
    {
     "data": {
      "text/html": [
       "<div>\n",
       "<style scoped>\n",
       "    .dataframe tbody tr th:only-of-type {\n",
       "        vertical-align: middle;\n",
       "    }\n",
       "\n",
       "    .dataframe tbody tr th {\n",
       "        vertical-align: top;\n",
       "    }\n",
       "\n",
       "    .dataframe thead th {\n",
       "        text-align: right;\n",
       "    }\n",
       "</style>\n",
       "<table border=\"1\" class=\"dataframe\">\n",
       "  <thead>\n",
       "    <tr style=\"text-align: right;\">\n",
       "      <th></th>\n",
       "      <th>event_time</th>\n",
       "      <th>event_name</th>\n",
       "      <th>user_id</th>\n",
       "      <th>source</th>\n",
       "      <th>event_date</th>\n",
       "      <th>cluster_km</th>\n",
       "      <th>seconds_between</th>\n",
       "      <th>session_status</th>\n",
       "      <th>session_number</th>\n",
       "    </tr>\n",
       "  </thead>\n",
       "  <tbody>\n",
       "    <tr>\n",
       "      <th>0</th>\n",
       "      <td>2019-10-07 00:00:00.431357</td>\n",
       "      <td>advert_open</td>\n",
       "      <td>020292ab-89bc-4156-9acf-68bc2783f894</td>\n",
       "      <td>other</td>\n",
       "      <td>2019-10-07</td>\n",
       "      <td>2</td>\n",
       "      <td>0.0</td>\n",
       "      <td>start_new_session</td>\n",
       "      <td>NaN</td>\n",
       "    </tr>\n",
       "    <tr>\n",
       "      <th>1</th>\n",
       "      <td>2019-10-07 00:00:01.236320</td>\n",
       "      <td>tips_show</td>\n",
       "      <td>020292ab-89bc-4156-9acf-68bc2783f894</td>\n",
       "      <td>other</td>\n",
       "      <td>2019-10-07</td>\n",
       "      <td>2</td>\n",
       "      <td>1.0</td>\n",
       "      <td>session_continues</td>\n",
       "      <td>NaN</td>\n",
       "    </tr>\n",
       "    <tr>\n",
       "      <th>2</th>\n",
       "      <td>2019-10-07 00:00:02.245341</td>\n",
       "      <td>tips_show</td>\n",
       "      <td>cf7eda61-9349-469f-ac27-e5b6f5ec475c</td>\n",
       "      <td>yandex</td>\n",
       "      <td>2019-10-07</td>\n",
       "      <td>1</td>\n",
       "      <td>0.0</td>\n",
       "      <td>start_new_session</td>\n",
       "      <td>NaN</td>\n",
       "    </tr>\n",
       "    <tr>\n",
       "      <th>3</th>\n",
       "      <td>2019-10-07 00:00:07.039334</td>\n",
       "      <td>tips_show</td>\n",
       "      <td>020292ab-89bc-4156-9acf-68bc2783f894</td>\n",
       "      <td>other</td>\n",
       "      <td>2019-10-07</td>\n",
       "      <td>2</td>\n",
       "      <td>5.0</td>\n",
       "      <td>session_continues</td>\n",
       "      <td>NaN</td>\n",
       "    </tr>\n",
       "    <tr>\n",
       "      <th>4</th>\n",
       "      <td>2019-10-07 00:00:56.319813</td>\n",
       "      <td>advert_open</td>\n",
       "      <td>cf7eda61-9349-469f-ac27-e5b6f5ec475c</td>\n",
       "      <td>yandex</td>\n",
       "      <td>2019-10-07</td>\n",
       "      <td>1</td>\n",
       "      <td>54.0</td>\n",
       "      <td>session_continues</td>\n",
       "      <td>NaN</td>\n",
       "    </tr>\n",
       "    <tr>\n",
       "      <th>...</th>\n",
       "      <td>...</td>\n",
       "      <td>...</td>\n",
       "      <td>...</td>\n",
       "      <td>...</td>\n",
       "      <td>...</td>\n",
       "      <td>...</td>\n",
       "      <td>...</td>\n",
       "      <td>...</td>\n",
       "      <td>...</td>\n",
       "    </tr>\n",
       "    <tr>\n",
       "      <th>74192</th>\n",
       "      <td>2019-11-03 23:53:29.534986</td>\n",
       "      <td>tips_show</td>\n",
       "      <td>28fccdf4-7b9e-42f5-bc73-439a265f20e9</td>\n",
       "      <td>google</td>\n",
       "      <td>2019-11-03</td>\n",
       "      <td>1</td>\n",
       "      <td>4.0</td>\n",
       "      <td>session_continues</td>\n",
       "      <td>NaN</td>\n",
       "    </tr>\n",
       "    <tr>\n",
       "      <th>74193</th>\n",
       "      <td>2019-11-03 23:54:00.407086</td>\n",
       "      <td>tips_show</td>\n",
       "      <td>28fccdf4-7b9e-42f5-bc73-439a265f20e9</td>\n",
       "      <td>google</td>\n",
       "      <td>2019-11-03</td>\n",
       "      <td>1</td>\n",
       "      <td>30.0</td>\n",
       "      <td>session_continues</td>\n",
       "      <td>NaN</td>\n",
       "    </tr>\n",
       "    <tr>\n",
       "      <th>74194</th>\n",
       "      <td>2019-11-03 23:56:57.041825</td>\n",
       "      <td>search_action</td>\n",
       "      <td>20850c8f-4135-4059-b13b-198d3ac59902</td>\n",
       "      <td>google</td>\n",
       "      <td>2019-11-03</td>\n",
       "      <td>3</td>\n",
       "      <td>15915.0</td>\n",
       "      <td>start_new_session</td>\n",
       "      <td>NaN</td>\n",
       "    </tr>\n",
       "    <tr>\n",
       "      <th>74195</th>\n",
       "      <td>2019-11-03 23:57:06.232189</td>\n",
       "      <td>tips_show</td>\n",
       "      <td>28fccdf4-7b9e-42f5-bc73-439a265f20e9</td>\n",
       "      <td>google</td>\n",
       "      <td>2019-11-03</td>\n",
       "      <td>1</td>\n",
       "      <td>185.0</td>\n",
       "      <td>session_continues</td>\n",
       "      <td>NaN</td>\n",
       "    </tr>\n",
       "    <tr>\n",
       "      <th>74196</th>\n",
       "      <td>2019-11-03 23:58:12.532487</td>\n",
       "      <td>tips_show</td>\n",
       "      <td>28fccdf4-7b9e-42f5-bc73-439a265f20e9</td>\n",
       "      <td>google</td>\n",
       "      <td>2019-11-03</td>\n",
       "      <td>1</td>\n",
       "      <td>66.0</td>\n",
       "      <td>session_continues</td>\n",
       "      <td>NaN</td>\n",
       "    </tr>\n",
       "  </tbody>\n",
       "</table>\n",
       "<p>74197 rows × 9 columns</p>\n",
       "</div>"
      ],
      "text/plain": [
       "                      event_time     event_name  \\\n",
       "0     2019-10-07 00:00:00.431357    advert_open   \n",
       "1     2019-10-07 00:00:01.236320      tips_show   \n",
       "2     2019-10-07 00:00:02.245341      tips_show   \n",
       "3     2019-10-07 00:00:07.039334      tips_show   \n",
       "4     2019-10-07 00:00:56.319813    advert_open   \n",
       "...                          ...            ...   \n",
       "74192 2019-11-03 23:53:29.534986      tips_show   \n",
       "74193 2019-11-03 23:54:00.407086      tips_show   \n",
       "74194 2019-11-03 23:56:57.041825  search_action   \n",
       "74195 2019-11-03 23:57:06.232189      tips_show   \n",
       "74196 2019-11-03 23:58:12.532487      tips_show   \n",
       "\n",
       "                                    user_id  source event_date  cluster_km  \\\n",
       "0      020292ab-89bc-4156-9acf-68bc2783f894   other 2019-10-07           2   \n",
       "1      020292ab-89bc-4156-9acf-68bc2783f894   other 2019-10-07           2   \n",
       "2      cf7eda61-9349-469f-ac27-e5b6f5ec475c  yandex 2019-10-07           1   \n",
       "3      020292ab-89bc-4156-9acf-68bc2783f894   other 2019-10-07           2   \n",
       "4      cf7eda61-9349-469f-ac27-e5b6f5ec475c  yandex 2019-10-07           1   \n",
       "...                                     ...     ...        ...         ...   \n",
       "74192  28fccdf4-7b9e-42f5-bc73-439a265f20e9  google 2019-11-03           1   \n",
       "74193  28fccdf4-7b9e-42f5-bc73-439a265f20e9  google 2019-11-03           1   \n",
       "74194  20850c8f-4135-4059-b13b-198d3ac59902  google 2019-11-03           3   \n",
       "74195  28fccdf4-7b9e-42f5-bc73-439a265f20e9  google 2019-11-03           1   \n",
       "74196  28fccdf4-7b9e-42f5-bc73-439a265f20e9  google 2019-11-03           1   \n",
       "\n",
       "       seconds_between     session_status  session_number  \n",
       "0                  0.0  start_new_session             NaN  \n",
       "1                  1.0  session_continues             NaN  \n",
       "2                  0.0  start_new_session             NaN  \n",
       "3                  5.0  session_continues             NaN  \n",
       "4                 54.0  session_continues             NaN  \n",
       "...                ...                ...             ...  \n",
       "74192              4.0  session_continues             NaN  \n",
       "74193             30.0  session_continues             NaN  \n",
       "74194          15915.0  start_new_session             NaN  \n",
       "74195            185.0  session_continues             NaN  \n",
       "74196             66.0  session_continues             NaN  \n",
       "\n",
       "[74197 rows x 9 columns]"
      ]
     },
     "execution_count": 116,
     "metadata": {},
     "output_type": "execute_result"
    }
   ],
   "source": [
    "df"
   ]
  },
  {
   "cell_type": "markdown",
   "id": "3zrSYCsDSl1c",
   "metadata": {
    "id": "3zrSYCsDSl1c"
   },
   "source": [
    "- Теперь выберу строки стартовых событий в сессиях и с помощью группировки по пользователям пронумерую для каждого пользователя его стартовые события.\n",
    "- Пронумерую = заменю NaN в столбце `session_number` на порядковый номер сессии от `0` до последней сессии."
   ]
  },
  {
   "cell_type": "code",
   "execution_count": 117,
   "id": "6zTEr6EcJbIs",
   "metadata": {
    "executionInfo": {
     "elapsed": 7,
     "status": "ok",
     "timestamp": 1650033991739,
     "user": {
      "displayName": "Vadim Selin",
      "userId": "13742755250186020674"
     },
     "user_tz": -180
    },
    "id": "6zTEr6EcJbIs"
   },
   "outputs": [],
   "source": [
    "df.loc[df['session_status'] == 'start_new_session', 'session_number'] = df[df['session_status'] == 'start_new_session'].groupby(['user_id']).cumcount()"
   ]
  },
  {
   "cell_type": "markdown",
   "id": "sLoPomDETvYk",
   "metadata": {
    "id": "sLoPomDETvYk"
   },
   "source": [
    "- Проверю корректность заполнения на примере двух пользователей."
   ]
  },
  {
   "cell_type": "code",
   "execution_count": 118,
   "id": "0yQSU4H9UZUd",
   "metadata": {
    "colab": {
     "base_uri": "https://localhost:8080/",
     "height": 520
    },
    "executionInfo": {
     "elapsed": 43,
     "status": "ok",
     "timestamp": 1650033992193,
     "user": {
      "displayName": "Vadim Selin",
      "userId": "13742755250186020674"
     },
     "user_tz": -180
    },
    "id": "0yQSU4H9UZUd",
    "outputId": "7c1508ce-4909-40d3-b3d3-cfaccd999edf"
   },
   "outputs": [
    {
     "data": {
      "text/html": [
       "<div>\n",
       "<style scoped>\n",
       "    .dataframe tbody tr th:only-of-type {\n",
       "        vertical-align: middle;\n",
       "    }\n",
       "\n",
       "    .dataframe tbody tr th {\n",
       "        vertical-align: top;\n",
       "    }\n",
       "\n",
       "    .dataframe thead th {\n",
       "        text-align: right;\n",
       "    }\n",
       "</style>\n",
       "<table border=\"1\" class=\"dataframe\">\n",
       "  <thead>\n",
       "    <tr style=\"text-align: right;\">\n",
       "      <th></th>\n",
       "      <th>event_time</th>\n",
       "      <th>event_name</th>\n",
       "      <th>user_id</th>\n",
       "      <th>source</th>\n",
       "      <th>event_date</th>\n",
       "      <th>cluster_km</th>\n",
       "      <th>seconds_between</th>\n",
       "      <th>session_status</th>\n",
       "      <th>session_number</th>\n",
       "    </tr>\n",
       "  </thead>\n",
       "  <tbody>\n",
       "    <tr>\n",
       "      <th>25</th>\n",
       "      <td>2019-10-07 00:05:20.190956</td>\n",
       "      <td>search_action</td>\n",
       "      <td>d9b06b47-0f36-419b-bbb0-3533e582a6cb</td>\n",
       "      <td>other</td>\n",
       "      <td>2019-10-07</td>\n",
       "      <td>2</td>\n",
       "      <td>0.0</td>\n",
       "      <td>start_new_session</td>\n",
       "      <td>0.0</td>\n",
       "    </tr>\n",
       "    <tr>\n",
       "      <th>26</th>\n",
       "      <td>2019-10-07 00:05:23.427766</td>\n",
       "      <td>search_action</td>\n",
       "      <td>d9b06b47-0f36-419b-bbb0-3533e582a6cb</td>\n",
       "      <td>other</td>\n",
       "      <td>2019-10-07</td>\n",
       "      <td>2</td>\n",
       "      <td>3.0</td>\n",
       "      <td>session_continues</td>\n",
       "      <td>NaN</td>\n",
       "    </tr>\n",
       "    <tr>\n",
       "      <th>8418</th>\n",
       "      <td>2019-10-10 15:45:36.012693</td>\n",
       "      <td>map</td>\n",
       "      <td>d9b06b47-0f36-419b-bbb0-3533e582a6cb</td>\n",
       "      <td>other</td>\n",
       "      <td>2019-10-10</td>\n",
       "      <td>2</td>\n",
       "      <td>56412.0</td>\n",
       "      <td>start_new_session</td>\n",
       "      <td>1.0</td>\n",
       "    </tr>\n",
       "    <tr>\n",
       "      <th>8427</th>\n",
       "      <td>2019-10-10 15:47:27.587105</td>\n",
       "      <td>advert_open</td>\n",
       "      <td>d9b06b47-0f36-419b-bbb0-3533e582a6cb</td>\n",
       "      <td>other</td>\n",
       "      <td>2019-10-10</td>\n",
       "      <td>2</td>\n",
       "      <td>111.0</td>\n",
       "      <td>session_continues</td>\n",
       "      <td>NaN</td>\n",
       "    </tr>\n",
       "    <tr>\n",
       "      <th>8431</th>\n",
       "      <td>2019-10-10 15:47:43.246959</td>\n",
       "      <td>tips_show</td>\n",
       "      <td>d9b06b47-0f36-419b-bbb0-3533e582a6cb</td>\n",
       "      <td>other</td>\n",
       "      <td>2019-10-10</td>\n",
       "      <td>2</td>\n",
       "      <td>15.0</td>\n",
       "      <td>session_continues</td>\n",
       "      <td>NaN</td>\n",
       "    </tr>\n",
       "    <tr>\n",
       "      <th>49175</th>\n",
       "      <td>2019-10-26 10:42:37.443131</td>\n",
       "      <td>advert_open</td>\n",
       "      <td>d9b06b47-0f36-419b-bbb0-3533e582a6cb</td>\n",
       "      <td>other</td>\n",
       "      <td>2019-10-26</td>\n",
       "      <td>2</td>\n",
       "      <td>68094.0</td>\n",
       "      <td>start_new_session</td>\n",
       "      <td>2.0</td>\n",
       "    </tr>\n",
       "    <tr>\n",
       "      <th>49176</th>\n",
       "      <td>2019-10-26 10:42:46.651319</td>\n",
       "      <td>advert_open</td>\n",
       "      <td>d9b06b47-0f36-419b-bbb0-3533e582a6cb</td>\n",
       "      <td>other</td>\n",
       "      <td>2019-10-26</td>\n",
       "      <td>2</td>\n",
       "      <td>9.0</td>\n",
       "      <td>session_continues</td>\n",
       "      <td>NaN</td>\n",
       "    </tr>\n",
       "    <tr>\n",
       "      <th>49177</th>\n",
       "      <td>2019-10-26 10:42:56.492410</td>\n",
       "      <td>advert_open</td>\n",
       "      <td>d9b06b47-0f36-419b-bbb0-3533e582a6cb</td>\n",
       "      <td>other</td>\n",
       "      <td>2019-10-26</td>\n",
       "      <td>2</td>\n",
       "      <td>9.0</td>\n",
       "      <td>session_continues</td>\n",
       "      <td>NaN</td>\n",
       "    </tr>\n",
       "    <tr>\n",
       "      <th>53902</th>\n",
       "      <td>2019-10-27 19:19:01.978939</td>\n",
       "      <td>search_action</td>\n",
       "      <td>20850c8f-4135-4059-b13b-198d3ac59902</td>\n",
       "      <td>google</td>\n",
       "      <td>2019-10-27</td>\n",
       "      <td>3</td>\n",
       "      <td>0.0</td>\n",
       "      <td>start_new_session</td>\n",
       "      <td>0.0</td>\n",
       "    </tr>\n",
       "    <tr>\n",
       "      <th>53903</th>\n",
       "      <td>2019-10-27 19:19:51.800658</td>\n",
       "      <td>search_action</td>\n",
       "      <td>20850c8f-4135-4059-b13b-198d3ac59902</td>\n",
       "      <td>google</td>\n",
       "      <td>2019-10-27</td>\n",
       "      <td>3</td>\n",
       "      <td>49.0</td>\n",
       "      <td>session_continues</td>\n",
       "      <td>NaN</td>\n",
       "    </tr>\n",
       "    <tr>\n",
       "      <th>53930</th>\n",
       "      <td>2019-10-27 19:30:13.468468</td>\n",
       "      <td>search_action</td>\n",
       "      <td>20850c8f-4135-4059-b13b-198d3ac59902</td>\n",
       "      <td>google</td>\n",
       "      <td>2019-10-27</td>\n",
       "      <td>3</td>\n",
       "      <td>621.0</td>\n",
       "      <td>start_new_session</td>\n",
       "      <td>1.0</td>\n",
       "    </tr>\n",
       "    <tr>\n",
       "      <th>53940</th>\n",
       "      <td>2019-10-27 19:31:02.434557</td>\n",
       "      <td>search_action</td>\n",
       "      <td>20850c8f-4135-4059-b13b-198d3ac59902</td>\n",
       "      <td>google</td>\n",
       "      <td>2019-10-27</td>\n",
       "      <td>3</td>\n",
       "      <td>48.0</td>\n",
       "      <td>session_continues</td>\n",
       "      <td>NaN</td>\n",
       "    </tr>\n",
       "    <tr>\n",
       "      <th>53943</th>\n",
       "      <td>2019-10-27 19:31:16.778112</td>\n",
       "      <td>search_action</td>\n",
       "      <td>20850c8f-4135-4059-b13b-198d3ac59902</td>\n",
       "      <td>google</td>\n",
       "      <td>2019-10-27</td>\n",
       "      <td>3</td>\n",
       "      <td>14.0</td>\n",
       "      <td>session_continues</td>\n",
       "      <td>NaN</td>\n",
       "    </tr>\n",
       "    <tr>\n",
       "      <th>53947</th>\n",
       "      <td>2019-10-27 19:31:41.053807</td>\n",
       "      <td>search_action</td>\n",
       "      <td>20850c8f-4135-4059-b13b-198d3ac59902</td>\n",
       "      <td>google</td>\n",
       "      <td>2019-10-27</td>\n",
       "      <td>3</td>\n",
       "      <td>24.0</td>\n",
       "      <td>session_continues</td>\n",
       "      <td>NaN</td>\n",
       "    </tr>\n",
       "    <tr>\n",
       "      <th>74194</th>\n",
       "      <td>2019-11-03 23:56:57.041825</td>\n",
       "      <td>search_action</td>\n",
       "      <td>20850c8f-4135-4059-b13b-198d3ac59902</td>\n",
       "      <td>google</td>\n",
       "      <td>2019-11-03</td>\n",
       "      <td>3</td>\n",
       "      <td>15915.0</td>\n",
       "      <td>start_new_session</td>\n",
       "      <td>2.0</td>\n",
       "    </tr>\n",
       "  </tbody>\n",
       "</table>\n",
       "</div>"
      ],
      "text/plain": [
       "                      event_time     event_name  \\\n",
       "25    2019-10-07 00:05:20.190956  search_action   \n",
       "26    2019-10-07 00:05:23.427766  search_action   \n",
       "8418  2019-10-10 15:45:36.012693            map   \n",
       "8427  2019-10-10 15:47:27.587105    advert_open   \n",
       "8431  2019-10-10 15:47:43.246959      tips_show   \n",
       "49175 2019-10-26 10:42:37.443131    advert_open   \n",
       "49176 2019-10-26 10:42:46.651319    advert_open   \n",
       "49177 2019-10-26 10:42:56.492410    advert_open   \n",
       "53902 2019-10-27 19:19:01.978939  search_action   \n",
       "53903 2019-10-27 19:19:51.800658  search_action   \n",
       "53930 2019-10-27 19:30:13.468468  search_action   \n",
       "53940 2019-10-27 19:31:02.434557  search_action   \n",
       "53943 2019-10-27 19:31:16.778112  search_action   \n",
       "53947 2019-10-27 19:31:41.053807  search_action   \n",
       "74194 2019-11-03 23:56:57.041825  search_action   \n",
       "\n",
       "                                    user_id  source event_date  cluster_km  \\\n",
       "25     d9b06b47-0f36-419b-bbb0-3533e582a6cb   other 2019-10-07           2   \n",
       "26     d9b06b47-0f36-419b-bbb0-3533e582a6cb   other 2019-10-07           2   \n",
       "8418   d9b06b47-0f36-419b-bbb0-3533e582a6cb   other 2019-10-10           2   \n",
       "8427   d9b06b47-0f36-419b-bbb0-3533e582a6cb   other 2019-10-10           2   \n",
       "8431   d9b06b47-0f36-419b-bbb0-3533e582a6cb   other 2019-10-10           2   \n",
       "49175  d9b06b47-0f36-419b-bbb0-3533e582a6cb   other 2019-10-26           2   \n",
       "49176  d9b06b47-0f36-419b-bbb0-3533e582a6cb   other 2019-10-26           2   \n",
       "49177  d9b06b47-0f36-419b-bbb0-3533e582a6cb   other 2019-10-26           2   \n",
       "53902  20850c8f-4135-4059-b13b-198d3ac59902  google 2019-10-27           3   \n",
       "53903  20850c8f-4135-4059-b13b-198d3ac59902  google 2019-10-27           3   \n",
       "53930  20850c8f-4135-4059-b13b-198d3ac59902  google 2019-10-27           3   \n",
       "53940  20850c8f-4135-4059-b13b-198d3ac59902  google 2019-10-27           3   \n",
       "53943  20850c8f-4135-4059-b13b-198d3ac59902  google 2019-10-27           3   \n",
       "53947  20850c8f-4135-4059-b13b-198d3ac59902  google 2019-10-27           3   \n",
       "74194  20850c8f-4135-4059-b13b-198d3ac59902  google 2019-11-03           3   \n",
       "\n",
       "       seconds_between     session_status  session_number  \n",
       "25                 0.0  start_new_session             0.0  \n",
       "26                 3.0  session_continues             NaN  \n",
       "8418           56412.0  start_new_session             1.0  \n",
       "8427             111.0  session_continues             NaN  \n",
       "8431              15.0  session_continues             NaN  \n",
       "49175          68094.0  start_new_session             2.0  \n",
       "49176              9.0  session_continues             NaN  \n",
       "49177              9.0  session_continues             NaN  \n",
       "53902              0.0  start_new_session             0.0  \n",
       "53903             49.0  session_continues             NaN  \n",
       "53930            621.0  start_new_session             1.0  \n",
       "53940             48.0  session_continues             NaN  \n",
       "53943             14.0  session_continues             NaN  \n",
       "53947             24.0  session_continues             NaN  \n",
       "74194          15915.0  start_new_session             2.0  "
      ]
     },
     "execution_count": 118,
     "metadata": {},
     "output_type": "execute_result"
    }
   ],
   "source": [
    "df[(df['user_id'] == '20850c8f-4135-4059-b13b-198d3ac59902') | (df['user_id'] == 'd9b06b47-0f36-419b-bbb0-3533e582a6cb')]"
   ]
  },
  {
   "cell_type": "markdown",
   "id": "rmVSK0TCh890",
   "metadata": {
    "id": "rmVSK0TCh890"
   },
   "source": [
    "- Сгруппирую `df` по пользователям и заполню пропуски в событиях с маркером `session_continues` методом `ffill`\n",
    "- Таким образом пропуски в строках событий `session_continues` заполнятся тем же номером сессии, что и у стартового события этой сессии."
   ]
  },
  {
   "cell_type": "code",
   "execution_count": 119,
   "id": "3Rq8oIQ2JbX0",
   "metadata": {
    "executionInfo": {
     "elapsed": 2100,
     "status": "ok",
     "timestamp": 1650033994251,
     "user": {
      "displayName": "Vadim Selin",
      "userId": "13742755250186020674"
     },
     "user_tz": -180
    },
    "id": "3Rq8oIQ2JbX0"
   },
   "outputs": [],
   "source": [
    "df['session_number'] = df.groupby('user_id')['session_number'].fillna(method='ffill')"
   ]
  },
  {
   "cell_type": "code",
   "execution_count": 120,
   "id": "5OA_GKbOVsnA",
   "metadata": {
    "colab": {
     "base_uri": "https://localhost:8080/",
     "height": 520
    },
    "executionInfo": {
     "elapsed": 8,
     "status": "ok",
     "timestamp": 1650033994252,
     "user": {
      "displayName": "Vadim Selin",
      "userId": "13742755250186020674"
     },
     "user_tz": -180
    },
    "id": "5OA_GKbOVsnA",
    "outputId": "81b960a5-ed59-4fab-934a-39d520b352b1"
   },
   "outputs": [
    {
     "data": {
      "text/html": [
       "<div>\n",
       "<style scoped>\n",
       "    .dataframe tbody tr th:only-of-type {\n",
       "        vertical-align: middle;\n",
       "    }\n",
       "\n",
       "    .dataframe tbody tr th {\n",
       "        vertical-align: top;\n",
       "    }\n",
       "\n",
       "    .dataframe thead th {\n",
       "        text-align: right;\n",
       "    }\n",
       "</style>\n",
       "<table border=\"1\" class=\"dataframe\">\n",
       "  <thead>\n",
       "    <tr style=\"text-align: right;\">\n",
       "      <th></th>\n",
       "      <th>event_time</th>\n",
       "      <th>event_name</th>\n",
       "      <th>user_id</th>\n",
       "      <th>source</th>\n",
       "      <th>event_date</th>\n",
       "      <th>cluster_km</th>\n",
       "      <th>seconds_between</th>\n",
       "      <th>session_status</th>\n",
       "      <th>session_number</th>\n",
       "    </tr>\n",
       "  </thead>\n",
       "  <tbody>\n",
       "    <tr>\n",
       "      <th>25</th>\n",
       "      <td>2019-10-07 00:05:20.190956</td>\n",
       "      <td>search_action</td>\n",
       "      <td>d9b06b47-0f36-419b-bbb0-3533e582a6cb</td>\n",
       "      <td>other</td>\n",
       "      <td>2019-10-07</td>\n",
       "      <td>2</td>\n",
       "      <td>0.0</td>\n",
       "      <td>start_new_session</td>\n",
       "      <td>0.0</td>\n",
       "    </tr>\n",
       "    <tr>\n",
       "      <th>26</th>\n",
       "      <td>2019-10-07 00:05:23.427766</td>\n",
       "      <td>search_action</td>\n",
       "      <td>d9b06b47-0f36-419b-bbb0-3533e582a6cb</td>\n",
       "      <td>other</td>\n",
       "      <td>2019-10-07</td>\n",
       "      <td>2</td>\n",
       "      <td>3.0</td>\n",
       "      <td>session_continues</td>\n",
       "      <td>0.0</td>\n",
       "    </tr>\n",
       "    <tr>\n",
       "      <th>8418</th>\n",
       "      <td>2019-10-10 15:45:36.012693</td>\n",
       "      <td>map</td>\n",
       "      <td>d9b06b47-0f36-419b-bbb0-3533e582a6cb</td>\n",
       "      <td>other</td>\n",
       "      <td>2019-10-10</td>\n",
       "      <td>2</td>\n",
       "      <td>56412.0</td>\n",
       "      <td>start_new_session</td>\n",
       "      <td>1.0</td>\n",
       "    </tr>\n",
       "    <tr>\n",
       "      <th>8427</th>\n",
       "      <td>2019-10-10 15:47:27.587105</td>\n",
       "      <td>advert_open</td>\n",
       "      <td>d9b06b47-0f36-419b-bbb0-3533e582a6cb</td>\n",
       "      <td>other</td>\n",
       "      <td>2019-10-10</td>\n",
       "      <td>2</td>\n",
       "      <td>111.0</td>\n",
       "      <td>session_continues</td>\n",
       "      <td>1.0</td>\n",
       "    </tr>\n",
       "    <tr>\n",
       "      <th>8431</th>\n",
       "      <td>2019-10-10 15:47:43.246959</td>\n",
       "      <td>tips_show</td>\n",
       "      <td>d9b06b47-0f36-419b-bbb0-3533e582a6cb</td>\n",
       "      <td>other</td>\n",
       "      <td>2019-10-10</td>\n",
       "      <td>2</td>\n",
       "      <td>15.0</td>\n",
       "      <td>session_continues</td>\n",
       "      <td>1.0</td>\n",
       "    </tr>\n",
       "    <tr>\n",
       "      <th>49175</th>\n",
       "      <td>2019-10-26 10:42:37.443131</td>\n",
       "      <td>advert_open</td>\n",
       "      <td>d9b06b47-0f36-419b-bbb0-3533e582a6cb</td>\n",
       "      <td>other</td>\n",
       "      <td>2019-10-26</td>\n",
       "      <td>2</td>\n",
       "      <td>68094.0</td>\n",
       "      <td>start_new_session</td>\n",
       "      <td>2.0</td>\n",
       "    </tr>\n",
       "    <tr>\n",
       "      <th>49176</th>\n",
       "      <td>2019-10-26 10:42:46.651319</td>\n",
       "      <td>advert_open</td>\n",
       "      <td>d9b06b47-0f36-419b-bbb0-3533e582a6cb</td>\n",
       "      <td>other</td>\n",
       "      <td>2019-10-26</td>\n",
       "      <td>2</td>\n",
       "      <td>9.0</td>\n",
       "      <td>session_continues</td>\n",
       "      <td>2.0</td>\n",
       "    </tr>\n",
       "    <tr>\n",
       "      <th>49177</th>\n",
       "      <td>2019-10-26 10:42:56.492410</td>\n",
       "      <td>advert_open</td>\n",
       "      <td>d9b06b47-0f36-419b-bbb0-3533e582a6cb</td>\n",
       "      <td>other</td>\n",
       "      <td>2019-10-26</td>\n",
       "      <td>2</td>\n",
       "      <td>9.0</td>\n",
       "      <td>session_continues</td>\n",
       "      <td>2.0</td>\n",
       "    </tr>\n",
       "    <tr>\n",
       "      <th>53902</th>\n",
       "      <td>2019-10-27 19:19:01.978939</td>\n",
       "      <td>search_action</td>\n",
       "      <td>20850c8f-4135-4059-b13b-198d3ac59902</td>\n",
       "      <td>google</td>\n",
       "      <td>2019-10-27</td>\n",
       "      <td>3</td>\n",
       "      <td>0.0</td>\n",
       "      <td>start_new_session</td>\n",
       "      <td>0.0</td>\n",
       "    </tr>\n",
       "    <tr>\n",
       "      <th>53903</th>\n",
       "      <td>2019-10-27 19:19:51.800658</td>\n",
       "      <td>search_action</td>\n",
       "      <td>20850c8f-4135-4059-b13b-198d3ac59902</td>\n",
       "      <td>google</td>\n",
       "      <td>2019-10-27</td>\n",
       "      <td>3</td>\n",
       "      <td>49.0</td>\n",
       "      <td>session_continues</td>\n",
       "      <td>0.0</td>\n",
       "    </tr>\n",
       "    <tr>\n",
       "      <th>53930</th>\n",
       "      <td>2019-10-27 19:30:13.468468</td>\n",
       "      <td>search_action</td>\n",
       "      <td>20850c8f-4135-4059-b13b-198d3ac59902</td>\n",
       "      <td>google</td>\n",
       "      <td>2019-10-27</td>\n",
       "      <td>3</td>\n",
       "      <td>621.0</td>\n",
       "      <td>start_new_session</td>\n",
       "      <td>1.0</td>\n",
       "    </tr>\n",
       "    <tr>\n",
       "      <th>53940</th>\n",
       "      <td>2019-10-27 19:31:02.434557</td>\n",
       "      <td>search_action</td>\n",
       "      <td>20850c8f-4135-4059-b13b-198d3ac59902</td>\n",
       "      <td>google</td>\n",
       "      <td>2019-10-27</td>\n",
       "      <td>3</td>\n",
       "      <td>48.0</td>\n",
       "      <td>session_continues</td>\n",
       "      <td>1.0</td>\n",
       "    </tr>\n",
       "    <tr>\n",
       "      <th>53943</th>\n",
       "      <td>2019-10-27 19:31:16.778112</td>\n",
       "      <td>search_action</td>\n",
       "      <td>20850c8f-4135-4059-b13b-198d3ac59902</td>\n",
       "      <td>google</td>\n",
       "      <td>2019-10-27</td>\n",
       "      <td>3</td>\n",
       "      <td>14.0</td>\n",
       "      <td>session_continues</td>\n",
       "      <td>1.0</td>\n",
       "    </tr>\n",
       "    <tr>\n",
       "      <th>53947</th>\n",
       "      <td>2019-10-27 19:31:41.053807</td>\n",
       "      <td>search_action</td>\n",
       "      <td>20850c8f-4135-4059-b13b-198d3ac59902</td>\n",
       "      <td>google</td>\n",
       "      <td>2019-10-27</td>\n",
       "      <td>3</td>\n",
       "      <td>24.0</td>\n",
       "      <td>session_continues</td>\n",
       "      <td>1.0</td>\n",
       "    </tr>\n",
       "    <tr>\n",
       "      <th>74194</th>\n",
       "      <td>2019-11-03 23:56:57.041825</td>\n",
       "      <td>search_action</td>\n",
       "      <td>20850c8f-4135-4059-b13b-198d3ac59902</td>\n",
       "      <td>google</td>\n",
       "      <td>2019-11-03</td>\n",
       "      <td>3</td>\n",
       "      <td>15915.0</td>\n",
       "      <td>start_new_session</td>\n",
       "      <td>2.0</td>\n",
       "    </tr>\n",
       "  </tbody>\n",
       "</table>\n",
       "</div>"
      ],
      "text/plain": [
       "                      event_time     event_name  \\\n",
       "25    2019-10-07 00:05:20.190956  search_action   \n",
       "26    2019-10-07 00:05:23.427766  search_action   \n",
       "8418  2019-10-10 15:45:36.012693            map   \n",
       "8427  2019-10-10 15:47:27.587105    advert_open   \n",
       "8431  2019-10-10 15:47:43.246959      tips_show   \n",
       "49175 2019-10-26 10:42:37.443131    advert_open   \n",
       "49176 2019-10-26 10:42:46.651319    advert_open   \n",
       "49177 2019-10-26 10:42:56.492410    advert_open   \n",
       "53902 2019-10-27 19:19:01.978939  search_action   \n",
       "53903 2019-10-27 19:19:51.800658  search_action   \n",
       "53930 2019-10-27 19:30:13.468468  search_action   \n",
       "53940 2019-10-27 19:31:02.434557  search_action   \n",
       "53943 2019-10-27 19:31:16.778112  search_action   \n",
       "53947 2019-10-27 19:31:41.053807  search_action   \n",
       "74194 2019-11-03 23:56:57.041825  search_action   \n",
       "\n",
       "                                    user_id  source event_date  cluster_km  \\\n",
       "25     d9b06b47-0f36-419b-bbb0-3533e582a6cb   other 2019-10-07           2   \n",
       "26     d9b06b47-0f36-419b-bbb0-3533e582a6cb   other 2019-10-07           2   \n",
       "8418   d9b06b47-0f36-419b-bbb0-3533e582a6cb   other 2019-10-10           2   \n",
       "8427   d9b06b47-0f36-419b-bbb0-3533e582a6cb   other 2019-10-10           2   \n",
       "8431   d9b06b47-0f36-419b-bbb0-3533e582a6cb   other 2019-10-10           2   \n",
       "49175  d9b06b47-0f36-419b-bbb0-3533e582a6cb   other 2019-10-26           2   \n",
       "49176  d9b06b47-0f36-419b-bbb0-3533e582a6cb   other 2019-10-26           2   \n",
       "49177  d9b06b47-0f36-419b-bbb0-3533e582a6cb   other 2019-10-26           2   \n",
       "53902  20850c8f-4135-4059-b13b-198d3ac59902  google 2019-10-27           3   \n",
       "53903  20850c8f-4135-4059-b13b-198d3ac59902  google 2019-10-27           3   \n",
       "53930  20850c8f-4135-4059-b13b-198d3ac59902  google 2019-10-27           3   \n",
       "53940  20850c8f-4135-4059-b13b-198d3ac59902  google 2019-10-27           3   \n",
       "53943  20850c8f-4135-4059-b13b-198d3ac59902  google 2019-10-27           3   \n",
       "53947  20850c8f-4135-4059-b13b-198d3ac59902  google 2019-10-27           3   \n",
       "74194  20850c8f-4135-4059-b13b-198d3ac59902  google 2019-11-03           3   \n",
       "\n",
       "       seconds_between     session_status  session_number  \n",
       "25                 0.0  start_new_session             0.0  \n",
       "26                 3.0  session_continues             0.0  \n",
       "8418           56412.0  start_new_session             1.0  \n",
       "8427             111.0  session_continues             1.0  \n",
       "8431              15.0  session_continues             1.0  \n",
       "49175          68094.0  start_new_session             2.0  \n",
       "49176              9.0  session_continues             2.0  \n",
       "49177              9.0  session_continues             2.0  \n",
       "53902              0.0  start_new_session             0.0  \n",
       "53903             49.0  session_continues             0.0  \n",
       "53930            621.0  start_new_session             1.0  \n",
       "53940             48.0  session_continues             1.0  \n",
       "53943             14.0  session_continues             1.0  \n",
       "53947             24.0  session_continues             1.0  \n",
       "74194          15915.0  start_new_session             2.0  "
      ]
     },
     "execution_count": 120,
     "metadata": {},
     "output_type": "execute_result"
    }
   ],
   "source": [
    "df[(df['user_id'] == '20850c8f-4135-4059-b13b-198d3ac59902') | (df['user_id'] == 'd9b06b47-0f36-419b-bbb0-3533e582a6cb')]"
   ]
  },
  {
   "cell_type": "markdown",
   "id": "ydwgDjHjVs3L",
   "metadata": {
    "id": "ydwgDjHjVs3L"
   },
   "source": [
    "- Теперь каждое событие каждой сессии для каждого пользователя имеет свой порядковый номер\n",
    "- Вспомогательные столбцы `seconds_between` и `session_status` могу опустить"
   ]
  },
  {
   "cell_type": "code",
   "execution_count": 121,
   "id": "-94a45Z9ZTib",
   "metadata": {
    "executionInfo": {
     "elapsed": 8,
     "status": "ok",
     "timestamp": 1650033994253,
     "user": {
      "displayName": "Vadim Selin",
      "userId": "13742755250186020674"
     },
     "user_tz": -180
    },
    "id": "-94a45Z9ZTib"
   },
   "outputs": [],
   "source": [
    "df = df[['event_time', 'event_name', 'user_id', 'source', 'event_date',\n",
    "       'cluster_km', 'session_number']]"
   ]
  },
  {
   "cell_type": "code",
   "execution_count": 122,
   "id": "GFFSXhh5ZdNj",
   "metadata": {
    "colab": {
     "base_uri": "https://localhost:8080/"
    },
    "executionInfo": {
     "elapsed": 8,
     "status": "ok",
     "timestamp": 1650033994253,
     "user": {
      "displayName": "Vadim Selin",
      "userId": "13742755250186020674"
     },
     "user_tz": -180
    },
    "id": "GFFSXhh5ZdNj",
    "outputId": "b32cef4c-e7fc-4ecf-ab98-3952d425ee64"
   },
   "outputs": [
    {
     "data": {
      "text/plain": [
       "event_time        0.0\n",
       "event_name        0.0\n",
       "user_id           0.0\n",
       "source            0.0\n",
       "event_date        0.0\n",
       "cluster_km        0.0\n",
       "session_number    0.0\n",
       "dtype: float64"
      ]
     },
     "execution_count": 122,
     "metadata": {},
     "output_type": "execute_result"
    }
   ],
   "source": [
    "# прорка на пропуски\n",
    "df.isna().mean()"
   ]
  },
  {
   "cell_type": "markdown",
   "id": "wUGs-odmZj2T",
   "metadata": {
    "id": "wUGs-odmZj2T"
   },
   "source": [
    "- Получу временные дельты по каждой сессии для каждого пользователя и сохраню номер сегмента для дальнейших сравнений.\n",
    "- Для этого сгруппирую `df` по `cluster_km`, `user_id`, `session_number`."
   ]
  },
  {
   "cell_type": "code",
   "execution_count": 123,
   "id": "E3Rw24-lZkFb",
   "metadata": {
    "executionInfo": {
     "elapsed": 412,
     "status": "ok",
     "timestamp": 1650033994660,
     "user": {
      "displayName": "Vadim Selin",
      "userId": "13742755250186020674"
     },
     "user_tz": -180
    },
    "id": "E3Rw24-lZkFb"
   },
   "outputs": [],
   "source": [
    "users_sessions = df.groupby(['cluster_km', 'user_id', 'session_number'], as_index=False).agg({'event_time': ['count', 'min', 'max']})"
   ]
  },
  {
   "cell_type": "code",
   "execution_count": 124,
   "id": "wufyDeB_ZkUX",
   "metadata": {
    "executionInfo": {
     "elapsed": 2,
     "status": "ok",
     "timestamp": 1650033994660,
     "user": {
      "displayName": "Vadim Selin",
      "userId": "13742755250186020674"
     },
     "user_tz": -180
    },
    "id": "wufyDeB_ZkUX"
   },
   "outputs": [],
   "source": [
    "# сделаю индексы плоскими\n",
    "users_sessions.columns = ['_'.join(col).strip() for col in users_sessions.columns.values]"
   ]
  },
  {
   "cell_type": "code",
   "execution_count": 125,
   "id": "gvVpXV2PsPmL",
   "metadata": {
    "colab": {
     "base_uri": "https://localhost:8080/",
     "height": 423
    },
    "executionInfo": {
     "elapsed": 292,
     "status": "ok",
     "timestamp": 1650034022565,
     "user": {
      "displayName": "Vadim Selin",
      "userId": "13742755250186020674"
     },
     "user_tz": -180
    },
    "id": "gvVpXV2PsPmL",
    "outputId": "4769f2d4-bb4b-4bc5-cf44-744242e5af12"
   },
   "outputs": [
    {
     "data": {
      "text/html": [
       "<div>\n",
       "<style scoped>\n",
       "    .dataframe tbody tr th:only-of-type {\n",
       "        vertical-align: middle;\n",
       "    }\n",
       "\n",
       "    .dataframe tbody tr th {\n",
       "        vertical-align: top;\n",
       "    }\n",
       "\n",
       "    .dataframe thead th {\n",
       "        text-align: right;\n",
       "    }\n",
       "</style>\n",
       "<table border=\"1\" class=\"dataframe\">\n",
       "  <thead>\n",
       "    <tr style=\"text-align: right;\">\n",
       "      <th></th>\n",
       "      <th>cluster_km_</th>\n",
       "      <th>user_id_</th>\n",
       "      <th>session_number_</th>\n",
       "      <th>event_time_count</th>\n",
       "      <th>event_time_min</th>\n",
       "      <th>event_time_max</th>\n",
       "    </tr>\n",
       "  </thead>\n",
       "  <tbody>\n",
       "    <tr>\n",
       "      <th>0</th>\n",
       "      <td>0</td>\n",
       "      <td>00157779-810c-4498-9e05-a1e9e3cedf93</td>\n",
       "      <td>0.0</td>\n",
       "      <td>7</td>\n",
       "      <td>2019-10-19 21:34:33.849769</td>\n",
       "      <td>2019-10-19 21:46:52.541309</td>\n",
       "    </tr>\n",
       "    <tr>\n",
       "      <th>1</th>\n",
       "      <td>0</td>\n",
       "      <td>00157779-810c-4498-9e05-a1e9e3cedf93</td>\n",
       "      <td>1.0</td>\n",
       "      <td>2</td>\n",
       "      <td>2019-10-19 21:58:00.109019</td>\n",
       "      <td>2019-10-19 21:59:54.637098</td>\n",
       "    </tr>\n",
       "    <tr>\n",
       "      <th>2</th>\n",
       "      <td>0</td>\n",
       "      <td>00157779-810c-4498-9e05-a1e9e3cedf93</td>\n",
       "      <td>2.0</td>\n",
       "      <td>1</td>\n",
       "      <td>2019-10-20 18:49:24.115634</td>\n",
       "      <td>2019-10-20 18:49:24.115634</td>\n",
       "    </tr>\n",
       "    <tr>\n",
       "      <th>3</th>\n",
       "      <td>0</td>\n",
       "      <td>00157779-810c-4498-9e05-a1e9e3cedf93</td>\n",
       "      <td>3.0</td>\n",
       "      <td>11</td>\n",
       "      <td>2019-10-20 18:59:22.541082</td>\n",
       "      <td>2019-10-20 19:23:14.236973</td>\n",
       "    </tr>\n",
       "    <tr>\n",
       "      <th>4</th>\n",
       "      <td>0</td>\n",
       "      <td>00157779-810c-4498-9e05-a1e9e3cedf93</td>\n",
       "      <td>4.0</td>\n",
       "      <td>2</td>\n",
       "      <td>2019-10-20 19:30:31.912891</td>\n",
       "      <td>2019-10-20 19:30:36.096917</td>\n",
       "    </tr>\n",
       "    <tr>\n",
       "      <th>...</th>\n",
       "      <td>...</td>\n",
       "      <td>...</td>\n",
       "      <td>...</td>\n",
       "      <td>...</td>\n",
       "      <td>...</td>\n",
       "      <td>...</td>\n",
       "    </tr>\n",
       "    <tr>\n",
       "      <th>14134</th>\n",
       "      <td>4</td>\n",
       "      <td>fd20080d-e8a0-4d2c-95dc-ac0f9e144793</td>\n",
       "      <td>1.0</td>\n",
       "      <td>8</td>\n",
       "      <td>2019-10-12 16:30:50.859572</td>\n",
       "      <td>2019-10-12 16:51:07.066106</td>\n",
       "    </tr>\n",
       "    <tr>\n",
       "      <th>14135</th>\n",
       "      <td>4</td>\n",
       "      <td>fd20080d-e8a0-4d2c-95dc-ac0f9e144793</td>\n",
       "      <td>2.0</td>\n",
       "      <td>9</td>\n",
       "      <td>2019-10-14 12:18:22.019884</td>\n",
       "      <td>2019-10-14 12:36:21.684090</td>\n",
       "    </tr>\n",
       "    <tr>\n",
       "      <th>14136</th>\n",
       "      <td>4</td>\n",
       "      <td>fd624b3c-563c-4459-a681-9a6ddc11549d</td>\n",
       "      <td>0.0</td>\n",
       "      <td>6</td>\n",
       "      <td>2019-10-31 15:28:31.099609</td>\n",
       "      <td>2019-10-31 15:35:24.898377</td>\n",
       "    </tr>\n",
       "    <tr>\n",
       "      <th>14137</th>\n",
       "      <td>4</td>\n",
       "      <td>ff1554b5-919e-40b1-90bb-ee1f7f6d5846</td>\n",
       "      <td>0.0</td>\n",
       "      <td>2</td>\n",
       "      <td>2019-10-21 08:28:33.429234</td>\n",
       "      <td>2019-10-21 08:30:10.800955</td>\n",
       "    </tr>\n",
       "    <tr>\n",
       "      <th>14138</th>\n",
       "      <td>4</td>\n",
       "      <td>ff1554b5-919e-40b1-90bb-ee1f7f6d5846</td>\n",
       "      <td>1.0</td>\n",
       "      <td>4</td>\n",
       "      <td>2019-10-21 10:59:23.944891</td>\n",
       "      <td>2019-10-21 11:01:49.118228</td>\n",
       "    </tr>\n",
       "  </tbody>\n",
       "</table>\n",
       "<p>14139 rows × 6 columns</p>\n",
       "</div>"
      ],
      "text/plain": [
       "       cluster_km_                              user_id_  session_number_  \\\n",
       "0                0  00157779-810c-4498-9e05-a1e9e3cedf93              0.0   \n",
       "1                0  00157779-810c-4498-9e05-a1e9e3cedf93              1.0   \n",
       "2                0  00157779-810c-4498-9e05-a1e9e3cedf93              2.0   \n",
       "3                0  00157779-810c-4498-9e05-a1e9e3cedf93              3.0   \n",
       "4                0  00157779-810c-4498-9e05-a1e9e3cedf93              4.0   \n",
       "...            ...                                   ...              ...   \n",
       "14134            4  fd20080d-e8a0-4d2c-95dc-ac0f9e144793              1.0   \n",
       "14135            4  fd20080d-e8a0-4d2c-95dc-ac0f9e144793              2.0   \n",
       "14136            4  fd624b3c-563c-4459-a681-9a6ddc11549d              0.0   \n",
       "14137            4  ff1554b5-919e-40b1-90bb-ee1f7f6d5846              0.0   \n",
       "14138            4  ff1554b5-919e-40b1-90bb-ee1f7f6d5846              1.0   \n",
       "\n",
       "       event_time_count             event_time_min             event_time_max  \n",
       "0                     7 2019-10-19 21:34:33.849769 2019-10-19 21:46:52.541309  \n",
       "1                     2 2019-10-19 21:58:00.109019 2019-10-19 21:59:54.637098  \n",
       "2                     1 2019-10-20 18:49:24.115634 2019-10-20 18:49:24.115634  \n",
       "3                    11 2019-10-20 18:59:22.541082 2019-10-20 19:23:14.236973  \n",
       "4                     2 2019-10-20 19:30:31.912891 2019-10-20 19:30:36.096917  \n",
       "...                 ...                        ...                        ...  \n",
       "14134                 8 2019-10-12 16:30:50.859572 2019-10-12 16:51:07.066106  \n",
       "14135                 9 2019-10-14 12:18:22.019884 2019-10-14 12:36:21.684090  \n",
       "14136                 6 2019-10-31 15:28:31.099609 2019-10-31 15:35:24.898377  \n",
       "14137                 2 2019-10-21 08:28:33.429234 2019-10-21 08:30:10.800955  \n",
       "14138                 4 2019-10-21 10:59:23.944891 2019-10-21 11:01:49.118228  \n",
       "\n",
       "[14139 rows x 6 columns]"
      ]
     },
     "execution_count": 125,
     "metadata": {},
     "output_type": "execute_result"
    }
   ],
   "source": [
    "users_sessions"
   ]
  },
  {
   "cell_type": "code",
   "execution_count": 126,
   "id": "97BT_awAZkiT",
   "metadata": {
    "executionInfo": {
     "elapsed": 306,
     "status": "ok",
     "timestamp": 1650034252674,
     "user": {
      "displayName": "Vadim Selin",
      "userId": "13742755250186020674"
     },
     "user_tz": -180
    },
    "id": "97BT_awAZkiT"
   },
   "outputs": [],
   "source": [
    "users_sessions.columns = ['cluster_km', 'user_id', 'session_number', 'event_in_session_count',\n",
    "       'event_time_min', 'event_time_max']"
   ]
  },
  {
   "cell_type": "markdown",
   "id": "23V4dSFcrGY7",
   "metadata": {
    "id": "23V4dSFcrGY7"
   },
   "source": [
    "- Получу длительность каждой сессии "
   ]
  },
  {
   "cell_type": "code",
   "execution_count": 127,
   "id": "Ta_b8phlqk26",
   "metadata": {
    "executionInfo": {
     "elapsed": 273,
     "status": "ok",
     "timestamp": 1650034254794,
     "user": {
      "displayName": "Vadim Selin",
      "userId": "13742755250186020674"
     },
     "user_tz": -180
    },
    "id": "Ta_b8phlqk26"
   },
   "outputs": [],
   "source": [
    "users_sessions['session_duration'] = (users_sessions['event_time_max'] - users_sessions['event_time_min']).dt.seconds"
   ]
  },
  {
   "cell_type": "code",
   "execution_count": 128,
   "id": "r-LVPvIbqkG0",
   "metadata": {
    "colab": {
     "base_uri": "https://localhost:8080/",
     "height": 423
    },
    "executionInfo": {
     "elapsed": 276,
     "status": "ok",
     "timestamp": 1650034256291,
     "user": {
      "displayName": "Vadim Selin",
      "userId": "13742755250186020674"
     },
     "user_tz": -180
    },
    "id": "r-LVPvIbqkG0",
    "outputId": "5b6e3a79-aa34-48c4-b50d-62c4f0cb4610"
   },
   "outputs": [
    {
     "data": {
      "text/html": [
       "<div>\n",
       "<style scoped>\n",
       "    .dataframe tbody tr th:only-of-type {\n",
       "        vertical-align: middle;\n",
       "    }\n",
       "\n",
       "    .dataframe tbody tr th {\n",
       "        vertical-align: top;\n",
       "    }\n",
       "\n",
       "    .dataframe thead th {\n",
       "        text-align: right;\n",
       "    }\n",
       "</style>\n",
       "<table border=\"1\" class=\"dataframe\">\n",
       "  <thead>\n",
       "    <tr style=\"text-align: right;\">\n",
       "      <th></th>\n",
       "      <th>cluster_km</th>\n",
       "      <th>user_id</th>\n",
       "      <th>session_number</th>\n",
       "      <th>event_in_session_count</th>\n",
       "      <th>event_time_min</th>\n",
       "      <th>event_time_max</th>\n",
       "      <th>session_duration</th>\n",
       "    </tr>\n",
       "  </thead>\n",
       "  <tbody>\n",
       "    <tr>\n",
       "      <th>0</th>\n",
       "      <td>0</td>\n",
       "      <td>00157779-810c-4498-9e05-a1e9e3cedf93</td>\n",
       "      <td>0.0</td>\n",
       "      <td>7</td>\n",
       "      <td>2019-10-19 21:34:33.849769</td>\n",
       "      <td>2019-10-19 21:46:52.541309</td>\n",
       "      <td>738</td>\n",
       "    </tr>\n",
       "    <tr>\n",
       "      <th>1</th>\n",
       "      <td>0</td>\n",
       "      <td>00157779-810c-4498-9e05-a1e9e3cedf93</td>\n",
       "      <td>1.0</td>\n",
       "      <td>2</td>\n",
       "      <td>2019-10-19 21:58:00.109019</td>\n",
       "      <td>2019-10-19 21:59:54.637098</td>\n",
       "      <td>114</td>\n",
       "    </tr>\n",
       "    <tr>\n",
       "      <th>2</th>\n",
       "      <td>0</td>\n",
       "      <td>00157779-810c-4498-9e05-a1e9e3cedf93</td>\n",
       "      <td>2.0</td>\n",
       "      <td>1</td>\n",
       "      <td>2019-10-20 18:49:24.115634</td>\n",
       "      <td>2019-10-20 18:49:24.115634</td>\n",
       "      <td>0</td>\n",
       "    </tr>\n",
       "    <tr>\n",
       "      <th>3</th>\n",
       "      <td>0</td>\n",
       "      <td>00157779-810c-4498-9e05-a1e9e3cedf93</td>\n",
       "      <td>3.0</td>\n",
       "      <td>11</td>\n",
       "      <td>2019-10-20 18:59:22.541082</td>\n",
       "      <td>2019-10-20 19:23:14.236973</td>\n",
       "      <td>1431</td>\n",
       "    </tr>\n",
       "    <tr>\n",
       "      <th>4</th>\n",
       "      <td>0</td>\n",
       "      <td>00157779-810c-4498-9e05-a1e9e3cedf93</td>\n",
       "      <td>4.0</td>\n",
       "      <td>2</td>\n",
       "      <td>2019-10-20 19:30:31.912891</td>\n",
       "      <td>2019-10-20 19:30:36.096917</td>\n",
       "      <td>4</td>\n",
       "    </tr>\n",
       "    <tr>\n",
       "      <th>...</th>\n",
       "      <td>...</td>\n",
       "      <td>...</td>\n",
       "      <td>...</td>\n",
       "      <td>...</td>\n",
       "      <td>...</td>\n",
       "      <td>...</td>\n",
       "      <td>...</td>\n",
       "    </tr>\n",
       "    <tr>\n",
       "      <th>14134</th>\n",
       "      <td>4</td>\n",
       "      <td>fd20080d-e8a0-4d2c-95dc-ac0f9e144793</td>\n",
       "      <td>1.0</td>\n",
       "      <td>8</td>\n",
       "      <td>2019-10-12 16:30:50.859572</td>\n",
       "      <td>2019-10-12 16:51:07.066106</td>\n",
       "      <td>1216</td>\n",
       "    </tr>\n",
       "    <tr>\n",
       "      <th>14135</th>\n",
       "      <td>4</td>\n",
       "      <td>fd20080d-e8a0-4d2c-95dc-ac0f9e144793</td>\n",
       "      <td>2.0</td>\n",
       "      <td>9</td>\n",
       "      <td>2019-10-14 12:18:22.019884</td>\n",
       "      <td>2019-10-14 12:36:21.684090</td>\n",
       "      <td>1079</td>\n",
       "    </tr>\n",
       "    <tr>\n",
       "      <th>14136</th>\n",
       "      <td>4</td>\n",
       "      <td>fd624b3c-563c-4459-a681-9a6ddc11549d</td>\n",
       "      <td>0.0</td>\n",
       "      <td>6</td>\n",
       "      <td>2019-10-31 15:28:31.099609</td>\n",
       "      <td>2019-10-31 15:35:24.898377</td>\n",
       "      <td>413</td>\n",
       "    </tr>\n",
       "    <tr>\n",
       "      <th>14137</th>\n",
       "      <td>4</td>\n",
       "      <td>ff1554b5-919e-40b1-90bb-ee1f7f6d5846</td>\n",
       "      <td>0.0</td>\n",
       "      <td>2</td>\n",
       "      <td>2019-10-21 08:28:33.429234</td>\n",
       "      <td>2019-10-21 08:30:10.800955</td>\n",
       "      <td>97</td>\n",
       "    </tr>\n",
       "    <tr>\n",
       "      <th>14138</th>\n",
       "      <td>4</td>\n",
       "      <td>ff1554b5-919e-40b1-90bb-ee1f7f6d5846</td>\n",
       "      <td>1.0</td>\n",
       "      <td>4</td>\n",
       "      <td>2019-10-21 10:59:23.944891</td>\n",
       "      <td>2019-10-21 11:01:49.118228</td>\n",
       "      <td>145</td>\n",
       "    </tr>\n",
       "  </tbody>\n",
       "</table>\n",
       "<p>14139 rows × 7 columns</p>\n",
       "</div>"
      ],
      "text/plain": [
       "       cluster_km                               user_id  session_number  \\\n",
       "0               0  00157779-810c-4498-9e05-a1e9e3cedf93             0.0   \n",
       "1               0  00157779-810c-4498-9e05-a1e9e3cedf93             1.0   \n",
       "2               0  00157779-810c-4498-9e05-a1e9e3cedf93             2.0   \n",
       "3               0  00157779-810c-4498-9e05-a1e9e3cedf93             3.0   \n",
       "4               0  00157779-810c-4498-9e05-a1e9e3cedf93             4.0   \n",
       "...           ...                                   ...             ...   \n",
       "14134           4  fd20080d-e8a0-4d2c-95dc-ac0f9e144793             1.0   \n",
       "14135           4  fd20080d-e8a0-4d2c-95dc-ac0f9e144793             2.0   \n",
       "14136           4  fd624b3c-563c-4459-a681-9a6ddc11549d             0.0   \n",
       "14137           4  ff1554b5-919e-40b1-90bb-ee1f7f6d5846             0.0   \n",
       "14138           4  ff1554b5-919e-40b1-90bb-ee1f7f6d5846             1.0   \n",
       "\n",
       "       event_in_session_count             event_time_min  \\\n",
       "0                           7 2019-10-19 21:34:33.849769   \n",
       "1                           2 2019-10-19 21:58:00.109019   \n",
       "2                           1 2019-10-20 18:49:24.115634   \n",
       "3                          11 2019-10-20 18:59:22.541082   \n",
       "4                           2 2019-10-20 19:30:31.912891   \n",
       "...                       ...                        ...   \n",
       "14134                       8 2019-10-12 16:30:50.859572   \n",
       "14135                       9 2019-10-14 12:18:22.019884   \n",
       "14136                       6 2019-10-31 15:28:31.099609   \n",
       "14137                       2 2019-10-21 08:28:33.429234   \n",
       "14138                       4 2019-10-21 10:59:23.944891   \n",
       "\n",
       "                  event_time_max  session_duration  \n",
       "0     2019-10-19 21:46:52.541309               738  \n",
       "1     2019-10-19 21:59:54.637098               114  \n",
       "2     2019-10-20 18:49:24.115634                 0  \n",
       "3     2019-10-20 19:23:14.236973              1431  \n",
       "4     2019-10-20 19:30:36.096917                 4  \n",
       "...                          ...               ...  \n",
       "14134 2019-10-12 16:51:07.066106              1216  \n",
       "14135 2019-10-14 12:36:21.684090              1079  \n",
       "14136 2019-10-31 15:35:24.898377               413  \n",
       "14137 2019-10-21 08:30:10.800955                97  \n",
       "14138 2019-10-21 11:01:49.118228               145  \n",
       "\n",
       "[14139 rows x 7 columns]"
      ]
     },
     "execution_count": 128,
     "metadata": {},
     "output_type": "execute_result"
    }
   ],
   "source": [
    "users_sessions"
   ]
  },
  {
   "cell_type": "code",
   "execution_count": null,
   "id": "TNQBXOMhZkxT",
   "metadata": {
    "id": "TNQBXOMhZkxT"
   },
   "outputs": [],
   "source": []
  },
  {
   "cell_type": "code",
   "execution_count": null,
   "id": "E5a-kqOjZlAz",
   "metadata": {
    "id": "E5a-kqOjZlAz"
   },
   "outputs": [],
   "source": []
  },
  {
   "cell_type": "markdown",
   "id": "v5usEzefkwlv",
   "metadata": {
    "id": "v5usEzefkwlv"
   },
   "source": [
    "- Сгруппирую датафрейм `df` (отфильтрованы только события с маркером `start_new_session`) по пользователям, чтобы посчитать количество сессий для каждого пользователя.\n",
    "- Разделив  "
   ]
  },
  {
   "cell_type": "code",
   "execution_count": 129,
   "id": "TG6FG-Bp2pq-",
   "metadata": {
    "executionInfo": {
     "elapsed": 394,
     "status": "ok",
     "timestamp": 1650016499785,
     "user": {
      "displayName": "Vadim Selin",
      "userId": "13742755250186020674"
     },
     "user_tz": -180
    },
    "id": "TG6FG-Bp2pq-"
   },
   "outputs": [
    {
     "ename": "KeyError",
     "evalue": "'session_status'",
     "output_type": "error",
     "traceback": [
      "\u001b[0;31m---------------------------------------------------------------------------\u001b[0m",
      "\u001b[0;31mKeyError\u001b[0m                                  Traceback (most recent call last)",
      "\u001b[0;32m/opt/conda/lib/python3.9/site-packages/pandas/core/indexes/base.py\u001b[0m in \u001b[0;36mget_loc\u001b[0;34m(self, key, method, tolerance)\u001b[0m\n\u001b[1;32m   3079\u001b[0m             \u001b[0;32mtry\u001b[0m\u001b[0;34m:\u001b[0m\u001b[0;34m\u001b[0m\u001b[0;34m\u001b[0m\u001b[0m\n\u001b[0;32m-> 3080\u001b[0;31m                 \u001b[0;32mreturn\u001b[0m \u001b[0mself\u001b[0m\u001b[0;34m.\u001b[0m\u001b[0m_engine\u001b[0m\u001b[0;34m.\u001b[0m\u001b[0mget_loc\u001b[0m\u001b[0;34m(\u001b[0m\u001b[0mcasted_key\u001b[0m\u001b[0;34m)\u001b[0m\u001b[0;34m\u001b[0m\u001b[0;34m\u001b[0m\u001b[0m\n\u001b[0m\u001b[1;32m   3081\u001b[0m             \u001b[0;32mexcept\u001b[0m \u001b[0mKeyError\u001b[0m \u001b[0;32mas\u001b[0m \u001b[0merr\u001b[0m\u001b[0;34m:\u001b[0m\u001b[0;34m\u001b[0m\u001b[0;34m\u001b[0m\u001b[0m\n",
      "\u001b[0;32mpandas/_libs/index.pyx\u001b[0m in \u001b[0;36mpandas._libs.index.IndexEngine.get_loc\u001b[0;34m()\u001b[0m\n",
      "\u001b[0;32mpandas/_libs/index.pyx\u001b[0m in \u001b[0;36mpandas._libs.index.IndexEngine.get_loc\u001b[0;34m()\u001b[0m\n",
      "\u001b[0;32mpandas/_libs/hashtable_class_helper.pxi\u001b[0m in \u001b[0;36mpandas._libs.hashtable.PyObjectHashTable.get_item\u001b[0;34m()\u001b[0m\n",
      "\u001b[0;32mpandas/_libs/hashtable_class_helper.pxi\u001b[0m in \u001b[0;36mpandas._libs.hashtable.PyObjectHashTable.get_item\u001b[0;34m()\u001b[0m\n",
      "\u001b[0;31mKeyError\u001b[0m: 'session_status'",
      "\nThe above exception was the direct cause of the following exception:\n",
      "\u001b[0;31mKeyError\u001b[0m                                  Traceback (most recent call last)",
      "\u001b[0;32m/tmp/ipykernel_269/2808010794.py\u001b[0m in \u001b[0;36m<module>\u001b[0;34m\u001b[0m\n\u001b[0;32m----> 1\u001b[0;31m \u001b[0mt\u001b[0m \u001b[0;34m=\u001b[0m \u001b[0mdf\u001b[0m\u001b[0;34m[\u001b[0m\u001b[0mdf\u001b[0m\u001b[0;34m[\u001b[0m\u001b[0;34m'session_status'\u001b[0m\u001b[0;34m]\u001b[0m \u001b[0;34m==\u001b[0m \u001b[0;34m'start_new_session'\u001b[0m\u001b[0;34m]\u001b[0m\u001b[0;34m.\u001b[0m\u001b[0mgroupby\u001b[0m\u001b[0;34m(\u001b[0m\u001b[0;34m[\u001b[0m\u001b[0;34m'user_id'\u001b[0m\u001b[0;34m]\u001b[0m\u001b[0;34m,\u001b[0m \u001b[0mas_index\u001b[0m\u001b[0;34m=\u001b[0m\u001b[0;32mFalse\u001b[0m\u001b[0;34m)\u001b[0m\u001b[0;34m[\u001b[0m\u001b[0;34m'session_status'\u001b[0m\u001b[0;34m]\u001b[0m\u001b[0;34m.\u001b[0m\u001b[0mcount\u001b[0m\u001b[0;34m(\u001b[0m\u001b[0;34m)\u001b[0m\u001b[0;34m\u001b[0m\u001b[0;34m\u001b[0m\u001b[0m\n\u001b[0m",
      "\u001b[0;32m/opt/conda/lib/python3.9/site-packages/pandas/core/frame.py\u001b[0m in \u001b[0;36m__getitem__\u001b[0;34m(self, key)\u001b[0m\n\u001b[1;32m   3022\u001b[0m             \u001b[0;32mif\u001b[0m \u001b[0mself\u001b[0m\u001b[0;34m.\u001b[0m\u001b[0mcolumns\u001b[0m\u001b[0;34m.\u001b[0m\u001b[0mnlevels\u001b[0m \u001b[0;34m>\u001b[0m \u001b[0;36m1\u001b[0m\u001b[0;34m:\u001b[0m\u001b[0;34m\u001b[0m\u001b[0;34m\u001b[0m\u001b[0m\n\u001b[1;32m   3023\u001b[0m                 \u001b[0;32mreturn\u001b[0m \u001b[0mself\u001b[0m\u001b[0;34m.\u001b[0m\u001b[0m_getitem_multilevel\u001b[0m\u001b[0;34m(\u001b[0m\u001b[0mkey\u001b[0m\u001b[0;34m)\u001b[0m\u001b[0;34m\u001b[0m\u001b[0;34m\u001b[0m\u001b[0m\n\u001b[0;32m-> 3024\u001b[0;31m             \u001b[0mindexer\u001b[0m \u001b[0;34m=\u001b[0m \u001b[0mself\u001b[0m\u001b[0;34m.\u001b[0m\u001b[0mcolumns\u001b[0m\u001b[0;34m.\u001b[0m\u001b[0mget_loc\u001b[0m\u001b[0;34m(\u001b[0m\u001b[0mkey\u001b[0m\u001b[0;34m)\u001b[0m\u001b[0;34m\u001b[0m\u001b[0;34m\u001b[0m\u001b[0m\n\u001b[0m\u001b[1;32m   3025\u001b[0m             \u001b[0;32mif\u001b[0m \u001b[0mis_integer\u001b[0m\u001b[0;34m(\u001b[0m\u001b[0mindexer\u001b[0m\u001b[0;34m)\u001b[0m\u001b[0;34m:\u001b[0m\u001b[0;34m\u001b[0m\u001b[0;34m\u001b[0m\u001b[0m\n\u001b[1;32m   3026\u001b[0m                 \u001b[0mindexer\u001b[0m \u001b[0;34m=\u001b[0m \u001b[0;34m[\u001b[0m\u001b[0mindexer\u001b[0m\u001b[0;34m]\u001b[0m\u001b[0;34m\u001b[0m\u001b[0;34m\u001b[0m\u001b[0m\n",
      "\u001b[0;32m/opt/conda/lib/python3.9/site-packages/pandas/core/indexes/base.py\u001b[0m in \u001b[0;36mget_loc\u001b[0;34m(self, key, method, tolerance)\u001b[0m\n\u001b[1;32m   3080\u001b[0m                 \u001b[0;32mreturn\u001b[0m \u001b[0mself\u001b[0m\u001b[0;34m.\u001b[0m\u001b[0m_engine\u001b[0m\u001b[0;34m.\u001b[0m\u001b[0mget_loc\u001b[0m\u001b[0;34m(\u001b[0m\u001b[0mcasted_key\u001b[0m\u001b[0;34m)\u001b[0m\u001b[0;34m\u001b[0m\u001b[0;34m\u001b[0m\u001b[0m\n\u001b[1;32m   3081\u001b[0m             \u001b[0;32mexcept\u001b[0m \u001b[0mKeyError\u001b[0m \u001b[0;32mas\u001b[0m \u001b[0merr\u001b[0m\u001b[0;34m:\u001b[0m\u001b[0;34m\u001b[0m\u001b[0;34m\u001b[0m\u001b[0m\n\u001b[0;32m-> 3082\u001b[0;31m                 \u001b[0;32mraise\u001b[0m \u001b[0mKeyError\u001b[0m\u001b[0;34m(\u001b[0m\u001b[0mkey\u001b[0m\u001b[0;34m)\u001b[0m \u001b[0;32mfrom\u001b[0m \u001b[0merr\u001b[0m\u001b[0;34m\u001b[0m\u001b[0;34m\u001b[0m\u001b[0m\n\u001b[0m\u001b[1;32m   3083\u001b[0m \u001b[0;34m\u001b[0m\u001b[0m\n\u001b[1;32m   3084\u001b[0m         \u001b[0;32mif\u001b[0m \u001b[0mtolerance\u001b[0m \u001b[0;32mis\u001b[0m \u001b[0;32mnot\u001b[0m \u001b[0;32mNone\u001b[0m\u001b[0;34m:\u001b[0m\u001b[0;34m\u001b[0m\u001b[0;34m\u001b[0m\u001b[0m\n",
      "\u001b[0;31mKeyError\u001b[0m: 'session_status'"
     ]
    }
   ],
   "source": [
    "t = df[df['session_status'] == 'start_new_session'].groupby(['user_id'], as_index=False)['session_status'].count()"
   ]
  },
  {
   "cell_type": "markdown",
   "id": "88fb9618",
   "metadata": {},
   "source": [
    "<div class=\"alert alert-danger\" style=\"border-radius: 15px; box-shadow: 4px 4px 4px; border: 1px solid \" > <b>Комментарии от тимлида ❌ : </b> \n",
    "\n",
    "Всё отлично. Мне до этого момента всё нравилось. Но такое ощущение, что ты скинул проект не до конца.\n",
    "\n",
    "</div>"
   ]
  },
  {
   "cell_type": "code",
   "execution_count": null,
   "id": "MDsbMGcNkiib",
   "metadata": {
    "executionInfo": {
     "elapsed": 253,
     "status": "ok",
     "timestamp": 1650016698062,
     "user": {
      "displayName": "Vadim Selin",
      "userId": "13742755250186020674"
     },
     "user_tz": -180
    },
    "id": "MDsbMGcNkiib"
   },
   "outputs": [],
   "source": [
    "t = t.rename(columns={'session_status': 'session_cnt'})"
   ]
  },
  {
   "cell_type": "code",
   "execution_count": null,
   "id": "A9HfOigkqM3O",
   "metadata": {
    "colab": {
     "base_uri": "https://localhost:8080/",
     "height": 423
    },
    "executionInfo": {
     "elapsed": 270,
     "status": "ok",
     "timestamp": 1650016708460,
     "user": {
      "displayName": "Vadim Selin",
      "userId": "13742755250186020674"
     },
     "user_tz": -180
    },
    "id": "A9HfOigkqM3O",
    "outputId": "51b350e0-8284-4d0f-fed9-8e62bf9efe1f"
   },
   "outputs": [],
   "source": [
    "t"
   ]
  },
  {
   "cell_type": "markdown",
   "id": "P_HpoSmEquG_",
   "metadata": {
    "id": "P_HpoSmEquG_"
   },
   "source": [
    "- Потом получу время начала всех сессий отфильровав по маркеру события\n",
    "- Потом получу временную дельту между start_new_session и последним session_continues следующим за ним"
   ]
  },
  {
   "cell_type": "code",
   "execution_count": 130,
   "id": "iUUe-zsf2p6m",
   "metadata": {
    "colab": {
     "base_uri": "https://localhost:8080/",
     "height": 423
    },
    "executionInfo": {
     "elapsed": 254,
     "status": "ok",
     "timestamp": 1650015322147,
     "user": {
      "displayName": "Vadim Selin",
      "userId": "13742755250186020674"
     },
     "user_tz": -180
    },
    "id": "iUUe-zsf2p6m",
    "outputId": "7ec388ab-8e5f-420f-97d9-96d7b1e1a879"
   },
   "outputs": [
    {
     "ename": "KeyError",
     "evalue": "'event_time'",
     "output_type": "error",
     "traceback": [
      "\u001b[0;31m---------------------------------------------------------------------------\u001b[0m",
      "\u001b[0;31mKeyError\u001b[0m                                  Traceback (most recent call last)",
      "\u001b[0;32m/tmp/ipykernel_269/2816828887.py\u001b[0m in \u001b[0;36m<module>\u001b[0;34m\u001b[0m\n\u001b[0;32m----> 1\u001b[0;31m \u001b[0mt\u001b[0m\u001b[0;34m.\u001b[0m\u001b[0mpivot_table\u001b[0m\u001b[0;34m(\u001b[0m\u001b[0mindex\u001b[0m\u001b[0;34m=\u001b[0m\u001b[0;34m'user_id'\u001b[0m\u001b[0;34m,\u001b[0m \u001b[0mcolumns\u001b[0m\u001b[0;34m=\u001b[0m\u001b[0;34m'session_status'\u001b[0m\u001b[0;34m,\u001b[0m \u001b[0mvalues\u001b[0m\u001b[0;34m=\u001b[0m\u001b[0;34m'event_time'\u001b[0m\u001b[0;34m,\u001b[0m \u001b[0maggfunc\u001b[0m\u001b[0;34m=\u001b[0m\u001b[0;34m'mean'\u001b[0m\u001b[0;34m)\u001b[0m\u001b[0;34m.\u001b[0m\u001b[0mreset_index\u001b[0m\u001b[0;34m(\u001b[0m\u001b[0;34m)\u001b[0m\u001b[0;34m\u001b[0m\u001b[0;34m\u001b[0m\u001b[0m\n\u001b[0m",
      "\u001b[0;32m/opt/conda/lib/python3.9/site-packages/pandas/core/frame.py\u001b[0m in \u001b[0;36mpivot_table\u001b[0;34m(self, values, index, columns, aggfunc, fill_value, margins, dropna, margins_name, observed)\u001b[0m\n\u001b[1;32m   7029\u001b[0m         \u001b[0;32mfrom\u001b[0m \u001b[0mpandas\u001b[0m\u001b[0;34m.\u001b[0m\u001b[0mcore\u001b[0m\u001b[0;34m.\u001b[0m\u001b[0mreshape\u001b[0m\u001b[0;34m.\u001b[0m\u001b[0mpivot\u001b[0m \u001b[0;32mimport\u001b[0m \u001b[0mpivot_table\u001b[0m\u001b[0;34m\u001b[0m\u001b[0;34m\u001b[0m\u001b[0m\n\u001b[1;32m   7030\u001b[0m \u001b[0;34m\u001b[0m\u001b[0m\n\u001b[0;32m-> 7031\u001b[0;31m         return pivot_table(\n\u001b[0m\u001b[1;32m   7032\u001b[0m             \u001b[0mself\u001b[0m\u001b[0;34m,\u001b[0m\u001b[0;34m\u001b[0m\u001b[0;34m\u001b[0m\u001b[0m\n\u001b[1;32m   7033\u001b[0m             \u001b[0mvalues\u001b[0m\u001b[0;34m=\u001b[0m\u001b[0mvalues\u001b[0m\u001b[0;34m,\u001b[0m\u001b[0;34m\u001b[0m\u001b[0;34m\u001b[0m\u001b[0m\n",
      "\u001b[0;32m/opt/conda/lib/python3.9/site-packages/pandas/core/reshape/pivot.py\u001b[0m in \u001b[0;36mpivot_table\u001b[0;34m(data, values, index, columns, aggfunc, fill_value, margins, dropna, margins_name, observed)\u001b[0m\n\u001b[1;32m     87\u001b[0m         \u001b[0;32mfor\u001b[0m \u001b[0mi\u001b[0m \u001b[0;32min\u001b[0m \u001b[0mvalues\u001b[0m\u001b[0;34m:\u001b[0m\u001b[0;34m\u001b[0m\u001b[0;34m\u001b[0m\u001b[0m\n\u001b[1;32m     88\u001b[0m             \u001b[0;32mif\u001b[0m \u001b[0mi\u001b[0m \u001b[0;32mnot\u001b[0m \u001b[0;32min\u001b[0m \u001b[0mdata\u001b[0m\u001b[0;34m:\u001b[0m\u001b[0;34m\u001b[0m\u001b[0;34m\u001b[0m\u001b[0m\n\u001b[0;32m---> 89\u001b[0;31m                 \u001b[0;32mraise\u001b[0m \u001b[0mKeyError\u001b[0m\u001b[0;34m(\u001b[0m\u001b[0mi\u001b[0m\u001b[0;34m)\u001b[0m\u001b[0;34m\u001b[0m\u001b[0;34m\u001b[0m\u001b[0m\n\u001b[0m\u001b[1;32m     90\u001b[0m \u001b[0;34m\u001b[0m\u001b[0m\n\u001b[1;32m     91\u001b[0m         \u001b[0mto_filter\u001b[0m \u001b[0;34m=\u001b[0m \u001b[0;34m[\u001b[0m\u001b[0;34m]\u001b[0m\u001b[0;34m\u001b[0m\u001b[0;34m\u001b[0m\u001b[0m\n",
      "\u001b[0;31mKeyError\u001b[0m: 'event_time'"
     ]
    }
   ],
   "source": [
    "t.pivot_table(index='user_id', columns='session_status', values='event_time', aggfunc='mean').reset_index()"
   ]
  },
  {
   "cell_type": "markdown",
   "id": "451be4ff",
   "metadata": {
    "id": "451be4ff"
   },
   "source": [
    "## Рассчитать и сравнить между кластерами частоту совершения событий\n",
    "\n",
    "- Частота относительно пользовательской сессии\n",
    "- этот пункт также поможет определить, как по кластерам различается время между основными событиями пользовательских сессий"
   ]
  },
  {
   "cell_type": "markdown",
   "id": "d250e1fa",
   "metadata": {
    "id": "d250e1fa"
   },
   "source": [
    "## Рассчитать и сравнить между кластерами конверсию в целевое действие `contacts_show`"
   ]
  },
  {
   "cell_type": "markdown",
   "id": "022748d9",
   "metadata": {
    "id": "022748d9"
   },
   "source": [
    "## Сегментировать пользователей по событиям (без кластеризации) и оценить вышеперечисленные метрики по этим сегментам."
   ]
  },
  {
   "cell_type": "markdown",
   "id": "8aacf460",
   "metadata": {
    "id": "8aacf460"
   },
   "source": [
    "## Написать вывод о пользователях:\n",
    "- их ключевых характеристиках в рамках групп и возможных подходах к улучшению пользовательского опыта\n",
    "- сравнить качество объединения пользователей с помощью кластеризации и обычной сегментации по наиболее распростарнённым событиям."
   ]
  },
  {
   "cell_type": "markdown",
   "id": "c973bfdf",
   "metadata": {
    "id": "c973bfdf"
   },
   "source": [
    "# Проверить статистичесике гипотезы"
   ]
  },
  {
   "cell_type": "markdown",
   "id": "16cd582a",
   "metadata": {
    "id": "16cd582a"
   },
   "source": [
    "## Проверить гипотезу о неравенстве  конверсий в `contacts_show` для пользователей, установивших приложение из разных истоников\n",
    "\n",
    "-  Нулевая гипотеза: конверсии равны для установивших по ссылкам yandex и google\n",
    "-  Альтернативная гипотеза (двухсторонняя): конверсии не равны для установивших по ссылкам yandex и google\n",
    "-  предварительно оценка гипотез будет проводиться с помощью `proportions_ztest` "
   ]
  },
  {
   "cell_type": "markdown",
   "id": "c1fb49be",
   "metadata": {
    "id": "c1fb49be"
   },
   "source": [
    "## Проверить гипотезу о неравенстве  конверсий в `contacts_show` для пользователей, которые смотрели фотографии в объявлении и не смотрели\n",
    "\n",
    "-  Нулевая гипотеза: конверсии равны для тех, кто совершал `photos_show` и не совершал\n",
    "-  Альтернативная гипотеза (двухсторонняя): конверсии не равны для тех, кто совершал `photos_show` и не совершал"
   ]
  },
  {
   "cell_type": "markdown",
   "id": "cafb9ba9",
   "metadata": {},
   "source": [
    "<div class=\"alert alert-danger\" style=\"border-radius: 15px; box-shadow: 4px 4px 4px; border: 1px solid \" > <b>Комментарии от тимлида ❌ : </b> \n",
    "\n",
    "Вот именно этих пунктов и не хватает для полного исследования\n",
    "\n",
    "</div>"
   ]
  },
  {
   "cell_type": "markdown",
   "id": "91679ea3",
   "metadata": {
    "id": "91679ea3"
   },
   "source": [
    "# Общий вывод по исследованию с описанием аудиторий и возможными подходами работы с ними."
   ]
  },
  {
   "cell_type": "markdown",
   "id": "nVPqIHqLt6WE",
   "metadata": {
    "id": "nVPqIHqLt6WE"
   },
   "source": [
    "<div class=\"alert alert-success\" style=\"border-radius: 15px; box-shadow: 4px 4px 4px; border: 1px solid \" > <b>Комментарии от тимлида ✔️ : </b> \n",
    "    \n",
    "Спасибо за декомпозицию! По общей структуре всё отлично и все подпункты расписаны подробно. Ты хорошо постарался)\n",
    "    \n",
    "Единственное, DAU\\WAU логичнее отнести к исследовательскому этапу, а не кластеризации.\n",
    "    \n",
    "А в целом, получилась достаточно грамотная декомпозиция.\n",
    "    \n",
    "Собственная гипотеза рабочая. Данные результаты будут полезны для отдела менеджмента, чтобы оценить добавление этого функционала\n",
    "    \n",
    "Можно приступать к выполнения проекта.\n",
    "</div>"
   ]
  },
  {
   "cell_type": "code",
   "execution_count": null,
   "id": "7VKtwaB2RojF",
   "metadata": {
    "id": "7VKtwaB2RojF"
   },
   "outputs": [],
   "source": []
  },
  {
   "cell_type": "code",
   "execution_count": null,
   "id": "xG1IQ33IRof_",
   "metadata": {
    "id": "xG1IQ33IRof_"
   },
   "outputs": [],
   "source": []
  },
  {
   "cell_type": "code",
   "execution_count": null,
   "id": "QSuPmuAIRodF",
   "metadata": {
    "id": "QSuPmuAIRodF"
   },
   "outputs": [],
   "source": []
  },
  {
   "cell_type": "code",
   "execution_count": null,
   "id": "rZrGh340RoRV",
   "metadata": {
    "id": "rZrGh340RoRV"
   },
   "outputs": [],
   "source": []
  },
  {
   "cell_type": "code",
   "execution_count": null,
   "id": "pR6J8kh1RpHm",
   "metadata": {
    "id": "pR6J8kh1RpHm"
   },
   "outputs": [],
   "source": [
    "t = df[(df['user_id'] == '20850c8f-4135-4059-b13b-198d3ac59902') | (df['user_id'] == '020292ab-89bc-4156-9acf-68bc2783f894')].copy()"
   ]
  },
  {
   "cell_type": "code",
   "execution_count": null,
   "id": "4haazJPlRpHm",
   "metadata": {
    "colab": {
     "base_uri": "https://localhost:8080/",
     "height": 1000
    },
    "executionInfo": {
     "elapsed": 3,
     "status": "ok",
     "timestamp": 1650026087177,
     "user": {
      "displayName": "Vadim Selin",
      "userId": "13742755250186020674"
     },
     "user_tz": -180
    },
    "id": "4haazJPlRpHm",
    "outputId": "3ab3b915-3bb8-4722-9f1c-da13543c1343"
   },
   "outputs": [],
   "source": [
    "t"
   ]
  },
  {
   "cell_type": "code",
   "execution_count": null,
   "id": "hBfx2Vf7RpHn",
   "metadata": {
    "id": "hBfx2Vf7RpHn"
   },
   "outputs": [],
   "source": [
    "t['new'] = np.nan"
   ]
  },
  {
   "cell_type": "code",
   "execution_count": null,
   "id": "3lPU_3b5RpHn",
   "metadata": {
    "colab": {
     "base_uri": "https://localhost:8080/",
     "height": 1000
    },
    "executionInfo": {
     "elapsed": 4,
     "status": "ok",
     "timestamp": 1650026103848,
     "user": {
      "displayName": "Vadim Selin",
      "userId": "13742755250186020674"
     },
     "user_tz": -180
    },
    "id": "3lPU_3b5RpHn",
    "outputId": "478eee98-55a8-4622-e07f-caa635c8a4c7"
   },
   "outputs": [],
   "source": [
    "t"
   ]
  },
  {
   "cell_type": "code",
   "execution_count": null,
   "id": "-wNbP-cKRpHn",
   "metadata": {
    "id": "-wNbP-cKRpHn"
   },
   "outputs": [],
   "source": [
    "t.loc[t['session_status'] == 'start_new_session', 'new'] = t[t['session_status'] == 'start_new_session'].groupby(['user_id']).cumcount()"
   ]
  },
  {
   "cell_type": "code",
   "execution_count": null,
   "id": "5pQSM_LhRpHn",
   "metadata": {
    "colab": {
     "base_uri": "https://localhost:8080/",
     "height": 1000
    },
    "executionInfo": {
     "elapsed": 275,
     "status": "ok",
     "timestamp": 1650026612371,
     "user": {
      "displayName": "Vadim Selin",
      "userId": "13742755250186020674"
     },
     "user_tz": -180
    },
    "id": "5pQSM_LhRpHn",
    "outputId": "a904fadb-4055-4ae8-aa00-8cd4ad8522a6"
   },
   "outputs": [],
   "source": [
    "t"
   ]
  },
  {
   "cell_type": "code",
   "execution_count": null,
   "id": "ldxDAoO0RpHn",
   "metadata": {
    "colab": {
     "base_uri": "https://localhost:8080/"
    },
    "executionInfo": {
     "elapsed": 302,
     "status": "ok",
     "timestamp": 1650026665760,
     "user": {
      "displayName": "Vadim Selin",
      "userId": "13742755250186020674"
     },
     "user_tz": -180
    },
    "id": "ldxDAoO0RpHn",
    "outputId": "2d3aaff9-60f4-4cef-929f-9daf5c8807b5"
   },
   "outputs": [],
   "source": [
    "t['new'].fillna(method='ffill')"
   ]
  },
  {
   "cell_type": "code",
   "execution_count": null,
   "id": "-tLSMV9eRpHn",
   "metadata": {
    "id": "-tLSMV9eRpHn"
   },
   "outputs": [],
   "source": [
    "pd.set_option('display.max_rows', 93)"
   ]
  },
  {
   "cell_type": "markdown",
   "id": "g5o_uW0JRpHo",
   "metadata": {
    "id": "g5o_uW0JRpHo"
   },
   "source": [
    "- Сгруппирую датафрейм `df` (отфильтрованы только события с маркером `start_new_session`) по пользователям, чтобы посчитать количество сессий для каждого пользователя.\n",
    "- Разделив  "
   ]
  },
  {
   "cell_type": "code",
   "execution_count": null,
   "id": "u8j-4VZLRpHo",
   "metadata": {
    "id": "u8j-4VZLRpHo"
   },
   "outputs": [],
   "source": [
    "t = df[df['session_status'] == 'start_new_session'].groupby(['user_id'], as_index=False)['session_status'].count()"
   ]
  },
  {
   "cell_type": "code",
   "execution_count": null,
   "id": "2LUZTghIRpHo",
   "metadata": {
    "id": "2LUZTghIRpHo"
   },
   "outputs": [],
   "source": [
    "t = t.rename(columns={'session_status': 'session_cnt'})"
   ]
  },
  {
   "cell_type": "code",
   "execution_count": null,
   "id": "E6rWV9aKRpHp",
   "metadata": {
    "colab": {
     "base_uri": "https://localhost:8080/",
     "height": 423
    },
    "executionInfo": {
     "elapsed": 270,
     "status": "ok",
     "timestamp": 1650016708460,
     "user": {
      "displayName": "Vadim Selin",
      "userId": "13742755250186020674"
     },
     "user_tz": -180
    },
    "id": "E6rWV9aKRpHp",
    "outputId": "51b350e0-8284-4d0f-fed9-8e62bf9efe1f"
   },
   "outputs": [],
   "source": [
    "t"
   ]
  },
  {
   "cell_type": "markdown",
   "id": "OVy-8gmnRpHp",
   "metadata": {
    "id": "OVy-8gmnRpHp"
   },
   "source": [
    "- Потом получу время начала всех сессий отфильровав по маркеру события\n",
    "- Потом получу временную дельту между start_new_session и последним session_continues следующим за ним"
   ]
  },
  {
   "cell_type": "code",
   "execution_count": null,
   "id": "Uf85MewCRpHp",
   "metadata": {
    "colab": {
     "base_uri": "https://localhost:8080/",
     "height": 423
    },
    "executionInfo": {
     "elapsed": 254,
     "status": "ok",
     "timestamp": 1650015322147,
     "user": {
      "displayName": "Vadim Selin",
      "userId": "13742755250186020674"
     },
     "user_tz": -180
    },
    "id": "Uf85MewCRpHp",
    "outputId": "7ec388ab-8e5f-420f-97d9-96d7b1e1a879"
   },
   "outputs": [],
   "source": [
    "t.pivot_table(index='user_id', columns='session_status', values='event_time', aggfunc='mean').reset_index()"
   ]
  }
 ],
 "metadata": {
  "ExecuteTimeLog": [
   {
    "duration": 47076,
    "start_time": "2022-04-19T20:51:11.141Z"
   },
   {
    "duration": 902,
    "start_time": "2022-04-19T20:51:58.222Z"
   },
   {
    "duration": 889,
    "start_time": "2022-04-19T20:51:59.128Z"
   },
   {
    "duration": 369,
    "start_time": "2022-04-19T20:52:00.021Z"
   },
   {
    "duration": 0,
    "start_time": "2022-04-19T20:52:00.404Z"
   },
   {
    "duration": 0,
    "start_time": "2022-04-19T20:52:00.406Z"
   },
   {
    "duration": 0,
    "start_time": "2022-04-19T20:52:00.408Z"
   },
   {
    "duration": 0,
    "start_time": "2022-04-19T20:52:00.411Z"
   },
   {
    "duration": 0,
    "start_time": "2022-04-19T20:52:00.413Z"
   },
   {
    "duration": 0,
    "start_time": "2022-04-19T20:52:00.415Z"
   },
   {
    "duration": 0,
    "start_time": "2022-04-19T20:52:00.418Z"
   },
   {
    "duration": 0,
    "start_time": "2022-04-19T20:52:00.420Z"
   },
   {
    "duration": 0,
    "start_time": "2022-04-19T20:52:00.422Z"
   },
   {
    "duration": 0,
    "start_time": "2022-04-19T20:52:00.452Z"
   },
   {
    "duration": 0,
    "start_time": "2022-04-19T20:52:00.454Z"
   },
   {
    "duration": 0,
    "start_time": "2022-04-19T20:52:00.456Z"
   },
   {
    "duration": 0,
    "start_time": "2022-04-19T20:52:00.460Z"
   },
   {
    "duration": 0,
    "start_time": "2022-04-19T20:52:00.464Z"
   },
   {
    "duration": 0,
    "start_time": "2022-04-19T20:52:00.470Z"
   },
   {
    "duration": 0,
    "start_time": "2022-04-19T20:52:00.472Z"
   },
   {
    "duration": 0,
    "start_time": "2022-04-19T20:52:00.473Z"
   },
   {
    "duration": 0,
    "start_time": "2022-04-19T20:52:00.475Z"
   },
   {
    "duration": 0,
    "start_time": "2022-04-19T20:52:00.476Z"
   },
   {
    "duration": 0,
    "start_time": "2022-04-19T20:52:00.477Z"
   },
   {
    "duration": 0,
    "start_time": "2022-04-19T20:52:00.478Z"
   },
   {
    "duration": 0,
    "start_time": "2022-04-19T20:52:00.479Z"
   },
   {
    "duration": 1,
    "start_time": "2022-04-19T20:52:00.480Z"
   },
   {
    "duration": 0,
    "start_time": "2022-04-19T20:52:00.482Z"
   },
   {
    "duration": 0,
    "start_time": "2022-04-19T20:52:00.482Z"
   },
   {
    "duration": 0,
    "start_time": "2022-04-19T20:52:00.484Z"
   },
   {
    "duration": 0,
    "start_time": "2022-04-19T20:52:00.486Z"
   },
   {
    "duration": 0,
    "start_time": "2022-04-19T20:52:00.488Z"
   },
   {
    "duration": 0,
    "start_time": "2022-04-19T20:52:00.490Z"
   },
   {
    "duration": 0,
    "start_time": "2022-04-19T20:52:00.492Z"
   },
   {
    "duration": 1,
    "start_time": "2022-04-19T20:52:00.494Z"
   },
   {
    "duration": 0,
    "start_time": "2022-04-19T20:52:00.497Z"
   },
   {
    "duration": 0,
    "start_time": "2022-04-19T20:52:00.554Z"
   },
   {
    "duration": 0,
    "start_time": "2022-04-19T20:52:00.559Z"
   },
   {
    "duration": 0,
    "start_time": "2022-04-19T20:52:00.560Z"
   },
   {
    "duration": 0,
    "start_time": "2022-04-19T20:52:00.566Z"
   },
   {
    "duration": 0,
    "start_time": "2022-04-19T20:52:00.570Z"
   },
   {
    "duration": 0,
    "start_time": "2022-04-19T20:52:00.571Z"
   },
   {
    "duration": 0,
    "start_time": "2022-04-19T20:52:00.573Z"
   },
   {
    "duration": 0,
    "start_time": "2022-04-19T20:52:00.575Z"
   },
   {
    "duration": 0,
    "start_time": "2022-04-19T20:52:00.576Z"
   },
   {
    "duration": 0,
    "start_time": "2022-04-19T20:52:00.578Z"
   },
   {
    "duration": 0,
    "start_time": "2022-04-19T20:52:00.579Z"
   },
   {
    "duration": 0,
    "start_time": "2022-04-19T20:52:00.580Z"
   },
   {
    "duration": 0,
    "start_time": "2022-04-19T20:52:00.582Z"
   },
   {
    "duration": 0,
    "start_time": "2022-04-19T20:52:00.584Z"
   },
   {
    "duration": 0,
    "start_time": "2022-04-19T20:52:00.585Z"
   },
   {
    "duration": 0,
    "start_time": "2022-04-19T20:52:00.586Z"
   },
   {
    "duration": 0,
    "start_time": "2022-04-19T20:52:00.587Z"
   },
   {
    "duration": 0,
    "start_time": "2022-04-19T20:52:00.588Z"
   },
   {
    "duration": 0,
    "start_time": "2022-04-19T20:52:00.589Z"
   },
   {
    "duration": 1,
    "start_time": "2022-04-19T20:52:00.590Z"
   },
   {
    "duration": 0,
    "start_time": "2022-04-19T20:52:00.592Z"
   },
   {
    "duration": 0,
    "start_time": "2022-04-19T20:52:00.594Z"
   },
   {
    "duration": 0,
    "start_time": "2022-04-19T20:52:00.654Z"
   },
   {
    "duration": 0,
    "start_time": "2022-04-19T20:52:00.655Z"
   },
   {
    "duration": 0,
    "start_time": "2022-04-19T20:52:00.656Z"
   },
   {
    "duration": 0,
    "start_time": "2022-04-19T20:52:00.658Z"
   },
   {
    "duration": 0,
    "start_time": "2022-04-19T20:52:00.660Z"
   },
   {
    "duration": 0,
    "start_time": "2022-04-19T20:52:00.661Z"
   },
   {
    "duration": 0,
    "start_time": "2022-04-19T20:52:00.662Z"
   },
   {
    "duration": 0,
    "start_time": "2022-04-19T20:52:00.664Z"
   },
   {
    "duration": 0,
    "start_time": "2022-04-19T20:52:00.665Z"
   },
   {
    "duration": 0,
    "start_time": "2022-04-19T20:52:00.666Z"
   },
   {
    "duration": 0,
    "start_time": "2022-04-19T20:52:00.667Z"
   },
   {
    "duration": 0,
    "start_time": "2022-04-19T20:52:00.668Z"
   },
   {
    "duration": 0,
    "start_time": "2022-04-19T20:52:00.670Z"
   },
   {
    "duration": 0,
    "start_time": "2022-04-19T20:52:00.674Z"
   },
   {
    "duration": 0,
    "start_time": "2022-04-19T20:52:00.678Z"
   },
   {
    "duration": 0,
    "start_time": "2022-04-19T20:52:00.681Z"
   },
   {
    "duration": 0,
    "start_time": "2022-04-19T20:52:00.682Z"
   },
   {
    "duration": 0,
    "start_time": "2022-04-19T20:52:00.685Z"
   },
   {
    "duration": 0,
    "start_time": "2022-04-19T20:52:00.687Z"
   },
   {
    "duration": 0,
    "start_time": "2022-04-19T20:52:00.689Z"
   },
   {
    "duration": 0,
    "start_time": "2022-04-19T20:52:00.691Z"
   },
   {
    "duration": 0,
    "start_time": "2022-04-19T20:52:00.693Z"
   },
   {
    "duration": 0,
    "start_time": "2022-04-19T20:52:00.764Z"
   },
   {
    "duration": 0,
    "start_time": "2022-04-19T20:52:00.765Z"
   },
   {
    "duration": 0,
    "start_time": "2022-04-19T20:52:00.767Z"
   },
   {
    "duration": 0,
    "start_time": "2022-04-19T20:52:00.778Z"
   },
   {
    "duration": 0,
    "start_time": "2022-04-19T20:52:00.781Z"
   },
   {
    "duration": 0,
    "start_time": "2022-04-19T20:52:00.783Z"
   },
   {
    "duration": 0,
    "start_time": "2022-04-19T20:52:00.785Z"
   },
   {
    "duration": 0,
    "start_time": "2022-04-19T20:52:00.786Z"
   },
   {
    "duration": 0,
    "start_time": "2022-04-19T20:52:00.788Z"
   },
   {
    "duration": 0,
    "start_time": "2022-04-19T20:52:00.789Z"
   },
   {
    "duration": 0,
    "start_time": "2022-04-19T20:52:00.791Z"
   },
   {
    "duration": 0,
    "start_time": "2022-04-19T20:52:00.792Z"
   },
   {
    "duration": 0,
    "start_time": "2022-04-19T20:52:00.794Z"
   },
   {
    "duration": 0,
    "start_time": "2022-04-19T20:52:00.796Z"
   },
   {
    "duration": 0,
    "start_time": "2022-04-19T20:52:00.798Z"
   },
   {
    "duration": 1,
    "start_time": "2022-04-19T20:52:00.851Z"
   },
   {
    "duration": 0,
    "start_time": "2022-04-19T20:52:00.855Z"
   },
   {
    "duration": 0,
    "start_time": "2022-04-19T20:52:00.857Z"
   },
   {
    "duration": 0,
    "start_time": "2022-04-19T20:52:00.861Z"
   },
   {
    "duration": 0,
    "start_time": "2022-04-19T20:52:00.863Z"
   },
   {
    "duration": 0,
    "start_time": "2022-04-19T20:52:00.864Z"
   },
   {
    "duration": 0,
    "start_time": "2022-04-19T20:52:00.869Z"
   },
   {
    "duration": 0,
    "start_time": "2022-04-19T20:52:00.870Z"
   },
   {
    "duration": 0,
    "start_time": "2022-04-19T20:52:00.871Z"
   },
   {
    "duration": 0,
    "start_time": "2022-04-19T20:52:00.872Z"
   },
   {
    "duration": 0,
    "start_time": "2022-04-19T20:52:00.873Z"
   },
   {
    "duration": 0,
    "start_time": "2022-04-19T20:52:00.874Z"
   },
   {
    "duration": 0,
    "start_time": "2022-04-19T20:52:00.875Z"
   },
   {
    "duration": 0,
    "start_time": "2022-04-19T20:52:00.876Z"
   },
   {
    "duration": 0,
    "start_time": "2022-04-19T20:52:00.877Z"
   },
   {
    "duration": 0,
    "start_time": "2022-04-19T20:52:00.878Z"
   },
   {
    "duration": 0,
    "start_time": "2022-04-19T20:52:00.882Z"
   },
   {
    "duration": 0,
    "start_time": "2022-04-19T20:52:00.883Z"
   },
   {
    "duration": 0,
    "start_time": "2022-04-19T20:52:00.885Z"
   },
   {
    "duration": 0,
    "start_time": "2022-04-19T20:52:00.887Z"
   },
   {
    "duration": 0,
    "start_time": "2022-04-19T20:52:00.889Z"
   },
   {
    "duration": 0,
    "start_time": "2022-04-19T20:52:00.891Z"
   },
   {
    "duration": 0,
    "start_time": "2022-04-19T20:52:00.892Z"
   },
   {
    "duration": 0,
    "start_time": "2022-04-19T20:52:00.894Z"
   },
   {
    "duration": 0,
    "start_time": "2022-04-19T20:52:00.952Z"
   },
   {
    "duration": 0,
    "start_time": "2022-04-19T20:52:00.956Z"
   },
   {
    "duration": 0,
    "start_time": "2022-04-19T20:52:00.957Z"
   },
   {
    "duration": 0,
    "start_time": "2022-04-19T20:52:00.961Z"
   },
   {
    "duration": 0,
    "start_time": "2022-04-19T20:52:00.962Z"
   },
   {
    "duration": 0,
    "start_time": "2022-04-19T20:52:00.964Z"
   },
   {
    "duration": 0,
    "start_time": "2022-04-19T20:52:00.965Z"
   },
   {
    "duration": 0,
    "start_time": "2022-04-19T20:52:00.966Z"
   },
   {
    "duration": 0,
    "start_time": "2022-04-19T20:52:00.969Z"
   },
   {
    "duration": 0,
    "start_time": "2022-04-19T20:52:00.970Z"
   },
   {
    "duration": 0,
    "start_time": "2022-04-19T20:52:00.972Z"
   },
   {
    "duration": 0,
    "start_time": "2022-04-19T20:52:00.976Z"
   },
   {
    "duration": 0,
    "start_time": "2022-04-19T20:52:00.977Z"
   },
   {
    "duration": 0,
    "start_time": "2022-04-19T20:52:00.979Z"
   },
   {
    "duration": 0,
    "start_time": "2022-04-19T20:52:00.980Z"
   },
   {
    "duration": 0,
    "start_time": "2022-04-19T20:52:00.982Z"
   },
   {
    "duration": 0,
    "start_time": "2022-04-19T20:52:00.983Z"
   },
   {
    "duration": 0,
    "start_time": "2022-04-19T20:52:00.985Z"
   },
   {
    "duration": 0,
    "start_time": "2022-04-19T20:52:00.986Z"
   },
   {
    "duration": 0,
    "start_time": "2022-04-19T20:52:00.988Z"
   },
   {
    "duration": 0,
    "start_time": "2022-04-19T20:52:00.989Z"
   },
   {
    "duration": 0,
    "start_time": "2022-04-19T20:52:00.991Z"
   },
   {
    "duration": 0,
    "start_time": "2022-04-19T20:52:00.992Z"
   },
   {
    "duration": 0,
    "start_time": "2022-04-19T20:52:00.994Z"
   },
   {
    "duration": 75,
    "start_time": "2022-04-19T20:52:09.421Z"
   },
   {
    "duration": 428,
    "start_time": "2022-04-19T20:52:59.852Z"
   },
   {
    "duration": 20,
    "start_time": "2022-04-19T20:53:01.059Z"
   },
   {
    "duration": 11,
    "start_time": "2022-04-19T20:53:01.535Z"
   },
   {
    "duration": 4,
    "start_time": "2022-04-19T20:53:03.886Z"
   },
   {
    "duration": 5,
    "start_time": "2022-04-19T20:53:04.291Z"
   },
   {
    "duration": 24,
    "start_time": "2022-04-19T20:53:04.691Z"
   },
   {
    "duration": 8,
    "start_time": "2022-04-19T20:53:05.006Z"
   },
   {
    "duration": 28,
    "start_time": "2022-04-19T20:53:05.410Z"
   },
   {
    "duration": 23,
    "start_time": "2022-04-19T20:53:05.824Z"
   },
   {
    "duration": 24,
    "start_time": "2022-04-19T20:53:07.576Z"
   },
   {
    "duration": 68,
    "start_time": "2022-04-19T20:53:08.735Z"
   },
   {
    "duration": 44,
    "start_time": "2022-04-19T20:53:09.831Z"
   },
   {
    "duration": 45,
    "start_time": "2022-04-19T20:53:10.671Z"
   },
   {
    "duration": 11,
    "start_time": "2022-04-19T20:53:11.068Z"
   },
   {
    "duration": 16,
    "start_time": "2022-04-19T20:53:11.693Z"
   },
   {
    "duration": 44,
    "start_time": "2022-04-19T20:53:12.845Z"
   },
   {
    "duration": 15,
    "start_time": "2022-04-19T20:53:13.584Z"
   },
   {
    "duration": 6,
    "start_time": "2022-04-19T20:53:55.715Z"
   },
   {
    "duration": 8,
    "start_time": "2022-04-19T20:53:56.106Z"
   },
   {
    "duration": 18,
    "start_time": "2022-04-19T20:53:57.048Z"
   },
   {
    "duration": 20,
    "start_time": "2022-04-19T20:53:57.343Z"
   },
   {
    "duration": 10,
    "start_time": "2022-04-19T20:53:57.665Z"
   },
   {
    "duration": 18,
    "start_time": "2022-04-19T20:53:58.214Z"
   },
   {
    "duration": 12,
    "start_time": "2022-04-19T20:53:58.511Z"
   },
   {
    "duration": 529,
    "start_time": "2022-04-19T20:53:59.384Z"
   },
   {
    "duration": 1729,
    "start_time": "2022-04-19T20:54:00.044Z"
   },
   {
    "duration": 35,
    "start_time": "2022-04-19T20:54:02.545Z"
   },
   {
    "duration": 6,
    "start_time": "2022-04-19T20:54:02.889Z"
   },
   {
    "duration": 18,
    "start_time": "2022-04-19T20:54:03.215Z"
   },
   {
    "duration": 6,
    "start_time": "2022-04-19T20:54:03.877Z"
   },
   {
    "duration": 5,
    "start_time": "2022-04-19T20:54:04.233Z"
   },
   {
    "duration": 461,
    "start_time": "2022-04-19T20:54:04.931Z"
   },
   {
    "duration": 32,
    "start_time": "2022-04-19T20:54:05.633Z"
   },
   {
    "duration": 5,
    "start_time": "2022-04-19T20:54:05.973Z"
   },
   {
    "duration": 10,
    "start_time": "2022-04-19T20:54:06.325Z"
   },
   {
    "duration": 5,
    "start_time": "2022-04-19T20:54:07.021Z"
   },
   {
    "duration": 7,
    "start_time": "2022-04-19T20:54:07.367Z"
   },
   {
    "duration": 248,
    "start_time": "2022-04-19T20:54:07.693Z"
   },
   {
    "duration": 236,
    "start_time": "2022-04-19T20:54:08.345Z"
   },
   {
    "duration": 24,
    "start_time": "2022-04-19T20:54:09.384Z"
   },
   {
    "duration": 4,
    "start_time": "2022-04-19T20:54:09.786Z"
   },
   {
    "duration": 543,
    "start_time": "2022-04-19T20:54:10.117Z"
   },
   {
    "duration": 253,
    "start_time": "2022-04-19T20:54:10.828Z"
   },
   {
    "duration": 16,
    "start_time": "2022-04-19T20:54:11.265Z"
   },
   {
    "duration": 7,
    "start_time": "2022-04-19T20:54:11.742Z"
   },
   {
    "duration": 9,
    "start_time": "2022-04-19T20:54:12.474Z"
   },
   {
    "duration": 6,
    "start_time": "2022-04-19T20:54:13.144Z"
   },
   {
    "duration": 26,
    "start_time": "2022-04-19T20:54:13.480Z"
   },
   {
    "duration": 17,
    "start_time": "2022-04-19T20:54:13.790Z"
   },
   {
    "duration": 5,
    "start_time": "2022-04-19T20:54:14.176Z"
   },
   {
    "duration": 15,
    "start_time": "2022-04-19T20:54:14.577Z"
   },
   {
    "duration": 296,
    "start_time": "2022-04-19T20:54:15.251Z"
   },
   {
    "duration": 12,
    "start_time": "2022-04-19T20:54:16.688Z"
   },
   {
    "duration": 16,
    "start_time": "2022-04-19T20:54:16.967Z"
   },
   {
    "duration": 17,
    "start_time": "2022-04-19T20:54:17.648Z"
   },
   {
    "duration": 24,
    "start_time": "2022-04-19T20:54:18.066Z"
   },
   {
    "duration": 18,
    "start_time": "2022-04-19T20:54:18.790Z"
   },
   {
    "duration": 30,
    "start_time": "2022-04-19T20:54:19.434Z"
   },
   {
    "duration": 21,
    "start_time": "2022-04-19T20:54:19.774Z"
   },
   {
    "duration": 38,
    "start_time": "2022-04-19T20:54:21.201Z"
   },
   {
    "duration": 24,
    "start_time": "2022-04-19T20:54:21.565Z"
   },
   {
    "duration": 3,
    "start_time": "2022-04-19T20:54:22.395Z"
   },
   {
    "duration": 9,
    "start_time": "2022-04-19T20:54:22.975Z"
   },
   {
    "duration": 945,
    "start_time": "2022-04-19T20:54:23.829Z"
   },
   {
    "duration": 5,
    "start_time": "2022-04-19T20:54:24.784Z"
   },
   {
    "duration": 4,
    "start_time": "2022-04-19T20:54:25.877Z"
   },
   {
    "duration": 1201,
    "start_time": "2022-04-19T20:54:26.358Z"
   },
   {
    "duration": 7,
    "start_time": "2022-04-19T20:54:27.562Z"
   },
   {
    "duration": 7,
    "start_time": "2022-04-19T20:54:27.572Z"
   },
   {
    "duration": 8,
    "start_time": "2022-04-19T20:54:27.908Z"
   },
   {
    "duration": 5,
    "start_time": "2022-04-19T20:54:29.134Z"
   },
   {
    "duration": 8,
    "start_time": "2022-04-19T20:54:29.518Z"
   },
   {
    "duration": 27,
    "start_time": "2022-04-19T20:54:29.882Z"
   },
   {
    "duration": 27,
    "start_time": "2022-04-19T20:54:30.251Z"
   },
   {
    "duration": 242,
    "start_time": "2022-04-19T20:54:30.950Z"
   },
   {
    "duration": 35,
    "start_time": "2022-04-19T20:54:31.829Z"
   },
   {
    "duration": 4,
    "start_time": "2022-04-19T20:54:32.284Z"
   },
   {
    "duration": 5,
    "start_time": "2022-04-19T20:54:32.634Z"
   },
   {
    "duration": 10,
    "start_time": "2022-04-19T20:54:32.993Z"
   },
   {
    "duration": 268,
    "start_time": "2022-04-19T20:54:33.725Z"
   },
   {
    "duration": 20,
    "start_time": "2022-04-19T20:54:35.284Z"
   },
   {
    "duration": 4,
    "start_time": "2022-04-19T20:54:35.704Z"
   },
   {
    "duration": 9,
    "start_time": "2022-04-19T20:54:36.145Z"
   },
   {
    "duration": 20,
    "start_time": "2022-04-19T20:54:36.521Z"
   },
   {
    "duration": 18,
    "start_time": "2022-04-19T20:54:37.307Z"
   },
   {
    "duration": 6,
    "start_time": "2022-04-19T20:54:38.037Z"
   },
   {
    "duration": 32,
    "start_time": "2022-04-19T20:54:38.809Z"
   },
   {
    "duration": 5,
    "start_time": "2022-04-19T20:54:39.175Z"
   },
   {
    "duration": 10,
    "start_time": "2022-04-19T20:54:39.586Z"
   },
   {
    "duration": 6,
    "start_time": "2022-04-19T20:54:40.384Z"
   },
   {
    "duration": 8,
    "start_time": "2022-04-19T20:54:40.784Z"
   },
   {
    "duration": 8,
    "start_time": "2022-04-19T20:54:41.220Z"
   },
   {
    "duration": 6,
    "start_time": "2022-04-19T20:54:42.027Z"
   },
   {
    "duration": 22,
    "start_time": "2022-04-19T20:54:42.341Z"
   },
   {
    "duration": 21,
    "start_time": "2022-04-19T20:54:42.715Z"
   },
   {
    "duration": 13,
    "start_time": "2022-04-19T20:54:43.091Z"
   },
   {
    "duration": 632,
    "start_time": "2022-04-19T20:54:43.478Z"
   },
   {
    "duration": 11,
    "start_time": "2022-04-19T20:54:45.311Z"
   },
   {
    "duration": 2051,
    "start_time": "2022-04-19T20:54:46.095Z"
   },
   {
    "duration": 12,
    "start_time": "2022-04-19T20:54:48.149Z"
   },
   {
    "duration": 23,
    "start_time": "2022-04-19T20:54:48.163Z"
   },
   {
    "duration": 27,
    "start_time": "2022-04-19T20:54:48.189Z"
   },
   {
    "duration": 11,
    "start_time": "2022-04-19T20:54:48.463Z"
   },
   {
    "duration": 23,
    "start_time": "2022-04-19T20:54:49.214Z"
   },
   {
    "duration": 16,
    "start_time": "2022-04-19T20:54:49.946Z"
   },
   {
    "duration": 265,
    "start_time": "2022-04-19T20:54:50.767Z"
   },
   {
    "duration": 30,
    "start_time": "2022-04-19T20:54:51.978Z"
   },
   {
    "duration": 38,
    "start_time": "2022-04-19T20:54:52.692Z"
   },
   {
    "duration": 35,
    "start_time": "2022-04-19T20:54:53.041Z"
   },
   {
    "duration": 6,
    "start_time": "2022-04-19T20:54:53.767Z"
   },
   {
    "duration": 44,
    "start_time": "2022-04-19T20:54:54.088Z"
   },
   {
    "duration": 52,
    "start_time": "2022-04-19T20:54:54.736Z"
   },
   {
    "duration": 43,
    "start_time": "2022-04-19T20:54:55.454Z"
   },
   {
    "duration": 1230,
    "start_time": "2022-04-19T20:54:56.158Z"
   },
   {
    "duration": 37,
    "start_time": "2022-04-19T20:54:57.391Z"
   },
   {
    "duration": 9,
    "start_time": "2022-04-19T20:54:58.312Z"
   },
   {
    "duration": 32,
    "start_time": "2022-04-19T20:54:58.664Z"
   },
   {
    "duration": 58,
    "start_time": "2022-04-19T20:54:59.330Z"
   },
   {
    "duration": 9,
    "start_time": "2022-04-19T20:54:59.658Z"
   },
   {
    "duration": 24,
    "start_time": "2022-04-19T20:55:00.025Z"
   },
   {
    "duration": 4,
    "start_time": "2022-04-19T20:55:00.344Z"
   },
   {
    "duration": 7,
    "start_time": "2022-04-19T20:55:00.999Z"
   },
   {
    "duration": 28,
    "start_time": "2022-04-19T20:55:01.355Z"
   },
   {
    "duration": 1500,
    "start_time": "2022-04-19T20:55:02.789Z"
   },
   {
    "duration": 0,
    "start_time": "2022-04-19T20:55:04.291Z"
   },
   {
    "duration": 0,
    "start_time": "2022-04-19T20:55:04.293Z"
   },
   {
    "duration": 18,
    "start_time": "2022-04-19T20:55:04.405Z"
   }
  ],
  "colab": {
   "collapsed_sections": [],
   "name": "review_mobile_app_segmentation_selin_da33.ipynb",
   "provenance": [],
   "toc_visible": true
  },
  "kernelspec": {
   "display_name": "Python 3 (ipykernel)",
   "language": "python",
   "name": "python3"
  },
  "language_info": {
   "codemirror_mode": {
    "name": "ipython",
    "version": 3
   },
   "file_extension": ".py",
   "mimetype": "text/x-python",
   "name": "python",
   "nbconvert_exporter": "python",
   "pygments_lexer": "ipython3",
   "version": "3.9.12"
  },
  "toc": {
   "base_numbering": 1,
   "nav_menu": {},
   "number_sections": true,
   "sideBar": true,
   "skip_h1_title": false,
   "title_cell": "Table of Contents",
   "title_sidebar": "Contents",
   "toc_cell": false,
   "toc_position": {
    "height": "calc(100% - 180px)",
    "left": "10px",
    "top": "150px",
    "width": "165px"
   },
   "toc_section_display": true,
   "toc_window_display": true
  }
 },
 "nbformat": 4,
 "nbformat_minor": 5
}
