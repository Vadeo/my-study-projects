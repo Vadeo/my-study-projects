{
 "cells": [
  {
   "cell_type": "markdown",
   "id": "EL658ZAhtmPt",
   "metadata": {
    "id": "EL658ZAhtmPt"
   },
   "source": [
    "<div style=\"border-radius: 15px; box-shadow: 2px 2px 4px; border: 1px solid; background:#bdc3c7; padding: 20px\"> <h7 style=\"color:black; margin-bottom:20px\"> Вадим, привет!) Это Михаил.\n",
    "\n",
    "Мои комментарии и замечания далее по тексту помечены различными цветами:\n",
    "    \n",
    "---    \n",
    "<div class=\"alert alert-block alert-danger\">\n",
    "❌ : Критическое замечание, которые следует исправить.\n",
    "</div> \n",
    "    \n",
    "---\n",
    "    \n",
    "<div class=\"alert alert-block alert-warning\">\n",
    "⚠️ : Замечание\\совет на будущее.\n",
    "</div>\n",
    "    \n",
    "---\n",
    "    \n",
    "<div class=\"alert alert-block alert-success\">\n",
    "✔️ : Когда всё сделано правильно.\n",
    "</div>\n",
    "    \n",
    "---\n",
    "    \n",
    "p.s.: не удаляй мои замечания, если предстоит что то доработать в проекте.</h7>"
   ]
  },
  {
   "cell_type": "markdown",
   "id": "29b75ace",
   "metadata": {
    "id": "29b75ace"
   },
   "source": [
    "## Задание\n",
    "\n",
    "---\n",
    "\n",
    "**Задача:**\n",
    "\n",
    "**Выделите группы пользователей, которые различаются по метрикам:**\n",
    "\n",
    "1. retention rate,\n",
    "2. время, проведённое в приложении, \n",
    "3. частота действий, \n",
    "4. конверсия в целевое действие — просмотр контактов.\n",
    "---\n",
    "\n",
    "- Проведите исследовательский анализ данных\n",
    "- Сегментируйте пользователей на основе действий\n",
    "- Проверьте статистические гипотезы\n",
    "    1. *Некоторые пользователи установили приложение по ссылке из `yandex`, другие — из `google`. Проверьте гипотезу: две эти группы демонстрируют разную конверсию в просмотры контактов.*\n",
    "    2. *Сформулируйте собственную гипотезу. Дополните её нулевой и альтернативной гипотезами. Проведите статистический тест.*"
   ]
  },
  {
   "cell_type": "markdown",
   "id": "6c5303e5",
   "metadata": {
    "id": "6c5303e5"
   },
   "source": [
    "**Декомпозиция задачи**"
   ]
  },
  {
   "cell_type": "markdown",
   "id": "CnnCm0C_W8eK",
   "metadata": {
    "id": "CnnCm0C_W8eK"
   },
   "source": [
    "[Краткая презентация по проекту](https://disk.yandex.ru/i/Ew5760li81A49g)"
   ]
  },
  {
   "cell_type": "markdown",
   "id": "hKm5syjJXpc5",
   "metadata": {
    "id": "hKm5syjJXpc5"
   },
   "source": [
    "<div class=\"alert alert-block alert-info\">\n",
    "<b>Комментарий от студента</b> <a class=\"tocSkip\"></a>\n",
    "\n",
    "Михаил, прошу прощения за то, что тяну резину: коллега на работе уходит - у меня завал. Дашборд в tableau смогу сегодня к концу вечера собрать и прислать ссылку на него?\n",
    "</div>"
   ]
  },
  {
   "cell_type": "markdown",
   "id": "4b6b0e82",
   "metadata": {
    "id": "4b6b0e82"
   },
   "source": [
    "# Загрузка данных и библиотек для их обработки."
   ]
  },
  {
   "cell_type": "code",
   "execution_count": null,
   "id": "Bg5jY96tfrah",
   "metadata": {
    "colab": {
     "base_uri": "https://localhost:8080/"
    },
    "executionInfo": {
     "elapsed": 1488,
     "status": "ok",
     "timestamp": 1650347732677,
     "user": {
      "displayName": "Vadim Selin",
      "userId": "13742755250186020674"
     },
     "user_tz": -180
    },
    "id": "Bg5jY96tfrah",
    "outputId": "e8ea4692-dfb4-416e-cb0a-a6c010e314a9"
   },
   "outputs": [],
   "source": [
    "import pandas as pd\n",
    "import numpy as np\n",
    "import seaborn as sns\n",
    "import matplotlib.pyplot as plt\n",
    "from statsmodels.stats.proportion import proportions_ztest\n",
    "from sklearn.preprocessing import StandardScaler\n",
    "from scipy.cluster.hierarchy import dendrogram, linkage\n",
    "from sklearn.cluster import KMeans"
   ]
  },
  {
   "cell_type": "code",
   "execution_count": null,
   "id": "NsjTg39-gCHp",
   "metadata": {
    "colab": {
     "base_uri": "https://localhost:8080/"
    },
    "executionInfo": {
     "elapsed": 2726,
     "status": "ok",
     "timestamp": 1650347735400,
     "user": {
      "displayName": "Vadim Selin",
      "userId": "13742755250186020674"
     },
     "user_tz": -180
    },
    "id": "NsjTg39-gCHp",
    "outputId": "a6e1951d-7300-425b-fc16-bc16bd955ad7"
   },
   "outputs": [],
   "source": [
    "#! gdown --id 11Z8YQ7HUtpyOpywT4edBzAUVPk7-0sGL"
   ]
  },
  {
   "cell_type": "code",
   "execution_count": null,
   "id": "lmZSWl2MgCdo",
   "metadata": {
    "colab": {
     "base_uri": "https://localhost:8080/"
    },
    "executionInfo": {
     "elapsed": 2054,
     "status": "ok",
     "timestamp": 1650347737451,
     "user": {
      "displayName": "Vadim Selin",
      "userId": "13742755250186020674"
     },
     "user_tz": -180
    },
    "id": "lmZSWl2MgCdo",
    "outputId": "33c5e72f-cbbd-4d72-933c-812abb499663"
   },
   "outputs": [],
   "source": [
    "#! gdown --id 1tZ9h9O9ajv0zMNZQUv7_WCnA64dGJ3UJ"
   ]
  },
  {
   "cell_type": "code",
   "execution_count": null,
   "id": "ca-ELH1UgF6Q",
   "metadata": {
    "executionInfo": {
     "elapsed": 4,
     "status": "ok",
     "timestamp": 1650347737452,
     "user": {
      "displayName": "Vadim Selin",
      "userId": "13742755250186020674"
     },
     "user_tz": -180
    },
    "id": "ca-ELH1UgF6Q"
   },
   "outputs": [],
   "source": [
    "df = pd.read_csv('/datasets/mobile_dataset.csv')"
   ]
  },
  {
   "cell_type": "code",
   "execution_count": null,
   "id": "ZXdmtojOgMvg",
   "metadata": {
    "executionInfo": {
     "elapsed": 417,
     "status": "ok",
     "timestamp": 1650347737866,
     "user": {
      "displayName": "Vadim Selin",
      "userId": "13742755250186020674"
     },
     "user_tz": -180
    },
    "id": "ZXdmtojOgMvg"
   },
   "outputs": [],
   "source": [
    "src = pd.read_csv('/datasets/mobile_soures.csv')"
   ]
  },
  {
   "cell_type": "code",
   "execution_count": null,
   "id": "ap_1ZQ22gT7I",
   "metadata": {
    "colab": {
     "base_uri": "https://localhost:8080/",
     "height": 206
    },
    "executionInfo": {
     "elapsed": 18,
     "status": "ok",
     "timestamp": 1650347737866,
     "user": {
      "displayName": "Vadim Selin",
      "userId": "13742755250186020674"
     },
     "user_tz": -180
    },
    "id": "ap_1ZQ22gT7I",
    "outputId": "99ba136c-116a-4883-8908-fe4bc9988274"
   },
   "outputs": [],
   "source": [
    "df.head()"
   ]
  },
  {
   "cell_type": "code",
   "execution_count": null,
   "id": "Sb6CLE-ggUM4",
   "metadata": {
    "colab": {
     "base_uri": "https://localhost:8080/",
     "height": 206
    },
    "executionInfo": {
     "elapsed": 18,
     "status": "ok",
     "timestamp": 1650347737867,
     "user": {
      "displayName": "Vadim Selin",
      "userId": "13742755250186020674"
     },
     "user_tz": -180
    },
    "id": "Sb6CLE-ggUM4",
    "outputId": "3f6d3bd8-4a63-4e0c-b714-4669f019ad1e"
   },
   "outputs": [],
   "source": [
    "src.head()"
   ]
  },
  {
   "cell_type": "markdown",
   "id": "8mSFKc32gUdo",
   "metadata": {
    "id": "8mSFKc32gUdo"
   },
   "source": [
    "## Описание данных:\n",
    "\n",
    "Датасет содержит данные о событиях, совершенных в мобильном приложении \"Ненужные вещи\". В нем пользователи продают свои ненужные вещи, размещая их на доске объявлений.\n",
    "\n",
    "В датасете содержатся данные пользователей, впервые совершивших действия в приложении после 7 октября 2019 года.\n",
    "\n",
    "Колонки в *mobile_sources.csv*: \n",
    "\n",
    "- `userId` — идентификатор пользователя,\n",
    "- `source` — источник, с которого пользователь установил приложение.\n",
    "\n",
    "Колонки в mobile_dataset.csv: **\n",
    "\n",
    "- `event.time` — время совершения,\n",
    "- `user.id` — идентификатор пользователя,\n",
    "- `event.name` — действие пользователя.\n",
    "\n",
    "Виды действий:\n",
    "\n",
    "- `advert_open` — открыл карточки объявления,\n",
    "- `photos_show` — просмотрел фотографий в объявлении,\n",
    "- `tips_show` — увидел рекомендованные объявления,\n",
    "- `tips_click` — кликнул по рекомендованному объявлению,\n",
    "- `contacts_show` и `show_contacts` — посмотрел номер телефона,\n",
    "- `contacts_call` — позвонил по номеру из объявления,\n",
    "- `map` — открыл карту объявлений,\n",
    "- `search_1`—`search_7` — разные действия, связанные с поиском по сайту,\n",
    "- `favorites_add` — добавил объявление в избранное."
   ]
  },
  {
   "cell_type": "markdown",
   "id": "c6646db0",
   "metadata": {
    "id": "c6646db0"
   },
   "source": [
    "# Предобработка."
   ]
  },
  {
   "cell_type": "markdown",
   "id": "h1PUi0xhgzrw",
   "metadata": {
    "id": "h1PUi0xhgzrw"
   },
   "source": [
    "## Поменяю названия полей и присоединю информацию об источниках к основному датасету `df`"
   ]
  },
  {
   "cell_type": "code",
   "execution_count": null,
   "id": "gkv8dGDcgz8Q",
   "metadata": {
    "executionInfo": {
     "elapsed": 17,
     "status": "ok",
     "timestamp": 1650347737867,
     "user": {
      "displayName": "Vadim Selin",
      "userId": "13742755250186020674"
     },
     "user_tz": -180
    },
    "id": "gkv8dGDcgz8Q"
   },
   "outputs": [],
   "source": [
    "df.columns = ['event_time', 'event_name', 'user_id']"
   ]
  },
  {
   "cell_type": "code",
   "execution_count": null,
   "id": "nG2u4Vazg0LY",
   "metadata": {
    "executionInfo": {
     "elapsed": 17,
     "status": "ok",
     "timestamp": 1650347737867,
     "user": {
      "displayName": "Vadim Selin",
      "userId": "13742755250186020674"
     },
     "user_tz": -180
    },
    "id": "nG2u4Vazg0LY"
   },
   "outputs": [],
   "source": [
    "src.rename(columns={'userId': 'user_id'}, inplace=True)"
   ]
  },
  {
   "cell_type": "code",
   "execution_count": null,
   "id": "dAjmTO6OhfnA",
   "metadata": {
    "colab": {
     "base_uri": "https://localhost:8080/"
    },
    "executionInfo": {
     "elapsed": 17,
     "status": "ok",
     "timestamp": 1650347737868,
     "user": {
      "displayName": "Vadim Selin",
      "userId": "13742755250186020674"
     },
     "user_tz": -180
    },
    "id": "dAjmTO6OhfnA",
    "outputId": "b45ec54a-cb12-4d7a-fe54-5f9d6383b3f6"
   },
   "outputs": [],
   "source": [
    "df['user_id'].nunique()"
   ]
  },
  {
   "cell_type": "code",
   "execution_count": null,
   "id": "GPOrxSCYhsNA",
   "metadata": {
    "colab": {
     "base_uri": "https://localhost:8080/"
    },
    "executionInfo": {
     "elapsed": 14,
     "status": "ok",
     "timestamp": 1650347737868,
     "user": {
      "displayName": "Vadim Selin",
      "userId": "13742755250186020674"
     },
     "user_tz": -180
    },
    "id": "GPOrxSCYhsNA",
    "outputId": "6dd21cbf-c6b4-478b-93f7-5b693c572a4d"
   },
   "outputs": [],
   "source": [
    "src['user_id'].nunique()"
   ]
  },
  {
   "cell_type": "code",
   "execution_count": null,
   "id": "jw7UMQWThxlv",
   "metadata": {
    "executionInfo": {
     "elapsed": 11,
     "status": "ok",
     "timestamp": 1650347737869,
     "user": {
      "displayName": "Vadim Selin",
      "userId": "13742755250186020674"
     },
     "user_tz": -180
    },
    "id": "jw7UMQWThxlv"
   },
   "outputs": [],
   "source": [
    "df = df.merge(src, how='left', on='user_id')"
   ]
  },
  {
   "cell_type": "code",
   "execution_count": null,
   "id": "GjXQLoGPiHzv",
   "metadata": {
    "colab": {
     "base_uri": "https://localhost:8080/"
    },
    "executionInfo": {
     "elapsed": 11,
     "status": "ok",
     "timestamp": 1650347737869,
     "user": {
      "displayName": "Vadim Selin",
      "userId": "13742755250186020674"
     },
     "user_tz": -180
    },
    "id": "GjXQLoGPiHzv",
    "outputId": "f8409b11-cfb3-4666-8268-f65ccceddf91"
   },
   "outputs": [],
   "source": [
    "df['user_id'].nunique()"
   ]
  },
  {
   "cell_type": "markdown",
   "id": "a2-7g6eGiNYP",
   "metadata": {
    "id": "a2-7g6eGiNYP"
   },
   "source": [
    "- Все пользователи остались на месте\n",
    "- Проверю пропуски, дубли, типы данных"
   ]
  },
  {
   "cell_type": "markdown",
   "id": "Rko_Nef1_UcR",
   "metadata": {
    "id": "Rko_Nef1_UcR"
   },
   "source": [
    "## Проверить пропуски в данных"
   ]
  },
  {
   "cell_type": "code",
   "execution_count": null,
   "id": "rKGx2-CDiajg",
   "metadata": {
    "colab": {
     "base_uri": "https://localhost:8080/"
    },
    "executionInfo": {
     "elapsed": 9,
     "status": "ok",
     "timestamp": 1650347738133,
     "user": {
      "displayName": "Vadim Selin",
      "userId": "13742755250186020674"
     },
     "user_tz": -180
    },
    "id": "rKGx2-CDiajg",
    "outputId": "6556a59c-3bd2-44c1-d90a-40b07e894000"
   },
   "outputs": [],
   "source": [
    "df.isna().mean()"
   ]
  },
  {
   "cell_type": "markdown",
   "id": "s7c5n1S2igsQ",
   "metadata": {
    "id": "s7c5n1S2igsQ"
   },
   "source": [
    "- Такой вывод короче и наглядней, нежели `df.info()`, на мой взгляд "
   ]
  },
  {
   "cell_type": "markdown",
   "id": "DrlFZfIm_UcR",
   "metadata": {
    "id": "DrlFZfIm_UcR"
   },
   "source": [
    "## Проверить на дубли"
   ]
  },
  {
   "cell_type": "code",
   "execution_count": null,
   "id": "MuITjmZEi9gH",
   "metadata": {
    "colab": {
     "base_uri": "https://localhost:8080/"
    },
    "executionInfo": {
     "elapsed": 6,
     "status": "ok",
     "timestamp": 1650347738134,
     "user": {
      "displayName": "Vadim Selin",
      "userId": "13742755250186020674"
     },
     "user_tz": -180
    },
    "id": "MuITjmZEi9gH",
    "outputId": "bf983490-641a-4adc-b03d-e31d0df0ea62"
   },
   "outputs": [],
   "source": [
    "df.duplicated().mean()"
   ]
  },
  {
   "cell_type": "markdown",
   "id": "ZDMAwRCJlvEg",
   "metadata": {
    "id": "ZDMAwRCJlvEg"
   },
   "source": [
    "- Полных дублей нет и это хорошо"
   ]
  },
  {
   "cell_type": "markdown",
   "id": "UqUl18rW_UcS",
   "metadata": {
    "id": "UqUl18rW_UcS"
   },
   "source": [
    "## Поверить типы данных\n",
    "- соответствуют-ли поставленной задаче"
   ]
  },
  {
   "cell_type": "code",
   "execution_count": null,
   "id": "lBC3I6Vol3Bv",
   "metadata": {
    "colab": {
     "base_uri": "https://localhost:8080/"
    },
    "executionInfo": {
     "elapsed": 394,
     "status": "ok",
     "timestamp": 1650347738525,
     "user": {
      "displayName": "Vadim Selin",
      "userId": "13742755250186020674"
     },
     "user_tz": -180
    },
    "id": "lBC3I6Vol3Bv",
    "outputId": "0c992d7a-b5c9-437d-8393-acb0144c9ec6"
   },
   "outputs": [],
   "source": [
    "df.info()"
   ]
  },
  {
   "cell_type": "markdown",
   "id": "2VMXJKmRmFsn",
   "metadata": {
    "id": "2VMXJKmRmFsn"
   },
   "source": [
    "- `df.dtypes` мне знаком, но хотелось сразу увидеть размер датафрейма\n",
    "- переведу `event_time` в тип `datetime`, поскольку с датой и временем надо будет проводить множество операций"
   ]
  },
  {
   "cell_type": "code",
   "execution_count": null,
   "id": "hOHDZzO0mqxf",
   "metadata": {
    "executionInfo": {
     "elapsed": 16,
     "status": "ok",
     "timestamp": 1650347738526,
     "user": {
      "displayName": "Vadim Selin",
      "userId": "13742755250186020674"
     },
     "user_tz": -180
    },
    "id": "hOHDZzO0mqxf"
   },
   "outputs": [],
   "source": [
    "df['event_time'] = pd.to_datetime(df['event_time'], format='%Y-%m-%d %H:%M:%S.%f')"
   ]
  },
  {
   "cell_type": "code",
   "execution_count": null,
   "id": "SlULAKqznDdP",
   "metadata": {
    "colab": {
     "base_uri": "https://localhost:8080/"
    },
    "executionInfo": {
     "elapsed": 15,
     "status": "ok",
     "timestamp": 1650347738526,
     "user": {
      "displayName": "Vadim Selin",
      "userId": "13742755250186020674"
     },
     "user_tz": -180
    },
    "id": "SlULAKqznDdP",
    "outputId": "403ce349-e3fe-47ef-e06c-e8b8d5d55eec"
   },
   "outputs": [],
   "source": [
    "df['event_time'].sample(3, random_state=0)"
   ]
  },
  {
   "cell_type": "markdown",
   "id": "0dpudwsNQdF2",
   "metadata": {
    "id": "0dpudwsNQdF2"
   },
   "source": [
    "## Объединить однотипные события"
   ]
  },
  {
   "cell_type": "code",
   "execution_count": null,
   "id": "mL8HNzdgQc1H",
   "metadata": {
    "colab": {
     "base_uri": "https://localhost:8080/"
    },
    "executionInfo": {
     "elapsed": 12,
     "status": "ok",
     "timestamp": 1650347738526,
     "user": {
      "displayName": "Vadim Selin",
      "userId": "13742755250186020674"
     },
     "user_tz": -180
    },
    "id": "mL8HNzdgQc1H",
    "outputId": "f95e0516-5c4b-464e-bca8-05d1a89da516"
   },
   "outputs": [],
   "source": [
    "df['event_name'].value_counts()"
   ]
  },
  {
   "cell_type": "markdown",
   "id": "lfOZJ15r_UcT",
   "metadata": {
    "id": "lfOZJ15r_UcT"
   },
   "source": [
    "- в описании данных видно, что просмотру контактов соответствует два наименования событий `contacts_show` и `show_contacts`, поэтому объеденю их\n",
    "- также есть 7 наименований для поисковых действий в приложении, разница между которыми не влияет на ответы на поставленные вопросы, поэтому объеденю их"
   ]
  },
  {
   "cell_type": "code",
   "execution_count": null,
   "id": "wxrPNUdcPQ-1",
   "metadata": {
    "executionInfo": {
     "elapsed": 10,
     "status": "ok",
     "timestamp": 1650347738527,
     "user": {
      "displayName": "Vadim Selin",
      "userId": "13742755250186020674"
     },
     "user_tz": -180
    },
    "id": "wxrPNUdcPQ-1"
   },
   "outputs": [],
   "source": [
    "df.replace(\n",
    "    {\n",
    "        'event_name': {\n",
    "            'show_contacts': 'contacts_show', \n",
    "            'search_1': 'search_action',\n",
    "            'search_2': 'search_action',\n",
    "            'search_3': 'search_action',\n",
    "            'search_4': 'search_action',\n",
    "            'search_5': 'search_action',\n",
    "            'search_6': 'search_action',\n",
    "            'search_7': 'search_action',\n",
    "        }\n",
    "    }, inplace=True\n",
    ")"
   ]
  },
  {
   "cell_type": "code",
   "execution_count": null,
   "id": "0mr07fr2PSXW",
   "metadata": {
    "colab": {
     "base_uri": "https://localhost:8080/"
    },
    "executionInfo": {
     "elapsed": 10,
     "status": "ok",
     "timestamp": 1650347738527,
     "user": {
      "displayName": "Vadim Selin",
      "userId": "13742755250186020674"
     },
     "user_tz": -180
    },
    "id": "0mr07fr2PSXW",
    "outputId": "3eef4ae6-4018-4c9f-d3ff-0365d8869a12"
   },
   "outputs": [],
   "source": [
    "df['event_name'].value_counts()"
   ]
  },
  {
   "cell_type": "markdown",
   "id": "bc1754eb",
   "metadata": {
    "id": "bc1754eb"
   },
   "source": [
    "# Исследовательский анализ данных."
   ]
  },
  {
   "cell_type": "markdown",
   "id": "a6c157b6",
   "metadata": {
    "id": "a6c157b6"
   },
   "source": [
    "## Определить временной диапазон датасета."
   ]
  },
  {
   "cell_type": "code",
   "execution_count": null,
   "id": "OG_i35v7Q58d",
   "metadata": {
    "colab": {
     "base_uri": "https://localhost:8080/"
    },
    "executionInfo": {
     "elapsed": 7,
     "status": "ok",
     "timestamp": 1650347738527,
     "user": {
      "displayName": "Vadim Selin",
      "userId": "13742755250186020674"
     },
     "user_tz": -180
    },
    "id": "OG_i35v7Q58d",
    "outputId": "61798683-e016-4697-adac-2592bf45d3be"
   },
   "outputs": [],
   "source": [
    "df['event_time'].min()"
   ]
  },
  {
   "cell_type": "code",
   "execution_count": null,
   "id": "U7rO6axPQ_XN",
   "metadata": {
    "colab": {
     "base_uri": "https://localhost:8080/"
    },
    "executionInfo": {
     "elapsed": 13,
     "status": "ok",
     "timestamp": 1650347738816,
     "user": {
      "displayName": "Vadim Selin",
      "userId": "13742755250186020674"
     },
     "user_tz": -180
    },
    "id": "U7rO6axPQ_XN",
    "outputId": "0ebaddcd-f743-4f8c-a34b-982cb332b54a"
   },
   "outputs": [],
   "source": [
    "df['event_time'].max()"
   ]
  },
  {
   "cell_type": "markdown",
   "id": "BPJTtQLRRCqF",
   "metadata": {
    "id": "BPJTtQLRRCqF"
   },
   "source": [
    "- Данные охватывают период чуть менее месяца (с 7 октября по 3 ноября включительно, 28 дней), поэтому имеет смысл добавить столбец с днём. "
   ]
  },
  {
   "cell_type": "markdown",
   "id": "229b5442",
   "metadata": {
    "id": "229b5442"
   },
   "source": [
    "## Добавить временные поля на основе поля `event_time`\n",
    "- Для последующих рассчётов dau,wau."
   ]
  },
  {
   "cell_type": "code",
   "execution_count": null,
   "id": "WyiVh03URJX2",
   "metadata": {
    "executionInfo": {
     "elapsed": 13,
     "status": "ok",
     "timestamp": 1650347738817,
     "user": {
      "displayName": "Vadim Selin",
      "userId": "13742755250186020674"
     },
     "user_tz": -180
    },
    "id": "WyiVh03URJX2"
   },
   "outputs": [],
   "source": [
    "df['event_date'] = df['event_time'].astype('datetime64[D]')"
   ]
  },
  {
   "cell_type": "code",
   "execution_count": null,
   "id": "BbiMnZ5PRWJN",
   "metadata": {
    "executionInfo": {
     "elapsed": 13,
     "status": "ok",
     "timestamp": 1650347738817,
     "user": {
      "displayName": "Vadim Selin",
      "userId": "13742755250186020674"
     },
     "user_tz": -180
    },
    "id": "BbiMnZ5PRWJN"
   },
   "outputs": [],
   "source": [
    "df['event_week'] = df['event_time'].dt.isocalendar().week"
   ]
  },
  {
   "cell_type": "code",
   "execution_count": null,
   "id": "I0kgQEEuRW6G",
   "metadata": {
    "colab": {
     "base_uri": "https://localhost:8080/"
    },
    "executionInfo": {
     "elapsed": 13,
     "status": "ok",
     "timestamp": 1650347738817,
     "user": {
      "displayName": "Vadim Selin",
      "userId": "13742755250186020674"
     },
     "user_tz": -180
    },
    "id": "I0kgQEEuRW6G",
    "outputId": "d143ddf5-59e4-4b10-8a0c-da4537248bfd"
   },
   "outputs": [],
   "source": [
    "df['event_week'].value_counts()"
   ]
  },
  {
   "cell_type": "markdown",
   "id": "nn7ZTCcyRuYm",
   "metadata": {
    "id": "nn7ZTCcyRuYm"
   },
   "source": [
    "- C каждой следующей неделей в логе событий всё больше: маркетинг работает, активность пользователей растёт.\n",
    "- Проверю, верно-ли прошло разделение по неделям: возьму точный срез по первой неделе и сравню число событий с значением числа строк в `value_counts()` в стороке по 41 неделе."
   ]
  },
  {
   "cell_type": "code",
   "execution_count": null,
   "id": "17GkvGa-R_fF",
   "metadata": {
    "colab": {
     "base_uri": "https://localhost:8080/"
    },
    "executionInfo": {
     "elapsed": 10,
     "status": "ok",
     "timestamp": 1650347738818,
     "user": {
      "displayName": "Vadim Selin",
      "userId": "13742755250186020674"
     },
     "user_tz": -180
    },
    "id": "17GkvGa-R_fF",
    "outputId": "f9584a2f-8c6e-4f49-b989-a887feb5f38e"
   },
   "outputs": [],
   "source": [
    "# 41-я неделя\n",
    "df.query('event_time >= \"2019-10-07 00:00:00.431357\" &\\\n",
    " event_time < \"2019-10-14 00:00:00.000000\"').shape[0]"
   ]
  },
  {
   "cell_type": "code",
   "execution_count": null,
   "id": "8DqxKBn6m8zl",
   "metadata": {
    "colab": {
     "base_uri": "https://localhost:8080/"
    },
    "executionInfo": {
     "elapsed": 7,
     "status": "ok",
     "timestamp": 1650347738818,
     "user": {
      "displayName": "Vadim Selin",
      "userId": "13742755250186020674"
     },
     "user_tz": -180
    },
    "id": "8DqxKBn6m8zl",
    "outputId": "3af04863-21a5-408a-a500-06a1eb025cf5"
   },
   "outputs": [],
   "source": [
    "# 42-я неделя\n",
    "df.query('event_time >= \"2019-10-14 00:00:00.000000\" &\\\n",
    " event_time < \"2019-10-21 00:00:00.000000\"').shape[0]"
   ]
  },
  {
   "cell_type": "markdown",
   "id": "qgREwyqDnM09",
   "metadata": {
    "id": "qgREwyqDnM09"
   },
   "source": [
    "- Данные по неделям поделились правильно"
   ]
  },
  {
   "cell_type": "markdown",
   "id": "08459253",
   "metadata": {
    "id": "08459253"
   },
   "source": [
    "## Проверить полноту данных: распределение количества событий по дням.\n",
    "\n",
    "- Сделаю это, построив гистограмму по столбцу `event_time` с параметром `bins` равный числу дней 28 в исследуемом датасете.\n",
    "- Это позволит наглядно увидеть относительный объём событий за каждый день."
   ]
  },
  {
   "cell_type": "code",
   "execution_count": null,
   "id": "cnP6X35XnZsm",
   "metadata": {
    "colab": {
     "base_uri": "https://localhost:8080/",
     "height": 350
    },
    "executionInfo": {
     "elapsed": 879,
     "status": "ok",
     "timestamp": 1650347739693,
     "user": {
      "displayName": "Vadim Selin",
      "userId": "13742755250186020674"
     },
     "user_tz": -180
    },
    "id": "cnP6X35XnZsm",
    "outputId": "9e728a5e-7799-493e-a39f-b6171a96ee40"
   },
   "outputs": [],
   "source": [
    "df['event_time'].hist(figsize=(16, 5), bins=28)\n",
    "plt.title('Распределение всех событий по дням')\n",
    "plt.ylabel('Количество событий')\n",
    "plt.xlabel('Дата')\n",
    "plt.show()"
   ]
  },
  {
   "cell_type": "markdown",
   "id": "wJYgGJxfojPF",
   "metadata": {
    "id": "wJYgGJxfojPF"
   },
   "source": [
    "- \"пустых\" дней нет. Данные получены без заметных потерь.\n",
    "- также заметна тенденция роста числа событий, которая была заметна на группировке по неделям.\n",
    "- рассмотрю данные поближе, увиличив `bins` до количества часов в исследуемом периоде 28 * 24 = 672"
   ]
  },
  {
   "cell_type": "code",
   "execution_count": null,
   "id": "xxF-xlz0qbpt",
   "metadata": {
    "colab": {
     "base_uri": "https://localhost:8080/",
     "height": 350
    },
    "executionInfo": {
     "elapsed": 3641,
     "status": "ok",
     "timestamp": 1650347743332,
     "user": {
      "displayName": "Vadim Selin",
      "userId": "13742755250186020674"
     },
     "user_tz": -180
    },
    "id": "xxF-xlz0qbpt",
    "outputId": "4c9ccf73-5032-43a9-8b98-20f2999e5ef8"
   },
   "outputs": [],
   "source": [
    "df['event_time'].hist(figsize=(16, 5), bins=672)\n",
    "plt.title('Распределение всех событий по часам')\n",
    "plt.ylabel('Количество событий')\n",
    "plt.xlabel('Дата')\n",
    "plt.show()"
   ]
  },
  {
   "cell_type": "markdown",
   "id": "hS-1f6OCq25c",
   "metadata": {
    "id": "hS-1f6OCq25c"
   },
   "source": [
    "- наблюдается дневная активность, которая после полуночи сменяется затишьем.\n",
    "- также как на распределении по дням видна тенденция к росту числа событий с каждой неделей с некоторым откатом на четвёртой неделе.\n",
    "    - рассчитаю `dau` и `wau`, чтобы посмотреть как рост числа событий связан с числом уникальных пользователей в день и неделю"
   ]
  },
  {
   "cell_type": "markdown",
   "id": "z-QUPAkV_HuW",
   "metadata": {
    "id": "z-QUPAkV_HuW"
   },
   "source": [
    "## Рассчитать `DAU`, `WAU`. Вычислить средние значения этих метрик за весь период. \n",
    "\n",
    "- Построить графики изменения метрик во времени."
   ]
  },
  {
   "cell_type": "code",
   "execution_count": null,
   "id": "V-WFdN3J1wt9",
   "metadata": {
    "executionInfo": {
     "elapsed": 18,
     "status": "ok",
     "timestamp": 1650347743333,
     "user": {
      "displayName": "Vadim Selin",
      "userId": "13742755250186020674"
     },
     "user_tz": -180
    },
    "id": "V-WFdN3J1wt9"
   },
   "outputs": [],
   "source": [
    "dau = df.groupby('event_date', as_index=False).agg({'user_id': 'nunique'})"
   ]
  },
  {
   "cell_type": "code",
   "execution_count": null,
   "id": "h2vFqqztH9-t",
   "metadata": {
    "executionInfo": {
     "elapsed": 18,
     "status": "ok",
     "timestamp": 1650347743334,
     "user": {
      "displayName": "Vadim Selin",
      "userId": "13742755250186020674"
     },
     "user_tz": -180
    },
    "id": "h2vFqqztH9-t"
   },
   "outputs": [],
   "source": [
    "dau.rename(columns={'user_id': 'unique_day_users'}, inplace=True)"
   ]
  },
  {
   "cell_type": "code",
   "execution_count": null,
   "id": "0_qfdaGDH9-t",
   "metadata": {
    "colab": {
     "base_uri": "https://localhost:8080/",
     "height": 926
    },
    "executionInfo": {
     "elapsed": 18,
     "status": "ok",
     "timestamp": 1650347743334,
     "user": {
      "displayName": "Vadim Selin",
      "userId": "13742755250186020674"
     },
     "user_tz": -180
    },
    "id": "0_qfdaGDH9-t",
    "outputId": "a3b95a15-46e1-49e6-b826-fbe84b4a1b28"
   },
   "outputs": [],
   "source": [
    "dau"
   ]
  },
  {
   "cell_type": "markdown",
   "id": "LYNgjSh_NhNK",
   "metadata": {
    "id": "LYNgjSh_NhNK"
   },
   "source": [
    "- Рассчитаю средний `dau` за весь период."
   ]
  },
  {
   "cell_type": "code",
   "execution_count": null,
   "id": "VLoCGMWVH9-t",
   "metadata": {
    "executionInfo": {
     "elapsed": 18,
     "status": "ok",
     "timestamp": 1650347743335,
     "user": {
      "displayName": "Vadim Selin",
      "userId": "13742755250186020674"
     },
     "user_tz": -180
    },
    "id": "VLoCGMWVH9-t"
   },
   "outputs": [],
   "source": [
    "dau_total = dau['unique_day_users'].mean()"
   ]
  },
  {
   "cell_type": "code",
   "execution_count": null,
   "id": "Rh9tVU1MH9-t",
   "metadata": {
    "colab": {
     "base_uri": "https://localhost:8080/"
    },
    "executionInfo": {
     "elapsed": 18,
     "status": "ok",
     "timestamp": 1650347743336,
     "user": {
      "displayName": "Vadim Selin",
      "userId": "13742755250186020674"
     },
     "user_tz": -180
    },
    "id": "Rh9tVU1MH9-t",
    "outputId": "018230ec-bfe2-48c2-e562-998307cdd182"
   },
   "outputs": [],
   "source": [
    "round(dau_total, 2)"
   ]
  },
  {
   "cell_type": "markdown",
   "id": "Heq3ZuG6H9-u",
   "metadata": {
    "id": "Heq3ZuG6H9-u"
   },
   "source": [
    "- Среднее число уникальных пользователей в приложении 279.\n",
    "- Число событий в неделе и на графике распределения росло от начала записи лога.\n",
    "- Вероятно, это связано с ростом числа уникальных пользователей.\n",
    "- Проверю это на ежедневном графике изменения `dau`."
   ]
  },
  {
   "cell_type": "code",
   "execution_count": null,
   "id": "te0hVhscH9-u",
   "metadata": {
    "colab": {
     "base_uri": "https://localhost:8080/",
     "height": 426
    },
    "executionInfo": {
     "elapsed": 973,
     "status": "ok",
     "timestamp": 1650347744296,
     "user": {
      "displayName": "Vadim Selin",
      "userId": "13742755250186020674"
     },
     "user_tz": -180
    },
    "id": "te0hVhscH9-u",
    "outputId": "d4690abc-ab14-4c96-8e4a-b112b2ade9ed"
   },
   "outputs": [],
   "source": [
    "dau.plot(x='event_date',figsize=(14,6), ylim=0, grid=True)\n",
    "plt.title('Число уникальных пользователей в день')\n",
    "plt.ylabel('Количество пользователей')\n",
    "plt.xlabel('Дата')\n",
    "plt.show()"
   ]
  },
  {
   "cell_type": "markdown",
   "id": "vseIa8qJH9-u",
   "metadata": {
    "id": "vseIa8qJH9-u"
   },
   "source": [
    "- Так и есть: ежедневное число уникальных пользователей колеблется, но проявляет тенденцию к росту.\n",
    "- Есть небольшой спад к концу лога, который, очевидно, отразится на недельном графике.\n",
    "- Рассчитаю и построю график `wau`."
   ]
  },
  {
   "cell_type": "code",
   "execution_count": null,
   "id": "PvFWIAkbH9-u",
   "metadata": {
    "executionInfo": {
     "elapsed": 10,
     "status": "ok",
     "timestamp": 1650347744297,
     "user": {
      "displayName": "Vadim Selin",
      "userId": "13742755250186020674"
     },
     "user_tz": -180
    },
    "id": "PvFWIAkbH9-u"
   },
   "outputs": [],
   "source": [
    "wau = df.groupby('event_week', as_index=False).agg({'user_id': 'nunique'})"
   ]
  },
  {
   "cell_type": "code",
   "execution_count": null,
   "id": "4BSltJ6DH9-u",
   "metadata": {
    "executionInfo": {
     "elapsed": 9,
     "status": "ok",
     "timestamp": 1650347744297,
     "user": {
      "displayName": "Vadim Selin",
      "userId": "13742755250186020674"
     },
     "user_tz": -180
    },
    "id": "4BSltJ6DH9-u"
   },
   "outputs": [],
   "source": [
    "wau.rename(columns={'user_id': 'unique_week_users'}, inplace=True)"
   ]
  },
  {
   "cell_type": "code",
   "execution_count": null,
   "id": "b4QOyWS-H9-u",
   "metadata": {
    "colab": {
     "base_uri": "https://localhost:8080/",
     "height": 174
    },
    "executionInfo": {
     "elapsed": 8,
     "status": "ok",
     "timestamp": 1650347744297,
     "user": {
      "displayName": "Vadim Selin",
      "userId": "13742755250186020674"
     },
     "user_tz": -180
    },
    "id": "b4QOyWS-H9-u",
    "outputId": "4d5bc71f-6670-4c74-f4e1-f6d20e6a5be0"
   },
   "outputs": [],
   "source": [
    "wau"
   ]
  },
  {
   "cell_type": "markdown",
   "id": "Je5KPaamN86Z",
   "metadata": {
    "id": "Je5KPaamN86Z"
   },
   "source": [
    "- Рассчитаю средний `wau` за весь период."
   ]
  },
  {
   "cell_type": "code",
   "execution_count": null,
   "id": "amBHdVm6H9-u",
   "metadata": {
    "executionInfo": {
     "elapsed": 8,
     "status": "ok",
     "timestamp": 1650347744298,
     "user": {
      "displayName": "Vadim Selin",
      "userId": "13742755250186020674"
     },
     "user_tz": -180
    },
    "id": "amBHdVm6H9-u"
   },
   "outputs": [],
   "source": [
    "wau_total = wau['unique_week_users'].mean()"
   ]
  },
  {
   "cell_type": "code",
   "execution_count": null,
   "id": "tDRv12rMH9-v",
   "metadata": {
    "colab": {
     "base_uri": "https://localhost:8080/"
    },
    "executionInfo": {
     "elapsed": 8,
     "status": "ok",
     "timestamp": 1650347744298,
     "user": {
      "displayName": "Vadim Selin",
      "userId": "13742755250186020674"
     },
     "user_tz": -180
    },
    "id": "tDRv12rMH9-v",
    "outputId": "7b4e0b64-e6a4-4697-b107-f128d98f508b"
   },
   "outputs": [],
   "source": [
    "wau_total"
   ]
  },
  {
   "cell_type": "code",
   "execution_count": null,
   "id": "660A7EiHH9-v",
   "metadata": {
    "colab": {
     "base_uri": "https://localhost:8080/",
     "height": 294
    },
    "executionInfo": {
     "elapsed": 744,
     "status": "ok",
     "timestamp": 1650347745037,
     "user": {
      "displayName": "Vadim Selin",
      "userId": "13742755250186020674"
     },
     "user_tz": -180
    },
    "id": "660A7EiHH9-v",
    "outputId": "444c88d8-7748-43d0-fb83-d6fc17bbf013"
   },
   "outputs": [],
   "source": [
    "wau.plot(x='event_week', ylim=0, xlim=(41, 44), grid=True)\n",
    "plt.title('Число уникальных пользователей в неделю')\n",
    "plt.ylabel('Количество пользователей')\n",
    "plt.xlabel('неделя года')\n",
    "plt.show()"
   ]
  },
  {
   "cell_type": "markdown",
   "id": "fDT20GZL4BlN",
   "metadata": {
    "id": "fDT20GZL4BlN"
   },
   "source": [
    "- Выведу распределение числа событий по неделям, чтобы отразить взаимосвязь числа событий с числом уникальных пользователей"
   ]
  },
  {
   "cell_type": "code",
   "execution_count": null,
   "id": "cOPFvIZV2vmt",
   "metadata": {
    "colab": {
     "base_uri": "https://localhost:8080/",
     "height": 264
    },
    "executionInfo": {
     "elapsed": 427,
     "status": "ok",
     "timestamp": 1650347745461,
     "user": {
      "displayName": "Vadim Selin",
      "userId": "13742755250186020674"
     },
     "user_tz": -180
    },
    "id": "cOPFvIZV2vmt",
    "outputId": "84be8eec-c13c-4e6d-9cae-d3c7b2e4b69a"
   },
   "outputs": [],
   "source": [
    "df['event_week'].hist(bins=4)\n",
    "plt.xlim(41, 44)\n",
    "plt.show()"
   ]
  },
  {
   "cell_type": "markdown",
   "id": "HXMpfC6MH9-v",
   "metadata": {
    "id": "HXMpfC6MH9-v"
   },
   "source": [
    "- Среднее число уникальных пользователей в неделю составляет `1385,5`.\n",
    "- Со второй недели число уникальных пользователей превышает `1400`.\n",
    "- Но после 3-й недели фиксирую спад.\n",
    "- Вероятно, это связано с показателем `retention rate`, который рассчитаю далее."
   ]
  },
  {
   "cell_type": "markdown",
   "id": "35c065b5",
   "metadata": {
    "id": "35c065b5"
   },
   "source": [
    "## Выбор подхода разделения пользователей на группы\n",
    "\n",
    "В задании требуется выделить группы пользователей на основе retention rate; времени, проведённого в приложении; частоты действий; конверсии в целевое действие — просмотр контактов.\n",
    "\n",
    "И тут может быть два подхода:\n",
    "\n",
    "1. Взять всех пользователей и посчитать метрики по ним. А потом на основании различий метрик выделить группы.\n",
    "2. Разделить пользователей в зависимости от событий, которые они совершили в исследуемый период. И уже после этой группировки по событиям сравнивать интересующие нас метрики.\n",
    "\n",
    "Я выберу второй подход, поскольку мне он кажется более честным (и в перспективе хочу его доработать [с учетом временного разброса событий](https://towardsdatascience.com/how-to-apply-k-means-clustering-to-time-series-data-28d04a8f7da3)): группы будут выделяться на основании событий, а не метрик, рассчитанных на основе тех же событий. Выделять группы буду с помощью алгоритма кластеризации `k-means`. \n",
    "\n",
    "Определять число групп для алгоритма `k-means` буду с помощью *агломеративной иерархической кластеризации* и дендрограммы, визуализирующей её.\n",
    "\n",
    "Прежде чем проводить кластеризацию, выясню, каково распределение числа событий на пользователя за весь исследуемый период.\n",
    "- При этом важно помнить, что некоторые пользователи будут совершать события с самого первого дня исследуемого периода, а некоторые впервые оказались в приложении в конце записанного лога.\n",
    "- Поэтому буду осторожен с фильтрацией"
   ]
  },
  {
   "cell_type": "code",
   "execution_count": null,
   "id": "TAOA0LKhMHm_",
   "metadata": {
    "executionInfo": {
     "elapsed": 3,
     "status": "ok",
     "timestamp": 1650347745461,
     "user": {
      "displayName": "Vadim Selin",
      "userId": "13742755250186020674"
     },
     "user_tz": -180
    },
    "id": "TAOA0LKhMHm_"
   },
   "outputs": [],
   "source": [
    "event_per_usr = pd.DataFrame(df.groupby('user_id')['event_name'].count())"
   ]
  },
  {
   "cell_type": "code",
   "execution_count": null,
   "id": "b446974d",
   "metadata": {
    "executionInfo": {
     "elapsed": 3,
     "status": "ok",
     "timestamp": 1650347745461,
     "user": {
      "displayName": "Vadim Selin",
      "userId": "13742755250186020674"
     },
     "user_tz": -180
    },
    "id": "b446974d"
   },
   "outputs": [],
   "source": [
    "event_per_usr = event_per_usr.rename(columns={'event_name': 'event_cnt'})"
   ]
  },
  {
   "cell_type": "code",
   "execution_count": null,
   "id": "aadb83b4",
   "metadata": {
    "colab": {
     "base_uri": "https://localhost:8080/",
     "height": 294
    },
    "executionInfo": {
     "elapsed": 724,
     "status": "ok",
     "timestamp": 1650352952351,
     "user": {
      "displayName": "Vadim Selin",
      "userId": "13742755250186020674"
     },
     "user_tz": -180
    },
    "id": "aadb83b4",
    "outputId": "d47dd8a1-9978-463b-886f-372a643d333c"
   },
   "outputs": [],
   "source": [
    "event_per_usr['event_cnt'].hist(bins=100)\n",
    "plt.title('Распределение количества событий на одного пользователя')\n",
    "plt.xlabel('Число событий на пользователя')\n",
    "plt.ylabel('Число пользователей')\n",
    "plt.show()"
   ]
  },
  {
   "cell_type": "markdown",
   "id": "6b6cb2a9",
   "metadata": {
    "id": "6b6cb2a9"
   },
   "source": [
    "- Имеем перекошенное распределение событий во времени (период записи лога), похожее на Пуассоновское. Лежащее в пределах от `0` до `500`\n",
    "- Изучу его квартили, выбросы на диаграмме `boxplot`\n",
    "- А, главное, решу - отбарсывать эти выбросы и нет."
   ]
  },
  {
   "cell_type": "code",
   "execution_count": null,
   "id": "WCOJOjDrMm9-",
   "metadata": {
    "colab": {
     "base_uri": "https://localhost:8080/",
     "height": 505
    },
    "executionInfo": {
     "elapsed": 421,
     "status": "ok",
     "timestamp": 1650347746956,
     "user": {
      "displayName": "Vadim Selin",
      "userId": "13742755250186020674"
     },
     "user_tz": -180
    },
    "id": "WCOJOjDrMm9-",
    "outputId": "332955d6-58a8-4c94-cf5b-e3b8f3b91707"
   },
   "outputs": [],
   "source": [
    "plt.figure(figsize=(5, 8)) \n",
    "event_per_usr.boxplot(column='event_cnt')\n",
    "plt.ylim(0,60)"
   ]
  },
  {
   "cell_type": "code",
   "execution_count": null,
   "id": "jvOdQsDgNe9l",
   "metadata": {
    "colab": {
     "base_uri": "https://localhost:8080/",
     "height": 300
    },
    "executionInfo": {
     "elapsed": 16,
     "status": "ok",
     "timestamp": 1650347746957,
     "user": {
      "displayName": "Vadim Selin",
      "userId": "13742755250186020674"
     },
     "user_tz": -180
    },
    "id": "jvOdQsDgNe9l",
    "outputId": "5fe9bdf0-5f9d-475b-f973-38c5d5d56c4a"
   },
   "outputs": [],
   "source": [
    "event_per_usr.describe()"
   ]
  },
  {
   "cell_type": "code",
   "execution_count": null,
   "id": "aa0043de",
   "metadata": {
    "colab": {
     "base_uri": "https://localhost:8080/"
    },
    "executionInfo": {
     "elapsed": 16,
     "status": "ok",
     "timestamp": 1650347746957,
     "user": {
      "displayName": "Vadim Selin",
      "userId": "13742755250186020674"
     },
     "user_tz": -180
    },
    "id": "aa0043de",
    "outputId": "c974f5c7-b0a0-4c76-ab0c-fe1291296289"
   },
   "outputs": [],
   "source": [
    "event_per_usr['event_cnt'].mode()"
   ]
  },
  {
   "cell_type": "markdown",
   "id": "74f26dc4",
   "metadata": {
    "id": "74f26dc4"
   },
   "source": [
    "- По версии \"ящика с усами\" пользователи, совершившие более 35 событий, относятся к выбросам\n",
    "- Мода составляет 5 событий на пользователя\n",
    "- А максимум равен 478 событиям\n",
    "\n",
    "Но если учесть, что в логе у нас события за 28 дней, то 478 событий - это не очень-то похоже на аномальное поведение. Это всего-лишь 17 событий в день в среднем, если вы являлилсь пользователем от начала до конца лога. В обычной жизни многие пользуются приложениями годами, а не один раз. И 17 тапов в приложении за день - это может быть весьма скромно.\n",
    "\n",
    "Посмотрю, какова доля пользователей, совершивших более 35 событий за исследуемый период"
   ]
  },
  {
   "cell_type": "code",
   "execution_count": null,
   "id": "6a1b7a25",
   "metadata": {
    "colab": {
     "base_uri": "https://localhost:8080/"
    },
    "executionInfo": {
     "elapsed": 10,
     "status": "ok",
     "timestamp": 1650347746957,
     "user": {
      "displayName": "Vadim Selin",
      "userId": "13742755250186020674"
     },
     "user_tz": -180
    },
    "id": "6a1b7a25",
    "outputId": "fa985d84-0168-4ba2-8b8c-b455163cd357"
   },
   "outputs": [],
   "source": [
    "len(event_per_usr.query('event_cnt <= 35')) / len(event_per_usr)"
   ]
  },
  {
   "cell_type": "markdown",
   "id": "d38d538c",
   "metadata": {
    "id": "d38d538c"
   },
   "source": [
    "- Более 10% пользователей совершили более 35 событий за вермя исследования\n",
    "- А может, это наши лучшие клиенты\n",
    "- Проверю, когда они совершили свои первые действия "
   ]
  },
  {
   "cell_type": "code",
   "execution_count": null,
   "id": "72c9030a",
   "metadata": {
    "executionInfo": {
     "elapsed": 8,
     "status": "ok",
     "timestamp": 1650347746957,
     "user": {
      "displayName": "Vadim Selin",
      "userId": "13742755250186020674"
     },
     "user_tz": -180
    },
    "id": "72c9030a"
   },
   "outputs": [],
   "source": [
    "event_per_usr_f = event_per_usr[event_per_usr['event_cnt'] <= 35]"
   ]
  },
  {
   "cell_type": "code",
   "execution_count": null,
   "id": "a4382ac1",
   "metadata": {
    "executionInfo": {
     "elapsed": 8,
     "status": "ok",
     "timestamp": 1650347746958,
     "user": {
      "displayName": "Vadim Selin",
      "userId": "13742755250186020674"
     },
     "user_tz": -180
    },
    "id": "a4382ac1"
   },
   "outputs": [],
   "source": [
    "# создам временный сводник по самым активным пользователям\n",
    "t = (\n",
    "    df[~df['user_id'].isin(event_per_usr_f.index)]\n",
    "    .groupby('user_id').agg({'event_date': ['min', 'count']})\n",
    "\n",
    ")"
   ]
  },
  {
   "cell_type": "code",
   "execution_count": null,
   "id": "a38b85b7",
   "metadata": {
    "colab": {
     "base_uri": "https://localhost:8080/",
     "height": 486
    },
    "executionInfo": {
     "elapsed": 8,
     "status": "ok",
     "timestamp": 1650347746958,
     "user": {
      "displayName": "Vadim Selin",
      "userId": "13742755250186020674"
     },
     "user_tz": -180
    },
    "id": "a38b85b7",
    "outputId": "5737addc-9127-46b6-e60c-faaacb0a20eb"
   },
   "outputs": [],
   "source": [
    "t"
   ]
  },
  {
   "cell_type": "code",
   "execution_count": null,
   "id": "655fbecb",
   "metadata": {
    "executionInfo": {
     "elapsed": 8,
     "status": "ok",
     "timestamp": 1650347746958,
     "user": {
      "displayName": "Vadim Selin",
      "userId": "13742755250186020674"
     },
     "user_tz": -180
    },
    "id": "655fbecb"
   },
   "outputs": [],
   "source": [
    "# сделаю индексы одноуровненвыми\n",
    "t.columns = ['_'.join(col).strip() for col in t.columns.values]"
   ]
  },
  {
   "cell_type": "code",
   "execution_count": null,
   "id": "4950223b",
   "metadata": {
    "colab": {
     "base_uri": "https://localhost:8080/",
     "height": 454
    },
    "executionInfo": {
     "elapsed": 388,
     "status": "ok",
     "timestamp": 1650347747339,
     "user": {
      "displayName": "Vadim Selin",
      "userId": "13742755250186020674"
     },
     "user_tz": -180
    },
    "id": "4950223b",
    "outputId": "21d15c9c-c11c-4472-aae0-3d6fa5f61c4a"
   },
   "outputs": [],
   "source": [
    "t.sort_values(by='event_date_count', ascending=False)"
   ]
  },
  {
   "cell_type": "markdown",
   "id": "1e4b342c",
   "metadata": {
    "id": "1e4b342c"
   },
   "source": [
    "- Самый активный пользователь впервые начал соввершать действия с первого дня записи лога. Поэтому не удивительно, что он за месяц смог совершить 478 событий. \n",
    "- Посмотрю на диаграмме рассеяния, как на временной оси лога расположены первые визиты пользователей с самым большим числом событий."
   ]
  },
  {
   "cell_type": "code",
   "execution_count": null,
   "id": "8df482bc",
   "metadata": {
    "colab": {
     "base_uri": "https://localhost:8080/",
     "height": 404
    },
    "executionInfo": {
     "elapsed": 466,
     "status": "ok",
     "timestamp": 1650347747801,
     "user": {
      "displayName": "Vadim Selin",
      "userId": "13742755250186020674"
     },
     "user_tz": -180
    },
    "id": "8df482bc",
    "outputId": "c190f4f4-c871-4efe-e64b-1a88c8de473d"
   },
   "outputs": [],
   "source": [
    "t.plot(\n",
    "    x='event_date_min', \n",
    "    y='event_date_count', \n",
    "    kind='scatter', \n",
    "    alpha=0.3,\n",
    "    figsize=(10, 6)\n",
    ")\n",
    "plt.title('Сумма событий и дата первого визита самых активных пользователей')\n",
    "plt.ylabel('Сумма событий за весь период лога')\n",
    "plt.xlabel('Дата первого события в логе')\n",
    "plt.show()"
   ]
  },
  {
   "cell_type": "markdown",
   "id": "32bb81f1",
   "metadata": {
    "id": "32bb81f1"
   },
   "source": [
    "Даже для отдельных, наиболее щедрых на события пользователей, актуально утверждение:\n",
    "- кто раньше начал пользоваться приложеним, тот успел больше совершить событий\n",
    "- поэтому считать таковых пользователей аномальными и исключать из кластеризации я не буду"
   ]
  },
  {
   "cell_type": "markdown",
   "id": "1e84ebe8",
   "metadata": {
    "id": "1e84ebe8"
   },
   "source": [
    "# Кластеризация, изучение продуктовых метрик по кластерам."
   ]
  },
  {
   "cell_type": "markdown",
   "id": "f2642196",
   "metadata": {
    "id": "f2642196"
   },
   "source": [
    "## Создам по каждому виду события дополнительный столбец с флагами\n",
    "\n",
    "- для каждого пользователя (1,0 - совершил,не совершил)"
   ]
  },
  {
   "cell_type": "code",
   "execution_count": null,
   "id": "SRWc39RE85Qk",
   "metadata": {
    "executionInfo": {
     "elapsed": 10,
     "status": "ok",
     "timestamp": 1650347747801,
     "user": {
      "displayName": "Vadim Selin",
      "userId": "13742755250186020674"
     },
     "user_tz": -180
    },
    "id": "SRWc39RE85Qk"
   },
   "outputs": [],
   "source": [
    "flag_t = pd.get_dummies(df['event_name'])"
   ]
  },
  {
   "cell_type": "code",
   "execution_count": null,
   "id": "C0Iq1NA-9A8D",
   "metadata": {
    "colab": {
     "base_uri": "https://localhost:8080/",
     "height": 423
    },
    "executionInfo": {
     "elapsed": 11,
     "status": "ok",
     "timestamp": 1650347747802,
     "user": {
      "displayName": "Vadim Selin",
      "userId": "13742755250186020674"
     },
     "user_tz": -180
    },
    "id": "C0Iq1NA-9A8D",
    "outputId": "fd41fa59-33b8-40d9-f2cb-d918ca19c1d0"
   },
   "outputs": [],
   "source": [
    "flag_t"
   ]
  },
  {
   "cell_type": "markdown",
   "id": "9Hc1UYWS9Mkl",
   "metadata": {
    "id": "9Hc1UYWS9Mkl"
   },
   "source": [
    "- Получил датафрейм такой же длинны как исходный `df`и с тем же набором индексов\n",
    "- Проверю, что все события остались на месте"
   ]
  },
  {
   "cell_type": "code",
   "execution_count": null,
   "id": "8a4JhGuu8VcM",
   "metadata": {
    "colab": {
     "base_uri": "https://localhost:8080/"
    },
    "executionInfo": {
     "elapsed": 10,
     "status": "ok",
     "timestamp": 1650347747802,
     "user": {
      "displayName": "Vadim Selin",
      "userId": "13742755250186020674"
     },
     "user_tz": -180
    },
    "id": "8a4JhGuu8VcM",
    "outputId": "4454f219-0736-4851-957b-98c4a4db8bba"
   },
   "outputs": [],
   "source": [
    "flag_t.sum().sort_values(ascending=False)"
   ]
  },
  {
   "cell_type": "code",
   "execution_count": null,
   "id": "phOfkRJ68rEM",
   "metadata": {
    "colab": {
     "base_uri": "https://localhost:8080/"
    },
    "executionInfo": {
     "elapsed": 281,
     "status": "ok",
     "timestamp": 1650347748079,
     "user": {
      "displayName": "Vadim Selin",
      "userId": "13742755250186020674"
     },
     "user_tz": -180
    },
    "id": "phOfkRJ68rEM",
    "outputId": "c9853790-e4d4-4e9f-ff5f-43560990b9fe"
   },
   "outputs": [],
   "source": [
    "df['event_name'].value_counts()"
   ]
  },
  {
   "cell_type": "markdown",
   "id": "QfsOnpYD-Ca0",
   "metadata": {
    "id": "QfsOnpYD-Ca0"
   },
   "source": [
    "- Чтобы информация о событии в таблице `flag_t` соответствовала своему пользователю и времени объеденю `df` и `flag_t`\n",
    "- Это же позволит проверить правильность сопоставления конкретного события флагу."
   ]
  },
  {
   "cell_type": "code",
   "execution_count": null,
   "id": "J-m8SXWw-tYE",
   "metadata": {
    "executionInfo": {
     "elapsed": 13,
     "status": "ok",
     "timestamp": 1650347748080,
     "user": {
      "displayName": "Vadim Selin",
      "userId": "13742755250186020674"
     },
     "user_tz": -180
    },
    "id": "J-m8SXWw-tYE"
   },
   "outputs": [],
   "source": [
    "df = df.merge(flag_t, how='left', left_index=True, right_index=True)"
   ]
  },
  {
   "cell_type": "markdown",
   "id": "b-jXh0J0_a4c",
   "metadata": {
    "id": "b-jXh0J0_a4c"
   },
   "source": [
    "- Проверю случайной выборкой, что флаги соответствуют событиям"
   ]
  },
  {
   "cell_type": "code",
   "execution_count": null,
   "id": "mTXlcXiG_pCD",
   "metadata": {
    "colab": {
     "base_uri": "https://localhost:8080/",
     "height": 580
    },
    "executionInfo": {
     "elapsed": 13,
     "status": "ok",
     "timestamp": 1650347748080,
     "user": {
      "displayName": "Vadim Selin",
      "userId": "13742755250186020674"
     },
     "user_tz": -180
    },
    "id": "mTXlcXiG_pCD",
    "outputId": "6aca9693-3f2c-4152-b41a-fee1aaea6f98"
   },
   "outputs": [],
   "source": [
    "df.sample(10, random_state=5)"
   ]
  },
  {
   "cell_type": "code",
   "execution_count": null,
   "id": "pXPYLDn6ASmc",
   "metadata": {
    "colab": {
     "base_uri": "https://localhost:8080/"
    },
    "executionInfo": {
     "elapsed": 12,
     "status": "ok",
     "timestamp": 1650347748080,
     "user": {
      "displayName": "Vadim Selin",
      "userId": "13742755250186020674"
     },
     "user_tz": -180
    },
    "id": "pXPYLDn6ASmc",
    "outputId": "c9676d95-7af4-4d3a-fd4a-b403142309a3"
   },
   "outputs": [],
   "source": [
    "df.isna().mean()"
   ]
  },
  {
   "cell_type": "markdown",
   "id": "siXr894vCta9",
   "metadata": {
    "id": "siXr894vCta9"
   },
   "source": [
    "- События соответствуют, пропусков не получил после объединения\n",
    "- Можно проводить кластеризацию"
   ]
  },
  {
   "cell_type": "markdown",
   "id": "0f44a4cb",
   "metadata": {
    "id": "0f44a4cb"
   },
   "source": [
    "## Провести кластеризацию пользователей по матрице основных параметров"
   ]
  },
  {
   "cell_type": "markdown",
   "id": "a2579cf3",
   "metadata": {
    "id": "a2579cf3"
   },
   "source": [
    "- Создам матрицу признаков для кластеризации:\n",
    "    - оставлю от исходного датафрейма только столбцы с `user_id` и полями с флагами событий по каждому событию и пользователю\n",
    "    - сгруппирую данные по `user_id` и вычислю среднее. В случае с флагами получу по каждому признаку для каждого пользователя долю всех совершённых им событий. То есть если пользователь всего совершил 100 событий в целом, 80 из них `tips_show`, то значения поля `tips_show` будет `0.8`\n",
    "    - выбрано именно среднее а не сумма, потому что масштаб числовых значений будет меньше, что положительно скажется на стандартизации датасета"
   ]
  },
  {
   "cell_type": "code",
   "execution_count": null,
   "id": "I3PedbkMBP52",
   "metadata": {
    "executionInfo": {
     "elapsed": 9,
     "status": "ok",
     "timestamp": 1650347748081,
     "user": {
      "displayName": "Vadim Selin",
      "userId": "13742755250186020674"
     },
     "user_tz": -180
    },
    "id": "I3PedbkMBP52"
   },
   "outputs": [],
   "source": [
    "t = df[['user_id', 'advert_open', 'contacts_call', 'contacts_show',\n",
    "       'favorites_add', 'map', 'photos_show', 'search_action', 'tips_click',\n",
    "       'tips_show']].groupby('user_id').mean()"
   ]
  },
  {
   "cell_type": "code",
   "execution_count": null,
   "id": "kjGxQBOIB6ne",
   "metadata": {
    "colab": {
     "base_uri": "https://localhost:8080/",
     "height": 454
    },
    "executionInfo": {
     "elapsed": 9,
     "status": "ok",
     "timestamp": 1650347748081,
     "user": {
      "displayName": "Vadim Selin",
      "userId": "13742755250186020674"
     },
     "user_tz": -180
    },
    "id": "kjGxQBOIB6ne",
    "outputId": "6380be70-8fdb-4083-d2e8-4f48035624e4"
   },
   "outputs": [],
   "source": [
    "t"
   ]
  },
  {
   "cell_type": "markdown",
   "id": "e7a1bf0e",
   "metadata": {
    "executionInfo": {
     "elapsed": 269,
     "status": "ok",
     "timestamp": 1649422371124,
     "user": {
      "displayName": "Vadim Selin",
      "userId": "13742755250186020674"
     },
     "user_tz": -180
    },
    "id": "e7a1bf0e"
   },
   "source": [
    "- Проведу обязательную для используемых алгоритмов стандартизацию данных"
   ]
  },
  {
   "cell_type": "code",
   "execution_count": null,
   "id": "-XMANzvMbDV-",
   "metadata": {
    "executionInfo": {
     "elapsed": 8,
     "status": "ok",
     "timestamp": 1650347748081,
     "user": {
      "displayName": "Vadim Selin",
      "userId": "13742755250186020674"
     },
     "user_tz": -180
    },
    "id": "-XMANzvMbDV-"
   },
   "outputs": [],
   "source": [
    "sc = StandardScaler()"
   ]
  },
  {
   "cell_type": "code",
   "execution_count": null,
   "id": "iqZKxxOFbDV-",
   "metadata": {
    "executionInfo": {
     "elapsed": 277,
     "status": "ok",
     "timestamp": 1650347748350,
     "user": {
      "displayName": "Vadim Selin",
      "userId": "13742755250186020674"
     },
     "user_tz": -180
    },
    "id": "iqZKxxOFbDV-"
   },
   "outputs": [],
   "source": [
    "t_sc = sc.fit_transform(t)"
   ]
  },
  {
   "cell_type": "markdown",
   "id": "4MlVmQ7fbDV-",
   "metadata": {
    "id": "4MlVmQ7fbDV-"
   },
   "source": [
    "- Построю матрицу расстояний перед построением дендрограммы"
   ]
  },
  {
   "cell_type": "code",
   "execution_count": null,
   "id": "-UbStOSSbDV-",
   "metadata": {
    "executionInfo": {
     "elapsed": 1959,
     "status": "ok",
     "timestamp": 1650347750307,
     "user": {
      "displayName": "Vadim Selin",
      "userId": "13742755250186020674"
     },
     "user_tz": -180
    },
    "id": "-UbStOSSbDV-"
   },
   "outputs": [],
   "source": [
    "linked = linkage(t_sc, method = 'ward')"
   ]
  },
  {
   "cell_type": "markdown",
   "id": "O6f4My4RbDV-",
   "metadata": {
    "id": "O6f4My4RbDV-"
   },
   "source": [
    "- Строим дендрограмму "
   ]
  },
  {
   "cell_type": "markdown",
   "id": "7a0cd717",
   "metadata": {},
   "source": [
    "<div class=\"alert alert-block alert-info\">\n",
    "<b>Комментарий от студента</b> <a class=\"tocSkip\"></a>\n",
    "\n",
    "Дендрограмма строится около 2х минут. С её помощью получаю число рекомендуемых кластеров. То, что будет здесь отрисовано также есть в презентации.\n",
    "</div>"
   ]
  },
  {
   "cell_type": "code",
   "execution_count": null,
   "id": "hdzhCsGobDV-",
   "metadata": {
    "colab": {
     "base_uri": "https://localhost:8080/",
     "height": 594
    },
    "executionInfo": {
     "elapsed": 126487,
     "status": "ok",
     "timestamp": 1650353122216,
     "user": {
      "displayName": "Vadim Selin",
      "userId": "13742755250186020674"
     },
     "user_tz": -180
    },
    "id": "hdzhCsGobDV-",
    "outputId": "dac8ae6f-577a-4156-f8b2-2a014170c22c"
   },
   "outputs": [],
   "source": [
    "#plt.figure(figsize=(15, 10))  \n",
    "#dendrogram(linked, orientation='top')\n",
    "#plt.show()"
   ]
  },
  {
   "cell_type": "markdown",
   "id": "f4fac2ba",
   "metadata": {
    "id": "f4fac2ba"
   },
   "source": [
    "- Результатом агломеративной иерархической кластеризации стали 5 сегментов пользователей\n",
    "- Применю алгоритм k-means с числом кластеров 5, чтобы получить вектор кластеров"
   ]
  },
  {
   "cell_type": "code",
   "execution_count": null,
   "id": "L69q41pCbDV-",
   "metadata": {
    "executionInfo": {
     "elapsed": 4,
     "status": "ok",
     "timestamp": 1650347750308,
     "user": {
      "displayName": "Vadim Selin",
      "userId": "13742755250186020674"
     },
     "user_tz": -180
    },
    "id": "L69q41pCbDV-"
   },
   "outputs": [],
   "source": [
    "km = KMeans(n_clusters = 5, random_state=0)"
   ]
  },
  {
   "cell_type": "code",
   "execution_count": null,
   "id": "IieZvDFRbDV-",
   "metadata": {
    "executionInfo": {
     "elapsed": 1153,
     "status": "ok",
     "timestamp": 1650347751457,
     "user": {
      "displayName": "Vadim Selin",
      "userId": "13742755250186020674"
     },
     "user_tz": -180
    },
    "id": "IieZvDFRbDV-"
   },
   "outputs": [],
   "source": [
    "labels = km.fit_predict(t_sc)"
   ]
  },
  {
   "cell_type": "code",
   "execution_count": null,
   "id": "mYlLRhRWbDV_",
   "metadata": {
    "executionInfo": {
     "elapsed": 5,
     "status": "ok",
     "timestamp": 1650347751458,
     "user": {
      "displayName": "Vadim Selin",
      "userId": "13742755250186020674"
     },
     "user_tz": -180
    },
    "id": "mYlLRhRWbDV_"
   },
   "outputs": [],
   "source": [
    "t['cluster_km'] = labels"
   ]
  },
  {
   "cell_type": "code",
   "execution_count": null,
   "id": "qrbyI7NbJkwu",
   "metadata": {
    "executionInfo": {
     "elapsed": 4,
     "status": "ok",
     "timestamp": 1650347751458,
     "user": {
      "displayName": "Vadim Selin",
      "userId": "13742755250186020674"
     },
     "user_tz": -180
    },
    "id": "qrbyI7NbJkwu"
   },
   "outputs": [],
   "source": [
    "t = t.reset_index()"
   ]
  },
  {
   "cell_type": "code",
   "execution_count": null,
   "id": "cTClfnvGO2M3",
   "metadata": {
    "colab": {
     "base_uri": "https://localhost:8080/"
    },
    "executionInfo": {
     "elapsed": 4,
     "status": "ok",
     "timestamp": 1650347751458,
     "user": {
      "displayName": "Vadim Selin",
      "userId": "13742755250186020674"
     },
     "user_tz": -180
    },
    "id": "cTClfnvGO2M3",
    "outputId": "abc355f6-e42e-4ff1-aa84-032b598390da"
   },
   "outputs": [],
   "source": [
    "t['cluster_km'].value_counts()"
   ]
  },
  {
   "cell_type": "markdown",
   "id": "b5e056e0",
   "metadata": {
    "id": "b5e056e0"
   },
   "source": [
    "- Сегменты пользователей получились неодинаковыми по размеру, но этого никто и не обещал\n",
    "- Более того, в реальной жизни чаще всё неоднородно\n",
    "- В ходе сравнения метрик выясню, есть-ли различия именно между 5 сегментами или их может быть меньше\n",
    "\n",
    "---\n",
    "\n",
    "Оставлю от таблицы `t` только поля `user_id` и `cluster_km`, чтобы присоединить их к исходному датафрейму `df`"
   ]
  },
  {
   "cell_type": "code",
   "execution_count": null,
   "id": "EE9Y6G2-PbPn",
   "metadata": {
    "executionInfo": {
     "elapsed": 3,
     "status": "ok",
     "timestamp": 1650347751458,
     "user": {
      "displayName": "Vadim Selin",
      "userId": "13742755250186020674"
     },
     "user_tz": -180
    },
    "id": "EE9Y6G2-PbPn"
   },
   "outputs": [],
   "source": [
    "t = t[['user_id', 'cluster_km']]"
   ]
  },
  {
   "cell_type": "code",
   "execution_count": null,
   "id": "ZwCJL7g7P7OP",
   "metadata": {
    "executionInfo": {
     "elapsed": 4,
     "status": "ok",
     "timestamp": 1650347751459,
     "user": {
      "displayName": "Vadim Selin",
      "userId": "13742755250186020674"
     },
     "user_tz": -180
    },
    "id": "ZwCJL7g7P7OP"
   },
   "outputs": [],
   "source": [
    "# отброшу бинарные столбцы признаков за ненадобностью\n",
    "df = df[['event_time', 'event_name', 'user_id', 'source', 'event_date',\n",
    "       'event_week']]"
   ]
  },
  {
   "cell_type": "code",
   "execution_count": null,
   "id": "WOG96YFnP7d-",
   "metadata": {
    "executionInfo": {
     "elapsed": 410,
     "status": "ok",
     "timestamp": 1650347751865,
     "user": {
      "displayName": "Vadim Selin",
      "userId": "13742755250186020674"
     },
     "user_tz": -180
    },
    "id": "WOG96YFnP7d-"
   },
   "outputs": [],
   "source": [
    "df = df.merge(t, how='left', on='user_id')"
   ]
  },
  {
   "cell_type": "code",
   "execution_count": null,
   "id": "c647a8ec",
   "metadata": {
    "colab": {
     "base_uri": "https://localhost:8080/"
    },
    "executionInfo": {
     "elapsed": 4,
     "status": "ok",
     "timestamp": 1650347751866,
     "user": {
      "displayName": "Vadim Selin",
      "userId": "13742755250186020674"
     },
     "user_tz": -180
    },
    "id": "c647a8ec",
    "outputId": "6a13a4fe-13e1-449d-9a2b-f4d66006d532"
   },
   "outputs": [],
   "source": [
    "# проверка после merge\n",
    "df.isna().mean()"
   ]
  },
  {
   "cell_type": "markdown",
   "id": "097fb0f7",
   "metadata": {
    "id": "097fb0f7"
   },
   "source": [
    "- Посмотрю распределение событий по новым категориям пользователей"
   ]
  },
  {
   "cell_type": "code",
   "execution_count": null,
   "id": "J65LyGqUQjAu",
   "metadata": {
    "colab": {
     "base_uri": "https://localhost:8080/",
     "height": 292
    },
    "executionInfo": {
     "elapsed": 708,
     "status": "ok",
     "timestamp": 1650347752570,
     "user": {
      "displayName": "Vadim Selin",
      "userId": "13742755250186020674"
     },
     "user_tz": -180
    },
    "id": "J65LyGqUQjAu",
    "outputId": "5498acc8-cc96-408f-a9ab-2f4ba28991cc"
   },
   "outputs": [],
   "source": [
    "df['cluster_km'].value_counts().plot(kind='bar', grid=True)\n",
    "plt.title('Распределение числа событий по сегментам пользователей')\n",
    "plt.xlabel('Сегмент пользоватлей')\n",
    "plt.ylabel('Число событий в логе')\n",
    "plt.show()"
   ]
  },
  {
   "cell_type": "markdown",
   "id": "bbef521b",
   "metadata": {
    "id": "bbef521b"
   },
   "source": [
    "- Распределение числа событий по сегментам весьма неоднородно, поэтому узнаю как оно соотносится с числом пользователей в сегменте\n",
    "- Создам временную переменную `t` с таблицей, содержащей число пользователей сегментов и количество совершённых ими событий"
   ]
  },
  {
   "cell_type": "code",
   "execution_count": null,
   "id": "daa8f2b7",
   "metadata": {
    "executionInfo": {
     "elapsed": 8,
     "status": "ok",
     "timestamp": 1650347752570,
     "user": {
      "displayName": "Vadim Selin",
      "userId": "13742755250186020674"
     },
     "user_tz": -180
    },
    "id": "daa8f2b7"
   },
   "outputs": [],
   "source": [
    "t = (\n",
    "    pd.DataFrame(df['cluster_km'].value_counts().sort_index()) # число событий по сегментам\n",
    "    .merge(\n",
    "        df.groupby('cluster_km').agg({'user_id': 'nunique'}),  # число уникальных пользователей в сегментах\n",
    "        how='left', left_index=True, right_index=True)\n",
    ")"
   ]
  },
  {
   "cell_type": "code",
   "execution_count": null,
   "id": "cf6528ec",
   "metadata": {
    "executionInfo": {
     "elapsed": 8,
     "status": "ok",
     "timestamp": 1650347752570,
     "user": {
      "displayName": "Vadim Selin",
      "userId": "13742755250186020674"
     },
     "user_tz": -180
    },
    "id": "cf6528ec"
   },
   "outputs": [],
   "source": [
    "t = t.rename(columns={'cluster_km': 'events_cnt', 'user_id': 'user_cnt'})"
   ]
  },
  {
   "cell_type": "code",
   "execution_count": null,
   "id": "ff0ec36a",
   "metadata": {
    "executionInfo": {
     "elapsed": 8,
     "status": "ok",
     "timestamp": 1650347752571,
     "user": {
      "displayName": "Vadim Selin",
      "userId": "13742755250186020674"
     },
     "user_tz": -180
    },
    "id": "ff0ec36a"
   },
   "outputs": [],
   "source": [
    "t = t.sort_index()"
   ]
  },
  {
   "cell_type": "code",
   "execution_count": null,
   "id": "b9cbf161",
   "metadata": {
    "colab": {
     "base_uri": "https://localhost:8080/",
     "height": 206
    },
    "executionInfo": {
     "elapsed": 8,
     "status": "ok",
     "timestamp": 1650347752571,
     "user": {
      "displayName": "Vadim Selin",
      "userId": "13742755250186020674"
     },
     "user_tz": -180
    },
    "id": "b9cbf161",
    "outputId": "9319df40-bc84-475d-b550-0642e0b3702f"
   },
   "outputs": [],
   "source": [
    "t"
   ]
  },
  {
   "cell_type": "markdown",
   "id": "c40a0dd7",
   "metadata": {
    "id": "c40a0dd7"
   },
   "source": [
    "- Зависимость между столбцами есть, но от близкой к линейной её отделяет 2-й сегмент:\n",
    "    - пользователей меньше, чем в 0-м, но они активней\n",
    "    - выведу простой график для наглядности"
   ]
  },
  {
   "cell_type": "code",
   "execution_count": null,
   "id": "9e7397b8",
   "metadata": {
    "colab": {
     "base_uri": "https://localhost:8080/",
     "height": 294
    },
    "executionInfo": {
     "elapsed": 827,
     "status": "ok",
     "timestamp": 1650347753391,
     "user": {
      "displayName": "Vadim Selin",
      "userId": "13742755250186020674"
     },
     "user_tz": -180
    },
    "id": "9e7397b8",
    "outputId": "772fd6f8-a6fa-48ee-c07a-7c2d3acdcf4c"
   },
   "outputs": [],
   "source": [
    "y = t['events_cnt']\n",
    "x = t['user_cnt']\n",
    "n = t.index\n",
    "\n",
    "fig, ax = plt.subplots()\n",
    "ax.scatter(x, y, marker='.')\n",
    "\n",
    "for i, txt in enumerate(n):\n",
    "    ax.annotate(txt, (x[i], y[i]))\n",
    "plt.title('Соотношение числа пользователей в сегментах и числа их событий')\n",
    "plt.grid(True)\n",
    "plt.xlabel('Количество пользоватлей')\n",
    "plt.ylabel('Число событий в логе')\n",
    "plt.show()"
   ]
  },
  {
   "cell_type": "markdown",
   "id": "ade2f976",
   "metadata": {
    "id": "ade2f976"
   },
   "source": [
    "- На графике видно, что чем больше пользоватлей сегмента, тем больше событий они совершают\n",
    "- Но данное утверждение не однозначно\n",
    "    - Например пользователи `0`-сегмента при меньшем своём количестве успели совершить больше событий, нежели пользователи `4`-сегмента\n",
    "    - Есть две догадки на эту тему:\n",
    "        1. Пользователи `0`-сегмента появились в логе раньше, поэтому успели больше\n",
    "        2. Они более активны\n",
    "- **На данный момент зафиксирую информацию о том, что независимо от времени в любом периоде исследования есть более активные сегменты, есть менее активные**\n",
    "    - *Это похоже на записки капитана очевидность, но в данном случае мне об этом говорят не домыслы и опыт, а цифры сегментов, полученных алгоритмом кластеризации.*\n",
    "    - Теперь проверю различие сегментов по их метрикам."
   ]
  },
  {
   "cell_type": "markdown",
   "id": "8aa30731",
   "metadata": {
    "id": "8aa30731"
   },
   "source": [
    "## Рассчитать `Retention rate` (с визуализацией) для полученных кластеров и сравнить между собой"
   ]
  },
  {
   "cell_type": "markdown",
   "id": "1773676b",
   "metadata": {
    "id": "1773676b"
   },
   "source": [
    "- Получу дату первого визита для каждого пользователя и добавлю её к датафрейму"
   ]
  },
  {
   "cell_type": "code",
   "execution_count": null,
   "id": "088699c3",
   "metadata": {
    "executionInfo": {
     "elapsed": 9,
     "status": "ok",
     "timestamp": 1650347753392,
     "user": {
      "displayName": "Vadim Selin",
      "userId": "13742755250186020674"
     },
     "user_tz": -180
    },
    "id": "088699c3"
   },
   "outputs": [],
   "source": [
    "t_start = df.groupby('user_id')['event_date'].min()"
   ]
  },
  {
   "cell_type": "code",
   "execution_count": null,
   "id": "963bcda3",
   "metadata": {
    "executionInfo": {
     "elapsed": 8,
     "status": "ok",
     "timestamp": 1650347753392,
     "user": {
      "displayName": "Vadim Selin",
      "userId": "13742755250186020674"
     },
     "user_tz": -180
    },
    "id": "963bcda3"
   },
   "outputs": [],
   "source": [
    "t_start.name = 'first_start_date'"
   ]
  },
  {
   "cell_type": "code",
   "execution_count": null,
   "id": "a6fcbd4e",
   "metadata": {
    "colab": {
     "base_uri": "https://localhost:8080/"
    },
    "executionInfo": {
     "elapsed": 9,
     "status": "ok",
     "timestamp": 1650347753393,
     "user": {
      "displayName": "Vadim Selin",
      "userId": "13742755250186020674"
     },
     "user_tz": -180
    },
    "id": "a6fcbd4e",
    "outputId": "3159bb56-cf1f-4c5a-cd84-5c5c201f037a"
   },
   "outputs": [],
   "source": [
    "t_start"
   ]
  },
  {
   "cell_type": "code",
   "execution_count": null,
   "id": "ab8086f3",
   "metadata": {
    "executionInfo": {
     "elapsed": 5,
     "status": "ok",
     "timestamp": 1650347753393,
     "user": {
      "displayName": "Vadim Selin",
      "userId": "13742755250186020674"
     },
     "user_tz": -180
    },
    "id": "ab8086f3"
   },
   "outputs": [],
   "source": [
    "df = df.join(t_start, on='user_id')"
   ]
  },
  {
   "cell_type": "markdown",
   "id": "af7ac6dd",
   "metadata": {
    "id": "af7ac6dd"
   },
   "source": [
    "- Получу неделю первого визита\n",
    "    - брать меньший период считаю нецелесообразным, потому что считать ежедневный отток в нашем приложении беcсмысленно\n",
    "    - большинство пользователей не покупают и не продают \"ненужные вещи\" каждый день"
   ]
  },
  {
   "cell_type": "code",
   "execution_count": null,
   "id": "10053770",
   "metadata": {
    "executionInfo": {
     "elapsed": 522,
     "status": "ok",
     "timestamp": 1650347753911,
     "user": {
      "displayName": "Vadim Selin",
      "userId": "13742755250186020674"
     },
     "user_tz": -180
    },
    "id": "10053770"
   },
   "outputs": [],
   "source": [
    "df['start_event_week'] = df['first_start_date'].dt.isocalendar().week"
   ]
  },
  {
   "cell_type": "markdown",
   "id": "14e8f6b7",
   "metadata": {
    "id": "14e8f6b7"
   },
   "source": [
    "- Получу lifetime недельных когорт "
   ]
  },
  {
   "cell_type": "code",
   "execution_count": null,
   "id": "9d07f566",
   "metadata": {
    "executionInfo": {
     "elapsed": 15,
     "status": "ok",
     "timestamp": 1650347753912,
     "user": {
      "displayName": "Vadim Selin",
      "userId": "13742755250186020674"
     },
     "user_tz": -180
    },
    "id": "9d07f566"
   },
   "outputs": [],
   "source": [
    "df['cohort_lifetime'] = df['event_week'] - df['start_event_week']"
   ]
  },
  {
   "cell_type": "markdown",
   "id": "99acbfe7",
   "metadata": {
    "id": "99acbfe7"
   },
   "source": [
    "- Сгруппирую данные по сегменту и  `cohort_lifetime`, чтобы получить число пользоватлей каждого сегмента в первую и последующие недели"
   ]
  },
  {
   "cell_type": "code",
   "execution_count": null,
   "id": "73a52bd4",
   "metadata": {
    "executionInfo": {
     "elapsed": 14,
     "status": "ok",
     "timestamp": 1650347753912,
     "user": {
      "displayName": "Vadim Selin",
      "userId": "13742755250186020674"
     },
     "user_tz": -180
    },
    "id": "73a52bd4"
   },
   "outputs": [],
   "source": [
    "cohorts = df.groupby(['cluster_km', 'cohort_lifetime'], as_index=False).agg({'user_id': 'nunique'})"
   ]
  },
  {
   "cell_type": "code",
   "execution_count": null,
   "id": "bfb11173",
   "metadata": {
    "executionInfo": {
     "elapsed": 15,
     "status": "ok",
     "timestamp": 1650347753913,
     "user": {
      "displayName": "Vadim Selin",
      "userId": "13742755250186020674"
     },
     "user_tz": -180
    },
    "id": "bfb11173"
   },
   "outputs": [],
   "source": [
    "cohorts = cohorts.rename(columns={'user_id': 'user_cnt'})"
   ]
  },
  {
   "cell_type": "code",
   "execution_count": null,
   "id": "0d7ed287",
   "metadata": {
    "colab": {
     "base_uri": "https://localhost:8080/",
     "height": 206
    },
    "executionInfo": {
     "elapsed": 15,
     "status": "ok",
     "timestamp": 1650347753913,
     "user": {
      "displayName": "Vadim Selin",
      "userId": "13742755250186020674"
     },
     "user_tz": -180
    },
    "id": "0d7ed287",
    "outputId": "1d316c96-d51d-4804-cc50-dedd52c891fa"
   },
   "outputs": [],
   "source": [
    "cohorts.head()"
   ]
  },
  {
   "cell_type": "markdown",
   "id": "2ed1b117",
   "metadata": {
    "id": "2ed1b117"
   },
   "source": [
    "- Получу число уникальных пользователей когорты на момент её формирования и добавлю к датафрейму `cohorts`"
   ]
  },
  {
   "cell_type": "code",
   "execution_count": null,
   "id": "8d1ff3ba",
   "metadata": {
    "executionInfo": {
     "elapsed": 14,
     "status": "ok",
     "timestamp": 1650347753913,
     "user": {
      "displayName": "Vadim Selin",
      "userId": "13742755250186020674"
     },
     "user_tz": -180
    },
    "id": "8d1ff3ba"
   },
   "outputs": [],
   "source": [
    "t = cohorts[cohorts['cohort_lifetime']==0][['cluster_km', 'user_cnt']]"
   ]
  },
  {
   "cell_type": "code",
   "execution_count": null,
   "id": "f7aadc82",
   "metadata": {
    "colab": {
     "base_uri": "https://localhost:8080/",
     "height": 206
    },
    "executionInfo": {
     "elapsed": 15,
     "status": "ok",
     "timestamp": 1650347753914,
     "user": {
      "displayName": "Vadim Selin",
      "userId": "13742755250186020674"
     },
     "user_tz": -180
    },
    "id": "f7aadc82",
    "outputId": "397d05c9-5255-4884-9bee-758841e47a7c"
   },
   "outputs": [],
   "source": [
    "t"
   ]
  },
  {
   "cell_type": "code",
   "execution_count": null,
   "id": "903a1cc7",
   "metadata": {
    "executionInfo": {
     "elapsed": 14,
     "status": "ok",
     "timestamp": 1650347753914,
     "user": {
      "displayName": "Vadim Selin",
      "userId": "13742755250186020674"
     },
     "user_tz": -180
    },
    "id": "903a1cc7"
   },
   "outputs": [],
   "source": [
    "cohorts = cohorts.merge(t, how='left', on='cluster_km', suffixes=('','_start'))"
   ]
  },
  {
   "cell_type": "markdown",
   "id": "5078c152",
   "metadata": {
    "id": "5078c152"
   },
   "source": [
    "- Вычислю `retention rate` или долю пользователей когорты для каждой последующей недели относительно стартовой"
   ]
  },
  {
   "cell_type": "code",
   "execution_count": null,
   "id": "405af235",
   "metadata": {
    "executionInfo": {
     "elapsed": 15,
     "status": "ok",
     "timestamp": 1650347753915,
     "user": {
      "displayName": "Vadim Selin",
      "userId": "13742755250186020674"
     },
     "user_tz": -180
    },
    "id": "405af235"
   },
   "outputs": [],
   "source": [
    "cohorts['retention'] = cohorts['user_cnt'] / cohorts['user_cnt_start']"
   ]
  },
  {
   "cell_type": "code",
   "execution_count": null,
   "id": "9bbb7983",
   "metadata": {
    "colab": {
     "base_uri": "https://localhost:8080/",
     "height": 676
    },
    "executionInfo": {
     "elapsed": 15,
     "status": "ok",
     "timestamp": 1650347753915,
     "user": {
      "displayName": "Vadim Selin",
      "userId": "13742755250186020674"
     },
     "user_tz": -180
    },
    "id": "9bbb7983",
    "outputId": "0cf59489-01e8-45f7-fd2a-186b667f9b4d"
   },
   "outputs": [],
   "source": [
    "cohorts"
   ]
  },
  {
   "cell_type": "code",
   "execution_count": null,
   "id": "c9153004",
   "metadata": {
    "executionInfo": {
     "elapsed": 14,
     "status": "ok",
     "timestamp": 1650347753915,
     "user": {
      "displayName": "Vadim Selin",
      "userId": "13742755250186020674"
     },
     "user_tz": -180
    },
    "id": "c9153004"
   },
   "outputs": [],
   "source": [
    "retention_pivot = cohorts.pivot_table(\n",
    "index='cluster_km',\n",
    "columns='cohort_lifetime',\n",
    "values='retention',\n",
    "aggfunc='sum')"
   ]
  },
  {
   "cell_type": "code",
   "execution_count": null,
   "id": "2dfc2ab3",
   "metadata": {
    "colab": {
     "base_uri": "https://localhost:8080/",
     "height": 237
    },
    "executionInfo": {
     "elapsed": 15,
     "status": "ok",
     "timestamp": 1650347753916,
     "user": {
      "displayName": "Vadim Selin",
      "userId": "13742755250186020674"
     },
     "user_tz": -180
    },
    "id": "2dfc2ab3",
    "outputId": "1fc40fba-7e3d-4e06-96b2-25afbabb88fd"
   },
   "outputs": [],
   "source": [
    "retention_pivot"
   ]
  },
  {
   "cell_type": "code",
   "execution_count": null,
   "id": "4739359e",
   "metadata": {
    "colab": {
     "base_uri": "https://localhost:8080/",
     "height": 622
    },
    "executionInfo": {
     "elapsed": 1137,
     "status": "ok",
     "timestamp": 1650353349350,
     "user": {
      "displayName": "Vadim Selin",
      "userId": "13742755250186020674"
     },
     "user_tz": -180
    },
    "id": "4739359e",
    "outputId": "91dff418-54eb-41c5-d1f9-120ca68f5ac8"
   },
   "outputs": [],
   "source": [
    "plt.figure(figsize=(15,10))\n",
    "plt.title('Удержание пользователей в когортах')\n",
    "sns.heatmap(\n",
    "    retention_pivot,\n",
    "    annot=True,\n",
    "    fmt='.2%',\n",
    "    linewidths=0.5,\n",
    "    linecolor='white',\n",
    "    cmap='gist_heat_r'\n",
    ")\n",
    "plt.ylabel('Сегмент пользователей')\n",
    "plt.show()"
   ]
  },
  {
   "cell_type": "markdown",
   "id": "3b7c6891",
   "metadata": {
    "id": "3b7c6891"
   },
   "source": [
    "- На вторую неделю жизни разница в удержании пользователей между сегментами уже существенно отличается\n",
    "- Самые \"верные\" пользователи `0`- сегмента на протяжении всех недель демонстрируют наибольшие показатели по удержанию\n",
    "- Помню, что число событий у этого сегмента было больше, чем у более многочисленного `4`- сегмента\n",
    "    - Теперь если взглянуть на `retention rate` становится ясно, что это связано с показателем удержания пользователей на протяжении всего исследуемого периода: `4` сегмент быстрее рассеялся, потому и событий не успел столько совершить, как более устойчивый `0`-й\n",
    "- Быстрее всех со второй недели разбегаются пользователи `2`-сегмента\n",
    "    - Этих ребят можно и нужно возвращать в приложение email рассылкой c лучшими подборками, сделанными на основе их поисковых действий. Тут также можно применить алгоритм машинного обучение по ретро-данным \"кто что купил и что он перед этим смотрел и какие события совершал\""
   ]
  },
  {
   "cell_type": "markdown",
   "id": "337fa6ef",
   "metadata": {
    "id": "337fa6ef"
   },
   "source": [
    "## Определю среднюю пользовательскую сессию (сеанса)\n",
    "- Эта пользовательская сессия не будет ограничена одинаковым для всех временным интервалом, поскольку данный подход устарел. \n",
    "    - Он был актуален в прошлом для веб-сайтов. \n",
    "    - Но на сегодняшний день для приложений и современных веб сайтов он не подходит.\n",
    "    - Более современный подход - учёт времени бездействия между событиями:\n",
    "      - Длительность сессии при этом не ограничена\n",
    "      - Такой подход сегодня используется например в новом поколении системы аналитики Google Analytics 4\n",
    "      - Задача определения сеанса сводится к определению наиболее подходящего большинству пользователей времени бездействия.\n",
    "      - При превышении этого времени бездействия с новым событием начинается новый сеанс.\n",
    "- **Для применения этого подхода к моим данным введу такое допущение:**\n",
    "    - в данном логе любое самое первое событие для каждого пользователя является началом сессии, то есть нет пользователей, которые уже находились в сессии в момент начала записи лога. \n",
    "---"
   ]
  },
  {
   "cell_type": "markdown",
   "id": "fd1372ce",
   "metadata": {
    "id": "fd1372ce"
   },
   "source": [
    "Пересохраню датафрейм `df` отбросив уже ненужные данные о когортах "
   ]
  },
  {
   "cell_type": "code",
   "execution_count": null,
   "id": "ee62902f",
   "metadata": {
    "executionInfo": {
     "elapsed": 4,
     "status": "ok",
     "timestamp": 1650347754591,
     "user": {
      "displayName": "Vadim Selin",
      "userId": "13742755250186020674"
     },
     "user_tz": -180
    },
    "id": "ee62902f"
   },
   "outputs": [],
   "source": [
    "df = df[['event_time', 'event_name', 'user_id', 'source', 'event_date',\n",
    "       'cluster_km']]"
   ]
  },
  {
   "cell_type": "markdown",
   "id": "c943758b",
   "metadata": {
    "id": "c943758b"
   },
   "source": [
    "- Вычислю дельту между событиями для каждого пользователя и переведу её в секунды"
   ]
  },
  {
   "cell_type": "code",
   "execution_count": null,
   "id": "52fc9910",
   "metadata": {
    "executionInfo": {
     "elapsed": 4352,
     "status": "ok",
     "timestamp": 1650347758940,
     "user": {
      "displayName": "Vadim Selin",
      "userId": "13742755250186020674"
     },
     "user_tz": -180
    },
    "id": "52fc9910"
   },
   "outputs": [],
   "source": [
    "between_events = pd.DataFrame(df.groupby('user_id')['event_time'].diff().dt.seconds)"
   ]
  },
  {
   "cell_type": "code",
   "execution_count": null,
   "id": "55790caa",
   "metadata": {
    "executionInfo": {
     "elapsed": 11,
     "status": "ok",
     "timestamp": 1650347758940,
     "user": {
      "displayName": "Vadim Selin",
      "userId": "13742755250186020674"
     },
     "user_tz": -180
    },
    "id": "55790caa"
   },
   "outputs": [],
   "source": [
    "between_events = between_events.rename(columns={'event_time':'seconds_between'})"
   ]
  },
  {
   "cell_type": "markdown",
   "id": "acc93347",
   "metadata": {
    "id": "acc93347"
   },
   "source": [
    "- Получил датафрейм с такими же индексами, как у основного `df` и значения временных дельт, соответствующих событиям\n",
    "- Присоединю его к основному `df`"
   ]
  },
  {
   "cell_type": "code",
   "execution_count": null,
   "id": "fea91fb0",
   "metadata": {
    "executionInfo": {
     "elapsed": 11,
     "status": "ok",
     "timestamp": 1650347758940,
     "user": {
      "displayName": "Vadim Selin",
      "userId": "13742755250186020674"
     },
     "user_tz": -180
    },
    "id": "fea91fb0"
   },
   "outputs": [],
   "source": [
    "df = df.merge(between_events, how='left', left_index=True, right_index=True)"
   ]
  },
  {
   "cell_type": "code",
   "execution_count": null,
   "id": "4cac9284",
   "metadata": {
    "colab": {
     "base_uri": "https://localhost:8080/",
     "height": 423
    },
    "executionInfo": {
     "elapsed": 12,
     "status": "ok",
     "timestamp": 1650347758941,
     "user": {
      "displayName": "Vadim Selin",
      "userId": "13742755250186020674"
     },
     "user_tz": -180
    },
    "id": "4cac9284",
    "outputId": "4a5d382f-e666-4704-f988-1e8235ce779c"
   },
   "outputs": [],
   "source": [
    "df"
   ]
  },
  {
   "cell_type": "markdown",
   "id": "2ac38a15",
   "metadata": {
    "id": "2ac38a15"
   },
   "source": [
    "- Из первых строк стало понятно, что самому первому событию каждого пользователя значение временной дельты соответствует `nan`, потому что функция `diff` не считает разницу с предыдущим событием, его нет.\n",
    "- Также видно, что когда разница между событиями меньше 1 секунды (быстрые пальцы) значение дельты при переводе в секунды равно `0`\n",
    "---\n",
    "Заменю значения дельты `nan` на `0`, а `0`(где на самом деле просто чуть меньше секунды) на 1"
   ]
  },
  {
   "cell_type": "code",
   "execution_count": null,
   "id": "e6346bf3",
   "metadata": {
    "executionInfo": {
     "elapsed": 11,
     "status": "ok",
     "timestamp": 1650347758942,
     "user": {
      "displayName": "Vadim Selin",
      "userId": "13742755250186020674"
     },
     "user_tz": -180
    },
    "id": "e6346bf3"
   },
   "outputs": [],
   "source": [
    "df = df.replace({'seconds_between':{0:1, np.nan:0}})"
   ]
  },
  {
   "cell_type": "markdown",
   "id": "c82c509d",
   "metadata": {
    "id": "c82c509d"
   },
   "source": [
    "- Посмотрю на распределение значений временных дельт между событиями, опущу нулевые значения для первых сеансов пользователей"
   ]
  },
  {
   "cell_type": "code",
   "execution_count": null,
   "id": "11fbb34d",
   "metadata": {
    "colab": {
     "base_uri": "https://localhost:8080/"
    },
    "executionInfo": {
     "elapsed": 11,
     "status": "ok",
     "timestamp": 1650347758942,
     "user": {
      "displayName": "Vadim Selin",
      "userId": "13742755250186020674"
     },
     "user_tz": -180
    },
    "id": "11fbb34d",
    "outputId": "b37e46b6-279f-42bb-e6b6-f2334db90fda"
   },
   "outputs": [],
   "source": [
    "df[df['seconds_between'] != 0]['seconds_between'].describe()"
   ]
  },
  {
   "cell_type": "markdown",
   "id": "rO3zosYMbPYI",
   "metadata": {
    "id": "rO3zosYMbPYI"
   },
   "source": [
    "- Получу самое частое значение дельты"
   ]
  },
  {
   "cell_type": "code",
   "execution_count": null,
   "id": "c9bfa2c9",
   "metadata": {
    "colab": {
     "base_uri": "https://localhost:8080/"
    },
    "executionInfo": {
     "elapsed": 263,
     "status": "ok",
     "timestamp": 1650347759197,
     "user": {
      "displayName": "Vadim Selin",
      "userId": "13742755250186020674"
     },
     "user_tz": -180
    },
    "id": "c9bfa2c9",
    "outputId": "1a1a1457-8b78-4a05-c154-aad7dbba64e6"
   },
   "outputs": [],
   "source": [
    "# беру моду именно по дельтам, поэтому отбрасываю первое событие с условной нулевой дельтой \n",
    "df[df['seconds_between'] != 0]['seconds_between'].mode()"
   ]
  },
  {
   "cell_type": "markdown",
   "id": "5c6c96ce",
   "metadata": {
    "id": "5c6c96ce"
   },
   "source": [
    "- Распределение сильно смещено вправо:\n",
    "    - Мода 1\n",
    "    - Медиана 70\n",
    "    - Среднее 2928\n",
    "---\n",
    "- Очевидно, что среднее значение временной дельты между событиями сильно оттянуто периодами бездействия между сессиями\n",
    "- А вот медиана не будет этому подвержена.\n",
    "- Но значение в 70 секунд (по опыту использования подобных приложений) мало, чтобы определить его как типичное для пользователей максимальное время бездействия, после которого можно начинать отсчитывать следующую сессию:\n",
    "    1. В нашем приложении есть события результат которых требует большего вермени на изучение (чтение описания, просмотр фото, изучение карты, переходы в браузер вне приложения для поиска дополнительной информации по объекту объявления).\n",
    "    2. Также что половина событий в логе происходит с большим временем бездействия.\n",
    "    3. А между сессиями время бездействия должно быть существенно больше и число таких интервалов должно быть заметно меньше, чем между событиями проходящими в сессиях.\n",
    "    4. Поэтому я предполагаю, что на диаграмме `boxplot` межсессионные дельты находятся в области выбросов.\n",
    "    5. Поэтому рассмотрю в качестве верхней границы времени бездействия (в рамках текущего сеанса) верхний предел статистически значимой выборки значений `seconds_between` на диаграмме `boxplot`.\n",
    "- Верхний предел статистически значимой выборки значений `seconds_between` будет равен сумме полутора межквартильных размахов и значения 3-го квартиля: `1.5 * (180 - 23) + 180 = 415.5`\n",
    "- Это почти 7 минут и гораздо больше похоже на то время, за которое даже не самый активный пользователь прочтёт, посмотрит что нужно и перейдёт к следующему действию (событию)"
   ]
  },
  {
   "cell_type": "code",
   "execution_count": null,
   "id": "405b76a9",
   "metadata": {
    "colab": {
     "base_uri": "https://localhost:8080/",
     "height": 444
    },
    "executionInfo": {
     "elapsed": 388,
     "status": "ok",
     "timestamp": 1650347759581,
     "user": {
      "displayName": "Vadim Selin",
      "userId": "13742755250186020674"
     },
     "user_tz": -180
    },
    "id": "405b76a9",
    "outputId": "0b9defb8-2c73-4e35-cb4a-fd2f28d8e3eb"
   },
   "outputs": [],
   "source": [
    "df[df['seconds_between'] != 0].boxplot('seconds_between', figsize=(5, 7))\n",
    "plt.ylim(0, 1000)\n",
    "plt.title('Распределение временных дельт между событиями по каждому пользователю')\n",
    "plt.show()"
   ]
  },
  {
   "cell_type": "markdown",
   "id": "747ae095",
   "metadata": {
    "id": "747ae095"
   },
   "source": [
    "---\n",
    "Длительность времени бездействия до начала следующей пользовательской сессии определю как 420 секунд (округлю до 7 полных минут 415,5 секунд). Для сравнения, в Google Analytics 4 оно составляет 30 минут, после чего очередное событие уже означает начало нового сеанса для пользователя. Это также обусловленно количеством контента, которое может изучать средний пользователь до совершения следующего события.\n",
    "\n",
    "---\n",
    "\n",
    "- Теперь промаркирую события, чтобы выделить начало каждой новой сессии"
   ]
  },
  {
   "cell_type": "markdown",
   "id": "BN6pNgrjDhki",
   "metadata": {
    "id": "BN6pNgrjDhki"
   },
   "source": [
    "- Присвою каждому первому событию каждого пользователя в логе маркер `start_new_session`, как условился в **допущении** выше"
   ]
  },
  {
   "cell_type": "code",
   "execution_count": null,
   "id": "o6YZ-EbfDhki",
   "metadata": {
    "executionInfo": {
     "elapsed": 393,
     "status": "ok",
     "timestamp": 1650347759972,
     "user": {
      "displayName": "Vadim Selin",
      "userId": "13742755250186020674"
     },
     "user_tz": -180
    },
    "id": "o6YZ-EbfDhki"
   },
   "outputs": [],
   "source": [
    "df['session_status'] = np.where(df['seconds_between'] == 0, 'start_new_session', np.nan)"
   ]
  },
  {
   "cell_type": "markdown",
   "id": "T_xPCVwmfQrv",
   "metadata": {
    "id": "T_xPCVwmfQrv"
   },
   "source": [
    "- Из следующей операции исключю все первые `start_new_session`\n",
    "- Все последующие события пользователей с временной дельтой **(к предыдущему событию этого пользователя)** меньше 420 секунд, промаркирую как `session_continues`\n",
    "- если дельта больше 420 - `start_new_session`."
   ]
  },
  {
   "cell_type": "code",
   "execution_count": null,
   "id": "7j6aTo-cDhki",
   "metadata": {
    "executionInfo": {
     "elapsed": 10,
     "status": "ok",
     "timestamp": 1650347759973,
     "user": {
      "displayName": "Vadim Selin",
      "userId": "13742755250186020674"
     },
     "user_tz": -180
    },
    "id": "7j6aTo-cDhki"
   },
   "outputs": [],
   "source": [
    "df.loc[df['session_status'] != 'start_new_session', 'session_status'] = (\n",
    "    df['seconds_between'].apply(lambda x : 'session_continues' if x <= 420 else 'start_new_session')\n",
    ")"
   ]
  },
  {
   "cell_type": "code",
   "execution_count": null,
   "id": "hb3I3552hoI5",
   "metadata": {
    "colab": {
     "base_uri": "https://localhost:8080/",
     "height": 423
    },
    "executionInfo": {
     "elapsed": 10,
     "status": "ok",
     "timestamp": 1650347759973,
     "user": {
      "displayName": "Vadim Selin",
      "userId": "13742755250186020674"
     },
     "user_tz": -180
    },
    "id": "hb3I3552hoI5",
    "outputId": "56bd3f42-502f-457f-d27f-051052691da6"
   },
   "outputs": [],
   "source": [
    "df"
   ]
  },
  {
   "cell_type": "markdown",
   "id": "DGxylV0uQsRG",
   "metadata": {
    "id": "DGxylV0uQsRG"
   },
   "source": [
    "- Замечательно, но теперь бы пронумеровать каждую сессию для каждого пользователя своим номером, чтобы группировкой по этому номеру можно было получить первое и последнее событие в конкретной сессии.\n",
    "- Это нужно для того, чтобы посчитать длительность каждой отдельной сессии для каждого пользователя.\n",
    "- Создам новый столбец `session_number` и заполню его пропусками."
   ]
  },
  {
   "cell_type": "code",
   "execution_count": null,
   "id": "UuqSVYkKMgE2",
   "metadata": {
    "executionInfo": {
     "elapsed": 8,
     "status": "ok",
     "timestamp": 1650347759973,
     "user": {
      "displayName": "Vadim Selin",
      "userId": "13742755250186020674"
     },
     "user_tz": -180
    },
    "id": "UuqSVYkKMgE2"
   },
   "outputs": [],
   "source": [
    "df['session_number'] = np.nan"
   ]
  },
  {
   "cell_type": "code",
   "execution_count": null,
   "id": "ZPwoxZEcNQXr",
   "metadata": {
    "colab": {
     "base_uri": "https://localhost:8080/",
     "height": 423
    },
    "executionInfo": {
     "elapsed": 9,
     "status": "ok",
     "timestamp": 1650347759974,
     "user": {
      "displayName": "Vadim Selin",
      "userId": "13742755250186020674"
     },
     "user_tz": -180
    },
    "id": "ZPwoxZEcNQXr",
    "outputId": "ba02494a-3628-41d7-a6dd-5fd0fa03134c"
   },
   "outputs": [],
   "source": [
    "df"
   ]
  },
  {
   "cell_type": "markdown",
   "id": "3zrSYCsDSl1c",
   "metadata": {
    "id": "3zrSYCsDSl1c"
   },
   "source": [
    "- Теперь выберу строки стартовых событий в сессиях и с помощью группировки по пользователям пронумерую для каждого пользователя его стартовые события.\n",
    "- Пронумерую = заменю NaN в столбце `session_number` на порядковый номер сессии от `0` до последней сессии."
   ]
  },
  {
   "cell_type": "code",
   "execution_count": null,
   "id": "6zTEr6EcJbIs",
   "metadata": {
    "executionInfo": {
     "elapsed": 278,
     "status": "ok",
     "timestamp": 1650347760244,
     "user": {
      "displayName": "Vadim Selin",
      "userId": "13742755250186020674"
     },
     "user_tz": -180
    },
    "id": "6zTEr6EcJbIs"
   },
   "outputs": [],
   "source": [
    "df.loc[df['session_status'] == 'start_new_session', 'session_number'] = (\n",
    "    df[df['session_status'] == 'start_new_session'].groupby(['user_id']).cumcount()\n",
    ")"
   ]
  },
  {
   "cell_type": "markdown",
   "id": "sLoPomDETvYk",
   "metadata": {
    "id": "sLoPomDETvYk"
   },
   "source": [
    "- Проверю корректность заполнения на примере двух пользователей."
   ]
  },
  {
   "cell_type": "code",
   "execution_count": null,
   "id": "0yQSU4H9UZUd",
   "metadata": {
    "colab": {
     "base_uri": "https://localhost:8080/",
     "height": 520
    },
    "executionInfo": {
     "elapsed": 4,
     "status": "ok",
     "timestamp": 1650347760245,
     "user": {
      "displayName": "Vadim Selin",
      "userId": "13742755250186020674"
     },
     "user_tz": -180
    },
    "id": "0yQSU4H9UZUd",
    "outputId": "aa40da10-bab6-463c-fade-2d32e1f50f13"
   },
   "outputs": [],
   "source": [
    "(\n",
    "    df[\n",
    "        (df['user_id'] == '20850c8f-4135-4059-b13b-198d3ac59902') | \n",
    "        (df['user_id'] == 'd9b06b47-0f36-419b-bbb0-3533e582a6cb')\n",
    "    ]\n",
    ")"
   ]
  },
  {
   "cell_type": "markdown",
   "id": "rmVSK0TCh890",
   "metadata": {
    "id": "rmVSK0TCh890"
   },
   "source": [
    "- Сгруппирую `df` по пользователям и заполню пропуски в событиях с маркером `session_continues` методом `ffill`\n",
    "- Таким образом пропуски в строках событий `session_continues` заполнятся тем же номером сессии, что и у стартового события этой сессии."
   ]
  },
  {
   "cell_type": "code",
   "execution_count": null,
   "id": "3Rq8oIQ2JbX0",
   "metadata": {
    "executionInfo": {
     "elapsed": 2399,
     "status": "ok",
     "timestamp": 1650347762641,
     "user": {
      "displayName": "Vadim Selin",
      "userId": "13742755250186020674"
     },
     "user_tz": -180
    },
    "id": "3Rq8oIQ2JbX0"
   },
   "outputs": [],
   "source": [
    "df['session_number'] = df.groupby('user_id')['session_number'].fillna(method='ffill')"
   ]
  },
  {
   "cell_type": "code",
   "execution_count": null,
   "id": "5OA_GKbOVsnA",
   "metadata": {
    "colab": {
     "base_uri": "https://localhost:8080/",
     "height": 520
    },
    "executionInfo": {
     "elapsed": 12,
     "status": "ok",
     "timestamp": 1650347762641,
     "user": {
      "displayName": "Vadim Selin",
      "userId": "13742755250186020674"
     },
     "user_tz": -180
    },
    "id": "5OA_GKbOVsnA",
    "outputId": "afb43910-5046-4dc5-e626-d25e1bdb0cd9"
   },
   "outputs": [],
   "source": [
    "(\n",
    "    df[\n",
    "        (df['user_id'] == '20850c8f-4135-4059-b13b-198d3ac59902') | \n",
    "        (df['user_id'] == 'd9b06b47-0f36-419b-bbb0-3533e582a6cb')\n",
    "    ]\n",
    ")"
   ]
  },
  {
   "cell_type": "markdown",
   "id": "ydwgDjHjVs3L",
   "metadata": {
    "id": "ydwgDjHjVs3L"
   },
   "source": [
    "- Теперь каждое событие каждой сессии для каждого пользователя имеет свой порядковый номер (общий для событий одной сессии)"
   ]
  },
  {
   "cell_type": "code",
   "execution_count": null,
   "id": "GFFSXhh5ZdNj",
   "metadata": {
    "colab": {
     "base_uri": "https://localhost:8080/"
    },
    "executionInfo": {
     "elapsed": 11,
     "status": "ok",
     "timestamp": 1650347762641,
     "user": {
      "displayName": "Vadim Selin",
      "userId": "13742755250186020674"
     },
     "user_tz": -180
    },
    "id": "GFFSXhh5ZdNj",
    "outputId": "a25e34e9-4d70-40f1-9122-de19963d7fab"
   },
   "outputs": [],
   "source": [
    "# прорка на пропуски\n",
    "df.isna().mean()"
   ]
  },
  {
   "cell_type": "markdown",
   "id": "wUGs-odmZj2T",
   "metadata": {
    "id": "wUGs-odmZj2T"
   },
   "source": [
    "- Получу временные дельты по каждой сессии для каждого пользователя и сохраню номер сегмента для дальнейших сравнений.\n",
    "- Для этого сгруппирую `df` по `cluster_km`, `user_id`, `session_number`."
   ]
  },
  {
   "cell_type": "code",
   "execution_count": null,
   "id": "E3Rw24-lZkFb",
   "metadata": {
    "executionInfo": {
     "elapsed": 8,
     "status": "ok",
     "timestamp": 1650347762642,
     "user": {
      "displayName": "Vadim Selin",
      "userId": "13742755250186020674"
     },
     "user_tz": -180
    },
    "id": "E3Rw24-lZkFb"
   },
   "outputs": [],
   "source": [
    "# u_s - users sessions\n",
    "u_s = (\n",
    "    df.groupby(['cluster_km', 'user_id', 'session_number'], as_index=False)\n",
    "    .agg({'event_time': ['count', 'min', 'max']})\n",
    ")"
   ]
  },
  {
   "cell_type": "code",
   "execution_count": null,
   "id": "wufyDeB_ZkUX",
   "metadata": {
    "executionInfo": {
     "elapsed": 8,
     "status": "ok",
     "timestamp": 1650347762642,
     "user": {
      "displayName": "Vadim Selin",
      "userId": "13742755250186020674"
     },
     "user_tz": -180
    },
    "id": "wufyDeB_ZkUX"
   },
   "outputs": [],
   "source": [
    "# сделаю индексы плоскими\n",
    "u_s.columns = ['_'.join(col).strip() for col in u_s.columns.values]"
   ]
  },
  {
   "cell_type": "code",
   "execution_count": null,
   "id": "gvVpXV2PsPmL",
   "metadata": {
    "colab": {
     "base_uri": "https://localhost:8080/",
     "height": 423
    },
    "executionInfo": {
     "elapsed": 11,
     "status": "ok",
     "timestamp": 1650347763044,
     "user": {
      "displayName": "Vadim Selin",
      "userId": "13742755250186020674"
     },
     "user_tz": -180
    },
    "id": "gvVpXV2PsPmL",
    "outputId": "64b69bff-4a5f-4834-f276-f1828b083e51"
   },
   "outputs": [],
   "source": [
    "u_s"
   ]
  },
  {
   "cell_type": "code",
   "execution_count": null,
   "id": "97BT_awAZkiT",
   "metadata": {
    "executionInfo": {
     "elapsed": 11,
     "status": "ok",
     "timestamp": 1650347763045,
     "user": {
      "displayName": "Vadim Selin",
      "userId": "13742755250186020674"
     },
     "user_tz": -180
    },
    "id": "97BT_awAZkiT"
   },
   "outputs": [],
   "source": [
    "u_s.columns = ['cluster_km', 'user_id', 'session_number', 'event_in_session_count',\n",
    "       'event_time_min', 'event_time_max']"
   ]
  },
  {
   "cell_type": "markdown",
   "id": "23V4dSFcrGY7",
   "metadata": {
    "id": "23V4dSFcrGY7"
   },
   "source": [
    "- Получу длительность каждой сессии "
   ]
  },
  {
   "cell_type": "code",
   "execution_count": null,
   "id": "Ta_b8phlqk26",
   "metadata": {
    "executionInfo": {
     "elapsed": 11,
     "status": "ok",
     "timestamp": 1650347763045,
     "user": {
      "displayName": "Vadim Selin",
      "userId": "13742755250186020674"
     },
     "user_tz": -180
    },
    "id": "Ta_b8phlqk26"
   },
   "outputs": [],
   "source": [
    "u_s['session_duration'] = (\n",
    "    u_s['event_time_max'] - u_s['event_time_min']\n",
    ").dt.seconds"
   ]
  },
  {
   "cell_type": "code",
   "execution_count": null,
   "id": "r-LVPvIbqkG0",
   "metadata": {
    "colab": {
     "base_uri": "https://localhost:8080/",
     "height": 423
    },
    "executionInfo": {
     "elapsed": 12,
     "status": "ok",
     "timestamp": 1650347763046,
     "user": {
      "displayName": "Vadim Selin",
      "userId": "13742755250186020674"
     },
     "user_tz": -180
    },
    "id": "r-LVPvIbqkG0",
    "outputId": "8d2356f8-45b4-4bd2-cd43-f43be1e1188f"
   },
   "outputs": [],
   "source": [
    "u_s"
   ]
  },
  {
   "cell_type": "markdown",
   "id": "TNQBXOMhZkxT",
   "metadata": {
    "id": "TNQBXOMhZkxT"
   },
   "source": [
    "- Есть сессии продолжительность которых получилась нулевой - это сессии состоящие из одного события\n",
    "- Если увеличить длительность предельного времени бездействия, то их число несколько снижается, но не сильно (если увеличить время бездействия с 7 минут до 15, то вместо 28,6% нулевых сессий получим 22%)\n",
    "- Поэтому в рамках данного решения я останусь на определённом ранее максимальном времени бездействия в 7 минут.\n",
    "\n",
    "---"
   ]
  },
  {
   "cell_type": "code",
   "execution_count": null,
   "id": "fc2e0f4d",
   "metadata": {
    "colab": {
     "base_uri": "https://localhost:8080/"
    },
    "executionInfo": {
     "elapsed": 11,
     "status": "ok",
     "timestamp": 1650347763046,
     "user": {
      "displayName": "Vadim Selin",
      "userId": "13742755250186020674"
     },
     "user_tz": -180
    },
    "id": "fc2e0f4d",
    "outputId": "9bc0e378-c58a-42ba-8911-684289cfe3f9"
   },
   "outputs": [],
   "source": [
    "len(u_s[u_s['session_duration'] == 0]) / len(u_s)"
   ]
  },
  {
   "cell_type": "markdown",
   "id": "c7qB3gkSvVSa",
   "metadata": {
    "id": "c7qB3gkSvVSa"
   },
   "source": [
    "- Посмотрю на распределения длительности сессий среди всех пользователей без учёта нулевых длятельностей, когда было только одно событие и после длительное бездействие\n",
    "- Сохраню в отдельную переменную датафрейм с пользовательскими сессиями без нулевых сессий."
   ]
  },
  {
   "cell_type": "code",
   "execution_count": null,
   "id": "9134d0fa",
   "metadata": {
    "executionInfo": {
     "elapsed": 8,
     "status": "ok",
     "timestamp": 1650347763047,
     "user": {
      "displayName": "Vadim Selin",
      "userId": "13742755250186020674"
     },
     "user_tz": -180
    },
    "id": "9134d0fa"
   },
   "outputs": [],
   "source": [
    "u_s1 = u_s[u_s['session_duration'] != 0].copy()"
   ]
  },
  {
   "cell_type": "code",
   "execution_count": null,
   "id": "E5a-kqOjZlAz",
   "metadata": {
    "colab": {
     "base_uri": "https://localhost:8080/",
     "height": 281
    },
    "executionInfo": {
     "elapsed": 1345,
     "status": "ok",
     "timestamp": 1650347764385,
     "user": {
      "displayName": "Vadim Selin",
      "userId": "13742755250186020674"
     },
     "user_tz": -180
    },
    "id": "E5a-kqOjZlAz",
    "outputId": "01b76d03-d7ad-4c8b-8e62-9c54aa5750e2"
   },
   "outputs": [],
   "source": [
    "u_s1['session_duration'].hist(bins=100)\n",
    "plt.title('Распределение значений длительности ненулевых сессий')\n",
    "plt.show()"
   ]
  },
  {
   "cell_type": "code",
   "execution_count": null,
   "id": "5d8127fa",
   "metadata": {
    "colab": {
     "base_uri": "https://localhost:8080/"
    },
    "executionInfo": {
     "elapsed": 7,
     "status": "ok",
     "timestamp": 1650347764386,
     "user": {
      "displayName": "Vadim Selin",
      "userId": "13742755250186020674"
     },
     "user_tz": -180
    },
    "id": "5d8127fa",
    "outputId": "6f1848a2-8b1a-4f4c-c2bb-b77b3b46c28d"
   },
   "outputs": [],
   "source": [
    "u_s1['session_duration'].mode()"
   ]
  },
  {
   "cell_type": "code",
   "execution_count": null,
   "id": "34da8643",
   "metadata": {
    "colab": {
     "base_uri": "https://localhost:8080/"
    },
    "executionInfo": {
     "elapsed": 6,
     "status": "ok",
     "timestamp": 1650347764386,
     "user": {
      "displayName": "Vadim Selin",
      "userId": "13742755250186020674"
     },
     "user_tz": -180
    },
    "id": "34da8643",
    "outputId": "c17ca4bd-dde8-4050-a670-482eab81cc6b"
   },
   "outputs": [],
   "source": [
    "u_s1['session_duration'].describe()"
   ]
  },
  {
   "cell_type": "markdown",
   "id": "0e889acd",
   "metadata": {
    "id": "0e889acd"
   },
   "source": [
    "- Чаще всего если в сессии больше одного события длительность её составляет 4 секунды.\n",
    "    - Это похоже на тот случай, когда тебе прилетает пуш-уведомление и ты заходишь в него на несколько секунд, чтобы открыть сообщение и маркер непрочитанного уведомления снять.\n",
    "    - Кажется, ну и зачем оно нужно?\n",
    "    - Но иногда заходя по такому пушу, чтобы снять маркер снять, видишь интересующие тебя предложение и остаёшся из-за него.\n",
    "-  Поэтому от пушей не отказываемся, а вот от количества таких коротких сессий стараемся избавляться, улучшая качество `tips_show`\n",
    "- Средняя общая продолжительность сессии при этом составляет 492 секунды (чуть более 8 минут), что достаточно много, чтобы успеть наделать дел (заказать, сохранить в избранное и т.д.). Данная метрика выглядит реалистично.\n",
    "- Медиана также вполне реалистина: она чуть более 6 минут."
   ]
  },
  {
   "cell_type": "markdown",
   "id": "v5usEzefkwlv",
   "metadata": {
    "id": "v5usEzefkwlv"
   },
   "source": [
    "- Общее распределение длительности сессий оценил\n",
    "- Теперь посмотрю на распределения по кластерам\n",
    "- Выведу все распределения в одних осях координат, чтобы оценить различия в форме распределения\n",
    "- Графики отрисую с помощью цикла."
   ]
  },
  {
   "cell_type": "code",
   "execution_count": null,
   "id": "823b767d",
   "metadata": {
    "colab": {
     "base_uri": "https://localhost:8080/",
     "height": 514
    },
    "executionInfo": {
     "elapsed": 838,
     "status": "ok",
     "timestamp": 1650354083694,
     "user": {
      "displayName": "Vadim Selin",
      "userId": "13742755250186020674"
     },
     "user_tz": -180
    },
    "id": "823b767d",
    "outputId": "aa7fc74a-476c-4e58-e3a9-a2e1dc18245a"
   },
   "outputs": [],
   "source": [
    "colors = ['red', 'green', 'blue', 'yellow', 'black']\n",
    "clusters = u_s1['cluster_km'].unique()\n",
    "plt.figure(figsize=(12,8))\n",
    "for _,i in zip(clusters, colors):\n",
    "    fig = sns.histplot(\n",
    "        x=u_s1[u_s1['cluster_km'] == _]['session_duration'], \n",
    "        data=u_s1[u_s1['cluster_km'] == _], \n",
    "        element='step', \n",
    "        color=i, \n",
    "        alpha=0.1\n",
    "    )\n",
    "fig.legend(\n",
    "    labels=['cluster_0','cluster_1','cluster_2','cluster_3','cluster_4']\n",
    "    )\n",
    "plt.title('Распределения длительности сеанса в разных кластерах')\n",
    "plt.xlim(0, 3000)\n",
    "plt.show()"
   ]
  },
  {
   "cell_type": "markdown",
   "id": "0bec00ca",
   "metadata": {
    "id": "0bec00ca"
   },
   "source": [
    "- Для проверки корректности вывода кластеров и их маркировки выведу число зафиксированных ненулевых сессий по каждому кластеру"
   ]
  },
  {
   "cell_type": "code",
   "execution_count": null,
   "id": "ab06888a",
   "metadata": {
    "colab": {
     "base_uri": "https://localhost:8080/"
    },
    "executionInfo": {
     "elapsed": 7,
     "status": "ok",
     "timestamp": 1650347765152,
     "user": {
      "displayName": "Vadim Selin",
      "userId": "13742755250186020674"
     },
     "user_tz": -180
    },
    "id": "ab06888a",
    "outputId": "8d965cc9-e22e-4cf5-9163-4799f9331969"
   },
   "outputs": [],
   "source": [
    "u_s1['cluster_km'].value_counts().sort_index(ascending=True)"
   ]
  },
  {
   "cell_type": "markdown",
   "id": "P_HpoSmEquG_",
   "metadata": {
    "id": "P_HpoSmEquG_"
   },
   "source": [
    "- При взгляде на распределения сегментов можно сказать, что они пропорционально соответствуют общему распределению длительностей сессии.\n",
    "- Но чтобы не быть голословным, применю `describe` к каждому сегменту."
   ]
  },
  {
   "cell_type": "code",
   "execution_count": null,
   "id": "28478e1e",
   "metadata": {
    "colab": {
     "base_uri": "https://localhost:8080/",
     "height": 597
    },
    "executionInfo": {
     "elapsed": 510,
     "status": "ok",
     "timestamp": 1650347765660,
     "user": {
      "displayName": "Vadim Selin",
      "userId": "13742755250186020674"
     },
     "user_tz": -180
    },
    "id": "28478e1e",
    "outputId": "2b7a0fda-975b-4e4b-cfa9-66d6d0a5aa62"
   },
   "outputs": [],
   "source": [
    "u_s1.boxplot('session_duration', by='cluster_km', figsize=(6,8))\n",
    "plt.show()"
   ]
  },
  {
   "cell_type": "markdown",
   "id": "b8638d74",
   "metadata": {
    "id": "b8638d74"
   },
   "source": [
    "- Медианы не идентичны, есть различия\n",
    "- Вероятно в средних они тоже будут\n",
    "- Хоть формы распределений и были похожи, но были смещены.\n",
    "    - Сделаю сводник по кластерам, со средним и медианой и выведу их в столбчатых графиках"
   ]
  },
  {
   "cell_type": "code",
   "execution_count": null,
   "id": "a99e864c",
   "metadata": {
    "colab": {
     "base_uri": "https://localhost:8080/"
    },
    "executionInfo": {
     "elapsed": 8,
     "status": "ok",
     "timestamp": 1650347765661,
     "user": {
      "displayName": "Vadim Selin",
      "userId": "13742755250186020674"
     },
     "user_tz": -180
    },
    "id": "a99e864c",
    "outputId": "2b7b53ac-65ac-4525-98c7-3a72f5eb974f"
   },
   "outputs": [],
   "source": [
    "u_s1.columns"
   ]
  },
  {
   "cell_type": "code",
   "execution_count": null,
   "id": "5da41b96",
   "metadata": {
    "executionInfo": {
     "elapsed": 299,
     "status": "ok",
     "timestamp": 1650347765956,
     "user": {
      "displayName": "Vadim Selin",
      "userId": "13742755250186020674"
     },
     "user_tz": -180
    },
    "id": "5da41b96"
   },
   "outputs": [],
   "source": [
    "# duration_pc = duration_per_clasters\n",
    "duration_pc = (\n",
    "    u_s1.pivot_table(\n",
    "        index='cluster_km', \n",
    "        values='session_duration', \n",
    "        aggfunc=['count','mean', 'median']\n",
    "    )\n",
    ")"
   ]
  },
  {
   "cell_type": "code",
   "execution_count": null,
   "id": "e11d73c1",
   "metadata": {
    "executionInfo": {
     "elapsed": 24,
     "status": "ok",
     "timestamp": 1650347765957,
     "user": {
      "displayName": "Vadim Selin",
      "userId": "13742755250186020674"
     },
     "user_tz": -180
    },
    "id": "e11d73c1"
   },
   "outputs": [],
   "source": [
    "duration_pc.columns = ['_'.join(col).strip() for col in duration_pc.columns.values]"
   ]
  },
  {
   "cell_type": "code",
   "execution_count": null,
   "id": "d5596707",
   "metadata": {
    "colab": {
     "base_uri": "https://localhost:8080/",
     "height": 237
    },
    "executionInfo": {
     "elapsed": 18,
     "status": "ok",
     "timestamp": 1650347765957,
     "user": {
      "displayName": "Vadim Selin",
      "userId": "13742755250186020674"
     },
     "user_tz": -180
    },
    "id": "d5596707",
    "outputId": "fcfb079a-0a41-4f38-f371-3bb7508094f6"
   },
   "outputs": [],
   "source": [
    "duration_pc"
   ]
  },
  {
   "cell_type": "markdown",
   "id": "81c47614",
   "metadata": {
    "id": "81c47614"
   },
   "source": [
    "---\n",
    "- Цикл для вывода значений столбцов позаимствовал [здесь]('https://datavizpyr.com/how-to-annotate-bars-in-barplot-with-matplotlib-in-python/')\n",
    "---"
   ]
  },
  {
   "cell_type": "code",
   "execution_count": null,
   "id": "23752861",
   "metadata": {
    "colab": {
     "base_uri": "https://localhost:8080/",
     "height": 513
    },
    "executionInfo": {
     "elapsed": 795,
     "status": "ok",
     "timestamp": 1650354206422,
     "user": {
      "displayName": "Vadim Selin",
      "userId": "13742755250186020674"
     },
     "user_tz": -180
    },
    "id": "23752861",
    "outputId": "72943cb9-aba2-4f0c-d4c5-66ef2069c395"
   },
   "outputs": [],
   "source": [
    "plt.figure(figsize=(12,8))\n",
    "fig = sns.barplot(x=duration_pc.index, y=\"mean_session_duration\", data=duration_pc, alpha=0.5)\n",
    "fig = sns.barplot(x=duration_pc.index, y=\"median_session_duration\", data=duration_pc)\n",
    "for p in fig.patches:\n",
    "    fig.annotate(format(p.get_height(), '.1f'), \n",
    "                   (p.get_x() + p.get_width() / 2., p.get_height()), \n",
    "                   ha = 'center', va = 'center', \n",
    "                   xytext = (0, 9), \n",
    "                   textcoords = 'offset points')\n",
    "plt.ylabel('Длительность сеанса, сек.')\n",
    "plt.xlabel('Сегмент пользователей')\n",
    "plt.title('Средние (светлые) и медианные значения длительности сессии по сегментам')\n",
    "plt.show()"
   ]
  },
  {
   "cell_type": "markdown",
   "id": "0df75f81",
   "metadata": {
    "id": "0df75f81"
   },
   "source": [
    "- У самого многочисленного 1-го сегмента самые большие серднее и медианное значение длительности сеанса.\n",
    "- Также у этого сегмента наибольшее количество выбросов (судя по выводу `boxplot` выше)\n",
    "    - Хотя отбрасывать их безусловно не стоит, потому что максимальное значение в этих выбросах соответствует 2,14 часа\n",
    "    - Кто-то просто долго искал необходимую вещь\n",
    "    - Быть может, подержанный макбук. Или что-то ещё, что может требует внимания и сравнения.\n",
    "- Также возвращаясь к `retention rate`, у этого сегмента он тоже самый низкий (рисунок)\n",
    "- Начинает закрадываться мысль, что чем дольше средняя продолжительность сеанса в сегменте, тем лучше его пользователи находят то, что им нужно, получают контакты продавца и товар. После этого они выпадают из ближайших `cohort_lifetime`\n",
    "- В таком случе вполне может быть, что конверсия в целевое действие `contacts_show` у этого сегмента будет выше:\n",
    "    -  Долго посидели-повыбирали-лучше сконверстировались и быстрее ушли в отток.\n",
    "    - Это выясню после рассчёта средней частоты совершения событий в сессии по сегментам\n"
   ]
  },
  {
   "cell_type": "markdown",
   "id": "451be4ff",
   "metadata": {
    "id": "451be4ff"
   },
   "source": [
    "## Рассчитать и сравнить между кластерами частоту совершения событий\n",
    "\n",
    "- Частота относительно пользовательской сессии\n",
    "- этот пункт также поможет определить, как по кластерам различается время между основными событиями пользовательских сессий"
   ]
  },
  {
   "cell_type": "markdown",
   "id": "d8a88f11",
   "metadata": {
    "id": "d8a88f11"
   },
   "source": [
    "- Получу частоту как количество событий в минуту, как количество событий в сессию - уже есть `event_in_session_count`"
   ]
  },
  {
   "cell_type": "code",
   "execution_count": null,
   "id": "d0560d4b",
   "metadata": {
    "executionInfo": {
     "elapsed": 13,
     "status": "ok",
     "timestamp": 1650347766797,
     "user": {
      "displayName": "Vadim Selin",
      "userId": "13742755250186020674"
     },
     "user_tz": -180
    },
    "id": "d0560d4b"
   },
   "outputs": [],
   "source": [
    "u_s1['event_freq_per_minute'] = u_s1['event_in_session_count'] / (u_s1['session_duration'] / 60)"
   ]
  },
  {
   "cell_type": "code",
   "execution_count": null,
   "id": "3e7db303",
   "metadata": {
    "colab": {
     "base_uri": "https://localhost:8080/",
     "height": 206
    },
    "executionInfo": {
     "elapsed": 13,
     "status": "ok",
     "timestamp": 1650347766798,
     "user": {
      "displayName": "Vadim Selin",
      "userId": "13742755250186020674"
     },
     "user_tz": -180
    },
    "id": "3e7db303",
    "outputId": "b3c5b8f2-a88e-4123-d70c-0cbf72ee4479"
   },
   "outputs": [],
   "source": [
    "u_s1.head()"
   ]
  },
  {
   "cell_type": "markdown",
   "id": "868fb3ad",
   "metadata": {
    "id": "868fb3ad"
   },
   "source": [
    "- Теперь можно взглянуть на распределения этих частот среди разных кластеров\n",
    "- Посмотрю на вывод `describe`"
   ]
  },
  {
   "cell_type": "code",
   "execution_count": null,
   "id": "fab20366",
   "metadata": {
    "colab": {
     "base_uri": "https://localhost:8080/"
    },
    "executionInfo": {
     "elapsed": 13,
     "status": "ok",
     "timestamp": 1650347766798,
     "user": {
      "displayName": "Vadim Selin",
      "userId": "13742755250186020674"
     },
     "user_tz": -180
    },
    "id": "fab20366",
    "outputId": "e6e46877-d438-4e3a-fbae-6b61831bf65a"
   },
   "outputs": [],
   "source": [
    "u_s1['event_freq_per_minute'].describe()"
   ]
  },
  {
   "cell_type": "markdown",
   "id": "1b8e7cc4",
   "metadata": {
    "id": "1b8e7cc4"
   },
   "source": [
    "- Интересно, кто совершает 360 событий в минуту, и что это за события"
   ]
  },
  {
   "cell_type": "code",
   "execution_count": null,
   "id": "e6e2ed91",
   "metadata": {
    "colab": {
     "base_uri": "https://localhost:8080/"
    },
    "executionInfo": {
     "elapsed": 10,
     "status": "ok",
     "timestamp": 1650347766799,
     "user": {
      "displayName": "Vadim Selin",
      "userId": "13742755250186020674"
     },
     "user_tz": -180
    },
    "id": "e6e2ed91",
    "outputId": "ed3bcefb-bfcc-4a90-b9ba-6e5048f37915"
   },
   "outputs": [],
   "source": [
    "u_s1[u_s1['event_freq_per_minute'] == u_s1['event_freq_per_minute'].max()]['user_id']"
   ]
  },
  {
   "cell_type": "code",
   "execution_count": null,
   "id": "2c8f8138",
   "metadata": {
    "colab": {
     "base_uri": "https://localhost:8080/",
     "height": 237
    },
    "executionInfo": {
     "elapsed": 6,
     "status": "ok",
     "timestamp": 1650347766799,
     "user": {
      "displayName": "Vadim Selin",
      "userId": "13742755250186020674"
     },
     "user_tz": -180
    },
    "id": "2c8f8138",
    "outputId": "2db1471b-70cd-46fd-aaf2-45ac4c72d07f"
   },
   "outputs": [],
   "source": [
    "df[df['user_id'] == '4c38c011-e7d4-47a2-9da3-35888e0606b8']"
   ]
  },
  {
   "cell_type": "markdown",
   "id": "b8723a50",
   "metadata": {
    "id": "b8723a50"
   },
   "source": [
    "- Интересно, много ли пользователей совершает так много событий в секунду\n",
    "- Или же это редкий баг, когда пользователю так быстро (за десятые доли секунды пронеслись 6 фото) показываются фотографии\n",
    "- Выведу диаграммы `boxplot`, чтобы посмотреть на масштабы и количество выбросов"
   ]
  },
  {
   "cell_type": "code",
   "execution_count": null,
   "id": "27ee110c",
   "metadata": {
    "colab": {
     "base_uri": "https://localhost:8080/",
     "height": 597
    },
    "executionInfo": {
     "elapsed": 760,
     "status": "ok",
     "timestamp": 1650347767553,
     "user": {
      "displayName": "Vadim Selin",
      "userId": "13742755250186020674"
     },
     "user_tz": -180
    },
    "id": "27ee110c",
    "outputId": "1b20a661-ff01-47d6-99c9-0754e1059f57"
   },
   "outputs": [],
   "source": [
    "u_s1.boxplot('event_freq_per_minute', by='cluster_km', figsize=(6,8))\n",
    "plt.show()"
   ]
  },
  {
   "cell_type": "markdown",
   "id": "5fd75669",
   "metadata": {
    "id": "5fd75669"
   },
   "source": [
    "- Выбросов немного, частот больше 60 можно по пальцам посчитать\n",
    "- Но есть pandas, поэтому пальцы для счёта не нужны"
   ]
  },
  {
   "cell_type": "code",
   "execution_count": null,
   "id": "e49dfaf0",
   "metadata": {
    "colab": {
     "base_uri": "https://localhost:8080/"
    },
    "executionInfo": {
     "elapsed": 14,
     "status": "ok",
     "timestamp": 1650347767554,
     "user": {
      "displayName": "Vadim Selin",
      "userId": "13742755250186020674"
     },
     "user_tz": -180
    },
    "id": "e49dfaf0",
    "outputId": "c64cefac-f907-4137-e0c4-56b8a3c2ade5"
   },
   "outputs": [],
   "source": [
    "len(u_s1[u_s1['event_freq_per_minute'] >= 60]) / len(u_s1)"
   ]
  },
  {
   "cell_type": "markdown",
   "id": "8339d894",
   "metadata": {
    "id": "8339d894"
   },
   "source": [
    "- `1.17%` сеансов происходят с частотой событий быстрее, чем одно в секунду. \n",
    "- Самое быстрая сессия с самой высокой частотой 360 событий в минуту (6 за секунду). Просмотр 6 фото подряд (быстрый скролл)\n",
    "- Узнаю, сколько событий чаще оказывается в таких высокочастотных сеансах."
   ]
  },
  {
   "cell_type": "code",
   "execution_count": null,
   "id": "b173a98a",
   "metadata": {
    "colab": {
     "base_uri": "https://localhost:8080/"
    },
    "executionInfo": {
     "elapsed": 10,
     "status": "ok",
     "timestamp": 1650347767555,
     "user": {
      "displayName": "Vadim Selin",
      "userId": "13742755250186020674"
     },
     "user_tz": -180
    },
    "id": "b173a98a",
    "outputId": "3d41de5f-6f14-4b69-c6a9-f958949f54f5"
   },
   "outputs": [],
   "source": [
    "u_s1[u_s1['event_freq_per_minute'] >= 60]['event_in_session_count'].value_counts()"
   ]
  },
  {
   "cell_type": "markdown",
   "id": "9dac1e95",
   "metadata": {
    "id": "9dac1e95"
   },
   "source": [
    "- Большинство сессий, в которых частота событий равна или выше 1-го события в секунду (60 в минуту)\n",
    "    - Содержат в себе лишь 2 события\n",
    "    - Лишь в 5 сессиях с такой высокой частотой было совершено от 6 до 15 событий\n",
    "    - Подавляющее большинство, это всё-таки 2-3 события\n",
    "    - Вероятно это по большей части автоматические события, на которые могли наложиться пользовательские тапы с минимальной задержкой\n",
    "- Посмотрю на распределение типов событий среди тех сессий, для которых свойственна очень высокая частота"
   ]
  },
  {
   "cell_type": "code",
   "execution_count": null,
   "id": "c4b94a76",
   "metadata": {
    "executionInfo": {
     "elapsed": 7,
     "status": "ok",
     "timestamp": 1650347767555,
     "user": {
      "displayName": "Vadim Selin",
      "userId": "13742755250186020674"
     },
     "user_tz": -180
    },
    "id": "c4b94a76"
   },
   "outputs": [],
   "source": [
    "high_freq_usr = pd.Series(u_s1[u_s1['event_freq_per_minute'] >= 60]['user_id'].unique())"
   ]
  },
  {
   "cell_type": "code",
   "execution_count": null,
   "id": "b3d0f327",
   "metadata": {
    "colab": {
     "base_uri": "https://localhost:8080/"
    },
    "executionInfo": {
     "elapsed": 8,
     "status": "ok",
     "timestamp": 1650347767556,
     "user": {
      "displayName": "Vadim Selin",
      "userId": "13742755250186020674"
     },
     "user_tz": -180
    },
    "id": "b3d0f327",
    "outputId": "bef65edb-0358-4140-d84e-9fc7eac86502"
   },
   "outputs": [],
   "source": [
    "df[df['user_id'].isin(high_freq_usr)]['event_name'].value_counts(normalize=True)"
   ]
  },
  {
   "cell_type": "markdown",
   "id": "45501dd2",
   "metadata": {
    "id": "45501dd2"
   },
   "source": [
    "- Распределение событий среди пользователей для которых сессии проходят с высокой частотой\n",
    "    - 43% событий совершаемых с высокой частотой (больше одного события в секунду) - это показ рекомендованных объявлений\n",
    "    - 19% - просмотр фото, похоже на быстро пролистанную карусель с фотографиями\n",
    "    - Что примечательно 9.1% быстрых событий - это инетерсующее нас конверсионное действие.\n",
    "    - Учитывя тот факт, что большинство высокочатотных сессий состоят из 2-3 событий, считаю эти данные правдоподобными\n",
    "- Для следующего A/B - теста можно сравнить два варианта скорости прокрутки фотографий в карусели (если она там вообще есть) и посмотреть как это сказывается на частоте событий в сессии."
   ]
  },
  {
   "cell_type": "markdown",
   "id": "e761339a",
   "metadata": {
    "id": "e761339a"
   },
   "source": [
    "- Поскольку величина `event_freq_per_minute` связана с вычисленными до неё числом событий в сессии `event_in_session_count` и длительностью сессии `session_duration`.\n",
    "- То буду использовать её как общую меру частоты действий пользоватлея при сравнении сегментов.\n",
    "    - Сперва оценю распределения `event_freq_per_minute` на общих осях координат, чтобы оценить разброс частот по сегментам и в каких пределах расположилось большиство сессий"
   ]
  },
  {
   "cell_type": "code",
   "execution_count": null,
   "id": "057b6ed1",
   "metadata": {
    "colab": {
     "base_uri": "https://localhost:8080/",
     "height": 514
    },
    "executionInfo": {
     "elapsed": 1362,
     "status": "ok",
     "timestamp": 1650357834181,
     "user": {
      "displayName": "Vadim Selin",
      "userId": "13742755250186020674"
     },
     "user_tz": -180
    },
    "id": "057b6ed1",
    "outputId": "39e95233-4d72-4adf-88d8-75e549f4115c"
   },
   "outputs": [],
   "source": [
    "colors = ['red', 'green', 'blue', 'yellow', 'black']\n",
    "clusters = u_s1['cluster_km'].unique()\n",
    "plt.figure(figsize=(12,8))\n",
    "for _,i in zip(clusters, colors):\n",
    "    fig = sns.histplot(\n",
    "        x=u_s1[u_s1['cluster_km'] == _]['event_freq_per_minute'], \n",
    "        data=u_s1[u_s1['cluster_km'] == _], \n",
    "        element='poly', \n",
    "        color=i, \n",
    "        alpha=0.1\n",
    "    )\n",
    "fig.legend(\n",
    "    labels=['cluster_0','cluster_1','cluster_2','cluster_3','cluster_4']\n",
    "    )\n",
    "plt.title('Распределение частоты событий в минуту по сегментам')\n",
    "plt.xlim(0, 10)\n",
    "plt.show()"
   ]
  },
  {
   "cell_type": "markdown",
   "id": "b3164d86",
   "metadata": {
    "id": "b3164d86"
   },
   "source": [
    "- Большинство сессий проходит с частотой событий до 7.5 соб/мин\n",
    "- Посчитаю среднее и медиану частоты событий по сегментам\n",
    "     - Среднее будет однозначно оттянуто самыми резкими пользователями: вот заодно и посомтрю, где их больше"
   ]
  },
  {
   "cell_type": "code",
   "execution_count": null,
   "id": "e7a593bf",
   "metadata": {
    "executionInfo": {
     "elapsed": 502,
     "status": "ok",
     "timestamp": 1650347768908,
     "user": {
      "displayName": "Vadim Selin",
      "userId": "13742755250186020674"
     },
     "user_tz": -180
    },
    "id": "e7a593bf"
   },
   "outputs": [],
   "source": [
    "# fpc = frequency_per_clasters\n",
    "fpc = (\n",
    "    u_s1.pivot_table(\n",
    "        index='cluster_km', \n",
    "        values='event_freq_per_minute', \n",
    "        aggfunc=['count','mean', 'median']\n",
    "    )\n",
    ")"
   ]
  },
  {
   "cell_type": "code",
   "execution_count": null,
   "id": "6d09067c",
   "metadata": {
    "executionInfo": {
     "elapsed": 4,
     "status": "ok",
     "timestamp": 1650347768908,
     "user": {
      "displayName": "Vadim Selin",
      "userId": "13742755250186020674"
     },
     "user_tz": -180
    },
    "id": "6d09067c"
   },
   "outputs": [],
   "source": [
    "fpc.columns = ['_'.join(col).strip() for col in fpc.columns.values]"
   ]
  },
  {
   "cell_type": "code",
   "execution_count": null,
   "id": "0f4ae4e8",
   "metadata": {
    "colab": {
     "base_uri": "https://localhost:8080/",
     "height": 237
    },
    "executionInfo": {
     "elapsed": 4,
     "status": "ok",
     "timestamp": 1650347768909,
     "user": {
      "displayName": "Vadim Selin",
      "userId": "13742755250186020674"
     },
     "user_tz": -180
    },
    "id": "0f4ae4e8",
    "outputId": "f85b3143-dbef-4613-8741-c7604b1661c5"
   },
   "outputs": [],
   "source": [
    "fpc"
   ]
  },
  {
   "cell_type": "code",
   "execution_count": null,
   "id": "779ba2a0",
   "metadata": {
    "colab": {
     "base_uri": "https://localhost:8080/",
     "height": 513
    },
    "executionInfo": {
     "elapsed": 673,
     "status": "ok",
     "timestamp": 1650357707421,
     "user": {
      "displayName": "Vadim Selin",
      "userId": "13742755250186020674"
     },
     "user_tz": -180
    },
    "id": "779ba2a0",
    "outputId": "57e9ae01-f17a-4a5f-c52e-64dae5531389"
   },
   "outputs": [],
   "source": [
    "plt.figure(figsize=(12,8))\n",
    "fig = sns.barplot(x=fpc.index, y=\"mean_event_freq_per_minute\", data=fpc, alpha=0.5)\n",
    "fig = sns.barplot(x=fpc.index, y=\"median_event_freq_per_minute\", data=fpc)\n",
    "for p in fig.patches:\n",
    "    fig.annotate(format(p.get_height(), '.1f'), \n",
    "                   (p.get_x() + p.get_width() / 2., p.get_height()), \n",
    "                   ha = 'center', va = 'center', \n",
    "                   xytext = (0, 9), \n",
    "                   textcoords = 'offset points')\n",
    "plt.ylabel('Частота, соб/мин.')\n",
    "plt.xlabel('Сегмент пользователей')\n",
    "plt.title('Средние (светлые) и медианные значения частоты событий в минуту по сегментам')\n",
    "plt.show()"
   ]
  },
  {
   "cell_type": "markdown",
   "id": "70b009ad",
   "metadata": {
    "id": "70b009ad"
   },
   "source": [
    "- Примечательно, что пользователи с самой длинной в среднем сессией обладают самыми низкими частотами событий в минуту\n",
    "    - Ребята просто медленнее думают, поэтому в среднем больше сидят\n",
    "- Выделяется 2-й сегмент, у которого и сессия достаточно длинная и частота событий в минуту одна из самых высоких (и медиана и среднее)\n",
    "    - Одни из самых активных пользоватлей по частоте событий и длительности сессии пока получаются в сегменте 2\n",
    "    - Посмотрю на их конверсию и конверсию остальных сегментов в целевое цействие `contacts_show`"
   ]
  },
  {
   "cell_type": "markdown",
   "id": "d250e1fa",
   "metadata": {
    "id": "d250e1fa"
   },
   "source": [
    "## Рассчитать и сравнить между кластерами конверсию в целевое действие `contacts_show`"
   ]
  },
  {
   "cell_type": "markdown",
   "id": "7d95a0ac",
   "metadata": {
    "id": "7d95a0ac"
   },
   "source": [
    "- Для начала определю, что именно я понимаю под конверсией в целевое действие в данной задаче\n",
    "    - Поскольку мы обладаем ретроспективными данными почти за месяц, многие пользователи возвращались неоднократно\n",
    "    - События, которые они совершали повторялись\n",
    "    - Поэтому конверсию по сегментам получу следующим образом\n",
    "        - Выясню, сколько сессий было совершено в каждом сегменте\n",
    "        - Узнаю, сколько было совершено `contacts_show` в каждом сегменте\n",
    "        - Расчитаю их отношение и увижу в каком сегменте пользователи более склонны к совершению покупки"
   ]
  },
  {
   "cell_type": "markdown",
   "id": "57d46449",
   "metadata": {
    "id": "57d46449"
   },
   "source": [
    "- Получу максимальный порядковый номер сессиии для каждого пользователя. Сохраню при этом сегмент даннго пользователя"
   ]
  },
  {
   "cell_type": "code",
   "execution_count": null,
   "id": "43a0e559",
   "metadata": {
    "executionInfo": {
     "elapsed": 13,
     "status": "ok",
     "timestamp": 1650347769486,
     "user": {
      "displayName": "Vadim Selin",
      "userId": "13742755250186020674"
     },
     "user_tz": -180
    },
    "id": "43a0e559"
   },
   "outputs": [],
   "source": [
    "session_cnt = df.groupby(['cluster_km', 'user_id'], as_index=False)['session_number'].max()"
   ]
  },
  {
   "cell_type": "code",
   "execution_count": null,
   "id": "929b78b9",
   "metadata": {
    "executionInfo": {
     "elapsed": 12,
     "status": "ok",
     "timestamp": 1650347769486,
     "user": {
      "displayName": "Vadim Selin",
      "userId": "13742755250186020674"
     },
     "user_tz": -180
    },
    "id": "929b78b9"
   },
   "outputs": [],
   "source": [
    "session_cnt = session_cnt.rename(columns={'session_number':'session_cnt'})"
   ]
  },
  {
   "cell_type": "markdown",
   "id": "e68b5b3a",
   "metadata": {
    "id": "e68b5b3a"
   },
   "source": [
    "- Поскольку нумерация всех сессий для всех пользователей начиналась с нуля, прибавлю `1` ко всем значениям `session_cnt` и получу точное количество сессий каждого пользователя, и каждого сегмента"
   ]
  },
  {
   "cell_type": "code",
   "execution_count": null,
   "id": "b6775dbc",
   "metadata": {
    "executionInfo": {
     "elapsed": 13,
     "status": "ok",
     "timestamp": 1650347769487,
     "user": {
      "displayName": "Vadim Selin",
      "userId": "13742755250186020674"
     },
     "user_tz": -180
    },
    "id": "b6775dbc"
   },
   "outputs": [],
   "source": [
    "session_cnt['session_cnt'] = session_cnt['session_cnt'] + 1"
   ]
  },
  {
   "cell_type": "markdown",
   "id": "9283c83b",
   "metadata": {
    "id": "9283c83b"
   },
   "source": [
    "- Сгруппирую по сегментам и сложу получившееся у каждого пользователя число сессий в рамках сегмента\n",
    "    - так получу число сессий в каждом сегменте за период записи лога"
   ]
  },
  {
   "cell_type": "code",
   "execution_count": null,
   "id": "647090cb",
   "metadata": {
    "executionInfo": {
     "elapsed": 12,
     "status": "ok",
     "timestamp": 1650347769487,
     "user": {
      "displayName": "Vadim Selin",
      "userId": "13742755250186020674"
     },
     "user_tz": -180
    },
    "id": "647090cb"
   },
   "outputs": [],
   "source": [
    "session_clusters_cnt = session_cnt.groupby('cluster_km',as_index=False).agg({'session_cnt': 'sum'})"
   ]
  },
  {
   "cell_type": "code",
   "execution_count": null,
   "id": "2e626571",
   "metadata": {
    "colab": {
     "base_uri": "https://localhost:8080/",
     "height": 206
    },
    "executionInfo": {
     "elapsed": 13,
     "status": "ok",
     "timestamp": 1650347769488,
     "user": {
      "displayName": "Vadim Selin",
      "userId": "13742755250186020674"
     },
     "user_tz": -180
    },
    "id": "2e626571",
    "outputId": "a43ccff9-88ab-4924-fec5-432a771cbad7"
   },
   "outputs": [],
   "source": [
    "session_clusters_cnt"
   ]
  },
  {
   "cell_type": "markdown",
   "id": "3f120593",
   "metadata": {
    "id": "3f120593"
   },
   "source": [
    "- Теперь найду, сколько было именно событий `contacts_show` за весь исследуемый период по сегментам.\n",
    "    - Потому что даже если просмотров контактов в одной сессии было несколько, важно учесть их все"
   ]
  },
  {
   "cell_type": "code",
   "execution_count": null,
   "id": "f2866fde",
   "metadata": {
    "executionInfo": {
     "elapsed": 12,
     "status": "ok",
     "timestamp": 1650347769488,
     "user": {
      "displayName": "Vadim Selin",
      "userId": "13742755250186020674"
     },
     "user_tz": -180
    },
    "id": "f2866fde"
   },
   "outputs": [],
   "source": [
    "contacts_show = (\n",
    "    df[df['event_name'] == 'contacts_show']\n",
    "    .groupby('cluster_km',as_index=False)\n",
    "    .agg({'user_id': 'count'})\n",
    ")"
   ]
  },
  {
   "cell_type": "code",
   "execution_count": null,
   "id": "9c73de57",
   "metadata": {
    "executionInfo": {
     "elapsed": 12,
     "status": "ok",
     "timestamp": 1650347769488,
     "user": {
      "displayName": "Vadim Selin",
      "userId": "13742755250186020674"
     },
     "user_tz": -180
    },
    "id": "9c73de57"
   },
   "outputs": [],
   "source": [
    "contacts_show = contacts_show.rename(columns={'user_id':'contacts_show'})"
   ]
  },
  {
   "cell_type": "markdown",
   "id": "bd661961",
   "metadata": {
    "id": "bd661961"
   },
   "source": [
    "- Получу число всех событий по кластерам"
   ]
  },
  {
   "cell_type": "code",
   "execution_count": null,
   "id": "262dce1e",
   "metadata": {
    "executionInfo": {
     "elapsed": 13,
     "status": "ok",
     "timestamp": 1650347769489,
     "user": {
      "displayName": "Vadim Selin",
      "userId": "13742755250186020674"
     },
     "user_tz": -180
    },
    "id": "262dce1e"
   },
   "outputs": [],
   "source": [
    "event_cluster_cnt = df.groupby('cluster_km', as_index=False)['user_id'].count()"
   ]
  },
  {
   "cell_type": "code",
   "execution_count": null,
   "id": "8ae29be4",
   "metadata": {
    "executionInfo": {
     "elapsed": 13,
     "status": "ok",
     "timestamp": 1650347769489,
     "user": {
      "displayName": "Vadim Selin",
      "userId": "13742755250186020674"
     },
     "user_tz": -180
    },
    "id": "8ae29be4"
   },
   "outputs": [],
   "source": [
    "event_cluster_cnt = event_cluster_cnt.rename(columns={'user_id':'event_cnt'})"
   ]
  },
  {
   "cell_type": "code",
   "execution_count": null,
   "id": "729415fd",
   "metadata": {
    "executionInfo": {
     "elapsed": 13,
     "status": "ok",
     "timestamp": 1650347769489,
     "user": {
      "displayName": "Vadim Selin",
      "userId": "13742755250186020674"
     },
     "user_tz": -180
    },
    "id": "729415fd"
   },
   "outputs": [],
   "source": [
    "cluster_cr = (\n",
    "    contacts_show.merge(session_clusters_cnt, how='left', on='cluster_km')\n",
    "    .merge(event_cluster_cnt, how='left', on='cluster_km')\n",
    ")"
   ]
  },
  {
   "cell_type": "code",
   "execution_count": null,
   "id": "fd3b449e",
   "metadata": {
    "colab": {
     "base_uri": "https://localhost:8080/",
     "height": 206
    },
    "executionInfo": {
     "elapsed": 12,
     "status": "ok",
     "timestamp": 1650347769489,
     "user": {
      "displayName": "Vadim Selin",
      "userId": "13742755250186020674"
     },
     "user_tz": -180
    },
    "id": "fd3b449e",
    "outputId": "1d007c4b-73d4-4b47-cefd-e21ee7cc6245"
   },
   "outputs": [],
   "source": [
    "cluster_cr "
   ]
  },
  {
   "cell_type": "markdown",
   "id": "15736f89",
   "metadata": {
    "id": "15736f89"
   },
   "source": [
    "1. Посчитаю отношение числа просмотров контактов к числу сессий по кластерам `cr_session`\n",
    "    - Это поможет понять в каком из кластеров потенциально больше порцент сделок после сессий\n",
    "2. Следом посчитаю отношение числа просмотров контактов к числу всех событий по кластерам `cr_events`\n",
    "    - Первая версия показывает конверсию по сеансам, но также должна и учитывать и количество конверсионных событий\n",
    "    - Вторая просто отражает связь конверсионных событий с общим числом пользоватльских событий."
   ]
  },
  {
   "cell_type": "code",
   "execution_count": null,
   "id": "831395ea",
   "metadata": {
    "executionInfo": {
     "elapsed": 13,
     "status": "ok",
     "timestamp": 1650347769490,
     "user": {
      "displayName": "Vadim Selin",
      "userId": "13742755250186020674"
     },
     "user_tz": -180
    },
    "id": "831395ea"
   },
   "outputs": [],
   "source": [
    "cluster_cr['cr_session'] = cluster_cr['contacts_show'] / cluster_cr['session_cnt']"
   ]
  },
  {
   "cell_type": "code",
   "execution_count": null,
   "id": "34f46413",
   "metadata": {
    "executionInfo": {
     "elapsed": 12,
     "status": "ok",
     "timestamp": 1650347769490,
     "user": {
      "displayName": "Vadim Selin",
      "userId": "13742755250186020674"
     },
     "user_tz": -180
    },
    "id": "34f46413"
   },
   "outputs": [],
   "source": [
    "cluster_cr['cr_events'] = cluster_cr['contacts_show'] / cluster_cr['event_cnt']"
   ]
  },
  {
   "cell_type": "code",
   "execution_count": null,
   "id": "7a682c3c",
   "metadata": {
    "colab": {
     "base_uri": "https://localhost:8080/",
     "height": 206
    },
    "executionInfo": {
     "elapsed": 13,
     "status": "ok",
     "timestamp": 1650347769491,
     "user": {
      "displayName": "Vadim Selin",
      "userId": "13742755250186020674"
     },
     "user_tz": -180
    },
    "id": "7a682c3c",
    "outputId": "510a209c-00d3-4cb5-e18d-aca7c004f233"
   },
   "outputs": [],
   "source": [
    "cluster_cr"
   ]
  },
  {
   "cell_type": "code",
   "execution_count": null,
   "id": "a0c3409c",
   "metadata": {
    "colab": {
     "base_uri": "https://localhost:8080/",
     "height": 513
    },
    "executionInfo": {
     "elapsed": 693,
     "status": "ok",
     "timestamp": 1650359377269,
     "user": {
      "displayName": "Vadim Selin",
      "userId": "13742755250186020674"
     },
     "user_tz": -180
    },
    "id": "a0c3409c",
    "outputId": "2e8affdb-a9bc-4048-c9be-cd63ff1b1737"
   },
   "outputs": [],
   "source": [
    "plt.figure(figsize=(12,8))\n",
    "fig = sns.barplot(x=cluster_cr.index, y=\"cr_session\", data=cluster_cr)\n",
    "for p in fig.patches:\n",
    "    fig.annotate(format(p.get_height(), '.2f'), \n",
    "                   (p.get_x() + p.get_width() / 2., p.get_height()), \n",
    "                   ha = 'center', va = 'center', \n",
    "                   xytext = (0, 9), \n",
    "                   textcoords = 'offset points')\n",
    "plt.ylabel('Конверсия в целевое действие/сессия')\n",
    "plt.xlabel('Сегмент пользователей')\n",
    "plt.title('Конверсия в целевое действие/сессия по сегментам')\n",
    "plt.show()"
   ]
  },
  {
   "cell_type": "markdown",
   "id": "a2a5c609",
   "metadata": {
    "id": "a2a5c609"
   },
   "source": [
    "- Теперь выведу график с конверсией из любого события в целевое событие по сегментам.\n",
    "- Соотношения чисел похожи по масштабам, поэтому график будет примерно тот-же."
   ]
  },
  {
   "cell_type": "code",
   "execution_count": null,
   "id": "f6d7a709",
   "metadata": {
    "colab": {
     "base_uri": "https://localhost:8080/",
     "height": 513
    },
    "executionInfo": {
     "elapsed": 682,
     "status": "ok",
     "timestamp": 1650359381983,
     "user": {
      "displayName": "Vadim Selin",
      "userId": "13742755250186020674"
     },
     "user_tz": -180
    },
    "id": "f6d7a709",
    "outputId": "bdab36d0-c316-4701-eb04-319a45199fe0"
   },
   "outputs": [],
   "source": [
    "plt.figure(figsize=(12,8))\n",
    "fig = sns.barplot(x=cluster_cr.index, y=\"cr_events\", data=cluster_cr)\n",
    "for p in fig.patches:\n",
    "    fig.annotate(format(p.get_height(), '.2%'), \n",
    "                   (p.get_x() + p.get_width() / 2., p.get_height()), \n",
    "                   ha = 'center', va = 'center', \n",
    "                   xytext = (0, 9), \n",
    "                   textcoords = 'offset points')\n",
    "plt.ylabel('Конверсия в целевое действие/все события')\n",
    "plt.xlabel('Сегмент пользователей')\n",
    "plt.title('Конверсия в целевое действие/все события по сегментам')\n",
    "plt.show()"
   ]
  },
  {
   "cell_type": "markdown",
   "id": "43347819",
   "metadata": {
    "id": "43347819"
   },
   "source": [
    "- Лидирует 4-й сегмент с наибольшей долей целевых событий на сессию и на общее число событий этого сегмента\n",
    "- В прошлом пункте при рассчёте средней частоты событий в минуту по сегментам, у 4-го эта частота была наибольшей:\n",
    "    - Вырисовывается сценнарий использоватния:\n",
    "        - Пользователи приходят в приложение ненадолго, в среднем 283 секунды\n",
    "        - Совершают события с самой высокой средней частотой 9 с/мин\n",
    "        - Совершают пропорционально большинство целевых действий и относительно сеансов и относительно всех событий этих пользователей.\n",
    "- 4-й сегмент самый малочисленный, но самый активный с позиции совершения `contacts_show`\n",
    "    - Вероятно, в этом сегменте оказались те пользователи, для которых покупка товаров через приложение - обычное рутинное дело.\n",
    "    - Для них стоит проводить отдельные тесты по эффективности подбора `tips_show`, с целью выявления лучшего алгоритма рекомендаций, который положительно влияет на рост коверсии (как относительно сессии, так и относительно всех совершённых событий).\n",
    "- Также неплохой конверсией обладает самый многочисленный сегмент 1-ый:\n",
    "\n",
    "    - 5,74% всех их событий - просмотр контактов.\n",
    "    - 33% их сессий включает просмотр контактов.\n",
    "    - Тест алгоритма подбора `tips_show` (и его влияния на `cr`) для этого сегмента - также необходим, поскольку суммарное количество целевых действий этого сегмента наибольшее во всей выборке. И даже при меньшем измененеии `cr` в эторм сегменте относительно `cr` 4-го сегмента мы можем получить бОльший прирост событий `contacts_show` в абсолютном выражении.\n",
    "- Вышесказанное не означает, что остальные определённые сегменты надо оставить в стороне, это вопрос определения первоочередных приоритетов."
   ]
  },
  {
   "cell_type": "markdown",
   "id": "022748d9",
   "metadata": {
    "id": "022748d9"
   },
   "source": [
    "## Сегментировать пользователей по событиям (без кластеризации) и оценить конверсию в целевое событие по этим сегментам."
   ]
  },
  {
   "cell_type": "markdown",
   "id": "9ZUWnD9zI8hU",
   "metadata": {
    "id": "9ZUWnD9zI8hU"
   },
   "source": [
    "- Получу список всех пользовательских событий в порядке убывания их количества"
   ]
  },
  {
   "cell_type": "code",
   "execution_count": null,
   "id": "SP43FlVfXRB7",
   "metadata": {
    "colab": {
     "base_uri": "https://localhost:8080/"
    },
    "executionInfo": {
     "elapsed": 25,
     "status": "ok",
     "timestamp": 1650347770149,
     "user": {
      "displayName": "Vadim Selin",
      "userId": "13742755250186020674"
     },
     "user_tz": -180
    },
    "id": "SP43FlVfXRB7",
    "outputId": "d43df8b5-83fa-4478-9e5d-7637a8519043"
   },
   "outputs": [],
   "source": [
    "df['event_name'].value_counts()"
   ]
  },
  {
   "cell_type": "markdown",
   "id": "haqDbSaBXRRb",
   "metadata": {
    "id": "haqDbSaBXRRb"
   },
   "source": [
    "- Самое распространённое действие - `tips_show`. Оно вероятно было в логе у каждого пользователя (проверю)\n",
    "- Следом идёт событие `photos_show`. Которое  могло быть не у всех пользователей (проверю)\n",
    "- Далее событие `search_action`. Оно вероятно было в логе у каждого пользователя (проверю), потому что прежде чем открыть объявление, его надо сперва найти.\n",
    "- Далее событие `advert_open`. Оно вероятно было в логе у каждого пользователя (проверю). Ведь чтобы посмотреть контакты продавца - делать это надо после открытия объявления этого продавца.\n",
    "- Следом по популярности идёт целевое событие `contacts_show`, по которому я буду проверять конверсию в новых сегментах (сегментация по событиям без ML)\n",
    "- События `map`, `favorites_add` и `tips_click` также использую для выбора сегментов.\n",
    "---\n",
    "\n",
    "**Сегментировать пользователей буду по принципу \"никогда не совершали это действие\" и применю его для следующих действий:**\n",
    "- `photos_show`\n",
    "- `map`              \n",
    "- `favorites_add`\n",
    "- `tips_click`\n",
    "\n",
    "В качестве итога сравнения посмотрю по новым сегментам на конверсию относительно всех событий в `contacts_show`. И посмотрю, какие из сегментов, полученных с помощью алгоритма `k-means`входят в состав новых \"сегментов по событиям\" и в каких долях."
   ]
  },
  {
   "cell_type": "markdown",
   "id": "iAZTEWU84Fy0",
   "metadata": {
    "id": "iAZTEWU84Fy0"
   },
   "source": [
    "### Получу конверсию по событиям `cr_events` для пользователей, которые не смотрели фото и посмотрю в этом полученном сегменте доли кластеров от алгоритма `k-means`"
   ]
  },
  {
   "cell_type": "markdown",
   "id": "KFy5b6CBSUdW",
   "metadata": {
    "id": "KFy5b6CBSUdW"
   },
   "source": [
    "- Получу `user_id` всех пользователей, кто смотрел фотографии в объявлениях."
   ]
  },
  {
   "cell_type": "code",
   "execution_count": null,
   "id": "aLIqDGQ3XRhD",
   "metadata": {
    "executionInfo": {
     "elapsed": 20,
     "status": "ok",
     "timestamp": 1650347770149,
     "user": {
      "displayName": "Vadim Selin",
      "userId": "13742755250186020674"
     },
     "user_tz": -180
    },
    "id": "aLIqDGQ3XRhD"
   },
   "outputs": [],
   "source": [
    "photos_show_usr = df[df['event_name'] == 'photos_show'].groupby('user_id').agg({'user_id': 'first'})"
   ]
  },
  {
   "cell_type": "markdown",
   "id": "f4vs9EDtUCev",
   "metadata": {
    "id": "f4vs9EDtUCev"
   },
   "source": [
    "- Теперь получу подмножество событий из датафрейма `df` для тех пользователей, кто не смотрел фото в течение записи лога"
   ]
  },
  {
   "cell_type": "code",
   "execution_count": null,
   "id": "Yf3wYAmrSvzQ",
   "metadata": {
    "executionInfo": {
     "elapsed": 20,
     "status": "ok",
     "timestamp": 1650347770149,
     "user": {
      "displayName": "Vadim Selin",
      "userId": "13742755250186020674"
     },
     "user_tz": -180
    },
    "id": "Yf3wYAmrSvzQ"
   },
   "outputs": [],
   "source": [
    "no_photo_show_df = df[~df['user_id'].isin(photos_show_usr.index)]"
   ]
  },
  {
   "cell_type": "code",
   "execution_count": null,
   "id": "WEGA-iAiVI8G",
   "metadata": {
    "colab": {
     "base_uri": "https://localhost:8080/"
    },
    "executionInfo": {
     "elapsed": 20,
     "status": "ok",
     "timestamp": 1650347770150,
     "user": {
      "displayName": "Vadim Selin",
      "userId": "13742755250186020674"
     },
     "user_tz": -180
    },
    "id": "WEGA-iAiVI8G",
    "outputId": "55796f50-4425-4978-add4-d878c6666e68"
   },
   "outputs": [],
   "source": [
    "no_photo_show_df['event_name'].value_counts()"
   ]
  },
  {
   "cell_type": "code",
   "execution_count": null,
   "id": "fG2d3OTkVWym",
   "metadata": {
    "colab": {
     "base_uri": "https://localhost:8080/"
    },
    "executionInfo": {
     "elapsed": 17,
     "status": "ok",
     "timestamp": 1650347770150,
     "user": {
      "displayName": "Vadim Selin",
      "userId": "13742755250186020674"
     },
     "user_tz": -180
    },
    "id": "fG2d3OTkVWym",
    "outputId": "bdca668a-e8e8-4a86-9552-d195d02c76e9"
   },
   "outputs": [],
   "source": [
    "len(no_photo_show_df)"
   ]
  },
  {
   "cell_type": "markdown",
   "id": "6v69uID5Vjz1",
   "metadata": {
    "id": "6v69uID5Vjz1"
   },
   "source": [
    "- Пользователи, которые не смотрят фото совершили большую часть событий\n",
    "- Посчитаю их конверсию (все события - в целевое дейстие)"
   ]
  },
  {
   "cell_type": "code",
   "execution_count": null,
   "id": "0UlPM_YwWHu5",
   "metadata": {
    "executionInfo": {
     "elapsed": 14,
     "status": "ok",
     "timestamp": 1650347770150,
     "user": {
      "displayName": "Vadim Selin",
      "userId": "13742755250186020674"
     },
     "user_tz": -180
    },
    "id": "0UlPM_YwWHu5"
   },
   "outputs": [],
   "source": [
    "no_photo_cr = len(no_photo_show_df[no_photo_show_df['event_name'] == 'contacts_show']) / len(no_photo_show_df)"
   ]
  },
  {
   "cell_type": "code",
   "execution_count": null,
   "id": "SH3JL4LW66J8",
   "metadata": {
    "colab": {
     "base_uri": "https://localhost:8080/"
    },
    "executionInfo": {
     "elapsed": 15,
     "status": "ok",
     "timestamp": 1650347770151,
     "user": {
      "displayName": "Vadim Selin",
      "userId": "13742755250186020674"
     },
     "user_tz": -180
    },
    "id": "SH3JL4LW66J8",
    "outputId": "bf49bf48-f081-4c9c-f606-6a2aad954ca2"
   },
   "outputs": [],
   "source": [
    "no_photo_cr"
   ]
  },
  {
   "cell_type": "markdown",
   "id": "kk0-yBhHWdB-",
   "metadata": {
    "id": "kk0-yBhHWdB-"
   },
   "source": [
    "- Процент конверсии событий в `contacts_show` ближе всего к 1-му сегменту (`cr_events = 5.74%`) опредённому по алгоритму `k-means`.\n",
    "- Проверю доли сегментов в выборке `no_photo_show_df`."
   ]
  },
  {
   "cell_type": "code",
   "execution_count": null,
   "id": "UhZ7NVkXW2RO",
   "metadata": {
    "colab": {
     "base_uri": "https://localhost:8080/"
    },
    "executionInfo": {
     "elapsed": 11,
     "status": "ok",
     "timestamp": 1650347770151,
     "user": {
      "displayName": "Vadim Selin",
      "userId": "13742755250186020674"
     },
     "user_tz": -180
    },
    "id": "UhZ7NVkXW2RO",
    "outputId": "db22017a-3726-455e-e36f-4128da3833c9"
   },
   "outputs": [],
   "source": [
    "no_photo_show_df['cluster_km'].value_counts(normalize=True)"
   ]
  },
  {
   "cell_type": "markdown",
   "id": "VeCY_ZDUXOxX",
   "metadata": {
    "id": "VeCY_ZDUXOxX"
   },
   "source": [
    "- И сразу бинго! Один из сегментов по `k-means` отсутствует полностью, вероятно из-за отсутствия события `photos_show`, что алгоритм кластеризации тоже учёл.\n",
    "- Самая большая доля (71%) принадлежит 1-му сегменту, с подобной конверсией (5,74% по `k-means` группировке и 5,88% по группировке с исключением событий).\n",
    "---"
   ]
  },
  {
   "cell_type": "markdown",
   "id": "GvIaOYEYtVGt",
   "metadata": {
    "id": "GvIaOYEYtVGt"
   },
   "source": [
    "### Получу конверсию по событиям `cr_events` для пользователей, которые не смотрели карту и проверю в этом полученном сегменте доли кластеров от алгоритма `k-means`"
   ]
  },
  {
   "cell_type": "markdown",
   "id": "H2YRnHFGtVX-",
   "metadata": {
    "id": "H2YRnHFGtVX-"
   },
   "source": [
    "- Получу `user_id` всех пользователей, кто смотрел карту в объявлениях."
   ]
  },
  {
   "cell_type": "code",
   "execution_count": null,
   "id": "aKK8RxuLtVX_",
   "metadata": {
    "executionInfo": {
     "elapsed": 7,
     "status": "ok",
     "timestamp": 1650347770151,
     "user": {
      "displayName": "Vadim Selin",
      "userId": "13742755250186020674"
     },
     "user_tz": -180
    },
    "id": "aKK8RxuLtVX_"
   },
   "outputs": [],
   "source": [
    "map_usr = df[df['event_name'] == 'map'].groupby('user_id').agg({'user_id': 'first'})"
   ]
  },
  {
   "cell_type": "markdown",
   "id": "8W-qIaBntVX_",
   "metadata": {
    "id": "8W-qIaBntVX_"
   },
   "source": [
    "- Теперь получу подмножество событий из датафрейма `df` для тех пользователей, кто не смотрел карту в течение записи лога"
   ]
  },
  {
   "cell_type": "code",
   "execution_count": null,
   "id": "RKx3AN5qtVX_",
   "metadata": {
    "executionInfo": {
     "elapsed": 64,
     "status": "ok",
     "timestamp": 1650347770592,
     "user": {
      "displayName": "Vadim Selin",
      "userId": "13742755250186020674"
     },
     "user_tz": -180
    },
    "id": "RKx3AN5qtVX_"
   },
   "outputs": [],
   "source": [
    "no_map_usr_df = df[~df['user_id'].isin(map_usr.index)]"
   ]
  },
  {
   "cell_type": "code",
   "execution_count": null,
   "id": "mIQFKKUGtVX_",
   "metadata": {
    "colab": {
     "base_uri": "https://localhost:8080/"
    },
    "executionInfo": {
     "elapsed": 65,
     "status": "ok",
     "timestamp": 1650347770593,
     "user": {
      "displayName": "Vadim Selin",
      "userId": "13742755250186020674"
     },
     "user_tz": -180
    },
    "id": "mIQFKKUGtVX_",
    "outputId": "af1cdf3e-74e6-4860-86e6-50e97b669ee1"
   },
   "outputs": [],
   "source": [
    "no_map_usr_df['event_name'].value_counts()"
   ]
  },
  {
   "cell_type": "code",
   "execution_count": null,
   "id": "vvg5Gs4ZtVX_",
   "metadata": {
    "colab": {
     "base_uri": "https://localhost:8080/"
    },
    "executionInfo": {
     "elapsed": 64,
     "status": "ok",
     "timestamp": 1650347770593,
     "user": {
      "displayName": "Vadim Selin",
      "userId": "13742755250186020674"
     },
     "user_tz": -180
    },
    "id": "vvg5Gs4ZtVX_",
    "outputId": "87439eff-ded8-4100-8ea4-945ff7092b9e"
   },
   "outputs": [],
   "source": [
    "len(no_map_usr_df)"
   ]
  },
  {
   "cell_type": "markdown",
   "id": "5GigRSvAtVYA",
   "metadata": {
    "id": "5GigRSvAtVYA"
   },
   "source": [
    "- Пользователи, которые не смотрят карту совершили около половины всех событий\n",
    "- Посчитаю их конверсию (все события - в целевое дейстие)"
   ]
  },
  {
   "cell_type": "code",
   "execution_count": null,
   "id": "9DLMR8nrtVYA",
   "metadata": {
    "executionInfo": {
     "elapsed": 61,
     "status": "ok",
     "timestamp": 1650347770594,
     "user": {
      "displayName": "Vadim Selin",
      "userId": "13742755250186020674"
     },
     "user_tz": -180
    },
    "id": "9DLMR8nrtVYA"
   },
   "outputs": [],
   "source": [
    "no_map_cr = len(no_map_usr_df[no_map_usr_df['event_name'] == 'contacts_show']) / len(no_map_usr_df)"
   ]
  },
  {
   "cell_type": "code",
   "execution_count": null,
   "id": "uwRsOrY87Myt",
   "metadata": {
    "colab": {
     "base_uri": "https://localhost:8080/"
    },
    "executionInfo": {
     "elapsed": 61,
     "status": "ok",
     "timestamp": 1650347770594,
     "user": {
      "displayName": "Vadim Selin",
      "userId": "13742755250186020674"
     },
     "user_tz": -180
    },
    "id": "uwRsOrY87Myt",
    "outputId": "a67e8bd5-2bd1-46fb-f0f0-246247811545"
   },
   "outputs": [],
   "source": [
    "no_map_cr"
   ]
  },
  {
   "cell_type": "markdown",
   "id": "MyUOmmAMtVYA",
   "metadata": {
    "id": "MyUOmmAMtVYA"
   },
   "source": [
    "- Процент конверсии событий в `contacts_show` не является близким к какому-либо сегменту, опредённому по алгоритму `k-means`.\n",
    "- Проверю доли сегментов в выборке `no_map_usr_df`."
   ]
  },
  {
   "cell_type": "code",
   "execution_count": null,
   "id": "x-M1p-aitVYA",
   "metadata": {
    "colab": {
     "base_uri": "https://localhost:8080/"
    },
    "executionInfo": {
     "elapsed": 57,
     "status": "ok",
     "timestamp": 1650347770594,
     "user": {
      "displayName": "Vadim Selin",
      "userId": "13742755250186020674"
     },
     "user_tz": -180
    },
    "id": "x-M1p-aitVYA",
    "outputId": "31c422e6-1fd4-41df-d9ea-69f9c32193b5"
   },
   "outputs": [],
   "source": [
    "no_map_usr_df['cluster_km'].value_counts(normalize=True)"
   ]
  },
  {
   "cell_type": "markdown",
   "id": "hPVTMp0CvGH1",
   "metadata": {
    "id": "hPVTMp0CvGH1"
   },
   "source": [
    "- Тут заметные совпадения алгоритма `k-means` и сегментации по несовершённому событию закончились.\n",
    "- Да видно, что преобладает 1-ый сегмент `k-means`, что не удивительно, потому что этот сегмент самый многочисленный - практически половина всех пользователей. \n",
    "---"
   ]
  },
  {
   "cell_type": "code",
   "execution_count": null,
   "id": "uSMHIsJhwEIV",
   "metadata": {
    "colab": {
     "base_uri": "https://localhost:8080/"
    },
    "executionInfo": {
     "elapsed": 54,
     "status": "ok",
     "timestamp": 1650347770595,
     "user": {
      "displayName": "Vadim Selin",
      "userId": "13742755250186020674"
     },
     "user_tz": -180
    },
    "id": "uSMHIsJhwEIV",
    "outputId": "3e8f903d-5898-484a-f9ba-a97ad85cd49e"
   },
   "outputs": [],
   "source": [
    "df[df['cluster_km'] == 1]['user_id'].nunique() / df['user_id'].nunique()"
   ]
  },
  {
   "cell_type": "markdown",
   "id": "46jsVHRaxNeN",
   "metadata": {
    "id": "46jsVHRaxNeN"
   },
   "source": [
    "### Получу конверсию по событиям `cr_events` для пользователей, которые не добавляли в избранное и посмотрю в этом полученном сегменте доли кластеров от алгоритма `k-means`"
   ]
  },
  {
   "cell_type": "markdown",
   "id": "cGre_dSQxRrN",
   "metadata": {
    "id": "cGre_dSQxRrN"
   },
   "source": [
    "- Получу `user_id` всех пользователей, кто добавлял в избранное."
   ]
  },
  {
   "cell_type": "code",
   "execution_count": null,
   "id": "FDFSxZSGxRrO",
   "metadata": {
    "executionInfo": {
     "elapsed": 51,
     "status": "ok",
     "timestamp": 1650347770595,
     "user": {
      "displayName": "Vadim Selin",
      "userId": "13742755250186020674"
     },
     "user_tz": -180
    },
    "id": "FDFSxZSGxRrO"
   },
   "outputs": [],
   "source": [
    "favorites_add_usr = df[df['event_name'] == 'favorites_add'].groupby('user_id').agg({'user_id': 'first'})"
   ]
  },
  {
   "cell_type": "markdown",
   "id": "U0AnK0rLxRrO",
   "metadata": {
    "id": "U0AnK0rLxRrO"
   },
   "source": [
    "- Теперь получу подмножество событий из датафрейма `df` для тех пользователей, кто не добавлял в избранное в течение записи лога"
   ]
  },
  {
   "cell_type": "code",
   "execution_count": null,
   "id": "CyHlcI-CxRrO",
   "metadata": {
    "executionInfo": {
     "elapsed": 51,
     "status": "ok",
     "timestamp": 1650347770595,
     "user": {
      "displayName": "Vadim Selin",
      "userId": "13742755250186020674"
     },
     "user_tz": -180
    },
    "id": "CyHlcI-CxRrO"
   },
   "outputs": [],
   "source": [
    "no_favorites_add_df = df[~df['user_id'].isin(favorites_add_usr.index)]"
   ]
  },
  {
   "cell_type": "code",
   "execution_count": null,
   "id": "nECNmNbvxRrO",
   "metadata": {
    "colab": {
     "base_uri": "https://localhost:8080/"
    },
    "executionInfo": {
     "elapsed": 51,
     "status": "ok",
     "timestamp": 1650347770596,
     "user": {
      "displayName": "Vadim Selin",
      "userId": "13742755250186020674"
     },
     "user_tz": -180
    },
    "id": "nECNmNbvxRrO",
    "outputId": "06db0ac9-5bfb-41ca-c424-9f7f5c092993"
   },
   "outputs": [],
   "source": [
    "no_favorites_add_df['event_name'].value_counts()"
   ]
  },
  {
   "cell_type": "code",
   "execution_count": null,
   "id": "54WPRcM8xRrO",
   "metadata": {
    "colab": {
     "base_uri": "https://localhost:8080/"
    },
    "executionInfo": {
     "elapsed": 48,
     "status": "ok",
     "timestamp": 1650347770596,
     "user": {
      "displayName": "Vadim Selin",
      "userId": "13742755250186020674"
     },
     "user_tz": -180
    },
    "id": "54WPRcM8xRrO",
    "outputId": "1c0ccd2f-2bd6-44ae-a288-8fc21fb90560"
   },
   "outputs": [],
   "source": [
    "len(no_favorites_add_df) / len(df)"
   ]
  },
  {
   "cell_type": "markdown",
   "id": "X83S46ZsxRrO",
   "metadata": {
    "id": "X83S46ZsxRrO"
   },
   "source": [
    "- Пользователи, которые не добавляют в избранное совершили большую часть событий (84% от общего числа)\n",
    "- Посчитаю их конверсию (все события - в целевое дейстие)"
   ]
  },
  {
   "cell_type": "code",
   "execution_count": null,
   "id": "77uN_ocjxRrO",
   "metadata": {
    "executionInfo": {
     "elapsed": 45,
     "status": "ok",
     "timestamp": 1650347770596,
     "user": {
      "displayName": "Vadim Selin",
      "userId": "13742755250186020674"
     },
     "user_tz": -180
    },
    "id": "77uN_ocjxRrO"
   },
   "outputs": [],
   "source": [
    "no_favorites_add_cr = len(no_favorites_add_df[no_favorites_add_df['event_name'] == 'contacts_show']) / len(no_favorites_add_df)"
   ]
  },
  {
   "cell_type": "code",
   "execution_count": null,
   "id": "0a5z4qOI7okU",
   "metadata": {
    "colab": {
     "base_uri": "https://localhost:8080/"
    },
    "executionInfo": {
     "elapsed": 44,
     "status": "ok",
     "timestamp": 1650347770596,
     "user": {
      "displayName": "Vadim Selin",
      "userId": "13742755250186020674"
     },
     "user_tz": -180
    },
    "id": "0a5z4qOI7okU",
    "outputId": "c369ca27-8699-4d52-cc22-62da43fdcacc"
   },
   "outputs": [],
   "source": [
    "no_favorites_add_cr"
   ]
  },
  {
   "cell_type": "markdown",
   "id": "hhW1fZMzxRrO",
   "metadata": {
    "id": "hhW1fZMzxRrO"
   },
   "source": [
    "- Процент конверсии событий в `contacts_show` ближе всего к 1-му сегменту (`cr_events = 5.74%`) опредённому по алгоритму `k-means`.\n",
    "- Проверю доли сегментов в выборке `no_favorites_add_df`."
   ]
  },
  {
   "cell_type": "code",
   "execution_count": null,
   "id": "9V8LTJakxRrP",
   "metadata": {
    "colab": {
     "base_uri": "https://localhost:8080/"
    },
    "executionInfo": {
     "elapsed": 42,
     "status": "ok",
     "timestamp": 1650347770597,
     "user": {
      "displayName": "Vadim Selin",
      "userId": "13742755250186020674"
     },
     "user_tz": -180
    },
    "id": "9V8LTJakxRrP",
    "outputId": "3d25cd1d-ccb3-424b-bc9d-10ffcae81c55"
   },
   "outputs": [],
   "source": [
    "no_favorites_add_df['cluster_km'].value_counts(normalize=True)"
   ]
  },
  {
   "cell_type": "markdown",
   "id": "3UJ2FYuo3Wp8",
   "metadata": {
    "id": "3UJ2FYuo3Wp8"
   },
   "source": [
    "### Получу конверсию по событиям `cr_events` для пользователей, которые не кликали на рекомендации и посмотрю в этом полученном сегменте доли кластеров от алгоритма `k-means`"
   ]
  },
  {
   "cell_type": "markdown",
   "id": "m_o38QJ63Zql",
   "metadata": {
    "id": "m_o38QJ63Zql"
   },
   "source": [
    "- Получу `user_id` всех пользователей, кто кликал на рекомендации."
   ]
  },
  {
   "cell_type": "code",
   "execution_count": null,
   "id": "1I-6wURa3Zqm",
   "metadata": {
    "executionInfo": {
     "elapsed": 38,
     "status": "ok",
     "timestamp": 1650347770597,
     "user": {
      "displayName": "Vadim Selin",
      "userId": "13742755250186020674"
     },
     "user_tz": -180
    },
    "id": "1I-6wURa3Zqm"
   },
   "outputs": [],
   "source": [
    "tips_click_usr = df[df['event_name'] == 'tips_click'].groupby('user_id').agg({'user_id': 'first'})"
   ]
  },
  {
   "cell_type": "markdown",
   "id": "QycsnPOG3Zqm",
   "metadata": {
    "id": "QycsnPOG3Zqm"
   },
   "source": [
    "- Теперь получу подмножество событий из датафрейма `df` для тех пользователей, кто не добавлял в избранное в течение записи лога"
   ]
  },
  {
   "cell_type": "code",
   "execution_count": null,
   "id": "hxClkHgo3Zqm",
   "metadata": {
    "executionInfo": {
     "elapsed": 38,
     "status": "ok",
     "timestamp": 1650347770597,
     "user": {
      "displayName": "Vadim Selin",
      "userId": "13742755250186020674"
     },
     "user_tz": -180
    },
    "id": "hxClkHgo3Zqm"
   },
   "outputs": [],
   "source": [
    "no_tips_click_df = df[~df['user_id'].isin(tips_click_usr.index)]"
   ]
  },
  {
   "cell_type": "code",
   "execution_count": null,
   "id": "LMlE-0CZ3Zqm",
   "metadata": {
    "colab": {
     "base_uri": "https://localhost:8080/"
    },
    "executionInfo": {
     "elapsed": 38,
     "status": "ok",
     "timestamp": 1650347770597,
     "user": {
      "displayName": "Vadim Selin",
      "userId": "13742755250186020674"
     },
     "user_tz": -180
    },
    "id": "LMlE-0CZ3Zqm",
    "outputId": "250ae2cd-5198-4c15-aa9c-ab693d362804"
   },
   "outputs": [],
   "source": [
    "no_tips_click_df['event_name'].value_counts()"
   ]
  },
  {
   "cell_type": "code",
   "execution_count": null,
   "id": "cHRl2JGn3Zqm",
   "metadata": {
    "colab": {
     "base_uri": "https://localhost:8080/"
    },
    "executionInfo": {
     "elapsed": 35,
     "status": "ok",
     "timestamp": 1650347770598,
     "user": {
      "displayName": "Vadim Selin",
      "userId": "13742755250186020674"
     },
     "user_tz": -180
    },
    "id": "cHRl2JGn3Zqm",
    "outputId": "ad97de25-a179-437d-c4b7-36d59771a4c4"
   },
   "outputs": [],
   "source": [
    "len(no_tips_click_df) / len(df)"
   ]
  },
  {
   "cell_type": "markdown",
   "id": "8AdvKWzB3Zqm",
   "metadata": {
    "id": "8AdvKWzB3Zqm"
   },
   "source": [
    "- Пользователи, которые не добавляют в избранное совершили большую часть событий (83% от общего числа)\n",
    "- Посчитаю их конверсию (все события - в целевое дейстие)"
   ]
  },
  {
   "cell_type": "code",
   "execution_count": null,
   "id": "1u63Gct43Zqn",
   "metadata": {
    "executionInfo": {
     "elapsed": 32,
     "status": "ok",
     "timestamp": 1650347770598,
     "user": {
      "displayName": "Vadim Selin",
      "userId": "13742755250186020674"
     },
     "user_tz": -180
    },
    "id": "1u63Gct43Zqn"
   },
   "outputs": [],
   "source": [
    "no_tips_click_cr = len(no_tips_click_df[no_tips_click_df['event_name'] == 'contacts_show']) / len(no_tips_click_df)"
   ]
  },
  {
   "cell_type": "code",
   "execution_count": null,
   "id": "OrYlpAtf7z1T",
   "metadata": {
    "colab": {
     "base_uri": "https://localhost:8080/"
    },
    "executionInfo": {
     "elapsed": 32,
     "status": "ok",
     "timestamp": 1650347770598,
     "user": {
      "displayName": "Vadim Selin",
      "userId": "13742755250186020674"
     },
     "user_tz": -180
    },
    "id": "OrYlpAtf7z1T",
    "outputId": "bafe62d1-e9da-4e41-8ea5-7604807e3e56"
   },
   "outputs": [],
   "source": [
    "no_tips_click_cr"
   ]
  },
  {
   "cell_type": "markdown",
   "id": "hsp8vO243Zqn",
   "metadata": {
    "id": "hsp8vO243Zqn"
   },
   "source": [
    "- Процент конверсии событий в `contacts_show` ближе всего к 1-му сегменту (`cr_events = 5.74%`) опредённому по алгоритму `k-means`.\n",
    "- Проверю доли сегментов в выборке `no_tips_click_df`."
   ]
  },
  {
   "cell_type": "code",
   "execution_count": null,
   "id": "bpTmxB6u3Zqn",
   "metadata": {
    "colab": {
     "base_uri": "https://localhost:8080/"
    },
    "executionInfo": {
     "elapsed": 30,
     "status": "ok",
     "timestamp": 1650347770599,
     "user": {
      "displayName": "Vadim Selin",
      "userId": "13742755250186020674"
     },
     "user_tz": -180
    },
    "id": "bpTmxB6u3Zqn",
    "outputId": "ba3132d1-d6d2-47f2-efb8-0b3456d69b01"
   },
   "outputs": [],
   "source": [
    "no_tips_click_df['cluster_km'].value_counts(normalize=True)"
   ]
  },
  {
   "cell_type": "markdown",
   "id": "UTzW-Ny9zwK0",
   "metadata": {
    "id": "UTzW-Ny9zwK0"
   },
   "source": [
    "- Из анализа конверсии по событиям `cr_events` в сегментах по несовершённым действиям (их пользователям) прихожу к выводу: \n",
    "  - что отбрасывая одно несовершённое событие, я не учитываю какие именно наборы других событий остались у пользователей в сегменте.\n",
    "  - таким образом мой \"ручной алгоритм\" основан на одном признаке - несовершённом событии.\n",
    "  - а в матрице расстояний (для дендрограммы) и алгоритме `k-means` эти события связанны (отсутствие или наличие по всем событиям и формирует матрицу признаков)\n",
    "  - к тому же существенные различия конверсии по событиям `cr_events` в сегментах полученных алгоритмом `k-means` говорят мне о разнице, между пользователями этих сегментов. Чего не наблюдается в сегментах по несовершённому событию, чья конверсия по событиям относительно близка к общей конверсии по всем пользователям в логе."
   ]
  },
  {
   "cell_type": "code",
   "execution_count": null,
   "id": "nVzye1W-yl-B",
   "metadata": {
    "executionInfo": {
     "elapsed": 26,
     "status": "ok",
     "timestamp": 1650347770599,
     "user": {
      "displayName": "Vadim Selin",
      "userId": "13742755250186020674"
     },
     "user_tz": -180
    },
    "id": "nVzye1W-yl-B"
   },
   "outputs": [],
   "source": [
    "all_cr = len(df[df['event_name'] == 'contacts_show']) / len(df)"
   ]
  },
  {
   "cell_type": "code",
   "execution_count": null,
   "id": "7I7PTYkY8tOF",
   "metadata": {
    "colab": {
     "base_uri": "https://localhost:8080/"
    },
    "executionInfo": {
     "elapsed": 25,
     "status": "ok",
     "timestamp": 1650347770599,
     "user": {
      "displayName": "Vadim Selin",
      "userId": "13742755250186020674"
     },
     "user_tz": -180
    },
    "id": "7I7PTYkY8tOF",
    "outputId": "5b18d55e-caaf-441f-d598-ffb3c2e98c3e"
   },
   "outputs": [],
   "source": [
    "all_cr"
   ]
  },
  {
   "cell_type": "code",
   "execution_count": null,
   "id": "WqKQpqe275mL",
   "metadata": {
    "colab": {
     "base_uri": "https://localhost:8080/"
    },
    "executionInfo": {
     "elapsed": 23,
     "status": "ok",
     "timestamp": 1650347770600,
     "user": {
      "displayName": "Vadim Selin",
      "userId": "13742755250186020674"
     },
     "user_tz": -180
    },
    "id": "WqKQpqe275mL",
    "outputId": "a3b11e66-6c9e-42c4-dcd9-9534c5d4f778"
   },
   "outputs": [],
   "source": [
    "print('Конверсия пользователей не смотревших фото:',round(no_photo_cr,3))\n",
    "print('Конверсия пользователей не смотревших карту:',round(no_map_cr,3))\n",
    "print('Конверсия пользователей не добавлявших в избранное:',round(no_favorites_add_cr,3))\n",
    "print('Конверсия пользователей игнорирующих рекомендации:',round(no_tips_click_cr,3))\n",
    "print('Конверсия в contacts_show всех пользователей:',round(all_cr,3))"
   ]
  },
  {
   "cell_type": "markdown",
   "id": "6mNve0r7-Se8",
   "metadata": {
    "id": "6mNve0r7-Se8"
   },
   "source": [
    "- Не очень сильно отличается конверсия по сегментам собранным по принципу \"не совершали событие\"\n",
    "    - Поэтому данный подход считаю менее удачным в сравнении с результатами алгоритма `k-means`\n",
    "    - Конверсия по сегментам `k-means` выглядит вот так."
   ]
  },
  {
   "cell_type": "code",
   "execution_count": null,
   "id": "HU2aH6tT-Nj8",
   "metadata": {
    "colab": {
     "base_uri": "https://localhost:8080/"
    },
    "executionInfo": {
     "elapsed": 20,
     "status": "ok",
     "timestamp": 1650347770600,
     "user": {
      "displayName": "Vadim Selin",
      "userId": "13742755250186020674"
     },
     "user_tz": -180
    },
    "id": "HU2aH6tT-Nj8",
    "outputId": "10d10dfa-13d9-45f1-f3cf-5b98d1ab159f"
   },
   "outputs": [],
   "source": [
    "round(cluster_cr['cr_events'],3)"
   ]
  },
  {
   "cell_type": "markdown",
   "id": "1780fb64",
   "metadata": {
    "id": "1780fb64"
   },
   "source": [
    "**Больший разброс значений конверсии более удобен для оценки и сравнения сегментов пользователей, поэтому алгоритм `k-means` предпочтительней в решении моей задачи**"
   ]
  },
  {
   "cell_type": "markdown",
   "id": "8aacf460",
   "metadata": {
    "id": "8aacf460"
   },
   "source": [
    "## Вывод о пользователях (на основании их метрик):\n",
    "- их ключевых характеристиках в рамках групп и возможных подходах к улучшению пользовательского опыта\n",
    "- сравнить качество объединения пользователей с помощью кластеризации и обычной сегментации по наиболее распростарнённым событиям.\n",
    "- **Выведу количество пользователей определённых алгоритмом `k-means` к каждому сегменту**"
   ]
  },
  {
   "cell_type": "code",
   "execution_count": null,
   "id": "96415e4e",
   "metadata": {
    "colab": {
     "base_uri": "https://localhost:8080/",
     "height": 206
    },
    "executionInfo": {
     "elapsed": 17,
     "status": "ok",
     "timestamp": 1650347770600,
     "user": {
      "displayName": "Vadim Selin",
      "userId": "13742755250186020674"
     },
     "user_tz": -180
    },
    "id": "96415e4e",
    "outputId": "42ceb642-abce-4d6f-d198-4a2b1f179a91"
   },
   "outputs": [],
   "source": [
    "df.groupby('cluster_km', as_index=False)['user_id'].nunique()"
   ]
  },
  {
   "cell_type": "markdown",
   "id": "4fee69f0",
   "metadata": {
    "id": "4fee69f0"
   },
   "source": [
    "- С точки зрения **`retention rate`** \n",
    "    - 0-й сегмент показывает наибольший процент удержания на все 3 последующие недели\n",
    "    - 1-й и 2-й сегменты показывают наименьшие проценты удержания. Причём у 2-го сегмента ещё самая низкая конверсия в целевое действие.\n",
    "    - На таких пользователях как раз стоит в первую очередь тестировать гипотезы по возвращению пользователей и повышению конверсии\n",
    "        - Как вариант, собрать ретроспективные данные по тем, кто всё-таки сконвертировался или более похож на тех, кто сконвертировался (если не хватает данных по конверсии), и посмотреть категории объявлений, которые они смотрели и сопоставить с теми объявлениями, на которых они(или пользователи, на которых они похожи) сконвертировались.\n",
    "        - На основе этих собранных данных тестировать систему рекомендаций, формирующую `tips_show` \n",
    "        - Усиливать (после согласования с маркетологами) рекомендации push-сообщениями и email-рассылкой.\n",
    "---\n",
    "- С точки зрения средней **длительности пользователской сессии**\n",
    "    - Пользователи 3-го и 4-го сегментов обладают наименьшей средней длительностью сессии (до 300 секунд)\n",
    "    - Но при этом они обладают далеко не самой низкой конверсей (4-го сегмент обладает самой высокой конверсией)\n",
    "        - На данном этапе исследования я бы отнёс длительность сессии к сигнальной метрике, обозначающей некую ватерлинию. Если показатели по сегментам падают ниже средних 300 секунд и при этом в целевом действии тоже просадка - тогда пользователи менее заинтересованы и не находят нужного в приложении - надо их возвращать и корректировать предложение для них.\n",
    "---\n",
    "- **Частота совершения событий** отличает пользователей сегментов практически зеркально длительности сессии\n",
    "    - Те пользователи, чьи сессии короче, совершают события с большей частотой\n",
    "    - Самая высокая частота у 4-го сегмента.\n",
    "        - В силу их самой высокой конверсии  (и по событиям и в перерасчёте на сессию), короткой сессии и высокой частоты, складывается предположение: это \"перекупщики\", которые уже приловчились к интерфейсу, и при небольшой своей численности совершают весомую долю сделок. Следует внимательно изучить этот сегмент пользователей и направить их деятельность не во вред сервису. Возможно, сделать специальные платные доп.опции мониторинга с оповещением.\n",
    "---\n",
    "- Средняя конверсия в целевое действие ` contacts_show` и выявила важнейшие различия между определёнными в `k-means` сегментами\n",
    "    - Самый конверсионный сегмент 4-й я уже обвинил в корыстном умысле и предложил их платные доп.опции\n",
    "    - Самый многочисленный сегмнет 1-й показывает вторую по порядку конверсию, которую можно и нужно растить\n",
    "        - Учитывая тот факт, что это самый большой сегмент - в нём наибольший простор для A/B-тестов по части рекомендаций в `tips_show`\n",
    "        - Также для самых медлительных участников 1-го сегмента (тех, чья частота - событие в минуту и больше) добавил бы в интерфейс подсветку наиболее оптимальных следующих нажатий на экране: мол, завис, друг? - жми сюда. Но естесственно в формате A/B теста \n",
    "     "
   ]
  },
  {
   "cell_type": "markdown",
   "id": "c973bfdf",
   "metadata": {
    "id": "c973bfdf"
   },
   "source": [
    "# Проверить статистические гипотезы"
   ]
  },
  {
   "cell_type": "markdown",
   "id": "16cd582a",
   "metadata": {
    "id": "16cd582a"
   },
   "source": [
    "## Проверить гипотезу о неравенстве  конверсий в `contacts_show` для пользователей, установивших приложение из разных истоников\n",
    "\n",
    "-  Нулевая гипотеза Н0: конверсии равны для установивших по ссылкам yandex и google\n",
    "-  Альтернативная гипотеза Н1 (двухсторонняя): конверсии не равны для установивших по ссылкам yandex и google\n",
    "-  Оценка гипотез будет проводиться с помощью `proportions_ztest`\n",
    "-  Уровень статистической значимости `alpha` задам равным `0.01`"
   ]
  },
  {
   "cell_type": "markdown",
   "id": "1d8d56ca",
   "metadata": {
    "id": "1d8d56ca"
   },
   "source": [
    "-  Посмотрю, какие источники есть и каковы масштабы выборок по источникам `yandex` и `google`"
   ]
  },
  {
   "cell_type": "code",
   "execution_count": null,
   "id": "f193d614",
   "metadata": {
    "executionInfo": {
     "elapsed": 16,
     "status": "ok",
     "timestamp": 1650347770600,
     "user": {
      "displayName": "Vadim Selin",
      "userId": "13742755250186020674"
     },
     "user_tz": -180
    },
    "id": "f193d614"
   },
   "outputs": [],
   "source": [
    "# все события по источникам\n",
    "source_events = df.groupby('source', as_index=False)['event_name'].count()"
   ]
  },
  {
   "cell_type": "code",
   "execution_count": null,
   "id": "a44a8916",
   "metadata": {
    "colab": {
     "base_uri": "https://localhost:8080/",
     "height": 143
    },
    "executionInfo": {
     "elapsed": 17,
     "status": "ok",
     "timestamp": 1650347770601,
     "user": {
      "displayName": "Vadim Selin",
      "userId": "13742755250186020674"
     },
     "user_tz": -180
    },
    "id": "a44a8916",
    "outputId": "6341c216-104d-46d1-920f-6f9a77fcdae1"
   },
   "outputs": [],
   "source": [
    "source_events"
   ]
  },
  {
   "cell_type": "code",
   "execution_count": null,
   "id": "338c7b64",
   "metadata": {
    "executionInfo": {
     "elapsed": 16,
     "status": "ok",
     "timestamp": 1650347770601,
     "user": {
      "displayName": "Vadim Selin",
      "userId": "13742755250186020674"
     },
     "user_tz": -180
    },
    "id": "338c7b64"
   },
   "outputs": [],
   "source": [
    "# просмотры контактов по источникам\n",
    "source_conversions = (\n",
    "    df[df['event_name'] == 'contacts_show']\n",
    "    .groupby('source', as_index=False)['event_name'].count()\n",
    ")"
   ]
  },
  {
   "cell_type": "code",
   "execution_count": null,
   "id": "34de1a2e",
   "metadata": {
    "colab": {
     "base_uri": "https://localhost:8080/",
     "height": 143
    },
    "executionInfo": {
     "elapsed": 304,
     "status": "ok",
     "timestamp": 1650347770889,
     "user": {
      "displayName": "Vadim Selin",
      "userId": "13742755250186020674"
     },
     "user_tz": -180
    },
    "id": "34de1a2e",
    "outputId": "25f3fffb-9845-48f1-ef0d-146fcb68b9f8"
   },
   "outputs": [],
   "source": [
    "source_conversions"
   ]
  },
  {
   "cell_type": "markdown",
   "id": "711ec57f",
   "metadata": {
    "id": "711ec57f"
   },
   "source": [
    "- Выборки по интересующим нас источникам отличаются менее чем в 2 раза. Считаю их соизмеримыми для сравнения пропорций.\n",
    "- Поскольку сравнивать буду пропорции в z-test, подготовлю выборки для пропорций, а именно:\n",
    "    - количества конверсионных событий в выборках `yandex` и `google`\n",
    "    - количество всех событий в выборках `yandex` и `google`.\n",
    "    - в данном случае я оцениваю именно по событиям, а не по пользователям и конверсионным действиям, потому что большинство пользователей за период записи лога заходили неоднократно и конверсионные действия некоторые пользователи тоже совершали не раз."
   ]
  },
  {
   "cell_type": "code",
   "execution_count": null,
   "id": "b991c0d9",
   "metadata": {
    "executionInfo": {
     "elapsed": 29,
     "status": "ok",
     "timestamp": 1650347770889,
     "user": {
      "displayName": "Vadim Selin",
      "userId": "13742755250186020674"
     },
     "user_tz": -180
    },
    "id": "b991c0d9"
   },
   "outputs": [],
   "source": [
    "# количество конверсионных действий в группе google\n",
    "google_cr = source_conversions.iloc[0][1]"
   ]
  },
  {
   "cell_type": "code",
   "execution_count": null,
   "id": "f5da0f70",
   "metadata": {
    "executionInfo": {
     "elapsed": 29,
     "status": "ok",
     "timestamp": 1650347770889,
     "user": {
      "displayName": "Vadim Selin",
      "userId": "13742755250186020674"
     },
     "user_tz": -180
    },
    "id": "f5da0f70"
   },
   "outputs": [],
   "source": [
    "# количество конверсионных действий в группе yandex\n",
    "yandex_cr = source_conversions.iloc[2][1]"
   ]
  },
  {
   "cell_type": "code",
   "execution_count": null,
   "id": "8df96b7e",
   "metadata": {
    "executionInfo": {
     "elapsed": 30,
     "status": "ok",
     "timestamp": 1650347770890,
     "user": {
      "displayName": "Vadim Selin",
      "userId": "13742755250186020674"
     },
     "user_tz": -180
    },
    "id": "8df96b7e"
   },
   "outputs": [],
   "source": [
    "# количество всех событий в группе google\n",
    "google_events = source_events.iloc[0][1]"
   ]
  },
  {
   "cell_type": "code",
   "execution_count": null,
   "id": "8b63f46f",
   "metadata": {
    "executionInfo": {
     "elapsed": 30,
     "status": "ok",
     "timestamp": 1650347770890,
     "user": {
      "displayName": "Vadim Selin",
      "userId": "13742755250186020674"
     },
     "user_tz": -180
    },
    "id": "8b63f46f"
   },
   "outputs": [],
   "source": [
    "# количество всех событий в группе yandex\n",
    "yandex_events = source_events.iloc[2][1]"
   ]
  },
  {
   "cell_type": "code",
   "execution_count": null,
   "id": "d17a1976",
   "metadata": {
    "executionInfo": {
     "elapsed": 29,
     "status": "ok",
     "timestamp": 1650347770890,
     "user": {
      "displayName": "Vadim Selin",
      "userId": "13742755250186020674"
     },
     "user_tz": -180
    },
    "id": "d17a1976"
   },
   "outputs": [],
   "source": [
    "zstat, pval = proportions_ztest([google_cr, yandex_cr],[google_events, yandex_events])"
   ]
  },
  {
   "cell_type": "code",
   "execution_count": null,
   "id": "d0f1909e",
   "metadata": {
    "executionInfo": {
     "elapsed": 30,
     "status": "ok",
     "timestamp": 1650347770891,
     "user": {
      "displayName": "Vadim Selin",
      "userId": "13742755250186020674"
     },
     "user_tz": -180
    },
    "id": "d0f1909e"
   },
   "outputs": [],
   "source": [
    "alpha = 0.01"
   ]
  },
  {
   "cell_type": "code",
   "execution_count": null,
   "id": "dc59a6ed",
   "metadata": {
    "colab": {
     "base_uri": "https://localhost:8080/"
    },
    "executionInfo": {
     "elapsed": 30,
     "status": "ok",
     "timestamp": 1650347770891,
     "user": {
      "displayName": "Vadim Selin",
      "userId": "13742755250186020674"
     },
     "user_tz": -180
    },
    "id": "dc59a6ed",
    "outputId": "44501bb5-ddbe-4125-b78e-5855ce194979"
   },
   "outputs": [],
   "source": [
    "print('p-значение: ', pval)\n",
    "if pval < alpha:\n",
    "    print('Отвергаем нулевую гипотезу: между долями есть значимая разница.')\n",
    "else:\n",
    "    print(\n",
    "        'Не получилось отвергнуть нулевую гипотезу, нет оснований считать доли разными.')"
   ]
  },
  {
   "cell_type": "code",
   "execution_count": null,
   "id": "48373cf7",
   "metadata": {
    "colab": {
     "base_uri": "https://localhost:8080/"
    },
    "executionInfo": {
     "elapsed": 26,
     "status": "ok",
     "timestamp": 1650347770891,
     "user": {
      "displayName": "Vadim Selin",
      "userId": "13742755250186020674"
     },
     "user_tz": -180
    },
    "id": "48373cf7",
    "outputId": "1adc1dc3-d91b-45f1-c41d-2c3ad0c0b476"
   },
   "outputs": [],
   "source": [
    "round(google_cr/google_events, 4)"
   ]
  },
  {
   "cell_type": "code",
   "execution_count": null,
   "id": "e6f29695",
   "metadata": {
    "colab": {
     "base_uri": "https://localhost:8080/"
    },
    "executionInfo": {
     "elapsed": 23,
     "status": "ok",
     "timestamp": 1650347770892,
     "user": {
      "displayName": "Vadim Selin",
      "userId": "13742755250186020674"
     },
     "user_tz": -180
    },
    "id": "e6f29695",
    "outputId": "01420f9f-1191-4ca2-b146-fcafec8a1fc9"
   },
   "outputs": [],
   "source": [
    "round(yandex_cr/yandex_events, 4)"
   ]
  },
  {
   "cell_type": "markdown",
   "id": "0a792473",
   "metadata": {
    "id": "0a792473"
   },
   "source": [
    "- Проверю ту же самую нулевую гипотезу, только альтернативная будет уже односторонней: конверсия (пропорция) в целевое событие в сегменте `google` больше."
   ]
  },
  {
   "cell_type": "code",
   "execution_count": null,
   "id": "3065b9ce",
   "metadata": {
    "executionInfo": {
     "elapsed": 20,
     "status": "ok",
     "timestamp": 1650347770892,
     "user": {
      "displayName": "Vadim Selin",
      "userId": "13742755250186020674"
     },
     "user_tz": -180
    },
    "id": "3065b9ce"
   },
   "outputs": [],
   "source": [
    "zstat, pval = (\n",
    "    proportions_ztest(\n",
    "        [google_cr, yandex_cr],\n",
    "        [google_events, yandex_events], \n",
    "        alternative='larger')\n",
    ")"
   ]
  },
  {
   "cell_type": "code",
   "execution_count": null,
   "id": "eaa53cf3",
   "metadata": {
    "colab": {
     "base_uri": "https://localhost:8080/"
    },
    "executionInfo": {
     "elapsed": 20,
     "status": "ok",
     "timestamp": 1650347770892,
     "user": {
      "displayName": "Vadim Selin",
      "userId": "13742755250186020674"
     },
     "user_tz": -180
    },
    "id": "eaa53cf3",
    "outputId": "00d4a5ea-0841-42c1-80bd-abea9aef713d"
   },
   "outputs": [],
   "source": [
    "print('p-значение: ', pval)\n",
    "if pval < alpha:\n",
    "    print('Отвергаем нулевую гипотезу: у скачавших приложение из google доля целевых действий выше.')\n",
    "else:\n",
    "    print(\n",
    "        'Не получилось отвергнуть нулевую гипотезу, нет оснований считать доли разными.')"
   ]
  },
  {
   "cell_type": "markdown",
   "id": "803778b2",
   "metadata": {
    "id": "803778b2"
   },
   "source": [
    "- Доля конверсионных действий больше в сегменте пользователей, скачавших приложение с `google` для данных из нашего лога\n",
    "- Для более серьёзных оценок стоит на более продолжительном отрезке времени проводить это исследование и с разными методиками"
   ]
  },
  {
   "cell_type": "markdown",
   "id": "c1fb49be",
   "metadata": {
    "id": "c1fb49be"
   },
   "source": [
    "## Проверить гипотезу о неравенстве  конверсий в `contacts_show` для пользователей, которые смотрели фотографии в объявлении и не смотрели\n",
    "\n",
    "-  Нулевая гипотеза Н0: конверсии равны для тех, кто совершал `photos_show` и не совершал.\n",
    "-  Альтернативная гипотеза Н1 (двухсторонняя): конверсии не равны для тех, кто совершал `photos_show` и не совершал.\n",
    "-  Оценка гипотез будет проводиться с помощью `proportions_ztest`\n",
    "-  Уровень статистической значимости `alpha` задам равным `0.01`"
   ]
  },
  {
   "cell_type": "markdown",
   "id": "0981b5e6",
   "metadata": {
    "id": "0981b5e6"
   },
   "source": [
    "- Возьму выборку событий пользователей, которые совершали просмотры фото и тех, кто не просматривал фото в объявлениях\n",
    "    - Формировал их ранее, когда проверял сегментацию без алгоритмов кластеризации."
   ]
  },
  {
   "cell_type": "code",
   "execution_count": null,
   "id": "ab90d912",
   "metadata": {
    "executionInfo": {
     "elapsed": 16,
     "status": "ok",
     "timestamp": 1650347770892,
     "user": {
      "displayName": "Vadim Selin",
      "userId": "13742755250186020674"
     },
     "user_tz": -180
    },
    "id": "ab90d912"
   },
   "outputs": [],
   "source": [
    "# количество всех событий в группе не смотрящих на фото\n",
    "no_photo_events = df[~df['user_id'].isin(photos_show_usr.index)].shape[0]"
   ]
  },
  {
   "cell_type": "code",
   "execution_count": null,
   "id": "0be54053",
   "metadata": {
    "executionInfo": {
     "elapsed": 17,
     "status": "ok",
     "timestamp": 1650347770893,
     "user": {
      "displayName": "Vadim Selin",
      "userId": "13742755250186020674"
     },
     "user_tz": -180
    },
    "id": "0be54053"
   },
   "outputs": [],
   "source": [
    "# количество всех событий в группе смотрящих на фото\n",
    "photos_show_events = df[df['user_id'].isin(photos_show_usr.index)].shape[0]"
   ]
  },
  {
   "cell_type": "code",
   "execution_count": null,
   "id": "00a167c3",
   "metadata": {
    "executionInfo": {
     "elapsed": 16,
     "status": "ok",
     "timestamp": 1650347770893,
     "user": {
      "displayName": "Vadim Selin",
      "userId": "13742755250186020674"
     },
     "user_tz": -180
    },
    "id": "00a167c3"
   },
   "outputs": [],
   "source": [
    "# количество конверсионных действий в группе не смотрящих на фото\n",
    "no_photo_cr = df[(~df['user_id'].isin(photos_show_usr.index)) & (df['event_name']=='contacts_show')].shape[0]"
   ]
  },
  {
   "cell_type": "code",
   "execution_count": null,
   "id": "fb66c3c4",
   "metadata": {
    "executionInfo": {
     "elapsed": 16,
     "status": "ok",
     "timestamp": 1650347770893,
     "user": {
      "displayName": "Vadim Selin",
      "userId": "13742755250186020674"
     },
     "user_tz": -180
    },
    "id": "fb66c3c4"
   },
   "outputs": [],
   "source": [
    "# количество конверсионных действий в группе смотрящих на фото\n",
    "photo_cr = df[(df['user_id'].isin(photos_show_usr.index)) & (df['event_name']=='contacts_show')].shape[0]"
   ]
  },
  {
   "cell_type": "code",
   "execution_count": null,
   "id": "127a19cc",
   "metadata": {
    "executionInfo": {
     "elapsed": 16,
     "status": "ok",
     "timestamp": 1650347770893,
     "user": {
      "displayName": "Vadim Selin",
      "userId": "13742755250186020674"
     },
     "user_tz": -180
    },
    "id": "127a19cc"
   },
   "outputs": [],
   "source": [
    "zstat, pval = proportions_ztest([no_photo_cr, photo_cr],[no_photo_events, photos_show_events])"
   ]
  },
  {
   "cell_type": "code",
   "execution_count": null,
   "id": "3d8ae18b",
   "metadata": {
    "colab": {
     "base_uri": "https://localhost:8080/"
    },
    "executionInfo": {
     "elapsed": 17,
     "status": "ok",
     "timestamp": 1650347770894,
     "user": {
      "displayName": "Vadim Selin",
      "userId": "13742755250186020674"
     },
     "user_tz": -180
    },
    "id": "3d8ae18b",
    "outputId": "365df07a-d043-46a2-d06e-1dda318dae90"
   },
   "outputs": [],
   "source": [
    "print('p-значение: ', pval)\n",
    "if pval < alpha:\n",
    "    print('Отвергаем нулевую гипотезу: между долями есть значимая разница.')\n",
    "else:\n",
    "    print(\n",
    "        'Не получилось отвергнуть нулевую гипотезу, нет оснований считать доли разными.')"
   ]
  },
  {
   "cell_type": "code",
   "execution_count": null,
   "id": "241239ec",
   "metadata": {
    "colab": {
     "base_uri": "https://localhost:8080/"
    },
    "executionInfo": {
     "elapsed": 13,
     "status": "ok",
     "timestamp": 1650347770894,
     "user": {
      "displayName": "Vadim Selin",
      "userId": "13742755250186020674"
     },
     "user_tz": -180
    },
    "id": "241239ec",
    "outputId": "1ebb7639-51b0-449f-f3bb-1342741cde3d"
   },
   "outputs": [],
   "source": [
    "round(no_photo_cr/no_photo_events, 4)"
   ]
  },
  {
   "cell_type": "code",
   "execution_count": null,
   "id": "fc1ed10a",
   "metadata": {
    "colab": {
     "base_uri": "https://localhost:8080/"
    },
    "executionInfo": {
     "elapsed": 491,
     "status": "ok",
     "timestamp": 1650347771375,
     "user": {
      "displayName": "Vadim Selin",
      "userId": "13742755250186020674"
     },
     "user_tz": -180
    },
    "id": "fc1ed10a",
    "outputId": "df7577b6-dd5b-4f44-e4fc-d1b32fabd73c"
   },
   "outputs": [],
   "source": [
    "round(photo_cr/photos_show_events, 4)"
   ]
  },
  {
   "cell_type": "markdown",
   "id": "bd98291b",
   "metadata": {
    "id": "bd98291b"
   },
   "source": [
    "- Проверю ту же самую нулевую гипотезу, только альтернативная будет уже односторонней: конверсия (пропорция) в целевое событие среди тех, кто просматривает фото, больше."
   ]
  },
  {
   "cell_type": "code",
   "execution_count": null,
   "id": "4a77d4d1",
   "metadata": {
    "executionInfo": {
     "elapsed": 8,
     "status": "ok",
     "timestamp": 1650347771375,
     "user": {
      "displayName": "Vadim Selin",
      "userId": "13742755250186020674"
     },
     "user_tz": -180
    },
    "id": "4a77d4d1"
   },
   "outputs": [],
   "source": [
    "zstat, pval = (\n",
    "    proportions_ztest(\n",
    "        [no_photo_cr, photo_cr],\n",
    "        [no_photo_events, photos_show_events], \n",
    "        alternative='smaller')\n",
    ")"
   ]
  },
  {
   "cell_type": "code",
   "execution_count": null,
   "id": "fdb5d502",
   "metadata": {
    "colab": {
     "base_uri": "https://localhost:8080/"
    },
    "executionInfo": {
     "elapsed": 8,
     "status": "ok",
     "timestamp": 1650347771375,
     "user": {
      "displayName": "Vadim Selin",
      "userId": "13742755250186020674"
     },
     "user_tz": -180
    },
    "id": "fdb5d502",
    "outputId": "7229fa82-8b51-4676-c39d-fc54298628ae"
   },
   "outputs": [],
   "source": [
    "print('p-значение: ', pval)\n",
    "if pval < alpha:\n",
    "    print('Отвергаем нулевую гипотезу: среди тех, кто смотрит фото, доля целевых действий выше.')\n",
    "else:\n",
    "    print(\n",
    "        'Не получилось отвергнуть нулевую гипотезу, нет оснований считать доли разными.')"
   ]
  },
  {
   "cell_type": "markdown",
   "id": "e94a3a69",
   "metadata": {
    "id": "e94a3a69"
   },
   "source": [
    "- Доля конверсионных действий больше в сегменте пользователей, просматривающих фото (для данных из нашего лога)\n",
    "- Поэтому стоит следить за качеством загружаемых фотографий, а в перспективе, возможно разработать алгоритм для автоматической модерации изображений (как есть в рекламных сервисах)"
   ]
  },
  {
   "cell_type": "markdown",
   "id": "91679ea3",
   "metadata": {
    "id": "91679ea3"
   },
   "source": [
    "# Общий вывод по исследованию с описанием аудиторий и возможными подходами работы с ними.\n",
    "\n"
   ]
  },
  {
   "cell_type": "markdown",
   "id": "6f650c29",
   "metadata": {
    "id": "6f650c29"
   },
   "source": [
    "- Среднее `DAU` в приложении 279.\n",
    "- Среднее `WAU` составляет 1385,5\n",
    "- Со второй недели число уникальных пользователей превышает 1400.\n",
    "- Но после 3-й недели фиксирую спад.\n",
    "- Это связано с показателем `retention rate`.\n",
    "\n",
    "- За период записи лога:\n",
    "    - Мода составляет 5 событий на пользователя\n",
    "    - А максимум равен 478 событиям, что нельзя назвать аномалией на мой взгляд: это в среднем 17 событий в день. В обычной жизни многие пользуются приложениями годами на ежедневной основе, а не один раз.\n",
    "    - Даже для отдельных, наиболее щедрых на события пользователей, актуально утверждение:\n",
    "        - кто раньше начал пользоваться приложеним, тот успел больше совершить событий\n",
    "        - поэтому считать таковых пользователей аномальными и исключать из кластеризации я не буду\n",
    "---\n",
    "- В качестве алгоритма для определения числа сегмнетов пользователей в выборке избрал агломеративную иерархическую кластеризацию\n",
    "    - Результатом а стали 5 сегментов пользователей\n",
    "    - Применил алгоритм k-means с числом кластеров 5, чтобы получить вектор сегментов (присоединил его к основному датафрейму)\n",
    "---\n",
    "- При изучении соотношения числа пользователей в сегменте и количества событий ими совершёнными выяснил:\n",
    "    - Что есть сегменты с меньшим числом пользователей, но большим числом событий. Так пользователи 2-го сегмента при количестве почти равном 3-му совершили более чем в два раза больше событий. Активность полученных сегментов существенно различается.\n",
    "---\n",
    "- Коэффициент удержания `retention rate` по сегментам.    \n",
    "    - На вторую неделю жизни разница в удержании пользователей между сегментами уже существенно отличается\n",
    "    - Самые \"верные\" пользователи `0`- сегмента на протяжении всех недель демонстрируют наибольшие показатели по удержанию\n",
    "    - У самого многочисленного `1`- сегмента коэффициент удержания один из худших, особенно после третьей недели жизни когорты \n",
    "    - С этим связано падение `WAU`, замеченное после третьей недели\n",
    "    - Быстрее всех со второй недели разбегаются пользователи `2`- сегмента\n",
    "    \n",
    "         Этих ребят можно и нужно возвращать в приложение email рассылкой c лучшими подборками, сделанными на основе их поисковых действий. Тут также можно применить алгоритм машинного обучения по ретро-данным \"кто что купил и что он перед этим смотрел и какие события совершал\"\n",
    "    \n",
    "---\n",
    "\n",
    "- Пользовательские сессии определил в привязке ко времени бездействия между событиями:\n",
    "    - Если пользователь не был активен 7 и более минут - следующее за бездействием событие стартует следующую сессию\n",
    "    - Это также обусловленно количеством контента (описание, фото, карты), которое может изучать средний пользователь до совершения следующего события.\n",
    "    - Длительность сессии при этом не ограничена\n",
    "    - **Для применения этого подхода к моим данным ввёл такое допущение:**\n",
    "        - в данном логе любое самое первое событие для каждого пользователя является началом сессии, то есть нет пользователей, которые уже находились в сессии в момент начала записи лога. \n",
    "    \n",
    "---\n",
    "- Средний и медианный размеры пользовательских сессий:\n",
    "    - У самого многочисленного 1-го сегмента самые большие серднее и медианное значение длительности сеанса: 593.2с ;378с соответственно \n",
    "    - Также у этого сегмента наибольшее количество выбросов (судя по выводу `boxplot`)\n",
    "    - Хотя отбрасывать их безусловно не стоит, потому что максимальное значение в этих выбросах соответствует 2.14 часа\n",
    "    - Кто-то? может, долго искал необходимую вещь. Быть может, подержанный макбук или что-то ещё, что может требует внимания и сравнения.\n",
    "    - Также возвращаясь к `retention rate`, у этого сегмента он тоже самый низкий к 3-й неделе:\n",
    "        - Начинает закрадываться мысль, что чем дольше средняя продолжительность сеанса в сегменте, тем лучше его пользователи находят то, что им нужно, получают контакты продавца и товар. После этого они выпадают из ближайших по неделям когорт.\n",
    "    - В этой связи стоит работать над увеличением качества поиска как мотивации для увеличения средней пользовательской сессии.    \n",
    "\n",
    "\n",
    "- Большинство сессий, в которых частота событий равна или выше 1-го события в секунду (60 в минуту)\n",
    "    - Содержат в себе лишь 2 события\n",
    "    - Лишь в 5 сессиях с такой высокой частотой было совершено от 6 до 15 событий\n",
    "    - Подавляющее большинство, это всё-таки 2-3 события\n",
    "    - Это по большей части автоматические события `tips_show`, на которые могли наложиться пользовательские тапы с минимальной задержкой. Или же быстрое пролистывание фото.\n",
    "---\n",
    "\n",
    "- Частота событий в минуту (потому что сессии не имеют одинаковой размерности)\n",
    "    - Примечательно, что пользователи с самой длинной в среднем сессией (`1`-сегмент) обладают самыми низкими частотами событий в минуту (медиана на 0.9)\n",
    "    - Ребята просто медленнее выбирают, поэтому в среднем больше сидят\n",
    "    - Выделяется `2`-сегмент, у которого и сессия достаточно длинная (466.4-средняя; 289-медианна) и частота событий в минуту одна из самых высоких (и медиана 1.4 и среднее 4.6)\n",
    "    - Одни из самых активных пользоватлей по частоте событий и длительности сессии пока получаются в сегменте 2\n",
    "    \n",
    "---\n",
    "\n",
    "- Конверсия сегментов в целевое цействие `contacts_show`\n",
    "    \n",
    "    - Лидирует 4-й сегмент с наибольшей долей целевых событий на сессию и на общее число событий этого сегмента (тут показатели сногсшибательные 55.14%)\n",
    "  - В прошлом пункте при рассчёте средней частоты событий в минуту по сегментам, у 4-го эта частота была наибольшей:\n",
    "  - Вырисовывается сценнарий использоватния:\n",
    "        - Пользователи приходят в приложение ненадолго: среднее 283с, медианна 168.5с\n",
    "        - Совершают события с самой высокой частотой: среднее 9 соб/мин, медиана 1.5 соб/мин \n",
    "        - Совершают пропорционально большинство целевых действий и относительно сеансов и относительно всех событий этих пользователей.\n",
    "        - 4-й сегмент самый малочисленный, но самый активный с позиции совершения `contacts_show`\n",
    "        - Вероятно, в этом сегменте оказались те пользователи, для которых покупка товаров через приложение - обычное рутинное дело.\n",
    "        - Для них стоит проводить отдельные тесты по эффективности подбора `tips_show`, с целью выявления лучшего алгоритма рекомендаций, который положительно влияет на рост коверсии (как относительно сессии, так и относительно всех совершённых событий).\n",
    "    - Также неплохой конверсией обладает самый многочисленный сегмент 1-ый:\n",
    "        - 5,74% всех их событий - просмотр контактов.\n",
    "        - 33% их сессий включает просмотр контактов.\n",
    "        - Тест алгоритма подбора `tips_show` (и его влияния на `cr`) для этого сегмента - также необходим, поскольку суммарное количество целевых действий этого сегмента наибольшее во всей выборке. И даже при меньшем измененеии `cr` в эторм сегменте относительно `cr` 4-го сегмента мы можем получить бОльший прирост событий `contacts_show` в абсолютном выражении.\n",
    "- Вышесказанное не означает, что остальные определённые сегменты надо оставить в стороне, это вопрос определения первоочередных приоритетов.\n",
    "\n",
    "---\n",
    "- **Рекомендации для сегментов пользователей**\n",
    "    - 1-й и 2-й сегменты показывают наименьшие проценты удержания. Причём у 2-го сегмента ещё самая низкая конверсия в целевое действие.\n",
    "    - На таких пользователях как раз стоит в первую очередь тестировать гипотезы по возвращению пользователей и повышению конверсии\n",
    "    - Как вариант, собрать ретроспективные данные по тем, кто всё-таки сконвертировался или более похож на тех, кто сконвертировался (если не хватает данных по конверсии), и посмотреть категории объявлений, которые они смотрели и сопоставить с теми объявлениями, на которых они(или пользователи, на которых они похожи) сконвертировались.\n",
    "    - На основе этих собранных данных тестировать систему рекомендаций, формирующую `tips_show` \n",
    "    - Усиливать (после согласования с маркетологами) рекомендации push-сообщениями и email-рассылкой.\n",
    "---\n",
    "- С точки зрения средней **длительности пользователской сессии**\n",
    "    - Пользователи 3-го и 4-го сегментов обладают наименьшей средней длительностью сессии (до 300 секунд)\n",
    "    - Но при этом они обладают далеко не самой низкой конверсей (4-го сегмент обладает самой высокой конверсией)\n",
    "    - На данном этапе исследования я бы отнёс длительность сессии к сигнальной метрике, обозначающей некую ватерлинию. Если показатели по сегментам падают ниже средних 300 секунд и при этом в целевом действии тоже просадка - тогда пользователи менее заинтересованы и не находят нужного в приложении - надо их возвращать и корректировать предложение для них. ВОзможные подходы описал в абзаце выше.\n",
    "---\n",
    "- **Частота совершения событий** отличает пользователей сегментов практически зеркально длительности сессии\n",
    "    - Те пользователи, чьи сессии короче, совершают события с большей частотой\n",
    "    - Самая высокая частота у 4-го сегмента.\n",
    "    - В силу их самой высокой конверсии  (и по событиям и в перерасчёте на сессию), короткой сессии и высокой частоты, складывается предположение: это \"перекупщики\", которые уже приловчились к интерфейсу, и при небольшой своей численности совершают весомую долю сделок.\n",
    "    - Следует внимательно изучить этот сегмент пользователей и направить их деятельность не во вред сервису. Возможно, сделать специальные платные доп.опции мониторинга с оповещением.\n",
    "---\n",
    "- **Средняя конверсия в целевое действие** ` contacts_show` и выявила важнейшие различия между определёнными в `k-means` сегментами\n",
    "    - Самый конверсионный сегмент 4-й я уже обвинил в корыстном умысле и предложил их платные доп.опции\n",
    "    - Самый многочисленный сегмнет 1-й показывает вторую по порядку конверсию, которую можно и нужно наращивать.\n",
    "        - Учитывая тот факт, что это самый большой сегмент - в нём наибольший простор для A/B-тестов по части рекомендаций в `tips_show`\n",
    "        - Также для самых медлительных участников 1-го сегмента (тех, чья частота - событие в минуту и больше) добавил бы в интерфейс подсветку наиболее оптимальных следующих нажатий на экране: мол, завис, друг? - жми сюда. Но естесственно в формате A/B теста \n",
    "     \n",
    "---\n",
    "- **Результаты проверок статистических гипотез**\n",
    "  - Доля конверсионных действий больше в сегменте пользователей, скачавших приложение с `google` для данных из нашего лога\n",
    "  - `google_cr = 0.0704` против `yandex_cr = 0.0594`\n",
    "\n",
    "\n",
    "  - Доля конверсионных действий больше в сегменте пользователей, просматривающих фото (для данных из нашего лога)\n",
    "  - `no_photo_cr = 0.0588` против `photo_cr = 0.0694`\n",
    "  - Поэтому стоит следить за качеством загружаемых фотографий, а в перспективе, возможно разработать алгоритм для автоматической модерации изображений (как есть в рекламных сервисах)\n",
    "    \n",
    "\n",
    "\n",
    "\n",
    "\n",
    "\n"
   ]
  },
  {
   "cell_type": "markdown",
   "id": "nVPqIHqLt6WE",
   "metadata": {
    "id": "nVPqIHqLt6WE"
   },
   "source": [
    "<div class=\"alert alert-success\" style=\"border-radius: 15px; box-shadow: 4px 4px 4px; border: 1px solid \" > <b>Комментарии от тимлида ✔️ : </b> \n",
    "    \n",
    "Спасибо за декомпозицию! По общей структуре всё отлично и все подпункты расписаны подробно. Ты хорошо постарался)\n",
    "    \n",
    "Единственное, DAU\\WAU логичнее отнести к исследовательскому этапу, а не кластеризации.\n",
    "    \n",
    "А в целом, получилась достаточно грамотная декомпозиция.\n",
    "    \n",
    "Собственная гипотеза рабочая. Данные результаты будут полезны для отдела менеджмента, чтобы оценить добавление этого функционала\n",
    "    \n",
    "Можно приступать к выполнения проекта.\n",
    "</div>"
   ]
  }
 ],
 "metadata": {
  "colab": {
   "collapsed_sections": [],
   "name": "review_mobile_app_segmentation_selin_da33.ipynb",
   "provenance": [],
   "toc_visible": true
  },
  "kernelspec": {
   "display_name": "Python 3 (ipykernel)",
   "language": "python",
   "name": "python3"
  },
  "language_info": {
   "codemirror_mode": {
    "name": "ipython",
    "version": 3
   },
   "file_extension": ".py",
   "mimetype": "text/x-python",
   "name": "python",
   "nbconvert_exporter": "python",
   "pygments_lexer": "ipython3",
   "version": "3.9.12"
  },
  "toc": {
   "base_numbering": 1,
   "nav_menu": {},
   "number_sections": true,
   "sideBar": true,
   "skip_h1_title": false,
   "title_cell": "Table of Contents",
   "title_sidebar": "Contents",
   "toc_cell": false,
   "toc_position": {
    "height": "calc(100% - 180px)",
    "left": "10px",
    "top": "150px",
    "width": "243.018px"
   },
   "toc_section_display": true,
   "toc_window_display": true
  }
 },
 "nbformat": 4,
 "nbformat_minor": 5
}
