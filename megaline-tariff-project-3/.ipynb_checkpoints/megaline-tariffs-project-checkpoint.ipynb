{
 "cells": [
  {
   "cell_type": "markdown",
   "metadata": {},
   "source": [
    "# Определение выгодного тарифа для телеком компании."
   ]
  },
  {
   "cell_type": "markdown",
   "metadata": {},
   "source": [
    "**Описание тарифов**\n",
    "\n",
    "**Тариф «Смарт»**\n",
    "\n",
    "\n",
    "\n",
    "1.   Ежемесячная плата: 550 рублей\n",
    "2.   Включено 500 минут разговора, 50 сообщений и 15 Гб интернет-трафика\n",
    "3.   Стоимость услуг сверх тарифного пакета: 1. минута разговора: 3 рубля (Компания всегда округляет вверх значения минут и мегабайтов. Если пользователь проговорил всего 1 секунду, в тарифе засчитывается целая минута); 2. сообщение: 3 рубля; 3. 1 Гб интернет-трафика: 200 рублей.\n",
    "\n",
    "**Тариф «Ультра»**\n",
    "\n",
    "\n",
    "\n",
    "1.   Ежемесячная плата: 1950 рублей\n",
    "2.   Включено 3000 минут разговора, 1000 сообщений и 30 Гб интернет-трафика\n",
    "3.   Стоимость услуг сверх тарифного пакета: 1. минута разговора: 1 рубль; 2. сообщение: 1 рубль; 3. 1 Гб интернет-трафика: 150 рублей.\n",
    "\n",
    "**Примечание:**\n",
    "\n",
    "Компания всегда округляет секунды до минут, а мегабайты — до гигабайт. Каждый звонок округляется отдельно: даже если он длился всего 1 секунду, будет засчитан как 1 минута.\n",
    "\n",
    "Для веб-трафика отдельные сессии не считаются. Вместо этого общая сумма за месяц округляется в бо́льшую сторону. Если абонент использует 1025 мегабайт в этом месяце, с него возьмут плату за 2 гигабайта."
   ]
  },
  {
   "cell_type": "markdown",
   "metadata": {},
   "source": [
    "## Загрузка данных"
   ]
  },
  {
   "cell_type": "code",
   "execution_count": 1,
   "metadata": {},
   "outputs": [
    {
     "name": "stdout",
     "output_type": "stream",
     "text": [
      "Requirement already satisfied: seaborn==0.11.2 in /Users/vadimselin/opt/anaconda3/envs/practicum/lib/python3.9/site-packages (0.11.2)\n",
      "Requirement already satisfied: scipy>=1.0 in /Users/vadimselin/opt/anaconda3/envs/practicum/lib/python3.9/site-packages (from seaborn==0.11.2) (1.8.0)\n",
      "Requirement already satisfied: pandas>=0.23 in /Users/vadimselin/opt/anaconda3/envs/practicum/lib/python3.9/site-packages (from seaborn==0.11.2) (1.4.2)\n",
      "Requirement already satisfied: numpy>=1.15 in /Users/vadimselin/opt/anaconda3/envs/practicum/lib/python3.9/site-packages (from seaborn==0.11.2) (1.22.3)\n",
      "Requirement already satisfied: matplotlib>=2.2 in /Users/vadimselin/opt/anaconda3/envs/practicum/lib/python3.9/site-packages (from seaborn==0.11.2) (3.3.4)\n",
      "Requirement already satisfied: pillow>=6.2.0 in /Users/vadimselin/opt/anaconda3/envs/practicum/lib/python3.9/site-packages (from matplotlib>=2.2->seaborn==0.11.2) (8.4.0)\n",
      "Requirement already satisfied: kiwisolver>=1.0.1 in /Users/vadimselin/opt/anaconda3/envs/practicum/lib/python3.9/site-packages (from matplotlib>=2.2->seaborn==0.11.2) (1.4.2)\n",
      "Requirement already satisfied: cycler>=0.10 in /Users/vadimselin/opt/anaconda3/envs/practicum/lib/python3.9/site-packages (from matplotlib>=2.2->seaborn==0.11.2) (0.11.0)\n",
      "Requirement already satisfied: pyparsing!=2.0.4,!=2.1.2,!=2.1.6,>=2.0.3 in /Users/vadimselin/opt/anaconda3/envs/practicum/lib/python3.9/site-packages (from matplotlib>=2.2->seaborn==0.11.2) (3.0.7)\n",
      "Requirement already satisfied: python-dateutil>=2.1 in /Users/vadimselin/opt/anaconda3/envs/practicum/lib/python3.9/site-packages (from matplotlib>=2.2->seaborn==0.11.2) (2.8.2)\n",
      "Requirement already satisfied: pytz>=2020.1 in /Users/vadimselin/opt/anaconda3/envs/practicum/lib/python3.9/site-packages (from pandas>=0.23->seaborn==0.11.2) (2022.1)\n",
      "Requirement already satisfied: six>=1.5 in /Users/vadimselin/opt/anaconda3/envs/practicum/lib/python3.9/site-packages (from python-dateutil>=2.1->matplotlib>=2.2->seaborn==0.11.2) (1.16.0)\n"
     ]
    }
   ],
   "source": [
    "!pip install seaborn==0.11.2"
   ]
  },
  {
   "cell_type": "code",
   "execution_count": 2,
   "metadata": {},
   "outputs": [],
   "source": [
    "import pandas as pd\n",
    "import numpy as np\n",
    "import matplotlib.pyplot as plt\n",
    "import seaborn as sns\n",
    "from scipy import stats as st"
   ]
  },
  {
   "cell_type": "code",
   "execution_count": 3,
   "metadata": {},
   "outputs": [],
   "source": [
    "calls = pd.read_csv('calls.csv')"
   ]
  },
  {
   "cell_type": "code",
   "execution_count": 4,
   "metadata": {},
   "outputs": [],
   "source": [
    "internet = pd.read_csv('internet.csv')"
   ]
  },
  {
   "cell_type": "code",
   "execution_count": 5,
   "metadata": {},
   "outputs": [],
   "source": [
    "messages = pd.read_csv('messages.csv')"
   ]
  },
  {
   "cell_type": "code",
   "execution_count": 6,
   "metadata": {},
   "outputs": [],
   "source": [
    "tariffs = pd.read_csv('tariffs.csv')"
   ]
  },
  {
   "cell_type": "code",
   "execution_count": 7,
   "metadata": {},
   "outputs": [],
   "source": [
    "users = pd.read_csv('users.csv')"
   ]
  },
  {
   "cell_type": "markdown",
   "metadata": {},
   "source": [
    "## Обзор данных, преобразование их типов."
   ]
  },
  {
   "cell_type": "code",
   "execution_count": 8,
   "metadata": {},
   "outputs": [],
   "source": [
    "def df_info(df):    \n",
    "    \"\"\"Функция-альтернатива info(), позволяющая узнать \n",
    "    долю пропусков в столбцах датафрейма и типы данных в этих стобцах,\n",
    "    а также - количество строк\n",
    "    \"\"\"    \n",
    "    d = pd.DataFrame(df.isna().mean()).reset_index()\n",
    "    f = pd.DataFrame(df.dtypes).reset_index()\n",
    "    df_info = d.merge(f,on='index')\n",
    "    df_info.columns = ['data', 'per_miss', 'data_type']\n",
    "    return df_info, \"Number of lines: {}\".format(len(df))"
   ]
  },
  {
   "cell_type": "code",
   "execution_count": 9,
   "metadata": {},
   "outputs": [
    {
     "data": {
      "text/plain": [
       "(         data  per_miss data_type\n",
       " 0     user_id     0.000     int64\n",
       " 1         age     0.000     int64\n",
       " 2  churn_date     0.924    object\n",
       " 3        city     0.000    object\n",
       " 4  first_name     0.000    object\n",
       " 5   last_name     0.000    object\n",
       " 6    reg_date     0.000    object\n",
       " 7      tariff     0.000    object,\n",
       " 'Number of lines: 500')"
      ]
     },
     "execution_count": 9,
     "metadata": {},
     "output_type": "execute_result"
    }
   ],
   "source": [
    "df_info(users)"
   ]
  },
  {
   "cell_type": "markdown",
   "metadata": {},
   "source": [
    "Для удобства работы с датами приведу тип даннах столбцов `churn_date` и `reg_date` к типу `datetime`.\n",
    "\n",
    "А также чтобы избавиться от пропусков в столбце `churn_date` заполню их нехарактерным но ясным по сути значеним. Это будет далёкое будущее `'2099-01-01'`"
   ]
  },
  {
   "cell_type": "code",
   "execution_count": 10,
   "metadata": {},
   "outputs": [],
   "source": [
    "users['churn_date'] = users['churn_date'].fillna('2099-01-01')"
   ]
  },
  {
   "cell_type": "code",
   "execution_count": 11,
   "metadata": {},
   "outputs": [
    {
     "data": {
      "text/html": [
       "<div>\n",
       "<style scoped>\n",
       "    .dataframe tbody tr th:only-of-type {\n",
       "        vertical-align: middle;\n",
       "    }\n",
       "\n",
       "    .dataframe tbody tr th {\n",
       "        vertical-align: top;\n",
       "    }\n",
       "\n",
       "    .dataframe thead th {\n",
       "        text-align: right;\n",
       "    }\n",
       "</style>\n",
       "<table border=\"1\" class=\"dataframe\">\n",
       "  <thead>\n",
       "    <tr style=\"text-align: right;\">\n",
       "      <th></th>\n",
       "      <th>user_id</th>\n",
       "      <th>age</th>\n",
       "      <th>churn_date</th>\n",
       "      <th>city</th>\n",
       "      <th>first_name</th>\n",
       "      <th>last_name</th>\n",
       "      <th>reg_date</th>\n",
       "      <th>tariff</th>\n",
       "    </tr>\n",
       "  </thead>\n",
       "  <tbody>\n",
       "    <tr>\n",
       "      <th>19</th>\n",
       "      <td>1019</td>\n",
       "      <td>63</td>\n",
       "      <td>2018-10-05</td>\n",
       "      <td>Томск</td>\n",
       "      <td>Игнатий</td>\n",
       "      <td>Круглов</td>\n",
       "      <td>2018-05-16</td>\n",
       "      <td>ultra</td>\n",
       "    </tr>\n",
       "    <tr>\n",
       "      <th>20</th>\n",
       "      <td>1020</td>\n",
       "      <td>59</td>\n",
       "      <td>2018-12-18</td>\n",
       "      <td>Чита</td>\n",
       "      <td>Тала</td>\n",
       "      <td>Костина</td>\n",
       "      <td>2018-10-22</td>\n",
       "      <td>smart</td>\n",
       "    </tr>\n",
       "    <tr>\n",
       "      <th>34</th>\n",
       "      <td>1034</td>\n",
       "      <td>66</td>\n",
       "      <td>2018-11-21</td>\n",
       "      <td>Вологда</td>\n",
       "      <td>Святослав</td>\n",
       "      <td>Бондарев</td>\n",
       "      <td>2018-08-26</td>\n",
       "      <td>smart</td>\n",
       "    </tr>\n",
       "    <tr>\n",
       "      <th>50</th>\n",
       "      <td>1050</td>\n",
       "      <td>44</td>\n",
       "      <td>2018-10-03</td>\n",
       "      <td>Тюмень</td>\n",
       "      <td>Рузана</td>\n",
       "      <td>Аничкина</td>\n",
       "      <td>2018-06-16</td>\n",
       "      <td>ultra</td>\n",
       "    </tr>\n",
       "    <tr>\n",
       "      <th>51</th>\n",
       "      <td>1051</td>\n",
       "      <td>37</td>\n",
       "      <td>2018-10-14</td>\n",
       "      <td>Москва</td>\n",
       "      <td>Кристина</td>\n",
       "      <td>Сомова</td>\n",
       "      <td>2018-05-28</td>\n",
       "      <td>smart</td>\n",
       "    </tr>\n",
       "  </tbody>\n",
       "</table>\n",
       "</div>"
      ],
      "text/plain": [
       "    user_id  age  churn_date     city first_name last_name    reg_date tariff\n",
       "19     1019   63  2018-10-05    Томск    Игнатий   Круглов  2018-05-16  ultra\n",
       "20     1020   59  2018-12-18     Чита       Тала   Костина  2018-10-22  smart\n",
       "34     1034   66  2018-11-21  Вологда  Святослав  Бондарев  2018-08-26  smart\n",
       "50     1050   44  2018-10-03   Тюмень     Рузана  Аничкина  2018-06-16  ultra\n",
       "51     1051   37  2018-10-14   Москва   Кристина    Сомова  2018-05-28  smart"
      ]
     },
     "execution_count": 11,
     "metadata": {},
     "output_type": "execute_result"
    }
   ],
   "source": [
    "# посмотрим формат записи обоих столбцов с датами \n",
    "users[users['churn_date'] < '2099-01-01'].head()"
   ]
  },
  {
   "cell_type": "code",
   "execution_count": 12,
   "metadata": {},
   "outputs": [],
   "source": [
    "users['churn_date'] = pd.to_datetime(users['churn_date'],format='%Y-%m-%d')"
   ]
  },
  {
   "cell_type": "code",
   "execution_count": 13,
   "metadata": {},
   "outputs": [],
   "source": [
    "users['reg_date'] = pd.to_datetime(users['reg_date'],format='%Y-%m-%d')"
   ]
  },
  {
   "cell_type": "code",
   "execution_count": 14,
   "metadata": {},
   "outputs": [
    {
     "data": {
      "text/plain": [
       "(         data  per_miss       data_type\n",
       " 0     user_id       0.0           int64\n",
       " 1         age       0.0           int64\n",
       " 2  churn_date       0.0  datetime64[ns]\n",
       " 3        city       0.0          object\n",
       " 4  first_name       0.0          object\n",
       " 5   last_name       0.0          object\n",
       " 6    reg_date       0.0  datetime64[ns]\n",
       " 7      tariff       0.0          object,\n",
       " 'Number of lines: 500')"
      ]
     },
     "execution_count": 14,
     "metadata": {},
     "output_type": "execute_result"
    }
   ],
   "source": [
    "df_info(users)"
   ]
  },
  {
   "cell_type": "code",
   "execution_count": 15,
   "metadata": {},
   "outputs": [
    {
     "data": {
      "text/plain": [
       "(        data  per_miss data_type\n",
       " 0         id       0.0    object\n",
       " 1  call_date       0.0    object\n",
       " 2   duration       0.0   float64\n",
       " 3    user_id       0.0     int64,\n",
       " 'Number of lines: 202607')"
      ]
     },
     "execution_count": 15,
     "metadata": {},
     "output_type": "execute_result"
    }
   ],
   "source": [
    "df_info(calls)"
   ]
  },
  {
   "cell_type": "code",
   "execution_count": 16,
   "metadata": {},
   "outputs": [
    {
     "data": {
      "text/html": [
       "<div>\n",
       "<style scoped>\n",
       "    .dataframe tbody tr th:only-of-type {\n",
       "        vertical-align: middle;\n",
       "    }\n",
       "\n",
       "    .dataframe tbody tr th {\n",
       "        vertical-align: top;\n",
       "    }\n",
       "\n",
       "    .dataframe thead th {\n",
       "        text-align: right;\n",
       "    }\n",
       "</style>\n",
       "<table border=\"1\" class=\"dataframe\">\n",
       "  <thead>\n",
       "    <tr style=\"text-align: right;\">\n",
       "      <th></th>\n",
       "      <th>id</th>\n",
       "      <th>call_date</th>\n",
       "      <th>duration</th>\n",
       "      <th>user_id</th>\n",
       "    </tr>\n",
       "  </thead>\n",
       "  <tbody>\n",
       "    <tr>\n",
       "      <th>127538</th>\n",
       "      <td>1327_113</td>\n",
       "      <td>2018-09-04</td>\n",
       "      <td>2.09</td>\n",
       "      <td>1327</td>\n",
       "    </tr>\n",
       "    <tr>\n",
       "      <th>122887</th>\n",
       "      <td>1317_396</td>\n",
       "      <td>2018-11-12</td>\n",
       "      <td>17.91</td>\n",
       "      <td>1317</td>\n",
       "    </tr>\n",
       "    <tr>\n",
       "      <th>15831</th>\n",
       "      <td>1043_255</td>\n",
       "      <td>2018-07-11</td>\n",
       "      <td>18.55</td>\n",
       "      <td>1043</td>\n",
       "    </tr>\n",
       "    <tr>\n",
       "      <th>190262</th>\n",
       "      <td>1468_233</td>\n",
       "      <td>2018-12-03</td>\n",
       "      <td>0.00</td>\n",
       "      <td>1468</td>\n",
       "    </tr>\n",
       "    <tr>\n",
       "      <th>99267</th>\n",
       "      <td>1251_629</td>\n",
       "      <td>2018-07-13</td>\n",
       "      <td>7.01</td>\n",
       "      <td>1251</td>\n",
       "    </tr>\n",
       "  </tbody>\n",
       "</table>\n",
       "</div>"
      ],
      "text/plain": [
       "              id   call_date  duration  user_id\n",
       "127538  1327_113  2018-09-04      2.09     1327\n",
       "122887  1317_396  2018-11-12     17.91     1317\n",
       "15831   1043_255  2018-07-11     18.55     1043\n",
       "190262  1468_233  2018-12-03      0.00     1468\n",
       "99267   1251_629  2018-07-13      7.01     1251"
      ]
     },
     "execution_count": 16,
     "metadata": {},
     "output_type": "execute_result"
    }
   ],
   "source": [
    "calls.sample(5,random_state=5)"
   ]
  },
  {
   "cell_type": "markdown",
   "metadata": {},
   "source": [
    "* Длительность звонка оператор округляет до целых минут, поэтому преобразую `duration` в целочисленный тип и округлю в большую сторону.\n",
    "\n",
    "* `call_date` - в `datetime`"
   ]
  },
  {
   "cell_type": "code",
   "execution_count": 17,
   "metadata": {},
   "outputs": [],
   "source": [
    "calls['duration'] = np.ceil(calls['duration']).astype(int)"
   ]
  },
  {
   "cell_type": "code",
   "execution_count": 18,
   "metadata": {},
   "outputs": [],
   "source": [
    "calls['call_date'] = pd.to_datetime(calls['call_date'],format='%Y-%m-%d')"
   ]
  },
  {
   "cell_type": "code",
   "execution_count": 19,
   "metadata": {},
   "outputs": [
    {
     "data": {
      "text/html": [
       "<div>\n",
       "<style scoped>\n",
       "    .dataframe tbody tr th:only-of-type {\n",
       "        vertical-align: middle;\n",
       "    }\n",
       "\n",
       "    .dataframe tbody tr th {\n",
       "        vertical-align: top;\n",
       "    }\n",
       "\n",
       "    .dataframe thead th {\n",
       "        text-align: right;\n",
       "    }\n",
       "</style>\n",
       "<table border=\"1\" class=\"dataframe\">\n",
       "  <thead>\n",
       "    <tr style=\"text-align: right;\">\n",
       "      <th></th>\n",
       "      <th>id</th>\n",
       "      <th>call_date</th>\n",
       "      <th>duration</th>\n",
       "      <th>user_id</th>\n",
       "    </tr>\n",
       "  </thead>\n",
       "  <tbody>\n",
       "    <tr>\n",
       "      <th>127538</th>\n",
       "      <td>1327_113</td>\n",
       "      <td>2018-09-04</td>\n",
       "      <td>3</td>\n",
       "      <td>1327</td>\n",
       "    </tr>\n",
       "    <tr>\n",
       "      <th>122887</th>\n",
       "      <td>1317_396</td>\n",
       "      <td>2018-11-12</td>\n",
       "      <td>18</td>\n",
       "      <td>1317</td>\n",
       "    </tr>\n",
       "    <tr>\n",
       "      <th>15831</th>\n",
       "      <td>1043_255</td>\n",
       "      <td>2018-07-11</td>\n",
       "      <td>19</td>\n",
       "      <td>1043</td>\n",
       "    </tr>\n",
       "    <tr>\n",
       "      <th>190262</th>\n",
       "      <td>1468_233</td>\n",
       "      <td>2018-12-03</td>\n",
       "      <td>0</td>\n",
       "      <td>1468</td>\n",
       "    </tr>\n",
       "    <tr>\n",
       "      <th>99267</th>\n",
       "      <td>1251_629</td>\n",
       "      <td>2018-07-13</td>\n",
       "      <td>8</td>\n",
       "      <td>1251</td>\n",
       "    </tr>\n",
       "  </tbody>\n",
       "</table>\n",
       "</div>"
      ],
      "text/plain": [
       "              id  call_date  duration  user_id\n",
       "127538  1327_113 2018-09-04         3     1327\n",
       "122887  1317_396 2018-11-12        18     1317\n",
       "15831   1043_255 2018-07-11        19     1043\n",
       "190262  1468_233 2018-12-03         0     1468\n",
       "99267   1251_629 2018-07-13         8     1251"
      ]
     },
     "execution_count": 19,
     "metadata": {},
     "output_type": "execute_result"
    }
   ],
   "source": [
    "calls.sample(5,random_state=5)"
   ]
  },
  {
   "cell_type": "markdown",
   "metadata": {},
   "source": [
    "Время звонков округлилось в соответствии с правилами тарифов."
   ]
  },
  {
   "cell_type": "code",
   "execution_count": 20,
   "metadata": {},
   "outputs": [
    {
     "data": {
      "text/plain": [
       "(           data  per_miss data_type\n",
       " 0            id       0.0    object\n",
       " 1  message_date       0.0    object\n",
       " 2       user_id       0.0     int64,\n",
       " 'Number of lines: 123036')"
      ]
     },
     "execution_count": 20,
     "metadata": {},
     "output_type": "execute_result"
    }
   ],
   "source": [
    "df_info(messages)"
   ]
  },
  {
   "cell_type": "code",
   "execution_count": 21,
   "metadata": {},
   "outputs": [
    {
     "data": {
      "text/plain": [
       "'2018-06-27'"
      ]
     },
     "execution_count": 21,
     "metadata": {},
     "output_type": "execute_result"
    }
   ],
   "source": [
    "messages['message_date'][0]"
   ]
  },
  {
   "cell_type": "code",
   "execution_count": 22,
   "metadata": {},
   "outputs": [],
   "source": [
    "messages['message_date'] = pd.to_datetime(messages['message_date'],format='%Y-%m-%d')"
   ]
  },
  {
   "cell_type": "code",
   "execution_count": 23,
   "metadata": {},
   "outputs": [
    {
     "data": {
      "text/plain": [
       "Timestamp('2018-06-27 00:00:00')"
      ]
     },
     "execution_count": 23,
     "metadata": {},
     "output_type": "execute_result"
    }
   ],
   "source": [
    "messages['message_date'][0]"
   ]
  },
  {
   "cell_type": "code",
   "execution_count": 24,
   "metadata": {},
   "outputs": [
    {
     "data": {
      "text/plain": [
       "(           data  per_miss data_type\n",
       " 0    Unnamed: 0       0.0     int64\n",
       " 1            id       0.0    object\n",
       " 2       mb_used       0.0   float64\n",
       " 3  session_date       0.0    object\n",
       " 4       user_id       0.0     int64,\n",
       " 'Number of lines: 149396')"
      ]
     },
     "execution_count": 24,
     "metadata": {},
     "output_type": "execute_result"
    }
   ],
   "source": [
    "df_info(internet)"
   ]
  },
  {
   "cell_type": "markdown",
   "metadata": {},
   "source": [
    "Дату сессий - в тип `date_time`. Мегабайты до гигабайтов округлим после предагрегации по месяцам, чтобы не начислить лишнего абонентам.\n",
    "\n",
    "Обнаружил столбец `Unnamed: 0`, не заявленный в условиях задачи. "
   ]
  },
  {
   "cell_type": "code",
   "execution_count": 25,
   "metadata": {},
   "outputs": [],
   "source": [
    "internet['session_date'] = pd.to_datetime(internet['session_date'],format='%Y-%m-%d')"
   ]
  },
  {
   "cell_type": "code",
   "execution_count": 26,
   "metadata": {},
   "outputs": [
    {
     "data": {
      "text/plain": [
       "0              0\n",
       "1              1\n",
       "2              2\n",
       "3              3\n",
       "4              4\n",
       "           ...  \n",
       "149391    149391\n",
       "149392    149392\n",
       "149393    149393\n",
       "149394    149394\n",
       "149395    149395\n",
       "Name: Unnamed: 0, Length: 149396, dtype: int64"
      ]
     },
     "execution_count": 26,
     "metadata": {},
     "output_type": "execute_result"
    }
   ],
   "source": [
    "internet['Unnamed: 0']"
   ]
  },
  {
   "cell_type": "markdown",
   "metadata": {},
   "source": [
    "`internet['Unnamed: 0']` - это просто дублирующий столбец индексов. Он нам не пригодится. Не будем его использовать."
   ]
  },
  {
   "cell_type": "code",
   "execution_count": 27,
   "metadata": {},
   "outputs": [
    {
     "data": {
      "text/plain": [
       "(                    data  per_miss data_type\n",
       " 0      messages_included       0.0     int64\n",
       " 1  mb_per_month_included       0.0     int64\n",
       " 2       minutes_included       0.0     int64\n",
       " 3        rub_monthly_fee       0.0     int64\n",
       " 4             rub_per_gb       0.0     int64\n",
       " 5        rub_per_message       0.0     int64\n",
       " 6         rub_per_minute       0.0     int64\n",
       " 7            tariff_name       0.0    object,\n",
       " 'Number of lines: 2')"
      ]
     },
     "execution_count": 27,
     "metadata": {},
     "output_type": "execute_result"
    }
   ],
   "source": [
    "df_info(tariffs)"
   ]
  },
  {
   "cell_type": "code",
   "execution_count": 28,
   "metadata": {},
   "outputs": [
    {
     "data": {
      "text/html": [
       "<div>\n",
       "<style scoped>\n",
       "    .dataframe tbody tr th:only-of-type {\n",
       "        vertical-align: middle;\n",
       "    }\n",
       "\n",
       "    .dataframe tbody tr th {\n",
       "        vertical-align: top;\n",
       "    }\n",
       "\n",
       "    .dataframe thead th {\n",
       "        text-align: right;\n",
       "    }\n",
       "</style>\n",
       "<table border=\"1\" class=\"dataframe\">\n",
       "  <thead>\n",
       "    <tr style=\"text-align: right;\">\n",
       "      <th></th>\n",
       "      <th>messages_included</th>\n",
       "      <th>mb_per_month_included</th>\n",
       "      <th>minutes_included</th>\n",
       "      <th>rub_monthly_fee</th>\n",
       "      <th>rub_per_gb</th>\n",
       "      <th>rub_per_message</th>\n",
       "      <th>rub_per_minute</th>\n",
       "      <th>tariff_name</th>\n",
       "    </tr>\n",
       "  </thead>\n",
       "  <tbody>\n",
       "    <tr>\n",
       "      <th>0</th>\n",
       "      <td>50</td>\n",
       "      <td>15360</td>\n",
       "      <td>500</td>\n",
       "      <td>550</td>\n",
       "      <td>200</td>\n",
       "      <td>3</td>\n",
       "      <td>3</td>\n",
       "      <td>smart</td>\n",
       "    </tr>\n",
       "    <tr>\n",
       "      <th>1</th>\n",
       "      <td>1000</td>\n",
       "      <td>30720</td>\n",
       "      <td>3000</td>\n",
       "      <td>1950</td>\n",
       "      <td>150</td>\n",
       "      <td>1</td>\n",
       "      <td>1</td>\n",
       "      <td>ultra</td>\n",
       "    </tr>\n",
       "  </tbody>\n",
       "</table>\n",
       "</div>"
      ],
      "text/plain": [
       "   messages_included  mb_per_month_included  minutes_included  \\\n",
       "0                 50                  15360               500   \n",
       "1               1000                  30720              3000   \n",
       "\n",
       "   rub_monthly_fee  rub_per_gb  rub_per_message  rub_per_minute tariff_name  \n",
       "0              550         200                3               3       smart  \n",
       "1             1950         150                1               1       ultra  "
      ]
     },
     "execution_count": 28,
     "metadata": {},
     "output_type": "execute_result"
    }
   ],
   "source": [
    "tariffs"
   ]
  },
  {
   "cell_type": "markdown",
   "metadata": {},
   "source": [
    "В таблицах звонков, сообщений, интернет сессий есть собственные id, которые представляют из себя строку состоящую из `user_id` и некоего номера. На мой взгляд, это порядковый номер для каждого совершённого звонка, сообщения или выхода в сеть. Но того, кто выгружал данные из базы в доступе у меня нет, поэтому проверю сам.\n",
    "\n",
    "Проверку сделаю с помощью группировки вышеупомянутых таблиц по `user_id` с подсчётом колличества совершённых действий и просто посмотрю глазами на последовательность и количество `id`.\n",
    "\n",
    "Также проверю, все ли из 500 абонентов звонят, sms-ят и выходят в сеть с помощью своих тарифов."
   ]
  },
  {
   "cell_type": "code",
   "execution_count": 29,
   "metadata": {},
   "outputs": [],
   "source": [
    "# umc - users messages count\n",
    "umc = messages.groupby('user_id')['id'].count().reset_index()"
   ]
  },
  {
   "cell_type": "code",
   "execution_count": 30,
   "metadata": {},
   "outputs": [
    {
     "data": {
      "text/plain": [
       "426"
      ]
     },
     "execution_count": 30,
     "metadata": {},
     "output_type": "execute_result"
    }
   ],
   "source": [
    "len(umc)"
   ]
  },
  {
   "cell_type": "markdown",
   "metadata": {},
   "source": [
    "426 пользователей из 500 отправляют sms."
   ]
  },
  {
   "cell_type": "code",
   "execution_count": 31,
   "metadata": {},
   "outputs": [
    {
     "data": {
      "text/html": [
       "<div>\n",
       "<style scoped>\n",
       "    .dataframe tbody tr th:only-of-type {\n",
       "        vertical-align: middle;\n",
       "    }\n",
       "\n",
       "    .dataframe tbody tr th {\n",
       "        vertical-align: top;\n",
       "    }\n",
       "\n",
       "    .dataframe thead th {\n",
       "        text-align: right;\n",
       "    }\n",
       "</style>\n",
       "<table border=\"1\" class=\"dataframe\">\n",
       "  <thead>\n",
       "    <tr style=\"text-align: right;\">\n",
       "      <th></th>\n",
       "      <th>user_id</th>\n",
       "      <th>id</th>\n",
       "    </tr>\n",
       "  </thead>\n",
       "  <tbody>\n",
       "    <tr>\n",
       "      <th>0</th>\n",
       "      <td>1000</td>\n",
       "      <td>496</td>\n",
       "    </tr>\n",
       "  </tbody>\n",
       "</table>\n",
       "</div>"
      ],
      "text/plain": [
       "   user_id   id\n",
       "0     1000  496"
      ]
     },
     "execution_count": 31,
     "metadata": {},
     "output_type": "execute_result"
    }
   ],
   "source": [
    "umc[umc['user_id'] == 1000]"
   ]
  },
  {
   "cell_type": "code",
   "execution_count": 32,
   "metadata": {},
   "outputs": [
    {
     "data": {
      "text/html": [
       "<div>\n",
       "<style scoped>\n",
       "    .dataframe tbody tr th:only-of-type {\n",
       "        vertical-align: middle;\n",
       "    }\n",
       "\n",
       "    .dataframe tbody tr th {\n",
       "        vertical-align: top;\n",
       "    }\n",
       "\n",
       "    .dataframe thead th {\n",
       "        text-align: right;\n",
       "    }\n",
       "</style>\n",
       "<table border=\"1\" class=\"dataframe\">\n",
       "  <thead>\n",
       "    <tr style=\"text-align: right;\">\n",
       "      <th></th>\n",
       "      <th>id</th>\n",
       "      <th>message_date</th>\n",
       "      <th>user_id</th>\n",
       "    </tr>\n",
       "  </thead>\n",
       "  <tbody>\n",
       "    <tr>\n",
       "      <th>0</th>\n",
       "      <td>1000_0</td>\n",
       "      <td>2018-06-27</td>\n",
       "      <td>1000</td>\n",
       "    </tr>\n",
       "    <tr>\n",
       "      <th>1</th>\n",
       "      <td>1000_1</td>\n",
       "      <td>2018-10-08</td>\n",
       "      <td>1000</td>\n",
       "    </tr>\n",
       "    <tr>\n",
       "      <th>2</th>\n",
       "      <td>1000_2</td>\n",
       "      <td>2018-08-04</td>\n",
       "      <td>1000</td>\n",
       "    </tr>\n",
       "    <tr>\n",
       "      <th>3</th>\n",
       "      <td>1000_3</td>\n",
       "      <td>2018-06-16</td>\n",
       "      <td>1000</td>\n",
       "    </tr>\n",
       "    <tr>\n",
       "      <th>4</th>\n",
       "      <td>1000_4</td>\n",
       "      <td>2018-12-05</td>\n",
       "      <td>1000</td>\n",
       "    </tr>\n",
       "    <tr>\n",
       "      <th>...</th>\n",
       "      <td>...</td>\n",
       "      <td>...</td>\n",
       "      <td>...</td>\n",
       "    </tr>\n",
       "    <tr>\n",
       "      <th>491</th>\n",
       "      <td>1000_491</td>\n",
       "      <td>2018-09-23</td>\n",
       "      <td>1000</td>\n",
       "    </tr>\n",
       "    <tr>\n",
       "      <th>492</th>\n",
       "      <td>1000_492</td>\n",
       "      <td>2018-10-30</td>\n",
       "      <td>1000</td>\n",
       "    </tr>\n",
       "    <tr>\n",
       "      <th>493</th>\n",
       "      <td>1000_493</td>\n",
       "      <td>2018-07-23</td>\n",
       "      <td>1000</td>\n",
       "    </tr>\n",
       "    <tr>\n",
       "      <th>494</th>\n",
       "      <td>1000_494</td>\n",
       "      <td>2018-09-14</td>\n",
       "      <td>1000</td>\n",
       "    </tr>\n",
       "    <tr>\n",
       "      <th>495</th>\n",
       "      <td>1000_495</td>\n",
       "      <td>2018-12-11</td>\n",
       "      <td>1000</td>\n",
       "    </tr>\n",
       "  </tbody>\n",
       "</table>\n",
       "<p>496 rows × 3 columns</p>\n",
       "</div>"
      ],
      "text/plain": [
       "           id message_date  user_id\n",
       "0      1000_0   2018-06-27     1000\n",
       "1      1000_1   2018-10-08     1000\n",
       "2      1000_2   2018-08-04     1000\n",
       "3      1000_3   2018-06-16     1000\n",
       "4      1000_4   2018-12-05     1000\n",
       "..        ...          ...      ...\n",
       "491  1000_491   2018-09-23     1000\n",
       "492  1000_492   2018-10-30     1000\n",
       "493  1000_493   2018-07-23     1000\n",
       "494  1000_494   2018-09-14     1000\n",
       "495  1000_495   2018-12-11     1000\n",
       "\n",
       "[496 rows x 3 columns]"
      ]
     },
     "execution_count": 32,
     "metadata": {},
     "output_type": "execute_result"
    }
   ],
   "source": [
    "messages[messages['user_id'] == 1000]"
   ]
  },
  {
   "cell_type": "code",
   "execution_count": 33,
   "metadata": {},
   "outputs": [],
   "source": [
    "# users calls count\n",
    "ucc = calls.groupby('user_id')['id'].count().reset_index()"
   ]
  },
  {
   "cell_type": "code",
   "execution_count": 34,
   "metadata": {},
   "outputs": [
    {
     "data": {
      "text/plain": [
       "492"
      ]
     },
     "execution_count": 34,
     "metadata": {},
     "output_type": "execute_result"
    }
   ],
   "source": [
    "len(ucc)"
   ]
  },
  {
   "cell_type": "markdown",
   "metadata": {},
   "source": [
    "492 пользователя из 500 звонят, используя тариф."
   ]
  },
  {
   "cell_type": "code",
   "execution_count": 35,
   "metadata": {},
   "outputs": [
    {
     "data": {
      "text/html": [
       "<div>\n",
       "<style scoped>\n",
       "    .dataframe tbody tr th:only-of-type {\n",
       "        vertical-align: middle;\n",
       "    }\n",
       "\n",
       "    .dataframe tbody tr th {\n",
       "        vertical-align: top;\n",
       "    }\n",
       "\n",
       "    .dataframe thead th {\n",
       "        text-align: right;\n",
       "    }\n",
       "</style>\n",
       "<table border=\"1\" class=\"dataframe\">\n",
       "  <thead>\n",
       "    <tr style=\"text-align: right;\">\n",
       "      <th></th>\n",
       "      <th>user_id</th>\n",
       "      <th>id</th>\n",
       "    </tr>\n",
       "  </thead>\n",
       "  <tbody>\n",
       "    <tr>\n",
       "      <th>0</th>\n",
       "      <td>1000</td>\n",
       "      <td>368</td>\n",
       "    </tr>\n",
       "  </tbody>\n",
       "</table>\n",
       "</div>"
      ],
      "text/plain": [
       "   user_id   id\n",
       "0     1000  368"
      ]
     },
     "execution_count": 35,
     "metadata": {},
     "output_type": "execute_result"
    }
   ],
   "source": [
    "ucc[ucc['user_id'] == 1000]"
   ]
  },
  {
   "cell_type": "code",
   "execution_count": 36,
   "metadata": {},
   "outputs": [
    {
     "data": {
      "text/html": [
       "<div>\n",
       "<style scoped>\n",
       "    .dataframe tbody tr th:only-of-type {\n",
       "        vertical-align: middle;\n",
       "    }\n",
       "\n",
       "    .dataframe tbody tr th {\n",
       "        vertical-align: top;\n",
       "    }\n",
       "\n",
       "    .dataframe thead th {\n",
       "        text-align: right;\n",
       "    }\n",
       "</style>\n",
       "<table border=\"1\" class=\"dataframe\">\n",
       "  <thead>\n",
       "    <tr style=\"text-align: right;\">\n",
       "      <th></th>\n",
       "      <th>id</th>\n",
       "      <th>call_date</th>\n",
       "      <th>duration</th>\n",
       "      <th>user_id</th>\n",
       "    </tr>\n",
       "  </thead>\n",
       "  <tbody>\n",
       "    <tr>\n",
       "      <th>0</th>\n",
       "      <td>1000_0</td>\n",
       "      <td>2018-07-25</td>\n",
       "      <td>0</td>\n",
       "      <td>1000</td>\n",
       "    </tr>\n",
       "    <tr>\n",
       "      <th>1</th>\n",
       "      <td>1000_1</td>\n",
       "      <td>2018-08-17</td>\n",
       "      <td>0</td>\n",
       "      <td>1000</td>\n",
       "    </tr>\n",
       "    <tr>\n",
       "      <th>2</th>\n",
       "      <td>1000_2</td>\n",
       "      <td>2018-06-11</td>\n",
       "      <td>3</td>\n",
       "      <td>1000</td>\n",
       "    </tr>\n",
       "    <tr>\n",
       "      <th>3</th>\n",
       "      <td>1000_3</td>\n",
       "      <td>2018-09-21</td>\n",
       "      <td>14</td>\n",
       "      <td>1000</td>\n",
       "    </tr>\n",
       "    <tr>\n",
       "      <th>4</th>\n",
       "      <td>1000_4</td>\n",
       "      <td>2018-12-15</td>\n",
       "      <td>6</td>\n",
       "      <td>1000</td>\n",
       "    </tr>\n",
       "    <tr>\n",
       "      <th>...</th>\n",
       "      <td>...</td>\n",
       "      <td>...</td>\n",
       "      <td>...</td>\n",
       "      <td>...</td>\n",
       "    </tr>\n",
       "    <tr>\n",
       "      <th>363</th>\n",
       "      <td>1000_363</td>\n",
       "      <td>2018-08-22</td>\n",
       "      <td>8</td>\n",
       "      <td>1000</td>\n",
       "    </tr>\n",
       "    <tr>\n",
       "      <th>364</th>\n",
       "      <td>1000_364</td>\n",
       "      <td>2018-09-13</td>\n",
       "      <td>3</td>\n",
       "      <td>1000</td>\n",
       "    </tr>\n",
       "    <tr>\n",
       "      <th>365</th>\n",
       "      <td>1000_365</td>\n",
       "      <td>2018-06-23</td>\n",
       "      <td>1</td>\n",
       "      <td>1000</td>\n",
       "    </tr>\n",
       "    <tr>\n",
       "      <th>366</th>\n",
       "      <td>1000_366</td>\n",
       "      <td>2018-12-06</td>\n",
       "      <td>5</td>\n",
       "      <td>1000</td>\n",
       "    </tr>\n",
       "    <tr>\n",
       "      <th>367</th>\n",
       "      <td>1000_367</td>\n",
       "      <td>2018-12-13</td>\n",
       "      <td>20</td>\n",
       "      <td>1000</td>\n",
       "    </tr>\n",
       "  </tbody>\n",
       "</table>\n",
       "<p>368 rows × 4 columns</p>\n",
       "</div>"
      ],
      "text/plain": [
       "           id  call_date  duration  user_id\n",
       "0      1000_0 2018-07-25         0     1000\n",
       "1      1000_1 2018-08-17         0     1000\n",
       "2      1000_2 2018-06-11         3     1000\n",
       "3      1000_3 2018-09-21        14     1000\n",
       "4      1000_4 2018-12-15         6     1000\n",
       "..        ...        ...       ...      ...\n",
       "363  1000_363 2018-08-22         8     1000\n",
       "364  1000_364 2018-09-13         3     1000\n",
       "365  1000_365 2018-06-23         1     1000\n",
       "366  1000_366 2018-12-06         5     1000\n",
       "367  1000_367 2018-12-13        20     1000\n",
       "\n",
       "[368 rows x 4 columns]"
      ]
     },
     "execution_count": 36,
     "metadata": {},
     "output_type": "execute_result"
    }
   ],
   "source": [
    "calls[calls['user_id'] == 1000]"
   ]
  },
  {
   "cell_type": "code",
   "execution_count": 37,
   "metadata": {},
   "outputs": [],
   "source": [
    "# users internet sessions count\n",
    "uic = internet.groupby('user_id')['id'].count().reset_index()"
   ]
  },
  {
   "cell_type": "code",
   "execution_count": 38,
   "metadata": {},
   "outputs": [
    {
     "data": {
      "text/plain": [
       "497"
      ]
     },
     "execution_count": 38,
     "metadata": {},
     "output_type": "execute_result"
    }
   ],
   "source": [
    "len(uic)"
   ]
  },
  {
   "cell_type": "markdown",
   "metadata": {},
   "source": [
    "497 пользователей из 500 выходят в сеть на своих тарифных планах"
   ]
  },
  {
   "cell_type": "code",
   "execution_count": 39,
   "metadata": {},
   "outputs": [
    {
     "data": {
      "text/html": [
       "<div>\n",
       "<style scoped>\n",
       "    .dataframe tbody tr th:only-of-type {\n",
       "        vertical-align: middle;\n",
       "    }\n",
       "\n",
       "    .dataframe tbody tr th {\n",
       "        vertical-align: top;\n",
       "    }\n",
       "\n",
       "    .dataframe thead th {\n",
       "        text-align: right;\n",
       "    }\n",
       "</style>\n",
       "<table border=\"1\" class=\"dataframe\">\n",
       "  <thead>\n",
       "    <tr style=\"text-align: right;\">\n",
       "      <th></th>\n",
       "      <th>user_id</th>\n",
       "      <th>id</th>\n",
       "    </tr>\n",
       "  </thead>\n",
       "  <tbody>\n",
       "    <tr>\n",
       "      <th>0</th>\n",
       "      <td>1000</td>\n",
       "      <td>211</td>\n",
       "    </tr>\n",
       "  </tbody>\n",
       "</table>\n",
       "</div>"
      ],
      "text/plain": [
       "   user_id   id\n",
       "0     1000  211"
      ]
     },
     "execution_count": 39,
     "metadata": {},
     "output_type": "execute_result"
    }
   ],
   "source": [
    "uic[uic['user_id'] == 1000]"
   ]
  },
  {
   "cell_type": "code",
   "execution_count": 40,
   "metadata": {},
   "outputs": [
    {
     "data": {
      "text/html": [
       "<div>\n",
       "<style scoped>\n",
       "    .dataframe tbody tr th:only-of-type {\n",
       "        vertical-align: middle;\n",
       "    }\n",
       "\n",
       "    .dataframe tbody tr th {\n",
       "        vertical-align: top;\n",
       "    }\n",
       "\n",
       "    .dataframe thead th {\n",
       "        text-align: right;\n",
       "    }\n",
       "</style>\n",
       "<table border=\"1\" class=\"dataframe\">\n",
       "  <thead>\n",
       "    <tr style=\"text-align: right;\">\n",
       "      <th></th>\n",
       "      <th>Unnamed: 0</th>\n",
       "      <th>id</th>\n",
       "      <th>mb_used</th>\n",
       "      <th>session_date</th>\n",
       "      <th>user_id</th>\n",
       "    </tr>\n",
       "  </thead>\n",
       "  <tbody>\n",
       "    <tr>\n",
       "      <th>0</th>\n",
       "      <td>0</td>\n",
       "      <td>1000_0</td>\n",
       "      <td>112.95</td>\n",
       "      <td>2018-11-25</td>\n",
       "      <td>1000</td>\n",
       "    </tr>\n",
       "    <tr>\n",
       "      <th>1</th>\n",
       "      <td>1</td>\n",
       "      <td>1000_1</td>\n",
       "      <td>1052.81</td>\n",
       "      <td>2018-09-07</td>\n",
       "      <td>1000</td>\n",
       "    </tr>\n",
       "    <tr>\n",
       "      <th>2</th>\n",
       "      <td>2</td>\n",
       "      <td>1000_2</td>\n",
       "      <td>1197.26</td>\n",
       "      <td>2018-06-25</td>\n",
       "      <td>1000</td>\n",
       "    </tr>\n",
       "    <tr>\n",
       "      <th>3</th>\n",
       "      <td>3</td>\n",
       "      <td>1000_3</td>\n",
       "      <td>550.27</td>\n",
       "      <td>2018-08-22</td>\n",
       "      <td>1000</td>\n",
       "    </tr>\n",
       "    <tr>\n",
       "      <th>4</th>\n",
       "      <td>4</td>\n",
       "      <td>1000_4</td>\n",
       "      <td>302.56</td>\n",
       "      <td>2018-09-24</td>\n",
       "      <td>1000</td>\n",
       "    </tr>\n",
       "    <tr>\n",
       "      <th>...</th>\n",
       "      <td>...</td>\n",
       "      <td>...</td>\n",
       "      <td>...</td>\n",
       "      <td>...</td>\n",
       "      <td>...</td>\n",
       "    </tr>\n",
       "    <tr>\n",
       "      <th>206</th>\n",
       "      <td>206</td>\n",
       "      <td>1000_206</td>\n",
       "      <td>1028.22</td>\n",
       "      <td>2018-06-06</td>\n",
       "      <td>1000</td>\n",
       "    </tr>\n",
       "    <tr>\n",
       "      <th>207</th>\n",
       "      <td>207</td>\n",
       "      <td>1000_207</td>\n",
       "      <td>543.68</td>\n",
       "      <td>2018-06-23</td>\n",
       "      <td>1000</td>\n",
       "    </tr>\n",
       "    <tr>\n",
       "      <th>208</th>\n",
       "      <td>208</td>\n",
       "      <td>1000_208</td>\n",
       "      <td>716.08</td>\n",
       "      <td>2018-08-14</td>\n",
       "      <td>1000</td>\n",
       "    </tr>\n",
       "    <tr>\n",
       "      <th>209</th>\n",
       "      <td>209</td>\n",
       "      <td>1000_209</td>\n",
       "      <td>49.78</td>\n",
       "      <td>2018-07-17</td>\n",
       "      <td>1000</td>\n",
       "    </tr>\n",
       "    <tr>\n",
       "      <th>210</th>\n",
       "      <td>210</td>\n",
       "      <td>1000_210</td>\n",
       "      <td>1000.16</td>\n",
       "      <td>2018-10-07</td>\n",
       "      <td>1000</td>\n",
       "    </tr>\n",
       "  </tbody>\n",
       "</table>\n",
       "<p>211 rows × 5 columns</p>\n",
       "</div>"
      ],
      "text/plain": [
       "     Unnamed: 0        id  mb_used session_date  user_id\n",
       "0             0    1000_0   112.95   2018-11-25     1000\n",
       "1             1    1000_1  1052.81   2018-09-07     1000\n",
       "2             2    1000_2  1197.26   2018-06-25     1000\n",
       "3             3    1000_3   550.27   2018-08-22     1000\n",
       "4             4    1000_4   302.56   2018-09-24     1000\n",
       "..          ...       ...      ...          ...      ...\n",
       "206         206  1000_206  1028.22   2018-06-06     1000\n",
       "207         207  1000_207   543.68   2018-06-23     1000\n",
       "208         208  1000_208   716.08   2018-08-14     1000\n",
       "209         209  1000_209    49.78   2018-07-17     1000\n",
       "210         210  1000_210  1000.16   2018-10-07     1000\n",
       "\n",
       "[211 rows x 5 columns]"
      ]
     },
     "execution_count": 40,
     "metadata": {},
     "output_type": "execute_result"
    }
   ],
   "source": [
    "internet[internet['user_id'] == 1000]"
   ]
  },
  {
   "cell_type": "markdown",
   "metadata": {},
   "source": [
    "## Выводы из \"сырых\" данных\n",
    "* Не все абоненты используют все доступные опции тарифных планов:\n",
    "* 492 пользователя из 500 звонят, используя тариф.\n",
    "* 426 пользователей из 500 отправляют sms.\n",
    "* 497 пользователей из 500 выходят в сеть на своих тарифных планах\n",
    "\n",
    "Также я выяснил, что мне точно не пригодится столбец `Unnamed: 0` из таблицы `internet`, поскольку он дублирует индексы датафрейма `internet`.\n",
    "\n",
    "Стобец `id` в таблицах `calls`, `messages`, `internet` представляет из себя порядковый индекс совершённых пользователем действий (звонок, sms, интернет сессия). В решении поставленной задачи он тоже пока не представляется нужным.\n",
    "Но преобразовывать или избавляться от него так же нет смысла. Он мне не мешает."
   ]
  },
  {
   "cell_type": "markdown",
   "metadata": {},
   "source": [
    "## Создание аналитической таблицы\n",
    "Я видел, что не все абоненты используют все возможности своих тарифов. Стало быть, в какие-то месяцы они могу не писать sms, не звонить или не выходить в сеть со своих телефонов.\n",
    "\n",
    "А это значит, что перед агрегированием данных по пользователям и месяцам мне лучше сделать таблицу-заготовку, в которой наверняка будут и все пользователи и все месяцы.\n",
    "\n"
   ]
  },
  {
   "cell_type": "code",
   "execution_count": 41,
   "metadata": {},
   "outputs": [],
   "source": [
    "min_dt = internet['session_date'].min()"
   ]
  },
  {
   "cell_type": "code",
   "execution_count": 42,
   "metadata": {},
   "outputs": [],
   "source": [
    "max_dt = internet['session_date'].max()"
   ]
  },
  {
   "cell_type": "code",
   "execution_count": 43,
   "metadata": {},
   "outputs": [],
   "source": [
    "# dtf - date time frame\n",
    "dtf = pd.DataFrame(pd.date_range(min_dt,max_dt,freq='MS'))"
   ]
  },
  {
   "cell_type": "code",
   "execution_count": 44,
   "metadata": {},
   "outputs": [],
   "source": [
    "dtf.columns = ['month']"
   ]
  },
  {
   "cell_type": "code",
   "execution_count": 45,
   "metadata": {},
   "outputs": [
    {
     "data": {
      "text/html": [
       "<div>\n",
       "<style scoped>\n",
       "    .dataframe tbody tr th:only-of-type {\n",
       "        vertical-align: middle;\n",
       "    }\n",
       "\n",
       "    .dataframe tbody tr th {\n",
       "        vertical-align: top;\n",
       "    }\n",
       "\n",
       "    .dataframe thead th {\n",
       "        text-align: right;\n",
       "    }\n",
       "</style>\n",
       "<table border=\"1\" class=\"dataframe\">\n",
       "  <thead>\n",
       "    <tr style=\"text-align: right;\">\n",
       "      <th></th>\n",
       "      <th>month</th>\n",
       "    </tr>\n",
       "  </thead>\n",
       "  <tbody>\n",
       "    <tr>\n",
       "      <th>0</th>\n",
       "      <td>2018-01-01</td>\n",
       "    </tr>\n",
       "    <tr>\n",
       "      <th>1</th>\n",
       "      <td>2018-02-01</td>\n",
       "    </tr>\n",
       "    <tr>\n",
       "      <th>2</th>\n",
       "      <td>2018-03-01</td>\n",
       "    </tr>\n",
       "    <tr>\n",
       "      <th>3</th>\n",
       "      <td>2018-04-01</td>\n",
       "    </tr>\n",
       "    <tr>\n",
       "      <th>4</th>\n",
       "      <td>2018-05-01</td>\n",
       "    </tr>\n",
       "    <tr>\n",
       "      <th>5</th>\n",
       "      <td>2018-06-01</td>\n",
       "    </tr>\n",
       "    <tr>\n",
       "      <th>6</th>\n",
       "      <td>2018-07-01</td>\n",
       "    </tr>\n",
       "    <tr>\n",
       "      <th>7</th>\n",
       "      <td>2018-08-01</td>\n",
       "    </tr>\n",
       "    <tr>\n",
       "      <th>8</th>\n",
       "      <td>2018-09-01</td>\n",
       "    </tr>\n",
       "    <tr>\n",
       "      <th>9</th>\n",
       "      <td>2018-10-01</td>\n",
       "    </tr>\n",
       "    <tr>\n",
       "      <th>10</th>\n",
       "      <td>2018-11-01</td>\n",
       "    </tr>\n",
       "    <tr>\n",
       "      <th>11</th>\n",
       "      <td>2018-12-01</td>\n",
       "    </tr>\n",
       "  </tbody>\n",
       "</table>\n",
       "</div>"
      ],
      "text/plain": [
       "        month\n",
       "0  2018-01-01\n",
       "1  2018-02-01\n",
       "2  2018-03-01\n",
       "3  2018-04-01\n",
       "4  2018-05-01\n",
       "5  2018-06-01\n",
       "6  2018-07-01\n",
       "7  2018-08-01\n",
       "8  2018-09-01\n",
       "9  2018-10-01\n",
       "10 2018-11-01\n",
       "11 2018-12-01"
      ]
     },
     "execution_count": 45,
     "metadata": {},
     "output_type": "execute_result"
    }
   ],
   "source": [
    "dtf"
   ]
  },
  {
   "cell_type": "markdown",
   "metadata": {},
   "source": [
    "Теперь добавим в каждую таблицу (пользователи и их регистрация, звонки, смс, интренет сессии) столбец даты, округлённой до месяца (первого дня месяца, потому что так практичнее, если бы мы группировали данные за 2 и более лет). "
   ]
  },
  {
   "cell_type": "code",
   "execution_count": 46,
   "metadata": {},
   "outputs": [],
   "source": [
    "users['reg_month'] = users['reg_date'].to_numpy().astype('datetime64[M]')"
   ]
  },
  {
   "cell_type": "code",
   "execution_count": 47,
   "metadata": {},
   "outputs": [],
   "source": [
    "calls['month'] = calls['call_date'].to_numpy().astype('datetime64[M]')"
   ]
  },
  {
   "cell_type": "code",
   "execution_count": 48,
   "metadata": {},
   "outputs": [],
   "source": [
    "messages['month'] = messages['message_date'].to_numpy().astype('datetime64[M]')"
   ]
  },
  {
   "cell_type": "code",
   "execution_count": 49,
   "metadata": {},
   "outputs": [],
   "source": [
    "internet['month'] = internet['session_date'].to_numpy().astype('datetime64[M]')"
   ]
  },
  {
   "cell_type": "markdown",
   "metadata": {},
   "source": [
    "Завершу заготовку с пользователями и месяцами. Фактически, на каждого пользователя должно быть 12 строк (сколько месяцев в исследуемом году). То есть всего в заготовке аналитической таблицы будет 500*12 строк, 6000 строк."
   ]
  },
  {
   "cell_type": "code",
   "execution_count": 50,
   "metadata": {},
   "outputs": [],
   "source": [
    "users['key'] = 1"
   ]
  },
  {
   "cell_type": "code",
   "execution_count": 51,
   "metadata": {},
   "outputs": [],
   "source": [
    "dtf['key'] = 1"
   ]
  },
  {
   "cell_type": "code",
   "execution_count": 52,
   "metadata": {},
   "outputs": [],
   "source": [
    "users_date = (users.merge(dtf, on='key')\n",
    "[['user_id','age','churn_date',\n",
    "  'city','first_name','last_name',\n",
    "  'reg_date','tariff','reg_month','month']])"
   ]
  },
  {
   "cell_type": "code",
   "execution_count": 53,
   "metadata": {},
   "outputs": [
    {
     "data": {
      "text/html": [
       "<div>\n",
       "<style scoped>\n",
       "    .dataframe tbody tr th:only-of-type {\n",
       "        vertical-align: middle;\n",
       "    }\n",
       "\n",
       "    .dataframe tbody tr th {\n",
       "        vertical-align: top;\n",
       "    }\n",
       "\n",
       "    .dataframe thead th {\n",
       "        text-align: right;\n",
       "    }\n",
       "</style>\n",
       "<table border=\"1\" class=\"dataframe\">\n",
       "  <thead>\n",
       "    <tr style=\"text-align: right;\">\n",
       "      <th></th>\n",
       "      <th>user_id</th>\n",
       "      <th>age</th>\n",
       "      <th>churn_date</th>\n",
       "      <th>city</th>\n",
       "      <th>first_name</th>\n",
       "      <th>last_name</th>\n",
       "      <th>reg_date</th>\n",
       "      <th>tariff</th>\n",
       "      <th>reg_month</th>\n",
       "      <th>month</th>\n",
       "    </tr>\n",
       "  </thead>\n",
       "  <tbody>\n",
       "    <tr>\n",
       "      <th>0</th>\n",
       "      <td>1000</td>\n",
       "      <td>52</td>\n",
       "      <td>2099-01-01</td>\n",
       "      <td>Краснодар</td>\n",
       "      <td>Рафаил</td>\n",
       "      <td>Верещагин</td>\n",
       "      <td>2018-05-25</td>\n",
       "      <td>ultra</td>\n",
       "      <td>2018-05-01</td>\n",
       "      <td>2018-01-01</td>\n",
       "    </tr>\n",
       "    <tr>\n",
       "      <th>1</th>\n",
       "      <td>1000</td>\n",
       "      <td>52</td>\n",
       "      <td>2099-01-01</td>\n",
       "      <td>Краснодар</td>\n",
       "      <td>Рафаил</td>\n",
       "      <td>Верещагин</td>\n",
       "      <td>2018-05-25</td>\n",
       "      <td>ultra</td>\n",
       "      <td>2018-05-01</td>\n",
       "      <td>2018-02-01</td>\n",
       "    </tr>\n",
       "    <tr>\n",
       "      <th>2</th>\n",
       "      <td>1000</td>\n",
       "      <td>52</td>\n",
       "      <td>2099-01-01</td>\n",
       "      <td>Краснодар</td>\n",
       "      <td>Рафаил</td>\n",
       "      <td>Верещагин</td>\n",
       "      <td>2018-05-25</td>\n",
       "      <td>ultra</td>\n",
       "      <td>2018-05-01</td>\n",
       "      <td>2018-03-01</td>\n",
       "    </tr>\n",
       "    <tr>\n",
       "      <th>3</th>\n",
       "      <td>1000</td>\n",
       "      <td>52</td>\n",
       "      <td>2099-01-01</td>\n",
       "      <td>Краснодар</td>\n",
       "      <td>Рафаил</td>\n",
       "      <td>Верещагин</td>\n",
       "      <td>2018-05-25</td>\n",
       "      <td>ultra</td>\n",
       "      <td>2018-05-01</td>\n",
       "      <td>2018-04-01</td>\n",
       "    </tr>\n",
       "    <tr>\n",
       "      <th>4</th>\n",
       "      <td>1000</td>\n",
       "      <td>52</td>\n",
       "      <td>2099-01-01</td>\n",
       "      <td>Краснодар</td>\n",
       "      <td>Рафаил</td>\n",
       "      <td>Верещагин</td>\n",
       "      <td>2018-05-25</td>\n",
       "      <td>ultra</td>\n",
       "      <td>2018-05-01</td>\n",
       "      <td>2018-05-01</td>\n",
       "    </tr>\n",
       "    <tr>\n",
       "      <th>...</th>\n",
       "      <td>...</td>\n",
       "      <td>...</td>\n",
       "      <td>...</td>\n",
       "      <td>...</td>\n",
       "      <td>...</td>\n",
       "      <td>...</td>\n",
       "      <td>...</td>\n",
       "      <td>...</td>\n",
       "      <td>...</td>\n",
       "      <td>...</td>\n",
       "    </tr>\n",
       "    <tr>\n",
       "      <th>5995</th>\n",
       "      <td>1499</td>\n",
       "      <td>35</td>\n",
       "      <td>2099-01-01</td>\n",
       "      <td>Пермь</td>\n",
       "      <td>Гектор</td>\n",
       "      <td>Корнилов</td>\n",
       "      <td>2018-09-27</td>\n",
       "      <td>smart</td>\n",
       "      <td>2018-09-01</td>\n",
       "      <td>2018-08-01</td>\n",
       "    </tr>\n",
       "    <tr>\n",
       "      <th>5996</th>\n",
       "      <td>1499</td>\n",
       "      <td>35</td>\n",
       "      <td>2099-01-01</td>\n",
       "      <td>Пермь</td>\n",
       "      <td>Гектор</td>\n",
       "      <td>Корнилов</td>\n",
       "      <td>2018-09-27</td>\n",
       "      <td>smart</td>\n",
       "      <td>2018-09-01</td>\n",
       "      <td>2018-09-01</td>\n",
       "    </tr>\n",
       "    <tr>\n",
       "      <th>5997</th>\n",
       "      <td>1499</td>\n",
       "      <td>35</td>\n",
       "      <td>2099-01-01</td>\n",
       "      <td>Пермь</td>\n",
       "      <td>Гектор</td>\n",
       "      <td>Корнилов</td>\n",
       "      <td>2018-09-27</td>\n",
       "      <td>smart</td>\n",
       "      <td>2018-09-01</td>\n",
       "      <td>2018-10-01</td>\n",
       "    </tr>\n",
       "    <tr>\n",
       "      <th>5998</th>\n",
       "      <td>1499</td>\n",
       "      <td>35</td>\n",
       "      <td>2099-01-01</td>\n",
       "      <td>Пермь</td>\n",
       "      <td>Гектор</td>\n",
       "      <td>Корнилов</td>\n",
       "      <td>2018-09-27</td>\n",
       "      <td>smart</td>\n",
       "      <td>2018-09-01</td>\n",
       "      <td>2018-11-01</td>\n",
       "    </tr>\n",
       "    <tr>\n",
       "      <th>5999</th>\n",
       "      <td>1499</td>\n",
       "      <td>35</td>\n",
       "      <td>2099-01-01</td>\n",
       "      <td>Пермь</td>\n",
       "      <td>Гектор</td>\n",
       "      <td>Корнилов</td>\n",
       "      <td>2018-09-27</td>\n",
       "      <td>smart</td>\n",
       "      <td>2018-09-01</td>\n",
       "      <td>2018-12-01</td>\n",
       "    </tr>\n",
       "  </tbody>\n",
       "</table>\n",
       "<p>6000 rows × 10 columns</p>\n",
       "</div>"
      ],
      "text/plain": [
       "      user_id  age churn_date       city first_name  last_name   reg_date  \\\n",
       "0        1000   52 2099-01-01  Краснодар     Рафаил  Верещагин 2018-05-25   \n",
       "1        1000   52 2099-01-01  Краснодар     Рафаил  Верещагин 2018-05-25   \n",
       "2        1000   52 2099-01-01  Краснодар     Рафаил  Верещагин 2018-05-25   \n",
       "3        1000   52 2099-01-01  Краснодар     Рафаил  Верещагин 2018-05-25   \n",
       "4        1000   52 2099-01-01  Краснодар     Рафаил  Верещагин 2018-05-25   \n",
       "...       ...  ...        ...        ...        ...        ...        ...   \n",
       "5995     1499   35 2099-01-01      Пермь     Гектор   Корнилов 2018-09-27   \n",
       "5996     1499   35 2099-01-01      Пермь     Гектор   Корнилов 2018-09-27   \n",
       "5997     1499   35 2099-01-01      Пермь     Гектор   Корнилов 2018-09-27   \n",
       "5998     1499   35 2099-01-01      Пермь     Гектор   Корнилов 2018-09-27   \n",
       "5999     1499   35 2099-01-01      Пермь     Гектор   Корнилов 2018-09-27   \n",
       "\n",
       "     tariff  reg_month      month  \n",
       "0     ultra 2018-05-01 2018-01-01  \n",
       "1     ultra 2018-05-01 2018-02-01  \n",
       "2     ultra 2018-05-01 2018-03-01  \n",
       "3     ultra 2018-05-01 2018-04-01  \n",
       "4     ultra 2018-05-01 2018-05-01  \n",
       "...     ...        ...        ...  \n",
       "5995  smart 2018-09-01 2018-08-01  \n",
       "5996  smart 2018-09-01 2018-09-01  \n",
       "5997  smart 2018-09-01 2018-10-01  \n",
       "5998  smart 2018-09-01 2018-11-01  \n",
       "5999  smart 2018-09-01 2018-12-01  \n",
       "\n",
       "[6000 rows x 10 columns]"
      ]
     },
     "execution_count": 53,
     "metadata": {},
     "output_type": "execute_result"
    }
   ],
   "source": [
    "users_date"
   ]
  },
  {
   "cell_type": "markdown",
   "metadata": {},
   "source": [
    "По некоторым пользователям появились записи, данных по которым не будет. Потому что данные пользователи либо ещё не подключились к тарифу с начала исследуемого периода, либо отключились от него до окончания исследуемого периода."
   ]
  },
  {
   "cell_type": "markdown",
   "metadata": {},
   "source": [
    "Теперь отфильтруем строки, в которых абонент ещё не подключился или уже отключился."
   ]
  },
  {
   "cell_type": "code",
   "execution_count": 54,
   "metadata": {},
   "outputs": [],
   "source": [
    "users_date = (\n",
    "    users_date[(users_date['month'] >= users_date['reg_month']) \n",
    "    & (users_date['month'] <=users_date['churn_date'])]\n",
    "    )"
   ]
  },
  {
   "cell_type": "code",
   "execution_count": 55,
   "metadata": {},
   "outputs": [
    {
     "data": {
      "text/html": [
       "<div>\n",
       "<style scoped>\n",
       "    .dataframe tbody tr th:only-of-type {\n",
       "        vertical-align: middle;\n",
       "    }\n",
       "\n",
       "    .dataframe tbody tr th {\n",
       "        vertical-align: top;\n",
       "    }\n",
       "\n",
       "    .dataframe thead th {\n",
       "        text-align: right;\n",
       "    }\n",
       "</style>\n",
       "<table border=\"1\" class=\"dataframe\">\n",
       "  <thead>\n",
       "    <tr style=\"text-align: right;\">\n",
       "      <th></th>\n",
       "      <th>user_id</th>\n",
       "      <th>age</th>\n",
       "      <th>churn_date</th>\n",
       "      <th>city</th>\n",
       "      <th>first_name</th>\n",
       "      <th>last_name</th>\n",
       "      <th>reg_date</th>\n",
       "      <th>tariff</th>\n",
       "      <th>reg_month</th>\n",
       "      <th>month</th>\n",
       "    </tr>\n",
       "  </thead>\n",
       "  <tbody>\n",
       "    <tr>\n",
       "      <th>4</th>\n",
       "      <td>1000</td>\n",
       "      <td>52</td>\n",
       "      <td>2099-01-01</td>\n",
       "      <td>Краснодар</td>\n",
       "      <td>Рафаил</td>\n",
       "      <td>Верещагин</td>\n",
       "      <td>2018-05-25</td>\n",
       "      <td>ultra</td>\n",
       "      <td>2018-05-01</td>\n",
       "      <td>2018-05-01</td>\n",
       "    </tr>\n",
       "    <tr>\n",
       "      <th>5</th>\n",
       "      <td>1000</td>\n",
       "      <td>52</td>\n",
       "      <td>2099-01-01</td>\n",
       "      <td>Краснодар</td>\n",
       "      <td>Рафаил</td>\n",
       "      <td>Верещагин</td>\n",
       "      <td>2018-05-25</td>\n",
       "      <td>ultra</td>\n",
       "      <td>2018-05-01</td>\n",
       "      <td>2018-06-01</td>\n",
       "    </tr>\n",
       "    <tr>\n",
       "      <th>6</th>\n",
       "      <td>1000</td>\n",
       "      <td>52</td>\n",
       "      <td>2099-01-01</td>\n",
       "      <td>Краснодар</td>\n",
       "      <td>Рафаил</td>\n",
       "      <td>Верещагин</td>\n",
       "      <td>2018-05-25</td>\n",
       "      <td>ultra</td>\n",
       "      <td>2018-05-01</td>\n",
       "      <td>2018-07-01</td>\n",
       "    </tr>\n",
       "    <tr>\n",
       "      <th>7</th>\n",
       "      <td>1000</td>\n",
       "      <td>52</td>\n",
       "      <td>2099-01-01</td>\n",
       "      <td>Краснодар</td>\n",
       "      <td>Рафаил</td>\n",
       "      <td>Верещагин</td>\n",
       "      <td>2018-05-25</td>\n",
       "      <td>ultra</td>\n",
       "      <td>2018-05-01</td>\n",
       "      <td>2018-08-01</td>\n",
       "    </tr>\n",
       "    <tr>\n",
       "      <th>8</th>\n",
       "      <td>1000</td>\n",
       "      <td>52</td>\n",
       "      <td>2099-01-01</td>\n",
       "      <td>Краснодар</td>\n",
       "      <td>Рафаил</td>\n",
       "      <td>Верещагин</td>\n",
       "      <td>2018-05-25</td>\n",
       "      <td>ultra</td>\n",
       "      <td>2018-05-01</td>\n",
       "      <td>2018-09-01</td>\n",
       "    </tr>\n",
       "    <tr>\n",
       "      <th>...</th>\n",
       "      <td>...</td>\n",
       "      <td>...</td>\n",
       "      <td>...</td>\n",
       "      <td>...</td>\n",
       "      <td>...</td>\n",
       "      <td>...</td>\n",
       "      <td>...</td>\n",
       "      <td>...</td>\n",
       "      <td>...</td>\n",
       "      <td>...</td>\n",
       "    </tr>\n",
       "    <tr>\n",
       "      <th>5985</th>\n",
       "      <td>1498</td>\n",
       "      <td>68</td>\n",
       "      <td>2018-10-25</td>\n",
       "      <td>Владикавказ</td>\n",
       "      <td>Всеволод</td>\n",
       "      <td>Акимчин</td>\n",
       "      <td>2018-07-19</td>\n",
       "      <td>smart</td>\n",
       "      <td>2018-07-01</td>\n",
       "      <td>2018-10-01</td>\n",
       "    </tr>\n",
       "    <tr>\n",
       "      <th>5996</th>\n",
       "      <td>1499</td>\n",
       "      <td>35</td>\n",
       "      <td>2099-01-01</td>\n",
       "      <td>Пермь</td>\n",
       "      <td>Гектор</td>\n",
       "      <td>Корнилов</td>\n",
       "      <td>2018-09-27</td>\n",
       "      <td>smart</td>\n",
       "      <td>2018-09-01</td>\n",
       "      <td>2018-09-01</td>\n",
       "    </tr>\n",
       "    <tr>\n",
       "      <th>5997</th>\n",
       "      <td>1499</td>\n",
       "      <td>35</td>\n",
       "      <td>2099-01-01</td>\n",
       "      <td>Пермь</td>\n",
       "      <td>Гектор</td>\n",
       "      <td>Корнилов</td>\n",
       "      <td>2018-09-27</td>\n",
       "      <td>smart</td>\n",
       "      <td>2018-09-01</td>\n",
       "      <td>2018-10-01</td>\n",
       "    </tr>\n",
       "    <tr>\n",
       "      <th>5998</th>\n",
       "      <td>1499</td>\n",
       "      <td>35</td>\n",
       "      <td>2099-01-01</td>\n",
       "      <td>Пермь</td>\n",
       "      <td>Гектор</td>\n",
       "      <td>Корнилов</td>\n",
       "      <td>2018-09-27</td>\n",
       "      <td>smart</td>\n",
       "      <td>2018-09-01</td>\n",
       "      <td>2018-11-01</td>\n",
       "    </tr>\n",
       "    <tr>\n",
       "      <th>5999</th>\n",
       "      <td>1499</td>\n",
       "      <td>35</td>\n",
       "      <td>2099-01-01</td>\n",
       "      <td>Пермь</td>\n",
       "      <td>Гектор</td>\n",
       "      <td>Корнилов</td>\n",
       "      <td>2018-09-27</td>\n",
       "      <td>smart</td>\n",
       "      <td>2018-09-01</td>\n",
       "      <td>2018-12-01</td>\n",
       "    </tr>\n",
       "  </tbody>\n",
       "</table>\n",
       "<p>3216 rows × 10 columns</p>\n",
       "</div>"
      ],
      "text/plain": [
       "      user_id  age churn_date         city first_name  last_name   reg_date  \\\n",
       "4        1000   52 2099-01-01    Краснодар     Рафаил  Верещагин 2018-05-25   \n",
       "5        1000   52 2099-01-01    Краснодар     Рафаил  Верещагин 2018-05-25   \n",
       "6        1000   52 2099-01-01    Краснодар     Рафаил  Верещагин 2018-05-25   \n",
       "7        1000   52 2099-01-01    Краснодар     Рафаил  Верещагин 2018-05-25   \n",
       "8        1000   52 2099-01-01    Краснодар     Рафаил  Верещагин 2018-05-25   \n",
       "...       ...  ...        ...          ...        ...        ...        ...   \n",
       "5985     1498   68 2018-10-25  Владикавказ   Всеволод    Акимчин 2018-07-19   \n",
       "5996     1499   35 2099-01-01        Пермь     Гектор   Корнилов 2018-09-27   \n",
       "5997     1499   35 2099-01-01        Пермь     Гектор   Корнилов 2018-09-27   \n",
       "5998     1499   35 2099-01-01        Пермь     Гектор   Корнилов 2018-09-27   \n",
       "5999     1499   35 2099-01-01        Пермь     Гектор   Корнилов 2018-09-27   \n",
       "\n",
       "     tariff  reg_month      month  \n",
       "4     ultra 2018-05-01 2018-05-01  \n",
       "5     ultra 2018-05-01 2018-06-01  \n",
       "6     ultra 2018-05-01 2018-07-01  \n",
       "7     ultra 2018-05-01 2018-08-01  \n",
       "8     ultra 2018-05-01 2018-09-01  \n",
       "...     ...        ...        ...  \n",
       "5985  smart 2018-07-01 2018-10-01  \n",
       "5996  smart 2018-09-01 2018-09-01  \n",
       "5997  smart 2018-09-01 2018-10-01  \n",
       "5998  smart 2018-09-01 2018-11-01  \n",
       "5999  smart 2018-09-01 2018-12-01  \n",
       "\n",
       "[3216 rows x 10 columns]"
      ]
     },
     "execution_count": 55,
     "metadata": {},
     "output_type": "execute_result"
    }
   ],
   "source": [
    "users_date"
   ]
  },
  {
   "cell_type": "code",
   "execution_count": 56,
   "metadata": {},
   "outputs": [
    {
     "data": {
      "text/html": [
       "<div>\n",
       "<style scoped>\n",
       "    .dataframe tbody tr th:only-of-type {\n",
       "        vertical-align: middle;\n",
       "    }\n",
       "\n",
       "    .dataframe tbody tr th {\n",
       "        vertical-align: top;\n",
       "    }\n",
       "\n",
       "    .dataframe thead th {\n",
       "        text-align: right;\n",
       "    }\n",
       "</style>\n",
       "<table border=\"1\" class=\"dataframe\">\n",
       "  <thead>\n",
       "    <tr style=\"text-align: right;\">\n",
       "      <th></th>\n",
       "      <th>user_id</th>\n",
       "      <th>age</th>\n",
       "      <th>churn_date</th>\n",
       "      <th>city</th>\n",
       "      <th>first_name</th>\n",
       "      <th>last_name</th>\n",
       "      <th>reg_date</th>\n",
       "      <th>tariff</th>\n",
       "      <th>reg_month</th>\n",
       "      <th>month</th>\n",
       "    </tr>\n",
       "  </thead>\n",
       "  <tbody>\n",
       "    <tr>\n",
       "      <th>5982</th>\n",
       "      <td>1498</td>\n",
       "      <td>68</td>\n",
       "      <td>2018-10-25</td>\n",
       "      <td>Владикавказ</td>\n",
       "      <td>Всеволод</td>\n",
       "      <td>Акимчин</td>\n",
       "      <td>2018-07-19</td>\n",
       "      <td>smart</td>\n",
       "      <td>2018-07-01</td>\n",
       "      <td>2018-07-01</td>\n",
       "    </tr>\n",
       "    <tr>\n",
       "      <th>5983</th>\n",
       "      <td>1498</td>\n",
       "      <td>68</td>\n",
       "      <td>2018-10-25</td>\n",
       "      <td>Владикавказ</td>\n",
       "      <td>Всеволод</td>\n",
       "      <td>Акимчин</td>\n",
       "      <td>2018-07-19</td>\n",
       "      <td>smart</td>\n",
       "      <td>2018-07-01</td>\n",
       "      <td>2018-08-01</td>\n",
       "    </tr>\n",
       "    <tr>\n",
       "      <th>5984</th>\n",
       "      <td>1498</td>\n",
       "      <td>68</td>\n",
       "      <td>2018-10-25</td>\n",
       "      <td>Владикавказ</td>\n",
       "      <td>Всеволод</td>\n",
       "      <td>Акимчин</td>\n",
       "      <td>2018-07-19</td>\n",
       "      <td>smart</td>\n",
       "      <td>2018-07-01</td>\n",
       "      <td>2018-09-01</td>\n",
       "    </tr>\n",
       "    <tr>\n",
       "      <th>5985</th>\n",
       "      <td>1498</td>\n",
       "      <td>68</td>\n",
       "      <td>2018-10-25</td>\n",
       "      <td>Владикавказ</td>\n",
       "      <td>Всеволод</td>\n",
       "      <td>Акимчин</td>\n",
       "      <td>2018-07-19</td>\n",
       "      <td>smart</td>\n",
       "      <td>2018-07-01</td>\n",
       "      <td>2018-10-01</td>\n",
       "    </tr>\n",
       "  </tbody>\n",
       "</table>\n",
       "</div>"
      ],
      "text/plain": [
       "      user_id  age churn_date         city first_name last_name   reg_date  \\\n",
       "5982     1498   68 2018-10-25  Владикавказ   Всеволод   Акимчин 2018-07-19   \n",
       "5983     1498   68 2018-10-25  Владикавказ   Всеволод   Акимчин 2018-07-19   \n",
       "5984     1498   68 2018-10-25  Владикавказ   Всеволод   Акимчин 2018-07-19   \n",
       "5985     1498   68 2018-10-25  Владикавказ   Всеволод   Акимчин 2018-07-19   \n",
       "\n",
       "     tariff  reg_month      month  \n",
       "5982  smart 2018-07-01 2018-07-01  \n",
       "5983  smart 2018-07-01 2018-08-01  \n",
       "5984  smart 2018-07-01 2018-09-01  \n",
       "5985  smart 2018-07-01 2018-10-01  "
      ]
     },
     "execution_count": 56,
     "metadata": {},
     "output_type": "execute_result"
    }
   ],
   "source": [
    "users_date[users_date['user_id'] == 1498]"
   ]
  },
  {
   "cell_type": "code",
   "execution_count": 57,
   "metadata": {},
   "outputs": [
    {
     "data": {
      "text/html": [
       "<div>\n",
       "<style scoped>\n",
       "    .dataframe tbody tr th:only-of-type {\n",
       "        vertical-align: middle;\n",
       "    }\n",
       "\n",
       "    .dataframe tbody tr th {\n",
       "        vertical-align: top;\n",
       "    }\n",
       "\n",
       "    .dataframe thead th {\n",
       "        text-align: right;\n",
       "    }\n",
       "</style>\n",
       "<table border=\"1\" class=\"dataframe\">\n",
       "  <thead>\n",
       "    <tr style=\"text-align: right;\">\n",
       "      <th></th>\n",
       "      <th>user_id</th>\n",
       "      <th>age</th>\n",
       "      <th>churn_date</th>\n",
       "      <th>city</th>\n",
       "      <th>first_name</th>\n",
       "      <th>last_name</th>\n",
       "      <th>reg_date</th>\n",
       "      <th>tariff</th>\n",
       "      <th>reg_month</th>\n",
       "      <th>month</th>\n",
       "    </tr>\n",
       "  </thead>\n",
       "  <tbody>\n",
       "    <tr>\n",
       "      <th>5996</th>\n",
       "      <td>1499</td>\n",
       "      <td>35</td>\n",
       "      <td>2099-01-01</td>\n",
       "      <td>Пермь</td>\n",
       "      <td>Гектор</td>\n",
       "      <td>Корнилов</td>\n",
       "      <td>2018-09-27</td>\n",
       "      <td>smart</td>\n",
       "      <td>2018-09-01</td>\n",
       "      <td>2018-09-01</td>\n",
       "    </tr>\n",
       "    <tr>\n",
       "      <th>5997</th>\n",
       "      <td>1499</td>\n",
       "      <td>35</td>\n",
       "      <td>2099-01-01</td>\n",
       "      <td>Пермь</td>\n",
       "      <td>Гектор</td>\n",
       "      <td>Корнилов</td>\n",
       "      <td>2018-09-27</td>\n",
       "      <td>smart</td>\n",
       "      <td>2018-09-01</td>\n",
       "      <td>2018-10-01</td>\n",
       "    </tr>\n",
       "    <tr>\n",
       "      <th>5998</th>\n",
       "      <td>1499</td>\n",
       "      <td>35</td>\n",
       "      <td>2099-01-01</td>\n",
       "      <td>Пермь</td>\n",
       "      <td>Гектор</td>\n",
       "      <td>Корнилов</td>\n",
       "      <td>2018-09-27</td>\n",
       "      <td>smart</td>\n",
       "      <td>2018-09-01</td>\n",
       "      <td>2018-11-01</td>\n",
       "    </tr>\n",
       "    <tr>\n",
       "      <th>5999</th>\n",
       "      <td>1499</td>\n",
       "      <td>35</td>\n",
       "      <td>2099-01-01</td>\n",
       "      <td>Пермь</td>\n",
       "      <td>Гектор</td>\n",
       "      <td>Корнилов</td>\n",
       "      <td>2018-09-27</td>\n",
       "      <td>smart</td>\n",
       "      <td>2018-09-01</td>\n",
       "      <td>2018-12-01</td>\n",
       "    </tr>\n",
       "  </tbody>\n",
       "</table>\n",
       "</div>"
      ],
      "text/plain": [
       "      user_id  age churn_date   city first_name last_name   reg_date tariff  \\\n",
       "5996     1499   35 2099-01-01  Пермь     Гектор  Корнилов 2018-09-27  smart   \n",
       "5997     1499   35 2099-01-01  Пермь     Гектор  Корнилов 2018-09-27  smart   \n",
       "5998     1499   35 2099-01-01  Пермь     Гектор  Корнилов 2018-09-27  smart   \n",
       "5999     1499   35 2099-01-01  Пермь     Гектор  Корнилов 2018-09-27  smart   \n",
       "\n",
       "      reg_month      month  \n",
       "5996 2018-09-01 2018-09-01  \n",
       "5997 2018-09-01 2018-10-01  \n",
       "5998 2018-09-01 2018-11-01  \n",
       "5999 2018-09-01 2018-12-01  "
      ]
     },
     "execution_count": 57,
     "metadata": {},
     "output_type": "execute_result"
    }
   ],
   "source": [
    "users_date[users_date['user_id'] == 1499]"
   ]
  },
  {
   "cell_type": "markdown",
   "metadata": {},
   "source": [
    "Теперь в моей заготовке аналитической таблицы записи пользователей только о тех месяцах, в которых они были подключены к тарифу **в рамках 2018 года**."
   ]
  },
  {
   "cell_type": "code",
   "execution_count": 58,
   "metadata": {},
   "outputs": [
    {
     "data": {
      "text/plain": [
       "500"
      ]
     },
     "execution_count": 58,
     "metadata": {},
     "output_type": "execute_result"
    }
   ],
   "source": [
    "# проверим, все-ли абоненты на месте\n",
    "users_date['user_id'].nunique()"
   ]
  },
  {
   "cell_type": "markdown",
   "metadata": {},
   "source": [
    "Теперь сагрегирую и добавлю в мою заготовку данные о звонках, отправленных сообщениях, совершённых интренет сессиях **(после суммирования по месяцам трафик округлю вверх до целых гигабайт)**. После - добавлю данные из тарифных планов о стоимости и подсчитаю, кто сколько принёс компании и как использовал тариф после достижения лимитов."
   ]
  },
  {
   "cell_type": "code",
   "execution_count": 59,
   "metadata": {},
   "outputs": [],
   "source": [
    "agg_calls = calls.groupby(['user_id','month'])['duration'].agg(['count','sum']).reset_index()"
   ]
  },
  {
   "cell_type": "code",
   "execution_count": 60,
   "metadata": {},
   "outputs": [],
   "source": [
    "agg_calls.columns = ['user_id', 'month', 'calls_count', 'calls_sum']"
   ]
  },
  {
   "cell_type": "code",
   "execution_count": 61,
   "metadata": {},
   "outputs": [
    {
     "data": {
      "text/plain": [
       "1450301"
      ]
     },
     "execution_count": 61,
     "metadata": {},
     "output_type": "execute_result"
    }
   ],
   "source": [
    "agg_calls['calls_sum'].sum()"
   ]
  },
  {
   "cell_type": "code",
   "execution_count": 62,
   "metadata": {},
   "outputs": [
    {
     "data": {
      "text/plain": [
       "1450301"
      ]
     },
     "execution_count": 62,
     "metadata": {},
     "output_type": "execute_result"
    }
   ],
   "source": [
    "calls['duration'].sum()"
   ]
  },
  {
   "cell_type": "markdown",
   "metadata": {},
   "source": [
    "Минуты не потерял - это хорошо. Каждый заплатит по счетам, но ни копейкой больше)"
   ]
  },
  {
   "cell_type": "code",
   "execution_count": 63,
   "metadata": {},
   "outputs": [],
   "source": [
    "agg_messages = messages.groupby(['user_id','month'])['id'].count().reset_index()"
   ]
  },
  {
   "cell_type": "code",
   "execution_count": 64,
   "metadata": {},
   "outputs": [],
   "source": [
    "agg_messages.columns = ['user_id', 'month', 'messages_count']"
   ]
  },
  {
   "cell_type": "code",
   "execution_count": 65,
   "metadata": {},
   "outputs": [
    {
     "data": {
      "text/plain": [
       "123036"
      ]
     },
     "execution_count": 65,
     "metadata": {},
     "output_type": "execute_result"
    }
   ],
   "source": [
    "agg_messages['messages_count'].sum()"
   ]
  },
  {
   "cell_type": "code",
   "execution_count": 66,
   "metadata": {},
   "outputs": [
    {
     "data": {
      "text/plain": [
       "123036"
      ]
     },
     "execution_count": 66,
     "metadata": {},
     "output_type": "execute_result"
    }
   ],
   "source": [
    "messages['id'].count()"
   ]
  },
  {
   "cell_type": "markdown",
   "metadata": {},
   "source": [
    "Сообщения тоже все на месте "
   ]
  },
  {
   "cell_type": "code",
   "execution_count": 67,
   "metadata": {},
   "outputs": [],
   "source": [
    "agg_internet = internet.groupby(['user_id','month'])['mb_used'].sum().reset_index()"
   ]
  },
  {
   "cell_type": "code",
   "execution_count": 68,
   "metadata": {},
   "outputs": [
    {
     "data": {
      "text/plain": [
       "55305267.730000004"
      ]
     },
     "execution_count": 68,
     "metadata": {},
     "output_type": "execute_result"
    }
   ],
   "source": [
    "agg_internet['mb_used'].sum()"
   ]
  },
  {
   "cell_type": "code",
   "execution_count": 69,
   "metadata": {},
   "outputs": [
    {
     "data": {
      "text/plain": [
       "55305267.73"
      ]
     },
     "execution_count": 69,
     "metadata": {},
     "output_type": "execute_result"
    }
   ],
   "source": [
    "internet['mb_used'].sum()"
   ]
  },
  {
   "cell_type": "markdown",
   "metadata": {},
   "source": [
    "Мегабайты тоже все на вместе. Теперь округлю их в каждом месяце для каждого пользователя до Гб в большую сторону"
   ]
  },
  {
   "cell_type": "code",
   "execution_count": 70,
   "metadata": {},
   "outputs": [],
   "source": [
    "agg_internet['gb_used'] = np.ceil(agg_internet['mb_used'] / 1024).astype(int)"
   ]
  },
  {
   "cell_type": "code",
   "execution_count": 71,
   "metadata": {},
   "outputs": [],
   "source": [
    "# at - analytic table\n",
    "at = users_date.merge(agg_calls,how='left', on=['user_id','month'])"
   ]
  },
  {
   "cell_type": "code",
   "execution_count": 72,
   "metadata": {},
   "outputs": [],
   "source": [
    "at = at.merge(agg_messages,how='left',on=['user_id','month'])"
   ]
  },
  {
   "cell_type": "code",
   "execution_count": 73,
   "metadata": {},
   "outputs": [],
   "source": [
    "at = at.merge(agg_internet,how='left',on=['user_id','month'])"
   ]
  },
  {
   "cell_type": "markdown",
   "metadata": {},
   "source": [
    "Для решения поставленной задачи мне нужны не все столбцы, поэтому чтобы не разбегались глаза я пересохраню в переменной `at` только нужные."
   ]
  },
  {
   "cell_type": "code",
   "execution_count": 74,
   "metadata": {},
   "outputs": [],
   "source": [
    "at = at[['user_id', 'city', 'month', 'calls_count', 'calls_sum',\n",
    "       'messages_count', 'gb_used', 'tariff']]"
   ]
  },
  {
   "cell_type": "code",
   "execution_count": 75,
   "metadata": {},
   "outputs": [
    {
     "data": {
      "text/plain": [
       "1450301.0"
      ]
     },
     "execution_count": 75,
     "metadata": {},
     "output_type": "execute_result"
    }
   ],
   "source": [
    "at['calls_sum'].sum()"
   ]
  },
  {
   "cell_type": "code",
   "execution_count": 76,
   "metadata": {},
   "outputs": [
    {
     "data": {
      "text/plain": [
       "1450301"
      ]
     },
     "execution_count": 76,
     "metadata": {},
     "output_type": "execute_result"
    }
   ],
   "source": [
    "calls['duration'].sum()"
   ]
  },
  {
   "cell_type": "code",
   "execution_count": 77,
   "metadata": {},
   "outputs": [
    {
     "data": {
      "text/plain": [
       "123036.0"
      ]
     },
     "execution_count": 77,
     "metadata": {},
     "output_type": "execute_result"
    }
   ],
   "source": [
    "at['messages_count'].sum()"
   ]
  },
  {
   "cell_type": "code",
   "execution_count": 78,
   "metadata": {},
   "outputs": [
    {
     "data": {
      "text/plain": [
       "123036"
      ]
     },
     "execution_count": 78,
     "metadata": {},
     "output_type": "execute_result"
    }
   ],
   "source": [
    "messages['id'].count()"
   ]
  },
  {
   "cell_type": "code",
   "execution_count": 79,
   "metadata": {},
   "outputs": [
    {
     "data": {
      "text/plain": [
       "(             data  per_miss       data_type\n",
       " 0         user_id  0.000000           int64\n",
       " 1            city  0.000000          object\n",
       " 2           month  0.000000  datetime64[ns]\n",
       " 3     calls_count  0.013060         float64\n",
       " 4       calls_sum  0.013060         float64\n",
       " 5  messages_count  0.155162         float64\n",
       " 6         gb_used  0.004042         float64\n",
       " 7          tariff  0.000000          object,\n",
       " 'Number of lines: 3216')"
      ]
     },
     "execution_count": 79,
     "metadata": {},
     "output_type": "execute_result"
    }
   ],
   "source": [
    "df_info(at)"
   ]
  },
  {
   "cell_type": "markdown",
   "metadata": {},
   "source": [
    "Все звонки и минуты остались на месте. А пропуски появились там, где абоненты не пользовались услугой: я не зря на этом заоострял внимание в блоке \"Выводы из сырых данных\"\n",
    "\n",
    "\n",
    "**Рассчитаю помесячную выручку с каждого пользователя. Для этого дополню аналитическую таблицу параметрами тарифов и заполню пропуски в сообщениях, звонках и интернет сессиях - нулями, чтобы рассчёты не получились с NaN-значениями**\n",
    "\n"
   ]
  },
  {
   "cell_type": "code",
   "execution_count": 80,
   "metadata": {},
   "outputs": [],
   "source": [
    "at = at.fillna(0)"
   ]
  },
  {
   "cell_type": "code",
   "execution_count": 81,
   "metadata": {},
   "outputs": [
    {
     "data": {
      "text/plain": [
       "(             data  per_miss       data_type\n",
       " 0         user_id       0.0           int64\n",
       " 1            city       0.0          object\n",
       " 2           month       0.0  datetime64[ns]\n",
       " 3     calls_count       0.0         float64\n",
       " 4       calls_sum       0.0         float64\n",
       " 5  messages_count       0.0         float64\n",
       " 6         gb_used       0.0         float64\n",
       " 7          tariff       0.0          object,\n",
       " 'Number of lines: 3216')"
      ]
     },
     "execution_count": 81,
     "metadata": {},
     "output_type": "execute_result"
    }
   ],
   "source": [
    "df_info(at)"
   ]
  },
  {
   "cell_type": "code",
   "execution_count": 82,
   "metadata": {},
   "outputs": [],
   "source": [
    "at = at.merge(tariffs,left_on='tariff',right_on='tariff_name')"
   ]
  },
  {
   "cell_type": "code",
   "execution_count": 83,
   "metadata": {
    "scrolled": false
   },
   "outputs": [
    {
     "data": {
      "text/plain": [
       "500"
      ]
     },
     "execution_count": 83,
     "metadata": {},
     "output_type": "execute_result"
    }
   ],
   "source": [
    "at.user_id.nunique()"
   ]
  },
  {
   "cell_type": "code",
   "execution_count": 84,
   "metadata": {},
   "outputs": [
    {
     "data": {
      "text/html": [
       "<div>\n",
       "<style scoped>\n",
       "    .dataframe tbody tr th:only-of-type {\n",
       "        vertical-align: middle;\n",
       "    }\n",
       "\n",
       "    .dataframe tbody tr th {\n",
       "        vertical-align: top;\n",
       "    }\n",
       "\n",
       "    .dataframe thead th {\n",
       "        text-align: right;\n",
       "    }\n",
       "</style>\n",
       "<table border=\"1\" class=\"dataframe\">\n",
       "  <thead>\n",
       "    <tr style=\"text-align: right;\">\n",
       "      <th></th>\n",
       "      <th>user_id</th>\n",
       "      <th>city</th>\n",
       "      <th>month</th>\n",
       "      <th>calls_count</th>\n",
       "      <th>calls_sum</th>\n",
       "      <th>messages_count</th>\n",
       "      <th>gb_used</th>\n",
       "      <th>tariff</th>\n",
       "      <th>messages_included</th>\n",
       "      <th>mb_per_month_included</th>\n",
       "      <th>minutes_included</th>\n",
       "      <th>rub_monthly_fee</th>\n",
       "      <th>rub_per_gb</th>\n",
       "      <th>rub_per_message</th>\n",
       "      <th>rub_per_minute</th>\n",
       "      <th>tariff_name</th>\n",
       "    </tr>\n",
       "  </thead>\n",
       "  <tbody>\n",
       "    <tr>\n",
       "      <th>0</th>\n",
       "      <td>1000</td>\n",
       "      <td>Краснодар</td>\n",
       "      <td>2018-05-01</td>\n",
       "      <td>22.0</td>\n",
       "      <td>159.0</td>\n",
       "      <td>22.0</td>\n",
       "      <td>3.0</td>\n",
       "      <td>ultra</td>\n",
       "      <td>1000</td>\n",
       "      <td>30720</td>\n",
       "      <td>3000</td>\n",
       "      <td>1950</td>\n",
       "      <td>150</td>\n",
       "      <td>1</td>\n",
       "      <td>1</td>\n",
       "      <td>ultra</td>\n",
       "    </tr>\n",
       "    <tr>\n",
       "      <th>1</th>\n",
       "      <td>1000</td>\n",
       "      <td>Краснодар</td>\n",
       "      <td>2018-06-01</td>\n",
       "      <td>43.0</td>\n",
       "      <td>172.0</td>\n",
       "      <td>60.0</td>\n",
       "      <td>23.0</td>\n",
       "      <td>ultra</td>\n",
       "      <td>1000</td>\n",
       "      <td>30720</td>\n",
       "      <td>3000</td>\n",
       "      <td>1950</td>\n",
       "      <td>150</td>\n",
       "      <td>1</td>\n",
       "      <td>1</td>\n",
       "      <td>ultra</td>\n",
       "    </tr>\n",
       "    <tr>\n",
       "      <th>2</th>\n",
       "      <td>1000</td>\n",
       "      <td>Краснодар</td>\n",
       "      <td>2018-07-01</td>\n",
       "      <td>47.0</td>\n",
       "      <td>340.0</td>\n",
       "      <td>75.0</td>\n",
       "      <td>14.0</td>\n",
       "      <td>ultra</td>\n",
       "      <td>1000</td>\n",
       "      <td>30720</td>\n",
       "      <td>3000</td>\n",
       "      <td>1950</td>\n",
       "      <td>150</td>\n",
       "      <td>1</td>\n",
       "      <td>1</td>\n",
       "      <td>ultra</td>\n",
       "    </tr>\n",
       "    <tr>\n",
       "      <th>3</th>\n",
       "      <td>1000</td>\n",
       "      <td>Краснодар</td>\n",
       "      <td>2018-08-01</td>\n",
       "      <td>52.0</td>\n",
       "      <td>408.0</td>\n",
       "      <td>81.0</td>\n",
       "      <td>14.0</td>\n",
       "      <td>ultra</td>\n",
       "      <td>1000</td>\n",
       "      <td>30720</td>\n",
       "      <td>3000</td>\n",
       "      <td>1950</td>\n",
       "      <td>150</td>\n",
       "      <td>1</td>\n",
       "      <td>1</td>\n",
       "      <td>ultra</td>\n",
       "    </tr>\n",
       "    <tr>\n",
       "      <th>4</th>\n",
       "      <td>1000</td>\n",
       "      <td>Краснодар</td>\n",
       "      <td>2018-09-01</td>\n",
       "      <td>58.0</td>\n",
       "      <td>466.0</td>\n",
       "      <td>57.0</td>\n",
       "      <td>15.0</td>\n",
       "      <td>ultra</td>\n",
       "      <td>1000</td>\n",
       "      <td>30720</td>\n",
       "      <td>3000</td>\n",
       "      <td>1950</td>\n",
       "      <td>150</td>\n",
       "      <td>1</td>\n",
       "      <td>1</td>\n",
       "      <td>ultra</td>\n",
       "    </tr>\n",
       "    <tr>\n",
       "      <th>...</th>\n",
       "      <td>...</td>\n",
       "      <td>...</td>\n",
       "      <td>...</td>\n",
       "      <td>...</td>\n",
       "      <td>...</td>\n",
       "      <td>...</td>\n",
       "      <td>...</td>\n",
       "      <td>...</td>\n",
       "      <td>...</td>\n",
       "      <td>...</td>\n",
       "      <td>...</td>\n",
       "      <td>...</td>\n",
       "      <td>...</td>\n",
       "      <td>...</td>\n",
       "      <td>...</td>\n",
       "      <td>...</td>\n",
       "    </tr>\n",
       "    <tr>\n",
       "      <th>3211</th>\n",
       "      <td>1498</td>\n",
       "      <td>Владикавказ</td>\n",
       "      <td>2018-10-01</td>\n",
       "      <td>41.0</td>\n",
       "      <td>247.0</td>\n",
       "      <td>42.0</td>\n",
       "      <td>21.0</td>\n",
       "      <td>smart</td>\n",
       "      <td>50</td>\n",
       "      <td>15360</td>\n",
       "      <td>500</td>\n",
       "      <td>550</td>\n",
       "      <td>200</td>\n",
       "      <td>3</td>\n",
       "      <td>3</td>\n",
       "      <td>smart</td>\n",
       "    </tr>\n",
       "    <tr>\n",
       "      <th>3212</th>\n",
       "      <td>1499</td>\n",
       "      <td>Пермь</td>\n",
       "      <td>2018-09-01</td>\n",
       "      <td>9.0</td>\n",
       "      <td>70.0</td>\n",
       "      <td>11.0</td>\n",
       "      <td>2.0</td>\n",
       "      <td>smart</td>\n",
       "      <td>50</td>\n",
       "      <td>15360</td>\n",
       "      <td>500</td>\n",
       "      <td>550</td>\n",
       "      <td>200</td>\n",
       "      <td>3</td>\n",
       "      <td>3</td>\n",
       "      <td>smart</td>\n",
       "    </tr>\n",
       "    <tr>\n",
       "      <th>3213</th>\n",
       "      <td>1499</td>\n",
       "      <td>Пермь</td>\n",
       "      <td>2018-10-01</td>\n",
       "      <td>68.0</td>\n",
       "      <td>449.0</td>\n",
       "      <td>48.0</td>\n",
       "      <td>18.0</td>\n",
       "      <td>smart</td>\n",
       "      <td>50</td>\n",
       "      <td>15360</td>\n",
       "      <td>500</td>\n",
       "      <td>550</td>\n",
       "      <td>200</td>\n",
       "      <td>3</td>\n",
       "      <td>3</td>\n",
       "      <td>smart</td>\n",
       "    </tr>\n",
       "    <tr>\n",
       "      <th>3214</th>\n",
       "      <td>1499</td>\n",
       "      <td>Пермь</td>\n",
       "      <td>2018-11-01</td>\n",
       "      <td>74.0</td>\n",
       "      <td>612.0</td>\n",
       "      <td>59.0</td>\n",
       "      <td>18.0</td>\n",
       "      <td>smart</td>\n",
       "      <td>50</td>\n",
       "      <td>15360</td>\n",
       "      <td>500</td>\n",
       "      <td>550</td>\n",
       "      <td>200</td>\n",
       "      <td>3</td>\n",
       "      <td>3</td>\n",
       "      <td>smart</td>\n",
       "    </tr>\n",
       "    <tr>\n",
       "      <th>3215</th>\n",
       "      <td>1499</td>\n",
       "      <td>Пермь</td>\n",
       "      <td>2018-12-01</td>\n",
       "      <td>69.0</td>\n",
       "      <td>492.0</td>\n",
       "      <td>66.0</td>\n",
       "      <td>13.0</td>\n",
       "      <td>smart</td>\n",
       "      <td>50</td>\n",
       "      <td>15360</td>\n",
       "      <td>500</td>\n",
       "      <td>550</td>\n",
       "      <td>200</td>\n",
       "      <td>3</td>\n",
       "      <td>3</td>\n",
       "      <td>smart</td>\n",
       "    </tr>\n",
       "  </tbody>\n",
       "</table>\n",
       "<p>3216 rows × 16 columns</p>\n",
       "</div>"
      ],
      "text/plain": [
       "      user_id         city      month  calls_count  calls_sum  messages_count  \\\n",
       "0        1000    Краснодар 2018-05-01         22.0      159.0            22.0   \n",
       "1        1000    Краснодар 2018-06-01         43.0      172.0            60.0   \n",
       "2        1000    Краснодар 2018-07-01         47.0      340.0            75.0   \n",
       "3        1000    Краснодар 2018-08-01         52.0      408.0            81.0   \n",
       "4        1000    Краснодар 2018-09-01         58.0      466.0            57.0   \n",
       "...       ...          ...        ...          ...        ...             ...   \n",
       "3211     1498  Владикавказ 2018-10-01         41.0      247.0            42.0   \n",
       "3212     1499        Пермь 2018-09-01          9.0       70.0            11.0   \n",
       "3213     1499        Пермь 2018-10-01         68.0      449.0            48.0   \n",
       "3214     1499        Пермь 2018-11-01         74.0      612.0            59.0   \n",
       "3215     1499        Пермь 2018-12-01         69.0      492.0            66.0   \n",
       "\n",
       "      gb_used tariff  messages_included  mb_per_month_included  \\\n",
       "0         3.0  ultra               1000                  30720   \n",
       "1        23.0  ultra               1000                  30720   \n",
       "2        14.0  ultra               1000                  30720   \n",
       "3        14.0  ultra               1000                  30720   \n",
       "4        15.0  ultra               1000                  30720   \n",
       "...       ...    ...                ...                    ...   \n",
       "3211     21.0  smart                 50                  15360   \n",
       "3212      2.0  smart                 50                  15360   \n",
       "3213     18.0  smart                 50                  15360   \n",
       "3214     18.0  smart                 50                  15360   \n",
       "3215     13.0  smart                 50                  15360   \n",
       "\n",
       "      minutes_included  rub_monthly_fee  rub_per_gb  rub_per_message  \\\n",
       "0                 3000             1950         150                1   \n",
       "1                 3000             1950         150                1   \n",
       "2                 3000             1950         150                1   \n",
       "3                 3000             1950         150                1   \n",
       "4                 3000             1950         150                1   \n",
       "...                ...              ...         ...              ...   \n",
       "3211               500              550         200                3   \n",
       "3212               500              550         200                3   \n",
       "3213               500              550         200                3   \n",
       "3214               500              550         200                3   \n",
       "3215               500              550         200                3   \n",
       "\n",
       "      rub_per_minute tariff_name  \n",
       "0                  1       ultra  \n",
       "1                  1       ultra  \n",
       "2                  1       ultra  \n",
       "3                  1       ultra  \n",
       "4                  1       ultra  \n",
       "...              ...         ...  \n",
       "3211               3       smart  \n",
       "3212               3       smart  \n",
       "3213               3       smart  \n",
       "3214               3       smart  \n",
       "3215               3       smart  \n",
       "\n",
       "[3216 rows x 16 columns]"
      ]
     },
     "execution_count": 84,
     "metadata": {},
     "output_type": "execute_result"
    }
   ],
   "source": [
    "at"
   ]
  },
  {
   "cell_type": "code",
   "execution_count": 85,
   "metadata": {},
   "outputs": [],
   "source": [
    "at['mb_per_month_included'] = at['mb_per_month_included'] / 1024"
   ]
  },
  {
   "cell_type": "code",
   "execution_count": 86,
   "metadata": {},
   "outputs": [],
   "source": [
    "at['mb_per_month_included'] = at['mb_per_month_included'].astype(int)"
   ]
  },
  {
   "cell_type": "code",
   "execution_count": 87,
   "metadata": {},
   "outputs": [],
   "source": [
    "at.rename({'mb_per_month_included':'gb_per_month_included'},axis=1,inplace=True)"
   ]
  },
  {
   "cell_type": "markdown",
   "metadata": {},
   "source": [
    "Наверняка следующие действия по вычислению выручки можно сделать намного элегантнее. Но при решении этот вариант был для меня наиболее прозрачным (был конец рабочего дня))"
   ]
  },
  {
   "cell_type": "code",
   "execution_count": 88,
   "metadata": {},
   "outputs": [],
   "source": [
    "def tariff_delta_calls(row):\n",
    "  \"\"\"Функция возвращает стоимость перерасхода по звонкам\n",
    "    \"\"\"\n",
    "  real_expense_calls = row['calls_sum']\n",
    "  stock_at_tariff_calls = row['minutes_included']\n",
    "  rub_per_minute = row['rub_per_minute']\n",
    "  if stock_at_tariff_calls >= real_expense_calls:\n",
    "    return 0\n",
    "  else:\n",
    "    return (real_expense_calls - stock_at_tariff_calls) * rub_per_minute"
   ]
  },
  {
   "cell_type": "code",
   "execution_count": 89,
   "metadata": {},
   "outputs": [],
   "source": [
    "def tariff_delta_messages(row):\n",
    "  \"\"\"Функция возвращает стоимость перерасхода по sms-сообщениям\n",
    "    \"\"\"\n",
    "  real_expense_messages = row['messages_count']\n",
    "  stock_at_tariff_messages = row['messages_included']\n",
    "  rub_per_message = row['rub_per_message']\n",
    "  if stock_at_tariff_messages >= real_expense_messages:\n",
    "    return 0\n",
    "  else:\n",
    "    return (real_expense_messages - stock_at_tariff_messages) * rub_per_message"
   ]
  },
  {
   "cell_type": "code",
   "execution_count": 90,
   "metadata": {},
   "outputs": [],
   "source": [
    "def tariff_delta_gb(row):\n",
    "  \"\"\"Функция возвращает стоимость перерасхода интернет трафика\n",
    "    \"\"\"\n",
    "  real_expense_gb = row['gb_used']\n",
    "  stock_at_tariff_gb = row['gb_per_month_included']\n",
    "  rub_per_gb = row['rub_per_gb']\n",
    "  if stock_at_tariff_gb >= real_expense_gb:\n",
    "    return 0\n",
    "  else:\n",
    "    return (real_expense_gb - stock_at_tariff_gb) * rub_per_gb"
   ]
  },
  {
   "cell_type": "code",
   "execution_count": 91,
   "metadata": {},
   "outputs": [],
   "source": [
    "at['revenue'] = (\n",
    "    at.apply(tariff_delta_calls,axis=1) + \n",
    "    at.apply(tariff_delta_messages,axis=1) + \n",
    "    at.apply(tariff_delta_gb,axis=1) + \n",
    "    at['rub_monthly_fee']\n",
    "    )"
   ]
  },
  {
   "cell_type": "code",
   "execution_count": 92,
   "metadata": {},
   "outputs": [
    {
     "data": {
      "text/plain": [
       "count    3216.000000\n",
       "mean     1528.902674\n",
       "std       798.224060\n",
       "min       550.000000\n",
       "25%       750.000000\n",
       "50%      1653.500000\n",
       "75%      1950.000000\n",
       "max      6770.000000\n",
       "Name: revenue, dtype: float64"
      ]
     },
     "execution_count": 92,
     "metadata": {},
     "output_type": "execute_result"
    }
   ],
   "source": [
    "at['revenue'].describe()"
   ]
  },
  {
   "cell_type": "code",
   "execution_count": 93,
   "metadata": {
    "scrolled": true
   },
   "outputs": [
    {
     "data": {
      "text/plain": [
       "Index(['user_id', 'city', 'month', 'calls_count', 'calls_sum',\n",
       "       'messages_count', 'gb_used', 'tariff', 'messages_included',\n",
       "       'gb_per_month_included', 'minutes_included', 'rub_monthly_fee',\n",
       "       'rub_per_gb', 'rub_per_message', 'rub_per_minute', 'tariff_name',\n",
       "       'revenue'],\n",
       "      dtype='object')"
      ]
     },
     "execution_count": 93,
     "metadata": {},
     "output_type": "execute_result"
    }
   ],
   "source": [
    "at.columns"
   ]
  },
  {
   "cell_type": "code",
   "execution_count": 94,
   "metadata": {},
   "outputs": [
    {
     "data": {
      "text/html": [
       "<div>\n",
       "<style scoped>\n",
       "    .dataframe tbody tr th:only-of-type {\n",
       "        vertical-align: middle;\n",
       "    }\n",
       "\n",
       "    .dataframe tbody tr th {\n",
       "        vertical-align: top;\n",
       "    }\n",
       "\n",
       "    .dataframe thead th {\n",
       "        text-align: right;\n",
       "    }\n",
       "</style>\n",
       "<table border=\"1\" class=\"dataframe\">\n",
       "  <thead>\n",
       "    <tr style=\"text-align: right;\">\n",
       "      <th></th>\n",
       "      <th>user_id</th>\n",
       "      <th>month</th>\n",
       "      <th>calls_sum</th>\n",
       "      <th>messages_count</th>\n",
       "      <th>gb_used</th>\n",
       "      <th>tariff</th>\n",
       "      <th>messages_included</th>\n",
       "      <th>gb_per_month_included</th>\n",
       "      <th>minutes_included</th>\n",
       "      <th>rub_monthly_fee</th>\n",
       "      <th>rub_per_gb</th>\n",
       "      <th>rub_per_message</th>\n",
       "      <th>rub_per_minute</th>\n",
       "      <th>revenue</th>\n",
       "    </tr>\n",
       "  </thead>\n",
       "  <tbody>\n",
       "    <tr>\n",
       "      <th>3050</th>\n",
       "      <td>1465</td>\n",
       "      <td>2018-09-01</td>\n",
       "      <td>636.0</td>\n",
       "      <td>53.0</td>\n",
       "      <td>15.0</td>\n",
       "      <td>smart</td>\n",
       "      <td>50</td>\n",
       "      <td>15</td>\n",
       "      <td>500</td>\n",
       "      <td>550</td>\n",
       "      <td>200</td>\n",
       "      <td>3</td>\n",
       "      <td>3</td>\n",
       "      <td>967.0</td>\n",
       "    </tr>\n",
       "    <tr>\n",
       "      <th>790</th>\n",
       "      <td>1396</td>\n",
       "      <td>2018-03-01</td>\n",
       "      <td>453.0</td>\n",
       "      <td>80.0</td>\n",
       "      <td>9.0</td>\n",
       "      <td>ultra</td>\n",
       "      <td>1000</td>\n",
       "      <td>30</td>\n",
       "      <td>3000</td>\n",
       "      <td>1950</td>\n",
       "      <td>150</td>\n",
       "      <td>1</td>\n",
       "      <td>1</td>\n",
       "      <td>1950.0</td>\n",
       "    </tr>\n",
       "    <tr>\n",
       "      <th>2383</th>\n",
       "      <td>1307</td>\n",
       "      <td>2018-07-01</td>\n",
       "      <td>737.0</td>\n",
       "      <td>24.0</td>\n",
       "      <td>20.0</td>\n",
       "      <td>smart</td>\n",
       "      <td>50</td>\n",
       "      <td>15</td>\n",
       "      <td>500</td>\n",
       "      <td>550</td>\n",
       "      <td>200</td>\n",
       "      <td>3</td>\n",
       "      <td>3</td>\n",
       "      <td>2261.0</td>\n",
       "    </tr>\n",
       "    <tr>\n",
       "      <th>161</th>\n",
       "      <td>1094</td>\n",
       "      <td>2018-07-01</td>\n",
       "      <td>784.0</td>\n",
       "      <td>21.0</td>\n",
       "      <td>19.0</td>\n",
       "      <td>ultra</td>\n",
       "      <td>1000</td>\n",
       "      <td>30</td>\n",
       "      <td>3000</td>\n",
       "      <td>1950</td>\n",
       "      <td>150</td>\n",
       "      <td>1</td>\n",
       "      <td>1</td>\n",
       "      <td>1950.0</td>\n",
       "    </tr>\n",
       "    <tr>\n",
       "      <th>255</th>\n",
       "      <td>1148</td>\n",
       "      <td>2018-06-01</td>\n",
       "      <td>747.0</td>\n",
       "      <td>15.0</td>\n",
       "      <td>32.0</td>\n",
       "      <td>ultra</td>\n",
       "      <td>1000</td>\n",
       "      <td>30</td>\n",
       "      <td>3000</td>\n",
       "      <td>1950</td>\n",
       "      <td>150</td>\n",
       "      <td>1</td>\n",
       "      <td>1</td>\n",
       "      <td>2250.0</td>\n",
       "    </tr>\n",
       "    <tr>\n",
       "      <th>2070</th>\n",
       "      <td>1233</td>\n",
       "      <td>2018-07-01</td>\n",
       "      <td>620.0</td>\n",
       "      <td>26.0</td>\n",
       "      <td>22.0</td>\n",
       "      <td>smart</td>\n",
       "      <td>50</td>\n",
       "      <td>15</td>\n",
       "      <td>500</td>\n",
       "      <td>550</td>\n",
       "      <td>200</td>\n",
       "      <td>3</td>\n",
       "      <td>3</td>\n",
       "      <td>2310.0</td>\n",
       "    </tr>\n",
       "    <tr>\n",
       "      <th>602</th>\n",
       "      <td>1333</td>\n",
       "      <td>2018-12-01</td>\n",
       "      <td>697.0</td>\n",
       "      <td>145.0</td>\n",
       "      <td>21.0</td>\n",
       "      <td>ultra</td>\n",
       "      <td>1000</td>\n",
       "      <td>30</td>\n",
       "      <td>3000</td>\n",
       "      <td>1950</td>\n",
       "      <td>150</td>\n",
       "      <td>1</td>\n",
       "      <td>1</td>\n",
       "      <td>1950.0</td>\n",
       "    </tr>\n",
       "    <tr>\n",
       "      <th>681</th>\n",
       "      <td>1363</td>\n",
       "      <td>2018-05-01</td>\n",
       "      <td>616.0</td>\n",
       "      <td>0.0</td>\n",
       "      <td>15.0</td>\n",
       "      <td>ultra</td>\n",
       "      <td>1000</td>\n",
       "      <td>30</td>\n",
       "      <td>3000</td>\n",
       "      <td>1950</td>\n",
       "      <td>150</td>\n",
       "      <td>1</td>\n",
       "      <td>1</td>\n",
       "      <td>1950.0</td>\n",
       "    </tr>\n",
       "    <tr>\n",
       "      <th>3052</th>\n",
       "      <td>1465</td>\n",
       "      <td>2018-11-01</td>\n",
       "      <td>736.0</td>\n",
       "      <td>54.0</td>\n",
       "      <td>15.0</td>\n",
       "      <td>smart</td>\n",
       "      <td>50</td>\n",
       "      <td>15</td>\n",
       "      <td>500</td>\n",
       "      <td>550</td>\n",
       "      <td>200</td>\n",
       "      <td>3</td>\n",
       "      <td>3</td>\n",
       "      <td>1270.0</td>\n",
       "    </tr>\n",
       "    <tr>\n",
       "      <th>442</th>\n",
       "      <td>1255</td>\n",
       "      <td>2018-05-01</td>\n",
       "      <td>320.0</td>\n",
       "      <td>0.0</td>\n",
       "      <td>42.0</td>\n",
       "      <td>ultra</td>\n",
       "      <td>1000</td>\n",
       "      <td>30</td>\n",
       "      <td>3000</td>\n",
       "      <td>1950</td>\n",
       "      <td>150</td>\n",
       "      <td>1</td>\n",
       "      <td>1</td>\n",
       "      <td>3750.0</td>\n",
       "    </tr>\n",
       "  </tbody>\n",
       "</table>\n",
       "</div>"
      ],
      "text/plain": [
       "      user_id      month  calls_sum  messages_count  gb_used tariff  \\\n",
       "3050     1465 2018-09-01      636.0            53.0     15.0  smart   \n",
       "790      1396 2018-03-01      453.0            80.0      9.0  ultra   \n",
       "2383     1307 2018-07-01      737.0            24.0     20.0  smart   \n",
       "161      1094 2018-07-01      784.0            21.0     19.0  ultra   \n",
       "255      1148 2018-06-01      747.0            15.0     32.0  ultra   \n",
       "2070     1233 2018-07-01      620.0            26.0     22.0  smart   \n",
       "602      1333 2018-12-01      697.0           145.0     21.0  ultra   \n",
       "681      1363 2018-05-01      616.0             0.0     15.0  ultra   \n",
       "3052     1465 2018-11-01      736.0            54.0     15.0  smart   \n",
       "442      1255 2018-05-01      320.0             0.0     42.0  ultra   \n",
       "\n",
       "      messages_included  gb_per_month_included  minutes_included  \\\n",
       "3050                 50                     15               500   \n",
       "790                1000                     30              3000   \n",
       "2383                 50                     15               500   \n",
       "161                1000                     30              3000   \n",
       "255                1000                     30              3000   \n",
       "2070                 50                     15               500   \n",
       "602                1000                     30              3000   \n",
       "681                1000                     30              3000   \n",
       "3052                 50                     15               500   \n",
       "442                1000                     30              3000   \n",
       "\n",
       "      rub_monthly_fee  rub_per_gb  rub_per_message  rub_per_minute  revenue  \n",
       "3050              550         200                3               3    967.0  \n",
       "790              1950         150                1               1   1950.0  \n",
       "2383              550         200                3               3   2261.0  \n",
       "161              1950         150                1               1   1950.0  \n",
       "255              1950         150                1               1   2250.0  \n",
       "2070              550         200                3               3   2310.0  \n",
       "602              1950         150                1               1   1950.0  \n",
       "681              1950         150                1               1   1950.0  \n",
       "3052              550         200                3               3   1270.0  \n",
       "442              1950         150                1               1   3750.0  "
      ]
     },
     "execution_count": 94,
     "metadata": {},
     "output_type": "execute_result"
    }
   ],
   "source": [
    "at[['user_id', 'month', 'calls_sum',\n",
    "       'messages_count', 'gb_used', 'tariff', 'messages_included',\n",
    "       'gb_per_month_included', 'minutes_included', 'rub_monthly_fee',\n",
    "       'rub_per_gb', 'rub_per_message', 'rub_per_minute',\n",
    "       'revenue']].sample(10,random_state=1)"
   ]
  },
  {
   "cell_type": "code",
   "execution_count": 95,
   "metadata": {},
   "outputs": [
    {
     "data": {
      "text/plain": [
       "967"
      ]
     },
     "execution_count": 95,
     "metadata": {},
     "output_type": "execute_result"
    }
   ],
   "source": [
    "# user_id = 1465\n",
    "550 + 136*3 + 3*3"
   ]
  },
  {
   "cell_type": "code",
   "execution_count": 96,
   "metadata": {},
   "outputs": [
    {
     "data": {
      "text/plain": [
       "2250"
      ]
     },
     "execution_count": 96,
     "metadata": {},
     "output_type": "execute_result"
    }
   ],
   "source": [
    "# user_id = 1148\n",
    "1950 + 2*150"
   ]
  },
  {
   "cell_type": "code",
   "execution_count": 97,
   "metadata": {},
   "outputs": [
    {
     "data": {
      "text/plain": [
       "1270"
      ]
     },
     "execution_count": 97,
     "metadata": {},
     "output_type": "execute_result"
    }
   ],
   "source": [
    "# user_id = 1465\n",
    "550 + 236*3 + 4*3"
   ]
  },
  {
   "cell_type": "code",
   "execution_count": 98,
   "metadata": {},
   "outputs": [
    {
     "data": {
      "text/plain": [
       "3750"
      ]
     },
     "execution_count": 98,
     "metadata": {},
     "output_type": "execute_result"
    }
   ],
   "source": [
    "# user_id = 1255\n",
    "1950 + 12*150"
   ]
  },
  {
   "cell_type": "markdown",
   "metadata": {},
   "source": [
    "Теперь пересохраню аналитическую таблицу, сделаю её компактнее и ещё раз проверю суммы количества сообщений и времени звонков."
   ]
  },
  {
   "cell_type": "code",
   "execution_count": 99,
   "metadata": {},
   "outputs": [],
   "source": [
    "at = at[['user_id', 'city', 'month', 'calls_count', 'calls_sum',\n",
    "       'messages_count', 'gb_used', 'rub_monthly_fee', \n",
    "    'tariff_name', 'revenue']]"
   ]
  },
  {
   "cell_type": "code",
   "execution_count": 100,
   "metadata": {},
   "outputs": [
    {
     "data": {
      "text/plain": [
       "1450301.0"
      ]
     },
     "execution_count": 100,
     "metadata": {},
     "output_type": "execute_result"
    }
   ],
   "source": [
    "at['calls_sum'].sum()"
   ]
  },
  {
   "cell_type": "code",
   "execution_count": 101,
   "metadata": {},
   "outputs": [
    {
     "data": {
      "text/plain": [
       "1450301"
      ]
     },
     "execution_count": 101,
     "metadata": {},
     "output_type": "execute_result"
    }
   ],
   "source": [
    "calls['duration'].sum()"
   ]
  },
  {
   "cell_type": "code",
   "execution_count": 102,
   "metadata": {},
   "outputs": [
    {
     "data": {
      "text/plain": [
       "123036.0"
      ]
     },
     "execution_count": 102,
     "metadata": {},
     "output_type": "execute_result"
    }
   ],
   "source": [
    "at['messages_count'].sum()"
   ]
  },
  {
   "cell_type": "code",
   "execution_count": 103,
   "metadata": {},
   "outputs": [
    {
     "data": {
      "text/plain": [
       "123036"
      ]
     },
     "execution_count": 103,
     "metadata": {},
     "output_type": "execute_result"
    }
   ],
   "source": [
    "messages['id'].count()"
   ]
  },
  {
   "cell_type": "markdown",
   "metadata": {},
   "source": [
    "## Исследовательский анализ данных\n",
    "\n",
    "Посмотрю на пользователей тарифа smart и ultra и как менялось их среднее суммы звонков от месяца к месяцу."
   ]
  },
  {
   "cell_type": "code",
   "execution_count": 104,
   "metadata": {},
   "outputs": [],
   "source": [
    "smart = at.query('tariff_name == \"smart\"')"
   ]
  },
  {
   "cell_type": "code",
   "execution_count": 105,
   "metadata": {},
   "outputs": [],
   "source": [
    "ultra = at.query('tariff_name == \"ultra\"')"
   ]
  },
  {
   "cell_type": "code",
   "execution_count": 106,
   "metadata": {},
   "outputs": [
    {
     "data": {
      "text/plain": [
       "Text(0, 0.5, 'средняя сумма звонков за месяц, мин')"
      ]
     },
     "execution_count": 106,
     "metadata": {},
     "output_type": "execute_result"
    },
    {
     "data": {
      "image/png": "[encoded data removed]",
      "text/plain": [
       "<Figure size 720x432 with 1 Axes>"
      ]
     },
     "metadata": {
      "needs_background": "light"
     },
     "output_type": "display_data"
    }
   ],
   "source": [
    "ax = (smart.groupby('month')['calls_sum']\n",
    " .mean().reset_index()\n",
    " .plot(\n",
    "     x='month',\n",
    "     y='calls_sum',\n",
    "     figsize=(10,6),\n",
    "     grid=True,\n",
    "     legend=True,\n",
    "     label='smart',\n",
    "     )\n",
    " )\n",
    "\n",
    "(ultra.groupby('month')['calls_sum']\n",
    " .mean().reset_index()\n",
    " .plot(\n",
    "     x='month',\n",
    "     y='calls_sum',\n",
    "     figsize=(10,6),\n",
    "     grid=True,\n",
    "     legend=True,\n",
    "     label='ultra',\n",
    "     ax=ax,\n",
    "     )\n",
    " )\n",
    "plt.xlabel('месяц')\n",
    "plt.ylabel('средняя сумма звонков за месяц, мин')"
   ]
  },
  {
   "cell_type": "markdown",
   "metadata": {},
   "source": [
    "У меня также возник вопрос, сколько пользователей было каждый месяц исследуемого периода? Потому что при составлении аналитической таблицы стало понятно, что кто-то подключился не сразу, а кто-то отключился до окончания рассматриваемого периода."
   ]
  },
  {
   "cell_type": "code",
   "execution_count": 107,
   "metadata": {},
   "outputs": [
    {
     "data": {
      "text/html": [
       "<div>\n",
       "<style scoped>\n",
       "    .dataframe tbody tr th:only-of-type {\n",
       "        vertical-align: middle;\n",
       "    }\n",
       "\n",
       "    .dataframe tbody tr th {\n",
       "        vertical-align: top;\n",
       "    }\n",
       "\n",
       "    .dataframe thead th {\n",
       "        text-align: right;\n",
       "    }\n",
       "</style>\n",
       "<table border=\"1\" class=\"dataframe\">\n",
       "  <thead>\n",
       "    <tr style=\"text-align: right;\">\n",
       "      <th></th>\n",
       "      <th>month</th>\n",
       "      <th>count</th>\n",
       "      <th>mean</th>\n",
       "    </tr>\n",
       "  </thead>\n",
       "  <tbody>\n",
       "    <tr>\n",
       "      <th>0</th>\n",
       "      <td>2018-01-01</td>\n",
       "      <td>34</td>\n",
       "      <td>203.852941</td>\n",
       "    </tr>\n",
       "    <tr>\n",
       "      <th>1</th>\n",
       "      <td>2018-02-01</td>\n",
       "      <td>58</td>\n",
       "      <td>298.689655</td>\n",
       "    </tr>\n",
       "    <tr>\n",
       "      <th>2</th>\n",
       "      <td>2018-03-01</td>\n",
       "      <td>77</td>\n",
       "      <td>390.051948</td>\n",
       "    </tr>\n",
       "    <tr>\n",
       "      <th>3</th>\n",
       "      <td>2018-04-01</td>\n",
       "      <td>112</td>\n",
       "      <td>367.133929</td>\n",
       "    </tr>\n",
       "    <tr>\n",
       "      <th>4</th>\n",
       "      <td>2018-05-01</td>\n",
       "      <td>141</td>\n",
       "      <td>387.361702</td>\n",
       "    </tr>\n",
       "    <tr>\n",
       "      <th>5</th>\n",
       "      <td>2018-06-01</td>\n",
       "      <td>164</td>\n",
       "      <td>395.640244</td>\n",
       "    </tr>\n",
       "    <tr>\n",
       "      <th>6</th>\n",
       "      <td>2018-07-01</td>\n",
       "      <td>201</td>\n",
       "      <td>408.353234</td>\n",
       "    </tr>\n",
       "    <tr>\n",
       "      <th>7</th>\n",
       "      <td>2018-08-01</td>\n",
       "      <td>235</td>\n",
       "      <td>421.468085</td>\n",
       "    </tr>\n",
       "    <tr>\n",
       "      <th>8</th>\n",
       "      <td>2018-09-01</td>\n",
       "      <td>260</td>\n",
       "      <td>428.611538</td>\n",
       "    </tr>\n",
       "    <tr>\n",
       "      <th>9</th>\n",
       "      <td>2018-10-01</td>\n",
       "      <td>294</td>\n",
       "      <td>426.136054</td>\n",
       "    </tr>\n",
       "    <tr>\n",
       "      <th>10</th>\n",
       "      <td>2018-11-01</td>\n",
       "      <td>316</td>\n",
       "      <td>435.265823</td>\n",
       "    </tr>\n",
       "    <tr>\n",
       "      <th>11</th>\n",
       "      <td>2018-12-01</td>\n",
       "      <td>338</td>\n",
       "      <td>477.144970</td>\n",
       "    </tr>\n",
       "  </tbody>\n",
       "</table>\n",
       "</div>"
      ],
      "text/plain": [
       "        month  count        mean\n",
       "0  2018-01-01     34  203.852941\n",
       "1  2018-02-01     58  298.689655\n",
       "2  2018-03-01     77  390.051948\n",
       "3  2018-04-01    112  367.133929\n",
       "4  2018-05-01    141  387.361702\n",
       "5  2018-06-01    164  395.640244\n",
       "6  2018-07-01    201  408.353234\n",
       "7  2018-08-01    235  421.468085\n",
       "8  2018-09-01    260  428.611538\n",
       "9  2018-10-01    294  426.136054\n",
       "10 2018-11-01    316  435.265823\n",
       "11 2018-12-01    338  477.144970"
      ]
     },
     "execution_count": 107,
     "metadata": {},
     "output_type": "execute_result"
    }
   ],
   "source": [
    "(smart.groupby('month')['calls_sum']\n",
    " .agg(['count','mean'])\n",
    " .reset_index())"
   ]
  },
  {
   "cell_type": "code",
   "execution_count": 108,
   "metadata": {},
   "outputs": [
    {
     "data": {
      "text/html": [
       "<div>\n",
       "<style scoped>\n",
       "    .dataframe tbody tr th:only-of-type {\n",
       "        vertical-align: middle;\n",
       "    }\n",
       "\n",
       "    .dataframe tbody tr th {\n",
       "        vertical-align: top;\n",
       "    }\n",
       "\n",
       "    .dataframe thead th {\n",
       "        text-align: right;\n",
       "    }\n",
       "</style>\n",
       "<table border=\"1\" class=\"dataframe\">\n",
       "  <thead>\n",
       "    <tr style=\"text-align: right;\">\n",
       "      <th></th>\n",
       "      <th>month</th>\n",
       "      <th>count</th>\n",
       "      <th>mean</th>\n",
       "    </tr>\n",
       "  </thead>\n",
       "  <tbody>\n",
       "    <tr>\n",
       "      <th>0</th>\n",
       "      <td>2018-01-01</td>\n",
       "      <td>9</td>\n",
       "      <td>428.111111</td>\n",
       "    </tr>\n",
       "    <tr>\n",
       "      <th>1</th>\n",
       "      <td>2018-02-01</td>\n",
       "      <td>24</td>\n",
       "      <td>297.125000</td>\n",
       "    </tr>\n",
       "    <tr>\n",
       "      <th>2</th>\n",
       "      <td>2018-03-01</td>\n",
       "      <td>37</td>\n",
       "      <td>489.648649</td>\n",
       "    </tr>\n",
       "    <tr>\n",
       "      <th>3</th>\n",
       "      <td>2018-04-01</td>\n",
       "      <td>55</td>\n",
       "      <td>458.018182</td>\n",
       "    </tr>\n",
       "    <tr>\n",
       "      <th>4</th>\n",
       "      <td>2018-05-01</td>\n",
       "      <td>67</td>\n",
       "      <td>510.328358</td>\n",
       "    </tr>\n",
       "    <tr>\n",
       "      <th>5</th>\n",
       "      <td>2018-06-01</td>\n",
       "      <td>84</td>\n",
       "      <td>479.702381</td>\n",
       "    </tr>\n",
       "    <tr>\n",
       "      <th>6</th>\n",
       "      <td>2018-07-01</td>\n",
       "      <td>91</td>\n",
       "      <td>545.791209</td>\n",
       "    </tr>\n",
       "    <tr>\n",
       "      <th>7</th>\n",
       "      <td>2018-08-01</td>\n",
       "      <td>107</td>\n",
       "      <td>510.775701</td>\n",
       "    </tr>\n",
       "    <tr>\n",
       "      <th>8</th>\n",
       "      <td>2018-09-01</td>\n",
       "      <td>115</td>\n",
       "      <td>539.443478</td>\n",
       "    </tr>\n",
       "    <tr>\n",
       "      <th>9</th>\n",
       "      <td>2018-10-01</td>\n",
       "      <td>123</td>\n",
       "      <td>558.081301</td>\n",
       "    </tr>\n",
       "    <tr>\n",
       "      <th>10</th>\n",
       "      <td>2018-11-01</td>\n",
       "      <td>134</td>\n",
       "      <td>541.380597</td>\n",
       "    </tr>\n",
       "    <tr>\n",
       "      <th>11</th>\n",
       "      <td>2018-12-01</td>\n",
       "      <td>140</td>\n",
       "      <td>588.571429</td>\n",
       "    </tr>\n",
       "  </tbody>\n",
       "</table>\n",
       "</div>"
      ],
      "text/plain": [
       "        month  count        mean\n",
       "0  2018-01-01      9  428.111111\n",
       "1  2018-02-01     24  297.125000\n",
       "2  2018-03-01     37  489.648649\n",
       "3  2018-04-01     55  458.018182\n",
       "4  2018-05-01     67  510.328358\n",
       "5  2018-06-01     84  479.702381\n",
       "6  2018-07-01     91  545.791209\n",
       "7  2018-08-01    107  510.775701\n",
       "8  2018-09-01    115  539.443478\n",
       "9  2018-10-01    123  558.081301\n",
       "10 2018-11-01    134  541.380597\n",
       "11 2018-12-01    140  588.571429"
      ]
     },
     "execution_count": 108,
     "metadata": {},
     "output_type": "execute_result"
    }
   ],
   "source": [
    "(ultra.groupby('month')['calls_sum']\n",
    " .agg(['count','mean'])\n",
    " .reset_index())"
   ]
  },
  {
   "cell_type": "markdown",
   "metadata": {},
   "source": [
    "Видно, что число пользователей обоих тарифов росло, также как их среднее суммы звонков. Иными словами, с увеличением выборки среднее растёт и, как мне известно, \n",
    "по закону больших чисел оно стремится к своему истинному среднему значению.\n",
    "\n",
    "\n",
    "---\n",
    "\n",
    "\n",
    "Для оценки этого среднего значения и распределения выборки возьму данные о месячной сумме звонков без группировки по месяцам. Рассмотрю сразу две гистограммы в одной системе координат: тарифа smart, тарифа ultra.\n",
    "\n",
    "\n",
    "---\n",
    "\n",
    "\n",
    "Важно отметить, что `'calls_sum'` - выборка дискретной переменной, поскольку по условиям тарифа время округляется до минут. Поэтому частотные гистограммы подойдут для оценки распределения."
   ]
  },
  {
   "cell_type": "code",
   "execution_count": 109,
   "metadata": {},
   "outputs": [
    {
     "data": {
      "image/png": "[encoded data removed]",
      "text/plain": [
       "<Figure size 720x432 with 1 Axes>"
      ]
     },
     "metadata": {
      "needs_background": "light"
     },
     "output_type": "display_data"
    }
   ],
   "source": [
    "fig = plt.figure(figsize=(10,6))\n",
    "plt.grid()\n",
    "sns.histplot(smart['calls_sum'],bins=40,element=\"step\",kde=True)\n",
    "sns.histplot(ultra['calls_sum'],bins=40,element=\"step\",kde=True,color='green',alpha=0.5)\n",
    "fig.legend(labels=['smart_tariff','ultra_tariff'])\n",
    "plt.xlabel('сумма времени звонков за месяц, мин')\n",
    "plt.ylabel('кол-во пользователей')\n",
    "plt.title('Распределение суммарного времени звонков абонентов тарифов smart(синий) и ultra(зелёный)')\n",
    "plt.show()"
   ]
  },
  {
   "cell_type": "markdown",
   "metadata": {},
   "source": [
    "Посмотрю на среднее, стандартное отклонение и квартили выборок smart и ultra. Вычислю их дисперсии."
   ]
  },
  {
   "cell_type": "code",
   "execution_count": 110,
   "metadata": {},
   "outputs": [
    {
     "data": {
      "text/plain": [
       "count    2230.000000\n",
       "mean      417.747534\n",
       "std       190.476754\n",
       "min         0.000000\n",
       "25%       282.000000\n",
       "50%       421.500000\n",
       "75%       545.000000\n",
       "max      1435.000000\n",
       "Name: calls_sum, dtype: float64"
      ]
     },
     "execution_count": 110,
     "metadata": {},
     "output_type": "execute_result"
    }
   ],
   "source": [
    "smart['calls_sum'].describe()"
   ]
  },
  {
   "cell_type": "code",
   "execution_count": 111,
   "metadata": {},
   "outputs": [
    {
     "data": {
      "text/plain": [
       "count     986.000000\n",
       "mean      526.089249\n",
       "std       317.887549\n",
       "min         0.000000\n",
       "25%       282.500000\n",
       "50%       518.000000\n",
       "75%       751.750000\n",
       "max      1673.000000\n",
       "Name: calls_sum, dtype: float64"
      ]
     },
     "execution_count": 111,
     "metadata": {},
     "output_type": "execute_result"
    }
   ],
   "source": [
    "ultra['calls_sum'].describe()"
   ]
  },
  {
   "cell_type": "markdown",
   "metadata": {},
   "source": [
    "Рассчитаю дисперсии из стандартных отклонений"
   ]
  },
  {
   "cell_type": "code",
   "execution_count": 112,
   "metadata": {},
   "outputs": [
    {
     "data": {
      "text/plain": [
       "36281.393836444586"
      ]
     },
     "execution_count": 112,
     "metadata": {},
     "output_type": "execute_result"
    }
   ],
   "source": [
    "# variance estimate (smart)\n",
    "(smart['calls_sum'].describe()[2]) ** 2"
   ]
  },
  {
   "cell_type": "code",
   "execution_count": 113,
   "metadata": {},
   "outputs": [
    {
     "data": {
      "text/plain": [
       "101052.49354928388"
      ]
     },
     "execution_count": 113,
     "metadata": {},
     "output_type": "execute_result"
    }
   ],
   "source": [
    "# variance estimate (ultra)\n",
    "(ultra['calls_sum'].describe()[2]) ** 2"
   ]
  },
  {
   "cell_type": "markdown",
   "metadata": {},
   "source": [
    "Средняя сумма минут, необходимая пользователям тарифов smart и ultra отличаются логичным образом: те, кому недостаточно 500 минут в месяц берут тариф ultra и говорят в среднем всего лишь на 26 минут больше оплаченного лимита тарифа smart. \n",
    "\n",
    "\n",
    "\n",
    "Есть среди них те, кто умудряется выговорить под 1700 минут, есть и те, кто не говорит вовсе. Разброс значений у абонентов ultra заметно больше, что подтверждается зелёной гистограммой и большей дисперсией.\n",
    "\n",
    "\n",
    "---\n",
    "\n",
    "\n",
    "Проверю на всякий случай дисперсии, стандартные отклонения с помощью библиотеки `numpy` c учётом того, что у меня есть только выборки из генеральных совокупностей."
   ]
  },
  {
   "cell_type": "code",
   "execution_count": 114,
   "metadata": {},
   "outputs": [
    {
     "name": "stdout",
     "output_type": "stream",
     "text": [
      "36281.393836444586\n",
      "36281.39383644458\n"
     ]
    }
   ],
   "source": [
    "# variance estimate (smart)\n",
    "print((smart['calls_sum'].describe()[2]) ** 2)\n",
    "print(np.var(smart['calls_sum'], ddof=1))"
   ]
  },
  {
   "cell_type": "code",
   "execution_count": 115,
   "metadata": {},
   "outputs": [
    {
     "name": "stdout",
     "output_type": "stream",
     "text": [
      "101052.49354928388\n",
      "101052.49354928387\n"
     ]
    }
   ],
   "source": [
    "# variance estimate (ultra)\n",
    "print((ultra['calls_sum'].describe()[2]) ** 2)\n",
    "print(np.var(ultra['calls_sum'], ddof=1))"
   ]
  },
  {
   "cell_type": "code",
   "execution_count": 116,
   "metadata": {},
   "outputs": [
    {
     "name": "stdout",
     "output_type": "stream",
     "text": [
      "190.4767540579285\n",
      "190.4767540579285\n"
     ]
    }
   ],
   "source": [
    "# standart deviation (smart)\n",
    "print(smart['calls_sum'].describe()[2])\n",
    "print(np.std(smart['calls_sum'], ddof=1))"
   ]
  },
  {
   "cell_type": "code",
   "execution_count": 117,
   "metadata": {},
   "outputs": [
    {
     "name": "stdout",
     "output_type": "stream",
     "text": [
      "317.8875485911392\n",
      "317.8875485911392\n"
     ]
    }
   ],
   "source": [
    "# standart deviation (ultra)\n",
    "print(ultra['calls_sum'].describe()[2])\n",
    "print(np.std(ultra['calls_sum'], ddof=1))"
   ]
  },
  {
   "cell_type": "markdown",
   "metadata": {},
   "source": [
    "Значения идентичны. Но в следующий раз воспользуюсь функциями numpy, поскольку pandas всё-равно построена на её основе.\n",
    "\n",
    "\n",
    "---\n",
    "\n",
    "\n",
    "Поскольку исходы от месяца к месяцу для одних и тех же пользователей будут зависимы, также посмотрю на распределение средних значений, их общее среднее, стандартное отклонение и квартили выборки, **сгруппированной по `'user_id'`**"
   ]
  },
  {
   "cell_type": "code",
   "execution_count": 118,
   "metadata": {},
   "outputs": [],
   "source": [
    "smart_gr = smart.groupby('user_id')['calls_sum'].mean()"
   ]
  },
  {
   "cell_type": "code",
   "execution_count": 119,
   "metadata": {},
   "outputs": [],
   "source": [
    "ultra_gr = ultra.groupby('user_id')['calls_sum'].mean()"
   ]
  },
  {
   "cell_type": "code",
   "execution_count": 120,
   "metadata": {},
   "outputs": [
    {
     "data": {
      "image/png": "[encoded data removed]",
      "text/plain": [
       "<Figure size 720x432 with 1 Axes>"
      ]
     },
     "metadata": {
      "needs_background": "light"
     },
     "output_type": "display_data"
    }
   ],
   "source": [
    "fig = plt.figure(figsize=(10,6))\n",
    "plt.grid()\n",
    "sns.histplot(smart_gr,bins=40,element=\"step\",kde=True)\n",
    "sns.histplot(ultra_gr,bins=40,element=\"step\",kde=True,color='green',alpha=0.5)\n",
    "fig.legend(labels=['smart_tariff','ultra_tariff'])\n",
    "plt.xlabel('сумма времени звонков за месяц, мин')\n",
    "plt.ylabel('кол-во пользователей')\n",
    "plt.show()"
   ]
  },
  {
   "cell_type": "markdown",
   "metadata": {},
   "source": [
    "Форма распределения и среднее особо не изменилась. Уменьшился разброс, что логично, поскольку я уже смотрю на распредение средних. Потвержу это цифрами."
   ]
  },
  {
   "cell_type": "code",
   "execution_count": 121,
   "metadata": {},
   "outputs": [
    {
     "data": {
      "text/plain": [
       "146.54603899822578"
      ]
     },
     "execution_count": 121,
     "metadata": {},
     "output_type": "execute_result"
    }
   ],
   "source": [
    "# standart deviation (smart_gr)\n",
    "np.std(smart_gr,ddof=1)"
   ]
  },
  {
   "cell_type": "code",
   "execution_count": 122,
   "metadata": {},
   "outputs": [
    {
     "data": {
      "text/plain": [
       "21475.741546069516"
      ]
     },
     "execution_count": 122,
     "metadata": {},
     "output_type": "execute_result"
    }
   ],
   "source": [
    "# variance estimate (smart_gr)\n",
    "np.var(smart_gr,ddof=1)"
   ]
  },
  {
   "cell_type": "markdown",
   "metadata": {},
   "source": [
    "**Было стандартное отклонение 190.47 и дисперсия 36281.39** "
   ]
  },
  {
   "cell_type": "code",
   "execution_count": 123,
   "metadata": {},
   "outputs": [
    {
     "data": {
      "text/plain": [
       "284.1422395988372"
      ]
     },
     "execution_count": 123,
     "metadata": {},
     "output_type": "execute_result"
    }
   ],
   "source": [
    "# standart deviation (ultra_gr)\n",
    "np.std(ultra_gr,ddof=1)"
   ]
  },
  {
   "cell_type": "code",
   "execution_count": 124,
   "metadata": {},
   "outputs": [
    {
     "data": {
      "text/plain": [
       "80736.81232424302"
      ]
     },
     "execution_count": 124,
     "metadata": {},
     "output_type": "execute_result"
    }
   ],
   "source": [
    "# variance estimate (ultra_gr)\n",
    "np.var(ultra_gr,ddof=1)"
   ]
  },
  {
   "cell_type": "markdown",
   "metadata": {},
   "source": [
    "**Было стандартное отклонение 317.89 и дисперсия 101052.49**"
   ]
  },
  {
   "cell_type": "code",
   "execution_count": 125,
   "metadata": {},
   "outputs": [
    {
     "name": "stdout",
     "output_type": "stream",
     "text": [
      "Среднее месячной суммы звонков тарифа smart: 417.747533632287\n",
      "Среднее месячной суммы звонков тарифа ultra: 526.0892494929006\n"
     ]
    }
   ],
   "source": [
    "# средние выборок по тарифам\n",
    "print('Среднее месячной суммы звонков тарифа smart:',smart['calls_sum'].mean())\n",
    "print('Среднее месячной суммы звонков тарифа ultra:',ultra['calls_sum'].mean())"
   ]
  },
  {
   "cell_type": "code",
   "execution_count": 126,
   "metadata": {},
   "outputs": [
    {
     "name": "stdout",
     "output_type": "stream",
     "text": [
      "Среднее сгруппированой месячной суммы звонков тарифа smart: 418.43926217815107\n",
      "Среднее сгруппированой месячной суммы звонков тарифа ultra: 524.279390985599\n"
     ]
    }
   ],
   "source": [
    "# средние сгруппированных по пользователям выборок по тарифам\n",
    "print('Среднее сгруппированой месячной суммы звонков тарифа smart:',smart_gr.mean())\n",
    "print('Среднее сгруппированой месячной суммы звонков тарифа ultra:',ultra_gr.mean())"
   ]
  },
  {
   "cell_type": "markdown",
   "metadata": {},
   "source": [
    "\n",
    "\n",
    "---\n",
    "\n",
    "\n",
    "В среднем, абонентам тарифа \"smart\" из выборки требуется 418 минут разговоров в месяц со стандартным отклонением 190,5 минуты. Само распределение близко к нормальному, немного скошено влево, покольку медиана чуть больше среднего арифметического.\n",
    "\n",
    "\n",
    "---\n",
    "\n",
    "\n",
    "Данное утверждение справедливо для самой выборки и для сгруппированной её версии. Потому что при уходе от зависимых(один и тот же абонент в разные месяцы) исходов к независимым средним, среднее практически не меняется, а стандартное отклонение и дисперсия в соответствии с ЦПТ(центральной предельной теоремой) стремятся к размеру, соответвующему правилу 3х стандартных отклонений,  уменьшается в контретном случае\n",
    "\n",
    "\n",
    "---\n",
    "\n",
    "\n"
   ]
  },
  {
   "cell_type": "markdown",
   "metadata": {},
   "source": [
    "**Повторю те же действия с выборками по ежемесячно отправляемым sms. С тем исключением, что не буду изучать зависимость от месца к месяцу, поскольку знаю, что число пользователей растёт, а среднее стремится к истинному среднему.**"
   ]
  },
  {
   "cell_type": "code",
   "execution_count": 127,
   "metadata": {},
   "outputs": [
    {
     "data": {
      "image/png": "[encoded data removed]",
      "text/plain": [
       "<Figure size 720x432 with 1 Axes>"
      ]
     },
     "metadata": {
      "needs_background": "light"
     },
     "output_type": "display_data"
    }
   ],
   "source": [
    "fig = plt.figure(figsize=(10,6))\n",
    "plt.grid()\n",
    "sns.histplot(smart['messages_count'],bins=20,element=\"step\",kde=True)\n",
    "sns.histplot(ultra['messages_count'],bins=20,element=\"step\",kde=True,color='green',alpha=0.5)\n",
    "fig.legend(labels=['smart_tariff','ultra_tariff'])\n",
    "plt.xlabel('сумма sms за месяц, шт')\n",
    "plt.ylabel('кол-во пользователей')\n",
    "plt.show()"
   ]
  },
  {
   "cell_type": "markdown",
   "metadata": {},
   "source": [
    "Посмотрю на средние, стандартные отклонения и дисперсии sms выборок \"smart\" и \"ultra\". "
   ]
  },
  {
   "cell_type": "code",
   "execution_count": 128,
   "metadata": {},
   "outputs": [
    {
     "name": "stdout",
     "output_type": "stream",
     "text": [
      "Дисперсия sms за месяц тарифа smart: 796.9552557301129\n",
      "Дисперсия sms за месяц тарифа ultra: 2285.4174246558414\n"
     ]
    }
   ],
   "source": [
    "# variance estimate\n",
    "print('Дисперсия sms за месяц тарифа smart:', np.var(smart['messages_count'],ddof=1))\n",
    "print('Дисперсия sms за месяц тарифа ultra:', np.var(ultra['messages_count'],ddof=1))"
   ]
  },
  {
   "cell_type": "code",
   "execution_count": 129,
   "metadata": {},
   "outputs": [
    {
     "name": "stdout",
     "output_type": "stream",
     "text": [
      "Стандартное отклонение sms за месяц тарифа smart: 28.230395954185852\n",
      "Стандартное отклонение sms за месяц тарифа ultra: 47.80603962530092\n"
     ]
    }
   ],
   "source": [
    "# standart deviation\n",
    "print('Стандартное отклонение sms за месяц тарифа smart:',np.std(smart['messages_count'],ddof=1))\n",
    "print('Стандартное отклонение sms за месяц тарифа ultra:',np.std(ultra['messages_count'],ddof=1))"
   ]
  },
  {
   "cell_type": "code",
   "execution_count": 130,
   "metadata": {},
   "outputs": [
    {
     "name": "stdout",
     "output_type": "stream",
     "text": [
      "Среднее число sms за месяц тарифа smart: 33.36905829596412\n",
      "Среднее число sms за месяц тарифа ultra: 49.31338742393509\n"
     ]
    }
   ],
   "source": [
    "# mean values\n",
    "print('Среднее число sms за месяц тарифа smart:',np.mean(smart['messages_count']))\n",
    "print('Среднее число sms за месяц тарифа ultra:',np.mean(ultra['messages_count']))"
   ]
  },
  {
   "cell_type": "markdown",
   "metadata": {},
   "source": [
    "\n",
    "\n",
    "---\n",
    "\n",
    "\n",
    "\n",
    "---\n",
    "\n",
    "\n",
    "Как оказалось, абонентам обоих тарифов в среднем достаточно меньше 50 sms в месяц, только пользователи тарифа ultra чаще переступают этот порог, поэтому, видимо, на всякий случай берут тариф с пакетом аж на тысячу sms.\n",
    "\n",
    "Но судя по гистограмме, абсолютно всем участникам выборки хватило бы пакета на 250 sms. А многим они и вовсе не нужны (нулевые пики).\n",
    "\n",
    "\n",
    "---\n",
    "\n"
   ]
  },
  {
   "cell_type": "markdown",
   "metadata": {},
   "source": [
    "**Рассмотрю распределение использования интернет трафика абонентов тарифов**"
   ]
  },
  {
   "cell_type": "code",
   "execution_count": 131,
   "metadata": {},
   "outputs": [
    {
     "data": {
      "image/png": "[encoded data removed]",
      "text/plain": [
       "<Figure size 720x432 with 1 Axes>"
      ]
     },
     "metadata": {
      "needs_background": "light"
     },
     "output_type": "display_data"
    }
   ],
   "source": [
    "fig = plt.figure(figsize=(10,6))\n",
    "plt.grid()\n",
    "sns.histplot(smart['gb_used'],bins=39,element=\"step\",kde=True)\n",
    "sns.histplot(ultra['gb_used'],bins=39,element=\"step\",kde=True,color='green',alpha=0.5)\n",
    "fig.legend(labels=['smart_tariff','ultra_tariff'])\n",
    "plt.xlabel('интернет тарфик за месяц, Гб')\n",
    "plt.ylabel('кол-во пользователей')\n",
    "plt.show()"
   ]
  },
  {
   "cell_type": "markdown",
   "metadata": {},
   "source": [
    "Посмотрю на средние, стандартные отклонения и дисперсии расхода Гб выборок smart и ultra. "
   ]
  },
  {
   "cell_type": "code",
   "execution_count": 132,
   "metadata": {},
   "outputs": [
    {
     "name": "stdout",
     "output_type": "stream",
     "text": [
      "Дисперсия использованного за месяц трафика тарифа smart, Гб: 33.133453035506285\n",
      "Дисперсия использованного за месяц трафика тарифа ultra, Гб: 97.37854429011233\n"
     ]
    }
   ],
   "source": [
    "# variance estimate\n",
    "print('Дисперсия использованного за месяц трафика тарифа smart, Гб:',np.var(smart['gb_used'],ddof=1))\n",
    "print('Дисперсия использованного за месяц трафика тарифа ultra, Гб:',np.var(ultra['gb_used'],ddof=1))"
   ]
  },
  {
   "cell_type": "code",
   "execution_count": 133,
   "metadata": {},
   "outputs": [
    {
     "name": "stdout",
     "output_type": "stream",
     "text": [
      "Стандартное отклонение использованного за месяц трафика тарифа smart, Гб: 5.7561665225657155\n",
      "Стандартное отклонение использованного за месяц трафика тарифа ultra, Гб: 9.868056763624352\n"
     ]
    }
   ],
   "source": [
    "# standart deviation\n",
    "print('Стандартное отклонение использованного за месяц трафика тарифа smart, Гб:',np.std(smart['gb_used'],ddof=1))\n",
    "print('Стандартное отклонение использованного за месяц трафика тарифа ultra, Гб:',np.std(ultra['gb_used'],ddof=1))"
   ]
  },
  {
   "cell_type": "code",
   "execution_count": 134,
   "metadata": {},
   "outputs": [
    {
     "name": "stdout",
     "output_type": "stream",
     "text": [
      "Среднее использованного за месяц трафика тарифа smart, Гб: 16.32152466367713\n",
      "Среднее использованного за месяц трафика тарифа ultra, Гб: 19.474645030425965\n"
     ]
    }
   ],
   "source": [
    "# mean values\n",
    "print('Среднее использованного за месяц трафика тарифа smart, Гб:',np.mean(smart['gb_used']))\n",
    "print('Среднее использованного за месяц трафика тарифа ultra, Гб:',np.mean(ultra['gb_used']))"
   ]
  },
  {
   "cell_type": "markdown",
   "metadata": {},
   "source": [
    "\n",
    "\n",
    "---\n",
    "\n",
    "Распределения расхода интернет трафика более всего похожи на нормальное. Люди могут больше или меньше любить разговаривать по телефону, но контент потребляют в объёмах, которые больше похожи на других.\n",
    "\n",
    "\n",
    "---\n",
    "\n",
    "Также понятно, почему никто особо не тратит sms, потому что все - в соц.сетях и мессенджерах. Причём абоненты smart в среднем создают себе перерасход на 1,3 Гб (среднее 16,3 Гб). А вот абоненты ultra в среднем укладываются в квоту по тарифу и средний объём трафика у них 19,5 Гб\n",
    "\n",
    "\n",
    "---\n",
    "\n"
   ]
  },
  {
   "cell_type": "markdown",
   "metadata": {},
   "source": [
    "## Формулирование нулевой гипотезы\n",
    "\n",
    "Замечу, что абоненты smart чаще были замечены за перерасходом, особенно по интернет трафику. Поэтому может сложиться впечатление, что средняя выручка такого абонента может быть равной средней выручке с абонента ultra\n",
    "\n",
    "\n",
    "---\n",
    "\n",
    "Посмотрю сперва на их распределения в одних координатах"
   ]
  },
  {
   "cell_type": "code",
   "execution_count": 135,
   "metadata": {},
   "outputs": [
    {
     "data": {
      "image/png": "[encoded data removed]",
      "text/plain": [
       "<Figure size 720x432 with 1 Axes>"
      ]
     },
     "metadata": {
      "needs_background": "light"
     },
     "output_type": "display_data"
    }
   ],
   "source": [
    "fig = plt.figure(figsize=(10,6))\n",
    "plt.grid()\n",
    "sns.histplot(smart['revenue'],bins=30,element=\"step\",kde=True)\n",
    "sns.histplot(ultra['revenue'],bins=30,element=\"step\",kde=True,color='green',alpha=0.5)\n",
    "fig.legend(labels=['smart_tariff','ultra_tariff'])\n",
    "plt.xlabel('значения выручки за месяц, ₽')\n",
    "plt.ylabel('кол-во пользователей')\n",
    "plt.show()"
   ]
  },
  {
   "cell_type": "markdown",
   "metadata": {},
   "source": [
    "Большинство пользователей тарифа ultra в основном укладываются в рамки тарифа. Абоненты тарифа smart заметно чаще выходят за рамки стандартного тарифного платежа. Эти утверждения справедливы для имеющихся выборок.\n",
    "\n",
    "\n",
    "---\n",
    "\n",
    "**Посмотрю на их средние и дисперсии**"
   ]
  },
  {
   "cell_type": "code",
   "execution_count": 136,
   "metadata": {},
   "outputs": [
    {
     "name": "stdout",
     "output_type": "stream",
     "text": [
      "Среднее по выборке выручки абонента тарифа smart: 1289.6417040358745\n",
      "Среднее по выборке выручки абонента тарифа ultra: 2070.030425963489\n"
     ]
    }
   ],
   "source": [
    "print('Среднее по выборке выручки абонента тарифа smart:',np.mean(smart['revenue']))\n",
    "print('Среднее по выборке выручки абонента тарифа ultra:',np.mean(ultra['revenue']))"
   ]
  },
  {
   "cell_type": "code",
   "execution_count": 137,
   "metadata": {},
   "outputs": [
    {
     "name": "stdout",
     "output_type": "stream",
     "text": [
      "Дисперсия по выборке выручки абонента тарифа smart: 669730.763894807\n",
      "Дисперсия по выборке выручки абонента тарифа ultra: 141387.7148093615\n"
     ]
    }
   ],
   "source": [
    "print('Дисперсия по выборке выручки абонента тарифа smart:',np.var(smart['revenue'],ddof=1))\n",
    "print('Дисперсия по выборке выручки абонента тарифа ultra:',np.var(ultra['revenue'],ddof=1))"
   ]
  },
  {
   "cell_type": "markdown",
   "metadata": {},
   "source": [
    "Среднее абонентов ultra на треть больше чем у абонентов smart.\n",
    "\n",
    "Но диспресия выборки абонентов smart намного больше, чем у абонентов ultra. \n",
    "\n",
    "\n",
    "\n",
    "\n",
    "\n",
    "\n",
    "---\n",
    "\n",
    "\n",
    "**Поэтому могу предположить, что у генеральных совокупностей smart и ultra средние выручки могут быть равны. Такова моя нулевая гипотеза.**\n",
    "\n",
    "Проверю её с помощью метода `scipy.stats.ttest_ind`, который создан для проверки гипотез о равенстве средних двух генеральных совокупностей.\n",
    "\n",
    "Дисперсии генеральных совокупностей приму разными, поскольку пользователям тарифа smart, судя по выборкам, гораздо чаще не хватает лимитов тарифа и у них значения выручки чаще и дальше \"прыгают\".\n",
    "\n",
    "Уровень значимости приму 0.05. То есть, если p-value окажется равно или больше 0.05 я не отвергну гипотезу о равенстве средних генеральных совокупностей. И разницу средних значнеий имеющихся у меня выборок буду считать случайна до тех пор, пока не смогу отвергнуть нулевую гипотезу."
   ]
  },
  {
   "cell_type": "code",
   "execution_count": 138,
   "metadata": {},
   "outputs": [],
   "source": [
    "alpha = 0.05"
   ]
  },
  {
   "cell_type": "code",
   "execution_count": 139,
   "metadata": {},
   "outputs": [],
   "source": [
    "results = st.ttest_ind(smart['revenue'], ultra['revenue'], equal_var=False)"
   ]
  },
  {
   "cell_type": "code",
   "execution_count": 140,
   "metadata": {},
   "outputs": [
    {
     "name": "stdout",
     "output_type": "stream",
     "text": [
      "Отвергаю нулевую гипотезу, p-value: 1.927011394420941e-250\n"
     ]
    }
   ],
   "source": [
    "if results.pvalue < alpha:\n",
    "  print('Отвергаю нулевую гипотезу, p-value:',results.pvalue)\n",
    "else:\n",
    "  print('Не получилось отвергнуть нулевую гипотезу')"
   ]
  },
  {
   "cell_type": "markdown",
   "metadata": {},
   "source": [
    "**Теперь рассмотрю две другие генеральные совокупности среди абонентов \"Мегалайн\":**\n",
    "\n",
    "1. Жители Москвы\n",
    "2. Жители других городов РФ\n",
    "\n",
    "Посмотрю сперва на их распределения в одних координатах"
   ]
  },
  {
   "cell_type": "code",
   "execution_count": 141,
   "metadata": {},
   "outputs": [],
   "source": [
    "moscow_city = at.query('city == \"Москва\"')"
   ]
  },
  {
   "cell_type": "code",
   "execution_count": 142,
   "metadata": {},
   "outputs": [],
   "source": [
    "other_city = at.query('city != \"Москва\"')"
   ]
  },
  {
   "cell_type": "code",
   "execution_count": 143,
   "metadata": {},
   "outputs": [
    {
     "data": {
      "image/png": "[encoded data removed]",
      "text/plain": [
       "<Figure size 720x432 with 1 Axes>"
      ]
     },
     "metadata": {
      "needs_background": "light"
     },
     "output_type": "display_data"
    }
   ],
   "source": [
    "fig = plt.figure(figsize=(10,6))\n",
    "plt.grid()\n",
    "sns.histplot(moscow_city['revenue'],bins=30,element=\"step\",kde=True,color='green')\n",
    "sns.histplot(other_city['revenue'],bins=30,element=\"step\",kde=True,alpha=0.5)\n",
    "fig.legend(labels=['smart_tariff','ultra_tariff'])\n",
    "plt.xlabel('значения выручки за месяц, ₽')\n",
    "plt.ylabel('кол-во пользователей')\n",
    "plt.show()"
   ]
  },
  {
   "cell_type": "markdown",
   "metadata": {},
   "source": [
    "Форма распределений очень похожи друг на друга. Посмотрю на средние и дисперсии выборок."
   ]
  },
  {
   "cell_type": "code",
   "execution_count": 144,
   "metadata": {},
   "outputs": [
    {
     "name": "stdout",
     "output_type": "stream",
     "text": [
      "Среднее по выборке выручки абонента из Москвы: 1546.7135842880523\n",
      "Среднее по выборке выручки абонента из других городов: 1524.7251439539348\n"
     ]
    }
   ],
   "source": [
    "print('Среднее по выборке выручки абонента из Москвы:',np.mean(moscow_city['revenue']))\n",
    "print('Среднее по выборке выручки абонента из других городов:',np.mean(other_city['revenue']))"
   ]
  },
  {
   "cell_type": "code",
   "execution_count": 145,
   "metadata": {},
   "outputs": [
    {
     "name": "stdout",
     "output_type": "stream",
     "text": [
      "Дисперсия по выборке выручки абонента из Москвы: 565636.467011886\n",
      "Дисперсия по выборке выручки абонента из других городов: 654069.574962777\n"
     ]
    }
   ],
   "source": [
    "print('Дисперсия по выборке выручки абонента из Москвы:',np.var(moscow_city['revenue'],ddof=1))\n",
    "print('Дисперсия по выборке выручки абонента из других городов:',np.var(other_city['revenue'],ddof=1))"
   ]
  },
  {
   "cell_type": "markdown",
   "metadata": {},
   "source": [
    "В отличие от предыдущего случая средние и дисперсия данных выборок весьма близки по значениям.\n",
    "\n",
    "**Предположу, что средние значения выручки абонентов из Москвы и других городов равны. Такова моя нулевая гипотеза для генеральных совокупностей.**\n",
    "\n",
    "Поскольку выборки включают в себя абонентов обоих тарифов, буду считать дисперсии генеральных совокупностей в данном случае (Москва и остальная Россия) одинаковыми. Значения `alpha` приму за 0.05"
   ]
  },
  {
   "cell_type": "code",
   "execution_count": 146,
   "metadata": {},
   "outputs": [],
   "source": [
    "results = st.ttest_ind(moscow_city['revenue'], other_city['revenue'], equal_var=True)"
   ]
  },
  {
   "cell_type": "code",
   "execution_count": 147,
   "metadata": {},
   "outputs": [
    {
     "name": "stdout",
     "output_type": "stream",
     "text": [
      "Не получилось отвергнуть нулевую гипотезу, p-value: 0.5400751614511182\n"
     ]
    }
   ],
   "source": [
    "if results.pvalue < alpha:\n",
    "  print('Отвергаю нулевую гипотезу, p-value:',results.pvalue)\n",
    "else:\n",
    "  print('Не получилось отвергнуть нулевую гипотезу, p-value:',results.pvalue)"
   ]
  },
  {
   "cell_type": "markdown",
   "metadata": {},
   "source": [
    "## Вывод\n",
    "Таким образом, я не могу принять гипотезу о равенстве средней выручки с абонента тарифа smart и ultra. Даже если бы снизил уровень alpha до 0.01 или предположил, что дисперсия генеральных совокупностей одинакова.\n",
    "\n",
    "Поэтому наиболее перспективным тарифом считаю ultra, особенно с учётом того, что его абоненты используют трафика и нагружают АТС намного меньше, чем заложено в себестоимости тарифа: нагрузка на сети - меньше рассчётной, а выручка ощутимо больше.\n",
    "\n",
    "Ещё можно снизить объём пакета sms, а высвобожденную себестоимость пустить на включение в тариф стримминговых сервисов. Это позволит сделать тариф ещё более привлекательным для новых клиентов.\n",
    "\n",
    "---\n",
    "\n",
    "Что касается гипотезы о равенстве средних значений выручки абонентов из Москвы и других городов РФ, то её отвергнуть не удалось. Вероятность при верной нулевой гипотезе (средние генеральных совокупностей равны) случайно получить ту разницу среднего выборок, которую я видел (1546.71 - 1524.73), составляет более 0,5"
   ]
  }
 ],
 "metadata": {
  "ExecuteTimeLog": [
   {
    "duration": 1467,
    "start_time": "2021-10-11T13:10:30.873Z"
   },
   {
    "duration": 4,
    "start_time": "2021-10-11T13:10:36.376Z"
   },
   {
    "duration": 253,
    "start_time": "2021-10-11T13:12:37.983Z"
   },
   {
    "duration": 105,
    "start_time": "2021-10-11T13:12:53.830Z"
   },
   {
    "duration": 8639,
    "start_time": "2021-10-11T13:13:20.693Z"
   },
   {
    "duration": 135,
    "start_time": "2021-10-11T13:13:58.885Z"
   },
   {
    "duration": 822,
    "start_time": "2021-10-11T13:15:18.764Z"
   },
   {
    "duration": 3408,
    "start_time": "2021-10-11T13:15:28.957Z"
   },
   {
    "duration": 820,
    "start_time": "2021-10-11T13:15:36.869Z"
   },
   {
    "duration": 872,
    "start_time": "2021-10-11T13:16:25.699Z"
   },
   {
    "duration": 863,
    "start_time": "2021-10-11T13:16:44.620Z"
   },
   {
    "duration": 463,
    "start_time": "2021-10-11T13:17:46.451Z"
   },
   {
    "duration": 321,
    "start_time": "2021-10-11T13:17:55.594Z"
   },
   {
    "duration": 14,
    "start_time": "2021-10-11T13:20:25.121Z"
   },
   {
    "duration": 706,
    "start_time": "2021-10-11T13:20:58.328Z"
   },
   {
    "duration": 4,
    "start_time": "2021-10-11T13:22:12.880Z"
   },
   {
    "duration": 11,
    "start_time": "2021-10-11T13:22:14.367Z"
   },
   {
    "duration": 7,
    "start_time": "2021-10-11T13:24:05.021Z"
   },
   {
    "duration": 886,
    "start_time": "2021-10-11T13:24:13.014Z"
   },
   {
    "duration": 289,
    "start_time": "2021-10-11T13:24:37.590Z"
   },
   {
    "duration": 8,
    "start_time": "2021-10-11T13:24:46.293Z"
   },
   {
    "duration": 7,
    "start_time": "2021-10-11T13:25:09.813Z"
   },
   {
    "duration": 293,
    "start_time": "2021-10-11T13:25:54.036Z"
   },
   {
    "duration": 7,
    "start_time": "2021-10-11T13:27:27.236Z"
   },
   {
    "duration": 275,
    "start_time": "2021-10-11T13:30:06.224Z"
   },
   {
    "duration": 6,
    "start_time": "2021-10-11T13:30:45.474Z"
   },
   {
    "duration": 7,
    "start_time": "2021-10-11T13:31:10.857Z"
   },
   {
    "duration": 6,
    "start_time": "2021-10-11T13:31:39.177Z"
   },
   {
    "duration": 6,
    "start_time": "2021-10-11T13:31:48.344Z"
   },
   {
    "duration": 8,
    "start_time": "2021-10-11T13:31:57.048Z"
   },
   {
    "duration": 7,
    "start_time": "2021-10-11T13:32:04.520Z"
   },
   {
    "duration": 7,
    "start_time": "2021-10-11T13:32:11.560Z"
   },
   {
    "duration": 7,
    "start_time": "2021-10-11T13:32:19.856Z"
   },
   {
    "duration": 6,
    "start_time": "2021-10-11T13:32:30.033Z"
   },
   {
    "duration": 7,
    "start_time": "2021-10-11T13:32:37.776Z"
   },
   {
    "duration": 4,
    "start_time": "2021-10-11T13:33:14.384Z"
   },
   {
    "duration": 332,
    "start_time": "2021-10-13T20:48:39.582Z"
   },
   {
    "duration": 1432,
    "start_time": "2021-10-13T20:51:58.446Z"
   },
   {
    "duration": 355,
    "start_time": "2021-10-13T20:52:08.501Z"
   },
   {
    "duration": 949,
    "start_time": "2021-10-13T20:52:16.728Z"
   },
   {
    "duration": 539,
    "start_time": "2021-10-13T20:52:30.778Z"
   },
   {
    "duration": 361,
    "start_time": "2021-10-13T20:52:39.001Z"
   },
   {
    "duration": 110,
    "start_time": "2021-10-13T20:52:47.748Z"
   },
   {
    "duration": 5,
    "start_time": "2021-10-13T20:53:25.107Z"
   },
   {
    "duration": 30,
    "start_time": "2021-10-13T20:53:48.978Z"
   },
   {
    "duration": 5,
    "start_time": "2021-10-13T21:02:22.269Z"
   },
   {
    "duration": 341,
    "start_time": "2021-10-13T21:02:23.076Z"
   },
   {
    "duration": 411,
    "start_time": "2021-10-13T21:02:23.978Z"
   },
   {
    "duration": 308,
    "start_time": "2021-10-13T21:02:24.858Z"
   },
   {
    "duration": 62,
    "start_time": "2021-10-13T21:02:25.642Z"
   },
   {
    "duration": 64,
    "start_time": "2021-10-13T21:02:26.268Z"
   },
   {
    "duration": 5,
    "start_time": "2021-10-13T21:02:27.450Z"
   },
   {
    "duration": 18,
    "start_time": "2021-10-13T21:02:29.298Z"
   },
   {
    "duration": 5,
    "start_time": "2021-10-13T21:02:41.034Z"
   },
   {
    "duration": 17,
    "start_time": "2021-10-13T21:02:49.667Z"
   },
   {
    "duration": 6,
    "start_time": "2021-10-13T21:03:19.162Z"
   },
   {
    "duration": 6,
    "start_time": "2021-10-13T21:03:29.019Z"
   },
   {
    "duration": 20,
    "start_time": "2021-10-13T21:03:31.180Z"
   },
   {
    "duration": 36,
    "start_time": "2021-10-13T21:03:37.635Z"
   },
   {
    "duration": 18,
    "start_time": "2021-10-13T21:03:43.331Z"
   },
   {
    "duration": 9,
    "start_time": "2021-10-13T21:04:07.908Z"
   },
   {
    "duration": 66,
    "start_time": "2021-10-13T21:04:12.868Z"
   },
   {
    "duration": 19,
    "start_time": "2021-10-13T21:04:18.075Z"
   },
   {
    "duration": 37,
    "start_time": "2021-10-13T21:04:54.605Z"
   },
   {
    "duration": 13,
    "start_time": "2021-10-13T21:04:59.178Z"
   },
   {
    "duration": 33,
    "start_time": "2021-10-13T21:05:05.588Z"
   },
   {
    "duration": 6,
    "start_time": "2021-10-13T21:05:19.542Z"
   },
   {
    "duration": 30,
    "start_time": "2021-10-13T21:05:25.421Z"
   },
   {
    "duration": 118,
    "start_time": "2021-10-13T21:05:32.165Z"
   },
   {
    "duration": 16,
    "start_time": "2021-10-13T21:05:58.901Z"
   },
   {
    "duration": 30,
    "start_time": "2021-10-13T21:06:17.693Z"
   },
   {
    "duration": 7,
    "start_time": "2021-10-13T21:06:30.973Z"
   },
   {
    "duration": 19,
    "start_time": "2021-10-13T21:06:44.877Z"
   },
   {
    "duration": 11,
    "start_time": "2021-10-13T21:06:51.749Z"
   },
   {
    "duration": 16,
    "start_time": "2021-10-13T21:07:21.301Z"
   },
   {
    "duration": 5,
    "start_time": "2021-10-13T21:07:26.421Z"
   },
   {
    "duration": 12,
    "start_time": "2021-10-13T21:07:40.093Z"
   },
   {
    "duration": 22,
    "start_time": "2021-10-13T21:07:49.621Z"
   },
   {
    "duration": 20,
    "start_time": "2021-10-13T21:08:31.510Z"
   },
   {
    "duration": 5,
    "start_time": "2021-10-13T21:08:35.942Z"
   },
   {
    "duration": 11,
    "start_time": "2021-10-13T21:08:50.686Z"
   },
   {
    "duration": 19,
    "start_time": "2021-10-13T21:09:00.510Z"
   },
   {
    "duration": 17,
    "start_time": "2021-10-13T21:09:15.502Z"
   },
   {
    "duration": 5,
    "start_time": "2021-10-13T21:09:19.670Z"
   },
   {
    "duration": 10,
    "start_time": "2021-10-13T21:09:56.687Z"
   },
   {
    "duration": 22,
    "start_time": "2021-10-13T21:10:05.871Z"
   },
   {
    "duration": 4,
    "start_time": "2021-10-13T21:11:35.721Z"
   },
   {
    "duration": 4,
    "start_time": "2021-10-13T21:11:40.144Z"
   },
   {
    "duration": 5,
    "start_time": "2021-10-13T21:11:45.216Z"
   },
   {
    "duration": 4,
    "start_time": "2021-10-13T21:11:50.760Z"
   },
   {
    "duration": 9,
    "start_time": "2021-10-13T21:11:57.968Z"
   },
   {
    "duration": 112,
    "start_time": "2021-10-13T21:12:06.265Z"
   },
   {
    "duration": 6,
    "start_time": "2021-10-13T21:12:24.320Z"
   },
   {
    "duration": 30,
    "start_time": "2021-10-13T21:12:29.169Z"
   },
   {
    "duration": 20,
    "start_time": "2021-10-13T21:12:34.138Z"
   },
   {
    "duration": 24,
    "start_time": "2021-10-13T21:12:40.121Z"
   },
   {
    "duration": 4,
    "start_time": "2021-10-13T21:12:58.776Z"
   },
   {
    "duration": 5,
    "start_time": "2021-10-13T21:13:03.009Z"
   },
   {
    "duration": 16,
    "start_time": "2021-10-13T21:13:09.073Z"
   },
   {
    "duration": 29,
    "start_time": "2021-10-13T21:13:15.280Z"
   },
   {
    "duration": 7,
    "start_time": "2021-10-13T21:13:49.946Z"
   },
   {
    "duration": 28,
    "start_time": "2021-10-13T21:13:55.154Z"
   },
   {
    "duration": 19,
    "start_time": "2021-10-13T21:14:10.394Z"
   },
   {
    "duration": 19,
    "start_time": "2021-10-13T21:14:20.634Z"
   },
   {
    "duration": 6,
    "start_time": "2021-10-13T21:14:41.339Z"
   },
   {
    "duration": 39,
    "start_time": "2021-10-13T21:15:08.955Z"
   },
   {
    "duration": 4,
    "start_time": "2021-10-13T21:15:17.180Z"
   },
   {
    "duration": 6,
    "start_time": "2021-10-13T21:15:22.859Z"
   },
   {
    "duration": 6,
    "start_time": "2021-10-13T21:15:27.843Z"
   },
   {
    "duration": 119,
    "start_time": "2021-10-13T21:15:35.002Z"
   },
   {
    "duration": 25,
    "start_time": "2021-10-13T21:15:46.844Z"
   },
   {
    "duration": 4,
    "start_time": "2021-10-13T21:15:51.780Z"
   },
   {
    "duration": 6,
    "start_time": "2021-10-13T21:15:58.451Z"
   },
   {
    "duration": 12,
    "start_time": "2021-10-13T21:16:03.451Z"
   },
   {
    "duration": 99,
    "start_time": "2021-10-13T21:16:10.155Z"
   },
   {
    "duration": 23,
    "start_time": "2021-10-13T21:16:21.939Z"
   },
   {
    "duration": 6,
    "start_time": "2021-10-13T21:16:27.211Z"
   },
   {
    "duration": 6,
    "start_time": "2021-10-13T21:16:33.635Z"
   },
   {
    "duration": 9,
    "start_time": "2021-10-13T21:16:55.445Z"
   },
   {
    "duration": 11,
    "start_time": "2021-10-13T21:17:01.076Z"
   },
   {
    "duration": 12,
    "start_time": "2021-10-13T21:17:06.317Z"
   },
   {
    "duration": 13,
    "start_time": "2021-10-13T21:17:14.723Z"
   },
   {
    "duration": 7,
    "start_time": "2021-10-13T21:18:09.716Z"
   },
   {
    "duration": 7,
    "start_time": "2021-10-13T21:18:15.740Z"
   },
   {
    "duration": 5,
    "start_time": "2021-10-13T21:18:20.333Z"
   },
   {
    "duration": 6,
    "start_time": "2021-10-13T21:18:27.669Z"
   },
   {
    "duration": 12,
    "start_time": "2021-10-13T21:18:34.653Z"
   },
   {
    "duration": 19,
    "start_time": "2021-10-13T21:18:40.677Z"
   },
   {
    "duration": 6,
    "start_time": "2021-10-13T21:19:23.717Z"
   },
   {
    "duration": 20,
    "start_time": "2021-10-13T21:19:28.397Z"
   },
   {
    "duration": 11,
    "start_time": "2021-10-13T21:19:34.686Z"
   },
   {
    "duration": 5,
    "start_time": "2021-10-13T21:19:41.686Z"
   },
   {
    "duration": 5,
    "start_time": "2021-10-13T21:21:20.949Z"
   },
   {
    "duration": 7,
    "start_time": "2021-10-13T21:21:48.214Z"
   },
   {
    "duration": 4,
    "start_time": "2021-10-13T21:21:55.702Z"
   },
   {
    "duration": 5,
    "start_time": "2021-10-13T21:22:03.022Z"
   },
   {
    "duration": 5,
    "start_time": "2021-10-13T21:22:08.542Z"
   },
   {
    "duration": 419,
    "start_time": "2021-10-13T21:22:15.047Z"
   },
   {
    "duration": 6,
    "start_time": "2021-10-13T21:24:46.033Z"
   },
   {
    "duration": 24,
    "start_time": "2021-10-13T21:24:53.625Z"
   },
   {
    "duration": 6,
    "start_time": "2021-10-13T21:25:06.983Z"
   },
   {
    "duration": 4,
    "start_time": "2021-10-13T21:25:12.728Z"
   },
   {
    "duration": 5,
    "start_time": "2021-10-13T21:25:17.008Z"
   },
   {
    "duration": 5,
    "start_time": "2021-10-13T21:25:21.744Z"
   },
   {
    "duration": 6,
    "start_time": "2021-10-13T21:25:37.977Z"
   },
   {
    "duration": 6,
    "start_time": "2021-10-13T21:25:42.929Z"
   },
   {
    "duration": 7,
    "start_time": "2021-10-13T21:25:49.080Z"
   },
   {
    "duration": 6,
    "start_time": "2021-10-13T21:25:54.201Z"
   },
   {
    "duration": 12,
    "start_time": "2021-10-13T21:26:01.601Z"
   },
   {
    "duration": 8,
    "start_time": "2021-10-13T21:27:17.722Z"
   },
   {
    "duration": 7,
    "start_time": "2021-10-13T21:27:22.794Z"
   },
   {
    "duration": 445,
    "start_time": "2021-10-13T21:27:30.850Z"
   },
   {
    "duration": 20,
    "start_time": "2021-10-13T21:27:59.657Z"
   },
   {
    "duration": 20,
    "start_time": "2021-10-13T21:28:06.147Z"
   },
   {
    "duration": 707,
    "start_time": "2021-10-13T21:28:53.051Z"
   },
   {
    "duration": 280,
    "start_time": "2021-10-13T21:30:37.484Z"
   },
   {
    "duration": 321,
    "start_time": "2021-10-13T21:30:56.857Z"
   },
   {
    "duration": 404,
    "start_time": "2021-10-13T21:31:17.068Z"
   },
   {
    "duration": 4,
    "start_time": "2021-10-13T21:31:47.316Z"
   },
   {
    "duration": 714,
    "start_time": "2021-10-13T21:31:54.157Z"
   },
   {
    "duration": 743,
    "start_time": "2021-10-13T21:33:48.574Z"
   },
   {
    "duration": 674,
    "start_time": "2021-10-13T21:33:58.950Z"
   },
   {
    "duration": 710,
    "start_time": "2021-10-13T21:35:14.991Z"
   },
   {
    "duration": 990,
    "start_time": "2021-10-13T21:36:49.487Z"
   },
   {
    "duration": 1017,
    "start_time": "2021-10-13T21:37:03.329Z"
   },
   {
    "duration": 589,
    "start_time": "2021-10-13T21:41:19.306Z"
   },
   {
    "duration": 607,
    "start_time": "2021-10-13T21:41:55.977Z"
   },
   {
    "duration": 714,
    "start_time": "2021-10-13T21:42:12.554Z"
   },
   {
    "duration": 771,
    "start_time": "2021-10-13T21:42:43.274Z"
   },
   {
    "duration": 610,
    "start_time": "2021-10-13T21:42:53.626Z"
   },
   {
    "duration": 11,
    "start_time": "2021-10-13T21:53:20.838Z"
   },
   {
    "duration": 12,
    "start_time": "2021-10-13T21:53:26.854Z"
   },
   {
    "duration": 11,
    "start_time": "2021-10-13T21:53:40.599Z"
   },
   {
    "duration": 10,
    "start_time": "2021-10-13T21:53:48.070Z"
   },
   {
    "duration": 10,
    "start_time": "2021-10-13T21:54:40.816Z"
   },
   {
    "duration": 5225,
    "start_time": "2021-10-14T04:26:56.052Z"
   },
   {
    "duration": 1419,
    "start_time": "2021-10-14T04:27:03.839Z"
   },
   {
    "duration": 5,
    "start_time": "2021-10-14T04:27:34.391Z"
   },
   {
    "duration": 402,
    "start_time": "2021-10-14T04:27:34.839Z"
   },
   {
    "duration": 434,
    "start_time": "2021-10-14T04:27:35.278Z"
   },
   {
    "duration": 270,
    "start_time": "2021-10-14T04:27:36.310Z"
   },
   {
    "duration": 81,
    "start_time": "2021-10-14T04:27:36.830Z"
   },
   {
    "duration": 131,
    "start_time": "2021-10-14T04:27:37.351Z"
   },
   {
    "duration": 5,
    "start_time": "2021-10-14T04:27:38.590Z"
   },
   {
    "duration": 22,
    "start_time": "2021-10-14T04:27:40.454Z"
   },
   {
    "duration": 5,
    "start_time": "2021-10-14T04:27:41.494Z"
   },
   {
    "duration": 18,
    "start_time": "2021-10-14T04:27:41.956Z"
   },
   {
    "duration": 7,
    "start_time": "2021-10-14T04:27:42.422Z"
   },
   {
    "duration": 6,
    "start_time": "2021-10-14T04:27:44.086Z"
   },
   {
    "duration": 20,
    "start_time": "2021-10-14T04:27:44.646Z"
   },
   {
    "duration": 36,
    "start_time": "2021-10-14T04:27:45.206Z"
   },
   {
    "duration": 20,
    "start_time": "2021-10-14T04:27:47.751Z"
   },
   {
    "duration": 6,
    "start_time": "2021-10-14T04:27:50.590Z"
   },
   {
    "duration": 38,
    "start_time": "2021-10-14T04:27:51.206Z"
   },
   {
    "duration": 20,
    "start_time": "2021-10-14T04:27:51.758Z"
   },
   {
    "duration": 28,
    "start_time": "2021-10-14T04:28:22.677Z"
   },
   {
    "duration": 14,
    "start_time": "2021-10-14T04:28:24.997Z"
   },
   {
    "duration": 25,
    "start_time": "2021-10-14T04:28:25.526Z"
   },
   {
    "duration": 6,
    "start_time": "2021-10-14T04:28:25.966Z"
   },
   {
    "duration": 32,
    "start_time": "2021-10-14T04:28:26.405Z"
   },
   {
    "duration": 31,
    "start_time": "2021-10-14T04:28:27.437Z"
   },
   {
    "duration": 7,
    "start_time": "2021-10-14T04:28:27.885Z"
   },
   {
    "duration": 18,
    "start_time": "2021-10-14T04:28:30.382Z"
   },
   {
    "duration": 12,
    "start_time": "2021-10-14T04:28:30.870Z"
   },
   {
    "duration": 15,
    "start_time": "2021-10-14T04:28:33.317Z"
   },
   {
    "duration": 5,
    "start_time": "2021-10-14T04:28:33.733Z"
   },
   {
    "duration": 10,
    "start_time": "2021-10-14T04:28:34.589Z"
   },
   {
    "duration": 30,
    "start_time": "2021-10-14T04:28:37.678Z"
   },
   {
    "duration": 21,
    "start_time": "2021-10-14T04:28:38.158Z"
   },
   {
    "duration": 6,
    "start_time": "2021-10-14T04:28:39.652Z"
   },
   {
    "duration": 10,
    "start_time": "2021-10-14T04:28:40.701Z"
   },
   {
    "duration": 17,
    "start_time": "2021-10-14T04:28:46.917Z"
   },
   {
    "duration": 17,
    "start_time": "2021-10-14T04:28:49.086Z"
   },
   {
    "duration": 5,
    "start_time": "2021-10-14T04:28:49.565Z"
   },
   {
    "duration": 11,
    "start_time": "2021-10-14T04:28:50.501Z"
   },
   {
    "duration": 21,
    "start_time": "2021-10-14T04:28:51.270Z"
   },
   {
    "duration": 5,
    "start_time": "2021-10-14T04:28:59.636Z"
   },
   {
    "duration": 5,
    "start_time": "2021-10-14T04:29:00.053Z"
   },
   {
    "duration": 5,
    "start_time": "2021-10-14T04:29:00.469Z"
   },
   {
    "duration": 4,
    "start_time": "2021-10-14T04:29:00.877Z"
   },
   {
    "duration": 10,
    "start_time": "2021-10-14T04:29:01.317Z"
   },
   {
    "duration": 5,
    "start_time": "2021-10-14T04:29:03.598Z"
   },
   {
    "duration": 36,
    "start_time": "2021-10-14T04:29:04.045Z"
   },
   {
    "duration": 19,
    "start_time": "2021-10-14T04:29:04.485Z"
   },
   {
    "duration": 23,
    "start_time": "2021-10-14T04:29:04.924Z"
   },
   {
    "duration": 5,
    "start_time": "2021-10-14T04:29:07.292Z"
   },
   {
    "duration": 4,
    "start_time": "2021-10-14T04:29:07.709Z"
   },
   {
    "duration": 16,
    "start_time": "2021-10-14T04:29:08.117Z"
   },
   {
    "duration": 29,
    "start_time": "2021-10-14T04:29:08.613Z"
   },
   {
    "duration": 8,
    "start_time": "2021-10-14T04:29:11.349Z"
   },
   {
    "duration": 28,
    "start_time": "2021-10-14T04:29:12.549Z"
   },
   {
    "duration": 18,
    "start_time": "2021-10-14T04:29:14.573Z"
   },
   {
    "duration": 20,
    "start_time": "2021-10-14T04:29:16.453Z"
   },
   {
    "duration": 5,
    "start_time": "2021-10-14T04:29:19.093Z"
   },
   {
    "duration": 39,
    "start_time": "2021-10-14T04:29:21.840Z"
   },
   {
    "duration": 4,
    "start_time": "2021-10-14T04:29:21.881Z"
   },
   {
    "duration": 6,
    "start_time": "2021-10-14T04:29:23.548Z"
   },
   {
    "duration": 6,
    "start_time": "2021-10-14T04:29:24.044Z"
   },
   {
    "duration": 26,
    "start_time": "2021-10-14T04:29:25.156Z"
   },
   {
    "duration": 4,
    "start_time": "2021-10-14T04:29:26.981Z"
   },
   {
    "duration": 6,
    "start_time": "2021-10-14T04:29:27.428Z"
   },
   {
    "duration": 11,
    "start_time": "2021-10-14T04:29:27.869Z"
   },
   {
    "duration": 22,
    "start_time": "2021-10-14T04:29:28.756Z"
   },
   {
    "duration": 6,
    "start_time": "2021-10-14T04:29:29.196Z"
   },
   {
    "duration": 6,
    "start_time": "2021-10-14T04:29:29.668Z"
   },
   {
    "duration": 11,
    "start_time": "2021-10-14T04:29:32.308Z"
   },
   {
    "duration": 12,
    "start_time": "2021-10-14T04:29:32.756Z"
   },
   {
    "duration": 13,
    "start_time": "2021-10-14T04:29:33.180Z"
   },
   {
    "duration": 13,
    "start_time": "2021-10-14T04:29:33.725Z"
   },
   {
    "duration": 7,
    "start_time": "2021-10-14T04:29:36.716Z"
   },
   {
    "duration": 6,
    "start_time": "2021-10-14T04:29:37.148Z"
   },
   {
    "duration": 7,
    "start_time": "2021-10-14T04:29:37.580Z"
   },
   {
    "duration": 6,
    "start_time": "2021-10-14T04:29:38.028Z"
   },
   {
    "duration": 10,
    "start_time": "2021-10-14T04:29:38.461Z"
   },
   {
    "duration": 18,
    "start_time": "2021-10-14T04:29:41.844Z"
   },
   {
    "duration": 6,
    "start_time": "2021-10-14T04:29:44.468Z"
   },
   {
    "duration": 18,
    "start_time": "2021-10-14T04:29:45.004Z"
   },
   {
    "duration": 11,
    "start_time": "2021-10-14T04:29:47.292Z"
   },
   {
    "duration": 5,
    "start_time": "2021-10-14T04:29:47.732Z"
   },
   {
    "duration": 5,
    "start_time": "2021-10-14T04:29:48.228Z"
   },
   {
    "duration": 7,
    "start_time": "2021-10-14T04:29:51.564Z"
   },
   {
    "duration": 5,
    "start_time": "2021-10-14T04:30:02.605Z"
   },
   {
    "duration": 5,
    "start_time": "2021-10-14T04:30:03.100Z"
   },
   {
    "duration": 5,
    "start_time": "2021-10-14T04:30:30.884Z"
   },
   {
    "duration": 398,
    "start_time": "2021-10-14T04:30:31.996Z"
   },
   {
    "duration": 6,
    "start_time": "2021-10-14T04:30:34.156Z"
   },
   {
    "duration": 26,
    "start_time": "2021-10-14T04:30:34.773Z"
   },
   {
    "duration": 5,
    "start_time": "2021-10-14T04:30:37.188Z"
   },
   {
    "duration": 5,
    "start_time": "2021-10-14T04:30:37.660Z"
   },
   {
    "duration": 4,
    "start_time": "2021-10-14T04:30:38.348Z"
   },
   {
    "duration": 5,
    "start_time": "2021-10-14T04:30:38.851Z"
   },
   {
    "duration": 6,
    "start_time": "2021-10-14T04:30:43.651Z"
   },
   {
    "duration": 6,
    "start_time": "2021-10-14T04:30:49.868Z"
   },
   {
    "duration": 7,
    "start_time": "2021-10-14T04:30:51.555Z"
   },
   {
    "duration": 6,
    "start_time": "2021-10-14T04:30:51.980Z"
   },
   {
    "duration": 11,
    "start_time": "2021-10-14T04:30:52.403Z"
   },
   {
    "duration": 8,
    "start_time": "2021-10-14T04:30:54.955Z"
   },
   {
    "duration": 7,
    "start_time": "2021-10-14T04:30:57.147Z"
   },
   {
    "duration": 411,
    "start_time": "2021-10-14T04:30:58.388Z"
   },
   {
    "duration": 20,
    "start_time": "2021-10-14T04:31:01.706Z"
   },
   {
    "duration": 21,
    "start_time": "2021-10-14T04:31:02.387Z"
   },
   {
    "duration": 466,
    "start_time": "2021-10-14T04:31:36.316Z"
   },
   {
    "duration": 479,
    "start_time": "2021-10-14T04:33:03.423Z"
   },
   {
    "duration": 11,
    "start_time": "2021-10-14T04:33:05.402Z"
   },
   {
    "duration": 11,
    "start_time": "2021-10-14T04:33:07.474Z"
   },
   {
    "duration": 10,
    "start_time": "2021-10-14T04:33:16.225Z"
   },
   {
    "duration": 11,
    "start_time": "2021-10-14T04:33:22.385Z"
   },
   {
    "duration": 11,
    "start_time": "2021-10-14T04:33:58.017Z"
   },
   {
    "duration": 10,
    "start_time": "2021-10-14T04:34:38.033Z"
   },
   {
    "duration": 11,
    "start_time": "2021-10-14T04:34:44.185Z"
   },
   {
    "duration": 10,
    "start_time": "2021-10-14T04:34:52.265Z"
   },
   {
    "duration": 6,
    "start_time": "2021-10-14T04:35:11.209Z"
   },
   {
    "duration": 5,
    "start_time": "2021-10-14T04:35:16.816Z"
   },
   {
    "duration": 461,
    "start_time": "2021-10-14T04:35:22.561Z"
   },
   {
    "duration": 7,
    "start_time": "2021-10-14T04:35:44.609Z"
   },
   {
    "duration": 6,
    "start_time": "2021-10-14T04:35:50.592Z"
   },
   {
    "duration": 6,
    "start_time": "2021-10-14T04:36:35.095Z"
   },
   {
    "duration": 6,
    "start_time": "2021-10-14T04:36:39.767Z"
   },
   {
    "duration": 6,
    "start_time": "2021-10-14T04:38:01.575Z"
   },
   {
    "duration": 3401,
    "start_time": "2021-10-14T04:38:36.846Z"
   },
   {
    "duration": 7,
    "start_time": "2021-10-14T04:39:07.484Z"
   },
   {
    "duration": 6,
    "start_time": "2021-10-14T04:40:09.213Z"
   },
   {
    "duration": 438,
    "start_time": "2021-10-14T04:40:58.444Z"
   },
   {
    "duration": 8,
    "start_time": "2021-10-14T04:41:15.309Z"
   },
   {
    "duration": 7,
    "start_time": "2021-10-14T04:41:40.972Z"
   },
   {
    "duration": 6,
    "start_time": "2021-10-14T04:42:10.380Z"
   },
   {
    "duration": 7,
    "start_time": "2021-10-14T04:42:31.157Z"
   },
   {
    "duration": 85,
    "start_time": "2021-10-14T04:42:39.004Z"
   },
   {
    "duration": 480,
    "start_time": "2021-10-14T04:43:11.483Z"
   },
   {
    "duration": 6,
    "start_time": "2021-10-14T04:45:46.330Z"
   },
   {
    "duration": 7,
    "start_time": "2021-10-14T04:46:59.318Z"
   },
   {
    "duration": 8,
    "start_time": "2021-10-14T04:48:00.407Z"
   },
   {
    "duration": 86,
    "start_time": "2021-10-14T04:49:03.527Z"
   },
   {
    "duration": 90,
    "start_time": "2021-10-14T04:49:40.942Z"
   },
   {
    "duration": 8,
    "start_time": "2021-10-14T04:49:56.750Z"
   },
   {
    "duration": 6,
    "start_time": "2021-10-14T04:50:47.662Z"
   },
   {
    "duration": 539,
    "start_time": "2021-10-14T05:04:22.883Z"
   },
   {
    "duration": 6,
    "start_time": "2021-10-14T05:04:57.835Z"
   },
   {
    "duration": 6,
    "start_time": "2021-10-14T05:06:00.395Z"
   },
   {
    "duration": 6,
    "start_time": "2021-10-14T05:06:08.778Z"
   },
   {
    "duration": 7,
    "start_time": "2021-10-14T05:07:48.176Z"
   },
   {
    "duration": 260,
    "start_time": "2021-10-14T05:08:23.400Z"
   },
   {
    "duration": 6,
    "start_time": "2021-10-14T05:09:36.887Z"
   },
   {
    "duration": 3,
    "start_time": "2021-10-14T05:15:17.723Z"
   },
   {
    "duration": 4,
    "start_time": "2021-10-14T05:15:23.394Z"
   },
   {
    "duration": 5,
    "start_time": "2021-10-14T05:15:28.970Z"
   },
   {
    "duration": 557,
    "start_time": "2021-10-14T05:18:44.399Z"
   },
   {
    "duration": 8,
    "start_time": "2021-10-14T05:19:01.839Z"
   },
   {
    "duration": 7,
    "start_time": "2021-10-14T05:19:08.840Z"
   },
   {
    "duration": 451,
    "start_time": "2021-10-14T05:19:10.021Z"
   },
   {
    "duration": 6,
    "start_time": "2021-10-14T05:21:11.990Z"
   },
   {
    "duration": 6,
    "start_time": "2021-10-14T05:21:29.429Z"
   },
   {
    "duration": 6,
    "start_time": "2021-10-14T05:23:16.804Z"
   },
   {
    "duration": 4,
    "start_time": "2021-10-14T05:42:41.293Z"
   },
   {
    "duration": 6,
    "start_time": "2021-10-14T05:45:21.602Z"
   },
   {
    "duration": 3104,
    "start_time": "2021-10-14T06:10:31.858Z"
   },
   {
    "duration": 1295,
    "start_time": "2021-10-14T06:10:34.965Z"
   },
   {
    "duration": 337,
    "start_time": "2021-10-14T06:10:36.263Z"
   },
   {
    "duration": 354,
    "start_time": "2021-10-14T06:10:36.602Z"
   },
   {
    "duration": 254,
    "start_time": "2021-10-14T06:10:36.958Z"
   },
   {
    "duration": 76,
    "start_time": "2021-10-14T06:10:37.214Z"
   },
   {
    "duration": 88,
    "start_time": "2021-10-14T06:10:37.292Z"
   },
   {
    "duration": 5,
    "start_time": "2021-10-14T06:10:37.384Z"
   },
   {
    "duration": 24,
    "start_time": "2021-10-14T06:10:37.392Z"
   },
   {
    "duration": 16,
    "start_time": "2021-10-14T06:10:37.418Z"
   },
   {
    "duration": 24,
    "start_time": "2021-10-14T06:10:37.436Z"
   },
   {
    "duration": 13,
    "start_time": "2021-10-14T06:10:37.463Z"
   },
   {
    "duration": 13,
    "start_time": "2021-10-14T06:10:37.478Z"
   },
   {
    "duration": 28,
    "start_time": "2021-10-14T06:10:37.493Z"
   },
   {
    "duration": 37,
    "start_time": "2021-10-14T06:10:37.523Z"
   },
   {
    "duration": 19,
    "start_time": "2021-10-14T06:10:37.563Z"
   },
   {
    "duration": 18,
    "start_time": "2021-10-14T06:10:37.584Z"
   },
   {
    "duration": 52,
    "start_time": "2021-10-14T06:10:37.605Z"
   },
   {
    "duration": 24,
    "start_time": "2021-10-14T06:10:37.660Z"
   },
   {
    "duration": 51,
    "start_time": "2021-10-14T06:10:37.687Z"
   },
   {
    "duration": 13,
    "start_time": "2021-10-14T06:10:37.741Z"
   },
   {
    "duration": 25,
    "start_time": "2021-10-14T06:10:37.757Z"
   },
   {
    "duration": 36,
    "start_time": "2021-10-14T06:10:37.788Z"
   },
   {
    "duration": 31,
    "start_time": "2021-10-14T06:10:37.828Z"
   },
   {
    "duration": 30,
    "start_time": "2021-10-14T06:10:37.862Z"
   },
   {
    "duration": 31,
    "start_time": "2021-10-14T06:10:37.895Z"
   },
   {
    "duration": 19,
    "start_time": "2021-10-14T06:10:37.928Z"
   },
   {
    "duration": 20,
    "start_time": "2021-10-14T06:10:37.949Z"
   },
   {
    "duration": 18,
    "start_time": "2021-10-14T06:10:37.972Z"
   },
   {
    "duration": 32,
    "start_time": "2021-10-14T06:10:37.992Z"
   },
   {
    "duration": 9,
    "start_time": "2021-10-14T06:10:38.027Z"
   },
   {
    "duration": 16,
    "start_time": "2021-10-14T06:10:38.038Z"
   },
   {
    "duration": 21,
    "start_time": "2021-10-14T06:10:38.057Z"
   },
   {
    "duration": 45,
    "start_time": "2021-10-14T06:10:38.080Z"
   },
   {
    "duration": 11,
    "start_time": "2021-10-14T06:10:38.128Z"
   },
   {
    "duration": 17,
    "start_time": "2021-10-14T06:10:38.141Z"
   },
   {
    "duration": 15,
    "start_time": "2021-10-14T06:10:38.160Z"
   },
   {
    "duration": 47,
    "start_time": "2021-10-14T06:10:38.178Z"
   },
   {
    "duration": 35,
    "start_time": "2021-10-14T06:10:38.227Z"
   },
   {
    "duration": 29,
    "start_time": "2021-10-14T06:10:38.264Z"
   },
   {
    "duration": 12,
    "start_time": "2021-10-14T06:10:38.296Z"
   },
   {
    "duration": 17,
    "start_time": "2021-10-14T06:10:38.310Z"
   },
   {
    "duration": 11,
    "start_time": "2021-10-14T06:10:38.329Z"
   },
   {
    "duration": 28,
    "start_time": "2021-10-14T06:10:38.342Z"
   },
   {
    "duration": 20,
    "start_time": "2021-10-14T06:10:38.372Z"
   },
   {
    "duration": 17,
    "start_time": "2021-10-14T06:10:38.394Z"
   },
   {
    "duration": 50,
    "start_time": "2021-10-14T06:10:38.413Z"
   },
   {
    "duration": 19,
    "start_time": "2021-10-14T06:10:38.465Z"
   },
   {
    "duration": 23,
    "start_time": "2021-10-14T06:10:38.486Z"
   },
   {
    "duration": 4,
    "start_time": "2021-10-14T06:10:38.511Z"
   },
   {
    "duration": 12,
    "start_time": "2021-10-14T06:10:38.517Z"
   },
   {
    "duration": 30,
    "start_time": "2021-10-14T06:10:38.531Z"
   },
   {
    "duration": 36,
    "start_time": "2021-10-14T06:10:38.563Z"
   },
   {
    "duration": 16,
    "start_time": "2021-10-14T06:10:38.601Z"
   },
   {
    "duration": 25,
    "start_time": "2021-10-14T06:10:38.620Z"
   },
   {
    "duration": 26,
    "start_time": "2021-10-14T06:10:38.648Z"
   },
   {
    "duration": 18,
    "start_time": "2021-10-14T06:10:38.676Z"
   },
   {
    "duration": 29,
    "start_time": "2021-10-14T06:10:38.697Z"
   },
   {
    "duration": 40,
    "start_time": "2021-10-14T06:10:38.728Z"
   },
   {
    "duration": 3,
    "start_time": "2021-10-14T06:10:38.771Z"
   },
   {
    "duration": 14,
    "start_time": "2021-10-14T06:10:38.776Z"
   },
   {
    "duration": 32,
    "start_time": "2021-10-14T06:10:38.792Z"
   },
   {
    "duration": 26,
    "start_time": "2021-10-14T06:10:38.827Z"
   },
   {
    "duration": 4,
    "start_time": "2021-10-14T06:10:38.855Z"
   },
   {
    "duration": 10,
    "start_time": "2021-10-14T06:10:38.861Z"
   },
   {
    "duration": 15,
    "start_time": "2021-10-14T06:10:38.873Z"
   },
   {
    "duration": 48,
    "start_time": "2021-10-14T06:10:38.891Z"
   },
   {
    "duration": 8,
    "start_time": "2021-10-14T06:10:38.949Z"
   },
   {
    "duration": 9,
    "start_time": "2021-10-14T06:10:38.961Z"
   },
   {
    "duration": 10,
    "start_time": "2021-10-14T06:10:38.972Z"
   },
   {
    "duration": 39,
    "start_time": "2021-10-14T06:10:38.985Z"
   },
   {
    "duration": 11,
    "start_time": "2021-10-14T06:10:39.027Z"
   },
   {
    "duration": 22,
    "start_time": "2021-10-14T06:10:39.040Z"
   },
   {
    "duration": 8,
    "start_time": "2021-10-14T06:10:39.064Z"
   },
   {
    "duration": 6,
    "start_time": "2021-10-14T06:10:39.074Z"
   },
   {
    "duration": 41,
    "start_time": "2021-10-14T06:10:39.083Z"
   },
   {
    "duration": 6,
    "start_time": "2021-10-14T06:10:39.126Z"
   },
   {
    "duration": 10,
    "start_time": "2021-10-14T06:10:39.134Z"
   },
   {
    "duration": 20,
    "start_time": "2021-10-14T06:10:39.147Z"
   },
   {
    "duration": 6,
    "start_time": "2021-10-14T06:10:39.169Z"
   },
   {
    "duration": 55,
    "start_time": "2021-10-14T06:10:39.177Z"
   },
   {
    "duration": 38,
    "start_time": "2021-10-14T06:10:39.235Z"
   },
   {
    "duration": 21,
    "start_time": "2021-10-14T06:10:39.275Z"
   },
   {
    "duration": 26,
    "start_time": "2021-10-14T06:10:39.299Z"
   },
   {
    "duration": 40,
    "start_time": "2021-10-14T06:10:39.327Z"
   },
   {
    "duration": 23,
    "start_time": "2021-10-14T06:10:39.369Z"
   },
   {
    "duration": 32,
    "start_time": "2021-10-14T06:10:39.394Z"
   },
   {
    "duration": 28,
    "start_time": "2021-10-14T06:10:39.428Z"
   },
   {
    "duration": 422,
    "start_time": "2021-10-14T06:10:39.458Z"
   },
   {
    "duration": 5,
    "start_time": "2021-10-14T06:10:39.882Z"
   },
   {
    "duration": 55,
    "start_time": "2021-10-14T06:10:39.890Z"
   },
   {
    "duration": 5,
    "start_time": "2021-10-14T06:10:39.948Z"
   },
   {
    "duration": 16,
    "start_time": "2021-10-14T06:10:39.956Z"
   },
   {
    "duration": 23,
    "start_time": "2021-10-14T06:10:39.975Z"
   },
   {
    "duration": 30,
    "start_time": "2021-10-14T06:10:40.000Z"
   },
   {
    "duration": 17,
    "start_time": "2021-10-14T06:10:40.033Z"
   },
   {
    "duration": 27,
    "start_time": "2021-10-14T06:10:40.052Z"
   },
   {
    "duration": 27,
    "start_time": "2021-10-14T06:10:40.081Z"
   },
   {
    "duration": 18,
    "start_time": "2021-10-14T06:10:40.111Z"
   },
   {
    "duration": 28,
    "start_time": "2021-10-14T06:10:40.132Z"
   },
   {
    "duration": 23,
    "start_time": "2021-10-14T06:10:40.162Z"
   },
   {
    "duration": 16,
    "start_time": "2021-10-14T06:10:40.187Z"
   },
   {
    "duration": 434,
    "start_time": "2021-10-14T06:10:40.206Z"
   },
   {
    "duration": 19,
    "start_time": "2021-10-14T06:10:40.643Z"
   },
   {
    "duration": 34,
    "start_time": "2021-10-14T06:10:40.664Z"
   },
   {
    "duration": 560,
    "start_time": "2021-10-14T06:10:40.700Z"
   },
   {
    "duration": 10,
    "start_time": "2021-10-14T06:10:41.263Z"
   },
   {
    "duration": 24,
    "start_time": "2021-10-14T06:10:41.276Z"
   },
   {
    "duration": 23,
    "start_time": "2021-10-14T06:10:41.302Z"
   },
   {
    "duration": 18,
    "start_time": "2021-10-14T06:10:41.328Z"
   },
   {
    "duration": 31,
    "start_time": "2021-10-14T06:10:41.349Z"
   },
   {
    "duration": 12,
    "start_time": "2021-10-14T06:10:41.383Z"
   },
   {
    "duration": 30,
    "start_time": "2021-10-14T06:10:41.398Z"
   },
   {
    "duration": 25,
    "start_time": "2021-10-14T06:10:41.430Z"
   },
   {
    "duration": 33,
    "start_time": "2021-10-14T06:10:41.457Z"
   },
   {
    "duration": 18,
    "start_time": "2021-10-14T06:10:41.493Z"
   },
   {
    "duration": 453,
    "start_time": "2021-10-14T06:10:41.514Z"
   },
   {
    "duration": 7,
    "start_time": "2021-10-14T06:10:41.969Z"
   },
   {
    "duration": 17,
    "start_time": "2021-10-14T06:10:41.978Z"
   },
   {
    "duration": 27,
    "start_time": "2021-10-14T06:10:41.997Z"
   },
   {
    "duration": 15,
    "start_time": "2021-10-14T06:10:42.026Z"
   },
   {
    "duration": 8,
    "start_time": "2021-10-14T06:10:42.044Z"
   },
   {
    "duration": 38,
    "start_time": "2021-10-14T06:10:42.054Z"
   },
   {
    "duration": 445,
    "start_time": "2021-10-14T06:10:42.095Z"
   },
   {
    "duration": 6,
    "start_time": "2021-10-14T06:10:42.543Z"
   },
   {
    "duration": 26,
    "start_time": "2021-10-14T06:10:42.552Z"
   },
   {
    "duration": 13,
    "start_time": "2021-10-14T06:10:42.581Z"
   },
   {
    "duration": 569,
    "start_time": "2021-10-14T06:10:42.596Z"
   },
   {
    "duration": 7,
    "start_time": "2021-10-14T06:10:43.167Z"
   },
   {
    "duration": 12,
    "start_time": "2021-10-14T06:10:43.176Z"
   },
   {
    "duration": 32,
    "start_time": "2021-10-14T06:10:43.190Z"
   },
   {
    "duration": 480,
    "start_time": "2021-10-14T06:10:43.224Z"
   },
   {
    "duration": 16,
    "start_time": "2021-10-14T06:10:43.707Z"
   },
   {
    "duration": 8,
    "start_time": "2021-10-14T06:10:43.725Z"
   },
   {
    "duration": 9,
    "start_time": "2021-10-14T06:10:43.736Z"
   },
   {
    "duration": 10,
    "start_time": "2021-10-14T06:10:43.747Z"
   },
   {
    "duration": 13,
    "start_time": "2021-10-14T06:10:43.759Z"
   },
   {
    "duration": 8,
    "start_time": "2021-10-14T06:10:43.775Z"
   },
   {
    "duration": 41,
    "start_time": "2021-10-14T06:10:43.785Z"
   },
   {
    "duration": 536,
    "start_time": "2021-10-14T06:10:43.828Z"
   },
   {
    "duration": 7,
    "start_time": "2021-10-14T06:10:44.366Z"
   },
   {
    "duration": 18,
    "start_time": "2021-10-14T06:10:44.375Z"
   },
   {
    "duration": 26,
    "start_time": "2021-10-14T06:10:44.396Z"
   },
   {
    "duration": 4,
    "start_time": "2021-10-14T06:10:44.425Z"
   },
   {
    "duration": 166474,
    "start_time": "2021-10-14T07:59:38.459Z"
   },
   {
    "duration": 1500,
    "start_time": "2021-10-14T08:02:24.936Z"
   },
   {
    "duration": 623,
    "start_time": "2021-10-14T08:02:26.440Z"
   },
   {
    "duration": 2045,
    "start_time": "2021-10-14T08:02:27.066Z"
   },
   {
    "duration": 2007,
    "start_time": "2021-10-14T08:02:29.113Z"
   },
   {
    "duration": 90,
    "start_time": "2021-10-14T08:02:31.122Z"
   },
   {
    "duration": 97,
    "start_time": "2021-10-14T08:02:31.215Z"
   },
   {
    "duration": 6,
    "start_time": "2021-10-14T08:02:31.315Z"
   },
   {
    "duration": 41,
    "start_time": "2021-10-14T08:02:31.325Z"
   },
   {
    "duration": 17,
    "start_time": "2021-10-14T08:02:31.370Z"
   },
   {
    "duration": 26,
    "start_time": "2021-10-14T08:02:31.390Z"
   },
   {
    "duration": 16,
    "start_time": "2021-10-14T08:02:31.418Z"
   },
   {
    "duration": 17,
    "start_time": "2021-10-14T08:02:31.437Z"
   },
   {
    "duration": 34,
    "start_time": "2021-10-14T08:02:31.457Z"
   },
   {
    "duration": 47,
    "start_time": "2021-10-14T08:02:31.493Z"
   },
   {
    "duration": 19,
    "start_time": "2021-10-14T08:02:31.542Z"
   },
   {
    "duration": 5,
    "start_time": "2021-10-14T08:02:31.564Z"
   },
   {
    "duration": 41,
    "start_time": "2021-10-14T08:02:31.571Z"
   },
   {
    "duration": 45,
    "start_time": "2021-10-14T08:02:31.614Z"
   },
   {
    "duration": 27,
    "start_time": "2021-10-14T08:02:31.661Z"
   },
   {
    "duration": 13,
    "start_time": "2021-10-14T08:02:31.690Z"
   },
   {
    "duration": 57,
    "start_time": "2021-10-14T08:02:31.706Z"
   },
   {
    "duration": 5,
    "start_time": "2021-10-14T08:02:31.765Z"
   },
   {
    "duration": 39,
    "start_time": "2021-10-14T08:02:31.772Z"
   },
   {
    "duration": 47,
    "start_time": "2021-10-14T08:02:31.813Z"
   },
   {
    "duration": 7,
    "start_time": "2021-10-14T08:02:31.862Z"
   },
   {
    "duration": 18,
    "start_time": "2021-10-14T08:02:31.876Z"
   },
   {
    "duration": 12,
    "start_time": "2021-10-14T08:02:31.898Z"
   },
   {
    "duration": 48,
    "start_time": "2021-10-14T08:02:31.913Z"
   },
   {
    "duration": 5,
    "start_time": "2021-10-14T08:02:31.964Z"
   },
   {
    "duration": 14,
    "start_time": "2021-10-14T08:02:31.971Z"
   },
   {
    "duration": 16,
    "start_time": "2021-10-14T08:02:31.987Z"
   },
   {
    "duration": 56,
    "start_time": "2021-10-14T08:02:32.006Z"
   },
   {
    "duration": 5,
    "start_time": "2021-10-14T08:02:32.065Z"
   },
   {
    "duration": 13,
    "start_time": "2021-10-14T08:02:32.072Z"
   },
   {
    "duration": 16,
    "start_time": "2021-10-14T08:02:32.087Z"
   },
   {
    "duration": 18,
    "start_time": "2021-10-14T08:02:32.105Z"
   },
   {
    "duration": 37,
    "start_time": "2021-10-14T08:02:32.125Z"
   },
   {
    "duration": 14,
    "start_time": "2021-10-14T08:02:32.164Z"
   },
   {
    "duration": 25,
    "start_time": "2021-10-14T08:02:32.180Z"
   },
   {
    "duration": 7,
    "start_time": "2021-10-14T08:02:32.207Z"
   },
   {
    "duration": 12,
    "start_time": "2021-10-14T08:02:32.217Z"
   },
   {
    "duration": 32,
    "start_time": "2021-10-14T08:02:32.231Z"
   },
   {
    "duration": 8,
    "start_time": "2021-10-14T08:02:32.265Z"
   },
   {
    "duration": 18,
    "start_time": "2021-10-14T08:02:32.275Z"
   },
   {
    "duration": 24,
    "start_time": "2021-10-14T08:02:32.296Z"
   },
   {
    "duration": 33,
    "start_time": "2021-10-14T08:02:32.322Z"
   },
   {
    "duration": 19,
    "start_time": "2021-10-14T08:02:32.357Z"
   },
   {
    "duration": 23,
    "start_time": "2021-10-14T08:02:32.378Z"
   },
   {
    "duration": 4,
    "start_time": "2021-10-14T08:02:32.403Z"
   },
   {
    "duration": 7,
    "start_time": "2021-10-14T08:02:32.409Z"
   },
   {
    "duration": 48,
    "start_time": "2021-10-14T08:02:32.418Z"
   },
   {
    "duration": 27,
    "start_time": "2021-10-14T08:02:32.468Z"
   },
   {
    "duration": 11,
    "start_time": "2021-10-14T08:02:32.498Z"
   },
   {
    "duration": 59,
    "start_time": "2021-10-14T08:02:32.512Z"
   },
   {
    "duration": 18,
    "start_time": "2021-10-14T08:02:32.573Z"
   },
   {
    "duration": 19,
    "start_time": "2021-10-14T08:02:32.594Z"
   },
   {
    "duration": 6,
    "start_time": "2021-10-14T08:02:32.615Z"
   },
   {
    "duration": 74,
    "start_time": "2021-10-14T08:02:32.623Z"
   },
   {
    "duration": 4,
    "start_time": "2021-10-14T08:02:32.699Z"
   },
   {
    "duration": 9,
    "start_time": "2021-10-14T08:02:32.705Z"
   },
   {
    "duration": 6,
    "start_time": "2021-10-14T08:02:32.716Z"
   },
   {
    "duration": 25,
    "start_time": "2021-10-14T08:02:32.758Z"
   },
   {
    "duration": 4,
    "start_time": "2021-10-14T08:02:32.785Z"
   },
   {
    "duration": 11,
    "start_time": "2021-10-14T08:02:32.791Z"
   },
   {
    "duration": 12,
    "start_time": "2021-10-14T08:02:32.804Z"
   },
   {
    "duration": 56,
    "start_time": "2021-10-14T08:02:32.818Z"
   },
   {
    "duration": 6,
    "start_time": "2021-10-14T08:02:32.876Z"
   },
   {
    "duration": 8,
    "start_time": "2021-10-14T08:02:32.885Z"
   },
   {
    "duration": 11,
    "start_time": "2021-10-14T08:02:32.896Z"
   },
   {
    "duration": 47,
    "start_time": "2021-10-14T08:02:32.910Z"
   },
   {
    "duration": 12,
    "start_time": "2021-10-14T08:02:32.960Z"
   },
   {
    "duration": 13,
    "start_time": "2021-10-14T08:02:32.975Z"
   },
   {
    "duration": 7,
    "start_time": "2021-10-14T08:02:32.990Z"
   },
   {
    "duration": 8,
    "start_time": "2021-10-14T08:02:32.999Z"
   },
   {
    "duration": 14,
    "start_time": "2021-10-14T08:02:33.009Z"
   },
   {
    "duration": 7,
    "start_time": "2021-10-14T08:02:33.058Z"
   },
   {
    "duration": 14,
    "start_time": "2021-10-14T08:02:33.067Z"
   },
   {
    "duration": 17,
    "start_time": "2021-10-14T08:02:33.084Z"
   },
   {
    "duration": 6,
    "start_time": "2021-10-14T08:02:33.104Z"
   },
   {
    "duration": 19,
    "start_time": "2021-10-14T08:02:33.160Z"
   },
   {
    "duration": 8,
    "start_time": "2021-10-14T08:02:33.184Z"
   },
   {
    "duration": 7,
    "start_time": "2021-10-14T08:02:33.194Z"
   },
   {
    "duration": 10,
    "start_time": "2021-10-14T08:02:33.203Z"
   },
   {
    "duration": 12,
    "start_time": "2021-10-14T08:02:33.215Z"
   },
   {
    "duration": 29,
    "start_time": "2021-10-14T08:02:33.229Z"
   },
   {
    "duration": 11,
    "start_time": "2021-10-14T08:02:33.260Z"
   },
   {
    "duration": 15,
    "start_time": "2021-10-14T08:02:33.274Z"
   },
   {
    "duration": 427,
    "start_time": "2021-10-14T08:02:33.292Z"
   },
   {
    "duration": 5,
    "start_time": "2021-10-14T08:02:33.722Z"
   },
   {
    "duration": 42,
    "start_time": "2021-10-14T08:02:33.729Z"
   },
   {
    "duration": 19,
    "start_time": "2021-10-14T08:02:33.773Z"
   },
   {
    "duration": 19,
    "start_time": "2021-10-14T08:02:33.795Z"
   },
   {
    "duration": 8,
    "start_time": "2021-10-14T08:02:33.816Z"
   },
   {
    "duration": 9,
    "start_time": "2021-10-14T08:02:33.826Z"
   },
   {
    "duration": 10,
    "start_time": "2021-10-14T08:02:33.838Z"
   },
   {
    "duration": 10,
    "start_time": "2021-10-14T08:02:33.850Z"
   },
   {
    "duration": 8,
    "start_time": "2021-10-14T08:02:33.862Z"
   },
   {
    "duration": 5,
    "start_time": "2021-10-14T08:02:33.872Z"
   },
   {
    "duration": 17,
    "start_time": "2021-10-14T08:02:33.880Z"
   },
   {
    "duration": 17,
    "start_time": "2021-10-14T08:02:33.900Z"
   },
   {
    "duration": 13,
    "start_time": "2021-10-14T08:02:33.919Z"
   },
   {
    "duration": 453,
    "start_time": "2021-10-14T08:02:33.934Z"
   },
   {
    "duration": 20,
    "start_time": "2021-10-14T08:02:34.389Z"
   },
   {
    "duration": 19,
    "start_time": "2021-10-14T08:02:34.411Z"
   },
   {
    "duration": 463,
    "start_time": "2021-10-14T08:02:34.458Z"
   },
   {
    "duration": 10,
    "start_time": "2021-10-14T08:02:34.923Z"
   },
   {
    "duration": 29,
    "start_time": "2021-10-14T08:02:34.936Z"
   },
   {
    "duration": 10,
    "start_time": "2021-10-14T08:02:34.968Z"
   },
   {
    "duration": 17,
    "start_time": "2021-10-14T08:02:34.980Z"
   },
   {
    "duration": 10,
    "start_time": "2021-10-14T08:02:34.999Z"
   },
   {
    "duration": 14,
    "start_time": "2021-10-14T08:02:35.011Z"
   },
   {
    "duration": 36,
    "start_time": "2021-10-14T08:02:35.027Z"
   },
   {
    "duration": 17,
    "start_time": "2021-10-14T08:02:35.066Z"
   },
   {
    "duration": 20,
    "start_time": "2021-10-14T08:02:35.085Z"
   },
   {
    "duration": 11,
    "start_time": "2021-10-14T08:02:35.107Z"
   },
   {
    "duration": 461,
    "start_time": "2021-10-14T08:02:35.121Z"
   },
   {
    "duration": 6,
    "start_time": "2021-10-14T08:02:35.585Z"
   },
   {
    "duration": 8,
    "start_time": "2021-10-14T08:02:35.593Z"
   },
   {
    "duration": 9,
    "start_time": "2021-10-14T08:02:35.603Z"
   },
   {
    "duration": 10,
    "start_time": "2021-10-14T08:02:35.614Z"
   },
   {
    "duration": 6,
    "start_time": "2021-10-14T08:02:35.658Z"
   },
   {
    "duration": 9,
    "start_time": "2021-10-14T08:02:35.666Z"
   },
   {
    "duration": 474,
    "start_time": "2021-10-14T08:02:35.678Z"
   },
   {
    "duration": 6,
    "start_time": "2021-10-14T08:02:36.157Z"
   },
   {
    "duration": 19,
    "start_time": "2021-10-14T08:02:36.166Z"
   },
   {
    "duration": 20,
    "start_time": "2021-10-14T08:02:36.188Z"
   },
   {
    "duration": 464,
    "start_time": "2021-10-14T08:02:36.210Z"
   },
   {
    "duration": 7,
    "start_time": "2021-10-14T08:02:36.677Z"
   },
   {
    "duration": 9,
    "start_time": "2021-10-14T08:02:36.686Z"
   },
   {
    "duration": 9,
    "start_time": "2021-10-14T08:02:36.697Z"
   },
   {
    "duration": 490,
    "start_time": "2021-10-14T08:02:36.708Z"
   },
   {
    "duration": 6,
    "start_time": "2021-10-14T08:02:37.201Z"
   },
   {
    "duration": 8,
    "start_time": "2021-10-14T08:02:37.209Z"
   },
   {
    "duration": 4,
    "start_time": "2021-10-14T08:02:37.219Z"
   },
   {
    "duration": 35,
    "start_time": "2021-10-14T08:02:37.225Z"
   },
   {
    "duration": 9,
    "start_time": "2021-10-14T08:02:37.262Z"
   },
   {
    "duration": 21,
    "start_time": "2021-10-14T08:02:37.273Z"
   },
   {
    "duration": 13,
    "start_time": "2021-10-14T08:02:37.296Z"
   },
   {
    "duration": 556,
    "start_time": "2021-10-14T08:02:37.312Z"
   },
   {
    "duration": 6,
    "start_time": "2021-10-14T08:02:37.870Z"
   },
   {
    "duration": 9,
    "start_time": "2021-10-14T08:02:37.879Z"
   },
   {
    "duration": 9,
    "start_time": "2021-10-14T08:02:37.891Z"
   },
   {
    "duration": 9,
    "start_time": "2021-10-14T08:02:37.902Z"
   },
   {
    "duration": 12,
    "start_time": "2021-10-14T08:11:34.064Z"
   },
   {
    "duration": 6,
    "start_time": "2021-10-14T08:12:04.814Z"
   },
   {
    "duration": 35,
    "start_time": "2021-10-14T08:13:00.261Z"
   },
   {
    "duration": 383,
    "start_time": "2021-10-14T09:06:53.127Z"
   },
   {
    "duration": 5065,
    "start_time": "2021-10-14T09:07:13.567Z"
   },
   {
    "duration": 1425,
    "start_time": "2021-10-14T09:07:18.635Z"
   },
   {
    "duration": 431,
    "start_time": "2021-10-14T09:07:20.064Z"
   },
   {
    "duration": 465,
    "start_time": "2021-10-14T09:07:20.500Z"
   },
   {
    "duration": 1295,
    "start_time": "2021-10-14T09:07:20.968Z"
   },
   {
    "duration": 100,
    "start_time": "2021-10-14T09:07:22.265Z"
   },
   {
    "duration": 148,
    "start_time": "2021-10-14T09:07:22.368Z"
   },
   {
    "duration": 6,
    "start_time": "2021-10-14T09:07:22.519Z"
   },
   {
    "duration": 27,
    "start_time": "2021-10-14T09:07:22.528Z"
   },
   {
    "duration": 9,
    "start_time": "2021-10-14T09:07:22.558Z"
   },
   {
    "duration": 32,
    "start_time": "2021-10-14T09:07:22.569Z"
   },
   {
    "duration": 7,
    "start_time": "2021-10-14T09:07:22.604Z"
   },
   {
    "duration": 15,
    "start_time": "2021-10-14T09:07:22.613Z"
   },
   {
    "duration": 28,
    "start_time": "2021-10-14T09:07:22.631Z"
   },
   {
    "duration": 54,
    "start_time": "2021-10-14T09:07:22.662Z"
   },
   {
    "duration": 19,
    "start_time": "2021-10-14T09:07:22.719Z"
   },
   {
    "duration": 7,
    "start_time": "2021-10-14T09:07:22.740Z"
   },
   {
    "duration": 70,
    "start_time": "2021-10-14T09:07:22.750Z"
   },
   {
    "duration": 21,
    "start_time": "2021-10-14T09:07:22.822Z"
   },
   {
    "duration": 27,
    "start_time": "2021-10-14T09:07:22.845Z"
   },
   {
    "duration": 39,
    "start_time": "2021-10-14T09:07:22.874Z"
   },
   {
    "duration": 26,
    "start_time": "2021-10-14T09:07:22.915Z"
   },
   {
    "duration": 6,
    "start_time": "2021-10-14T09:07:22.946Z"
   },
   {
    "duration": 70,
    "start_time": "2021-10-14T09:07:22.956Z"
   },
   {
    "duration": 32,
    "start_time": "2021-10-14T09:07:23.028Z"
   },
   {
    "duration": 7,
    "start_time": "2021-10-14T09:07:23.063Z"
   },
   {
    "duration": 20,
    "start_time": "2021-10-14T09:07:23.100Z"
   },
   {
    "duration": 13,
    "start_time": "2021-10-14T09:07:23.122Z"
   },
   {
    "duration": 18,
    "start_time": "2021-10-14T09:07:23.138Z"
   },
   {
    "duration": 5,
    "start_time": "2021-10-14T09:07:23.158Z"
   },
   {
    "duration": 45,
    "start_time": "2021-10-14T09:07:23.165Z"
   },
   {
    "duration": 19,
    "start_time": "2021-10-14T09:07:23.213Z"
   },
   {
    "duration": 22,
    "start_time": "2021-10-14T09:07:23.234Z"
   },
   {
    "duration": 5,
    "start_time": "2021-10-14T09:07:23.259Z"
   },
   {
    "duration": 11,
    "start_time": "2021-10-14T09:07:23.302Z"
   },
   {
    "duration": 21,
    "start_time": "2021-10-14T09:07:23.316Z"
   },
   {
    "duration": 16,
    "start_time": "2021-10-14T09:07:23.339Z"
   },
   {
    "duration": 5,
    "start_time": "2021-10-14T09:07:23.357Z"
   },
   {
    "duration": 46,
    "start_time": "2021-10-14T09:07:23.364Z"
   },
   {
    "duration": 23,
    "start_time": "2021-10-14T09:07:23.413Z"
   },
   {
    "duration": 4,
    "start_time": "2021-10-14T09:07:23.438Z"
   },
   {
    "duration": 6,
    "start_time": "2021-10-14T09:07:23.445Z"
   },
   {
    "duration": 48,
    "start_time": "2021-10-14T09:07:23.453Z"
   },
   {
    "duration": 4,
    "start_time": "2021-10-14T09:07:23.503Z"
   },
   {
    "duration": 17,
    "start_time": "2021-10-14T09:07:23.509Z"
   },
   {
    "duration": 9,
    "start_time": "2021-10-14T09:07:23.528Z"
   },
   {
    "duration": 36,
    "start_time": "2021-10-14T09:07:23.539Z"
   },
   {
    "duration": 41,
    "start_time": "2021-10-14T09:07:23.577Z"
   },
   {
    "duration": 24,
    "start_time": "2021-10-14T09:07:23.620Z"
   },
   {
    "duration": 5,
    "start_time": "2021-10-14T09:07:23.646Z"
   },
   {
    "duration": 7,
    "start_time": "2021-10-14T09:07:23.653Z"
   },
   {
    "duration": 45,
    "start_time": "2021-10-14T09:07:23.663Z"
   },
   {
    "duration": 28,
    "start_time": "2021-10-14T09:07:23.711Z"
   },
   {
    "duration": 13,
    "start_time": "2021-10-14T09:07:23.741Z"
   },
   {
    "duration": 63,
    "start_time": "2021-10-14T09:07:23.756Z"
   },
   {
    "duration": 21,
    "start_time": "2021-10-14T09:07:23.821Z"
   },
   {
    "duration": 26,
    "start_time": "2021-10-14T09:07:23.844Z"
   },
   {
    "duration": 29,
    "start_time": "2021-10-14T09:07:23.873Z"
   },
   {
    "duration": 44,
    "start_time": "2021-10-14T09:07:23.905Z"
   },
   {
    "duration": 4,
    "start_time": "2021-10-14T09:07:23.952Z"
   },
   {
    "duration": 13,
    "start_time": "2021-10-14T09:07:23.959Z"
   },
   {
    "duration": 32,
    "start_time": "2021-10-14T09:07:23.974Z"
   },
   {
    "duration": 27,
    "start_time": "2021-10-14T09:07:24.009Z"
   },
   {
    "duration": 5,
    "start_time": "2021-10-14T09:07:24.039Z"
   },
   {
    "duration": 16,
    "start_time": "2021-10-14T09:07:24.046Z"
   },
   {
    "duration": 40,
    "start_time": "2021-10-14T09:07:24.065Z"
   },
   {
    "duration": 29,
    "start_time": "2021-10-14T09:07:24.107Z"
   },
   {
    "duration": 5,
    "start_time": "2021-10-14T09:07:24.145Z"
   },
   {
    "duration": 12,
    "start_time": "2021-10-14T09:07:24.154Z"
   },
   {
    "duration": 32,
    "start_time": "2021-10-14T09:07:24.168Z"
   },
   {
    "duration": 11,
    "start_time": "2021-10-14T09:07:24.203Z"
   },
   {
    "duration": 11,
    "start_time": "2021-10-14T09:07:24.217Z"
   },
   {
    "duration": 17,
    "start_time": "2021-10-14T09:07:24.230Z"
   },
   {
    "duration": 9,
    "start_time": "2021-10-14T09:07:24.249Z"
   },
   {
    "duration": 12,
    "start_time": "2021-10-14T09:07:24.260Z"
   },
   {
    "duration": 6,
    "start_time": "2021-10-14T09:07:24.300Z"
   },
   {
    "duration": 16,
    "start_time": "2021-10-14T09:07:24.308Z"
   },
   {
    "duration": 17,
    "start_time": "2021-10-14T09:07:24.327Z"
   },
   {
    "duration": 23,
    "start_time": "2021-10-14T09:07:24.346Z"
   },
   {
    "duration": 31,
    "start_time": "2021-10-14T09:07:24.372Z"
   },
   {
    "duration": 25,
    "start_time": "2021-10-14T09:07:24.406Z"
   },
   {
    "duration": 8,
    "start_time": "2021-10-14T09:07:24.434Z"
   },
   {
    "duration": 20,
    "start_time": "2021-10-14T09:07:24.445Z"
   },
   {
    "duration": 51,
    "start_time": "2021-10-14T09:07:24.467Z"
   },
   {
    "duration": 5,
    "start_time": "2021-10-14T09:07:24.520Z"
   },
   {
    "duration": 14,
    "start_time": "2021-10-14T09:07:24.527Z"
   },
   {
    "duration": 16,
    "start_time": "2021-10-14T09:07:24.544Z"
   },
   {
    "duration": 8,
    "start_time": "2021-10-14T09:07:24.562Z"
   },
   {
    "duration": 14,
    "start_time": "2021-10-14T09:07:24.573Z"
   },
   {
    "duration": 6,
    "start_time": "2021-10-14T09:07:24.601Z"
   },
   {
    "duration": 451,
    "start_time": "2021-10-14T09:07:24.609Z"
   },
   {
    "duration": 10,
    "start_time": "2021-10-14T09:07:25.063Z"
   },
   {
    "duration": 5,
    "start_time": "2021-10-14T09:07:25.076Z"
   },
   {
    "duration": 28,
    "start_time": "2021-10-14T09:07:25.100Z"
   },
   {
    "duration": 5,
    "start_time": "2021-10-14T09:07:25.130Z"
   },
   {
    "duration": 12,
    "start_time": "2021-10-14T09:07:25.138Z"
   },
   {
    "duration": 48,
    "start_time": "2021-10-14T09:07:25.152Z"
   },
   {
    "duration": 7,
    "start_time": "2021-10-14T09:07:25.203Z"
   },
   {
    "duration": 12,
    "start_time": "2021-10-14T09:07:25.212Z"
   },
   {
    "duration": 11,
    "start_time": "2021-10-14T09:07:25.227Z"
   },
   {
    "duration": 6,
    "start_time": "2021-10-14T09:07:25.240Z"
   },
   {
    "duration": 6,
    "start_time": "2021-10-14T09:07:25.248Z"
   },
   {
    "duration": 51,
    "start_time": "2021-10-14T09:07:25.256Z"
   },
   {
    "duration": 9,
    "start_time": "2021-10-14T09:07:25.309Z"
   },
   {
    "duration": 15,
    "start_time": "2021-10-14T09:07:25.320Z"
   },
   {
    "duration": 460,
    "start_time": "2021-10-14T09:07:25.337Z"
   },
   {
    "duration": 20,
    "start_time": "2021-10-14T09:07:25.799Z"
   },
   {
    "duration": 38,
    "start_time": "2021-10-14T09:07:25.822Z"
   },
   {
    "duration": 532,
    "start_time": "2021-10-14T09:07:29.079Z"
   },
   {
    "duration": 497,
    "start_time": "2021-10-14T09:07:49.632Z"
   },
   {
    "duration": 3253,
    "start_time": "2021-10-14T09:09:04.317Z"
   },
   {
    "duration": 4,
    "start_time": "2021-10-14T09:09:07.573Z"
   },
   {
    "duration": 473,
    "start_time": "2021-10-14T09:09:07.581Z"
   },
   {
    "duration": 1365,
    "start_time": "2021-10-14T09:09:08.057Z"
   },
   {
    "duration": 325,
    "start_time": "2021-10-14T09:09:09.425Z"
   },
   {
    "duration": 66,
    "start_time": "2021-10-14T09:09:09.753Z"
   },
   {
    "duration": 69,
    "start_time": "2021-10-14T09:09:09.821Z"
   },
   {
    "duration": 6,
    "start_time": "2021-10-14T09:09:09.894Z"
   },
   {
    "duration": 24,
    "start_time": "2021-10-14T09:09:09.903Z"
   },
   {
    "duration": 7,
    "start_time": "2021-10-14T09:09:09.929Z"
   },
   {
    "duration": 18,
    "start_time": "2021-10-14T09:09:09.939Z"
   },
   {
    "duration": 10,
    "start_time": "2021-10-14T09:09:09.960Z"
   },
   {
    "duration": 31,
    "start_time": "2021-10-14T09:09:09.973Z"
   },
   {
    "duration": 26,
    "start_time": "2021-10-14T09:09:10.006Z"
   },
   {
    "duration": 36,
    "start_time": "2021-10-14T09:09:10.035Z"
   },
   {
    "duration": 19,
    "start_time": "2021-10-14T09:09:10.101Z"
   },
   {
    "duration": 6,
    "start_time": "2021-10-14T09:09:10.123Z"
   },
   {
    "duration": 69,
    "start_time": "2021-10-14T09:09:10.131Z"
   },
   {
    "duration": 23,
    "start_time": "2021-10-14T09:09:10.203Z"
   },
   {
    "duration": 31,
    "start_time": "2021-10-14T09:09:10.228Z"
   },
   {
    "duration": 47,
    "start_time": "2021-10-14T09:09:10.262Z"
   },
   {
    "duration": 27,
    "start_time": "2021-10-14T09:09:10.311Z"
   },
   {
    "duration": 5,
    "start_time": "2021-10-14T09:09:10.345Z"
   },
   {
    "duration": 63,
    "start_time": "2021-10-14T09:09:10.354Z"
   },
   {
    "duration": 30,
    "start_time": "2021-10-14T09:09:10.419Z"
   },
   {
    "duration": 7,
    "start_time": "2021-10-14T09:09:10.452Z"
   },
   {
    "duration": 44,
    "start_time": "2021-10-14T09:09:10.461Z"
   },
   {
    "duration": 12,
    "start_time": "2021-10-14T09:09:10.508Z"
   },
   {
    "duration": 16,
    "start_time": "2021-10-14T09:09:10.523Z"
   },
   {
    "duration": 5,
    "start_time": "2021-10-14T09:09:10.541Z"
   },
   {
    "duration": 11,
    "start_time": "2021-10-14T09:09:10.548Z"
   },
   {
    "duration": 54,
    "start_time": "2021-10-14T09:09:10.562Z"
   },
   {
    "duration": 25,
    "start_time": "2021-10-14T09:09:10.619Z"
   },
   {
    "duration": 5,
    "start_time": "2021-10-14T09:09:10.647Z"
   },
   {
    "duration": 13,
    "start_time": "2021-10-14T09:09:10.654Z"
   },
   {
    "duration": 46,
    "start_time": "2021-10-14T09:09:10.670Z"
   },
   {
    "duration": 17,
    "start_time": "2021-10-14T09:09:10.718Z"
   },
   {
    "duration": 5,
    "start_time": "2021-10-14T09:09:10.737Z"
   },
   {
    "duration": 15,
    "start_time": "2021-10-14T09:09:10.744Z"
   },
   {
    "duration": 57,
    "start_time": "2021-10-14T09:09:10.761Z"
   },
   {
    "duration": 4,
    "start_time": "2021-10-14T09:09:10.820Z"
   },
   {
    "duration": 5,
    "start_time": "2021-10-14T09:09:10.827Z"
   },
   {
    "duration": 7,
    "start_time": "2021-10-14T09:09:10.835Z"
   },
   {
    "duration": 10,
    "start_time": "2021-10-14T09:09:10.844Z"
   },
   {
    "duration": 47,
    "start_time": "2021-10-14T09:09:10.857Z"
   },
   {
    "duration": 9,
    "start_time": "2021-10-14T09:09:10.906Z"
   },
   {
    "duration": 33,
    "start_time": "2021-10-14T09:09:10.917Z"
   },
   {
    "duration": 19,
    "start_time": "2021-10-14T09:09:10.953Z"
   },
   {
    "duration": 47,
    "start_time": "2021-10-14T09:09:10.975Z"
   },
   {
    "duration": 4,
    "start_time": "2021-10-14T09:09:11.024Z"
   },
   {
    "duration": 8,
    "start_time": "2021-10-14T09:09:11.030Z"
   },
   {
    "duration": 20,
    "start_time": "2021-10-14T09:09:11.041Z"
   },
   {
    "duration": 57,
    "start_time": "2021-10-14T09:09:11.064Z"
   },
   {
    "duration": 10,
    "start_time": "2021-10-14T09:09:11.124Z"
   },
   {
    "duration": 63,
    "start_time": "2021-10-14T09:09:11.137Z"
   },
   {
    "duration": 21,
    "start_time": "2021-10-14T09:09:11.203Z"
   },
   {
    "duration": 22,
    "start_time": "2021-10-14T09:09:11.227Z"
   },
   {
    "duration": 11,
    "start_time": "2021-10-14T09:09:11.252Z"
   },
   {
    "duration": 33,
    "start_time": "2021-10-14T09:09:11.301Z"
   },
   {
    "duration": 4,
    "start_time": "2021-10-14T09:09:11.336Z"
   },
   {
    "duration": 11,
    "start_time": "2021-10-14T09:09:11.342Z"
   },
   {
    "duration": 11,
    "start_time": "2021-10-14T09:09:11.355Z"
   },
   {
    "duration": 55,
    "start_time": "2021-10-14T09:09:11.369Z"
   },
   {
    "duration": 4,
    "start_time": "2021-10-14T09:09:11.427Z"
   },
   {
    "duration": 13,
    "start_time": "2021-10-14T09:09:11.433Z"
   },
   {
    "duration": 15,
    "start_time": "2021-10-14T09:09:11.448Z"
   },
   {
    "duration": 53,
    "start_time": "2021-10-14T09:09:11.466Z"
   },
   {
    "duration": 7,
    "start_time": "2021-10-14T09:09:11.529Z"
   },
   {
    "duration": 6,
    "start_time": "2021-10-14T09:09:11.540Z"
   },
   {
    "duration": 6,
    "start_time": "2021-10-14T09:09:11.548Z"
   },
   {
    "duration": 52,
    "start_time": "2021-10-14T09:09:11.557Z"
   },
   {
    "duration": 12,
    "start_time": "2021-10-14T09:09:11.611Z"
   },
   {
    "duration": 13,
    "start_time": "2021-10-14T09:09:11.625Z"
   },
   {
    "duration": 8,
    "start_time": "2021-10-14T09:09:11.640Z"
   },
   {
    "duration": 6,
    "start_time": "2021-10-14T09:09:11.650Z"
   },
   {
    "duration": 47,
    "start_time": "2021-10-14T09:09:11.658Z"
   },
   {
    "duration": 8,
    "start_time": "2021-10-14T09:09:11.708Z"
   },
   {
    "duration": 13,
    "start_time": "2021-10-14T09:09:11.718Z"
   },
   {
    "duration": 21,
    "start_time": "2021-10-14T09:09:11.734Z"
   },
   {
    "duration": 6,
    "start_time": "2021-10-14T09:09:11.757Z"
   },
   {
    "duration": 19,
    "start_time": "2021-10-14T09:09:11.801Z"
   },
   {
    "duration": 9,
    "start_time": "2021-10-14T09:09:11.823Z"
   },
   {
    "duration": 6,
    "start_time": "2021-10-14T09:09:11.835Z"
   },
   {
    "duration": 73,
    "start_time": "2021-10-14T09:09:11.843Z"
   },
   {
    "duration": 5,
    "start_time": "2021-10-14T09:09:11.918Z"
   },
   {
    "duration": 10,
    "start_time": "2021-10-14T09:09:11.925Z"
   },
   {
    "duration": 10,
    "start_time": "2021-10-14T09:09:11.937Z"
   },
   {
    "duration": 6,
    "start_time": "2021-10-14T09:09:11.949Z"
   },
   {
    "duration": 11,
    "start_time": "2021-10-14T09:09:11.957Z"
   },
   {
    "duration": 30,
    "start_time": "2021-10-14T09:09:11.970Z"
   },
   {
    "duration": 436,
    "start_time": "2021-10-14T09:09:12.003Z"
   },
   {
    "duration": 11,
    "start_time": "2021-10-14T09:09:12.441Z"
   },
   {
    "duration": 9,
    "start_time": "2021-10-14T09:09:12.454Z"
   },
   {
    "duration": 51,
    "start_time": "2021-10-14T09:09:12.466Z"
   },
   {
    "duration": 5,
    "start_time": "2021-10-14T09:09:12.520Z"
   },
   {
    "duration": 15,
    "start_time": "2021-10-14T09:09:12.527Z"
   },
   {
    "duration": 11,
    "start_time": "2021-10-14T09:09:12.544Z"
   },
   {
    "duration": 14,
    "start_time": "2021-10-14T09:09:12.558Z"
   },
   {
    "duration": 26,
    "start_time": "2021-10-14T09:09:12.574Z"
   },
   {
    "duration": 11,
    "start_time": "2021-10-14T09:09:12.603Z"
   },
   {
    "duration": 13,
    "start_time": "2021-10-14T09:09:12.617Z"
   },
   {
    "duration": 18,
    "start_time": "2021-10-14T09:09:12.633Z"
   },
   {
    "duration": 11,
    "start_time": "2021-10-14T09:09:12.654Z"
   },
   {
    "duration": 32,
    "start_time": "2021-10-14T09:09:12.668Z"
   },
   {
    "duration": 12,
    "start_time": "2021-10-14T09:09:12.703Z"
   },
   {
    "duration": 458,
    "start_time": "2021-10-14T09:09:12.717Z"
   },
   {
    "duration": 33,
    "start_time": "2021-10-14T09:09:13.177Z"
   },
   {
    "duration": 20,
    "start_time": "2021-10-14T09:09:13.213Z"
   },
   {
    "duration": 620,
    "start_time": "2021-10-14T09:09:13.235Z"
   },
   {
    "duration": 11,
    "start_time": "2021-10-14T09:09:13.858Z"
   },
   {
    "duration": 34,
    "start_time": "2021-10-14T09:09:13.872Z"
   },
   {
    "duration": 20,
    "start_time": "2021-10-14T09:09:13.909Z"
   },
   {
    "duration": 24,
    "start_time": "2021-10-14T09:09:13.932Z"
   },
   {
    "duration": 25,
    "start_time": "2021-10-14T09:09:13.959Z"
   },
   {
    "duration": 20,
    "start_time": "2021-10-14T09:09:13.987Z"
   },
   {
    "duration": 25,
    "start_time": "2021-10-14T09:09:14.010Z"
   },
   {
    "duration": 18,
    "start_time": "2021-10-14T09:09:14.037Z"
   },
   {
    "duration": 8,
    "start_time": "2021-10-14T09:09:14.058Z"
   },
   {
    "duration": 9,
    "start_time": "2021-10-14T09:09:14.068Z"
   },
   {
    "duration": 475,
    "start_time": "2021-10-14T09:09:14.080Z"
   },
   {
    "duration": 6,
    "start_time": "2021-10-14T09:09:14.557Z"
   },
   {
    "duration": 15,
    "start_time": "2021-10-14T09:09:14.566Z"
   },
   {
    "duration": 19,
    "start_time": "2021-10-14T09:09:14.584Z"
   },
   {
    "duration": 17,
    "start_time": "2021-10-14T09:09:14.605Z"
   },
   {
    "duration": 22,
    "start_time": "2021-10-14T09:09:14.624Z"
   },
   {
    "duration": 10,
    "start_time": "2021-10-14T09:09:14.649Z"
   },
   {
    "duration": 476,
    "start_time": "2021-10-14T09:09:14.662Z"
   },
   {
    "duration": 8,
    "start_time": "2021-10-14T09:09:15.142Z"
   },
   {
    "duration": 16,
    "start_time": "2021-10-14T09:09:15.152Z"
   },
   {
    "duration": 32,
    "start_time": "2021-10-14T09:09:15.170Z"
   },
   {
    "duration": 499,
    "start_time": "2021-10-14T09:09:15.204Z"
   },
   {
    "duration": 6,
    "start_time": "2021-10-14T09:09:15.706Z"
   },
   {
    "duration": 13,
    "start_time": "2021-10-14T09:09:15.715Z"
   },
   {
    "duration": 16,
    "start_time": "2021-10-14T09:09:15.731Z"
   },
   {
    "duration": 520,
    "start_time": "2021-10-14T09:09:15.750Z"
   },
   {
    "duration": 6,
    "start_time": "2021-10-14T09:09:16.272Z"
   },
   {
    "duration": 7,
    "start_time": "2021-10-14T09:09:19.685Z"
   },
   {
    "duration": 7,
    "start_time": "2021-10-14T09:09:20.317Z"
   },
   {
    "duration": 4,
    "start_time": "2021-10-14T09:09:31.996Z"
   },
   {
    "duration": 5,
    "start_time": "2021-10-14T09:09:32.366Z"
   },
   {
    "duration": 5,
    "start_time": "2021-10-14T09:09:32.765Z"
   },
   {
    "duration": 7,
    "start_time": "2021-10-14T09:09:33.845Z"
   },
   {
    "duration": 8,
    "start_time": "2021-10-14T09:09:34.325Z"
   },
   {
    "duration": 485,
    "start_time": "2021-10-14T09:09:34.805Z"
   },
   {
    "duration": 6,
    "start_time": "2021-10-14T09:09:35.837Z"
   },
   {
    "duration": 7,
    "start_time": "2021-10-14T09:09:36.574Z"
   },
   {
    "duration": 5,
    "start_time": "2021-10-14T09:09:38.205Z"
   },
   {
    "duration": 5,
    "start_time": "2021-10-14T09:09:38.797Z"
   }
  ],
  "kernelspec": {
   "display_name": "Python 3 (ipykernel)",
   "language": "python",
   "name": "python3"
  },
  "language_info": {
   "codemirror_mode": {
    "name": "ipython",
    "version": 3
   },
   "file_extension": ".py",
   "mimetype": "text/x-python",
   "name": "python",
   "nbconvert_exporter": "python",
   "pygments_lexer": "ipython3",
   "version": "3.9.12"
  },
  "toc": {
   "base_numbering": 1,
   "nav_menu": {
    "height": "217px",
    "width": "198px"
   },
   "number_sections": true,
   "sideBar": true,
   "skip_h1_title": true,
   "title_cell": "Table of Contents",
   "title_sidebar": "Contents",
   "toc_cell": true,
   "toc_position": {
    "height": "calc(100% - 180px)",
    "left": "10px",
    "top": "150px",
    "width": "305.014px"
   },
   "toc_section_display": true,
   "toc_window_display": true
  }
 },
 "nbformat": 4,
 "nbformat_minor": 2
}
