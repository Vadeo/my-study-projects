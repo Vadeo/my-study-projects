{
 "cells": [
  {
   "cell_type": "markdown",
   "metadata": {
    "id": "wfNAfF8GH9-a"
   },
   "source": [
    "<div style=\"border-radius: 15px; box-shadow: 2px 2px 4px; border: 1px solid; background:#bdc3c7; padding: 20px\"> <h7 style=\"color:black; margin-bottom:20px\"> Вадим, привет!) Это Михаил.\n",
    "\n",
    "Мои комментарии и замечания далее по тексту помечены различными цветами:\n",
    "    \n",
    "---    \n",
    "<div class=\"alert alert-block alert-danger\">\n",
    "❌ : Критическое замечание, которые следует исправить.\n",
    "</div> \n",
    "    \n",
    "---\n",
    "    \n",
    "<div class=\"alert alert-block alert-warning\">\n",
    "⚠️ : Замечание\\совет на будущее.\n",
    "</div>\n",
    "    \n",
    "---\n",
    "    \n",
    "<div class=\"alert alert-block alert-success\">\n",
    "✔️ : Когда всё сделано правильно.\n",
    "</div>\n",
    "    \n",
    "---\n",
    "    \n",
    "p.s.: не удаляй мои замечания, если предстоит что то доработать в проекте.</h7>"
   ]
  },
  {
   "cell_type": "markdown",
   "metadata": {
    "id": "niSs-aMCH9-d"
   },
   "source": [
    "<div class=\"alert alert-success\" style=\"border-radius: 15px; box-shadow: 4px 4px 4px; border: 1px solid \" > <b>Комментарии от ревьюера v2 ✔️ : </b> \n",
    "\n",
    "Привет) Все замечания учтены. Успехов на самом проекте!\n",
    "</div>"
   ]
  },
  {
   "cell_type": "markdown",
   "metadata": {
    "id": "bJGvfMuYH9-e"
   },
   "source": [
    "### Задание\n",
    "\n",
    "---\n",
    "\n",
    "**Задача:**\n",
    "\n",
    "**Выделите группы пользователей, которые различаются по метрикам:**\n",
    "\n",
    "1. retention rate,\n",
    "2. время, проведённое в приложении, \n",
    "3. частота действий, \n",
    "4. конверсия в целевое действие — просмотр контактов.\n",
    "---\n",
    "\n",
    "- Проведите исследовательский анализ данных\n",
    "- Сегментируйте пользователей на основе действий\n",
    "- Проверьте статистические гипотезы\n",
    "    1. *Некоторые пользователи установили приложение по ссылке из `yandex`, другие — из `google`. Проверьте гипотезу: две эти группы демонстрируют разную конверсию в просмотры контактов.*\n",
    "    2. *Сформулируйте собственную гипотезу. Дополните её нулевой и альтернативной гипотезами. Проведите статистический тест.*\n",
    "\n",
    "### **Описание данных:**\n",
    "\n",
    "Датасет содержит данные о событиях, совершенных в мобильном приложении \"Ненужные вещи\". В нем пользователи продают свои ненужные вещи, размещая их на доске объявлений.\n",
    "\n",
    "В датасете содержатся данные пользователей, впервые совершивших действия в приложении после 7 октября 2019 года.\n",
    "\n",
    "Колонки в *mobile_sources.csv*: \n",
    "\n",
    "- `userId` — идентификатор пользователя,\n",
    "- `source` — источник, с которого пользователь установил приложение.\n",
    "\n",
    "Колонки в mobile_dataset.csv: **\n",
    "\n",
    "- `event.time` — время совершения,\n",
    "- `user.id` — идентификатор пользователя,\n",
    "- `event.name` — действие пользователя.\n",
    "\n",
    "Виды действий:\n",
    "\n",
    "- `advert_open` — открыл карточки объявления,\n",
    "- `photos_show` — просмотрел фотографий в объявлении,\n",
    "- `tips_show` — увидел рекомендованные объявления,\n",
    "- `tips_click` — кликнул по рекомендованному объявлению,\n",
    "- `contacts_show` и `show_contacts` — посмотрел номер телефона,\n",
    "- `contacts_call` — позвонил по номеру из объявления,\n",
    "- `map` — открыл карту объявлений,\n",
    "- `search_1`—`search_7` — разные действия, связанные с поиском по сайту,\n",
    "- `favorites_add` — добавил объявление в избранное.\n",
    "\n",
    "По итогам исследования подготовьте презентацию. Для создания презентации используйте любой удобный инструмент, но отправить презентацию нужно **обязательно** в формате **pdf,** прикрепив ссылку на файл в основном проекте.\n",
    "\n",
    "---\n",
    "\n",
    "### Дашборды\n",
    "\n",
    "Если вы планируете делать дашборд, то напишите об этом в комментариях в проекте, тогда ревьюер проверит работу, но не будет её принимать пока вы не пришлёте эту дополнительную задачу. Чтобы отправить дашборд приложите к проекту ссылку на файл.\n",
    "\n",
    "1. Набор №1\n",
    "    1. Постройте диаграмму распределения количества событий по типу события.\n",
    "    2. Добавьте индикатор количества пользователей.\n",
    "    3. Добавьте фильтр дашборда по дате совершения события.\n",
    "2. Набор №2\n",
    "    1. Постройте диаграмму, отображающую количество событий по дням.\n",
    "    2. Постройте гистограмму, отображающую количество пользователей, пришедших из разных источников.\n",
    "    3. Добавьте фильтр дашборда по типу события."
   ]
  },
  {
   "cell_type": "markdown",
   "metadata": {
    "id": "VUt0_zJvH9-f"
   },
   "source": [
    "<div class=\"alert alert-info\" role=\"alert\">\n",
    "    \n",
    "    \n",
    "__Комментарий от студента №1__\n",
    "    \n",
    "Михаил, привет! С праздником тебя! Спасибо, что проверяешь наши работы в выходной день. Пункты декомпозиции я сразу разбил на ячейки, чтобы потом в этой же тетрадке работать с данными, просто добавляя необходимиые вычисления в соответствующий раздел.\n",
    "    \n",
    "</div>"
   ]
  },
  {
   "cell_type": "markdown",
   "metadata": {
    "id": "1so0qhqLH9-g"
   },
   "source": [
    "<div class=\"alert alert-success\" style=\"border-radius: 15px; box-shadow: 4px 4px 4px; border: 1px solid \" > <b>Комментарии от ревьюера ✔️ : </b> \n",
    "\n",
    "Спасибо большое!) У тебя уже с прошедшим праздником.\n",
    "</div>"
   ]
  },
  {
   "cell_type": "markdown",
   "metadata": {
    "id": "lA49C9vVH9-g"
   },
   "source": [
    "# Декомпозиция задачи. "
   ]
  },
  {
   "cell_type": "markdown",
   "metadata": {
    "id": "x9-TBKyJH9-g"
   },
   "source": [
    "## Загрузка данных и библиотек для их обработки."
   ]
  },
  {
   "cell_type": "code",
   "execution_count": 28,
   "metadata": {
    "colab": {
     "base_uri": "https://localhost:8080/"
    },
    "executionInfo": {
     "elapsed": 805,
     "status": "ok",
     "timestamp": 1646288868544,
     "user": {
      "displayName": "Vadim Selin",
      "photoUrl": "https://lh3.googleusercontent.com/a-/AOh14GimRG1VQmVxfbiWveTHbWUVfAwPpou3uwYOggho=s64",
      "userId": "13742755250186020674"
     },
     "user_tz": -180
    },
    "id": "-xx3j3g4H9-h",
    "outputId": "aa13fd53-71ce-471c-bacb-d8538b782f5f"
   },
   "outputs": [],
   "source": [
    "import pandas as pd\n",
    "import numpy as np\n",
    "import seaborn as sns\n",
    "import matplotlib.pyplot as plt\n",
    "from statsmodels.stats.proportion import proportions_ztest"
   ]
  },
  {
   "cell_type": "code",
   "execution_count": 2,
   "metadata": {
    "executionInfo": {
     "elapsed": 437,
     "status": "ok",
     "timestamp": 1646288878247,
     "user": {
      "displayName": "Vadim Selin",
      "photoUrl": "https://lh3.googleusercontent.com/a-/AOh14GimRG1VQmVxfbiWveTHbWUVfAwPpou3uwYOggho=s64",
      "userId": "13742755250186020674"
     },
     "user_tz": -180
    },
    "id": "bmwpxfUhH9-i"
   },
   "outputs": [],
   "source": [
    "df = pd.read_csv('mobile_dataset.csv')"
   ]
  },
  {
   "cell_type": "code",
   "execution_count": 3,
   "metadata": {
    "executionInfo": {
     "elapsed": 319,
     "status": "ok",
     "timestamp": 1646288880836,
     "user": {
      "displayName": "Vadim Selin",
      "photoUrl": "https://lh3.googleusercontent.com/a-/AOh14GimRG1VQmVxfbiWveTHbWUVfAwPpou3uwYOggho=s64",
      "userId": "13742755250186020674"
     },
     "user_tz": -180
    },
    "id": "RHQFbwEKH9-i"
   },
   "outputs": [],
   "source": [
    "src = pd.read_csv('mobile_soures.csv')"
   ]
  },
  {
   "cell_type": "code",
   "execution_count": 4,
   "metadata": {
    "colab": {
     "base_uri": "https://localhost:8080/",
     "height": 206
    },
    "executionInfo": {
     "elapsed": 4,
     "status": "ok",
     "timestamp": 1646288882050,
     "user": {
      "displayName": "Vadim Selin",
      "photoUrl": "https://lh3.googleusercontent.com/a-/AOh14GimRG1VQmVxfbiWveTHbWUVfAwPpou3uwYOggho=s64",
      "userId": "13742755250186020674"
     },
     "user_tz": -180
    },
    "id": "W19Qix6RH9-j",
    "outputId": "c5d763d3-9cac-4d07-f874-834af573f0b2"
   },
   "outputs": [
    {
     "data": {
      "text/html": [
       "<div>\n",
       "<style scoped>\n",
       "    .dataframe tbody tr th:only-of-type {\n",
       "        vertical-align: middle;\n",
       "    }\n",
       "\n",
       "    .dataframe tbody tr th {\n",
       "        vertical-align: top;\n",
       "    }\n",
       "\n",
       "    .dataframe thead th {\n",
       "        text-align: right;\n",
       "    }\n",
       "</style>\n",
       "<table border=\"1\" class=\"dataframe\">\n",
       "  <thead>\n",
       "    <tr style=\"text-align: right;\">\n",
       "      <th></th>\n",
       "      <th>event.time</th>\n",
       "      <th>event.name</th>\n",
       "      <th>user.id</th>\n",
       "    </tr>\n",
       "  </thead>\n",
       "  <tbody>\n",
       "    <tr>\n",
       "      <td>0</td>\n",
       "      <td>2019-10-07 00:00:00.431357</td>\n",
       "      <td>advert_open</td>\n",
       "      <td>020292ab-89bc-4156-9acf-68bc2783f894</td>\n",
       "    </tr>\n",
       "    <tr>\n",
       "      <td>1</td>\n",
       "      <td>2019-10-07 00:00:01.236320</td>\n",
       "      <td>tips_show</td>\n",
       "      <td>020292ab-89bc-4156-9acf-68bc2783f894</td>\n",
       "    </tr>\n",
       "    <tr>\n",
       "      <td>2</td>\n",
       "      <td>2019-10-07 00:00:02.245341</td>\n",
       "      <td>tips_show</td>\n",
       "      <td>cf7eda61-9349-469f-ac27-e5b6f5ec475c</td>\n",
       "    </tr>\n",
       "    <tr>\n",
       "      <td>3</td>\n",
       "      <td>2019-10-07 00:00:07.039334</td>\n",
       "      <td>tips_show</td>\n",
       "      <td>020292ab-89bc-4156-9acf-68bc2783f894</td>\n",
       "    </tr>\n",
       "    <tr>\n",
       "      <td>4</td>\n",
       "      <td>2019-10-07 00:00:56.319813</td>\n",
       "      <td>advert_open</td>\n",
       "      <td>cf7eda61-9349-469f-ac27-e5b6f5ec475c</td>\n",
       "    </tr>\n",
       "  </tbody>\n",
       "</table>\n",
       "</div>"
      ],
      "text/plain": [
       "                   event.time   event.name  \\\n",
       "0  2019-10-07 00:00:00.431357  advert_open   \n",
       "1  2019-10-07 00:00:01.236320    tips_show   \n",
       "2  2019-10-07 00:00:02.245341    tips_show   \n",
       "3  2019-10-07 00:00:07.039334    tips_show   \n",
       "4  2019-10-07 00:00:56.319813  advert_open   \n",
       "\n",
       "                                user.id  \n",
       "0  020292ab-89bc-4156-9acf-68bc2783f894  \n",
       "1  020292ab-89bc-4156-9acf-68bc2783f894  \n",
       "2  cf7eda61-9349-469f-ac27-e5b6f5ec475c  \n",
       "3  020292ab-89bc-4156-9acf-68bc2783f894  \n",
       "4  cf7eda61-9349-469f-ac27-e5b6f5ec475c  "
      ]
     },
     "execution_count": 4,
     "metadata": {},
     "output_type": "execute_result"
    }
   ],
   "source": [
    "df.head()"
   ]
  },
  {
   "cell_type": "code",
   "execution_count": 5,
   "metadata": {
    "colab": {
     "base_uri": "https://localhost:8080/",
     "height": 206
    },
    "executionInfo": {
     "elapsed": 3,
     "status": "ok",
     "timestamp": 1646288883445,
     "user": {
      "displayName": "Vadim Selin",
      "photoUrl": "https://lh3.googleusercontent.com/a-/AOh14GimRG1VQmVxfbiWveTHbWUVfAwPpou3uwYOggho=s64",
      "userId": "13742755250186020674"
     },
     "user_tz": -180
    },
    "id": "dXEpjBsZH9-j",
    "outputId": "143e58ee-95a6-4f56-f061-0a0c2c7a51d7"
   },
   "outputs": [
    {
     "data": {
      "text/html": [
       "<div>\n",
       "<style scoped>\n",
       "    .dataframe tbody tr th:only-of-type {\n",
       "        vertical-align: middle;\n",
       "    }\n",
       "\n",
       "    .dataframe tbody tr th {\n",
       "        vertical-align: top;\n",
       "    }\n",
       "\n",
       "    .dataframe thead th {\n",
       "        text-align: right;\n",
       "    }\n",
       "</style>\n",
       "<table border=\"1\" class=\"dataframe\">\n",
       "  <thead>\n",
       "    <tr style=\"text-align: right;\">\n",
       "      <th></th>\n",
       "      <th>userId</th>\n",
       "      <th>source</th>\n",
       "    </tr>\n",
       "  </thead>\n",
       "  <tbody>\n",
       "    <tr>\n",
       "      <td>0</td>\n",
       "      <td>020292ab-89bc-4156-9acf-68bc2783f894</td>\n",
       "      <td>other</td>\n",
       "    </tr>\n",
       "    <tr>\n",
       "      <td>1</td>\n",
       "      <td>cf7eda61-9349-469f-ac27-e5b6f5ec475c</td>\n",
       "      <td>yandex</td>\n",
       "    </tr>\n",
       "    <tr>\n",
       "      <td>2</td>\n",
       "      <td>8c356c42-3ba9-4cb6-80b8-3f868d0192c3</td>\n",
       "      <td>yandex</td>\n",
       "    </tr>\n",
       "    <tr>\n",
       "      <td>3</td>\n",
       "      <td>d9b06b47-0f36-419b-bbb0-3533e582a6cb</td>\n",
       "      <td>other</td>\n",
       "    </tr>\n",
       "    <tr>\n",
       "      <td>4</td>\n",
       "      <td>f32e1e2a-3027-4693-b793-b7b3ff274439</td>\n",
       "      <td>google</td>\n",
       "    </tr>\n",
       "  </tbody>\n",
       "</table>\n",
       "</div>"
      ],
      "text/plain": [
       "                                 userId  source\n",
       "0  020292ab-89bc-4156-9acf-68bc2783f894   other\n",
       "1  cf7eda61-9349-469f-ac27-e5b6f5ec475c  yandex\n",
       "2  8c356c42-3ba9-4cb6-80b8-3f868d0192c3  yandex\n",
       "3  d9b06b47-0f36-419b-bbb0-3533e582a6cb   other\n",
       "4  f32e1e2a-3027-4693-b793-b7b3ff274439  google"
      ]
     },
     "execution_count": 5,
     "metadata": {},
     "output_type": "execute_result"
    }
   ],
   "source": [
    "src.head()"
   ]
  },
  {
   "cell_type": "markdown",
   "metadata": {
    "id": "ikXjqhNPH9-k"
   },
   "source": [
    "## Предобработка."
   ]
  },
  {
   "cell_type": "markdown",
   "metadata": {
    "id": "RPVbEqXmH9-k"
   },
   "source": [
    "### Поменяю названия столбцов на стандартные."
   ]
  },
  {
   "cell_type": "code",
   "execution_count": 6,
   "metadata": {
    "executionInfo": {
     "elapsed": 2,
     "status": "ok",
     "timestamp": 1646288886868,
     "user": {
      "displayName": "Vadim Selin",
      "photoUrl": "https://lh3.googleusercontent.com/a-/AOh14GimRG1VQmVxfbiWveTHbWUVfAwPpou3uwYOggho=s64",
      "userId": "13742755250186020674"
     },
     "user_tz": -180
    },
    "id": "3dVhAb0vH9-k"
   },
   "outputs": [],
   "source": [
    "df.columns = ['event_time', 'event_name', 'user_id']"
   ]
  },
  {
   "cell_type": "code",
   "execution_count": 7,
   "metadata": {
    "executionInfo": {
     "elapsed": 394,
     "status": "ok",
     "timestamp": 1646288887562,
     "user": {
      "displayName": "Vadim Selin",
      "photoUrl": "https://lh3.googleusercontent.com/a-/AOh14GimRG1VQmVxfbiWveTHbWUVfAwPpou3uwYOggho=s64",
      "userId": "13742755250186020674"
     },
     "user_tz": -180
    },
    "id": "3M9E2QRUH9-k"
   },
   "outputs": [],
   "source": [
    "src.rename(columns={'userId': 'user_id'}, inplace=True)"
   ]
  },
  {
   "cell_type": "markdown",
   "metadata": {
    "id": "kSKosWXaH9-l"
   },
   "source": [
    "### Пропуски."
   ]
  },
  {
   "cell_type": "code",
   "execution_count": 8,
   "metadata": {
    "colab": {
     "base_uri": "https://localhost:8080/"
    },
    "executionInfo": {
     "elapsed": 282,
     "status": "ok",
     "timestamp": 1646288890230,
     "user": {
      "displayName": "Vadim Selin",
      "photoUrl": "https://lh3.googleusercontent.com/a-/AOh14GimRG1VQmVxfbiWveTHbWUVfAwPpou3uwYOggho=s64",
      "userId": "13742755250186020674"
     },
     "user_tz": -180
    },
    "id": "706IR9YgH9-l",
    "outputId": "c1343e26-ef28-4fc7-fd1b-9ec328c8ed4e"
   },
   "outputs": [
    {
     "data": {
      "text/plain": [
       "event_time    0.0\n",
       "event_name    0.0\n",
       "user_id       0.0\n",
       "dtype: float64"
      ]
     },
     "execution_count": 8,
     "metadata": {},
     "output_type": "execute_result"
    }
   ],
   "source": [
    "df.isna().mean()"
   ]
  },
  {
   "cell_type": "markdown",
   "metadata": {
    "id": "Jx4fLwIcH9-l"
   },
   "source": [
    "- такой вывод короче и наглядней показывает наличие или отсутствие пропусков, нежели `df.info()`"
   ]
  },
  {
   "cell_type": "code",
   "execution_count": 9,
   "metadata": {
    "colab": {
     "base_uri": "https://localhost:8080/"
    },
    "executionInfo": {
     "elapsed": 2,
     "status": "ok",
     "timestamp": 1646288891182,
     "user": {
      "displayName": "Vadim Selin",
      "photoUrl": "https://lh3.googleusercontent.com/a-/AOh14GimRG1VQmVxfbiWveTHbWUVfAwPpou3uwYOggho=s64",
      "userId": "13742755250186020674"
     },
     "user_tz": -180
    },
    "id": "LirdnCQTH9-l",
    "outputId": "8ac1a224-34c2-443e-c246-ab778b086496"
   },
   "outputs": [
    {
     "data": {
      "text/plain": [
       "user_id    0.0\n",
       "source     0.0\n",
       "dtype: float64"
      ]
     },
     "execution_count": 9,
     "metadata": {},
     "output_type": "execute_result"
    }
   ],
   "source": [
    "src.isna().mean()"
   ]
  },
  {
   "cell_type": "markdown",
   "metadata": {
    "id": "00mZNvKCH9-m"
   },
   "source": [
    "- Пропусков нет и это замечательно."
   ]
  },
  {
   "cell_type": "markdown",
   "metadata": {
    "id": "nZkAbbJKH9-m"
   },
   "source": [
    "### Дубли"
   ]
  },
  {
   "cell_type": "code",
   "execution_count": 10,
   "metadata": {
    "colab": {
     "base_uri": "https://localhost:8080/"
    },
    "executionInfo": {
     "elapsed": 276,
     "status": "ok",
     "timestamp": 1646288893337,
     "user": {
      "displayName": "Vadim Selin",
      "photoUrl": "https://lh3.googleusercontent.com/a-/AOh14GimRG1VQmVxfbiWveTHbWUVfAwPpou3uwYOggho=s64",
      "userId": "13742755250186020674"
     },
     "user_tz": -180
    },
    "id": "eUj2JzmoH9-m",
    "outputId": "baad2d81-59bf-484b-c04d-342f0edf1831"
   },
   "outputs": [
    {
     "data": {
      "text/plain": [
       "0.0"
      ]
     },
     "execution_count": 10,
     "metadata": {},
     "output_type": "execute_result"
    }
   ],
   "source": [
    "df.duplicated().mean()"
   ]
  },
  {
   "cell_type": "code",
   "execution_count": 11,
   "metadata": {
    "colab": {
     "base_uri": "https://localhost:8080/"
    },
    "executionInfo": {
     "elapsed": 2,
     "status": "ok",
     "timestamp": 1646288893705,
     "user": {
      "displayName": "Vadim Selin",
      "photoUrl": "https://lh3.googleusercontent.com/a-/AOh14GimRG1VQmVxfbiWveTHbWUVfAwPpou3uwYOggho=s64",
      "userId": "13742755250186020674"
     },
     "user_tz": -180
    },
    "id": "J233iOGjH9-m",
    "outputId": "8129cdcc-7256-43ae-f28c-4089afad6e3a"
   },
   "outputs": [
    {
     "data": {
      "text/plain": [
       "0.0"
      ]
     },
     "execution_count": 11,
     "metadata": {},
     "output_type": "execute_result"
    }
   ],
   "source": [
    "src.duplicated().mean()"
   ]
  },
  {
   "cell_type": "markdown",
   "metadata": {
    "id": "9etK2MpaH9-n"
   },
   "source": [
    "- Полных дублей нет. Какие хорошие данные мне предоставили!"
   ]
  },
  {
   "cell_type": "markdown",
   "metadata": {
    "id": "lnZ3cTReH9-n"
   },
   "source": [
    "### Типы данных."
   ]
  },
  {
   "cell_type": "code",
   "execution_count": 12,
   "metadata": {
    "colab": {
     "base_uri": "https://localhost:8080/"
    },
    "executionInfo": {
     "elapsed": 2,
     "status": "ok",
     "timestamp": 1646288896753,
     "user": {
      "displayName": "Vadim Selin",
      "photoUrl": "https://lh3.googleusercontent.com/a-/AOh14GimRG1VQmVxfbiWveTHbWUVfAwPpou3uwYOggho=s64",
      "userId": "13742755250186020674"
     },
     "user_tz": -180
    },
    "id": "jbWshhM6H9-n",
    "outputId": "14840fc6-d8d5-4a3b-9c51-5a9bc19db7ad"
   },
   "outputs": [
    {
     "name": "stdout",
     "output_type": "stream",
     "text": [
      "<class 'pandas.core.frame.DataFrame'>\n",
      "RangeIndex: 74197 entries, 0 to 74196\n",
      "Data columns (total 3 columns):\n",
      "event_time    74197 non-null object\n",
      "event_name    74197 non-null object\n",
      "user_id       74197 non-null object\n",
      "dtypes: object(3)\n",
      "memory usage: 1.7+ MB\n"
     ]
    }
   ],
   "source": [
    "df.info()"
   ]
  },
  {
   "cell_type": "code",
   "execution_count": 13,
   "metadata": {
    "colab": {
     "base_uri": "https://localhost:8080/"
    },
    "executionInfo": {
     "elapsed": 274,
     "status": "ok",
     "timestamp": 1646288899072,
     "user": {
      "displayName": "Vadim Selin",
      "photoUrl": "https://lh3.googleusercontent.com/a-/AOh14GimRG1VQmVxfbiWveTHbWUVfAwPpou3uwYOggho=s64",
      "userId": "13742755250186020674"
     },
     "user_tz": -180
    },
    "id": "NG9a8ujUH9-n",
    "outputId": "1b252444-f476-4b39-a2c6-83902ece597d"
   },
   "outputs": [
    {
     "name": "stdout",
     "output_type": "stream",
     "text": [
      "<class 'pandas.core.frame.DataFrame'>\n",
      "RangeIndex: 4293 entries, 0 to 4292\n",
      "Data columns (total 2 columns):\n",
      "user_id    4293 non-null object\n",
      "source     4293 non-null object\n",
      "dtypes: object(2)\n",
      "memory usage: 67.2+ KB\n"
     ]
    }
   ],
   "source": [
    "src.info()"
   ]
  },
  {
   "cell_type": "markdown",
   "metadata": {
    "id": "dwzRSubTH9-n"
   },
   "source": [
    "- Из вывода `info()` следует, что дата скрывается в строковом типе данных `object`. Поменяю на `datetime`."
   ]
  },
  {
   "cell_type": "code",
   "execution_count": 16,
   "metadata": {
    "executionInfo": {
     "elapsed": 287,
     "status": "ok",
     "timestamp": 1646288900942,
     "user": {
      "displayName": "Vadim Selin",
      "photoUrl": "https://lh3.googleusercontent.com/a-/AOh14GimRG1VQmVxfbiWveTHbWUVfAwPpou3uwYOggho=s64",
      "userId": "13742755250186020674"
     },
     "user_tz": -180
    },
    "id": "rfMovpwJH9-n"
   },
   "outputs": [],
   "source": [
    "df['event_time'] = pd.to_datetime(df['event_time'], format=\"%Y-%m-%d %H:%M:%S.%f\")"
   ]
  },
  {
   "cell_type": "code",
   "execution_count": 17,
   "metadata": {
    "colab": {
     "base_uri": "https://localhost:8080/"
    },
    "executionInfo": {
     "elapsed": 1,
     "status": "ok",
     "timestamp": 1646288902039,
     "user": {
      "displayName": "Vadim Selin",
      "photoUrl": "https://lh3.googleusercontent.com/a-/AOh14GimRG1VQmVxfbiWveTHbWUVfAwPpou3uwYOggho=s64",
      "userId": "13742755250186020674"
     },
     "user_tz": -180
    },
    "id": "SlqDgV7UH9-o",
    "outputId": "fa8a77ca-383b-4eda-ecab-8ca9b1b65e45"
   },
   "outputs": [
    {
     "data": {
      "text/plain": [
       "23099   2019-10-16 15:57:14.717500\n",
       "29988   2019-10-19 09:44:20.299958\n",
       "15638   2019-10-13 22:54:29.234076\n",
       "Name: event_time, dtype: datetime64[ns]"
      ]
     },
     "execution_count": 17,
     "metadata": {},
     "output_type": "execute_result"
    }
   ],
   "source": [
    "df['event_time'].sample(3, random_state=0)"
   ]
  },
  {
   "cell_type": "markdown",
   "metadata": {
    "id": "mfsTWEJdH9-o"
   },
   "source": [
    "- Дата теперь в соответствующем формате."
   ]
  },
  {
   "cell_type": "markdown",
   "metadata": {
    "id": "3UzU9naAH9-o"
   },
   "source": [
    "### Объединение однотипных событий: contacts_show и show_contacts, search1-search7.\n",
    "- Группирую однотипные события по поисковым действиям: в рамках задачи разница между ними не важна."
   ]
  },
  {
   "cell_type": "code",
   "execution_count": 18,
   "metadata": {
    "colab": {
     "base_uri": "https://localhost:8080/"
    },
    "executionInfo": {
     "elapsed": 257,
     "status": "ok",
     "timestamp": 1646288904414,
     "user": {
      "displayName": "Vadim Selin",
      "photoUrl": "https://lh3.googleusercontent.com/a-/AOh14GimRG1VQmVxfbiWveTHbWUVfAwPpou3uwYOggho=s64",
      "userId": "13742755250186020674"
     },
     "user_tz": -180
    },
    "id": "c5HizygoH9-o",
    "outputId": "6b8c062f-8340-4e19-b9b1-e50d5e7a2986"
   },
   "outputs": [
    {
     "data": {
      "text/plain": [
       "tips_show        40055\n",
       "photos_show      10012\n",
       "advert_open       6164\n",
       "contacts_show     4450\n",
       "map               3881\n",
       "search_1          3506\n",
       "favorites_add     1417\n",
       "search_5          1049\n",
       "tips_click         814\n",
       "search_4           701\n",
       "contacts_call      541\n",
       "search_3           522\n",
       "search_6           460\n",
       "search_2           324\n",
       "search_7           222\n",
       "show_contacts       79\n",
       "Name: event_name, dtype: int64"
      ]
     },
     "execution_count": 18,
     "metadata": {},
     "output_type": "execute_result"
    }
   ],
   "source": [
    "df['event_name'].value_counts()"
   ]
  },
  {
   "cell_type": "code",
   "execution_count": 19,
   "metadata": {
    "executionInfo": {
     "elapsed": 1,
     "status": "ok",
     "timestamp": 1646288905392,
     "user": {
      "displayName": "Vadim Selin",
      "photoUrl": "https://lh3.googleusercontent.com/a-/AOh14GimRG1VQmVxfbiWveTHbWUVfAwPpou3uwYOggho=s64",
      "userId": "13742755250186020674"
     },
     "user_tz": -180
    },
    "id": "lsMLRCx7H9-o"
   },
   "outputs": [],
   "source": [
    "df.replace(\n",
    "    {\n",
    "        'event_name': {\n",
    "            'show_contacts': 'contacts_show', \n",
    "            'search_1': 'search_action',\n",
    "            'search_2': 'search_action',\n",
    "            'search_3': 'search_action',\n",
    "            'search_4': 'search_action',\n",
    "            'search_5': 'search_action',\n",
    "            'search_6': 'search_action',\n",
    "            'search_7': 'search_action',\n",
    "        }\n",
    "    }, inplace=True\n",
    ")"
   ]
  },
  {
   "cell_type": "code",
   "execution_count": 20,
   "metadata": {
    "colab": {
     "base_uri": "https://localhost:8080/"
    },
    "executionInfo": {
     "elapsed": 2,
     "status": "ok",
     "timestamp": 1646288906472,
     "user": {
      "displayName": "Vadim Selin",
      "photoUrl": "https://lh3.googleusercontent.com/a-/AOh14GimRG1VQmVxfbiWveTHbWUVfAwPpou3uwYOggho=s64",
      "userId": "13742755250186020674"
     },
     "user_tz": -180
    },
    "id": "-HaMbMyNH9-p",
    "outputId": "8598ddfd-6ba0-40f7-8d2d-aafc6f4e1707"
   },
   "outputs": [
    {
     "data": {
      "text/plain": [
       "tips_show        40055\n",
       "photos_show      10012\n",
       "search_action     6784\n",
       "advert_open       6164\n",
       "contacts_show     4529\n",
       "map               3881\n",
       "favorites_add     1417\n",
       "tips_click         814\n",
       "contacts_call      541\n",
       "Name: event_name, dtype: int64"
      ]
     },
     "execution_count": 20,
     "metadata": {},
     "output_type": "execute_result"
    }
   ],
   "source": [
    "df['event_name'].value_counts()"
   ]
  },
  {
   "cell_type": "markdown",
   "metadata": {
    "id": "mt3mWWsIH9-p"
   },
   "source": [
    "## Исследовательский анализ данных."
   ]
  },
  {
   "cell_type": "markdown",
   "metadata": {
    "id": "15ol8LHIH9-p"
   },
   "source": [
    "### Определение временного диапазона датасета."
   ]
  },
  {
   "cell_type": "code",
   "execution_count": 21,
   "metadata": {
    "colab": {
     "base_uri": "https://localhost:8080/"
    },
    "executionInfo": {
     "elapsed": 286,
     "status": "ok",
     "timestamp": 1646288911492,
     "user": {
      "displayName": "Vadim Selin",
      "photoUrl": "https://lh3.googleusercontent.com/a-/AOh14GimRG1VQmVxfbiWveTHbWUVfAwPpou3uwYOggho=s64",
      "userId": "13742755250186020674"
     },
     "user_tz": -180
    },
    "id": "QJVWPgBmH9-q",
    "outputId": "43e250be-d8ba-4dce-8791-ccf328dc3704"
   },
   "outputs": [
    {
     "data": {
      "text/plain": [
       "Timestamp('2019-10-07 00:00:00.431357')"
      ]
     },
     "execution_count": 21,
     "metadata": {},
     "output_type": "execute_result"
    }
   ],
   "source": [
    "df['event_time'].min()"
   ]
  },
  {
   "cell_type": "code",
   "execution_count": 22,
   "metadata": {
    "colab": {
     "base_uri": "https://localhost:8080/"
    },
    "executionInfo": {
     "elapsed": 2,
     "status": "ok",
     "timestamp": 1646288912343,
     "user": {
      "displayName": "Vadim Selin",
      "photoUrl": "https://lh3.googleusercontent.com/a-/AOh14GimRG1VQmVxfbiWveTHbWUVfAwPpou3uwYOggho=s64",
      "userId": "13742755250186020674"
     },
     "user_tz": -180
    },
    "id": "OS5u1VvlH9-q",
    "outputId": "78e2596e-3780-4347-a26a-d56a6eaf7225"
   },
   "outputs": [
    {
     "data": {
      "text/plain": [
       "Timestamp('2019-11-03 23:58:12.532487')"
      ]
     },
     "execution_count": 22,
     "metadata": {},
     "output_type": "execute_result"
    }
   ],
   "source": [
    "df['event_time'].max()"
   ]
  },
  {
   "cell_type": "markdown",
   "metadata": {
    "id": "mH2Iy0hGH9-q"
   },
   "source": [
    "- Данные охватывают период чуть менее месяца (с 7 октября по 3 ноября включительно, 28 дней), поэтому имеет смысл добавить столбец с днём. "
   ]
  },
  {
   "cell_type": "markdown",
   "metadata": {
    "id": "d66s7ZmGH9-q"
   },
   "source": [
    "### Добавить поле с датой (размерность - день)."
   ]
  },
  {
   "cell_type": "markdown",
   "metadata": {
    "id": "1R9EnbTPH9-q"
   },
   "source": [
    "- Также для дальнейшего расчёта `WAU` добавлю столбец с неделей"
   ]
  },
  {
   "cell_type": "code",
   "execution_count": 23,
   "metadata": {
    "executionInfo": {
     "elapsed": 284,
     "status": "ok",
     "timestamp": 1646288915124,
     "user": {
      "displayName": "Vadim Selin",
      "photoUrl": "https://lh3.googleusercontent.com/a-/AOh14GimRG1VQmVxfbiWveTHbWUVfAwPpou3uwYOggho=s64",
      "userId": "13742755250186020674"
     },
     "user_tz": -180
    },
    "id": "ZRIIM0lJH9-r"
   },
   "outputs": [],
   "source": [
    "df['event_date'] = df['event_time'].astype('datetime64[D]')"
   ]
  },
  {
   "cell_type": "code",
   "execution_count": 24,
   "metadata": {
    "colab": {
     "base_uri": "https://localhost:8080/"
    },
    "executionInfo": {
     "elapsed": 2,
     "status": "ok",
     "timestamp": 1646288916197,
     "user": {
      "displayName": "Vadim Selin",
      "photoUrl": "https://lh3.googleusercontent.com/a-/AOh14GimRG1VQmVxfbiWveTHbWUVfAwPpou3uwYOggho=s64",
      "userId": "13742755250186020674"
     },
     "user_tz": -180
    },
    "id": "19aOVRzVH9-r",
    "outputId": "5b290c8e-2405-4cfe-e07d-3010e9ec4821"
   },
   "outputs": [],
   "source": [
    "df['event_week'] = df['event_time'].dt.week"
   ]
  },
  {
   "cell_type": "code",
   "execution_count": 25,
   "metadata": {
    "colab": {
     "base_uri": "https://localhost:8080/"
    },
    "executionInfo": {
     "elapsed": 1,
     "status": "ok",
     "timestamp": 1646288917299,
     "user": {
      "displayName": "Vadim Selin",
      "photoUrl": "https://lh3.googleusercontent.com/a-/AOh14GimRG1VQmVxfbiWveTHbWUVfAwPpou3uwYOggho=s64",
      "userId": "13742755250186020674"
     },
     "user_tz": -180
    },
    "id": "s1yTx0y-H9-r",
    "outputId": "8e5c4dca-2563-4ad4-be47-0454b8d4bf86"
   },
   "outputs": [
    {
     "data": {
      "text/plain": [
       "43    20636\n",
       "44    19416\n",
       "42    18323\n",
       "41    15822\n",
       "Name: event_week, dtype: int64"
      ]
     },
     "execution_count": 25,
     "metadata": {},
     "output_type": "execute_result"
    }
   ],
   "source": [
    "df['event_week'].value_counts()"
   ]
  },
  {
   "cell_type": "markdown",
   "metadata": {
    "id": "GfZ05NnAH9-r"
   },
   "source": [
    "- C каждой следующей неделей в логе событий всё больше: маркетинг работает, активность пользователей растёт.\n",
    "- Проверю, верно-ли прошло разделение по неделям: возьму точный срез по первой неделе и сравню число событий с значением числа строк в `df['event_week'].value_counts()`."
   ]
  },
  {
   "cell_type": "code",
   "execution_count": 26,
   "metadata": {
    "colab": {
     "base_uri": "https://localhost:8080/"
    },
    "executionInfo": {
     "elapsed": 280,
     "status": "ok",
     "timestamp": 1646288919578,
     "user": {
      "displayName": "Vadim Selin",
      "photoUrl": "https://lh3.googleusercontent.com/a-/AOh14GimRG1VQmVxfbiWveTHbWUVfAwPpou3uwYOggho=s64",
      "userId": "13742755250186020674"
     },
     "user_tz": -180
    },
    "id": "Lb52NdR0H9-r",
    "outputId": "a31addb8-26c4-41fc-c54b-3aa58e79ff07"
   },
   "outputs": [
    {
     "data": {
      "text/plain": [
       "15822"
      ]
     },
     "execution_count": 26,
     "metadata": {},
     "output_type": "execute_result"
    }
   ],
   "source": [
    "(\n",
    "    df.query(\n",
    "        'event_time >= \"2019-10-07 00:00:00.431357\" & \\\n",
    "         event_time < \"2019-10-14 00:00:00.000000\"'\n",
    "    ).shape[0]\n",
    ")"
   ]
  },
  {
   "cell_type": "markdown",
   "metadata": {
    "id": "wM5kYGtWH9-r"
   },
   "source": [
    "- Данные по неделям поделились правильно."
   ]
  },
  {
   "cell_type": "markdown",
   "metadata": {
    "id": "aGxWTJCDH9-s"
   },
   "source": [
    "### Проверить полноту данных: распределение количества событий по дням."
   ]
  },
  {
   "cell_type": "markdown",
   "metadata": {
    "id": "v_JzIUIBH9-s"
   },
   "source": [
    "- Сделаю это, построив гистограмму по столбцу `event_day` с параметром `bins` равный числу дней 28 в исследуемом датасете.\n",
    "- Это позволит наглядно увидеть относительный объём событий за каждый день."
   ]
  },
  {
   "cell_type": "code",
   "execution_count": 29,
   "metadata": {
    "colab": {
     "base_uri": "https://localhost:8080/",
     "height": 350
    },
    "executionInfo": {
     "elapsed": 736,
     "status": "ok",
     "timestamp": 1646288924601,
     "user": {
      "displayName": "Vadim Selin",
      "photoUrl": "https://lh3.googleusercontent.com/a-/AOh14GimRG1VQmVxfbiWveTHbWUVfAwPpou3uwYOggho=s64",
      "userId": "13742755250186020674"
     },
     "user_tz": -180
    },
    "id": "aylzwRnoH9-s",
    "outputId": "b02e3c57-c7f4-4032-e38f-261559e07ea6"
   },
   "outputs": [
    {
     "data": {
      "image/png": "[encoded data removed]",
      "text/plain": [
       "<Figure size 1152x360 with 1 Axes>"
      ]
     },
     "metadata": {
      "needs_background": "light"
     },
     "output_type": "display_data"
    }
   ],
   "source": [
    "%%capture --no-display\n",
    "df['event_date'].hist(figsize=(16, 5), bins=28)\n",
    "plt.title('Распределение событий лога по дням')\n",
    "plt.ylabel('Количество событий')\n",
    "plt.xlabel('Дата')\n",
    "plt.show()"
   ]
  },
  {
   "cell_type": "markdown",
   "metadata": {
    "id": "kXkVB2OsH9-s"
   },
   "source": [
    "- \"Пустых на события\" дней нет. Данные получены без заметных потерь.\n",
    "- Увеличу масштаб отображения за счёт параметар `bins`: один bin = 3 часам  \n",
    "- Заметна тенденция роста числа событий, которая также была заметна на группировке по неделям.\n",
    "    - Посмотрю как число событий перекликается с продуктовыми метриками `dau` и `wau`"
   ]
  },
  {
   "cell_type": "code",
   "execution_count": 30,
   "metadata": {
    "colab": {
     "base_uri": "https://localhost:8080/",
     "height": 350
    },
    "executionInfo": {
     "elapsed": 1518,
     "status": "ok",
     "timestamp": 1646288927496,
     "user": {
      "displayName": "Vadim Selin",
      "photoUrl": "https://lh3.googleusercontent.com/a-/AOh14GimRG1VQmVxfbiWveTHbWUVfAwPpou3uwYOggho=s64",
      "userId": "13742755250186020674"
     },
     "user_tz": -180
    },
    "id": "CLFrYkcgRseJ",
    "outputId": "8a7eda4c-d074-4301-82a0-9b4f4088d850"
   },
   "outputs": [
    {
     "data": {
      "image/png": "[encoded data removed]",
      "text/plain": [
       "<Figure size 1152x360 with 1 Axes>"
      ]
     },
     "metadata": {
      "needs_background": "light"
     },
     "output_type": "display_data"
    }
   ],
   "source": [
    "df['event_time'].hist(figsize=(16, 5), bins=224)\n",
    "plt.title('Распределение событий лога по времени')\n",
    "plt.ylabel('Количество событий')\n",
    "plt.xlabel('Дата')\n",
    "plt.show()"
   ]
  },
  {
   "cell_type": "markdown",
   "metadata": {
    "id": "5JitS_F4H9-s"
   },
   "source": [
    "## Изучение продуктовых метрик"
   ]
  },
  {
   "cell_type": "markdown",
   "metadata": {
    "id": "97Y0_F31H9-t"
   },
   "source": [
    "### Рассчёт `DAU`, `WAU`. Вычисление среднего значения этих метрик за весь период. График изменения метрик во времени."
   ]
  },
  {
   "cell_type": "markdown",
   "metadata": {
    "id": "H8vW32vuH9-t"
   },
   "source": [
    "- Рассчитаю `dau` и средний `dau_total`."
   ]
  },
  {
   "cell_type": "code",
   "execution_count": 31,
   "metadata": {
    "executionInfo": {
     "elapsed": 266,
     "status": "ok",
     "timestamp": 1646288942507,
     "user": {
      "displayName": "Vadim Selin",
      "photoUrl": "https://lh3.googleusercontent.com/a-/AOh14GimRG1VQmVxfbiWveTHbWUVfAwPpou3uwYOggho=s64",
      "userId": "13742755250186020674"
     },
     "user_tz": -180
    },
    "id": "VWRJ5YDFH9-t"
   },
   "outputs": [],
   "source": [
    "dau = df.groupby('event_date', as_index=False).agg({'user_id': 'nunique'})"
   ]
  },
  {
   "cell_type": "code",
   "execution_count": null,
   "metadata": {
    "executionInfo": {
     "elapsed": 1,
     "status": "ok",
     "timestamp": 1646288943709,
     "user": {
      "displayName": "Vadim Selin",
      "photoUrl": "https://lh3.googleusercontent.com/a-/AOh14GimRG1VQmVxfbiWveTHbWUVfAwPpou3uwYOggho=s64",
      "userId": "13742755250186020674"
     },
     "user_tz": -180
    },
    "id": "h2vFqqztH9-t"
   },
   "outputs": [],
   "source": [
    "dau.rename(columns={'user_id': 'unique_day_users'}, inplace=True)"
   ]
  },
  {
   "cell_type": "code",
   "execution_count": null,
   "metadata": {
    "colab": {
     "base_uri": "https://localhost:8080/",
     "height": 206
    },
    "executionInfo": {
     "elapsed": 2,
     "status": "ok",
     "timestamp": 1646288944905,
     "user": {
      "displayName": "Vadim Selin",
      "photoUrl": "https://lh3.googleusercontent.com/a-/AOh14GimRG1VQmVxfbiWveTHbWUVfAwPpou3uwYOggho=s64",
      "userId": "13742755250186020674"
     },
     "user_tz": -180
    },
    "id": "0_qfdaGDH9-t",
    "outputId": "d4f76bb6-50b7-4eee-9b65-d1f9b61d0888"
   },
   "outputs": [],
   "source": [
    "dau.head()"
   ]
  },
  {
   "cell_type": "markdown",
   "metadata": {
    "id": "LYNgjSh_NhNK"
   },
   "source": [
    "- Рассчитаю средний `dau` за весь период."
   ]
  },
  {
   "cell_type": "code",
   "execution_count": null,
   "metadata": {
    "executionInfo": {
     "elapsed": 274,
     "status": "ok",
     "timestamp": 1646289119260,
     "user": {
      "displayName": "Vadim Selin",
      "photoUrl": "https://lh3.googleusercontent.com/a-/AOh14GimRG1VQmVxfbiWveTHbWUVfAwPpou3uwYOggho=s64",
      "userId": "13742755250186020674"
     },
     "user_tz": -180
    },
    "id": "VLoCGMWVH9-t"
   },
   "outputs": [],
   "source": [
    "dau_total = dau['unique_day_users'].mean()"
   ]
  },
  {
   "cell_type": "code",
   "execution_count": null,
   "metadata": {
    "colab": {
     "base_uri": "https://localhost:8080/"
    },
    "executionInfo": {
     "elapsed": 918,
     "status": "ok",
     "timestamp": 1646289122035,
     "user": {
      "displayName": "Vadim Selin",
      "photoUrl": "https://lh3.googleusercontent.com/a-/AOh14GimRG1VQmVxfbiWveTHbWUVfAwPpou3uwYOggho=s64",
      "userId": "13742755250186020674"
     },
     "user_tz": -180
    },
    "id": "Rh9tVU1MH9-t",
    "outputId": "59dc103a-863b-4dcf-bddc-463feea2c1cb"
   },
   "outputs": [],
   "source": [
    "round(dau_total, 2)"
   ]
  },
  {
   "cell_type": "markdown",
   "metadata": {
    "id": "Heq3ZuG6H9-u"
   },
   "source": [
    "- Среднее число уникальных пользователей в приложении 279.\n",
    "- Число событий в неделе и на графике распределения росло от начала записи лога.\n",
    "- Вероятно, это связано с ростом числа уникальных пользователей.\n",
    "- Проверю это на ежедневном графике изменения `dau`."
   ]
  },
  {
   "cell_type": "code",
   "execution_count": null,
   "metadata": {
    "colab": {
     "base_uri": "https://localhost:8080/",
     "height": 426
    },
    "executionInfo": {
     "elapsed": 4,
     "status": "ok",
     "timestamp": 1646289124700,
     "user": {
      "displayName": "Vadim Selin",
      "photoUrl": "https://lh3.googleusercontent.com/a-/AOh14GimRG1VQmVxfbiWveTHbWUVfAwPpou3uwYOggho=s64",
      "userId": "13742755250186020674"
     },
     "user_tz": -180
    },
    "id": "te0hVhscH9-u",
    "outputId": "84c06a80-f040-4435-fba7-231ae176ac7d"
   },
   "outputs": [],
   "source": [
    "dau.plot(x='event_date',figsize=(14,6), ylim=0, grid=True)\n",
    "plt.title('Число уникальных пользователей в день')\n",
    "plt.ylabel('Количество пользователей')\n",
    "plt.xlabel('Дата')\n",
    "plt.show()"
   ]
  },
  {
   "cell_type": "markdown",
   "metadata": {
    "id": "vseIa8qJH9-u"
   },
   "source": [
    "- Так и есть: ежедневное число уникальных пользователей колеблется, но проявляет тенденцию к росту.\n",
    "- Есть небольшой спад к концу лога, который, очевидно, отразится на недельном графике.\n",
    "- Рассчитаю и построю график `wau`."
   ]
  },
  {
   "cell_type": "code",
   "execution_count": null,
   "metadata": {
    "executionInfo": {
     "elapsed": 1,
     "status": "ok",
     "timestamp": 1646289128797,
     "user": {
      "displayName": "Vadim Selin",
      "photoUrl": "https://lh3.googleusercontent.com/a-/AOh14GimRG1VQmVxfbiWveTHbWUVfAwPpou3uwYOggho=s64",
      "userId": "13742755250186020674"
     },
     "user_tz": -180
    },
    "id": "PvFWIAkbH9-u"
   },
   "outputs": [],
   "source": [
    "wau = df.groupby('event_week', as_index=False).agg({'user_id': 'nunique'})"
   ]
  },
  {
   "cell_type": "code",
   "execution_count": null,
   "metadata": {
    "executionInfo": {
     "elapsed": 2,
     "status": "ok",
     "timestamp": 1646289131231,
     "user": {
      "displayName": "Vadim Selin",
      "photoUrl": "https://lh3.googleusercontent.com/a-/AOh14GimRG1VQmVxfbiWveTHbWUVfAwPpou3uwYOggho=s64",
      "userId": "13742755250186020674"
     },
     "user_tz": -180
    },
    "id": "4BSltJ6DH9-u"
   },
   "outputs": [],
   "source": [
    "wau.rename(columns={'user_id': 'unique_week_users'}, inplace=True)"
   ]
  },
  {
   "cell_type": "code",
   "execution_count": null,
   "metadata": {
    "colab": {
     "base_uri": "https://localhost:8080/",
     "height": 174
    },
    "executionInfo": {
     "elapsed": 2,
     "status": "ok",
     "timestamp": 1646289133063,
     "user": {
      "displayName": "Vadim Selin",
      "photoUrl": "https://lh3.googleusercontent.com/a-/AOh14GimRG1VQmVxfbiWveTHbWUVfAwPpou3uwYOggho=s64",
      "userId": "13742755250186020674"
     },
     "user_tz": -180
    },
    "id": "b4QOyWS-H9-u",
    "outputId": "b344ed3c-b8a2-4e29-d2f2-a6bc7829eead"
   },
   "outputs": [],
   "source": [
    "wau"
   ]
  },
  {
   "cell_type": "code",
   "execution_count": null,
   "metadata": {
    "executionInfo": {
     "elapsed": 1,
     "status": "ok",
     "timestamp": 1646289134859,
     "user": {
      "displayName": "Vadim Selin",
      "photoUrl": "https://lh3.googleusercontent.com/a-/AOh14GimRG1VQmVxfbiWveTHbWUVfAwPpou3uwYOggho=s64",
      "userId": "13742755250186020674"
     },
     "user_tz": -180
    },
    "id": "amBHdVm6H9-u"
   },
   "outputs": [],
   "source": [
    "wau_total = wau['unique_week_users'].mean()"
   ]
  },
  {
   "cell_type": "markdown",
   "metadata": {
    "id": "Je5KPaamN86Z"
   },
   "source": [
    "- Рассчитаю средний `wau` за весь период."
   ]
  },
  {
   "cell_type": "code",
   "execution_count": null,
   "metadata": {
    "colab": {
     "base_uri": "https://localhost:8080/"
    },
    "executionInfo": {
     "elapsed": 265,
     "status": "ok",
     "timestamp": 1646289137906,
     "user": {
      "displayName": "Vadim Selin",
      "photoUrl": "https://lh3.googleusercontent.com/a-/AOh14GimRG1VQmVxfbiWveTHbWUVfAwPpou3uwYOggho=s64",
      "userId": "13742755250186020674"
     },
     "user_tz": -180
    },
    "id": "tDRv12rMH9-v",
    "outputId": "04eb7a7a-47b3-461c-fbee-102d8eb6cdaf"
   },
   "outputs": [],
   "source": [
    "wau_total"
   ]
  },
  {
   "cell_type": "code",
   "execution_count": null,
   "metadata": {
    "colab": {
     "base_uri": "https://localhost:8080/",
     "height": 404
    },
    "executionInfo": {
     "elapsed": 463,
     "status": "ok",
     "timestamp": 1646289139484,
     "user": {
      "displayName": "Vadim Selin",
      "photoUrl": "https://lh3.googleusercontent.com/a-/AOh14GimRG1VQmVxfbiWveTHbWUVfAwPpou3uwYOggho=s64",
      "userId": "13742755250186020674"
     },
     "user_tz": -180
    },
    "id": "660A7EiHH9-v",
    "outputId": "4458442b-7440-4a1a-9b35-f919835c973e"
   },
   "outputs": [],
   "source": [
    "wau.plot(x='event_week',figsize=(14,6), ylim=0, xlim=(41, 44), grid=True)\n",
    "plt.title('Число уникальных пользователей в неделю')\n",
    "plt.ylabel('Количество пользователей')\n",
    "plt.xlabel('неделя года')\n",
    "plt.show()"
   ]
  },
  {
   "cell_type": "markdown",
   "metadata": {
    "id": "HXMpfC6MH9-v"
   },
   "source": [
    "- Среднее число уникальных пользователей в неделю составляет `1385,5`.\n",
    "- Со второй недели число уникальных пользователей превышает `1400`.\n",
    "- Но после 3-й недели фиксирую спад.\n",
    "- Скорее всего, это связано с показателем оттока `Retention rate`, рассчитаю его далее."
   ]
  },
  {
   "cell_type": "markdown",
   "metadata": {
    "id": "-LpuODfKH9-3"
   },
   "source": [
    "### Рассчитать `Retention Rate`, применяя когортный анализ. Вывести изменение метрики во времени на графике (heatmap)."
   ]
  },
  {
   "cell_type": "markdown",
   "metadata": {
    "id": "NuSnsrPfPLXz"
   },
   "source": [
    "- Исследуемый период составляет 4 недели, поэтому когорты целесообразно барть понедельно."
   ]
  },
  {
   "cell_type": "code",
   "execution_count": null,
   "metadata": {
    "colab": {
     "base_uri": "https://localhost:8080/",
     "height": 112
    },
    "executionInfo": {
     "elapsed": 286,
     "status": "ok",
     "timestamp": 1646289142993,
     "user": {
      "displayName": "Vadim Selin",
      "photoUrl": "https://lh3.googleusercontent.com/a-/AOh14GimRG1VQmVxfbiWveTHbWUVfAwPpou3uwYOggho=s64",
      "userId": "13742755250186020674"
     },
     "user_tz": -180
    },
    "id": "MfvTI6EbPLXz",
    "outputId": "87af83bb-886f-4805-87a6-c2e6366bd66d"
   },
   "outputs": [],
   "source": [
    "df.head(2)"
   ]
  },
  {
   "cell_type": "markdown",
   "metadata": {
    "id": "zHNsoQGfPLXz"
   },
   "source": [
    "- Получу дату первого визита для каждого пользователя"
   ]
  },
  {
   "cell_type": "code",
   "execution_count": null,
   "metadata": {
    "executionInfo": {
     "elapsed": 282,
     "status": "ok",
     "timestamp": 1646289145302,
     "user": {
      "displayName": "Vadim Selin",
      "photoUrl": "https://lh3.googleusercontent.com/a-/AOh14GimRG1VQmVxfbiWveTHbWUVfAwPpou3uwYOggho=s64",
      "userId": "13742755250186020674"
     },
     "user_tz": -180
    },
    "id": "x-UdQs9_PLXz"
   },
   "outputs": [],
   "source": [
    "first_active_day = df.groupby('user_id')['event_date'].min()"
   ]
  },
  {
   "cell_type": "code",
   "execution_count": null,
   "metadata": {
    "executionInfo": {
     "elapsed": 307,
     "status": "ok",
     "timestamp": 1646289158427,
     "user": {
      "displayName": "Vadim Selin",
      "photoUrl": "https://lh3.googleusercontent.com/a-/AOh14GimRG1VQmVxfbiWveTHbWUVfAwPpou3uwYOggho=s64",
      "userId": "13742755250186020674"
     },
     "user_tz": -180
    },
    "id": "kAoHBF3PPLXz"
   },
   "outputs": [],
   "source": [
    "first_active_day.name = 'first_start_date'"
   ]
  },
  {
   "cell_type": "code",
   "execution_count": null,
   "metadata": {
    "executionInfo": {
     "elapsed": 2,
     "status": "ok",
     "timestamp": 1646289165669,
     "user": {
      "displayName": "Vadim Selin",
      "photoUrl": "https://lh3.googleusercontent.com/a-/AOh14GimRG1VQmVxfbiWveTHbWUVfAwPpou3uwYOggho=s64",
      "userId": "13742755250186020674"
     },
     "user_tz": -180
    },
    "id": "AcjyStQgPLXz"
   },
   "outputs": [],
   "source": [
    "df = df.join(first_active_day, on='user_id')"
   ]
  },
  {
   "cell_type": "code",
   "execution_count": null,
   "metadata": {
    "colab": {
     "base_uri": "https://localhost:8080/"
    },
    "executionInfo": {
     "elapsed": 339,
     "status": "ok",
     "timestamp": 1646289167198,
     "user": {
      "displayName": "Vadim Selin",
      "photoUrl": "https://lh3.googleusercontent.com/a-/AOh14GimRG1VQmVxfbiWveTHbWUVfAwPpou3uwYOggho=s64",
      "userId": "13742755250186020674"
     },
     "user_tz": -180
    },
    "id": "7hfGZQVbPLX0",
    "outputId": "6e4f94a4-baad-4528-9af3-57a8735a6c92"
   },
   "outputs": [],
   "source": [
    "df['first_start_week'] = df['first_start_date'].dt.week"
   ]
  },
  {
   "cell_type": "markdown",
   "metadata": {
    "id": "orf1R-dFPLX0"
   },
   "source": [
    "- Получу `lifetime` недельных когорт."
   ]
  },
  {
   "cell_type": "code",
   "execution_count": null,
   "metadata": {
    "executionInfo": {
     "elapsed": 301,
     "status": "ok",
     "timestamp": 1646289169834,
     "user": {
      "displayName": "Vadim Selin",
      "photoUrl": "https://lh3.googleusercontent.com/a-/AOh14GimRG1VQmVxfbiWveTHbWUVfAwPpou3uwYOggho=s64",
      "userId": "13742755250186020674"
     },
     "user_tz": -180
    },
    "id": "B-MISiLHPLX0"
   },
   "outputs": [],
   "source": [
    "df['cohort_lifetime'] = df['event_week'] - df['first_start_week']"
   ]
  },
  {
   "cell_type": "markdown",
   "metadata": {
    "id": "xyZV5_PuPLX0"
   },
   "source": [
    "- Сгруппирую данные по неделе первой сессии и `cohort_lifetime`, чтобы получить количество уникальных пользователей недельных когорт на старте и в последующие отрезки `cohort_lifetime`"
   ]
  },
  {
   "cell_type": "code",
   "execution_count": null,
   "metadata": {
    "executionInfo": {
     "elapsed": 298,
     "status": "ok",
     "timestamp": 1646289175535,
     "user": {
      "displayName": "Vadim Selin",
      "photoUrl": "https://lh3.googleusercontent.com/a-/AOh14GimRG1VQmVxfbiWveTHbWUVfAwPpou3uwYOggho=s64",
      "userId": "13742755250186020674"
     },
     "user_tz": -180
    },
    "id": "h_fRMD2mPLX0"
   },
   "outputs": [],
   "source": [
    "cohorts = (\n",
    "    df.groupby(\n",
    "        ['first_start_week', 'cohort_lifetime'], \n",
    "        as_index=False\n",
    "    ).agg({'user_id': 'nunique'})\n",
    ")"
   ]
  },
  {
   "cell_type": "code",
   "execution_count": null,
   "metadata": {
    "colab": {
     "base_uri": "https://localhost:8080/",
     "height": 363
    },
    "executionInfo": {
     "elapsed": 270,
     "status": "ok",
     "timestamp": 1646289189011,
     "user": {
      "displayName": "Vadim Selin",
      "photoUrl": "https://lh3.googleusercontent.com/a-/AOh14GimRG1VQmVxfbiWveTHbWUVfAwPpou3uwYOggho=s64",
      "userId": "13742755250186020674"
     },
     "user_tz": -180
    },
    "id": "mrrdncY1PLX0",
    "outputId": "221d304b-da4d-4b25-c24c-08e8f3aec788"
   },
   "outputs": [],
   "source": [
    "cohorts"
   ]
  },
  {
   "cell_type": "markdown",
   "metadata": {
    "id": "ZeLCIzItPLX1"
   },
   "source": [
    "- Получу число уникальных пользователей в когорте на момент её формирования и добавлю в таблицу `cohorts`"
   ]
  },
  {
   "cell_type": "code",
   "execution_count": null,
   "metadata": {
    "executionInfo": {
     "elapsed": 276,
     "status": "ok",
     "timestamp": 1646289237761,
     "user": {
      "displayName": "Vadim Selin",
      "photoUrl": "https://lh3.googleusercontent.com/a-/AOh14GimRG1VQmVxfbiWveTHbWUVfAwPpou3uwYOggho=s64",
      "userId": "13742755250186020674"
     },
     "user_tz": -180
    },
    "id": "5i8qeiyoPLX1"
   },
   "outputs": [],
   "source": [
    "initial_users_count = (\n",
    "    cohorts[cohorts['cohort_lifetime'] == 0][['first_start_week','user_id']]\n",
    ")"
   ]
  },
  {
   "cell_type": "code",
   "execution_count": null,
   "metadata": {
    "executionInfo": {
     "elapsed": 274,
     "status": "ok",
     "timestamp": 1646289259721,
     "user": {
      "displayName": "Vadim Selin",
      "photoUrl": "https://lh3.googleusercontent.com/a-/AOh14GimRG1VQmVxfbiWveTHbWUVfAwPpou3uwYOggho=s64",
      "userId": "13742755250186020674"
     },
     "user_tz": -180
    },
    "id": "zcMzu8RnPLX1"
   },
   "outputs": [],
   "source": [
    "initial_users_count = initial_users_count.rename(columns={'user_id':'cohort_users'})"
   ]
  },
  {
   "cell_type": "code",
   "execution_count": null,
   "metadata": {
    "executionInfo": {
     "elapsed": 1,
     "status": "ok",
     "timestamp": 1646289260745,
     "user": {
      "displayName": "Vadim Selin",
      "photoUrl": "https://lh3.googleusercontent.com/a-/AOh14GimRG1VQmVxfbiWveTHbWUVfAwPpou3uwYOggho=s64",
      "userId": "13742755250186020674"
     },
     "user_tz": -180
    },
    "id": "UusFnf1wPLX1"
   },
   "outputs": [],
   "source": [
    "cohorts = cohorts.merge(initial_users_count, on='first_start_week')"
   ]
  },
  {
   "cell_type": "markdown",
   "metadata": {
    "id": "YE-bf1CZPLX1"
   },
   "source": [
    "- Получу отношение числа пользователей по каждому месяцу к их первоначальному количеству в когорте"
   ]
  },
  {
   "cell_type": "code",
   "execution_count": null,
   "metadata": {
    "executionInfo": {
     "elapsed": 312,
     "status": "ok",
     "timestamp": 1646289265698,
     "user": {
      "displayName": "Vadim Selin",
      "photoUrl": "https://lh3.googleusercontent.com/a-/AOh14GimRG1VQmVxfbiWveTHbWUVfAwPpou3uwYOggho=s64",
      "userId": "13742755250186020674"
     },
     "user_tz": -180
    },
    "id": "iAZrRUHuPLX2"
   },
   "outputs": [],
   "source": [
    "cohorts['retention'] = cohorts['user_id'] / cohorts['cohort_users']"
   ]
  },
  {
   "cell_type": "code",
   "execution_count": null,
   "metadata": {
    "colab": {
     "base_uri": "https://localhost:8080/",
     "height": 363
    },
    "executionInfo": {
     "elapsed": 3,
     "status": "ok",
     "timestamp": 1646289267044,
     "user": {
      "displayName": "Vadim Selin",
      "photoUrl": "https://lh3.googleusercontent.com/a-/AOh14GimRG1VQmVxfbiWveTHbWUVfAwPpou3uwYOggho=s64",
      "userId": "13742755250186020674"
     },
     "user_tz": -180
    },
    "id": "0WE6Aw3TPLX2",
    "outputId": "669da367-1f71-43aa-c821-846e801c4652"
   },
   "outputs": [],
   "source": [
    "cohorts"
   ]
  },
  {
   "cell_type": "markdown",
   "metadata": {
    "id": "bxR3iHmtPLX2"
   },
   "source": [
    "- Построю сводную таблицу и тепловую карту `Retention Rate`"
   ]
  },
  {
   "cell_type": "code",
   "execution_count": null,
   "metadata": {
    "executionInfo": {
     "elapsed": 302,
     "status": "ok",
     "timestamp": 1646289312162,
     "user": {
      "displayName": "Vadim Selin",
      "photoUrl": "https://lh3.googleusercontent.com/a-/AOh14GimRG1VQmVxfbiWveTHbWUVfAwPpou3uwYOggho=s64",
      "userId": "13742755250186020674"
     },
     "user_tz": -180
    },
    "id": "8UIOcdGqPLX2"
   },
   "outputs": [],
   "source": [
    "retention_pivot = cohorts.pivot_table(\n",
    "    index='first_start_week',\n",
    "    columns='cohort_lifetime',\n",
    "    values='retention',\n",
    "    aggfunc='sum'\n",
    ")"
   ]
  },
  {
   "cell_type": "code",
   "execution_count": null,
   "metadata": {
    "colab": {
     "base_uri": "https://localhost:8080/",
     "height": 206
    },
    "executionInfo": {
     "elapsed": 3,
     "status": "ok",
     "timestamp": 1646289313422,
     "user": {
      "displayName": "Vadim Selin",
      "photoUrl": "https://lh3.googleusercontent.com/a-/AOh14GimRG1VQmVxfbiWveTHbWUVfAwPpou3uwYOggho=s64",
      "userId": "13742755250186020674"
     },
     "user_tz": -180
    },
    "id": "EtK3lKEbPLX2",
    "outputId": "cd687af4-9659-4473-bda1-86a4f8a6ad6b"
   },
   "outputs": [],
   "source": [
    "retention_pivot.fillna('')"
   ]
  },
  {
   "cell_type": "code",
   "execution_count": null,
   "metadata": {
    "colab": {
     "base_uri": "https://localhost:8080/",
     "height": 404
    },
    "executionInfo": {
     "elapsed": 850,
     "status": "ok",
     "timestamp": 1646297756653,
     "user": {
      "displayName": "Vadim Selin",
      "photoUrl": "https://lh3.googleusercontent.com/a-/AOh14GimRG1VQmVxfbiWveTHbWUVfAwPpou3uwYOggho=s64",
      "userId": "13742755250186020674"
     },
     "user_tz": -180
    },
    "id": "KoQm3oj2PLX2",
    "outputId": "988f93f5-2311-4f3b-9672-7c63c4951055"
   },
   "outputs": [],
   "source": [
    "plt.figure(figsize=(10,6))\n",
    "plt.title('Удержание пользователей в когортах')\n",
    "sns.heatmap(\n",
    "    retention_pivot,\n",
    "    annot=True,\n",
    "    fmt='.2%',\n",
    "    linewidths=0.5,\n",
    "    linecolor='white',\n",
    "    cmap='gist_heat_r'\n",
    ")\n",
    "plt.ylabel('Недельная когорта')\n",
    "plt.show()"
   ]
  },
  {
   "cell_type": "markdown",
   "metadata": {
    "id": "4LZcUWg_f4yb"
   },
   "source": [
    "- Снижение `dau` и `wau` которое я фиксировал на графиках изменения этих величин, вероятно, связано с тем, что третья недельная когорта (43-я неделя) имеет более низкий процент удержания пользователей на второй свой недельный период жизни (`cohort_lifetime = 1`).\n",
    "- А вторая когорта (42-я неделя) имеет меньший процент удержания на свой третий недельный период жизни (`cohort_lifetime = 2`), чем первая (41-я неделя).\n",
    "- То есть каждая следующая когорта в исследуемом периоде к его третьей неделе имеет меньший процент удержания, чем предыдущая. Поэтому число уникальных пользователей в неделю после 3-й начало снижаться\n",
    "  - Это важный момент, за которым следует пристально наблюдать совместно с маркетологами, которые привлекают те или иные категории пользователей.\n",
    "  - Если такая тенденция будет сохраняться на протяжении большего периода времени (два месяца и более), следует пересмотреть выбор аудитории, привлекаемой для размещения объявлений.\n",
    "  - Как вариант, мотивация размещения для продавцов с наиболее актуальными сезонными товарами, которые способны быстро обновлять ассортимент от сезона к сезону. И сопутствующее маркетинговое сопровождение с УТП в духе: \"самые сезонные и актуальные по самым демократичным ценам\"."
   ]
  },
  {
   "cell_type": "markdown",
   "metadata": {
    "id": "flBGTCn_H9-v"
   },
   "source": [
    "### Определение числа событий в день для каждого пользователя, а также среднего, медианы и моды числа событий на одного пользователя."
   ]
  },
  {
   "cell_type": "markdown",
   "metadata": {
    "id": "H7H1gLc9H9-v"
   },
   "source": [
    "- Узнаю, сколько каждый пользователь каждый день совершил событий."
   ]
  },
  {
   "cell_type": "code",
   "execution_count": null,
   "metadata": {},
   "outputs": [],
   "source": [
    "df.columns"
   ]
  },
  {
   "cell_type": "code",
   "execution_count": null,
   "metadata": {
    "id": "fm_gf8jpH9-v"
   },
   "outputs": [],
   "source": [
    "# events_ppd - events per user per day\n",
    "events_ppd = (\n",
    "    df.groupby(\n",
    "        ['event_date', 'user_id'], \n",
    "        as_index=False\n",
    "    ).agg({'event_name': 'count'}))"
   ]
  },
  {
   "cell_type": "code",
   "execution_count": null,
   "metadata": {
    "id": "C4VUE_P-H9-v"
   },
   "outputs": [],
   "source": [
    "events_ppd.rename(columns={'event_name': 'event_cnt'}, inplace=True)"
   ]
  },
  {
   "cell_type": "markdown",
   "metadata": {
    "id": "UB0hLhJHH9-v"
   },
   "source": [
    "- Посмотрю на распределение значений числа событий на пользователя."
   ]
  },
  {
   "cell_type": "code",
   "execution_count": null,
   "metadata": {
    "id": "2vFhYWPNH9-w"
   },
   "outputs": [],
   "source": [
    "events_ppd.hist('event_cnt', bins=50, figsize=(10,5))\n",
    "plt.title('Распределение числа событий на пользователя')\n",
    "plt.show()"
   ]
  },
  {
   "cell_type": "markdown",
   "metadata": {
    "id": "IYMO9U0eH9-y"
   },
   "source": [
    "- Распределение значений числа событий на пользователя в день жирнохвостовое и перекошенное вправо\n",
    "- Посмотрю на него в пределах большинства значений, а также в цифрах `describe` и `mode`."
   ]
  },
  {
   "cell_type": "code",
   "execution_count": null,
   "metadata": {
    "id": "WLVWdGyeH9-y"
   },
   "outputs": [],
   "source": [
    "events_ppd.hist('event_cnt', bins=50, figsize=(10,5))\n",
    "plt.xlim(0, 100)\n",
    "plt.title('Распределение числа событий на пользователя')\n",
    "plt.show()"
   ]
  },
  {
   "cell_type": "code",
   "execution_count": null,
   "metadata": {
    "id": "0Sr2xa8rH9-y"
   },
   "outputs": [],
   "source": [
    "events_ppd.describe()"
   ]
  },
  {
   "cell_type": "code",
   "execution_count": null,
   "metadata": {
    "id": "yHpKpgrHQ2Ca"
   },
   "outputs": [],
   "source": [
    "events_ppd.boxplot('event_cnt')\n",
    "plt.ylim(0, 50)\n",
    "plt.show()"
   ]
  },
  {
   "cell_type": "code",
   "execution_count": null,
   "metadata": {
    "id": "gA9_2IrEH9-y"
   },
   "outputs": [],
   "source": [
    "events_ppd['event_cnt'].mode()"
   ]
  },
  {
   "cell_type": "markdown",
   "metadata": {
    "id": "pLb9VCwWH9-y"
   },
   "source": [
    "- Самое частое значение числа событий `1`, \n",
    "- `75%` выборки лежит в пределах `11`\n",
    "- Всё, что больше `23` (3й квартиль + 1,5 межквартильного размаха) считаем выбросом. Проверю, какова доля этих выбросов в выборке. "
   ]
  },
  {
   "cell_type": "code",
   "execution_count": null,
   "metadata": {
    "id": "dNJ8LIfdTBvf"
   },
   "outputs": [],
   "source": [
    "len(events_ppd[events_ppd['event_cnt'] > 23])/len(events_ppd)"
   ]
  },
  {
   "cell_type": "markdown",
   "metadata": {
    "id": "UJ1tF3SqH9-z"
   },
   "source": [
    "- `8.6%` пользователей совершают более 23 событий в день.\n",
    "- Считаю, что среднее значение более всего характеризует поведение большинства пользователей в приложении.\n",
    "- Получу средние значения числа событий на пользователя по каждому дню и выведу их изменение на графике."
   ]
  },
  {
   "cell_type": "code",
   "execution_count": null,
   "metadata": {
    "id": "MMO78AZYH9-z"
   },
   "outputs": [],
   "source": [
    "(\n",
    "    events_ppd.groupby('event_date')['event_cnt'].mean()\n",
    ".plot(ylim=0, figsize=(14,6), grid=True)\n",
    ")\n",
    "plt.title('Среднее число событий на пользователя за один день')\n",
    "plt.ylabel('Количество визитов')\n",
    "plt.xlabel('Дата')\n",
    "plt.show()"
   ]
  },
  {
   "cell_type": "markdown",
   "metadata": {
    "id": "0mqIwRzOH9-z"
   },
   "source": [
    "- Среднее число событий на пользователя в день колеблется преимущественно между 8 и 12 событиями.\n",
    "- Над этой метрикой имеет смысл работать, если от неё зависит число просмотров контактов, что я выясню далее."
   ]
  },
  {
   "cell_type": "markdown",
   "metadata": {
    "id": "iWRk4AdcH9-z"
   },
   "source": [
    "### Посмотреть на распределение числа событий (`hist`, `boxplot`) в разрезе групп."
   ]
  },
  {
   "cell_type": "markdown",
   "metadata": {
    "id": "Ua1GyMccZ3e-"
   },
   "source": [
    "- Выделю пользователей, для которых событие `tips_click` наступало. "
   ]
  },
  {
   "cell_type": "code",
   "execution_count": null,
   "metadata": {
    "id": "lfPD8ile3P9e"
   },
   "outputs": [],
   "source": [
    "users_tips_click = pd.Series(df[df['event_name'] == 'tips_click']['user_id'].unique())"
   ]
  },
  {
   "cell_type": "markdown",
   "metadata": {
    "id": "BfCSYeQD5ekL"
   },
   "source": [
    "- Для проверки разделения выделю пользователей, для которых наступало только событие `tips_show`."
   ]
  },
  {
   "cell_type": "code",
   "execution_count": null,
   "metadata": {
    "id": "QfNXz_yV33KV"
   },
   "outputs": [],
   "source": [
    "users_tips_show_only = (\n",
    "    pd.Series(df[~df['user_id']\n",
    "                 .isin(users_tips_click)]['user_id']\n",
    "              .unique())\n",
    "    )"
   ]
  },
  {
   "cell_type": "code",
   "execution_count": null,
   "metadata": {
    "id": "TuCpbtcq4vNk"
   },
   "outputs": [],
   "source": [
    "len(users_tips_show_only) + len(users_tips_click)"
   ]
  },
  {
   "cell_type": "code",
   "execution_count": null,
   "metadata": {
    "id": "56mzwCxFH9-z"
   },
   "outputs": [],
   "source": [
    "df['user_id'].nunique()"
   ]
  },
  {
   "cell_type": "markdown",
   "metadata": {
    "id": "xtDn8UOK75JD"
   },
   "source": [
    "- Никого не потерял.\n",
    "- Теперь разделю исходный датасет по этим пользователям."
   ]
  },
  {
   "cell_type": "code",
   "execution_count": null,
   "metadata": {
    "id": "9TDlkzTt8OK6"
   },
   "outputs": [],
   "source": [
    "df_click = df[df['user_id'].isin(users_tips_click)]"
   ]
  },
  {
   "cell_type": "code",
   "execution_count": null,
   "metadata": {
    "id": "eRSimnqP8PDi"
   },
   "outputs": [],
   "source": [
    "df_show = df[~df['user_id'].isin(users_tips_click)]"
   ]
  },
  {
   "cell_type": "code",
   "execution_count": null,
   "metadata": {
    "id": "gLp--Wgi8PUq"
   },
   "outputs": [],
   "source": [
    "len(df_click) + len(df_show)"
   ]
  },
  {
   "cell_type": "code",
   "execution_count": null,
   "metadata": {
    "id": "xywRJ79M81cD"
   },
   "outputs": [],
   "source": [
    "df.shape[0]"
   ]
  },
  {
   "cell_type": "markdown",
   "metadata": {
    "id": "QULenIyzA6rq"
   },
   "source": [
    "- Все события остались на месте после разделения датасета.\n",
    "- Определю число событий на пользователя в день для каждой группы\n",
    "- Посмотрю их распределения, их отличия, если есть."
   ]
  },
  {
   "cell_type": "code",
   "execution_count": null,
   "metadata": {
    "id": "Ak0FdqJ7GDIx"
   },
   "outputs": [],
   "source": [
    "# events_ppd_сlick - events per user per day who clicked\n",
    "events_ppd_click = (\n",
    "    df_click.groupby(\n",
    "        ['event_date', 'user_id'], \n",
    "        as_index=False\n",
    "    ).agg({'event_name': 'count'}))"
   ]
  },
  {
   "cell_type": "code",
   "execution_count": null,
   "metadata": {
    "id": "_DuYafH0GDIx"
   },
   "outputs": [],
   "source": [
    "events_ppd_click.rename(columns={'event_name': 'event_cnt'}, inplace=True)"
   ]
  },
  {
   "cell_type": "code",
   "execution_count": null,
   "metadata": {
    "id": "kv4Qyh8HA_dh"
   },
   "outputs": [],
   "source": [
    "# events_ppd_show - events per user per day who seen\n",
    "events_ppd_show = (\n",
    "    df_show.groupby(\n",
    "        ['event_date', 'user_id'], \n",
    "        as_index=False\n",
    "    ).agg({'event_name': 'count'}))"
   ]
  },
  {
   "cell_type": "code",
   "execution_count": null,
   "metadata": {
    "id": "FoztjUNWA_ph"
   },
   "outputs": [],
   "source": [
    "events_ppd_show.rename(columns={'event_name': 'event_cnt'}, inplace=True)"
   ]
  },
  {
   "cell_type": "code",
   "execution_count": null,
   "metadata": {
    "id": "E8vrbtA1HPpY"
   },
   "outputs": [],
   "source": [
    "plt.figure(figsize=(10,6))\n",
    "fig = sns.histplot(events_ppd_click['event_cnt'], element='step', color='red', alpha=0.5)\n",
    "fig = sns.histplot(events_ppd_show['event_cnt'], element='step', color='green', alpha=0.2)\n",
    "fig.legend(\n",
    "    labels=['tips_click', 'tips_show_only'], \n",
    "    loc='upper right'\n",
    "    )\n",
    "plt.title('Распределение числа событий на пользователя')\n",
    "plt.xlim(0, 60)\n",
    "plt.show()"
   ]
  },
  {
   "cell_type": "markdown",
   "metadata": {
    "id": "g7agKyhdHQQA"
   },
   "source": [
    "- Оба распределения перекошены вправо как исходный датасет.\n",
    "- Но видно, что относительная доля пользователей, совершающих ежедневно больше событий, в группе `tips_click` больше, чем в группе `tips_show_only`.\n",
    "- Чтобы нагляднее отразить эту разницу выведу `boxplot` для обеих групп."
   ]
  },
  {
   "cell_type": "code",
   "execution_count": null,
   "metadata": {
    "id": "MzpEyxpOHQmQ"
   },
   "outputs": [],
   "source": [
    "fig = plt.figure(figsize=(7,8))\n",
    "ax1 = fig.add_subplot(2,1,1)\n",
    "ax2 = fig.add_subplot(2,1,2)\n",
    "sns.boxplot(x=events_ppd_click['event_cnt'], color='red', saturation=0.5, ax=ax1)\n",
    "sns.boxplot(x=events_ppd_show['event_cnt'], color='blue', saturation=0.1, ax=ax2)\n",
    "ax1.set_title('tips_click')\n",
    "ax2.set_title('tips_show_only')\n",
    "ax1.set_xlim([0, 50])\n",
    "ax2.set_xlim([0, 50])\n",
    "fig.tight_layout()"
   ]
  },
  {
   "cell_type": "markdown",
   "metadata": {
    "id": "dEtWQ6uXykCk"
   },
   "source": [
    "- Данные графики явно говорят о том, что алгоритм рекоммендаций чаще побуждает к просмотру рекоммендованных объявлений тех пользователей, которые ежедневно совершают больше событий.\n",
    "- Вероятно, эта же группа впоследствии лучше конвертируется в `contacts_show`.\n",
    "- В ходе проверки основной статистической гипотезу выясню это."
   ]
  },
  {
   "cell_type": "markdown",
   "metadata": {
    "id": "ms8-5iZfH9-z"
   },
   "source": [
    "### Рассчитать конверсию в целевое действие. Изучить конверсию всех событий и оценить, какие из них влияют на совершение целевого действия."
   ]
  },
  {
   "cell_type": "markdown",
   "metadata": {
    "id": "wACy2kjlH9-z"
   },
   "source": [
    "<div class=\"alert alert-info\" role=\"alert\">\n",
    "    \n",
    "    \n",
    "__Комментарий от студента №2__\n",
    "    \n",
    "Вот тут у меня жирный вопрос. Я понимаю задачу определения связи событий с целевым действием так: получить конверсию в целевое, затем посмотреть, какие события чаще совершали пользователи !!ДО совершения целевого действия!! Я на правильном пути или же это поворот не туда?\n",
    "</div>"
   ]
  },
  {
   "cell_type": "markdown",
   "metadata": {
    "id": "zoNGQTmDH9-0"
   },
   "source": [
    "<div class=\"alert alert-success\" style=\"border-radius: 15px; box-shadow: 4px 4px 4px; border: 1px solid \" > <b>Комментарии от ревьюера v2 ✔️ : </b> \n",
    "\n",
    "Достаточно просто расчитать конверсию, но можешь посмотреть какие действия эти пользователи совершали еще. Только не путай расчет частоты действий и конверсию\n",
    "</div>"
   ]
  },
  {
   "cell_type": "markdown",
   "metadata": {
    "id": "P16C0WR3H9-0"
   },
   "source": [
    "<div class=\"alert alert-info\" role=\"alert\">\n",
    "    \n",
    "    \n",
    "__Комментарий от студента №2__\n",
    "    \n",
    "Добавил пункты с рассчётом продуктовых метрик. Не указал их изначально. Такой вопрос ещё: Нам для задачи apps_01 вообще нужен файл с источниками? Он был бы нужен при рассчёте маркетинговых метрик, но для определения связи событий с целевым действием не вижу его смысла.🤷🏻‍♂️\n",
    "</div>"
   ]
  },
  {
   "cell_type": "markdown",
   "metadata": {
    "id": "I2S7C8RMH9-0"
   },
   "source": [
    "<div class=\"alert alert-success\" style=\"border-radius: 15px; box-shadow: 4px 4px 4px; border: 1px solid \" > <b>Комментарии от ревьюера v2 ✔️ : </b> \n",
    "\n",
    "Для главного исследования нет. Но можно добавить как пункт общего анализа приложения\n",
    "</div>"
   ]
  },
  {
   "cell_type": "markdown",
   "metadata": {
    "id": "b_Q8d9fJH9-3"
   },
   "source": [
    "<div class=\"alert alert-info\" role=\"alert\">\n",
    "    \n",
    "    \n",
    "__Комментарий от студента №2__\n",
    "    \n",
    "Исправил пункты про изучение воронки    \n",
    "</div>"
   ]
  },
  {
   "cell_type": "markdown",
   "metadata": {
    "id": "Yr9tsbCpH9-3"
   },
   "source": [
    "## Изучить основные сценарии поведения пользователей до совершения целевого действия. "
   ]
  },
  {
   "cell_type": "markdown",
   "metadata": {
    "id": "74Xje5E-H9-3"
   },
   "source": [
    "### Выбрать пользователей, совершивших целевое действие."
   ]
  },
  {
   "cell_type": "markdown",
   "metadata": {
    "id": "epY-Xv0WH9-3"
   },
   "source": [
    "### Отфильтровать два последних действия до целевого для выбранных пользователей. "
   ]
  },
  {
   "cell_type": "markdown",
   "metadata": {
    "id": "CT5PzGSKH9-3"
   },
   "source": [
    "### Выделить наиболее часто встречающиеся события до совершения целевого действия."
   ]
  },
  {
   "cell_type": "markdown",
   "metadata": {
    "id": "2NlaZGgiH9-3"
   },
   "source": [
    "### Выделить наиболее частые сценнарии из двух событий до совершения целевого действия."
   ]
  },
  {
   "cell_type": "markdown",
   "metadata": {
    "id": "HAEBoPxgH9-4"
   },
   "source": [
    "## Изучить различия конверсии в целевое действие по группам (кто совершил `tips_click` и нет) с помощью статистического теста для пропорций `proportions_ztest` из библиотеки `statsmodels`:"
   ]
  },
  {
   "cell_type": "markdown",
   "metadata": {
    "id": "8nOE2VhyH9-4"
   },
   "source": [
    "###  Сформулировать нулевую и альтернативную гипотезы"
   ]
  },
  {
   "cell_type": "markdown",
   "metadata": {
    "id": "j4h2xoGIH9-4"
   },
   "source": [
    "### Подготовить выборки для статистического теста."
   ]
  },
  {
   "cell_type": "markdown",
   "metadata": {
    "id": "KkkbSKIeH9-4"
   },
   "source": [
    "### Задать alpha."
   ]
  },
  {
   "cell_type": "markdown",
   "metadata": {
    "id": "td0vBsCwH9-4"
   },
   "source": [
    "### Рассчитать `p-value` для сравниваемых конверсий в целевое действие."
   ]
  },
  {
   "cell_type": "markdown",
   "metadata": {
    "id": "gwOqF5tCH9-4"
   },
   "source": [
    "## Проверить собственную статистическую гипотезу о неравенстве конверсии в звонок для тех, кто просматривал фото в объявлении и нет. \n",
    "---\n",
    "Алгоритм и инструменты проверки такой же как в предыдущем разделе."
   ]
  },
  {
   "cell_type": "markdown",
   "metadata": {
    "id": "QZdiiD07H9-4"
   },
   "source": [
    "## Сделать общий вывод о том, какие события связаны с совершением целевого действия. \n",
    "---\n",
    "На основании этого сформулировать предложение о том, какие разделы стоит развивать (как именно это можно сделать), а какие, возможно, стоит исключить из приложения."
   ]
  },
  {
   "cell_type": "markdown",
   "metadata": {
    "id": "JVB9XZSiH9-4"
   },
   "source": [
    "<div class=\"alert alert-danger\" style=\"border-radius: 15px; box-shadow: 4px 4px 4px; border: 1px solid \" > <b>Комментарии от ревьюера ❌ : </b> \n",
    "\n",
    "<s>Спасибо за декомпозицию! По поводу общей структуры замечаний нет, но по некоторым пунктам есть рекомендации:\n",
    "    \n",
    "1. По поводу воронки, на созвоне, я говорил, что в приложении много точек входа до целевого события, поэтому общую воронку нет смысла рассматривать. Но можно например посмотреть определенные сценарии поведения на последовательности трех действий\n",
    "    \n",
    "2. Не увидел расчет конверсии действий в целевое в исследовательской части. Твоя задача проверить все события и сделать вывод какие работают, а какие нет.\n",
    "    \n",
    "3. Скорей всего из за общих формулировок пунктов, но проверь чтобы в наличии был анализ DAU\\WAU и retention rate в проекте\n",
    "    \n",
    "4. Не совсем понятен пункт 3.7. Для чего это разделение?\n",
    "    \n",
    "    \n",
    "Доработай эти моменты пожалуйста\n",
    "</div>"
   ]
  }
 ],
 "metadata": {
  "colab": {
   "collapsed_sections": [],
   "name": "final_project_reviwed.ipynb",
   "provenance": []
  },
  "kernelspec": {
   "display_name": "Python 3",
   "language": "python",
   "name": "python3"
  },
  "language_info": {
   "codemirror_mode": {
    "name": "ipython",
    "version": 3
   },
   "file_extension": ".py",
   "mimetype": "text/x-python",
   "name": "python",
   "nbconvert_exporter": "python",
   "pygments_lexer": "ipython3",
   "version": "3.7.12"
  },
  "toc": {
   "base_numbering": 1,
   "nav_menu": {},
   "number_sections": true,
   "sideBar": true,
   "skip_h1_title": true,
   "title_cell": "Table of Contents",
   "title_sidebar": "Contents",
   "toc_cell": false,
   "toc_position": {
    "height": "calc(100% - 180px)",
    "left": "10px",
    "top": "150px",
    "width": "217.834px"
   },
   "toc_section_display": true,
   "toc_window_display": true
  }
 },
 "nbformat": 4,
 "nbformat_minor": 1
}
