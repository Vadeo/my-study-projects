{
 "cells": [
  {
   "cell_type": "markdown",
   "metadata": {
    "id": "wfNAfF8GH9-a"
   },
   "source": [
    "<div style=\"border-radius: 15px; box-shadow: 2px 2px 4px; border: 1px solid; background:#bdc3c7; padding: 20px\"> <h7 style=\"color:black; margin-bottom:20px\"> Вадим, привет!) Это Михаил.\n",
    "\n",
    "Мои комментарии и замечания далее по тексту помечены различными цветами:\n",
    "    \n",
    "---    \n",
    "<div class=\"alert alert-block alert-danger\">\n",
    "❌ : Критическое замечание, которые следует исправить.\n",
    "</div> \n",
    "    \n",
    "---\n",
    "    \n",
    "<div class=\"alert alert-block alert-warning\">\n",
    "⚠️ : Замечание\\совет на будущее.\n",
    "</div>\n",
    "    \n",
    "---\n",
    "    \n",
    "<div class=\"alert alert-block alert-success\">\n",
    "✔️ : Когда всё сделано правильно.\n",
    "</div>\n",
    "    \n",
    "---\n",
    "    \n",
    "p.s.: не удаляй мои замечания, если предстоит что то доработать в проекте.</h7>"
   ]
  },
  {
   "cell_type": "markdown",
   "metadata": {
    "id": "niSs-aMCH9-d"
   },
   "source": [
    "<div class=\"alert alert-success\" style=\"border-radius: 15px; box-shadow: 4px 4px 4px; border: 1px solid \" > <b>Комментарии от ревьюера v2 ✔️ : </b> \n",
    "\n",
    "Привет) Все замечания учтены. Успехов на самом проекте!\n",
    "</div>"
   ]
  },
  {
   "cell_type": "markdown",
   "metadata": {
    "id": "bJGvfMuYH9-e"
   },
   "source": [
    "# Задание\n",
    "\n",
    "---\n",
    "\n",
    "### Задача:\n",
    "\n",
    "1. Проанализируйте связь целевого события — просмотра контактов — и других действий пользователей. \n",
    "2. Оцените, какие действия чаще совершают те пользователи, которые просматривают контакты.\n",
    "- Проведите исследовательский анализ данных\n",
    "- Проанализируйте влияние событий на совершение целевого события\n",
    "- Проверьте статистические гипотезы\n",
    "    1. Одни пользователи совершают действия `tips_show` и `tips_click`, другие — только `tips_show`. Проверьте гипотезу: конверсия в просмотры контактов различается у этих двух групп.\n",
    "    2. Сформулируйте собственную статистическую гипотезу. Дополните её нулевой и альтернативной гипотезами. Проверьте гипотезу с помощью статистического теста.\n",
    "\n",
    "### **Описание данных:**\n",
    "\n",
    "Датасет содержит данные о событиях, совершенных в мобильном приложении \"Ненужные вещи\". В нем пользователи продают свои ненужные вещи, размещая их на доске объявлений.\n",
    "\n",
    "В датасете содержатся данные пользователей, впервые совершивших действия в приложении после 7 октября 2019 года.\n",
    "\n",
    "Колонки в *mobile_sources.csv*: \n",
    "\n",
    "- `userId` — идентификатор пользователя,\n",
    "- `source` — источник, с которого пользователь установил приложение.\n",
    "\n",
    "Колонки в mobile_dataset.csv: **\n",
    "\n",
    "- `event.time` — время совершения,\n",
    "- `user.id` — идентификатор пользователя,\n",
    "- `event.name` — действие пользователя.\n",
    "\n",
    "Виды действий:\n",
    "\n",
    "- `advert_open` — открыл карточки объявления,\n",
    "- `photos_show` — просмотрел фотографий в объявлении,\n",
    "- `tips_show` — увидел рекомендованные объявления,\n",
    "- `tips_click` — кликнул по рекомендованному объявлению,\n",
    "- `contacts_show` и `show_contacts` — посмотрел номер телефона,\n",
    "- `contacts_call` — позвонил по номеру из объявления,\n",
    "- `map` — открыл карту объявлений,\n",
    "- `search_1`—`search_7` — разные действия, связанные с поиском по сайту,\n",
    "- `favorites_add` — добавил объявление в избранное.\n",
    "\n",
    "По итогам исследования подготовьте презентацию. Для создания презентации используйте любой удобный инструмент, но отправить презентацию нужно **обязательно** в формате **pdf,** прикрепив ссылку на файл в основном проекте.\n",
    "\n",
    "---\n",
    "\n",
    "### Дашборды\n",
    "\n",
    "Если вы планируете делать дашборд, то напишите об этом в комментариях в проекте, тогда ревьюер проверит работу, но не будет её принимать пока вы не пришлёте эту дополнительную задачу. Чтобы отправить дашборд приложите к проекту ссылку на файл.\n",
    "\n",
    "1. Набор №1\n",
    "    1. Постройте диаграмму распределения количества событий по типу события.\n",
    "    2. Добавьте индикатор количества пользователей.\n",
    "    3. Добавьте фильтр дашборда по дате совершения события.\n",
    "2. Набор №2\n",
    "    1. Постройте диаграмму, отображающую количество событий по дням.\n",
    "    2. Постройте гистограмму, отображающую количество пользователей, пришедших из разных источников.\n",
    "    3. Добавьте фильтр дашборда по типу события."
   ]
  },
  {
   "cell_type": "markdown",
   "metadata": {
    "id": "VUt0_zJvH9-f"
   },
   "source": [
    "<div class=\"alert alert-info\" role=\"alert\">\n",
    "    \n",
    "    \n",
    "__Комментарий от студента №1__\n",
    "    \n",
    "Михаил, привет! С праздником тебя! Спасибо, что проверяешь наши работы в выходной день. Пункты декомпозиции я сразу разбил на ячейки, чтобы потом в этой же тетрадке работать с данными, просто добавляя необходимиые вычисления в соответствующий раздел.\n",
    "    \n",
    "</div>"
   ]
  },
  {
   "cell_type": "markdown",
   "metadata": {
    "id": "1so0qhqLH9-g"
   },
   "source": [
    "<div class=\"alert alert-success\" style=\"border-radius: 15px; box-shadow: 4px 4px 4px; border: 1px solid \" > <b>Комментарии от ревьюера ✔️ : </b> \n",
    "\n",
    "Спасибо большое!) У тебя уже с прошедшим праздником.\n",
    "</div>"
   ]
  },
  {
   "cell_type": "markdown",
   "metadata": {
    "id": "lA49C9vVH9-g"
   },
   "source": [
    "# Декомпозиция задачи. "
   ]
  },
  {
   "cell_type": "markdown",
   "metadata": {
    "id": "x9-TBKyJH9-g"
   },
   "source": [
    "## Загрузка данных и библиотек для их обработки."
   ]
  },
  {
   "cell_type": "code",
   "execution_count": 1,
   "metadata": {},
   "outputs": [
    {
     "name": "stdout",
     "output_type": "stream",
     "text": [
      "Requirement already satisfied: seaborn==0.11.2 in /Users/vadimselin/opt/anaconda3/envs/praktikum_env_macos/lib/python3.7/site-packages (0.11.2)\n",
      "Requirement already satisfied: scipy>=1.0 in /Users/vadimselin/opt/anaconda3/envs/praktikum_env_macos/lib/python3.7/site-packages (from seaborn==0.11.2) (1.4.1)\n",
      "Requirement already satisfied: numpy>=1.15 in /Users/vadimselin/opt/anaconda3/envs/praktikum_env_macos/lib/python3.7/site-packages (from seaborn==0.11.2) (1.18.3)\n",
      "Requirement already satisfied: matplotlib>=2.2 in /Users/vadimselin/opt/anaconda3/envs/praktikum_env_macos/lib/python3.7/site-packages (from seaborn==0.11.2) (3.1.0)\n",
      "Requirement already satisfied: pandas>=0.23 in /Users/vadimselin/opt/anaconda3/envs/praktikum_env_macos/lib/python3.7/site-packages (from seaborn==0.11.2) (0.25.1)\n",
      "Requirement already satisfied: cycler>=0.10 in /Users/vadimselin/opt/anaconda3/envs/praktikum_env_macos/lib/python3.7/site-packages (from matplotlib>=2.2->seaborn==0.11.2) (0.11.0)\n",
      "Requirement already satisfied: kiwisolver>=1.0.1 in /Users/vadimselin/opt/anaconda3/envs/praktikum_env_macos/lib/python3.7/site-packages (from matplotlib>=2.2->seaborn==0.11.2) (1.3.2)\n",
      "Requirement already satisfied: pyparsing!=2.0.4,!=2.1.2,!=2.1.6,>=2.0.1 in /Users/vadimselin/opt/anaconda3/envs/praktikum_env_macos/lib/python3.7/site-packages (from matplotlib>=2.2->seaborn==0.11.2) (3.0.6)\n",
      "Requirement already satisfied: python-dateutil>=2.1 in /Users/vadimselin/opt/anaconda3/envs/praktikum_env_macos/lib/python3.7/site-packages (from matplotlib>=2.2->seaborn==0.11.2) (2.8.2)\n",
      "Requirement already satisfied: pytz>=2017.2 in /Users/vadimselin/opt/anaconda3/envs/praktikum_env_macos/lib/python3.7/site-packages (from pandas>=0.23->seaborn==0.11.2) (2021.3)\n",
      "Requirement already satisfied: six>=1.5 in /Users/vadimselin/opt/anaconda3/envs/praktikum_env_macos/lib/python3.7/site-packages (from python-dateutil>=2.1->matplotlib>=2.2->seaborn==0.11.2) (1.16.0)\n"
     ]
    }
   ],
   "source": [
    "!pip install seaborn==0.11.2"
   ]
  },
  {
   "cell_type": "code",
   "execution_count": 2,
   "metadata": {
    "colab": {
     "base_uri": "https://localhost:8080/"
    },
    "executionInfo": {
     "elapsed": 5,
     "status": "ok",
     "timestamp": 1646211569774,
     "user": {
      "displayName": "Vadim Selin",
      "photoUrl": "https://lh3.googleusercontent.com/a-/AOh14GimRG1VQmVxfbiWveTHbWUVfAwPpou3uwYOggho=s64",
      "userId": "13742755250186020674"
     },
     "user_tz": -180
    },
    "id": "-xx3j3g4H9-h",
    "outputId": "ddf3ac49-50d4-4afb-f826-e65b10432232"
   },
   "outputs": [],
   "source": [
    "import pandas as pd\n",
    "import numpy as np\n",
    "import seaborn as sns\n",
    "import matplotlib.pyplot as plt\n",
    "from statsmodels.stats.proportion import proportions_ztest"
   ]
  },
  {
   "cell_type": "code",
   "execution_count": 3,
   "metadata": {
    "colab": {
     "base_uri": "https://localhost:8080/"
    },
    "executionInfo": {
     "elapsed": 2200,
     "status": "ok",
     "timestamp": 1646211571972,
     "user": {
      "displayName": "Vadim Selin",
      "photoUrl": "https://lh3.googleusercontent.com/a-/AOh14GimRG1VQmVxfbiWveTHbWUVfAwPpou3uwYOggho=s64",
      "userId": "13742755250186020674"
     },
     "user_tz": -180
    },
    "id": "ZN4ArZCNmm7o",
    "outputId": "99ad7b91-8eaa-42f5-8c22-ee4fe7a40baa"
   },
   "outputs": [],
   "source": [
    "#! gdown --id 11Z8YQ7HUtpyOpywT4edBzAUVPk7-0sGL"
   ]
  },
  {
   "cell_type": "code",
   "execution_count": 4,
   "metadata": {
    "colab": {
     "base_uri": "https://localhost:8080/"
    },
    "executionInfo": {
     "elapsed": 1504,
     "status": "ok",
     "timestamp": 1646211573475,
     "user": {
      "displayName": "Vadim Selin",
      "photoUrl": "https://lh3.googleusercontent.com/a-/AOh14GimRG1VQmVxfbiWveTHbWUVfAwPpou3uwYOggho=s64",
      "userId": "13742755250186020674"
     },
     "user_tz": -180
    },
    "id": "ZEaH9jKroFcY",
    "outputId": "9d7cab27-2a2c-48fe-ea4c-7f7eedb79c6b"
   },
   "outputs": [],
   "source": [
    "#! gdown --id 1tZ9h9O9ajv0zMNZQUv7_WCnA64dGJ3UJ"
   ]
  },
  {
   "cell_type": "code",
   "execution_count": 5,
   "metadata": {
    "executionInfo": {
     "elapsed": 3,
     "status": "ok",
     "timestamp": 1646211573475,
     "user": {
      "displayName": "Vadim Selin",
      "photoUrl": "https://lh3.googleusercontent.com/a-/AOh14GimRG1VQmVxfbiWveTHbWUVfAwPpou3uwYOggho=s64",
      "userId": "13742755250186020674"
     },
     "user_tz": -180
    },
    "id": "bmwpxfUhH9-i"
   },
   "outputs": [],
   "source": [
    "df = pd.read_csv('mobile_dataset.csv')"
   ]
  },
  {
   "cell_type": "code",
   "execution_count": 6,
   "metadata": {
    "executionInfo": {
     "elapsed": 3,
     "status": "ok",
     "timestamp": 1646211573476,
     "user": {
      "displayName": "Vadim Selin",
      "photoUrl": "https://lh3.googleusercontent.com/a-/AOh14GimRG1VQmVxfbiWveTHbWUVfAwPpou3uwYOggho=s64",
      "userId": "13742755250186020674"
     },
     "user_tz": -180
    },
    "id": "RHQFbwEKH9-i"
   },
   "outputs": [],
   "source": [
    "src = pd.read_csv('mobile_soures.csv')"
   ]
  },
  {
   "cell_type": "code",
   "execution_count": 7,
   "metadata": {
    "colab": {
     "base_uri": "https://localhost:8080/",
     "height": 206
    },
    "executionInfo": {
     "elapsed": 437,
     "status": "ok",
     "timestamp": 1646211573910,
     "user": {
      "displayName": "Vadim Selin",
      "photoUrl": "https://lh3.googleusercontent.com/a-/AOh14GimRG1VQmVxfbiWveTHbWUVfAwPpou3uwYOggho=s64",
      "userId": "13742755250186020674"
     },
     "user_tz": -180
    },
    "id": "W19Qix6RH9-j",
    "outputId": "272e5983-aa8e-4cf3-c724-c86c6570401c"
   },
   "outputs": [
    {
     "data": {
      "text/html": [
       "<div>\n",
       "<style scoped>\n",
       "    .dataframe tbody tr th:only-of-type {\n",
       "        vertical-align: middle;\n",
       "    }\n",
       "\n",
       "    .dataframe tbody tr th {\n",
       "        vertical-align: top;\n",
       "    }\n",
       "\n",
       "    .dataframe thead th {\n",
       "        text-align: right;\n",
       "    }\n",
       "</style>\n",
       "<table border=\"1\" class=\"dataframe\">\n",
       "  <thead>\n",
       "    <tr style=\"text-align: right;\">\n",
       "      <th></th>\n",
       "      <th>event.time</th>\n",
       "      <th>event.name</th>\n",
       "      <th>user.id</th>\n",
       "    </tr>\n",
       "  </thead>\n",
       "  <tbody>\n",
       "    <tr>\n",
       "      <td>0</td>\n",
       "      <td>2019-10-07 00:00:00.431357</td>\n",
       "      <td>advert_open</td>\n",
       "      <td>020292ab-89bc-4156-9acf-68bc2783f894</td>\n",
       "    </tr>\n",
       "    <tr>\n",
       "      <td>1</td>\n",
       "      <td>2019-10-07 00:00:01.236320</td>\n",
       "      <td>tips_show</td>\n",
       "      <td>020292ab-89bc-4156-9acf-68bc2783f894</td>\n",
       "    </tr>\n",
       "    <tr>\n",
       "      <td>2</td>\n",
       "      <td>2019-10-07 00:00:02.245341</td>\n",
       "      <td>tips_show</td>\n",
       "      <td>cf7eda61-9349-469f-ac27-e5b6f5ec475c</td>\n",
       "    </tr>\n",
       "    <tr>\n",
       "      <td>3</td>\n",
       "      <td>2019-10-07 00:00:07.039334</td>\n",
       "      <td>tips_show</td>\n",
       "      <td>020292ab-89bc-4156-9acf-68bc2783f894</td>\n",
       "    </tr>\n",
       "    <tr>\n",
       "      <td>4</td>\n",
       "      <td>2019-10-07 00:00:56.319813</td>\n",
       "      <td>advert_open</td>\n",
       "      <td>cf7eda61-9349-469f-ac27-e5b6f5ec475c</td>\n",
       "    </tr>\n",
       "  </tbody>\n",
       "</table>\n",
       "</div>"
      ],
      "text/plain": [
       "                   event.time   event.name  \\\n",
       "0  2019-10-07 00:00:00.431357  advert_open   \n",
       "1  2019-10-07 00:00:01.236320    tips_show   \n",
       "2  2019-10-07 00:00:02.245341    tips_show   \n",
       "3  2019-10-07 00:00:07.039334    tips_show   \n",
       "4  2019-10-07 00:00:56.319813  advert_open   \n",
       "\n",
       "                                user.id  \n",
       "0  020292ab-89bc-4156-9acf-68bc2783f894  \n",
       "1  020292ab-89bc-4156-9acf-68bc2783f894  \n",
       "2  cf7eda61-9349-469f-ac27-e5b6f5ec475c  \n",
       "3  020292ab-89bc-4156-9acf-68bc2783f894  \n",
       "4  cf7eda61-9349-469f-ac27-e5b6f5ec475c  "
      ]
     },
     "execution_count": 7,
     "metadata": {},
     "output_type": "execute_result"
    }
   ],
   "source": [
    "df.head()"
   ]
  },
  {
   "cell_type": "code",
   "execution_count": 8,
   "metadata": {
    "colab": {
     "base_uri": "https://localhost:8080/",
     "height": 206
    },
    "executionInfo": {
     "elapsed": 17,
     "status": "ok",
     "timestamp": 1646211573911,
     "user": {
      "displayName": "Vadim Selin",
      "photoUrl": "https://lh3.googleusercontent.com/a-/AOh14GimRG1VQmVxfbiWveTHbWUVfAwPpou3uwYOggho=s64",
      "userId": "13742755250186020674"
     },
     "user_tz": -180
    },
    "id": "dXEpjBsZH9-j",
    "outputId": "8d814d37-ddcf-46ba-e7a8-6228240e38ca"
   },
   "outputs": [
    {
     "data": {
      "text/html": [
       "<div>\n",
       "<style scoped>\n",
       "    .dataframe tbody tr th:only-of-type {\n",
       "        vertical-align: middle;\n",
       "    }\n",
       "\n",
       "    .dataframe tbody tr th {\n",
       "        vertical-align: top;\n",
       "    }\n",
       "\n",
       "    .dataframe thead th {\n",
       "        text-align: right;\n",
       "    }\n",
       "</style>\n",
       "<table border=\"1\" class=\"dataframe\">\n",
       "  <thead>\n",
       "    <tr style=\"text-align: right;\">\n",
       "      <th></th>\n",
       "      <th>userId</th>\n",
       "      <th>source</th>\n",
       "    </tr>\n",
       "  </thead>\n",
       "  <tbody>\n",
       "    <tr>\n",
       "      <td>0</td>\n",
       "      <td>020292ab-89bc-4156-9acf-68bc2783f894</td>\n",
       "      <td>other</td>\n",
       "    </tr>\n",
       "    <tr>\n",
       "      <td>1</td>\n",
       "      <td>cf7eda61-9349-469f-ac27-e5b6f5ec475c</td>\n",
       "      <td>yandex</td>\n",
       "    </tr>\n",
       "    <tr>\n",
       "      <td>2</td>\n",
       "      <td>8c356c42-3ba9-4cb6-80b8-3f868d0192c3</td>\n",
       "      <td>yandex</td>\n",
       "    </tr>\n",
       "    <tr>\n",
       "      <td>3</td>\n",
       "      <td>d9b06b47-0f36-419b-bbb0-3533e582a6cb</td>\n",
       "      <td>other</td>\n",
       "    </tr>\n",
       "    <tr>\n",
       "      <td>4</td>\n",
       "      <td>f32e1e2a-3027-4693-b793-b7b3ff274439</td>\n",
       "      <td>google</td>\n",
       "    </tr>\n",
       "  </tbody>\n",
       "</table>\n",
       "</div>"
      ],
      "text/plain": [
       "                                 userId  source\n",
       "0  020292ab-89bc-4156-9acf-68bc2783f894   other\n",
       "1  cf7eda61-9349-469f-ac27-e5b6f5ec475c  yandex\n",
       "2  8c356c42-3ba9-4cb6-80b8-3f868d0192c3  yandex\n",
       "3  d9b06b47-0f36-419b-bbb0-3533e582a6cb   other\n",
       "4  f32e1e2a-3027-4693-b793-b7b3ff274439  google"
      ]
     },
     "execution_count": 8,
     "metadata": {},
     "output_type": "execute_result"
    }
   ],
   "source": [
    "src.head()"
   ]
  },
  {
   "cell_type": "markdown",
   "metadata": {
    "id": "ikXjqhNPH9-k"
   },
   "source": [
    "## Предобработка."
   ]
  },
  {
   "cell_type": "markdown",
   "metadata": {
    "id": "RPVbEqXmH9-k"
   },
   "source": [
    "### Поменяю названия столбцов на стандартные."
   ]
  },
  {
   "cell_type": "code",
   "execution_count": 9,
   "metadata": {
    "executionInfo": {
     "elapsed": 17,
     "status": "ok",
     "timestamp": 1646211573911,
     "user": {
      "displayName": "Vadim Selin",
      "photoUrl": "https://lh3.googleusercontent.com/a-/AOh14GimRG1VQmVxfbiWveTHbWUVfAwPpou3uwYOggho=s64",
      "userId": "13742755250186020674"
     },
     "user_tz": -180
    },
    "id": "3dVhAb0vH9-k"
   },
   "outputs": [],
   "source": [
    "df.columns = ['event_time', 'event_name', 'user_id']"
   ]
  },
  {
   "cell_type": "code",
   "execution_count": 10,
   "metadata": {
    "executionInfo": {
     "elapsed": 17,
     "status": "ok",
     "timestamp": 1646211573912,
     "user": {
      "displayName": "Vadim Selin",
      "photoUrl": "https://lh3.googleusercontent.com/a-/AOh14GimRG1VQmVxfbiWveTHbWUVfAwPpou3uwYOggho=s64",
      "userId": "13742755250186020674"
     },
     "user_tz": -180
    },
    "id": "3M9E2QRUH9-k"
   },
   "outputs": [],
   "source": [
    "src.rename(columns={'userId': 'user_id'}, inplace=True)"
   ]
  },
  {
   "cell_type": "markdown",
   "metadata": {
    "id": "kSKosWXaH9-l"
   },
   "source": [
    "### Пропуски."
   ]
  },
  {
   "cell_type": "code",
   "execution_count": 11,
   "metadata": {
    "colab": {
     "base_uri": "https://localhost:8080/"
    },
    "executionInfo": {
     "elapsed": 17,
     "status": "ok",
     "timestamp": 1646211573912,
     "user": {
      "displayName": "Vadim Selin",
      "photoUrl": "https://lh3.googleusercontent.com/a-/AOh14GimRG1VQmVxfbiWveTHbWUVfAwPpou3uwYOggho=s64",
      "userId": "13742755250186020674"
     },
     "user_tz": -180
    },
    "id": "706IR9YgH9-l",
    "outputId": "d0930b14-41f0-4f73-a932-d7b8232d8f83"
   },
   "outputs": [
    {
     "data": {
      "text/plain": [
       "event_time    0.0\n",
       "event_name    0.0\n",
       "user_id       0.0\n",
       "dtype: float64"
      ]
     },
     "execution_count": 11,
     "metadata": {},
     "output_type": "execute_result"
    }
   ],
   "source": [
    "df.isna().mean()"
   ]
  },
  {
   "cell_type": "markdown",
   "metadata": {
    "id": "Jx4fLwIcH9-l"
   },
   "source": [
    "- такой вывод короче и наглядней показывает наличие или отсутствие пропусков, нежели `df.info()`"
   ]
  },
  {
   "cell_type": "code",
   "execution_count": 12,
   "metadata": {
    "colab": {
     "base_uri": "https://localhost:8080/"
    },
    "executionInfo": {
     "elapsed": 16,
     "status": "ok",
     "timestamp": 1646211573912,
     "user": {
      "displayName": "Vadim Selin",
      "photoUrl": "https://lh3.googleusercontent.com/a-/AOh14GimRG1VQmVxfbiWveTHbWUVfAwPpou3uwYOggho=s64",
      "userId": "13742755250186020674"
     },
     "user_tz": -180
    },
    "id": "LirdnCQTH9-l",
    "outputId": "70f30f57-c7d5-4ff6-af6f-21e8ab7c5930"
   },
   "outputs": [
    {
     "data": {
      "text/plain": [
       "user_id    0.0\n",
       "source     0.0\n",
       "dtype: float64"
      ]
     },
     "execution_count": 12,
     "metadata": {},
     "output_type": "execute_result"
    }
   ],
   "source": [
    "src.isna().mean()"
   ]
  },
  {
   "cell_type": "markdown",
   "metadata": {
    "id": "00mZNvKCH9-m"
   },
   "source": [
    "- Пропусков нет и это замечательно."
   ]
  },
  {
   "cell_type": "markdown",
   "metadata": {
    "id": "nZkAbbJKH9-m"
   },
   "source": [
    "### Дубли"
   ]
  },
  {
   "cell_type": "code",
   "execution_count": 13,
   "metadata": {
    "colab": {
     "base_uri": "https://localhost:8080/"
    },
    "executionInfo": {
     "elapsed": 13,
     "status": "ok",
     "timestamp": 1646211573913,
     "user": {
      "displayName": "Vadim Selin",
      "photoUrl": "https://lh3.googleusercontent.com/a-/AOh14GimRG1VQmVxfbiWveTHbWUVfAwPpou3uwYOggho=s64",
      "userId": "13742755250186020674"
     },
     "user_tz": -180
    },
    "id": "eUj2JzmoH9-m",
    "outputId": "15d8c6cd-3750-41d0-bcbe-1d2c19c80d7c"
   },
   "outputs": [
    {
     "data": {
      "text/plain": [
       "0.0"
      ]
     },
     "execution_count": 13,
     "metadata": {},
     "output_type": "execute_result"
    }
   ],
   "source": [
    "df.duplicated().mean()"
   ]
  },
  {
   "cell_type": "code",
   "execution_count": 14,
   "metadata": {
    "colab": {
     "base_uri": "https://localhost:8080/"
    },
    "executionInfo": {
     "elapsed": 12,
     "status": "ok",
     "timestamp": 1646211573913,
     "user": {
      "displayName": "Vadim Selin",
      "photoUrl": "https://lh3.googleusercontent.com/a-/AOh14GimRG1VQmVxfbiWveTHbWUVfAwPpou3uwYOggho=s64",
      "userId": "13742755250186020674"
     },
     "user_tz": -180
    },
    "id": "J233iOGjH9-m",
    "outputId": "6c2b1179-10ed-4cd6-ee66-0c8b2ed30b39"
   },
   "outputs": [
    {
     "data": {
      "text/plain": [
       "0.0"
      ]
     },
     "execution_count": 14,
     "metadata": {},
     "output_type": "execute_result"
    }
   ],
   "source": [
    "src.duplicated().mean()"
   ]
  },
  {
   "cell_type": "markdown",
   "metadata": {
    "id": "9etK2MpaH9-n"
   },
   "source": [
    "- Полных дублей нет. Какие хорошие данные мне предоставили!"
   ]
  },
  {
   "cell_type": "markdown",
   "metadata": {
    "id": "lnZ3cTReH9-n"
   },
   "source": [
    "### Типы данных."
   ]
  },
  {
   "cell_type": "code",
   "execution_count": 15,
   "metadata": {
    "colab": {
     "base_uri": "https://localhost:8080/"
    },
    "executionInfo": {
     "elapsed": 11,
     "status": "ok",
     "timestamp": 1646211573914,
     "user": {
      "displayName": "Vadim Selin",
      "photoUrl": "https://lh3.googleusercontent.com/a-/AOh14GimRG1VQmVxfbiWveTHbWUVfAwPpou3uwYOggho=s64",
      "userId": "13742755250186020674"
     },
     "user_tz": -180
    },
    "id": "jbWshhM6H9-n",
    "outputId": "69d47e56-4afb-46ce-cabb-5f1b6199cbcc"
   },
   "outputs": [
    {
     "name": "stdout",
     "output_type": "stream",
     "text": [
      "<class 'pandas.core.frame.DataFrame'>\n",
      "RangeIndex: 74197 entries, 0 to 74196\n",
      "Data columns (total 3 columns):\n",
      "event_time    74197 non-null object\n",
      "event_name    74197 non-null object\n",
      "user_id       74197 non-null object\n",
      "dtypes: object(3)\n",
      "memory usage: 1.7+ MB\n"
     ]
    }
   ],
   "source": [
    "df.info()"
   ]
  },
  {
   "cell_type": "code",
   "execution_count": 16,
   "metadata": {
    "colab": {
     "base_uri": "https://localhost:8080/"
    },
    "executionInfo": {
     "elapsed": 10,
     "status": "ok",
     "timestamp": 1646211573914,
     "user": {
      "displayName": "Vadim Selin",
      "photoUrl": "https://lh3.googleusercontent.com/a-/AOh14GimRG1VQmVxfbiWveTHbWUVfAwPpou3uwYOggho=s64",
      "userId": "13742755250186020674"
     },
     "user_tz": -180
    },
    "id": "NG9a8ujUH9-n",
    "outputId": "a9a86619-caea-494f-a289-a0333032c223"
   },
   "outputs": [
    {
     "name": "stdout",
     "output_type": "stream",
     "text": [
      "<class 'pandas.core.frame.DataFrame'>\n",
      "RangeIndex: 4293 entries, 0 to 4292\n",
      "Data columns (total 2 columns):\n",
      "user_id    4293 non-null object\n",
      "source     4293 non-null object\n",
      "dtypes: object(2)\n",
      "memory usage: 67.2+ KB\n"
     ]
    }
   ],
   "source": [
    "src.info()"
   ]
  },
  {
   "cell_type": "markdown",
   "metadata": {
    "id": "dwzRSubTH9-n"
   },
   "source": [
    "- Из вывода `info()` следует, что дата скрывается в строковом типе данных `object`. Поменяю на `datetime`."
   ]
  },
  {
   "cell_type": "code",
   "execution_count": 17,
   "metadata": {
    "executionInfo": {
     "elapsed": 307,
     "status": "ok",
     "timestamp": 1646211574213,
     "user": {
      "displayName": "Vadim Selin",
      "photoUrl": "https://lh3.googleusercontent.com/a-/AOh14GimRG1VQmVxfbiWveTHbWUVfAwPpou3uwYOggho=s64",
      "userId": "13742755250186020674"
     },
     "user_tz": -180
    },
    "id": "rfMovpwJH9-n"
   },
   "outputs": [],
   "source": [
    "df['event_time'] = pd.to_datetime(df['event_time'])"
   ]
  },
  {
   "cell_type": "code",
   "execution_count": 18,
   "metadata": {
    "colab": {
     "base_uri": "https://localhost:8080/"
    },
    "executionInfo": {
     "elapsed": 10,
     "status": "ok",
     "timestamp": 1646211574214,
     "user": {
      "displayName": "Vadim Selin",
      "photoUrl": "https://lh3.googleusercontent.com/a-/AOh14GimRG1VQmVxfbiWveTHbWUVfAwPpou3uwYOggho=s64",
      "userId": "13742755250186020674"
     },
     "user_tz": -180
    },
    "id": "SlqDgV7UH9-o",
    "outputId": "a26d8cc9-c73d-4f38-af33-920b71fe7c53"
   },
   "outputs": [
    {
     "data": {
      "text/plain": [
       "23099   2019-10-16 15:57:14.717500\n",
       "29988   2019-10-19 09:44:20.299958\n",
       "15638   2019-10-13 22:54:29.234076\n",
       "Name: event_time, dtype: datetime64[ns]"
      ]
     },
     "execution_count": 18,
     "metadata": {},
     "output_type": "execute_result"
    }
   ],
   "source": [
    "df['event_time'].sample(3, random_state=0)"
   ]
  },
  {
   "cell_type": "markdown",
   "metadata": {
    "id": "mfsTWEJdH9-o"
   },
   "source": [
    "- Дата теперь в соответствующем формате."
   ]
  },
  {
   "cell_type": "markdown",
   "metadata": {
    "id": "3UzU9naAH9-o"
   },
   "source": [
    "### Объединений однотипных событий: contacts_show и show_contacts, search1-search7."
   ]
  },
  {
   "cell_type": "code",
   "execution_count": 19,
   "metadata": {
    "colab": {
     "base_uri": "https://localhost:8080/"
    },
    "executionInfo": {
     "elapsed": 9,
     "status": "ok",
     "timestamp": 1646211574214,
     "user": {
      "displayName": "Vadim Selin",
      "photoUrl": "https://lh3.googleusercontent.com/a-/AOh14GimRG1VQmVxfbiWveTHbWUVfAwPpou3uwYOggho=s64",
      "userId": "13742755250186020674"
     },
     "user_tz": -180
    },
    "id": "c5HizygoH9-o",
    "outputId": "03442603-4088-4bbc-ed38-21d6f91b75ee"
   },
   "outputs": [
    {
     "data": {
      "text/plain": [
       "tips_show        40055\n",
       "photos_show      10012\n",
       "advert_open       6164\n",
       "contacts_show     4450\n",
       "map               3881\n",
       "search_1          3506\n",
       "favorites_add     1417\n",
       "search_5          1049\n",
       "tips_click         814\n",
       "search_4           701\n",
       "contacts_call      541\n",
       "search_3           522\n",
       "search_6           460\n",
       "search_2           324\n",
       "search_7           222\n",
       "show_contacts       79\n",
       "Name: event_name, dtype: int64"
      ]
     },
     "execution_count": 19,
     "metadata": {},
     "output_type": "execute_result"
    }
   ],
   "source": [
    "df['event_name'].value_counts()"
   ]
  },
  {
   "cell_type": "code",
   "execution_count": 20,
   "metadata": {
    "executionInfo": {
     "elapsed": 7,
     "status": "ok",
     "timestamp": 1646211574214,
     "user": {
      "displayName": "Vadim Selin",
      "photoUrl": "https://lh3.googleusercontent.com/a-/AOh14GimRG1VQmVxfbiWveTHbWUVfAwPpou3uwYOggho=s64",
      "userId": "13742755250186020674"
     },
     "user_tz": -180
    },
    "id": "lsMLRCx7H9-o"
   },
   "outputs": [],
   "source": [
    "df.replace(\n",
    "    {\n",
    "        'event_name': {\n",
    "            'show_contacts': 'contacts_show', \n",
    "            'search_1': 'search_action',\n",
    "            'search_2': 'search_action',\n",
    "            'search_3': 'search_action',\n",
    "            'search_4': 'search_action',\n",
    "            'search_5': 'search_action',\n",
    "            'search_6': 'search_action',\n",
    "            'search_7': 'search_action',\n",
    "        }\n",
    "    }, inplace=True\n",
    ")"
   ]
  },
  {
   "cell_type": "code",
   "execution_count": 21,
   "metadata": {
    "colab": {
     "base_uri": "https://localhost:8080/"
    },
    "executionInfo": {
     "elapsed": 8,
     "status": "ok",
     "timestamp": 1646211574215,
     "user": {
      "displayName": "Vadim Selin",
      "photoUrl": "https://lh3.googleusercontent.com/a-/AOh14GimRG1VQmVxfbiWveTHbWUVfAwPpou3uwYOggho=s64",
      "userId": "13742755250186020674"
     },
     "user_tz": -180
    },
    "id": "-HaMbMyNH9-p",
    "outputId": "648f1681-ddaa-4018-b132-88d9b530972f"
   },
   "outputs": [
    {
     "data": {
      "text/plain": [
       "tips_show        40055\n",
       "photos_show      10012\n",
       "search_action     6784\n",
       "advert_open       6164\n",
       "contacts_show     4529\n",
       "map               3881\n",
       "favorites_add     1417\n",
       "tips_click         814\n",
       "contacts_call      541\n",
       "Name: event_name, dtype: int64"
      ]
     },
     "execution_count": 21,
     "metadata": {},
     "output_type": "execute_result"
    }
   ],
   "source": [
    "df['event_name'].value_counts()"
   ]
  },
  {
   "cell_type": "markdown",
   "metadata": {
    "id": "mt3mWWsIH9-p"
   },
   "source": [
    "## Исследовательский анализ данных."
   ]
  },
  {
   "cell_type": "markdown",
   "metadata": {
    "id": "15ol8LHIH9-p"
   },
   "source": [
    "### Определение временного диапазона датасета."
   ]
  },
  {
   "cell_type": "code",
   "execution_count": 22,
   "metadata": {
    "colab": {
     "base_uri": "https://localhost:8080/"
    },
    "executionInfo": {
     "elapsed": 6,
     "status": "ok",
     "timestamp": 1646211574215,
     "user": {
      "displayName": "Vadim Selin",
      "photoUrl": "https://lh3.googleusercontent.com/a-/AOh14GimRG1VQmVxfbiWveTHbWUVfAwPpou3uwYOggho=s64",
      "userId": "13742755250186020674"
     },
     "user_tz": -180
    },
    "id": "QJVWPgBmH9-q",
    "outputId": "0ea6f246-9e0d-49c0-d944-b4c1c2be19a9"
   },
   "outputs": [
    {
     "data": {
      "text/plain": [
       "Timestamp('2019-10-07 00:00:00.431357')"
      ]
     },
     "execution_count": 22,
     "metadata": {},
     "output_type": "execute_result"
    }
   ],
   "source": [
    "df['event_time'].min()"
   ]
  },
  {
   "cell_type": "code",
   "execution_count": 23,
   "metadata": {
    "colab": {
     "base_uri": "https://localhost:8080/"
    },
    "executionInfo": {
     "elapsed": 284,
     "status": "ok",
     "timestamp": 1646211574494,
     "user": {
      "displayName": "Vadim Selin",
      "photoUrl": "https://lh3.googleusercontent.com/a-/AOh14GimRG1VQmVxfbiWveTHbWUVfAwPpou3uwYOggho=s64",
      "userId": "13742755250186020674"
     },
     "user_tz": -180
    },
    "id": "OS5u1VvlH9-q",
    "outputId": "6910a39d-f355-4780-ba21-c76edf37c6af"
   },
   "outputs": [
    {
     "data": {
      "text/plain": [
       "Timestamp('2019-11-03 23:58:12.532487')"
      ]
     },
     "execution_count": 23,
     "metadata": {},
     "output_type": "execute_result"
    }
   ],
   "source": [
    "df['event_time'].max()"
   ]
  },
  {
   "cell_type": "markdown",
   "metadata": {
    "id": "mH2Iy0hGH9-q"
   },
   "source": [
    "- Данные охватывают период чуть менее месяца (с 7 октября по 3 ноября включительно, 28 дней), поэтому имеет смысл добавить столбец с днём. "
   ]
  },
  {
   "cell_type": "markdown",
   "metadata": {
    "id": "d66s7ZmGH9-q"
   },
   "source": [
    "### Добавить поле с датой (размерность - день)."
   ]
  },
  {
   "cell_type": "markdown",
   "metadata": {
    "id": "1R9EnbTPH9-q"
   },
   "source": [
    "- Также для дальнейшего расчёта `WAU` добавлю столбец с неделей"
   ]
  },
  {
   "cell_type": "code",
   "execution_count": 24,
   "metadata": {
    "executionInfo": {
     "elapsed": 6,
     "status": "ok",
     "timestamp": 1646211574494,
     "user": {
      "displayName": "Vadim Selin",
      "photoUrl": "https://lh3.googleusercontent.com/a-/AOh14GimRG1VQmVxfbiWveTHbWUVfAwPpou3uwYOggho=s64",
      "userId": "13742755250186020674"
     },
     "user_tz": -180
    },
    "id": "ZRIIM0lJH9-r"
   },
   "outputs": [],
   "source": [
    "df['event_date'] = df['event_time'].astype('datetime64[D]')"
   ]
  },
  {
   "cell_type": "code",
   "execution_count": 25,
   "metadata": {
    "colab": {
     "base_uri": "https://localhost:8080/"
    },
    "executionInfo": {
     "elapsed": 6,
     "status": "ok",
     "timestamp": 1646211574495,
     "user": {
      "displayName": "Vadim Selin",
      "photoUrl": "https://lh3.googleusercontent.com/a-/AOh14GimRG1VQmVxfbiWveTHbWUVfAwPpou3uwYOggho=s64",
      "userId": "13742755250186020674"
     },
     "user_tz": -180
    },
    "id": "19aOVRzVH9-r",
    "outputId": "9d64738f-c3cd-4ffc-a2bf-e504bd118e1b"
   },
   "outputs": [],
   "source": [
    "df['event_week'] = df['event_time'].dt.week"
   ]
  },
  {
   "cell_type": "code",
   "execution_count": 26,
   "metadata": {
    "colab": {
     "base_uri": "https://localhost:8080/"
    },
    "executionInfo": {
     "elapsed": 6,
     "status": "ok",
     "timestamp": 1646211574495,
     "user": {
      "displayName": "Vadim Selin",
      "photoUrl": "https://lh3.googleusercontent.com/a-/AOh14GimRG1VQmVxfbiWveTHbWUVfAwPpou3uwYOggho=s64",
      "userId": "13742755250186020674"
     },
     "user_tz": -180
    },
    "id": "s1yTx0y-H9-r",
    "outputId": "1f48e54e-d86c-490d-8dc9-ebc49699d3e1"
   },
   "outputs": [
    {
     "data": {
      "text/plain": [
       "43    20636\n",
       "44    19416\n",
       "42    18323\n",
       "41    15822\n",
       "Name: event_week, dtype: int64"
      ]
     },
     "execution_count": 26,
     "metadata": {},
     "output_type": "execute_result"
    }
   ],
   "source": [
    "df['event_week'].value_counts()"
   ]
  },
  {
   "cell_type": "markdown",
   "metadata": {
    "id": "GfZ05NnAH9-r"
   },
   "source": [
    "- C каждой следующей неделей в логе событий всё больше: маркетинг работает, активность пользователей растёт.\n",
    "- Проверю, верно-ли прошло разделение по неделям: возьму точный срез по первой неделе и сравню число событий с значением числа строк в `value_counts()`."
   ]
  },
  {
   "cell_type": "code",
   "execution_count": 27,
   "metadata": {
    "colab": {
     "base_uri": "https://localhost:8080/"
    },
    "executionInfo": {
     "elapsed": 4,
     "status": "ok",
     "timestamp": 1646211574495,
     "user": {
      "displayName": "Vadim Selin",
      "photoUrl": "https://lh3.googleusercontent.com/a-/AOh14GimRG1VQmVxfbiWveTHbWUVfAwPpou3uwYOggho=s64",
      "userId": "13742755250186020674"
     },
     "user_tz": -180
    },
    "id": "Lb52NdR0H9-r",
    "outputId": "799e8a51-ad34-4da6-dda5-374458530255"
   },
   "outputs": [
    {
     "data": {
      "text/plain": [
       "15822"
      ]
     },
     "execution_count": 27,
     "metadata": {},
     "output_type": "execute_result"
    }
   ],
   "source": [
    "(\n",
    "    df.query(\n",
    "        'event_time >= \"2019-10-07 00:00:00.431357\" & \\\n",
    "         event_time < \"2019-10-14 00:00:00.000000\"'\n",
    "    ).shape[0]\n",
    ")"
   ]
  },
  {
   "cell_type": "markdown",
   "metadata": {
    "id": "wM5kYGtWH9-r"
   },
   "source": [
    "- Данные по неделям поделились правильно."
   ]
  },
  {
   "cell_type": "markdown",
   "metadata": {
    "id": "aGxWTJCDH9-s"
   },
   "source": [
    "### Проверить полноту данных: распределение количества событий по дням."
   ]
  },
  {
   "cell_type": "markdown",
   "metadata": {
    "id": "v_JzIUIBH9-s"
   },
   "source": [
    "- Сделаю это, построив гистограмму по столбцу `event_day` с параметром `bins` равный числу дней 28 в исследуемом датасете.\n",
    "- Это позволит наглядно увидеть относительный объём событий за каждый день."
   ]
  },
  {
   "cell_type": "code",
   "execution_count": 28,
   "metadata": {
    "colab": {
     "base_uri": "https://localhost:8080/",
     "height": 350
    },
    "executionInfo": {
     "elapsed": 868,
     "status": "ok",
     "timestamp": 1646211575361,
     "user": {
      "displayName": "Vadim Selin",
      "photoUrl": "https://lh3.googleusercontent.com/a-/AOh14GimRG1VQmVxfbiWveTHbWUVfAwPpou3uwYOggho=s64",
      "userId": "13742755250186020674"
     },
     "user_tz": -180
    },
    "id": "aylzwRnoH9-s",
    "outputId": "f2fb4fb3-9b47-4692-84c9-b441a1ddf1e0"
   },
   "outputs": [
    {
     "data": {
      "image/png": "[encoded data removed]",
      "text/plain": [
       "<Figure size 1152x360 with 1 Axes>"
      ]
     },
     "metadata": {
      "needs_background": "light"
     },
     "output_type": "display_data"
    }
   ],
   "source": [
    "%%capture --no-display\n",
    "df['event_date'].hist(figsize=(16, 5), bins=28)\n",
    "plt.title('Распределение событий лога по дням')\n",
    "plt.ylabel('Количество событий')\n",
    "plt.xlabel('Дата')\n",
    "plt.show()"
   ]
  },
  {
   "cell_type": "markdown",
   "metadata": {
    "id": "kXkVB2OsH9-s"
   },
   "source": [
    "- \"Пустых на события\" дней нет. Данные получены без заметных потерь.\n",
    "- После полуночи народ немного сидит в приложении, а потом \n",
    "- Также заметна тенденция роста числа событий, которая была заметна на группировке по неделям."
   ]
  },
  {
   "cell_type": "code",
   "execution_count": 29,
   "metadata": {
    "colab": {
     "base_uri": "https://localhost:8080/",
     "height": 350
    },
    "executionInfo": {
     "elapsed": 3430,
     "status": "ok",
     "timestamp": 1646211578789,
     "user": {
      "displayName": "Vadim Selin",
      "photoUrl": "https://lh3.googleusercontent.com/a-/AOh14GimRG1VQmVxfbiWveTHbWUVfAwPpou3uwYOggho=s64",
      "userId": "13742755250186020674"
     },
     "user_tz": -180
    },
    "id": "CLFrYkcgRseJ",
    "outputId": "91ce7ae1-a9e7-4e67-f32d-17b7c95b760f"
   },
   "outputs": [
    {
     "data": {
      "image/png": "[encoded data removed]",
      "text/plain": [
       "<Figure size 1152x360 with 1 Axes>"
      ]
     },
     "metadata": {
      "needs_background": "light"
     },
     "output_type": "display_data"
    }
   ],
   "source": [
    "df['event_time'].hist(figsize=(16, 5), bins=672)\n",
    "plt.title('Распределение событий лога по времени')\n",
    "plt.ylabel('Количество событий')\n",
    "plt.xlabel('Дата')\n",
    "plt.show()"
   ]
  },
  {
   "cell_type": "markdown",
   "metadata": {
    "id": "5JitS_F4H9-s"
   },
   "source": [
    "## Изучение продуктовых метрик"
   ]
  },
  {
   "cell_type": "markdown",
   "metadata": {
    "id": "97Y0_F31H9-t"
   },
   "source": [
    "### Рассчёт `DAU`, `WAU`. Вычисление среднего значения этих метрик за весь период. График изменения метрик во времени."
   ]
  },
  {
   "cell_type": "markdown",
   "metadata": {
    "id": "H8vW32vuH9-t"
   },
   "source": [
    "- Рассчитаю `dau` и средний `dau_total`."
   ]
  },
  {
   "cell_type": "code",
   "execution_count": 30,
   "metadata": {
    "executionInfo": {
     "elapsed": 9,
     "status": "ok",
     "timestamp": 1646211578790,
     "user": {
      "displayName": "Vadim Selin",
      "photoUrl": "https://lh3.googleusercontent.com/a-/AOh14GimRG1VQmVxfbiWveTHbWUVfAwPpou3uwYOggho=s64",
      "userId": "13742755250186020674"
     },
     "user_tz": -180
    },
    "id": "VWRJ5YDFH9-t"
   },
   "outputs": [],
   "source": [
    "dau = df.groupby('event_date', as_index=False).agg({'user_id': 'nunique'})"
   ]
  },
  {
   "cell_type": "code",
   "execution_count": 31,
   "metadata": {
    "executionInfo": {
     "elapsed": 9,
     "status": "ok",
     "timestamp": 1646211578791,
     "user": {
      "displayName": "Vadim Selin",
      "photoUrl": "https://lh3.googleusercontent.com/a-/AOh14GimRG1VQmVxfbiWveTHbWUVfAwPpou3uwYOggho=s64",
      "userId": "13742755250186020674"
     },
     "user_tz": -180
    },
    "id": "h2vFqqztH9-t"
   },
   "outputs": [],
   "source": [
    "dau.rename(columns={'user_id': 'unique_day_users'}, inplace=True)"
   ]
  },
  {
   "cell_type": "code",
   "execution_count": 32,
   "metadata": {
    "colab": {
     "base_uri": "https://localhost:8080/",
     "height": 206
    },
    "executionInfo": {
     "elapsed": 9,
     "status": "ok",
     "timestamp": 1646211578791,
     "user": {
      "displayName": "Vadim Selin",
      "photoUrl": "https://lh3.googleusercontent.com/a-/AOh14GimRG1VQmVxfbiWveTHbWUVfAwPpou3uwYOggho=s64",
      "userId": "13742755250186020674"
     },
     "user_tz": -180
    },
    "id": "0_qfdaGDH9-t",
    "outputId": "07adf60d-9ce5-426c-a2c4-cac67ab1f596"
   },
   "outputs": [
    {
     "data": {
      "text/html": [
       "<div>\n",
       "<style scoped>\n",
       "    .dataframe tbody tr th:only-of-type {\n",
       "        vertical-align: middle;\n",
       "    }\n",
       "\n",
       "    .dataframe tbody tr th {\n",
       "        vertical-align: top;\n",
       "    }\n",
       "\n",
       "    .dataframe thead th {\n",
       "        text-align: right;\n",
       "    }\n",
       "</style>\n",
       "<table border=\"1\" class=\"dataframe\">\n",
       "  <thead>\n",
       "    <tr style=\"text-align: right;\">\n",
       "      <th></th>\n",
       "      <th>event_date</th>\n",
       "      <th>unique_day_users</th>\n",
       "    </tr>\n",
       "  </thead>\n",
       "  <tbody>\n",
       "    <tr>\n",
       "      <td>0</td>\n",
       "      <td>2019-10-07</td>\n",
       "      <td>204</td>\n",
       "    </tr>\n",
       "    <tr>\n",
       "      <td>1</td>\n",
       "      <td>2019-10-08</td>\n",
       "      <td>204</td>\n",
       "    </tr>\n",
       "    <tr>\n",
       "      <td>2</td>\n",
       "      <td>2019-10-09</td>\n",
       "      <td>227</td>\n",
       "    </tr>\n",
       "    <tr>\n",
       "      <td>3</td>\n",
       "      <td>2019-10-10</td>\n",
       "      <td>233</td>\n",
       "    </tr>\n",
       "    <tr>\n",
       "      <td>4</td>\n",
       "      <td>2019-10-11</td>\n",
       "      <td>206</td>\n",
       "    </tr>\n",
       "  </tbody>\n",
       "</table>\n",
       "</div>"
      ],
      "text/plain": [
       "  event_date  unique_day_users\n",
       "0 2019-10-07               204\n",
       "1 2019-10-08               204\n",
       "2 2019-10-09               227\n",
       "3 2019-10-10               233\n",
       "4 2019-10-11               206"
      ]
     },
     "execution_count": 32,
     "metadata": {},
     "output_type": "execute_result"
    }
   ],
   "source": [
    "dau.head()"
   ]
  },
  {
   "cell_type": "markdown",
   "metadata": {
    "id": "LYNgjSh_NhNK"
   },
   "source": [
    "- Рассчитаю средний `dau` за весь период."
   ]
  },
  {
   "cell_type": "code",
   "execution_count": 33,
   "metadata": {
    "executionInfo": {
     "elapsed": 9,
     "status": "ok",
     "timestamp": 1646211578792,
     "user": {
      "displayName": "Vadim Selin",
      "photoUrl": "https://lh3.googleusercontent.com/a-/AOh14GimRG1VQmVxfbiWveTHbWUVfAwPpou3uwYOggho=s64",
      "userId": "13742755250186020674"
     },
     "user_tz": -180
    },
    "id": "VLoCGMWVH9-t"
   },
   "outputs": [],
   "source": [
    "dau_total = dau['unique_day_users'].mean()"
   ]
  },
  {
   "cell_type": "code",
   "execution_count": 34,
   "metadata": {
    "colab": {
     "base_uri": "https://localhost:8080/"
    },
    "executionInfo": {
     "elapsed": 9,
     "status": "ok",
     "timestamp": 1646211578792,
     "user": {
      "displayName": "Vadim Selin",
      "photoUrl": "https://lh3.googleusercontent.com/a-/AOh14GimRG1VQmVxfbiWveTHbWUVfAwPpou3uwYOggho=s64",
      "userId": "13742755250186020674"
     },
     "user_tz": -180
    },
    "id": "Rh9tVU1MH9-t",
    "outputId": "bf6aba5d-9f4f-405e-dee1-dfad630716b8"
   },
   "outputs": [
    {
     "data": {
      "text/plain": [
       "279.18"
      ]
     },
     "execution_count": 34,
     "metadata": {},
     "output_type": "execute_result"
    }
   ],
   "source": [
    "round(dau_total, 2)"
   ]
  },
  {
   "cell_type": "markdown",
   "metadata": {
    "id": "Heq3ZuG6H9-u"
   },
   "source": [
    "- Среднее число уникальных пользователей в приложении 279.\n",
    "- Число событий в неделе и на графике распределения росло от начала записи лога.\n",
    "- Вероятно, это связано с ростом числа уникальных пользователей.\n",
    "- Проверю это на ежедневном графике изменения `dau`."
   ]
  },
  {
   "cell_type": "code",
   "execution_count": 35,
   "metadata": {
    "colab": {
     "base_uri": "https://localhost:8080/",
     "height": 426
    },
    "executionInfo": {
     "elapsed": 835,
     "status": "ok",
     "timestamp": 1646211579620,
     "user": {
      "displayName": "Vadim Selin",
      "photoUrl": "https://lh3.googleusercontent.com/a-/AOh14GimRG1VQmVxfbiWveTHbWUVfAwPpou3uwYOggho=s64",
      "userId": "13742755250186020674"
     },
     "user_tz": -180
    },
    "id": "te0hVhscH9-u",
    "outputId": "6bce872e-d88a-482b-b9ca-1558c092c186"
   },
   "outputs": [
    {
     "data": {
      "image/png": "[encoded data removed]",
      "text/plain": [
       "<Figure size 1008x432 with 1 Axes>"
      ]
     },
     "metadata": {
      "needs_background": "light"
     },
     "output_type": "display_data"
    }
   ],
   "source": [
    "dau.plot(x='event_date',figsize=(14,6), ylim=0, grid=True)\n",
    "plt.title('Число уникальных пользователей в день')\n",
    "plt.ylabel('Количество пользователей')\n",
    "plt.xlabel('Дата')\n",
    "plt.show()"
   ]
  },
  {
   "cell_type": "markdown",
   "metadata": {
    "id": "vseIa8qJH9-u"
   },
   "source": [
    "- Так и есть: ежедневное число уникальных пользователей колеблется, но проявляет тенденцию к росту.\n",
    "- Есть небольшой спад к концу лога, который, очевидно, отразится на недельном графике.\n",
    "- Рассчитаю и построю график `wau`."
   ]
  },
  {
   "cell_type": "code",
   "execution_count": 36,
   "metadata": {
    "executionInfo": {
     "elapsed": 4,
     "status": "ok",
     "timestamp": 1646211579621,
     "user": {
      "displayName": "Vadim Selin",
      "photoUrl": "https://lh3.googleusercontent.com/a-/AOh14GimRG1VQmVxfbiWveTHbWUVfAwPpou3uwYOggho=s64",
      "userId": "13742755250186020674"
     },
     "user_tz": -180
    },
    "id": "PvFWIAkbH9-u"
   },
   "outputs": [],
   "source": [
    "wau = df.groupby('event_week', as_index=False).agg({'user_id': 'nunique'})"
   ]
  },
  {
   "cell_type": "code",
   "execution_count": 37,
   "metadata": {
    "executionInfo": {
     "elapsed": 3,
     "status": "ok",
     "timestamp": 1646211579621,
     "user": {
      "displayName": "Vadim Selin",
      "photoUrl": "https://lh3.googleusercontent.com/a-/AOh14GimRG1VQmVxfbiWveTHbWUVfAwPpou3uwYOggho=s64",
      "userId": "13742755250186020674"
     },
     "user_tz": -180
    },
    "id": "4BSltJ6DH9-u"
   },
   "outputs": [],
   "source": [
    "wau.rename(columns={'user_id': 'unique_week_users'}, inplace=True)"
   ]
  },
  {
   "cell_type": "code",
   "execution_count": 38,
   "metadata": {
    "colab": {
     "base_uri": "https://localhost:8080/",
     "height": 174
    },
    "executionInfo": {
     "elapsed": 8,
     "status": "ok",
     "timestamp": 1646211580036,
     "user": {
      "displayName": "Vadim Selin",
      "photoUrl": "https://lh3.googleusercontent.com/a-/AOh14GimRG1VQmVxfbiWveTHbWUVfAwPpou3uwYOggho=s64",
      "userId": "13742755250186020674"
     },
     "user_tz": -180
    },
    "id": "b4QOyWS-H9-u",
    "outputId": "c31c8dfb-7d74-40b6-d43b-582a1e01bd7a"
   },
   "outputs": [
    {
     "data": {
      "text/html": [
       "<div>\n",
       "<style scoped>\n",
       "    .dataframe tbody tr th:only-of-type {\n",
       "        vertical-align: middle;\n",
       "    }\n",
       "\n",
       "    .dataframe tbody tr th {\n",
       "        vertical-align: top;\n",
       "    }\n",
       "\n",
       "    .dataframe thead th {\n",
       "        text-align: right;\n",
       "    }\n",
       "</style>\n",
       "<table border=\"1\" class=\"dataframe\">\n",
       "  <thead>\n",
       "    <tr style=\"text-align: right;\">\n",
       "      <th></th>\n",
       "      <th>event_week</th>\n",
       "      <th>unique_week_users</th>\n",
       "    </tr>\n",
       "  </thead>\n",
       "  <tbody>\n",
       "    <tr>\n",
       "      <td>0</td>\n",
       "      <td>41</td>\n",
       "      <td>1130</td>\n",
       "    </tr>\n",
       "    <tr>\n",
       "      <td>1</td>\n",
       "      <td>42</td>\n",
       "      <td>1438</td>\n",
       "    </tr>\n",
       "    <tr>\n",
       "      <td>2</td>\n",
       "      <td>43</td>\n",
       "      <td>1546</td>\n",
       "    </tr>\n",
       "    <tr>\n",
       "      <td>3</td>\n",
       "      <td>44</td>\n",
       "      <td>1416</td>\n",
       "    </tr>\n",
       "  </tbody>\n",
       "</table>\n",
       "</div>"
      ],
      "text/plain": [
       "   event_week  unique_week_users\n",
       "0          41               1130\n",
       "1          42               1438\n",
       "2          43               1546\n",
       "3          44               1416"
      ]
     },
     "execution_count": 38,
     "metadata": {},
     "output_type": "execute_result"
    }
   ],
   "source": [
    "wau"
   ]
  },
  {
   "cell_type": "code",
   "execution_count": 39,
   "metadata": {
    "executionInfo": {
     "elapsed": 8,
     "status": "ok",
     "timestamp": 1646211580037,
     "user": {
      "displayName": "Vadim Selin",
      "photoUrl": "https://lh3.googleusercontent.com/a-/AOh14GimRG1VQmVxfbiWveTHbWUVfAwPpou3uwYOggho=s64",
      "userId": "13742755250186020674"
     },
     "user_tz": -180
    },
    "id": "amBHdVm6H9-u"
   },
   "outputs": [],
   "source": [
    "wau_total = wau['unique_week_users'].mean()"
   ]
  },
  {
   "cell_type": "markdown",
   "metadata": {
    "id": "Je5KPaamN86Z"
   },
   "source": [
    "- Рассчитаю средний `wau` за весь период."
   ]
  },
  {
   "cell_type": "code",
   "execution_count": 40,
   "metadata": {
    "colab": {
     "base_uri": "https://localhost:8080/"
    },
    "executionInfo": {
     "elapsed": 9,
     "status": "ok",
     "timestamp": 1646211580038,
     "user": {
      "displayName": "Vadim Selin",
      "photoUrl": "https://lh3.googleusercontent.com/a-/AOh14GimRG1VQmVxfbiWveTHbWUVfAwPpou3uwYOggho=s64",
      "userId": "13742755250186020674"
     },
     "user_tz": -180
    },
    "id": "tDRv12rMH9-v",
    "outputId": "8436d049-5365-4797-fc9a-5824436d1bfe"
   },
   "outputs": [
    {
     "data": {
      "text/plain": [
       "1382.5"
      ]
     },
     "execution_count": 40,
     "metadata": {},
     "output_type": "execute_result"
    }
   ],
   "source": [
    "wau_total"
   ]
  },
  {
   "cell_type": "code",
   "execution_count": 41,
   "metadata": {
    "colab": {
     "base_uri": "https://localhost:8080/",
     "height": 404
    },
    "executionInfo": {
     "elapsed": 341,
     "status": "ok",
     "timestamp": 1646211580372,
     "user": {
      "displayName": "Vadim Selin",
      "photoUrl": "https://lh3.googleusercontent.com/a-/AOh14GimRG1VQmVxfbiWveTHbWUVfAwPpou3uwYOggho=s64",
      "userId": "13742755250186020674"
     },
     "user_tz": -180
    },
    "id": "660A7EiHH9-v",
    "outputId": "e1870055-c028-4288-f753-92da44eab74a"
   },
   "outputs": [
    {
     "data": {
      "image/png": "[encoded data removed]",
      "text/plain": [
       "<Figure size 1008x432 with 1 Axes>"
      ]
     },
     "metadata": {
      "needs_background": "light"
     },
     "output_type": "display_data"
    }
   ],
   "source": [
    "wau.plot(x='event_week',figsize=(14,6), ylim=0, xlim=(41, 44), grid=True)\n",
    "plt.title('Число уникальных пользователей в неделю')\n",
    "plt.ylabel('Количество пользователей')\n",
    "plt.xlabel('неделя года')\n",
    "plt.show()"
   ]
  },
  {
   "cell_type": "markdown",
   "metadata": {
    "id": "HXMpfC6MH9-v"
   },
   "source": [
    "- Среднее число уникальных пользователей в неделю составляет `1385,5`.\n",
    "- Со второй недели число уникальных пользователей превышает `1400`.\n",
    "- Но после 3-й недели фиксирую спад.\n",
    "- Скорее всего, это связано с показателем оттока `Retention rate`, рассчитаю его далее."
   ]
  },
  {
   "cell_type": "markdown",
   "metadata": {
    "id": "-LpuODfKH9-3"
   },
   "source": [
    "### Рассчитать `Retention Rate`, применяя когортный анализ. Вывести изменение метрики во времени на графике (heatmap)."
   ]
  },
  {
   "cell_type": "markdown",
   "metadata": {},
   "source": [
    "- Исследуемый период составляет 4 недели, поэтому когорты целесообразно барть понедельно."
   ]
  },
  {
   "cell_type": "code",
   "execution_count": 42,
   "metadata": {},
   "outputs": [
    {
     "data": {
      "text/html": [
       "<div>\n",
       "<style scoped>\n",
       "    .dataframe tbody tr th:only-of-type {\n",
       "        vertical-align: middle;\n",
       "    }\n",
       "\n",
       "    .dataframe tbody tr th {\n",
       "        vertical-align: top;\n",
       "    }\n",
       "\n",
       "    .dataframe thead th {\n",
       "        text-align: right;\n",
       "    }\n",
       "</style>\n",
       "<table border=\"1\" class=\"dataframe\">\n",
       "  <thead>\n",
       "    <tr style=\"text-align: right;\">\n",
       "      <th></th>\n",
       "      <th>event_time</th>\n",
       "      <th>event_name</th>\n",
       "      <th>user_id</th>\n",
       "      <th>event_date</th>\n",
       "      <th>event_week</th>\n",
       "    </tr>\n",
       "  </thead>\n",
       "  <tbody>\n",
       "    <tr>\n",
       "      <td>0</td>\n",
       "      <td>2019-10-07 00:00:00.431357</td>\n",
       "      <td>advert_open</td>\n",
       "      <td>020292ab-89bc-4156-9acf-68bc2783f894</td>\n",
       "      <td>2019-10-07</td>\n",
       "      <td>41</td>\n",
       "    </tr>\n",
       "    <tr>\n",
       "      <td>1</td>\n",
       "      <td>2019-10-07 00:00:01.236320</td>\n",
       "      <td>tips_show</td>\n",
       "      <td>020292ab-89bc-4156-9acf-68bc2783f894</td>\n",
       "      <td>2019-10-07</td>\n",
       "      <td>41</td>\n",
       "    </tr>\n",
       "  </tbody>\n",
       "</table>\n",
       "</div>"
      ],
      "text/plain": [
       "                  event_time   event_name  \\\n",
       "0 2019-10-07 00:00:00.431357  advert_open   \n",
       "1 2019-10-07 00:00:01.236320    tips_show   \n",
       "\n",
       "                                user_id event_date  event_week  \n",
       "0  020292ab-89bc-4156-9acf-68bc2783f894 2019-10-07          41  \n",
       "1  020292ab-89bc-4156-9acf-68bc2783f894 2019-10-07          41  "
      ]
     },
     "execution_count": 42,
     "metadata": {},
     "output_type": "execute_result"
    }
   ],
   "source": [
    "df.head(2)"
   ]
  },
  {
   "cell_type": "markdown",
   "metadata": {},
   "source": [
    "- Получу дату первого визита для каждого пользователя"
   ]
  },
  {
   "cell_type": "code",
   "execution_count": 43,
   "metadata": {},
   "outputs": [],
   "source": [
    "first_activ_day = df.groupby('user_id')['event_date'].min()"
   ]
  },
  {
   "cell_type": "code",
   "execution_count": 44,
   "metadata": {},
   "outputs": [],
   "source": [
    "first_activ_day.name = 'first_start_date'"
   ]
  },
  {
   "cell_type": "code",
   "execution_count": 45,
   "metadata": {},
   "outputs": [],
   "source": [
    "df = df.join(first_activ_day, on='user_id')"
   ]
  },
  {
   "cell_type": "code",
   "execution_count": 46,
   "metadata": {},
   "outputs": [],
   "source": [
    "df['first_start_week'] = df['first_start_date'].dt.week"
   ]
  },
  {
   "cell_type": "markdown",
   "metadata": {},
   "source": [
    "- Получу `lifetime` недельных когорт."
   ]
  },
  {
   "cell_type": "code",
   "execution_count": 47,
   "metadata": {},
   "outputs": [],
   "source": [
    "df['cohort_lifetime'] = df['event_week'] - df['first_start_week']"
   ]
  },
  {
   "cell_type": "markdown",
   "metadata": {},
   "source": [
    "- Сгруппирую данные по неделе первой сессии и `cohort_lifetime`, чтобы получить количество уникальных пользователей недельных когорт на старте и в последующие отрезки `cohort_lifetime`"
   ]
  },
  {
   "cell_type": "code",
   "execution_count": 53,
   "metadata": {},
   "outputs": [],
   "source": [
    "cohorts = (\n",
    "    df.groupby(\n",
    "        ['first_start_week', 'cohort_lifetime'], \n",
    "        as_index=False\n",
    "    ).agg({'user_id': 'nunique'})\n",
    ")"
   ]
  },
  {
   "cell_type": "code",
   "execution_count": 54,
   "metadata": {},
   "outputs": [
    {
     "data": {
      "text/html": [
       "<div>\n",
       "<style scoped>\n",
       "    .dataframe tbody tr th:only-of-type {\n",
       "        vertical-align: middle;\n",
       "    }\n",
       "\n",
       "    .dataframe tbody tr th {\n",
       "        vertical-align: top;\n",
       "    }\n",
       "\n",
       "    .dataframe thead th {\n",
       "        text-align: right;\n",
       "    }\n",
       "</style>\n",
       "<table border=\"1\" class=\"dataframe\">\n",
       "  <thead>\n",
       "    <tr style=\"text-align: right;\">\n",
       "      <th></th>\n",
       "      <th>first_start_week</th>\n",
       "      <th>cohort_lifetime</th>\n",
       "      <th>user_id</th>\n",
       "    </tr>\n",
       "  </thead>\n",
       "  <tbody>\n",
       "    <tr>\n",
       "      <td>0</td>\n",
       "      <td>41</td>\n",
       "      <td>0</td>\n",
       "      <td>1130</td>\n",
       "    </tr>\n",
       "    <tr>\n",
       "      <td>1</td>\n",
       "      <td>41</td>\n",
       "      <td>1</td>\n",
       "      <td>272</td>\n",
       "    </tr>\n",
       "    <tr>\n",
       "      <td>2</td>\n",
       "      <td>41</td>\n",
       "      <td>2</td>\n",
       "      <td>170</td>\n",
       "    </tr>\n",
       "    <tr>\n",
       "      <td>3</td>\n",
       "      <td>41</td>\n",
       "      <td>3</td>\n",
       "      <td>119</td>\n",
       "    </tr>\n",
       "    <tr>\n",
       "      <td>4</td>\n",
       "      <td>42</td>\n",
       "      <td>0</td>\n",
       "      <td>1166</td>\n",
       "    </tr>\n",
       "    <tr>\n",
       "      <td>5</td>\n",
       "      <td>42</td>\n",
       "      <td>1</td>\n",
       "      <td>282</td>\n",
       "    </tr>\n",
       "    <tr>\n",
       "      <td>6</td>\n",
       "      <td>42</td>\n",
       "      <td>2</td>\n",
       "      <td>155</td>\n",
       "    </tr>\n",
       "    <tr>\n",
       "      <td>7</td>\n",
       "      <td>43</td>\n",
       "      <td>0</td>\n",
       "      <td>1094</td>\n",
       "    </tr>\n",
       "    <tr>\n",
       "      <td>8</td>\n",
       "      <td>43</td>\n",
       "      <td>1</td>\n",
       "      <td>239</td>\n",
       "    </tr>\n",
       "    <tr>\n",
       "      <td>9</td>\n",
       "      <td>44</td>\n",
       "      <td>0</td>\n",
       "      <td>903</td>\n",
       "    </tr>\n",
       "  </tbody>\n",
       "</table>\n",
       "</div>"
      ],
      "text/plain": [
       "   first_start_week  cohort_lifetime  user_id\n",
       "0                41                0     1130\n",
       "1                41                1      272\n",
       "2                41                2      170\n",
       "3                41                3      119\n",
       "4                42                0     1166\n",
       "5                42                1      282\n",
       "6                42                2      155\n",
       "7                43                0     1094\n",
       "8                43                1      239\n",
       "9                44                0      903"
      ]
     },
     "execution_count": 54,
     "metadata": {},
     "output_type": "execute_result"
    }
   ],
   "source": [
    "cohorts"
   ]
  },
  {
   "cell_type": "markdown",
   "metadata": {},
   "source": [
    "- Получу число уникальных пользователей в когорте на момент её формирования и добавлю в таблицу `cohorts`"
   ]
  },
  {
   "cell_type": "code",
   "execution_count": 55,
   "metadata": {},
   "outputs": [],
   "source": [
    "initial_users_count = (\n",
    "    cohorts[cohorts['cohort_lifetime'] == 0][['first_start_week','user_id']]\n",
    ")"
   ]
  },
  {
   "cell_type": "code",
   "execution_count": 56,
   "metadata": {},
   "outputs": [],
   "source": [
    "initial_users_count = initial_users_count.rename(columns={'user_id':'cohort_users'})"
   ]
  },
  {
   "cell_type": "code",
   "execution_count": 57,
   "metadata": {},
   "outputs": [],
   "source": [
    "cohorts = cohorts.merge(initial_users_count, on='first_start_week')"
   ]
  },
  {
   "cell_type": "markdown",
   "metadata": {},
   "source": [
    "- Получу отношение числа пользователей по каждому месяцу к их первоначальному количеству в когорте"
   ]
  },
  {
   "cell_type": "code",
   "execution_count": 60,
   "metadata": {},
   "outputs": [],
   "source": [
    "cohorts['retention'] = cohorts['user_id'] / cohorts['cohort_users']"
   ]
  },
  {
   "cell_type": "code",
   "execution_count": 61,
   "metadata": {},
   "outputs": [
    {
     "data": {
      "text/html": [
       "<div>\n",
       "<style scoped>\n",
       "    .dataframe tbody tr th:only-of-type {\n",
       "        vertical-align: middle;\n",
       "    }\n",
       "\n",
       "    .dataframe tbody tr th {\n",
       "        vertical-align: top;\n",
       "    }\n",
       "\n",
       "    .dataframe thead th {\n",
       "        text-align: right;\n",
       "    }\n",
       "</style>\n",
       "<table border=\"1\" class=\"dataframe\">\n",
       "  <thead>\n",
       "    <tr style=\"text-align: right;\">\n",
       "      <th></th>\n",
       "      <th>first_start_week</th>\n",
       "      <th>cohort_lifetime</th>\n",
       "      <th>user_id</th>\n",
       "      <th>cohort_users</th>\n",
       "      <th>retention</th>\n",
       "    </tr>\n",
       "  </thead>\n",
       "  <tbody>\n",
       "    <tr>\n",
       "      <td>0</td>\n",
       "      <td>41</td>\n",
       "      <td>0</td>\n",
       "      <td>1130</td>\n",
       "      <td>1130</td>\n",
       "      <td>1.000000</td>\n",
       "    </tr>\n",
       "    <tr>\n",
       "      <td>1</td>\n",
       "      <td>41</td>\n",
       "      <td>1</td>\n",
       "      <td>272</td>\n",
       "      <td>1130</td>\n",
       "      <td>0.240708</td>\n",
       "    </tr>\n",
       "    <tr>\n",
       "      <td>2</td>\n",
       "      <td>41</td>\n",
       "      <td>2</td>\n",
       "      <td>170</td>\n",
       "      <td>1130</td>\n",
       "      <td>0.150442</td>\n",
       "    </tr>\n",
       "    <tr>\n",
       "      <td>3</td>\n",
       "      <td>41</td>\n",
       "      <td>3</td>\n",
       "      <td>119</td>\n",
       "      <td>1130</td>\n",
       "      <td>0.105310</td>\n",
       "    </tr>\n",
       "    <tr>\n",
       "      <td>4</td>\n",
       "      <td>42</td>\n",
       "      <td>0</td>\n",
       "      <td>1166</td>\n",
       "      <td>1166</td>\n",
       "      <td>1.000000</td>\n",
       "    </tr>\n",
       "    <tr>\n",
       "      <td>5</td>\n",
       "      <td>42</td>\n",
       "      <td>1</td>\n",
       "      <td>282</td>\n",
       "      <td>1166</td>\n",
       "      <td>0.241852</td>\n",
       "    </tr>\n",
       "    <tr>\n",
       "      <td>6</td>\n",
       "      <td>42</td>\n",
       "      <td>2</td>\n",
       "      <td>155</td>\n",
       "      <td>1166</td>\n",
       "      <td>0.132933</td>\n",
       "    </tr>\n",
       "    <tr>\n",
       "      <td>7</td>\n",
       "      <td>43</td>\n",
       "      <td>0</td>\n",
       "      <td>1094</td>\n",
       "      <td>1094</td>\n",
       "      <td>1.000000</td>\n",
       "    </tr>\n",
       "    <tr>\n",
       "      <td>8</td>\n",
       "      <td>43</td>\n",
       "      <td>1</td>\n",
       "      <td>239</td>\n",
       "      <td>1094</td>\n",
       "      <td>0.218464</td>\n",
       "    </tr>\n",
       "    <tr>\n",
       "      <td>9</td>\n",
       "      <td>44</td>\n",
       "      <td>0</td>\n",
       "      <td>903</td>\n",
       "      <td>903</td>\n",
       "      <td>1.000000</td>\n",
       "    </tr>\n",
       "  </tbody>\n",
       "</table>\n",
       "</div>"
      ],
      "text/plain": [
       "   first_start_week  cohort_lifetime  user_id  cohort_users  retention\n",
       "0                41                0     1130          1130   1.000000\n",
       "1                41                1      272          1130   0.240708\n",
       "2                41                2      170          1130   0.150442\n",
       "3                41                3      119          1130   0.105310\n",
       "4                42                0     1166          1166   1.000000\n",
       "5                42                1      282          1166   0.241852\n",
       "6                42                2      155          1166   0.132933\n",
       "7                43                0     1094          1094   1.000000\n",
       "8                43                1      239          1094   0.218464\n",
       "9                44                0      903           903   1.000000"
      ]
     },
     "execution_count": 61,
     "metadata": {},
     "output_type": "execute_result"
    }
   ],
   "source": [
    "cohorts"
   ]
  },
  {
   "cell_type": "markdown",
   "metadata": {},
   "source": [
    "- Построю сводную таблицу и тепловую карту `Retention Rate`"
   ]
  },
  {
   "cell_type": "code",
   "execution_count": 62,
   "metadata": {},
   "outputs": [],
   "source": [
    "retention_pivot = cohorts.pivot_table(\n",
    "    index='first_start_week',\n",
    "    columns='cohort_lifetime',\n",
    "    values='retention',\n",
    "    aggfunc='sum'\n",
    ")"
   ]
  },
  {
   "cell_type": "code",
   "execution_count": 64,
   "metadata": {},
   "outputs": [
    {
     "data": {
      "text/html": [
       "<div>\n",
       "<style scoped>\n",
       "    .dataframe tbody tr th:only-of-type {\n",
       "        vertical-align: middle;\n",
       "    }\n",
       "\n",
       "    .dataframe tbody tr th {\n",
       "        vertical-align: top;\n",
       "    }\n",
       "\n",
       "    .dataframe thead th {\n",
       "        text-align: right;\n",
       "    }\n",
       "</style>\n",
       "<table border=\"1\" class=\"dataframe\">\n",
       "  <thead>\n",
       "    <tr style=\"text-align: right;\">\n",
       "      <th>cohort_lifetime</th>\n",
       "      <th>0</th>\n",
       "      <th>1</th>\n",
       "      <th>2</th>\n",
       "      <th>3</th>\n",
       "    </tr>\n",
       "    <tr>\n",
       "      <th>first_start_week</th>\n",
       "      <th></th>\n",
       "      <th></th>\n",
       "      <th></th>\n",
       "      <th></th>\n",
       "    </tr>\n",
       "  </thead>\n",
       "  <tbody>\n",
       "    <tr>\n",
       "      <td>41</td>\n",
       "      <td>1.0</td>\n",
       "      <td>0.240708</td>\n",
       "      <td>0.150442</td>\n",
       "      <td>0.10531</td>\n",
       "    </tr>\n",
       "    <tr>\n",
       "      <td>42</td>\n",
       "      <td>1.0</td>\n",
       "      <td>0.241852</td>\n",
       "      <td>0.132933</td>\n",
       "      <td></td>\n",
       "    </tr>\n",
       "    <tr>\n",
       "      <td>43</td>\n",
       "      <td>1.0</td>\n",
       "      <td>0.218464</td>\n",
       "      <td></td>\n",
       "      <td></td>\n",
       "    </tr>\n",
       "    <tr>\n",
       "      <td>44</td>\n",
       "      <td>1.0</td>\n",
       "      <td></td>\n",
       "      <td></td>\n",
       "      <td></td>\n",
       "    </tr>\n",
       "  </tbody>\n",
       "</table>\n",
       "</div>"
      ],
      "text/plain": [
       "cohort_lifetime     0         1         2        3\n",
       "first_start_week                                  \n",
       "41                1.0  0.240708  0.150442  0.10531\n",
       "42                1.0  0.241852  0.132933         \n",
       "43                1.0  0.218464                   \n",
       "44                1.0                             "
      ]
     },
     "execution_count": 64,
     "metadata": {},
     "output_type": "execute_result"
    }
   ],
   "source": [
    "retention_pivot.fillna('')"
   ]
  },
  {
   "cell_type": "code",
   "execution_count": 65,
   "metadata": {},
   "outputs": [
    {
     "data": {
      "image/png": "[encoded data removed]",
      "text/plain": [
       "<Figure size 720x432 with 2 Axes>"
      ]
     },
     "metadata": {
      "needs_background": "light"
     },
     "output_type": "display_data"
    }
   ],
   "source": [
    "plt.figure(figsize=(10,6))\n",
    "plt.title('Удержание пользователей в когортах')\n",
    "sns.heatmap(\n",
    "    retention_pivot,\n",
    "    annot=True,\n",
    "    fmt='.2%',\n",
    "    linewidths=0.5,\n",
    "    linecolor='white',\n",
    "    cmap='gist_heat_r'\n",
    ")\n",
    "plt.ylabel('Недельная когорта')\n",
    "plt.show()"
   ]
  },
  {
   "cell_type": "markdown",
   "metadata": {
    "id": "flBGTCn_H9-v"
   },
   "source": [
    "### Определение числа событий в день для каждого пользователя, а также среднего, медианы и моды числа событий на одного пользователя."
   ]
  },
  {
   "cell_type": "markdown",
   "metadata": {
    "id": "H7H1gLc9H9-v"
   },
   "source": [
    "- Узнаю, сколько каждый пользователь каждый день совершил событий."
   ]
  },
  {
   "cell_type": "code",
   "execution_count": null,
   "metadata": {
    "executionInfo": {
     "elapsed": 4,
     "status": "ok",
     "timestamp": 1646211580373,
     "user": {
      "displayName": "Vadim Selin",
      "photoUrl": "https://lh3.googleusercontent.com/a-/AOh14GimRG1VQmVxfbiWveTHbWUVfAwPpou3uwYOggho=s64",
      "userId": "13742755250186020674"
     },
     "user_tz": -180
    },
    "id": "fm_gf8jpH9-v"
   },
   "outputs": [],
   "source": [
    "# events_ppd - events per user per day\n",
    "events_ppd = (\n",
    "    df.groupby(\n",
    "        ['event_day', 'user_id'], \n",
    "        as_index=False\n",
    "    ).agg({'event_name': 'count'}))"
   ]
  },
  {
   "cell_type": "code",
   "execution_count": null,
   "metadata": {
    "executionInfo": {
     "elapsed": 252,
     "status": "ok",
     "timestamp": 1646211580622,
     "user": {
      "displayName": "Vadim Selin",
      "photoUrl": "https://lh3.googleusercontent.com/a-/AOh14GimRG1VQmVxfbiWveTHbWUVfAwPpou3uwYOggho=s64",
      "userId": "13742755250186020674"
     },
     "user_tz": -180
    },
    "id": "C4VUE_P-H9-v"
   },
   "outputs": [],
   "source": [
    "events_ppd.rename(columns={'event_name': 'event_cnt'}, inplace=True)"
   ]
  },
  {
   "cell_type": "markdown",
   "metadata": {
    "id": "UB0hLhJHH9-v"
   },
   "source": [
    "- Посмотрю на распределение значений числа событий на пользователя."
   ]
  },
  {
   "cell_type": "code",
   "execution_count": null,
   "metadata": {
    "colab": {
     "base_uri": "https://localhost:8080/",
     "height": 335
    },
    "executionInfo": {
     "elapsed": 818,
     "status": "ok",
     "timestamp": 1646211581437,
     "user": {
      "displayName": "Vadim Selin",
      "photoUrl": "https://lh3.googleusercontent.com/a-/AOh14GimRG1VQmVxfbiWveTHbWUVfAwPpou3uwYOggho=s64",
      "userId": "13742755250186020674"
     },
     "user_tz": -180
    },
    "id": "2vFhYWPNH9-w",
    "outputId": "c727c80e-8d6a-482c-a302-afbcd12a7d93"
   },
   "outputs": [],
   "source": [
    "events_ppd.hist('event_cnt', bins=50, figsize=(10,5))\n",
    "plt.title('Распределение числа событий на пользователя')\n",
    "plt.show()"
   ]
  },
  {
   "cell_type": "markdown",
   "metadata": {
    "id": "IYMO9U0eH9-y"
   },
   "source": [
    "- Распределение значений числа событий на пользователя в день жирнохвостовое и перекошенное вправо\n",
    "- Посмотрю на него в пределах большинства значений, а также в цифрах `describe` и `mode`."
   ]
  },
  {
   "cell_type": "code",
   "execution_count": null,
   "metadata": {
    "colab": {
     "base_uri": "https://localhost:8080/",
     "height": 335
    },
    "executionInfo": {
     "elapsed": 387,
     "status": "ok",
     "timestamp": 1646211581821,
     "user": {
      "displayName": "Vadim Selin",
      "photoUrl": "https://lh3.googleusercontent.com/a-/AOh14GimRG1VQmVxfbiWveTHbWUVfAwPpou3uwYOggho=s64",
      "userId": "13742755250186020674"
     },
     "user_tz": -180
    },
    "id": "WLVWdGyeH9-y",
    "outputId": "82dcb2ae-15a1-4e42-ed08-19df0bf32db5"
   },
   "outputs": [],
   "source": [
    "events_ppd.hist('event_cnt', bins=50, figsize=(10,5))\n",
    "plt.xlim(0, 100)\n",
    "plt.title('Распределение числа событий на пользователя')\n",
    "plt.show()"
   ]
  },
  {
   "cell_type": "code",
   "execution_count": null,
   "metadata": {
    "colab": {
     "base_uri": "https://localhost:8080/",
     "height": 300
    },
    "executionInfo": {
     "elapsed": 276,
     "status": "ok",
     "timestamp": 1646211582095,
     "user": {
      "displayName": "Vadim Selin",
      "photoUrl": "https://lh3.googleusercontent.com/a-/AOh14GimRG1VQmVxfbiWveTHbWUVfAwPpou3uwYOggho=s64",
      "userId": "13742755250186020674"
     },
     "user_tz": -180
    },
    "id": "0Sr2xa8rH9-y",
    "outputId": "cd6b2da4-78be-46c2-d6c5-2fc1e23ebe68"
   },
   "outputs": [],
   "source": [
    "events_ppd.describe()"
   ]
  },
  {
   "cell_type": "code",
   "execution_count": null,
   "metadata": {
    "colab": {
     "base_uri": "https://localhost:8080/",
     "height": 270
    },
    "executionInfo": {
     "elapsed": 267,
     "status": "ok",
     "timestamp": 1646211582358,
     "user": {
      "displayName": "Vadim Selin",
      "photoUrl": "https://lh3.googleusercontent.com/a-/AOh14GimRG1VQmVxfbiWveTHbWUVfAwPpou3uwYOggho=s64",
      "userId": "13742755250186020674"
     },
     "user_tz": -180
    },
    "id": "yHpKpgrHQ2Ca",
    "outputId": "eb477151-2b9f-4a26-d2d2-81d30ab81c9c"
   },
   "outputs": [],
   "source": [
    "events_ppd.boxplot('event_cnt')\n",
    "plt.ylim(0, 50)\n",
    "plt.show()"
   ]
  },
  {
   "cell_type": "code",
   "execution_count": null,
   "metadata": {
    "colab": {
     "base_uri": "https://localhost:8080/"
    },
    "executionInfo": {
     "elapsed": 8,
     "status": "ok",
     "timestamp": 1646211582358,
     "user": {
      "displayName": "Vadim Selin",
      "photoUrl": "https://lh3.googleusercontent.com/a-/AOh14GimRG1VQmVxfbiWveTHbWUVfAwPpou3uwYOggho=s64",
      "userId": "13742755250186020674"
     },
     "user_tz": -180
    },
    "id": "gA9_2IrEH9-y",
    "outputId": "a37906a7-5dde-4e8a-a5fd-d8ea56c86027"
   },
   "outputs": [],
   "source": [
    "events_ppd['event_cnt'].mode()"
   ]
  },
  {
   "cell_type": "markdown",
   "metadata": {
    "id": "pLb9VCwWH9-y"
   },
   "source": [
    "- Самое частое значение числа событий `0`, \n",
    "- `75%` выборки лежит в пределах `11`\n",
    "- Всё, что больше `23` (3й квартиль + 1,5 межквартильного размаха) считаем выбросом. Проверю, какова доля этих выбросов в выборке. "
   ]
  },
  {
   "cell_type": "code",
   "execution_count": null,
   "metadata": {
    "colab": {
     "base_uri": "https://localhost:8080/"
    },
    "executionInfo": {
     "elapsed": 6,
     "status": "ok",
     "timestamp": 1646211582359,
     "user": {
      "displayName": "Vadim Selin",
      "photoUrl": "https://lh3.googleusercontent.com/a-/AOh14GimRG1VQmVxfbiWveTHbWUVfAwPpou3uwYOggho=s64",
      "userId": "13742755250186020674"
     },
     "user_tz": -180
    },
    "id": "dNJ8LIfdTBvf",
    "outputId": "49764071-804f-4128-fb08-f38e5f96b0a2"
   },
   "outputs": [],
   "source": [
    "len(events_ppd[events_ppd['event_cnt'] > 23])/len(events_ppd)"
   ]
  },
  {
   "cell_type": "markdown",
   "metadata": {
    "id": "UJ1tF3SqH9-z"
   },
   "source": [
    "- `8.6%` пользователей совершают более 23 событий в день.\n",
    "- Считаю, что среднее значение более всего характеризует поведение большинства пользователей в приложении.\n",
    "- Получу средние значения числа событий на пользователя по каждому дню и выведу их изменение на графике."
   ]
  },
  {
   "cell_type": "code",
   "execution_count": null,
   "metadata": {
    "colab": {
     "base_uri": "https://localhost:8080/",
     "height": 426
    },
    "executionInfo": {
     "elapsed": 948,
     "status": "ok",
     "timestamp": 1646211583302,
     "user": {
      "displayName": "Vadim Selin",
      "photoUrl": "https://lh3.googleusercontent.com/a-/AOh14GimRG1VQmVxfbiWveTHbWUVfAwPpou3uwYOggho=s64",
      "userId": "13742755250186020674"
     },
     "user_tz": -180
    },
    "id": "MMO78AZYH9-z",
    "outputId": "71336c04-d5bd-44d6-90bf-f1d121de4d74"
   },
   "outputs": [],
   "source": [
    "(\n",
    "    events_ppd.groupby('event_day')['event_cnt'].mean()\n",
    ".plot(ylim=0, figsize=(14,6), grid=True)\n",
    ")\n",
    "plt.title('Среднее число событий на пользователя за один день')\n",
    "plt.ylabel('Количество визитов')\n",
    "plt.xlabel('Дата')\n",
    "plt.show()"
   ]
  },
  {
   "cell_type": "markdown",
   "metadata": {
    "id": "0mqIwRzOH9-z"
   },
   "source": [
    "- Среднее число событий на пользователя в день колеблется преимущественно между 8 и 12 событиями.\n",
    "- Над этой метрикой имеет смысл работать, если от неё зависит число просмотров контактов, что я выясню далее."
   ]
  },
  {
   "cell_type": "markdown",
   "metadata": {
    "id": "iWRk4AdcH9-z"
   },
   "source": [
    "### Посмотреть на распределение числа событий (`hist`, `boxplot`) в разрезе групп."
   ]
  },
  {
   "cell_type": "markdown",
   "metadata": {
    "id": "Ua1GyMccZ3e-"
   },
   "source": [
    "- Выделю пользователей, для которых событие `tips_click` наступало. "
   ]
  },
  {
   "cell_type": "code",
   "execution_count": null,
   "metadata": {
    "executionInfo": {
     "elapsed": 236,
     "status": "ok",
     "timestamp": 1646211851844,
     "user": {
      "displayName": "Vadim Selin",
      "photoUrl": "https://lh3.googleusercontent.com/a-/AOh14GimRG1VQmVxfbiWveTHbWUVfAwPpou3uwYOggho=s64",
      "userId": "13742755250186020674"
     },
     "user_tz": -180
    },
    "id": "lfPD8ile3P9e"
   },
   "outputs": [],
   "source": [
    "users_tips_click = pd.Series(df[df['event_name'] == 'tips_click']['user_id'].unique())"
   ]
  },
  {
   "cell_type": "markdown",
   "metadata": {
    "id": "BfCSYeQD5ekL"
   },
   "source": [
    "- Для проверки разделения выделю пользователей, для которых наступало только событие `tips_show`."
   ]
  },
  {
   "cell_type": "code",
   "execution_count": null,
   "metadata": {
    "executionInfo": {
     "elapsed": 258,
     "status": "ok",
     "timestamp": 1646213382004,
     "user": {
      "displayName": "Vadim Selin",
      "photoUrl": "https://lh3.googleusercontent.com/a-/AOh14GimRG1VQmVxfbiWveTHbWUVfAwPpou3uwYOggho=s64",
      "userId": "13742755250186020674"
     },
     "user_tz": -180
    },
    "id": "QfNXz_yV33KV"
   },
   "outputs": [],
   "source": [
    "users_tips_show_only = (\n",
    "    pd.Series(df[~df['user_id']\n",
    "                 .isin(users_tips_click)]['user_id']\n",
    "              .unique())\n",
    "    )"
   ]
  },
  {
   "cell_type": "code",
   "execution_count": null,
   "metadata": {
    "colab": {
     "base_uri": "https://localhost:8080/"
    },
    "executionInfo": {
     "elapsed": 244,
     "status": "ok",
     "timestamp": 1646213210753,
     "user": {
      "displayName": "Vadim Selin",
      "photoUrl": "https://lh3.googleusercontent.com/a-/AOh14GimRG1VQmVxfbiWveTHbWUVfAwPpou3uwYOggho=s64",
      "userId": "13742755250186020674"
     },
     "user_tz": -180
    },
    "id": "TuCpbtcq4vNk",
    "outputId": "e82b5aa0-bb54-4e5c-ac14-0087a1405492"
   },
   "outputs": [],
   "source": [
    "len(users_tips_show_only) + len(users_tips_click)"
   ]
  },
  {
   "cell_type": "code",
   "execution_count": null,
   "metadata": {
    "colab": {
     "base_uri": "https://localhost:8080/"
    },
    "executionInfo": {
     "elapsed": 1,
     "status": "ok",
     "timestamp": 1646213211800,
     "user": {
      "displayName": "Vadim Selin",
      "photoUrl": "https://lh3.googleusercontent.com/a-/AOh14GimRG1VQmVxfbiWveTHbWUVfAwPpou3uwYOggho=s64",
      "userId": "13742755250186020674"
     },
     "user_tz": -180
    },
    "id": "56mzwCxFH9-z",
    "outputId": "77301c26-d0e1-4ad2-b34e-238f16d57d20"
   },
   "outputs": [],
   "source": [
    "df['user_id'].nunique()"
   ]
  },
  {
   "cell_type": "markdown",
   "metadata": {
    "id": "xtDn8UOK75JD"
   },
   "source": [
    "- Никого не потерял.\n",
    "- Теперь разделю исходный датасет по этим пользователям."
   ]
  },
  {
   "cell_type": "code",
   "execution_count": null,
   "metadata": {
    "executionInfo": {
     "elapsed": 233,
     "status": "ok",
     "timestamp": 1646213110221,
     "user": {
      "displayName": "Vadim Selin",
      "photoUrl": "https://lh3.googleusercontent.com/a-/AOh14GimRG1VQmVxfbiWveTHbWUVfAwPpou3uwYOggho=s64",
      "userId": "13742755250186020674"
     },
     "user_tz": -180
    },
    "id": "9TDlkzTt8OK6"
   },
   "outputs": [],
   "source": [
    "df_click = df[df['user_id'].isin(users_tips_click)]"
   ]
  },
  {
   "cell_type": "code",
   "execution_count": null,
   "metadata": {
    "executionInfo": {
     "elapsed": 242,
     "status": "ok",
     "timestamp": 1646213127861,
     "user": {
      "displayName": "Vadim Selin",
      "photoUrl": "https://lh3.googleusercontent.com/a-/AOh14GimRG1VQmVxfbiWveTHbWUVfAwPpou3uwYOggho=s64",
      "userId": "13742755250186020674"
     },
     "user_tz": -180
    },
    "id": "eRSimnqP8PDi"
   },
   "outputs": [],
   "source": [
    "df_show = df[~df['user_id'].isin(users_tips_click)]"
   ]
  },
  {
   "cell_type": "code",
   "execution_count": null,
   "metadata": {
    "colab": {
     "base_uri": "https://localhost:8080/"
    },
    "executionInfo": {
     "elapsed": 2,
     "status": "ok",
     "timestamp": 1646213152850,
     "user": {
      "displayName": "Vadim Selin",
      "photoUrl": "https://lh3.googleusercontent.com/a-/AOh14GimRG1VQmVxfbiWveTHbWUVfAwPpou3uwYOggho=s64",
      "userId": "13742755250186020674"
     },
     "user_tz": -180
    },
    "id": "gLp--Wgi8PUq",
    "outputId": "c8787f0d-592e-4969-c489-fbc1c49056b7"
   },
   "outputs": [],
   "source": [
    "len(df_click) + len(df_show)"
   ]
  },
  {
   "cell_type": "code",
   "execution_count": null,
   "metadata": {
    "colab": {
     "base_uri": "https://localhost:8080/"
    },
    "executionInfo": {
     "elapsed": 234,
     "status": "ok",
     "timestamp": 1646213165926,
     "user": {
      "displayName": "Vadim Selin",
      "photoUrl": "https://lh3.googleusercontent.com/a-/AOh14GimRG1VQmVxfbiWveTHbWUVfAwPpou3uwYOggho=s64",
      "userId": "13742755250186020674"
     },
     "user_tz": -180
    },
    "id": "xywRJ79M81cD",
    "outputId": "a7548440-e2b0-4cba-c708-7fa9ce7e5b13"
   },
   "outputs": [],
   "source": [
    "df.shape[0]"
   ]
  },
  {
   "cell_type": "markdown",
   "metadata": {
    "id": "QULenIyzA6rq"
   },
   "source": [
    "- Все события остались на месте после разделения датасета.\n",
    "- Определю число событий на пользователя в день для каждой группы\n",
    "- Посмотрю их распределения, их отличия, если есть."
   ]
  },
  {
   "cell_type": "code",
   "execution_count": null,
   "metadata": {
    "executionInfo": {
     "elapsed": 286,
     "status": "ok",
     "timestamp": 1646215810531,
     "user": {
      "displayName": "Vadim Selin",
      "photoUrl": "https://lh3.googleusercontent.com/a-/AOh14GimRG1VQmVxfbiWveTHbWUVfAwPpou3uwYOggho=s64",
      "userId": "13742755250186020674"
     },
     "user_tz": -180
    },
    "id": "Ak0FdqJ7GDIx"
   },
   "outputs": [],
   "source": [
    "# events_ppd_сlick - events per user per day who clicked\n",
    "events_ppd_click = (\n",
    "    df_click.groupby(\n",
    "        ['event_day', 'user_id'], \n",
    "        as_index=False\n",
    "    ).agg({'event_name': 'count'}))"
   ]
  },
  {
   "cell_type": "code",
   "execution_count": null,
   "metadata": {
    "executionInfo": {
     "elapsed": 1,
     "status": "ok",
     "timestamp": 1646215813281,
     "user": {
      "displayName": "Vadim Selin",
      "photoUrl": "https://lh3.googleusercontent.com/a-/AOh14GimRG1VQmVxfbiWveTHbWUVfAwPpou3uwYOggho=s64",
      "userId": "13742755250186020674"
     },
     "user_tz": -180
    },
    "id": "_DuYafH0GDIx"
   },
   "outputs": [],
   "source": [
    "events_ppd_click.rename(columns={'event_name': 'event_cnt'}, inplace=True)"
   ]
  },
  {
   "cell_type": "code",
   "execution_count": null,
   "metadata": {
    "executionInfo": {
     "elapsed": 286,
     "status": "ok",
     "timestamp": 1646215879487,
     "user": {
      "displayName": "Vadim Selin",
      "photoUrl": "https://lh3.googleusercontent.com/a-/AOh14GimRG1VQmVxfbiWveTHbWUVfAwPpou3uwYOggho=s64",
      "userId": "13742755250186020674"
     },
     "user_tz": -180
    },
    "id": "kv4Qyh8HA_dh"
   },
   "outputs": [],
   "source": [
    "# events_ppd_show - events per user per day who seen\n",
    "events_ppd_show = (\n",
    "    df_show.groupby(\n",
    "        ['event_day', 'user_id'], \n",
    "        as_index=False\n",
    "    ).agg({'event_name': 'count'}))"
   ]
  },
  {
   "cell_type": "code",
   "execution_count": null,
   "metadata": {
    "executionInfo": {
     "elapsed": 2,
     "status": "ok",
     "timestamp": 1646215880674,
     "user": {
      "displayName": "Vadim Selin",
      "photoUrl": "https://lh3.googleusercontent.com/a-/AOh14GimRG1VQmVxfbiWveTHbWUVfAwPpou3uwYOggho=s64",
      "userId": "13742755250186020674"
     },
     "user_tz": -180
    },
    "id": "FoztjUNWA_ph"
   },
   "outputs": [],
   "source": [
    "events_ppd_show.rename(columns={'event_name': 'event_cnt'}, inplace=True)"
   ]
  },
  {
   "cell_type": "code",
   "execution_count": null,
   "metadata": {
    "colab": {
     "base_uri": "https://localhost:8080/",
     "height": 404
    },
    "executionInfo": {
     "elapsed": 1121,
     "status": "ok",
     "timestamp": 1646220721472,
     "user": {
      "displayName": "Vadim Selin",
      "photoUrl": "https://lh3.googleusercontent.com/a-/AOh14GimRG1VQmVxfbiWveTHbWUVfAwPpou3uwYOggho=s64",
      "userId": "13742755250186020674"
     },
     "user_tz": -180
    },
    "id": "E8vrbtA1HPpY",
    "outputId": "7cad4fcd-44f1-4d3c-a662-e1452b0862cf"
   },
   "outputs": [],
   "source": [
    "plt.figure(figsize=(10,6))\n",
    "fig = sns.histplot(events_ppd_click['event_cnt'], element='step', color='red', alpha=0.5)\n",
    "fig = sns.histplot(events_ppd_show['event_cnt'], element='step', color='green', alpha=0.2)\n",
    "fig.legend(\n",
    "    labels=['tips_click', 'tips_show_only'], \n",
    "    loc='upper right'\n",
    "    )\n",
    "plt.title('Распределение числа событий на пользователя')\n",
    "plt.xlim(0, 60)\n",
    "plt.show()"
   ]
  },
  {
   "cell_type": "markdown",
   "metadata": {
    "id": "g7agKyhdHQQA"
   },
   "source": [
    "- Оба распределения перекошены вправо как исходный датасет.\n",
    "- Но видно, что относительная доля пользователей, совершающих ежедневно больше событий, в группе `tips_click` больше, чем в группе `tips_show_only`.\n",
    "- Чтобы нагляднее отразить эту разницу выведу `boxplot` для обеих групп."
   ]
  },
  {
   "cell_type": "code",
   "execution_count": null,
   "metadata": {
    "colab": {
     "base_uri": "https://localhost:8080/",
     "height": 584
    },
    "executionInfo": {
     "elapsed": 1452,
     "status": "ok",
     "timestamp": 1646222366260,
     "user": {
      "displayName": "Vadim Selin",
      "photoUrl": "https://lh3.googleusercontent.com/a-/AOh14GimRG1VQmVxfbiWveTHbWUVfAwPpou3uwYOggho=s64",
      "userId": "13742755250186020674"
     },
     "user_tz": -180
    },
    "id": "MzpEyxpOHQmQ",
    "outputId": "e17560ae-9d1d-4ff3-c96f-658b787fed65"
   },
   "outputs": [],
   "source": [
    "fig = plt.figure(figsize=(7,8))\n",
    "ax1 = fig.add_subplot(2,1,1)\n",
    "ax2 = fig.add_subplot(2,1,2)\n",
    "sns.boxplot(x=events_ppd_click['event_cnt'], color='red', saturation=0.5, ax=ax1)\n",
    "sns.boxplot(x=events_ppd_show['event_cnt'], color='blue', saturation=0.1, ax=ax2)\n",
    "ax1.set_title('tips_click')\n",
    "ax2.set_title('tips_show_only')\n",
    "ax1.set_xlim([0, 50])\n",
    "ax2.set_xlim([0, 50])\n",
    "fig.tight_layout()"
   ]
  },
  {
   "cell_type": "markdown",
   "metadata": {
    "id": "dEtWQ6uXykCk"
   },
   "source": [
    "- Данные графики явно говорят о том, что алгоритм рекоммендаций чаще побуждает к просмотру рекоммендованных объявлений тех пользователей, которые ежедневно совершают больше событий.\n",
    "- Вероятно, эта же группа впоследствии лучше конвертируется в `contacts_show`.\n",
    "- В ходе проверки основной статистической гипотезу выясню это."
   ]
  },
  {
   "cell_type": "markdown",
   "metadata": {
    "id": "ms8-5iZfH9-z"
   },
   "source": [
    "### Рассчитать конверсию в целевое действие. Изучить конверсию всех событий и оценить, какие из них влияют на совершение целевого действия."
   ]
  },
  {
   "cell_type": "markdown",
   "metadata": {
    "id": "wACy2kjlH9-z"
   },
   "source": [
    "<div class=\"alert alert-info\" role=\"alert\">\n",
    "    \n",
    "    \n",
    "__Комментарий от студента №2__\n",
    "    \n",
    "Вот тут у меня жирный вопрос. Я понимаю задачу определения связи событий с целевым действием так: получить конверсию в целевое, затем посмотреть, какие события чаще совершали пользователи !!ДО совершения целевого действия!! Я на правильном пути или же это поворот не туда?\n",
    "</div>"
   ]
  },
  {
   "cell_type": "markdown",
   "metadata": {
    "id": "zoNGQTmDH9-0"
   },
   "source": [
    "<div class=\"alert alert-success\" style=\"border-radius: 15px; box-shadow: 4px 4px 4px; border: 1px solid \" > <b>Комментарии от ревьюера v2 ✔️ : </b> \n",
    "\n",
    "Достаточно просто расчитать конверсию, но можешь посмотреть какие действия эти пользователи совершали еще. Только не путай расчет частоты действий и конверсию\n",
    "</div>"
   ]
  },
  {
   "cell_type": "markdown",
   "metadata": {
    "id": "P16C0WR3H9-0"
   },
   "source": [
    "<div class=\"alert alert-info\" role=\"alert\">\n",
    "    \n",
    "    \n",
    "__Комментарий от студента №2__\n",
    "    \n",
    "Добавил пункты с рассчётом продуктовых метрик. Не указал их изначально. Такой вопрос ещё: Нам для задачи apps_01 вообще нужен файл с источниками? Он был бы нужен при рассчёте маркетинговых метрик, но для определения связи событий с целевым действием не вижу его смысла.🤷🏻‍♂️\n",
    "</div>"
   ]
  },
  {
   "cell_type": "markdown",
   "metadata": {
    "id": "I2S7C8RMH9-0"
   },
   "source": [
    "<div class=\"alert alert-success\" style=\"border-radius: 15px; box-shadow: 4px 4px 4px; border: 1px solid \" > <b>Комментарии от ревьюера v2 ✔️ : </b> \n",
    "\n",
    "Для главного исследования нет. Но можно добавить как пункт общего анализа приложения\n",
    "</div>"
   ]
  },
  {
   "cell_type": "markdown",
   "metadata": {
    "id": "b_Q8d9fJH9-3"
   },
   "source": [
    "<div class=\"alert alert-info\" role=\"alert\">\n",
    "    \n",
    "    \n",
    "__Комментарий от студента №2__\n",
    "    \n",
    "Исправил пункты про изучение воронки    \n",
    "</div>"
   ]
  },
  {
   "cell_type": "markdown",
   "metadata": {
    "id": "Yr9tsbCpH9-3"
   },
   "source": [
    "## Изучить основные сценарии поведения пользователей до совершения целевого действия. "
   ]
  },
  {
   "cell_type": "markdown",
   "metadata": {
    "id": "74Xje5E-H9-3"
   },
   "source": [
    "### Выбрать пользователей, совершивших целевое действие."
   ]
  },
  {
   "cell_type": "markdown",
   "metadata": {
    "id": "epY-Xv0WH9-3"
   },
   "source": [
    "### Отфильтровать два последних действия до целевого для выбранных пользователей. "
   ]
  },
  {
   "cell_type": "markdown",
   "metadata": {
    "id": "CT5PzGSKH9-3"
   },
   "source": [
    "### Выделить наиболее часто встречающиеся события до совершения целевого действия."
   ]
  },
  {
   "cell_type": "markdown",
   "metadata": {
    "id": "2NlaZGgiH9-3"
   },
   "source": [
    "### Выделить наиболее частые сценнарии из двух событий до совершения целевого действия."
   ]
  },
  {
   "cell_type": "markdown",
   "metadata": {
    "id": "HAEBoPxgH9-4"
   },
   "source": [
    "## Изучить различия конверсии в целевое действие по группам (кто совершил `tips_click` и нет) с помощью статистического теста для пропорций `proportions_ztest` из библиотеки `statsmodels`:"
   ]
  },
  {
   "cell_type": "markdown",
   "metadata": {
    "id": "8nOE2VhyH9-4"
   },
   "source": [
    "###  Сформулировать нулевую и альтернативную гипотезы"
   ]
  },
  {
   "cell_type": "markdown",
   "metadata": {
    "id": "j4h2xoGIH9-4"
   },
   "source": [
    "### Подготовить выборки для статистического теста."
   ]
  },
  {
   "cell_type": "markdown",
   "metadata": {
    "id": "KkkbSKIeH9-4"
   },
   "source": [
    "### Задать alpha."
   ]
  },
  {
   "cell_type": "markdown",
   "metadata": {
    "id": "td0vBsCwH9-4"
   },
   "source": [
    "### Рассчитать `p-value` для сравниваемых конверсий в целевое действие."
   ]
  },
  {
   "cell_type": "markdown",
   "metadata": {
    "id": "gwOqF5tCH9-4"
   },
   "source": [
    "## Проверить собственную статистическую гипотезу о неравенстве конверсии в звонок для тех, кто просматривал фото в объявлении и нет. \n",
    "---\n",
    "Алгоритм и инструменты проверки такой же как в предыдущем разделе."
   ]
  },
  {
   "cell_type": "markdown",
   "metadata": {
    "id": "QZdiiD07H9-4"
   },
   "source": [
    "## Сделать общий вывод о том, какие события связаны с совершением целевого действия. \n",
    "---\n",
    "На основании этого сформулировать предложение о том, какие разделы стоит развивать (как именно это можно сделать), а какие, возможно, стоит исключить из приложения."
   ]
  },
  {
   "cell_type": "markdown",
   "metadata": {
    "id": "JVB9XZSiH9-4"
   },
   "source": [
    "<div class=\"alert alert-danger\" style=\"border-radius: 15px; box-shadow: 4px 4px 4px; border: 1px solid \" > <b>Комментарии от ревьюера ❌ : </b> \n",
    "\n",
    "<s>Спасибо за декомпозицию! По поводу общей структуры замечаний нет, но по некоторым пунктам есть рекомендации:\n",
    "    \n",
    "1. По поводу воронки, на созвоне, я говорил, что в приложении много точек входа до целевого события, поэтому общую воронку нет смысла рассматривать. Но можно например посмотреть определенные сценарии поведения на последовательности трех действий\n",
    "    \n",
    "2. Не увидел расчет конверсии действий в целевое в исследовательской части. Твоя задача проверить все события и сделать вывод какие работают, а какие нет.\n",
    "    \n",
    "3. Скорей всего из за общих формулировок пунктов, но проверь чтобы в наличии был анализ DAU\\WAU и retention rate в проекте\n",
    "    \n",
    "4. Не совсем понятен пункт 3.7. Для чего это разделение?\n",
    "    \n",
    "    \n",
    "Доработай эти моменты пожалуйста\n",
    "</div>"
   ]
  }
 ],
 "metadata": {
  "colab": {
   "collapsed_sections": [],
   "name": "final_project_reviwed (2).ipynb",
   "provenance": []
  },
  "kernelspec": {
   "display_name": "Python 3",
   "language": "python",
   "name": "python3"
  },
  "language_info": {
   "codemirror_mode": {
    "name": "ipython",
    "version": 3
   },
   "file_extension": ".py",
   "mimetype": "text/x-python",
   "name": "python",
   "nbconvert_exporter": "python",
   "pygments_lexer": "ipython3",
   "version": "3.7.12"
  },
  "toc": {
   "base_numbering": 1,
   "nav_menu": {},
   "number_sections": true,
   "sideBar": true,
   "skip_h1_title": true,
   "title_cell": "Table of Contents",
   "title_sidebar": "Contents",
   "toc_cell": false,
   "toc_position": {
    "height": "calc(100% - 180px)",
    "left": "10px",
    "top": "150px",
    "width": "217.834px"
   },
   "toc_section_display": true,
   "toc_window_display": true
  }
 },
 "nbformat": 4,
 "nbformat_minor": 1
}
