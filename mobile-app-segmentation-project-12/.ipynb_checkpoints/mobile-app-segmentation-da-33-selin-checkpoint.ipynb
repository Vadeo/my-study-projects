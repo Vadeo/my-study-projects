{
 "cells": [
  {
   "cell_type": "markdown",
   "id": "b0042d05",
   "metadata": {},
   "source": [
    "# Выделение групп пользователей мобильного приложения на основе поведения"
   ]
  },
  {
   "cell_type": "markdown",
   "id": "CnnCm0C_W8eK",
   "metadata": {
    "id": "CnnCm0C_W8eK"
   },
   "source": [
    "**Материалы по проекту**\n",
    "\n",
    "---\n",
    "\n",
    "[Краткая презентация по проекту](https://disk.yandex.ru/i/Gtox0GpHTYe_Yw)  \n",
    "[Дашборд по проекту](https://public.tableau.com/views/practicum_da_33_selin_dashboard_set_2/Dashboardset2?:language=en-US&publish=yes&:display_count=n&:origin=viz_share_link)\n",
    "\n",
    "---"
   ]
  },
  {
   "cell_type": "markdown",
   "id": "4b6b0e82",
   "metadata": {
    "id": "4b6b0e82"
   },
   "source": [
    "# Загрузка данных и библиотек для их обработки."
   ]
  },
  {
   "cell_type": "code",
   "execution_count": 1,
   "id": "Bg5jY96tfrah",
   "metadata": {
    "colab": {
     "base_uri": "https://localhost:8080/"
    },
    "executionInfo": {
     "elapsed": 311,
     "status": "ok",
     "timestamp": 1650538993765,
     "user": {
      "displayName": "Vadim Selin",
      "userId": "13742755250186020674"
     },
     "user_tz": -180
    },
    "id": "Bg5jY96tfrah",
    "outputId": "9e4f3c49-bccf-452b-d256-98f4ac4b5874"
   },
   "outputs": [],
   "source": [
    "import pandas as pd\n",
    "import numpy as np\n",
    "import seaborn as sns\n",
    "import matplotlib.pyplot as plt\n",
    "from statsmodels.stats.proportion import proportions_ztest\n",
    "from sklearn.preprocessing import StandardScaler\n",
    "from scipy.cluster.hierarchy import dendrogram, linkage\n",
    "from sklearn.cluster import KMeans"
   ]
  },
  {
   "cell_type": "code",
   "execution_count": 2,
   "id": "ca-ELH1UgF6Q",
   "metadata": {
    "executionInfo": {
     "elapsed": 23,
     "status": "ok",
     "timestamp": 1650538998743,
     "user": {
      "displayName": "Vadim Selin",
      "userId": "13742755250186020674"
     },
     "user_tz": -180
    },
    "id": "ca-ELH1UgF6Q"
   },
   "outputs": [],
   "source": [
    "df = pd.read_csv('mobile_dataset.csv')"
   ]
  },
  {
   "cell_type": "code",
   "execution_count": 3,
   "id": "ZXdmtojOgMvg",
   "metadata": {
    "executionInfo": {
     "elapsed": 23,
     "status": "ok",
     "timestamp": 1650538998743,
     "user": {
      "displayName": "Vadim Selin",
      "userId": "13742755250186020674"
     },
     "user_tz": -180
    },
    "id": "ZXdmtojOgMvg"
   },
   "outputs": [],
   "source": [
    "src = pd.read_csv('mobile_soures.csv')"
   ]
  },
  {
   "cell_type": "code",
   "execution_count": 4,
   "id": "ap_1ZQ22gT7I",
   "metadata": {
    "colab": {
     "base_uri": "https://localhost:8080/",
     "height": 206
    },
    "executionInfo": {
     "elapsed": 23,
     "status": "ok",
     "timestamp": 1650538998744,
     "user": {
      "displayName": "Vadim Selin",
      "userId": "13742755250186020674"
     },
     "user_tz": -180
    },
    "id": "ap_1ZQ22gT7I",
    "outputId": "712e5515-e0db-4061-934b-edfeec66e804"
   },
   "outputs": [
    {
     "data": {
      "text/html": [
       "<div>\n",
       "<style scoped>\n",
       "    .dataframe tbody tr th:only-of-type {\n",
       "        vertical-align: middle;\n",
       "    }\n",
       "\n",
       "    .dataframe tbody tr th {\n",
       "        vertical-align: top;\n",
       "    }\n",
       "\n",
       "    .dataframe thead th {\n",
       "        text-align: right;\n",
       "    }\n",
       "</style>\n",
       "<table border=\"1\" class=\"dataframe\">\n",
       "  <thead>\n",
       "    <tr style=\"text-align: right;\">\n",
       "      <th></th>\n",
       "      <th>event.time</th>\n",
       "      <th>event.name</th>\n",
       "      <th>user.id</th>\n",
       "    </tr>\n",
       "  </thead>\n",
       "  <tbody>\n",
       "    <tr>\n",
       "      <th>0</th>\n",
       "      <td>2019-10-07 00:00:00.431357</td>\n",
       "      <td>advert_open</td>\n",
       "      <td>020292ab-89bc-4156-9acf-68bc2783f894</td>\n",
       "    </tr>\n",
       "    <tr>\n",
       "      <th>1</th>\n",
       "      <td>2019-10-07 00:00:01.236320</td>\n",
       "      <td>tips_show</td>\n",
       "      <td>020292ab-89bc-4156-9acf-68bc2783f894</td>\n",
       "    </tr>\n",
       "    <tr>\n",
       "      <th>2</th>\n",
       "      <td>2019-10-07 00:00:02.245341</td>\n",
       "      <td>tips_show</td>\n",
       "      <td>cf7eda61-9349-469f-ac27-e5b6f5ec475c</td>\n",
       "    </tr>\n",
       "    <tr>\n",
       "      <th>3</th>\n",
       "      <td>2019-10-07 00:00:07.039334</td>\n",
       "      <td>tips_show</td>\n",
       "      <td>020292ab-89bc-4156-9acf-68bc2783f894</td>\n",
       "    </tr>\n",
       "    <tr>\n",
       "      <th>4</th>\n",
       "      <td>2019-10-07 00:00:56.319813</td>\n",
       "      <td>advert_open</td>\n",
       "      <td>cf7eda61-9349-469f-ac27-e5b6f5ec475c</td>\n",
       "    </tr>\n",
       "  </tbody>\n",
       "</table>\n",
       "</div>"
      ],
      "text/plain": [
       "                   event.time   event.name  \\\n",
       "0  2019-10-07 00:00:00.431357  advert_open   \n",
       "1  2019-10-07 00:00:01.236320    tips_show   \n",
       "2  2019-10-07 00:00:02.245341    tips_show   \n",
       "3  2019-10-07 00:00:07.039334    tips_show   \n",
       "4  2019-10-07 00:00:56.319813  advert_open   \n",
       "\n",
       "                                user.id  \n",
       "0  020292ab-89bc-4156-9acf-68bc2783f894  \n",
       "1  020292ab-89bc-4156-9acf-68bc2783f894  \n",
       "2  cf7eda61-9349-469f-ac27-e5b6f5ec475c  \n",
       "3  020292ab-89bc-4156-9acf-68bc2783f894  \n",
       "4  cf7eda61-9349-469f-ac27-e5b6f5ec475c  "
      ]
     },
     "execution_count": 4,
     "metadata": {},
     "output_type": "execute_result"
    }
   ],
   "source": [
    "df.head()"
   ]
  },
  {
   "cell_type": "code",
   "execution_count": 5,
   "id": "Sb6CLE-ggUM4",
   "metadata": {
    "colab": {
     "base_uri": "https://localhost:8080/",
     "height": 206
    },
    "executionInfo": {
     "elapsed": 23,
     "status": "ok",
     "timestamp": 1650538998744,
     "user": {
      "displayName": "Vadim Selin",
      "userId": "13742755250186020674"
     },
     "user_tz": -180
    },
    "id": "Sb6CLE-ggUM4",
    "outputId": "e6b280f3-ba33-465f-ba72-01f28f8b026a"
   },
   "outputs": [
    {
     "data": {
      "text/html": [
       "<div>\n",
       "<style scoped>\n",
       "    .dataframe tbody tr th:only-of-type {\n",
       "        vertical-align: middle;\n",
       "    }\n",
       "\n",
       "    .dataframe tbody tr th {\n",
       "        vertical-align: top;\n",
       "    }\n",
       "\n",
       "    .dataframe thead th {\n",
       "        text-align: right;\n",
       "    }\n",
       "</style>\n",
       "<table border=\"1\" class=\"dataframe\">\n",
       "  <thead>\n",
       "    <tr style=\"text-align: right;\">\n",
       "      <th></th>\n",
       "      <th>userId</th>\n",
       "      <th>source</th>\n",
       "    </tr>\n",
       "  </thead>\n",
       "  <tbody>\n",
       "    <tr>\n",
       "      <th>0</th>\n",
       "      <td>020292ab-89bc-4156-9acf-68bc2783f894</td>\n",
       "      <td>other</td>\n",
       "    </tr>\n",
       "    <tr>\n",
       "      <th>1</th>\n",
       "      <td>cf7eda61-9349-469f-ac27-e5b6f5ec475c</td>\n",
       "      <td>yandex</td>\n",
       "    </tr>\n",
       "    <tr>\n",
       "      <th>2</th>\n",
       "      <td>8c356c42-3ba9-4cb6-80b8-3f868d0192c3</td>\n",
       "      <td>yandex</td>\n",
       "    </tr>\n",
       "    <tr>\n",
       "      <th>3</th>\n",
       "      <td>d9b06b47-0f36-419b-bbb0-3533e582a6cb</td>\n",
       "      <td>other</td>\n",
       "    </tr>\n",
       "    <tr>\n",
       "      <th>4</th>\n",
       "      <td>f32e1e2a-3027-4693-b793-b7b3ff274439</td>\n",
       "      <td>google</td>\n",
       "    </tr>\n",
       "  </tbody>\n",
       "</table>\n",
       "</div>"
      ],
      "text/plain": [
       "                                 userId  source\n",
       "0  020292ab-89bc-4156-9acf-68bc2783f894   other\n",
       "1  cf7eda61-9349-469f-ac27-e5b6f5ec475c  yandex\n",
       "2  8c356c42-3ba9-4cb6-80b8-3f868d0192c3  yandex\n",
       "3  d9b06b47-0f36-419b-bbb0-3533e582a6cb   other\n",
       "4  f32e1e2a-3027-4693-b793-b7b3ff274439  google"
      ]
     },
     "execution_count": 5,
     "metadata": {},
     "output_type": "execute_result"
    }
   ],
   "source": [
    "src.head()"
   ]
  },
  {
   "cell_type": "markdown",
   "id": "c6646db0",
   "metadata": {
    "id": "c6646db0"
   },
   "source": [
    "# Предобработка."
   ]
  },
  {
   "cell_type": "markdown",
   "id": "h1PUi0xhgzrw",
   "metadata": {
    "id": "h1PUi0xhgzrw"
   },
   "source": [
    "## Поменяю названия полей и присоединю информацию об источниках к основному датасету `df`"
   ]
  },
  {
   "cell_type": "code",
   "execution_count": 6,
   "id": "gkv8dGDcgz8Q",
   "metadata": {
    "executionInfo": {
     "elapsed": 22,
     "status": "ok",
     "timestamp": 1650538998744,
     "user": {
      "displayName": "Vadim Selin",
      "userId": "13742755250186020674"
     },
     "user_tz": -180
    },
    "id": "gkv8dGDcgz8Q"
   },
   "outputs": [],
   "source": [
    "df.columns = ['event_time', 'event_name', 'user_id']"
   ]
  },
  {
   "cell_type": "code",
   "execution_count": 7,
   "id": "nG2u4Vazg0LY",
   "metadata": {
    "executionInfo": {
     "elapsed": 23,
     "status": "ok",
     "timestamp": 1650538998745,
     "user": {
      "displayName": "Vadim Selin",
      "userId": "13742755250186020674"
     },
     "user_tz": -180
    },
    "id": "nG2u4Vazg0LY"
   },
   "outputs": [],
   "source": [
    "src.rename(columns={'userId': 'user_id'}, inplace=True)"
   ]
  },
  {
   "cell_type": "code",
   "execution_count": 8,
   "id": "dAjmTO6OhfnA",
   "metadata": {
    "colab": {
     "base_uri": "https://localhost:8080/"
    },
    "executionInfo": {
     "elapsed": 22,
     "status": "ok",
     "timestamp": 1650538998745,
     "user": {
      "displayName": "Vadim Selin",
      "userId": "13742755250186020674"
     },
     "user_tz": -180
    },
    "id": "dAjmTO6OhfnA",
    "outputId": "02e1ef8e-2d38-4806-c0cc-a2c1c203f9eb"
   },
   "outputs": [
    {
     "data": {
      "text/plain": [
       "4293"
      ]
     },
     "execution_count": 8,
     "metadata": {},
     "output_type": "execute_result"
    }
   ],
   "source": [
    "df['user_id'].nunique()"
   ]
  },
  {
   "cell_type": "code",
   "execution_count": 9,
   "id": "GPOrxSCYhsNA",
   "metadata": {
    "colab": {
     "base_uri": "https://localhost:8080/"
    },
    "executionInfo": {
     "elapsed": 18,
     "status": "ok",
     "timestamp": 1650538998745,
     "user": {
      "displayName": "Vadim Selin",
      "userId": "13742755250186020674"
     },
     "user_tz": -180
    },
    "id": "GPOrxSCYhsNA",
    "outputId": "44991244-9b72-479e-c402-ed47abac6953"
   },
   "outputs": [
    {
     "data": {
      "text/plain": [
       "4293"
      ]
     },
     "execution_count": 9,
     "metadata": {},
     "output_type": "execute_result"
    }
   ],
   "source": [
    "src['user_id'].nunique()"
   ]
  },
  {
   "cell_type": "code",
   "execution_count": 10,
   "id": "jw7UMQWThxlv",
   "metadata": {
    "executionInfo": {
     "elapsed": 15,
     "status": "ok",
     "timestamp": 1650538998745,
     "user": {
      "displayName": "Vadim Selin",
      "userId": "13742755250186020674"
     },
     "user_tz": -180
    },
    "id": "jw7UMQWThxlv"
   },
   "outputs": [],
   "source": [
    "df = df.merge(src, how='left', on='user_id')"
   ]
  },
  {
   "cell_type": "code",
   "execution_count": 11,
   "id": "GjXQLoGPiHzv",
   "metadata": {
    "colab": {
     "base_uri": "https://localhost:8080/"
    },
    "executionInfo": {
     "elapsed": 16,
     "status": "ok",
     "timestamp": 1650538998746,
     "user": {
      "displayName": "Vadim Selin",
      "userId": "13742755250186020674"
     },
     "user_tz": -180
    },
    "id": "GjXQLoGPiHzv",
    "outputId": "d1da2c21-8fe0-45fb-d872-664f6b0cfd19"
   },
   "outputs": [
    {
     "data": {
      "text/plain": [
       "4293"
      ]
     },
     "execution_count": 11,
     "metadata": {},
     "output_type": "execute_result"
    }
   ],
   "source": [
    "df['user_id'].nunique()"
   ]
  },
  {
   "cell_type": "markdown",
   "id": "a2-7g6eGiNYP",
   "metadata": {
    "id": "a2-7g6eGiNYP"
   },
   "source": [
    "- Все пользователи остались на месте\n",
    "- Проверю пропуски, дубли, типы данных"
   ]
  },
  {
   "cell_type": "markdown",
   "id": "Rko_Nef1_UcR",
   "metadata": {
    "id": "Rko_Nef1_UcR"
   },
   "source": [
    "## Проверить пропуски в данных"
   ]
  },
  {
   "cell_type": "code",
   "execution_count": 12,
   "id": "rKGx2-CDiajg",
   "metadata": {
    "colab": {
     "base_uri": "https://localhost:8080/"
    },
    "executionInfo": {
     "elapsed": 583,
     "status": "ok",
     "timestamp": 1650538999316,
     "user": {
      "displayName": "Vadim Selin",
      "userId": "13742755250186020674"
     },
     "user_tz": -180
    },
    "id": "rKGx2-CDiajg",
    "outputId": "f77b8e82-02dd-4a49-da33-00360f96bf69"
   },
   "outputs": [
    {
     "data": {
      "text/plain": [
       "event_time    0.0\n",
       "event_name    0.0\n",
       "user_id       0.0\n",
       "source        0.0\n",
       "dtype: float64"
      ]
     },
     "execution_count": 12,
     "metadata": {},
     "output_type": "execute_result"
    }
   ],
   "source": [
    "df.isna().mean()"
   ]
  },
  {
   "cell_type": "markdown",
   "id": "s7c5n1S2igsQ",
   "metadata": {
    "id": "s7c5n1S2igsQ"
   },
   "source": [
    "- Такой вывод короче и наглядней, нежели `df.info()`, на мой взгляд "
   ]
  },
  {
   "cell_type": "markdown",
   "id": "DrlFZfIm_UcR",
   "metadata": {
    "id": "DrlFZfIm_UcR"
   },
   "source": [
    "## Проверить на дубли"
   ]
  },
  {
   "cell_type": "code",
   "execution_count": 13,
   "id": "MuITjmZEi9gH",
   "metadata": {
    "colab": {
     "base_uri": "https://localhost:8080/"
    },
    "executionInfo": {
     "elapsed": 580,
     "status": "ok",
     "timestamp": 1650538999317,
     "user": {
      "displayName": "Vadim Selin",
      "userId": "13742755250186020674"
     },
     "user_tz": -180
    },
    "id": "MuITjmZEi9gH",
    "outputId": "27268a5c-4832-475a-9107-4a3d5d407dfa"
   },
   "outputs": [
    {
     "data": {
      "text/plain": [
       "0.0"
      ]
     },
     "execution_count": 13,
     "metadata": {},
     "output_type": "execute_result"
    }
   ],
   "source": [
    "df.duplicated().mean()"
   ]
  },
  {
   "cell_type": "markdown",
   "id": "ZDMAwRCJlvEg",
   "metadata": {
    "id": "ZDMAwRCJlvEg"
   },
   "source": [
    "- Полных дублей нет и это хорошо"
   ]
  },
  {
   "cell_type": "markdown",
   "id": "UqUl18rW_UcS",
   "metadata": {
    "id": "UqUl18rW_UcS"
   },
   "source": [
    "## Поверить типы данных\n",
    "- соответствуют-ли поставленной задаче"
   ]
  },
  {
   "cell_type": "code",
   "execution_count": 14,
   "id": "lBC3I6Vol3Bv",
   "metadata": {
    "colab": {
     "base_uri": "https://localhost:8080/"
    },
    "executionInfo": {
     "elapsed": 36,
     "status": "ok",
     "timestamp": 1650538999317,
     "user": {
      "displayName": "Vadim Selin",
      "userId": "13742755250186020674"
     },
     "user_tz": -180
    },
    "id": "lBC3I6Vol3Bv",
    "outputId": "87e9d2a4-8464-4aee-c6ea-bbd9f4b6f006"
   },
   "outputs": [
    {
     "name": "stdout",
     "output_type": "stream",
     "text": [
      "<class 'pandas.core.frame.DataFrame'>\n",
      "Int64Index: 74197 entries, 0 to 74196\n",
      "Data columns (total 4 columns):\n",
      " #   Column      Non-Null Count  Dtype \n",
      "---  ------      --------------  ----- \n",
      " 0   event_time  74197 non-null  object\n",
      " 1   event_name  74197 non-null  object\n",
      " 2   user_id     74197 non-null  object\n",
      " 3   source      74197 non-null  object\n",
      "dtypes: object(4)\n",
      "memory usage: 2.8+ MB\n"
     ]
    }
   ],
   "source": [
    "df.info()"
   ]
  },
  {
   "cell_type": "markdown",
   "id": "2VMXJKmRmFsn",
   "metadata": {
    "id": "2VMXJKmRmFsn"
   },
   "source": [
    "- `df.dtypes` мне знаком, но хотелось сразу увидеть размер датафрейма\n",
    "- переведу `event_time` в тип `datetime`, поскольку с датой и временем надо будет проводить множество операций"
   ]
  },
  {
   "cell_type": "code",
   "execution_count": 15,
   "id": "hOHDZzO0mqxf",
   "metadata": {
    "executionInfo": {
     "elapsed": 32,
     "status": "ok",
     "timestamp": 1650538999317,
     "user": {
      "displayName": "Vadim Selin",
      "userId": "13742755250186020674"
     },
     "user_tz": -180
    },
    "id": "hOHDZzO0mqxf"
   },
   "outputs": [],
   "source": [
    "df['event_time'] = pd.to_datetime(df['event_time'], format='%Y-%m-%d %H:%M:%S.%f')"
   ]
  },
  {
   "cell_type": "code",
   "execution_count": 16,
   "id": "SlULAKqznDdP",
   "metadata": {
    "colab": {
     "base_uri": "https://localhost:8080/"
    },
    "executionInfo": {
     "elapsed": 32,
     "status": "ok",
     "timestamp": 1650538999317,
     "user": {
      "displayName": "Vadim Selin",
      "userId": "13742755250186020674"
     },
     "user_tz": -180
    },
    "id": "SlULAKqznDdP",
    "outputId": "1f6a9819-2c8f-4264-cfeb-fc8e3ebcf4fd"
   },
   "outputs": [
    {
     "data": {
      "text/plain": [
       "23099   2019-10-16 15:57:14.717500\n",
       "29988   2019-10-19 09:44:20.299958\n",
       "15638   2019-10-13 22:54:29.234076\n",
       "Name: event_time, dtype: datetime64[ns]"
      ]
     },
     "execution_count": 16,
     "metadata": {},
     "output_type": "execute_result"
    }
   ],
   "source": [
    "df['event_time'].sample(3, random_state=0)"
   ]
  },
  {
   "cell_type": "markdown",
   "id": "0dpudwsNQdF2",
   "metadata": {
    "id": "0dpudwsNQdF2"
   },
   "source": [
    "## Объединить однотипные события"
   ]
  },
  {
   "cell_type": "code",
   "execution_count": 17,
   "id": "mL8HNzdgQc1H",
   "metadata": {
    "colab": {
     "base_uri": "https://localhost:8080/"
    },
    "executionInfo": {
     "elapsed": 29,
     "status": "ok",
     "timestamp": 1650538999318,
     "user": {
      "displayName": "Vadim Selin",
      "userId": "13742755250186020674"
     },
     "user_tz": -180
    },
    "id": "mL8HNzdgQc1H",
    "outputId": "10094f9a-4ba9-45f6-86b3-699049329a7e"
   },
   "outputs": [
    {
     "data": {
      "text/plain": [
       "tips_show        40055\n",
       "photos_show      10012\n",
       "advert_open       6164\n",
       "contacts_show     4450\n",
       "map               3881\n",
       "search_1          3506\n",
       "favorites_add     1417\n",
       "search_5          1049\n",
       "tips_click         814\n",
       "search_4           701\n",
       "contacts_call      541\n",
       "search_3           522\n",
       "search_6           460\n",
       "search_2           324\n",
       "search_7           222\n",
       "show_contacts       79\n",
       "Name: event_name, dtype: int64"
      ]
     },
     "execution_count": 17,
     "metadata": {},
     "output_type": "execute_result"
    }
   ],
   "source": [
    "df['event_name'].value_counts()"
   ]
  },
  {
   "cell_type": "markdown",
   "id": "lfOZJ15r_UcT",
   "metadata": {
    "id": "lfOZJ15r_UcT"
   },
   "source": [
    "- в описании данных видно, что просмотру контактов соответствует два наименования событий `contacts_show` и `show_contacts`, поэтому объеденю их\n",
    "- также есть 7 наименований для поисковых действий в приложении, разница между которыми не влияет на ответы на поставленные вопросы, поэтому объеденю их"
   ]
  },
  {
   "cell_type": "code",
   "execution_count": 18,
   "id": "wxrPNUdcPQ-1",
   "metadata": {
    "executionInfo": {
     "elapsed": 26,
     "status": "ok",
     "timestamp": 1650538999318,
     "user": {
      "displayName": "Vadim Selin",
      "userId": "13742755250186020674"
     },
     "user_tz": -180
    },
    "id": "wxrPNUdcPQ-1"
   },
   "outputs": [],
   "source": [
    "df.replace(\n",
    "    {\n",
    "        'event_name': {\n",
    "            'show_contacts': 'contacts_show', \n",
    "            'search_1': 'search_action',\n",
    "            'search_2': 'search_action',\n",
    "            'search_3': 'search_action',\n",
    "            'search_4': 'search_action',\n",
    "            'search_5': 'search_action',\n",
    "            'search_6': 'search_action',\n",
    "            'search_7': 'search_action',\n",
    "        }\n",
    "    }, inplace=True\n",
    ")"
   ]
  },
  {
   "cell_type": "code",
   "execution_count": 19,
   "id": "0mr07fr2PSXW",
   "metadata": {
    "colab": {
     "base_uri": "https://localhost:8080/"
    },
    "executionInfo": {
     "elapsed": 26,
     "status": "ok",
     "timestamp": 1650538999318,
     "user": {
      "displayName": "Vadim Selin",
      "userId": "13742755250186020674"
     },
     "user_tz": -180
    },
    "id": "0mr07fr2PSXW",
    "outputId": "c355a9c3-327d-4b02-b3de-ab2c281478b6"
   },
   "outputs": [
    {
     "data": {
      "text/plain": [
       "tips_show        40055\n",
       "photos_show      10012\n",
       "search_action     6784\n",
       "advert_open       6164\n",
       "contacts_show     4529\n",
       "map               3881\n",
       "favorites_add     1417\n",
       "tips_click         814\n",
       "contacts_call      541\n",
       "Name: event_name, dtype: int64"
      ]
     },
     "execution_count": 19,
     "metadata": {},
     "output_type": "execute_result"
    }
   ],
   "source": [
    "df['event_name'].value_counts()"
   ]
  },
  {
   "cell_type": "markdown",
   "id": "bc1754eb",
   "metadata": {
    "id": "bc1754eb"
   },
   "source": [
    "# Исследовательский анализ данных."
   ]
  },
  {
   "cell_type": "markdown",
   "id": "a6c157b6",
   "metadata": {
    "id": "a6c157b6"
   },
   "source": [
    "## Определить временной диапазон датасета."
   ]
  },
  {
   "cell_type": "code",
   "execution_count": 20,
   "id": "OG_i35v7Q58d",
   "metadata": {
    "colab": {
     "base_uri": "https://localhost:8080/"
    },
    "executionInfo": {
     "elapsed": 22,
     "status": "ok",
     "timestamp": 1650538999318,
     "user": {
      "displayName": "Vadim Selin",
      "userId": "13742755250186020674"
     },
     "user_tz": -180
    },
    "id": "OG_i35v7Q58d",
    "outputId": "7f0530b9-af94-4ade-fa7f-77a9dbd900e9"
   },
   "outputs": [
    {
     "data": {
      "text/plain": [
       "Timestamp('2019-10-07 00:00:00.431357')"
      ]
     },
     "execution_count": 20,
     "metadata": {},
     "output_type": "execute_result"
    }
   ],
   "source": [
    "df['event_time'].min()"
   ]
  },
  {
   "cell_type": "code",
   "execution_count": 21,
   "id": "U7rO6axPQ_XN",
   "metadata": {
    "colab": {
     "base_uri": "https://localhost:8080/"
    },
    "executionInfo": {
     "elapsed": 20,
     "status": "ok",
     "timestamp": 1650538999319,
     "user": {
      "displayName": "Vadim Selin",
      "userId": "13742755250186020674"
     },
     "user_tz": -180
    },
    "id": "U7rO6axPQ_XN",
    "outputId": "77d76c46-404f-4ce9-a522-c44ef872e280"
   },
   "outputs": [
    {
     "data": {
      "text/plain": [
       "Timestamp('2019-11-03 23:58:12.532487')"
      ]
     },
     "execution_count": 21,
     "metadata": {},
     "output_type": "execute_result"
    }
   ],
   "source": [
    "df['event_time'].max()"
   ]
  },
  {
   "cell_type": "markdown",
   "id": "BPJTtQLRRCqF",
   "metadata": {
    "id": "BPJTtQLRRCqF"
   },
   "source": [
    "- Данные охватывают период чуть менее месяца (с 7 октября по 3 ноября включительно, 28 дней), поэтому имеет смысл добавить столбец с днём. "
   ]
  },
  {
   "cell_type": "markdown",
   "id": "229b5442",
   "metadata": {
    "id": "229b5442"
   },
   "source": [
    "## Добавить временные поля на основе поля `event_time`\n",
    "- Для последующих рассчётов dau,wau."
   ]
  },
  {
   "cell_type": "code",
   "execution_count": 22,
   "id": "WyiVh03URJX2",
   "metadata": {
    "executionInfo": {
     "elapsed": 17,
     "status": "ok",
     "timestamp": 1650538999319,
     "user": {
      "displayName": "Vadim Selin",
      "userId": "13742755250186020674"
     },
     "user_tz": -180
    },
    "id": "WyiVh03URJX2"
   },
   "outputs": [],
   "source": [
    "df['event_date'] = df['event_time'].astype('datetime64[D]')"
   ]
  },
  {
   "cell_type": "code",
   "execution_count": 23,
   "id": "BbiMnZ5PRWJN",
   "metadata": {
    "executionInfo": {
     "elapsed": 16,
     "status": "ok",
     "timestamp": 1650538999319,
     "user": {
      "displayName": "Vadim Selin",
      "userId": "13742755250186020674"
     },
     "user_tz": -180
    },
    "id": "BbiMnZ5PRWJN"
   },
   "outputs": [],
   "source": [
    "df['event_week'] = df['event_time'].dt.isocalendar().week"
   ]
  },
  {
   "cell_type": "code",
   "execution_count": 24,
   "id": "I0kgQEEuRW6G",
   "metadata": {
    "colab": {
     "base_uri": "https://localhost:8080/"
    },
    "executionInfo": {
     "elapsed": 16,
     "status": "ok",
     "timestamp": 1650538999319,
     "user": {
      "displayName": "Vadim Selin",
      "userId": "13742755250186020674"
     },
     "user_tz": -180
    },
    "id": "I0kgQEEuRW6G",
    "outputId": "f3d63845-b04e-4062-f618-a67b7e117752"
   },
   "outputs": [
    {
     "data": {
      "text/plain": [
       "43    20636\n",
       "44    19416\n",
       "42    18323\n",
       "41    15822\n",
       "Name: event_week, dtype: Int64"
      ]
     },
     "execution_count": 24,
     "metadata": {},
     "output_type": "execute_result"
    }
   ],
   "source": [
    "df['event_week'].value_counts()"
   ]
  },
  {
   "cell_type": "markdown",
   "id": "nn7ZTCcyRuYm",
   "metadata": {
    "id": "nn7ZTCcyRuYm"
   },
   "source": [
    "- C каждой следующей неделей в логе событий всё больше: маркетинг работает, активность пользователей растёт.\n",
    "- Проверю, верно-ли прошло разделение по неделям: возьму точный срез по первой неделе и сравню число событий с значением числа строк в `value_counts()` в стороке по 41 неделе."
   ]
  },
  {
   "cell_type": "code",
   "execution_count": 25,
   "id": "17GkvGa-R_fF",
   "metadata": {
    "colab": {
     "base_uri": "https://localhost:8080/"
    },
    "executionInfo": {
     "elapsed": 13,
     "status": "ok",
     "timestamp": 1650538999320,
     "user": {
      "displayName": "Vadim Selin",
      "userId": "13742755250186020674"
     },
     "user_tz": -180
    },
    "id": "17GkvGa-R_fF",
    "outputId": "4d3d4ee5-3467-40a2-922b-9c49d1d51048"
   },
   "outputs": [
    {
     "data": {
      "text/plain": [
       "15822"
      ]
     },
     "execution_count": 25,
     "metadata": {},
     "output_type": "execute_result"
    }
   ],
   "source": [
    "# 41-я неделя\n",
    "df.query('event_time >= \"2019-10-07 00:00:00.431357\" &\\\n",
    " event_time < \"2019-10-14 00:00:00.000000\"').shape[0]"
   ]
  },
  {
   "cell_type": "code",
   "execution_count": 26,
   "id": "8DqxKBn6m8zl",
   "metadata": {
    "colab": {
     "base_uri": "https://localhost:8080/"
    },
    "executionInfo": {
     "elapsed": 10,
     "status": "ok",
     "timestamp": 1650538999320,
     "user": {
      "displayName": "Vadim Selin",
      "userId": "13742755250186020674"
     },
     "user_tz": -180
    },
    "id": "8DqxKBn6m8zl",
    "outputId": "639fa682-13f8-4cac-dccf-148bba290f9d"
   },
   "outputs": [
    {
     "data": {
      "text/plain": [
       "18323"
      ]
     },
     "execution_count": 26,
     "metadata": {},
     "output_type": "execute_result"
    }
   ],
   "source": [
    "# 42-я неделя\n",
    "df.query('event_time >= \"2019-10-14 00:00:00.000000\" &\\\n",
    " event_time < \"2019-10-21 00:00:00.000000\"').shape[0]"
   ]
  },
  {
   "cell_type": "markdown",
   "id": "qgREwyqDnM09",
   "metadata": {
    "id": "qgREwyqDnM09"
   },
   "source": [
    "- Данные по неделям поделились правильно"
   ]
  },
  {
   "cell_type": "markdown",
   "id": "08459253",
   "metadata": {
    "id": "08459253"
   },
   "source": [
    "## Проверить полноту данных: распределение количества событий по дням.\n",
    "\n",
    "- Сделаю это, построив гистограмму по столбцу `event_time` с параметром `bins` равный числу дней 28 в исследуемом датасете.\n",
    "- Это позволит наглядно увидеть относительный объём событий за каждый день."
   ]
  },
  {
   "cell_type": "code",
   "execution_count": 27,
   "id": "cnP6X35XnZsm",
   "metadata": {
    "colab": {
     "base_uri": "https://localhost:8080/",
     "height": 350
    },
    "executionInfo": {
     "elapsed": 429,
     "status": "ok",
     "timestamp": 1650538999742,
     "user": {
      "displayName": "Vadim Selin",
      "userId": "13742755250186020674"
     },
     "user_tz": -180
    },
    "id": "cnP6X35XnZsm",
    "outputId": "f4c64d2b-139b-4c6a-d35c-6c2e82907bb8"
   },
   "outputs": [
    {
     "data": {
      "image/png": "[encoded data removed]",
      "text/plain": [
       "<Figure size 1152x360 with 1 Axes>"
      ]
     },
     "metadata": {
      "needs_background": "light"
     },
     "output_type": "display_data"
    }
   ],
   "source": [
    "df['event_time'].hist(figsize=(16, 5), bins=28)\n",
    "plt.title('Распределение всех событий по дням')\n",
    "plt.ylabel('Количество событий')\n",
    "plt.xlabel('Дата')\n",
    "plt.show()"
   ]
  },
  {
   "cell_type": "markdown",
   "id": "wJYgGJxfojPF",
   "metadata": {
    "id": "wJYgGJxfojPF"
   },
   "source": [
    "- \"пустых\" дней нет. Данные получены без заметных потерь.\n",
    "- также заметна тенденция роста числа событий, которая была заметна на группировке по неделям.\n",
    "- рассмотрю данные поближе, увиличив `bins` до количества часов в исследуемом периоде 28 * 24 = 672"
   ]
  },
  {
   "cell_type": "code",
   "execution_count": 28,
   "id": "xxF-xlz0qbpt",
   "metadata": {
    "colab": {
     "base_uri": "https://localhost:8080/",
     "height": 350
    },
    "executionInfo": {
     "elapsed": 1174,
     "status": "ok",
     "timestamp": 1650539000913,
     "user": {
      "displayName": "Vadim Selin",
      "userId": "13742755250186020674"
     },
     "user_tz": -180
    },
    "id": "xxF-xlz0qbpt",
    "outputId": "4ef7a272-b056-47ce-af37-2eead63d87ce"
   },
   "outputs": [
    {
     "data": {
      "image/png": "[encoded data removed]",
      "text/plain": [
       "<Figure size 1152x360 with 1 Axes>"
      ]
     },
     "metadata": {
      "needs_background": "light"
     },
     "output_type": "display_data"
    }
   ],
   "source": [
    "df['event_time'].hist(figsize=(16, 5), bins=672)\n",
    "plt.title('Распределение всех событий по часам')\n",
    "plt.ylabel('Количество событий')\n",
    "plt.xlabel('Дата')\n",
    "plt.show()"
   ]
  },
  {
   "cell_type": "markdown",
   "id": "hS-1f6OCq25c",
   "metadata": {
    "id": "hS-1f6OCq25c"
   },
   "source": [
    "- наблюдается дневная активность, которая после полуночи сменяется затишьем.\n",
    "- также как на распределении по дням видна тенденция к росту числа событий с каждой неделей с некоторым откатом на четвёртой неделе.\n",
    "    - рассчитаю `dau` и `wau`, чтобы посмотреть как рост числа событий связан с числом уникальных пользователей в день и неделю"
   ]
  },
  {
   "cell_type": "markdown",
   "id": "z-QUPAkV_HuW",
   "metadata": {
    "id": "z-QUPAkV_HuW"
   },
   "source": [
    "## Рассчитать `DAU`, `WAU`. Вычислить средние значения этих метрик за весь период. \n",
    "\n",
    "- Построить графики изменения метрик во времени."
   ]
  },
  {
   "cell_type": "code",
   "execution_count": 29,
   "id": "V-WFdN3J1wt9",
   "metadata": {
    "executionInfo": {
     "elapsed": 10,
     "status": "ok",
     "timestamp": 1650539000914,
     "user": {
      "displayName": "Vadim Selin",
      "userId": "13742755250186020674"
     },
     "user_tz": -180
    },
    "id": "V-WFdN3J1wt9"
   },
   "outputs": [],
   "source": [
    "dau = df.groupby('event_date', as_index=False).agg({'user_id': 'nunique'})"
   ]
  },
  {
   "cell_type": "code",
   "execution_count": 30,
   "id": "h2vFqqztH9-t",
   "metadata": {
    "executionInfo": {
     "elapsed": 10,
     "status": "ok",
     "timestamp": 1650539000914,
     "user": {
      "displayName": "Vadim Selin",
      "userId": "13742755250186020674"
     },
     "user_tz": -180
    },
    "id": "h2vFqqztH9-t"
   },
   "outputs": [],
   "source": [
    "dau.rename(columns={'user_id': 'unique_day_users'}, inplace=True)"
   ]
  },
  {
   "cell_type": "code",
   "execution_count": 31,
   "id": "0_qfdaGDH9-t",
   "metadata": {
    "colab": {
     "base_uri": "https://localhost:8080/",
     "height": 926
    },
    "executionInfo": {
     "elapsed": 10,
     "status": "ok",
     "timestamp": 1650539000914,
     "user": {
      "displayName": "Vadim Selin",
      "userId": "13742755250186020674"
     },
     "user_tz": -180
    },
    "id": "0_qfdaGDH9-t",
    "outputId": "463131fc-5e9d-4337-8838-7df73ea7f35b"
   },
   "outputs": [
    {
     "data": {
      "text/html": [
       "<div>\n",
       "<style scoped>\n",
       "    .dataframe tbody tr th:only-of-type {\n",
       "        vertical-align: middle;\n",
       "    }\n",
       "\n",
       "    .dataframe tbody tr th {\n",
       "        vertical-align: top;\n",
       "    }\n",
       "\n",
       "    .dataframe thead th {\n",
       "        text-align: right;\n",
       "    }\n",
       "</style>\n",
       "<table border=\"1\" class=\"dataframe\">\n",
       "  <thead>\n",
       "    <tr style=\"text-align: right;\">\n",
       "      <th></th>\n",
       "      <th>event_date</th>\n",
       "      <th>unique_day_users</th>\n",
       "    </tr>\n",
       "  </thead>\n",
       "  <tbody>\n",
       "    <tr>\n",
       "      <th>0</th>\n",
       "      <td>2019-10-07</td>\n",
       "      <td>204</td>\n",
       "    </tr>\n",
       "    <tr>\n",
       "      <th>1</th>\n",
       "      <td>2019-10-08</td>\n",
       "      <td>204</td>\n",
       "    </tr>\n",
       "    <tr>\n",
       "      <th>2</th>\n",
       "      <td>2019-10-09</td>\n",
       "      <td>227</td>\n",
       "    </tr>\n",
       "    <tr>\n",
       "      <th>3</th>\n",
       "      <td>2019-10-10</td>\n",
       "      <td>233</td>\n",
       "    </tr>\n",
       "    <tr>\n",
       "      <th>4</th>\n",
       "      <td>2019-10-11</td>\n",
       "      <td>206</td>\n",
       "    </tr>\n",
       "    <tr>\n",
       "      <th>5</th>\n",
       "      <td>2019-10-12</td>\n",
       "      <td>178</td>\n",
       "    </tr>\n",
       "    <tr>\n",
       "      <th>6</th>\n",
       "      <td>2019-10-13</td>\n",
       "      <td>226</td>\n",
       "    </tr>\n",
       "    <tr>\n",
       "      <th>7</th>\n",
       "      <td>2019-10-14</td>\n",
       "      <td>298</td>\n",
       "    </tr>\n",
       "    <tr>\n",
       "      <th>8</th>\n",
       "      <td>2019-10-15</td>\n",
       "      <td>303</td>\n",
       "    </tr>\n",
       "    <tr>\n",
       "      <th>9</th>\n",
       "      <td>2019-10-16</td>\n",
       "      <td>278</td>\n",
       "    </tr>\n",
       "    <tr>\n",
       "      <th>10</th>\n",
       "      <td>2019-10-17</td>\n",
       "      <td>307</td>\n",
       "    </tr>\n",
       "    <tr>\n",
       "      <th>11</th>\n",
       "      <td>2019-10-18</td>\n",
       "      <td>308</td>\n",
       "    </tr>\n",
       "    <tr>\n",
       "      <th>12</th>\n",
       "      <td>2019-10-19</td>\n",
       "      <td>271</td>\n",
       "    </tr>\n",
       "    <tr>\n",
       "      <th>13</th>\n",
       "      <td>2019-10-20</td>\n",
       "      <td>274</td>\n",
       "    </tr>\n",
       "    <tr>\n",
       "      <th>14</th>\n",
       "      <td>2019-10-21</td>\n",
       "      <td>326</td>\n",
       "    </tr>\n",
       "    <tr>\n",
       "      <th>15</th>\n",
       "      <td>2019-10-22</td>\n",
       "      <td>310</td>\n",
       "    </tr>\n",
       "    <tr>\n",
       "      <th>16</th>\n",
       "      <td>2019-10-23</td>\n",
       "      <td>352</td>\n",
       "    </tr>\n",
       "    <tr>\n",
       "      <th>17</th>\n",
       "      <td>2019-10-24</td>\n",
       "      <td>319</td>\n",
       "    </tr>\n",
       "    <tr>\n",
       "      <th>18</th>\n",
       "      <td>2019-10-25</td>\n",
       "      <td>305</td>\n",
       "    </tr>\n",
       "    <tr>\n",
       "      <th>19</th>\n",
       "      <td>2019-10-26</td>\n",
       "      <td>287</td>\n",
       "    </tr>\n",
       "    <tr>\n",
       "      <th>20</th>\n",
       "      <td>2019-10-27</td>\n",
       "      <td>299</td>\n",
       "    </tr>\n",
       "    <tr>\n",
       "      <th>21</th>\n",
       "      <td>2019-10-28</td>\n",
       "      <td>348</td>\n",
       "    </tr>\n",
       "    <tr>\n",
       "      <th>22</th>\n",
       "      <td>2019-10-29</td>\n",
       "      <td>312</td>\n",
       "    </tr>\n",
       "    <tr>\n",
       "      <th>23</th>\n",
       "      <td>2019-10-30</td>\n",
       "      <td>313</td>\n",
       "    </tr>\n",
       "    <tr>\n",
       "      <th>24</th>\n",
       "      <td>2019-10-31</td>\n",
       "      <td>325</td>\n",
       "    </tr>\n",
       "    <tr>\n",
       "      <th>25</th>\n",
       "      <td>2019-11-01</td>\n",
       "      <td>279</td>\n",
       "    </tr>\n",
       "    <tr>\n",
       "      <th>26</th>\n",
       "      <td>2019-11-02</td>\n",
       "      <td>240</td>\n",
       "    </tr>\n",
       "    <tr>\n",
       "      <th>27</th>\n",
       "      <td>2019-11-03</td>\n",
       "      <td>285</td>\n",
       "    </tr>\n",
       "  </tbody>\n",
       "</table>\n",
       "</div>"
      ],
      "text/plain": [
       "   event_date  unique_day_users\n",
       "0  2019-10-07               204\n",
       "1  2019-10-08               204\n",
       "2  2019-10-09               227\n",
       "3  2019-10-10               233\n",
       "4  2019-10-11               206\n",
       "5  2019-10-12               178\n",
       "6  2019-10-13               226\n",
       "7  2019-10-14               298\n",
       "8  2019-10-15               303\n",
       "9  2019-10-16               278\n",
       "10 2019-10-17               307\n",
       "11 2019-10-18               308\n",
       "12 2019-10-19               271\n",
       "13 2019-10-20               274\n",
       "14 2019-10-21               326\n",
       "15 2019-10-22               310\n",
       "16 2019-10-23               352\n",
       "17 2019-10-24               319\n",
       "18 2019-10-25               305\n",
       "19 2019-10-26               287\n",
       "20 2019-10-27               299\n",
       "21 2019-10-28               348\n",
       "22 2019-10-29               312\n",
       "23 2019-10-30               313\n",
       "24 2019-10-31               325\n",
       "25 2019-11-01               279\n",
       "26 2019-11-02               240\n",
       "27 2019-11-03               285"
      ]
     },
     "execution_count": 31,
     "metadata": {},
     "output_type": "execute_result"
    }
   ],
   "source": [
    "dau"
   ]
  },
  {
   "cell_type": "markdown",
   "id": "LYNgjSh_NhNK",
   "metadata": {
    "id": "LYNgjSh_NhNK"
   },
   "source": [
    "- Рассчитаю средний `dau` за весь период."
   ]
  },
  {
   "cell_type": "code",
   "execution_count": 32,
   "id": "VLoCGMWVH9-t",
   "metadata": {
    "executionInfo": {
     "elapsed": 10,
     "status": "ok",
     "timestamp": 1650539000915,
     "user": {
      "displayName": "Vadim Selin",
      "userId": "13742755250186020674"
     },
     "user_tz": -180
    },
    "id": "VLoCGMWVH9-t"
   },
   "outputs": [],
   "source": [
    "dau_total = dau['unique_day_users'].mean()"
   ]
  },
  {
   "cell_type": "code",
   "execution_count": 33,
   "id": "Rh9tVU1MH9-t",
   "metadata": {
    "colab": {
     "base_uri": "https://localhost:8080/"
    },
    "executionInfo": {
     "elapsed": 10,
     "status": "ok",
     "timestamp": 1650539000915,
     "user": {
      "displayName": "Vadim Selin",
      "userId": "13742755250186020674"
     },
     "user_tz": -180
    },
    "id": "Rh9tVU1MH9-t",
    "outputId": "0a8323b8-1f6b-475b-e32d-6e0808798592"
   },
   "outputs": [
    {
     "data": {
      "text/plain": [
       "279.18"
      ]
     },
     "execution_count": 33,
     "metadata": {},
     "output_type": "execute_result"
    }
   ],
   "source": [
    "round(dau_total, 2)"
   ]
  },
  {
   "cell_type": "markdown",
   "id": "Heq3ZuG6H9-u",
   "metadata": {
    "id": "Heq3ZuG6H9-u"
   },
   "source": [
    "- Среднее число уникальных пользователей в приложении 279.\n",
    "- Число событий в неделе и на графике распределения росло от начала записи лога.\n",
    "- Вероятно, это связано с ростом числа уникальных пользователей.\n",
    "- Проверю это на ежедневном графике изменения `dau`."
   ]
  },
  {
   "cell_type": "code",
   "execution_count": 34,
   "id": "te0hVhscH9-u",
   "metadata": {
    "colab": {
     "base_uri": "https://localhost:8080/",
     "height": 426
    },
    "executionInfo": {
     "elapsed": 490,
     "status": "ok",
     "timestamp": 1650539001400,
     "user": {
      "displayName": "Vadim Selin",
      "userId": "13742755250186020674"
     },
     "user_tz": -180
    },
    "id": "te0hVhscH9-u",
    "outputId": "a74523ed-5f39-4803-dca7-c22815f06255"
   },
   "outputs": [
    {
     "data": {
      "image/png": "[encoded data removed]",
      "text/plain": [
       "<Figure size 1008x432 with 1 Axes>"
      ]
     },
     "metadata": {
      "needs_background": "light"
     },
     "output_type": "display_data"
    }
   ],
   "source": [
    "dau.plot(x='event_date',figsize=(14,6), ylim=0, grid=True)\n",
    "plt.title('Число уникальных пользователей в день')\n",
    "plt.ylabel('Количество пользователей')\n",
    "plt.xlabel('Дата')\n",
    "plt.show()"
   ]
  },
  {
   "cell_type": "markdown",
   "id": "vseIa8qJH9-u",
   "metadata": {
    "id": "vseIa8qJH9-u"
   },
   "source": [
    "- Так и есть: ежедневное число уникальных пользователей колеблется, но проявляет тенденцию к росту.\n",
    "- Есть небольшой спад к концу лога, который, очевидно, отразится на недельном графике.\n",
    "- Рассчитаю и построю график `wau`."
   ]
  },
  {
   "cell_type": "code",
   "execution_count": 35,
   "id": "PvFWIAkbH9-u",
   "metadata": {
    "executionInfo": {
     "elapsed": 11,
     "status": "ok",
     "timestamp": 1650539001401,
     "user": {
      "displayName": "Vadim Selin",
      "userId": "13742755250186020674"
     },
     "user_tz": -180
    },
    "id": "PvFWIAkbH9-u"
   },
   "outputs": [],
   "source": [
    "wau = df.groupby('event_week', as_index=False).agg({'user_id': 'nunique'})"
   ]
  },
  {
   "cell_type": "code",
   "execution_count": 36,
   "id": "4BSltJ6DH9-u",
   "metadata": {
    "executionInfo": {
     "elapsed": 11,
     "status": "ok",
     "timestamp": 1650539001401,
     "user": {
      "displayName": "Vadim Selin",
      "userId": "13742755250186020674"
     },
     "user_tz": -180
    },
    "id": "4BSltJ6DH9-u"
   },
   "outputs": [],
   "source": [
    "wau.rename(columns={'user_id': 'unique_week_users'}, inplace=True)"
   ]
  },
  {
   "cell_type": "code",
   "execution_count": 37,
   "id": "b4QOyWS-H9-u",
   "metadata": {
    "colab": {
     "base_uri": "https://localhost:8080/",
     "height": 174
    },
    "executionInfo": {
     "elapsed": 10,
     "status": "ok",
     "timestamp": 1650539001401,
     "user": {
      "displayName": "Vadim Selin",
      "userId": "13742755250186020674"
     },
     "user_tz": -180
    },
    "id": "b4QOyWS-H9-u",
    "outputId": "27cf1b0d-5a56-43f7-c4d4-7d01ac47ef49"
   },
   "outputs": [
    {
     "data": {
      "text/html": [
       "<div>\n",
       "<style scoped>\n",
       "    .dataframe tbody tr th:only-of-type {\n",
       "        vertical-align: middle;\n",
       "    }\n",
       "\n",
       "    .dataframe tbody tr th {\n",
       "        vertical-align: top;\n",
       "    }\n",
       "\n",
       "    .dataframe thead th {\n",
       "        text-align: right;\n",
       "    }\n",
       "</style>\n",
       "<table border=\"1\" class=\"dataframe\">\n",
       "  <thead>\n",
       "    <tr style=\"text-align: right;\">\n",
       "      <th></th>\n",
       "      <th>event_week</th>\n",
       "      <th>unique_week_users</th>\n",
       "    </tr>\n",
       "  </thead>\n",
       "  <tbody>\n",
       "    <tr>\n",
       "      <th>0</th>\n",
       "      <td>41</td>\n",
       "      <td>1130</td>\n",
       "    </tr>\n",
       "    <tr>\n",
       "      <th>1</th>\n",
       "      <td>42</td>\n",
       "      <td>1438</td>\n",
       "    </tr>\n",
       "    <tr>\n",
       "      <th>2</th>\n",
       "      <td>43</td>\n",
       "      <td>1546</td>\n",
       "    </tr>\n",
       "    <tr>\n",
       "      <th>3</th>\n",
       "      <td>44</td>\n",
       "      <td>1416</td>\n",
       "    </tr>\n",
       "  </tbody>\n",
       "</table>\n",
       "</div>"
      ],
      "text/plain": [
       "   event_week  unique_week_users\n",
       "0          41               1130\n",
       "1          42               1438\n",
       "2          43               1546\n",
       "3          44               1416"
      ]
     },
     "execution_count": 37,
     "metadata": {},
     "output_type": "execute_result"
    }
   ],
   "source": [
    "wau"
   ]
  },
  {
   "cell_type": "markdown",
   "id": "Je5KPaamN86Z",
   "metadata": {
    "id": "Je5KPaamN86Z"
   },
   "source": [
    "- Рассчитаю средний `wau` за весь период."
   ]
  },
  {
   "cell_type": "code",
   "execution_count": 38,
   "id": "amBHdVm6H9-u",
   "metadata": {
    "executionInfo": {
     "elapsed": 11,
     "status": "ok",
     "timestamp": 1650539001402,
     "user": {
      "displayName": "Vadim Selin",
      "userId": "13742755250186020674"
     },
     "user_tz": -180
    },
    "id": "amBHdVm6H9-u"
   },
   "outputs": [],
   "source": [
    "wau_total = wau['unique_week_users'].mean()"
   ]
  },
  {
   "cell_type": "code",
   "execution_count": 39,
   "id": "tDRv12rMH9-v",
   "metadata": {
    "colab": {
     "base_uri": "https://localhost:8080/"
    },
    "executionInfo": {
     "elapsed": 10,
     "status": "ok",
     "timestamp": 1650539001402,
     "user": {
      "displayName": "Vadim Selin",
      "userId": "13742755250186020674"
     },
     "user_tz": -180
    },
    "id": "tDRv12rMH9-v",
    "outputId": "9fac5cc4-911f-4dc2-cd3d-13b048342511"
   },
   "outputs": [
    {
     "data": {
      "text/plain": [
       "1382.5"
      ]
     },
     "execution_count": 39,
     "metadata": {},
     "output_type": "execute_result"
    }
   ],
   "source": [
    "wau_total"
   ]
  },
  {
   "cell_type": "code",
   "execution_count": 40,
   "id": "660A7EiHH9-v",
   "metadata": {
    "colab": {
     "base_uri": "https://localhost:8080/",
     "height": 294
    },
    "executionInfo": {
     "elapsed": 471,
     "status": "ok",
     "timestamp": 1650539001868,
     "user": {
      "displayName": "Vadim Selin",
      "userId": "13742755250186020674"
     },
     "user_tz": -180
    },
    "id": "660A7EiHH9-v",
    "outputId": "2e91669c-58a4-4eb2-d7ef-674e910249cc"
   },
   "outputs": [
    {
     "data": {
      "image/png": "[encoded data removed]",
      "text/plain": [
       "<Figure size 432x288 with 1 Axes>"
      ]
     },
     "metadata": {
      "needs_background": "light"
     },
     "output_type": "display_data"
    }
   ],
   "source": [
    "wau.plot(x='event_week', ylim=0, xlim=(41, 44), grid=True)\n",
    "plt.title('Число уникальных пользователей в неделю')\n",
    "plt.ylabel('Количество пользователей')\n",
    "plt.xlabel('неделя года')\n",
    "plt.show()"
   ]
  },
  {
   "cell_type": "markdown",
   "id": "fDT20GZL4BlN",
   "metadata": {
    "id": "fDT20GZL4BlN"
   },
   "source": [
    "- Выведу распределение числа событий по неделям, чтобы отразить взаимосвязь числа событий с числом уникальных пользователей"
   ]
  },
  {
   "cell_type": "code",
   "execution_count": 41,
   "id": "cOPFvIZV2vmt",
   "metadata": {
    "colab": {
     "base_uri": "https://localhost:8080/",
     "height": 294
    },
    "executionInfo": {
     "elapsed": 5,
     "status": "ok",
     "timestamp": 1650539001869,
     "user": {
      "displayName": "Vadim Selin",
      "userId": "13742755250186020674"
     },
     "user_tz": -180
    },
    "id": "cOPFvIZV2vmt",
    "outputId": "0edc1fdc-4cb8-497c-f233-a03acce7feb7"
   },
   "outputs": [
    {
     "data": {
      "image/png": "[encoded data removed]",
      "text/plain": [
       "<Figure size 432x288 with 1 Axes>"
      ]
     },
     "metadata": {
      "needs_background": "light"
     },
     "output_type": "display_data"
    }
   ],
   "source": [
    "df['event_week'].hist(bins=4)\n",
    "plt.xlim(41, 44)\n",
    "plt.title('Распределение числа событий по неделям')\n",
    "plt.ylabel('Количество событий')\n",
    "plt.xlabel('неделя года')\n",
    "plt.show()"
   ]
  },
  {
   "cell_type": "markdown",
   "id": "HXMpfC6MH9-v",
   "metadata": {
    "id": "HXMpfC6MH9-v"
   },
   "source": [
    "- Среднее число уникальных пользователей в неделю составляет `1385,5`.\n",
    "- Со второй недели число уникальных пользователей превышает `1400`.\n",
    "- Но после 3-й недели фиксирую спад.\n",
    "- Вероятно, это связано с показателем `retention rate`, который рассчитаю далее."
   ]
  },
  {
   "cell_type": "markdown",
   "id": "35c065b5",
   "metadata": {
    "id": "35c065b5"
   },
   "source": [
    "## Выбор подхода разделения пользователей на группы\n",
    "\n",
    "В задании требуется выделить группы пользователей на основе retention rate; времени, проведённого в приложении; частоты действий; конверсии в целевое действие — просмотр контактов.\n",
    "\n",
    "И тут может быть два подхода:\n",
    "\n",
    "1. Взять всех пользователей и посчитать метрики по ним. А потом на основании различий метрик выделить группы.\n",
    "2. Разделить пользователей в зависимости от событий, которые они совершили в исследуемый период. И уже после этой группировки по событиям сравнивать интересующие нас метрики.\n",
    "\n",
    "Я выберу второй подход, поскольку мне он кажется более честным: группы будут выделяться на основании событий, а не метрик, рассчитанных на основе тех же событий. Выделять группы буду с помощью алгоритма кластеризации `k-means`. \n",
    "\n",
    "Определять число групп для алгоритма `k-means` буду с помощью *агломеративной иерархической кластеризации* и дендрограммы, визуализирующей её.\n",
    "\n",
    "Прежде чем проводить кластеризацию, выясню, каково распределение числа событий на пользователя за весь исследуемый период.\n",
    "- При этом важно помнить, что некоторые пользователи будут совершать события с самого первого дня исследуемого периода, а некоторые впервые оказались в приложении в конце записанного лога.\n",
    "- Поэтому буду осторожен с фильтрацией"
   ]
  },
  {
   "cell_type": "code",
   "execution_count": 42,
   "id": "TAOA0LKhMHm_",
   "metadata": {
    "executionInfo": {
     "elapsed": 4,
     "status": "ok",
     "timestamp": 1650539001869,
     "user": {
      "displayName": "Vadim Selin",
      "userId": "13742755250186020674"
     },
     "user_tz": -180
    },
    "id": "TAOA0LKhMHm_"
   },
   "outputs": [],
   "source": [
    "event_per_usr = pd.DataFrame(df.groupby('user_id')['event_name'].count())"
   ]
  },
  {
   "cell_type": "code",
   "execution_count": 43,
   "id": "b446974d",
   "metadata": {
    "executionInfo": {
     "elapsed": 4,
     "status": "ok",
     "timestamp": 1650539001869,
     "user": {
      "displayName": "Vadim Selin",
      "userId": "13742755250186020674"
     },
     "user_tz": -180
    },
    "id": "b446974d"
   },
   "outputs": [],
   "source": [
    "event_per_usr = event_per_usr.rename(columns={'event_name': 'event_cnt'})"
   ]
  },
  {
   "cell_type": "code",
   "execution_count": 44,
   "id": "aadb83b4",
   "metadata": {
    "colab": {
     "base_uri": "https://localhost:8080/",
     "height": 294
    },
    "executionInfo": {
     "elapsed": 609,
     "status": "ok",
     "timestamp": 1650539002474,
     "user": {
      "displayName": "Vadim Selin",
      "userId": "13742755250186020674"
     },
     "user_tz": -180
    },
    "id": "aadb83b4",
    "outputId": "457f1111-5e81-470b-838e-9095565a5332"
   },
   "outputs": [
    {
     "data": {
      "image/png": "[encoded data removed]",
      "text/plain": [
       "<Figure size 432x288 with 1 Axes>"
      ]
     },
     "metadata": {
      "needs_background": "light"
     },
     "output_type": "display_data"
    }
   ],
   "source": [
    "event_per_usr['event_cnt'].hist(bins=100)\n",
    "plt.title('Распределение количества событий на одного пользователя')\n",
    "plt.xlabel('Число событий на пользователя')\n",
    "plt.ylabel('Число пользователей')\n",
    "plt.show()"
   ]
  },
  {
   "cell_type": "markdown",
   "id": "6b6cb2a9",
   "metadata": {
    "id": "6b6cb2a9"
   },
   "source": [
    "- Имеем перекошенное распределение событий во времени (период записи лога), похожее на Пуассоновское. Лежащее в пределах от `0` до `500`\n",
    "- Изучу его квартили, выбросы на диаграмме `boxplot`\n",
    "- А, главное, решу - отбарсывать эти выбросы и нет."
   ]
  },
  {
   "cell_type": "code",
   "execution_count": 45,
   "id": "WCOJOjDrMm9-",
   "metadata": {
    "colab": {
     "base_uri": "https://localhost:8080/",
     "height": 505
    },
    "executionInfo": {
     "elapsed": 24,
     "status": "ok",
     "timestamp": 1650539002475,
     "user": {
      "displayName": "Vadim Selin",
      "userId": "13742755250186020674"
     },
     "user_tz": -180
    },
    "id": "WCOJOjDrMm9-",
    "outputId": "4280b690-d061-4359-e086-fd4f91e47405"
   },
   "outputs": [
    {
     "data": {
      "text/plain": [
       "(0.0, 60.0)"
      ]
     },
     "execution_count": 45,
     "metadata": {},
     "output_type": "execute_result"
    },
    {
     "data": {
      "image/png": "[encoded data removed]",
      "text/plain": [
       "<Figure size 360x576 with 1 Axes>"
      ]
     },
     "metadata": {
      "needs_background": "light"
     },
     "output_type": "display_data"
    }
   ],
   "source": [
    "plt.figure(figsize=(5, 8)) \n",
    "event_per_usr.boxplot(column='event_cnt')\n",
    "plt.ylim(0,60)"
   ]
  },
  {
   "cell_type": "code",
   "execution_count": 46,
   "id": "jvOdQsDgNe9l",
   "metadata": {
    "colab": {
     "base_uri": "https://localhost:8080/",
     "height": 300
    },
    "executionInfo": {
     "elapsed": 18,
     "status": "ok",
     "timestamp": 1650539002475,
     "user": {
      "displayName": "Vadim Selin",
      "userId": "13742755250186020674"
     },
     "user_tz": -180
    },
    "id": "jvOdQsDgNe9l",
    "outputId": "2a2a62ef-069e-4268-ce27-afe7ed696c49"
   },
   "outputs": [
    {
     "data": {
      "text/html": [
       "<div>\n",
       "<style scoped>\n",
       "    .dataframe tbody tr th:only-of-type {\n",
       "        vertical-align: middle;\n",
       "    }\n",
       "\n",
       "    .dataframe tbody tr th {\n",
       "        vertical-align: top;\n",
       "    }\n",
       "\n",
       "    .dataframe thead th {\n",
       "        text-align: right;\n",
       "    }\n",
       "</style>\n",
       "<table border=\"1\" class=\"dataframe\">\n",
       "  <thead>\n",
       "    <tr style=\"text-align: right;\">\n",
       "      <th></th>\n",
       "      <th>event_cnt</th>\n",
       "    </tr>\n",
       "  </thead>\n",
       "  <tbody>\n",
       "    <tr>\n",
       "      <th>count</th>\n",
       "      <td>4293.000000</td>\n",
       "    </tr>\n",
       "    <tr>\n",
       "      <th>mean</th>\n",
       "      <td>17.283252</td>\n",
       "    </tr>\n",
       "    <tr>\n",
       "      <th>std</th>\n",
       "      <td>29.130677</td>\n",
       "    </tr>\n",
       "    <tr>\n",
       "      <th>min</th>\n",
       "      <td>1.000000</td>\n",
       "    </tr>\n",
       "    <tr>\n",
       "      <th>25%</th>\n",
       "      <td>5.000000</td>\n",
       "    </tr>\n",
       "    <tr>\n",
       "      <th>50%</th>\n",
       "      <td>9.000000</td>\n",
       "    </tr>\n",
       "    <tr>\n",
       "      <th>75%</th>\n",
       "      <td>17.000000</td>\n",
       "    </tr>\n",
       "    <tr>\n",
       "      <th>max</th>\n",
       "      <td>478.000000</td>\n",
       "    </tr>\n",
       "  </tbody>\n",
       "</table>\n",
       "</div>"
      ],
      "text/plain": [
       "         event_cnt\n",
       "count  4293.000000\n",
       "mean     17.283252\n",
       "std      29.130677\n",
       "min       1.000000\n",
       "25%       5.000000\n",
       "50%       9.000000\n",
       "75%      17.000000\n",
       "max     478.000000"
      ]
     },
     "execution_count": 46,
     "metadata": {},
     "output_type": "execute_result"
    }
   ],
   "source": [
    "event_per_usr.describe()"
   ]
  },
  {
   "cell_type": "code",
   "execution_count": 47,
   "id": "aa0043de",
   "metadata": {
    "colab": {
     "base_uri": "https://localhost:8080/"
    },
    "executionInfo": {
     "elapsed": 17,
     "status": "ok",
     "timestamp": 1650539002475,
     "user": {
      "displayName": "Vadim Selin",
      "userId": "13742755250186020674"
     },
     "user_tz": -180
    },
    "id": "aa0043de",
    "outputId": "fdde9e8f-20f3-48ae-c6d8-57dd082614e7"
   },
   "outputs": [
    {
     "data": {
      "text/plain": [
       "0    5\n",
       "dtype: int64"
      ]
     },
     "execution_count": 47,
     "metadata": {},
     "output_type": "execute_result"
    }
   ],
   "source": [
    "event_per_usr['event_cnt'].mode()"
   ]
  },
  {
   "cell_type": "markdown",
   "id": "74f26dc4",
   "metadata": {
    "id": "74f26dc4"
   },
   "source": [
    "- По версии \"ящика с усами\" пользователи, совершившие более 35 событий, относятся к выбросам\n",
    "- Мода составляет 5 событий на пользователя\n",
    "- А максимум равен 478 событиям\n",
    "\n",
    "Но если учесть, что в логе у нас события за 28 дней, то 478 событий - это не очень-то похоже на аномальное поведение. Это всего-лишь 17 событий в день в среднем, если вы являлилсь пользователем от начала до конца лога. В обычной жизни многие пользуются приложениями годами, а не один раз. И 17 тапов в приложении за день - это может быть весьма скромно.\n",
    "\n",
    "Посмотрю, какова доля пользователей, совершивших более 35 событий за исследуемый период"
   ]
  },
  {
   "cell_type": "code",
   "execution_count": 48,
   "id": "6a1b7a25",
   "metadata": {
    "colab": {
     "base_uri": "https://localhost:8080/"
    },
    "executionInfo": {
     "elapsed": 14,
     "status": "ok",
     "timestamp": 1650539002475,
     "user": {
      "displayName": "Vadim Selin",
      "userId": "13742755250186020674"
     },
     "user_tz": -180
    },
    "id": "6a1b7a25",
    "outputId": "68dc898c-c40c-44e0-cc70-37fe18c96be4"
   },
   "outputs": [
    {
     "data": {
      "text/plain": [
       "0.8989051945026788"
      ]
     },
     "execution_count": 48,
     "metadata": {},
     "output_type": "execute_result"
    }
   ],
   "source": [
    "len(event_per_usr.query('event_cnt <= 35')) / len(event_per_usr)"
   ]
  },
  {
   "cell_type": "markdown",
   "id": "d38d538c",
   "metadata": {
    "id": "d38d538c"
   },
   "source": [
    "- Более 10% пользователей совершили более 35 событий за вермя исследования\n",
    "- А может, это наши лучшие клиенты\n",
    "- Проверю, когда они совершили свои первые действия "
   ]
  },
  {
   "cell_type": "code",
   "execution_count": 49,
   "id": "72c9030a",
   "metadata": {
    "executionInfo": {
     "elapsed": 12,
     "status": "ok",
     "timestamp": 1650539002476,
     "user": {
      "displayName": "Vadim Selin",
      "userId": "13742755250186020674"
     },
     "user_tz": -180
    },
    "id": "72c9030a"
   },
   "outputs": [],
   "source": [
    "event_per_usr_f = event_per_usr[event_per_usr['event_cnt'] <= 35]"
   ]
  },
  {
   "cell_type": "code",
   "execution_count": 50,
   "id": "a4382ac1",
   "metadata": {
    "executionInfo": {
     "elapsed": 12,
     "status": "ok",
     "timestamp": 1650539002476,
     "user": {
      "displayName": "Vadim Selin",
      "userId": "13742755250186020674"
     },
     "user_tz": -180
    },
    "id": "a4382ac1"
   },
   "outputs": [],
   "source": [
    "# создам временный сводник по самым активным пользователям\n",
    "t = (\n",
    "    df[~df['user_id'].isin(event_per_usr_f.index)]\n",
    "    .groupby('user_id').agg({'event_date': ['min', 'count']})\n",
    "\n",
    ")"
   ]
  },
  {
   "cell_type": "code",
   "execution_count": 51,
   "id": "a38b85b7",
   "metadata": {
    "colab": {
     "base_uri": "https://localhost:8080/",
     "height": 486
    },
    "executionInfo": {
     "elapsed": 12,
     "status": "ok",
     "timestamp": 1650539002476,
     "user": {
      "displayName": "Vadim Selin",
      "userId": "13742755250186020674"
     },
     "user_tz": -180
    },
    "id": "a38b85b7",
    "outputId": "f1246616-8aa4-4096-d90a-887f98de0bc4"
   },
   "outputs": [
    {
     "data": {
      "text/html": [
       "<div>\n",
       "<style scoped>\n",
       "    .dataframe tbody tr th:only-of-type {\n",
       "        vertical-align: middle;\n",
       "    }\n",
       "\n",
       "    .dataframe tbody tr th {\n",
       "        vertical-align: top;\n",
       "    }\n",
       "\n",
       "    .dataframe thead tr th {\n",
       "        text-align: left;\n",
       "    }\n",
       "\n",
       "    .dataframe thead tr:last-of-type th {\n",
       "        text-align: right;\n",
       "    }\n",
       "</style>\n",
       "<table border=\"1\" class=\"dataframe\">\n",
       "  <thead>\n",
       "    <tr>\n",
       "      <th></th>\n",
       "      <th colspan=\"2\" halign=\"left\">event_date</th>\n",
       "    </tr>\n",
       "    <tr>\n",
       "      <th></th>\n",
       "      <th>min</th>\n",
       "      <th>count</th>\n",
       "    </tr>\n",
       "    <tr>\n",
       "      <th>user_id</th>\n",
       "      <th></th>\n",
       "      <th></th>\n",
       "    </tr>\n",
       "  </thead>\n",
       "  <tbody>\n",
       "    <tr>\n",
       "      <th>00157779-810c-4498-9e05-a1e9e3cedf93</th>\n",
       "      <td>2019-10-19</td>\n",
       "      <td>71</td>\n",
       "    </tr>\n",
       "    <tr>\n",
       "      <th>017c6afc-965d-4c94-84ee-f0e326998e30</th>\n",
       "      <td>2019-10-10</td>\n",
       "      <td>41</td>\n",
       "    </tr>\n",
       "    <tr>\n",
       "      <th>02c90994-8de8-49e8-a384-415fb1602ac5</th>\n",
       "      <td>2019-10-14</td>\n",
       "      <td>40</td>\n",
       "    </tr>\n",
       "    <tr>\n",
       "      <th>04adf25e-cb60-4cbd-bedc-ddc1057cde06</th>\n",
       "      <td>2019-10-13</td>\n",
       "      <td>110</td>\n",
       "    </tr>\n",
       "    <tr>\n",
       "      <th>04d0b1b4-d31f-4c19-bc7e-14e5fcf6f791</th>\n",
       "      <td>2019-10-26</td>\n",
       "      <td>170</td>\n",
       "    </tr>\n",
       "    <tr>\n",
       "      <th>...</th>\n",
       "      <td>...</td>\n",
       "      <td>...</td>\n",
       "    </tr>\n",
       "    <tr>\n",
       "      <th>fdd232f5-962d-4eed-ac02-f0141385cc8f</th>\n",
       "      <td>2019-10-08</td>\n",
       "      <td>90</td>\n",
       "    </tr>\n",
       "    <tr>\n",
       "      <th>feb7c7a1-26e0-4ea9-9cdc-3e5b401cac97</th>\n",
       "      <td>2019-10-17</td>\n",
       "      <td>75</td>\n",
       "    </tr>\n",
       "    <tr>\n",
       "      <th>fee3ba1c-16f4-46f7-bf56-4bf80cc4e2f5</th>\n",
       "      <td>2019-10-26</td>\n",
       "      <td>56</td>\n",
       "    </tr>\n",
       "    <tr>\n",
       "      <th>ff82c7c7-16d6-44b1-833b-a217747b0b02</th>\n",
       "      <td>2019-10-15</td>\n",
       "      <td>52</td>\n",
       "    </tr>\n",
       "    <tr>\n",
       "      <th>fffb9e79-b927-4dbb-9b48-7fd09b23a62b</th>\n",
       "      <td>2019-10-12</td>\n",
       "      <td>303</td>\n",
       "    </tr>\n",
       "  </tbody>\n",
       "</table>\n",
       "<p>434 rows × 2 columns</p>\n",
       "</div>"
      ],
      "text/plain": [
       "                                     event_date      \n",
       "                                            min count\n",
       "user_id                                              \n",
       "00157779-810c-4498-9e05-a1e9e3cedf93 2019-10-19    71\n",
       "017c6afc-965d-4c94-84ee-f0e326998e30 2019-10-10    41\n",
       "02c90994-8de8-49e8-a384-415fb1602ac5 2019-10-14    40\n",
       "04adf25e-cb60-4cbd-bedc-ddc1057cde06 2019-10-13   110\n",
       "04d0b1b4-d31f-4c19-bc7e-14e5fcf6f791 2019-10-26   170\n",
       "...                                         ...   ...\n",
       "fdd232f5-962d-4eed-ac02-f0141385cc8f 2019-10-08    90\n",
       "feb7c7a1-26e0-4ea9-9cdc-3e5b401cac97 2019-10-17    75\n",
       "fee3ba1c-16f4-46f7-bf56-4bf80cc4e2f5 2019-10-26    56\n",
       "ff82c7c7-16d6-44b1-833b-a217747b0b02 2019-10-15    52\n",
       "fffb9e79-b927-4dbb-9b48-7fd09b23a62b 2019-10-12   303\n",
       "\n",
       "[434 rows x 2 columns]"
      ]
     },
     "execution_count": 51,
     "metadata": {},
     "output_type": "execute_result"
    }
   ],
   "source": [
    "t"
   ]
  },
  {
   "cell_type": "code",
   "execution_count": 52,
   "id": "655fbecb",
   "metadata": {
    "executionInfo": {
     "elapsed": 12,
     "status": "ok",
     "timestamp": 1650539002477,
     "user": {
      "displayName": "Vadim Selin",
      "userId": "13742755250186020674"
     },
     "user_tz": -180
    },
    "id": "655fbecb"
   },
   "outputs": [],
   "source": [
    "# сделаю индексы одноуровненвыми\n",
    "t.columns = ['_'.join(col).strip() for col in t.columns.values]"
   ]
  },
  {
   "cell_type": "code",
   "execution_count": 53,
   "id": "4950223b",
   "metadata": {
    "colab": {
     "base_uri": "https://localhost:8080/",
     "height": 454
    },
    "executionInfo": {
     "elapsed": 10,
     "status": "ok",
     "timestamp": 1650539002477,
     "user": {
      "displayName": "Vadim Selin",
      "userId": "13742755250186020674"
     },
     "user_tz": -180
    },
    "id": "4950223b",
    "outputId": "7a99f161-ad27-4c1d-8fbc-d24b341d2aa2"
   },
   "outputs": [
    {
     "data": {
      "text/html": [
       "<div>\n",
       "<style scoped>\n",
       "    .dataframe tbody tr th:only-of-type {\n",
       "        vertical-align: middle;\n",
       "    }\n",
       "\n",
       "    .dataframe tbody tr th {\n",
       "        vertical-align: top;\n",
       "    }\n",
       "\n",
       "    .dataframe thead th {\n",
       "        text-align: right;\n",
       "    }\n",
       "</style>\n",
       "<table border=\"1\" class=\"dataframe\">\n",
       "  <thead>\n",
       "    <tr style=\"text-align: right;\">\n",
       "      <th></th>\n",
       "      <th>event_date_min</th>\n",
       "      <th>event_date_count</th>\n",
       "    </tr>\n",
       "    <tr>\n",
       "      <th>user_id</th>\n",
       "      <th></th>\n",
       "      <th></th>\n",
       "    </tr>\n",
       "  </thead>\n",
       "  <tbody>\n",
       "    <tr>\n",
       "      <th>cb36854f-570a-41f4-baa8-36680b396370</th>\n",
       "      <td>2019-10-07</td>\n",
       "      <td>478</td>\n",
       "    </tr>\n",
       "    <tr>\n",
       "      <th>e13f9f32-7ae3-4204-8d60-898db040bcfc</th>\n",
       "      <td>2019-10-18</td>\n",
       "      <td>465</td>\n",
       "    </tr>\n",
       "    <tr>\n",
       "      <th>9ce63488-758a-481a-bcb5-a02b467e1d84</th>\n",
       "      <td>2019-10-08</td>\n",
       "      <td>407</td>\n",
       "    </tr>\n",
       "    <tr>\n",
       "      <th>21230dd9-2f7f-4b77-a436-43d4d10388e0</th>\n",
       "      <td>2019-10-10</td>\n",
       "      <td>400</td>\n",
       "    </tr>\n",
       "    <tr>\n",
       "      <th>be1449f6-ca45-4f94-93a7-ea4b079b8f0f</th>\n",
       "      <td>2019-10-07</td>\n",
       "      <td>397</td>\n",
       "    </tr>\n",
       "    <tr>\n",
       "      <th>...</th>\n",
       "      <td>...</td>\n",
       "      <td>...</td>\n",
       "    </tr>\n",
       "    <tr>\n",
       "      <th>f9e48f0a-b7b3-452b-9018-0d1e1574b9f5</th>\n",
       "      <td>2019-10-23</td>\n",
       "      <td>36</td>\n",
       "    </tr>\n",
       "    <tr>\n",
       "      <th>8d4aff9c-730e-4164-bf93-9873d215a7ad</th>\n",
       "      <td>2019-10-10</td>\n",
       "      <td>36</td>\n",
       "    </tr>\n",
       "    <tr>\n",
       "      <th>a9a31e05-6a54-497b-b827-baff2ecd5a45</th>\n",
       "      <td>2019-10-19</td>\n",
       "      <td>36</td>\n",
       "    </tr>\n",
       "    <tr>\n",
       "      <th>8c2b2b75-992a-4cf8-a92e-578e5f6b06d3</th>\n",
       "      <td>2019-10-15</td>\n",
       "      <td>36</td>\n",
       "    </tr>\n",
       "    <tr>\n",
       "      <th>e4ba7f63-afc1-4c47-bfda-5df687a9aaae</th>\n",
       "      <td>2019-10-23</td>\n",
       "      <td>36</td>\n",
       "    </tr>\n",
       "  </tbody>\n",
       "</table>\n",
       "<p>434 rows × 2 columns</p>\n",
       "</div>"
      ],
      "text/plain": [
       "                                     event_date_min  event_date_count\n",
       "user_id                                                              \n",
       "cb36854f-570a-41f4-baa8-36680b396370     2019-10-07               478\n",
       "e13f9f32-7ae3-4204-8d60-898db040bcfc     2019-10-18               465\n",
       "9ce63488-758a-481a-bcb5-a02b467e1d84     2019-10-08               407\n",
       "21230dd9-2f7f-4b77-a436-43d4d10388e0     2019-10-10               400\n",
       "be1449f6-ca45-4f94-93a7-ea4b079b8f0f     2019-10-07               397\n",
       "...                                             ...               ...\n",
       "f9e48f0a-b7b3-452b-9018-0d1e1574b9f5     2019-10-23                36\n",
       "8d4aff9c-730e-4164-bf93-9873d215a7ad     2019-10-10                36\n",
       "a9a31e05-6a54-497b-b827-baff2ecd5a45     2019-10-19                36\n",
       "8c2b2b75-992a-4cf8-a92e-578e5f6b06d3     2019-10-15                36\n",
       "e4ba7f63-afc1-4c47-bfda-5df687a9aaae     2019-10-23                36\n",
       "\n",
       "[434 rows x 2 columns]"
      ]
     },
     "execution_count": 53,
     "metadata": {},
     "output_type": "execute_result"
    }
   ],
   "source": [
    "t.sort_values(by='event_date_count', ascending=False)"
   ]
  },
  {
   "cell_type": "markdown",
   "id": "1e4b342c",
   "metadata": {
    "id": "1e4b342c"
   },
   "source": [
    "- Самый активный пользователь впервые начал соввершать действия с первого дня записи лога. Поэтому не удивительно, что он за месяц смог совершить 478 событий. \n",
    "- Посмотрю на диаграмме рассеяния, как на временной оси лога расположены первые визиты пользователей с самым большим числом событий."
   ]
  },
  {
   "cell_type": "code",
   "execution_count": 54,
   "id": "8df482bc",
   "metadata": {
    "colab": {
     "base_uri": "https://localhost:8080/",
     "height": 404
    },
    "executionInfo": {
     "elapsed": 470,
     "status": "ok",
     "timestamp": 1650539002938,
     "user": {
      "displayName": "Vadim Selin",
      "userId": "13742755250186020674"
     },
     "user_tz": -180
    },
    "id": "8df482bc",
    "outputId": "57ecd652-94d7-4dcc-dd6f-13a5224ae3a5"
   },
   "outputs": [
    {
     "data": {
      "image/png": "[encoded data removed]",
      "text/plain": [
       "<Figure size 720x432 with 1 Axes>"
      ]
     },
     "metadata": {
      "needs_background": "light"
     },
     "output_type": "display_data"
    }
   ],
   "source": [
    "t.plot(\n",
    "    x='event_date_min', \n",
    "    y='event_date_count', \n",
    "    kind='scatter', \n",
    "    alpha=0.3,\n",
    "    figsize=(10, 6)\n",
    ")\n",
    "plt.title('Сумма событий и дата первого визита самых активных пользователей')\n",
    "plt.ylabel('Сумма событий за весь период лога')\n",
    "plt.xlabel('Дата первого события в логе')\n",
    "plt.show()"
   ]
  },
  {
   "cell_type": "markdown",
   "id": "32bb81f1",
   "metadata": {
    "id": "32bb81f1"
   },
   "source": [
    "Даже для отдельных, наиболее щедрых на события пользователей, актуально утверждение:\n",
    "- кто раньше начал пользоваться приложеним, тот успел больше совершить событий\n",
    "- поэтому считать таковых пользователей аномальными и исключать из кластеризации я не буду"
   ]
  },
  {
   "cell_type": "markdown",
   "id": "1e84ebe8",
   "metadata": {
    "id": "1e84ebe8"
   },
   "source": [
    "# Кластеризация, изучение продуктовых метрик по кластерам."
   ]
  },
  {
   "cell_type": "markdown",
   "id": "f2642196",
   "metadata": {
    "id": "f2642196"
   },
   "source": [
    "## Создам по каждому виду события дополнительный столбец с флагами\n",
    "\n",
    "- для каждого пользователя (1,0 - совершил,не совершил)"
   ]
  },
  {
   "cell_type": "code",
   "execution_count": 55,
   "id": "SRWc39RE85Qk",
   "metadata": {
    "executionInfo": {
     "elapsed": 22,
     "status": "ok",
     "timestamp": 1650539002939,
     "user": {
      "displayName": "Vadim Selin",
      "userId": "13742755250186020674"
     },
     "user_tz": -180
    },
    "id": "SRWc39RE85Qk"
   },
   "outputs": [],
   "source": [
    "flag_t = pd.get_dummies(df['event_name'])"
   ]
  },
  {
   "cell_type": "code",
   "execution_count": 56,
   "id": "C0Iq1NA-9A8D",
   "metadata": {
    "colab": {
     "base_uri": "https://localhost:8080/",
     "height": 423
    },
    "executionInfo": {
     "elapsed": 22,
     "status": "ok",
     "timestamp": 1650539002939,
     "user": {
      "displayName": "Vadim Selin",
      "userId": "13742755250186020674"
     },
     "user_tz": -180
    },
    "id": "C0Iq1NA-9A8D",
    "outputId": "cdc87997-0375-43c3-b5b5-a9eaa422cc7e"
   },
   "outputs": [
    {
     "data": {
      "text/html": [
       "<div>\n",
       "<style scoped>\n",
       "    .dataframe tbody tr th:only-of-type {\n",
       "        vertical-align: middle;\n",
       "    }\n",
       "\n",
       "    .dataframe tbody tr th {\n",
       "        vertical-align: top;\n",
       "    }\n",
       "\n",
       "    .dataframe thead th {\n",
       "        text-align: right;\n",
       "    }\n",
       "</style>\n",
       "<table border=\"1\" class=\"dataframe\">\n",
       "  <thead>\n",
       "    <tr style=\"text-align: right;\">\n",
       "      <th></th>\n",
       "      <th>advert_open</th>\n",
       "      <th>contacts_call</th>\n",
       "      <th>contacts_show</th>\n",
       "      <th>favorites_add</th>\n",
       "      <th>map</th>\n",
       "      <th>photos_show</th>\n",
       "      <th>search_action</th>\n",
       "      <th>tips_click</th>\n",
       "      <th>tips_show</th>\n",
       "    </tr>\n",
       "  </thead>\n",
       "  <tbody>\n",
       "    <tr>\n",
       "      <th>0</th>\n",
       "      <td>1</td>\n",
       "      <td>0</td>\n",
       "      <td>0</td>\n",
       "      <td>0</td>\n",
       "      <td>0</td>\n",
       "      <td>0</td>\n",
       "      <td>0</td>\n",
       "      <td>0</td>\n",
       "      <td>0</td>\n",
       "    </tr>\n",
       "    <tr>\n",
       "      <th>1</th>\n",
       "      <td>0</td>\n",
       "      <td>0</td>\n",
       "      <td>0</td>\n",
       "      <td>0</td>\n",
       "      <td>0</td>\n",
       "      <td>0</td>\n",
       "      <td>0</td>\n",
       "      <td>0</td>\n",
       "      <td>1</td>\n",
       "    </tr>\n",
       "    <tr>\n",
       "      <th>2</th>\n",
       "      <td>0</td>\n",
       "      <td>0</td>\n",
       "      <td>0</td>\n",
       "      <td>0</td>\n",
       "      <td>0</td>\n",
       "      <td>0</td>\n",
       "      <td>0</td>\n",
       "      <td>0</td>\n",
       "      <td>1</td>\n",
       "    </tr>\n",
       "    <tr>\n",
       "      <th>3</th>\n",
       "      <td>0</td>\n",
       "      <td>0</td>\n",
       "      <td>0</td>\n",
       "      <td>0</td>\n",
       "      <td>0</td>\n",
       "      <td>0</td>\n",
       "      <td>0</td>\n",
       "      <td>0</td>\n",
       "      <td>1</td>\n",
       "    </tr>\n",
       "    <tr>\n",
       "      <th>4</th>\n",
       "      <td>1</td>\n",
       "      <td>0</td>\n",
       "      <td>0</td>\n",
       "      <td>0</td>\n",
       "      <td>0</td>\n",
       "      <td>0</td>\n",
       "      <td>0</td>\n",
       "      <td>0</td>\n",
       "      <td>0</td>\n",
       "    </tr>\n",
       "    <tr>\n",
       "      <th>...</th>\n",
       "      <td>...</td>\n",
       "      <td>...</td>\n",
       "      <td>...</td>\n",
       "      <td>...</td>\n",
       "      <td>...</td>\n",
       "      <td>...</td>\n",
       "      <td>...</td>\n",
       "      <td>...</td>\n",
       "      <td>...</td>\n",
       "    </tr>\n",
       "    <tr>\n",
       "      <th>74192</th>\n",
       "      <td>0</td>\n",
       "      <td>0</td>\n",
       "      <td>0</td>\n",
       "      <td>0</td>\n",
       "      <td>0</td>\n",
       "      <td>0</td>\n",
       "      <td>0</td>\n",
       "      <td>0</td>\n",
       "      <td>1</td>\n",
       "    </tr>\n",
       "    <tr>\n",
       "      <th>74193</th>\n",
       "      <td>0</td>\n",
       "      <td>0</td>\n",
       "      <td>0</td>\n",
       "      <td>0</td>\n",
       "      <td>0</td>\n",
       "      <td>0</td>\n",
       "      <td>0</td>\n",
       "      <td>0</td>\n",
       "      <td>1</td>\n",
       "    </tr>\n",
       "    <tr>\n",
       "      <th>74194</th>\n",
       "      <td>0</td>\n",
       "      <td>0</td>\n",
       "      <td>0</td>\n",
       "      <td>0</td>\n",
       "      <td>0</td>\n",
       "      <td>0</td>\n",
       "      <td>1</td>\n",
       "      <td>0</td>\n",
       "      <td>0</td>\n",
       "    </tr>\n",
       "    <tr>\n",
       "      <th>74195</th>\n",
       "      <td>0</td>\n",
       "      <td>0</td>\n",
       "      <td>0</td>\n",
       "      <td>0</td>\n",
       "      <td>0</td>\n",
       "      <td>0</td>\n",
       "      <td>0</td>\n",
       "      <td>0</td>\n",
       "      <td>1</td>\n",
       "    </tr>\n",
       "    <tr>\n",
       "      <th>74196</th>\n",
       "      <td>0</td>\n",
       "      <td>0</td>\n",
       "      <td>0</td>\n",
       "      <td>0</td>\n",
       "      <td>0</td>\n",
       "      <td>0</td>\n",
       "      <td>0</td>\n",
       "      <td>0</td>\n",
       "      <td>1</td>\n",
       "    </tr>\n",
       "  </tbody>\n",
       "</table>\n",
       "<p>74197 rows × 9 columns</p>\n",
       "</div>"
      ],
      "text/plain": [
       "       advert_open  contacts_call  contacts_show  favorites_add  map  \\\n",
       "0                1              0              0              0    0   \n",
       "1                0              0              0              0    0   \n",
       "2                0              0              0              0    0   \n",
       "3                0              0              0              0    0   \n",
       "4                1              0              0              0    0   \n",
       "...            ...            ...            ...            ...  ...   \n",
       "74192            0              0              0              0    0   \n",
       "74193            0              0              0              0    0   \n",
       "74194            0              0              0              0    0   \n",
       "74195            0              0              0              0    0   \n",
       "74196            0              0              0              0    0   \n",
       "\n",
       "       photos_show  search_action  tips_click  tips_show  \n",
       "0                0              0           0          0  \n",
       "1                0              0           0          1  \n",
       "2                0              0           0          1  \n",
       "3                0              0           0          1  \n",
       "4                0              0           0          0  \n",
       "...            ...            ...         ...        ...  \n",
       "74192            0              0           0          1  \n",
       "74193            0              0           0          1  \n",
       "74194            0              1           0          0  \n",
       "74195            0              0           0          1  \n",
       "74196            0              0           0          1  \n",
       "\n",
       "[74197 rows x 9 columns]"
      ]
     },
     "execution_count": 56,
     "metadata": {},
     "output_type": "execute_result"
    }
   ],
   "source": [
    "flag_t"
   ]
  },
  {
   "cell_type": "markdown",
   "id": "9Hc1UYWS9Mkl",
   "metadata": {
    "id": "9Hc1UYWS9Mkl"
   },
   "source": [
    "- Получил датафрейм такой же длинны как исходный `df`и с тем же набором индексов\n",
    "- Проверю, что все события остались на месте"
   ]
  },
  {
   "cell_type": "code",
   "execution_count": 57,
   "id": "8a4JhGuu8VcM",
   "metadata": {
    "colab": {
     "base_uri": "https://localhost:8080/"
    },
    "executionInfo": {
     "elapsed": 22,
     "status": "ok",
     "timestamp": 1650539002940,
     "user": {
      "displayName": "Vadim Selin",
      "userId": "13742755250186020674"
     },
     "user_tz": -180
    },
    "id": "8a4JhGuu8VcM",
    "outputId": "d12cdf34-e7d4-4f1e-b3bf-cd8747d970e7"
   },
   "outputs": [
    {
     "data": {
      "text/plain": [
       "tips_show        40055\n",
       "photos_show      10012\n",
       "search_action     6784\n",
       "advert_open       6164\n",
       "contacts_show     4529\n",
       "map               3881\n",
       "favorites_add     1417\n",
       "tips_click         814\n",
       "contacts_call      541\n",
       "dtype: int64"
      ]
     },
     "execution_count": 57,
     "metadata": {},
     "output_type": "execute_result"
    }
   ],
   "source": [
    "flag_t.sum().sort_values(ascending=False)"
   ]
  },
  {
   "cell_type": "code",
   "execution_count": 58,
   "id": "phOfkRJ68rEM",
   "metadata": {
    "colab": {
     "base_uri": "https://localhost:8080/"
    },
    "executionInfo": {
     "elapsed": 17,
     "status": "ok",
     "timestamp": 1650539002940,
     "user": {
      "displayName": "Vadim Selin",
      "userId": "13742755250186020674"
     },
     "user_tz": -180
    },
    "id": "phOfkRJ68rEM",
    "outputId": "18a89cd4-911f-42dc-f604-dd218692694d"
   },
   "outputs": [
    {
     "data": {
      "text/plain": [
       "tips_show        40055\n",
       "photos_show      10012\n",
       "search_action     6784\n",
       "advert_open       6164\n",
       "contacts_show     4529\n",
       "map               3881\n",
       "favorites_add     1417\n",
       "tips_click         814\n",
       "contacts_call      541\n",
       "Name: event_name, dtype: int64"
      ]
     },
     "execution_count": 58,
     "metadata": {},
     "output_type": "execute_result"
    }
   ],
   "source": [
    "df['event_name'].value_counts()"
   ]
  },
  {
   "cell_type": "markdown",
   "id": "QfsOnpYD-Ca0",
   "metadata": {
    "id": "QfsOnpYD-Ca0"
   },
   "source": [
    "- Чтобы информация о событии в таблице `flag_t` соответствовала своему пользователю и времени объеденю `df` и `flag_t`\n",
    "- Это же позволит проверить правильность сопоставления конкретного события флагу."
   ]
  },
  {
   "cell_type": "code",
   "execution_count": 59,
   "id": "J-m8SXWw-tYE",
   "metadata": {
    "executionInfo": {
     "elapsed": 14,
     "status": "ok",
     "timestamp": 1650539002940,
     "user": {
      "displayName": "Vadim Selin",
      "userId": "13742755250186020674"
     },
     "user_tz": -180
    },
    "id": "J-m8SXWw-tYE"
   },
   "outputs": [],
   "source": [
    "df = df.merge(flag_t, how='left', left_index=True, right_index=True)"
   ]
  },
  {
   "cell_type": "markdown",
   "id": "b-jXh0J0_a4c",
   "metadata": {
    "id": "b-jXh0J0_a4c"
   },
   "source": [
    "- Проверю случайной выборкой, что флаги соответствуют событиям"
   ]
  },
  {
   "cell_type": "code",
   "execution_count": 60,
   "id": "mTXlcXiG_pCD",
   "metadata": {
    "colab": {
     "base_uri": "https://localhost:8080/",
     "height": 580
    },
    "executionInfo": {
     "elapsed": 13,
     "status": "ok",
     "timestamp": 1650539002940,
     "user": {
      "displayName": "Vadim Selin",
      "userId": "13742755250186020674"
     },
     "user_tz": -180
    },
    "id": "mTXlcXiG_pCD",
    "outputId": "23cb46b3-3a85-4a26-909a-211bc3b8e99a"
   },
   "outputs": [
    {
     "data": {
      "text/html": [
       "<div>\n",
       "<style scoped>\n",
       "    .dataframe tbody tr th:only-of-type {\n",
       "        vertical-align: middle;\n",
       "    }\n",
       "\n",
       "    .dataframe tbody tr th {\n",
       "        vertical-align: top;\n",
       "    }\n",
       "\n",
       "    .dataframe thead th {\n",
       "        text-align: right;\n",
       "    }\n",
       "</style>\n",
       "<table border=\"1\" class=\"dataframe\">\n",
       "  <thead>\n",
       "    <tr style=\"text-align: right;\">\n",
       "      <th></th>\n",
       "      <th>event_time</th>\n",
       "      <th>event_name</th>\n",
       "      <th>user_id</th>\n",
       "      <th>source</th>\n",
       "      <th>event_date</th>\n",
       "      <th>event_week</th>\n",
       "      <th>advert_open</th>\n",
       "      <th>contacts_call</th>\n",
       "      <th>contacts_show</th>\n",
       "      <th>favorites_add</th>\n",
       "      <th>map</th>\n",
       "      <th>photos_show</th>\n",
       "      <th>search_action</th>\n",
       "      <th>tips_click</th>\n",
       "      <th>tips_show</th>\n",
       "    </tr>\n",
       "  </thead>\n",
       "  <tbody>\n",
       "    <tr>\n",
       "      <th>71890</th>\n",
       "      <td>2019-11-03 12:27:22.786513</td>\n",
       "      <td>photos_show</td>\n",
       "      <td>f44e494a-ebb9-4c50-9e6d-7f06fa763cdc</td>\n",
       "      <td>yandex</td>\n",
       "      <td>2019-11-03</td>\n",
       "      <td>44</td>\n",
       "      <td>0</td>\n",
       "      <td>0</td>\n",
       "      <td>0</td>\n",
       "      <td>0</td>\n",
       "      <td>0</td>\n",
       "      <td>1</td>\n",
       "      <td>0</td>\n",
       "      <td>0</td>\n",
       "      <td>0</td>\n",
       "    </tr>\n",
       "    <tr>\n",
       "      <th>331</th>\n",
       "      <td>2019-10-07 10:22:07.869935</td>\n",
       "      <td>tips_show</td>\n",
       "      <td>1a3361d1-2002-4389-a669-ecb06ea7a90a</td>\n",
       "      <td>yandex</td>\n",
       "      <td>2019-10-07</td>\n",
       "      <td>41</td>\n",
       "      <td>0</td>\n",
       "      <td>0</td>\n",
       "      <td>0</td>\n",
       "      <td>0</td>\n",
       "      <td>0</td>\n",
       "      <td>0</td>\n",
       "      <td>0</td>\n",
       "      <td>0</td>\n",
       "      <td>1</td>\n",
       "    </tr>\n",
       "    <tr>\n",
       "      <th>48908</th>\n",
       "      <td>2019-10-26 02:56:49.569447</td>\n",
       "      <td>advert_open</td>\n",
       "      <td>7af68b4f-6ffe-41f6-ac1f-cc32731d4f88</td>\n",
       "      <td>other</td>\n",
       "      <td>2019-10-26</td>\n",
       "      <td>43</td>\n",
       "      <td>1</td>\n",
       "      <td>0</td>\n",
       "      <td>0</td>\n",
       "      <td>0</td>\n",
       "      <td>0</td>\n",
       "      <td>0</td>\n",
       "      <td>0</td>\n",
       "      <td>0</td>\n",
       "      <td>0</td>\n",
       "    </tr>\n",
       "    <tr>\n",
       "      <th>10299</th>\n",
       "      <td>2019-10-11 14:55:55.678968</td>\n",
       "      <td>tips_show</td>\n",
       "      <td>cfd9b735-0bc2-448d-8d54-0019db8748a3</td>\n",
       "      <td>yandex</td>\n",
       "      <td>2019-10-11</td>\n",
       "      <td>41</td>\n",
       "      <td>0</td>\n",
       "      <td>0</td>\n",
       "      <td>0</td>\n",
       "      <td>0</td>\n",
       "      <td>0</td>\n",
       "      <td>0</td>\n",
       "      <td>0</td>\n",
       "      <td>0</td>\n",
       "      <td>1</td>\n",
       "    </tr>\n",
       "    <tr>\n",
       "      <th>55006</th>\n",
       "      <td>2019-10-28 08:49:25.580550</td>\n",
       "      <td>map</td>\n",
       "      <td>6b97233c-c894-4926-a708-115518f0822c</td>\n",
       "      <td>yandex</td>\n",
       "      <td>2019-10-28</td>\n",
       "      <td>44</td>\n",
       "      <td>0</td>\n",
       "      <td>0</td>\n",
       "      <td>0</td>\n",
       "      <td>0</td>\n",
       "      <td>1</td>\n",
       "      <td>0</td>\n",
       "      <td>0</td>\n",
       "      <td>0</td>\n",
       "      <td>0</td>\n",
       "    </tr>\n",
       "    <tr>\n",
       "      <th>65106</th>\n",
       "      <td>2019-10-31 13:27:02.579297</td>\n",
       "      <td>tips_show</td>\n",
       "      <td>c53af9bf-61b3-4eaa-9b3e-64f79bb65e55</td>\n",
       "      <td>other</td>\n",
       "      <td>2019-10-31</td>\n",
       "      <td>44</td>\n",
       "      <td>0</td>\n",
       "      <td>0</td>\n",
       "      <td>0</td>\n",
       "      <td>0</td>\n",
       "      <td>0</td>\n",
       "      <td>0</td>\n",
       "      <td>0</td>\n",
       "      <td>0</td>\n",
       "      <td>1</td>\n",
       "    </tr>\n",
       "    <tr>\n",
       "      <th>28502</th>\n",
       "      <td>2019-10-18 15:55:10.732524</td>\n",
       "      <td>tips_show</td>\n",
       "      <td>b65e5c0a-9d16-4ae8-b56e-0832821c0265</td>\n",
       "      <td>yandex</td>\n",
       "      <td>2019-10-18</td>\n",
       "      <td>42</td>\n",
       "      <td>0</td>\n",
       "      <td>0</td>\n",
       "      <td>0</td>\n",
       "      <td>0</td>\n",
       "      <td>0</td>\n",
       "      <td>0</td>\n",
       "      <td>0</td>\n",
       "      <td>0</td>\n",
       "      <td>1</td>\n",
       "    </tr>\n",
       "    <tr>\n",
       "      <th>31536</th>\n",
       "      <td>2019-10-19 21:00:01.674727</td>\n",
       "      <td>photos_show</td>\n",
       "      <td>cea32a6f-3d5f-4e8a-a09b-e4a1915a0d92</td>\n",
       "      <td>other</td>\n",
       "      <td>2019-10-19</td>\n",
       "      <td>42</td>\n",
       "      <td>0</td>\n",
       "      <td>0</td>\n",
       "      <td>0</td>\n",
       "      <td>0</td>\n",
       "      <td>0</td>\n",
       "      <td>1</td>\n",
       "      <td>0</td>\n",
       "      <td>0</td>\n",
       "      <td>0</td>\n",
       "    </tr>\n",
       "    <tr>\n",
       "      <th>71700</th>\n",
       "      <td>2019-11-03 10:42:04.726882</td>\n",
       "      <td>tips_show</td>\n",
       "      <td>d581f667-9b01-4f19-a29f-4d5636533d77</td>\n",
       "      <td>google</td>\n",
       "      <td>2019-11-03</td>\n",
       "      <td>44</td>\n",
       "      <td>0</td>\n",
       "      <td>0</td>\n",
       "      <td>0</td>\n",
       "      <td>0</td>\n",
       "      <td>0</td>\n",
       "      <td>0</td>\n",
       "      <td>0</td>\n",
       "      <td>0</td>\n",
       "      <td>1</td>\n",
       "    </tr>\n",
       "    <tr>\n",
       "      <th>17595</th>\n",
       "      <td>2019-10-14 16:25:38.371576</td>\n",
       "      <td>tips_show</td>\n",
       "      <td>26e46040-b175-4e7f-8359-509022388ebb</td>\n",
       "      <td>other</td>\n",
       "      <td>2019-10-14</td>\n",
       "      <td>42</td>\n",
       "      <td>0</td>\n",
       "      <td>0</td>\n",
       "      <td>0</td>\n",
       "      <td>0</td>\n",
       "      <td>0</td>\n",
       "      <td>0</td>\n",
       "      <td>0</td>\n",
       "      <td>0</td>\n",
       "      <td>1</td>\n",
       "    </tr>\n",
       "  </tbody>\n",
       "</table>\n",
       "</div>"
      ],
      "text/plain": [
       "                      event_time   event_name  \\\n",
       "71890 2019-11-03 12:27:22.786513  photos_show   \n",
       "331   2019-10-07 10:22:07.869935    tips_show   \n",
       "48908 2019-10-26 02:56:49.569447  advert_open   \n",
       "10299 2019-10-11 14:55:55.678968    tips_show   \n",
       "55006 2019-10-28 08:49:25.580550          map   \n",
       "65106 2019-10-31 13:27:02.579297    tips_show   \n",
       "28502 2019-10-18 15:55:10.732524    tips_show   \n",
       "31536 2019-10-19 21:00:01.674727  photos_show   \n",
       "71700 2019-11-03 10:42:04.726882    tips_show   \n",
       "17595 2019-10-14 16:25:38.371576    tips_show   \n",
       "\n",
       "                                    user_id  source event_date  event_week  \\\n",
       "71890  f44e494a-ebb9-4c50-9e6d-7f06fa763cdc  yandex 2019-11-03          44   \n",
       "331    1a3361d1-2002-4389-a669-ecb06ea7a90a  yandex 2019-10-07          41   \n",
       "48908  7af68b4f-6ffe-41f6-ac1f-cc32731d4f88   other 2019-10-26          43   \n",
       "10299  cfd9b735-0bc2-448d-8d54-0019db8748a3  yandex 2019-10-11          41   \n",
       "55006  6b97233c-c894-4926-a708-115518f0822c  yandex 2019-10-28          44   \n",
       "65106  c53af9bf-61b3-4eaa-9b3e-64f79bb65e55   other 2019-10-31          44   \n",
       "28502  b65e5c0a-9d16-4ae8-b56e-0832821c0265  yandex 2019-10-18          42   \n",
       "31536  cea32a6f-3d5f-4e8a-a09b-e4a1915a0d92   other 2019-10-19          42   \n",
       "71700  d581f667-9b01-4f19-a29f-4d5636533d77  google 2019-11-03          44   \n",
       "17595  26e46040-b175-4e7f-8359-509022388ebb   other 2019-10-14          42   \n",
       "\n",
       "       advert_open  contacts_call  contacts_show  favorites_add  map  \\\n",
       "71890            0              0              0              0    0   \n",
       "331              0              0              0              0    0   \n",
       "48908            1              0              0              0    0   \n",
       "10299            0              0              0              0    0   \n",
       "55006            0              0              0              0    1   \n",
       "65106            0              0              0              0    0   \n",
       "28502            0              0              0              0    0   \n",
       "31536            0              0              0              0    0   \n",
       "71700            0              0              0              0    0   \n",
       "17595            0              0              0              0    0   \n",
       "\n",
       "       photos_show  search_action  tips_click  tips_show  \n",
       "71890            1              0           0          0  \n",
       "331              0              0           0          1  \n",
       "48908            0              0           0          0  \n",
       "10299            0              0           0          1  \n",
       "55006            0              0           0          0  \n",
       "65106            0              0           0          1  \n",
       "28502            0              0           0          1  \n",
       "31536            1              0           0          0  \n",
       "71700            0              0           0          1  \n",
       "17595            0              0           0          1  "
      ]
     },
     "execution_count": 60,
     "metadata": {},
     "output_type": "execute_result"
    }
   ],
   "source": [
    "df.sample(10, random_state=5)"
   ]
  },
  {
   "cell_type": "code",
   "execution_count": 61,
   "id": "pXPYLDn6ASmc",
   "metadata": {
    "colab": {
     "base_uri": "https://localhost:8080/"
    },
    "executionInfo": {
     "elapsed": 14,
     "status": "ok",
     "timestamp": 1650539002941,
     "user": {
      "displayName": "Vadim Selin",
      "userId": "13742755250186020674"
     },
     "user_tz": -180
    },
    "id": "pXPYLDn6ASmc",
    "outputId": "fa9f4f90-49d9-489e-ed20-c1356860ae02"
   },
   "outputs": [
    {
     "data": {
      "text/plain": [
       "event_time       0.0\n",
       "event_name       0.0\n",
       "user_id          0.0\n",
       "source           0.0\n",
       "event_date       0.0\n",
       "event_week       0.0\n",
       "advert_open      0.0\n",
       "contacts_call    0.0\n",
       "contacts_show    0.0\n",
       "favorites_add    0.0\n",
       "map              0.0\n",
       "photos_show      0.0\n",
       "search_action    0.0\n",
       "tips_click       0.0\n",
       "tips_show        0.0\n",
       "dtype: float64"
      ]
     },
     "execution_count": 61,
     "metadata": {},
     "output_type": "execute_result"
    }
   ],
   "source": [
    "df.isna().mean()"
   ]
  },
  {
   "cell_type": "markdown",
   "id": "siXr894vCta9",
   "metadata": {
    "id": "siXr894vCta9"
   },
   "source": [
    "- События соответствуют, пропусков не получил после объединения\n",
    "- Можно проводить кластеризацию"
   ]
  },
  {
   "cell_type": "markdown",
   "id": "0f44a4cb",
   "metadata": {
    "id": "0f44a4cb"
   },
   "source": [
    "## Провести кластеризацию пользователей по матрице основных параметров"
   ]
  },
  {
   "cell_type": "markdown",
   "id": "a2579cf3",
   "metadata": {
    "id": "a2579cf3"
   },
   "source": [
    "- Создам матрицу признаков для кластеризации:\n",
    "    - оставлю от исходного датафрейма только столбцы с `user_id` и полями с флагами событий по каждому событию и пользователю\n",
    "    - сгруппирую данные по `user_id` и вычислю среднее. В случае с флагами получу по каждому признаку для каждого пользователя долю всех совершённых им событий. То есть если пользователь всего совершил 100 событий в целом, 80 из них `tips_show`, то значения поля `tips_show` будет `0.8`\n",
    "    - выбрано именно среднее а не сумма, потому что масштаб числовых значений будет меньше, что положительно скажется на стандартизации датасета"
   ]
  },
  {
   "cell_type": "code",
   "execution_count": 62,
   "id": "I3PedbkMBP52",
   "metadata": {
    "executionInfo": {
     "elapsed": 10,
     "status": "ok",
     "timestamp": 1650539002941,
     "user": {
      "displayName": "Vadim Selin",
      "userId": "13742755250186020674"
     },
     "user_tz": -180
    },
    "id": "I3PedbkMBP52"
   },
   "outputs": [],
   "source": [
    "t = df[['user_id', 'advert_open', 'contacts_call', 'contacts_show',\n",
    "       'favorites_add', 'map', 'photos_show', 'search_action', 'tips_click',\n",
    "       'tips_show']].groupby('user_id').mean()"
   ]
  },
  {
   "cell_type": "code",
   "execution_count": 63,
   "id": "kjGxQBOIB6ne",
   "metadata": {
    "colab": {
     "base_uri": "https://localhost:8080/",
     "height": 454
    },
    "executionInfo": {
     "elapsed": 10,
     "status": "ok",
     "timestamp": 1650539002941,
     "user": {
      "displayName": "Vadim Selin",
      "userId": "13742755250186020674"
     },
     "user_tz": -180
    },
    "id": "kjGxQBOIB6ne",
    "outputId": "2b6a341b-608c-46df-def6-2ac6520e6be7"
   },
   "outputs": [
    {
     "data": {
      "text/html": [
       "<div>\n",
       "<style scoped>\n",
       "    .dataframe tbody tr th:only-of-type {\n",
       "        vertical-align: middle;\n",
       "    }\n",
       "\n",
       "    .dataframe tbody tr th {\n",
       "        vertical-align: top;\n",
       "    }\n",
       "\n",
       "    .dataframe thead th {\n",
       "        text-align: right;\n",
       "    }\n",
       "</style>\n",
       "<table border=\"1\" class=\"dataframe\">\n",
       "  <thead>\n",
       "    <tr style=\"text-align: right;\">\n",
       "      <th></th>\n",
       "      <th>advert_open</th>\n",
       "      <th>contacts_call</th>\n",
       "      <th>contacts_show</th>\n",
       "      <th>favorites_add</th>\n",
       "      <th>map</th>\n",
       "      <th>photos_show</th>\n",
       "      <th>search_action</th>\n",
       "      <th>tips_click</th>\n",
       "      <th>tips_show</th>\n",
       "    </tr>\n",
       "    <tr>\n",
       "      <th>user_id</th>\n",
       "      <th></th>\n",
       "      <th></th>\n",
       "      <th></th>\n",
       "      <th></th>\n",
       "      <th></th>\n",
       "      <th></th>\n",
       "      <th></th>\n",
       "      <th></th>\n",
       "      <th></th>\n",
       "    </tr>\n",
       "  </thead>\n",
       "  <tbody>\n",
       "    <tr>\n",
       "      <th>0001b1d5-b74a-4cbf-aeb0-7df5947bf349</th>\n",
       "      <td>0.000000</td>\n",
       "      <td>0.000000</td>\n",
       "      <td>0.000000</td>\n",
       "      <td>0.000000</td>\n",
       "      <td>0.171429</td>\n",
       "      <td>0.000000</td>\n",
       "      <td>0.000000</td>\n",
       "      <td>0.0</td>\n",
       "      <td>0.828571</td>\n",
       "    </tr>\n",
       "    <tr>\n",
       "      <th>00157779-810c-4498-9e05-a1e9e3cedf93</th>\n",
       "      <td>0.028169</td>\n",
       "      <td>0.070423</td>\n",
       "      <td>0.154930</td>\n",
       "      <td>0.028169</td>\n",
       "      <td>0.000000</td>\n",
       "      <td>0.464789</td>\n",
       "      <td>0.253521</td>\n",
       "      <td>0.0</td>\n",
       "      <td>0.000000</td>\n",
       "    </tr>\n",
       "    <tr>\n",
       "      <th>00463033-5717-4bf1-91b4-09183923b9df</th>\n",
       "      <td>0.000000</td>\n",
       "      <td>0.000000</td>\n",
       "      <td>0.000000</td>\n",
       "      <td>0.000000</td>\n",
       "      <td>0.000000</td>\n",
       "      <td>1.000000</td>\n",
       "      <td>0.000000</td>\n",
       "      <td>0.0</td>\n",
       "      <td>0.000000</td>\n",
       "    </tr>\n",
       "    <tr>\n",
       "      <th>004690c3-5a84-4bb7-a8af-e0c8f8fca64e</th>\n",
       "      <td>0.156250</td>\n",
       "      <td>0.000000</td>\n",
       "      <td>0.000000</td>\n",
       "      <td>0.000000</td>\n",
       "      <td>0.187500</td>\n",
       "      <td>0.000000</td>\n",
       "      <td>0.531250</td>\n",
       "      <td>0.0</td>\n",
       "      <td>0.125000</td>\n",
       "    </tr>\n",
       "    <tr>\n",
       "      <th>00551e79-152e-4441-9cf7-565d7eb04090</th>\n",
       "      <td>0.000000</td>\n",
       "      <td>0.375000</td>\n",
       "      <td>0.375000</td>\n",
       "      <td>0.000000</td>\n",
       "      <td>0.000000</td>\n",
       "      <td>0.125000</td>\n",
       "      <td>0.125000</td>\n",
       "      <td>0.0</td>\n",
       "      <td>0.000000</td>\n",
       "    </tr>\n",
       "    <tr>\n",
       "      <th>...</th>\n",
       "      <td>...</td>\n",
       "      <td>...</td>\n",
       "      <td>...</td>\n",
       "      <td>...</td>\n",
       "      <td>...</td>\n",
       "      <td>...</td>\n",
       "      <td>...</td>\n",
       "      <td>...</td>\n",
       "      <td>...</td>\n",
       "    </tr>\n",
       "    <tr>\n",
       "      <th>ffab8d8a-30bb-424a-a3ab-0b63ebbf7b07</th>\n",
       "      <td>0.000000</td>\n",
       "      <td>0.000000</td>\n",
       "      <td>0.000000</td>\n",
       "      <td>0.000000</td>\n",
       "      <td>0.117647</td>\n",
       "      <td>0.000000</td>\n",
       "      <td>0.000000</td>\n",
       "      <td>0.0</td>\n",
       "      <td>0.882353</td>\n",
       "    </tr>\n",
       "    <tr>\n",
       "      <th>ffc01466-fdb1-4460-ae94-e800f52eb136</th>\n",
       "      <td>0.000000</td>\n",
       "      <td>0.000000</td>\n",
       "      <td>0.142857</td>\n",
       "      <td>0.000000</td>\n",
       "      <td>0.000000</td>\n",
       "      <td>0.857143</td>\n",
       "      <td>0.000000</td>\n",
       "      <td>0.0</td>\n",
       "      <td>0.000000</td>\n",
       "    </tr>\n",
       "    <tr>\n",
       "      <th>ffcf50d9-293c-4254-8243-4890b030b238</th>\n",
       "      <td>0.000000</td>\n",
       "      <td>0.000000</td>\n",
       "      <td>0.000000</td>\n",
       "      <td>0.000000</td>\n",
       "      <td>0.500000</td>\n",
       "      <td>0.000000</td>\n",
       "      <td>0.000000</td>\n",
       "      <td>0.0</td>\n",
       "      <td>0.500000</td>\n",
       "    </tr>\n",
       "    <tr>\n",
       "      <th>ffe68f10-e48e-470e-be9b-eeb93128ff1a</th>\n",
       "      <td>0.000000</td>\n",
       "      <td>0.000000</td>\n",
       "      <td>0.076923</td>\n",
       "      <td>0.000000</td>\n",
       "      <td>0.000000</td>\n",
       "      <td>0.538462</td>\n",
       "      <td>0.384615</td>\n",
       "      <td>0.0</td>\n",
       "      <td>0.000000</td>\n",
       "    </tr>\n",
       "    <tr>\n",
       "      <th>fffb9e79-b927-4dbb-9b48-7fd09b23a62b</th>\n",
       "      <td>0.000000</td>\n",
       "      <td>0.000000</td>\n",
       "      <td>0.224422</td>\n",
       "      <td>0.000000</td>\n",
       "      <td>0.006601</td>\n",
       "      <td>0.000000</td>\n",
       "      <td>0.000000</td>\n",
       "      <td>0.0</td>\n",
       "      <td>0.768977</td>\n",
       "    </tr>\n",
       "  </tbody>\n",
       "</table>\n",
       "<p>4293 rows × 9 columns</p>\n",
       "</div>"
      ],
      "text/plain": [
       "                                      advert_open  contacts_call  \\\n",
       "user_id                                                            \n",
       "0001b1d5-b74a-4cbf-aeb0-7df5947bf349     0.000000       0.000000   \n",
       "00157779-810c-4498-9e05-a1e9e3cedf93     0.028169       0.070423   \n",
       "00463033-5717-4bf1-91b4-09183923b9df     0.000000       0.000000   \n",
       "004690c3-5a84-4bb7-a8af-e0c8f8fca64e     0.156250       0.000000   \n",
       "00551e79-152e-4441-9cf7-565d7eb04090     0.000000       0.375000   \n",
       "...                                           ...            ...   \n",
       "ffab8d8a-30bb-424a-a3ab-0b63ebbf7b07     0.000000       0.000000   \n",
       "ffc01466-fdb1-4460-ae94-e800f52eb136     0.000000       0.000000   \n",
       "ffcf50d9-293c-4254-8243-4890b030b238     0.000000       0.000000   \n",
       "ffe68f10-e48e-470e-be9b-eeb93128ff1a     0.000000       0.000000   \n",
       "fffb9e79-b927-4dbb-9b48-7fd09b23a62b     0.000000       0.000000   \n",
       "\n",
       "                                      contacts_show  favorites_add       map  \\\n",
       "user_id                                                                        \n",
       "0001b1d5-b74a-4cbf-aeb0-7df5947bf349       0.000000       0.000000  0.171429   \n",
       "00157779-810c-4498-9e05-a1e9e3cedf93       0.154930       0.028169  0.000000   \n",
       "00463033-5717-4bf1-91b4-09183923b9df       0.000000       0.000000  0.000000   \n",
       "004690c3-5a84-4bb7-a8af-e0c8f8fca64e       0.000000       0.000000  0.187500   \n",
       "00551e79-152e-4441-9cf7-565d7eb04090       0.375000       0.000000  0.000000   \n",
       "...                                             ...            ...       ...   \n",
       "ffab8d8a-30bb-424a-a3ab-0b63ebbf7b07       0.000000       0.000000  0.117647   \n",
       "ffc01466-fdb1-4460-ae94-e800f52eb136       0.142857       0.000000  0.000000   \n",
       "ffcf50d9-293c-4254-8243-4890b030b238       0.000000       0.000000  0.500000   \n",
       "ffe68f10-e48e-470e-be9b-eeb93128ff1a       0.076923       0.000000  0.000000   \n",
       "fffb9e79-b927-4dbb-9b48-7fd09b23a62b       0.224422       0.000000  0.006601   \n",
       "\n",
       "                                      photos_show  search_action  tips_click  \\\n",
       "user_id                                                                        \n",
       "0001b1d5-b74a-4cbf-aeb0-7df5947bf349     0.000000       0.000000         0.0   \n",
       "00157779-810c-4498-9e05-a1e9e3cedf93     0.464789       0.253521         0.0   \n",
       "00463033-5717-4bf1-91b4-09183923b9df     1.000000       0.000000         0.0   \n",
       "004690c3-5a84-4bb7-a8af-e0c8f8fca64e     0.000000       0.531250         0.0   \n",
       "00551e79-152e-4441-9cf7-565d7eb04090     0.125000       0.125000         0.0   \n",
       "...                                           ...            ...         ...   \n",
       "ffab8d8a-30bb-424a-a3ab-0b63ebbf7b07     0.000000       0.000000         0.0   \n",
       "ffc01466-fdb1-4460-ae94-e800f52eb136     0.857143       0.000000         0.0   \n",
       "ffcf50d9-293c-4254-8243-4890b030b238     0.000000       0.000000         0.0   \n",
       "ffe68f10-e48e-470e-be9b-eeb93128ff1a     0.538462       0.384615         0.0   \n",
       "fffb9e79-b927-4dbb-9b48-7fd09b23a62b     0.000000       0.000000         0.0   \n",
       "\n",
       "                                      tips_show  \n",
       "user_id                                          \n",
       "0001b1d5-b74a-4cbf-aeb0-7df5947bf349   0.828571  \n",
       "00157779-810c-4498-9e05-a1e9e3cedf93   0.000000  \n",
       "00463033-5717-4bf1-91b4-09183923b9df   0.000000  \n",
       "004690c3-5a84-4bb7-a8af-e0c8f8fca64e   0.125000  \n",
       "00551e79-152e-4441-9cf7-565d7eb04090   0.000000  \n",
       "...                                         ...  \n",
       "ffab8d8a-30bb-424a-a3ab-0b63ebbf7b07   0.882353  \n",
       "ffc01466-fdb1-4460-ae94-e800f52eb136   0.000000  \n",
       "ffcf50d9-293c-4254-8243-4890b030b238   0.500000  \n",
       "ffe68f10-e48e-470e-be9b-eeb93128ff1a   0.000000  \n",
       "fffb9e79-b927-4dbb-9b48-7fd09b23a62b   0.768977  \n",
       "\n",
       "[4293 rows x 9 columns]"
      ]
     },
     "execution_count": 63,
     "metadata": {},
     "output_type": "execute_result"
    }
   ],
   "source": [
    "t"
   ]
  },
  {
   "cell_type": "markdown",
   "id": "e7a1bf0e",
   "metadata": {
    "executionInfo": {
     "elapsed": 269,
     "status": "ok",
     "timestamp": 1649422371124,
     "user": {
      "displayName": "Vadim Selin",
      "userId": "13742755250186020674"
     },
     "user_tz": -180
    },
    "id": "e7a1bf0e"
   },
   "source": [
    "- Проведу обязательную для используемых алгоритмов стандартизацию данных"
   ]
  },
  {
   "cell_type": "code",
   "execution_count": 64,
   "id": "-XMANzvMbDV-",
   "metadata": {
    "executionInfo": {
     "elapsed": 9,
     "status": "ok",
     "timestamp": 1650539002941,
     "user": {
      "displayName": "Vadim Selin",
      "userId": "13742755250186020674"
     },
     "user_tz": -180
    },
    "id": "-XMANzvMbDV-"
   },
   "outputs": [],
   "source": [
    "sc = StandardScaler()"
   ]
  },
  {
   "cell_type": "code",
   "execution_count": 65,
   "id": "iqZKxxOFbDV-",
   "metadata": {
    "executionInfo": {
     "elapsed": 9,
     "status": "ok",
     "timestamp": 1650539002941,
     "user": {
      "displayName": "Vadim Selin",
      "userId": "13742755250186020674"
     },
     "user_tz": -180
    },
    "id": "iqZKxxOFbDV-"
   },
   "outputs": [],
   "source": [
    "t_sc = sc.fit_transform(t)"
   ]
  },
  {
   "cell_type": "markdown",
   "id": "4MlVmQ7fbDV-",
   "metadata": {
    "id": "4MlVmQ7fbDV-"
   },
   "source": [
    "- Построю матрицу расстояний перед построением дендрограммы"
   ]
  },
  {
   "cell_type": "code",
   "execution_count": 66,
   "id": "-UbStOSSbDV-",
   "metadata": {
    "executionInfo": {
     "elapsed": 329,
     "status": "ok",
     "timestamp": 1650539003262,
     "user": {
      "displayName": "Vadim Selin",
      "userId": "13742755250186020674"
     },
     "user_tz": -180
    },
    "id": "-UbStOSSbDV-"
   },
   "outputs": [],
   "source": [
    "linked = linkage(t_sc, method = 'ward')"
   ]
  },
  {
   "cell_type": "markdown",
   "id": "O6f4My4RbDV-",
   "metadata": {
    "id": "O6f4My4RbDV-"
   },
   "source": [
    "- Строим дендрограмму. Процесс занимает порядка 2х минут (поэтому закомментил). В результате мы получаем рекомендацию в 5 сегментов.\n",
    "\n"
   ]
  },
  {
   "cell_type": "code",
   "execution_count": 67,
   "id": "hdzhCsGobDV-",
   "metadata": {
    "executionInfo": {
     "elapsed": 2,
     "status": "ok",
     "timestamp": 1650539003263,
     "user": {
      "displayName": "Vadim Selin",
      "userId": "13742755250186020674"
     },
     "user_tz": -180
    },
    "id": "hdzhCsGobDV-"
   },
   "outputs": [
    {
     "data": {
      "image/png": "[encoded data removed]",
      "text/plain": [
       "<Figure size 1080x720 with 1 Axes>"
      ]
     },
     "metadata": {
      "needs_background": "light"
     },
     "output_type": "display_data"
    }
   ],
   "source": [
    "plt.figure(figsize=(15, 10))  \n",
    "dendrogram(linked, orientation='top')\n",
    "plt.show()"
   ]
  },
  {
   "cell_type": "markdown",
   "id": "f4fac2ba",
   "metadata": {
    "id": "f4fac2ba"
   },
   "source": [
    "- Результатом агломеративной иерархической кластеризации стали 5 сегментов пользователей\n",
    "- Применю алгоритм k-means с числом кластеров 5, чтобы получить вектор кластеров"
   ]
  },
  {
   "cell_type": "code",
   "execution_count": 68,
   "id": "L69q41pCbDV-",
   "metadata": {
    "executionInfo": {
     "elapsed": 2,
     "status": "ok",
     "timestamp": 1650539003263,
     "user": {
      "displayName": "Vadim Selin",
      "userId": "13742755250186020674"
     },
     "user_tz": -180
    },
    "id": "L69q41pCbDV-"
   },
   "outputs": [],
   "source": [
    "km = KMeans(n_clusters = 5, random_state=0)"
   ]
  },
  {
   "cell_type": "code",
   "execution_count": 69,
   "id": "IieZvDFRbDV-",
   "metadata": {
    "executionInfo": {
     "elapsed": 326,
     "status": "ok",
     "timestamp": 1650539003587,
     "user": {
      "displayName": "Vadim Selin",
      "userId": "13742755250186020674"
     },
     "user_tz": -180
    },
    "id": "IieZvDFRbDV-"
   },
   "outputs": [],
   "source": [
    "labels = km.fit_predict(t_sc)"
   ]
  },
  {
   "cell_type": "code",
   "execution_count": 70,
   "id": "mYlLRhRWbDV_",
   "metadata": {
    "executionInfo": {
     "elapsed": 5,
     "status": "ok",
     "timestamp": 1650539003587,
     "user": {
      "displayName": "Vadim Selin",
      "userId": "13742755250186020674"
     },
     "user_tz": -180
    },
    "id": "mYlLRhRWbDV_"
   },
   "outputs": [],
   "source": [
    "t['cluster_km'] = labels"
   ]
  },
  {
   "cell_type": "code",
   "execution_count": 71,
   "id": "qrbyI7NbJkwu",
   "metadata": {
    "executionInfo": {
     "elapsed": 6,
     "status": "ok",
     "timestamp": 1650539003588,
     "user": {
      "displayName": "Vadim Selin",
      "userId": "13742755250186020674"
     },
     "user_tz": -180
    },
    "id": "qrbyI7NbJkwu"
   },
   "outputs": [],
   "source": [
    "t = t.reset_index()"
   ]
  },
  {
   "cell_type": "code",
   "execution_count": 72,
   "id": "cTClfnvGO2M3",
   "metadata": {
    "colab": {
     "base_uri": "https://localhost:8080/"
    },
    "executionInfo": {
     "elapsed": 5,
     "status": "ok",
     "timestamp": 1650539003588,
     "user": {
      "displayName": "Vadim Selin",
      "userId": "13742755250186020674"
     },
     "user_tz": -180
    },
    "id": "cTClfnvGO2M3",
    "outputId": "4c3d5c99-dbf3-4750-efbd-ddad7c78f283"
   },
   "outputs": [
    {
     "data": {
      "text/plain": [
       "1    2113\n",
       "0     703\n",
       "2     634\n",
       "3     627\n",
       "4     216\n",
       "Name: cluster_km, dtype: int64"
      ]
     },
     "execution_count": 72,
     "metadata": {},
     "output_type": "execute_result"
    }
   ],
   "source": [
    "t['cluster_km'].value_counts()"
   ]
  },
  {
   "cell_type": "markdown",
   "id": "b5e056e0",
   "metadata": {
    "id": "b5e056e0"
   },
   "source": [
    "- Сегменты пользователей получились неодинаковыми по размеру, но этого никто и не обещал\n",
    "- Более того, в реальной жизни чаще всё неоднородно\n",
    "- В ходе сравнения метрик выясню, есть-ли различия именно между 5 сегментами или их может быть меньше\n",
    "\n",
    "---\n",
    "\n",
    "Оставлю от таблицы `t` только поля `user_id` и `cluster_km`, чтобы присоединить их к исходному датафрейму `df`"
   ]
  },
  {
   "cell_type": "code",
   "execution_count": 73,
   "id": "EE9Y6G2-PbPn",
   "metadata": {
    "executionInfo": {
     "elapsed": 3,
     "status": "ok",
     "timestamp": 1650539003588,
     "user": {
      "displayName": "Vadim Selin",
      "userId": "13742755250186020674"
     },
     "user_tz": -180
    },
    "id": "EE9Y6G2-PbPn"
   },
   "outputs": [],
   "source": [
    "t = t[['user_id', 'cluster_km']]"
   ]
  },
  {
   "cell_type": "code",
   "execution_count": 74,
   "id": "ZwCJL7g7P7OP",
   "metadata": {
    "executionInfo": {
     "elapsed": 3,
     "status": "ok",
     "timestamp": 1650539003588,
     "user": {
      "displayName": "Vadim Selin",
      "userId": "13742755250186020674"
     },
     "user_tz": -180
    },
    "id": "ZwCJL7g7P7OP"
   },
   "outputs": [],
   "source": [
    "# отброшу бинарные столбцы признаков за ненадобностью\n",
    "df = df[['event_time', 'event_name', \n",
    "         'user_id', 'source', \n",
    "         'event_date', 'event_week']]"
   ]
  },
  {
   "cell_type": "code",
   "execution_count": 75,
   "id": "WOG96YFnP7d-",
   "metadata": {
    "executionInfo": {
     "elapsed": 4,
     "status": "ok",
     "timestamp": 1650539003589,
     "user": {
      "displayName": "Vadim Selin",
      "userId": "13742755250186020674"
     },
     "user_tz": -180
    },
    "id": "WOG96YFnP7d-"
   },
   "outputs": [],
   "source": [
    "df = df.merge(t, how='left', on='user_id')"
   ]
  },
  {
   "cell_type": "code",
   "execution_count": 76,
   "id": "c647a8ec",
   "metadata": {
    "colab": {
     "base_uri": "https://localhost:8080/"
    },
    "executionInfo": {
     "elapsed": 538,
     "status": "ok",
     "timestamp": 1650539004123,
     "user": {
      "displayName": "Vadim Selin",
      "userId": "13742755250186020674"
     },
     "user_tz": -180
    },
    "id": "c647a8ec",
    "outputId": "9aa949ab-c4d6-45a3-b9f9-deedafda4ce5"
   },
   "outputs": [
    {
     "data": {
      "text/plain": [
       "event_time    0.0\n",
       "event_name    0.0\n",
       "user_id       0.0\n",
       "source        0.0\n",
       "event_date    0.0\n",
       "event_week    0.0\n",
       "cluster_km    0.0\n",
       "dtype: float64"
      ]
     },
     "execution_count": 76,
     "metadata": {},
     "output_type": "execute_result"
    }
   ],
   "source": [
    "# проверка после merge\n",
    "df.isna().mean()"
   ]
  },
  {
   "cell_type": "markdown",
   "id": "097fb0f7",
   "metadata": {
    "id": "097fb0f7"
   },
   "source": [
    "- Посмотрю распределение событий по новым категориям пользователей"
   ]
  },
  {
   "cell_type": "code",
   "execution_count": 77,
   "id": "J65LyGqUQjAu",
   "metadata": {
    "colab": {
     "base_uri": "https://localhost:8080/",
     "height": 292
    },
    "executionInfo": {
     "elapsed": 7,
     "status": "ok",
     "timestamp": 1650539004124,
     "user": {
      "displayName": "Vadim Selin",
      "userId": "13742755250186020674"
     },
     "user_tz": -180
    },
    "id": "J65LyGqUQjAu",
    "outputId": "23328a26-8bb5-4b93-8baa-4d9101b7b0ce"
   },
   "outputs": [
    {
     "data": {
      "image/png": "[encoded data removed]",
      "text/plain": [
       "<Figure size 432x288 with 1 Axes>"
      ]
     },
     "metadata": {
      "needs_background": "light"
     },
     "output_type": "display_data"
    }
   ],
   "source": [
    "df['cluster_km'].value_counts().plot(kind='bar', grid=True)\n",
    "plt.title('Распределение числа событий по сегментам пользователей')\n",
    "plt.xlabel('Сегмент пользоватлей')\n",
    "plt.ylabel('Число событий в логе')\n",
    "plt.show()"
   ]
  },
  {
   "cell_type": "markdown",
   "id": "bbef521b",
   "metadata": {
    "id": "bbef521b"
   },
   "source": [
    "- Распределение числа событий по сегментам весьма неоднородно, поэтому узнаю как оно соотносится с числом пользователей в сегменте\n",
    "- Создам временную переменную `t` с таблицей, содержащей число пользователей сегментов и количество совершённых ими событий"
   ]
  },
  {
   "cell_type": "code",
   "execution_count": 78,
   "id": "daa8f2b7",
   "metadata": {
    "executionInfo": {
     "elapsed": 6,
     "status": "ok",
     "timestamp": 1650539004124,
     "user": {
      "displayName": "Vadim Selin",
      "userId": "13742755250186020674"
     },
     "user_tz": -180
    },
    "id": "daa8f2b7"
   },
   "outputs": [],
   "source": [
    "t = (\n",
    "    pd.DataFrame(df['cluster_km'].value_counts().sort_index()) # число событий по сегментам\n",
    "    .merge(\n",
    "        df.groupby('cluster_km').agg({'user_id': 'nunique'}),  # число уникальных пользователей в сегментах\n",
    "        how='left', left_index=True, right_index=True)\n",
    ")"
   ]
  },
  {
   "cell_type": "code",
   "execution_count": 79,
   "id": "cf6528ec",
   "metadata": {
    "executionInfo": {
     "elapsed": 7,
     "status": "ok",
     "timestamp": 1650539004125,
     "user": {
      "displayName": "Vadim Selin",
      "userId": "13742755250186020674"
     },
     "user_tz": -180
    },
    "id": "cf6528ec"
   },
   "outputs": [],
   "source": [
    "t = t.rename(columns={'cluster_km': 'events_cnt', 'user_id': 'user_cnt'})"
   ]
  },
  {
   "cell_type": "code",
   "execution_count": 80,
   "id": "ff0ec36a",
   "metadata": {
    "executionInfo": {
     "elapsed": 7,
     "status": "ok",
     "timestamp": 1650539004125,
     "user": {
      "displayName": "Vadim Selin",
      "userId": "13742755250186020674"
     },
     "user_tz": -180
    },
    "id": "ff0ec36a"
   },
   "outputs": [],
   "source": [
    "t = t.sort_index()"
   ]
  },
  {
   "cell_type": "code",
   "execution_count": 81,
   "id": "b9cbf161",
   "metadata": {
    "colab": {
     "base_uri": "https://localhost:8080/",
     "height": 206
    },
    "executionInfo": {
     "elapsed": 6,
     "status": "ok",
     "timestamp": 1650539004125,
     "user": {
      "displayName": "Vadim Selin",
      "userId": "13742755250186020674"
     },
     "user_tz": -180
    },
    "id": "b9cbf161",
    "outputId": "b31e5770-b63f-418a-c00c-dac74b637480"
   },
   "outputs": [
    {
     "data": {
      "text/html": [
       "<div>\n",
       "<style scoped>\n",
       "    .dataframe tbody tr th:only-of-type {\n",
       "        vertical-align: middle;\n",
       "    }\n",
       "\n",
       "    .dataframe tbody tr th {\n",
       "        vertical-align: top;\n",
       "    }\n",
       "\n",
       "    .dataframe thead th {\n",
       "        text-align: right;\n",
       "    }\n",
       "</style>\n",
       "<table border=\"1\" class=\"dataframe\">\n",
       "  <thead>\n",
       "    <tr style=\"text-align: right;\">\n",
       "      <th></th>\n",
       "      <th>events_cnt</th>\n",
       "      <th>user_cnt</th>\n",
       "    </tr>\n",
       "  </thead>\n",
       "  <tbody>\n",
       "    <tr>\n",
       "      <th>0</th>\n",
       "      <td>10808</td>\n",
       "      <td>703</td>\n",
       "    </tr>\n",
       "    <tr>\n",
       "      <th>1</th>\n",
       "      <td>41708</td>\n",
       "      <td>2113</td>\n",
       "    </tr>\n",
       "    <tr>\n",
       "      <th>2</th>\n",
       "      <td>13148</td>\n",
       "      <td>634</td>\n",
       "    </tr>\n",
       "    <tr>\n",
       "      <th>3</th>\n",
       "      <td>6130</td>\n",
       "      <td>627</td>\n",
       "    </tr>\n",
       "    <tr>\n",
       "      <th>4</th>\n",
       "      <td>2403</td>\n",
       "      <td>216</td>\n",
       "    </tr>\n",
       "  </tbody>\n",
       "</table>\n",
       "</div>"
      ],
      "text/plain": [
       "   events_cnt  user_cnt\n",
       "0       10808       703\n",
       "1       41708      2113\n",
       "2       13148       634\n",
       "3        6130       627\n",
       "4        2403       216"
      ]
     },
     "execution_count": 81,
     "metadata": {},
     "output_type": "execute_result"
    }
   ],
   "source": [
    "t"
   ]
  },
  {
   "cell_type": "markdown",
   "id": "c40a0dd7",
   "metadata": {
    "id": "c40a0dd7"
   },
   "source": [
    "- Зависимость между столбцами есть, но от близкой к линейной её отделяет 2-й сегмент:\n",
    "    - пользователей меньше, чем в 0-м, но они активней\n",
    "    - выведу простой график для наглядности"
   ]
  },
  {
   "cell_type": "code",
   "execution_count": 82,
   "id": "9e7397b8",
   "metadata": {
    "colab": {
     "base_uri": "https://localhost:8080/",
     "height": 294
    },
    "executionInfo": {
     "elapsed": 596,
     "status": "ok",
     "timestamp": 1650539004715,
     "user": {
      "displayName": "Vadim Selin",
      "userId": "13742755250186020674"
     },
     "user_tz": -180
    },
    "id": "9e7397b8",
    "outputId": "d056e475-3df9-4d4c-bceb-9bac430e6ad9"
   },
   "outputs": [
    {
     "data": {
      "image/png": "[encoded data removed]",
      "text/plain": [
       "<Figure size 432x288 with 1 Axes>"
      ]
     },
     "metadata": {
      "needs_background": "light"
     },
     "output_type": "display_data"
    }
   ],
   "source": [
    "y = t['events_cnt']\n",
    "x = t['user_cnt']\n",
    "n = t.index\n",
    "\n",
    "fig, ax = plt.subplots()\n",
    "ax.scatter(x, y, marker='.')\n",
    "\n",
    "for i, txt in enumerate(n):\n",
    "    ax.annotate(txt, (x[i], y[i]))\n",
    "plt.title('Соотношение числа пользователей в сегментах и числа их событий')\n",
    "plt.grid(True)\n",
    "plt.xlabel('Количество пользоватлей')\n",
    "plt.ylabel('Число событий в логе')\n",
    "plt.show()"
   ]
  },
  {
   "cell_type": "markdown",
   "id": "ade2f976",
   "metadata": {
    "id": "ade2f976"
   },
   "source": [
    "- На графике видно, что чем больше пользоватлей сегмента, тем больше событий они совершают\n",
    "- Но данное утверждение не однозначно\n",
    "    - Например пользователи `2`-сегмента при меньшем своём количестве успели совершить больше событий, нежели пользователи `0`-сегмента\n",
    "    - Есть две догадки на эту тему:\n",
    "        1. Пользователи `2`-сегмента появились в логе раньше, поэтому успели больше\n",
    "        2. Они более активны\n",
    "- **На данный момент зафиксирую информацию о том, что независимо от времени в любом периоде исследования есть более активные сегменты, есть менее активные**\n",
    "    - *Это похоже на записки капитана очевидность, но в данном случае мне об этом говорят не домыслы и опыт, а цифры сегментов, полученных алгоритмом кластеризации.*\n",
    "    - Теперь проверю различие сегментов по их метрикам."
   ]
  },
  {
   "cell_type": "markdown",
   "id": "8aa30731",
   "metadata": {
    "id": "8aa30731"
   },
   "source": [
    "## Рассчитать `Retention rate` (с визуализацией) для полученных кластеров и сравнить между собой"
   ]
  },
  {
   "cell_type": "markdown",
   "id": "1773676b",
   "metadata": {
    "id": "1773676b"
   },
   "source": [
    "- Получу дату первого визита для каждого пользователя и добавлю её к датафрейму"
   ]
  },
  {
   "cell_type": "code",
   "execution_count": 83,
   "id": "088699c3",
   "metadata": {
    "executionInfo": {
     "elapsed": 19,
     "status": "ok",
     "timestamp": 1650539004716,
     "user": {
      "displayName": "Vadim Selin",
      "userId": "13742755250186020674"
     },
     "user_tz": -180
    },
    "id": "088699c3"
   },
   "outputs": [],
   "source": [
    "t_start = df.groupby('user_id')['event_date'].min()"
   ]
  },
  {
   "cell_type": "code",
   "execution_count": 84,
   "id": "963bcda3",
   "metadata": {
    "executionInfo": {
     "elapsed": 19,
     "status": "ok",
     "timestamp": 1650539004717,
     "user": {
      "displayName": "Vadim Selin",
      "userId": "13742755250186020674"
     },
     "user_tz": -180
    },
    "id": "963bcda3"
   },
   "outputs": [],
   "source": [
    "t_start.name = 'first_start_date'"
   ]
  },
  {
   "cell_type": "code",
   "execution_count": 85,
   "id": "a6fcbd4e",
   "metadata": {
    "colab": {
     "base_uri": "https://localhost:8080/"
    },
    "executionInfo": {
     "elapsed": 19,
     "status": "ok",
     "timestamp": 1650539004717,
     "user": {
      "displayName": "Vadim Selin",
      "userId": "13742755250186020674"
     },
     "user_tz": -180
    },
    "id": "a6fcbd4e",
    "outputId": "d59c37d2-e9a7-469b-e2d0-ef63ca0e53e3"
   },
   "outputs": [
    {
     "data": {
      "text/plain": [
       "user_id\n",
       "0001b1d5-b74a-4cbf-aeb0-7df5947bf349   2019-10-07\n",
       "00157779-810c-4498-9e05-a1e9e3cedf93   2019-10-19\n",
       "00463033-5717-4bf1-91b4-09183923b9df   2019-11-01\n",
       "004690c3-5a84-4bb7-a8af-e0c8f8fca64e   2019-10-18\n",
       "00551e79-152e-4441-9cf7-565d7eb04090   2019-10-25\n",
       "                                          ...    \n",
       "ffab8d8a-30bb-424a-a3ab-0b63ebbf7b07   2019-10-13\n",
       "ffc01466-fdb1-4460-ae94-e800f52eb136   2019-10-07\n",
       "ffcf50d9-293c-4254-8243-4890b030b238   2019-10-23\n",
       "ffe68f10-e48e-470e-be9b-eeb93128ff1a   2019-10-21\n",
       "fffb9e79-b927-4dbb-9b48-7fd09b23a62b   2019-10-12\n",
       "Name: first_start_date, Length: 4293, dtype: datetime64[ns]"
      ]
     },
     "execution_count": 85,
     "metadata": {},
     "output_type": "execute_result"
    }
   ],
   "source": [
    "t_start"
   ]
  },
  {
   "cell_type": "code",
   "execution_count": 86,
   "id": "ab8086f3",
   "metadata": {
    "executionInfo": {
     "elapsed": 15,
     "status": "ok",
     "timestamp": 1650539004717,
     "user": {
      "displayName": "Vadim Selin",
      "userId": "13742755250186020674"
     },
     "user_tz": -180
    },
    "id": "ab8086f3"
   },
   "outputs": [],
   "source": [
    "df = df.join(t_start, on='user_id')"
   ]
  },
  {
   "cell_type": "markdown",
   "id": "af7ac6dd",
   "metadata": {
    "id": "af7ac6dd"
   },
   "source": [
    "- Получу неделю первого визита\n",
    "    - брать меньший период считаю нецелесообразным, потому что считать ежедневный отток в нашем приложении беcсмысленно\n",
    "    - большинство пользователей не покупают и не продают \"ненужные вещи\" каждый день"
   ]
  },
  {
   "cell_type": "code",
   "execution_count": 87,
   "id": "10053770",
   "metadata": {
    "executionInfo": {
     "elapsed": 16,
     "status": "ok",
     "timestamp": 1650539004718,
     "user": {
      "displayName": "Vadim Selin",
      "userId": "13742755250186020674"
     },
     "user_tz": -180
    },
    "id": "10053770"
   },
   "outputs": [],
   "source": [
    "df['start_event_week'] = df['first_start_date'].dt.isocalendar().week"
   ]
  },
  {
   "cell_type": "markdown",
   "id": "14e8f6b7",
   "metadata": {
    "id": "14e8f6b7"
   },
   "source": [
    "- Получу lifetime недельных когорт "
   ]
  },
  {
   "cell_type": "code",
   "execution_count": 88,
   "id": "9d07f566",
   "metadata": {
    "executionInfo": {
     "elapsed": 15,
     "status": "ok",
     "timestamp": 1650539004718,
     "user": {
      "displayName": "Vadim Selin",
      "userId": "13742755250186020674"
     },
     "user_tz": -180
    },
    "id": "9d07f566"
   },
   "outputs": [],
   "source": [
    "df['cohort_lifetime'] = df['event_week'] - df['start_event_week']"
   ]
  },
  {
   "cell_type": "markdown",
   "id": "99acbfe7",
   "metadata": {
    "id": "99acbfe7"
   },
   "source": [
    "- Сгруппирую данные по сегменту и  `cohort_lifetime`, чтобы получить число пользоватлей каждого сегмента в первую и последующие недели"
   ]
  },
  {
   "cell_type": "code",
   "execution_count": 89,
   "id": "73a52bd4",
   "metadata": {
    "executionInfo": {
     "elapsed": 15,
     "status": "ok",
     "timestamp": 1650539004718,
     "user": {
      "displayName": "Vadim Selin",
      "userId": "13742755250186020674"
     },
     "user_tz": -180
    },
    "id": "73a52bd4"
   },
   "outputs": [],
   "source": [
    "cohorts = (\n",
    "    df.groupby(\n",
    "        ['cluster_km', 'cohort_lifetime'], \n",
    "        as_index=False\n",
    "    ).agg({'user_id': 'nunique'})\n",
    ")"
   ]
  },
  {
   "cell_type": "code",
   "execution_count": 90,
   "id": "bfb11173",
   "metadata": {
    "executionInfo": {
     "elapsed": 16,
     "status": "ok",
     "timestamp": 1650539004719,
     "user": {
      "displayName": "Vadim Selin",
      "userId": "13742755250186020674"
     },
     "user_tz": -180
    },
    "id": "bfb11173"
   },
   "outputs": [],
   "source": [
    "cohorts = cohorts.rename(columns={'user_id': 'user_cnt'})"
   ]
  },
  {
   "cell_type": "code",
   "execution_count": 91,
   "id": "0d7ed287",
   "metadata": {
    "colab": {
     "base_uri": "https://localhost:8080/",
     "height": 206
    },
    "executionInfo": {
     "elapsed": 16,
     "status": "ok",
     "timestamp": 1650539004719,
     "user": {
      "displayName": "Vadim Selin",
      "userId": "13742755250186020674"
     },
     "user_tz": -180
    },
    "id": "0d7ed287",
    "outputId": "563595e6-15c5-4c92-d25c-db96796937e4"
   },
   "outputs": [
    {
     "data": {
      "text/html": [
       "<div>\n",
       "<style scoped>\n",
       "    .dataframe tbody tr th:only-of-type {\n",
       "        vertical-align: middle;\n",
       "    }\n",
       "\n",
       "    .dataframe tbody tr th {\n",
       "        vertical-align: top;\n",
       "    }\n",
       "\n",
       "    .dataframe thead th {\n",
       "        text-align: right;\n",
       "    }\n",
       "</style>\n",
       "<table border=\"1\" class=\"dataframe\">\n",
       "  <thead>\n",
       "    <tr style=\"text-align: right;\">\n",
       "      <th></th>\n",
       "      <th>cluster_km</th>\n",
       "      <th>cohort_lifetime</th>\n",
       "      <th>user_cnt</th>\n",
       "    </tr>\n",
       "  </thead>\n",
       "  <tbody>\n",
       "    <tr>\n",
       "      <th>0</th>\n",
       "      <td>0</td>\n",
       "      <td>0</td>\n",
       "      <td>703</td>\n",
       "    </tr>\n",
       "    <tr>\n",
       "      <th>1</th>\n",
       "      <td>0</td>\n",
       "      <td>1</td>\n",
       "      <td>180</td>\n",
       "    </tr>\n",
       "    <tr>\n",
       "      <th>2</th>\n",
       "      <td>0</td>\n",
       "      <td>2</td>\n",
       "      <td>74</td>\n",
       "    </tr>\n",
       "    <tr>\n",
       "      <th>3</th>\n",
       "      <td>0</td>\n",
       "      <td>3</td>\n",
       "      <td>26</td>\n",
       "    </tr>\n",
       "    <tr>\n",
       "      <th>4</th>\n",
       "      <td>1</td>\n",
       "      <td>0</td>\n",
       "      <td>2113</td>\n",
       "    </tr>\n",
       "  </tbody>\n",
       "</table>\n",
       "</div>"
      ],
      "text/plain": [
       "   cluster_km  cohort_lifetime  user_cnt\n",
       "0           0                0       703\n",
       "1           0                1       180\n",
       "2           0                2        74\n",
       "3           0                3        26\n",
       "4           1                0      2113"
      ]
     },
     "execution_count": 91,
     "metadata": {},
     "output_type": "execute_result"
    }
   ],
   "source": [
    "cohorts.head()"
   ]
  },
  {
   "cell_type": "markdown",
   "id": "2ed1b117",
   "metadata": {
    "id": "2ed1b117"
   },
   "source": [
    "- Получу число уникальных пользователей когорты на момент её формирования и добавлю к датафрейму `cohorts`"
   ]
  },
  {
   "cell_type": "code",
   "execution_count": 92,
   "id": "8d1ff3ba",
   "metadata": {
    "executionInfo": {
     "elapsed": 14,
     "status": "ok",
     "timestamp": 1650539004719,
     "user": {
      "displayName": "Vadim Selin",
      "userId": "13742755250186020674"
     },
     "user_tz": -180
    },
    "id": "8d1ff3ba"
   },
   "outputs": [],
   "source": [
    "t = cohorts[cohorts['cohort_lifetime']==0][['cluster_km', 'user_cnt']]"
   ]
  },
  {
   "cell_type": "code",
   "execution_count": 93,
   "id": "f7aadc82",
   "metadata": {
    "colab": {
     "base_uri": "https://localhost:8080/",
     "height": 206
    },
    "executionInfo": {
     "elapsed": 15,
     "status": "ok",
     "timestamp": 1650539004720,
     "user": {
      "displayName": "Vadim Selin",
      "userId": "13742755250186020674"
     },
     "user_tz": -180
    },
    "id": "f7aadc82",
    "outputId": "155d60da-ff5e-45a1-edc2-1a1e5ecdddaf"
   },
   "outputs": [
    {
     "data": {
      "text/html": [
       "<div>\n",
       "<style scoped>\n",
       "    .dataframe tbody tr th:only-of-type {\n",
       "        vertical-align: middle;\n",
       "    }\n",
       "\n",
       "    .dataframe tbody tr th {\n",
       "        vertical-align: top;\n",
       "    }\n",
       "\n",
       "    .dataframe thead th {\n",
       "        text-align: right;\n",
       "    }\n",
       "</style>\n",
       "<table border=\"1\" class=\"dataframe\">\n",
       "  <thead>\n",
       "    <tr style=\"text-align: right;\">\n",
       "      <th></th>\n",
       "      <th>cluster_km</th>\n",
       "      <th>user_cnt</th>\n",
       "    </tr>\n",
       "  </thead>\n",
       "  <tbody>\n",
       "    <tr>\n",
       "      <th>0</th>\n",
       "      <td>0</td>\n",
       "      <td>703</td>\n",
       "    </tr>\n",
       "    <tr>\n",
       "      <th>4</th>\n",
       "      <td>1</td>\n",
       "      <td>2113</td>\n",
       "    </tr>\n",
       "    <tr>\n",
       "      <th>8</th>\n",
       "      <td>2</td>\n",
       "      <td>634</td>\n",
       "    </tr>\n",
       "    <tr>\n",
       "      <th>12</th>\n",
       "      <td>3</td>\n",
       "      <td>627</td>\n",
       "    </tr>\n",
       "    <tr>\n",
       "      <th>16</th>\n",
       "      <td>4</td>\n",
       "      <td>216</td>\n",
       "    </tr>\n",
       "  </tbody>\n",
       "</table>\n",
       "</div>"
      ],
      "text/plain": [
       "    cluster_km  user_cnt\n",
       "0            0       703\n",
       "4            1      2113\n",
       "8            2       634\n",
       "12           3       627\n",
       "16           4       216"
      ]
     },
     "execution_count": 93,
     "metadata": {},
     "output_type": "execute_result"
    }
   ],
   "source": [
    "t"
   ]
  },
  {
   "cell_type": "code",
   "execution_count": 94,
   "id": "903a1cc7",
   "metadata": {
    "executionInfo": {
     "elapsed": 14,
     "status": "ok",
     "timestamp": 1650539004720,
     "user": {
      "displayName": "Vadim Selin",
      "userId": "13742755250186020674"
     },
     "user_tz": -180
    },
    "id": "903a1cc7"
   },
   "outputs": [],
   "source": [
    "cohorts = cohorts.merge(\n",
    "    t, \n",
    "    how='left', \n",
    "    on='cluster_km', \n",
    "    suffixes=('','_start')\n",
    ")"
   ]
  },
  {
   "cell_type": "markdown",
   "id": "5078c152",
   "metadata": {
    "id": "5078c152"
   },
   "source": [
    "- Вычислю `retention rate` или долю пользователей когорты для каждой последующей недели относительно стартовой"
   ]
  },
  {
   "cell_type": "code",
   "execution_count": 95,
   "id": "405af235",
   "metadata": {
    "executionInfo": {
     "elapsed": 15,
     "status": "ok",
     "timestamp": 1650539004721,
     "user": {
      "displayName": "Vadim Selin",
      "userId": "13742755250186020674"
     },
     "user_tz": -180
    },
    "id": "405af235"
   },
   "outputs": [],
   "source": [
    "cohorts['retention'] = cohorts['user_cnt'] / cohorts['user_cnt_start']"
   ]
  },
  {
   "cell_type": "code",
   "execution_count": 96,
   "id": "9bbb7983",
   "metadata": {
    "colab": {
     "base_uri": "https://localhost:8080/",
     "height": 676
    },
    "executionInfo": {
     "elapsed": 15,
     "status": "ok",
     "timestamp": 1650539004721,
     "user": {
      "displayName": "Vadim Selin",
      "userId": "13742755250186020674"
     },
     "user_tz": -180
    },
    "id": "9bbb7983",
    "outputId": "25c0a0c9-0bf9-4df1-8237-ccae1482f5b2"
   },
   "outputs": [
    {
     "data": {
      "text/html": [
       "<div>\n",
       "<style scoped>\n",
       "    .dataframe tbody tr th:only-of-type {\n",
       "        vertical-align: middle;\n",
       "    }\n",
       "\n",
       "    .dataframe tbody tr th {\n",
       "        vertical-align: top;\n",
       "    }\n",
       "\n",
       "    .dataframe thead th {\n",
       "        text-align: right;\n",
       "    }\n",
       "</style>\n",
       "<table border=\"1\" class=\"dataframe\">\n",
       "  <thead>\n",
       "    <tr style=\"text-align: right;\">\n",
       "      <th></th>\n",
       "      <th>cluster_km</th>\n",
       "      <th>cohort_lifetime</th>\n",
       "      <th>user_cnt</th>\n",
       "      <th>user_cnt_start</th>\n",
       "      <th>retention</th>\n",
       "    </tr>\n",
       "  </thead>\n",
       "  <tbody>\n",
       "    <tr>\n",
       "      <th>0</th>\n",
       "      <td>0</td>\n",
       "      <td>0</td>\n",
       "      <td>703</td>\n",
       "      <td>703</td>\n",
       "      <td>1.000000</td>\n",
       "    </tr>\n",
       "    <tr>\n",
       "      <th>1</th>\n",
       "      <td>0</td>\n",
       "      <td>1</td>\n",
       "      <td>180</td>\n",
       "      <td>703</td>\n",
       "      <td>0.256046</td>\n",
       "    </tr>\n",
       "    <tr>\n",
       "      <th>2</th>\n",
       "      <td>0</td>\n",
       "      <td>2</td>\n",
       "      <td>74</td>\n",
       "      <td>703</td>\n",
       "      <td>0.105263</td>\n",
       "    </tr>\n",
       "    <tr>\n",
       "      <th>3</th>\n",
       "      <td>0</td>\n",
       "      <td>3</td>\n",
       "      <td>26</td>\n",
       "      <td>703</td>\n",
       "      <td>0.036984</td>\n",
       "    </tr>\n",
       "    <tr>\n",
       "      <th>4</th>\n",
       "      <td>1</td>\n",
       "      <td>0</td>\n",
       "      <td>2113</td>\n",
       "      <td>2113</td>\n",
       "      <td>1.000000</td>\n",
       "    </tr>\n",
       "    <tr>\n",
       "      <th>5</th>\n",
       "      <td>1</td>\n",
       "      <td>1</td>\n",
       "      <td>340</td>\n",
       "      <td>2113</td>\n",
       "      <td>0.160909</td>\n",
       "    </tr>\n",
       "    <tr>\n",
       "      <th>6</th>\n",
       "      <td>1</td>\n",
       "      <td>2</td>\n",
       "      <td>153</td>\n",
       "      <td>2113</td>\n",
       "      <td>0.072409</td>\n",
       "    </tr>\n",
       "    <tr>\n",
       "      <th>7</th>\n",
       "      <td>1</td>\n",
       "      <td>3</td>\n",
       "      <td>50</td>\n",
       "      <td>2113</td>\n",
       "      <td>0.023663</td>\n",
       "    </tr>\n",
       "    <tr>\n",
       "      <th>8</th>\n",
       "      <td>2</td>\n",
       "      <td>0</td>\n",
       "      <td>634</td>\n",
       "      <td>634</td>\n",
       "      <td>1.000000</td>\n",
       "    </tr>\n",
       "    <tr>\n",
       "      <th>9</th>\n",
       "      <td>2</td>\n",
       "      <td>1</td>\n",
       "      <td>86</td>\n",
       "      <td>634</td>\n",
       "      <td>0.135647</td>\n",
       "    </tr>\n",
       "    <tr>\n",
       "      <th>10</th>\n",
       "      <td>2</td>\n",
       "      <td>2</td>\n",
       "      <td>37</td>\n",
       "      <td>634</td>\n",
       "      <td>0.058360</td>\n",
       "    </tr>\n",
       "    <tr>\n",
       "      <th>11</th>\n",
       "      <td>2</td>\n",
       "      <td>3</td>\n",
       "      <td>17</td>\n",
       "      <td>634</td>\n",
       "      <td>0.026814</td>\n",
       "    </tr>\n",
       "    <tr>\n",
       "      <th>12</th>\n",
       "      <td>3</td>\n",
       "      <td>0</td>\n",
       "      <td>627</td>\n",
       "      <td>627</td>\n",
       "      <td>1.000000</td>\n",
       "    </tr>\n",
       "    <tr>\n",
       "      <th>13</th>\n",
       "      <td>3</td>\n",
       "      <td>1</td>\n",
       "      <td>142</td>\n",
       "      <td>627</td>\n",
       "      <td>0.226475</td>\n",
       "    </tr>\n",
       "    <tr>\n",
       "      <th>14</th>\n",
       "      <td>3</td>\n",
       "      <td>2</td>\n",
       "      <td>50</td>\n",
       "      <td>627</td>\n",
       "      <td>0.079745</td>\n",
       "    </tr>\n",
       "    <tr>\n",
       "      <th>15</th>\n",
       "      <td>3</td>\n",
       "      <td>3</td>\n",
       "      <td>19</td>\n",
       "      <td>627</td>\n",
       "      <td>0.030303</td>\n",
       "    </tr>\n",
       "    <tr>\n",
       "      <th>16</th>\n",
       "      <td>4</td>\n",
       "      <td>0</td>\n",
       "      <td>216</td>\n",
       "      <td>216</td>\n",
       "      <td>1.000000</td>\n",
       "    </tr>\n",
       "    <tr>\n",
       "      <th>17</th>\n",
       "      <td>4</td>\n",
       "      <td>1</td>\n",
       "      <td>45</td>\n",
       "      <td>216</td>\n",
       "      <td>0.208333</td>\n",
       "    </tr>\n",
       "    <tr>\n",
       "      <th>18</th>\n",
       "      <td>4</td>\n",
       "      <td>2</td>\n",
       "      <td>11</td>\n",
       "      <td>216</td>\n",
       "      <td>0.050926</td>\n",
       "    </tr>\n",
       "    <tr>\n",
       "      <th>19</th>\n",
       "      <td>4</td>\n",
       "      <td>3</td>\n",
       "      <td>7</td>\n",
       "      <td>216</td>\n",
       "      <td>0.032407</td>\n",
       "    </tr>\n",
       "  </tbody>\n",
       "</table>\n",
       "</div>"
      ],
      "text/plain": [
       "    cluster_km  cohort_lifetime  user_cnt  user_cnt_start  retention\n",
       "0            0                0       703             703   1.000000\n",
       "1            0                1       180             703   0.256046\n",
       "2            0                2        74             703   0.105263\n",
       "3            0                3        26             703   0.036984\n",
       "4            1                0      2113            2113   1.000000\n",
       "5            1                1       340            2113   0.160909\n",
       "6            1                2       153            2113   0.072409\n",
       "7            1                3        50            2113   0.023663\n",
       "8            2                0       634             634   1.000000\n",
       "9            2                1        86             634   0.135647\n",
       "10           2                2        37             634   0.058360\n",
       "11           2                3        17             634   0.026814\n",
       "12           3                0       627             627   1.000000\n",
       "13           3                1       142             627   0.226475\n",
       "14           3                2        50             627   0.079745\n",
       "15           3                3        19             627   0.030303\n",
       "16           4                0       216             216   1.000000\n",
       "17           4                1        45             216   0.208333\n",
       "18           4                2        11             216   0.050926\n",
       "19           4                3         7             216   0.032407"
      ]
     },
     "execution_count": 96,
     "metadata": {},
     "output_type": "execute_result"
    }
   ],
   "source": [
    "cohorts"
   ]
  },
  {
   "cell_type": "code",
   "execution_count": 97,
   "id": "c9153004",
   "metadata": {
    "executionInfo": {
     "elapsed": 14,
     "status": "ok",
     "timestamp": 1650539004721,
     "user": {
      "displayName": "Vadim Selin",
      "userId": "13742755250186020674"
     },
     "user_tz": -180
    },
    "id": "c9153004"
   },
   "outputs": [],
   "source": [
    "retention_pivot = cohorts.pivot_table(\n",
    "index='cluster_km',\n",
    "columns='cohort_lifetime',\n",
    "values='retention',\n",
    "aggfunc='sum')"
   ]
  },
  {
   "cell_type": "code",
   "execution_count": 98,
   "id": "2dfc2ab3",
   "metadata": {
    "colab": {
     "base_uri": "https://localhost:8080/",
     "height": 237
    },
    "executionInfo": {
     "elapsed": 15,
     "status": "ok",
     "timestamp": 1650539004722,
     "user": {
      "displayName": "Vadim Selin",
      "userId": "13742755250186020674"
     },
     "user_tz": -180
    },
    "id": "2dfc2ab3",
    "outputId": "79bf8ffb-0ece-48e8-e8c8-d89606f01f89"
   },
   "outputs": [
    {
     "data": {
      "text/html": [
       "<div>\n",
       "<style scoped>\n",
       "    .dataframe tbody tr th:only-of-type {\n",
       "        vertical-align: middle;\n",
       "    }\n",
       "\n",
       "    .dataframe tbody tr th {\n",
       "        vertical-align: top;\n",
       "    }\n",
       "\n",
       "    .dataframe thead th {\n",
       "        text-align: right;\n",
       "    }\n",
       "</style>\n",
       "<table border=\"1\" class=\"dataframe\">\n",
       "  <thead>\n",
       "    <tr style=\"text-align: right;\">\n",
       "      <th>cohort_lifetime</th>\n",
       "      <th>0</th>\n",
       "      <th>1</th>\n",
       "      <th>2</th>\n",
       "      <th>3</th>\n",
       "    </tr>\n",
       "    <tr>\n",
       "      <th>cluster_km</th>\n",
       "      <th></th>\n",
       "      <th></th>\n",
       "      <th></th>\n",
       "      <th></th>\n",
       "    </tr>\n",
       "  </thead>\n",
       "  <tbody>\n",
       "    <tr>\n",
       "      <th>0</th>\n",
       "      <td>1.0</td>\n",
       "      <td>0.256046</td>\n",
       "      <td>0.105263</td>\n",
       "      <td>0.036984</td>\n",
       "    </tr>\n",
       "    <tr>\n",
       "      <th>1</th>\n",
       "      <td>1.0</td>\n",
       "      <td>0.160909</td>\n",
       "      <td>0.072409</td>\n",
       "      <td>0.023663</td>\n",
       "    </tr>\n",
       "    <tr>\n",
       "      <th>2</th>\n",
       "      <td>1.0</td>\n",
       "      <td>0.135647</td>\n",
       "      <td>0.058360</td>\n",
       "      <td>0.026814</td>\n",
       "    </tr>\n",
       "    <tr>\n",
       "      <th>3</th>\n",
       "      <td>1.0</td>\n",
       "      <td>0.226475</td>\n",
       "      <td>0.079745</td>\n",
       "      <td>0.030303</td>\n",
       "    </tr>\n",
       "    <tr>\n",
       "      <th>4</th>\n",
       "      <td>1.0</td>\n",
       "      <td>0.208333</td>\n",
       "      <td>0.050926</td>\n",
       "      <td>0.032407</td>\n",
       "    </tr>\n",
       "  </tbody>\n",
       "</table>\n",
       "</div>"
      ],
      "text/plain": [
       "cohort_lifetime    0         1         2         3\n",
       "cluster_km                                        \n",
       "0                1.0  0.256046  0.105263  0.036984\n",
       "1                1.0  0.160909  0.072409  0.023663\n",
       "2                1.0  0.135647  0.058360  0.026814\n",
       "3                1.0  0.226475  0.079745  0.030303\n",
       "4                1.0  0.208333  0.050926  0.032407"
      ]
     },
     "execution_count": 98,
     "metadata": {},
     "output_type": "execute_result"
    }
   ],
   "source": [
    "retention_pivot"
   ]
  },
  {
   "cell_type": "code",
   "execution_count": 99,
   "id": "4739359e",
   "metadata": {
    "colab": {
     "base_uri": "https://localhost:8080/",
     "height": 622
    },
    "executionInfo": {
     "elapsed": 591,
     "status": "ok",
     "timestamp": 1650539005298,
     "user": {
      "displayName": "Vadim Selin",
      "userId": "13742755250186020674"
     },
     "user_tz": -180
    },
    "id": "4739359e",
    "outputId": "ad2e1423-0826-450a-ad2e-6c1d967e5830"
   },
   "outputs": [
    {
     "data": {
      "image/png": "[encoded data removed]",
      "text/plain": [
       "<Figure size 1080x720 with 2 Axes>"
      ]
     },
     "metadata": {
      "needs_background": "light"
     },
     "output_type": "display_data"
    }
   ],
   "source": [
    "plt.figure(figsize=(15,10))\n",
    "plt.title('Удержание пользователей в когортах')\n",
    "sns.heatmap(\n",
    "    retention_pivot,\n",
    "    annot=True,\n",
    "    fmt='.2%',\n",
    "    linewidths=0.5,\n",
    "    linecolor='white',\n",
    "    cmap='gist_heat_r'\n",
    ")\n",
    "plt.ylabel('Сегмент пользователей')\n",
    "plt.show()"
   ]
  },
  {
   "cell_type": "markdown",
   "id": "3b7c6891",
   "metadata": {
    "id": "3b7c6891"
   },
   "source": [
    "- На вторую неделю жизни разница в удержании пользователей между сегментами уже существенно отличается\n",
    "- Самые \"верные\" пользователи `0`- сегмента на протяжении всех недель демонстрируют наибольшие показатели по удержанию\n",
    "- Помню, что число событий у этого сегмента было больше, чем у более многочисленного `4`- сегмента\n",
    "    - Теперь если взглянуть на `retention rate` становится ясно, что это связано с показателем удержания пользователей на протяжении всего исследуемого периода: `4` сегмент быстрее рассеялся, потому и событий не успел столько совершить, как более устойчивый `0`-й\n",
    "- Быстрее всех со второй недели разбегаются пользователи `2`-сегмента\n",
    "    - Этих ребят можно и нужно возвращать в приложение email рассылкой c лучшими подборками, сделанными на основе их поисковых действий. Тут также можно применить алгоритм машинного обучение по ретро-данным \"кто что купил и что он перед этим смотрел и какие события совершал\""
   ]
  },
  {
   "cell_type": "markdown",
   "id": "337fa6ef",
   "metadata": {
    "id": "337fa6ef"
   },
   "source": [
    "## Определю среднюю пользовательскую сессию (сеанса)\n",
    "- Эта пользовательская сессия не будет ограничена одинаковым для всех временным интервалом, поскольку данный подход устарел. \n",
    "    - Он был актуален в прошлом для веб-сайтов. \n",
    "    - Но на сегодняшний день для приложений и современных веб сайтов он не подходит.\n",
    "    - Более современный подход - учёт времени бездействия между событиями:\n",
    "      - Длительность сессии при этом не ограничена\n",
    "      - Такой подход сегодня используется например в новом поколении системы аналитики Google Analytics 4\n",
    "      - Задача определения сеанса сводится к определению наиболее подходящего большинству пользователей времени бездействия.\n",
    "      - При превышении этого времени бездействия с новым событием начинается новый сеанс.\n",
    "- **Для применения этого подхода к моим данным введу такое допущение:**\n",
    "    - в данном логе любое самое первое событие для каждого пользователя является началом сессии, то есть нет пользователей, которые уже находились в сессии в момент начала записи лога. \n",
    "---"
   ]
  },
  {
   "cell_type": "markdown",
   "id": "fd1372ce",
   "metadata": {
    "id": "fd1372ce"
   },
   "source": [
    "Пересохраню датафрейм `df` отбросив уже ненужные данные о когортах "
   ]
  },
  {
   "cell_type": "code",
   "execution_count": 100,
   "id": "ee62902f",
   "metadata": {
    "executionInfo": {
     "elapsed": 3,
     "status": "ok",
     "timestamp": 1650539005298,
     "user": {
      "displayName": "Vadim Selin",
      "userId": "13742755250186020674"
     },
     "user_tz": -180
    },
    "id": "ee62902f"
   },
   "outputs": [],
   "source": [
    "df = df[['event_time', 'event_name', 'user_id', 'source', 'event_date',\n",
    "       'cluster_km']]"
   ]
  },
  {
   "cell_type": "markdown",
   "id": "c943758b",
   "metadata": {
    "id": "c943758b"
   },
   "source": [
    "- Вычислю дельту между событиями для каждого пользователя и переведу её в секунды"
   ]
  },
  {
   "cell_type": "code",
   "execution_count": 101,
   "id": "52fc9910",
   "metadata": {
    "executionInfo": {
     "elapsed": 1119,
     "status": "ok",
     "timestamp": 1650539006415,
     "user": {
      "displayName": "Vadim Selin",
      "userId": "13742755250186020674"
     },
     "user_tz": -180
    },
    "id": "52fc9910"
   },
   "outputs": [],
   "source": [
    "between_events = pd.DataFrame(df.groupby('user_id')['event_time'].diff().dt.seconds)"
   ]
  },
  {
   "cell_type": "code",
   "execution_count": 102,
   "id": "55790caa",
   "metadata": {
    "executionInfo": {
     "elapsed": 16,
     "status": "ok",
     "timestamp": 1650539006417,
     "user": {
      "displayName": "Vadim Selin",
      "userId": "13742755250186020674"
     },
     "user_tz": -180
    },
    "id": "55790caa"
   },
   "outputs": [],
   "source": [
    "between_events = between_events.rename(columns={'event_time':'seconds_between'})"
   ]
  },
  {
   "cell_type": "markdown",
   "id": "acc93347",
   "metadata": {
    "id": "acc93347"
   },
   "source": [
    "- Получил датафрейм с такими же индексами, как у основного `df` и значения временных дельт, соответствующих событиям\n",
    "- Присоединю его к основному `df`"
   ]
  },
  {
   "cell_type": "code",
   "execution_count": 103,
   "id": "fea91fb0",
   "metadata": {
    "executionInfo": {
     "elapsed": 15,
     "status": "ok",
     "timestamp": 1650539006417,
     "user": {
      "displayName": "Vadim Selin",
      "userId": "13742755250186020674"
     },
     "user_tz": -180
    },
    "id": "fea91fb0"
   },
   "outputs": [],
   "source": [
    "df = df.merge(between_events, how='left', left_index=True, right_index=True)"
   ]
  },
  {
   "cell_type": "code",
   "execution_count": 104,
   "id": "4cac9284",
   "metadata": {
    "colab": {
     "base_uri": "https://localhost:8080/",
     "height": 423
    },
    "executionInfo": {
     "elapsed": 15,
     "status": "ok",
     "timestamp": 1650539006417,
     "user": {
      "displayName": "Vadim Selin",
      "userId": "13742755250186020674"
     },
     "user_tz": -180
    },
    "id": "4cac9284",
    "outputId": "e19c71c2-909d-4a85-cf86-5ff4dd745d18"
   },
   "outputs": [
    {
     "data": {
      "text/html": [
       "<div>\n",
       "<style scoped>\n",
       "    .dataframe tbody tr th:only-of-type {\n",
       "        vertical-align: middle;\n",
       "    }\n",
       "\n",
       "    .dataframe tbody tr th {\n",
       "        vertical-align: top;\n",
       "    }\n",
       "\n",
       "    .dataframe thead th {\n",
       "        text-align: right;\n",
       "    }\n",
       "</style>\n",
       "<table border=\"1\" class=\"dataframe\">\n",
       "  <thead>\n",
       "    <tr style=\"text-align: right;\">\n",
       "      <th></th>\n",
       "      <th>event_time</th>\n",
       "      <th>event_name</th>\n",
       "      <th>user_id</th>\n",
       "      <th>source</th>\n",
       "      <th>event_date</th>\n",
       "      <th>cluster_km</th>\n",
       "      <th>seconds_between</th>\n",
       "    </tr>\n",
       "  </thead>\n",
       "  <tbody>\n",
       "    <tr>\n",
       "      <th>0</th>\n",
       "      <td>2019-10-07 00:00:00.431357</td>\n",
       "      <td>advert_open</td>\n",
       "      <td>020292ab-89bc-4156-9acf-68bc2783f894</td>\n",
       "      <td>other</td>\n",
       "      <td>2019-10-07</td>\n",
       "      <td>2</td>\n",
       "      <td>NaN</td>\n",
       "    </tr>\n",
       "    <tr>\n",
       "      <th>1</th>\n",
       "      <td>2019-10-07 00:00:01.236320</td>\n",
       "      <td>tips_show</td>\n",
       "      <td>020292ab-89bc-4156-9acf-68bc2783f894</td>\n",
       "      <td>other</td>\n",
       "      <td>2019-10-07</td>\n",
       "      <td>2</td>\n",
       "      <td>0.0</td>\n",
       "    </tr>\n",
       "    <tr>\n",
       "      <th>2</th>\n",
       "      <td>2019-10-07 00:00:02.245341</td>\n",
       "      <td>tips_show</td>\n",
       "      <td>cf7eda61-9349-469f-ac27-e5b6f5ec475c</td>\n",
       "      <td>yandex</td>\n",
       "      <td>2019-10-07</td>\n",
       "      <td>1</td>\n",
       "      <td>NaN</td>\n",
       "    </tr>\n",
       "    <tr>\n",
       "      <th>3</th>\n",
       "      <td>2019-10-07 00:00:07.039334</td>\n",
       "      <td>tips_show</td>\n",
       "      <td>020292ab-89bc-4156-9acf-68bc2783f894</td>\n",
       "      <td>other</td>\n",
       "      <td>2019-10-07</td>\n",
       "      <td>2</td>\n",
       "      <td>5.0</td>\n",
       "    </tr>\n",
       "    <tr>\n",
       "      <th>4</th>\n",
       "      <td>2019-10-07 00:00:56.319813</td>\n",
       "      <td>advert_open</td>\n",
       "      <td>cf7eda61-9349-469f-ac27-e5b6f5ec475c</td>\n",
       "      <td>yandex</td>\n",
       "      <td>2019-10-07</td>\n",
       "      <td>1</td>\n",
       "      <td>54.0</td>\n",
       "    </tr>\n",
       "    <tr>\n",
       "      <th>...</th>\n",
       "      <td>...</td>\n",
       "      <td>...</td>\n",
       "      <td>...</td>\n",
       "      <td>...</td>\n",
       "      <td>...</td>\n",
       "      <td>...</td>\n",
       "      <td>...</td>\n",
       "    </tr>\n",
       "    <tr>\n",
       "      <th>74192</th>\n",
       "      <td>2019-11-03 23:53:29.534986</td>\n",
       "      <td>tips_show</td>\n",
       "      <td>28fccdf4-7b9e-42f5-bc73-439a265f20e9</td>\n",
       "      <td>google</td>\n",
       "      <td>2019-11-03</td>\n",
       "      <td>1</td>\n",
       "      <td>4.0</td>\n",
       "    </tr>\n",
       "    <tr>\n",
       "      <th>74193</th>\n",
       "      <td>2019-11-03 23:54:00.407086</td>\n",
       "      <td>tips_show</td>\n",
       "      <td>28fccdf4-7b9e-42f5-bc73-439a265f20e9</td>\n",
       "      <td>google</td>\n",
       "      <td>2019-11-03</td>\n",
       "      <td>1</td>\n",
       "      <td>30.0</td>\n",
       "    </tr>\n",
       "    <tr>\n",
       "      <th>74194</th>\n",
       "      <td>2019-11-03 23:56:57.041825</td>\n",
       "      <td>search_action</td>\n",
       "      <td>20850c8f-4135-4059-b13b-198d3ac59902</td>\n",
       "      <td>google</td>\n",
       "      <td>2019-11-03</td>\n",
       "      <td>3</td>\n",
       "      <td>15915.0</td>\n",
       "    </tr>\n",
       "    <tr>\n",
       "      <th>74195</th>\n",
       "      <td>2019-11-03 23:57:06.232189</td>\n",
       "      <td>tips_show</td>\n",
       "      <td>28fccdf4-7b9e-42f5-bc73-439a265f20e9</td>\n",
       "      <td>google</td>\n",
       "      <td>2019-11-03</td>\n",
       "      <td>1</td>\n",
       "      <td>185.0</td>\n",
       "    </tr>\n",
       "    <tr>\n",
       "      <th>74196</th>\n",
       "      <td>2019-11-03 23:58:12.532487</td>\n",
       "      <td>tips_show</td>\n",
       "      <td>28fccdf4-7b9e-42f5-bc73-439a265f20e9</td>\n",
       "      <td>google</td>\n",
       "      <td>2019-11-03</td>\n",
       "      <td>1</td>\n",
       "      <td>66.0</td>\n",
       "    </tr>\n",
       "  </tbody>\n",
       "</table>\n",
       "<p>74197 rows × 7 columns</p>\n",
       "</div>"
      ],
      "text/plain": [
       "                      event_time     event_name  \\\n",
       "0     2019-10-07 00:00:00.431357    advert_open   \n",
       "1     2019-10-07 00:00:01.236320      tips_show   \n",
       "2     2019-10-07 00:00:02.245341      tips_show   \n",
       "3     2019-10-07 00:00:07.039334      tips_show   \n",
       "4     2019-10-07 00:00:56.319813    advert_open   \n",
       "...                          ...            ...   \n",
       "74192 2019-11-03 23:53:29.534986      tips_show   \n",
       "74193 2019-11-03 23:54:00.407086      tips_show   \n",
       "74194 2019-11-03 23:56:57.041825  search_action   \n",
       "74195 2019-11-03 23:57:06.232189      tips_show   \n",
       "74196 2019-11-03 23:58:12.532487      tips_show   \n",
       "\n",
       "                                    user_id  source event_date  cluster_km  \\\n",
       "0      020292ab-89bc-4156-9acf-68bc2783f894   other 2019-10-07           2   \n",
       "1      020292ab-89bc-4156-9acf-68bc2783f894   other 2019-10-07           2   \n",
       "2      cf7eda61-9349-469f-ac27-e5b6f5ec475c  yandex 2019-10-07           1   \n",
       "3      020292ab-89bc-4156-9acf-68bc2783f894   other 2019-10-07           2   \n",
       "4      cf7eda61-9349-469f-ac27-e5b6f5ec475c  yandex 2019-10-07           1   \n",
       "...                                     ...     ...        ...         ...   \n",
       "74192  28fccdf4-7b9e-42f5-bc73-439a265f20e9  google 2019-11-03           1   \n",
       "74193  28fccdf4-7b9e-42f5-bc73-439a265f20e9  google 2019-11-03           1   \n",
       "74194  20850c8f-4135-4059-b13b-198d3ac59902  google 2019-11-03           3   \n",
       "74195  28fccdf4-7b9e-42f5-bc73-439a265f20e9  google 2019-11-03           1   \n",
       "74196  28fccdf4-7b9e-42f5-bc73-439a265f20e9  google 2019-11-03           1   \n",
       "\n",
       "       seconds_between  \n",
       "0                  NaN  \n",
       "1                  0.0  \n",
       "2                  NaN  \n",
       "3                  5.0  \n",
       "4                 54.0  \n",
       "...                ...  \n",
       "74192              4.0  \n",
       "74193             30.0  \n",
       "74194          15915.0  \n",
       "74195            185.0  \n",
       "74196             66.0  \n",
       "\n",
       "[74197 rows x 7 columns]"
      ]
     },
     "execution_count": 104,
     "metadata": {},
     "output_type": "execute_result"
    }
   ],
   "source": [
    "df"
   ]
  },
  {
   "cell_type": "markdown",
   "id": "2ac38a15",
   "metadata": {
    "id": "2ac38a15"
   },
   "source": [
    "- Из первых строк стало понятно, что самому первому событию каждого пользователя значение временной дельты соответствует `nan`, потому что функция `diff` не считает разницу с предыдущим событием, его нет.\n",
    "- Также видно, что когда разница между событиями меньше 1 секунды (быстрые пальцы) значение дельты при переводе в секунды равно `0`\n",
    "---\n",
    "Заменю значения дельты `nan` на `0`, а `0`(где на самом деле просто чуть меньше секунды) на 1"
   ]
  },
  {
   "cell_type": "code",
   "execution_count": 105,
   "id": "e6346bf3",
   "metadata": {
    "executionInfo": {
     "elapsed": 15,
     "status": "ok",
     "timestamp": 1650539006418,
     "user": {
      "displayName": "Vadim Selin",
      "userId": "13742755250186020674"
     },
     "user_tz": -180
    },
    "id": "e6346bf3"
   },
   "outputs": [],
   "source": [
    "df = df.replace({'seconds_between':{0:1, np.nan:0}})"
   ]
  },
  {
   "cell_type": "markdown",
   "id": "c82c509d",
   "metadata": {
    "id": "c82c509d"
   },
   "source": [
    "- Посмотрю на распределение значений временных дельт между событиями, опущу нулевые значения для первых сеансов пользователей"
   ]
  },
  {
   "cell_type": "code",
   "execution_count": 106,
   "id": "11fbb34d",
   "metadata": {
    "colab": {
     "base_uri": "https://localhost:8080/"
    },
    "executionInfo": {
     "elapsed": 15,
     "status": "ok",
     "timestamp": 1650539006418,
     "user": {
      "displayName": "Vadim Selin",
      "userId": "13742755250186020674"
     },
     "user_tz": -180
    },
    "id": "11fbb34d",
    "outputId": "bbf7e3be-658f-486c-b996-4e46d123d680"
   },
   "outputs": [
    {
     "data": {
      "text/plain": [
       "count    69904.000000\n",
       "mean      2928.564446\n",
       "std      12589.866125\n",
       "min          1.000000\n",
       "25%         23.000000\n",
       "50%         70.000000\n",
       "75%        180.000000\n",
       "max      86383.000000\n",
       "Name: seconds_between, dtype: float64"
      ]
     },
     "execution_count": 106,
     "metadata": {},
     "output_type": "execute_result"
    }
   ],
   "source": [
    "df[df['seconds_between'] != 0]['seconds_between'].describe()"
   ]
  },
  {
   "cell_type": "markdown",
   "id": "rO3zosYMbPYI",
   "metadata": {
    "id": "rO3zosYMbPYI"
   },
   "source": [
    "- Получу самое частое значение дельты"
   ]
  },
  {
   "cell_type": "code",
   "execution_count": 107,
   "id": "c9bfa2c9",
   "metadata": {
    "colab": {
     "base_uri": "https://localhost:8080/"
    },
    "executionInfo": {
     "elapsed": 9,
     "status": "ok",
     "timestamp": 1650539006418,
     "user": {
      "displayName": "Vadim Selin",
      "userId": "13742755250186020674"
     },
     "user_tz": -180
    },
    "id": "c9bfa2c9",
    "outputId": "f795fefa-f8f3-4c35-cee0-8f59f5015b14"
   },
   "outputs": [
    {
     "data": {
      "text/plain": [
       "0    1.0\n",
       "dtype: float64"
      ]
     },
     "execution_count": 107,
     "metadata": {},
     "output_type": "execute_result"
    }
   ],
   "source": [
    "# беру моду именно по дельтам, поэтому отбрасываю первое событие с условной нулевой дельтой \n",
    "df[df['seconds_between'] != 0]['seconds_between'].mode()"
   ]
  },
  {
   "cell_type": "markdown",
   "id": "5c6c96ce",
   "metadata": {
    "id": "5c6c96ce"
   },
   "source": [
    "- Распределение сильно смещено вправо:\n",
    "    - Мода 1\n",
    "    - Медиана 70\n",
    "    - Среднее 2928\n",
    "---\n",
    "- Очевидно, что среднее значение временной дельты между событиями сильно оттянуто периодами бездействия между сессиями\n",
    "- А вот медиана не будет этому подвержена.\n",
    "- Но значение в 70 секунд (по опыту использования подобных приложений) мало, чтобы определить его как типичное для пользователей максимальное время бездействия, после которого можно начинать отсчитывать следующую сессию:\n",
    "    1. В нашем приложении есть события результат которых требует большего вермени на изучение (чтение описания, просмотр фото, изучение карты, переходы в браузер вне приложения для поиска дополнительной информации по объекту объявления).\n",
    "    2. Также что половина событий в логе происходит с большим временем бездействия.\n",
    "    3. А между сессиями время бездействия должно быть существенно больше и число таких интервалов должно быть заметно меньше, чем между событиями проходящими в сессиях.\n",
    "    4. Поэтому я предполагаю, что на диаграмме `boxplot` межсессионные дельты находятся в области выбросов.\n",
    "    5. Поэтому рассмотрю в качестве верхней границы времени бездействия (в рамках текущего сеанса) верхний предел статистически значимой выборки значений `seconds_between` на диаграмме `boxplot`.\n",
    "- Верхний предел статистически значимой выборки значений `seconds_between` будет равен сумме полутора межквартильных размахов и значения 3-го квартиля: `1.5 * (180 - 23) + 180 = 415.5`\n",
    "- Это почти 7 минут и гораздо больше похоже на то время, за которое даже не самый активный пользователь прочтёт, посмотрит что нужно и перейдёт к следующему действию (событию)"
   ]
  },
  {
   "cell_type": "code",
   "execution_count": 108,
   "id": "405b76a9",
   "metadata": {
    "colab": {
     "base_uri": "https://localhost:8080/",
     "height": 444
    },
    "executionInfo": {
     "elapsed": 585,
     "status": "ok",
     "timestamp": 1650539006997,
     "user": {
      "displayName": "Vadim Selin",
      "userId": "13742755250186020674"
     },
     "user_tz": -180
    },
    "id": "405b76a9",
    "outputId": "eb6a03b6-f98c-40db-8d75-dbb3e1a18ba4"
   },
   "outputs": [
    {
     "data": {
      "image/png": "[encoded data removed]",
      "text/plain": [
       "<Figure size 360x504 with 1 Axes>"
      ]
     },
     "metadata": {
      "needs_background": "light"
     },
     "output_type": "display_data"
    }
   ],
   "source": [
    "df[df['seconds_between'] != 0].boxplot('seconds_between', figsize=(5, 7))\n",
    "plt.ylim(0, 1000)\n",
    "plt.title('Распределение временных дельт между событиями по каждому пользователю')\n",
    "plt.show()"
   ]
  },
  {
   "cell_type": "markdown",
   "id": "747ae095",
   "metadata": {
    "id": "747ae095"
   },
   "source": [
    "---\n",
    "Длительность времени бездействия до начала следующей пользовательской сессии определю как 420 секунд (округлю до 7 полных минут 415,5 секунд). Для сравнения, в Google Analytics 4 оно составляет 30 минут, после чего очередное событие уже означает начало нового сеанса для пользователя. Это также обусловленно количеством контента, которое может изучать средний пользователь до совершения следующего события.\n",
    "\n",
    "---\n",
    "\n",
    "- Теперь промаркирую события, чтобы выделить начало каждой новой сессии"
   ]
  },
  {
   "cell_type": "markdown",
   "id": "BN6pNgrjDhki",
   "metadata": {
    "id": "BN6pNgrjDhki"
   },
   "source": [
    "- Присвою каждому первому событию каждого пользователя в логе маркер `start_new_session`, как условился в **допущении** выше"
   ]
  },
  {
   "cell_type": "code",
   "execution_count": 109,
   "id": "o6YZ-EbfDhki",
   "metadata": {
    "executionInfo": {
     "elapsed": 9,
     "status": "ok",
     "timestamp": 1650539006998,
     "user": {
      "displayName": "Vadim Selin",
      "userId": "13742755250186020674"
     },
     "user_tz": -180
    },
    "id": "o6YZ-EbfDhki"
   },
   "outputs": [],
   "source": [
    "df['session_status'] = np.where(df['seconds_between'] == 0, 'start_new_session', np.nan)"
   ]
  },
  {
   "cell_type": "markdown",
   "id": "T_xPCVwmfQrv",
   "metadata": {
    "id": "T_xPCVwmfQrv"
   },
   "source": [
    "- Из следующей операции исключю все первые `start_new_session`\n",
    "- Все последующие события пользователей с временной дельтой **(к предыдущему событию этого пользователя)** меньше 420 секунд, промаркирую как `session_continues`\n",
    "- если дельта больше 420 - `start_new_session`."
   ]
  },
  {
   "cell_type": "code",
   "execution_count": 110,
   "id": "7j6aTo-cDhki",
   "metadata": {
    "executionInfo": {
     "elapsed": 9,
     "status": "ok",
     "timestamp": 1650539006998,
     "user": {
      "displayName": "Vadim Selin",
      "userId": "13742755250186020674"
     },
     "user_tz": -180
    },
    "id": "7j6aTo-cDhki"
   },
   "outputs": [],
   "source": [
    "df.loc[df['session_status'] != 'start_new_session', 'session_status'] = (\n",
    "    df['seconds_between'].apply(\n",
    "        lambda x : 'session_continues' if x <= 420 else 'start_new_session'\n",
    "    )\n",
    ")"
   ]
  },
  {
   "cell_type": "code",
   "execution_count": 111,
   "id": "hb3I3552hoI5",
   "metadata": {
    "colab": {
     "base_uri": "https://localhost:8080/",
     "height": 423
    },
    "executionInfo": {
     "elapsed": 8,
     "status": "ok",
     "timestamp": 1650539006998,
     "user": {
      "displayName": "Vadim Selin",
      "userId": "13742755250186020674"
     },
     "user_tz": -180
    },
    "id": "hb3I3552hoI5",
    "outputId": "a22d33d6-2149-4311-c291-a9fbedf3b179"
   },
   "outputs": [
    {
     "data": {
      "text/html": [
       "<div>\n",
       "<style scoped>\n",
       "    .dataframe tbody tr th:only-of-type {\n",
       "        vertical-align: middle;\n",
       "    }\n",
       "\n",
       "    .dataframe tbody tr th {\n",
       "        vertical-align: top;\n",
       "    }\n",
       "\n",
       "    .dataframe thead th {\n",
       "        text-align: right;\n",
       "    }\n",
       "</style>\n",
       "<table border=\"1\" class=\"dataframe\">\n",
       "  <thead>\n",
       "    <tr style=\"text-align: right;\">\n",
       "      <th></th>\n",
       "      <th>event_time</th>\n",
       "      <th>event_name</th>\n",
       "      <th>user_id</th>\n",
       "      <th>source</th>\n",
       "      <th>event_date</th>\n",
       "      <th>cluster_km</th>\n",
       "      <th>seconds_between</th>\n",
       "      <th>session_status</th>\n",
       "    </tr>\n",
       "  </thead>\n",
       "  <tbody>\n",
       "    <tr>\n",
       "      <th>0</th>\n",
       "      <td>2019-10-07 00:00:00.431357</td>\n",
       "      <td>advert_open</td>\n",
       "      <td>020292ab-89bc-4156-9acf-68bc2783f894</td>\n",
       "      <td>other</td>\n",
       "      <td>2019-10-07</td>\n",
       "      <td>2</td>\n",
       "      <td>0.0</td>\n",
       "      <td>start_new_session</td>\n",
       "    </tr>\n",
       "    <tr>\n",
       "      <th>1</th>\n",
       "      <td>2019-10-07 00:00:01.236320</td>\n",
       "      <td>tips_show</td>\n",
       "      <td>020292ab-89bc-4156-9acf-68bc2783f894</td>\n",
       "      <td>other</td>\n",
       "      <td>2019-10-07</td>\n",
       "      <td>2</td>\n",
       "      <td>1.0</td>\n",
       "      <td>session_continues</td>\n",
       "    </tr>\n",
       "    <tr>\n",
       "      <th>2</th>\n",
       "      <td>2019-10-07 00:00:02.245341</td>\n",
       "      <td>tips_show</td>\n",
       "      <td>cf7eda61-9349-469f-ac27-e5b6f5ec475c</td>\n",
       "      <td>yandex</td>\n",
       "      <td>2019-10-07</td>\n",
       "      <td>1</td>\n",
       "      <td>0.0</td>\n",
       "      <td>start_new_session</td>\n",
       "    </tr>\n",
       "    <tr>\n",
       "      <th>3</th>\n",
       "      <td>2019-10-07 00:00:07.039334</td>\n",
       "      <td>tips_show</td>\n",
       "      <td>020292ab-89bc-4156-9acf-68bc2783f894</td>\n",
       "      <td>other</td>\n",
       "      <td>2019-10-07</td>\n",
       "      <td>2</td>\n",
       "      <td>5.0</td>\n",
       "      <td>session_continues</td>\n",
       "    </tr>\n",
       "    <tr>\n",
       "      <th>4</th>\n",
       "      <td>2019-10-07 00:00:56.319813</td>\n",
       "      <td>advert_open</td>\n",
       "      <td>cf7eda61-9349-469f-ac27-e5b6f5ec475c</td>\n",
       "      <td>yandex</td>\n",
       "      <td>2019-10-07</td>\n",
       "      <td>1</td>\n",
       "      <td>54.0</td>\n",
       "      <td>session_continues</td>\n",
       "    </tr>\n",
       "    <tr>\n",
       "      <th>...</th>\n",
       "      <td>...</td>\n",
       "      <td>...</td>\n",
       "      <td>...</td>\n",
       "      <td>...</td>\n",
       "      <td>...</td>\n",
       "      <td>...</td>\n",
       "      <td>...</td>\n",
       "      <td>...</td>\n",
       "    </tr>\n",
       "    <tr>\n",
       "      <th>74192</th>\n",
       "      <td>2019-11-03 23:53:29.534986</td>\n",
       "      <td>tips_show</td>\n",
       "      <td>28fccdf4-7b9e-42f5-bc73-439a265f20e9</td>\n",
       "      <td>google</td>\n",
       "      <td>2019-11-03</td>\n",
       "      <td>1</td>\n",
       "      <td>4.0</td>\n",
       "      <td>session_continues</td>\n",
       "    </tr>\n",
       "    <tr>\n",
       "      <th>74193</th>\n",
       "      <td>2019-11-03 23:54:00.407086</td>\n",
       "      <td>tips_show</td>\n",
       "      <td>28fccdf4-7b9e-42f5-bc73-439a265f20e9</td>\n",
       "      <td>google</td>\n",
       "      <td>2019-11-03</td>\n",
       "      <td>1</td>\n",
       "      <td>30.0</td>\n",
       "      <td>session_continues</td>\n",
       "    </tr>\n",
       "    <tr>\n",
       "      <th>74194</th>\n",
       "      <td>2019-11-03 23:56:57.041825</td>\n",
       "      <td>search_action</td>\n",
       "      <td>20850c8f-4135-4059-b13b-198d3ac59902</td>\n",
       "      <td>google</td>\n",
       "      <td>2019-11-03</td>\n",
       "      <td>3</td>\n",
       "      <td>15915.0</td>\n",
       "      <td>start_new_session</td>\n",
       "    </tr>\n",
       "    <tr>\n",
       "      <th>74195</th>\n",
       "      <td>2019-11-03 23:57:06.232189</td>\n",
       "      <td>tips_show</td>\n",
       "      <td>28fccdf4-7b9e-42f5-bc73-439a265f20e9</td>\n",
       "      <td>google</td>\n",
       "      <td>2019-11-03</td>\n",
       "      <td>1</td>\n",
       "      <td>185.0</td>\n",
       "      <td>session_continues</td>\n",
       "    </tr>\n",
       "    <tr>\n",
       "      <th>74196</th>\n",
       "      <td>2019-11-03 23:58:12.532487</td>\n",
       "      <td>tips_show</td>\n",
       "      <td>28fccdf4-7b9e-42f5-bc73-439a265f20e9</td>\n",
       "      <td>google</td>\n",
       "      <td>2019-11-03</td>\n",
       "      <td>1</td>\n",
       "      <td>66.0</td>\n",
       "      <td>session_continues</td>\n",
       "    </tr>\n",
       "  </tbody>\n",
       "</table>\n",
       "<p>74197 rows × 8 columns</p>\n",
       "</div>"
      ],
      "text/plain": [
       "                      event_time     event_name  \\\n",
       "0     2019-10-07 00:00:00.431357    advert_open   \n",
       "1     2019-10-07 00:00:01.236320      tips_show   \n",
       "2     2019-10-07 00:00:02.245341      tips_show   \n",
       "3     2019-10-07 00:00:07.039334      tips_show   \n",
       "4     2019-10-07 00:00:56.319813    advert_open   \n",
       "...                          ...            ...   \n",
       "74192 2019-11-03 23:53:29.534986      tips_show   \n",
       "74193 2019-11-03 23:54:00.407086      tips_show   \n",
       "74194 2019-11-03 23:56:57.041825  search_action   \n",
       "74195 2019-11-03 23:57:06.232189      tips_show   \n",
       "74196 2019-11-03 23:58:12.532487      tips_show   \n",
       "\n",
       "                                    user_id  source event_date  cluster_km  \\\n",
       "0      020292ab-89bc-4156-9acf-68bc2783f894   other 2019-10-07           2   \n",
       "1      020292ab-89bc-4156-9acf-68bc2783f894   other 2019-10-07           2   \n",
       "2      cf7eda61-9349-469f-ac27-e5b6f5ec475c  yandex 2019-10-07           1   \n",
       "3      020292ab-89bc-4156-9acf-68bc2783f894   other 2019-10-07           2   \n",
       "4      cf7eda61-9349-469f-ac27-e5b6f5ec475c  yandex 2019-10-07           1   \n",
       "...                                     ...     ...        ...         ...   \n",
       "74192  28fccdf4-7b9e-42f5-bc73-439a265f20e9  google 2019-11-03           1   \n",
       "74193  28fccdf4-7b9e-42f5-bc73-439a265f20e9  google 2019-11-03           1   \n",
       "74194  20850c8f-4135-4059-b13b-198d3ac59902  google 2019-11-03           3   \n",
       "74195  28fccdf4-7b9e-42f5-bc73-439a265f20e9  google 2019-11-03           1   \n",
       "74196  28fccdf4-7b9e-42f5-bc73-439a265f20e9  google 2019-11-03           1   \n",
       "\n",
       "       seconds_between     session_status  \n",
       "0                  0.0  start_new_session  \n",
       "1                  1.0  session_continues  \n",
       "2                  0.0  start_new_session  \n",
       "3                  5.0  session_continues  \n",
       "4                 54.0  session_continues  \n",
       "...                ...                ...  \n",
       "74192              4.0  session_continues  \n",
       "74193             30.0  session_continues  \n",
       "74194          15915.0  start_new_session  \n",
       "74195            185.0  session_continues  \n",
       "74196             66.0  session_continues  \n",
       "\n",
       "[74197 rows x 8 columns]"
      ]
     },
     "execution_count": 111,
     "metadata": {},
     "output_type": "execute_result"
    }
   ],
   "source": [
    "df"
   ]
  },
  {
   "cell_type": "markdown",
   "id": "DGxylV0uQsRG",
   "metadata": {
    "id": "DGxylV0uQsRG"
   },
   "source": [
    "- Замечательно, но теперь бы пронумеровать каждую сессию для каждого пользователя своим номером, чтобы группировкой по этому номеру можно было получить первое и последнее событие в конкретной сессии.\n",
    "- Это нужно для того, чтобы посчитать длительность каждой отдельной сессии для каждого пользователя.\n",
    "- Создам новый столбец `session_number` и заполню его пропусками."
   ]
  },
  {
   "cell_type": "code",
   "execution_count": 112,
   "id": "UuqSVYkKMgE2",
   "metadata": {
    "executionInfo": {
     "elapsed": 8,
     "status": "ok",
     "timestamp": 1650539006998,
     "user": {
      "displayName": "Vadim Selin",
      "userId": "13742755250186020674"
     },
     "user_tz": -180
    },
    "id": "UuqSVYkKMgE2"
   },
   "outputs": [],
   "source": [
    "df['session_number'] = np.nan"
   ]
  },
  {
   "cell_type": "code",
   "execution_count": 113,
   "id": "ZPwoxZEcNQXr",
   "metadata": {
    "colab": {
     "base_uri": "https://localhost:8080/",
     "height": 423
    },
    "executionInfo": {
     "elapsed": 8,
     "status": "ok",
     "timestamp": 1650539006999,
     "user": {
      "displayName": "Vadim Selin",
      "userId": "13742755250186020674"
     },
     "user_tz": -180
    },
    "id": "ZPwoxZEcNQXr",
    "outputId": "a332d4be-9226-4717-cc18-b48ad477ad25"
   },
   "outputs": [
    {
     "data": {
      "text/html": [
       "<div>\n",
       "<style scoped>\n",
       "    .dataframe tbody tr th:only-of-type {\n",
       "        vertical-align: middle;\n",
       "    }\n",
       "\n",
       "    .dataframe tbody tr th {\n",
       "        vertical-align: top;\n",
       "    }\n",
       "\n",
       "    .dataframe thead th {\n",
       "        text-align: right;\n",
       "    }\n",
       "</style>\n",
       "<table border=\"1\" class=\"dataframe\">\n",
       "  <thead>\n",
       "    <tr style=\"text-align: right;\">\n",
       "      <th></th>\n",
       "      <th>event_time</th>\n",
       "      <th>event_name</th>\n",
       "      <th>user_id</th>\n",
       "      <th>source</th>\n",
       "      <th>event_date</th>\n",
       "      <th>cluster_km</th>\n",
       "      <th>seconds_between</th>\n",
       "      <th>session_status</th>\n",
       "      <th>session_number</th>\n",
       "    </tr>\n",
       "  </thead>\n",
       "  <tbody>\n",
       "    <tr>\n",
       "      <th>0</th>\n",
       "      <td>2019-10-07 00:00:00.431357</td>\n",
       "      <td>advert_open</td>\n",
       "      <td>020292ab-89bc-4156-9acf-68bc2783f894</td>\n",
       "      <td>other</td>\n",
       "      <td>2019-10-07</td>\n",
       "      <td>2</td>\n",
       "      <td>0.0</td>\n",
       "      <td>start_new_session</td>\n",
       "      <td>NaN</td>\n",
       "    </tr>\n",
       "    <tr>\n",
       "      <th>1</th>\n",
       "      <td>2019-10-07 00:00:01.236320</td>\n",
       "      <td>tips_show</td>\n",
       "      <td>020292ab-89bc-4156-9acf-68bc2783f894</td>\n",
       "      <td>other</td>\n",
       "      <td>2019-10-07</td>\n",
       "      <td>2</td>\n",
       "      <td>1.0</td>\n",
       "      <td>session_continues</td>\n",
       "      <td>NaN</td>\n",
       "    </tr>\n",
       "    <tr>\n",
       "      <th>2</th>\n",
       "      <td>2019-10-07 00:00:02.245341</td>\n",
       "      <td>tips_show</td>\n",
       "      <td>cf7eda61-9349-469f-ac27-e5b6f5ec475c</td>\n",
       "      <td>yandex</td>\n",
       "      <td>2019-10-07</td>\n",
       "      <td>1</td>\n",
       "      <td>0.0</td>\n",
       "      <td>start_new_session</td>\n",
       "      <td>NaN</td>\n",
       "    </tr>\n",
       "    <tr>\n",
       "      <th>3</th>\n",
       "      <td>2019-10-07 00:00:07.039334</td>\n",
       "      <td>tips_show</td>\n",
       "      <td>020292ab-89bc-4156-9acf-68bc2783f894</td>\n",
       "      <td>other</td>\n",
       "      <td>2019-10-07</td>\n",
       "      <td>2</td>\n",
       "      <td>5.0</td>\n",
       "      <td>session_continues</td>\n",
       "      <td>NaN</td>\n",
       "    </tr>\n",
       "    <tr>\n",
       "      <th>4</th>\n",
       "      <td>2019-10-07 00:00:56.319813</td>\n",
       "      <td>advert_open</td>\n",
       "      <td>cf7eda61-9349-469f-ac27-e5b6f5ec475c</td>\n",
       "      <td>yandex</td>\n",
       "      <td>2019-10-07</td>\n",
       "      <td>1</td>\n",
       "      <td>54.0</td>\n",
       "      <td>session_continues</td>\n",
       "      <td>NaN</td>\n",
       "    </tr>\n",
       "    <tr>\n",
       "      <th>...</th>\n",
       "      <td>...</td>\n",
       "      <td>...</td>\n",
       "      <td>...</td>\n",
       "      <td>...</td>\n",
       "      <td>...</td>\n",
       "      <td>...</td>\n",
       "      <td>...</td>\n",
       "      <td>...</td>\n",
       "      <td>...</td>\n",
       "    </tr>\n",
       "    <tr>\n",
       "      <th>74192</th>\n",
       "      <td>2019-11-03 23:53:29.534986</td>\n",
       "      <td>tips_show</td>\n",
       "      <td>28fccdf4-7b9e-42f5-bc73-439a265f20e9</td>\n",
       "      <td>google</td>\n",
       "      <td>2019-11-03</td>\n",
       "      <td>1</td>\n",
       "      <td>4.0</td>\n",
       "      <td>session_continues</td>\n",
       "      <td>NaN</td>\n",
       "    </tr>\n",
       "    <tr>\n",
       "      <th>74193</th>\n",
       "      <td>2019-11-03 23:54:00.407086</td>\n",
       "      <td>tips_show</td>\n",
       "      <td>28fccdf4-7b9e-42f5-bc73-439a265f20e9</td>\n",
       "      <td>google</td>\n",
       "      <td>2019-11-03</td>\n",
       "      <td>1</td>\n",
       "      <td>30.0</td>\n",
       "      <td>session_continues</td>\n",
       "      <td>NaN</td>\n",
       "    </tr>\n",
       "    <tr>\n",
       "      <th>74194</th>\n",
       "      <td>2019-11-03 23:56:57.041825</td>\n",
       "      <td>search_action</td>\n",
       "      <td>20850c8f-4135-4059-b13b-198d3ac59902</td>\n",
       "      <td>google</td>\n",
       "      <td>2019-11-03</td>\n",
       "      <td>3</td>\n",
       "      <td>15915.0</td>\n",
       "      <td>start_new_session</td>\n",
       "      <td>NaN</td>\n",
       "    </tr>\n",
       "    <tr>\n",
       "      <th>74195</th>\n",
       "      <td>2019-11-03 23:57:06.232189</td>\n",
       "      <td>tips_show</td>\n",
       "      <td>28fccdf4-7b9e-42f5-bc73-439a265f20e9</td>\n",
       "      <td>google</td>\n",
       "      <td>2019-11-03</td>\n",
       "      <td>1</td>\n",
       "      <td>185.0</td>\n",
       "      <td>session_continues</td>\n",
       "      <td>NaN</td>\n",
       "    </tr>\n",
       "    <tr>\n",
       "      <th>74196</th>\n",
       "      <td>2019-11-03 23:58:12.532487</td>\n",
       "      <td>tips_show</td>\n",
       "      <td>28fccdf4-7b9e-42f5-bc73-439a265f20e9</td>\n",
       "      <td>google</td>\n",
       "      <td>2019-11-03</td>\n",
       "      <td>1</td>\n",
       "      <td>66.0</td>\n",
       "      <td>session_continues</td>\n",
       "      <td>NaN</td>\n",
       "    </tr>\n",
       "  </tbody>\n",
       "</table>\n",
       "<p>74197 rows × 9 columns</p>\n",
       "</div>"
      ],
      "text/plain": [
       "                      event_time     event_name  \\\n",
       "0     2019-10-07 00:00:00.431357    advert_open   \n",
       "1     2019-10-07 00:00:01.236320      tips_show   \n",
       "2     2019-10-07 00:00:02.245341      tips_show   \n",
       "3     2019-10-07 00:00:07.039334      tips_show   \n",
       "4     2019-10-07 00:00:56.319813    advert_open   \n",
       "...                          ...            ...   \n",
       "74192 2019-11-03 23:53:29.534986      tips_show   \n",
       "74193 2019-11-03 23:54:00.407086      tips_show   \n",
       "74194 2019-11-03 23:56:57.041825  search_action   \n",
       "74195 2019-11-03 23:57:06.232189      tips_show   \n",
       "74196 2019-11-03 23:58:12.532487      tips_show   \n",
       "\n",
       "                                    user_id  source event_date  cluster_km  \\\n",
       "0      020292ab-89bc-4156-9acf-68bc2783f894   other 2019-10-07           2   \n",
       "1      020292ab-89bc-4156-9acf-68bc2783f894   other 2019-10-07           2   \n",
       "2      cf7eda61-9349-469f-ac27-e5b6f5ec475c  yandex 2019-10-07           1   \n",
       "3      020292ab-89bc-4156-9acf-68bc2783f894   other 2019-10-07           2   \n",
       "4      cf7eda61-9349-469f-ac27-e5b6f5ec475c  yandex 2019-10-07           1   \n",
       "...                                     ...     ...        ...         ...   \n",
       "74192  28fccdf4-7b9e-42f5-bc73-439a265f20e9  google 2019-11-03           1   \n",
       "74193  28fccdf4-7b9e-42f5-bc73-439a265f20e9  google 2019-11-03           1   \n",
       "74194  20850c8f-4135-4059-b13b-198d3ac59902  google 2019-11-03           3   \n",
       "74195  28fccdf4-7b9e-42f5-bc73-439a265f20e9  google 2019-11-03           1   \n",
       "74196  28fccdf4-7b9e-42f5-bc73-439a265f20e9  google 2019-11-03           1   \n",
       "\n",
       "       seconds_between     session_status  session_number  \n",
       "0                  0.0  start_new_session             NaN  \n",
       "1                  1.0  session_continues             NaN  \n",
       "2                  0.0  start_new_session             NaN  \n",
       "3                  5.0  session_continues             NaN  \n",
       "4                 54.0  session_continues             NaN  \n",
       "...                ...                ...             ...  \n",
       "74192              4.0  session_continues             NaN  \n",
       "74193             30.0  session_continues             NaN  \n",
       "74194          15915.0  start_new_session             NaN  \n",
       "74195            185.0  session_continues             NaN  \n",
       "74196             66.0  session_continues             NaN  \n",
       "\n",
       "[74197 rows x 9 columns]"
      ]
     },
     "execution_count": 113,
     "metadata": {},
     "output_type": "execute_result"
    }
   ],
   "source": [
    "df"
   ]
  },
  {
   "cell_type": "markdown",
   "id": "3zrSYCsDSl1c",
   "metadata": {
    "id": "3zrSYCsDSl1c"
   },
   "source": [
    "- Теперь выберу строки стартовых событий в сессиях и с помощью группировки по пользователям пронумерую для каждого пользователя его стартовые события.\n",
    "- Пронумерую = заменю NaN в столбце `session_number` на порядковый номер сессии от `0` до последней сессии."
   ]
  },
  {
   "cell_type": "code",
   "execution_count": 114,
   "id": "6zTEr6EcJbIs",
   "metadata": {
    "executionInfo": {
     "elapsed": 8,
     "status": "ok",
     "timestamp": 1650539006999,
     "user": {
      "displayName": "Vadim Selin",
      "userId": "13742755250186020674"
     },
     "user_tz": -180
    },
    "id": "6zTEr6EcJbIs"
   },
   "outputs": [],
   "source": [
    "df.loc[df['session_status'] == 'start_new_session', 'session_number'] = (\n",
    "    df[df['session_status'] == 'start_new_session'].groupby(['user_id']).cumcount()\n",
    ")"
   ]
  },
  {
   "cell_type": "markdown",
   "id": "sLoPomDETvYk",
   "metadata": {
    "id": "sLoPomDETvYk"
   },
   "source": [
    "- Проверю корректность заполнения на примере двух пользователей."
   ]
  },
  {
   "cell_type": "code",
   "execution_count": 115,
   "id": "0yQSU4H9UZUd",
   "metadata": {
    "colab": {
     "base_uri": "https://localhost:8080/",
     "height": 520
    },
    "executionInfo": {
     "elapsed": 8,
     "status": "ok",
     "timestamp": 1650539006999,
     "user": {
      "displayName": "Vadim Selin",
      "userId": "13742755250186020674"
     },
     "user_tz": -180
    },
    "id": "0yQSU4H9UZUd",
    "outputId": "1a7d7c2c-86a0-42cf-d8cf-97d74f7c9769"
   },
   "outputs": [
    {
     "data": {
      "text/html": [
       "<div>\n",
       "<style scoped>\n",
       "    .dataframe tbody tr th:only-of-type {\n",
       "        vertical-align: middle;\n",
       "    }\n",
       "\n",
       "    .dataframe tbody tr th {\n",
       "        vertical-align: top;\n",
       "    }\n",
       "\n",
       "    .dataframe thead th {\n",
       "        text-align: right;\n",
       "    }\n",
       "</style>\n",
       "<table border=\"1\" class=\"dataframe\">\n",
       "  <thead>\n",
       "    <tr style=\"text-align: right;\">\n",
       "      <th></th>\n",
       "      <th>event_time</th>\n",
       "      <th>event_name</th>\n",
       "      <th>user_id</th>\n",
       "      <th>source</th>\n",
       "      <th>event_date</th>\n",
       "      <th>cluster_km</th>\n",
       "      <th>seconds_between</th>\n",
       "      <th>session_status</th>\n",
       "      <th>session_number</th>\n",
       "    </tr>\n",
       "  </thead>\n",
       "  <tbody>\n",
       "    <tr>\n",
       "      <th>25</th>\n",
       "      <td>2019-10-07 00:05:20.190956</td>\n",
       "      <td>search_action</td>\n",
       "      <td>d9b06b47-0f36-419b-bbb0-3533e582a6cb</td>\n",
       "      <td>other</td>\n",
       "      <td>2019-10-07</td>\n",
       "      <td>2</td>\n",
       "      <td>0.0</td>\n",
       "      <td>start_new_session</td>\n",
       "      <td>0.0</td>\n",
       "    </tr>\n",
       "    <tr>\n",
       "      <th>26</th>\n",
       "      <td>2019-10-07 00:05:23.427766</td>\n",
       "      <td>search_action</td>\n",
       "      <td>d9b06b47-0f36-419b-bbb0-3533e582a6cb</td>\n",
       "      <td>other</td>\n",
       "      <td>2019-10-07</td>\n",
       "      <td>2</td>\n",
       "      <td>3.0</td>\n",
       "      <td>session_continues</td>\n",
       "      <td>NaN</td>\n",
       "    </tr>\n",
       "    <tr>\n",
       "      <th>8418</th>\n",
       "      <td>2019-10-10 15:45:36.012693</td>\n",
       "      <td>map</td>\n",
       "      <td>d9b06b47-0f36-419b-bbb0-3533e582a6cb</td>\n",
       "      <td>other</td>\n",
       "      <td>2019-10-10</td>\n",
       "      <td>2</td>\n",
       "      <td>56412.0</td>\n",
       "      <td>start_new_session</td>\n",
       "      <td>1.0</td>\n",
       "    </tr>\n",
       "    <tr>\n",
       "      <th>8427</th>\n",
       "      <td>2019-10-10 15:47:27.587105</td>\n",
       "      <td>advert_open</td>\n",
       "      <td>d9b06b47-0f36-419b-bbb0-3533e582a6cb</td>\n",
       "      <td>other</td>\n",
       "      <td>2019-10-10</td>\n",
       "      <td>2</td>\n",
       "      <td>111.0</td>\n",
       "      <td>session_continues</td>\n",
       "      <td>NaN</td>\n",
       "    </tr>\n",
       "    <tr>\n",
       "      <th>8431</th>\n",
       "      <td>2019-10-10 15:47:43.246959</td>\n",
       "      <td>tips_show</td>\n",
       "      <td>d9b06b47-0f36-419b-bbb0-3533e582a6cb</td>\n",
       "      <td>other</td>\n",
       "      <td>2019-10-10</td>\n",
       "      <td>2</td>\n",
       "      <td>15.0</td>\n",
       "      <td>session_continues</td>\n",
       "      <td>NaN</td>\n",
       "    </tr>\n",
       "    <tr>\n",
       "      <th>49175</th>\n",
       "      <td>2019-10-26 10:42:37.443131</td>\n",
       "      <td>advert_open</td>\n",
       "      <td>d9b06b47-0f36-419b-bbb0-3533e582a6cb</td>\n",
       "      <td>other</td>\n",
       "      <td>2019-10-26</td>\n",
       "      <td>2</td>\n",
       "      <td>68094.0</td>\n",
       "      <td>start_new_session</td>\n",
       "      <td>2.0</td>\n",
       "    </tr>\n",
       "    <tr>\n",
       "      <th>49176</th>\n",
       "      <td>2019-10-26 10:42:46.651319</td>\n",
       "      <td>advert_open</td>\n",
       "      <td>d9b06b47-0f36-419b-bbb0-3533e582a6cb</td>\n",
       "      <td>other</td>\n",
       "      <td>2019-10-26</td>\n",
       "      <td>2</td>\n",
       "      <td>9.0</td>\n",
       "      <td>session_continues</td>\n",
       "      <td>NaN</td>\n",
       "    </tr>\n",
       "    <tr>\n",
       "      <th>49177</th>\n",
       "      <td>2019-10-26 10:42:56.492410</td>\n",
       "      <td>advert_open</td>\n",
       "      <td>d9b06b47-0f36-419b-bbb0-3533e582a6cb</td>\n",
       "      <td>other</td>\n",
       "      <td>2019-10-26</td>\n",
       "      <td>2</td>\n",
       "      <td>9.0</td>\n",
       "      <td>session_continues</td>\n",
       "      <td>NaN</td>\n",
       "    </tr>\n",
       "    <tr>\n",
       "      <th>53902</th>\n",
       "      <td>2019-10-27 19:19:01.978939</td>\n",
       "      <td>search_action</td>\n",
       "      <td>20850c8f-4135-4059-b13b-198d3ac59902</td>\n",
       "      <td>google</td>\n",
       "      <td>2019-10-27</td>\n",
       "      <td>3</td>\n",
       "      <td>0.0</td>\n",
       "      <td>start_new_session</td>\n",
       "      <td>0.0</td>\n",
       "    </tr>\n",
       "    <tr>\n",
       "      <th>53903</th>\n",
       "      <td>2019-10-27 19:19:51.800658</td>\n",
       "      <td>search_action</td>\n",
       "      <td>20850c8f-4135-4059-b13b-198d3ac59902</td>\n",
       "      <td>google</td>\n",
       "      <td>2019-10-27</td>\n",
       "      <td>3</td>\n",
       "      <td>49.0</td>\n",
       "      <td>session_continues</td>\n",
       "      <td>NaN</td>\n",
       "    </tr>\n",
       "    <tr>\n",
       "      <th>53930</th>\n",
       "      <td>2019-10-27 19:30:13.468468</td>\n",
       "      <td>search_action</td>\n",
       "      <td>20850c8f-4135-4059-b13b-198d3ac59902</td>\n",
       "      <td>google</td>\n",
       "      <td>2019-10-27</td>\n",
       "      <td>3</td>\n",
       "      <td>621.0</td>\n",
       "      <td>start_new_session</td>\n",
       "      <td>1.0</td>\n",
       "    </tr>\n",
       "    <tr>\n",
       "      <th>53940</th>\n",
       "      <td>2019-10-27 19:31:02.434557</td>\n",
       "      <td>search_action</td>\n",
       "      <td>20850c8f-4135-4059-b13b-198d3ac59902</td>\n",
       "      <td>google</td>\n",
       "      <td>2019-10-27</td>\n",
       "      <td>3</td>\n",
       "      <td>48.0</td>\n",
       "      <td>session_continues</td>\n",
       "      <td>NaN</td>\n",
       "    </tr>\n",
       "    <tr>\n",
       "      <th>53943</th>\n",
       "      <td>2019-10-27 19:31:16.778112</td>\n",
       "      <td>search_action</td>\n",
       "      <td>20850c8f-4135-4059-b13b-198d3ac59902</td>\n",
       "      <td>google</td>\n",
       "      <td>2019-10-27</td>\n",
       "      <td>3</td>\n",
       "      <td>14.0</td>\n",
       "      <td>session_continues</td>\n",
       "      <td>NaN</td>\n",
       "    </tr>\n",
       "    <tr>\n",
       "      <th>53947</th>\n",
       "      <td>2019-10-27 19:31:41.053807</td>\n",
       "      <td>search_action</td>\n",
       "      <td>20850c8f-4135-4059-b13b-198d3ac59902</td>\n",
       "      <td>google</td>\n",
       "      <td>2019-10-27</td>\n",
       "      <td>3</td>\n",
       "      <td>24.0</td>\n",
       "      <td>session_continues</td>\n",
       "      <td>NaN</td>\n",
       "    </tr>\n",
       "    <tr>\n",
       "      <th>74194</th>\n",
       "      <td>2019-11-03 23:56:57.041825</td>\n",
       "      <td>search_action</td>\n",
       "      <td>20850c8f-4135-4059-b13b-198d3ac59902</td>\n",
       "      <td>google</td>\n",
       "      <td>2019-11-03</td>\n",
       "      <td>3</td>\n",
       "      <td>15915.0</td>\n",
       "      <td>start_new_session</td>\n",
       "      <td>2.0</td>\n",
       "    </tr>\n",
       "  </tbody>\n",
       "</table>\n",
       "</div>"
      ],
      "text/plain": [
       "                      event_time     event_name  \\\n",
       "25    2019-10-07 00:05:20.190956  search_action   \n",
       "26    2019-10-07 00:05:23.427766  search_action   \n",
       "8418  2019-10-10 15:45:36.012693            map   \n",
       "8427  2019-10-10 15:47:27.587105    advert_open   \n",
       "8431  2019-10-10 15:47:43.246959      tips_show   \n",
       "49175 2019-10-26 10:42:37.443131    advert_open   \n",
       "49176 2019-10-26 10:42:46.651319    advert_open   \n",
       "49177 2019-10-26 10:42:56.492410    advert_open   \n",
       "53902 2019-10-27 19:19:01.978939  search_action   \n",
       "53903 2019-10-27 19:19:51.800658  search_action   \n",
       "53930 2019-10-27 19:30:13.468468  search_action   \n",
       "53940 2019-10-27 19:31:02.434557  search_action   \n",
       "53943 2019-10-27 19:31:16.778112  search_action   \n",
       "53947 2019-10-27 19:31:41.053807  search_action   \n",
       "74194 2019-11-03 23:56:57.041825  search_action   \n",
       "\n",
       "                                    user_id  source event_date  cluster_km  \\\n",
       "25     d9b06b47-0f36-419b-bbb0-3533e582a6cb   other 2019-10-07           2   \n",
       "26     d9b06b47-0f36-419b-bbb0-3533e582a6cb   other 2019-10-07           2   \n",
       "8418   d9b06b47-0f36-419b-bbb0-3533e582a6cb   other 2019-10-10           2   \n",
       "8427   d9b06b47-0f36-419b-bbb0-3533e582a6cb   other 2019-10-10           2   \n",
       "8431   d9b06b47-0f36-419b-bbb0-3533e582a6cb   other 2019-10-10           2   \n",
       "49175  d9b06b47-0f36-419b-bbb0-3533e582a6cb   other 2019-10-26           2   \n",
       "49176  d9b06b47-0f36-419b-bbb0-3533e582a6cb   other 2019-10-26           2   \n",
       "49177  d9b06b47-0f36-419b-bbb0-3533e582a6cb   other 2019-10-26           2   \n",
       "53902  20850c8f-4135-4059-b13b-198d3ac59902  google 2019-10-27           3   \n",
       "53903  20850c8f-4135-4059-b13b-198d3ac59902  google 2019-10-27           3   \n",
       "53930  20850c8f-4135-4059-b13b-198d3ac59902  google 2019-10-27           3   \n",
       "53940  20850c8f-4135-4059-b13b-198d3ac59902  google 2019-10-27           3   \n",
       "53943  20850c8f-4135-4059-b13b-198d3ac59902  google 2019-10-27           3   \n",
       "53947  20850c8f-4135-4059-b13b-198d3ac59902  google 2019-10-27           3   \n",
       "74194  20850c8f-4135-4059-b13b-198d3ac59902  google 2019-11-03           3   \n",
       "\n",
       "       seconds_between     session_status  session_number  \n",
       "25                 0.0  start_new_session             0.0  \n",
       "26                 3.0  session_continues             NaN  \n",
       "8418           56412.0  start_new_session             1.0  \n",
       "8427             111.0  session_continues             NaN  \n",
       "8431              15.0  session_continues             NaN  \n",
       "49175          68094.0  start_new_session             2.0  \n",
       "49176              9.0  session_continues             NaN  \n",
       "49177              9.0  session_continues             NaN  \n",
       "53902              0.0  start_new_session             0.0  \n",
       "53903             49.0  session_continues             NaN  \n",
       "53930            621.0  start_new_session             1.0  \n",
       "53940             48.0  session_continues             NaN  \n",
       "53943             14.0  session_continues             NaN  \n",
       "53947             24.0  session_continues             NaN  \n",
       "74194          15915.0  start_new_session             2.0  "
      ]
     },
     "execution_count": 115,
     "metadata": {},
     "output_type": "execute_result"
    }
   ],
   "source": [
    "(\n",
    "    df[\n",
    "        (df['user_id'] == '20850c8f-4135-4059-b13b-198d3ac59902') | \n",
    "        (df['user_id'] == 'd9b06b47-0f36-419b-bbb0-3533e582a6cb')\n",
    "    ]\n",
    ")"
   ]
  },
  {
   "cell_type": "markdown",
   "id": "rmVSK0TCh890",
   "metadata": {
    "id": "rmVSK0TCh890"
   },
   "source": [
    "- Сгруппирую `df` по пользователям и заполню пропуски в событиях с маркером `session_continues` методом `ffill`\n",
    "- Таким образом пропуски в строках событий `session_continues` заполнятся тем же номером сессии, что и у стартового события этой сессии."
   ]
  },
  {
   "cell_type": "code",
   "execution_count": 116,
   "id": "3Rq8oIQ2JbX0",
   "metadata": {
    "executionInfo": {
     "elapsed": 923,
     "status": "ok",
     "timestamp": 1650539007915,
     "user": {
      "displayName": "Vadim Selin",
      "userId": "13742755250186020674"
     },
     "user_tz": -180
    },
    "id": "3Rq8oIQ2JbX0"
   },
   "outputs": [],
   "source": [
    "df['session_number'] = df.groupby('user_id')['session_number'].fillna(method='ffill')"
   ]
  },
  {
   "cell_type": "code",
   "execution_count": 117,
   "id": "5OA_GKbOVsnA",
   "metadata": {
    "colab": {
     "base_uri": "https://localhost:8080/",
     "height": 520
    },
    "executionInfo": {
     "elapsed": 19,
     "status": "ok",
     "timestamp": 1650539007916,
     "user": {
      "displayName": "Vadim Selin",
      "userId": "13742755250186020674"
     },
     "user_tz": -180
    },
    "id": "5OA_GKbOVsnA",
    "outputId": "69f1c606-f499-4ca4-806b-555a2640b91e"
   },
   "outputs": [
    {
     "data": {
      "text/html": [
       "<div>\n",
       "<style scoped>\n",
       "    .dataframe tbody tr th:only-of-type {\n",
       "        vertical-align: middle;\n",
       "    }\n",
       "\n",
       "    .dataframe tbody tr th {\n",
       "        vertical-align: top;\n",
       "    }\n",
       "\n",
       "    .dataframe thead th {\n",
       "        text-align: right;\n",
       "    }\n",
       "</style>\n",
       "<table border=\"1\" class=\"dataframe\">\n",
       "  <thead>\n",
       "    <tr style=\"text-align: right;\">\n",
       "      <th></th>\n",
       "      <th>event_time</th>\n",
       "      <th>event_name</th>\n",
       "      <th>user_id</th>\n",
       "      <th>source</th>\n",
       "      <th>event_date</th>\n",
       "      <th>cluster_km</th>\n",
       "      <th>seconds_between</th>\n",
       "      <th>session_status</th>\n",
       "      <th>session_number</th>\n",
       "    </tr>\n",
       "  </thead>\n",
       "  <tbody>\n",
       "    <tr>\n",
       "      <th>25</th>\n",
       "      <td>2019-10-07 00:05:20.190956</td>\n",
       "      <td>search_action</td>\n",
       "      <td>d9b06b47-0f36-419b-bbb0-3533e582a6cb</td>\n",
       "      <td>other</td>\n",
       "      <td>2019-10-07</td>\n",
       "      <td>2</td>\n",
       "      <td>0.0</td>\n",
       "      <td>start_new_session</td>\n",
       "      <td>0.0</td>\n",
       "    </tr>\n",
       "    <tr>\n",
       "      <th>26</th>\n",
       "      <td>2019-10-07 00:05:23.427766</td>\n",
       "      <td>search_action</td>\n",
       "      <td>d9b06b47-0f36-419b-bbb0-3533e582a6cb</td>\n",
       "      <td>other</td>\n",
       "      <td>2019-10-07</td>\n",
       "      <td>2</td>\n",
       "      <td>3.0</td>\n",
       "      <td>session_continues</td>\n",
       "      <td>0.0</td>\n",
       "    </tr>\n",
       "    <tr>\n",
       "      <th>8418</th>\n",
       "      <td>2019-10-10 15:45:36.012693</td>\n",
       "      <td>map</td>\n",
       "      <td>d9b06b47-0f36-419b-bbb0-3533e582a6cb</td>\n",
       "      <td>other</td>\n",
       "      <td>2019-10-10</td>\n",
       "      <td>2</td>\n",
       "      <td>56412.0</td>\n",
       "      <td>start_new_session</td>\n",
       "      <td>1.0</td>\n",
       "    </tr>\n",
       "    <tr>\n",
       "      <th>8427</th>\n",
       "      <td>2019-10-10 15:47:27.587105</td>\n",
       "      <td>advert_open</td>\n",
       "      <td>d9b06b47-0f36-419b-bbb0-3533e582a6cb</td>\n",
       "      <td>other</td>\n",
       "      <td>2019-10-10</td>\n",
       "      <td>2</td>\n",
       "      <td>111.0</td>\n",
       "      <td>session_continues</td>\n",
       "      <td>1.0</td>\n",
       "    </tr>\n",
       "    <tr>\n",
       "      <th>8431</th>\n",
       "      <td>2019-10-10 15:47:43.246959</td>\n",
       "      <td>tips_show</td>\n",
       "      <td>d9b06b47-0f36-419b-bbb0-3533e582a6cb</td>\n",
       "      <td>other</td>\n",
       "      <td>2019-10-10</td>\n",
       "      <td>2</td>\n",
       "      <td>15.0</td>\n",
       "      <td>session_continues</td>\n",
       "      <td>1.0</td>\n",
       "    </tr>\n",
       "    <tr>\n",
       "      <th>49175</th>\n",
       "      <td>2019-10-26 10:42:37.443131</td>\n",
       "      <td>advert_open</td>\n",
       "      <td>d9b06b47-0f36-419b-bbb0-3533e582a6cb</td>\n",
       "      <td>other</td>\n",
       "      <td>2019-10-26</td>\n",
       "      <td>2</td>\n",
       "      <td>68094.0</td>\n",
       "      <td>start_new_session</td>\n",
       "      <td>2.0</td>\n",
       "    </tr>\n",
       "    <tr>\n",
       "      <th>49176</th>\n",
       "      <td>2019-10-26 10:42:46.651319</td>\n",
       "      <td>advert_open</td>\n",
       "      <td>d9b06b47-0f36-419b-bbb0-3533e582a6cb</td>\n",
       "      <td>other</td>\n",
       "      <td>2019-10-26</td>\n",
       "      <td>2</td>\n",
       "      <td>9.0</td>\n",
       "      <td>session_continues</td>\n",
       "      <td>2.0</td>\n",
       "    </tr>\n",
       "    <tr>\n",
       "      <th>49177</th>\n",
       "      <td>2019-10-26 10:42:56.492410</td>\n",
       "      <td>advert_open</td>\n",
       "      <td>d9b06b47-0f36-419b-bbb0-3533e582a6cb</td>\n",
       "      <td>other</td>\n",
       "      <td>2019-10-26</td>\n",
       "      <td>2</td>\n",
       "      <td>9.0</td>\n",
       "      <td>session_continues</td>\n",
       "      <td>2.0</td>\n",
       "    </tr>\n",
       "    <tr>\n",
       "      <th>53902</th>\n",
       "      <td>2019-10-27 19:19:01.978939</td>\n",
       "      <td>search_action</td>\n",
       "      <td>20850c8f-4135-4059-b13b-198d3ac59902</td>\n",
       "      <td>google</td>\n",
       "      <td>2019-10-27</td>\n",
       "      <td>3</td>\n",
       "      <td>0.0</td>\n",
       "      <td>start_new_session</td>\n",
       "      <td>0.0</td>\n",
       "    </tr>\n",
       "    <tr>\n",
       "      <th>53903</th>\n",
       "      <td>2019-10-27 19:19:51.800658</td>\n",
       "      <td>search_action</td>\n",
       "      <td>20850c8f-4135-4059-b13b-198d3ac59902</td>\n",
       "      <td>google</td>\n",
       "      <td>2019-10-27</td>\n",
       "      <td>3</td>\n",
       "      <td>49.0</td>\n",
       "      <td>session_continues</td>\n",
       "      <td>0.0</td>\n",
       "    </tr>\n",
       "    <tr>\n",
       "      <th>53930</th>\n",
       "      <td>2019-10-27 19:30:13.468468</td>\n",
       "      <td>search_action</td>\n",
       "      <td>20850c8f-4135-4059-b13b-198d3ac59902</td>\n",
       "      <td>google</td>\n",
       "      <td>2019-10-27</td>\n",
       "      <td>3</td>\n",
       "      <td>621.0</td>\n",
       "      <td>start_new_session</td>\n",
       "      <td>1.0</td>\n",
       "    </tr>\n",
       "    <tr>\n",
       "      <th>53940</th>\n",
       "      <td>2019-10-27 19:31:02.434557</td>\n",
       "      <td>search_action</td>\n",
       "      <td>20850c8f-4135-4059-b13b-198d3ac59902</td>\n",
       "      <td>google</td>\n",
       "      <td>2019-10-27</td>\n",
       "      <td>3</td>\n",
       "      <td>48.0</td>\n",
       "      <td>session_continues</td>\n",
       "      <td>1.0</td>\n",
       "    </tr>\n",
       "    <tr>\n",
       "      <th>53943</th>\n",
       "      <td>2019-10-27 19:31:16.778112</td>\n",
       "      <td>search_action</td>\n",
       "      <td>20850c8f-4135-4059-b13b-198d3ac59902</td>\n",
       "      <td>google</td>\n",
       "      <td>2019-10-27</td>\n",
       "      <td>3</td>\n",
       "      <td>14.0</td>\n",
       "      <td>session_continues</td>\n",
       "      <td>1.0</td>\n",
       "    </tr>\n",
       "    <tr>\n",
       "      <th>53947</th>\n",
       "      <td>2019-10-27 19:31:41.053807</td>\n",
       "      <td>search_action</td>\n",
       "      <td>20850c8f-4135-4059-b13b-198d3ac59902</td>\n",
       "      <td>google</td>\n",
       "      <td>2019-10-27</td>\n",
       "      <td>3</td>\n",
       "      <td>24.0</td>\n",
       "      <td>session_continues</td>\n",
       "      <td>1.0</td>\n",
       "    </tr>\n",
       "    <tr>\n",
       "      <th>74194</th>\n",
       "      <td>2019-11-03 23:56:57.041825</td>\n",
       "      <td>search_action</td>\n",
       "      <td>20850c8f-4135-4059-b13b-198d3ac59902</td>\n",
       "      <td>google</td>\n",
       "      <td>2019-11-03</td>\n",
       "      <td>3</td>\n",
       "      <td>15915.0</td>\n",
       "      <td>start_new_session</td>\n",
       "      <td>2.0</td>\n",
       "    </tr>\n",
       "  </tbody>\n",
       "</table>\n",
       "</div>"
      ],
      "text/plain": [
       "                      event_time     event_name  \\\n",
       "25    2019-10-07 00:05:20.190956  search_action   \n",
       "26    2019-10-07 00:05:23.427766  search_action   \n",
       "8418  2019-10-10 15:45:36.012693            map   \n",
       "8427  2019-10-10 15:47:27.587105    advert_open   \n",
       "8431  2019-10-10 15:47:43.246959      tips_show   \n",
       "49175 2019-10-26 10:42:37.443131    advert_open   \n",
       "49176 2019-10-26 10:42:46.651319    advert_open   \n",
       "49177 2019-10-26 10:42:56.492410    advert_open   \n",
       "53902 2019-10-27 19:19:01.978939  search_action   \n",
       "53903 2019-10-27 19:19:51.800658  search_action   \n",
       "53930 2019-10-27 19:30:13.468468  search_action   \n",
       "53940 2019-10-27 19:31:02.434557  search_action   \n",
       "53943 2019-10-27 19:31:16.778112  search_action   \n",
       "53947 2019-10-27 19:31:41.053807  search_action   \n",
       "74194 2019-11-03 23:56:57.041825  search_action   \n",
       "\n",
       "                                    user_id  source event_date  cluster_km  \\\n",
       "25     d9b06b47-0f36-419b-bbb0-3533e582a6cb   other 2019-10-07           2   \n",
       "26     d9b06b47-0f36-419b-bbb0-3533e582a6cb   other 2019-10-07           2   \n",
       "8418   d9b06b47-0f36-419b-bbb0-3533e582a6cb   other 2019-10-10           2   \n",
       "8427   d9b06b47-0f36-419b-bbb0-3533e582a6cb   other 2019-10-10           2   \n",
       "8431   d9b06b47-0f36-419b-bbb0-3533e582a6cb   other 2019-10-10           2   \n",
       "49175  d9b06b47-0f36-419b-bbb0-3533e582a6cb   other 2019-10-26           2   \n",
       "49176  d9b06b47-0f36-419b-bbb0-3533e582a6cb   other 2019-10-26           2   \n",
       "49177  d9b06b47-0f36-419b-bbb0-3533e582a6cb   other 2019-10-26           2   \n",
       "53902  20850c8f-4135-4059-b13b-198d3ac59902  google 2019-10-27           3   \n",
       "53903  20850c8f-4135-4059-b13b-198d3ac59902  google 2019-10-27           3   \n",
       "53930  20850c8f-4135-4059-b13b-198d3ac59902  google 2019-10-27           3   \n",
       "53940  20850c8f-4135-4059-b13b-198d3ac59902  google 2019-10-27           3   \n",
       "53943  20850c8f-4135-4059-b13b-198d3ac59902  google 2019-10-27           3   \n",
       "53947  20850c8f-4135-4059-b13b-198d3ac59902  google 2019-10-27           3   \n",
       "74194  20850c8f-4135-4059-b13b-198d3ac59902  google 2019-11-03           3   \n",
       "\n",
       "       seconds_between     session_status  session_number  \n",
       "25                 0.0  start_new_session             0.0  \n",
       "26                 3.0  session_continues             0.0  \n",
       "8418           56412.0  start_new_session             1.0  \n",
       "8427             111.0  session_continues             1.0  \n",
       "8431              15.0  session_continues             1.0  \n",
       "49175          68094.0  start_new_session             2.0  \n",
       "49176              9.0  session_continues             2.0  \n",
       "49177              9.0  session_continues             2.0  \n",
       "53902              0.0  start_new_session             0.0  \n",
       "53903             49.0  session_continues             0.0  \n",
       "53930            621.0  start_new_session             1.0  \n",
       "53940             48.0  session_continues             1.0  \n",
       "53943             14.0  session_continues             1.0  \n",
       "53947             24.0  session_continues             1.0  \n",
       "74194          15915.0  start_new_session             2.0  "
      ]
     },
     "execution_count": 117,
     "metadata": {},
     "output_type": "execute_result"
    }
   ],
   "source": [
    "(\n",
    "    df[\n",
    "        (df['user_id'] == '20850c8f-4135-4059-b13b-198d3ac59902') | \n",
    "        (df['user_id'] == 'd9b06b47-0f36-419b-bbb0-3533e582a6cb')\n",
    "    ]\n",
    ")"
   ]
  },
  {
   "cell_type": "markdown",
   "id": "ydwgDjHjVs3L",
   "metadata": {
    "id": "ydwgDjHjVs3L"
   },
   "source": [
    "- Теперь каждое событие каждой сессии для каждого пользователя имеет свой порядковый номер (общий для событий одной сессии)"
   ]
  },
  {
   "cell_type": "code",
   "execution_count": 118,
   "id": "GFFSXhh5ZdNj",
   "metadata": {
    "colab": {
     "base_uri": "https://localhost:8080/"
    },
    "executionInfo": {
     "elapsed": 17,
     "status": "ok",
     "timestamp": 1650539007916,
     "user": {
      "displayName": "Vadim Selin",
      "userId": "13742755250186020674"
     },
     "user_tz": -180
    },
    "id": "GFFSXhh5ZdNj",
    "outputId": "f9b8e179-e738-44c7-fa53-ca8c0e586a2d"
   },
   "outputs": [
    {
     "data": {
      "text/plain": [
       "event_time         0.0\n",
       "event_name         0.0\n",
       "user_id            0.0\n",
       "source             0.0\n",
       "event_date         0.0\n",
       "cluster_km         0.0\n",
       "seconds_between    0.0\n",
       "session_status     0.0\n",
       "session_number     0.0\n",
       "dtype: float64"
      ]
     },
     "execution_count": 118,
     "metadata": {},
     "output_type": "execute_result"
    }
   ],
   "source": [
    "# прорка на пропуски\n",
    "df.isna().mean()"
   ]
  },
  {
   "cell_type": "markdown",
   "id": "wUGs-odmZj2T",
   "metadata": {
    "id": "wUGs-odmZj2T"
   },
   "source": [
    "- Получу временные дельты по каждой сессии для каждого пользователя и сохраню номер сегмента для дальнейших сравнений.\n",
    "- Для этого сгруппирую `df` по `cluster_km`, `user_id`, `session_number`."
   ]
  },
  {
   "cell_type": "code",
   "execution_count": 119,
   "id": "E3Rw24-lZkFb",
   "metadata": {
    "executionInfo": {
     "elapsed": 14,
     "status": "ok",
     "timestamp": 1650539007917,
     "user": {
      "displayName": "Vadim Selin",
      "userId": "13742755250186020674"
     },
     "user_tz": -180
    },
    "id": "E3Rw24-lZkFb"
   },
   "outputs": [],
   "source": [
    "# u_s - users sessions\n",
    "u_s = (\n",
    "    df.groupby(['cluster_km', 'user_id', 'session_number'], as_index=False)\n",
    "    .agg({'event_time': ['count', 'min', 'max']})\n",
    ")"
   ]
  },
  {
   "cell_type": "code",
   "execution_count": 120,
   "id": "wufyDeB_ZkUX",
   "metadata": {
    "executionInfo": {
     "elapsed": 14,
     "status": "ok",
     "timestamp": 1650539007917,
     "user": {
      "displayName": "Vadim Selin",
      "userId": "13742755250186020674"
     },
     "user_tz": -180
    },
    "id": "wufyDeB_ZkUX"
   },
   "outputs": [],
   "source": [
    "# сделаю индексы плоскими\n",
    "u_s.columns = ['_'.join(col).strip() for col in u_s.columns.values]"
   ]
  },
  {
   "cell_type": "code",
   "execution_count": 121,
   "id": "gvVpXV2PsPmL",
   "metadata": {
    "colab": {
     "base_uri": "https://localhost:8080/",
     "height": 423
    },
    "executionInfo": {
     "elapsed": 13,
     "status": "ok",
     "timestamp": 1650539007917,
     "user": {
      "displayName": "Vadim Selin",
      "userId": "13742755250186020674"
     },
     "user_tz": -180
    },
    "id": "gvVpXV2PsPmL",
    "outputId": "2084e337-451b-4ae4-9538-ed5c4155ac06"
   },
   "outputs": [
    {
     "data": {
      "text/html": [
       "<div>\n",
       "<style scoped>\n",
       "    .dataframe tbody tr th:only-of-type {\n",
       "        vertical-align: middle;\n",
       "    }\n",
       "\n",
       "    .dataframe tbody tr th {\n",
       "        vertical-align: top;\n",
       "    }\n",
       "\n",
       "    .dataframe thead th {\n",
       "        text-align: right;\n",
       "    }\n",
       "</style>\n",
       "<table border=\"1\" class=\"dataframe\">\n",
       "  <thead>\n",
       "    <tr style=\"text-align: right;\">\n",
       "      <th></th>\n",
       "      <th>cluster_km_</th>\n",
       "      <th>user_id_</th>\n",
       "      <th>session_number_</th>\n",
       "      <th>event_time_count</th>\n",
       "      <th>event_time_min</th>\n",
       "      <th>event_time_max</th>\n",
       "    </tr>\n",
       "  </thead>\n",
       "  <tbody>\n",
       "    <tr>\n",
       "      <th>0</th>\n",
       "      <td>0</td>\n",
       "      <td>00157779-810c-4498-9e05-a1e9e3cedf93</td>\n",
       "      <td>0.0</td>\n",
       "      <td>7</td>\n",
       "      <td>2019-10-19 21:34:33.849769</td>\n",
       "      <td>2019-10-19 21:46:52.541309</td>\n",
       "    </tr>\n",
       "    <tr>\n",
       "      <th>1</th>\n",
       "      <td>0</td>\n",
       "      <td>00157779-810c-4498-9e05-a1e9e3cedf93</td>\n",
       "      <td>1.0</td>\n",
       "      <td>2</td>\n",
       "      <td>2019-10-19 21:58:00.109019</td>\n",
       "      <td>2019-10-19 21:59:54.637098</td>\n",
       "    </tr>\n",
       "    <tr>\n",
       "      <th>2</th>\n",
       "      <td>0</td>\n",
       "      <td>00157779-810c-4498-9e05-a1e9e3cedf93</td>\n",
       "      <td>2.0</td>\n",
       "      <td>1</td>\n",
       "      <td>2019-10-20 18:49:24.115634</td>\n",
       "      <td>2019-10-20 18:49:24.115634</td>\n",
       "    </tr>\n",
       "    <tr>\n",
       "      <th>3</th>\n",
       "      <td>0</td>\n",
       "      <td>00157779-810c-4498-9e05-a1e9e3cedf93</td>\n",
       "      <td>3.0</td>\n",
       "      <td>11</td>\n",
       "      <td>2019-10-20 18:59:22.541082</td>\n",
       "      <td>2019-10-20 19:23:14.236973</td>\n",
       "    </tr>\n",
       "    <tr>\n",
       "      <th>4</th>\n",
       "      <td>0</td>\n",
       "      <td>00157779-810c-4498-9e05-a1e9e3cedf93</td>\n",
       "      <td>4.0</td>\n",
       "      <td>2</td>\n",
       "      <td>2019-10-20 19:30:31.912891</td>\n",
       "      <td>2019-10-20 19:30:36.096917</td>\n",
       "    </tr>\n",
       "    <tr>\n",
       "      <th>...</th>\n",
       "      <td>...</td>\n",
       "      <td>...</td>\n",
       "      <td>...</td>\n",
       "      <td>...</td>\n",
       "      <td>...</td>\n",
       "      <td>...</td>\n",
       "    </tr>\n",
       "    <tr>\n",
       "      <th>14120</th>\n",
       "      <td>4</td>\n",
       "      <td>fd20080d-e8a0-4d2c-95dc-ac0f9e144793</td>\n",
       "      <td>1.0</td>\n",
       "      <td>8</td>\n",
       "      <td>2019-10-12 16:30:50.859572</td>\n",
       "      <td>2019-10-12 16:51:07.066106</td>\n",
       "    </tr>\n",
       "    <tr>\n",
       "      <th>14121</th>\n",
       "      <td>4</td>\n",
       "      <td>fd20080d-e8a0-4d2c-95dc-ac0f9e144793</td>\n",
       "      <td>2.0</td>\n",
       "      <td>9</td>\n",
       "      <td>2019-10-14 12:18:22.019884</td>\n",
       "      <td>2019-10-14 12:36:21.684090</td>\n",
       "    </tr>\n",
       "    <tr>\n",
       "      <th>14122</th>\n",
       "      <td>4</td>\n",
       "      <td>fd624b3c-563c-4459-a681-9a6ddc11549d</td>\n",
       "      <td>0.0</td>\n",
       "      <td>6</td>\n",
       "      <td>2019-10-31 15:28:31.099609</td>\n",
       "      <td>2019-10-31 15:35:24.898377</td>\n",
       "    </tr>\n",
       "    <tr>\n",
       "      <th>14123</th>\n",
       "      <td>4</td>\n",
       "      <td>ff1554b5-919e-40b1-90bb-ee1f7f6d5846</td>\n",
       "      <td>0.0</td>\n",
       "      <td>2</td>\n",
       "      <td>2019-10-21 08:28:33.429234</td>\n",
       "      <td>2019-10-21 08:30:10.800955</td>\n",
       "    </tr>\n",
       "    <tr>\n",
       "      <th>14124</th>\n",
       "      <td>4</td>\n",
       "      <td>ff1554b5-919e-40b1-90bb-ee1f7f6d5846</td>\n",
       "      <td>1.0</td>\n",
       "      <td>4</td>\n",
       "      <td>2019-10-21 10:59:23.944891</td>\n",
       "      <td>2019-10-21 11:01:49.118228</td>\n",
       "    </tr>\n",
       "  </tbody>\n",
       "</table>\n",
       "<p>14125 rows × 6 columns</p>\n",
       "</div>"
      ],
      "text/plain": [
       "       cluster_km_                              user_id_  session_number_  \\\n",
       "0                0  00157779-810c-4498-9e05-a1e9e3cedf93              0.0   \n",
       "1                0  00157779-810c-4498-9e05-a1e9e3cedf93              1.0   \n",
       "2                0  00157779-810c-4498-9e05-a1e9e3cedf93              2.0   \n",
       "3                0  00157779-810c-4498-9e05-a1e9e3cedf93              3.0   \n",
       "4                0  00157779-810c-4498-9e05-a1e9e3cedf93              4.0   \n",
       "...            ...                                   ...              ...   \n",
       "14120            4  fd20080d-e8a0-4d2c-95dc-ac0f9e144793              1.0   \n",
       "14121            4  fd20080d-e8a0-4d2c-95dc-ac0f9e144793              2.0   \n",
       "14122            4  fd624b3c-563c-4459-a681-9a6ddc11549d              0.0   \n",
       "14123            4  ff1554b5-919e-40b1-90bb-ee1f7f6d5846              0.0   \n",
       "14124            4  ff1554b5-919e-40b1-90bb-ee1f7f6d5846              1.0   \n",
       "\n",
       "       event_time_count             event_time_min             event_time_max  \n",
       "0                     7 2019-10-19 21:34:33.849769 2019-10-19 21:46:52.541309  \n",
       "1                     2 2019-10-19 21:58:00.109019 2019-10-19 21:59:54.637098  \n",
       "2                     1 2019-10-20 18:49:24.115634 2019-10-20 18:49:24.115634  \n",
       "3                    11 2019-10-20 18:59:22.541082 2019-10-20 19:23:14.236973  \n",
       "4                     2 2019-10-20 19:30:31.912891 2019-10-20 19:30:36.096917  \n",
       "...                 ...                        ...                        ...  \n",
       "14120                 8 2019-10-12 16:30:50.859572 2019-10-12 16:51:07.066106  \n",
       "14121                 9 2019-10-14 12:18:22.019884 2019-10-14 12:36:21.684090  \n",
       "14122                 6 2019-10-31 15:28:31.099609 2019-10-31 15:35:24.898377  \n",
       "14123                 2 2019-10-21 08:28:33.429234 2019-10-21 08:30:10.800955  \n",
       "14124                 4 2019-10-21 10:59:23.944891 2019-10-21 11:01:49.118228  \n",
       "\n",
       "[14125 rows x 6 columns]"
      ]
     },
     "execution_count": 121,
     "metadata": {},
     "output_type": "execute_result"
    }
   ],
   "source": [
    "u_s"
   ]
  },
  {
   "cell_type": "code",
   "execution_count": 122,
   "id": "97BT_awAZkiT",
   "metadata": {
    "executionInfo": {
     "elapsed": 14,
     "status": "ok",
     "timestamp": 1650539007918,
     "user": {
      "displayName": "Vadim Selin",
      "userId": "13742755250186020674"
     },
     "user_tz": -180
    },
    "id": "97BT_awAZkiT"
   },
   "outputs": [],
   "source": [
    "u_s.columns = ['cluster_km', 'user_id', \n",
    "               'session_number', 'event_in_session_count', \n",
    "               'event_time_min', 'event_time_max']"
   ]
  },
  {
   "cell_type": "markdown",
   "id": "23V4dSFcrGY7",
   "metadata": {
    "id": "23V4dSFcrGY7"
   },
   "source": [
    "- Получу длительность каждой сессии "
   ]
  },
  {
   "cell_type": "code",
   "execution_count": 123,
   "id": "Ta_b8phlqk26",
   "metadata": {
    "executionInfo": {
     "elapsed": 13,
     "status": "ok",
     "timestamp": 1650539007918,
     "user": {
      "displayName": "Vadim Selin",
      "userId": "13742755250186020674"
     },
     "user_tz": -180
    },
    "id": "Ta_b8phlqk26"
   },
   "outputs": [],
   "source": [
    "u_s['session_duration'] = (\n",
    "    u_s['event_time_max'] - u_s['event_time_min']\n",
    ").dt.seconds"
   ]
  },
  {
   "cell_type": "code",
   "execution_count": 124,
   "id": "r-LVPvIbqkG0",
   "metadata": {
    "colab": {
     "base_uri": "https://localhost:8080/",
     "height": 423
    },
    "executionInfo": {
     "elapsed": 13,
     "status": "ok",
     "timestamp": 1650539007918,
     "user": {
      "displayName": "Vadim Selin",
      "userId": "13742755250186020674"
     },
     "user_tz": -180
    },
    "id": "r-LVPvIbqkG0",
    "outputId": "9ed4e7e5-aa61-4c32-dce0-b723ed363e84"
   },
   "outputs": [
    {
     "data": {
      "text/html": [
       "<div>\n",
       "<style scoped>\n",
       "    .dataframe tbody tr th:only-of-type {\n",
       "        vertical-align: middle;\n",
       "    }\n",
       "\n",
       "    .dataframe tbody tr th {\n",
       "        vertical-align: top;\n",
       "    }\n",
       "\n",
       "    .dataframe thead th {\n",
       "        text-align: right;\n",
       "    }\n",
       "</style>\n",
       "<table border=\"1\" class=\"dataframe\">\n",
       "  <thead>\n",
       "    <tr style=\"text-align: right;\">\n",
       "      <th></th>\n",
       "      <th>cluster_km</th>\n",
       "      <th>user_id</th>\n",
       "      <th>session_number</th>\n",
       "      <th>event_in_session_count</th>\n",
       "      <th>event_time_min</th>\n",
       "      <th>event_time_max</th>\n",
       "      <th>session_duration</th>\n",
       "    </tr>\n",
       "  </thead>\n",
       "  <tbody>\n",
       "    <tr>\n",
       "      <th>0</th>\n",
       "      <td>0</td>\n",
       "      <td>00157779-810c-4498-9e05-a1e9e3cedf93</td>\n",
       "      <td>0.0</td>\n",
       "      <td>7</td>\n",
       "      <td>2019-10-19 21:34:33.849769</td>\n",
       "      <td>2019-10-19 21:46:52.541309</td>\n",
       "      <td>738</td>\n",
       "    </tr>\n",
       "    <tr>\n",
       "      <th>1</th>\n",
       "      <td>0</td>\n",
       "      <td>00157779-810c-4498-9e05-a1e9e3cedf93</td>\n",
       "      <td>1.0</td>\n",
       "      <td>2</td>\n",
       "      <td>2019-10-19 21:58:00.109019</td>\n",
       "      <td>2019-10-19 21:59:54.637098</td>\n",
       "      <td>114</td>\n",
       "    </tr>\n",
       "    <tr>\n",
       "      <th>2</th>\n",
       "      <td>0</td>\n",
       "      <td>00157779-810c-4498-9e05-a1e9e3cedf93</td>\n",
       "      <td>2.0</td>\n",
       "      <td>1</td>\n",
       "      <td>2019-10-20 18:49:24.115634</td>\n",
       "      <td>2019-10-20 18:49:24.115634</td>\n",
       "      <td>0</td>\n",
       "    </tr>\n",
       "    <tr>\n",
       "      <th>3</th>\n",
       "      <td>0</td>\n",
       "      <td>00157779-810c-4498-9e05-a1e9e3cedf93</td>\n",
       "      <td>3.0</td>\n",
       "      <td>11</td>\n",
       "      <td>2019-10-20 18:59:22.541082</td>\n",
       "      <td>2019-10-20 19:23:14.236973</td>\n",
       "      <td>1431</td>\n",
       "    </tr>\n",
       "    <tr>\n",
       "      <th>4</th>\n",
       "      <td>0</td>\n",
       "      <td>00157779-810c-4498-9e05-a1e9e3cedf93</td>\n",
       "      <td>4.0</td>\n",
       "      <td>2</td>\n",
       "      <td>2019-10-20 19:30:31.912891</td>\n",
       "      <td>2019-10-20 19:30:36.096917</td>\n",
       "      <td>4</td>\n",
       "    </tr>\n",
       "    <tr>\n",
       "      <th>...</th>\n",
       "      <td>...</td>\n",
       "      <td>...</td>\n",
       "      <td>...</td>\n",
       "      <td>...</td>\n",
       "      <td>...</td>\n",
       "      <td>...</td>\n",
       "      <td>...</td>\n",
       "    </tr>\n",
       "    <tr>\n",
       "      <th>14120</th>\n",
       "      <td>4</td>\n",
       "      <td>fd20080d-e8a0-4d2c-95dc-ac0f9e144793</td>\n",
       "      <td>1.0</td>\n",
       "      <td>8</td>\n",
       "      <td>2019-10-12 16:30:50.859572</td>\n",
       "      <td>2019-10-12 16:51:07.066106</td>\n",
       "      <td>1216</td>\n",
       "    </tr>\n",
       "    <tr>\n",
       "      <th>14121</th>\n",
       "      <td>4</td>\n",
       "      <td>fd20080d-e8a0-4d2c-95dc-ac0f9e144793</td>\n",
       "      <td>2.0</td>\n",
       "      <td>9</td>\n",
       "      <td>2019-10-14 12:18:22.019884</td>\n",
       "      <td>2019-10-14 12:36:21.684090</td>\n",
       "      <td>1079</td>\n",
       "    </tr>\n",
       "    <tr>\n",
       "      <th>14122</th>\n",
       "      <td>4</td>\n",
       "      <td>fd624b3c-563c-4459-a681-9a6ddc11549d</td>\n",
       "      <td>0.0</td>\n",
       "      <td>6</td>\n",
       "      <td>2019-10-31 15:28:31.099609</td>\n",
       "      <td>2019-10-31 15:35:24.898377</td>\n",
       "      <td>413</td>\n",
       "    </tr>\n",
       "    <tr>\n",
       "      <th>14123</th>\n",
       "      <td>4</td>\n",
       "      <td>ff1554b5-919e-40b1-90bb-ee1f7f6d5846</td>\n",
       "      <td>0.0</td>\n",
       "      <td>2</td>\n",
       "      <td>2019-10-21 08:28:33.429234</td>\n",
       "      <td>2019-10-21 08:30:10.800955</td>\n",
       "      <td>97</td>\n",
       "    </tr>\n",
       "    <tr>\n",
       "      <th>14124</th>\n",
       "      <td>4</td>\n",
       "      <td>ff1554b5-919e-40b1-90bb-ee1f7f6d5846</td>\n",
       "      <td>1.0</td>\n",
       "      <td>4</td>\n",
       "      <td>2019-10-21 10:59:23.944891</td>\n",
       "      <td>2019-10-21 11:01:49.118228</td>\n",
       "      <td>145</td>\n",
       "    </tr>\n",
       "  </tbody>\n",
       "</table>\n",
       "<p>14125 rows × 7 columns</p>\n",
       "</div>"
      ],
      "text/plain": [
       "       cluster_km                               user_id  session_number  \\\n",
       "0               0  00157779-810c-4498-9e05-a1e9e3cedf93             0.0   \n",
       "1               0  00157779-810c-4498-9e05-a1e9e3cedf93             1.0   \n",
       "2               0  00157779-810c-4498-9e05-a1e9e3cedf93             2.0   \n",
       "3               0  00157779-810c-4498-9e05-a1e9e3cedf93             3.0   \n",
       "4               0  00157779-810c-4498-9e05-a1e9e3cedf93             4.0   \n",
       "...           ...                                   ...             ...   \n",
       "14120           4  fd20080d-e8a0-4d2c-95dc-ac0f9e144793             1.0   \n",
       "14121           4  fd20080d-e8a0-4d2c-95dc-ac0f9e144793             2.0   \n",
       "14122           4  fd624b3c-563c-4459-a681-9a6ddc11549d             0.0   \n",
       "14123           4  ff1554b5-919e-40b1-90bb-ee1f7f6d5846             0.0   \n",
       "14124           4  ff1554b5-919e-40b1-90bb-ee1f7f6d5846             1.0   \n",
       "\n",
       "       event_in_session_count             event_time_min  \\\n",
       "0                           7 2019-10-19 21:34:33.849769   \n",
       "1                           2 2019-10-19 21:58:00.109019   \n",
       "2                           1 2019-10-20 18:49:24.115634   \n",
       "3                          11 2019-10-20 18:59:22.541082   \n",
       "4                           2 2019-10-20 19:30:31.912891   \n",
       "...                       ...                        ...   \n",
       "14120                       8 2019-10-12 16:30:50.859572   \n",
       "14121                       9 2019-10-14 12:18:22.019884   \n",
       "14122                       6 2019-10-31 15:28:31.099609   \n",
       "14123                       2 2019-10-21 08:28:33.429234   \n",
       "14124                       4 2019-10-21 10:59:23.944891   \n",
       "\n",
       "                  event_time_max  session_duration  \n",
       "0     2019-10-19 21:46:52.541309               738  \n",
       "1     2019-10-19 21:59:54.637098               114  \n",
       "2     2019-10-20 18:49:24.115634                 0  \n",
       "3     2019-10-20 19:23:14.236973              1431  \n",
       "4     2019-10-20 19:30:36.096917                 4  \n",
       "...                          ...               ...  \n",
       "14120 2019-10-12 16:51:07.066106              1216  \n",
       "14121 2019-10-14 12:36:21.684090              1079  \n",
       "14122 2019-10-31 15:35:24.898377               413  \n",
       "14123 2019-10-21 08:30:10.800955                97  \n",
       "14124 2019-10-21 11:01:49.118228               145  \n",
       "\n",
       "[14125 rows x 7 columns]"
      ]
     },
     "execution_count": 124,
     "metadata": {},
     "output_type": "execute_result"
    }
   ],
   "source": [
    "u_s"
   ]
  },
  {
   "cell_type": "markdown",
   "id": "TNQBXOMhZkxT",
   "metadata": {
    "id": "TNQBXOMhZkxT"
   },
   "source": [
    "- Есть сессии продолжительность которых получилась нулевой - это сессии состоящие из одного события\n",
    "- Если увеличить длительность предельного времени бездействия, то их число несколько снижается, но не сильно (если увеличить время бездействия с 7 минут до 15, то вместо 28,6% нулевых сессий получим 22%)\n",
    "- Поэтому в рамках данного решения я останусь на определённом ранее максимальном времени бездействия в 7 минут.\n",
    "\n",
    "---"
   ]
  },
  {
   "cell_type": "code",
   "execution_count": 125,
   "id": "fc2e0f4d",
   "metadata": {
    "colab": {
     "base_uri": "https://localhost:8080/"
    },
    "executionInfo": {
     "elapsed": 14,
     "status": "ok",
     "timestamp": 1650539007919,
     "user": {
      "displayName": "Vadim Selin",
      "userId": "13742755250186020674"
     },
     "user_tz": -180
    },
    "id": "fc2e0f4d",
    "outputId": "2c7f1f12-3796-40d0-b182-145ccd158798"
   },
   "outputs": [
    {
     "data": {
      "text/plain": [
       "0.2859469026548673"
      ]
     },
     "execution_count": 125,
     "metadata": {},
     "output_type": "execute_result"
    }
   ],
   "source": [
    "len(u_s[u_s['session_duration'] == 0]) / len(u_s)"
   ]
  },
  {
   "cell_type": "markdown",
   "id": "c7qB3gkSvVSa",
   "metadata": {
    "id": "c7qB3gkSvVSa"
   },
   "source": [
    "- Посмотрю на распределения длительности сессий среди всех пользователей без учёта нулевых длятельностей, когда было только одно событие и после длительное бездействие\n",
    "- Сохраню в отдельную переменную датафрейм с пользовательскими сессиями без нулевых сессий."
   ]
  },
  {
   "cell_type": "code",
   "execution_count": 126,
   "id": "9134d0fa",
   "metadata": {
    "executionInfo": {
     "elapsed": 10,
     "status": "ok",
     "timestamp": 1650539007919,
     "user": {
      "displayName": "Vadim Selin",
      "userId": "13742755250186020674"
     },
     "user_tz": -180
    },
    "id": "9134d0fa"
   },
   "outputs": [],
   "source": [
    "u_s1 = u_s[u_s['session_duration'] != 0].copy()"
   ]
  },
  {
   "cell_type": "code",
   "execution_count": 127,
   "id": "E5a-kqOjZlAz",
   "metadata": {
    "colab": {
     "base_uri": "https://localhost:8080/",
     "height": 294
    },
    "executionInfo": {
     "elapsed": 584,
     "status": "ok",
     "timestamp": 1650539008494,
     "user": {
      "displayName": "Vadim Selin",
      "userId": "13742755250186020674"
     },
     "user_tz": -180
    },
    "id": "E5a-kqOjZlAz",
    "outputId": "5184c2df-9f39-4673-bac5-7f945aac7532"
   },
   "outputs": [
    {
     "data": {
      "image/png": "[encoded data removed]",
      "text/plain": [
       "<Figure size 432x288 with 1 Axes>"
      ]
     },
     "metadata": {
      "needs_background": "light"
     },
     "output_type": "display_data"
    }
   ],
   "source": [
    "u_s1['session_duration'].hist(bins=100)\n",
    "plt.title('Распределение значений длительности ненулевых сессий')\n",
    "plt.xlabel('Длительность пользовательской сессии, сек.')\n",
    "plt.show()"
   ]
  },
  {
   "cell_type": "code",
   "execution_count": 128,
   "id": "5d8127fa",
   "metadata": {
    "colab": {
     "base_uri": "https://localhost:8080/"
    },
    "executionInfo": {
     "elapsed": 13,
     "status": "ok",
     "timestamp": 1650539008495,
     "user": {
      "displayName": "Vadim Selin",
      "userId": "13742755250186020674"
     },
     "user_tz": -180
    },
    "id": "5d8127fa",
    "outputId": "ae365f1c-fb4d-4450-95ef-3dca66dc9ae9"
   },
   "outputs": [
    {
     "data": {
      "text/plain": [
       "0    4\n",
       "dtype: int64"
      ]
     },
     "execution_count": 128,
     "metadata": {},
     "output_type": "execute_result"
    }
   ],
   "source": [
    "u_s1['session_duration'].mode()"
   ]
  },
  {
   "cell_type": "code",
   "execution_count": 129,
   "id": "34da8643",
   "metadata": {
    "colab": {
     "base_uri": "https://localhost:8080/"
    },
    "executionInfo": {
     "elapsed": 8,
     "status": "ok",
     "timestamp": 1650539008495,
     "user": {
      "displayName": "Vadim Selin",
      "userId": "13742755250186020674"
     },
     "user_tz": -180
    },
    "id": "34da8643",
    "outputId": "f16348f1-8da1-4f7b-c26d-e295d63d06de"
   },
   "outputs": [
    {
     "data": {
      "text/plain": [
       "count    10086.000000\n",
       "mean       491.995836\n",
       "std        602.518061\n",
       "min          1.000000\n",
       "25%        117.000000\n",
       "50%        308.000000\n",
       "75%        641.000000\n",
       "max       7711.000000\n",
       "Name: session_duration, dtype: float64"
      ]
     },
     "execution_count": 129,
     "metadata": {},
     "output_type": "execute_result"
    }
   ],
   "source": [
    "u_s1['session_duration'].describe()"
   ]
  },
  {
   "cell_type": "markdown",
   "id": "0e889acd",
   "metadata": {
    "id": "0e889acd"
   },
   "source": [
    "- Чаще всего если в сессии больше одного события длительность её составляет 4 секунды.\n",
    "    - Это похоже на тот случай, когда тебе прилетает пуш-уведомление и ты заходишь в него на несколько секунд, чтобы открыть сообщение и маркер непрочитанного уведомления снять.\n",
    "    - Кажется, ну и зачем оно нужно?\n",
    "    - Но иногда заходя по такому пушу, чтобы снять маркер снять, видишь интересующие тебя предложение и остаёшся из-за него.\n",
    "-  Поэтому от пушей не отказываемся, а вот от количества таких коротких сессий стараемся избавляться, улучшая качество `tips_show`\n",
    "- Средняя общая продолжительность сессии при этом составляет 492 секунды (чуть более 8 минут), что достаточно много, чтобы успеть наделать дел (заказать, сохранить в избранное и т.д.). Данная метрика выглядит реалистично.\n",
    "- Медиана также вполне реалистина: она чуть более 6 минут."
   ]
  },
  {
   "cell_type": "markdown",
   "id": "v5usEzefkwlv",
   "metadata": {
    "id": "v5usEzefkwlv"
   },
   "source": [
    "- Общее распределение длительности сессий оценил\n",
    "- Теперь посмотрю на распределения по кластерам\n",
    "- Выведу все распределения в одних осях координат, чтобы оценить различия в форме распределения\n",
    "- Графики отрисую с помощью цикла."
   ]
  },
  {
   "cell_type": "code",
   "execution_count": 130,
   "id": "823b767d",
   "metadata": {
    "colab": {
     "base_uri": "https://localhost:8080/",
     "height": 514
    },
    "executionInfo": {
     "elapsed": 665,
     "status": "ok",
     "timestamp": 1650539009155,
     "user": {
      "displayName": "Vadim Selin",
      "userId": "13742755250186020674"
     },
     "user_tz": -180
    },
    "id": "823b767d",
    "outputId": "9361edb1-867a-4ff1-c440-b0207a8b0098"
   },
   "outputs": [
    {
     "data": {
      "image/png": "[encoded data removed]",
      "text/plain": [
       "<Figure size 864x576 with 1 Axes>"
      ]
     },
     "metadata": {
      "needs_background": "light"
     },
     "output_type": "display_data"
    }
   ],
   "source": [
    "colors = ['red', 'green', 'blue', 'yellow', 'black']\n",
    "clusters = u_s1['cluster_km'].unique()\n",
    "plt.figure(figsize=(12,8))\n",
    "for _,i in zip(clusters, colors):\n",
    "    fig = sns.histplot(\n",
    "        x=u_s1[u_s1['cluster_km'] == _]['session_duration'], \n",
    "        data=u_s1[u_s1['cluster_km'] == _], \n",
    "        element='step', \n",
    "        color=i, \n",
    "        alpha=0.1\n",
    "    )\n",
    "fig.legend(\n",
    "    labels=['cluster_0','cluster_1','cluster_2','cluster_3','cluster_4']\n",
    "    )\n",
    "plt.title('Распределения длительности сеанса в разных кластерах')\n",
    "plt.xlim(0, 3000)\n",
    "plt.show()"
   ]
  },
  {
   "cell_type": "markdown",
   "id": "0bec00ca",
   "metadata": {
    "id": "0bec00ca"
   },
   "source": [
    "- Для проверки корректности вывода кластеров и их маркировки выведу число зафиксированных ненулевых сессий по каждому кластеру"
   ]
  },
  {
   "cell_type": "code",
   "execution_count": 131,
   "id": "ab06888a",
   "metadata": {
    "colab": {
     "base_uri": "https://localhost:8080/"
    },
    "executionInfo": {
     "elapsed": 18,
     "status": "ok",
     "timestamp": 1650539009155,
     "user": {
      "displayName": "Vadim Selin",
      "userId": "13742755250186020674"
     },
     "user_tz": -180
    },
    "id": "ab06888a",
    "outputId": "97f3c9f3-065c-46a5-a771-5ac55c263973"
   },
   "outputs": [
    {
     "data": {
      "text/plain": [
       "0    1672\n",
       "1    5251\n",
       "2    1437\n",
       "3    1284\n",
       "4     442\n",
       "Name: cluster_km, dtype: int64"
      ]
     },
     "execution_count": 131,
     "metadata": {},
     "output_type": "execute_result"
    }
   ],
   "source": [
    "u_s1['cluster_km'].value_counts().sort_index(ascending=True)"
   ]
  },
  {
   "cell_type": "markdown",
   "id": "P_HpoSmEquG_",
   "metadata": {
    "id": "P_HpoSmEquG_"
   },
   "source": [
    "- При взгляде на распределения сегментов можно сказать, что они пропорционально соответствуют общему распределению длительностей сессии.\n",
    "- Но чтобы не быть голословным, применю `describe` к каждому сегменту."
   ]
  },
  {
   "cell_type": "code",
   "execution_count": 132,
   "id": "28478e1e",
   "metadata": {
    "colab": {
     "base_uri": "https://localhost:8080/",
     "height": 597
    },
    "executionInfo": {
     "elapsed": 14,
     "status": "ok",
     "timestamp": 1650539009156,
     "user": {
      "displayName": "Vadim Selin",
      "userId": "13742755250186020674"
     },
     "user_tz": -180
    },
    "id": "28478e1e",
    "outputId": "24a41d81-e8e6-4378-bb49-7bf1bfa0fc78"
   },
   "outputs": [
    {
     "data": {
      "image/png": "[encoded data removed]",
      "text/plain": [
       "<Figure size 432x576 with 1 Axes>"
      ]
     },
     "metadata": {
      "needs_background": "light"
     },
     "output_type": "display_data"
    }
   ],
   "source": [
    "u_s1.boxplot('session_duration', by='cluster_km', figsize=(6,8))\n",
    "plt.show()"
   ]
  },
  {
   "cell_type": "markdown",
   "id": "b8638d74",
   "metadata": {
    "id": "b8638d74"
   },
   "source": [
    "- Медианы не идентичны, есть различия\n",
    "- Вероятно в средних они тоже будут\n",
    "- Хоть формы распределений и были похожи, но были смещены.\n",
    "    - Сделаю сводник по кластерам, со средним и медианой и выведу их в столбчатых графиках"
   ]
  },
  {
   "cell_type": "code",
   "execution_count": 133,
   "id": "a99e864c",
   "metadata": {
    "colab": {
     "base_uri": "https://localhost:8080/"
    },
    "executionInfo": {
     "elapsed": 10,
     "status": "ok",
     "timestamp": 1650539009156,
     "user": {
      "displayName": "Vadim Selin",
      "userId": "13742755250186020674"
     },
     "user_tz": -180
    },
    "id": "a99e864c",
    "outputId": "50501dcc-54e6-410b-9eff-18bd65706d67"
   },
   "outputs": [
    {
     "data": {
      "text/plain": [
       "Index(['cluster_km', 'user_id', 'session_number', 'event_in_session_count',\n",
       "       'event_time_min', 'event_time_max', 'session_duration'],\n",
       "      dtype='object')"
      ]
     },
     "execution_count": 133,
     "metadata": {},
     "output_type": "execute_result"
    }
   ],
   "source": [
    "u_s1.columns"
   ]
  },
  {
   "cell_type": "code",
   "execution_count": 134,
   "id": "5da41b96",
   "metadata": {
    "executionInfo": {
     "elapsed": 7,
     "status": "ok",
     "timestamp": 1650539009156,
     "user": {
      "displayName": "Vadim Selin",
      "userId": "13742755250186020674"
     },
     "user_tz": -180
    },
    "id": "5da41b96"
   },
   "outputs": [],
   "source": [
    "# duration_pc = duration_per_clasters\n",
    "duration_pc = (\n",
    "    u_s1.pivot_table(\n",
    "        index='cluster_km', \n",
    "        values='session_duration', \n",
    "        aggfunc=['count','mean', 'median']\n",
    "    )\n",
    ")"
   ]
  },
  {
   "cell_type": "code",
   "execution_count": 135,
   "id": "e11d73c1",
   "metadata": {
    "executionInfo": {
     "elapsed": 7,
     "status": "ok",
     "timestamp": 1650539009157,
     "user": {
      "displayName": "Vadim Selin",
      "userId": "13742755250186020674"
     },
     "user_tz": -180
    },
    "id": "e11d73c1"
   },
   "outputs": [],
   "source": [
    "duration_pc.columns = ['_'.join(col).strip() for col in duration_pc.columns.values]"
   ]
  },
  {
   "cell_type": "code",
   "execution_count": 136,
   "id": "d5596707",
   "metadata": {
    "colab": {
     "base_uri": "https://localhost:8080/",
     "height": 237
    },
    "executionInfo": {
     "elapsed": 7,
     "status": "ok",
     "timestamp": 1650539009157,
     "user": {
      "displayName": "Vadim Selin",
      "userId": "13742755250186020674"
     },
     "user_tz": -180
    },
    "id": "d5596707",
    "outputId": "c4747f1c-655e-4367-8f23-1a7c9ea650c5"
   },
   "outputs": [
    {
     "data": {
      "text/html": [
       "<div>\n",
       "<style scoped>\n",
       "    .dataframe tbody tr th:only-of-type {\n",
       "        vertical-align: middle;\n",
       "    }\n",
       "\n",
       "    .dataframe tbody tr th {\n",
       "        vertical-align: top;\n",
       "    }\n",
       "\n",
       "    .dataframe thead th {\n",
       "        text-align: right;\n",
       "    }\n",
       "</style>\n",
       "<table border=\"1\" class=\"dataframe\">\n",
       "  <thead>\n",
       "    <tr style=\"text-align: right;\">\n",
       "      <th></th>\n",
       "      <th>count_session_duration</th>\n",
       "      <th>mean_session_duration</th>\n",
       "      <th>median_session_duration</th>\n",
       "    </tr>\n",
       "    <tr>\n",
       "      <th>cluster_km</th>\n",
       "      <th></th>\n",
       "      <th></th>\n",
       "      <th></th>\n",
       "    </tr>\n",
       "  </thead>\n",
       "  <tbody>\n",
       "    <tr>\n",
       "      <th>0</th>\n",
       "      <td>1672</td>\n",
       "      <td>417.333732</td>\n",
       "      <td>271.0</td>\n",
       "    </tr>\n",
       "    <tr>\n",
       "      <th>1</th>\n",
       "      <td>5251</td>\n",
       "      <td>593.160731</td>\n",
       "      <td>378.0</td>\n",
       "    </tr>\n",
       "    <tr>\n",
       "      <th>2</th>\n",
       "      <td>1437</td>\n",
       "      <td>466.423800</td>\n",
       "      <td>289.0</td>\n",
       "    </tr>\n",
       "    <tr>\n",
       "      <th>3</th>\n",
       "      <td>1284</td>\n",
       "      <td>275.950156</td>\n",
       "      <td>188.5</td>\n",
       "    </tr>\n",
       "    <tr>\n",
       "      <th>4</th>\n",
       "      <td>442</td>\n",
       "      <td>283.325792</td>\n",
       "      <td>168.5</td>\n",
       "    </tr>\n",
       "  </tbody>\n",
       "</table>\n",
       "</div>"
      ],
      "text/plain": [
       "            count_session_duration  mean_session_duration  \\\n",
       "cluster_km                                                  \n",
       "0                             1672             417.333732   \n",
       "1                             5251             593.160731   \n",
       "2                             1437             466.423800   \n",
       "3                             1284             275.950156   \n",
       "4                              442             283.325792   \n",
       "\n",
       "            median_session_duration  \n",
       "cluster_km                           \n",
       "0                             271.0  \n",
       "1                             378.0  \n",
       "2                             289.0  \n",
       "3                             188.5  \n",
       "4                             168.5  "
      ]
     },
     "execution_count": 136,
     "metadata": {},
     "output_type": "execute_result"
    }
   ],
   "source": [
    "duration_pc"
   ]
  },
  {
   "cell_type": "markdown",
   "id": "81c47614",
   "metadata": {
    "id": "81c47614"
   },
   "source": [
    "---\n",
    "- Цикл для вывода значений столбцов позаимствовал [здесь]('https://datavizpyr.com/how-to-annotate-bars-in-barplot-with-matplotlib-in-python/')\n",
    "---"
   ]
  },
  {
   "cell_type": "code",
   "execution_count": 137,
   "id": "23752861",
   "metadata": {
    "colab": {
     "base_uri": "https://localhost:8080/",
     "height": 513
    },
    "executionInfo": {
     "elapsed": 683,
     "status": "ok",
     "timestamp": 1650539009834,
     "user": {
      "displayName": "Vadim Selin",
      "userId": "13742755250186020674"
     },
     "user_tz": -180
    },
    "id": "23752861",
    "outputId": "48320533-44a6-4329-89df-924ceb2768fa"
   },
   "outputs": [
    {
     "data": {
      "image/png": "[encoded data removed]",
      "text/plain": [
       "<Figure size 864x576 with 1 Axes>"
      ]
     },
     "metadata": {
      "needs_background": "light"
     },
     "output_type": "display_data"
    }
   ],
   "source": [
    "plt.figure(figsize=(12,8))\n",
    "fig = sns.barplot(\n",
    "    x=duration_pc.index, \n",
    "    y=\"mean_session_duration\", \n",
    "    data=duration_pc, \n",
    "    alpha=0.5\n",
    ")\n",
    "fig = sns.barplot(\n",
    "    x=duration_pc.index, \n",
    "    y=\"median_session_duration\", \n",
    "    data=duration_pc\n",
    ")\n",
    "for p in fig.patches:\n",
    "    fig.annotate(format(p.get_height(), '.1f'), \n",
    "                   (p.get_x() + p.get_width() / 2., p.get_height()), \n",
    "                   ha = 'center', va = 'center', \n",
    "                   xytext = (0, 9), \n",
    "                   textcoords = 'offset points')\n",
    "plt.ylabel('Длительность сеанса, сек.')\n",
    "plt.xlabel('Сегмент пользователей')\n",
    "plt.title('Средние (светлые) и медианные значения длительности сессии по сегментам')\n",
    "plt.show()"
   ]
  },
  {
   "cell_type": "markdown",
   "id": "0df75f81",
   "metadata": {
    "id": "0df75f81"
   },
   "source": [
    "- У самого многочисленного 1-го сегмента самые большие серднее и медианное значение длительности сеанса.\n",
    "- Также у этого сегмента наибольшее количество выбросов (судя по выводу `boxplot` выше)\n",
    "    - Хотя отбрасывать их безусловно не стоит, потому что максимальное значение в этих выбросах соответствует 2,14 часа\n",
    "    - Кто-то просто долго искал необходимую вещь\n",
    "    - Быть может, подержанный макбук. Или что-то ещё, что может требует внимания и сравнения.\n",
    "- Также возвращаясь к `retention rate`, у этого сегмента он тоже самый низкий (рисунок)\n",
    "- Начинает закрадываться мысль, что чем дольше средняя продолжительность сеанса в сегменте, тем лучше его пользователи находят то, что им нужно, получают контакты продавца и товар. После этого они выпадают из ближайших `cohort_lifetime`\n",
    "- В таком случе вполне может быть, что конверсия в целевое действие `contacts_show` у этого сегмента будет выше:\n",
    "    -  Долго посидели-повыбирали-лучше сконверстировались и быстрее ушли в отток.\n",
    "    - Это выясню после рассчёта средней частоты совершения событий в сессии по сегментам\n"
   ]
  },
  {
   "cell_type": "markdown",
   "id": "451be4ff",
   "metadata": {
    "id": "451be4ff"
   },
   "source": [
    "## Рассчитать и сравнить между кластерами частоту совершения событий\n",
    "\n",
    "- Частота относительно пользовательской сессии\n",
    "- этот пункт также поможет определить, как по кластерам различается время между основными событиями пользовательских сессий"
   ]
  },
  {
   "cell_type": "markdown",
   "id": "d8a88f11",
   "metadata": {
    "id": "d8a88f11"
   },
   "source": [
    "- Получу частоту как количество событий в минуту, как количество событий в сессию - уже есть `event_in_session_count`"
   ]
  },
  {
   "cell_type": "code",
   "execution_count": 138,
   "id": "d0560d4b",
   "metadata": {
    "executionInfo": {
     "elapsed": 48,
     "status": "ok",
     "timestamp": 1650539009851,
     "user": {
      "displayName": "Vadim Selin",
      "userId": "13742755250186020674"
     },
     "user_tz": -180
    },
    "id": "d0560d4b"
   },
   "outputs": [],
   "source": [
    "u_s1['event_freq_per_minute'] = u_s1['event_in_session_count'] / (u_s1['session_duration'] / 60)"
   ]
  },
  {
   "cell_type": "code",
   "execution_count": 139,
   "id": "3e7db303",
   "metadata": {
    "colab": {
     "base_uri": "https://localhost:8080/",
     "height": 206
    },
    "executionInfo": {
     "elapsed": 47,
     "status": "ok",
     "timestamp": 1650539009851,
     "user": {
      "displayName": "Vadim Selin",
      "userId": "13742755250186020674"
     },
     "user_tz": -180
    },
    "id": "3e7db303",
    "outputId": "fa68381a-254c-4496-d592-0f9e1b5acdcc"
   },
   "outputs": [
    {
     "data": {
      "text/html": [
       "<div>\n",
       "<style scoped>\n",
       "    .dataframe tbody tr th:only-of-type {\n",
       "        vertical-align: middle;\n",
       "    }\n",
       "\n",
       "    .dataframe tbody tr th {\n",
       "        vertical-align: top;\n",
       "    }\n",
       "\n",
       "    .dataframe thead th {\n",
       "        text-align: right;\n",
       "    }\n",
       "</style>\n",
       "<table border=\"1\" class=\"dataframe\">\n",
       "  <thead>\n",
       "    <tr style=\"text-align: right;\">\n",
       "      <th></th>\n",
       "      <th>cluster_km</th>\n",
       "      <th>user_id</th>\n",
       "      <th>session_number</th>\n",
       "      <th>event_in_session_count</th>\n",
       "      <th>event_time_min</th>\n",
       "      <th>event_time_max</th>\n",
       "      <th>session_duration</th>\n",
       "      <th>event_freq_per_minute</th>\n",
       "    </tr>\n",
       "  </thead>\n",
       "  <tbody>\n",
       "    <tr>\n",
       "      <th>0</th>\n",
       "      <td>0</td>\n",
       "      <td>00157779-810c-4498-9e05-a1e9e3cedf93</td>\n",
       "      <td>0.0</td>\n",
       "      <td>7</td>\n",
       "      <td>2019-10-19 21:34:33.849769</td>\n",
       "      <td>2019-10-19 21:46:52.541309</td>\n",
       "      <td>738</td>\n",
       "      <td>0.569106</td>\n",
       "    </tr>\n",
       "    <tr>\n",
       "      <th>1</th>\n",
       "      <td>0</td>\n",
       "      <td>00157779-810c-4498-9e05-a1e9e3cedf93</td>\n",
       "      <td>1.0</td>\n",
       "      <td>2</td>\n",
       "      <td>2019-10-19 21:58:00.109019</td>\n",
       "      <td>2019-10-19 21:59:54.637098</td>\n",
       "      <td>114</td>\n",
       "      <td>1.052632</td>\n",
       "    </tr>\n",
       "    <tr>\n",
       "      <th>3</th>\n",
       "      <td>0</td>\n",
       "      <td>00157779-810c-4498-9e05-a1e9e3cedf93</td>\n",
       "      <td>3.0</td>\n",
       "      <td>11</td>\n",
       "      <td>2019-10-20 18:59:22.541082</td>\n",
       "      <td>2019-10-20 19:23:14.236973</td>\n",
       "      <td>1431</td>\n",
       "      <td>0.461216</td>\n",
       "    </tr>\n",
       "    <tr>\n",
       "      <th>4</th>\n",
       "      <td>0</td>\n",
       "      <td>00157779-810c-4498-9e05-a1e9e3cedf93</td>\n",
       "      <td>4.0</td>\n",
       "      <td>2</td>\n",
       "      <td>2019-10-20 19:30:31.912891</td>\n",
       "      <td>2019-10-20 19:30:36.096917</td>\n",
       "      <td>4</td>\n",
       "      <td>30.000000</td>\n",
       "    </tr>\n",
       "    <tr>\n",
       "      <th>6</th>\n",
       "      <td>0</td>\n",
       "      <td>00157779-810c-4498-9e05-a1e9e3cedf93</td>\n",
       "      <td>6.0</td>\n",
       "      <td>3</td>\n",
       "      <td>2019-10-20 20:04:16.954396</td>\n",
       "      <td>2019-10-20 20:05:36.234073</td>\n",
       "      <td>79</td>\n",
       "      <td>2.278481</td>\n",
       "    </tr>\n",
       "  </tbody>\n",
       "</table>\n",
       "</div>"
      ],
      "text/plain": [
       "   cluster_km                               user_id  session_number  \\\n",
       "0           0  00157779-810c-4498-9e05-a1e9e3cedf93             0.0   \n",
       "1           0  00157779-810c-4498-9e05-a1e9e3cedf93             1.0   \n",
       "3           0  00157779-810c-4498-9e05-a1e9e3cedf93             3.0   \n",
       "4           0  00157779-810c-4498-9e05-a1e9e3cedf93             4.0   \n",
       "6           0  00157779-810c-4498-9e05-a1e9e3cedf93             6.0   \n",
       "\n",
       "   event_in_session_count             event_time_min  \\\n",
       "0                       7 2019-10-19 21:34:33.849769   \n",
       "1                       2 2019-10-19 21:58:00.109019   \n",
       "3                      11 2019-10-20 18:59:22.541082   \n",
       "4                       2 2019-10-20 19:30:31.912891   \n",
       "6                       3 2019-10-20 20:04:16.954396   \n",
       "\n",
       "              event_time_max  session_duration  event_freq_per_minute  \n",
       "0 2019-10-19 21:46:52.541309               738               0.569106  \n",
       "1 2019-10-19 21:59:54.637098               114               1.052632  \n",
       "3 2019-10-20 19:23:14.236973              1431               0.461216  \n",
       "4 2019-10-20 19:30:36.096917                 4              30.000000  \n",
       "6 2019-10-20 20:05:36.234073                79               2.278481  "
      ]
     },
     "execution_count": 139,
     "metadata": {},
     "output_type": "execute_result"
    }
   ],
   "source": [
    "u_s1.head()"
   ]
  },
  {
   "cell_type": "markdown",
   "id": "868fb3ad",
   "metadata": {
    "id": "868fb3ad"
   },
   "source": [
    "- Теперь можно взглянуть на распределения этих частот среди разных кластеров\n",
    "- Посмотрю на вывод `describe`"
   ]
  },
  {
   "cell_type": "code",
   "execution_count": 140,
   "id": "fab20366",
   "metadata": {
    "colab": {
     "base_uri": "https://localhost:8080/"
    },
    "executionInfo": {
     "elapsed": 46,
     "status": "ok",
     "timestamp": 1650539009851,
     "user": {
      "displayName": "Vadim Selin",
      "userId": "13742755250186020674"
     },
     "user_tz": -180
    },
    "id": "fab20366",
    "outputId": "eb59cb5a-1876-4c2c-96b0-0099a429eb38"
   },
   "outputs": [
    {
     "data": {
      "text/plain": [
       "count    10086.000000\n",
       "mean         3.541664\n",
       "std         12.340899\n",
       "min          0.221538\n",
       "25%          0.608108\n",
       "50%          0.960000\n",
       "75%          1.889764\n",
       "max        360.000000\n",
       "Name: event_freq_per_minute, dtype: float64"
      ]
     },
     "execution_count": 140,
     "metadata": {},
     "output_type": "execute_result"
    }
   ],
   "source": [
    "u_s1['event_freq_per_minute'].describe()"
   ]
  },
  {
   "cell_type": "markdown",
   "id": "1b8e7cc4",
   "metadata": {
    "id": "1b8e7cc4"
   },
   "source": [
    "- Интересно, кто совершает 360 событий в минуту, и что это за события"
   ]
  },
  {
   "cell_type": "code",
   "execution_count": 141,
   "id": "e6e2ed91",
   "metadata": {
    "colab": {
     "base_uri": "https://localhost:8080/"
    },
    "executionInfo": {
     "elapsed": 43,
     "status": "ok",
     "timestamp": 1650539009852,
     "user": {
      "displayName": "Vadim Selin",
      "userId": "13742755250186020674"
     },
     "user_tz": -180
    },
    "id": "e6e2ed91",
    "outputId": "ab0cdad9-5ad1-4dd0-b1b9-51b6e28c31b5"
   },
   "outputs": [
    {
     "data": {
      "text/plain": [
       "692    4c38c011-e7d4-47a2-9da3-35888e0606b8\n",
       "Name: user_id, dtype: object"
      ]
     },
     "execution_count": 141,
     "metadata": {},
     "output_type": "execute_result"
    }
   ],
   "source": [
    "u_s1[u_s1['event_freq_per_minute'] == u_s1['event_freq_per_minute'].max()]['user_id']"
   ]
  },
  {
   "cell_type": "code",
   "execution_count": 142,
   "id": "2c8f8138",
   "metadata": {
    "colab": {
     "base_uri": "https://localhost:8080/",
     "height": 237
    },
    "executionInfo": {
     "elapsed": 40,
     "status": "ok",
     "timestamp": 1650539009853,
     "user": {
      "displayName": "Vadim Selin",
      "userId": "13742755250186020674"
     },
     "user_tz": -180
    },
    "id": "2c8f8138",
    "outputId": "26281cf2-d6ae-41fc-88f4-8927d0eec564"
   },
   "outputs": [
    {
     "data": {
      "text/html": [
       "<div>\n",
       "<style scoped>\n",
       "    .dataframe tbody tr th:only-of-type {\n",
       "        vertical-align: middle;\n",
       "    }\n",
       "\n",
       "    .dataframe tbody tr th {\n",
       "        vertical-align: top;\n",
       "    }\n",
       "\n",
       "    .dataframe thead th {\n",
       "        text-align: right;\n",
       "    }\n",
       "</style>\n",
       "<table border=\"1\" class=\"dataframe\">\n",
       "  <thead>\n",
       "    <tr style=\"text-align: right;\">\n",
       "      <th></th>\n",
       "      <th>event_time</th>\n",
       "      <th>event_name</th>\n",
       "      <th>user_id</th>\n",
       "      <th>source</th>\n",
       "      <th>event_date</th>\n",
       "      <th>cluster_km</th>\n",
       "      <th>seconds_between</th>\n",
       "      <th>session_status</th>\n",
       "      <th>session_number</th>\n",
       "    </tr>\n",
       "  </thead>\n",
       "  <tbody>\n",
       "    <tr>\n",
       "      <th>39507</th>\n",
       "      <td>2019-10-22 21:52:54.033420</td>\n",
       "      <td>photos_show</td>\n",
       "      <td>4c38c011-e7d4-47a2-9da3-35888e0606b8</td>\n",
       "      <td>other</td>\n",
       "      <td>2019-10-22</td>\n",
       "      <td>0</td>\n",
       "      <td>0.0</td>\n",
       "      <td>start_new_session</td>\n",
       "      <td>0.0</td>\n",
       "    </tr>\n",
       "    <tr>\n",
       "      <th>39508</th>\n",
       "      <td>2019-10-22 21:52:54.182095</td>\n",
       "      <td>photos_show</td>\n",
       "      <td>4c38c011-e7d4-47a2-9da3-35888e0606b8</td>\n",
       "      <td>other</td>\n",
       "      <td>2019-10-22</td>\n",
       "      <td>0</td>\n",
       "      <td>1.0</td>\n",
       "      <td>session_continues</td>\n",
       "      <td>0.0</td>\n",
       "    </tr>\n",
       "    <tr>\n",
       "      <th>39509</th>\n",
       "      <td>2019-10-22 21:52:54.416168</td>\n",
       "      <td>photos_show</td>\n",
       "      <td>4c38c011-e7d4-47a2-9da3-35888e0606b8</td>\n",
       "      <td>other</td>\n",
       "      <td>2019-10-22</td>\n",
       "      <td>0</td>\n",
       "      <td>1.0</td>\n",
       "      <td>session_continues</td>\n",
       "      <td>0.0</td>\n",
       "    </tr>\n",
       "    <tr>\n",
       "      <th>39510</th>\n",
       "      <td>2019-10-22 21:52:54.648309</td>\n",
       "      <td>photos_show</td>\n",
       "      <td>4c38c011-e7d4-47a2-9da3-35888e0606b8</td>\n",
       "      <td>other</td>\n",
       "      <td>2019-10-22</td>\n",
       "      <td>0</td>\n",
       "      <td>1.0</td>\n",
       "      <td>session_continues</td>\n",
       "      <td>0.0</td>\n",
       "    </tr>\n",
       "    <tr>\n",
       "      <th>39511</th>\n",
       "      <td>2019-10-22 21:52:54.810704</td>\n",
       "      <td>photos_show</td>\n",
       "      <td>4c38c011-e7d4-47a2-9da3-35888e0606b8</td>\n",
       "      <td>other</td>\n",
       "      <td>2019-10-22</td>\n",
       "      <td>0</td>\n",
       "      <td>1.0</td>\n",
       "      <td>session_continues</td>\n",
       "      <td>0.0</td>\n",
       "    </tr>\n",
       "    <tr>\n",
       "      <th>39513</th>\n",
       "      <td>2019-10-22 21:52:55.072235</td>\n",
       "      <td>photos_show</td>\n",
       "      <td>4c38c011-e7d4-47a2-9da3-35888e0606b8</td>\n",
       "      <td>other</td>\n",
       "      <td>2019-10-22</td>\n",
       "      <td>0</td>\n",
       "      <td>1.0</td>\n",
       "      <td>session_continues</td>\n",
       "      <td>0.0</td>\n",
       "    </tr>\n",
       "  </tbody>\n",
       "</table>\n",
       "</div>"
      ],
      "text/plain": [
       "                      event_time   event_name  \\\n",
       "39507 2019-10-22 21:52:54.033420  photos_show   \n",
       "39508 2019-10-22 21:52:54.182095  photos_show   \n",
       "39509 2019-10-22 21:52:54.416168  photos_show   \n",
       "39510 2019-10-22 21:52:54.648309  photos_show   \n",
       "39511 2019-10-22 21:52:54.810704  photos_show   \n",
       "39513 2019-10-22 21:52:55.072235  photos_show   \n",
       "\n",
       "                                    user_id source event_date  cluster_km  \\\n",
       "39507  4c38c011-e7d4-47a2-9da3-35888e0606b8  other 2019-10-22           0   \n",
       "39508  4c38c011-e7d4-47a2-9da3-35888e0606b8  other 2019-10-22           0   \n",
       "39509  4c38c011-e7d4-47a2-9da3-35888e0606b8  other 2019-10-22           0   \n",
       "39510  4c38c011-e7d4-47a2-9da3-35888e0606b8  other 2019-10-22           0   \n",
       "39511  4c38c011-e7d4-47a2-9da3-35888e0606b8  other 2019-10-22           0   \n",
       "39513  4c38c011-e7d4-47a2-9da3-35888e0606b8  other 2019-10-22           0   \n",
       "\n",
       "       seconds_between     session_status  session_number  \n",
       "39507              0.0  start_new_session             0.0  \n",
       "39508              1.0  session_continues             0.0  \n",
       "39509              1.0  session_continues             0.0  \n",
       "39510              1.0  session_continues             0.0  \n",
       "39511              1.0  session_continues             0.0  \n",
       "39513              1.0  session_continues             0.0  "
      ]
     },
     "execution_count": 142,
     "metadata": {},
     "output_type": "execute_result"
    }
   ],
   "source": [
    "df[df['user_id'] == '4c38c011-e7d4-47a2-9da3-35888e0606b8']"
   ]
  },
  {
   "cell_type": "markdown",
   "id": "b8723a50",
   "metadata": {
    "id": "b8723a50"
   },
   "source": [
    "- Интересно, много ли пользователей совершает так много событий в секунду\n",
    "- Или же это редкий баг, когда пользователю так быстро (за десятые доли секунды пронеслись 6 фото) показываются фотографии\n",
    "- Выведу диаграммы `boxplot`, чтобы посмотреть на масштабы и количество выбросов"
   ]
  },
  {
   "cell_type": "code",
   "execution_count": 143,
   "id": "27ee110c",
   "metadata": {
    "colab": {
     "base_uri": "https://localhost:8080/",
     "height": 597
    },
    "executionInfo": {
     "elapsed": 41,
     "status": "ok",
     "timestamp": 1650539009855,
     "user": {
      "displayName": "Vadim Selin",
      "userId": "13742755250186020674"
     },
     "user_tz": -180
    },
    "id": "27ee110c",
    "outputId": "d75a5771-dfbe-4cf4-e123-0ebbe21c594b"
   },
   "outputs": [
    {
     "data": {
      "image/png": "[encoded data removed]",
      "text/plain": [
       "<Figure size 432x576 with 1 Axes>"
      ]
     },
     "metadata": {
      "needs_background": "light"
     },
     "output_type": "display_data"
    }
   ],
   "source": [
    "u_s1.boxplot('event_freq_per_minute', by='cluster_km', figsize=(6,8))\n",
    "plt.show()"
   ]
  },
  {
   "cell_type": "markdown",
   "id": "5fd75669",
   "metadata": {
    "id": "5fd75669"
   },
   "source": [
    "- Выбросов немного, частот больше 60 можно по пальцам посчитать\n",
    "- Но есть pandas, поэтому пальцы для счёта не нужны"
   ]
  },
  {
   "cell_type": "code",
   "execution_count": 144,
   "id": "e49dfaf0",
   "metadata": {
    "colab": {
     "base_uri": "https://localhost:8080/"
    },
    "executionInfo": {
     "elapsed": 41,
     "status": "ok",
     "timestamp": 1650539009859,
     "user": {
      "displayName": "Vadim Selin",
      "userId": "13742755250186020674"
     },
     "user_tz": -180
    },
    "id": "e49dfaf0",
    "outputId": "2fae23e6-9399-4ea3-b840-194b8f9ce5d9"
   },
   "outputs": [
    {
     "data": {
      "text/plain": [
       "0.011699385286535793"
      ]
     },
     "execution_count": 144,
     "metadata": {},
     "output_type": "execute_result"
    }
   ],
   "source": [
    "len(u_s1[u_s1['event_freq_per_minute'] >= 60]) / len(u_s1)"
   ]
  },
  {
   "cell_type": "markdown",
   "id": "8339d894",
   "metadata": {
    "id": "8339d894"
   },
   "source": [
    "- `1.17%` сеансов происходят с частотой событий быстрее, чем одно в секунду. \n",
    "- Самое быстрая сессия с самой высокой частотой 360 событий в минуту (6 за секунду). Просмотр 6 фото подряд (быстрый скролл)\n",
    "- Узнаю, сколько событий чаще оказывается в таких высокочастотных сеансах."
   ]
  },
  {
   "cell_type": "code",
   "execution_count": 145,
   "id": "b173a98a",
   "metadata": {
    "colab": {
     "base_uri": "https://localhost:8080/"
    },
    "executionInfo": {
     "elapsed": 38,
     "status": "ok",
     "timestamp": 1650539009859,
     "user": {
      "displayName": "Vadim Selin",
      "userId": "13742755250186020674"
     },
     "user_tz": -180
    },
    "id": "b173a98a",
    "outputId": "4fe6dc29-5699-4b50-e0d1-e920d8b4f871"
   },
   "outputs": [
    {
     "data": {
      "text/plain": [
       "2     102\n",
       "3       7\n",
       "4       4\n",
       "6       2\n",
       "15      1\n",
       "7       1\n",
       "13      1\n",
       "Name: event_in_session_count, dtype: int64"
      ]
     },
     "execution_count": 145,
     "metadata": {},
     "output_type": "execute_result"
    }
   ],
   "source": [
    "u_s1[u_s1['event_freq_per_minute'] >= 60]['event_in_session_count'].value_counts()"
   ]
  },
  {
   "cell_type": "markdown",
   "id": "9dac1e95",
   "metadata": {
    "id": "9dac1e95"
   },
   "source": [
    "- Большинство сессий, в которых частота событий равна или выше 1-го события в секунду (60 в минуту)\n",
    "    - Содержат в себе лишь 2 события\n",
    "    - Лишь в 5 сессиях с такой высокой частотой было совершено от 6 до 15 событий\n",
    "    - Подавляющее большинство, это всё-таки 2-3 события\n",
    "    - Вероятно это по большей части автоматические события, на которые могли наложиться пользовательские тапы с минимальной задержкой\n",
    "- Посмотрю на распределение типов событий среди тех сессий, для которых свойственна очень высокая частота"
   ]
  },
  {
   "cell_type": "code",
   "execution_count": 146,
   "id": "c4b94a76",
   "metadata": {
    "executionInfo": {
     "elapsed": 34,
     "status": "ok",
     "timestamp": 1650539009859,
     "user": {
      "displayName": "Vadim Selin",
      "userId": "13742755250186020674"
     },
     "user_tz": -180
    },
    "id": "c4b94a76"
   },
   "outputs": [],
   "source": [
    "high_freq_usr = pd.Series(u_s1[u_s1['event_freq_per_minute'] >= 60]['user_id'].unique())"
   ]
  },
  {
   "cell_type": "code",
   "execution_count": 147,
   "id": "b3d0f327",
   "metadata": {
    "colab": {
     "base_uri": "https://localhost:8080/"
    },
    "executionInfo": {
     "elapsed": 34,
     "status": "ok",
     "timestamp": 1650539009859,
     "user": {
      "displayName": "Vadim Selin",
      "userId": "13742755250186020674"
     },
     "user_tz": -180
    },
    "id": "b3d0f327",
    "outputId": "edce7799-6d31-48b5-8e49-8a82db7473b5"
   },
   "outputs": [
    {
     "data": {
      "text/plain": [
       "tips_show        0.433092\n",
       "photos_show      0.188004\n",
       "advert_open      0.093692\n",
       "search_action    0.093278\n",
       "contacts_show    0.091624\n",
       "map              0.048604\n",
       "favorites_add    0.023164\n",
       "contacts_call    0.022130\n",
       "tips_click       0.006412\n",
       "Name: event_name, dtype: float64"
      ]
     },
     "execution_count": 147,
     "metadata": {},
     "output_type": "execute_result"
    }
   ],
   "source": [
    "df[df['user_id'].isin(high_freq_usr)]['event_name'].value_counts(normalize=True)"
   ]
  },
  {
   "cell_type": "markdown",
   "id": "45501dd2",
   "metadata": {
    "id": "45501dd2"
   },
   "source": [
    "- Распределение событий среди пользователей для которых сессии проходят с высокой частотой\n",
    "    - 43% событий совершаемых с высокой частотой (больше одного события в секунду) - это показ рекомендованных объявлений\n",
    "    - 19% - просмотр фото, похоже на быстро пролистанную карусель с фотографиями\n",
    "    - Что примечательно 9.1% быстрых событий - это инетерсующее нас конверсионное действие.\n",
    "    - Учитывя тот факт, что большинство высокочатотных сессий состоят из 2-3 событий, считаю эти данные правдоподобными\n",
    "- Для следующего A/B - теста можно сравнить два варианта скорости прокрутки фотографий в карусели (если она там вообще есть) и посмотреть как это сказывается на частоте событий в сессии."
   ]
  },
  {
   "cell_type": "markdown",
   "id": "e761339a",
   "metadata": {
    "id": "e761339a"
   },
   "source": [
    "- Поскольку величина `event_freq_per_minute` связана с вычисленными до неё числом событий в сессии `event_in_session_count` и длительностью сессии `session_duration`.\n",
    "- То буду использовать её как общую меру частоты действий пользоватлея при сравнении сегментов.\n",
    "    - Сперва оценю распределения `event_freq_per_minute` на общих осях координат, чтобы оценить разброс частот по сегментам и в каких пределах расположилось большиство сессий"
   ]
  },
  {
   "cell_type": "code",
   "execution_count": 148,
   "id": "057b6ed1",
   "metadata": {
    "colab": {
     "base_uri": "https://localhost:8080/",
     "height": 514
    },
    "executionInfo": {
     "elapsed": 627,
     "status": "ok",
     "timestamp": 1650539010455,
     "user": {
      "displayName": "Vadim Selin",
      "userId": "13742755250186020674"
     },
     "user_tz": -180
    },
    "id": "057b6ed1",
    "outputId": "92e204dc-3a8d-483b-fedb-783bb79fca78"
   },
   "outputs": [
    {
     "data": {
      "image/png": "[encoded data removed]",
      "text/plain": [
       "<Figure size 864x576 with 1 Axes>"
      ]
     },
     "metadata": {
      "needs_background": "light"
     },
     "output_type": "display_data"
    }
   ],
   "source": [
    "colors = ['red', 'green', 'blue', 'yellow', 'black']\n",
    "clusters = u_s1['cluster_km'].unique()\n",
    "plt.figure(figsize=(12,8))\n",
    "for _,i in zip(clusters, colors):\n",
    "    fig = sns.histplot(\n",
    "        x=u_s1[u_s1['cluster_km'] == _]['event_freq_per_minute'], \n",
    "        data=u_s1[u_s1['cluster_km'] == _], \n",
    "        element='poly', \n",
    "        color=i, \n",
    "        alpha=0.1\n",
    "    )\n",
    "fig.legend(\n",
    "    labels=['cluster_0','cluster_1','cluster_2','cluster_3','cluster_4']\n",
    "    )\n",
    "plt.title('Распределение частоты событий в минуту по сегментам')\n",
    "plt.xlim(0, 10)\n",
    "plt.show()"
   ]
  },
  {
   "cell_type": "markdown",
   "id": "b3164d86",
   "metadata": {
    "id": "b3164d86"
   },
   "source": [
    "- Большинство сессий проходит с частотой событий до 7.5 соб/мин\n",
    "- Посчитаю среднее и медиану частоты событий по сегментам\n",
    "     - Среднее будет однозначно оттянуто самыми резкими пользователями: вот заодно и посомтрю, где их больше"
   ]
  },
  {
   "cell_type": "code",
   "execution_count": 149,
   "id": "e7a593bf",
   "metadata": {
    "executionInfo": {
     "elapsed": 8,
     "status": "ok",
     "timestamp": 1650539010456,
     "user": {
      "displayName": "Vadim Selin",
      "userId": "13742755250186020674"
     },
     "user_tz": -180
    },
    "id": "e7a593bf"
   },
   "outputs": [],
   "source": [
    "# fpc = frequency_per_clasters\n",
    "fpc = (\n",
    "    u_s1.pivot_table(\n",
    "        index='cluster_km', \n",
    "        values='event_freq_per_minute', \n",
    "        aggfunc=['count','mean', 'median']\n",
    "    )\n",
    ")"
   ]
  },
  {
   "cell_type": "code",
   "execution_count": 150,
   "id": "6d09067c",
   "metadata": {
    "executionInfo": {
     "elapsed": 7,
     "status": "ok",
     "timestamp": 1650539010456,
     "user": {
      "displayName": "Vadim Selin",
      "userId": "13742755250186020674"
     },
     "user_tz": -180
    },
    "id": "6d09067c"
   },
   "outputs": [],
   "source": [
    "fpc.columns = ['_'.join(col).strip() for col in fpc.columns.values]"
   ]
  },
  {
   "cell_type": "code",
   "execution_count": 151,
   "id": "0f4ae4e8",
   "metadata": {
    "colab": {
     "base_uri": "https://localhost:8080/",
     "height": 237
    },
    "executionInfo": {
     "elapsed": 7,
     "status": "ok",
     "timestamp": 1650539010456,
     "user": {
      "displayName": "Vadim Selin",
      "userId": "13742755250186020674"
     },
     "user_tz": -180
    },
    "id": "0f4ae4e8",
    "outputId": "83f33a43-8206-4fcd-c4d3-2d656f343ba8"
   },
   "outputs": [
    {
     "data": {
      "text/html": [
       "<div>\n",
       "<style scoped>\n",
       "    .dataframe tbody tr th:only-of-type {\n",
       "        vertical-align: middle;\n",
       "    }\n",
       "\n",
       "    .dataframe tbody tr th {\n",
       "        vertical-align: top;\n",
       "    }\n",
       "\n",
       "    .dataframe thead th {\n",
       "        text-align: right;\n",
       "    }\n",
       "</style>\n",
       "<table border=\"1\" class=\"dataframe\">\n",
       "  <thead>\n",
       "    <tr style=\"text-align: right;\">\n",
       "      <th></th>\n",
       "      <th>count_event_freq_per_minute</th>\n",
       "      <th>mean_event_freq_per_minute</th>\n",
       "      <th>median_event_freq_per_minute</th>\n",
       "    </tr>\n",
       "    <tr>\n",
       "      <th>cluster_km</th>\n",
       "      <th></th>\n",
       "      <th></th>\n",
       "      <th></th>\n",
       "    </tr>\n",
       "  </thead>\n",
       "  <tbody>\n",
       "    <tr>\n",
       "      <th>0</th>\n",
       "      <td>1672</td>\n",
       "      <td>3.791430</td>\n",
       "      <td>0.909091</td>\n",
       "    </tr>\n",
       "    <tr>\n",
       "      <th>1</th>\n",
       "      <td>5251</td>\n",
       "      <td>2.300302</td>\n",
       "      <td>0.851613</td>\n",
       "    </tr>\n",
       "    <tr>\n",
       "      <th>2</th>\n",
       "      <td>1437</td>\n",
       "      <td>4.553771</td>\n",
       "      <td>1.363636</td>\n",
       "    </tr>\n",
       "    <tr>\n",
       "      <th>3</th>\n",
       "      <td>1284</td>\n",
       "      <td>5.281118</td>\n",
       "      <td>1.166940</td>\n",
       "    </tr>\n",
       "    <tr>\n",
       "      <th>4</th>\n",
       "      <td>442</td>\n",
       "      <td>9.000781</td>\n",
       "      <td>1.481481</td>\n",
       "    </tr>\n",
       "  </tbody>\n",
       "</table>\n",
       "</div>"
      ],
      "text/plain": [
       "            count_event_freq_per_minute  mean_event_freq_per_minute  \\\n",
       "cluster_km                                                            \n",
       "0                                  1672                    3.791430   \n",
       "1                                  5251                    2.300302   \n",
       "2                                  1437                    4.553771   \n",
       "3                                  1284                    5.281118   \n",
       "4                                   442                    9.000781   \n",
       "\n",
       "            median_event_freq_per_minute  \n",
       "cluster_km                                \n",
       "0                               0.909091  \n",
       "1                               0.851613  \n",
       "2                               1.363636  \n",
       "3                               1.166940  \n",
       "4                               1.481481  "
      ]
     },
     "execution_count": 151,
     "metadata": {},
     "output_type": "execute_result"
    }
   ],
   "source": [
    "fpc"
   ]
  },
  {
   "cell_type": "code",
   "execution_count": 152,
   "id": "779ba2a0",
   "metadata": {
    "colab": {
     "base_uri": "https://localhost:8080/",
     "height": 513
    },
    "executionInfo": {
     "elapsed": 7,
     "status": "ok",
     "timestamp": 1650539010457,
     "user": {
      "displayName": "Vadim Selin",
      "userId": "13742755250186020674"
     },
     "user_tz": -180
    },
    "id": "779ba2a0",
    "outputId": "0652e5b7-3bef-4d41-a65a-4c890505d4e1"
   },
   "outputs": [
    {
     "data": {
      "image/png": "[encoded data removed]",
      "text/plain": [
       "<Figure size 864x576 with 1 Axes>"
      ]
     },
     "metadata": {
      "needs_background": "light"
     },
     "output_type": "display_data"
    }
   ],
   "source": [
    "plt.figure(figsize=(12,8))\n",
    "fig = sns.barplot(x=fpc.index, y=\"mean_event_freq_per_minute\", data=fpc, alpha=0.5)\n",
    "fig = sns.barplot(x=fpc.index, y=\"median_event_freq_per_minute\", data=fpc)\n",
    "for p in fig.patches:\n",
    "    fig.annotate(format(p.get_height(), '.1f'), \n",
    "                   (p.get_x() + p.get_width() / 2., p.get_height()), \n",
    "                   ha = 'center', va = 'center', \n",
    "                   xytext = (0, 9), \n",
    "                   textcoords = 'offset points')\n",
    "plt.ylabel('Частота, соб/мин.')\n",
    "plt.xlabel('Сегмент пользователей')\n",
    "plt.title('Средние (светлые) и медианные значения частоты событий в минуту по сегментам')\n",
    "plt.show()"
   ]
  },
  {
   "cell_type": "markdown",
   "id": "70b009ad",
   "metadata": {
    "id": "70b009ad"
   },
   "source": [
    "- Примечательно, что пользователи с самой длинной в среднем сессией обладают самыми низкими частотами событий в минуту\n",
    "    - Ребята просто медленнее думают, поэтому в среднем больше сидят\n",
    "- Выделяется 2-й сегмент, у которого и сессия достаточно длинная и частота событий в минуту одна из самых высоких (и медиана и среднее)\n",
    "    - Одни из самых активных пользоватлей по частоте событий и длительности сессии пока получаются в сегменте 2\n",
    "    - Посмотрю на их конверсию и конверсию остальных сегментов в целевое цействие `contacts_show`"
   ]
  },
  {
   "cell_type": "markdown",
   "id": "d250e1fa",
   "metadata": {
    "id": "d250e1fa"
   },
   "source": [
    "## Рассчитать и сравнить между кластерами конверсию в целевое действие `contacts_show`"
   ]
  },
  {
   "cell_type": "markdown",
   "id": "7d95a0ac",
   "metadata": {
    "id": "7d95a0ac"
   },
   "source": [
    "- Для начала определю, что именно я понимаю под конверсией в целевое действие в данной задаче\n",
    "    - Поскольку мы обладаем ретроспективными данными почти за месяц, многие пользователи возвращались неоднократно\n",
    "    - События, которые они совершали повторялись\n",
    "    - Поэтому конверсию по сегментам получу следующим образом\n",
    "        - Выясню, сколько сессий было совершено в каждом сегменте\n",
    "        - Узнаю, сколько было совершено `contacts_show` в каждом сегменте\n",
    "        - Расчитаю их отношение и увижу в каком сегменте пользователи более склонны к совершению покупки"
   ]
  },
  {
   "cell_type": "markdown",
   "id": "57d46449",
   "metadata": {
    "id": "57d46449"
   },
   "source": [
    "- Получу максимальный порядковый номер сессиии для каждого пользователя. Сохраню при этом сегмент даннго пользователя"
   ]
  },
  {
   "cell_type": "code",
   "execution_count": 153,
   "id": "43a0e559",
   "metadata": {
    "executionInfo": {
     "elapsed": 7,
     "status": "ok",
     "timestamp": 1650539010457,
     "user": {
      "displayName": "Vadim Selin",
      "userId": "13742755250186020674"
     },
     "user_tz": -180
    },
    "id": "43a0e559"
   },
   "outputs": [],
   "source": [
    "session_cnt = df.groupby(['cluster_km', 'user_id'], as_index=False)['session_number'].max()"
   ]
  },
  {
   "cell_type": "code",
   "execution_count": 154,
   "id": "929b78b9",
   "metadata": {
    "executionInfo": {
     "elapsed": 6,
     "status": "ok",
     "timestamp": 1650539010457,
     "user": {
      "displayName": "Vadim Selin",
      "userId": "13742755250186020674"
     },
     "user_tz": -180
    },
    "id": "929b78b9"
   },
   "outputs": [],
   "source": [
    "session_cnt = session_cnt.rename(columns={'session_number':'session_cnt'})"
   ]
  },
  {
   "cell_type": "markdown",
   "id": "e68b5b3a",
   "metadata": {
    "id": "e68b5b3a"
   },
   "source": [
    "- Поскольку нумерация всех сессий для всех пользователей начиналась с нуля, прибавлю `1` ко всем значениям `session_cnt` и получу точное количество сессий каждого пользователя, и каждого сегмента"
   ]
  },
  {
   "cell_type": "code",
   "execution_count": 155,
   "id": "b6775dbc",
   "metadata": {
    "executionInfo": {
     "elapsed": 705,
     "status": "ok",
     "timestamp": 1650539011156,
     "user": {
      "displayName": "Vadim Selin",
      "userId": "13742755250186020674"
     },
     "user_tz": -180
    },
    "id": "b6775dbc"
   },
   "outputs": [],
   "source": [
    "session_cnt['session_cnt'] = session_cnt['session_cnt'] + 1"
   ]
  },
  {
   "cell_type": "markdown",
   "id": "9283c83b",
   "metadata": {
    "id": "9283c83b"
   },
   "source": [
    "- Сгруппирую по сегментам и сложу получившееся у каждого пользователя число сессий в рамках сегмента\n",
    "    - так получу число сессий в каждом сегменте за период записи лога"
   ]
  },
  {
   "cell_type": "code",
   "execution_count": 156,
   "id": "647090cb",
   "metadata": {
    "executionInfo": {
     "elapsed": 14,
     "status": "ok",
     "timestamp": 1650539011156,
     "user": {
      "displayName": "Vadim Selin",
      "userId": "13742755250186020674"
     },
     "user_tz": -180
    },
    "id": "647090cb"
   },
   "outputs": [],
   "source": [
    "session_clusters_cnt = session_cnt.groupby('cluster_km',as_index=False).agg({'session_cnt': 'sum'})"
   ]
  },
  {
   "cell_type": "code",
   "execution_count": 157,
   "id": "2e626571",
   "metadata": {
    "colab": {
     "base_uri": "https://localhost:8080/",
     "height": 206
    },
    "executionInfo": {
     "elapsed": 13,
     "status": "ok",
     "timestamp": 1650539011156,
     "user": {
      "displayName": "Vadim Selin",
      "userId": "13742755250186020674"
     },
     "user_tz": -180
    },
    "id": "2e626571",
    "outputId": "a8992406-1d54-4c5d-edcc-34b6d6f1b774"
   },
   "outputs": [
    {
     "data": {
      "text/html": [
       "<div>\n",
       "<style scoped>\n",
       "    .dataframe tbody tr th:only-of-type {\n",
       "        vertical-align: middle;\n",
       "    }\n",
       "\n",
       "    .dataframe tbody tr th {\n",
       "        vertical-align: top;\n",
       "    }\n",
       "\n",
       "    .dataframe thead th {\n",
       "        text-align: right;\n",
       "    }\n",
       "</style>\n",
       "<table border=\"1\" class=\"dataframe\">\n",
       "  <thead>\n",
       "    <tr style=\"text-align: right;\">\n",
       "      <th></th>\n",
       "      <th>cluster_km</th>\n",
       "      <th>session_cnt</th>\n",
       "    </tr>\n",
       "  </thead>\n",
       "  <tbody>\n",
       "    <tr>\n",
       "      <th>0</th>\n",
       "      <td>0</td>\n",
       "      <td>2665.0</td>\n",
       "    </tr>\n",
       "    <tr>\n",
       "      <th>1</th>\n",
       "      <td>1</td>\n",
       "      <td>7150.0</td>\n",
       "    </tr>\n",
       "    <tr>\n",
       "      <th>2</th>\n",
       "      <td>2</td>\n",
       "      <td>1749.0</td>\n",
       "    </tr>\n",
       "    <tr>\n",
       "      <th>3</th>\n",
       "      <td>3</td>\n",
       "      <td>1913.0</td>\n",
       "    </tr>\n",
       "    <tr>\n",
       "      <th>4</th>\n",
       "      <td>4</td>\n",
       "      <td>648.0</td>\n",
       "    </tr>\n",
       "  </tbody>\n",
       "</table>\n",
       "</div>"
      ],
      "text/plain": [
       "   cluster_km  session_cnt\n",
       "0           0       2665.0\n",
       "1           1       7150.0\n",
       "2           2       1749.0\n",
       "3           3       1913.0\n",
       "4           4        648.0"
      ]
     },
     "execution_count": 157,
     "metadata": {},
     "output_type": "execute_result"
    }
   ],
   "source": [
    "session_clusters_cnt"
   ]
  },
  {
   "cell_type": "markdown",
   "id": "3f120593",
   "metadata": {
    "id": "3f120593"
   },
   "source": [
    "- Теперь найду, сколько было именно событий `contacts_show` за весь исследуемый период по сегментам.\n",
    "    - Потому что даже если просмотров контактов в одной сессии было несколько, важно учесть их все"
   ]
  },
  {
   "cell_type": "code",
   "execution_count": 158,
   "id": "f2866fde",
   "metadata": {
    "executionInfo": {
     "elapsed": 14,
     "status": "ok",
     "timestamp": 1650539011157,
     "user": {
      "displayName": "Vadim Selin",
      "userId": "13742755250186020674"
     },
     "user_tz": -180
    },
    "id": "f2866fde"
   },
   "outputs": [],
   "source": [
    "contacts_show = (\n",
    "    df[df['event_name'] == 'contacts_show']\n",
    "    .groupby('cluster_km',as_index=False)\n",
    "    .agg({'user_id': 'count'})\n",
    ")"
   ]
  },
  {
   "cell_type": "code",
   "execution_count": 159,
   "id": "9c73de57",
   "metadata": {
    "executionInfo": {
     "elapsed": 13,
     "status": "ok",
     "timestamp": 1650539011157,
     "user": {
      "displayName": "Vadim Selin",
      "userId": "13742755250186020674"
     },
     "user_tz": -180
    },
    "id": "9c73de57"
   },
   "outputs": [],
   "source": [
    "contacts_show = contacts_show.rename(columns={'user_id':'contacts_show'})"
   ]
  },
  {
   "cell_type": "markdown",
   "id": "bd661961",
   "metadata": {
    "id": "bd661961"
   },
   "source": [
    "- Получу число всех событий по кластерам"
   ]
  },
  {
   "cell_type": "code",
   "execution_count": 160,
   "id": "262dce1e",
   "metadata": {
    "executionInfo": {
     "elapsed": 13,
     "status": "ok",
     "timestamp": 1650539011157,
     "user": {
      "displayName": "Vadim Selin",
      "userId": "13742755250186020674"
     },
     "user_tz": -180
    },
    "id": "262dce1e"
   },
   "outputs": [],
   "source": [
    "event_cluster_cnt = df.groupby('cluster_km', as_index=False)['user_id'].count()"
   ]
  },
  {
   "cell_type": "code",
   "execution_count": 161,
   "id": "8ae29be4",
   "metadata": {
    "executionInfo": {
     "elapsed": 13,
     "status": "ok",
     "timestamp": 1650539011157,
     "user": {
      "displayName": "Vadim Selin",
      "userId": "13742755250186020674"
     },
     "user_tz": -180
    },
    "id": "8ae29be4"
   },
   "outputs": [],
   "source": [
    "event_cluster_cnt = event_cluster_cnt.rename(columns={'user_id':'event_cnt'})"
   ]
  },
  {
   "cell_type": "code",
   "execution_count": 162,
   "id": "729415fd",
   "metadata": {
    "executionInfo": {
     "elapsed": 14,
     "status": "ok",
     "timestamp": 1650539011158,
     "user": {
      "displayName": "Vadim Selin",
      "userId": "13742755250186020674"
     },
     "user_tz": -180
    },
    "id": "729415fd"
   },
   "outputs": [],
   "source": [
    "cluster_cr = (\n",
    "    contacts_show.merge(session_clusters_cnt, how='left', on='cluster_km')\n",
    "    .merge(event_cluster_cnt, how='left', on='cluster_km')\n",
    ")"
   ]
  },
  {
   "cell_type": "code",
   "execution_count": 163,
   "id": "fd3b449e",
   "metadata": {
    "colab": {
     "base_uri": "https://localhost:8080/",
     "height": 206
    },
    "executionInfo": {
     "elapsed": 14,
     "status": "ok",
     "timestamp": 1650539011158,
     "user": {
      "displayName": "Vadim Selin",
      "userId": "13742755250186020674"
     },
     "user_tz": -180
    },
    "id": "fd3b449e",
    "outputId": "7feb95e2-24fb-4ed2-ab7c-7b0242acd06e"
   },
   "outputs": [
    {
     "data": {
      "text/html": [
       "<div>\n",
       "<style scoped>\n",
       "    .dataframe tbody tr th:only-of-type {\n",
       "        vertical-align: middle;\n",
       "    }\n",
       "\n",
       "    .dataframe tbody tr th {\n",
       "        vertical-align: top;\n",
       "    }\n",
       "\n",
       "    .dataframe thead th {\n",
       "        text-align: right;\n",
       "    }\n",
       "</style>\n",
       "<table border=\"1\" class=\"dataframe\">\n",
       "  <thead>\n",
       "    <tr style=\"text-align: right;\">\n",
       "      <th></th>\n",
       "      <th>cluster_km</th>\n",
       "      <th>contacts_show</th>\n",
       "      <th>session_cnt</th>\n",
       "      <th>event_cnt</th>\n",
       "    </tr>\n",
       "  </thead>\n",
       "  <tbody>\n",
       "    <tr>\n",
       "      <th>0</th>\n",
       "      <td>0</td>\n",
       "      <td>366</td>\n",
       "      <td>2665.0</td>\n",
       "      <td>10808</td>\n",
       "    </tr>\n",
       "    <tr>\n",
       "      <th>1</th>\n",
       "      <td>1</td>\n",
       "      <td>2395</td>\n",
       "      <td>7150.0</td>\n",
       "      <td>41708</td>\n",
       "    </tr>\n",
       "    <tr>\n",
       "      <th>2</th>\n",
       "      <td>2</td>\n",
       "      <td>187</td>\n",
       "      <td>1749.0</td>\n",
       "      <td>13148</td>\n",
       "    </tr>\n",
       "    <tr>\n",
       "      <th>3</th>\n",
       "      <td>3</td>\n",
       "      <td>256</td>\n",
       "      <td>1913.0</td>\n",
       "      <td>6130</td>\n",
       "    </tr>\n",
       "    <tr>\n",
       "      <th>4</th>\n",
       "      <td>4</td>\n",
       "      <td>1325</td>\n",
       "      <td>648.0</td>\n",
       "      <td>2403</td>\n",
       "    </tr>\n",
       "  </tbody>\n",
       "</table>\n",
       "</div>"
      ],
      "text/plain": [
       "   cluster_km  contacts_show  session_cnt  event_cnt\n",
       "0           0            366       2665.0      10808\n",
       "1           1           2395       7150.0      41708\n",
       "2           2            187       1749.0      13148\n",
       "3           3            256       1913.0       6130\n",
       "4           4           1325        648.0       2403"
      ]
     },
     "execution_count": 163,
     "metadata": {},
     "output_type": "execute_result"
    }
   ],
   "source": [
    "cluster_cr "
   ]
  },
  {
   "cell_type": "markdown",
   "id": "15736f89",
   "metadata": {
    "id": "15736f89"
   },
   "source": [
    "1. Посчитаю отношение числа просмотров контактов к числу сессий по кластерам `cr_session`\n",
    "    - Это поможет понять в каком из кластеров потенциально больше порцент сделок после сессий\n",
    "2. Следом посчитаю отношение числа просмотров контактов к числу всех событий по кластерам `cr_events`\n",
    "    - Первая версия показывает конверсию по сеансам, но также должна и учитывать и количество конверсионных событий\n",
    "    - Вторая просто отражает связь конверсионных событий с общим числом пользоватльских событий."
   ]
  },
  {
   "cell_type": "code",
   "execution_count": 164,
   "id": "831395ea",
   "metadata": {
    "executionInfo": {
     "elapsed": 13,
     "status": "ok",
     "timestamp": 1650539011158,
     "user": {
      "displayName": "Vadim Selin",
      "userId": "13742755250186020674"
     },
     "user_tz": -180
    },
    "id": "831395ea"
   },
   "outputs": [],
   "source": [
    "cluster_cr['cr_session'] = cluster_cr['contacts_show'] / cluster_cr['session_cnt']"
   ]
  },
  {
   "cell_type": "code",
   "execution_count": 165,
   "id": "34f46413",
   "metadata": {
    "executionInfo": {
     "elapsed": 13,
     "status": "ok",
     "timestamp": 1650539011158,
     "user": {
      "displayName": "Vadim Selin",
      "userId": "13742755250186020674"
     },
     "user_tz": -180
    },
    "id": "34f46413"
   },
   "outputs": [],
   "source": [
    "cluster_cr['cr_events'] = cluster_cr['contacts_show'] / cluster_cr['event_cnt']"
   ]
  },
  {
   "cell_type": "code",
   "execution_count": 166,
   "id": "7a682c3c",
   "metadata": {
    "colab": {
     "base_uri": "https://localhost:8080/",
     "height": 206
    },
    "executionInfo": {
     "elapsed": 13,
     "status": "ok",
     "timestamp": 1650539011159,
     "user": {
      "displayName": "Vadim Selin",
      "userId": "13742755250186020674"
     },
     "user_tz": -180
    },
    "id": "7a682c3c",
    "outputId": "68ff5476-a720-48fa-8698-3b6bcd9715c0"
   },
   "outputs": [
    {
     "data": {
      "text/html": [
       "<div>\n",
       "<style scoped>\n",
       "    .dataframe tbody tr th:only-of-type {\n",
       "        vertical-align: middle;\n",
       "    }\n",
       "\n",
       "    .dataframe tbody tr th {\n",
       "        vertical-align: top;\n",
       "    }\n",
       "\n",
       "    .dataframe thead th {\n",
       "        text-align: right;\n",
       "    }\n",
       "</style>\n",
       "<table border=\"1\" class=\"dataframe\">\n",
       "  <thead>\n",
       "    <tr style=\"text-align: right;\">\n",
       "      <th></th>\n",
       "      <th>cluster_km</th>\n",
       "      <th>contacts_show</th>\n",
       "      <th>session_cnt</th>\n",
       "      <th>event_cnt</th>\n",
       "      <th>cr_session</th>\n",
       "      <th>cr_events</th>\n",
       "    </tr>\n",
       "  </thead>\n",
       "  <tbody>\n",
       "    <tr>\n",
       "      <th>0</th>\n",
       "      <td>0</td>\n",
       "      <td>366</td>\n",
       "      <td>2665.0</td>\n",
       "      <td>10808</td>\n",
       "      <td>0.137336</td>\n",
       "      <td>0.033864</td>\n",
       "    </tr>\n",
       "    <tr>\n",
       "      <th>1</th>\n",
       "      <td>1</td>\n",
       "      <td>2395</td>\n",
       "      <td>7150.0</td>\n",
       "      <td>41708</td>\n",
       "      <td>0.334965</td>\n",
       "      <td>0.057423</td>\n",
       "    </tr>\n",
       "    <tr>\n",
       "      <th>2</th>\n",
       "      <td>2</td>\n",
       "      <td>187</td>\n",
       "      <td>1749.0</td>\n",
       "      <td>13148</td>\n",
       "      <td>0.106918</td>\n",
       "      <td>0.014223</td>\n",
       "    </tr>\n",
       "    <tr>\n",
       "      <th>3</th>\n",
       "      <td>3</td>\n",
       "      <td>256</td>\n",
       "      <td>1913.0</td>\n",
       "      <td>6130</td>\n",
       "      <td>0.133821</td>\n",
       "      <td>0.041762</td>\n",
       "    </tr>\n",
       "    <tr>\n",
       "      <th>4</th>\n",
       "      <td>4</td>\n",
       "      <td>1325</td>\n",
       "      <td>648.0</td>\n",
       "      <td>2403</td>\n",
       "      <td>2.044753</td>\n",
       "      <td>0.551394</td>\n",
       "    </tr>\n",
       "  </tbody>\n",
       "</table>\n",
       "</div>"
      ],
      "text/plain": [
       "   cluster_km  contacts_show  session_cnt  event_cnt  cr_session  cr_events\n",
       "0           0            366       2665.0      10808    0.137336   0.033864\n",
       "1           1           2395       7150.0      41708    0.334965   0.057423\n",
       "2           2            187       1749.0      13148    0.106918   0.014223\n",
       "3           3            256       1913.0       6130    0.133821   0.041762\n",
       "4           4           1325        648.0       2403    2.044753   0.551394"
      ]
     },
     "execution_count": 166,
     "metadata": {},
     "output_type": "execute_result"
    }
   ],
   "source": [
    "cluster_cr"
   ]
  },
  {
   "cell_type": "code",
   "execution_count": 167,
   "id": "a0c3409c",
   "metadata": {
    "colab": {
     "base_uri": "https://localhost:8080/",
     "height": 513
    },
    "executionInfo": {
     "elapsed": 13,
     "status": "ok",
     "timestamp": 1650539011159,
     "user": {
      "displayName": "Vadim Selin",
      "userId": "13742755250186020674"
     },
     "user_tz": -180
    },
    "id": "a0c3409c",
    "outputId": "cbb811a1-83e0-44a8-a9e3-115a73caba6b"
   },
   "outputs": [
    {
     "data": {
      "image/png": "[encoded data removed]",
      "text/plain": [
       "<Figure size 864x576 with 1 Axes>"
      ]
     },
     "metadata": {
      "needs_background": "light"
     },
     "output_type": "display_data"
    }
   ],
   "source": [
    "plt.figure(figsize=(12,8))\n",
    "fig = sns.barplot(x=cluster_cr.index, y=\"cr_session\", data=cluster_cr)\n",
    "for p in fig.patches:\n",
    "    fig.annotate(format(p.get_height(), '.2f'), \n",
    "                   (p.get_x() + p.get_width() / 2., p.get_height()), \n",
    "                   ha = 'center', va = 'center', \n",
    "                   xytext = (0, 9), \n",
    "                   textcoords = 'offset points')\n",
    "plt.ylabel('Конверсия в целевое действие/сессия')\n",
    "plt.xlabel('Сегмент пользователей')\n",
    "plt.title('Конверсия в целевое действие/сессия по сегментам')\n",
    "plt.show()"
   ]
  },
  {
   "cell_type": "markdown",
   "id": "a2a5c609",
   "metadata": {
    "id": "a2a5c609"
   },
   "source": [
    "- Теперь выведу график с конверсией из любого события в целевое событие по сегментам.\n",
    "- Соотношения чисел похожи по масштабам, поэтому график будет примерно тот-же."
   ]
  },
  {
   "cell_type": "code",
   "execution_count": 168,
   "id": "f6d7a709",
   "metadata": {
    "colab": {
     "base_uri": "https://localhost:8080/",
     "height": 513
    },
    "executionInfo": {
     "elapsed": 12,
     "status": "ok",
     "timestamp": 1650539011159,
     "user": {
      "displayName": "Vadim Selin",
      "userId": "13742755250186020674"
     },
     "user_tz": -180
    },
    "id": "f6d7a709",
    "outputId": "b31f3a99-765d-42c7-b239-6fd5f9075920"
   },
   "outputs": [
    {
     "data": {
      "image/png": "[encoded data removed]",
      "text/plain": [
       "<Figure size 864x576 with 1 Axes>"
      ]
     },
     "metadata": {
      "needs_background": "light"
     },
     "output_type": "display_data"
    }
   ],
   "source": [
    "plt.figure(figsize=(12,8))\n",
    "fig = sns.barplot(x=cluster_cr.index, y=\"cr_events\", data=cluster_cr)\n",
    "for p in fig.patches:\n",
    "    fig.annotate(format(p.get_height(), '.2%'), \n",
    "                   (p.get_x() + p.get_width() / 2., p.get_height()), \n",
    "                   ha = 'center', va = 'center', \n",
    "                   xytext = (0, 9), \n",
    "                   textcoords = 'offset points')\n",
    "plt.ylabel('Конверсия в целевое действие/все события')\n",
    "plt.xlabel('Сегмент пользователей')\n",
    "plt.title('Конверсия в целевое действие/все события по сегментам')\n",
    "plt.show()"
   ]
  },
  {
   "cell_type": "markdown",
   "id": "43347819",
   "metadata": {
    "id": "43347819"
   },
   "source": [
    "- Лидирует 4-й сегмент с наибольшей долей целевых событий на сессию и на общее число событий этого сегмента\n",
    "- В прошлом пункте при рассчёте средней частоты событий в минуту по сегментам, у 4-го эта частота была наибольшей:\n",
    "    - Вырисовывается сценнарий использоватния:\n",
    "        - Пользователи приходят в приложение ненадолго, в среднем 283 секунды\n",
    "        - Совершают события с самой высокой средней частотой 9 с/мин\n",
    "        - Совершают пропорционально большинство целевых действий и относительно сеансов и относительно всех событий этих пользователей.\n",
    "- 4-й сегмент самый малочисленный, но самый активный с позиции совершения `contacts_show`\n",
    "    - Вероятно, в этом сегменте оказались те пользователи, для которых покупка товаров через приложение - обычное рутинное дело.\n",
    "    - Для них стоит проводить отдельные тесты по эффективности подбора `tips_show`, с целью выявления лучшего алгоритма рекомендаций, который положительно влияет на рост коверсии (как относительно сессии, так и относительно всех совершённых событий).\n",
    "- Также неплохой конверсией обладает самый многочисленный сегмент 1-ый:\n",
    "\n",
    "    - 5,74% всех их событий - просмотр контактов.\n",
    "    - 33% их сессий включает просмотр контактов.\n",
    "    - Тест алгоритма подбора `tips_show` (и его влияния на `cr`) для этого сегмента - также необходим, поскольку суммарное количество целевых действий этого сегмента наибольшее во всей выборке. И даже при меньшем измененеии `cr` в эторм сегменте относительно `cr` 4-го сегмента мы можем получить бОльший прирост событий `contacts_show` в абсолютном выражении.\n",
    "- Вышесказанное не означает, что остальные определённые сегменты надо оставить в стороне, это вопрос определения первоочередных приоритетов."
   ]
  },
  {
   "cell_type": "markdown",
   "id": "8aacf460",
   "metadata": {
    "id": "8aacf460"
   },
   "source": [
    "## Вывод о пользователях (на основании их метрик):\n",
    "- их ключевых характеристиках в рамках групп и возможных подходах к улучшению пользовательского опыта\n",
    "- сравнить качество объединения пользователей с помощью кластеризации и обычной сегментации по наиболее распростарнённым событиям.\n",
    "- **Выведу количество пользователей определённых алгоритмом `k-means` к каждому сегменту**"
   ]
  },
  {
   "cell_type": "code",
   "execution_count": 169,
   "id": "96415e4e",
   "metadata": {
    "colab": {
     "base_uri": "https://localhost:8080/",
     "height": 206
    },
    "executionInfo": {
     "elapsed": 13,
     "status": "ok",
     "timestamp": 1650539011160,
     "user": {
      "displayName": "Vadim Selin",
      "userId": "13742755250186020674"
     },
     "user_tz": -180
    },
    "id": "96415e4e",
    "outputId": "878846a9-b5fe-46a2-850e-40aa457e604b"
   },
   "outputs": [
    {
     "data": {
      "text/html": [
       "<div>\n",
       "<style scoped>\n",
       "    .dataframe tbody tr th:only-of-type {\n",
       "        vertical-align: middle;\n",
       "    }\n",
       "\n",
       "    .dataframe tbody tr th {\n",
       "        vertical-align: top;\n",
       "    }\n",
       "\n",
       "    .dataframe thead th {\n",
       "        text-align: right;\n",
       "    }\n",
       "</style>\n",
       "<table border=\"1\" class=\"dataframe\">\n",
       "  <thead>\n",
       "    <tr style=\"text-align: right;\">\n",
       "      <th></th>\n",
       "      <th>cluster_km</th>\n",
       "      <th>user_id</th>\n",
       "    </tr>\n",
       "  </thead>\n",
       "  <tbody>\n",
       "    <tr>\n",
       "      <th>0</th>\n",
       "      <td>0</td>\n",
       "      <td>703</td>\n",
       "    </tr>\n",
       "    <tr>\n",
       "      <th>1</th>\n",
       "      <td>1</td>\n",
       "      <td>2113</td>\n",
       "    </tr>\n",
       "    <tr>\n",
       "      <th>2</th>\n",
       "      <td>2</td>\n",
       "      <td>634</td>\n",
       "    </tr>\n",
       "    <tr>\n",
       "      <th>3</th>\n",
       "      <td>3</td>\n",
       "      <td>627</td>\n",
       "    </tr>\n",
       "    <tr>\n",
       "      <th>4</th>\n",
       "      <td>4</td>\n",
       "      <td>216</td>\n",
       "    </tr>\n",
       "  </tbody>\n",
       "</table>\n",
       "</div>"
      ],
      "text/plain": [
       "   cluster_km  user_id\n",
       "0           0      703\n",
       "1           1     2113\n",
       "2           2      634\n",
       "3           3      627\n",
       "4           4      216"
      ]
     },
     "execution_count": 169,
     "metadata": {},
     "output_type": "execute_result"
    }
   ],
   "source": [
    "df.groupby('cluster_km', as_index=False)['user_id'].nunique()"
   ]
  },
  {
   "cell_type": "markdown",
   "id": "4fee69f0",
   "metadata": {
    "id": "4fee69f0"
   },
   "source": [
    "- С точки зрения **`retention rate`** \n",
    "    - 0-й сегмент показывает наибольший процент удержания на все 3 последующие недели\n",
    "    - 1-й и 2-й сегменты показывают наименьшие проценты удержания. Причём у 2-го сегмента ещё самая низкая конверсия в целевое действие.\n",
    "    - На таких пользователях как раз стоит в первую очередь тестировать гипотезы по возвращению пользователей и повышению конверсии\n",
    "        - Как вариант, собрать ретроспективные данные по тем, кто всё-таки сконвертировался или более похож на тех, кто сконвертировался (если не хватает данных по конверсии), и посмотреть категории объявлений, которые они смотрели и сопоставить с теми объявлениями, на которых они(или пользователи, на которых они похожи) сконвертировались.\n",
    "        - На основе этих собранных данных тестировать систему рекомендаций, формирующую `tips_show` \n",
    "        - Усиливать (после согласования с маркетологами) рекомендации push-сообщениями и email-рассылкой.\n",
    "---\n",
    "- С точки зрения средней **длительности пользователской сессии**\n",
    "    - Пользователи 3-го и 4-го сегментов обладают наименьшей средней длительностью сессии (до 300 секунд)\n",
    "    - Но при этом они обладают далеко не самой низкой конверсей (4-го сегмент обладает самой высокой конверсией)\n",
    "        - На данном этапе исследования я бы отнёс длительность сессии к сигнальной метрике, обозначающей некую ватерлинию. Если показатели по сегментам падают ниже средних 300 секунд и при этом в целевом действии тоже просадка - тогда пользователи менее заинтересованы и не находят нужного в приложении - надо их возвращать и корректировать предложение для них.\n",
    "---\n",
    "- **Частота совершения событий** отличает пользователей сегментов практически зеркально длительности сессии\n",
    "    - Те пользователи, чьи сессии короче, совершают события с большей частотой\n",
    "    - Самая высокая частота у 4-го сегмента.\n",
    "        - В силу их самой высокой конверсии  (и по событиям и в перерасчёте на сессию), короткой сессии и высокой частоты, складывается предположение: это \"перекупщики\", которые уже приловчились к интерфейсу, и при небольшой своей численности совершают весомую долю сделок. Следует внимательно изучить этот сегмент пользователей и направить их деятельность не во вред сервису. Возможно, сделать специальные платные доп.опции мониторинга с оповещением.\n",
    "---\n",
    "- Средняя конверсия в целевое действие ` contacts_show` и выявила важнейшие различия между определёнными в `k-means` сегментами\n",
    "    - Самый конверсионный сегмент 4-й я уже обвинил в корыстном умысле и предложил их платные доп.опции\n",
    "    - Самый многочисленный сегмнет 1-й показывает вторую по порядку конверсию, которую можно и нужно растить\n",
    "        - Учитывая тот факт, что это самый большой сегмент - в нём наибольший простор для A/B-тестов по части рекомендаций в `tips_show`\n",
    "        - Также для самых медлительных участников 1-го сегмента (тех, чья частота - событие в минуту и больше) добавил бы в интерфейс подсветку наиболее оптимальных следующих нажатий на экране: мол, завис, друг? - жми сюда. Но естесственно в формате A/B теста \n",
    "     "
   ]
  },
  {
   "cell_type": "markdown",
   "id": "c973bfdf",
   "metadata": {
    "id": "c973bfdf"
   },
   "source": [
    "# Проверить статистические гипотезы"
   ]
  },
  {
   "cell_type": "markdown",
   "id": "16cd582a",
   "metadata": {
    "id": "16cd582a"
   },
   "source": [
    "## Проверить гипотезу о неравенстве  конверсий в `contacts_show` для пользователей, установивших приложение из разных истоников\n",
    "\n",
    "-  Нулевая гипотеза Н0: конверсии равны для установивших по ссылкам yandex и google\n",
    "-  Альтернативная гипотеза Н1 (двухсторонняя): конверсии не равны для установивших по ссылкам yandex и google\n",
    "-  Оценка гипотез будет проводиться с помощью `proportions_ztest`\n",
    "-  Уровень статистической значимости `alpha` задам равным `0.01`"
   ]
  },
  {
   "cell_type": "markdown",
   "id": "1d8d56ca",
   "metadata": {
    "id": "1d8d56ca"
   },
   "source": [
    "-  Посмотрю, какие источники есть и каковы масштабы выборок уникальных пользователей по источникам `yandex` и `google`"
   ]
  },
  {
   "cell_type": "code",
   "execution_count": 170,
   "id": "f193d614",
   "metadata": {
    "executionInfo": {
     "elapsed": 289,
     "status": "ok",
     "timestamp": 1650539124088,
     "user": {
      "displayName": "Vadim Selin",
      "userId": "13742755250186020674"
     },
     "user_tz": -180
    },
    "id": "f193d614"
   },
   "outputs": [],
   "source": [
    "source_users = df.groupby('source', as_index=False)['user_id'].nunique()"
   ]
  },
  {
   "cell_type": "code",
   "execution_count": 171,
   "id": "a44a8916",
   "metadata": {
    "colab": {
     "base_uri": "https://localhost:8080/",
     "height": 143
    },
    "executionInfo": {
     "elapsed": 3,
     "status": "ok",
     "timestamp": 1650539125344,
     "user": {
      "displayName": "Vadim Selin",
      "userId": "13742755250186020674"
     },
     "user_tz": -180
    },
    "id": "a44a8916",
    "outputId": "8aaf330f-0f8f-4d7d-c714-8b701880ca51"
   },
   "outputs": [
    {
     "data": {
      "text/html": [
       "<div>\n",
       "<style scoped>\n",
       "    .dataframe tbody tr th:only-of-type {\n",
       "        vertical-align: middle;\n",
       "    }\n",
       "\n",
       "    .dataframe tbody tr th {\n",
       "        vertical-align: top;\n",
       "    }\n",
       "\n",
       "    .dataframe thead th {\n",
       "        text-align: right;\n",
       "    }\n",
       "</style>\n",
       "<table border=\"1\" class=\"dataframe\">\n",
       "  <thead>\n",
       "    <tr style=\"text-align: right;\">\n",
       "      <th></th>\n",
       "      <th>source</th>\n",
       "      <th>user_id</th>\n",
       "    </tr>\n",
       "  </thead>\n",
       "  <tbody>\n",
       "    <tr>\n",
       "      <th>0</th>\n",
       "      <td>google</td>\n",
       "      <td>1129</td>\n",
       "    </tr>\n",
       "    <tr>\n",
       "      <th>1</th>\n",
       "      <td>other</td>\n",
       "      <td>1230</td>\n",
       "    </tr>\n",
       "    <tr>\n",
       "      <th>2</th>\n",
       "      <td>yandex</td>\n",
       "      <td>1934</td>\n",
       "    </tr>\n",
       "  </tbody>\n",
       "</table>\n",
       "</div>"
      ],
      "text/plain": [
       "   source  user_id\n",
       "0  google     1129\n",
       "1   other     1230\n",
       "2  yandex     1934"
      ]
     },
     "execution_count": 171,
     "metadata": {},
     "output_type": "execute_result"
    }
   ],
   "source": [
    "source_users"
   ]
  },
  {
   "cell_type": "markdown",
   "id": "yuon8Xt5zSTm",
   "metadata": {
    "id": "yuon8Xt5zSTm"
   },
   "source": [
    "- Получу количество уникальных пользователей, хотя бы раз совершивших конверсионное действие в исследуемый период. В разрезе источников."
   ]
  },
  {
   "cell_type": "code",
   "execution_count": 172,
   "id": "338c7b64",
   "metadata": {
    "executionInfo": {
     "elapsed": 272,
     "status": "ok",
     "timestamp": 1650539258071,
     "user": {
      "displayName": "Vadim Selin",
      "userId": "13742755250186020674"
     },
     "user_tz": -180
    },
    "id": "338c7b64"
   },
   "outputs": [],
   "source": [
    "source_users_cr = (\n",
    "    df[df['event_name'] == 'contacts_show']\n",
    "    .groupby('source', as_index=False)['user_id'].nunique()\n",
    ")"
   ]
  },
  {
   "cell_type": "code",
   "execution_count": 173,
   "id": "34de1a2e",
   "metadata": {
    "colab": {
     "base_uri": "https://localhost:8080/",
     "height": 143
    },
    "executionInfo": {
     "elapsed": 3,
     "status": "ok",
     "timestamp": 1650539259322,
     "user": {
      "displayName": "Vadim Selin",
      "userId": "13742755250186020674"
     },
     "user_tz": -180
    },
    "id": "34de1a2e",
    "outputId": "fc01d34b-3c4f-4d1c-9816-b7b37c5fd14c"
   },
   "outputs": [
    {
     "data": {
      "text/html": [
       "<div>\n",
       "<style scoped>\n",
       "    .dataframe tbody tr th:only-of-type {\n",
       "        vertical-align: middle;\n",
       "    }\n",
       "\n",
       "    .dataframe tbody tr th {\n",
       "        vertical-align: top;\n",
       "    }\n",
       "\n",
       "    .dataframe thead th {\n",
       "        text-align: right;\n",
       "    }\n",
       "</style>\n",
       "<table border=\"1\" class=\"dataframe\">\n",
       "  <thead>\n",
       "    <tr style=\"text-align: right;\">\n",
       "      <th></th>\n",
       "      <th>source</th>\n",
       "      <th>user_id</th>\n",
       "    </tr>\n",
       "  </thead>\n",
       "  <tbody>\n",
       "    <tr>\n",
       "      <th>0</th>\n",
       "      <td>google</td>\n",
       "      <td>275</td>\n",
       "    </tr>\n",
       "    <tr>\n",
       "      <th>1</th>\n",
       "      <td>other</td>\n",
       "      <td>228</td>\n",
       "    </tr>\n",
       "    <tr>\n",
       "      <th>2</th>\n",
       "      <td>yandex</td>\n",
       "      <td>478</td>\n",
       "    </tr>\n",
       "  </tbody>\n",
       "</table>\n",
       "</div>"
      ],
      "text/plain": [
       "   source  user_id\n",
       "0  google      275\n",
       "1   other      228\n",
       "2  yandex      478"
      ]
     },
     "execution_count": 173,
     "metadata": {},
     "output_type": "execute_result"
    }
   ],
   "source": [
    "source_users_cr"
   ]
  },
  {
   "cell_type": "markdown",
   "id": "711ec57f",
   "metadata": {
    "id": "711ec57f"
   },
   "source": [
    "- Выборки пользователей по интересующим нас источникам отличаются менее чем в 2 раза. Считаю их соизмеримыми для сравнения пропорций.\n",
    "- Поскольку сравнивать буду пропорции в z-test, подготовлю выборки для пропорций, а именно:\n",
    "    - количества сконвертировавшихся пользователей в выборках `yandex` и `google`\n",
    "    - количества всех пользователей в выборках `yandex` и `google`.\n",
    "    - **в данном случае я оцениваю конверсию именно по пользователям, а не по событиям, потому что события могут влиять друг на друга и это не будет связано с источником, откуда пришёл пользователь. А гипотеза предполагает именно проверку связи конверсии с источником.**"
   ]
  },
  {
   "cell_type": "code",
   "execution_count": 174,
   "id": "b991c0d9",
   "metadata": {
    "executionInfo": {
     "elapsed": 271,
     "status": "ok",
     "timestamp": 1650540571766,
     "user": {
      "displayName": "Vadim Selin",
      "userId": "13742755250186020674"
     },
     "user_tz": -180
    },
    "id": "b991c0d9"
   },
   "outputs": [],
   "source": [
    "# количество сконвертировавшихся пользователей в группе google\n",
    "google_cr = source_users_cr.iloc[0][1]"
   ]
  },
  {
   "cell_type": "code",
   "execution_count": 175,
   "id": "f5da0f70",
   "metadata": {
    "executionInfo": {
     "elapsed": 2,
     "status": "ok",
     "timestamp": 1650540572710,
     "user": {
      "displayName": "Vadim Selin",
      "userId": "13742755250186020674"
     },
     "user_tz": -180
    },
    "id": "f5da0f70"
   },
   "outputs": [],
   "source": [
    "# количество сконвертировавшихся пользователей в группе yandex\n",
    "yandex_cr = source_users_cr.iloc[2][1]"
   ]
  },
  {
   "cell_type": "code",
   "execution_count": 176,
   "id": "8df96b7e",
   "metadata": {
    "executionInfo": {
     "elapsed": 262,
     "status": "ok",
     "timestamp": 1650540821824,
     "user": {
      "displayName": "Vadim Selin",
      "userId": "13742755250186020674"
     },
     "user_tz": -180
    },
    "id": "8df96b7e"
   },
   "outputs": [],
   "source": [
    "# количество всех пользователей в группе google\n",
    "google_users = source_users.iloc[0][1]"
   ]
  },
  {
   "cell_type": "code",
   "execution_count": 177,
   "id": "8b63f46f",
   "metadata": {
    "executionInfo": {
     "elapsed": 2,
     "status": "ok",
     "timestamp": 1650540825404,
     "user": {
      "displayName": "Vadim Selin",
      "userId": "13742755250186020674"
     },
     "user_tz": -180
    },
    "id": "8b63f46f"
   },
   "outputs": [],
   "source": [
    "# количество всех пользователей в группе yandex\n",
    "yandex_users = source_users.iloc[2][1]"
   ]
  },
  {
   "cell_type": "code",
   "execution_count": 178,
   "id": "d17a1976",
   "metadata": {
    "executionInfo": {
     "elapsed": 273,
     "status": "ok",
     "timestamp": 1650540848277,
     "user": {
      "displayName": "Vadim Selin",
      "userId": "13742755250186020674"
     },
     "user_tz": -180
    },
    "id": "d17a1976"
   },
   "outputs": [],
   "source": [
    "zstat, pval = proportions_ztest([google_cr, yandex_cr],[google_users, yandex_users])"
   ]
  },
  {
   "cell_type": "code",
   "execution_count": 179,
   "id": "d0f1909e",
   "metadata": {
    "executionInfo": {
     "elapsed": 2,
     "status": "ok",
     "timestamp": 1650540849471,
     "user": {
      "displayName": "Vadim Selin",
      "userId": "13742755250186020674"
     },
     "user_tz": -180
    },
    "id": "d0f1909e"
   },
   "outputs": [],
   "source": [
    "alpha = 0.01"
   ]
  },
  {
   "cell_type": "code",
   "execution_count": 180,
   "id": "dc59a6ed",
   "metadata": {
    "colab": {
     "base_uri": "https://localhost:8080/"
    },
    "executionInfo": {
     "elapsed": 2,
     "status": "ok",
     "timestamp": 1650540850640,
     "user": {
      "displayName": "Vadim Selin",
      "userId": "13742755250186020674"
     },
     "user_tz": -180
    },
    "id": "dc59a6ed",
    "outputId": "715a8db8-b0c4-4559-e067-3d049b7df76f"
   },
   "outputs": [
    {
     "name": "stdout",
     "output_type": "stream",
     "text": [
      "p-значение:  0.8244316027993777\n",
      "Не получилось отвергнуть нулевую гипотезу, нет оснований считать доли разными.\n"
     ]
    }
   ],
   "source": [
    "print('p-значение: ', pval)\n",
    "if pval < alpha:\n",
    "    print('Отвергаем нулевую гипотезу: между долями есть значимая разница.')\n",
    "else:\n",
    "    print(\n",
    "        'Не получилось отвергнуть нулевую гипотезу, нет оснований считать доли разными.')"
   ]
  },
  {
   "cell_type": "code",
   "execution_count": 181,
   "id": "48373cf7",
   "metadata": {
    "colab": {
     "base_uri": "https://localhost:8080/"
    },
    "executionInfo": {
     "elapsed": 271,
     "status": "ok",
     "timestamp": 1650540923519,
     "user": {
      "displayName": "Vadim Selin",
      "userId": "13742755250186020674"
     },
     "user_tz": -180
    },
    "id": "48373cf7",
    "outputId": "6172390d-a6af-4466-a98f-f42a545e61e2"
   },
   "outputs": [
    {
     "data": {
      "text/plain": [
       "0.2436"
      ]
     },
     "execution_count": 181,
     "metadata": {},
     "output_type": "execute_result"
    }
   ],
   "source": [
    "round(google_cr/google_users, 4)"
   ]
  },
  {
   "cell_type": "code",
   "execution_count": 182,
   "id": "e6f29695",
   "metadata": {
    "colab": {
     "base_uri": "https://localhost:8080/"
    },
    "executionInfo": {
     "elapsed": 303,
     "status": "ok",
     "timestamp": 1650540931566,
     "user": {
      "displayName": "Vadim Selin",
      "userId": "13742755250186020674"
     },
     "user_tz": -180
    },
    "id": "e6f29695",
    "outputId": "74316cfe-178a-4679-bf94-1e05aca42360"
   },
   "outputs": [
    {
     "data": {
      "text/plain": [
       "0.2472"
      ]
     },
     "execution_count": 182,
     "metadata": {},
     "output_type": "execute_result"
    }
   ],
   "source": [
    "round(yandex_cr/yandex_users, 4)"
   ]
  },
  {
   "cell_type": "markdown",
   "id": "0a792473",
   "metadata": {
    "id": "0a792473"
   },
   "source": [
    "- Значения конверсии пользователей из `yandex` и `google` (в данной выборке) отличаются на десятые доли процентов.\n",
    "- Нулевую гипотезу о равенстве конверсий отвергнуть не получилось при alpha=0.01, при любом другом alpha < 0.83 это тоже не получилось бы.\n",
    "- Полученная на выборке разница может быть случайна."
   ]
  },
  {
   "cell_type": "markdown",
   "id": "c1fb49be",
   "metadata": {
    "id": "c1fb49be"
   },
   "source": [
    "## Проверить гипотезу о неравенстве  конверсий в `contacts_show` для пользователей, которые смотрели фотографии в объявлении и не смотрели\n",
    "\n",
    "-  Нулевая гипотеза Н0: конверсии равны для тех, кто совершал `photos_show` и не совершал.\n",
    "-  Альтернативная гипотеза Н1 (двухсторонняя): конверсии не равны для тех, кто совершал `photos_show` и не совершал.\n",
    "-  Оценка гипотез будет проводиться с помощью `proportions_ztest`\n",
    "-  Уровень статистической значимости `alpha` задам равным `0.01`"
   ]
  },
  {
   "cell_type": "markdown",
   "id": "0981b5e6",
   "metadata": {
    "id": "0981b5e6"
   },
   "source": [
    "- Возьму выборку пользователей, которые совершали просмотры фото и тех, кто не просматривал фото в объявлениях."
   ]
  },
  {
   "cell_type": "markdown",
   "id": "rWHvBY2P9Oa8",
   "metadata": {
    "id": "rWHvBY2P9Oa8"
   },
   "source": [
    "- Получу `user_id` всех, кто в течение записи лога хотя бы раз просматривал фото."
   ]
  },
  {
   "cell_type": "code",
   "execution_count": 183,
   "id": "qACYL2nG8fP9",
   "metadata": {
    "executionInfo": {
     "elapsed": 260,
     "status": "ok",
     "timestamp": 1650541918213,
     "user": {
      "displayName": "Vadim Selin",
      "userId": "13742755250186020674"
     },
     "user_tz": -180
    },
    "id": "qACYL2nG8fP9"
   },
   "outputs": [],
   "source": [
    "photos_show_usr = (\n",
    "    df[df['event_name'] == 'photos_show'].\n",
    "    groupby('user_id')['user_id'].nunique()\n",
    ")"
   ]
  },
  {
   "cell_type": "code",
   "execution_count": 184,
   "id": "7mn2o-DM-hW8",
   "metadata": {
    "colab": {
     "base_uri": "https://localhost:8080/"
    },
    "executionInfo": {
     "elapsed": 246,
     "status": "ok",
     "timestamp": 1650542124651,
     "user": {
      "displayName": "Vadim Selin",
      "userId": "13742755250186020674"
     },
     "user_tz": -180
    },
    "id": "7mn2o-DM-hW8",
    "outputId": "eb9b2fc2-2786-4c04-da11-a6187d371bae"
   },
   "outputs": [
    {
     "data": {
      "text/plain": [
       "user_id\n",
       "00157779-810c-4498-9e05-a1e9e3cedf93    1\n",
       "00463033-5717-4bf1-91b4-09183923b9df    1\n",
       "00551e79-152e-4441-9cf7-565d7eb04090    1\n",
       "00653802-5ff1-4071-bc17-347fc4cef569    1\n",
       "006a32d4-ee10-40dc-b237-11e0fde81cbc    1\n",
       "                                       ..\n",
       "fdcf28d9-94a7-4c3e-9912-23584858c679    1\n",
       "fe3d5753-c633-4398-b3a8-b584c4d266b2    1\n",
       "ff1554b5-919e-40b1-90bb-ee1f7f6d5846    1\n",
       "ffc01466-fdb1-4460-ae94-e800f52eb136    1\n",
       "ffe68f10-e48e-470e-be9b-eeb93128ff1a    1\n",
       "Name: user_id, Length: 1095, dtype: int64"
      ]
     },
     "execution_count": 184,
     "metadata": {},
     "output_type": "execute_result"
    }
   ],
   "source": [
    "photos_show_usr"
   ]
  },
  {
   "cell_type": "markdown",
   "id": "yZeEPXD--NXE",
   "metadata": {
    "id": "yZeEPXD--NXE"
   },
   "source": [
    "- Получу `user_id` всех, кто в течение записи лога ни разу не просматривал фото."
   ]
  },
  {
   "cell_type": "code",
   "execution_count": 185,
   "id": "ab90d912",
   "metadata": {
    "executionInfo": {
     "elapsed": 247,
     "status": "ok",
     "timestamp": 1650542090597,
     "user": {
      "displayName": "Vadim Selin",
      "userId": "13742755250186020674"
     },
     "user_tz": -180
    },
    "id": "ab90d912"
   },
   "outputs": [],
   "source": [
    "# количество всех пользователей не смотрящих на фото\n",
    "no_photos_show_usr = (\n",
    "    df[~df['user_id'].isin(photos_show_usr.index)].\n",
    "    groupby('user_id')['user_id'].nunique()\n",
    ")"
   ]
  },
  {
   "cell_type": "code",
   "execution_count": 186,
   "id": "8Dw5yC1K-dyc",
   "metadata": {
    "colab": {
     "base_uri": "https://localhost:8080/"
    },
    "executionInfo": {
     "elapsed": 274,
     "status": "ok",
     "timestamp": 1650542167893,
     "user": {
      "displayName": "Vadim Selin",
      "userId": "13742755250186020674"
     },
     "user_tz": -180
    },
    "id": "8Dw5yC1K-dyc",
    "outputId": "be072f5c-84bb-42d5-ad09-06f1c917d1b6"
   },
   "outputs": [
    {
     "data": {
      "text/plain": [
       "user_id\n",
       "0001b1d5-b74a-4cbf-aeb0-7df5947bf349    1\n",
       "004690c3-5a84-4bb7-a8af-e0c8f8fca64e    1\n",
       "00554293-7e00-4122-b898-4e892c4a7c53    1\n",
       "005fbea5-2678-406f-88a6-fbe9787e2268    1\n",
       "007d031d-5018-4e02-b7ee-72a30609173f    1\n",
       "                                       ..\n",
       "ff5c152c-bd63-4797-8fa2-29987199e76d    1\n",
       "ff82c7c7-16d6-44b1-833b-a217747b0b02    1\n",
       "ffab8d8a-30bb-424a-a3ab-0b63ebbf7b07    1\n",
       "ffcf50d9-293c-4254-8243-4890b030b238    1\n",
       "fffb9e79-b927-4dbb-9b48-7fd09b23a62b    1\n",
       "Name: user_id, Length: 3198, dtype: int64"
      ]
     },
     "execution_count": 186,
     "metadata": {},
     "output_type": "execute_result"
    }
   ],
   "source": [
    "no_photos_show_usr"
   ]
  },
  {
   "cell_type": "markdown",
   "id": "0be54053",
   "metadata": {
    "id": "0be54053"
   },
   "source": [
    "- Получу `user_id` всех, кто в течение записи лога хотя бы раз просматривал фото и совершил конверсионное действие"
   ]
  },
  {
   "cell_type": "code",
   "execution_count": 187,
   "id": "00a167c3",
   "metadata": {
    "executionInfo": {
     "elapsed": 283,
     "status": "ok",
     "timestamp": 1650542547536,
     "user": {
      "displayName": "Vadim Selin",
      "userId": "13742755250186020674"
     },
     "user_tz": -180
    },
    "id": "00a167c3"
   },
   "outputs": [],
   "source": [
    "photos_show_usr_cr = (\n",
    "    df[(df['user_id'].isin(photos_show_usr.index)) & \n",
    "       (df['event_name'] == 'contacts_show')]\n",
    "       .groupby('user_id')['user_id'].nunique()\n",
    "       )"
   ]
  },
  {
   "cell_type": "markdown",
   "id": "M_EhG1jG_jue",
   "metadata": {
    "id": "M_EhG1jG_jue"
   },
   "source": [
    "- Получу `user_id` всех, кто в течение записи лога ни разу не просматривал фото и совершил конверсионное действие"
   ]
  },
  {
   "cell_type": "code",
   "execution_count": 188,
   "id": "iCQKFWb8_jue",
   "metadata": {
    "executionInfo": {
     "elapsed": 275,
     "status": "ok",
     "timestamp": 1650542549264,
     "user": {
      "displayName": "Vadim Selin",
      "userId": "13742755250186020674"
     },
     "user_tz": -180
    },
    "id": "iCQKFWb8_jue"
   },
   "outputs": [],
   "source": [
    "no_photos_show_usr_cr = (\n",
    "    df[(df['user_id'].isin(no_photos_show_usr.index)) & \n",
    "       (df['event_name'] == 'contacts_show')]\n",
    "       .groupby('user_id')['user_id'].nunique()\n",
    "       )"
   ]
  },
  {
   "cell_type": "markdown",
   "id": "MOQ6WKFa_2zt",
   "metadata": {
    "id": "MOQ6WKFa_2zt"
   },
   "source": [
    "- Чтобы не плодить ещё дополнительные переменные на одно вычисление, в аргументы `proportion_ztest` передам соответствующие суммы полученных выборок по пользователям."
   ]
  },
  {
   "cell_type": "code",
   "execution_count": 189,
   "id": "127a19cc",
   "metadata": {
    "executionInfo": {
     "elapsed": 290,
     "status": "ok",
     "timestamp": 1650543493257,
     "user": {
      "displayName": "Vadim Selin",
      "userId": "13742755250186020674"
     },
     "user_tz": -180
    },
    "id": "127a19cc"
   },
   "outputs": [],
   "source": [
    "zstat, pval = (\n",
    "    proportions_ztest(\n",
    "        [no_photos_show_usr_cr.sum(), \n",
    "         photos_show_usr_cr.sum()],\n",
    "         [no_photos_show_usr.sum(), \n",
    "          photos_show_usr.sum()]\n",
    "          )\n",
    "    )"
   ]
  },
  {
   "cell_type": "code",
   "execution_count": 190,
   "id": "3d8ae18b",
   "metadata": {
    "colab": {
     "base_uri": "https://localhost:8080/"
    },
    "executionInfo": {
     "elapsed": 1,
     "status": "ok",
     "timestamp": 1650543494387,
     "user": {
      "displayName": "Vadim Selin",
      "userId": "13742755250186020674"
     },
     "user_tz": -180
    },
    "id": "3d8ae18b",
    "outputId": "a5f1d3c1-71bd-4c74-e58d-e6530dcf559d"
   },
   "outputs": [
    {
     "name": "stdout",
     "output_type": "stream",
     "text": [
      "p-значение:  1.3276352676036068e-13\n",
      "Отвергаем нулевую гипотезу: между долями есть значимая разница.\n"
     ]
    }
   ],
   "source": [
    "print('p-значение: ', pval)\n",
    "if pval < alpha:\n",
    "    print('Отвергаем нулевую гипотезу: между долями есть значимая разница.')\n",
    "else:\n",
    "    print(\n",
    "        'Не получилось отвергнуть нулевую гипотезу, нет оснований считать доли разными.')"
   ]
  },
  {
   "cell_type": "code",
   "execution_count": 191,
   "id": "241239ec",
   "metadata": {
    "colab": {
     "base_uri": "https://localhost:8080/"
    },
    "executionInfo": {
     "elapsed": 3,
     "status": "ok",
     "timestamp": 1650543085268,
     "user": {
      "displayName": "Vadim Selin",
      "userId": "13742755250186020674"
     },
     "user_tz": -180
    },
    "id": "241239ec",
    "outputId": "4ac928de-e411-4071-f0c3-51377b5f4d85"
   },
   "outputs": [
    {
     "data": {
      "text/plain": [
       "0.2008"
      ]
     },
     "execution_count": 191,
     "metadata": {},
     "output_type": "execute_result"
    }
   ],
   "source": [
    "round(no_photos_show_usr_cr.sum() / no_photos_show_usr.sum(), 4)"
   ]
  },
  {
   "cell_type": "code",
   "execution_count": 192,
   "id": "fc1ed10a",
   "metadata": {
    "colab": {
     "base_uri": "https://localhost:8080/"
    },
    "executionInfo": {
     "elapsed": 261,
     "status": "ok",
     "timestamp": 1650543103576,
     "user": {
      "displayName": "Vadim Selin",
      "userId": "13742755250186020674"
     },
     "user_tz": -180
    },
    "id": "fc1ed10a",
    "outputId": "04377180-9880-4683-c5da-8528b1b0e5fc"
   },
   "outputs": [
    {
     "data": {
      "text/plain": [
       "0.3096"
      ]
     },
     "execution_count": 192,
     "metadata": {},
     "output_type": "execute_result"
    }
   ],
   "source": [
    "round(photos_show_usr_cr.sum() / photos_show_usr.sum(), 4)"
   ]
  },
  {
   "cell_type": "markdown",
   "id": "bd98291b",
   "metadata": {
    "id": "bd98291b"
   },
   "source": [
    "- На имеющейся выборке конверсия отличается в пользу тех, кто просматривал фото в объявлениях.\n",
    "- Проверю ту же самую нулевую гипотезу, только альтернативная будет уже односторонней: конверсия (пропорция) в целевое событие среди тех, кто просматривает фото, больше."
   ]
  },
  {
   "cell_type": "code",
   "execution_count": 193,
   "id": "4a77d4d1",
   "metadata": {
    "executionInfo": {
     "elapsed": 271,
     "status": "ok",
     "timestamp": 1650543622948,
     "user": {
      "displayName": "Vadim Selin",
      "userId": "13742755250186020674"
     },
     "user_tz": -180
    },
    "id": "4a77d4d1"
   },
   "outputs": [],
   "source": [
    "zstat, pval = (\n",
    "    proportions_ztest(\n",
    "        [no_photos_show_usr_cr.sum(), \n",
    "         photos_show_usr_cr.sum()],\n",
    "         [no_photos_show_usr.sum(), \n",
    "          photos_show_usr.sum()],\n",
    "          alternative='smaller'\n",
    "          )\n",
    "    )"
   ]
  },
  {
   "cell_type": "code",
   "execution_count": 194,
   "id": "fdb5d502",
   "metadata": {
    "colab": {
     "base_uri": "https://localhost:8080/"
    },
    "executionInfo": {
     "elapsed": 308,
     "status": "ok",
     "timestamp": 1650543627780,
     "user": {
      "displayName": "Vadim Selin",
      "userId": "13742755250186020674"
     },
     "user_tz": -180
    },
    "id": "fdb5d502",
    "outputId": "45f85064-5fcf-4860-ba11-a192e3a24a88"
   },
   "outputs": [
    {
     "name": "stdout",
     "output_type": "stream",
     "text": [
      "p-значение:  6.638176338018034e-14\n",
      "Отвергаем нулевую гипотезу: среди тех, кто смотрит фото, доля целевых действий выше.\n"
     ]
    }
   ],
   "source": [
    "print('p-значение: ', pval)\n",
    "if pval < alpha:\n",
    "    print('Отвергаем нулевую гипотезу: среди тех, кто смотрит фото, доля целевых действий выше.')\n",
    "else:\n",
    "    print(\n",
    "        'Не получилось отвергнуть нулевую гипотезу, нет оснований считать доли разными.')"
   ]
  },
  {
   "cell_type": "markdown",
   "id": "e94a3a69",
   "metadata": {
    "id": "e94a3a69"
   },
   "source": [
    "- Доля конверсионных действий больше в сегменте пользователей, просматривающих фото (для данных из нашего лога)\n",
    "- Поэтому стоит следить за качеством загружаемых фотографий, а в перспективе, возможно разработать алгоритм для автоматической модерации изображений (как есть в рекламных сервисах)"
   ]
  },
  {
   "cell_type": "markdown",
   "id": "91679ea3",
   "metadata": {
    "id": "91679ea3"
   },
   "source": [
    "# Общий вывод по исследованию с описанием аудиторий и возможными подходами работы с ними.\n",
    "\n"
   ]
  },
  {
   "cell_type": "markdown",
   "id": "6f650c29",
   "metadata": {
    "id": "6f650c29"
   },
   "source": [
    "- Среднее `DAU` в приложении 279.\n",
    "- Среднее `WAU` составляет 1385,5\n",
    "- Со второй недели число уникальных пользователей превышает 1400.\n",
    "- Но после 3-й недели фиксирую спад.\n",
    "- Это связано с показателем `retention rate`.\n",
    "\n",
    "- За период записи лога:\n",
    "    - Мода составляет 5 событий на пользователя\n",
    "    - А максимум равен 478 событиям, что нельзя назвать аномалией на мой взгляд: это в среднем 17 событий в день. В обычной жизни многие пользуются приложениями годами на ежедневной основе, а не один раз.\n",
    "    - Даже для отдельных, наиболее щедрых на события пользователей, актуально утверждение:\n",
    "        - кто раньше начал пользоваться приложеним, тот успел больше совершить событий\n",
    "        - поэтому считать таковых пользователей аномальными и исключать из кластеризации я не буду\n",
    "---\n",
    "- В качестве алгоритма для определения числа сегмнетов пользователей в выборке избрал агломеративную иерархическую кластеризацию\n",
    "    - Результатом а стали 5 сегментов пользователей\n",
    "    - Применил алгоритм k-means с числом кластеров 5, чтобы получить вектор сегментов (присоединил его к основному датафрейму)\n",
    "---\n",
    "- При изучении соотношения числа пользователей в сегменте и количества событий ими совершёнными выяснил:\n",
    "    - Что есть сегменты с меньшим числом пользователей, но большим числом событий. Так пользователи 2-го сегмента при количестве почти равном 3-му совершили более чем в два раза больше событий. Активность полученных сегментов существенно различается.\n",
    "---\n",
    "- Коэффициент удержания `retention rate` по сегментам.    \n",
    "    - На вторую неделю жизни разница в удержании пользователей между сегментами уже существенно отличается\n",
    "    - Самые \"верные\" пользователи `0`- сегмента на протяжении всех недель демонстрируют наибольшие показатели по удержанию\n",
    "    - У самого многочисленного `1`- сегмента коэффициент удержания один из худших, особенно после третьей недели жизни когорты \n",
    "    - С этим связано падение `WAU`, замеченное после третьей недели\n",
    "    - Быстрее всех со второй недели разбегаются пользователи `2`- сегмента\n",
    "    \n",
    "         Этих ребят можно и нужно возвращать в приложение email рассылкой c лучшими подборками, сделанными на основе их поисковых действий. Тут также можно применить алгоритм машинного обучения по ретро-данным \"кто что купил и что он перед этим смотрел и какие события совершал\"\n",
    "    \n",
    "---\n",
    "\n",
    "- Пользовательские сессии определил в привязке ко времени бездействия между событиями:\n",
    "    - Если пользователь не был активен 7 и более минут - следующее за бездействием событие стартует следующую сессию\n",
    "    - Это также обусловленно количеством контента (описание, фото, карты), которое может изучать средний пользователь до совершения следующего события.\n",
    "    - Длительность сессии при этом не ограничена\n",
    "    - **Для применения этого подхода к моим данным ввёл такое допущение:**\n",
    "        - в данном логе любое самое первое событие для каждого пользователя является началом сессии, то есть нет пользователей, которые уже находились в сессии в момент начала записи лога. \n",
    "    \n",
    "---\n",
    "- Средний и медианный размеры пользовательских сессий:\n",
    "    - У самого многочисленного 1-го сегмента самые большие серднее и медианное значение длительности сеанса: 593.2с ;378с соответственно \n",
    "    - Также у этого сегмента наибольшее количество выбросов (судя по выводу `boxplot`)\n",
    "    - Хотя отбрасывать их безусловно не стоит, потому что максимальное значение в этих выбросах соответствует 2.14 часа\n",
    "    - Кто-то? может, долго искал необходимую вещь. Быть может, подержанный макбук или что-то ещё, что может требует внимания и сравнения.\n",
    "    - Также возвращаясь к `retention rate`, у этого сегмента он тоже самый низкий к 3-й неделе:\n",
    "        - Начинает закрадываться мысль, что чем дольше средняя продолжительность сеанса в сегменте, тем лучше его пользователи находят то, что им нужно, получают контакты продавца и товар. После этого они выпадают из ближайших по неделям когорт.\n",
    "    - В этой связи стоит работать над увеличением качества поиска как мотивации для увеличения средней пользовательской сессии.    \n",
    "\n",
    "\n",
    "- Большинство сессий, в которых частота событий равна или выше 1-го события в секунду (60 в минуту)\n",
    "    - Содержат в себе лишь 2 события\n",
    "    - Лишь в 5 сессиях с такой высокой частотой было совершено от 6 до 15 событий\n",
    "    - Подавляющее большинство, это всё-таки 2-3 события\n",
    "    - Это по большей части автоматические события `tips_show`, на которые могли наложиться пользовательские тапы с минимальной задержкой. Или же быстрое пролистывание фото.\n",
    "---\n",
    "\n",
    "- Частота событий в минуту (потому что сессии не имеют одинаковой размерности)\n",
    "    - Примечательно, что пользователи с самой длинной в среднем сессией (`1`-сегмент) обладают самыми низкими частотами событий в минуту (медиана на 0.9)\n",
    "    - Ребята просто медленнее выбирают, поэтому в среднем больше сидят\n",
    "    - Выделяется `2`-сегмент, у которого и сессия достаточно длинная (466.4-средняя; 289-медианна) и частота событий в минуту одна из самых высоких (и медиана 1.4 и среднее 4.6)\n",
    "    - Одни из самых активных пользоватлей по частоте событий и длительности сессии пока получаются в сегменте 2\n",
    "    \n",
    "---\n",
    "\n",
    "- Конверсия сегментов в целевое цействие `contacts_show`\n",
    "    \n",
    "    - Лидирует 4-й сегмент с наибольшей долей целевых событий на сессию и на общее число событий этого сегмента (тут показатели сногсшибательные 55.14%)\n",
    "  - В прошлом пункте при рассчёте средней частоты событий в минуту по сегментам, у 4-го эта частота была наибольшей:\n",
    "  - Вырисовывается сценнарий использоватния:\n",
    "        - Пользователи приходят в приложение ненадолго: среднее 283с, медианна 168.5с\n",
    "        - Совершают события с самой высокой частотой: среднее 9 соб/мин, медиана 1.5 соб/мин \n",
    "        - Совершают пропорционально большинство целевых действий и относительно сеансов и относительно всех событий этих пользователей.\n",
    "        - 4-й сегмент самый малочисленный, но самый активный с позиции совершения `contacts_show`\n",
    "        - Вероятно, в этом сегменте оказались те пользователи, для которых покупка товаров через приложение - обычное рутинное дело.\n",
    "        - Для них стоит проводить отдельные тесты по эффективности подбора `tips_show`, с целью выявления лучшего алгоритма рекомендаций, который положительно влияет на рост коверсии (как относительно сессии, так и относительно всех совершённых событий).\n",
    "    - Также неплохой конверсией обладает самый многочисленный сегмент 1-ый:\n",
    "        - 5,74% всех их событий - просмотр контактов.\n",
    "        - 33% их сессий включает просмотр контактов.\n",
    "        - Тест алгоритма подбора `tips_show` (и его влияния на `cr`) для этого сегмента - также необходим, поскольку суммарное количество целевых действий этого сегмента наибольшее во всей выборке. И даже при меньшем измененеии `cr` в эторм сегменте относительно `cr` 4-го сегмента мы можем получить бОльший прирост событий `contacts_show` в абсолютном выражении.\n",
    "- Вышесказанное не означает, что остальные определённые сегменты надо оставить в стороне, это вопрос определения первоочередных приоритетов.\n",
    "\n",
    "---\n",
    "- **Рекомендации для сегментов пользователей**\n",
    "    - 1-й и 2-й сегменты показывают наименьшие проценты удержания. Причём у 2-го сегмента ещё самая низкая конверсия в целевое действие.\n",
    "    - На таких пользователях как раз стоит в первую очередь тестировать гипотезы по возвращению пользователей и повышению конверсии\n",
    "    - Как вариант, собрать ретроспективные данные по тем, кто всё-таки сконвертировался или более похож на тех, кто сконвертировался (если не хватает данных по конверсии), и посмотреть категории объявлений, которые они смотрели и сопоставить с теми объявлениями, на которых они(или пользователи, на которых они похожи) сконвертировались.\n",
    "    - На основе этих собранных данных тестировать систему рекомендаций, формирующую `tips_show` \n",
    "    - Усиливать (после согласования с маркетологами) рекомендации push-сообщениями и email-рассылкой.\n",
    "---\n",
    "- С точки зрения средней **длительности пользователской сессии**\n",
    "    - Пользователи 3-го и 4-го сегментов обладают наименьшей средней длительностью сессии (до 300 секунд)\n",
    "    - Но при этом они обладают далеко не самой низкой конверсей (4-го сегмент обладает самой высокой конверсией)\n",
    "    - На данном этапе исследования я бы отнёс длительность сессии к сигнальной метрике, обозначающей некую ватерлинию. Если показатели по сегментам падают ниже средних 300 секунд и при этом в целевом действии тоже просадка - тогда пользователи менее заинтересованы и не находят нужного в приложении - надо их возвращать и корректировать предложение для них. ВОзможные подходы описал в абзаце выше.\n",
    "---\n",
    "- **Частота совершения событий** отличает пользователей сегментов практически зеркально длительности сессии\n",
    "    - Те пользователи, чьи сессии короче, совершают события с большей частотой\n",
    "    - Самая высокая частота у 4-го сегмента.\n",
    "    - В силу их самой высокой конверсии  (и по событиям и в перерасчёте на сессию), короткой сессии и высокой частоты, складывается предположение: это \"перекупщики\", которые уже приловчились к интерфейсу, и при небольшой своей численности совершают весомую долю сделок.\n",
    "    - Следует внимательно изучить этот сегмент пользователей и направить их деятельность не во вред сервису. Возможно, сделать специальные платные доп.опции мониторинга с оповещением.\n",
    "---\n",
    "- **Средняя конверсия в целевое действие** ` contacts_show` и выявила важнейшие различия между определёнными в `k-means` сегментами\n",
    "    - Самый конверсионный сегмент 4-й я уже обвинил в корыстном умысле и предложил их платные доп.опции\n",
    "    - Самый многочисленный сегмнет 1-й показывает вторую по порядку конверсию, которую можно и нужно наращивать.\n",
    "        - Учитывая тот факт, что это самый большой сегмент - в нём наибольший простор для A/B-тестов по части рекомендаций в `tips_show`\n",
    "        - Также для самых медлительных участников 1-го сегмента (тех, чья частота - событие в минуту и больше) добавил бы в интерфейс подсветку наиболее оптимальных следующих нажатий на экране: мол, завис, друг? - жми сюда. Но естесственно в формате A/B теста \n",
    "     \n",
    "---\n",
    "- **Результаты проверок статистических гипотез**\n",
    "-  Конверсия в сегментах пользователей, скачавших приложение с `google` и `yandex` не имеет статистически значимой разницы.\n",
    "    - `google_cr = 0.2436` \n",
    "    - `yandex_cr = 0.2472`\n",
    "    - `p-value = 0.8244`\n",
    "\n",
    "\n",
    "  - Конвеврсия в сегменте пользователей, просматривающих фото (для данных из нашего лога) выше, чем в сегменте пользователей ни разу не открывших фотот в объявлении:\n",
    "      - `no_photo_cr = 0.2008` \n",
    "      - `photo_cr = 0.3096`\n",
    "      - `p-value = 6.638176338018034e-14`\n",
    "  - Поэтому стоит следить за качеством загружаемых фотографий, а в перспективе, возможно разработать алгоритм для автоматической модерации изображений (как есть в рекламных сервисах)\n",
    "    \n",
    "\n",
    "\n",
    "\n",
    "\n",
    "\n"
   ]
  }
 ],
 "metadata": {
  "ExecuteTimeLog": [
   {
    "duration": 3038,
    "start_time": "2022-04-20T19:27:01.706Z"
   },
   {
    "duration": 2,
    "start_time": "2022-04-20T19:27:04.747Z"
   },
   {
    "duration": 8,
    "start_time": "2022-04-20T19:27:04.751Z"
   },
   {
    "duration": 112,
    "start_time": "2022-04-20T19:27:04.761Z"
   },
   {
    "duration": 19,
    "start_time": "2022-04-20T19:27:04.875Z"
   },
   {
    "duration": 13,
    "start_time": "2022-04-20T19:27:04.895Z"
   },
   {
    "duration": 9,
    "start_time": "2022-04-20T19:27:04.910Z"
   },
   {
    "duration": 12,
    "start_time": "2022-04-20T19:27:04.921Z"
   },
   {
    "duration": 4,
    "start_time": "2022-04-20T19:27:04.935Z"
   },
   {
    "duration": 18,
    "start_time": "2022-04-20T19:27:04.942Z"
   },
   {
    "duration": 6,
    "start_time": "2022-04-20T19:27:04.962Z"
   },
   {
    "duration": 23,
    "start_time": "2022-04-20T19:27:04.970Z"
   },
   {
    "duration": 45,
    "start_time": "2022-04-20T19:27:04.995Z"
   },
   {
    "duration": 20,
    "start_time": "2022-04-20T19:27:05.042Z"
   },
   {
    "duration": 46,
    "start_time": "2022-04-20T19:27:05.064Z"
   },
   {
    "duration": 23,
    "start_time": "2022-04-20T19:27:05.133Z"
   },
   {
    "duration": 21,
    "start_time": "2022-04-20T19:27:05.158Z"
   },
   {
    "duration": 17,
    "start_time": "2022-04-20T19:27:05.181Z"
   },
   {
    "duration": 34,
    "start_time": "2022-04-20T19:27:05.201Z"
   },
   {
    "duration": 37,
    "start_time": "2022-04-20T19:27:05.237Z"
   },
   {
    "duration": 12,
    "start_time": "2022-04-20T19:27:05.277Z"
   },
   {
    "duration": 10,
    "start_time": "2022-04-20T19:27:05.291Z"
   },
   {
    "duration": 35,
    "start_time": "2022-04-20T19:27:05.303Z"
   },
   {
    "duration": 17,
    "start_time": "2022-04-20T19:27:05.340Z"
   },
   {
    "duration": 21,
    "start_time": "2022-04-20T19:27:05.359Z"
   },
   {
    "duration": 10,
    "start_time": "2022-04-20T19:27:05.382Z"
   },
   {
    "duration": 42,
    "start_time": "2022-04-20T19:27:05.394Z"
   },
   {
    "duration": 12,
    "start_time": "2022-04-20T19:27:05.443Z"
   },
   {
    "duration": 370,
    "start_time": "2022-04-20T19:27:05.458Z"
   },
   {
    "duration": 1225,
    "start_time": "2022-04-20T19:27:05.833Z"
   },
   {
    "duration": 21,
    "start_time": "2022-04-20T19:27:07.060Z"
   },
   {
    "duration": 3,
    "start_time": "2022-04-20T19:27:07.083Z"
   },
   {
    "duration": 12,
    "start_time": "2022-04-20T19:27:07.089Z"
   },
   {
    "duration": 31,
    "start_time": "2022-04-20T19:27:07.103Z"
   },
   {
    "duration": 5,
    "start_time": "2022-04-20T19:27:07.136Z"
   },
   {
    "duration": 324,
    "start_time": "2022-04-20T19:27:07.143Z"
   },
   {
    "duration": 19,
    "start_time": "2022-04-20T19:27:07.469Z"
   },
   {
    "duration": 4,
    "start_time": "2022-04-20T19:27:07.489Z"
   },
   {
    "duration": 13,
    "start_time": "2022-04-20T19:27:07.495Z"
   },
   {
    "duration": 25,
    "start_time": "2022-04-20T19:27:07.510Z"
   },
   {
    "duration": 8,
    "start_time": "2022-04-20T19:27:07.538Z"
   },
   {
    "duration": 208,
    "start_time": "2022-04-20T19:27:07.548Z"
   },
   {
    "duration": 185,
    "start_time": "2022-04-20T19:27:07.758Z"
   },
   {
    "duration": 18,
    "start_time": "2022-04-20T19:27:07.945Z"
   },
   {
    "duration": 4,
    "start_time": "2022-04-20T19:27:07.964Z"
   },
   {
    "duration": 300,
    "start_time": "2022-04-20T19:27:07.970Z"
   },
   {
    "duration": 291,
    "start_time": "2022-04-20T19:27:08.272Z"
   },
   {
    "duration": 13,
    "start_time": "2022-04-20T19:27:08.566Z"
   },
   {
    "duration": 17,
    "start_time": "2022-04-20T19:27:08.581Z"
   },
   {
    "duration": 18,
    "start_time": "2022-04-20T19:27:08.599Z"
   },
   {
    "duration": 19,
    "start_time": "2022-04-20T19:27:08.619Z"
   },
   {
    "duration": 33,
    "start_time": "2022-04-20T19:27:08.640Z"
   },
   {
    "duration": 14,
    "start_time": "2022-04-20T19:27:08.676Z"
   },
   {
    "duration": 7,
    "start_time": "2022-04-20T19:27:08.692Z"
   },
   {
    "duration": 17,
    "start_time": "2022-04-20T19:27:08.701Z"
   },
   {
    "duration": 212,
    "start_time": "2022-04-20T19:27:08.734Z"
   },
   {
    "duration": 10,
    "start_time": "2022-04-20T19:27:08.947Z"
   },
   {
    "duration": 17,
    "start_time": "2022-04-20T19:27:08.959Z"
   },
   {
    "duration": 14,
    "start_time": "2022-04-20T19:27:08.978Z"
   },
   {
    "duration": 13,
    "start_time": "2022-04-20T19:27:08.994Z"
   },
   {
    "duration": 34,
    "start_time": "2022-04-20T19:27:09.008Z"
   },
   {
    "duration": 20,
    "start_time": "2022-04-20T19:27:09.043Z"
   },
   {
    "duration": 19,
    "start_time": "2022-04-20T19:27:09.065Z"
   },
   {
    "duration": 56,
    "start_time": "2022-04-20T19:27:09.085Z"
   },
   {
    "duration": 18,
    "start_time": "2022-04-20T19:27:09.143Z"
   },
   {
    "duration": 6,
    "start_time": "2022-04-20T19:27:09.163Z"
   },
   {
    "duration": 11,
    "start_time": "2022-04-20T19:27:09.171Z"
   },
   {
    "duration": 760,
    "start_time": "2022-04-20T19:27:09.184Z"
   },
   {
    "duration": 133695,
    "start_time": "2022-04-20T19:27:09.946Z"
   },
   {
    "duration": 3,
    "start_time": "2022-04-20T19:29:23.644Z"
   },
   {
    "duration": 1086,
    "start_time": "2022-04-20T19:29:23.649Z"
   },
   {
    "duration": 7,
    "start_time": "2022-04-20T19:29:24.737Z"
   },
   {
    "duration": 8,
    "start_time": "2022-04-20T19:29:24.833Z"
   },
   {
    "duration": 9,
    "start_time": "2022-04-20T19:29:24.843Z"
   },
   {
    "duration": 5,
    "start_time": "2022-04-20T19:29:24.854Z"
   },
   {
    "duration": 8,
    "start_time": "2022-04-20T19:29:24.861Z"
   },
   {
    "duration": 20,
    "start_time": "2022-04-20T19:29:24.871Z"
   },
   {
    "duration": 43,
    "start_time": "2022-04-20T19:29:24.893Z"
   },
   {
    "duration": 166,
    "start_time": "2022-04-20T19:29:24.939Z"
   },
   {
    "duration": 31,
    "start_time": "2022-04-20T19:29:25.108Z"
   },
   {
    "duration": 4,
    "start_time": "2022-04-20T19:29:25.141Z"
   },
   {
    "duration": 3,
    "start_time": "2022-04-20T19:29:25.155Z"
   },
   {
    "duration": 10,
    "start_time": "2022-04-20T19:29:25.160Z"
   },
   {
    "duration": 211,
    "start_time": "2022-04-20T19:29:25.172Z"
   },
   {
    "duration": 17,
    "start_time": "2022-04-20T19:29:25.385Z"
   },
   {
    "duration": 3,
    "start_time": "2022-04-20T19:29:25.404Z"
   },
   {
    "duration": 26,
    "start_time": "2022-04-20T19:29:25.409Z"
   },
   {
    "duration": 17,
    "start_time": "2022-04-20T19:29:25.437Z"
   },
   {
    "duration": 14,
    "start_time": "2022-04-20T19:29:25.456Z"
   },
   {
    "duration": 4,
    "start_time": "2022-04-20T19:29:25.472Z"
   },
   {
    "duration": 27,
    "start_time": "2022-04-20T19:29:25.477Z"
   },
   {
    "duration": 27,
    "start_time": "2022-04-20T19:29:25.506Z"
   },
   {
    "duration": 7,
    "start_time": "2022-04-20T19:29:25.536Z"
   },
   {
    "duration": 7,
    "start_time": "2022-04-20T19:29:25.546Z"
   },
   {
    "duration": 13,
    "start_time": "2022-04-20T19:29:25.554Z"
   },
   {
    "duration": 9,
    "start_time": "2022-04-20T19:29:25.568Z"
   },
   {
    "duration": 8,
    "start_time": "2022-04-20T19:29:25.579Z"
   },
   {
    "duration": 12,
    "start_time": "2022-04-20T19:29:25.589Z"
   },
   {
    "duration": 43,
    "start_time": "2022-04-20T19:29:25.603Z"
   },
   {
    "duration": 12,
    "start_time": "2022-04-20T19:29:25.648Z"
   },
   {
    "duration": 393,
    "start_time": "2022-04-20T19:29:25.662Z"
   },
   {
    "duration": 8,
    "start_time": "2022-04-20T19:29:26.058Z"
   },
   {
    "duration": 933,
    "start_time": "2022-04-20T19:29:26.067Z"
   },
   {
    "duration": 3,
    "start_time": "2022-04-20T19:29:27.002Z"
   },
   {
    "duration": 32,
    "start_time": "2022-04-20T19:29:27.007Z"
   },
   {
    "duration": 17,
    "start_time": "2022-04-20T19:29:27.041Z"
   },
   {
    "duration": 20,
    "start_time": "2022-04-20T19:29:27.060Z"
   },
   {
    "duration": 33,
    "start_time": "2022-04-20T19:29:27.082Z"
   },
   {
    "duration": 13,
    "start_time": "2022-04-20T19:29:27.117Z"
   },
   {
    "duration": 185,
    "start_time": "2022-04-20T19:29:27.132Z"
   },
   {
    "duration": 26,
    "start_time": "2022-04-20T19:29:27.318Z"
   },
   {
    "duration": 29,
    "start_time": "2022-04-20T19:29:27.346Z"
   },
   {
    "duration": 20,
    "start_time": "2022-04-20T19:29:27.377Z"
   },
   {
    "duration": 5,
    "start_time": "2022-04-20T19:29:27.398Z"
   },
   {
    "duration": 46,
    "start_time": "2022-04-20T19:29:27.405Z"
   },
   {
    "duration": 39,
    "start_time": "2022-04-20T19:29:27.453Z"
   },
   {
    "duration": 25,
    "start_time": "2022-04-20T19:29:27.494Z"
   },
   {
    "duration": 761,
    "start_time": "2022-04-20T19:29:27.521Z"
   },
   {
    "duration": 28,
    "start_time": "2022-04-20T19:29:28.284Z"
   },
   {
    "duration": 32,
    "start_time": "2022-04-20T19:29:28.315Z"
   },
   {
    "duration": 38,
    "start_time": "2022-04-20T19:29:28.349Z"
   },
   {
    "duration": 3,
    "start_time": "2022-04-20T19:29:28.389Z"
   },
   {
    "duration": 41,
    "start_time": "2022-04-20T19:29:28.394Z"
   },
   {
    "duration": 4,
    "start_time": "2022-04-20T19:29:28.436Z"
   },
   {
    "duration": 7,
    "start_time": "2022-04-20T19:29:28.442Z"
   },
   {
    "duration": 20,
    "start_time": "2022-04-20T19:29:28.451Z"
   },
   {
    "duration": 8,
    "start_time": "2022-04-20T19:29:28.473Z"
   },
   {
    "duration": 5,
    "start_time": "2022-04-20T19:29:28.483Z"
   },
   {
    "duration": 306,
    "start_time": "2022-04-20T19:29:28.489Z"
   },
   {
    "duration": 6,
    "start_time": "2022-04-20T19:29:28.797Z"
   },
   {
    "duration": 11,
    "start_time": "2022-04-20T19:29:28.805Z"
   },
   {
    "duration": 280,
    "start_time": "2022-04-20T19:29:28.834Z"
   },
   {
    "duration": 17,
    "start_time": "2022-04-20T19:29:29.117Z"
   },
   {
    "duration": 212,
    "start_time": "2022-04-20T19:29:29.136Z"
   },
   {
    "duration": 5,
    "start_time": "2022-04-20T19:29:29.350Z"
   },
   {
    "duration": 31,
    "start_time": "2022-04-20T19:29:29.357Z"
   },
   {
    "duration": 4,
    "start_time": "2022-04-20T19:29:29.390Z"
   },
   {
    "duration": 13,
    "start_time": "2022-04-20T19:29:29.396Z"
   },
   {
    "duration": 253,
    "start_time": "2022-04-20T19:29:29.411Z"
   },
   {
    "duration": 6,
    "start_time": "2022-04-20T19:29:29.666Z"
   },
   {
    "duration": 17,
    "start_time": "2022-04-20T19:29:29.673Z"
   },
   {
    "duration": 11,
    "start_time": "2022-04-20T19:29:29.691Z"
   },
   {
    "duration": 31,
    "start_time": "2022-04-20T19:29:29.704Z"
   },
   {
    "duration": 19,
    "start_time": "2022-04-20T19:29:29.737Z"
   },
   {
    "duration": 211,
    "start_time": "2022-04-20T19:29:29.758Z"
   },
   {
    "duration": 6,
    "start_time": "2022-04-20T19:29:29.971Z"
   },
   {
    "duration": 9,
    "start_time": "2022-04-20T19:29:29.979Z"
   },
   {
    "duration": 5,
    "start_time": "2022-04-20T19:29:29.990Z"
   },
   {
    "duration": 38,
    "start_time": "2022-04-20T19:29:29.997Z"
   },
   {
    "duration": 404,
    "start_time": "2022-04-20T19:29:30.037Z"
   },
   {
    "duration": 19,
    "start_time": "2022-04-20T19:29:30.443Z"
   },
   {
    "duration": 4,
    "start_time": "2022-04-20T19:29:30.464Z"
   },
   {
    "duration": 14,
    "start_time": "2022-04-20T19:29:30.470Z"
   },
   {
    "duration": 237,
    "start_time": "2022-04-20T19:29:30.485Z"
   },
   {
    "duration": 26,
    "start_time": "2022-04-20T19:29:30.724Z"
   },
   {
    "duration": 3,
    "start_time": "2022-04-20T19:29:30.752Z"
   },
   {
    "duration": 22,
    "start_time": "2022-04-20T19:29:30.757Z"
   },
   {
    "duration": 11,
    "start_time": "2022-04-20T19:29:30.781Z"
   },
   {
    "duration": 8,
    "start_time": "2022-04-20T19:29:30.794Z"
   },
   {
    "duration": 29,
    "start_time": "2022-04-20T19:29:30.804Z"
   },
   {
    "duration": 4,
    "start_time": "2022-04-20T19:29:30.835Z"
   },
   {
    "duration": 15,
    "start_time": "2022-04-20T19:29:30.841Z"
   },
   {
    "duration": 3,
    "start_time": "2022-04-20T19:29:30.858Z"
   },
   {
    "duration": 12,
    "start_time": "2022-04-20T19:29:30.863Z"
   },
   {
    "duration": 11,
    "start_time": "2022-04-20T19:29:30.877Z"
   },
   {
    "duration": 7,
    "start_time": "2022-04-20T19:29:30.890Z"
   },
   {
    "duration": 35,
    "start_time": "2022-04-20T19:29:30.899Z"
   },
   {
    "duration": 16,
    "start_time": "2022-04-20T19:29:30.935Z"
   },
   {
    "duration": 214,
    "start_time": "2022-04-20T19:29:30.953Z"
   },
   {
    "duration": 191,
    "start_time": "2022-04-20T19:29:31.169Z"
   },
   {
    "duration": 11,
    "start_time": "2022-04-20T19:29:31.363Z"
   },
   {
    "duration": 27,
    "start_time": "2022-04-20T19:29:31.376Z"
   },
   {
    "duration": 13,
    "start_time": "2022-04-20T19:29:31.405Z"
   },
   {
    "duration": 23,
    "start_time": "2022-04-20T19:29:31.419Z"
   },
   {
    "duration": 23,
    "start_time": "2022-04-20T19:29:31.445Z"
   },
   {
    "duration": 14,
    "start_time": "2022-04-20T19:29:31.470Z"
   },
   {
    "duration": 10,
    "start_time": "2022-04-20T19:29:31.486Z"
   },
   {
    "duration": 11,
    "start_time": "2022-04-20T19:29:31.497Z"
   },
   {
    "duration": 27,
    "start_time": "2022-04-20T19:29:31.509Z"
   },
   {
    "duration": 11,
    "start_time": "2022-04-20T19:29:31.538Z"
   },
   {
    "duration": 28,
    "start_time": "2022-04-20T19:29:31.551Z"
   },
   {
    "duration": 10,
    "start_time": "2022-04-20T19:29:31.581Z"
   },
   {
    "duration": 11,
    "start_time": "2022-04-20T19:29:31.593Z"
   },
   {
    "duration": 16,
    "start_time": "2022-04-20T19:29:31.606Z"
   },
   {
    "duration": 16,
    "start_time": "2022-04-20T19:29:31.624Z"
   },
   {
    "duration": 31,
    "start_time": "2022-04-20T19:29:31.642Z"
   },
   {
    "duration": 12,
    "start_time": "2022-04-20T19:29:31.674Z"
   },
   {
    "duration": 15,
    "start_time": "2022-04-20T19:29:31.688Z"
   },
   {
    "duration": 33,
    "start_time": "2022-04-20T19:29:31.705Z"
   },
   {
    "duration": 13,
    "start_time": "2022-04-20T19:29:31.740Z"
   },
   {
    "duration": 12,
    "start_time": "2022-04-20T19:29:31.755Z"
   },
   {
    "duration": 10,
    "start_time": "2022-04-20T19:29:31.769Z"
   },
   {
    "duration": 9,
    "start_time": "2022-04-20T19:29:31.781Z"
   },
   {
    "duration": 12,
    "start_time": "2022-04-20T19:29:31.792Z"
   },
   {
    "duration": 33,
    "start_time": "2022-04-20T19:29:31.805Z"
   },
   {
    "duration": 18,
    "start_time": "2022-04-20T19:29:31.840Z"
   },
   {
    "duration": 16,
    "start_time": "2022-04-20T19:29:31.860Z"
   },
   {
    "duration": 13,
    "start_time": "2022-04-20T19:29:31.878Z"
   },
   {
    "duration": 13,
    "start_time": "2022-04-20T19:29:31.893Z"
   },
   {
    "duration": 18,
    "start_time": "2022-04-20T19:29:31.908Z"
   },
   {
    "duration": 11,
    "start_time": "2022-04-20T19:29:31.933Z"
   },
   {
    "duration": 6,
    "start_time": "2022-04-20T19:29:31.946Z"
   },
   {
    "duration": 14,
    "start_time": "2022-04-20T19:29:31.955Z"
   },
   {
    "duration": 11,
    "start_time": "2022-04-20T19:29:31.971Z"
   },
   {
    "duration": 28,
    "start_time": "2022-04-20T19:29:31.983Z"
   },
   {
    "duration": 16,
    "start_time": "2022-04-20T19:29:32.035Z"
   },
   {
    "duration": 7,
    "start_time": "2022-04-20T19:29:32.054Z"
   },
   {
    "duration": 25,
    "start_time": "2022-04-20T19:29:32.064Z"
   },
   {
    "duration": 9,
    "start_time": "2022-04-20T19:29:32.091Z"
   },
   {
    "duration": 32,
    "start_time": "2022-04-20T19:29:32.102Z"
   },
   {
    "duration": 11,
    "start_time": "2022-04-20T19:29:32.137Z"
   },
   {
    "duration": 9,
    "start_time": "2022-04-20T19:29:32.150Z"
   },
   {
    "duration": 8,
    "start_time": "2022-04-20T19:29:32.161Z"
   },
   {
    "duration": 8,
    "start_time": "2022-04-20T19:29:32.171Z"
   },
   {
    "duration": 6,
    "start_time": "2022-04-20T19:29:32.181Z"
   },
   {
    "duration": 9,
    "start_time": "2022-04-20T19:29:32.189Z"
   },
   {
    "duration": 11,
    "start_time": "2022-04-20T19:29:32.199Z"
   },
   {
    "duration": 10,
    "start_time": "2022-04-20T19:29:32.212Z"
   },
   {
    "duration": 4,
    "start_time": "2022-04-20T19:29:32.234Z"
   },
   {
    "duration": 7,
    "start_time": "2022-04-20T19:29:32.240Z"
   },
   {
    "duration": 19,
    "start_time": "2022-04-20T19:29:32.249Z"
   },
   {
    "duration": 9,
    "start_time": "2022-04-20T19:29:32.270Z"
   },
   {
    "duration": 16,
    "start_time": "2022-04-20T19:29:32.281Z"
   },
   {
    "duration": 37,
    "start_time": "2022-04-20T19:29:32.299Z"
   },
   {
    "duration": 4,
    "start_time": "2022-04-20T19:29:32.338Z"
   },
   {
    "duration": 11,
    "start_time": "2022-04-20T19:29:32.344Z"
   },
   {
    "duration": 8,
    "start_time": "2022-04-20T19:29:32.357Z"
   },
   {
    "duration": 8,
    "start_time": "2022-04-20T19:29:32.366Z"
   },
   {
    "duration": 6,
    "start_time": "2022-04-20T19:29:32.376Z"
   },
   {
    "duration": 8,
    "start_time": "2022-04-20T19:29:32.384Z"
   }
  ],
  "colab": {
   "collapsed_sections": [],
   "name": "mobile-app-segmentation-da-33-selin.ipynb",
   "provenance": [],
   "toc_visible": true
  },
  "kernelspec": {
   "display_name": "Python 3 (ipykernel)",
   "language": "python",
   "name": "python3"
  },
  "language_info": {
   "codemirror_mode": {
    "name": "ipython",
    "version": 3
   },
   "file_extension": ".py",
   "mimetype": "text/x-python",
   "name": "python",
   "nbconvert_exporter": "python",
   "pygments_lexer": "ipython3",
   "version": "3.9.12"
  },
  "toc": {
   "base_numbering": 1,
   "nav_menu": {},
   "number_sections": true,
   "sideBar": true,
   "skip_h1_title": false,
   "title_cell": "Table of Contents",
   "title_sidebar": "Contents",
   "toc_cell": false,
   "toc_position": {
    "height": "calc(100% - 180px)",
    "left": "10px",
    "top": "150px",
    "width": "325px"
   },
   "toc_section_display": true,
   "toc_window_display": false
  }
 },
 "nbformat": 4,
 "nbformat_minor": 5
}
