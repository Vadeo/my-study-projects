{
 "cells": [
  {
   "cell_type": "markdown",
   "metadata": {},
   "source": [
    "# Изучение закономерностей, определяющих успешность видеоигр."
   ]
  },
  {
   "cell_type": "markdown",
   "metadata": {},
   "source": [
    "## Загрузка данных"
   ]
  },
  {
   "cell_type": "code",
   "execution_count": 1,
   "metadata": {},
   "outputs": [
    {
     "name": "stdout",
     "output_type": "stream",
     "text": [
      "Requirement already satisfied: seaborn==0.11.2 in /Users/vadimselin/opt/anaconda3/envs/practicum/lib/python3.9/site-packages (0.11.2)\n",
      "Requirement already satisfied: scipy>=1.0 in /Users/vadimselin/opt/anaconda3/envs/practicum/lib/python3.9/site-packages (from seaborn==0.11.2) (1.8.0)\n",
      "Requirement already satisfied: matplotlib>=2.2 in /Users/vadimselin/opt/anaconda3/envs/practicum/lib/python3.9/site-packages (from seaborn==0.11.2) (3.3.4)\n",
      "Requirement already satisfied: pandas>=0.23 in /Users/vadimselin/opt/anaconda3/envs/practicum/lib/python3.9/site-packages (from seaborn==0.11.2) (1.4.2)\n",
      "Requirement already satisfied: numpy>=1.15 in /Users/vadimselin/opt/anaconda3/envs/practicum/lib/python3.9/site-packages (from seaborn==0.11.2) (1.22.3)\n",
      "Requirement already satisfied: pyparsing!=2.0.4,!=2.1.2,!=2.1.6,>=2.0.3 in /Users/vadimselin/opt/anaconda3/envs/practicum/lib/python3.9/site-packages (from matplotlib>=2.2->seaborn==0.11.2) (3.0.7)\n",
      "Requirement already satisfied: kiwisolver>=1.0.1 in /Users/vadimselin/opt/anaconda3/envs/practicum/lib/python3.9/site-packages (from matplotlib>=2.2->seaborn==0.11.2) (1.4.2)\n",
      "Requirement already satisfied: pillow>=6.2.0 in /Users/vadimselin/opt/anaconda3/envs/practicum/lib/python3.9/site-packages (from matplotlib>=2.2->seaborn==0.11.2) (8.4.0)\n",
      "Requirement already satisfied: python-dateutil>=2.1 in /Users/vadimselin/opt/anaconda3/envs/practicum/lib/python3.9/site-packages (from matplotlib>=2.2->seaborn==0.11.2) (2.8.2)\n",
      "Requirement already satisfied: cycler>=0.10 in /Users/vadimselin/opt/anaconda3/envs/practicum/lib/python3.9/site-packages (from matplotlib>=2.2->seaborn==0.11.2) (0.11.0)\n",
      "Requirement already satisfied: pytz>=2020.1 in /Users/vadimselin/opt/anaconda3/envs/practicum/lib/python3.9/site-packages (from pandas>=0.23->seaborn==0.11.2) (2022.1)\n",
      "Requirement already satisfied: six>=1.5 in /Users/vadimselin/opt/anaconda3/envs/practicum/lib/python3.9/site-packages (from python-dateutil>=2.1->matplotlib>=2.2->seaborn==0.11.2) (1.16.0)\n"
     ]
    }
   ],
   "source": [
    "!pip install seaborn==0.11.2"
   ]
  },
  {
   "cell_type": "code",
   "execution_count": 2,
   "metadata": {},
   "outputs": [],
   "source": [
    "import pandas as pd\n",
    "import numpy as np\n",
    "import matplotlib.pyplot as plt\n",
    "import seaborn as sns\n",
    "from scipy import stats as st"
   ]
  },
  {
   "cell_type": "code",
   "execution_count": 3,
   "metadata": {},
   "outputs": [],
   "source": [
    "df = pd.read_csv('https://code.s3.yandex.net/datasets/games.csv')"
   ]
  },
  {
   "cell_type": "code",
   "execution_count": 4,
   "metadata": {},
   "outputs": [
    {
     "data": {
      "text/html": [
       "<div>\n",
       "<style scoped>\n",
       "    .dataframe tbody tr th:only-of-type {\n",
       "        vertical-align: middle;\n",
       "    }\n",
       "\n",
       "    .dataframe tbody tr th {\n",
       "        vertical-align: top;\n",
       "    }\n",
       "\n",
       "    .dataframe thead th {\n",
       "        text-align: right;\n",
       "    }\n",
       "</style>\n",
       "<table border=\"1\" class=\"dataframe\">\n",
       "  <thead>\n",
       "    <tr style=\"text-align: right;\">\n",
       "      <th></th>\n",
       "      <th>Name</th>\n",
       "      <th>Platform</th>\n",
       "      <th>Year_of_Release</th>\n",
       "      <th>Genre</th>\n",
       "      <th>NA_sales</th>\n",
       "      <th>EU_sales</th>\n",
       "      <th>JP_sales</th>\n",
       "      <th>Other_sales</th>\n",
       "      <th>Critic_Score</th>\n",
       "      <th>User_Score</th>\n",
       "      <th>Rating</th>\n",
       "    </tr>\n",
       "  </thead>\n",
       "  <tbody>\n",
       "    <tr>\n",
       "      <th>0</th>\n",
       "      <td>Wii Sports</td>\n",
       "      <td>Wii</td>\n",
       "      <td>2006.0</td>\n",
       "      <td>Sports</td>\n",
       "      <td>41.36</td>\n",
       "      <td>28.96</td>\n",
       "      <td>3.77</td>\n",
       "      <td>8.45</td>\n",
       "      <td>76.0</td>\n",
       "      <td>8</td>\n",
       "      <td>E</td>\n",
       "    </tr>\n",
       "    <tr>\n",
       "      <th>1</th>\n",
       "      <td>Super Mario Bros.</td>\n",
       "      <td>NES</td>\n",
       "      <td>1985.0</td>\n",
       "      <td>Platform</td>\n",
       "      <td>29.08</td>\n",
       "      <td>3.58</td>\n",
       "      <td>6.81</td>\n",
       "      <td>0.77</td>\n",
       "      <td>NaN</td>\n",
       "      <td>NaN</td>\n",
       "      <td>NaN</td>\n",
       "    </tr>\n",
       "    <tr>\n",
       "      <th>2</th>\n",
       "      <td>Mario Kart Wii</td>\n",
       "      <td>Wii</td>\n",
       "      <td>2008.0</td>\n",
       "      <td>Racing</td>\n",
       "      <td>15.68</td>\n",
       "      <td>12.76</td>\n",
       "      <td>3.79</td>\n",
       "      <td>3.29</td>\n",
       "      <td>82.0</td>\n",
       "      <td>8.3</td>\n",
       "      <td>E</td>\n",
       "    </tr>\n",
       "    <tr>\n",
       "      <th>3</th>\n",
       "      <td>Wii Sports Resort</td>\n",
       "      <td>Wii</td>\n",
       "      <td>2009.0</td>\n",
       "      <td>Sports</td>\n",
       "      <td>15.61</td>\n",
       "      <td>10.93</td>\n",
       "      <td>3.28</td>\n",
       "      <td>2.95</td>\n",
       "      <td>80.0</td>\n",
       "      <td>8</td>\n",
       "      <td>E</td>\n",
       "    </tr>\n",
       "    <tr>\n",
       "      <th>4</th>\n",
       "      <td>Pokemon Red/Pokemon Blue</td>\n",
       "      <td>GB</td>\n",
       "      <td>1996.0</td>\n",
       "      <td>Role-Playing</td>\n",
       "      <td>11.27</td>\n",
       "      <td>8.89</td>\n",
       "      <td>10.22</td>\n",
       "      <td>1.00</td>\n",
       "      <td>NaN</td>\n",
       "      <td>NaN</td>\n",
       "      <td>NaN</td>\n",
       "    </tr>\n",
       "  </tbody>\n",
       "</table>\n",
       "</div>"
      ],
      "text/plain": [
       "                       Name Platform  Year_of_Release         Genre  NA_sales  \\\n",
       "0                Wii Sports      Wii           2006.0        Sports     41.36   \n",
       "1         Super Mario Bros.      NES           1985.0      Platform     29.08   \n",
       "2            Mario Kart Wii      Wii           2008.0        Racing     15.68   \n",
       "3         Wii Sports Resort      Wii           2009.0        Sports     15.61   \n",
       "4  Pokemon Red/Pokemon Blue       GB           1996.0  Role-Playing     11.27   \n",
       "\n",
       "   EU_sales  JP_sales  Other_sales  Critic_Score User_Score Rating  \n",
       "0     28.96      3.77         8.45          76.0          8      E  \n",
       "1      3.58      6.81         0.77           NaN        NaN    NaN  \n",
       "2     12.76      3.79         3.29          82.0        8.3      E  \n",
       "3     10.93      3.28         2.95          80.0          8      E  \n",
       "4      8.89     10.22         1.00           NaN        NaN    NaN  "
      ]
     },
     "execution_count": 4,
     "metadata": {},
     "output_type": "execute_result"
    }
   ],
   "source": [
    "df.head()"
   ]
  },
  {
   "cell_type": "markdown",
   "metadata": {},
   "source": [
    "---\n",
    "\n",
    "\n",
    "**Описание данных:**\n",
    "* Name — название игры\n",
    "* Platform — платформа\n",
    "* Year_of_Release — год выпуска\n",
    "* Genre — жанр игры\n",
    "* NA_sales — продажи в Северной Америке (миллионы проданных копий)\n",
    "* EU_sales — продажи в Европе (миллионы проданных копий)\n",
    "* JP_sales — продажи в Японии (миллионы проданных копий)\n",
    "* Other_sales — продажи в других странах (миллионы проданных копий)\n",
    "* Critic_Score — оценка критиков (максимум 100)\n",
    "* User_Score — оценка пользователей (максимум 10)\n",
    "* Rating — рейтинг от организации ESRB (англ. Entertainment Software Rating Board). Эта ассоциация определяет рейтинг компьютерных игр и присваивает им подходящую возрастную категорию.\n",
    "\n",
    "---\n",
    "\n",
    "Понижу регистр названий столбцов\n",
    "\n",
    "---\n"
   ]
  },
  {
   "cell_type": "code",
   "execution_count": 5,
   "metadata": {},
   "outputs": [],
   "source": [
    "df.columns = df.columns.str.lower()"
   ]
  },
  {
   "cell_type": "code",
   "execution_count": 6,
   "metadata": {},
   "outputs": [],
   "source": [
    "def df_info(df):    \n",
    "    \"\"\"Функция-альтернатива info(), позволяющая узнать \n",
    "    долю пропусков в столбцах датафрейма и типы данных в этих стобцах,\n",
    "    а также - количество строк\n",
    "    \"\"\"    \n",
    "    d = pd.DataFrame(df.isna().mean()).reset_index()\n",
    "    f = pd.DataFrame(df.dtypes).reset_index()\n",
    "    df_info = d.merge(f,on='index')\n",
    "    df_info.columns = ['data', 'per_miss', 'data_type']\n",
    "    return df_info, \"Number of lines: {}\".format(len(df))"
   ]
  },
  {
   "cell_type": "code",
   "execution_count": 7,
   "metadata": {},
   "outputs": [
    {
     "data": {
      "text/plain": [
       "(               data  per_miss data_type\n",
       " 0              name  0.000120    object\n",
       " 1          platform  0.000000    object\n",
       " 2   year_of_release  0.016093   float64\n",
       " 3             genre  0.000120    object\n",
       " 4          na_sales  0.000000   float64\n",
       " 5          eu_sales  0.000000   float64\n",
       " 6          jp_sales  0.000000   float64\n",
       " 7       other_sales  0.000000   float64\n",
       " 8      critic_score  0.513192   float64\n",
       " 9        user_score  0.400897    object\n",
       " 10           rating  0.404786    object,\n",
       " 'Number of lines: 16715')"
      ]
     },
     "execution_count": 7,
     "metadata": {},
     "output_type": "execute_result"
    }
   ],
   "source": [
    "df_info(df)"
   ]
  },
  {
   "cell_type": "markdown",
   "metadata": {},
   "source": [
    "---\n",
    "\n",
    "Теперь, чтобы избавиться от неявных дублей понижу регистр всех строковых переменных\n",
    "\n",
    "---"
   ]
  },
  {
   "cell_type": "code",
   "execution_count": 8,
   "metadata": {},
   "outputs": [],
   "source": [
    "df['name'] = df['name'].str.lower()"
   ]
  },
  {
   "cell_type": "code",
   "execution_count": 9,
   "metadata": {},
   "outputs": [],
   "source": [
    "df['platform'] = df['platform'].str.lower()"
   ]
  },
  {
   "cell_type": "code",
   "execution_count": 10,
   "metadata": {},
   "outputs": [],
   "source": [
    "df['genre'] = df['genre'].str.lower()"
   ]
  },
  {
   "cell_type": "code",
   "execution_count": 11,
   "metadata": {},
   "outputs": [],
   "source": [
    "df['rating'] = df['rating'].str.lower()"
   ]
  },
  {
   "cell_type": "code",
   "execution_count": 12,
   "metadata": {},
   "outputs": [
    {
     "data": {
      "text/html": [
       "<div>\n",
       "<style scoped>\n",
       "    .dataframe tbody tr th:only-of-type {\n",
       "        vertical-align: middle;\n",
       "    }\n",
       "\n",
       "    .dataframe tbody tr th {\n",
       "        vertical-align: top;\n",
       "    }\n",
       "\n",
       "    .dataframe thead th {\n",
       "        text-align: right;\n",
       "    }\n",
       "</style>\n",
       "<table border=\"1\" class=\"dataframe\">\n",
       "  <thead>\n",
       "    <tr style=\"text-align: right;\">\n",
       "      <th></th>\n",
       "      <th>name</th>\n",
       "      <th>platform</th>\n",
       "      <th>year_of_release</th>\n",
       "      <th>genre</th>\n",
       "      <th>na_sales</th>\n",
       "      <th>eu_sales</th>\n",
       "      <th>jp_sales</th>\n",
       "      <th>other_sales</th>\n",
       "      <th>critic_score</th>\n",
       "      <th>user_score</th>\n",
       "      <th>rating</th>\n",
       "    </tr>\n",
       "  </thead>\n",
       "  <tbody>\n",
       "    <tr>\n",
       "      <th>14230</th>\n",
       "      <td>rakushou! pachi-slot sengen 5: rio paradise</td>\n",
       "      <td>ps2</td>\n",
       "      <td>2007.0</td>\n",
       "      <td>misc</td>\n",
       "      <td>0.00</td>\n",
       "      <td>0.00</td>\n",
       "      <td>0.03</td>\n",
       "      <td>0.00</td>\n",
       "      <td>NaN</td>\n",
       "      <td>NaN</td>\n",
       "      <td>NaN</td>\n",
       "    </tr>\n",
       "    <tr>\n",
       "      <th>14043</th>\n",
       "      <td>nobunaga's ambition ii</td>\n",
       "      <td>3ds</td>\n",
       "      <td>2015.0</td>\n",
       "      <td>strategy</td>\n",
       "      <td>0.00</td>\n",
       "      <td>0.00</td>\n",
       "      <td>0.04</td>\n",
       "      <td>0.00</td>\n",
       "      <td>NaN</td>\n",
       "      <td>NaN</td>\n",
       "      <td>NaN</td>\n",
       "    </tr>\n",
       "    <tr>\n",
       "      <th>3158</th>\n",
       "      <td>up</td>\n",
       "      <td>ds</td>\n",
       "      <td>2009.0</td>\n",
       "      <td>action</td>\n",
       "      <td>0.30</td>\n",
       "      <td>0.27</td>\n",
       "      <td>0.00</td>\n",
       "      <td>0.07</td>\n",
       "      <td>NaN</td>\n",
       "      <td>tbd</td>\n",
       "      <td>e</td>\n",
       "    </tr>\n",
       "    <tr>\n",
       "      <th>22</th>\n",
       "      <td>super mario bros. 3</td>\n",
       "      <td>nes</td>\n",
       "      <td>1988.0</td>\n",
       "      <td>platform</td>\n",
       "      <td>9.54</td>\n",
       "      <td>3.44</td>\n",
       "      <td>3.84</td>\n",
       "      <td>0.46</td>\n",
       "      <td>NaN</td>\n",
       "      <td>NaN</td>\n",
       "      <td>NaN</td>\n",
       "    </tr>\n",
       "    <tr>\n",
       "      <th>110</th>\n",
       "      <td>mario kart 8</td>\n",
       "      <td>wiiu</td>\n",
       "      <td>2014.0</td>\n",
       "      <td>racing</td>\n",
       "      <td>3.15</td>\n",
       "      <td>2.15</td>\n",
       "      <td>1.28</td>\n",
       "      <td>0.51</td>\n",
       "      <td>88.0</td>\n",
       "      <td>9.1</td>\n",
       "      <td>e</td>\n",
       "    </tr>\n",
       "  </tbody>\n",
       "</table>\n",
       "</div>"
      ],
      "text/plain": [
       "                                              name platform  year_of_release  \\\n",
       "14230  rakushou! pachi-slot sengen 5: rio paradise      ps2           2007.0   \n",
       "14043                       nobunaga's ambition ii      3ds           2015.0   \n",
       "3158                                            up       ds           2009.0   \n",
       "22                             super mario bros. 3      nes           1988.0   \n",
       "110                                   mario kart 8     wiiu           2014.0   \n",
       "\n",
       "          genre  na_sales  eu_sales  jp_sales  other_sales  critic_score  \\\n",
       "14230      misc      0.00      0.00      0.03         0.00           NaN   \n",
       "14043  strategy      0.00      0.00      0.04         0.00           NaN   \n",
       "3158     action      0.30      0.27      0.00         0.07           NaN   \n",
       "22     platform      9.54      3.44      3.84         0.46           NaN   \n",
       "110      racing      3.15      2.15      1.28         0.51          88.0   \n",
       "\n",
       "      user_score rating  \n",
       "14230        NaN    NaN  \n",
       "14043        NaN    NaN  \n",
       "3158         tbd      e  \n",
       "22           NaN    NaN  \n",
       "110          9.1      e  "
      ]
     },
     "execution_count": 12,
     "metadata": {},
     "output_type": "execute_result"
    }
   ],
   "source": [
    "df.sample(5,random_state=1)"
   ]
  },
  {
   "cell_type": "markdown",
   "metadata": {},
   "source": [
    "\n",
    "\n",
    "---\n",
    "\n",
    "С датой работать удобнее с типом данных `datetime`\n",
    "\n",
    "---\n",
    "\n"
   ]
  },
  {
   "cell_type": "code",
   "execution_count": 13,
   "metadata": {},
   "outputs": [],
   "source": [
    "df['year_of_release'] = pd.to_datetime(df['year_of_release'],format='%Y')"
   ]
  },
  {
   "cell_type": "markdown",
   "metadata": {},
   "source": [
    "\n",
    "\n",
    "---\n",
    "\n",
    "\n",
    "Примечательно, что пользовательский рейтнг `user_score` типа `object`, а не ожидаемый `float`, как рейтинг критиков.\n",
    "\n",
    "\n",
    "---\n",
    "\n"
   ]
  },
  {
   "cell_type": "code",
   "execution_count": 14,
   "metadata": {},
   "outputs": [
    {
     "data": {
      "text/plain": [
       "array(['8', nan, '8.3', '8.5', '6.6', '8.4', '8.6', '7.7', '6.3', '7.4',\n",
       "       '8.2', '9', '7.9', '8.1', '8.7', '7.1', '3.4', '5.3', '4.8', '3.2',\n",
       "       '8.9', '6.4', '7.8', '7.5', '2.6', '7.2', '9.2', '7', '7.3', '4.3',\n",
       "       '7.6', '5.7', '5', '9.1', '6.5', 'tbd', '8.8', '6.9', '9.4', '6.8',\n",
       "       '6.1', '6.7', '5.4', '4', '4.9', '4.5', '9.3', '6.2', '4.2', '6',\n",
       "       '3.7', '4.1', '5.8', '5.6', '5.5', '4.4', '4.6', '5.9', '3.9',\n",
       "       '3.1', '2.9', '5.2', '3.3', '4.7', '5.1', '3.5', '2.5', '1.9', '3',\n",
       "       '2.7', '2.2', '2', '9.5', '2.1', '3.6', '2.8', '1.8', '3.8', '0',\n",
       "       '1.6', '9.6', '2.4', '1.7', '1.1', '0.3', '1.5', '0.7', '1.2',\n",
       "       '2.3', '0.5', '1.3', '0.2', '0.6', '1.4', '0.9', '1', '9.7'],\n",
       "      dtype=object)"
      ]
     },
     "execution_count": 14,
     "metadata": {},
     "output_type": "execute_result"
    }
   ],
   "source": [
    "df['user_score'].unique()"
   ]
  },
  {
   "cell_type": "code",
   "execution_count": 15,
   "metadata": {},
   "outputs": [
    {
     "data": {
      "text/plain": [
       "0.1450194436135208"
      ]
     },
     "execution_count": 15,
     "metadata": {},
     "output_type": "execute_result"
    }
   ],
   "source": [
    "len(df[df['user_score'] == 'tbd'])/len(df)"
   ]
  },
  {
   "cell_type": "markdown",
   "metadata": {},
   "source": [
    "\n",
    "\n",
    "---\n",
    "\n",
    "14,5% выборки - это существенно. Интернет на вопрос \"tbd games rating meaning\"\n",
    "отвечает: \"to be determined — used to indicate that the time or place of something has not yet been decided and will be announced at a later time\n",
    "The game has been postponed until next week, time TBD.\"\n",
    "\n",
    "Фактически, tbd обозначает, что на данный момент значений нет, но они будут определены позже. В данном конкретном случае значение `tbd` будет оценено как `NaN`\n",
    "\n",
    "Использую функцию `to_numeric` с аргументом `errors='coerce'`, чтобы превратить недопустимые значения в `NaN`\n",
    "\n",
    "\n",
    "---\n",
    "\n"
   ]
  },
  {
   "cell_type": "code",
   "execution_count": 16,
   "metadata": {},
   "outputs": [],
   "source": [
    "df['user_score'] = pd.to_numeric(df['user_score'],errors='coerce')"
   ]
  },
  {
   "cell_type": "code",
   "execution_count": 17,
   "metadata": {},
   "outputs": [
    {
     "data": {
      "text/plain": [
       "array([8. , nan, 8.3, 8.5, 6.6, 8.4, 8.6, 7.7, 6.3, 7.4, 8.2, 9. , 7.9,\n",
       "       8.1, 8.7, 7.1, 3.4, 5.3, 4.8, 3.2, 8.9, 6.4, 7.8, 7.5, 2.6, 7.2,\n",
       "       9.2, 7. , 7.3, 4.3, 7.6, 5.7, 5. , 9.1, 6.5, 8.8, 6.9, 9.4, 6.8,\n",
       "       6.1, 6.7, 5.4, 4. , 4.9, 4.5, 9.3, 6.2, 4.2, 6. , 3.7, 4.1, 5.8,\n",
       "       5.6, 5.5, 4.4, 4.6, 5.9, 3.9, 3.1, 2.9, 5.2, 3.3, 4.7, 5.1, 3.5,\n",
       "       2.5, 1.9, 3. , 2.7, 2.2, 2. , 9.5, 2.1, 3.6, 2.8, 1.8, 3.8, 0. ,\n",
       "       1.6, 9.6, 2.4, 1.7, 1.1, 0.3, 1.5, 0.7, 1.2, 2.3, 0.5, 1.3, 0.2,\n",
       "       0.6, 1.4, 0.9, 1. , 9.7])"
      ]
     },
     "execution_count": 17,
     "metadata": {},
     "output_type": "execute_result"
    }
   ],
   "source": [
    "df['user_score'].unique()"
   ]
  },
  {
   "cell_type": "code",
   "execution_count": 18,
   "metadata": {},
   "outputs": [
    {
     "data": {
      "text/plain": [
       "0.5459168411606342"
      ]
     },
     "execution_count": 18,
     "metadata": {},
     "output_type": "execute_result"
    }
   ],
   "source": [
    "len(df[df['user_score'].isna()])/len(df)"
   ]
  },
  {
   "cell_type": "markdown",
   "metadata": {},
   "source": [
    "\n",
    "\n",
    "---\n",
    "\n",
    "\n",
    "Теперь хоть `NaN` значений и больше, я могу выполнять арифметические операции со столбцом пользовательского рейтинга.\n",
    "\n",
    "*Остальные `NaN`-ы обрабатывать не буду, поскольку это потребует манипуляций с имеющимися данными в столбцах. Ключевой причиной возникновения такого большого количества пропусков в первую очередь является то, что данные собраны из открытых источников. Источники разные, системы хранения разные, содержание, актуализация и обновление баз данных происходит по-разному.*\n",
    "\n",
    "**Вычислю суммарные продажи по всем регионам для каждой игры (пропусков в слагаемых нет - в сумме тоже быть не должно)**\n",
    "\n",
    "---\n",
    "\n",
    "\n",
    "\n",
    "\n"
   ]
  },
  {
   "cell_type": "code",
   "execution_count": 19,
   "metadata": {},
   "outputs": [],
   "source": [
    "df['total_sales'] = (\n",
    "    df['na_sales'] + \n",
    "    df['eu_sales'] + \n",
    "    df['jp_sales'] + \n",
    "    df['other_sales']\n",
    "    )"
   ]
  },
  {
   "cell_type": "code",
   "execution_count": 20,
   "metadata": {},
   "outputs": [
    {
     "data": {
      "text/plain": [
       "(               data  per_miss       data_type\n",
       " 0              name  0.000120          object\n",
       " 1          platform  0.000000          object\n",
       " 2   year_of_release  0.016093  datetime64[ns]\n",
       " 3             genre  0.000120          object\n",
       " 4          na_sales  0.000000         float64\n",
       " 5          eu_sales  0.000000         float64\n",
       " 6          jp_sales  0.000000         float64\n",
       " 7       other_sales  0.000000         float64\n",
       " 8      critic_score  0.513192         float64\n",
       " 9        user_score  0.545917         float64\n",
       " 10           rating  0.404786          object\n",
       " 11      total_sales  0.000000         float64,\n",
       " 'Number of lines: 16715')"
      ]
     },
     "execution_count": 20,
     "metadata": {},
     "output_type": "execute_result"
    }
   ],
   "source": [
    "df_info(df)"
   ]
  },
  {
   "cell_type": "markdown",
   "metadata": {},
   "source": [
    "---\n",
    "\n",
    "Посмотреть на получившееся распределение всегда интересно. Поскольку в данном столбце - информация о миллионах проданных копий, ожидаю увидеть жирнохвостовое распредедение. Из собственного опыта понимаю, что есть игры с многомиллионным тиражом, а есть те, о которых никто не слышал.\n",
    "\n",
    "Посмотрю, насколько жирный хвост\n",
    "\n",
    "---"
   ]
  },
  {
   "cell_type": "code",
   "execution_count": 21,
   "metadata": {},
   "outputs": [
    {
     "data": {
      "image/png": "[encoded data removed]",
      "text/plain": [
       "<Figure size 432x288 with 1 Axes>"
      ]
     },
     "metadata": {
      "needs_background": "light"
     },
     "output_type": "display_data"
    }
   ],
   "source": [
    "df['total_sales'].hist(bins=100, grid=True)\n",
    "plt.title('Распредедение числа проданных по миру копий')\n",
    "plt.xlabel('количество проданных копий по всему миру, млн.')\n",
    "plt.show()"
   ]
  },
  {
   "cell_type": "markdown",
   "metadata": {},
   "source": [
    "## EDA\n",
    "\n",
    "* Посмотрите, сколько игр выпускалось в разные годы. Важны ли данные за все периоды?\n",
    "* Посмотрите, как менялись продажи по платформам. Выберите платформы с наибольшими суммарными продажами и постройте распределение по годам. За какой характерный срок появляются новые и исчезают старые платформы?\n",
    "* Возьмите данные за соответствующий актуальный период. Актуальный период определите самостоятельно в результате исследования предыдущих вопросов. Основной фактор — эти данные помогут построить прогноз на 2017 год.\n",
    "* Не учитывайте в работе данные за предыдущие годы.\n",
    "* Какие платформы лидируют по продажам, растут или падают? Выберите несколько потенциально прибыльных платформ.\n",
    "* Постройте график «ящик с усами» по глобальным продажам игр в разбивке по платформам. Опишите результат.\n",
    "* Посмотрите, как влияют на продажи внутри одной популярной платформы отзывы пользователей и критиков. Постройте диаграмму рассеяния и посчитайте корреляцию между отзывами и продажами. Сформулируйте выводы.\n",
    "* Соотнесите выводы с продажами игр на других платформах.\n",
    "* Посмотрите на общее распределение игр по жанрам. Что можно сказать о самых прибыльных жанрах? Выделяются ли жанры с высокими и низкими продажами?"
   ]
  },
  {
   "cell_type": "code",
   "execution_count": 22,
   "metadata": {},
   "outputs": [
    {
     "data": {
      "image/png": "[encoded data removed]",
      "text/plain": [
       "<Figure size 720x432 with 1 Axes>"
      ]
     },
     "metadata": {
      "needs_background": "light"
     },
     "output_type": "display_data"
    }
   ],
   "source": [
    "df.groupby('year_of_release')['name'].count().plot(grid=True,figsize=(10,6))\n",
    "plt.title('Число игровых релизов в год')\n",
    "plt.xlabel('год выпуска')\n",
    "plt.ylabel('количество игр, шт.')\n",
    "plt.show()"
   ]
  },
  {
   "cell_type": "markdown",
   "metadata": {},
   "source": [
    "\n",
    "\n",
    "---\n",
    "\n",
    "\n",
    "Начиная с 1993 года **(знаковый год для игровой индустрии - год выхода первого \n",
    "Doom)** ежегодное предложение компьютерных игр начинает стремительно расти вплоть до 2008 года.\n",
    "\n",
    "То, что выпускалось до 1993 года составляет менее 2% выборки. Но не буду торопиться отбрасывать эти данные\n",
    "\n",
    "\n",
    "---\n",
    "\n"
   ]
  },
  {
   "cell_type": "code",
   "execution_count": 23,
   "metadata": {},
   "outputs": [
    {
     "data": {
      "text/plain": [
       "0.01824708345797188"
      ]
     },
     "execution_count": 23,
     "metadata": {},
     "output_type": "execute_result"
    }
   ],
   "source": [
    "len(df[df['year_of_release'] < '1993'])/len(df)"
   ]
  },
  {
   "cell_type": "markdown",
   "metadata": {},
   "source": [
    "\n",
    "\n",
    "---\n",
    "\n",
    "У меня возникло предположение, что до 2008 года (мировой экономический кризис) количество игровых платформ было больше, соответственно игровых релизов в связи с этим было больше. Построю график, чтобы проверить это.\n",
    "\n",
    "---\n",
    "\n"
   ]
  },
  {
   "cell_type": "code",
   "execution_count": 24,
   "metadata": {},
   "outputs": [
    {
     "data": {
      "image/png": "[encoded data removed]",
      "text/plain": [
       "<Figure size 432x288 with 1 Axes>"
      ]
     },
     "metadata": {
      "needs_background": "light"
     },
     "output_type": "display_data"
    }
   ],
   "source": [
    "df.groupby('year_of_release')['platform'].nunique().plot()\n",
    "plt.title('Количество поддерживаемых консолей в год')\n",
    "plt.xlabel('год')\n",
    "plt.ylabel('количество поддерживаемых консолей, шт')\n",
    "plt.show()"
   ]
  },
  {
   "cell_type": "markdown",
   "metadata": {},
   "source": [
    "---\n",
    "\n",
    "**Ну нет. Начиная с 1994 количество платформ в выборке колеблется от 6 до 11**\n",
    "\n",
    "Одни закрываются , другие появляются. Выберу топ 10 платформ с наибольшим числом суммарных продаж и релизов и посмотрю на них всех в одних координатах.\n",
    "\n",
    "---"
   ]
  },
  {
   "cell_type": "code",
   "execution_count": 25,
   "metadata": {},
   "outputs": [],
   "source": [
    "consoles = (  \n",
    "    df.groupby('platform')['total_sales']\n",
    "    .agg(['count','sum'])\n",
    "    .reset_index()\n",
    "    .sort_values(by=['sum','count'],ascending=False)\n",
    "    )"
   ]
  },
  {
   "cell_type": "code",
   "execution_count": 26,
   "metadata": {},
   "outputs": [],
   "source": [
    "consoles.columns = ['platform', 'game_releases', 'sum_of_sales']"
   ]
  },
  {
   "cell_type": "code",
   "execution_count": 27,
   "metadata": {},
   "outputs": [
    {
     "data": {
      "text/html": [
       "<div>\n",
       "<style scoped>\n",
       "    .dataframe tbody tr th:only-of-type {\n",
       "        vertical-align: middle;\n",
       "    }\n",
       "\n",
       "    .dataframe tbody tr th {\n",
       "        vertical-align: top;\n",
       "    }\n",
       "\n",
       "    .dataframe thead th {\n",
       "        text-align: right;\n",
       "    }\n",
       "</style>\n",
       "<table border=\"1\" class=\"dataframe\">\n",
       "  <thead>\n",
       "    <tr style=\"text-align: right;\">\n",
       "      <th></th>\n",
       "      <th>platform</th>\n",
       "      <th>game_releases</th>\n",
       "      <th>sum_of_sales</th>\n",
       "    </tr>\n",
       "  </thead>\n",
       "  <tbody>\n",
       "    <tr>\n",
       "      <th>16</th>\n",
       "      <td>ps2</td>\n",
       "      <td>2161</td>\n",
       "      <td>1255.77</td>\n",
       "    </tr>\n",
       "    <tr>\n",
       "      <th>28</th>\n",
       "      <td>x360</td>\n",
       "      <td>1262</td>\n",
       "      <td>971.42</td>\n",
       "    </tr>\n",
       "    <tr>\n",
       "      <th>17</th>\n",
       "      <td>ps3</td>\n",
       "      <td>1331</td>\n",
       "      <td>939.65</td>\n",
       "    </tr>\n",
       "    <tr>\n",
       "      <th>25</th>\n",
       "      <td>wii</td>\n",
       "      <td>1320</td>\n",
       "      <td>907.51</td>\n",
       "    </tr>\n",
       "    <tr>\n",
       "      <th>4</th>\n",
       "      <td>ds</td>\n",
       "      <td>2151</td>\n",
       "      <td>806.12</td>\n",
       "    </tr>\n",
       "    <tr>\n",
       "      <th>15</th>\n",
       "      <td>ps</td>\n",
       "      <td>1197</td>\n",
       "      <td>730.86</td>\n",
       "    </tr>\n",
       "    <tr>\n",
       "      <th>6</th>\n",
       "      <td>gba</td>\n",
       "      <td>822</td>\n",
       "      <td>317.85</td>\n",
       "    </tr>\n",
       "    <tr>\n",
       "      <th>18</th>\n",
       "      <td>ps4</td>\n",
       "      <td>392</td>\n",
       "      <td>314.14</td>\n",
       "    </tr>\n",
       "    <tr>\n",
       "      <th>19</th>\n",
       "      <td>psp</td>\n",
       "      <td>1209</td>\n",
       "      <td>294.05</td>\n",
       "    </tr>\n",
       "    <tr>\n",
       "      <th>13</th>\n",
       "      <td>pc</td>\n",
       "      <td>974</td>\n",
       "      <td>259.52</td>\n",
       "    </tr>\n",
       "  </tbody>\n",
       "</table>\n",
       "</div>"
      ],
      "text/plain": [
       "   platform  game_releases  sum_of_sales\n",
       "16      ps2           2161       1255.77\n",
       "28     x360           1262        971.42\n",
       "17      ps3           1331        939.65\n",
       "25      wii           1320        907.51\n",
       "4        ds           2151        806.12\n",
       "15       ps           1197        730.86\n",
       "6       gba            822        317.85\n",
       "18      ps4            392        314.14\n",
       "19      psp           1209        294.05\n",
       "13       pc            974        259.52"
      ]
     },
     "execution_count": 27,
     "metadata": {},
     "output_type": "execute_result"
    }
   ],
   "source": [
    "consoles.head(10)"
   ]
  },
  {
   "cell_type": "code",
   "execution_count": 28,
   "metadata": {},
   "outputs": [
    {
     "data": {
      "image/png": "[encoded data removed]",
      "text/plain": [
       "<Figure size 864x432 with 1 Axes>"
      ]
     },
     "metadata": {
      "needs_background": "light"
     },
     "output_type": "display_data"
    }
   ],
   "source": [
    "ax = (\n",
    "    df[df['platform'] == 'ps2']\n",
    "    .groupby('year_of_release')['total_sales']\n",
    "    .sum().plot(\n",
    "        grid=True, figsize=(12,6), label='ps2', linewidth=3, legend=True\n",
    "        )\n",
    "    )\n",
    "(\n",
    "    df[df['platform'] == 'x360']\n",
    " .groupby('year_of_release')['total_sales']\n",
    " .sum().plot(\n",
    "     grid=True, figsize=(12,6), ax=ax, label='x360', linewidth=3, legend=True\n",
    "     )\n",
    " )\n",
    "(\n",
    "    df[df['platform'] == 'ps3']\n",
    " .groupby('year_of_release')['total_sales']\n",
    " .sum().plot(\n",
    "     grid=True, figsize=(12,6), ax=ax, label='ps3', linewidth=3, legend=True\n",
    "     )\n",
    " )\n",
    "(\n",
    "    df[df['platform'] == 'wii']\n",
    " .groupby('year_of_release')['total_sales']\n",
    " .sum().plot(\n",
    "     grid=True, figsize=(12,6), ax=ax, label='wii', linewidth=3, legend=True\n",
    "     )\n",
    " )\n",
    "(\n",
    "    df[df['platform'] == 'ds']\n",
    " .groupby('year_of_release')['total_sales']\n",
    " .sum().plot(\n",
    "     grid=True, figsize=(12,6), ax=ax, label='ds', linewidth=3, legend=True\n",
    "     )\n",
    " )\n",
    "(\n",
    "    df[df['platform'] == 'ps']\n",
    " .groupby('year_of_release')['total_sales']\n",
    " .sum().plot(\n",
    "     grid=True, figsize=(12,6), ax=ax, label='ps', linewidth=3, legend=True\n",
    "     )\n",
    " )\n",
    "(\n",
    "    df[df['platform'] == 'gba']\n",
    " .groupby('year_of_release')['total_sales']\n",
    " .sum().plot(\n",
    "     grid=True, figsize=(12,6), ax=ax, label='gba', linewidth=3, legend=True\n",
    "     )\n",
    " )\n",
    "(\n",
    "    df[df['platform'] == 'ps4']\n",
    " .groupby('year_of_release')['total_sales']\n",
    " .sum().plot(\n",
    "     grid=True, figsize=(12,6), ax=ax, label='ps4', linewidth=3, legend=True\n",
    "     )\n",
    " )\n",
    "(\n",
    "    df[df['platform'] == 'psp']\n",
    " .groupby('year_of_release')['total_sales']\n",
    " .sum().plot(\n",
    "     grid=True, figsize=(12,6), ax=ax, label='psp', linewidth=3, legend=True\n",
    "     )\n",
    " )\n",
    "(\n",
    "    df[df['platform'] == 'pc']\n",
    " .groupby('year_of_release')['total_sales']\n",
    " .sum().plot(\n",
    "     grid=True, figsize=(12,6), ax=ax, label='pc', linewidth=3, legend=True\n",
    "     )\n",
    " )\n",
    "plt.title('Продажи игр в зависимости от консоли')\n",
    "plt.xlabel('год')\n",
    "plt.ylabel('количество поданных копий, млн.')\n",
    "plt.show()"
   ]
  },
  {
   "cell_type": "markdown",
   "metadata": {},
   "source": [
    "\n",
    "\n",
    "---\n",
    "\n",
    "Явная монополия ps и ps2 в качестве самых востребованных консолей заканчивается в 2004 году, когда к конкурентной борьбе подключаются psp, новая реинкарнация nintendo ds. **Период с 2004 по 2016 буду считать подходящим для оценки средней продолжительности жизни консоли**\n",
    "\n",
    "Период жизни консоли и, соответственно, продаж игр на неё, судя по графикам, лежит в интервале 7-11 лет. Зависит от поддержки и технологичности самой консили на момент выхода (как долго она сможет поддерживать современные игры на аппаратном уровне).\n",
    "\n",
    "**Проверю среднее срока \"жизни\" консолей начиная с 2004 года**\n",
    "\n",
    "---\n",
    "\n"
   ]
  },
  {
   "cell_type": "code",
   "execution_count": 29,
   "metadata": {},
   "outputs": [],
   "source": [
    "years_of_life = (\n",
    "    df[df['year_of_release'] >= '2004']\n",
    "    .groupby('platform')['year_of_release']\n",
    "    .agg(['min','max']).reset_index()\n",
    "    )"
   ]
  },
  {
   "cell_type": "code",
   "execution_count": 30,
   "metadata": {},
   "outputs": [],
   "source": [
    "years_of_life['delta'] = years_of_life['max'] - years_of_life['min']"
   ]
  },
  {
   "cell_type": "code",
   "execution_count": 31,
   "metadata": {},
   "outputs": [
    {
     "data": {
      "text/plain": [
       "Timedelta('2305 days 12:00:00')"
      ]
     },
     "execution_count": 31,
     "metadata": {},
     "output_type": "execute_result"
    }
   ],
   "source": [
    "years_of_life['delta'].mean()"
   ]
  },
  {
   "cell_type": "code",
   "execution_count": 32,
   "metadata": {},
   "outputs": [
    {
     "data": {
      "text/plain": [
       "6.315068493150685"
      ]
     },
     "execution_count": 32,
     "metadata": {},
     "output_type": "execute_result"
    }
   ],
   "source": [
    "2305 / 365"
   ]
  },
  {
   "cell_type": "markdown",
   "metadata": {},
   "source": [
    "\n",
    "\n",
    "---\n",
    "\n",
    "\n",
    "Чуть более 6,3 лет в среднем живут консоли на рынке. Выход на максимальный уровень продаж по миру у них занимает от 1 до 2х лет, если говорить об актуальном периоде (в период более низкой конкуренции выход на максимум мог быть дольше)\n",
    "\n",
    "**Поэтому, если я в 2016м захочу активно продавать те игры, которые, вероятно, будут на пике спроса в 2017м, посмотрю в первую очередь на платформы, которые вышли на рынок в пределах последних 2х-3х лет. Обозначу актуальный период (2013 - 2016) для принятия стратегических решений на 2017.**\n",
    "\n",
    "\n",
    "---\n",
    "\n",
    "Выясню, какие платформы лидируют по продажам в актуальный период\n",
    "\n",
    "\n",
    "---\n",
    "\n",
    "\n",
    "\n"
   ]
  },
  {
   "cell_type": "code",
   "execution_count": 33,
   "metadata": {},
   "outputs": [],
   "source": [
    "adf = df[df['year_of_release'] >= '2013']"
   ]
  },
  {
   "cell_type": "markdown",
   "metadata": {},
   "source": [
    "\n",
    "\n",
    "---\n",
    "\n",
    "\n",
    "Пересохраню переменную `consoles` с учётом рамок актуального периода.\n",
    "\n",
    "И посмотрю на тенденции (рост или снижение) объёмов продаж для 10 топовых в актуальный период консолей\n",
    "\n",
    "\n",
    "---"
   ]
  },
  {
   "cell_type": "code",
   "execution_count": 34,
   "metadata": {},
   "outputs": [],
   "source": [
    "consoles = (  \n",
    "    adf.groupby('platform')['total_sales']\n",
    "    .agg(['count','sum'])\n",
    "    .reset_index()\n",
    "    .sort_values(by=['sum','count'],ascending=False)\n",
    "    )"
   ]
  },
  {
   "cell_type": "code",
   "execution_count": 35,
   "metadata": {},
   "outputs": [],
   "source": [
    "consoles.columns = ['platform', 'game_releases', 'sum_of_sales']"
   ]
  },
  {
   "cell_type": "code",
   "execution_count": 36,
   "metadata": {},
   "outputs": [
    {
     "data": {
      "text/html": [
       "<div>\n",
       "<style scoped>\n",
       "    .dataframe tbody tr th:only-of-type {\n",
       "        vertical-align: middle;\n",
       "    }\n",
       "\n",
       "    .dataframe tbody tr th {\n",
       "        vertical-align: top;\n",
       "    }\n",
       "\n",
       "    .dataframe thead th {\n",
       "        text-align: right;\n",
       "    }\n",
       "</style>\n",
       "<table border=\"1\" class=\"dataframe\">\n",
       "  <thead>\n",
       "    <tr style=\"text-align: right;\">\n",
       "      <th></th>\n",
       "      <th>platform</th>\n",
       "      <th>game_releases</th>\n",
       "      <th>sum_of_sales</th>\n",
       "    </tr>\n",
       "  </thead>\n",
       "  <tbody>\n",
       "    <tr>\n",
       "      <th>4</th>\n",
       "      <td>ps4</td>\n",
       "      <td>392</td>\n",
       "      <td>314.14</td>\n",
       "    </tr>\n",
       "    <tr>\n",
       "      <th>3</th>\n",
       "      <td>ps3</td>\n",
       "      <td>345</td>\n",
       "      <td>181.43</td>\n",
       "    </tr>\n",
       "    <tr>\n",
       "      <th>10</th>\n",
       "      <td>xone</td>\n",
       "      <td>247</td>\n",
       "      <td>159.32</td>\n",
       "    </tr>\n",
       "    <tr>\n",
       "      <th>0</th>\n",
       "      <td>3ds</td>\n",
       "      <td>303</td>\n",
       "      <td>143.25</td>\n",
       "    </tr>\n",
       "    <tr>\n",
       "      <th>9</th>\n",
       "      <td>x360</td>\n",
       "      <td>186</td>\n",
       "      <td>136.80</td>\n",
       "    </tr>\n",
       "    <tr>\n",
       "      <th>8</th>\n",
       "      <td>wiiu</td>\n",
       "      <td>115</td>\n",
       "      <td>64.63</td>\n",
       "    </tr>\n",
       "    <tr>\n",
       "      <th>2</th>\n",
       "      <td>pc</td>\n",
       "      <td>189</td>\n",
       "      <td>39.43</td>\n",
       "    </tr>\n",
       "    <tr>\n",
       "      <th>6</th>\n",
       "      <td>psv</td>\n",
       "      <td>358</td>\n",
       "      <td>32.99</td>\n",
       "    </tr>\n",
       "    <tr>\n",
       "      <th>7</th>\n",
       "      <td>wii</td>\n",
       "      <td>23</td>\n",
       "      <td>13.66</td>\n",
       "    </tr>\n",
       "    <tr>\n",
       "      <th>5</th>\n",
       "      <td>psp</td>\n",
       "      <td>67</td>\n",
       "      <td>3.50</td>\n",
       "    </tr>\n",
       "    <tr>\n",
       "      <th>1</th>\n",
       "      <td>ds</td>\n",
       "      <td>8</td>\n",
       "      <td>1.54</td>\n",
       "    </tr>\n",
       "  </tbody>\n",
       "</table>\n",
       "</div>"
      ],
      "text/plain": [
       "   platform  game_releases  sum_of_sales\n",
       "4       ps4            392        314.14\n",
       "3       ps3            345        181.43\n",
       "10     xone            247        159.32\n",
       "0       3ds            303        143.25\n",
       "9      x360            186        136.80\n",
       "8      wiiu            115         64.63\n",
       "2        pc            189         39.43\n",
       "6       psv            358         32.99\n",
       "7       wii             23         13.66\n",
       "5       psp             67          3.50\n",
       "1        ds              8          1.54"
      ]
     },
     "execution_count": 36,
     "metadata": {},
     "output_type": "execute_result"
    }
   ],
   "source": [
    "consoles"
   ]
  },
  {
   "cell_type": "markdown",
   "metadata": {},
   "source": [
    "Сделаю функцию, чтобы сделать код компактнее, нежели предыдущий вывод графиков по сгруппированным данным о консолях."
   ]
  },
  {
   "cell_type": "code",
   "execution_count": 37,
   "metadata": {},
   "outputs": [],
   "source": [
    "def group_plot(console):\n",
    "    (adf[adf['platform'] == console].\n",
    "    groupby('year_of_release')['total_sales'].sum().\n",
    "    plot(\n",
    "        grid=True, \n",
    "        figsize=(12,10), \n",
    "        ax=ax, \n",
    "        label=console, \n",
    "        linewidth=3, \n",
    "        legend=True)\n",
    "    )"
   ]
  },
  {
   "cell_type": "code",
   "execution_count": 38,
   "metadata": {},
   "outputs": [
    {
     "data": {
      "text/plain": [
       "array(['ps3', 'x360', 'ps4', '3ds', 'xone', 'wiiu', 'wii', 'pc', 'psv',\n",
       "       'ds', 'psp'], dtype=object)"
      ]
     },
     "execution_count": 38,
     "metadata": {},
     "output_type": "execute_result"
    }
   ],
   "source": [
    "adf['platform'].unique()"
   ]
  },
  {
   "cell_type": "code",
   "execution_count": 39,
   "metadata": {},
   "outputs": [],
   "source": [
    "consoles_list = ['ps3', 'x360', '3ds', \n",
    "                 'xone', 'wiiu', 'wii', \n",
    "                 'pc', 'psv', 'ds', 'psp']"
   ]
  },
  {
   "cell_type": "code",
   "execution_count": 40,
   "metadata": {},
   "outputs": [
    {
     "data": {
      "image/png": "[encoded data removed]",
      "text/plain": [
       "<Figure size 864x720 with 1 Axes>"
      ]
     },
     "metadata": {
      "needs_background": "light"
     },
     "output_type": "display_data"
    }
   ],
   "source": [
    "ax = (\n",
    "    adf[adf['platform'] == 'ps4']\n",
    "    .groupby('year_of_release')['total_sales']\n",
    "    .sum().plot(\n",
    "        grid=True, \n",
    "        figsize=(12,10), \n",
    "        label='ps4', \n",
    "        linewidth=3, \n",
    "        legend=True\n",
    "        )\n",
    "    )\n",
    "for console in consoles_list:\n",
    "    group_plot(console)\n",
    "plt.title('Продажи игр в зависимости от консоли')\n",
    "plt.xlabel('год')\n",
    "plt.ylabel('количество поданных копий, млн.')\n",
    "plt.show()"
   ]
  },
  {
   "cell_type": "markdown",
   "metadata": {},
   "source": [
    "\n",
    "\n",
    "---\n",
    "\n",
    "При чтении графика важно учитывать тот момент, что за 2016 год данные неполные, поэтому наблюдаемое \"снижение объёмов продаж\" игр на ps4 и xone - следствие недостачи данных за 2016, а не реального снижения объёма продаж относительно 2015 года.\n",
    "\n",
    "---\n",
    "\n",
    "**Платформы ps4 и xbox one, чьи продажи стартовали в 2013 году, имеют все шансы в 2017-м быть на пике популярности:**\n",
    "\n",
    "* На момент выборки они на рынке менее 3х лет\n",
    "* До конца 2015 (последние полные продажди за год) объём продаж имеет восходящий тренд, что подтверждает - спрос пользователей к консоли растёт.\n",
    "\n",
    "---\n",
    "\n",
    "Остальные консоли в топ 10, в актуальном периоде имеют нисходящий тренд продаж:\n",
    "\n",
    "* ps3 и xbox 360 потому что им на смену пришли следующие поколения\n",
    "* nintendo 3ds также на момент выборки (конец 2016) уже подходит к концу среднего времени жизни консоли. Данная переносная консоль выпускалась с 2011 года (поддержка была полностью прекращена в 2020).\n",
    "* С приходом производительных графических процессоров в мобильные телефоны а также стараниями мобильных разработчиков - объёмы продаж игр на мобильные консоли (psv,psp,3ds) постепенно снижается.\n",
    "\n",
    "---\n",
    "\n",
    "**Посмотрю на диаграммы размаха значений `'total_sales'` по каждой консоли в выборке из актуального периода.**\n",
    "\n",
    "---\n",
    "\n",
    "\n"
   ]
  },
  {
   "cell_type": "code",
   "execution_count": 41,
   "metadata": {},
   "outputs": [
    {
     "data": {
      "text/plain": [
       "Text(0, 0.5, 'проданных копий, млн')"
      ]
     },
     "execution_count": 41,
     "metadata": {},
     "output_type": "execute_result"
    },
    {
     "data": {
      "image/png": "[encoded data removed]",
      "text/plain": [
       "<Figure size 864x432 with 1 Axes>"
      ]
     },
     "metadata": {
      "needs_background": "light"
     },
     "output_type": "display_data"
    }
   ],
   "source": [
    "adf.boxplot('total_sales',by='platform',figsize=(12,6))\n",
    "plt.grid(axis='x')\n",
    "plt.title('размах значений продаж по платформам')\n",
    "plt.xlabel('платформа')\n",
    "plt.ylabel('проданных копий, млн')"
   ]
  },
  {
   "cell_type": "markdown",
   "metadata": {},
   "source": [
    "\n",
    "\n",
    "---\n",
    "\n",
    "Посмотрю на эту же диаграмму размахов, но уже без выбросов (только смещением рассматриваемых координатных осей)\n",
    "\n",
    "---\n",
    "\n"
   ]
  },
  {
   "cell_type": "code",
   "execution_count": 42,
   "metadata": {},
   "outputs": [
    {
     "data": {
      "text/plain": [
       "Text(0, 0.5, 'проданных копий, млн')"
      ]
     },
     "execution_count": 42,
     "metadata": {},
     "output_type": "execute_result"
    },
    {
     "data": {
      "image/png": "[encoded data removed]",
      "text/plain": [
       "<Figure size 864x432 with 1 Axes>"
      ]
     },
     "metadata": {
      "needs_background": "light"
     },
     "output_type": "display_data"
    }
   ],
   "source": [
    "adf.boxplot('total_sales',by='platform',figsize=(12,6))\n",
    "plt.grid(axis='x')\n",
    "plt.ylim(0,1.75)\n",
    "plt.title('размах значений продаж по платформам без выбросов')\n",
    "plt.xlabel('платформа')\n",
    "plt.ylabel('проданных копий, млн')"
   ]
  },
  {
   "cell_type": "markdown",
   "metadata": {},
   "source": [
    "\n",
    "\n",
    "---\n",
    "\n",
    "\n",
    "На первый взгляд - огромное множество выбросов. Но ещё в разделе подготовки данных, при создании столбца `'total_sales'` я отметил, что между объёмами продаж разных игр может быть пропасть, которую создают талантливые разработчики игр и маркетологи.\n",
    "\n",
    "Что примечательно, медианное значение продаж xbox one и xbox 360 выше, чем у ps4 и ps3. Это может быть следствием бОльшего числа продаж некоторых игр на консолях Microsoft за счёт обширного домашнего рынка Северной Америке. Но самые мощные бестселлеры всё-таки на диаграммах Sony, далеко за пределами ноормальных значений.\n",
    "\n",
    "Такие экземпляры, как GTA5 на ps3 c 21.05 млн. проданных копий(самая высокая точка на графике с выбросами) на диаграмме размаха смотрится как самый сильный выброс. **А фактически - это выдающийся творческий и коммерческий успех.**\n",
    "\n",
    "\n",
    "---\n",
    "\n",
    "**Таким образом настоящий успех в игровой индустрии лежит вверху, за пределами нормальных значений диаграммы разброса.**\n",
    "\n",
    "\n",
    "\n",
    "---\n",
    "\n",
    "Рассмотрю влияние отзывов пользователей и критиков  на продажи игр, на примере самой популярной консоли в актуальный период и наличие корреляции между отзывами и продажами.\n",
    "\n",
    "\n",
    "\n",
    "---\n",
    "\n",
    "\n",
    "\n"
   ]
  },
  {
   "cell_type": "code",
   "execution_count": 43,
   "metadata": {},
   "outputs": [
    {
     "data": {
      "text/html": [
       "<div>\n",
       "<style scoped>\n",
       "    .dataframe tbody tr th:only-of-type {\n",
       "        vertical-align: middle;\n",
       "    }\n",
       "\n",
       "    .dataframe tbody tr th {\n",
       "        vertical-align: top;\n",
       "    }\n",
       "\n",
       "    .dataframe thead th {\n",
       "        text-align: right;\n",
       "    }\n",
       "</style>\n",
       "<table border=\"1\" class=\"dataframe\">\n",
       "  <thead>\n",
       "    <tr style=\"text-align: right;\">\n",
       "      <th></th>\n",
       "      <th>platform</th>\n",
       "      <th>game_releases</th>\n",
       "      <th>sum_of_sales</th>\n",
       "    </tr>\n",
       "  </thead>\n",
       "  <tbody>\n",
       "    <tr>\n",
       "      <th>4</th>\n",
       "      <td>ps4</td>\n",
       "      <td>392</td>\n",
       "      <td>314.14</td>\n",
       "    </tr>\n",
       "    <tr>\n",
       "      <th>3</th>\n",
       "      <td>ps3</td>\n",
       "      <td>345</td>\n",
       "      <td>181.43</td>\n",
       "    </tr>\n",
       "    <tr>\n",
       "      <th>10</th>\n",
       "      <td>xone</td>\n",
       "      <td>247</td>\n",
       "      <td>159.32</td>\n",
       "    </tr>\n",
       "    <tr>\n",
       "      <th>0</th>\n",
       "      <td>3ds</td>\n",
       "      <td>303</td>\n",
       "      <td>143.25</td>\n",
       "    </tr>\n",
       "    <tr>\n",
       "      <th>9</th>\n",
       "      <td>x360</td>\n",
       "      <td>186</td>\n",
       "      <td>136.80</td>\n",
       "    </tr>\n",
       "  </tbody>\n",
       "</table>\n",
       "</div>"
      ],
      "text/plain": [
       "   platform  game_releases  sum_of_sales\n",
       "4       ps4            392        314.14\n",
       "3       ps3            345        181.43\n",
       "10     xone            247        159.32\n",
       "0       3ds            303        143.25\n",
       "9      x360            186        136.80"
      ]
     },
     "execution_count": 43,
     "metadata": {},
     "output_type": "execute_result"
    }
   ],
   "source": [
    "consoles.head(5)"
   ]
  },
  {
   "cell_type": "code",
   "execution_count": 44,
   "metadata": {},
   "outputs": [],
   "source": [
    "adf_ps4 = adf.query('platform == \"ps4\"')"
   ]
  },
  {
   "cell_type": "code",
   "execution_count": 45,
   "metadata": {},
   "outputs": [
    {
     "data": {
      "text/plain": [
       "(               data  per_miss       data_type\n",
       " 0              name  0.000000          object\n",
       " 1          platform  0.000000          object\n",
       " 2   year_of_release  0.000000  datetime64[ns]\n",
       " 3             genre  0.000000          object\n",
       " 4          na_sales  0.000000         float64\n",
       " 5          eu_sales  0.000000         float64\n",
       " 6          jp_sales  0.000000         float64\n",
       " 7       other_sales  0.000000         float64\n",
       " 8      critic_score  0.357143         float64\n",
       " 9        user_score  0.344388         float64\n",
       " 10           rating  0.349490          object\n",
       " 11      total_sales  0.000000         float64,\n",
       " 'Number of lines: 392')"
      ]
     },
     "execution_count": 45,
     "metadata": {},
     "output_type": "execute_result"
    }
   ],
   "source": [
    "df_info(adf_ps4)"
   ]
  },
  {
   "cell_type": "markdown",
   "metadata": {},
   "source": [
    "---\n",
    "\n",
    "Фактически я буду рассматривать разброс 251 точки на пересечении имеющейся оценки и суммарных продаж\n",
    "392 * (1 - 0.357143)\n",
    "\n",
    "---"
   ]
  },
  {
   "cell_type": "code",
   "execution_count": 46,
   "metadata": {},
   "outputs": [
    {
     "data": {
      "text/plain": [
       "<AxesSubplot:xlabel='user_score', ylabel='total_sales'>"
      ]
     },
     "execution_count": 46,
     "metadata": {},
     "output_type": "execute_result"
    },
    {
     "data": {
      "image/png": "[encoded data removed]",
      "text/plain": [
       "<Figure size 360x360 with 1 Axes>"
      ]
     },
     "metadata": {
      "needs_background": "light"
     },
     "output_type": "display_data"
    }
   ],
   "source": [
    "adf_ps4.plot(y='total_sales', x='user_score', kind='scatter', figsize=(5,5))"
   ]
  },
  {
   "cell_type": "code",
   "execution_count": 47,
   "metadata": {},
   "outputs": [
    {
     "data": {
      "text/plain": [
       "-0.031957110204556466"
      ]
     },
     "execution_count": 47,
     "metadata": {},
     "output_type": "execute_result"
    }
   ],
   "source": [
    "adf_ps4['total_sales'].corr(adf_ps4['user_score'], method='pearson')"
   ]
  },
  {
   "cell_type": "markdown",
   "metadata": {},
   "source": [
    "---\n",
    "\n",
    "Линейной зависимости нет. Но это не повод отказываться от чтения отзывов перед покупкой.\n",
    "\n",
    "---"
   ]
  },
  {
   "cell_type": "code",
   "execution_count": 48,
   "metadata": {},
   "outputs": [
    {
     "data": {
      "text/plain": [
       "<AxesSubplot:xlabel='critic_score', ylabel='total_sales'>"
      ]
     },
     "execution_count": 48,
     "metadata": {},
     "output_type": "execute_result"
    },
    {
     "data": {
      "image/png": "[encoded data removed]",
      "text/plain": [
       "<Figure size 360x360 with 1 Axes>"
      ]
     },
     "metadata": {
      "needs_background": "light"
     },
     "output_type": "display_data"
    }
   ],
   "source": [
    "adf_ps4.plot(y='total_sales', x='critic_score', kind='scatter', figsize=(5,5))"
   ]
  },
  {
   "cell_type": "code",
   "execution_count": 49,
   "metadata": {},
   "outputs": [
    {
     "data": {
      "text/plain": [
       "0.40656790206178145"
      ]
     },
     "execution_count": 49,
     "metadata": {},
     "output_type": "execute_result"
    }
   ],
   "source": [
    "adf_ps4['total_sales'].corr(adf_ps4['critic_score'], method='pearson')"
   ]
  },
  {
   "cell_type": "markdown",
   "metadata": {},
   "source": [
    "\n",
    "\n",
    "---\n",
    "\n",
    "\n",
    "\n",
    "Прямой линейной связи между оценками и объёмом продаж нет. Но разница между коэффициентом корреляции продаж с пользовательскими оценками и оценками критиков даёт мне понять, что более сложная связь есть. \n",
    "\n",
    "И к мнению критиков пользователи, вероятно, прислушиваются несколько больше, чем к своим собратьям.\n",
    "\n",
    "Проверю это на других платформах из списка самых популярных в актуальный период. Но диаграммы рассеяния строить не вижу смысла: они будут ещё более скудными и неинформативными. Посмотрю на коэффифиенты корреляции.\n",
    "\n",
    "\n",
    "---\n",
    "\n"
   ]
  },
  {
   "cell_type": "code",
   "execution_count": 50,
   "metadata": {},
   "outputs": [
    {
     "data": {
      "text/html": [
       "<div>\n",
       "<style scoped>\n",
       "    .dataframe tbody tr th:only-of-type {\n",
       "        vertical-align: middle;\n",
       "    }\n",
       "\n",
       "    .dataframe tbody tr th {\n",
       "        vertical-align: top;\n",
       "    }\n",
       "\n",
       "    .dataframe thead th {\n",
       "        text-align: right;\n",
       "    }\n",
       "</style>\n",
       "<table border=\"1\" class=\"dataframe\">\n",
       "  <thead>\n",
       "    <tr style=\"text-align: right;\">\n",
       "      <th></th>\n",
       "      <th>platform</th>\n",
       "      <th>game_releases</th>\n",
       "      <th>sum_of_sales</th>\n",
       "    </tr>\n",
       "  </thead>\n",
       "  <tbody>\n",
       "    <tr>\n",
       "      <th>4</th>\n",
       "      <td>ps4</td>\n",
       "      <td>392</td>\n",
       "      <td>314.14</td>\n",
       "    </tr>\n",
       "    <tr>\n",
       "      <th>3</th>\n",
       "      <td>ps3</td>\n",
       "      <td>345</td>\n",
       "      <td>181.43</td>\n",
       "    </tr>\n",
       "    <tr>\n",
       "      <th>10</th>\n",
       "      <td>xone</td>\n",
       "      <td>247</td>\n",
       "      <td>159.32</td>\n",
       "    </tr>\n",
       "    <tr>\n",
       "      <th>0</th>\n",
       "      <td>3ds</td>\n",
       "      <td>303</td>\n",
       "      <td>143.25</td>\n",
       "    </tr>\n",
       "    <tr>\n",
       "      <th>9</th>\n",
       "      <td>x360</td>\n",
       "      <td>186</td>\n",
       "      <td>136.80</td>\n",
       "    </tr>\n",
       "  </tbody>\n",
       "</table>\n",
       "</div>"
      ],
      "text/plain": [
       "   platform  game_releases  sum_of_sales\n",
       "4       ps4            392        314.14\n",
       "3       ps3            345        181.43\n",
       "10     xone            247        159.32\n",
       "0       3ds            303        143.25\n",
       "9      x360            186        136.80"
      ]
     },
     "execution_count": 50,
     "metadata": {},
     "output_type": "execute_result"
    }
   ],
   "source": [
    "consoles.head(5)"
   ]
  },
  {
   "cell_type": "code",
   "execution_count": 51,
   "metadata": {},
   "outputs": [],
   "source": [
    "adf_ps3 = adf.query('platform == \"ps3\"')\n",
    "adf_xone = adf.query('platform == \"xone\"')\n",
    "adf_3ds = adf.query('platform == \"3ds\"')\n",
    "adf_x360 = adf.query('platform == \"x360\"')"
   ]
  },
  {
   "cell_type": "code",
   "execution_count": 52,
   "metadata": {},
   "outputs": [
    {
     "data": {
      "text/plain": [
       "0.002394402735756673"
      ]
     },
     "execution_count": 52,
     "metadata": {},
     "output_type": "execute_result"
    }
   ],
   "source": [
    "adf_ps3['total_sales'].corr(adf_ps3['user_score'], method='pearson')"
   ]
  },
  {
   "cell_type": "code",
   "execution_count": 53,
   "metadata": {},
   "outputs": [
    {
     "data": {
      "text/plain": [
       "0.33428533933719196"
      ]
     },
     "execution_count": 53,
     "metadata": {},
     "output_type": "execute_result"
    }
   ],
   "source": [
    "adf_ps3['total_sales'].corr(adf_ps3['critic_score'], method='pearson')"
   ]
  },
  {
   "cell_type": "markdown",
   "metadata": {},
   "source": [
    "\n",
    "---\n",
    "\n",
    "\n"
   ]
  },
  {
   "cell_type": "code",
   "execution_count": 54,
   "metadata": {},
   "outputs": [
    {
     "data": {
      "text/plain": [
       "-0.06892505328279419"
      ]
     },
     "execution_count": 54,
     "metadata": {},
     "output_type": "execute_result"
    }
   ],
   "source": [
    "adf_xone['total_sales'].corr(adf_xone['user_score'], method='pearson')"
   ]
  },
  {
   "cell_type": "code",
   "execution_count": 55,
   "metadata": {},
   "outputs": [
    {
     "data": {
      "text/plain": [
       "0.4169983280084016"
      ]
     },
     "execution_count": 55,
     "metadata": {},
     "output_type": "execute_result"
    }
   ],
   "source": [
    "adf_xone['total_sales'].corr(adf_xone['critic_score'], method='pearson')"
   ]
  },
  {
   "cell_type": "markdown",
   "metadata": {},
   "source": [
    "---"
   ]
  },
  {
   "cell_type": "code",
   "execution_count": 56,
   "metadata": {},
   "outputs": [
    {
     "data": {
      "text/plain": [
       "0.24150411773563024"
      ]
     },
     "execution_count": 56,
     "metadata": {},
     "output_type": "execute_result"
    }
   ],
   "source": [
    "adf_3ds['total_sales'].corr(adf_3ds['user_score'], method='pearson')"
   ]
  },
  {
   "cell_type": "code",
   "execution_count": 57,
   "metadata": {},
   "outputs": [
    {
     "data": {
      "text/plain": [
       "0.3570566142288104"
      ]
     },
     "execution_count": 57,
     "metadata": {},
     "output_type": "execute_result"
    }
   ],
   "source": [
    "adf_3ds['total_sales'].corr(adf_3ds['critic_score'], method='pearson')"
   ]
  },
  {
   "cell_type": "markdown",
   "metadata": {},
   "source": [
    "---"
   ]
  },
  {
   "cell_type": "code",
   "execution_count": 58,
   "metadata": {},
   "outputs": [
    {
     "data": {
      "text/plain": [
       "-0.011742185147181363"
      ]
     },
     "execution_count": 58,
     "metadata": {},
     "output_type": "execute_result"
    }
   ],
   "source": [
    "adf_x360['total_sales'].corr(adf_x360['user_score'], method='pearson')"
   ]
  },
  {
   "cell_type": "code",
   "execution_count": 59,
   "metadata": {},
   "outputs": [
    {
     "data": {
      "text/plain": [
       "0.3503445460228666"
      ]
     },
     "execution_count": 59,
     "metadata": {},
     "output_type": "execute_result"
    }
   ],
   "source": [
    "adf_x360['total_sales'].corr(adf_x360['critic_score'], method='pearson')"
   ]
  },
  {
   "cell_type": "markdown",
   "metadata": {},
   "source": [
    "\n",
    "\n",
    "---\n",
    "\n",
    "\n",
    "Как и в случае с самой популярной платформой ps4 прямой линейной зависисмости между продажами и оценками нет. Особенно это касается оценок пользователей. \n",
    "\n",
    "Однако, между объёмами продаж и оценками критиков есть слабая положительная связь, которую лучше не игнорировать. Критики довольны - продажам точно хуже не будет.\n",
    "\n",
    "\n",
    "---\n",
    "\n",
    "**Посмотрю на общее распределение игр по жанрам**\n",
    "\n",
    "---"
   ]
  },
  {
   "cell_type": "code",
   "execution_count": 60,
   "metadata": {},
   "outputs": [],
   "source": [
    "genre_rank = (\n",
    "    adf.pivot_table(\n",
    "        values='total_sales',\n",
    "        index='genre',\n",
    "        aggfunc='sum'\n",
    "        ).reset_index()\n",
    "        .sort_values(by='total_sales',ascending=False)\n",
    "        )"
   ]
  },
  {
   "cell_type": "code",
   "execution_count": 61,
   "metadata": {},
   "outputs": [
    {
     "data": {
      "image/png": "[encoded data removed]",
      "text/plain": [
       "<Figure size 720x360 with 1 Axes>"
      ]
     },
     "metadata": {
      "needs_background": "light"
     },
     "output_type": "display_data"
    }
   ],
   "source": [
    "(\n",
    "    genre_rank.set_index('genre').\n",
    "    plot(kind='bar',figsize=(10,5),grid=True,legend=True)\n",
    ")\n",
    "plt.grid(axis='x')\n",
    "plt.xticks(rotation=45)\n",
    "plt.title('распределение суммарных продаж по жанрам')\n",
    "plt.ylabel('количество поданных копий, млн.')\n",
    "plt.xlabel('жанр')\n",
    "plt.show()"
   ]
  },
  {
   "cell_type": "markdown",
   "metadata": {},
   "source": [
    "\n",
    "\n",
    "---\n",
    "\n",
    "Жанры action, shooter, sports, role-playing бескомпромисные лидеры продаж. Это ожидаемо, если посмотреть на основные кибер-спортивные дисциплины\n",
    "\n",
    "К сожалению, интеллектуальные головоломки и стратегии остаются уделом любителей, коих меньшенство.\n",
    "\n",
    "Но не буду делать поспешных выводов. Не исключено, что на разных рынках это распределение существенно отличается.\n",
    "\n",
    "---\n",
    "\n"
   ]
  },
  {
   "cell_type": "markdown",
   "metadata": {},
   "source": [
    "## Составление портрета пользователя каждого региона\n",
    "\n",
    "---\n",
    "\n",
    "Определите для пользователя каждого региона (NA, EU, JP):\n",
    "* Самые популярные платформы (топ-5). Опишите различия в долях продаж.\n",
    "* Самые популярные жанры (топ-5). Поясните разницу.\n",
    "* Влияет ли рейтинг ESRB на продажи в отдельном регионе?\n",
    "\n",
    "---\n",
    "\n",
    "**Самые популярные платформы.**\n",
    "\n",
    "Как распределены платформы по регионам? Найду ка я топ-5 для рынков Северной Америки, Европы и Японии.\n",
    "\n",
    "---"
   ]
  },
  {
   "cell_type": "code",
   "execution_count": 62,
   "metadata": {},
   "outputs": [],
   "source": [
    "location_platform = (\n",
    "    adf.groupby(['platform'])[['na_sales','eu_sales','jp_sales','total_sales']]\n",
    "    .sum().reset_index()\n",
    "    .sort_values(by='total_sales',ascending=False)\n",
    "    .set_index('platform')\n",
    "    )"
   ]
  },
  {
   "cell_type": "code",
   "execution_count": 63,
   "metadata": {},
   "outputs": [
    {
     "data": {
      "text/html": [
       "<div>\n",
       "<style scoped>\n",
       "    .dataframe tbody tr th:only-of-type {\n",
       "        vertical-align: middle;\n",
       "    }\n",
       "\n",
       "    .dataframe tbody tr th {\n",
       "        vertical-align: top;\n",
       "    }\n",
       "\n",
       "    .dataframe thead th {\n",
       "        text-align: right;\n",
       "    }\n",
       "</style>\n",
       "<table border=\"1\" class=\"dataframe\">\n",
       "  <thead>\n",
       "    <tr style=\"text-align: right;\">\n",
       "      <th></th>\n",
       "      <th>na_sales</th>\n",
       "      <th>eu_sales</th>\n",
       "      <th>jp_sales</th>\n",
       "      <th>total_sales</th>\n",
       "    </tr>\n",
       "    <tr>\n",
       "      <th>platform</th>\n",
       "      <th></th>\n",
       "      <th></th>\n",
       "      <th></th>\n",
       "      <th></th>\n",
       "    </tr>\n",
       "  </thead>\n",
       "  <tbody>\n",
       "    <tr>\n",
       "      <th>ps4</th>\n",
       "      <td>108.74</td>\n",
       "      <td>141.09</td>\n",
       "      <td>15.96</td>\n",
       "      <td>314.14</td>\n",
       "    </tr>\n",
       "    <tr>\n",
       "      <th>ps3</th>\n",
       "      <td>63.50</td>\n",
       "      <td>67.81</td>\n",
       "      <td>23.35</td>\n",
       "      <td>181.43</td>\n",
       "    </tr>\n",
       "    <tr>\n",
       "      <th>xone</th>\n",
       "      <td>93.12</td>\n",
       "      <td>51.59</td>\n",
       "      <td>0.34</td>\n",
       "      <td>159.32</td>\n",
       "    </tr>\n",
       "    <tr>\n",
       "      <th>3ds</th>\n",
       "      <td>38.20</td>\n",
       "      <td>30.96</td>\n",
       "      <td>67.81</td>\n",
       "      <td>143.25</td>\n",
       "    </tr>\n",
       "    <tr>\n",
       "      <th>x360</th>\n",
       "      <td>81.66</td>\n",
       "      <td>42.52</td>\n",
       "      <td>0.51</td>\n",
       "      <td>136.80</td>\n",
       "    </tr>\n",
       "    <tr>\n",
       "      <th>wiiu</th>\n",
       "      <td>29.21</td>\n",
       "      <td>19.85</td>\n",
       "      <td>10.88</td>\n",
       "      <td>64.63</td>\n",
       "    </tr>\n",
       "    <tr>\n",
       "      <th>pc</th>\n",
       "      <td>11.11</td>\n",
       "      <td>25.36</td>\n",
       "      <td>0.00</td>\n",
       "      <td>39.43</td>\n",
       "    </tr>\n",
       "    <tr>\n",
       "      <th>psv</th>\n",
       "      <td>5.04</td>\n",
       "      <td>6.10</td>\n",
       "      <td>18.59</td>\n",
       "      <td>32.99</td>\n",
       "    </tr>\n",
       "    <tr>\n",
       "      <th>wii</th>\n",
       "      <td>6.56</td>\n",
       "      <td>5.93</td>\n",
       "      <td>0.05</td>\n",
       "      <td>13.66</td>\n",
       "    </tr>\n",
       "    <tr>\n",
       "      <th>psp</th>\n",
       "      <td>0.00</td>\n",
       "      <td>0.17</td>\n",
       "      <td>3.29</td>\n",
       "      <td>3.50</td>\n",
       "    </tr>\n",
       "    <tr>\n",
       "      <th>ds</th>\n",
       "      <td>0.57</td>\n",
       "      <td>0.85</td>\n",
       "      <td>0.00</td>\n",
       "      <td>1.54</td>\n",
       "    </tr>\n",
       "  </tbody>\n",
       "</table>\n",
       "</div>"
      ],
      "text/plain": [
       "          na_sales  eu_sales  jp_sales  total_sales\n",
       "platform                                           \n",
       "ps4         108.74    141.09     15.96       314.14\n",
       "ps3          63.50     67.81     23.35       181.43\n",
       "xone         93.12     51.59      0.34       159.32\n",
       "3ds          38.20     30.96     67.81       143.25\n",
       "x360         81.66     42.52      0.51       136.80\n",
       "wiiu         29.21     19.85     10.88        64.63\n",
       "pc           11.11     25.36      0.00        39.43\n",
       "psv           5.04      6.10     18.59        32.99\n",
       "wii           6.56      5.93      0.05        13.66\n",
       "psp           0.00      0.17      3.29         3.50\n",
       "ds            0.57      0.85      0.00         1.54"
      ]
     },
     "execution_count": 63,
     "metadata": {},
     "output_type": "execute_result"
    }
   ],
   "source": [
    "location_platform"
   ]
  },
  {
   "cell_type": "markdown",
   "metadata": {},
   "source": [
    "---\n",
    "\n",
    "В Европе и Северной Америке топ-5 похож: платформы те же, расстановка по местам 4 и 5й позиций отличается. Япония - отдельный мир со своими предпочтениями. Я не удивлён, просто цифры это так наглядно показывают.\n",
    "Поэтому Японский топ-5 рассмотрю отдельно, а Европу и Северную Америку на общих графиках.\n",
    "\n",
    "---"
   ]
  },
  {
   "cell_type": "code",
   "execution_count": 64,
   "metadata": {},
   "outputs": [],
   "source": [
    "na_eu_platform = (\n",
    "    location_platform[['na_sales','eu_sales']]\n",
    "    .sort_values(by='na_sales', ascending=False)\n",
    "    .head()\n",
    "    )"
   ]
  },
  {
   "cell_type": "code",
   "execution_count": 65,
   "metadata": {},
   "outputs": [
    {
     "data": {
      "image/png": "[encoded data removed]",
      "text/plain": [
       "<Figure size 720x360 with 1 Axes>"
      ]
     },
     "metadata": {
      "needs_background": "light"
     },
     "output_type": "display_data"
    }
   ],
   "source": [
    "na_eu_platform.plot(kind='bar',figsize=(10,5),grid=True)\n",
    "plt.grid(axis='x')\n",
    "plt.xticks(rotation=0)\n",
    "plt.title('Продажи игр в топ-5 консолей Северной Америке и Европе')\n",
    "plt.ylabel('проданных игр, млн')\n",
    "plt.xlabel('консоли')\n",
    "plt.show()"
   ]
  },
  {
   "cell_type": "markdown",
   "metadata": {},
   "source": [
    "---\n",
    "\n",
    "Стоит отметить, что консоли Microsoft занимали первые позиции по продажам игр только в Северной Америке. Спрос на xbox360 и xbox one в Европе почти вдвое меньше, чем в Северной Америке. При этом объём продаж игр на консоли ps4 и xbox one (технологии одного поколения) в Северной Америке также в пользу ps4. Хотя вышли они на американский рынок с разницей в неделю: [ps4 вышла 15 ноября 2013](https://ru.wikipedia.org/wiki/PlayStation_4); [xone вышла 22 ноября 2013](https://ru.wikipedia.org/wiki/Xbox_One). Sony по-прежнему лидирует.\n",
    "\n",
    "БОльшая популярность ps3 и ps4 в Европе относительно Северной Америки, вероятно, обусловлена разницей численности населения.\n",
    "\n",
    "А вот с портативными консолями nintendo 3ds, скорее всего, американцы, чаще любят отправляться в путешествия, которые протяжёнее, чем в Европе. Это лишь догадка: длиннее дорога - сильнее желание скоротать её с хорошей японской игрой))\n",
    "\n",
    "\n",
    "\n",
    "---\n",
    "\n",
    "Рассмотрю японкий рынок консолей и её топ-5\n",
    "\n",
    "---"
   ]
  },
  {
   "cell_type": "code",
   "execution_count": 66,
   "metadata": {},
   "outputs": [],
   "source": [
    "jp_platform = (\n",
    "    location_platform[['jp_sales']]\n",
    "    .sort_values(by='jp_sales',ascending=False)\n",
    "    .head()\n",
    "    )"
   ]
  },
  {
   "cell_type": "code",
   "execution_count": 67,
   "metadata": {},
   "outputs": [
    {
     "data": {
      "image/png": "[encoded data removed]",
      "text/plain": [
       "<Figure size 720x360 with 1 Axes>"
      ]
     },
     "metadata": {
      "needs_background": "light"
     },
     "output_type": "display_data"
    }
   ],
   "source": [
    "jp_platform.plot(kind='bar',figsize=(10,5),grid=True)\n",
    "plt.grid(axis='x')\n",
    "plt.xticks(rotation=0)\n",
    "plt.title('Продажи игр в топ-5 консолей Японии')\n",
    "plt.ylabel('проданных игр, млн')\n",
    "plt.xlabel('консоли')\n",
    "plt.show()"
   ]
  },
  {
   "cell_type": "markdown",
   "metadata": {},
   "source": [
    "---\n",
    "\n",
    "Японцы, судя по графику, играют дома намного меньше, чем европейцы и американцы. Метро и скоростные поезда, общественные места, судя по объёмам продаж игр на nintendo 3ds, превращаются в \"игровые залы\".\n",
    "\n",
    "Бросается в глаза полное отсутствие любой версии xbox в топе на Японском рынке. Это выглядит логично: зачем тебе иностранный продукт, когда самая популярная в мире его версия производится у тебя дома.\n",
    "\n",
    "Также заметно, что они не гонятся за новой версией ps4 и всё ещё активно покупают игры на консоль предыдущего поколения, пока идёт её поддержка. Разумный подход. \n",
    "\n",
    "Ещё это было обусловлено тем, что [производство и поддержка ps3 в США была прекращена в октябре 2016, а в Японии 29 мая 2017](https://ru.wikipedia.org/wiki/PlayStation_3). То есть на момент получения данных ps3 со множеством полюбившихся пользователям игр поддерживалась в Японии, а в Северной Америке уже нет. Отсюда и разница между объёмами продаж игр на ps3 и ps4 в Японии.\n",
    "\n",
    "\n",
    "\n",
    "---\n",
    "\n",
    "Посмотрю на объёмы продаж топ-5 Европа+Северная Америка и топ-5 Япония на соседних графиках, чтобы ещё раз наглядно зафиксировать разницу продаж по объёмам и платформам.\n",
    "\n",
    "---"
   ]
  },
  {
   "cell_type": "code",
   "execution_count": 68,
   "metadata": {},
   "outputs": [
    {
     "data": {
      "image/png": "[encoded data removed]",
      "text/plain": [
       "<Figure size 1008x360 with 2 Axes>"
      ]
     },
     "metadata": {
      "needs_background": "light"
     },
     "output_type": "display_data"
    }
   ],
   "source": [
    "fig = plt.figure(figsize=(14,5))\n",
    "ax1 = fig.add_subplot(1,2,1)\n",
    "ax2 = fig.add_subplot(1,2,2)\n",
    "fig.tight_layout()\n",
    "ax1.grid(axis='y')\n",
    "ax2.grid(axis='y')\n",
    "ax1.bar(\n",
    "    na_eu_platform.index, na_eu_platform['na_sales'], \n",
    "    width=-0.4, \n",
    "    align='edge', \n",
    "    label='na_sales'\n",
    "    )\n",
    "ax1.bar(\n",
    "    na_eu_platform.index, na_eu_platform['eu_sales'], \n",
    "    width=0.4, \n",
    "    align='edge', \n",
    "    label='eu_sales'\n",
    "    )\n",
    "ax2.bar(\n",
    "    jp_platform.index, jp_platform['jp_sales'], \n",
    "    label='jp_sales'\n",
    "    )\n",
    "ax1.legend()\n",
    "ax2.legend()\n",
    "ax1.set_ylabel('проданных игр, млн')\n",
    "ax2.set_ylabel('проданных игр, млн')\n",
    "ax1.set_xlabel('консоли')\n",
    "ax2.set_xlabel('консоли')\n",
    "ax1.set_title('Продажи игр в топ-5 консолей Европы, Северной Америки')\n",
    "ax2.set_title('Продажи игр в топ-5 консолей Японии')\n",
    "plt.show()"
   ]
  },
  {
   "cell_type": "markdown",
   "metadata": {},
   "source": [
    "\n",
    "\n",
    "---\n",
    "\n",
    "\n",
    "\n",
    "Консоли (фактически - это игры на них) компании Microsoft в Японии имеют минимальный спрос в сравнении с Европой и Северной Америкой. У них есть Sony. \n",
    "\n",
    "А вот консоли компании Sony, в свою очередь, отлично продаются в Северной Америке и Европе, потому что они лидеры рынка со времён первой playstation. График \"Продажи игр в зависимости от консоли\" из раздела исследовалтельского анализа данных это подтверждает.\n",
    "\n",
    "Портативная консоль nintendo 3ds наиболее популярна на родине бренда, в Японии, и наименее популярна - в Европе.\n",
    "\n",
    "Также стоит отметить, что консоли Microsoft занимали первые позиции по продажам игр только в Северной Америке.\n",
    "\n",
    "\n",
    "Что примечательно рынок платформ в Японии гораздо больше отличается от Северной Америки и Европы. Там больше половины проданных копий игр приходится на портативные консоли от nintendo и sony, pc - вообще у них для игр не используется (в данной части выборки).\n",
    "\n",
    "---\n",
    "\n",
    "\n",
    "**Рассмотрю топ-5 жанров по каждому рынку**\n",
    "\n",
    "---\n",
    "\n",
    "\n"
   ]
  },
  {
   "cell_type": "code",
   "execution_count": 69,
   "metadata": {},
   "outputs": [
    {
     "data": {
      "text/plain": [
       "Index(['name', 'platform', 'year_of_release', 'genre', 'na_sales', 'eu_sales',\n",
       "       'jp_sales', 'other_sales', 'critic_score', 'user_score', 'rating',\n",
       "       'total_sales'],\n",
       "      dtype='object')"
      ]
     },
     "execution_count": 69,
     "metadata": {},
     "output_type": "execute_result"
    }
   ],
   "source": [
    "adf.columns"
   ]
  },
  {
   "cell_type": "code",
   "execution_count": 70,
   "metadata": {},
   "outputs": [],
   "source": [
    "location_genres = (\n",
    "    adf.groupby(['genre'])[['na_sales','eu_sales','jp_sales','total_sales']]\n",
    "    .sum().reset_index()\n",
    "    .sort_values(by='total_sales',ascending=False)\n",
    "    .set_index('genre')\n",
    "    )"
   ]
  },
  {
   "cell_type": "code",
   "execution_count": 71,
   "metadata": {},
   "outputs": [
    {
     "data": {
      "text/html": [
       "<div>\n",
       "<style scoped>\n",
       "    .dataframe tbody tr th:only-of-type {\n",
       "        vertical-align: middle;\n",
       "    }\n",
       "\n",
       "    .dataframe tbody tr th {\n",
       "        vertical-align: top;\n",
       "    }\n",
       "\n",
       "    .dataframe thead th {\n",
       "        text-align: right;\n",
       "    }\n",
       "</style>\n",
       "<table border=\"1\" class=\"dataframe\">\n",
       "  <thead>\n",
       "    <tr style=\"text-align: right;\">\n",
       "      <th></th>\n",
       "      <th>na_sales</th>\n",
       "      <th>eu_sales</th>\n",
       "      <th>jp_sales</th>\n",
       "      <th>total_sales</th>\n",
       "    </tr>\n",
       "    <tr>\n",
       "      <th>genre</th>\n",
       "      <th></th>\n",
       "      <th></th>\n",
       "      <th></th>\n",
       "      <th></th>\n",
       "    </tr>\n",
       "  </thead>\n",
       "  <tbody>\n",
       "    <tr>\n",
       "      <th>action</th>\n",
       "      <td>126.05</td>\n",
       "      <td>118.13</td>\n",
       "      <td>40.49</td>\n",
       "      <td>321.87</td>\n",
       "    </tr>\n",
       "    <tr>\n",
       "      <th>shooter</th>\n",
       "      <td>109.74</td>\n",
       "      <td>87.86</td>\n",
       "      <td>6.61</td>\n",
       "      <td>232.98</td>\n",
       "    </tr>\n",
       "    <tr>\n",
       "      <th>sports</th>\n",
       "      <td>65.27</td>\n",
       "      <td>60.52</td>\n",
       "      <td>5.41</td>\n",
       "      <td>150.65</td>\n",
       "    </tr>\n",
       "    <tr>\n",
       "      <th>role-playing</th>\n",
       "      <td>46.40</td>\n",
       "      <td>36.97</td>\n",
       "      <td>51.04</td>\n",
       "      <td>145.89</td>\n",
       "    </tr>\n",
       "    <tr>\n",
       "      <th>misc</th>\n",
       "      <td>27.49</td>\n",
       "      <td>20.04</td>\n",
       "      <td>9.20</td>\n",
       "      <td>62.82</td>\n",
       "    </tr>\n",
       "    <tr>\n",
       "      <th>platform</th>\n",
       "      <td>18.14</td>\n",
       "      <td>15.58</td>\n",
       "      <td>4.79</td>\n",
       "      <td>42.63</td>\n",
       "    </tr>\n",
       "    <tr>\n",
       "      <th>racing</th>\n",
       "      <td>12.96</td>\n",
       "      <td>20.19</td>\n",
       "      <td>2.30</td>\n",
       "      <td>39.89</td>\n",
       "    </tr>\n",
       "    <tr>\n",
       "      <th>fighting</th>\n",
       "      <td>15.55</td>\n",
       "      <td>8.55</td>\n",
       "      <td>7.65</td>\n",
       "      <td>35.31</td>\n",
       "    </tr>\n",
       "    <tr>\n",
       "      <th>adventure</th>\n",
       "      <td>7.14</td>\n",
       "      <td>8.25</td>\n",
       "      <td>5.82</td>\n",
       "      <td>23.64</td>\n",
       "    </tr>\n",
       "    <tr>\n",
       "      <th>simulation</th>\n",
       "      <td>4.86</td>\n",
       "      <td>10.92</td>\n",
       "      <td>4.52</td>\n",
       "      <td>21.76</td>\n",
       "    </tr>\n",
       "    <tr>\n",
       "      <th>strategy</th>\n",
       "      <td>3.28</td>\n",
       "      <td>4.22</td>\n",
       "      <td>1.77</td>\n",
       "      <td>10.08</td>\n",
       "    </tr>\n",
       "    <tr>\n",
       "      <th>puzzle</th>\n",
       "      <td>0.83</td>\n",
       "      <td>1.00</td>\n",
       "      <td>1.18</td>\n",
       "      <td>3.17</td>\n",
       "    </tr>\n",
       "  </tbody>\n",
       "</table>\n",
       "</div>"
      ],
      "text/plain": [
       "              na_sales  eu_sales  jp_sales  total_sales\n",
       "genre                                                  \n",
       "action          126.05    118.13     40.49       321.87\n",
       "shooter         109.74     87.86      6.61       232.98\n",
       "sports           65.27     60.52      5.41       150.65\n",
       "role-playing     46.40     36.97     51.04       145.89\n",
       "misc             27.49     20.04      9.20        62.82\n",
       "platform         18.14     15.58      4.79        42.63\n",
       "racing           12.96     20.19      2.30        39.89\n",
       "fighting         15.55      8.55      7.65        35.31\n",
       "adventure         7.14      8.25      5.82        23.64\n",
       "simulation        4.86     10.92      4.52        21.76\n",
       "strategy          3.28      4.22      1.77        10.08\n",
       "puzzle            0.83      1.00      1.18         3.17"
      ]
     },
     "execution_count": 71,
     "metadata": {},
     "output_type": "execute_result"
    }
   ],
   "source": [
    "location_genres"
   ]
  },
  {
   "cell_type": "markdown",
   "metadata": {},
   "source": [
    "---\n",
    "\n",
    "С жанрами разнообразие предпочтений больше чем с платформами, поэтому каждый рынок буду рассматривать по отдельности и потом выведу их на три графика в одну линию.\n",
    "\n",
    "---"
   ]
  },
  {
   "cell_type": "code",
   "execution_count": 72,
   "metadata": {},
   "outputs": [],
   "source": [
    "na_genres = location_genres[['na_sales']].sort_values(by='na_sales',ascending=False).head()"
   ]
  },
  {
   "cell_type": "code",
   "execution_count": 73,
   "metadata": {},
   "outputs": [],
   "source": [
    "eu_genres = location_genres[['eu_sales']].sort_values(by='eu_sales',ascending=False).head()"
   ]
  },
  {
   "cell_type": "code",
   "execution_count": 74,
   "metadata": {},
   "outputs": [],
   "source": [
    "jp_genres = location_genres[['jp_sales']].sort_values(by='jp_sales',ascending=False).head()"
   ]
  },
  {
   "cell_type": "code",
   "execution_count": 75,
   "metadata": {},
   "outputs": [
    {
     "data": {
      "image/png": "[encoded data removed]",
      "text/plain": [
       "<Figure size 720x360 with 1 Axes>"
      ]
     },
     "metadata": {
      "needs_background": "light"
     },
     "output_type": "display_data"
    }
   ],
   "source": [
    "na_genres.plot(kind='bar',figsize=(10,5),grid=True)\n",
    "plt.grid(axis='x')\n",
    "plt.xticks(rotation=0)\n",
    "plt.title('Продажи топ-5 жанров игр в Северной Америке')\n",
    "plt.ylabel('проданных игр, млн')\n",
    "plt.xlabel('жанр')\n",
    "plt.show()"
   ]
  },
  {
   "cell_type": "code",
   "execution_count": 76,
   "metadata": {},
   "outputs": [
    {
     "data": {
      "image/png": "[encoded data removed]",
      "text/plain": [
       "<Figure size 720x360 with 1 Axes>"
      ]
     },
     "metadata": {
      "needs_background": "light"
     },
     "output_type": "display_data"
    }
   ],
   "source": [
    "eu_genres.plot(kind='bar',figsize=(10,5),grid=True)\n",
    "plt.grid(axis='x')\n",
    "plt.xticks(rotation=0)\n",
    "plt.title('Продажи топ-5 жанров игр в Европе')\n",
    "plt.ylabel('проданных игр, млн')\n",
    "plt.xlabel('жанр')\n",
    "plt.show()"
   ]
  },
  {
   "cell_type": "code",
   "execution_count": 77,
   "metadata": {},
   "outputs": [
    {
     "data": {
      "image/png": "[encoded data removed]",
      "text/plain": [
       "<Figure size 720x360 with 1 Axes>"
      ]
     },
     "metadata": {
      "needs_background": "light"
     },
     "output_type": "display_data"
    }
   ],
   "source": [
    "jp_genres.plot(kind='bar',figsize=(10,5),grid=True)\n",
    "plt.grid(axis='x')\n",
    "plt.xticks(rotation=0)\n",
    "plt.title('Продажи топ-5 жанров игр в Японии')\n",
    "plt.ylabel('проданных игр, млн')\n",
    "plt.xlabel('жанр')\n",
    "plt.show()"
   ]
  },
  {
   "cell_type": "code",
   "execution_count": 78,
   "metadata": {},
   "outputs": [
    {
     "data": {
      "image/png": "[encoded data removed]",
      "text/plain": [
       "<Figure size 1080x360 with 3 Axes>"
      ]
     },
     "metadata": {
      "needs_background": "light"
     },
     "output_type": "display_data"
    }
   ],
   "source": [
    "fig = plt.figure(figsize=(15,5))\n",
    "ax1 = fig.add_subplot(1,3,1)\n",
    "ax2 = fig.add_subplot(1,3,2)\n",
    "ax3 = fig.add_subplot(1,3,3)\n",
    "fig.tight_layout()\n",
    "ax1.grid(axis='y')\n",
    "ax2.grid(axis='y')\n",
    "ax3.grid(axis='y')\n",
    "ax1.bar(na_genres.index,na_genres['na_sales'],label='na_sales')\n",
    "ax2.bar(eu_genres.index,eu_genres['eu_sales'],label='eu_sales')\n",
    "ax3.bar(jp_genres.index,jp_genres['jp_sales'],label='jp_sales')\n",
    "ax1.legend()\n",
    "ax2.legend()\n",
    "ax3.legend()\n",
    "ax1.set_ylabel('проданных игр, млн')\n",
    "ax2.set_ylabel('проданных игр, млн')\n",
    "ax3.set_ylabel('проданных игр, млн')\n",
    "ax1.set_xlabel('жанры')\n",
    "ax2.set_xlabel('жанры')\n",
    "ax3.set_xlabel('жанры')\n",
    "ax1.set_title('Продажи топ-5 жанров игр в Северной Америке')\n",
    "ax2.set_title('Продажи топ-5 жанров игр в Европе')\n",
    "ax3.set_title('Продажи топ-5 жанров игр в Японии')\n",
    "plt.show()"
   ]
  },
  {
   "cell_type": "markdown",
   "metadata": {},
   "source": [
    "\n",
    "---\n",
    "\n",
    "Как и с распределением по платформам: по западному рынку (Северная Америка и Европа) больше общих черт, а Япония стоит особняком:\n",
    "* action практически одинаково популярен в Европе и Северной Америке, а в Японии занимает второе по полулярности место \n",
    "* Role-playing напротив, в Японии №1, в то время как на других двух рынках игры этого жанра только на 4х позициях\n",
    "* Пострелять в откровенные shooter предсказуемо больше всех любят в Северной Америке. Но европейцы тоже не сильно отстают (общие корни как-никак)\n",
    "* Японцы в этом плане гораздо более \"миролюбивы\". Стрельбе они больше предпочитают электронную рукопашную схватку (кто бы мог подумать)) в жанре fighting\n",
    "* Европейцев и американцев после shooter привлекают электронные спортивные состязания, что обусловлено большей тягой к спортивным мероприятиям и в оффлайне. У японцев этот функционал в гейминге выполняют игры смешанных жанров и fighting\n",
    "* В Северной Америке смешанные жанры занимают почётное пятое место в топ-5, а европейцы такой эклектике предпочитают старые добрые гонки.\n",
    "\n",
    "---\n",
    "\n",
    "**Выясню, влияет ли рейтинг ESRB на продажи в отдельном регионе?**\n",
    "\n",
    "---"
   ]
  },
  {
   "cell_type": "code",
   "execution_count": 79,
   "metadata": {},
   "outputs": [
    {
     "data": {
      "text/plain": [
       "m       369\n",
       "t       333\n",
       "e       302\n",
       "e10+    252\n",
       "Name: rating, dtype: int64"
      ]
     },
     "execution_count": 79,
     "metadata": {},
     "output_type": "execute_result"
    }
   ],
   "source": [
    "adf['rating'].value_counts()"
   ]
  },
  {
   "cell_type": "markdown",
   "metadata": {},
   "source": [
    "    \n",
    "---\n",
    "\n",
    "Чтобы понимать, о чём речь:\n",
    "* m - для взрослых, от 17 лет\n",
    "* t - подростки от 13 лет\n",
    "* e - для всех от 6 лет \n",
    "* e10+ - для всех от 10 лет\n",
    "\n",
    "---\n",
    "\n",
    "Прежде чем изучать влияние рейтинга на продажи в регионе вспомню, что в столбце рейтнгов много пропусков.\n",
    "\n",
    "Но игры, для которых рейтинг не указан продавались и просто так отбросить эти данные нельзя.\n",
    "\n",
    "Есть идея, что часть пропусков можно заполнить благодаря тому, что есть аналогичные игры с указанием рейтинга, но на других консолях. \n",
    "\n",
    "---"
   ]
  },
  {
   "cell_type": "code",
   "execution_count": 80,
   "metadata": {},
   "outputs": [
    {
     "data": {
      "text/plain": [
       "(               data  per_miss       data_type\n",
       " 0              name  0.000000          object\n",
       " 1          platform  0.000000          object\n",
       " 2   year_of_release  0.000000  datetime64[ns]\n",
       " 3             genre  0.000000          object\n",
       " 4          na_sales  0.000000         float64\n",
       " 5          eu_sales  0.000000         float64\n",
       " 6          jp_sales  0.000000         float64\n",
       " 7       other_sales  0.000000         float64\n",
       " 8      critic_score  0.556202         float64\n",
       " 9        user_score  0.466189         float64\n",
       " 10           rating  0.437528          object\n",
       " 11      total_sales  0.000000         float64,\n",
       " 'Number of lines: 2233')"
      ]
     },
     "execution_count": 80,
     "metadata": {},
     "output_type": "execute_result"
    }
   ],
   "source": [
    "df_info(adf)"
   ]
  },
  {
   "cell_type": "code",
   "execution_count": 81,
   "metadata": {},
   "outputs": [
    {
     "data": {
      "text/html": [
       "<div>\n",
       "<style scoped>\n",
       "    .dataframe tbody tr th:only-of-type {\n",
       "        vertical-align: middle;\n",
       "    }\n",
       "\n",
       "    .dataframe tbody tr th {\n",
       "        vertical-align: top;\n",
       "    }\n",
       "\n",
       "    .dataframe thead th {\n",
       "        text-align: right;\n",
       "    }\n",
       "</style>\n",
       "<table border=\"1\" class=\"dataframe\">\n",
       "  <thead>\n",
       "    <tr style=\"text-align: right;\">\n",
       "      <th></th>\n",
       "      <th>name</th>\n",
       "      <th>platform</th>\n",
       "      <th>year_of_release</th>\n",
       "      <th>genre</th>\n",
       "      <th>na_sales</th>\n",
       "      <th>eu_sales</th>\n",
       "      <th>jp_sales</th>\n",
       "      <th>other_sales</th>\n",
       "      <th>critic_score</th>\n",
       "      <th>user_score</th>\n",
       "      <th>rating</th>\n",
       "      <th>total_sales</th>\n",
       "    </tr>\n",
       "  </thead>\n",
       "  <tbody>\n",
       "    <tr>\n",
       "      <th>12567</th>\n",
       "      <td>atelier sophie: the alchemist of the mysteriou...</td>\n",
       "      <td>psv</td>\n",
       "      <td>2015-01-01</td>\n",
       "      <td>role-playing</td>\n",
       "      <td>0.00</td>\n",
       "      <td>0.00</td>\n",
       "      <td>0.06</td>\n",
       "      <td>0.00</td>\n",
       "      <td>NaN</td>\n",
       "      <td>8.0</td>\n",
       "      <td>t</td>\n",
       "      <td>0.06</td>\n",
       "    </tr>\n",
       "    <tr>\n",
       "      <th>5257</th>\n",
       "      <td>middle-earth: shadow of mordor</td>\n",
       "      <td>pc</td>\n",
       "      <td>2014-01-01</td>\n",
       "      <td>action</td>\n",
       "      <td>0.12</td>\n",
       "      <td>0.20</td>\n",
       "      <td>0.00</td>\n",
       "      <td>0.03</td>\n",
       "      <td>84.0</td>\n",
       "      <td>8.0</td>\n",
       "      <td>m</td>\n",
       "      <td>0.35</td>\n",
       "    </tr>\n",
       "    <tr>\n",
       "      <th>2179</th>\n",
       "      <td>just dance 2016</td>\n",
       "      <td>wii</td>\n",
       "      <td>2015-01-01</td>\n",
       "      <td>misc</td>\n",
       "      <td>0.41</td>\n",
       "      <td>0.46</td>\n",
       "      <td>0.00</td>\n",
       "      <td>0.08</td>\n",
       "      <td>NaN</td>\n",
       "      <td>NaN</td>\n",
       "      <td>e10+</td>\n",
       "      <td>0.95</td>\n",
       "    </tr>\n",
       "    <tr>\n",
       "      <th>15891</th>\n",
       "      <td>rugby league live 3</td>\n",
       "      <td>ps3</td>\n",
       "      <td>2015-01-01</td>\n",
       "      <td>action</td>\n",
       "      <td>0.00</td>\n",
       "      <td>0.01</td>\n",
       "      <td>0.00</td>\n",
       "      <td>0.00</td>\n",
       "      <td>NaN</td>\n",
       "      <td>NaN</td>\n",
       "      <td>NaN</td>\n",
       "      <td>0.01</td>\n",
       "    </tr>\n",
       "    <tr>\n",
       "      <th>9642</th>\n",
       "      <td>project cars</td>\n",
       "      <td>pc</td>\n",
       "      <td>2015-01-01</td>\n",
       "      <td>racing</td>\n",
       "      <td>0.00</td>\n",
       "      <td>0.12</td>\n",
       "      <td>0.00</td>\n",
       "      <td>0.01</td>\n",
       "      <td>83.0</td>\n",
       "      <td>7.1</td>\n",
       "      <td>e</td>\n",
       "      <td>0.13</td>\n",
       "    </tr>\n",
       "  </tbody>\n",
       "</table>\n",
       "</div>"
      ],
      "text/plain": [
       "                                                    name platform  \\\n",
       "12567  atelier sophie: the alchemist of the mysteriou...      psv   \n",
       "5257                      middle-earth: shadow of mordor       pc   \n",
       "2179                                     just dance 2016      wii   \n",
       "15891                                rugby league live 3      ps3   \n",
       "9642                                        project cars       pc   \n",
       "\n",
       "      year_of_release         genre  na_sales  eu_sales  jp_sales  \\\n",
       "12567      2015-01-01  role-playing      0.00      0.00      0.06   \n",
       "5257       2014-01-01        action      0.12      0.20      0.00   \n",
       "2179       2015-01-01          misc      0.41      0.46      0.00   \n",
       "15891      2015-01-01        action      0.00      0.01      0.00   \n",
       "9642       2015-01-01        racing      0.00      0.12      0.00   \n",
       "\n",
       "       other_sales  critic_score  user_score rating  total_sales  \n",
       "12567         0.00           NaN         8.0      t         0.06  \n",
       "5257          0.03          84.0         8.0      m         0.35  \n",
       "2179          0.08           NaN         NaN   e10+         0.95  \n",
       "15891         0.00           NaN         NaN    NaN         0.01  \n",
       "9642          0.01          83.0         7.1      e         0.13  "
      ]
     },
     "execution_count": 81,
     "metadata": {},
     "output_type": "execute_result"
    }
   ],
   "source": [
    "adf.sample(5, random_state=3)"
   ]
  },
  {
   "cell_type": "code",
   "execution_count": 82,
   "metadata": {},
   "outputs": [
    {
     "data": {
      "text/html": [
       "<div>\n",
       "<style scoped>\n",
       "    .dataframe tbody tr th:only-of-type {\n",
       "        vertical-align: middle;\n",
       "    }\n",
       "\n",
       "    .dataframe tbody tr th {\n",
       "        vertical-align: top;\n",
       "    }\n",
       "\n",
       "    .dataframe thead th {\n",
       "        text-align: right;\n",
       "    }\n",
       "</style>\n",
       "<table border=\"1\" class=\"dataframe\">\n",
       "  <thead>\n",
       "    <tr style=\"text-align: right;\">\n",
       "      <th></th>\n",
       "      <th>name</th>\n",
       "      <th>platform</th>\n",
       "      <th>year_of_release</th>\n",
       "      <th>genre</th>\n",
       "      <th>na_sales</th>\n",
       "      <th>eu_sales</th>\n",
       "      <th>jp_sales</th>\n",
       "      <th>other_sales</th>\n",
       "      <th>critic_score</th>\n",
       "      <th>user_score</th>\n",
       "      <th>rating</th>\n",
       "      <th>total_sales</th>\n",
       "    </tr>\n",
       "  </thead>\n",
       "  <tbody>\n",
       "    <tr>\n",
       "      <th>15085</th>\n",
       "      <td>rugby league live 3</td>\n",
       "      <td>ps4</td>\n",
       "      <td>2015-01-01</td>\n",
       "      <td>action</td>\n",
       "      <td>0.0</td>\n",
       "      <td>0.02</td>\n",
       "      <td>0.0</td>\n",
       "      <td>0.0</td>\n",
       "      <td>NaN</td>\n",
       "      <td>7.6</td>\n",
       "      <td>e</td>\n",
       "      <td>0.02</td>\n",
       "    </tr>\n",
       "    <tr>\n",
       "      <th>15118</th>\n",
       "      <td>rugby league live 3</td>\n",
       "      <td>x360</td>\n",
       "      <td>2015-01-01</td>\n",
       "      <td>action</td>\n",
       "      <td>0.0</td>\n",
       "      <td>0.02</td>\n",
       "      <td>0.0</td>\n",
       "      <td>0.0</td>\n",
       "      <td>NaN</td>\n",
       "      <td>7.0</td>\n",
       "      <td>e</td>\n",
       "      <td>0.02</td>\n",
       "    </tr>\n",
       "    <tr>\n",
       "      <th>15891</th>\n",
       "      <td>rugby league live 3</td>\n",
       "      <td>ps3</td>\n",
       "      <td>2015-01-01</td>\n",
       "      <td>action</td>\n",
       "      <td>0.0</td>\n",
       "      <td>0.01</td>\n",
       "      <td>0.0</td>\n",
       "      <td>0.0</td>\n",
       "      <td>NaN</td>\n",
       "      <td>NaN</td>\n",
       "      <td>NaN</td>\n",
       "      <td>0.01</td>\n",
       "    </tr>\n",
       "    <tr>\n",
       "      <th>16533</th>\n",
       "      <td>rugby league live 3</td>\n",
       "      <td>xone</td>\n",
       "      <td>2015-01-01</td>\n",
       "      <td>action</td>\n",
       "      <td>0.0</td>\n",
       "      <td>0.01</td>\n",
       "      <td>0.0</td>\n",
       "      <td>0.0</td>\n",
       "      <td>NaN</td>\n",
       "      <td>7.1</td>\n",
       "      <td>e</td>\n",
       "      <td>0.01</td>\n",
       "    </tr>\n",
       "  </tbody>\n",
       "</table>\n",
       "</div>"
      ],
      "text/plain": [
       "                      name platform year_of_release   genre  na_sales  \\\n",
       "15085  rugby league live 3      ps4      2015-01-01  action       0.0   \n",
       "15118  rugby league live 3     x360      2015-01-01  action       0.0   \n",
       "15891  rugby league live 3      ps3      2015-01-01  action       0.0   \n",
       "16533  rugby league live 3     xone      2015-01-01  action       0.0   \n",
       "\n",
       "       eu_sales  jp_sales  other_sales  critic_score  user_score rating  \\\n",
       "15085      0.02       0.0          0.0           NaN         7.6      e   \n",
       "15118      0.02       0.0          0.0           NaN         7.0      e   \n",
       "15891      0.01       0.0          0.0           NaN         NaN    NaN   \n",
       "16533      0.01       0.0          0.0           NaN         7.1      e   \n",
       "\n",
       "       total_sales  \n",
       "15085         0.02  \n",
       "15118         0.02  \n",
       "15891         0.01  \n",
       "16533         0.01  "
      ]
     },
     "execution_count": 82,
     "metadata": {},
     "output_type": "execute_result"
    }
   ],
   "source": [
    "adf[adf['name'] == \"rugby league live 3\"]"
   ]
  },
  {
   "cell_type": "markdown",
   "metadata": {},
   "source": [
    "---\n",
    "\n",
    "Сделаю датафрейм, содержащий только игры, для которых указан рейтинг\n",
    "\n",
    "---"
   ]
  },
  {
   "cell_type": "code",
   "execution_count": 83,
   "metadata": {},
   "outputs": [],
   "source": [
    "names_rating = (\n",
    "    adf[~(adf['rating'].isna())].\n",
    "    groupby('name')['rating'].first().\n",
    "    reset_index()\n",
    ")"
   ]
  },
  {
   "cell_type": "code",
   "execution_count": 84,
   "metadata": {},
   "outputs": [],
   "source": [
    "names_rating.columns = ['name', 'rating_double']"
   ]
  },
  {
   "cell_type": "code",
   "execution_count": 85,
   "metadata": {
    "scrolled": false
   },
   "outputs": [],
   "source": [
    "adf = adf.merge(names_rating, how='left', on='name')"
   ]
  },
  {
   "cell_type": "code",
   "execution_count": 86,
   "metadata": {},
   "outputs": [
    {
     "data": {
      "text/plain": [
       "(               data  per_miss       data_type\n",
       " 0              name  0.000000          object\n",
       " 1          platform  0.000000          object\n",
       " 2   year_of_release  0.000000  datetime64[ns]\n",
       " 3             genre  0.000000          object\n",
       " 4          na_sales  0.000000         float64\n",
       " 5          eu_sales  0.000000         float64\n",
       " 6          jp_sales  0.000000         float64\n",
       " 7       other_sales  0.000000         float64\n",
       " 8      critic_score  0.556202         float64\n",
       " 9        user_score  0.466189         float64\n",
       " 10           rating  0.437528          object\n",
       " 11      total_sales  0.000000         float64\n",
       " 12    rating_double  0.403045          object,\n",
       " 'Number of lines: 2233')"
      ]
     },
     "execution_count": 86,
     "metadata": {},
     "output_type": "execute_result"
    }
   ],
   "source": [
    "df_info(adf)"
   ]
  },
  {
   "cell_type": "code",
   "execution_count": 87,
   "metadata": {},
   "outputs": [
    {
     "data": {
      "text/html": [
       "<div>\n",
       "<style scoped>\n",
       "    .dataframe tbody tr th:only-of-type {\n",
       "        vertical-align: middle;\n",
       "    }\n",
       "\n",
       "    .dataframe tbody tr th {\n",
       "        vertical-align: top;\n",
       "    }\n",
       "\n",
       "    .dataframe thead th {\n",
       "        text-align: right;\n",
       "    }\n",
       "</style>\n",
       "<table border=\"1\" class=\"dataframe\">\n",
       "  <thead>\n",
       "    <tr style=\"text-align: right;\">\n",
       "      <th></th>\n",
       "      <th>name</th>\n",
       "      <th>platform</th>\n",
       "      <th>year_of_release</th>\n",
       "      <th>genre</th>\n",
       "      <th>na_sales</th>\n",
       "      <th>eu_sales</th>\n",
       "      <th>jp_sales</th>\n",
       "      <th>other_sales</th>\n",
       "      <th>critic_score</th>\n",
       "      <th>user_score</th>\n",
       "      <th>rating</th>\n",
       "      <th>total_sales</th>\n",
       "      <th>rating_double</th>\n",
       "    </tr>\n",
       "  </thead>\n",
       "  <tbody>\n",
       "    <tr>\n",
       "      <th>1868</th>\n",
       "      <td>rugby league live 3</td>\n",
       "      <td>ps4</td>\n",
       "      <td>2015-01-01</td>\n",
       "      <td>action</td>\n",
       "      <td>0.0</td>\n",
       "      <td>0.02</td>\n",
       "      <td>0.0</td>\n",
       "      <td>0.0</td>\n",
       "      <td>NaN</td>\n",
       "      <td>7.6</td>\n",
       "      <td>e</td>\n",
       "      <td>0.02</td>\n",
       "      <td>e</td>\n",
       "    </tr>\n",
       "    <tr>\n",
       "      <th>1875</th>\n",
       "      <td>rugby league live 3</td>\n",
       "      <td>x360</td>\n",
       "      <td>2015-01-01</td>\n",
       "      <td>action</td>\n",
       "      <td>0.0</td>\n",
       "      <td>0.02</td>\n",
       "      <td>0.0</td>\n",
       "      <td>0.0</td>\n",
       "      <td>NaN</td>\n",
       "      <td>7.0</td>\n",
       "      <td>e</td>\n",
       "      <td>0.02</td>\n",
       "      <td>e</td>\n",
       "    </tr>\n",
       "    <tr>\n",
       "      <th>2016</th>\n",
       "      <td>rugby league live 3</td>\n",
       "      <td>ps3</td>\n",
       "      <td>2015-01-01</td>\n",
       "      <td>action</td>\n",
       "      <td>0.0</td>\n",
       "      <td>0.01</td>\n",
       "      <td>0.0</td>\n",
       "      <td>0.0</td>\n",
       "      <td>NaN</td>\n",
       "      <td>NaN</td>\n",
       "      <td>NaN</td>\n",
       "      <td>0.01</td>\n",
       "      <td>e</td>\n",
       "    </tr>\n",
       "    <tr>\n",
       "      <th>2176</th>\n",
       "      <td>rugby league live 3</td>\n",
       "      <td>xone</td>\n",
       "      <td>2015-01-01</td>\n",
       "      <td>action</td>\n",
       "      <td>0.0</td>\n",
       "      <td>0.01</td>\n",
       "      <td>0.0</td>\n",
       "      <td>0.0</td>\n",
       "      <td>NaN</td>\n",
       "      <td>7.1</td>\n",
       "      <td>e</td>\n",
       "      <td>0.01</td>\n",
       "      <td>e</td>\n",
       "    </tr>\n",
       "  </tbody>\n",
       "</table>\n",
       "</div>"
      ],
      "text/plain": [
       "                     name platform year_of_release   genre  na_sales  \\\n",
       "1868  rugby league live 3      ps4      2015-01-01  action       0.0   \n",
       "1875  rugby league live 3     x360      2015-01-01  action       0.0   \n",
       "2016  rugby league live 3      ps3      2015-01-01  action       0.0   \n",
       "2176  rugby league live 3     xone      2015-01-01  action       0.0   \n",
       "\n",
       "      eu_sales  jp_sales  other_sales  critic_score  user_score rating  \\\n",
       "1868      0.02       0.0          0.0           NaN         7.6      e   \n",
       "1875      0.02       0.0          0.0           NaN         7.0      e   \n",
       "2016      0.01       0.0          0.0           NaN         NaN    NaN   \n",
       "2176      0.01       0.0          0.0           NaN         7.1      e   \n",
       "\n",
       "      total_sales rating_double  \n",
       "1868         0.02             e  \n",
       "1875         0.02             e  \n",
       "2016         0.01             e  \n",
       "2176         0.01             e  "
      ]
     },
     "execution_count": 87,
     "metadata": {},
     "output_type": "execute_result"
    }
   ],
   "source": [
    "adf[adf['name'] == \"rugby league live 3\"]"
   ]
  },
  {
   "cell_type": "markdown",
   "metadata": {},
   "source": [
    "---\n",
    "\n",
    "Удалось частично заполнить пропуски верными значениями, где была такая же игра с рейтингом, но с другой консоли. Но в силу того, что некоторые игры на всех консолях оказались лишены рейтинга, пропуски по ним не удалось заполнить. \n",
    "\n",
    "* Данные о рейтинге - это категориальная переменная\n",
    "* Пропуски по ним носят случайный характер, учитывая тот факт, что данные из разных открытых источников\n",
    "* Заполнить их каким-то средним не получится, поэтому заполню оставшие пропуски характерным значением, уже знакомым `'tbd'`, которое будет значить, что рейтинг в процессе определения (to be determined). В распределении по региональным продажам эти игры войдут в своей категории. А при первой возможности, данные можно будет обогатить из другого истоника и, дополнив искомый датафрейм, скорректировать распределение на графиках\n",
    "\n",
    "---"
   ]
  },
  {
   "cell_type": "code",
   "execution_count": 88,
   "metadata": {},
   "outputs": [],
   "source": [
    "adf['rating_double'] = adf['rating_double'].fillna('tbd')"
   ]
  },
  {
   "cell_type": "code",
   "execution_count": 89,
   "metadata": {},
   "outputs": [
    {
     "data": {
      "text/plain": [
       "(               data  per_miss       data_type\n",
       " 0              name  0.000000          object\n",
       " 1          platform  0.000000          object\n",
       " 2   year_of_release  0.000000  datetime64[ns]\n",
       " 3             genre  0.000000          object\n",
       " 4          na_sales  0.000000         float64\n",
       " 5          eu_sales  0.000000         float64\n",
       " 6          jp_sales  0.000000         float64\n",
       " 7       other_sales  0.000000         float64\n",
       " 8      critic_score  0.556202         float64\n",
       " 9        user_score  0.466189         float64\n",
       " 10           rating  0.437528          object\n",
       " 11      total_sales  0.000000         float64\n",
       " 12    rating_double  0.000000          object,\n",
       " 'Number of lines: 2233')"
      ]
     },
     "execution_count": 89,
     "metadata": {},
     "output_type": "execute_result"
    }
   ],
   "source": [
    "df_info(adf)"
   ]
  },
  {
   "cell_type": "code",
   "execution_count": 90,
   "metadata": {},
   "outputs": [],
   "source": [
    "location_rating = (\n",
    "    adf.groupby(['rating_double'])\n",
    "    [['na_sales','eu_sales','jp_sales','total_sales']].\n",
    "    sum().reset_index().\n",
    "    sort_values(by='total_sales',ascending=False).\n",
    "    set_index('rating_double')\n",
    "    )"
   ]
  },
  {
   "cell_type": "code",
   "execution_count": 91,
   "metadata": {},
   "outputs": [
    {
     "data": {
      "text/html": [
       "<div>\n",
       "<style scoped>\n",
       "    .dataframe tbody tr th:only-of-type {\n",
       "        vertical-align: middle;\n",
       "    }\n",
       "\n",
       "    .dataframe tbody tr th {\n",
       "        vertical-align: top;\n",
       "    }\n",
       "\n",
       "    .dataframe thead th {\n",
       "        text-align: right;\n",
       "    }\n",
       "</style>\n",
       "<table border=\"1\" class=\"dataframe\">\n",
       "  <thead>\n",
       "    <tr style=\"text-align: right;\">\n",
       "      <th></th>\n",
       "      <th>na_sales</th>\n",
       "      <th>eu_sales</th>\n",
       "      <th>jp_sales</th>\n",
       "      <th>total_sales</th>\n",
       "    </tr>\n",
       "    <tr>\n",
       "      <th>rating_double</th>\n",
       "      <th></th>\n",
       "      <th></th>\n",
       "      <th></th>\n",
       "      <th></th>\n",
       "    </tr>\n",
       "  </thead>\n",
       "  <tbody>\n",
       "    <tr>\n",
       "      <th>m</th>\n",
       "      <td>170.64</td>\n",
       "      <td>151.44</td>\n",
       "      <td>14.42</td>\n",
       "      <td>385.52</td>\n",
       "    </tr>\n",
       "    <tr>\n",
       "      <th>tbd</th>\n",
       "      <td>80.92</td>\n",
       "      <td>68.88</td>\n",
       "      <td>83.14</td>\n",
       "      <td>253.41</td>\n",
       "    </tr>\n",
       "    <tr>\n",
       "      <th>e</th>\n",
       "      <td>77.86</td>\n",
       "      <td>83.70</td>\n",
       "      <td>15.15</td>\n",
       "      <td>199.14</td>\n",
       "    </tr>\n",
       "    <tr>\n",
       "      <th>t</th>\n",
       "      <td>51.22</td>\n",
       "      <td>43.19</td>\n",
       "      <td>22.05</td>\n",
       "      <td>131.25</td>\n",
       "    </tr>\n",
       "    <tr>\n",
       "      <th>e10+</th>\n",
       "      <td>57.07</td>\n",
       "      <td>45.02</td>\n",
       "      <td>6.02</td>\n",
       "      <td>121.37</td>\n",
       "    </tr>\n",
       "  </tbody>\n",
       "</table>\n",
       "</div>"
      ],
      "text/plain": [
       "               na_sales  eu_sales  jp_sales  total_sales\n",
       "rating_double                                           \n",
       "m                170.64    151.44     14.42       385.52\n",
       "tbd               80.92     68.88     83.14       253.41\n",
       "e                 77.86     83.70     15.15       199.14\n",
       "t                 51.22     43.19     22.05       131.25\n",
       "e10+              57.07     45.02      6.02       121.37"
      ]
     },
     "execution_count": 91,
     "metadata": {},
     "output_type": "execute_result"
    }
   ],
   "source": [
    "location_rating"
   ]
  },
  {
   "cell_type": "code",
   "execution_count": 92,
   "metadata": {},
   "outputs": [
    {
     "data": {
      "text/plain": [
       "Text(0.5, 0, 'рейтинг')"
      ]
     },
     "execution_count": 92,
     "metadata": {},
     "output_type": "execute_result"
    },
    {
     "data": {
      "image/png": "[encoded data removed]",
      "text/plain": [
       "<Figure size 720x720 with 1 Axes>"
      ]
     },
     "metadata": {
      "needs_background": "light"
     },
     "output_type": "display_data"
    }
   ],
   "source": [
    "location_rating.plot(kind='bar',figsize=(10,10),grid=True)\n",
    "plt.grid(axis='x')\n",
    "plt.xticks(rotation=0)\n",
    "plt.title('Распределение типов рейтинга по регионам')\n",
    "plt.ylabel('проданных игр, млн')\n",
    "plt.xlabel('рейтинг')"
   ]
  },
  {
   "cell_type": "code",
   "execution_count": 93,
   "metadata": {},
   "outputs": [
    {
     "data": {
      "image/png": "[encoded data removed]",
      "text/plain": [
       "<Figure size 1080x360 with 3 Axes>"
      ]
     },
     "metadata": {
      "needs_background": "light"
     },
     "output_type": "display_data"
    }
   ],
   "source": [
    "fig = plt.figure(figsize=(15,5))\n",
    "ax1 = fig.add_subplot(1,3,1)\n",
    "ax2 = fig.add_subplot(1,3,2)\n",
    "ax3 = fig.add_subplot(1,3,3)\n",
    "fig.tight_layout()\n",
    "ax1.grid(axis='y')\n",
    "ax2.grid(axis='y')\n",
    "ax3.grid(axis='y')\n",
    "ax1.bar(location_rating.index,location_rating['na_sales'],label='na_sales')\n",
    "ax2.bar(location_rating.index,location_rating['eu_sales'],label='eu_sales',color='#ff7f0e')\n",
    "ax3.bar(location_rating.index,location_rating['jp_sales'],label='jp_sales',color='green')\n",
    "ax1.legend()\n",
    "ax2.legend()\n",
    "ax3.legend()\n",
    "ax1.set_ylabel('проданных игр, млн')\n",
    "ax2.set_ylabel('проданных игр, млн')\n",
    "ax3.set_ylabel('проданных игр, млн')\n",
    "ax1.set_xlabel('рейтинг')\n",
    "ax2.set_xlabel('рейтинг')\n",
    "ax3.set_xlabel('рейтинг')\n",
    "ax1.set_title('Распределение игровых рейтингов в Северной Америке')\n",
    "ax2.set_title('Распределение игровых рейтингов в Европе')\n",
    "ax3.set_title('Распределение игровых рейтингов в Японии')\n",
    "plt.show()"
   ]
  },
  {
   "cell_type": "markdown",
   "metadata": {},
   "source": [
    "---\n",
    "\n",
    "По распределению игровых рейтингов в разных регионах могу сказать:\n",
    "* по всем регионам в целом объёмы продаж игр по рейтингу идёт в последовательности: \n",
    "  1. взрослые(от 17 лет)\n",
    "  2. дети от 6 лет\n",
    "  3. подростки от 13 лет\n",
    "  4. дети от 10 лет\n",
    "* В Северной Америке и Европе эта последотельность сохраняется кроме последних 2х позиций (\"дети от 10 лет\" немонго более востребованная категория, чем \"подростки от 13 лет\")\n",
    "* Доля детских игр (от 6 лет) в Европе больше, чем в Северной Америке в абсолютном значении (европейских детишек играет больше, что не удивительно: их больше по численности)\n",
    "* А вот взрослые игры (от 17 лет) в Северной Америке преобладают в абсолютных значениях в сравнении с Европой. Повзрослевщие европейские тинейджеры чаще откладывают джойстики в сторонку и начинают увлекаться чем-то ещё.\n",
    "* В Японии как обычно, свой особый путь:\n",
    "  * маленькие дети от 6 лет и тинейджеры от 13 лет там самые играющие категории\n",
    "  * особенно тинейджеры, которые в абсолютных значениях существенно превосходят взрослых и детей от 6 лет. Вероятно, повзрослевшие японцы больше заняты работой или учёбой, нежели их европейские и американские сверстники. А воспитание маленьких детей в Японии также имеет особенности, которые сказываются на потреблении цифрового контента.\n",
    "\n",
    "\n",
    "*В Японии существует особый подход к воспитанию детей, который европейцам сложно понять. Звучит он так: до пяти лет ребенок — царь, с пяти до пятнадцати — слуга, после пятнадцати — равный. Поэтому в возрастной категории 10+ наблюдается самое меньшее значение продаж игр: \"служба\" в самом разгаре))*\n",
    "\n",
    "---"
   ]
  },
  {
   "cell_type": "markdown",
   "metadata": {},
   "source": [
    "## Проверка гипотез\n",
    "\n",
    "---\n",
    "\n",
    "* Средние пользовательские рейтинги платформ Xbox One и PC одинаковые;\n",
    "* Средние пользовательские рейтинги жанров Action (англ. «действие», экшен-игры) и Sports (англ. «спортивные соревнования») разные.\n",
    "\n",
    "---"
   ]
  },
  {
   "cell_type": "code",
   "execution_count": 94,
   "metadata": {},
   "outputs": [
    {
     "data": {
      "text/html": [
       "<div>\n",
       "<style scoped>\n",
       "    .dataframe tbody tr th:only-of-type {\n",
       "        vertical-align: middle;\n",
       "    }\n",
       "\n",
       "    .dataframe tbody tr th {\n",
       "        vertical-align: top;\n",
       "    }\n",
       "\n",
       "    .dataframe thead th {\n",
       "        text-align: right;\n",
       "    }\n",
       "</style>\n",
       "<table border=\"1\" class=\"dataframe\">\n",
       "  <thead>\n",
       "    <tr style=\"text-align: right;\">\n",
       "      <th></th>\n",
       "      <th>platform</th>\n",
       "      <th>count</th>\n",
       "      <th>mean</th>\n",
       "    </tr>\n",
       "  </thead>\n",
       "  <tbody>\n",
       "    <tr>\n",
       "      <th>2</th>\n",
       "      <td>pc</td>\n",
       "      <td>155</td>\n",
       "      <td>6.269677</td>\n",
       "    </tr>\n",
       "    <tr>\n",
       "      <th>10</th>\n",
       "      <td>xone</td>\n",
       "      <td>182</td>\n",
       "      <td>6.521429</td>\n",
       "    </tr>\n",
       "  </tbody>\n",
       "</table>\n",
       "</div>"
      ],
      "text/plain": [
       "   platform  count      mean\n",
       "2        pc    155  6.269677\n",
       "10     xone    182  6.521429"
      ]
     },
     "execution_count": 94,
     "metadata": {},
     "output_type": "execute_result"
    }
   ],
   "source": [
    "(\n",
    "    adf.groupby('platform')['user_score']\n",
    " .agg(['count','mean'])\n",
    " .reset_index()\n",
    " .query('platform == \"pc\" | platform == \"xone\"')\n",
    " )"
   ]
  },
  {
   "cell_type": "markdown",
   "metadata": {},
   "source": [
    "---\n",
    "\n",
    "Разница имеющихся средних может присутствовать из-за небольших размеров выборок из имеющихся данных. Взгляну на гистограммы распредедений пользовтаельских оценок, апроксиморованные непрерывными кривыми.\n",
    "\n",
    "---"
   ]
  },
  {
   "cell_type": "code",
   "execution_count": 95,
   "metadata": {},
   "outputs": [],
   "source": [
    "adf_pc = adf.query('platform == \"pc\"')"
   ]
  },
  {
   "cell_type": "code",
   "execution_count": 96,
   "metadata": {},
   "outputs": [],
   "source": [
    "adf_xone = adf.query('platform == \"xone\"')"
   ]
  },
  {
   "cell_type": "code",
   "execution_count": 97,
   "metadata": {},
   "outputs": [
    {
     "data": {
      "image/png": "[encoded data removed]",
      "text/plain": [
       "<Figure size 720x432 with 1 Axes>"
      ]
     },
     "metadata": {
      "needs_background": "light"
     },
     "output_type": "display_data"
    }
   ],
   "source": [
    "fig = plt.figure(figsize=(10,6))\n",
    "plt.grid()\n",
    "sns.histplot(adf_xone['user_score'],bins=30,element=\"step\",kde=True)\n",
    "sns.histplot(adf_pc['user_score'],bins=30,element=\"step\",kde=True,color='purple')\n",
    "fig.legend(labels=['Xone_user_score','PC_user_score'])\n",
    "plt.title('распределение пользовательских оценок игр на платформах xone и pc')\n",
    "plt.xlabel('балл по 10-бальной шкале')\n",
    "plt.ylabel('кол-во оценок')\n",
    "plt.show()"
   ]
  },
  {
   "cell_type": "markdown",
   "metadata": {},
   "source": [
    "---\n",
    "\n",
    "Предположу, что средние пользовательские оценки игр на платформах xbox one и PC равны. **Это будет моей нулевой гипотезой.** Основывается она на том, что xbox one - консоль от компании Microsoft и ассортимент игр на неё правтически идентичен ассортименту игр на ПК. И апроксимированные распределения оценок на небольших выборках тоже близки\n",
    "\n",
    "\n",
    "---\n",
    "\n",
    "\n",
    "**Альтернативной гипотезой** буду считать то, что средние пользовательских оценок по платформам pc и xone отличаются, поскольку есть различия в геймплее из-за использования геймпада или мышки с клавиатурой. А также потому, что некоторые игры портируются с одной платформы на другую с потрей удобства управления. \n",
    "\n",
    "---\n",
    "\n",
    "Посмотрю на диспресии выборок\n",
    "\n",
    "---"
   ]
  },
  {
   "cell_type": "code",
   "execution_count": 98,
   "metadata": {},
   "outputs": [
    {
     "name": "stdout",
     "output_type": "stream",
     "text": [
      "Дисперсия пользовательских оценок xone: 1.9069968429360695\n",
      "Дисперсия пользовательских оценок pc: 3.035892752408881\n"
     ]
    }
   ],
   "source": [
    "print('Дисперсия пользовательских оценок xone:',np.var(adf_xone['user_score'],ddof=1))\n",
    "print('Дисперсия пользовательских оценок pc:',np.var(adf_pc['user_score'],ddof=1))"
   ]
  },
  {
   "cell_type": "markdown",
   "metadata": {},
   "source": [
    "---\n",
    "\n",
    "Дисперсии отличаются, но учитывая скромные размеры выборок, при вычислении pvalue буду считать дисперсии генеральных совокупностей равными. Потому что игры одни и те же, предположу, что их оценки могут быть разбросаны одинаково в своих генеральных совокупностях.\n",
    "\n",
    "\n",
    "---\n",
    "\n",
    "Уровень значимости определю равным 5%. Считаю его использование уместным, поскольку исследование ведётся по данным, собранным из разных открытых источников. Они изначально не претендуют на прецезионную точность, и уровень значимости в 0,01% будет неуместен.\n",
    "\n",
    "---\n",
    "\n",
    "Для проверки нулевой гипотезы использую критерий Стьюдента для двухсторонних гипотез **(речь в задаче - о равенстве и неравенстве в любую из сторон)**. \n",
    "\n",
    "---\n",
    "\n",
    "Использую именно критерий Стьюдента, потому что:\n",
    "1. Мана-Уитни в основном блоке статистического спринта нет, а куратор когорты однозначно сказал в чате, что для сдачи Сборного проекта достаточно материалов основного курса (без допа по теории вероятностей)\n",
    "2. Также на одном из своих вебинаров замечательный наставник, Глеб Михайлов, говорил, что Мана-Уитни использую как правило в том случае, когда выборка крайне мала, 20-30 значений. В моём случае выборки получились 155 и 182 - Стьюдент должен сработать.\n",
    "\n",
    "---"
   ]
  },
  {
   "cell_type": "code",
   "execution_count": 99,
   "metadata": {},
   "outputs": [],
   "source": [
    "alpha = 0.05"
   ]
  },
  {
   "cell_type": "code",
   "execution_count": 100,
   "metadata": {},
   "outputs": [],
   "source": [
    "results = st.ttest_ind(adf_pc['user_score'],adf_xone['user_score'], equal_var=True, nan_policy='omit')"
   ]
  },
  {
   "cell_type": "code",
   "execution_count": 101,
   "metadata": {},
   "outputs": [
    {
     "name": "stdout",
     "output_type": "stream",
     "text": [
      "Не получилось отвергнуть нулевую гипотезу, p-value: 0.14012658403611503\n"
     ]
    }
   ],
   "source": [
    "if results.pvalue < alpha:\n",
    "  print('Отвергаю нулевую гипотезу, p-value:',results.pvalue)\n",
    "else:\n",
    "  print('Не получилось отвергнуть нулевую гипотезу, p-value:',results.pvalue)"
   ]
  },
  {
   "cell_type": "markdown",
   "metadata": {},
   "source": [
    "---\n",
    "\n",
    "**Проверю 2-ю гипотезу**\n",
    "\n",
    "Средние пользовательские рейтинги жанров Action (англ. «действие», экшен-игры) и Sports (англ. «спортивные соревнования») разные.\n",
    "\n",
    "---"
   ]
  },
  {
   "cell_type": "code",
   "execution_count": 102,
   "metadata": {},
   "outputs": [
    {
     "data": {
      "text/html": [
       "<div>\n",
       "<style scoped>\n",
       "    .dataframe tbody tr th:only-of-type {\n",
       "        vertical-align: middle;\n",
       "    }\n",
       "\n",
       "    .dataframe tbody tr th {\n",
       "        vertical-align: top;\n",
       "    }\n",
       "\n",
       "    .dataframe thead th {\n",
       "        text-align: right;\n",
       "    }\n",
       "</style>\n",
       "<table border=\"1\" class=\"dataframe\">\n",
       "  <thead>\n",
       "    <tr style=\"text-align: right;\">\n",
       "      <th></th>\n",
       "      <th>genre</th>\n",
       "      <th>count</th>\n",
       "      <th>mean</th>\n",
       "    </tr>\n",
       "  </thead>\n",
       "  <tbody>\n",
       "    <tr>\n",
       "      <th>0</th>\n",
       "      <td>action</td>\n",
       "      <td>389</td>\n",
       "      <td>6.837532</td>\n",
       "    </tr>\n",
       "    <tr>\n",
       "      <th>10</th>\n",
       "      <td>sports</td>\n",
       "      <td>160</td>\n",
       "      <td>5.238125</td>\n",
       "    </tr>\n",
       "  </tbody>\n",
       "</table>\n",
       "</div>"
      ],
      "text/plain": [
       "     genre  count      mean\n",
       "0   action    389  6.837532\n",
       "10  sports    160  5.238125"
      ]
     },
     "execution_count": 102,
     "metadata": {},
     "output_type": "execute_result"
    }
   ],
   "source": [
    "(\n",
    "    adf.groupby('genre')['user_score']\n",
    " .agg(['count','mean'])\n",
    " .reset_index()\n",
    " .query('genre == \"action\" | genre == \"sports\"')\n",
    " )"
   ]
  },
  {
   "cell_type": "markdown",
   "metadata": {},
   "source": [
    "---\n",
    "\n",
    "Разница имеющихся средних может присутствовать из-за небольших размеров выборок из имеющихся данных. Взгляну на гистограммы распредедений пользовтаельских оценок, апроксиморованные непрерывными кривыми.\n",
    "\n",
    "---"
   ]
  },
  {
   "cell_type": "code",
   "execution_count": 103,
   "metadata": {},
   "outputs": [],
   "source": [
    "adf_action = adf.query('genre == \"action\"')"
   ]
  },
  {
   "cell_type": "code",
   "execution_count": 104,
   "metadata": {},
   "outputs": [],
   "source": [
    "adf_sports = adf.query('genre == \"sports\"')"
   ]
  },
  {
   "cell_type": "code",
   "execution_count": 105,
   "metadata": {},
   "outputs": [
    {
     "data": {
      "image/png": "[encoded data removed]",
      "text/plain": [
       "<Figure size 720x432 with 1 Axes>"
      ]
     },
     "metadata": {
      "needs_background": "light"
     },
     "output_type": "display_data"
    }
   ],
   "source": [
    "fig = plt.figure(figsize=(10,6))\n",
    "plt.grid()\n",
    "sns.histplot(adf_action['user_score'],bins=30,element=\"step\",kde=True)\n",
    "sns.histplot(adf_sports['user_score'],bins=30,element=\"step\",kde=True,color='purple')\n",
    "fig.legend(labels=['action_user_score','sports_user_score'])\n",
    "plt.title('распределение пользовательских оценок игр по жанрам action и sports')\n",
    "plt.xlabel('балл по 10-бальной шкале')\n",
    "plt.ylabel('кол-во оценок')\n",
    "plt.show()"
   ]
  },
  {
   "cell_type": "markdown",
   "metadata": {},
   "source": [
    "---\n",
    "\n",
    "По информации из курса нулевая гипотеза всегда формулируется так, чтобы использовать знак равенства (средних двух выборок и среднего - конкретному значению, или 0). По этому чтобы проверить, что средние пользовательские рейтинги жанров Action (англ. «действие», экшен-игры) и Sports (англ. «спортивные соревнования») разные, за **нулевую гипотезу** приму их равенство. А в качестве **альтернативной гипотезы** буду считать их неравенство.\n",
    "\n",
    "---\n",
    "\n",
    "Средние значения прилично отличаются, но это всего лишь небольшие выборки - такое вполне возможно. Посмотрю не их дисперсии.\n",
    "\n",
    "---"
   ]
  },
  {
   "cell_type": "code",
   "execution_count": 106,
   "metadata": {},
   "outputs": [
    {
     "name": "stdout",
     "output_type": "stream",
     "text": [
      "Дисперсия пользовательских оценок xone: 1.7693609042482705\n",
      "Дисперсия пользовательских оценок pc: 3.180612814465409\n"
     ]
    }
   ],
   "source": [
    "print('Дисперсия пользовательских оценок xone:',np.var(adf_action['user_score'],ddof=1))\n",
    "print('Дисперсия пользовательских оценок pc:',np.var(adf_sports['user_score'],ddof=1))"
   ]
  },
  {
   "cell_type": "markdown",
   "metadata": {},
   "source": [
    "---\n",
    "\n",
    "Дисперсии отличаются сильнее, чем в прошлом случае. Жанры тоже объективно отличаются, поэтому при вычислении pvalue буду считать дисперсии генеральных совокупностей различными.\n",
    "\n",
    "\n",
    "---\n",
    "\n",
    "Уровень значимости определю равным 5%. Критерий использую тот же, поскольку размеры выборок и сформулированные нулевая и альтернативная гипотезы позволяют.\n",
    "\n",
    "\n",
    "---"
   ]
  },
  {
   "cell_type": "code",
   "execution_count": 107,
   "metadata": {},
   "outputs": [],
   "source": [
    "results = st.ttest_ind(adf_action['user_score'],adf_sports['user_score'], equal_var=False, nan_policy='omit')"
   ]
  },
  {
   "cell_type": "code",
   "execution_count": 108,
   "metadata": {},
   "outputs": [
    {
     "name": "stdout",
     "output_type": "stream",
     "text": [
      "Отвергаю нулевую гипотезу, p-value: 1.4460039700703482e-20\n"
     ]
    }
   ],
   "source": [
    "if results.pvalue < alpha:\n",
    "  print('Отвергаю нулевую гипотезу, p-value:',results.pvalue)\n",
    "else:\n",
    "  print('Не получилось отвергнуть нулевую гипотезу, p-value:',results.pvalue)"
   ]
  },
  {
   "cell_type": "markdown",
   "metadata": {},
   "source": [
    "## Общий вывод\n",
    "\n",
    "---\n",
    "\n",
    "По итогу исследования я пришёл к следующим выводам:\n",
    "* Для успешных продаж на следующий год необходимо составлять основу ассортимента игр для консолей, вышедших не более 3х лет назад\n",
    "* Отзывы пользователей в сети - не показатель для планирования продаж и ассортимента, соответственно. А вот на критиков можно оглядываться: их хорошие оценки повысятт шансы на более высокие продажи\n",
    "* Жанры для ассортимента на следующий год лучше подбиарть следующие: action, shooter, sports, role-playing, misc, raicing, fighting\n",
    "* Акцент лучше сделать на консоли последних поколений ps4, xone, для Японии ещё очень актаульна портавная консоль и игры на неё, nintendo 3ds\n",
    "* Игры взрослого рейтинга должны быть основой ассортимента, вслед за ними - дети от 6, потом тинейджеры 13+, и дети от 10 до 13 - в последнюю очередь\n",
    "* Пользовательский рейтинг xone и pc, вероятно, в среднем равен. По крайней мере, по имеющимся выборкам отвергнуть гипотезу об их равенстве не удалось\n",
    "* Пользовательские рейтинги action и sport, вероятно, в среднем отличается в пользу игр action. Отвергнуть гипотезу об их равенстве удалось. Это ещё один повод в планируемом ассортименте больший сегмент отвести под жанр action.\n"
   ]
  }
 ],
 "metadata": {
  "ExecuteTimeLog": [
   {
    "duration": 1488,
    "start_time": "2021-10-25T16:34:28.903Z"
   },
   {
    "duration": 141,
    "start_time": "2021-10-25T16:35:34.246Z"
   },
   {
    "duration": 23,
    "start_time": "2021-10-25T16:35:38.837Z"
   },
   {
    "duration": 91,
    "start_time": "2021-10-25T16:36:02.902Z"
   },
   {
    "duration": 4,
    "start_time": "2021-10-25T16:36:16.302Z"
   },
   {
    "duration": 6,
    "start_time": "2021-10-25T16:36:21.718Z"
   },
   {
    "duration": 22,
    "start_time": "2021-10-25T16:36:27.150Z"
   },
   {
    "duration": 14,
    "start_time": "2021-10-25T16:36:50.903Z"
   },
   {
    "duration": 12,
    "start_time": "2021-10-25T16:36:56.670Z"
   },
   {
    "duration": 11,
    "start_time": "2021-10-25T16:37:02.494Z"
   },
   {
    "duration": 11,
    "start_time": "2021-10-25T16:37:08.255Z"
   },
   {
    "duration": 18,
    "start_time": "2021-10-25T16:37:13.975Z"
   },
   {
    "duration": 21,
    "start_time": "2021-10-25T16:37:43.117Z"
   },
   {
    "duration": 9,
    "start_time": "2021-10-25T16:40:00.128Z"
   },
   {
    "duration": 7,
    "start_time": "2021-10-25T16:40:54.616Z"
   },
   {
    "duration": 10,
    "start_time": "2021-10-25T16:41:00.929Z"
   },
   {
    "duration": 12,
    "start_time": "2021-10-25T16:42:06.633Z"
   },
   {
    "duration": 8,
    "start_time": "2021-10-25T16:42:13.049Z"
   },
   {
    "duration": 11,
    "start_time": "2021-10-25T16:42:22.417Z"
   },
   {
    "duration": 12,
    "start_time": "2021-10-25T16:43:04.689Z"
   },
   {
    "duration": 23,
    "start_time": "2021-10-25T16:43:08.977Z"
   },
   {
    "duration": 548,
    "start_time": "2021-10-25T16:43:32.891Z"
   },
   {
    "duration": 496,
    "start_time": "2021-10-25T16:44:24.578Z"
   },
   {
    "duration": 8,
    "start_time": "2021-10-25T16:45:01.114Z"
   },
   {
    "duration": 458,
    "start_time": "2021-10-25T16:45:38.979Z"
   },
   {
    "duration": 13,
    "start_time": "2021-10-25T16:47:28.684Z"
   },
   {
    "duration": 4,
    "start_time": "2021-10-25T16:47:34.731Z"
   },
   {
    "duration": 12,
    "start_time": "2021-10-25T16:47:54.356Z"
   },
   {
    "duration": 785,
    "start_time": "2021-10-25T16:49:00.702Z"
   },
   {
    "duration": 9,
    "start_time": "2021-10-25T16:50:19.397Z"
   },
   {
    "duration": 13,
    "start_time": "2021-10-25T16:50:23.998Z"
   },
   {
    "duration": 16,
    "start_time": "2021-10-25T16:51:17.390Z"
   },
   {
    "duration": 7,
    "start_time": "2021-10-25T16:51:23.014Z"
   },
   {
    "duration": 6,
    "start_time": "2021-10-25T16:51:27.525Z"
   },
   {
    "duration": 5,
    "start_time": "2021-10-25T16:51:33.622Z"
   },
   {
    "duration": 7,
    "start_time": "2021-10-25T16:52:55.943Z"
   },
   {
    "duration": 13,
    "start_time": "2021-10-25T16:53:11.343Z"
   },
   {
    "duration": 3,
    "start_time": "2021-10-25T16:53:16.911Z"
   },
   {
    "duration": 11,
    "start_time": "2021-10-25T16:53:21.231Z"
   },
   {
    "duration": 775,
    "start_time": "2021-10-25T16:54:27.192Z"
   },
   {
    "duration": 588,
    "start_time": "2021-10-25T16:58:32.530Z"
   },
   {
    "duration": 630,
    "start_time": "2021-10-25T16:59:38.066Z"
   },
   {
    "duration": 12,
    "start_time": "2021-10-25T17:04:46.748Z"
   },
   {
    "duration": 8,
    "start_time": "2021-10-25T17:04:53.796Z"
   },
   {
    "duration": 19,
    "start_time": "2021-10-25T17:05:18.820Z"
   },
   {
    "duration": 438,
    "start_time": "2021-10-25T17:15:06.834Z"
   },
   {
    "duration": 7,
    "start_time": "2021-10-25T17:15:13.384Z"
   },
   {
    "duration": 465,
    "start_time": "2021-10-25T17:16:07.393Z"
   },
   {
    "duration": 407,
    "start_time": "2021-10-25T17:16:20.510Z"
   },
   {
    "duration": 432,
    "start_time": "2021-10-25T17:16:27.505Z"
   },
   {
    "duration": 7,
    "start_time": "2021-10-25T17:16:41.858Z"
   },
   {
    "duration": 11,
    "start_time": "2021-10-25T17:17:55.360Z"
   },
   {
    "duration": 17,
    "start_time": "2021-10-25T17:18:21.330Z"
   },
   {
    "duration": 7,
    "start_time": "2021-10-25T17:18:26.114Z"
   },
   {
    "duration": 8,
    "start_time": "2021-10-25T17:18:31.873Z"
   },
   {
    "duration": 8,
    "start_time": "2021-10-25T17:18:57.851Z"
   },
   {
    "duration": 6,
    "start_time": "2021-10-25T17:19:03.554Z"
   },
   {
    "duration": 7,
    "start_time": "2021-10-25T17:19:59.386Z"
   },
   {
    "duration": 7,
    "start_time": "2021-10-25T17:20:04.154Z"
   },
   {
    "duration": 7,
    "start_time": "2021-10-25T17:20:19.899Z"
   },
   {
    "duration": 6,
    "start_time": "2021-10-25T17:20:25.307Z"
   },
   {
    "duration": 15,
    "start_time": "2021-10-25T17:21:33.533Z"
   },
   {
    "duration": 397,
    "start_time": "2021-10-25T17:21:38.283Z"
   },
   {
    "duration": 12,
    "start_time": "2021-10-25T17:24:30.160Z"
   },
   {
    "duration": 13,
    "start_time": "2021-10-25T17:24:40.198Z"
   },
   {
    "duration": 7,
    "start_time": "2021-10-25T17:25:38.494Z"
   },
   {
    "duration": 6,
    "start_time": "2021-10-25T17:26:24.218Z"
   },
   {
    "duration": 357,
    "start_time": "2021-10-25T17:26:26.166Z"
   },
   {
    "duration": 7,
    "start_time": "2021-10-25T17:28:44.759Z"
   },
   {
    "duration": 422,
    "start_time": "2021-10-25T17:28:50.565Z"
   },
   {
    "duration": 865,
    "start_time": "2021-10-25T17:31:01.313Z"
   },
   {
    "duration": 6,
    "start_time": "2021-10-25T17:33:55.178Z"
   },
   {
    "duration": 13,
    "start_time": "2021-10-25T17:34:00.394Z"
   },
   {
    "duration": 13,
    "start_time": "2021-10-25T17:34:06.706Z"
   },
   {
    "duration": 6,
    "start_time": "2021-10-25T17:34:40.083Z"
   },
   {
    "duration": 6,
    "start_time": "2021-10-25T17:34:49.248Z"
   },
   {
    "duration": 6,
    "start_time": "2021-10-25T17:34:50.914Z"
   },
   {
    "duration": 361,
    "start_time": "2021-10-25T17:35:25.771Z"
   },
   {
    "duration": 316,
    "start_time": "2021-10-25T17:35:32.139Z"
   },
   {
    "duration": 312,
    "start_time": "2021-10-25T17:35:38.444Z"
   },
   {
    "duration": 935,
    "start_time": "2021-10-25T17:35:47.867Z"
   },
   {
    "duration": 9,
    "start_time": "2021-10-25T17:37:35.101Z"
   },
   {
    "duration": 13,
    "start_time": "2021-10-25T17:38:15.292Z"
   },
   {
    "duration": 12,
    "start_time": "2021-10-25T17:38:23.588Z"
   },
   {
    "duration": 476,
    "start_time": "2021-10-25T17:38:36.004Z"
   },
   {
    "duration": 946,
    "start_time": "2021-10-25T17:38:56.493Z"
   },
   {
    "duration": 1066,
    "start_time": "2021-10-25T17:40:45.387Z"
   },
   {
    "duration": 22,
    "start_time": "2021-10-25T17:53:21.330Z"
   },
   {
    "duration": 9,
    "start_time": "2021-10-25T17:54:22.115Z"
   },
   {
    "duration": 7,
    "start_time": "2021-10-25T17:54:30.738Z"
   },
   {
    "duration": 7,
    "start_time": "2021-10-25T17:54:33.251Z"
   },
   {
    "duration": 714,
    "start_time": "2021-10-25T17:54:40.316Z"
   },
   {
    "duration": 4507,
    "start_time": "2021-10-25T17:55:02.807Z"
   },
   {
    "duration": 3111,
    "start_time": "2021-10-25T17:55:22.440Z"
   },
   {
    "duration": 1396,
    "start_time": "2021-10-25T17:55:25.555Z"
   },
   {
    "duration": 208,
    "start_time": "2021-10-25T17:55:26.955Z"
   },
   {
    "duration": 23,
    "start_time": "2021-10-25T17:55:27.166Z"
   },
   {
    "duration": 5,
    "start_time": "2021-10-25T17:55:27.191Z"
   },
   {
    "duration": 6,
    "start_time": "2021-10-25T17:55:27.198Z"
   },
   {
    "duration": 22,
    "start_time": "2021-10-25T17:55:27.223Z"
   },
   {
    "duration": 14,
    "start_time": "2021-10-25T17:55:27.249Z"
   },
   {
    "duration": 23,
    "start_time": "2021-10-25T17:55:27.265Z"
   },
   {
    "duration": 35,
    "start_time": "2021-10-25T17:55:27.291Z"
   },
   {
    "duration": 20,
    "start_time": "2021-10-25T17:55:27.329Z"
   },
   {
    "duration": 27,
    "start_time": "2021-10-25T17:55:27.352Z"
   },
   {
    "duration": 8,
    "start_time": "2021-10-25T17:55:27.382Z"
   },
   {
    "duration": 7,
    "start_time": "2021-10-25T17:55:27.392Z"
   },
   {
    "duration": 24,
    "start_time": "2021-10-25T17:55:27.402Z"
   },
   {
    "duration": 11,
    "start_time": "2021-10-25T17:55:27.429Z"
   },
   {
    "duration": 16,
    "start_time": "2021-10-25T17:55:27.443Z"
   },
   {
    "duration": 15,
    "start_time": "2021-10-25T17:55:27.462Z"
   },
   {
    "duration": 11,
    "start_time": "2021-10-25T17:55:27.480Z"
   },
   {
    "duration": 47,
    "start_time": "2021-10-25T17:55:27.493Z"
   },
   {
    "duration": 761,
    "start_time": "2021-10-25T17:55:27.543Z"
   },
   {
    "duration": 551,
    "start_time": "2021-10-25T17:55:28.307Z"
   },
   {
    "duration": 8,
    "start_time": "2021-10-25T17:55:28.864Z"
   },
   {
    "duration": 425,
    "start_time": "2021-10-25T17:55:28.875Z"
   },
   {
    "duration": 26,
    "start_time": "2021-10-25T17:55:29.303Z"
   },
   {
    "duration": 3,
    "start_time": "2021-10-25T17:55:29.331Z"
   },
   {
    "duration": 13,
    "start_time": "2021-10-25T17:55:29.337Z"
   },
   {
    "duration": 796,
    "start_time": "2021-10-25T17:55:29.353Z"
   },
   {
    "duration": 16,
    "start_time": "2021-10-25T17:55:30.151Z"
   },
   {
    "duration": 7,
    "start_time": "2021-10-25T17:55:30.169Z"
   },
   {
    "duration": 15,
    "start_time": "2021-10-25T17:55:30.179Z"
   },
   {
    "duration": 28,
    "start_time": "2021-10-25T17:55:30.197Z"
   },
   {
    "duration": 6,
    "start_time": "2021-10-25T17:55:30.228Z"
   },
   {
    "duration": 19,
    "start_time": "2021-10-25T17:55:30.236Z"
   },
   {
    "duration": 5,
    "start_time": "2021-10-25T17:55:30.257Z"
   },
   {
    "duration": 17,
    "start_time": "2021-10-25T17:55:30.265Z"
   },
   {
    "duration": 827,
    "start_time": "2021-10-25T17:55:30.285Z"
   },
   {
    "duration": 624,
    "start_time": "2021-10-25T17:55:31.114Z"
   },
   {
    "duration": 630,
    "start_time": "2021-10-25T17:55:31.741Z"
   },
   {
    "duration": 10,
    "start_time": "2021-10-25T17:55:32.373Z"
   },
   {
    "duration": 9,
    "start_time": "2021-10-25T17:55:32.385Z"
   },
   {
    "duration": 33,
    "start_time": "2021-10-25T17:55:32.396Z"
   },
   {
    "duration": 422,
    "start_time": "2021-10-25T17:55:32.431Z"
   },
   {
    "duration": 7,
    "start_time": "2021-10-25T17:55:32.855Z"
   },
   {
    "duration": 578,
    "start_time": "2021-10-25T17:55:32.864Z"
   },
   {
    "duration": 11,
    "start_time": "2021-10-25T17:55:33.445Z"
   },
   {
    "duration": 33,
    "start_time": "2021-10-25T17:55:33.459Z"
   },
   {
    "duration": 45,
    "start_time": "2021-10-25T17:55:33.495Z"
   },
   {
    "duration": 9,
    "start_time": "2021-10-25T17:55:33.544Z"
   },
   {
    "duration": 37,
    "start_time": "2021-10-25T17:55:33.556Z"
   },
   {
    "duration": 11,
    "start_time": "2021-10-25T17:55:33.613Z"
   },
   {
    "duration": 25,
    "start_time": "2021-10-25T17:55:33.636Z"
   },
   {
    "duration": 23,
    "start_time": "2021-10-25T17:55:33.674Z"
   },
   {
    "duration": 8,
    "start_time": "2021-10-25T17:55:33.699Z"
   },
   {
    "duration": 11,
    "start_time": "2021-10-25T17:55:33.709Z"
   },
   {
    "duration": 7,
    "start_time": "2021-10-25T17:55:33.722Z"
   },
   {
    "duration": 25,
    "start_time": "2021-10-25T17:55:33.731Z"
   },
   {
    "duration": 415,
    "start_time": "2021-10-25T17:55:33.758Z"
   },
   {
    "duration": 13,
    "start_time": "2021-10-25T17:55:34.175Z"
   },
   {
    "duration": 32,
    "start_time": "2021-10-25T17:55:34.190Z"
   },
   {
    "duration": 6,
    "start_time": "2021-10-25T17:55:34.225Z"
   },
   {
    "duration": 357,
    "start_time": "2021-10-25T17:55:34.234Z"
   },
   {
    "duration": 6,
    "start_time": "2021-10-25T17:55:34.593Z"
   },
   {
    "duration": 338,
    "start_time": "2021-10-25T17:55:34.601Z"
   },
   {
    "duration": 919,
    "start_time": "2021-10-25T17:55:34.941Z"
   },
   {
    "duration": 5,
    "start_time": "2021-10-25T17:55:35.862Z"
   },
   {
    "duration": 26,
    "start_time": "2021-10-25T17:55:35.870Z"
   },
   {
    "duration": 28,
    "start_time": "2021-10-25T17:55:35.906Z"
   },
   {
    "duration": 15,
    "start_time": "2021-10-25T17:55:35.938Z"
   },
   {
    "duration": 13,
    "start_time": "2021-10-25T17:55:35.956Z"
   },
   {
    "duration": 29,
    "start_time": "2021-10-25T17:55:35.972Z"
   },
   {
    "duration": 352,
    "start_time": "2021-10-25T17:55:36.003Z"
   },
   {
    "duration": 334,
    "start_time": "2021-10-25T17:55:36.359Z"
   },
   {
    "duration": 339,
    "start_time": "2021-10-25T17:55:36.695Z"
   },
   {
    "duration": 993,
    "start_time": "2021-10-25T17:55:37.036Z"
   },
   {
    "duration": 8,
    "start_time": "2021-10-25T17:55:38.032Z"
   },
   {
    "duration": 18,
    "start_time": "2021-10-25T17:55:38.042Z"
   },
   {
    "duration": 17,
    "start_time": "2021-10-25T17:55:38.062Z"
   },
   {
    "duration": 486,
    "start_time": "2021-10-25T17:55:38.082Z"
   },
   {
    "duration": 1091,
    "start_time": "2021-10-25T17:55:38.570Z"
   },
   {
    "duration": 21,
    "start_time": "2021-10-25T17:55:39.663Z"
   },
   {
    "duration": 13,
    "start_time": "2021-10-25T17:55:39.687Z"
   },
   {
    "duration": 24,
    "start_time": "2021-10-25T17:55:39.702Z"
   },
   {
    "duration": 476,
    "start_time": "2021-10-25T17:55:58.784Z"
   },
   {
    "duration": 7,
    "start_time": "2021-10-25T17:57:09.871Z"
   },
   {
    "duration": 4,
    "start_time": "2021-10-25T18:15:22.791Z"
   },
   {
    "duration": 6,
    "start_time": "2021-10-25T18:15:27.568Z"
   },
   {
    "duration": 5,
    "start_time": "2021-10-25T18:15:32.352Z"
   },
   {
    "duration": 8,
    "start_time": "2021-10-25T18:18:09.697Z"
   },
   {
    "duration": 19,
    "start_time": "2021-10-25T18:21:46.163Z"
   },
   {
    "duration": 22,
    "start_time": "2021-10-25T18:22:59.443Z"
   },
   {
    "duration": 8,
    "start_time": "2021-10-25T18:24:06.092Z"
   },
   {
    "duration": 7,
    "start_time": "2021-10-25T18:24:11.163Z"
   },
   {
    "duration": 714,
    "start_time": "2021-10-25T18:24:28.379Z"
   },
   {
    "duration": 6,
    "start_time": "2021-10-25T18:30:46.335Z"
   },
   {
    "duration": 8,
    "start_time": "2021-10-25T18:33:42.487Z"
   },
   {
    "duration": 6,
    "start_time": "2021-10-25T18:33:47.591Z"
   },
   {
    "duration": 356,
    "start_time": "2021-10-25T19:36:49.991Z"
   },
   {
    "duration": 1062,
    "start_time": "2021-10-25T19:37:58.982Z"
   },
   {
    "duration": 799,
    "start_time": "2021-10-25T19:38:13.355Z"
   },
   {
    "duration": 444,
    "start_time": "2021-10-25T19:39:02.579Z"
   },
   {
    "duration": 960,
    "start_time": "2021-10-25T19:39:13.698Z"
   },
   {
    "duration": 1028,
    "start_time": "2021-10-25T19:40:36.818Z"
   },
   {
    "duration": 3087,
    "start_time": "2021-10-25T19:43:23.308Z"
   },
   {
    "duration": 1454,
    "start_time": "2021-10-25T19:43:26.398Z"
   },
   {
    "duration": 128,
    "start_time": "2021-10-25T19:43:27.855Z"
   },
   {
    "duration": 23,
    "start_time": "2021-10-25T19:43:27.986Z"
   },
   {
    "duration": 7,
    "start_time": "2021-10-25T19:43:28.012Z"
   },
   {
    "duration": 6,
    "start_time": "2021-10-25T19:43:28.023Z"
   },
   {
    "duration": 27,
    "start_time": "2021-10-25T19:43:28.033Z"
   },
   {
    "duration": 60,
    "start_time": "2021-10-25T19:43:28.064Z"
   },
   {
    "duration": 14,
    "start_time": "2021-10-25T19:43:28.131Z"
   },
   {
    "duration": 15,
    "start_time": "2021-10-25T19:43:28.149Z"
   },
   {
    "duration": 57,
    "start_time": "2021-10-25T19:43:28.166Z"
   },
   {
    "duration": 26,
    "start_time": "2021-10-25T19:43:28.225Z"
   },
   {
    "duration": 15,
    "start_time": "2021-10-25T19:43:28.254Z"
   },
   {
    "duration": 8,
    "start_time": "2021-10-25T19:43:28.272Z"
   },
   {
    "duration": 45,
    "start_time": "2021-10-25T19:43:28.282Z"
   },
   {
    "duration": 11,
    "start_time": "2021-10-25T19:43:28.330Z"
   },
   {
    "duration": 8,
    "start_time": "2021-10-25T19:43:28.344Z"
   },
   {
    "duration": 10,
    "start_time": "2021-10-25T19:43:28.355Z"
   },
   {
    "duration": 55,
    "start_time": "2021-10-25T19:43:28.367Z"
   },
   {
    "duration": 22,
    "start_time": "2021-10-25T19:43:28.425Z"
   },
   {
    "duration": 605,
    "start_time": "2021-10-25T19:43:28.449Z"
   },
   {
    "duration": 541,
    "start_time": "2021-10-25T19:43:29.057Z"
   },
   {
    "duration": 21,
    "start_time": "2021-10-25T19:43:29.601Z"
   },
   {
    "duration": 460,
    "start_time": "2021-10-25T19:43:29.625Z"
   },
   {
    "duration": 34,
    "start_time": "2021-10-25T19:43:30.088Z"
   },
   {
    "duration": 4,
    "start_time": "2021-10-25T19:43:30.125Z"
   },
   {
    "duration": 28,
    "start_time": "2021-10-25T19:43:30.136Z"
   },
   {
    "duration": 855,
    "start_time": "2021-10-25T19:43:30.168Z"
   },
   {
    "duration": 15,
    "start_time": "2021-10-25T19:43:31.025Z"
   },
   {
    "duration": 17,
    "start_time": "2021-10-25T19:43:31.043Z"
   },
   {
    "duration": 25,
    "start_time": "2021-10-25T19:43:31.063Z"
   },
   {
    "duration": 29,
    "start_time": "2021-10-25T19:43:31.090Z"
   },
   {
    "duration": 26,
    "start_time": "2021-10-25T19:43:31.121Z"
   },
   {
    "duration": 21,
    "start_time": "2021-10-25T19:43:31.150Z"
   },
   {
    "duration": 19,
    "start_time": "2021-10-25T19:43:31.174Z"
   },
   {
    "duration": 29,
    "start_time": "2021-10-25T19:43:31.196Z"
   },
   {
    "duration": 972,
    "start_time": "2021-10-25T19:43:31.228Z"
   },
   {
    "duration": 806,
    "start_time": "2021-10-25T19:43:32.204Z"
   },
   {
    "duration": 640,
    "start_time": "2021-10-25T19:43:33.013Z"
   },
   {
    "duration": 12,
    "start_time": "2021-10-25T19:43:33.656Z"
   },
   {
    "duration": 16,
    "start_time": "2021-10-25T19:43:33.670Z"
   },
   {
    "duration": 48,
    "start_time": "2021-10-25T19:43:33.688Z"
   },
   {
    "duration": 396,
    "start_time": "2021-10-25T19:43:33.738Z"
   },
   {
    "duration": 7,
    "start_time": "2021-10-25T19:43:34.136Z"
   },
   {
    "duration": 410,
    "start_time": "2021-10-25T19:43:34.146Z"
   },
   {
    "duration": 7,
    "start_time": "2021-10-25T19:43:34.559Z"
   },
   {
    "duration": 15,
    "start_time": "2021-10-25T19:43:34.569Z"
   },
   {
    "duration": 45,
    "start_time": "2021-10-25T19:43:34.586Z"
   },
   {
    "duration": 9,
    "start_time": "2021-10-25T19:43:34.634Z"
   },
   {
    "duration": 8,
    "start_time": "2021-10-25T19:43:34.645Z"
   },
   {
    "duration": 6,
    "start_time": "2021-10-25T19:43:34.656Z"
   },
   {
    "duration": 13,
    "start_time": "2021-10-25T19:43:34.664Z"
   },
   {
    "duration": 8,
    "start_time": "2021-10-25T19:43:34.721Z"
   },
   {
    "duration": 9,
    "start_time": "2021-10-25T19:43:34.731Z"
   },
   {
    "duration": 7,
    "start_time": "2021-10-25T19:43:34.743Z"
   },
   {
    "duration": 9,
    "start_time": "2021-10-25T19:43:34.752Z"
   },
   {
    "duration": 65,
    "start_time": "2021-10-25T19:43:34.764Z"
   },
   {
    "duration": 442,
    "start_time": "2021-10-25T19:43:34.832Z"
   },
   {
    "duration": 12,
    "start_time": "2021-10-25T19:43:35.277Z"
   },
   {
    "duration": 33,
    "start_time": "2021-10-25T19:43:35.291Z"
   },
   {
    "duration": 10,
    "start_time": "2021-10-25T19:43:35.327Z"
   },
   {
    "duration": 388,
    "start_time": "2021-10-25T19:43:35.340Z"
   },
   {
    "duration": 6,
    "start_time": "2021-10-25T19:43:35.731Z"
   },
   {
    "duration": 358,
    "start_time": "2021-10-25T19:43:35.740Z"
   },
   {
    "duration": 957,
    "start_time": "2021-10-25T19:43:36.100Z"
   },
   {
    "duration": 5,
    "start_time": "2021-10-25T19:43:37.059Z"
   },
   {
    "duration": 22,
    "start_time": "2021-10-25T19:43:37.066Z"
   },
   {
    "duration": 34,
    "start_time": "2021-10-25T19:43:37.091Z"
   },
   {
    "duration": 21,
    "start_time": "2021-10-25T19:43:37.128Z"
   },
   {
    "duration": 21,
    "start_time": "2021-10-25T19:43:37.151Z"
   },
   {
    "duration": 16,
    "start_time": "2021-10-25T19:43:37.174Z"
   },
   {
    "duration": 354,
    "start_time": "2021-10-25T19:43:37.192Z"
   },
   {
    "duration": 355,
    "start_time": "2021-10-25T19:43:37.548Z"
   },
   {
    "duration": 345,
    "start_time": "2021-10-25T19:43:37.905Z"
   },
   {
    "duration": 1000,
    "start_time": "2021-10-25T19:43:38.253Z"
   },
   {
    "duration": 9,
    "start_time": "2021-10-25T19:43:39.255Z"
   },
   {
    "duration": 12,
    "start_time": "2021-10-25T19:43:39.266Z"
   },
   {
    "duration": 44,
    "start_time": "2021-10-25T19:43:39.280Z"
   },
   {
    "duration": 480,
    "start_time": "2021-10-25T19:43:39.327Z"
   },
   {
    "duration": 1000,
    "start_time": "2021-10-25T19:43:39.809Z"
   },
   {
    "duration": 20,
    "start_time": "2021-10-25T19:43:40.826Z"
   },
   {
    "duration": 8,
    "start_time": "2021-10-25T19:43:40.849Z"
   },
   {
    "duration": 11,
    "start_time": "2021-10-25T19:43:40.859Z"
   },
   {
    "duration": 549,
    "start_time": "2021-10-25T19:43:40.873Z"
   },
   {
    "duration": 7,
    "start_time": "2021-10-25T19:43:41.424Z"
   },
   {
    "duration": 6,
    "start_time": "2021-10-25T19:43:41.434Z"
   },
   {
    "duration": 10,
    "start_time": "2021-10-25T19:43:41.443Z"
   },
   {
    "duration": 6,
    "start_time": "2021-10-25T19:43:41.456Z"
   },
   {
    "duration": 66,
    "start_time": "2021-10-25T19:43:41.464Z"
   },
   {
    "duration": 7,
    "start_time": "2021-10-25T19:43:41.532Z"
   },
   {
    "duration": 10,
    "start_time": "2021-10-25T19:43:41.542Z"
   },
   {
    "duration": 500,
    "start_time": "2021-10-25T19:43:41.554Z"
   },
   {
    "duration": 6,
    "start_time": "2021-10-25T19:43:42.057Z"
   },
   {
    "duration": 11,
    "start_time": "2021-10-25T19:43:42.065Z"
   },
   {
    "duration": 13,
    "start_time": "2021-10-25T19:43:42.078Z"
   },
   {
    "duration": 5057,
    "start_time": "2021-10-26T06:41:49.825Z"
   },
   {
    "duration": 1059,
    "start_time": "2021-10-26T06:41:54.884Z"
   },
   {
    "duration": 147,
    "start_time": "2021-10-26T06:41:55.946Z"
   },
   {
    "duration": 15,
    "start_time": "2021-10-26T06:41:56.094Z"
   },
   {
    "duration": 5,
    "start_time": "2021-10-26T06:41:56.111Z"
   },
   {
    "duration": 5,
    "start_time": "2021-10-26T06:41:56.117Z"
   },
   {
    "duration": 15,
    "start_time": "2021-10-26T06:41:56.125Z"
   },
   {
    "duration": 8,
    "start_time": "2021-10-26T06:41:56.142Z"
   },
   {
    "duration": 9,
    "start_time": "2021-10-26T06:41:56.152Z"
   },
   {
    "duration": 34,
    "start_time": "2021-10-26T06:41:56.163Z"
   },
   {
    "duration": 12,
    "start_time": "2021-10-26T06:41:56.198Z"
   },
   {
    "duration": 17,
    "start_time": "2021-10-26T06:41:56.211Z"
   },
   {
    "duration": 7,
    "start_time": "2021-10-26T06:41:56.229Z"
   },
   {
    "duration": 6,
    "start_time": "2021-10-26T06:41:56.237Z"
   },
   {
    "duration": 8,
    "start_time": "2021-10-26T06:41:56.245Z"
   },
   {
    "duration": 37,
    "start_time": "2021-10-26T06:41:56.254Z"
   },
   {
    "duration": 5,
    "start_time": "2021-10-26T06:41:56.293Z"
   },
   {
    "duration": 9,
    "start_time": "2021-10-26T06:41:56.299Z"
   },
   {
    "duration": 5,
    "start_time": "2021-10-26T06:41:56.309Z"
   },
   {
    "duration": 16,
    "start_time": "2021-10-26T06:41:56.315Z"
   },
   {
    "duration": 370,
    "start_time": "2021-10-26T06:41:56.333Z"
   },
   {
    "duration": 318,
    "start_time": "2021-10-26T06:41:56.706Z"
   },
   {
    "duration": 6,
    "start_time": "2021-10-26T06:41:57.026Z"
   },
   {
    "duration": 262,
    "start_time": "2021-10-26T06:41:57.034Z"
   },
   {
    "duration": 9,
    "start_time": "2021-10-26T06:41:57.298Z"
   },
   {
    "duration": 3,
    "start_time": "2021-10-26T06:41:57.309Z"
   },
   {
    "duration": 10,
    "start_time": "2021-10-26T06:41:57.313Z"
   },
   {
    "duration": 503,
    "start_time": "2021-10-26T06:41:57.325Z"
   },
   {
    "duration": 10,
    "start_time": "2021-10-26T06:41:57.830Z"
   },
   {
    "duration": 3,
    "start_time": "2021-10-26T06:41:57.842Z"
   },
   {
    "duration": 7,
    "start_time": "2021-10-26T06:41:57.847Z"
   },
   {
    "duration": 6,
    "start_time": "2021-10-26T06:41:57.855Z"
   },
   {
    "duration": 29,
    "start_time": "2021-10-26T06:41:57.862Z"
   },
   {
    "duration": 8,
    "start_time": "2021-10-26T06:41:57.893Z"
   },
   {
    "duration": 4,
    "start_time": "2021-10-26T06:41:57.903Z"
   },
   {
    "duration": 9,
    "start_time": "2021-10-26T06:41:57.909Z"
   },
   {
    "duration": 518,
    "start_time": "2021-10-26T06:41:57.920Z"
   },
   {
    "duration": 377,
    "start_time": "2021-10-26T06:41:58.440Z"
   },
   {
    "duration": 378,
    "start_time": "2021-10-26T06:41:58.818Z"
   },
   {
    "duration": 7,
    "start_time": "2021-10-26T06:41:59.198Z"
   },
   {
    "duration": 8,
    "start_time": "2021-10-26T06:41:59.207Z"
   },
   {
    "duration": 20,
    "start_time": "2021-10-26T06:41:59.216Z"
   },
   {
    "duration": 282,
    "start_time": "2021-10-26T06:41:59.237Z"
   },
   {
    "duration": 5,
    "start_time": "2021-10-26T06:41:59.521Z"
   },
   {
    "duration": 289,
    "start_time": "2021-10-26T06:41:59.527Z"
   },
   {
    "duration": 5,
    "start_time": "2021-10-26T06:41:59.818Z"
   },
   {
    "duration": 10,
    "start_time": "2021-10-26T06:41:59.824Z"
   },
   {
    "duration": 11,
    "start_time": "2021-10-26T06:41:59.836Z"
   },
   {
    "duration": 6,
    "start_time": "2021-10-26T06:41:59.849Z"
   },
   {
    "duration": 37,
    "start_time": "2021-10-26T06:41:59.856Z"
   },
   {
    "duration": 4,
    "start_time": "2021-10-26T06:41:59.894Z"
   },
   {
    "duration": 6,
    "start_time": "2021-10-26T06:41:59.900Z"
   },
   {
    "duration": 5,
    "start_time": "2021-10-26T06:41:59.908Z"
   },
   {
    "duration": 5,
    "start_time": "2021-10-26T06:41:59.914Z"
   },
   {
    "duration": 6,
    "start_time": "2021-10-26T06:41:59.920Z"
   },
   {
    "duration": 6,
    "start_time": "2021-10-26T06:41:59.928Z"
   },
   {
    "duration": 58,
    "start_time": "2021-10-26T06:41:59.935Z"
   },
   {
    "duration": 261,
    "start_time": "2021-10-26T06:41:59.995Z"
   },
   {
    "duration": 10,
    "start_time": "2021-10-26T06:42:00.258Z"
   },
   {
    "duration": 25,
    "start_time": "2021-10-26T06:42:00.270Z"
   },
   {
    "duration": 18,
    "start_time": "2021-10-26T06:42:00.297Z"
   },
   {
    "duration": 236,
    "start_time": "2021-10-26T06:42:00.317Z"
   },
   {
    "duration": 5,
    "start_time": "2021-10-26T06:42:00.555Z"
   },
   {
    "duration": 219,
    "start_time": "2021-10-26T06:42:00.562Z"
   },
   {
    "duration": 608,
    "start_time": "2021-10-26T06:42:00.783Z"
   },
   {
    "duration": 5,
    "start_time": "2021-10-26T06:42:01.393Z"
   },
   {
    "duration": 12,
    "start_time": "2021-10-26T06:42:01.404Z"
   },
   {
    "duration": 17,
    "start_time": "2021-10-26T06:42:01.418Z"
   },
   {
    "duration": 7,
    "start_time": "2021-10-26T06:42:01.437Z"
   },
   {
    "duration": 8,
    "start_time": "2021-10-26T06:42:01.446Z"
   },
   {
    "duration": 14,
    "start_time": "2021-10-26T06:42:01.455Z"
   },
   {
    "duration": 221,
    "start_time": "2021-10-26T06:42:01.470Z"
   },
   {
    "duration": 210,
    "start_time": "2021-10-26T06:42:01.693Z"
   },
   {
    "duration": 213,
    "start_time": "2021-10-26T06:42:01.905Z"
   },
   {
    "duration": 669,
    "start_time": "2021-10-26T06:42:02.119Z"
   },
   {
    "duration": 6,
    "start_time": "2021-10-26T06:42:02.791Z"
   },
   {
    "duration": 10,
    "start_time": "2021-10-26T06:42:02.798Z"
   },
   {
    "duration": 10,
    "start_time": "2021-10-26T06:42:02.810Z"
   },
   {
    "duration": 306,
    "start_time": "2021-10-26T06:42:02.821Z"
   },
   {
    "duration": 676,
    "start_time": "2021-10-26T06:42:03.129Z"
   },
   {
    "duration": 14,
    "start_time": "2021-10-26T06:42:03.806Z"
   },
   {
    "duration": 5,
    "start_time": "2021-10-26T06:42:03.821Z"
   },
   {
    "duration": 6,
    "start_time": "2021-10-26T06:42:03.828Z"
   },
   {
    "duration": 319,
    "start_time": "2021-10-26T06:42:03.835Z"
   },
   {
    "duration": 4,
    "start_time": "2021-10-26T06:42:04.156Z"
   },
   {
    "duration": 6,
    "start_time": "2021-10-26T06:42:04.162Z"
   },
   {
    "duration": 21,
    "start_time": "2021-10-26T06:42:04.170Z"
   },
   {
    "duration": 3,
    "start_time": "2021-10-26T06:42:04.193Z"
   },
   {
    "duration": 32,
    "start_time": "2021-10-26T06:42:04.197Z"
   },
   {
    "duration": 5,
    "start_time": "2021-10-26T06:42:04.230Z"
   },
   {
    "duration": 7,
    "start_time": "2021-10-26T06:42:04.236Z"
   },
   {
    "duration": 291,
    "start_time": "2021-10-26T06:42:04.245Z"
   },
   {
    "duration": 4,
    "start_time": "2021-10-26T06:42:04.538Z"
   },
   {
    "duration": 11,
    "start_time": "2021-10-26T06:42:04.544Z"
   },
   {
    "duration": 6,
    "start_time": "2021-10-26T06:42:04.557Z"
   },
   {
    "duration": 268,
    "start_time": "2021-10-26T10:01:51.856Z"
   },
   {
    "duration": 3642,
    "start_time": "2021-10-26T10:02:00.137Z"
   },
   {
    "duration": 1128,
    "start_time": "2021-10-26T10:02:03.782Z"
   },
   {
    "duration": 117,
    "start_time": "2021-10-26T10:02:04.912Z"
   },
   {
    "duration": 15,
    "start_time": "2021-10-26T10:02:05.031Z"
   },
   {
    "duration": 8,
    "start_time": "2021-10-26T10:02:05.048Z"
   },
   {
    "duration": 7,
    "start_time": "2021-10-26T10:02:05.058Z"
   },
   {
    "duration": 22,
    "start_time": "2021-10-26T10:02:05.067Z"
   },
   {
    "duration": 10,
    "start_time": "2021-10-26T10:02:05.092Z"
   },
   {
    "duration": 9,
    "start_time": "2021-10-26T10:02:05.105Z"
   },
   {
    "duration": 11,
    "start_time": "2021-10-26T10:02:05.116Z"
   },
   {
    "duration": 17,
    "start_time": "2021-10-26T10:02:05.129Z"
   },
   {
    "duration": 27,
    "start_time": "2021-10-26T10:02:05.148Z"
   },
   {
    "duration": 11,
    "start_time": "2021-10-26T10:02:05.177Z"
   },
   {
    "duration": 6,
    "start_time": "2021-10-26T10:02:05.190Z"
   },
   {
    "duration": 9,
    "start_time": "2021-10-26T10:02:05.197Z"
   },
   {
    "duration": 13,
    "start_time": "2021-10-26T10:02:05.208Z"
   },
   {
    "duration": 8,
    "start_time": "2021-10-26T10:02:05.223Z"
   },
   {
    "duration": 35,
    "start_time": "2021-10-26T10:02:05.233Z"
   },
   {
    "duration": 8,
    "start_time": "2021-10-26T10:02:05.270Z"
   },
   {
    "duration": 16,
    "start_time": "2021-10-26T10:02:05.280Z"
   },
   {
    "duration": 356,
    "start_time": "2021-10-26T10:02:05.298Z"
   },
   {
    "duration": 386,
    "start_time": "2021-10-26T10:02:05.664Z"
   },
   {
    "duration": 8,
    "start_time": "2021-10-26T10:02:06.064Z"
   },
   {
    "duration": 284,
    "start_time": "2021-10-26T10:02:06.075Z"
   },
   {
    "duration": 12,
    "start_time": "2021-10-26T10:02:06.363Z"
   },
   {
    "duration": 3,
    "start_time": "2021-10-26T10:02:06.377Z"
   },
   {
    "duration": 16,
    "start_time": "2021-10-26T10:02:06.382Z"
   },
   {
    "duration": 567,
    "start_time": "2021-10-26T10:02:06.400Z"
   },
   {
    "duration": 12,
    "start_time": "2021-10-26T10:02:06.970Z"
   },
   {
    "duration": 6,
    "start_time": "2021-10-26T10:02:06.984Z"
   },
   {
    "duration": 8,
    "start_time": "2021-10-26T10:02:06.992Z"
   },
   {
    "duration": 7,
    "start_time": "2021-10-26T10:02:07.001Z"
   },
   {
    "duration": 9,
    "start_time": "2021-10-26T10:02:07.009Z"
   },
   {
    "duration": 43,
    "start_time": "2021-10-26T10:02:07.020Z"
   },
   {
    "duration": 3,
    "start_time": "2021-10-26T10:02:07.065Z"
   },
   {
    "duration": 11,
    "start_time": "2021-10-26T10:02:07.070Z"
   },
   {
    "duration": 577,
    "start_time": "2021-10-26T10:02:07.083Z"
   },
   {
    "duration": 396,
    "start_time": "2021-10-26T10:02:07.662Z"
   },
   {
    "duration": 429,
    "start_time": "2021-10-26T10:02:08.063Z"
   },
   {
    "duration": 10,
    "start_time": "2021-10-26T10:02:08.494Z"
   },
   {
    "duration": 9,
    "start_time": "2021-10-26T10:02:08.506Z"
   },
   {
    "duration": 17,
    "start_time": "2021-10-26T10:02:08.517Z"
   },
   {
    "duration": 337,
    "start_time": "2021-10-26T10:02:08.536Z"
   },
   {
    "duration": 6,
    "start_time": "2021-10-26T10:02:08.875Z"
   },
   {
    "duration": 311,
    "start_time": "2021-10-26T10:02:08.883Z"
   },
   {
    "duration": 7,
    "start_time": "2021-10-26T10:02:09.196Z"
   },
   {
    "duration": 18,
    "start_time": "2021-10-26T10:02:09.205Z"
   },
   {
    "duration": 23,
    "start_time": "2021-10-26T10:02:09.225Z"
   },
   {
    "duration": 13,
    "start_time": "2021-10-26T10:02:09.250Z"
   },
   {
    "duration": 4,
    "start_time": "2021-10-26T10:02:09.265Z"
   },
   {
    "duration": 10,
    "start_time": "2021-10-26T10:02:09.271Z"
   },
   {
    "duration": 9,
    "start_time": "2021-10-26T10:02:09.283Z"
   },
   {
    "duration": 10,
    "start_time": "2021-10-26T10:02:09.293Z"
   },
   {
    "duration": 10,
    "start_time": "2021-10-26T10:02:09.305Z"
   },
   {
    "duration": 8,
    "start_time": "2021-10-26T10:02:09.317Z"
   },
   {
    "duration": 36,
    "start_time": "2021-10-26T10:02:09.328Z"
   },
   {
    "duration": 14,
    "start_time": "2021-10-26T10:02:09.366Z"
   },
   {
    "duration": 285,
    "start_time": "2021-10-26T10:02:09.381Z"
   },
   {
    "duration": 10,
    "start_time": "2021-10-26T10:02:09.669Z"
   },
   {
    "duration": 11,
    "start_time": "2021-10-26T10:02:09.681Z"
   },
   {
    "duration": 7,
    "start_time": "2021-10-26T10:02:09.694Z"
   },
   {
    "duration": 270,
    "start_time": "2021-10-26T10:02:09.703Z"
   },
   {
    "duration": 4,
    "start_time": "2021-10-26T10:02:09.975Z"
   },
   {
    "duration": 247,
    "start_time": "2021-10-26T10:02:09.982Z"
   },
   {
    "duration": 654,
    "start_time": "2021-10-26T10:02:10.231Z"
   },
   {
    "duration": 4,
    "start_time": "2021-10-26T10:02:10.887Z"
   },
   {
    "duration": 13,
    "start_time": "2021-10-26T10:02:10.893Z"
   },
   {
    "duration": 15,
    "start_time": "2021-10-26T10:02:10.912Z"
   },
   {
    "duration": 8,
    "start_time": "2021-10-26T10:02:10.929Z"
   },
   {
    "duration": 28,
    "start_time": "2021-10-26T10:02:10.939Z"
   },
   {
    "duration": 16,
    "start_time": "2021-10-26T10:02:10.969Z"
   },
   {
    "duration": 241,
    "start_time": "2021-10-26T10:02:10.987Z"
   },
   {
    "duration": 229,
    "start_time": "2021-10-26T10:02:11.230Z"
   },
   {
    "duration": 227,
    "start_time": "2021-10-26T10:02:11.461Z"
   },
   {
    "duration": 749,
    "start_time": "2021-10-26T10:02:11.690Z"
   },
   {
    "duration": 7,
    "start_time": "2021-10-26T10:02:12.441Z"
   },
   {
    "duration": 5,
    "start_time": "2021-10-26T10:02:16.094Z"
   },
   {
    "duration": 15,
    "start_time": "2021-10-26T10:02:26.254Z"
   },
   {
    "duration": 23,
    "start_time": "2021-10-26T10:02:56.498Z"
   },
   {
    "duration": 14,
    "start_time": "2021-10-26T10:05:56.794Z"
   },
   {
    "duration": 15,
    "start_time": "2021-10-26T10:06:11.216Z"
   },
   {
    "duration": 14,
    "start_time": "2021-10-26T10:07:55.975Z"
   },
   {
    "duration": 485,
    "start_time": "2021-10-26T10:08:59.954Z"
   },
   {
    "duration": 10,
    "start_time": "2021-10-26T10:09:14.063Z"
   },
   {
    "duration": 7,
    "start_time": "2021-10-26T10:09:19.627Z"
   },
   {
    "duration": 7,
    "start_time": "2021-10-26T10:10:29.196Z"
   },
   {
    "duration": 10,
    "start_time": "2021-10-26T10:13:15.894Z"
   },
   {
    "duration": 21,
    "start_time": "2021-10-26T10:15:16.992Z"
   },
   {
    "duration": 2293,
    "start_time": "2021-10-26T12:06:59.848Z"
   },
   {
    "duration": 1194,
    "start_time": "2021-10-26T12:07:02.144Z"
   },
   {
    "duration": 153,
    "start_time": "2021-10-26T12:07:03.341Z"
   },
   {
    "duration": 18,
    "start_time": "2021-10-26T12:07:03.496Z"
   },
   {
    "duration": 14,
    "start_time": "2021-10-26T12:07:03.516Z"
   },
   {
    "duration": 12,
    "start_time": "2021-10-26T12:07:03.532Z"
   },
   {
    "duration": 28,
    "start_time": "2021-10-26T12:07:03.546Z"
   },
   {
    "duration": 15,
    "start_time": "2021-10-26T12:07:03.577Z"
   },
   {
    "duration": 27,
    "start_time": "2021-10-26T12:07:03.595Z"
   },
   {
    "duration": 14,
    "start_time": "2021-10-26T12:07:03.624Z"
   },
   {
    "duration": 16,
    "start_time": "2021-10-26T12:07:03.640Z"
   },
   {
    "duration": 26,
    "start_time": "2021-10-26T12:07:03.658Z"
   },
   {
    "duration": 6,
    "start_time": "2021-10-26T12:07:03.686Z"
   },
   {
    "duration": 13,
    "start_time": "2021-10-26T12:07:03.694Z"
   },
   {
    "duration": 11,
    "start_time": "2021-10-26T12:07:03.709Z"
   },
   {
    "duration": 15,
    "start_time": "2021-10-26T12:07:03.722Z"
   },
   {
    "duration": 18,
    "start_time": "2021-10-26T12:07:03.739Z"
   },
   {
    "duration": 11,
    "start_time": "2021-10-26T12:07:03.759Z"
   },
   {
    "duration": 15,
    "start_time": "2021-10-26T12:07:03.772Z"
   },
   {
    "duration": 18,
    "start_time": "2021-10-26T12:07:03.790Z"
   },
   {
    "duration": 355,
    "start_time": "2021-10-26T12:07:03.810Z"
   },
   {
    "duration": 332,
    "start_time": "2021-10-26T12:07:04.167Z"
   },
   {
    "duration": 7,
    "start_time": "2021-10-26T12:07:04.503Z"
   },
   {
    "duration": 277,
    "start_time": "2021-10-26T12:07:04.513Z"
   },
   {
    "duration": 10,
    "start_time": "2021-10-26T12:07:04.792Z"
   },
   {
    "duration": 5,
    "start_time": "2021-10-26T12:07:04.804Z"
   },
   {
    "duration": 15,
    "start_time": "2021-10-26T12:07:04.810Z"
   },
   {
    "duration": 551,
    "start_time": "2021-10-26T12:07:04.827Z"
   },
   {
    "duration": 14,
    "start_time": "2021-10-26T12:07:05.380Z"
   },
   {
    "duration": 6,
    "start_time": "2021-10-26T12:07:05.396Z"
   },
   {
    "duration": 7,
    "start_time": "2021-10-26T12:07:05.404Z"
   },
   {
    "duration": 5,
    "start_time": "2021-10-26T12:07:05.413Z"
   },
   {
    "duration": 9,
    "start_time": "2021-10-26T12:07:05.420Z"
   },
   {
    "duration": 11,
    "start_time": "2021-10-26T12:07:05.463Z"
   },
   {
    "duration": 5,
    "start_time": "2021-10-26T12:07:05.476Z"
   },
   {
    "duration": 12,
    "start_time": "2021-10-26T12:07:05.483Z"
   },
   {
    "duration": 611,
    "start_time": "2021-10-26T12:07:05.497Z"
   },
   {
    "duration": 372,
    "start_time": "2021-10-26T12:07:06.109Z"
   },
   {
    "duration": 457,
    "start_time": "2021-10-26T12:07:06.483Z"
   },
   {
    "duration": 8,
    "start_time": "2021-10-26T12:07:06.942Z"
   },
   {
    "duration": 16,
    "start_time": "2021-10-26T12:07:06.952Z"
   },
   {
    "duration": 17,
    "start_time": "2021-10-26T12:07:06.969Z"
   },
   {
    "duration": 348,
    "start_time": "2021-10-26T12:07:06.988Z"
   },
   {
    "duration": 6,
    "start_time": "2021-10-26T12:07:07.338Z"
   },
   {
    "duration": 327,
    "start_time": "2021-10-26T12:07:07.346Z"
   },
   {
    "duration": 5,
    "start_time": "2021-10-26T12:07:07.675Z"
   },
   {
    "duration": 11,
    "start_time": "2021-10-26T12:07:07.682Z"
   },
   {
    "duration": 15,
    "start_time": "2021-10-26T12:07:07.695Z"
   },
   {
    "duration": 6,
    "start_time": "2021-10-26T12:07:07.711Z"
   },
   {
    "duration": 10,
    "start_time": "2021-10-26T12:07:07.718Z"
   },
   {
    "duration": 34,
    "start_time": "2021-10-26T12:07:07.730Z"
   },
   {
    "duration": 6,
    "start_time": "2021-10-26T12:07:07.767Z"
   },
   {
    "duration": 6,
    "start_time": "2021-10-26T12:07:07.775Z"
   },
   {
    "duration": 8,
    "start_time": "2021-10-26T12:07:07.783Z"
   },
   {
    "duration": 8,
    "start_time": "2021-10-26T12:07:07.793Z"
   },
   {
    "duration": 12,
    "start_time": "2021-10-26T12:07:07.804Z"
   },
   {
    "duration": 49,
    "start_time": "2021-10-26T12:07:07.818Z"
   },
   {
    "duration": 266,
    "start_time": "2021-10-26T12:07:07.869Z"
   },
   {
    "duration": 9,
    "start_time": "2021-10-26T12:07:08.138Z"
   },
   {
    "duration": 17,
    "start_time": "2021-10-26T12:07:08.149Z"
   },
   {
    "duration": 7,
    "start_time": "2021-10-26T12:07:08.168Z"
   },
   {
    "duration": 238,
    "start_time": "2021-10-26T12:07:08.177Z"
   },
   {
    "duration": 6,
    "start_time": "2021-10-26T12:07:08.417Z"
   },
   {
    "duration": 242,
    "start_time": "2021-10-26T12:07:08.426Z"
   },
   {
    "duration": 633,
    "start_time": "2021-10-26T12:07:08.671Z"
   },
   {
    "duration": 4,
    "start_time": "2021-10-26T12:07:09.306Z"
   },
   {
    "duration": 12,
    "start_time": "2021-10-26T12:07:09.312Z"
   },
   {
    "duration": 9,
    "start_time": "2021-10-26T12:07:09.330Z"
   },
   {
    "duration": 26,
    "start_time": "2021-10-26T12:07:09.341Z"
   },
   {
    "duration": 9,
    "start_time": "2021-10-26T12:07:09.369Z"
   },
   {
    "duration": 7,
    "start_time": "2021-10-26T12:07:09.380Z"
   },
   {
    "duration": 230,
    "start_time": "2021-10-26T12:07:09.389Z"
   },
   {
    "duration": 216,
    "start_time": "2021-10-26T12:07:09.621Z"
   },
   {
    "duration": 219,
    "start_time": "2021-10-26T12:07:09.839Z"
   },
   {
    "duration": 642,
    "start_time": "2021-10-26T12:07:10.063Z"
   },
   {
    "duration": 7,
    "start_time": "2021-10-26T12:07:10.707Z"
   },
   {
    "duration": 26,
    "start_time": "2021-10-26T12:07:10.716Z"
   },
   {
    "duration": 20,
    "start_time": "2021-10-26T12:07:10.744Z"
   },
   {
    "duration": 17,
    "start_time": "2021-10-26T12:07:10.766Z"
   },
   {
    "duration": 35,
    "start_time": "2021-10-26T12:07:10.785Z"
   },
   {
    "duration": 16,
    "start_time": "2021-10-26T12:07:19.094Z"
   },
   {
    "duration": 352,
    "start_time": "2021-10-26T12:08:18.086Z"
   },
   {
    "duration": 19,
    "start_time": "2021-10-26T12:08:58.645Z"
   },
   {
    "duration": 9,
    "start_time": "2021-10-26T12:09:46.112Z"
   },
   {
    "duration": 9,
    "start_time": "2021-10-26T12:09:59.152Z"
   },
   {
    "duration": 258,
    "start_time": "2021-10-26T12:10:30.449Z"
   },
   {
    "duration": 224,
    "start_time": "2021-10-26T12:10:51.654Z"
   },
   {
    "duration": 268,
    "start_time": "2021-10-26T12:11:05.647Z"
   },
   {
    "duration": 251,
    "start_time": "2021-10-26T12:11:10.723Z"
   },
   {
    "duration": 239,
    "start_time": "2021-10-26T12:11:33.212Z"
   },
   {
    "duration": 242,
    "start_time": "2021-10-26T12:11:43.909Z"
   },
   {
    "duration": 197,
    "start_time": "2021-10-26T12:11:52.849Z"
   },
   {
    "duration": 208,
    "start_time": "2021-10-26T12:12:12.808Z"
   },
   {
    "duration": 841,
    "start_time": "2021-10-26T12:12:41.483Z"
   },
   {
    "duration": 207,
    "start_time": "2021-10-26T12:13:14.005Z"
   },
   {
    "duration": 199,
    "start_time": "2021-10-26T12:13:49.820Z"
   },
   {
    "duration": 996,
    "start_time": "2021-10-26T12:14:22.846Z"
   },
   {
    "duration": 8,
    "start_time": "2021-10-26T12:14:33.544Z"
   },
   {
    "duration": 983,
    "start_time": "2021-10-26T12:14:43.901Z"
   },
   {
    "duration": 2905,
    "start_time": "2021-10-26T17:47:22.130Z"
   },
   {
    "duration": 998,
    "start_time": "2021-10-26T17:47:25.037Z"
   },
   {
    "duration": 117,
    "start_time": "2021-10-26T17:47:26.037Z"
   },
   {
    "duration": 14,
    "start_time": "2021-10-26T17:47:26.156Z"
   },
   {
    "duration": 2,
    "start_time": "2021-10-26T17:47:26.172Z"
   },
   {
    "duration": 7,
    "start_time": "2021-10-26T17:47:26.176Z"
   },
   {
    "duration": 19,
    "start_time": "2021-10-26T17:47:26.184Z"
   },
   {
    "duration": 9,
    "start_time": "2021-10-26T17:47:26.205Z"
   },
   {
    "duration": 7,
    "start_time": "2021-10-26T17:47:26.217Z"
   },
   {
    "duration": 12,
    "start_time": "2021-10-26T17:47:26.226Z"
   },
   {
    "duration": 9,
    "start_time": "2021-10-26T17:47:26.239Z"
   },
   {
    "duration": 17,
    "start_time": "2021-10-26T17:47:26.249Z"
   },
   {
    "duration": 6,
    "start_time": "2021-10-26T17:47:26.267Z"
   },
   {
    "duration": 21,
    "start_time": "2021-10-26T17:47:26.274Z"
   },
   {
    "duration": 8,
    "start_time": "2021-10-26T17:47:26.297Z"
   },
   {
    "duration": 8,
    "start_time": "2021-10-26T17:47:26.306Z"
   },
   {
    "duration": 8,
    "start_time": "2021-10-26T17:47:26.315Z"
   },
   {
    "duration": 10,
    "start_time": "2021-10-26T17:47:26.324Z"
   },
   {
    "duration": 4,
    "start_time": "2021-10-26T17:47:26.336Z"
   },
   {
    "duration": 16,
    "start_time": "2021-10-26T17:47:26.342Z"
   },
   {
    "duration": 371,
    "start_time": "2021-10-26T17:47:26.360Z"
   },
   {
    "duration": 321,
    "start_time": "2021-10-26T17:47:26.733Z"
   },
   {
    "duration": 6,
    "start_time": "2021-10-26T17:47:27.055Z"
   },
   {
    "duration": 272,
    "start_time": "2021-10-26T17:47:27.062Z"
   },
   {
    "duration": 9,
    "start_time": "2021-10-26T17:47:27.336Z"
   },
   {
    "duration": 2,
    "start_time": "2021-10-26T17:47:27.347Z"
   },
   {
    "duration": 7,
    "start_time": "2021-10-26T17:47:27.353Z"
   },
   {
    "duration": 508,
    "start_time": "2021-10-26T17:47:27.362Z"
   },
   {
    "duration": 10,
    "start_time": "2021-10-26T17:47:27.872Z"
   },
   {
    "duration": 4,
    "start_time": "2021-10-26T17:47:27.891Z"
   },
   {
    "duration": 6,
    "start_time": "2021-10-26T17:47:27.897Z"
   },
   {
    "duration": 7,
    "start_time": "2021-10-26T17:47:27.905Z"
   },
   {
    "duration": 5,
    "start_time": "2021-10-26T17:47:27.913Z"
   },
   {
    "duration": 8,
    "start_time": "2021-10-26T17:47:27.920Z"
   },
   {
    "duration": 2,
    "start_time": "2021-10-26T17:47:27.930Z"
   },
   {
    "duration": 10,
    "start_time": "2021-10-26T17:47:27.933Z"
   },
   {
    "duration": 462,
    "start_time": "2021-10-26T17:47:27.944Z"
   },
   {
    "duration": 442,
    "start_time": "2021-10-26T17:47:28.408Z"
   },
   {
    "duration": 365,
    "start_time": "2021-10-26T17:47:28.851Z"
   },
   {
    "duration": 7,
    "start_time": "2021-10-26T17:47:29.217Z"
   },
   {
    "duration": 7,
    "start_time": "2021-10-26T17:47:29.226Z"
   },
   {
    "duration": 13,
    "start_time": "2021-10-26T17:47:29.234Z"
   },
   {
    "duration": 286,
    "start_time": "2021-10-26T17:47:29.249Z"
   },
   {
    "duration": 4,
    "start_time": "2021-10-26T17:47:29.537Z"
   },
   {
    "duration": 277,
    "start_time": "2021-10-26T17:47:29.543Z"
   },
   {
    "duration": 5,
    "start_time": "2021-10-26T17:47:29.821Z"
   },
   {
    "duration": 10,
    "start_time": "2021-10-26T17:47:29.827Z"
   },
   {
    "duration": 11,
    "start_time": "2021-10-26T17:47:29.838Z"
   },
   {
    "duration": 4,
    "start_time": "2021-10-26T17:47:29.850Z"
   },
   {
    "duration": 5,
    "start_time": "2021-10-26T17:47:29.856Z"
   },
   {
    "duration": 30,
    "start_time": "2021-10-26T17:47:29.862Z"
   },
   {
    "duration": 5,
    "start_time": "2021-10-26T17:47:29.893Z"
   },
   {
    "duration": 10,
    "start_time": "2021-10-26T17:47:29.899Z"
   },
   {
    "duration": 6,
    "start_time": "2021-10-26T17:47:29.910Z"
   },
   {
    "duration": 6,
    "start_time": "2021-10-26T17:47:29.918Z"
   },
   {
    "duration": 6,
    "start_time": "2021-10-26T17:47:29.925Z"
   },
   {
    "duration": 11,
    "start_time": "2021-10-26T17:47:29.932Z"
   },
   {
    "duration": 270,
    "start_time": "2021-10-26T17:47:29.944Z"
   },
   {
    "duration": 9,
    "start_time": "2021-10-26T17:47:30.216Z"
   },
   {
    "duration": 9,
    "start_time": "2021-10-26T17:47:30.226Z"
   },
   {
    "duration": 8,
    "start_time": "2021-10-26T17:47:30.237Z"
   },
   {
    "duration": 230,
    "start_time": "2021-10-26T17:47:30.247Z"
   },
   {
    "duration": 4,
    "start_time": "2021-10-26T17:47:30.479Z"
   },
   {
    "duration": 203,
    "start_time": "2021-10-26T17:47:30.491Z"
   },
   {
    "duration": 495,
    "start_time": "2021-10-26T17:47:30.696Z"
   },
   {
    "duration": 3,
    "start_time": "2021-10-26T17:47:31.193Z"
   },
   {
    "duration": 10,
    "start_time": "2021-10-26T17:47:31.197Z"
   },
   {
    "duration": 11,
    "start_time": "2021-10-26T17:47:31.208Z"
   },
   {
    "duration": 10,
    "start_time": "2021-10-26T17:47:31.220Z"
   },
   {
    "duration": 7,
    "start_time": "2021-10-26T17:47:31.231Z"
   },
   {
    "duration": 8,
    "start_time": "2021-10-26T17:47:31.239Z"
   },
   {
    "duration": 291,
    "start_time": "2021-10-26T17:47:31.249Z"
   },
   {
    "duration": 209,
    "start_time": "2021-10-26T17:47:31.542Z"
   },
   {
    "duration": 200,
    "start_time": "2021-10-26T17:47:31.752Z"
   },
   {
    "duration": 642,
    "start_time": "2021-10-26T17:47:31.953Z"
   },
   {
    "duration": 6,
    "start_time": "2021-10-26T17:47:32.597Z"
   },
   {
    "duration": 1868,
    "start_time": "2021-10-26T18:13:34.350Z"
   },
   {
    "duration": 986,
    "start_time": "2021-10-26T18:13:36.220Z"
   },
   {
    "duration": 160,
    "start_time": "2021-10-26T18:13:37.208Z"
   },
   {
    "duration": 15,
    "start_time": "2021-10-26T18:13:37.370Z"
   },
   {
    "duration": 6,
    "start_time": "2021-10-26T18:13:37.386Z"
   },
   {
    "duration": 4,
    "start_time": "2021-10-26T18:13:37.394Z"
   },
   {
    "duration": 19,
    "start_time": "2021-10-26T18:13:37.400Z"
   },
   {
    "duration": 9,
    "start_time": "2021-10-26T18:13:37.420Z"
   },
   {
    "duration": 7,
    "start_time": "2021-10-26T18:13:37.431Z"
   },
   {
    "duration": 9,
    "start_time": "2021-10-26T18:13:37.440Z"
   },
   {
    "duration": 8,
    "start_time": "2021-10-26T18:13:37.451Z"
   },
   {
    "duration": 13,
    "start_time": "2021-10-26T18:13:37.461Z"
   },
   {
    "duration": 18,
    "start_time": "2021-10-26T18:13:37.475Z"
   },
   {
    "duration": 7,
    "start_time": "2021-10-26T18:13:37.494Z"
   },
   {
    "duration": 8,
    "start_time": "2021-10-26T18:13:37.502Z"
   },
   {
    "duration": 7,
    "start_time": "2021-10-26T18:13:37.511Z"
   },
   {
    "duration": 7,
    "start_time": "2021-10-26T18:13:37.519Z"
   },
   {
    "duration": 7,
    "start_time": "2021-10-26T18:13:37.527Z"
   },
   {
    "duration": 6,
    "start_time": "2021-10-26T18:13:37.535Z"
   },
   {
    "duration": 50,
    "start_time": "2021-10-26T18:13:37.542Z"
   },
   {
    "duration": 333,
    "start_time": "2021-10-26T18:13:37.593Z"
   },
   {
    "duration": 308,
    "start_time": "2021-10-26T18:13:37.928Z"
   },
   {
    "duration": 5,
    "start_time": "2021-10-26T18:13:38.237Z"
   },
   {
    "duration": 259,
    "start_time": "2021-10-26T18:13:38.244Z"
   },
   {
    "duration": 9,
    "start_time": "2021-10-26T18:13:38.504Z"
   },
   {
    "duration": 5,
    "start_time": "2021-10-26T18:13:38.514Z"
   },
   {
    "duration": 9,
    "start_time": "2021-10-26T18:13:38.523Z"
   },
   {
    "duration": 482,
    "start_time": "2021-10-26T18:13:38.534Z"
   },
   {
    "duration": 10,
    "start_time": "2021-10-26T18:13:39.017Z"
   },
   {
    "duration": 3,
    "start_time": "2021-10-26T18:13:39.029Z"
   },
   {
    "duration": 6,
    "start_time": "2021-10-26T18:13:39.034Z"
   },
   {
    "duration": 5,
    "start_time": "2021-10-26T18:13:39.041Z"
   },
   {
    "duration": 6,
    "start_time": "2021-10-26T18:13:39.047Z"
   },
   {
    "duration": 7,
    "start_time": "2021-10-26T18:13:39.054Z"
   },
   {
    "duration": 3,
    "start_time": "2021-10-26T18:13:39.062Z"
   },
   {
    "duration": 11,
    "start_time": "2021-10-26T18:13:39.091Z"
   },
   {
    "duration": 438,
    "start_time": "2021-10-26T18:13:39.104Z"
   },
   {
    "duration": 424,
    "start_time": "2021-10-26T18:13:39.544Z"
   },
   {
    "duration": 389,
    "start_time": "2021-10-26T18:13:39.969Z"
   },
   {
    "duration": 8,
    "start_time": "2021-10-26T18:13:40.359Z"
   },
   {
    "duration": 8,
    "start_time": "2021-10-26T18:13:40.368Z"
   },
   {
    "duration": 21,
    "start_time": "2021-10-26T18:13:40.377Z"
   },
   {
    "duration": 307,
    "start_time": "2021-10-26T18:13:40.400Z"
   },
   {
    "duration": 4,
    "start_time": "2021-10-26T18:13:40.709Z"
   },
   {
    "duration": 294,
    "start_time": "2021-10-26T18:13:40.714Z"
   },
   {
    "duration": 4,
    "start_time": "2021-10-26T18:13:41.010Z"
   },
   {
    "duration": 9,
    "start_time": "2021-10-26T18:13:41.015Z"
   },
   {
    "duration": 12,
    "start_time": "2021-10-26T18:13:41.025Z"
   },
   {
    "duration": 4,
    "start_time": "2021-10-26T18:13:41.038Z"
   },
   {
    "duration": 5,
    "start_time": "2021-10-26T18:13:41.043Z"
   },
   {
    "duration": 5,
    "start_time": "2021-10-26T18:13:41.050Z"
   },
   {
    "duration": 6,
    "start_time": "2021-10-26T18:13:41.056Z"
   },
   {
    "duration": 8,
    "start_time": "2021-10-26T18:13:41.091Z"
   },
   {
    "duration": 15,
    "start_time": "2021-10-26T18:13:41.101Z"
   },
   {
    "duration": 7,
    "start_time": "2021-10-26T18:13:41.117Z"
   },
   {
    "duration": 5,
    "start_time": "2021-10-26T18:13:41.126Z"
   },
   {
    "duration": 11,
    "start_time": "2021-10-26T18:13:41.133Z"
   },
   {
    "duration": 253,
    "start_time": "2021-10-26T18:13:41.145Z"
   },
   {
    "duration": 7,
    "start_time": "2021-10-26T18:13:41.400Z"
   },
   {
    "duration": 10,
    "start_time": "2021-10-26T18:13:41.409Z"
   },
   {
    "duration": 6,
    "start_time": "2021-10-26T18:13:41.420Z"
   },
   {
    "duration": 235,
    "start_time": "2021-10-26T18:13:41.427Z"
   },
   {
    "duration": 4,
    "start_time": "2021-10-26T18:13:41.664Z"
   },
   {
    "duration": 207,
    "start_time": "2021-10-26T18:13:41.670Z"
   },
   {
    "duration": 521,
    "start_time": "2021-10-26T18:13:41.878Z"
   },
   {
    "duration": 4,
    "start_time": "2021-10-26T18:13:42.400Z"
   },
   {
    "duration": 11,
    "start_time": "2021-10-26T18:13:42.405Z"
   },
   {
    "duration": 10,
    "start_time": "2021-10-26T18:13:42.417Z"
   },
   {
    "duration": 6,
    "start_time": "2021-10-26T18:13:42.428Z"
   },
   {
    "duration": 5,
    "start_time": "2021-10-26T18:13:42.436Z"
   },
   {
    "duration": 6,
    "start_time": "2021-10-26T18:13:42.443Z"
   },
   {
    "duration": 299,
    "start_time": "2021-10-26T18:13:42.450Z"
   },
   {
    "duration": 196,
    "start_time": "2021-10-26T18:13:42.751Z"
   },
   {
    "duration": 212,
    "start_time": "2021-10-26T18:13:42.948Z"
   },
   {
    "duration": 631,
    "start_time": "2021-10-26T18:13:43.162Z"
   },
   {
    "duration": 5,
    "start_time": "2021-10-26T18:13:53.430Z"
   },
   {
    "duration": 13,
    "start_time": "2021-10-26T18:13:55.415Z"
   },
   {
    "duration": 15,
    "start_time": "2021-10-26T18:14:26.530Z"
   },
   {
    "duration": 15,
    "start_time": "2021-10-26T18:14:35.874Z"
   },
   {
    "duration": 9,
    "start_time": "2021-10-26T18:21:10.835Z"
   },
   {
    "duration": 3,
    "start_time": "2021-10-26T18:21:51.204Z"
   },
   {
    "duration": 249,
    "start_time": "2021-10-26T18:22:11.725Z"
   },
   {
    "duration": 25,
    "start_time": "2021-10-26T18:22:19.008Z"
   },
   {
    "duration": 9,
    "start_time": "2021-10-26T18:23:07.901Z"
   },
   {
    "duration": 13,
    "start_time": "2021-10-26T18:23:32.416Z"
   },
   {
    "duration": 14,
    "start_time": "2021-10-26T18:23:53.145Z"
   },
   {
    "duration": 175,
    "start_time": "2021-10-26T18:40:16.645Z"
   },
   {
    "duration": 4,
    "start_time": "2021-10-26T18:40:34.037Z"
   },
   {
    "duration": 12,
    "start_time": "2021-10-26T18:40:56.083Z"
   },
   {
    "duration": 8,
    "start_time": "2021-10-26T18:41:42.991Z"
   },
   {
    "duration": 8,
    "start_time": "2021-10-26T18:41:45.165Z"
   },
   {
    "duration": 309,
    "start_time": "2021-10-26T18:41:56.467Z"
   },
   {
    "duration": 622,
    "start_time": "2021-10-26T18:42:35.979Z"
   },
   {
    "duration": 216956,
    "start_time": "2021-10-27T04:51:03.336Z"
   },
   {
    "duration": 1610,
    "start_time": "2021-10-27T04:54:40.295Z"
   },
   {
    "duration": 147,
    "start_time": "2021-10-27T04:54:41.908Z"
   },
   {
    "duration": 24,
    "start_time": "2021-10-27T04:54:42.057Z"
   },
   {
    "duration": 6,
    "start_time": "2021-10-27T04:54:42.083Z"
   },
   {
    "duration": 6,
    "start_time": "2021-10-27T04:54:42.091Z"
   },
   {
    "duration": 25,
    "start_time": "2021-10-27T04:54:42.099Z"
   },
   {
    "duration": 43,
    "start_time": "2021-10-27T04:54:42.127Z"
   },
   {
    "duration": 11,
    "start_time": "2021-10-27T04:54:42.174Z"
   },
   {
    "duration": 14,
    "start_time": "2021-10-27T04:54:42.190Z"
   },
   {
    "duration": 13,
    "start_time": "2021-10-27T04:54:42.207Z"
   },
   {
    "duration": 62,
    "start_time": "2021-10-27T04:54:42.222Z"
   },
   {
    "duration": 9,
    "start_time": "2021-10-27T04:54:42.287Z"
   },
   {
    "duration": 9,
    "start_time": "2021-10-27T04:54:42.298Z"
   },
   {
    "duration": 10,
    "start_time": "2021-10-27T04:54:42.309Z"
   },
   {
    "duration": 50,
    "start_time": "2021-10-27T04:54:42.321Z"
   },
   {
    "duration": 12,
    "start_time": "2021-10-27T04:54:42.373Z"
   },
   {
    "duration": 9,
    "start_time": "2021-10-27T04:54:42.387Z"
   },
   {
    "duration": 11,
    "start_time": "2021-10-27T04:54:42.399Z"
   },
   {
    "duration": 55,
    "start_time": "2021-10-27T04:54:42.412Z"
   },
   {
    "duration": 581,
    "start_time": "2021-10-27T04:54:42.470Z"
   },
   {
    "duration": 542,
    "start_time": "2021-10-27T04:54:43.053Z"
   },
   {
    "duration": 9,
    "start_time": "2021-10-27T04:54:43.598Z"
   },
   {
    "duration": 464,
    "start_time": "2021-10-27T04:54:43.609Z"
   },
   {
    "duration": 14,
    "start_time": "2021-10-27T04:54:44.076Z"
   },
   {
    "duration": 3,
    "start_time": "2021-10-27T04:54:44.093Z"
   },
   {
    "duration": 14,
    "start_time": "2021-10-27T04:54:44.103Z"
   },
   {
    "duration": 855,
    "start_time": "2021-10-27T04:54:44.121Z"
   },
   {
    "duration": 15,
    "start_time": "2021-10-27T04:54:44.979Z"
   },
   {
    "duration": 6,
    "start_time": "2021-10-27T04:54:44.996Z"
   },
   {
    "duration": 38,
    "start_time": "2021-10-27T04:54:45.005Z"
   },
   {
    "duration": 12,
    "start_time": "2021-10-27T04:54:45.045Z"
   },
   {
    "duration": 6,
    "start_time": "2021-10-27T04:54:45.067Z"
   },
   {
    "duration": 16,
    "start_time": "2021-10-27T04:54:45.075Z"
   },
   {
    "duration": 13,
    "start_time": "2021-10-27T04:54:45.094Z"
   },
   {
    "duration": 23,
    "start_time": "2021-10-27T04:54:45.109Z"
   },
   {
    "duration": 814,
    "start_time": "2021-10-27T04:54:45.135Z"
   },
   {
    "duration": 633,
    "start_time": "2021-10-27T04:54:45.952Z"
   },
   {
    "duration": 645,
    "start_time": "2021-10-27T04:54:46.588Z"
   },
   {
    "duration": 11,
    "start_time": "2021-10-27T04:54:47.236Z"
   },
   {
    "duration": 9,
    "start_time": "2021-10-27T04:54:47.266Z"
   },
   {
    "duration": 20,
    "start_time": "2021-10-27T04:54:47.277Z"
   },
   {
    "duration": 388,
    "start_time": "2021-10-27T04:54:47.300Z"
   },
   {
    "duration": 8,
    "start_time": "2021-10-27T04:54:47.691Z"
   },
   {
    "duration": 396,
    "start_time": "2021-10-27T04:54:47.702Z"
   },
   {
    "duration": 8,
    "start_time": "2021-10-27T04:54:48.102Z"
   },
   {
    "duration": 13,
    "start_time": "2021-10-27T04:54:48.113Z"
   },
   {
    "duration": 51,
    "start_time": "2021-10-27T04:54:48.129Z"
   },
   {
    "duration": 10,
    "start_time": "2021-10-27T04:54:48.182Z"
   },
   {
    "duration": 8,
    "start_time": "2021-10-27T04:54:48.195Z"
   },
   {
    "duration": 8,
    "start_time": "2021-10-27T04:54:48.206Z"
   },
   {
    "duration": 55,
    "start_time": "2021-10-27T04:54:48.217Z"
   },
   {
    "duration": 8,
    "start_time": "2021-10-27T04:54:48.275Z"
   },
   {
    "duration": 8,
    "start_time": "2021-10-27T04:54:48.285Z"
   },
   {
    "duration": 7,
    "start_time": "2021-10-27T04:54:48.296Z"
   },
   {
    "duration": 8,
    "start_time": "2021-10-27T04:54:48.306Z"
   },
   {
    "duration": 66,
    "start_time": "2021-10-27T04:54:48.317Z"
   },
   {
    "duration": 436,
    "start_time": "2021-10-27T04:54:48.386Z"
   },
   {
    "duration": 13,
    "start_time": "2021-10-27T04:54:48.826Z"
   },
   {
    "duration": 33,
    "start_time": "2021-10-27T04:54:48.843Z"
   },
   {
    "duration": 7,
    "start_time": "2021-10-27T04:54:48.879Z"
   },
   {
    "duration": 407,
    "start_time": "2021-10-27T04:54:48.889Z"
   },
   {
    "duration": 7,
    "start_time": "2021-10-27T04:54:49.299Z"
   },
   {
    "duration": 369,
    "start_time": "2021-10-27T04:54:49.309Z"
   },
   {
    "duration": 900,
    "start_time": "2021-10-27T04:54:49.680Z"
   },
   {
    "duration": 6,
    "start_time": "2021-10-27T04:54:50.582Z"
   },
   {
    "duration": 11,
    "start_time": "2021-10-27T04:54:50.591Z"
   },
   {
    "duration": 14,
    "start_time": "2021-10-27T04:54:50.605Z"
   },
   {
    "duration": 7,
    "start_time": "2021-10-27T04:54:50.622Z"
   },
   {
    "duration": 7,
    "start_time": "2021-10-27T04:54:50.668Z"
   },
   {
    "duration": 10,
    "start_time": "2021-10-27T04:54:50.677Z"
   },
   {
    "duration": 356,
    "start_time": "2021-10-27T04:54:50.690Z"
   },
   {
    "duration": 356,
    "start_time": "2021-10-27T04:54:51.048Z"
   },
   {
    "duration": 362,
    "start_time": "2021-10-27T04:54:51.407Z"
   },
   {
    "duration": 1020,
    "start_time": "2021-10-27T04:54:51.772Z"
   },
   {
    "duration": 9,
    "start_time": "2021-10-27T04:54:52.794Z"
   },
   {
    "duration": 24,
    "start_time": "2021-10-27T04:54:52.807Z"
   },
   {
    "duration": 48,
    "start_time": "2021-10-27T04:54:52.833Z"
   },
   {
    "duration": 38,
    "start_time": "2021-10-27T04:54:52.884Z"
   },
   {
    "duration": 18,
    "start_time": "2021-10-27T04:54:52.925Z"
   },
   {
    "duration": 14,
    "start_time": "2021-10-27T04:54:52.953Z"
   },
   {
    "duration": 14,
    "start_time": "2021-10-27T04:54:52.970Z"
   },
   {
    "duration": 20,
    "start_time": "2021-10-27T04:54:52.987Z"
   },
   {
    "duration": 23,
    "start_time": "2021-10-27T04:54:53.010Z"
   },
   {
    "duration": 5,
    "start_time": "2021-10-27T04:54:53.068Z"
   },
   {
    "duration": 23,
    "start_time": "2021-10-27T04:54:53.076Z"
   },
   {
    "duration": 12,
    "start_time": "2021-10-27T04:54:53.102Z"
   },
   {
    "duration": 50,
    "start_time": "2021-10-27T04:54:53.117Z"
   },
   {
    "duration": 522,
    "start_time": "2021-10-27T04:54:53.170Z"
   },
   {
    "duration": 1012,
    "start_time": "2021-10-27T04:54:53.695Z"
   },
   {
    "duration": 24,
    "start_time": "2021-10-27T04:54:54.710Z"
   },
   {
    "duration": 31,
    "start_time": "2021-10-27T04:54:54.737Z"
   },
   {
    "duration": 7,
    "start_time": "2021-10-27T04:54:54.771Z"
   },
   {
    "duration": 520,
    "start_time": "2021-10-27T04:54:54.781Z"
   },
   {
    "duration": 7,
    "start_time": "2021-10-27T04:54:55.304Z"
   },
   {
    "duration": 4,
    "start_time": "2021-10-27T04:54:55.314Z"
   },
   {
    "duration": 7,
    "start_time": "2021-10-27T04:54:55.321Z"
   },
   {
    "duration": 38,
    "start_time": "2021-10-27T04:54:55.331Z"
   },
   {
    "duration": 22,
    "start_time": "2021-10-27T04:54:55.372Z"
   },
   {
    "duration": 8,
    "start_time": "2021-10-27T04:54:55.397Z"
   },
   {
    "duration": 8,
    "start_time": "2021-10-27T04:54:55.407Z"
   },
   {
    "duration": 529,
    "start_time": "2021-10-27T04:54:55.418Z"
   },
   {
    "duration": 20,
    "start_time": "2021-10-27T04:54:55.950Z"
   },
   {
    "duration": 11,
    "start_time": "2021-10-27T04:54:55.973Z"
   },
   {
    "duration": 7,
    "start_time": "2021-10-27T04:54:55.987Z"
   }
  ],
  "kernelspec": {
   "display_name": "Python 3 (ipykernel)",
   "language": "python",
   "name": "python3"
  },
  "language_info": {
   "codemirror_mode": {
    "name": "ipython",
    "version": 3
   },
   "file_extension": ".py",
   "mimetype": "text/x-python",
   "name": "python",
   "nbconvert_exporter": "python",
   "pygments_lexer": "ipython3",
   "version": "3.9.12"
  },
  "toc": {
   "base_numbering": 1,
   "nav_menu": {},
   "number_sections": true,
   "sideBar": true,
   "skip_h1_title": true,
   "title_cell": "Table of Contents",
   "title_sidebar": "Contents",
   "toc_cell": false,
   "toc_position": {},
   "toc_section_display": true,
   "toc_window_display": true
  }
 },
 "nbformat": 4,
 "nbformat_minor": 2
}
