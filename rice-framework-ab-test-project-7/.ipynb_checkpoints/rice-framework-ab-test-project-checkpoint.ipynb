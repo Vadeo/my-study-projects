{
 "cells": [
  {
   "cell_type": "markdown",
   "metadata": {},
   "source": [
    "# Выбор оптимальной гипотезы для увеличения выручки интернет магазина и проверка её с помощью A/B-теста."
   ]
  },
  {
   "cell_type": "markdown",
   "metadata": {},
   "source": [
    "## Загрузка необходимых библиотек и данных."
   ]
  },
  {
   "cell_type": "code",
   "execution_count": 1,
   "metadata": {
    "cellId": "hfsxs04y9dysjjrl8ko5"
   },
   "outputs": [],
   "source": [
    "import pandas as pd\n",
    "import datetime as dt\n",
    "import numpy as np\n",
    "import scipy.stats as st\n",
    "import matplotlib.pyplot as plt"
   ]
  },
  {
   "cell_type": "code",
   "execution_count": 2,
   "metadata": {
    "cellId": "w8phd37sged1tyaztoru6"
   },
   "outputs": [],
   "source": [
    "hypothesis = pd.read_csv('hypothesis.csv')"
   ]
  },
  {
   "cell_type": "code",
   "execution_count": 3,
   "metadata": {
    "cellId": "b32b9iaq0p5w5eocjr9wvp"
   },
   "outputs": [],
   "source": [
    "orders = pd.read_csv('orders.csv')"
   ]
  },
  {
   "cell_type": "code",
   "execution_count": 4,
   "metadata": {
    "cellId": "furbj2cqksjbf7gwymr9wq"
   },
   "outputs": [],
   "source": [
    "visitors = pd.read_csv('visitors.csv')"
   ]
  },
  {
   "cell_type": "markdown",
   "metadata": {
    "cellId": "1da80wjm6rsqf4mpseusce"
   },
   "source": [
    "## Приоретизация гипотез\n",
    "\n",
    "* Определю приоритетную гипотезу для A/B - теста с помощью фреймворков `ICE` и `RICE`."
   ]
  },
  {
   "cell_type": "code",
   "execution_count": 5,
   "metadata": {
    "cellId": "rddsyudsztlfv8hwgqvl1j"
   },
   "outputs": [],
   "source": [
    "hypothesis.columns = hypothesis.columns.str.lower()"
   ]
  },
  {
   "cell_type": "code",
   "execution_count": 6,
   "metadata": {
    "cellId": "10qr9s0jd33oef8u32anjo"
   },
   "outputs": [
    {
     "data": {
      "text/html": [
       "<div>\n",
       "<style scoped>\n",
       "    .dataframe tbody tr th:only-of-type {\n",
       "        vertical-align: middle;\n",
       "    }\n",
       "\n",
       "    .dataframe tbody tr th {\n",
       "        vertical-align: top;\n",
       "    }\n",
       "\n",
       "    .dataframe thead th {\n",
       "        text-align: right;\n",
       "    }\n",
       "</style>\n",
       "<table border=\"1\" class=\"dataframe\">\n",
       "  <thead>\n",
       "    <tr style=\"text-align: right;\">\n",
       "      <th></th>\n",
       "      <th>hypothesis</th>\n",
       "      <th>reach</th>\n",
       "      <th>impact</th>\n",
       "      <th>confidence</th>\n",
       "      <th>efforts</th>\n",
       "    </tr>\n",
       "  </thead>\n",
       "  <tbody>\n",
       "    <tr>\n",
       "      <th>0</th>\n",
       "      <td>Добавить два новых канала привлечения трафика,...</td>\n",
       "      <td>3</td>\n",
       "      <td>10</td>\n",
       "      <td>8</td>\n",
       "      <td>6</td>\n",
       "    </tr>\n",
       "    <tr>\n",
       "      <th>1</th>\n",
       "      <td>Запустить собственную службу доставки, что сок...</td>\n",
       "      <td>2</td>\n",
       "      <td>5</td>\n",
       "      <td>4</td>\n",
       "      <td>10</td>\n",
       "    </tr>\n",
       "    <tr>\n",
       "      <th>2</th>\n",
       "      <td>Добавить блоки рекомендаций товаров на сайт ин...</td>\n",
       "      <td>8</td>\n",
       "      <td>3</td>\n",
       "      <td>7</td>\n",
       "      <td>3</td>\n",
       "    </tr>\n",
       "    <tr>\n",
       "      <th>3</th>\n",
       "      <td>Изменить структура категорий, что увеличит кон...</td>\n",
       "      <td>8</td>\n",
       "      <td>3</td>\n",
       "      <td>3</td>\n",
       "      <td>8</td>\n",
       "    </tr>\n",
       "    <tr>\n",
       "      <th>4</th>\n",
       "      <td>Изменить цвет фона главной страницы, чтобы уве...</td>\n",
       "      <td>3</td>\n",
       "      <td>1</td>\n",
       "      <td>1</td>\n",
       "      <td>1</td>\n",
       "    </tr>\n",
       "    <tr>\n",
       "      <th>5</th>\n",
       "      <td>Добавить страницу отзывов клиентов о магазине,...</td>\n",
       "      <td>3</td>\n",
       "      <td>2</td>\n",
       "      <td>2</td>\n",
       "      <td>3</td>\n",
       "    </tr>\n",
       "    <tr>\n",
       "      <th>6</th>\n",
       "      <td>Показать на главной странице баннеры с актуаль...</td>\n",
       "      <td>5</td>\n",
       "      <td>3</td>\n",
       "      <td>8</td>\n",
       "      <td>3</td>\n",
       "    </tr>\n",
       "    <tr>\n",
       "      <th>7</th>\n",
       "      <td>Добавить форму подписки на все основные страни...</td>\n",
       "      <td>10</td>\n",
       "      <td>7</td>\n",
       "      <td>8</td>\n",
       "      <td>5</td>\n",
       "    </tr>\n",
       "    <tr>\n",
       "      <th>8</th>\n",
       "      <td>Запустить акцию, дающую скидку на товар в день...</td>\n",
       "      <td>1</td>\n",
       "      <td>9</td>\n",
       "      <td>9</td>\n",
       "      <td>5</td>\n",
       "    </tr>\n",
       "  </tbody>\n",
       "</table>\n",
       "</div>"
      ],
      "text/plain": [
       "                                          hypothesis  reach  impact  \\\n",
       "0  Добавить два новых канала привлечения трафика,...      3      10   \n",
       "1  Запустить собственную службу доставки, что сок...      2       5   \n",
       "2  Добавить блоки рекомендаций товаров на сайт ин...      8       3   \n",
       "3  Изменить структура категорий, что увеличит кон...      8       3   \n",
       "4  Изменить цвет фона главной страницы, чтобы уве...      3       1   \n",
       "5  Добавить страницу отзывов клиентов о магазине,...      3       2   \n",
       "6  Показать на главной странице баннеры с актуаль...      5       3   \n",
       "7  Добавить форму подписки на все основные страни...     10       7   \n",
       "8  Запустить акцию, дающую скидку на товар в день...      1       9   \n",
       "\n",
       "   confidence  efforts  \n",
       "0           8        6  \n",
       "1           4       10  \n",
       "2           7        3  \n",
       "3           3        8  \n",
       "4           1        1  \n",
       "5           2        3  \n",
       "6           8        3  \n",
       "7           8        5  \n",
       "8           9        5  "
      ]
     },
     "execution_count": 6,
     "metadata": {},
     "output_type": "execute_result"
    }
   ],
   "source": [
    "hypothesis"
   ]
  },
  {
   "cell_type": "markdown",
   "metadata": {
    "cellId": "5rn2p5b43fribooyob4k9"
   },
   "source": [
    "* Приоретизация гипотез с помощью фреймворка `ICE`\n",
    "* Рассчитаю показатель `ICE` и выведу гипотезы в порядке его убывния"
   ]
  },
  {
   "cell_type": "code",
   "execution_count": 7,
   "metadata": {
    "cellId": "pvulkopmpcmfqfsoaqppzw"
   },
   "outputs": [],
   "source": [
    "hypothesis['ICE'] = (\n",
    "    (hypothesis['impact'] * hypothesis['confidence']) \n",
    "    / hypothesis['efforts']\n",
    "    )"
   ]
  },
  {
   "cell_type": "code",
   "execution_count": 8,
   "metadata": {
    "cellId": "4p0c0cip4677kqc0q68rwx"
   },
   "outputs": [
    {
     "name": "stdout",
     "output_type": "stream",
     "text": [
      "                                                                                                     hypothesis  \\\n",
      "8  Запустить акцию, дающую скидку на товар в день рождения                                                        \n",
      "0  Добавить два новых канала привлечения трафика, что позволит привлекать на 30% больше пользователей             \n",
      "7  Добавить форму подписки на все основные страницы, чтобы собрать базу клиентов для email-рассылок               \n",
      "6  Показать на главной странице баннеры с актуальными акциями и распродажами, чтобы увеличить конверсию           \n",
      "2  Добавить блоки рекомендаций товаров на сайт интернет магазина, чтобы повысить конверсию и средний чек заказа   \n",
      "1  Запустить собственную службу доставки, что сократит срок доставки заказов                                      \n",
      "5  Добавить страницу отзывов клиентов о магазине, что позволит увеличить количество заказов                       \n",
      "3  Изменить структура категорий, что увеличит конверсию, т.к. пользователи быстрее найдут нужный товар            \n",
      "4  Изменить цвет фона главной страницы, чтобы увеличить вовлеченность пользователей                               \n",
      "\n",
      "         ICE  \n",
      "8  16.200000  \n",
      "0  13.333333  \n",
      "7  11.200000  \n",
      "6  8.000000   \n",
      "2  7.000000   \n",
      "1  2.000000   \n",
      "5  1.333333   \n",
      "3  1.125000   \n",
      "4  1.000000   \n"
     ]
    }
   ],
   "source": [
    "pd.set_option('display.max_colwidth', 1)\n",
    "print(\n",
    "    hypothesis[['hypothesis','ICE']].\n",
    "    sort_values(by='ICE', ascending=False)\n",
    ")"
   ]
  },
  {
   "cell_type": "markdown",
   "metadata": {
    "cellId": "r2sg8p4wjadqj8l6kuz5"
   },
   "source": [
    "* Рассмотрю гипотезу с наибольшим `ICE`"
   ]
  },
  {
   "cell_type": "code",
   "execution_count": 9,
   "metadata": {
    "cellId": "hsz0w8ymwesg2hjj8dy0ew"
   },
   "outputs": [
    {
     "name": "stdout",
     "output_type": "stream",
     "text": [
      "Запустить акцию, дающую скидку на товар в день рождения\n"
     ]
    }
   ],
   "source": [
    "print(hypothesis['hypothesis'][8])"
   ]
  },
  {
   "cell_type": "markdown",
   "metadata": {
    "cellId": "jo93jglp760hf8i43hli3p"
   },
   "source": [
    "* **Акция со скидкой на день рождения** в рамках применения фреймворка `ICE` - безусловный лидер:\n",
    "  * потому что `impact` и `confidence` одни из самых больших в таблице гипотез, а затраты на тестирование `efforts` данной гипотезы - средние. Поясню:\n",
    "    * положительное влияние скидки в твой др - это факт.\n",
    "    * уверенность в предыдущем высказывании основана на том, что все любят подарки, сюрпризы и меньше платить.\n",
    "    * затраты на размещение информации о скидке - минимальные. большая часть расходов - это сами скидки, а также сбор и хранение данных о выданных скидках, учёт перерасчёта цен в бухгалтерской документации (в том числе и налоговых отчётах)\n",
    "    * НО, данное изменение затронет только тех пользователей, у которых будет ДР в период тестирования. Поэтому отсутствие параметра `reach` в оценке гипотез, на мой взгляд, сродни броску мяча в кольцо, стоя спиной: вроде, знаешь, где кольцо, но чтобы начать попадать, надо проделать это движение сотни раз.\n",
    "* **Поэтому применю фреймворк `RICE`**"
   ]
  },
  {
   "cell_type": "code",
   "execution_count": 10,
   "metadata": {
    "cellId": "41uc2eveqjohmggrauyq26"
   },
   "outputs": [],
   "source": [
    "hypothesis['RICE'] = (\n",
    "    (hypothesis['reach'] * \n",
    "     hypothesis['impact'] * \n",
    "     hypothesis['confidence']) \n",
    "    / hypothesis['efforts']\n",
    ")"
   ]
  },
  {
   "cell_type": "code",
   "execution_count": 11,
   "metadata": {
    "cellId": "au4m7nm08qu9f2xhzjvd"
   },
   "outputs": [
    {
     "name": "stdout",
     "output_type": "stream",
     "text": [
      "                                                                                                     hypothesis  \\\n",
      "7  Добавить форму подписки на все основные страницы, чтобы собрать базу клиентов для email-рассылок               \n",
      "2  Добавить блоки рекомендаций товаров на сайт интернет магазина, чтобы повысить конверсию и средний чек заказа   \n",
      "0  Добавить два новых канала привлечения трафика, что позволит привлекать на 30% больше пользователей             \n",
      "6  Показать на главной странице баннеры с актуальными акциями и распродажами, чтобы увеличить конверсию           \n",
      "8  Запустить акцию, дающую скидку на товар в день рождения                                                        \n",
      "3  Изменить структура категорий, что увеличит конверсию, т.к. пользователи быстрее найдут нужный товар            \n",
      "1  Запустить собственную службу доставки, что сократит срок доставки заказов                                      \n",
      "5  Добавить страницу отзывов клиентов о магазине, что позволит увеличить количество заказов                       \n",
      "4  Изменить цвет фона главной страницы, чтобы увеличить вовлеченность пользователей                               \n",
      "\n",
      "    RICE  \n",
      "7  112.0  \n",
      "2  56.0   \n",
      "0  40.0   \n",
      "6  40.0   \n",
      "8  16.2   \n",
      "3  9.0    \n",
      "1  4.0    \n",
      "5  4.0    \n",
      "4  3.0    \n"
     ]
    }
   ],
   "source": [
    "pd.set_option('display.max_colwidth', 1)\n",
    "print(\n",
    "    hypothesis[['hypothesis','RICE']].\n",
    "    sort_values(by='RICE', ascending=False)\n",
    ")"
   ]
  },
  {
   "cell_type": "code",
   "execution_count": 12,
   "metadata": {
    "cellId": "4x2rcpj7md6w5hj30i8j1p"
   },
   "outputs": [
    {
     "name": "stdout",
     "output_type": "stream",
     "text": [
      "Добавить форму подписки на все основные страницы, чтобы собрать базу клиентов для email-рассылок\n"
     ]
    }
   ],
   "source": [
    "print(hypothesis['hypothesis'][7])"
   ]
  },
  {
   "cell_type": "markdown",
   "metadata": {
    "cellId": "lte5nixh0kknuoirwk2pib"
   },
   "source": [
    "* С добавлением параметра `reach` приоритетной стала гипотеза, которая уже входили в тройку лидеров по итогам использования фреймворка `ICE` \n",
    "* Её значение `RICE` вдвое превышает вторую по приоритету гипотезу\n",
    "* А всё потому, что данное изменение затронет большинство посетителей сайта (`reach` имеет максимальное значение):\n",
    "  * множеством практических кейсов других интеренет-магазинов уже проверено, что добавление формы подписки на основных страницах интеренет магазина вероятно приведёт дополнительные лиды из числа заинтересованных пользователей.\n",
    "    * если есть возможность использовать в форме хороший(с точки зрения пользователя) лид-магнит, то эффективность этой формы может возрости кратно.\n",
    "\n",
    "\n",
    "---\n",
    "\n",
    "\n",
    "\n",
    "* Гипотеза с индексом `[7]` лучше всего подходит для первого тестирования по соотношению степени влияния на пользователей, охвату аудитории, уверенности в эффекте от изменений и затратах на тестирование.     "
   ]
  },
  {
   "cell_type": "markdown",
   "metadata": {
    "cellId": "3dz3pfp99a3m9plccuxpli"
   },
   "source": [
    "## Анализ A/B-теста\n",
    "\n",
    "A/B - тест проведён (с формой и без). Проанализирую результаты"
   ]
  },
  {
   "cell_type": "markdown",
   "metadata": {
    "cellId": "9izogxld30sdk19z12q58"
   },
   "source": [
    "### Проверю данные на пропуски, дубликаты и соответствие типов данных."
   ]
  },
  {
   "cell_type": "code",
   "execution_count": 13,
   "metadata": {
    "cellId": "oleweleuwjwbzxlpe6em"
   },
   "outputs": [
    {
     "data": {
      "text/html": [
       "<div>\n",
       "<style scoped>\n",
       "    .dataframe tbody tr th:only-of-type {\n",
       "        vertical-align: middle;\n",
       "    }\n",
       "\n",
       "    .dataframe tbody tr th {\n",
       "        vertical-align: top;\n",
       "    }\n",
       "\n",
       "    .dataframe thead th {\n",
       "        text-align: right;\n",
       "    }\n",
       "</style>\n",
       "<table border=\"1\" class=\"dataframe\">\n",
       "  <thead>\n",
       "    <tr style=\"text-align: right;\">\n",
       "      <th></th>\n",
       "      <th>transactionId</th>\n",
       "      <th>visitorId</th>\n",
       "      <th>date</th>\n",
       "      <th>revenue</th>\n",
       "      <th>group</th>\n",
       "    </tr>\n",
       "  </thead>\n",
       "  <tbody>\n",
       "    <tr>\n",
       "      <th>0</th>\n",
       "      <td>3667963787</td>\n",
       "      <td>3312258926</td>\n",
       "      <td>2019-08-15</td>\n",
       "      <td>1650</td>\n",
       "      <td>B</td>\n",
       "    </tr>\n",
       "    <tr>\n",
       "      <th>1</th>\n",
       "      <td>2804400009</td>\n",
       "      <td>3642806036</td>\n",
       "      <td>2019-08-15</td>\n",
       "      <td>730</td>\n",
       "      <td>B</td>\n",
       "    </tr>\n",
       "    <tr>\n",
       "      <th>2</th>\n",
       "      <td>2961555356</td>\n",
       "      <td>4069496402</td>\n",
       "      <td>2019-08-15</td>\n",
       "      <td>400</td>\n",
       "      <td>A</td>\n",
       "    </tr>\n",
       "    <tr>\n",
       "      <th>3</th>\n",
       "      <td>3797467345</td>\n",
       "      <td>1196621759</td>\n",
       "      <td>2019-08-15</td>\n",
       "      <td>9759</td>\n",
       "      <td>B</td>\n",
       "    </tr>\n",
       "    <tr>\n",
       "      <th>4</th>\n",
       "      <td>2282983706</td>\n",
       "      <td>2322279887</td>\n",
       "      <td>2019-08-15</td>\n",
       "      <td>2308</td>\n",
       "      <td>B</td>\n",
       "    </tr>\n",
       "  </tbody>\n",
       "</table>\n",
       "</div>"
      ],
      "text/plain": [
       "   transactionId   visitorId        date  revenue group\n",
       "0  3667963787     3312258926  2019-08-15  1650     B   \n",
       "1  2804400009     3642806036  2019-08-15  730      B   \n",
       "2  2961555356     4069496402  2019-08-15  400      A   \n",
       "3  3797467345     1196621759  2019-08-15  9759     B   \n",
       "4  2282983706     2322279887  2019-08-15  2308     B   "
      ]
     },
     "execution_count": 13,
     "metadata": {},
     "output_type": "execute_result"
    }
   ],
   "source": [
    "orders.head()"
   ]
  },
  {
   "cell_type": "code",
   "execution_count": 14,
   "metadata": {
    "cellId": "nxd24gqu7r118gwkfhgh59"
   },
   "outputs": [
    {
     "data": {
      "text/html": [
       "<div>\n",
       "<style scoped>\n",
       "    .dataframe tbody tr th:only-of-type {\n",
       "        vertical-align: middle;\n",
       "    }\n",
       "\n",
       "    .dataframe tbody tr th {\n",
       "        vertical-align: top;\n",
       "    }\n",
       "\n",
       "    .dataframe thead th {\n",
       "        text-align: right;\n",
       "    }\n",
       "</style>\n",
       "<table border=\"1\" class=\"dataframe\">\n",
       "  <thead>\n",
       "    <tr style=\"text-align: right;\">\n",
       "      <th></th>\n",
       "      <th>date</th>\n",
       "      <th>group</th>\n",
       "      <th>visitors</th>\n",
       "    </tr>\n",
       "  </thead>\n",
       "  <tbody>\n",
       "    <tr>\n",
       "      <th>0</th>\n",
       "      <td>2019-08-01</td>\n",
       "      <td>A</td>\n",
       "      <td>719</td>\n",
       "    </tr>\n",
       "    <tr>\n",
       "      <th>1</th>\n",
       "      <td>2019-08-02</td>\n",
       "      <td>A</td>\n",
       "      <td>619</td>\n",
       "    </tr>\n",
       "    <tr>\n",
       "      <th>2</th>\n",
       "      <td>2019-08-03</td>\n",
       "      <td>A</td>\n",
       "      <td>507</td>\n",
       "    </tr>\n",
       "    <tr>\n",
       "      <th>3</th>\n",
       "      <td>2019-08-04</td>\n",
       "      <td>A</td>\n",
       "      <td>717</td>\n",
       "    </tr>\n",
       "    <tr>\n",
       "      <th>4</th>\n",
       "      <td>2019-08-05</td>\n",
       "      <td>A</td>\n",
       "      <td>756</td>\n",
       "    </tr>\n",
       "  </tbody>\n",
       "</table>\n",
       "</div>"
      ],
      "text/plain": [
       "         date group  visitors\n",
       "0  2019-08-01  A     719     \n",
       "1  2019-08-02  A     619     \n",
       "2  2019-08-03  A     507     \n",
       "3  2019-08-04  A     717     \n",
       "4  2019-08-05  A     756     "
      ]
     },
     "execution_count": 14,
     "metadata": {},
     "output_type": "execute_result"
    }
   ],
   "source": [
    "visitors.head()"
   ]
  },
  {
   "cell_type": "code",
   "execution_count": 15,
   "metadata": {
    "cellId": "jki92iytsjezy4hlx1yim"
   },
   "outputs": [],
   "source": [
    "def df_info(df):    \n",
    "    \"\"\"Функция-альтернатива info(), позволяющая узнать \n",
    "    долю пропусков в столбцах датафрейма и типы данных в этих стобцах,\n",
    "    а также - количество строк\n",
    "    \"\"\"    \n",
    "    d = pd.DataFrame(df.isna().mean()).reset_index()\n",
    "    f = pd.DataFrame(df.dtypes).reset_index()\n",
    "    df_info = d.merge(f,on='index')\n",
    "    df_info.columns = ['data', 'per_miss', 'data_type']\n",
    "    return df_info, \"Number of lines: {}\".format(len(df))"
   ]
  },
  {
   "cell_type": "code",
   "execution_count": 16,
   "metadata": {
    "cellId": "7d8s8e4n7gi03cy80qdvxz9"
   },
   "outputs": [
    {
     "data": {
      "text/plain": [
       "(            data  per_miss data_type\n",
       " 0  transactionId  0.0       int64   \n",
       " 1  visitorId      0.0       int64   \n",
       " 2  date           0.0       object  \n",
       " 3  revenue        0.0       int64   \n",
       " 4  group          0.0       object  ,\n",
       " 'Number of lines: 1197')"
      ]
     },
     "execution_count": 16,
     "metadata": {},
     "output_type": "execute_result"
    }
   ],
   "source": [
    "df_info(orders)"
   ]
  },
  {
   "cell_type": "code",
   "execution_count": 17,
   "metadata": {
    "cellId": "c42qruou9f5begba4xr8i"
   },
   "outputs": [
    {
     "data": {
      "text/plain": [
       "0.0"
      ]
     },
     "execution_count": 17,
     "metadata": {},
     "output_type": "execute_result"
    }
   ],
   "source": [
    "orders.duplicated().mean()"
   ]
  },
  {
   "cell_type": "code",
   "execution_count": 18,
   "metadata": {
    "cellId": "le49b259eo8yk5f2kzy5wn"
   },
   "outputs": [
    {
     "data": {
      "text/plain": [
       "(       data  per_miss data_type\n",
       " 0  date      0.0       object  \n",
       " 1  group     0.0       object  \n",
       " 2  visitors  0.0       int64   ,\n",
       " 'Number of lines: 62')"
      ]
     },
     "execution_count": 18,
     "metadata": {},
     "output_type": "execute_result"
    }
   ],
   "source": [
    "df_info(visitors)"
   ]
  },
  {
   "cell_type": "code",
   "execution_count": 19,
   "metadata": {
    "cellId": "b4yoch0tkzarpn7v0jn0rl"
   },
   "outputs": [
    {
     "data": {
      "text/plain": [
       "0.0"
      ]
     },
     "execution_count": 19,
     "metadata": {},
     "output_type": "execute_result"
    }
   ],
   "source": [
    "visitors.duplicated().mean()"
   ]
  },
  {
   "cell_type": "code",
   "execution_count": 20,
   "metadata": {},
   "outputs": [
    {
     "name": "stdout",
     "output_type": "stream",
     "text": [
      "89\n",
      "92\n"
     ]
    }
   ],
   "source": [
    "print(\n",
    "    orders[orders['group'] == 'A']['visitorId'].\n",
    "    isin(orders[orders['group'] == 'B']['visitorId']).sum()\n",
    ")\n",
    "print(\n",
    "    orders[orders['group'] == 'B']['visitorId'].\n",
    "    isin(orders[orders['group'] == 'A']['visitorId']).sum()\n",
    ")"
   ]
  },
  {
   "cell_type": "markdown",
   "metadata": {},
   "source": [
    "* 89 пользователей из группы `A` были замечены в `B`\n",
    "* 92 пользователя из группы `B` были замечены в `A`\n",
    "* Придётся пожертвовать ими во имя чистоты A/B-теста\n",
    "* Сперва возникла идея оставить их первые визиты, группу и покупку, а повторные (из другой группы или в рамках 2-го 3-го визитов) отбросить:\n",
    "    * но это исказит данные о количестве покупок на пользователя, среднем чеке по группе.\n",
    "* Поэтому избавлюсь от них"
   ]
  },
  {
   "cell_type": "code",
   "execution_count": 21,
   "metadata": {},
   "outputs": [],
   "source": [
    "visitors_groups = orders[['visitorId', 'group']].drop_duplicates()"
   ]
  },
  {
   "cell_type": "code",
   "execution_count": 22,
   "metadata": {},
   "outputs": [],
   "source": [
    "both_groups = visitors_groups[visitors_groups['visitorId'].duplicated() == True]"
   ]
  },
  {
   "cell_type": "code",
   "execution_count": 23,
   "metadata": {},
   "outputs": [],
   "source": [
    "orders = orders[~orders['visitorId'].isin(both_groups['visitorId'])]"
   ]
  },
  {
   "cell_type": "code",
   "execution_count": 27,
   "metadata": {},
   "outputs": [
    {
     "name": "stdout",
     "output_type": "stream",
     "text": [
      "0\n",
      "0\n"
     ]
    }
   ],
   "source": [
    "print(\n",
    "    orders[orders['group'] == 'A']['visitorId'].\n",
    "    isin(orders[orders['group'] == 'B']['visitorId']).sum()\n",
    ")\n",
    "print(\n",
    "    orders[orders['group'] == 'B']['visitorId'].\n",
    "    isin(orders[orders['group'] == 'A']['visitorId']).sum()\n",
    ")"
   ]
  },
  {
   "cell_type": "markdown",
   "metadata": {
    "cellId": "qbw97r0mr1xb0wfwivxa"
   },
   "source": [
    "* Пропусков и дублей нет. Поля с датами преобразую в тип `datetime64`"
   ]
  },
  {
   "cell_type": "code",
   "execution_count": 28,
   "metadata": {
    "cellId": "7k4p2o39kg7z7hicsfq90l"
   },
   "outputs": [],
   "source": [
    "orders['date'] = orders['date'].map(lambda x: dt.datetime.strptime(x, '%Y-%m-%d'))"
   ]
  },
  {
   "cell_type": "code",
   "execution_count": 29,
   "metadata": {
    "cellId": "qloaf9hgf7n7j7w6r3kw"
   },
   "outputs": [],
   "source": [
    "visitors['date'] = visitors['date'].map(lambda x: dt.datetime.strptime(x, '%Y-%m-%d'))"
   ]
  },
  {
   "cell_type": "markdown",
   "metadata": {
    "cellId": "9ynbb32la3sjn2mbid32sf"
   },
   "source": [
    "* Создам  массив уникальных пар значений: Дата и группа проведения теста."
   ]
  },
  {
   "cell_type": "code",
   "execution_count": 30,
   "metadata": {
    "cellId": "aywqozmeb1ikrgnmea62"
   },
   "outputs": [],
   "source": [
    "datesGroup = orders[['date', 'group']].drop_duplicates()"
   ]
  },
  {
   "cell_type": "code",
   "execution_count": 31,
   "metadata": {
    "cellId": "6qx9yjs5ac6jn8qbe94m"
   },
   "outputs": [
    {
     "data": {
      "text/html": [
       "<div>\n",
       "<style scoped>\n",
       "    .dataframe tbody tr th:only-of-type {\n",
       "        vertical-align: middle;\n",
       "    }\n",
       "\n",
       "    .dataframe tbody tr th {\n",
       "        vertical-align: top;\n",
       "    }\n",
       "\n",
       "    .dataframe thead th {\n",
       "        text-align: right;\n",
       "    }\n",
       "</style>\n",
       "<table border=\"1\" class=\"dataframe\">\n",
       "  <thead>\n",
       "    <tr style=\"text-align: right;\">\n",
       "      <th></th>\n",
       "      <th>date</th>\n",
       "      <th>group</th>\n",
       "    </tr>\n",
       "  </thead>\n",
       "  <tbody>\n",
       "    <tr>\n",
       "      <th>0</th>\n",
       "      <td>2019-08-15</td>\n",
       "      <td>B</td>\n",
       "    </tr>\n",
       "    <tr>\n",
       "      <th>7</th>\n",
       "      <td>2019-08-15</td>\n",
       "      <td>A</td>\n",
       "    </tr>\n",
       "    <tr>\n",
       "      <th>45</th>\n",
       "      <td>2019-08-16</td>\n",
       "      <td>A</td>\n",
       "    </tr>\n",
       "    <tr>\n",
       "      <th>47</th>\n",
       "      <td>2019-08-16</td>\n",
       "      <td>B</td>\n",
       "    </tr>\n",
       "    <tr>\n",
       "      <th>55</th>\n",
       "      <td>2019-08-01</td>\n",
       "      <td>A</td>\n",
       "    </tr>\n",
       "    <tr>\n",
       "      <th>...</th>\n",
       "      <td>...</td>\n",
       "      <td>...</td>\n",
       "    </tr>\n",
       "    <tr>\n",
       "      <th>1068</th>\n",
       "      <td>2019-08-12</td>\n",
       "      <td>A</td>\n",
       "    </tr>\n",
       "    <tr>\n",
       "      <th>1114</th>\n",
       "      <td>2019-08-13</td>\n",
       "      <td>B</td>\n",
       "    </tr>\n",
       "    <tr>\n",
       "      <th>1116</th>\n",
       "      <td>2019-08-13</td>\n",
       "      <td>A</td>\n",
       "    </tr>\n",
       "    <tr>\n",
       "      <th>1149</th>\n",
       "      <td>2019-08-14</td>\n",
       "      <td>B</td>\n",
       "    </tr>\n",
       "    <tr>\n",
       "      <th>1150</th>\n",
       "      <td>2019-08-14</td>\n",
       "      <td>A</td>\n",
       "    </tr>\n",
       "  </tbody>\n",
       "</table>\n",
       "<p>62 rows × 2 columns</p>\n",
       "</div>"
      ],
      "text/plain": [
       "           date group\n",
       "0    2019-08-15  B   \n",
       "7    2019-08-15  A   \n",
       "45   2019-08-16  A   \n",
       "47   2019-08-16  B   \n",
       "55   2019-08-01  A   \n",
       "...         ... ..   \n",
       "1068 2019-08-12  A   \n",
       "1114 2019-08-13  B   \n",
       "1116 2019-08-13  A   \n",
       "1149 2019-08-14  B   \n",
       "1150 2019-08-14  A   \n",
       "\n",
       "[62 rows x 2 columns]"
      ]
     },
     "execution_count": 31,
     "metadata": {},
     "output_type": "execute_result"
    }
   ],
   "source": [
    "datesGroup"
   ]
  },
  {
   "cell_type": "markdown",
   "metadata": {
    "cellId": "yze3g5fl9fpbdvnm6b2ov"
   },
   "source": [
    "* Получу кумулятивные данные по заказам для каждого дня по группам:\n",
    "  * дата\n",
    "  * группа (не зависит от даты)\n",
    "  * суммарное количество покупателей с начала теста к дате\n",
    "  * суммарное количество заказов с начала теста к дате\n",
    "  * суммарная выручка с начала теста к дате"
   ]
  },
  {
   "cell_type": "code",
   "execution_count": 32,
   "metadata": {
    "cellId": "cut0u5g819izkb3mqi51h"
   },
   "outputs": [],
   "source": [
    "ordersAggregated = (\n",
    "    datesGroup\n",
    "    .apply(lambda x: orders[np.logical_and(\n",
    "        orders['date'] <= x['date'], \n",
    "        orders['group'] == x['group']\n",
    "        )].agg(\n",
    "            {'date': 'max', \n",
    "             'group': 'max', \n",
    "             'visitorId': 'nunique', \n",
    "             'transactionId': 'nunique', \n",
    "             'revenue': 'sum'}\n",
    "             ),axis=1)\n",
    "    .sort_values(by=['date', 'group'])\n",
    "    )"
   ]
  },
  {
   "cell_type": "markdown",
   "metadata": {
    "cellId": "vg15nq6otbui38oe4qhqm"
   },
   "source": [
    "* Получу кумулятивные данные по визитам и по группам для каждого дня теста"
   ]
  },
  {
   "cell_type": "code",
   "execution_count": 33,
   "metadata": {
    "cellId": "bobtc76etohn79rk9hgkja"
   },
   "outputs": [],
   "source": [
    "visitersAggregated = (\n",
    "    datesGroup\n",
    "    .apply(lambda x: visitors[np.logical_and(\n",
    "        visitors['date'] <= x['date'], \n",
    "        visitors['group'] == x['group']\n",
    "        )].agg(\n",
    "            {'date': 'max', \n",
    "             'group': 'max', \n",
    "             'visitors': 'sum'}\n",
    "             ), axis=1)\n",
    "    .sort_values(by=['date', 'group'])\n",
    "    )"
   ]
  },
  {
   "cell_type": "markdown",
   "metadata": {
    "cellId": "9bndcqpdj3d2qoe730or07"
   },
   "source": [
    "* Получу таблицу кумулятивных данных по дням и по группам"
   ]
  },
  {
   "cell_type": "code",
   "execution_count": 34,
   "metadata": {
    "cellId": "z1vsd0bj6ldxo5iz9rku1a"
   },
   "outputs": [],
   "source": [
    "cumulativeData = ordersAggregated.merge(\n",
    "    visitersAggregated, \n",
    "    left_on=['date', 'group'], \n",
    "    right_on=['date', 'group']\n",
    "    )"
   ]
  },
  {
   "cell_type": "code",
   "execution_count": 35,
   "metadata": {
    "cellId": "g5bp1pd39dhrwzrsxmuacj"
   },
   "outputs": [],
   "source": [
    "cumulativeData.columns = ['date', 'group', 'buyers', 'orders', 'revenue', 'visitors']"
   ]
  },
  {
   "cell_type": "code",
   "execution_count": 36,
   "metadata": {
    "cellId": "8tj6k7h1u6me5jojvm3z3"
   },
   "outputs": [
    {
     "data": {
      "text/html": [
       "<div>\n",
       "<style scoped>\n",
       "    .dataframe tbody tr th:only-of-type {\n",
       "        vertical-align: middle;\n",
       "    }\n",
       "\n",
       "    .dataframe tbody tr th {\n",
       "        vertical-align: top;\n",
       "    }\n",
       "\n",
       "    .dataframe thead th {\n",
       "        text-align: right;\n",
       "    }\n",
       "</style>\n",
       "<table border=\"1\" class=\"dataframe\">\n",
       "  <thead>\n",
       "    <tr style=\"text-align: right;\">\n",
       "      <th></th>\n",
       "      <th>date</th>\n",
       "      <th>group</th>\n",
       "      <th>buyers</th>\n",
       "      <th>orders</th>\n",
       "      <th>revenue</th>\n",
       "      <th>visitors</th>\n",
       "    </tr>\n",
       "  </thead>\n",
       "  <tbody>\n",
       "    <tr>\n",
       "      <th>0</th>\n",
       "      <td>2019-08-01</td>\n",
       "      <td>A</td>\n",
       "      <td>19</td>\n",
       "      <td>23</td>\n",
       "      <td>142779</td>\n",
       "      <td>719</td>\n",
       "    </tr>\n",
       "    <tr>\n",
       "      <th>1</th>\n",
       "      <td>2019-08-01</td>\n",
       "      <td>B</td>\n",
       "      <td>17</td>\n",
       "      <td>17</td>\n",
       "      <td>59758</td>\n",
       "      <td>713</td>\n",
       "    </tr>\n",
       "    <tr>\n",
       "      <th>2</th>\n",
       "      <td>2019-08-02</td>\n",
       "      <td>A</td>\n",
       "      <td>36</td>\n",
       "      <td>42</td>\n",
       "      <td>234381</td>\n",
       "      <td>1338</td>\n",
       "    </tr>\n",
       "    <tr>\n",
       "      <th>3</th>\n",
       "      <td>2019-08-02</td>\n",
       "      <td>B</td>\n",
       "      <td>39</td>\n",
       "      <td>40</td>\n",
       "      <td>221801</td>\n",
       "      <td>1294</td>\n",
       "    </tr>\n",
       "    <tr>\n",
       "      <th>4</th>\n",
       "      <td>2019-08-03</td>\n",
       "      <td>A</td>\n",
       "      <td>60</td>\n",
       "      <td>66</td>\n",
       "      <td>346854</td>\n",
       "      <td>1845</td>\n",
       "    </tr>\n",
       "    <tr>\n",
       "      <th>...</th>\n",
       "      <td>...</td>\n",
       "      <td>...</td>\n",
       "      <td>...</td>\n",
       "      <td>...</td>\n",
       "      <td>...</td>\n",
       "      <td>...</td>\n",
       "    </tr>\n",
       "    <tr>\n",
       "      <th>57</th>\n",
       "      <td>2019-08-29</td>\n",
       "      <td>B</td>\n",
       "      <td>490</td>\n",
       "      <td>510</td>\n",
       "      <td>4746610</td>\n",
       "      <td>17708</td>\n",
       "    </tr>\n",
       "    <tr>\n",
       "      <th>58</th>\n",
       "      <td>2019-08-30</td>\n",
       "      <td>A</td>\n",
       "      <td>437</td>\n",
       "      <td>460</td>\n",
       "      <td>3311413</td>\n",
       "      <td>18037</td>\n",
       "    </tr>\n",
       "    <tr>\n",
       "      <th>59</th>\n",
       "      <td>2019-08-30</td>\n",
       "      <td>B</td>\n",
       "      <td>511</td>\n",
       "      <td>531</td>\n",
       "      <td>4955833</td>\n",
       "      <td>18198</td>\n",
       "    </tr>\n",
       "    <tr>\n",
       "      <th>60</th>\n",
       "      <td>2019-08-31</td>\n",
       "      <td>A</td>\n",
       "      <td>445</td>\n",
       "      <td>468</td>\n",
       "      <td>3364656</td>\n",
       "      <td>18736</td>\n",
       "    </tr>\n",
       "    <tr>\n",
       "      <th>61</th>\n",
       "      <td>2019-08-31</td>\n",
       "      <td>B</td>\n",
       "      <td>528</td>\n",
       "      <td>548</td>\n",
       "      <td>5068972</td>\n",
       "      <td>18916</td>\n",
       "    </tr>\n",
       "  </tbody>\n",
       "</table>\n",
       "<p>62 rows × 6 columns</p>\n",
       "</div>"
      ],
      "text/plain": [
       "         date group  buyers  orders  revenue  visitors\n",
       "0  2019-08-01  A     19      23      142779   719     \n",
       "1  2019-08-01  B     17      17      59758    713     \n",
       "2  2019-08-02  A     36      42      234381   1338    \n",
       "3  2019-08-02  B     39      40      221801   1294    \n",
       "4  2019-08-03  A     60      66      346854   1845    \n",
       "..        ... ..     ..      ..         ...    ...    \n",
       "57 2019-08-29  B     490     510     4746610  17708   \n",
       "58 2019-08-30  A     437     460     3311413  18037   \n",
       "59 2019-08-30  B     511     531     4955833  18198   \n",
       "60 2019-08-31  A     445     468     3364656  18736   \n",
       "61 2019-08-31  B     528     548     5068972  18916   \n",
       "\n",
       "[62 rows x 6 columns]"
      ]
     },
     "execution_count": 36,
     "metadata": {},
     "output_type": "execute_result"
    }
   ],
   "source": [
    "cumulativeData"
   ]
  },
  {
   "cell_type": "markdown",
   "metadata": {
    "cellId": "dwhm5lhx9p55nwe0i60qea"
   },
   "source": [
    "* Построю графики кумулятивной выручки по дням и группам теста:\n",
    "  * создам по группам переменные с кумулятивной выручкой и заказами, которые понадобятся для расчёта среднего чека"
   ]
  },
  {
   "cell_type": "code",
   "execution_count": 37,
   "metadata": {
    "cellId": "ndmqhqwrgjrbfptn1ylyzi"
   },
   "outputs": [],
   "source": [
    "cumulativeRevenueA = (\n",
    "    cumulativeData[cumulativeData['group'] == 'A']\n",
    "    [['date', 'revenue', 'orders']]\n",
    ")"
   ]
  },
  {
   "cell_type": "code",
   "execution_count": 38,
   "metadata": {
    "cellId": "0f4jvoj5g1ogir8wrhzt05b"
   },
   "outputs": [],
   "source": [
    "cumulativeRevenueB = (\n",
    "    cumulativeData[cumulativeData['group'] == 'B']\n",
    "    [['date', 'revenue', 'orders']]\n",
    ")"
   ]
  },
  {
   "cell_type": "code",
   "execution_count": 39,
   "metadata": {
    "cellId": "rvazjg3tsaa2kbro0uws4s"
   },
   "outputs": [
    {
     "data": {
      "image/png": "[encoded data removed]",
      "text/plain": [
       "<Figure size 864x576 with 1 Axes>"
      ]
     },
     "metadata": {
      "needs_background": "light"
     },
     "output_type": "display_data"
    }
   ],
   "source": [
    "plt.figure(figsize=(12, 8))\n",
    "plt.plot(\n",
    "    cumulativeRevenueA['date'], \n",
    "    cumulativeRevenueA['revenue'], \n",
    "    label='A'\n",
    ")\n",
    "plt.plot(\n",
    "    cumulativeRevenueB['date'], \n",
    "    cumulativeRevenueB['revenue'], \n",
    "    label='B'\n",
    ")\n",
    "plt.title('Графики кумулятивной выручки по дням и группам теста')\n",
    "plt.ylabel('Кумулятивная выручка, млн. ₽')\n",
    "plt.xlabel('День месяца')\n",
    "plt.legend()\n",
    "plt.ylim(0)\n",
    "plt.grid()\n",
    "plt.show()"
   ]
  },
  {
   "cell_type": "markdown",
   "metadata": {
    "cellId": "jlkynwdpojst6mm3b64rj"
   },
   "source": [
    "* Выручка в группах до 19 августа росла практически равномерно и практически одинаково\n",
    "* 19-го в группе `B` произошёл скачок на сумму свыше миллона, после чего группа продолжила расти теми же темпами, что и ранее.\n",
    "\n",
    "\n",
    "---\n",
    "\n",
    "* Такой резкий рост выручки свидетельствует о всплесках числа заказов, либо о появлении в группе очень дорогих заказов в этот день.\n",
    "### Построю графики кумулятивного среднего чека по группам \n",
    "* Чтобы посмотреть на аномальный рост выручки в группе `B` с позиции среднего чека в эти дни."
   ]
  },
  {
   "cell_type": "code",
   "execution_count": 40,
   "metadata": {
    "cellId": "iykljfw3b2gz4wq7iae6l"
   },
   "outputs": [
    {
     "data": {
      "image/png": "[encoded data removed]",
      "text/plain": [
       "<Figure size 864x576 with 1 Axes>"
      ]
     },
     "metadata": {
      "needs_background": "light"
     },
     "output_type": "display_data"
    }
   ],
   "source": [
    "plt.figure(figsize=(12, 8))\n",
    "plt.plot(\n",
    "    cumulativeRevenueA['date'], \n",
    "    cumulativeRevenueA['revenue'] / cumulativeRevenueA['orders'], \n",
    "    label='A'\n",
    "    )\n",
    "plt.plot(\n",
    "    cumulativeRevenueB['date'], \n",
    "    cumulativeRevenueB['revenue'] / cumulativeRevenueB['orders'], \n",
    "    label='B'\n",
    "    )\n",
    "plt.title('Графики кумулятивного среднего чека по дням и группам')\n",
    "plt.ylabel('Средний чек, ₽')\n",
    "plt.xlabel('День месяца')\n",
    "plt.legend()\n",
    "plt.ylim(0)\n",
    "plt.grid()\n",
    "plt.show()"
   ]
  },
  {
   "cell_type": "markdown",
   "metadata": {
    "cellId": "rdqml20cgloj6bvbiho59"
   },
   "source": [
    "* Средний чек колеблется особенно в начале теста. В группе `A` он начинает стабилизироваться после 13 августа.\n",
    "* В группе `B` он начинает плавно снижаться после 19-го августа, когда он подскочил, видимо, с тем самым аномально большим заказом  \n",
    "* Также важно отметить, что после скачка среднего чека `B` не наблюдалось его такого же резкого снижения. Оно происходит крайне плавно\n",
    "* Вероятно, всплеск объёма выручки не ограничился одной огромной закупкой в группе `B`, а в неё попали пользователи, которые регулярно начали делать крупные заказы во второй половине периода теста.\n",
    "* Группе `B` нужно больше времени и данных, чтобы прийти к реальному среднему чеку. \n",
    "\n",
    "\n",
    "---\n",
    "\n",
    "### Построю график относительного изменения кумулятивного среднего чека группы `B` к группе `A`\n",
    "* Объединю кумулятивные датафреймы с выручкой и заказами по группам "
   ]
  },
  {
   "cell_type": "code",
   "execution_count": 41,
   "metadata": {
    "cellId": "jz2sdjnoabksl4zf9lklr"
   },
   "outputs": [],
   "source": [
    "mergedCumulativeRevenue = cumulativeRevenueA.merge(\n",
    "    cumulativeRevenueB, \n",
    "    how='left', \n",
    "    on='date', \n",
    "    suffixes=['A', 'B']\n",
    "    )"
   ]
  },
  {
   "cell_type": "code",
   "execution_count": 42,
   "metadata": {
    "cellId": "lgz7t5k8kzfru968i23ag"
   },
   "outputs": [
    {
     "data": {
      "image/png": "[encoded data removed]",
      "text/plain": [
       "<Figure size 864x576 with 1 Axes>"
      ]
     },
     "metadata": {
      "needs_background": "light"
     },
     "output_type": "display_data"
    }
   ],
   "source": [
    "plt.figure(figsize=(12, 8))\n",
    "plt.plot(\n",
    "    mergedCumulativeRevenue['date'], \n",
    "    (mergedCumulativeRevenue['revenueB'] / mergedCumulativeRevenue['ordersB']) \n",
    "    / (mergedCumulativeRevenue['revenueA'] / mergedCumulativeRevenue['ordersA']) - 1\n",
    "    )\n",
    "plt.axhline(y=0, color='black', linestyle='--')\n",
    "plt.title('График относительного изменения кумулятивного среднего чека группы B к A')\n",
    "plt.xlabel('День месяца')\n",
    "plt.grid()\n",
    "plt.show()"
   ]
  },
  {
   "cell_type": "markdown",
   "metadata": {
    "cellId": "9k0xki0diqevl1um8ym9"
   },
   "source": [
    "* На графике относительного изменения среднего чека ещё более выражены колебания среднего чека между группами\n",
    "* Помимо 19 августа сильные относительные перепады наблюдались с 8-го по 13-е августа\n",
    "* В этот период на графике кумулятивного среднего чека как раз показатель группы `A` ненадолго опережает группу `B`\n",
    "* Это в очередной раз говорит мне о наличии выбросов в обеих группах. Найду их далее (по количеству и стоимсти заказов на пользователя в группах)\n",
    "\n",
    "\n",
    "---\n",
    "\n",
    "### Построю график кумулятивной конверсии по группам\n",
    "* Добавлю поле `conversion` в датафрей `сumulativeData`, разделив число заказов на число посетителей (кумулятивные)"
   ]
  },
  {
   "cell_type": "code",
   "execution_count": 43,
   "metadata": {
    "cellId": "b4z4wtllcrapvd4yzs7zwm"
   },
   "outputs": [],
   "source": [
    "cumulativeData['conversion'] = cumulativeData['orders'] / cumulativeData['visitors']"
   ]
  },
  {
   "cell_type": "markdown",
   "metadata": {
    "cellId": "ewi56kbnratyb3knum1xj"
   },
   "source": [
    "* Разделю кумулятивные данные по группам"
   ]
  },
  {
   "cell_type": "code",
   "execution_count": 44,
   "metadata": {
    "cellId": "r5o9q5d6rjkzsiel6pk3l"
   },
   "outputs": [],
   "source": [
    "cumulativeDataA = cumulativeData[cumulativeData['group'] == 'A']"
   ]
  },
  {
   "cell_type": "code",
   "execution_count": 45,
   "metadata": {
    "cellId": "1nxei9b5481ni6b20wwzvb"
   },
   "outputs": [],
   "source": [
    "cumulativeDataB = cumulativeData[cumulativeData['group'] == 'B']"
   ]
  },
  {
   "cell_type": "code",
   "execution_count": 46,
   "metadata": {
    "cellId": "v1k8m7z7kkhw3ccc8ic7ss"
   },
   "outputs": [
    {
     "data": {
      "image/png": "[encoded data removed]",
      "text/plain": [
       "<Figure size 864x576 with 1 Axes>"
      ]
     },
     "metadata": {
      "needs_background": "light"
     },
     "output_type": "display_data"
    }
   ],
   "source": [
    "plt.figure(figsize=(12, 8))\n",
    "plt.plot(\n",
    "    cumulativeDataA['date'], \n",
    "    cumulativeDataA['conversion'], \n",
    "    label='A'\n",
    ")\n",
    "plt.plot(\n",
    "    cumulativeDataB['date'], \n",
    "    cumulativeDataB['conversion'], \n",
    "    label='B'\n",
    ")\n",
    "plt.title('Графики кумулятивной конверсии по группам')\n",
    "plt.ylabel('Конверсия')\n",
    "plt.xlabel('День месяца')\n",
    "plt.legend()\n",
    "#plt.ylim(0)\n",
    "plt.grid()\n",
    "plt.show()"
   ]
  },
  {
   "cell_type": "markdown",
   "metadata": {
    "cellId": "rhj9bdpek1n9hgi9u3g12d"
   },
   "source": [
    "* После колебаний конверсии в первую неделю теста, с увеличением клоичества накопленных данных конверсия группы `B` в дальнейшем показывает относительно стабильный (если включить `plt.ylim(0)`) результат, который заметно выше, чем в группе `A`.\n",
    "* Вероятно, кумулятивная выручка группы `B` выросла быстрее не только из-за крупных заказов (всплесков), но и за счёт большей конверсии.\n",
    "\n",
    "\n",
    "---\n",
    "\n",
    "### Построю график относительного изменения кумулятовной конверсии группы `B` относительно группы `A`\n",
    "* Для этого объединю кумулятивные данные групп по конверсии в один датафрейм `mergedCumulativeConversions`"
   ]
  },
  {
   "cell_type": "code",
   "execution_count": 47,
   "metadata": {
    "cellId": "t991qmbxd7ohcg3q5hr3ar"
   },
   "outputs": [],
   "source": [
    "mergedCumulativeConversions = cumulativeDataA[['date', 'conversion']].merge(\n",
    "    cumulativeDataB[['date', 'conversion']], \n",
    "    how='left', \n",
    "    on='date', \n",
    "    suffixes=['A', 'B']\n",
    "    )"
   ]
  },
  {
   "cell_type": "code",
   "execution_count": 48,
   "metadata": {
    "cellId": "432ate7ugoutldccvuwsg"
   },
   "outputs": [
    {
     "data": {
      "text/html": [
       "<div>\n",
       "<style scoped>\n",
       "    .dataframe tbody tr th:only-of-type {\n",
       "        vertical-align: middle;\n",
       "    }\n",
       "\n",
       "    .dataframe tbody tr th {\n",
       "        vertical-align: top;\n",
       "    }\n",
       "\n",
       "    .dataframe thead th {\n",
       "        text-align: right;\n",
       "    }\n",
       "</style>\n",
       "<table border=\"1\" class=\"dataframe\">\n",
       "  <thead>\n",
       "    <tr style=\"text-align: right;\">\n",
       "      <th></th>\n",
       "      <th>date</th>\n",
       "      <th>conversionA</th>\n",
       "      <th>conversionB</th>\n",
       "    </tr>\n",
       "  </thead>\n",
       "  <tbody>\n",
       "    <tr>\n",
       "      <th>0</th>\n",
       "      <td>2019-08-01</td>\n",
       "      <td>0.031989</td>\n",
       "      <td>0.023843</td>\n",
       "    </tr>\n",
       "    <tr>\n",
       "      <th>1</th>\n",
       "      <td>2019-08-02</td>\n",
       "      <td>0.031390</td>\n",
       "      <td>0.030912</td>\n",
       "    </tr>\n",
       "    <tr>\n",
       "      <th>2</th>\n",
       "      <td>2019-08-03</td>\n",
       "      <td>0.035772</td>\n",
       "      <td>0.029950</td>\n",
       "    </tr>\n",
       "    <tr>\n",
       "      <th>3</th>\n",
       "      <td>2019-08-04</td>\n",
       "      <td>0.030055</td>\n",
       "      <td>0.026428</td>\n",
       "    </tr>\n",
       "    <tr>\n",
       "      <th>4</th>\n",
       "      <td>2019-08-05</td>\n",
       "      <td>0.029837</td>\n",
       "      <td>0.027134</td>\n",
       "    </tr>\n",
       "  </tbody>\n",
       "</table>\n",
       "</div>"
      ],
      "text/plain": [
       "        date  conversionA  conversionB\n",
       "0 2019-08-01  0.031989     0.023843   \n",
       "1 2019-08-02  0.031390     0.030912   \n",
       "2 2019-08-03  0.035772     0.029950   \n",
       "3 2019-08-04  0.030055     0.026428   \n",
       "4 2019-08-05  0.029837     0.027134   "
      ]
     },
     "execution_count": 48,
     "metadata": {},
     "output_type": "execute_result"
    }
   ],
   "source": [
    "mergedCumulativeConversions.head()"
   ]
  },
  {
   "cell_type": "code",
   "execution_count": 49,
   "metadata": {
    "cellId": "fquxhdfuvpsb9jpbc5tw9f"
   },
   "outputs": [
    {
     "data": {
      "image/png": "[encoded data removed]",
      "text/plain": [
       "<Figure size 864x576 with 1 Axes>"
      ]
     },
     "metadata": {
      "needs_background": "light"
     },
     "output_type": "display_data"
    }
   ],
   "source": [
    "plt.figure(figsize=(12, 8))\n",
    "plt.plot(\n",
    "    mergedCumulativeConversions['date'], \n",
    "    mergedCumulativeConversions['conversionB'] \n",
    "    / mergedCumulativeConversions['conversionA'] - 1\n",
    "    )\n",
    "plt.axhline(y=0, color='black', linestyle='--')\n",
    "plt.axhline(y=0.12, color='grey', linestyle='--')\n",
    "plt.title('График относительного изменения кумулятивной конверсии группы B к A')\n",
    "plt.xlabel('День месяца')\n",
    "plt.show()"
   ]
  },
  {
   "cell_type": "markdown",
   "metadata": {
    "cellId": "ryk7recfbfjy7bvyr1jrla"
   },
   "source": [
    "* В первые три дня теста конверсия группы `B` немного уступала конверсии группы `A`\n",
    "* Но уже с четвёртого дня конверсия группы `B` превысила `A` и со второй недели разрыв в 12% не сокращался до конца теста\n",
    "* Вероятно, форма подписки, добавленная на основных страницах интернет магазина, начала приносить плоды: возвращать пользователей за новыми покупками.\n",
    "  * содержание рассылки тут играет немаловажную роль, поэтому позже похвалим интернет маркетологов, если результаты теста не окажутся случайными.\n",
    "\n",
    "\n",
    "---\n",
    "\n",
    "### Построю точечный график количества заказов по пользователям. \n",
    "* Чтобы увидеть редкие выбивающиеся значения для обеих групп\n",
    "* Для этого посчитаю количество заказов на каждого пользователя"
   ]
  },
  {
   "cell_type": "code",
   "execution_count": 50,
   "metadata": {
    "cellId": "wm0lx946sr9tho3xi0pk7"
   },
   "outputs": [
    {
     "data": {
      "text/html": [
       "<div>\n",
       "<style scoped>\n",
       "    .dataframe tbody tr th:only-of-type {\n",
       "        vertical-align: middle;\n",
       "    }\n",
       "\n",
       "    .dataframe tbody tr th {\n",
       "        vertical-align: top;\n",
       "    }\n",
       "\n",
       "    .dataframe thead th {\n",
       "        text-align: right;\n",
       "    }\n",
       "</style>\n",
       "<table border=\"1\" class=\"dataframe\">\n",
       "  <thead>\n",
       "    <tr style=\"text-align: right;\">\n",
       "      <th></th>\n",
       "      <th>transactionId</th>\n",
       "      <th>visitorId</th>\n",
       "      <th>date</th>\n",
       "      <th>revenue</th>\n",
       "      <th>group</th>\n",
       "    </tr>\n",
       "  </thead>\n",
       "  <tbody>\n",
       "    <tr>\n",
       "      <th>0</th>\n",
       "      <td>3667963787</td>\n",
       "      <td>3312258926</td>\n",
       "      <td>2019-08-15</td>\n",
       "      <td>1650</td>\n",
       "      <td>B</td>\n",
       "    </tr>\n",
       "    <tr>\n",
       "      <th>1</th>\n",
       "      <td>2804400009</td>\n",
       "      <td>3642806036</td>\n",
       "      <td>2019-08-15</td>\n",
       "      <td>730</td>\n",
       "      <td>B</td>\n",
       "    </tr>\n",
       "  </tbody>\n",
       "</table>\n",
       "</div>"
      ],
      "text/plain": [
       "   transactionId   visitorId       date  revenue group\n",
       "0  3667963787     3312258926 2019-08-15  1650     B   \n",
       "1  2804400009     3642806036 2019-08-15  730      B   "
      ]
     },
     "execution_count": 50,
     "metadata": {},
     "output_type": "execute_result"
    }
   ],
   "source": [
    "orders.head(2)"
   ]
  },
  {
   "cell_type": "code",
   "execution_count": 51,
   "metadata": {
    "cellId": "b8hoiwi911mdoz6taafye"
   },
   "outputs": [],
   "source": [
    "ordersByVisitors = (\n",
    "    orders.groupby(['visitorId', 'group'], as_index=False)\n",
    "    .agg({'transactionId': pd.Series.nunique})\n",
    "    )"
   ]
  },
  {
   "cell_type": "code",
   "execution_count": 52,
   "metadata": {
    "cellId": "affj6ty2cwt2xyk50ii3de"
   },
   "outputs": [],
   "source": [
    "ordersByVisitors.columns = ['visitorId', 'group', 'orders']"
   ]
  },
  {
   "cell_type": "markdown",
   "metadata": {
    "cellId": "zrni0s7nx8itzkku1v9fp"
   },
   "source": [
    "* Посмотрю количество пользователей совершивших разное число покупок в порядке их убывания."
   ]
  },
  {
   "cell_type": "code",
   "execution_count": 53,
   "metadata": {
    "cellId": "z9zkzm0fdogy8ss1fz35r"
   },
   "outputs": [
    {
     "data": {
      "text/plain": [
       "3    7  \n",
       "2    29 \n",
       "1    937\n",
       "Name: orders, dtype: int64"
      ]
     },
     "execution_count": 53,
     "metadata": {},
     "output_type": "execute_result"
    }
   ],
   "source": [
    "ordersByVisitors['orders'].value_counts().sort_index(ascending=False)"
   ]
  },
  {
   "cell_type": "markdown",
   "metadata": {
    "cellId": "mg7hjbhbfspth73lq42r3"
   },
   "source": [
    "* Есть несколько шопоголиков, которые успели сделать по 3 покупки за период теста\n",
    "* Существенное количество посетителей совершили по 2 покупки\n",
    "* Но большинство всё-таки сделали по одной.\n",
    "\n",
    "\n",
    "---\n",
    "\n",
    "* Построю точечный график для наглядности"
   ]
  },
  {
   "cell_type": "code",
   "execution_count": 54,
   "metadata": {
    "cellId": "hyrs77mpclri5lpuhs0sk"
   },
   "outputs": [],
   "source": [
    "x_values = pd.Series(range(0, len(ordersByVisitors)))"
   ]
  },
  {
   "cell_type": "code",
   "execution_count": 55,
   "metadata": {
    "cellId": "9lr8pqm8mbhtbqqvm2tmy"
   },
   "outputs": [
    {
     "data": {
      "image/png": "[encoded data removed]",
      "text/plain": [
       "<Figure size 432x288 with 1 Axes>"
      ]
     },
     "metadata": {
      "needs_background": "light"
     },
     "output_type": "display_data"
    }
   ],
   "source": [
    "plt.scatter(x_values, ordersByVisitors['orders'], alpha=0.5)\n",
    "plt.title('Количество покупок на пользователя')\n",
    "plt.show()"
   ]
  },
  {
   "cell_type": "markdown",
   "metadata": {
    "cellId": "rj3itxw9b8vwpw5bpkq69"
   },
   "source": [
    "* Очевидно, что подавляющее большинство пользователей совершили по одной покупке\n",
    "* Но как было замечено ранее, немало пользователей совершили по 2 покупки\n",
    "* Ещё не понятно, с какого числа покупок считать данные аномальными\n",
    "\n",
    "\n",
    "---\n",
    "\n",
    "\n",
    "\n",
    "* Поэтому посчитаю выборочные перцентили (95-й, 99-й) числа заказов на пользователя."
   ]
  },
  {
   "cell_type": "code",
   "execution_count": 56,
   "metadata": {
    "cellId": "0wtz7i145k48v5swaitfo3"
   },
   "outputs": [
    {
     "name": "stdout",
     "output_type": "stream",
     "text": [
      "[1. 2.]\n"
     ]
    }
   ],
   "source": [
    "print(np.percentile(ordersByVisitors['orders'], [95, 99]))"
   ]
  },
  {
   "cell_type": "markdown",
   "metadata": {
    "cellId": "cmk8auwlnjt8mup45xuiie"
   },
   "source": [
    "* Не более 1% пользователей сделали 2 и более заказов\n",
    "\n",
    "\n",
    "---\n",
    "\n",
    "* **Выберу границей числа заказов 1.**\n",
    "  * Шопоголики простите, вы - аномалия))\n",
    "\n",
    "\n",
    "---\n",
    "\n",
    "### Построю точечный график стоимостей заказов."
   ]
  },
  {
   "cell_type": "code",
   "execution_count": 57,
   "metadata": {
    "cellId": "wig129gyt5lcqdgoi0rs47"
   },
   "outputs": [],
   "source": [
    "x_val = pd.Series(range(0, len(orders['revenue'])))"
   ]
  },
  {
   "cell_type": "code",
   "execution_count": 58,
   "metadata": {
    "cellId": "lmlpwhcq5xgb7schnaggk5"
   },
   "outputs": [
    {
     "data": {
      "image/png": "[encoded data removed]",
      "text/plain": [
       "<Figure size 432x288 with 1 Axes>"
      ]
     },
     "metadata": {
      "needs_background": "light"
     },
     "output_type": "display_data"
    }
   ],
   "source": [
    "plt.scatter(x_val, orders['revenue'], alpha=0.3)\n",
    "plt.title('График значений стоимости заказов')\n",
    "plt.show()"
   ]
  },
  {
   "cell_type": "code",
   "execution_count": 59,
   "metadata": {
    "cellId": "gdwq9rfijylm0niu0ofncf"
   },
   "outputs": [
    {
     "data": {
      "text/plain": [
       "425     1294500\n",
       "1196    202740 \n",
       "1136    92550  \n",
       "744     86620  \n",
       "743     67990  \n",
       "Name: revenue, dtype: int64"
      ]
     },
     "execution_count": 59,
     "metadata": {},
     "output_type": "execute_result"
    }
   ],
   "source": [
    "orders['revenue'].sort_values(ascending=False).head()"
   ]
  },
  {
   "cell_type": "markdown",
   "metadata": {
    "cellId": "lbqy25gx1mfgi23hecrkww"
   },
   "source": [
    "* На графике присутствуют два явных выброса: около 200 тысяч и 1,3 млн (наверняка, он был сделан 19-го августа в группе `B`: проверю)\n",
    "* Но также есть некоторое количество зказов стоимостью немного менее 100 тысяч\n",
    "\n",
    "\n",
    "---\n",
    "\n",
    "* Посчитаю 95-й и 99-й перцентиль для стоимостей заказов, что определиться с тем, кто тратит слишком много и большой молодец, но для моего теста не подходит"
   ]
  },
  {
   "cell_type": "code",
   "execution_count": 60,
   "metadata": {
    "cellId": "mwpdyivsvxsbs3263iw60g"
   },
   "outputs": [
    {
     "data": {
      "text/html": [
       "<div>\n",
       "<style scoped>\n",
       "    .dataframe tbody tr th:only-of-type {\n",
       "        vertical-align: middle;\n",
       "    }\n",
       "\n",
       "    .dataframe tbody tr th {\n",
       "        vertical-align: top;\n",
       "    }\n",
       "\n",
       "    .dataframe thead th {\n",
       "        text-align: right;\n",
       "    }\n",
       "</style>\n",
       "<table border=\"1\" class=\"dataframe\">\n",
       "  <thead>\n",
       "    <tr style=\"text-align: right;\">\n",
       "      <th></th>\n",
       "      <th>transactionId</th>\n",
       "      <th>visitorId</th>\n",
       "      <th>date</th>\n",
       "      <th>revenue</th>\n",
       "      <th>group</th>\n",
       "    </tr>\n",
       "  </thead>\n",
       "  <tbody>\n",
       "    <tr>\n",
       "      <th>425</th>\n",
       "      <td>590470918</td>\n",
       "      <td>1920142716</td>\n",
       "      <td>2019-08-19</td>\n",
       "      <td>1294500</td>\n",
       "      <td>B</td>\n",
       "    </tr>\n",
       "  </tbody>\n",
       "</table>\n",
       "</div>"
      ],
      "text/plain": [
       "     transactionId   visitorId       date  revenue group\n",
       "425  590470918      1920142716 2019-08-19  1294500  B   "
      ]
     },
     "execution_count": 60,
     "metadata": {},
     "output_type": "execute_result"
    }
   ],
   "source": [
    "orders[orders['revenue'] == 1294500]"
   ]
  },
  {
   "cell_type": "markdown",
   "metadata": {
    "cellId": "0cn1ft3rqt5dcf9jij7l6z"
   },
   "source": [
    "* **Вот и он, мега-заказ 19-го августа.**"
   ]
  },
  {
   "cell_type": "code",
   "execution_count": 61,
   "metadata": {
    "cellId": "dl1mchno41pfo8277bjz6t"
   },
   "outputs": [
    {
     "name": "stdout",
     "output_type": "stream",
     "text": [
      "[26785. 53904.]\n"
     ]
    }
   ],
   "source": [
    "print(np.percentile(orders['revenue'], [95, 99]))"
   ]
  },
  {
   "cell_type": "markdown",
   "metadata": {
    "cellId": "w7kmx0t1uspt65nll2wxc"
   },
   "source": [
    "* Не более 5% пользователей делают заказы стоимостью 26785 и более\n",
    "* Не более 1% пользователей делают заказы стоимостью 53904 и более\n",
    "\n",
    "\n",
    "---\n",
    "\n",
    "* **Выберу границей стоимость заказов до 26785**"
   ]
  },
  {
   "cell_type": "markdown",
   "metadata": {
    "cellId": "3qtf4g23t6tf70uzwdrki"
   },
   "source": [
    "### Посчитаю статистическую значимость различий в конверсии между группами по \"сырым\" данным.\n",
    "* Для этого и последующих расчётов подготовлю необходимые данные"
   ]
  },
  {
   "cell_type": "code",
   "execution_count": 62,
   "metadata": {
    "cellId": "koa2i2fl36jj7hug57n9h"
   },
   "outputs": [],
   "source": [
    "visitorsADaily = visitors[visitors['group'] == 'A'][['date', 'visitors']]"
   ]
  },
  {
   "cell_type": "code",
   "execution_count": 63,
   "metadata": {
    "cellId": "ov44c831nbrrr3nkf0oyl"
   },
   "outputs": [],
   "source": [
    "visitorsADaily.columns = ['date', 'visitorsPerDateA']"
   ]
  },
  {
   "cell_type": "code",
   "execution_count": 64,
   "metadata": {
    "cellId": "hq2g22ltdvpwluc1s7rr"
   },
   "outputs": [],
   "source": [
    "visitorsBDaily = visitors[visitors['group'] == 'B'][['date', 'visitors']]"
   ]
  },
  {
   "cell_type": "code",
   "execution_count": 65,
   "metadata": {
    "cellId": "m5wr38im9uzghuwenygee"
   },
   "outputs": [],
   "source": [
    "visitorsBDaily.columns = ['date', 'visitorsPerDateB']"
   ]
  },
  {
   "cell_type": "markdown",
   "metadata": {
    "cellId": "pc1x2wmd05j2764weorv1v"
   },
   "source": [
    "* Использую уже полученный ранее датафрейм `ordersByVisitors`"
   ]
  },
  {
   "cell_type": "code",
   "execution_count": 66,
   "metadata": {
    "cellId": "e5fslchqa4ylklg7m5i1"
   },
   "outputs": [],
   "source": [
    "ordersByVisitorsA = (\n",
    "    ordersByVisitors[ordersByVisitors['group'] == 'A']\n",
    "    [['visitorId', 'orders']]\n",
    ")"
   ]
  },
  {
   "cell_type": "code",
   "execution_count": 67,
   "metadata": {
    "cellId": "gy99otg1496oq3qgywz6l"
   },
   "outputs": [],
   "source": [
    "ordersByVisitorsB = (\n",
    "    ordersByVisitors[ordersByVisitors['group'] == 'B']\n",
    "    [['visitorId', 'orders']]\n",
    ")"
   ]
  },
  {
   "cell_type": "markdown",
   "metadata": {
    "cellId": "0jjzczd77ljjywf4zvbg429"
   },
   "source": [
    "* Для проверки гипотезы использую непараметрический тест Манна-Уитни, потому что в данных, очевидно, присутствуют большие выбросы. Тесты, основанные на параметрах выборок, могут исказить результат.\n",
    "* Создам переменные с выборками `sampleA` и `sampleB` для проверки гипотезы о равенстве средних конверсий критерием Манна-Уитни:\n",
    "  * в каждой выборке будут пользователи конкретной группы, которым будет соответствовать количество заказов\n",
    "  * пользователям, не совершвшим заказ, должны соответствовать нули "
   ]
  },
  {
   "cell_type": "code",
   "execution_count": 68,
   "metadata": {
    "cellId": "6w9r0xiyyir3tju0sa5phw"
   },
   "outputs": [],
   "source": [
    "notBuyersA = (\n",
    "    pd.Series(0, index=np.arange(\n",
    "        visitorsADaily['visitorsPerDateA'].sum() - \n",
    "        len(ordersByVisitorsA)\n",
    "    ), name='orders')\n",
    ")"
   ]
  },
  {
   "cell_type": "code",
   "execution_count": 69,
   "metadata": {
    "cellId": "d7aw9l0ay887uw5s1x6jwi"
   },
   "outputs": [],
   "source": [
    "notBuyersB = (\n",
    "    pd.Series(0, index=np.arange(\n",
    "        visitorsBDaily['visitorsPerDateB'].sum() - \n",
    "        len(ordersByVisitorsB)\n",
    "    ), name='orders')\n",
    ")"
   ]
  },
  {
   "cell_type": "code",
   "execution_count": 70,
   "metadata": {
    "cellId": "sksj62ufx4zi1kpfbvvwh"
   },
   "outputs": [],
   "source": [
    "sampleA = pd.concat([ordersByVisitorsA['orders'], notBuyersA], axis=0)"
   ]
  },
  {
   "cell_type": "code",
   "execution_count": 71,
   "metadata": {
    "cellId": "cv79flgt7q8ihp0bfw6op"
   },
   "outputs": [],
   "source": [
    "sampleB = pd.concat([ordersByVisitorsB['orders'], notBuyersB], axis=0)"
   ]
  },
  {
   "cell_type": "markdown",
   "metadata": {
    "cellId": "zc56qlyl50duytr6c0jl0g"
   },
   "source": [
    "* Число элементов в каждом сэмпле - суммарное количество пользователей в каждой группе, заходивших на сайт, в период теста (не обязательно уникальных)\n",
    "* Сумма всех элементов - количество совершённых ими заказов\n",
    "* Проверю себя, на всякий случай"
   ]
  },
  {
   "cell_type": "code",
   "execution_count": 72,
   "metadata": {
    "cellId": "ljqg4rastoo7ykqh0klda7"
   },
   "outputs": [
    {
     "name": "stdout",
     "output_type": "stream",
     "text": [
      "37652\n",
      "37652\n",
      "\n",
      "1016\n",
      "1016\n"
     ]
    }
   ],
   "source": [
    "print(sampleA.count() + sampleB.count())\n",
    "print(visitors['visitors'].sum())\n",
    "print()\n",
    "print(sampleA.sum() + sampleB.sum())\n",
    "print(orders['transactionId'].count())"
   ]
  },
  {
   "cell_type": "markdown",
   "metadata": {
    "cellId": "051owv22u59nhm2t2x1kpb"
   },
   "source": [
    "* **Сформулирую нулевую гипотезу:**\n",
    "  * Среднее значение конверсии в группах не отличается и разница, полученная в ходе A/B - теста, случайна.\n",
    "* **Альтернативная гипотеза:** \n",
    "  * Средняя конверсия группы `B` больше, чем в группе `A`\n",
    "* Уровень значимости `alpha` задам `0.05`\n",
    "* Рассчитаю относительное различие средних конверсий"
   ]
  },
  {
   "cell_type": "code",
   "execution_count": 73,
   "metadata": {
    "cellId": "qmrvgruuulqei8moqnxesd"
   },
   "outputs": [
    {
     "name": "stdout",
     "output_type": "stream",
     "text": [
      "p-value: 0.0055\n",
      "Относительная разница средней конверсии B к A: 0.160\n"
     ]
    }
   ],
   "source": [
    "print(\n",
    "    'p-value: {0:.4f}'.format(\n",
    "        st.mannwhitneyu(sampleA, sampleB, alternative='less')[1]\n",
    "    )\n",
    ")\n",
    "print(\n",
    "    'Относительная разница средней конверсии B к A: {0:.3f}'\n",
    "    .format(sampleB.mean() / sampleA.mean() - 1)\n",
    ")"
   ]
  },
  {
   "cell_type": "markdown",
   "metadata": {
    "cellId": "kr8mlwznr4r36ema8rvzjq"
   },
   "source": [
    "* Вывод о различии конверсий по \"сырым\" данным:\n",
    "  * p-value значительно меньше определённого в `0.05` уровня значимости, соответственно на данном этапе отвергаю нулевую гипотезу о равенстве средних конверсий в группах: разница между ними не случайна\n",
    "  * об этом также говорит 16 % относительно бОльшего значения средней конверсии в группе `B`"
   ]
  },
  {
   "cell_type": "markdown",
   "metadata": {
    "cellId": "qfei0vdar9h93y17gb9z9e"
   },
   "source": [
    "### Посчитаю статистическую значимость различий в среднем чеке заказ между группами по сырым данным:\n",
    "* На графике относительно отличия кумулятивного среднего чека группы `B` к группе `A` видно:\n",
    "    * Кумулятивный средний чек `B` чаще превышает кумулятивный средний чек `A`, за исключением нескольких дней в середине теста.\n",
    "    * Поэтому сформулирую следующую **нулевую гипотезу:**\n",
    "      * Средние чеки в тестируемых группах равны, экспериментальная разница - случайна.\n",
    "      * **Альтернативная гипотеза:** средние чек группы `B` больше чем в группе `A`\n",
    "      * Уровень значимости `alpha` задам `0.05`\n",
    "* Рассчитаю относительное различие средних чеков."
   ]
  },
  {
   "cell_type": "code",
   "execution_count": 74,
   "metadata": {
    "cellId": "2z9l7o4fzh5tlfilhc2bes"
   },
   "outputs": [
    {
     "name": "stdout",
     "output_type": "stream",
     "text": [
      "p-value: 0.585\n",
      "Относительная разница среднего чека групп B к A: 0.287\n"
     ]
    }
   ],
   "source": [
    "print(\n",
    "    'p-value: {0:.3f}'.format(\n",
    "        st.mannwhitneyu(\n",
    "            orders[orders['group']=='A']['revenue'], \n",
    "            orders[orders['group']=='B']['revenue'], \n",
    "            alternative='less')[1]\n",
    "            )\n",
    "    )\n",
    "print(\n",
    "    'Относительная разница среднего чека групп B к A: {0:.3f}'.format(\n",
    "        orders[orders['group']=='B']['revenue'].mean()\n",
    "        /orders[orders['group']=='A']['revenue'].mean()-1\n",
    "        )\n",
    "    )"
   ]
  },
  {
   "cell_type": "markdown",
   "metadata": {
    "cellId": "b0ffuh1jgto6e055gacir9"
   },
   "source": [
    "* Вывод о различии средних чеков по \"сырым\" данным:\n",
    "  * p-value существенно больше определённого в `0.05` уровня значимости, соответственно на данном этапе отвергнуть нулевую гипотезу о равенстве средних чеков в группах не могу: разница между ними может быть случайна.\n",
    "  * однако, средний чек в группе `B` значительно больше, на 28,7%. посмотрю как ситуация поменяется при оценке без выбросов"
   ]
  },
  {
   "cell_type": "markdown",
   "metadata": {
    "cellId": "xonscg2x1tgn8ewx8g491o"
   },
   "source": [
    "### Посчитаю статистическую значимость различия в конверсии групп по \"очищенным\" данным\n",
    "* Подготовлю выборку количества заказов по пользователям в группах теста\n",
    "  * Для этого сперва уберу из сырых данных аномальных пользователей:\n",
    "    * Тех, кто делал более 1-го заказа\n",
    "    * Тех, чьи заказы превышали стоимость 26785"
   ]
  },
  {
   "cell_type": "code",
   "execution_count": 75,
   "metadata": {
    "cellId": "bucizongzfl1r4w1chpz8a"
   },
   "outputs": [],
   "source": [
    "usersAlotOrders = pd.concat(\n",
    "    [\n",
    "     ordersByVisitorsA[ordersByVisitorsA['orders'] > 1]['visitorId'],\n",
    "     ordersByVisitorsB[ordersByVisitorsB['orders'] > 1]['visitorId']\n",
    "    ], \n",
    "    axis=0\n",
    "    )"
   ]
  },
  {
   "cell_type": "code",
   "execution_count": 76,
   "metadata": {
    "cellId": "5yrlgkit028bbgxli7mthf"
   },
   "outputs": [],
   "source": [
    "usersExpensiveOrders = orders[orders['revenue'] >= 26785]['visitorId']"
   ]
  },
  {
   "cell_type": "code",
   "execution_count": 77,
   "metadata": {
    "cellId": "qng6p2kfnypbimfkk3o8p"
   },
   "outputs": [],
   "source": [
    "abnormalUsers = (\n",
    "    pd.concat(\n",
    "    [usersAlotOrders, usersExpensiveOrders], axis=0)\n",
    "    .drop_duplicates()\n",
    "    .sort_values()\n",
    "    )"
   ]
  },
  {
   "cell_type": "code",
   "execution_count": 78,
   "metadata": {
    "cellId": "8qga19qzurgmqfhpbbsctp"
   },
   "outputs": [
    {
     "data": {
      "text/plain": [
       "568     113298937\n",
       "1099    148427295\n",
       "Name: visitorId, dtype: int64"
      ]
     },
     "execution_count": 78,
     "metadata": {},
     "output_type": "execute_result"
    }
   ],
   "source": [
    "abnormalUsers.head(2)"
   ]
  },
  {
   "cell_type": "code",
   "execution_count": 79,
   "metadata": {
    "cellId": "fhqmbrqpr7hcdffvwnbaku"
   },
   "outputs": [
    {
     "data": {
      "text/plain": [
       "(86,)"
      ]
     },
     "execution_count": 79,
     "metadata": {},
     "output_type": "execute_result"
    }
   ],
   "source": [
    "abnormalUsers.shape"
   ]
  },
  {
   "cell_type": "markdown",
   "metadata": {
    "cellId": "fnrmgpfoxmfng0ph1zmo2q"
   },
   "source": [
    "* Всего 86 аномальных пользователей.\n",
    "* Узнаю, как их действия повлияли на результат теста\n",
    "* Подготовлю выборки для теста Манна-Уитни по очищенным данным"
   ]
  },
  {
   "cell_type": "code",
   "execution_count": 80,
   "metadata": {
    "cellId": "oel31j9pv2c5gtlge78c06"
   },
   "outputs": [],
   "source": [
    "sampleAFiltered = (\n",
    "    pd.concat(\n",
    "        [ordersByVisitorsA[\n",
    "                           np.logical_not(ordersByVisitorsA['visitorId']\n",
    "                           .isin(abnormalUsers))]['orders'], notBuyersA], \n",
    "              axis=0)\n",
    "    )"
   ]
  },
  {
   "cell_type": "code",
   "execution_count": 81,
   "metadata": {
    "cellId": "setcqgl8uoffbxzjfe8i"
   },
   "outputs": [],
   "source": [
    "sampleBFiltered = (\n",
    "    pd.concat(\n",
    "        [ordersByVisitorsB[\n",
    "                           np.logical_not(ordersByVisitorsB['visitorId']\n",
    "                           .isin(abnormalUsers))]['orders'], notBuyersB], \n",
    "              axis=0)\n",
    "    )"
   ]
  },
  {
   "cell_type": "markdown",
   "metadata": {
    "cellId": "go5hyznk1lcgkg1p7of07p"
   },
   "source": [
    "* Применю статистический критерий Манна-Уитни к полученным выборкам для проверки гипотезы о равенстве конверсий\n",
    "* Нулевая и альтернативная гипотеза, значение `alpha` остаются прежними\n",
    "* Рассчитаю относительное различие средних конверсий"
   ]
  },
  {
   "cell_type": "code",
   "execution_count": 82,
   "metadata": {
    "cellId": "lrrryh0lxwzcgpx6jw21"
   },
   "outputs": [
    {
     "name": "stdout",
     "output_type": "stream",
     "text": [
      "p-value: 0.0080\n",
      "Относительная разница средней конверсии B к A: 0.174\n"
     ]
    }
   ],
   "source": [
    "print(\n",
    "    'p-value: {0:.4f}'.format(\n",
    "        st.mannwhitneyu(sampleAFiltered, sampleBFiltered, alternative='less')[1]\n",
    "    )\n",
    ")\n",
    "print(\n",
    "    'Относительная разница средней конверсии B к A: {0:.3f}'\n",
    "    .format(sampleBFiltered.mean() / sampleAFiltered.mean() - 1)\n",
    ")"
   ]
  },
  {
   "cell_type": "markdown",
   "metadata": {
    "cellId": "sm0l9dmpsrjmlp7fyll8s"
   },
   "source": [
    "* Вывод о различии конверсий по \"очищенным\" данным:\n",
    "  * p-value по прежнему существенно меньше `alpha = 0.05`, соответственно, гипотезу о равенстве конверсии в группах отвергаю, поскольку различия не случайны при выбранном уровне значимости\n",
    "  * об этом также говорит сохранившаяся на высоком уровне относительная разница конверсий в группы `B` к `A`, равная 17,4 %"
   ]
  },
  {
   "cell_type": "code",
   "execution_count": 83,
   "metadata": {
    "cellId": "swkukizos1notzw0mhejl"
   },
   "outputs": [
    {
     "name": "stdout",
     "output_type": "stream",
     "text": [
      "p-value: 0.6365\n",
      "Относительная разница среднего чека групп B к A: -0.0337\n"
     ]
    }
   ],
   "source": [
    "print('p-value: {0:.4f}'.format(\n",
    "    st.mannwhitneyu(\n",
    "    orders[np.logical_and(\n",
    "        orders['group'] == 'A', \n",
    "        np.logical_not(orders['visitorId'].\n",
    "                       isin(abnormalUsers))\n",
    "    )]['revenue'],\n",
    "    orders[np.logical_and(\n",
    "        orders['group'] == 'B', \n",
    "        np.logical_not(orders['visitorId'].\n",
    "                       isin(abnormalUsers))\n",
    "    )]['revenue'],\n",
    "    alternative='less'\n",
    "    )[1]\n",
    "    )\n",
    ")\n",
    "print('Относительная разница среднего чека групп B к A: {0:.4f}'.format(\n",
    "    orders[np.logical_and(\n",
    "        orders['group'] == 'B', \n",
    "        np.logical_not(orders['visitorId'].\n",
    "                       isin(abnormalUsers))\n",
    "    )]['revenue'].mean()\n",
    "    / orders[np.logical_and(\n",
    "        orders['group'] == 'A', \n",
    "        np.logical_not(orders['visitorId'].\n",
    "                       isin(abnormalUsers))\n",
    "    )]['revenue'].mean() \n",
    "    - 1\n",
    "    )\n",
    ")"
   ]
  },
  {
   "cell_type": "markdown",
   "metadata": {
    "cellId": "z1xvkc3uhlkvpgnnvut68"
   },
   "source": [
    "* Вывод о различии средних чеков по \"очищенным\" данным:\n",
    "  * p-value стал ещё больше, соответственно, и по очищенным данным отвергнуть нулевую гипотезу о равенстве средних чеков в группах не могу: разница между ними может быть случайна.\n",
    "  * в подтверждение этого относительная разница среднего чека из группы `B` к `A` сменила знак (по очищенным данным значение среднего чека `B` стало меньше среднего чека `A` на 3,3 % )"
   ]
  },
  {
   "cell_type": "markdown",
   "metadata": {
    "cellId": "7mbkjwcvl8x5spuavqug"
   },
   "source": [
    "## Вывод, итоговое решение по результатам A/B-теста\n",
    "\n",
    "* **Для оценки приоритета гипотез использовал фреймворк `RICE`, потому что он учитывает параметр `reach`**\n",
    "    * То есть изменение в рамках этой выбранной гипотезы затронет максимальное число пользователей при средних затратах на тестирование.\n",
    "    * Рассчётный параметр `RICE` выбранной гипотезы \"о добавлении формы на все основные страницы..\" вдвое превысил следующую за ней гипотезу (составил 112 единиц), поэтому её приоритет не вызывает сомнения. \n",
    "    \n",
    "---\n",
    "    \n",
    "* **Пришлось отбросить часть данных, в которой одни и те же пользователи попали в обе группы:**\n",
    "    * Таких нашлось 181 по обеим группам.\n",
    "    * Это свидетельствует о том, что в части разделения трафика для тестирования есть проблемы.\n",
    "    * Об этом необходимо сообщить ответственным специалистам.\n",
    "    \n",
    "---    \n",
    "    \n",
    "* **График относительного отличия средних чеков групп колебался в период теста. Это позволило:**\n",
    "    * Выявить наличие выбросов в выборках групп.\n",
    "    * Сравнить статистическую значимость различий конверсии и средних чеков на сырых и очищенных данных\n",
    "    * После поиска выбросов по группам стало известно, что большинство пользователей (в тестируемых сегментах):\n",
    "        * Покупают 1 раз в месяц\n",
    "        * Тратят на один заказ не более 26785 ₽\n",
    "    * Следующие тесты можно направить на поиски методов улучшения этих показателей.\n",
    "    \n",
    "---    \n",
    "\n",
    "* **Результаты сравнения с использованием непараметрического критерия Манна-Уитни оказались следующими:**\n",
    "    * Между средней конверсией групп `A` и `B` есть статистически значимое различие как по сырым данным, так и по отфильтрованным. На очищенных данных вероятность того, что средняя конверсия `B` случайно оказалась больше средней конверсии `A`, составила 0,55 % при относительной разнице конверсий в 16 % (конверсия `B` больше конверсии `A`)\n",
    "    * После того, как конверсия группы `B` превысила конверсию `A`, уже по прошествию недели она начала стабилизироваться на уровне +12 % относительно группы `A`.\n",
    "\n",
    "---\n",
    "\n",
    "* Отличие средних чеков в группах вероятно, носит случайный характер (при выбраном уровне статистической значимости в 5%). Это утверждение актуально для сырых и отфильтрованных данных, потому что:\n",
    "     * вероятность случайно получить различные данные по средним чекам, в обоих случая намного превысила уровень статистической значимости в 5%. \n",
    "     * И составила 28,7% по сырым данным, а по отфильтрованным -3,3% (чек `B` стал в среднем немного меньше `A` в рамках теста)\n",
    "        \n",
    "---\n",
    "\n",
    "* **Исходя из фактов выше предлагаю остановить тест, признать его успешным**\n",
    "* Зафиксировать победу группы `B`, поскольку прирост конверсии более 12% при равных средних чеках - отличный результат для крупного интернет магазина."
   ]
  }
 ],
 "metadata": {
  "ExecuteTimeLog": [
   {
    "duration": 2815,
    "start_time": "2021-12-16T14:11:55.359Z"
   },
   {
    "duration": 1416,
    "start_time": "2021-12-16T14:11:58.176Z"
   },
   {
    "duration": 19,
    "start_time": "2021-12-16T14:11:59.595Z"
   },
   {
    "duration": 32,
    "start_time": "2021-12-16T14:11:59.617Z"
   },
   {
    "duration": 15,
    "start_time": "2021-12-16T14:11:59.651Z"
   },
   {
    "duration": 19,
    "start_time": "2021-12-16T14:11:59.669Z"
   },
   {
    "duration": 42,
    "start_time": "2021-12-16T14:11:59.690Z"
   },
   {
    "duration": 29,
    "start_time": "2021-12-16T14:11:59.736Z"
   },
   {
    "duration": 28,
    "start_time": "2021-12-16T14:11:59.768Z"
   },
   {
    "duration": 23,
    "start_time": "2021-12-16T14:11:59.798Z"
   },
   {
    "duration": 26,
    "start_time": "2021-12-16T14:11:59.824Z"
   },
   {
    "duration": 27,
    "start_time": "2021-12-16T14:11:59.853Z"
   },
   {
    "duration": 26,
    "start_time": "2021-12-16T14:11:59.882Z"
   },
   {
    "duration": 42,
    "start_time": "2021-12-16T14:11:59.911Z"
   },
   {
    "duration": 18,
    "start_time": "2021-12-16T14:11:59.956Z"
   },
   {
    "duration": 23,
    "start_time": "2021-12-16T14:11:59.977Z"
   },
   {
    "duration": 31,
    "start_time": "2021-12-16T14:12:00.003Z"
   },
   {
    "duration": 33,
    "start_time": "2021-12-16T14:12:00.036Z"
   },
   {
    "duration": 21,
    "start_time": "2021-12-16T14:12:00.072Z"
   },
   {
    "duration": 9,
    "start_time": "2021-12-16T14:12:00.096Z"
   },
   {
    "duration": 26,
    "start_time": "2021-12-16T14:12:00.108Z"
   },
   {
    "duration": 25,
    "start_time": "2021-12-16T14:12:00.136Z"
   },
   {
    "duration": 21,
    "start_time": "2021-12-16T14:12:00.167Z"
   },
   {
    "duration": 36,
    "start_time": "2021-12-16T14:12:00.192Z"
   },
   {
    "duration": 337,
    "start_time": "2021-12-16T14:12:00.230Z"
   },
   {
    "duration": 284,
    "start_time": "2021-12-16T14:12:00.570Z"
   },
   {
    "duration": 8,
    "start_time": "2021-12-16T14:12:00.856Z"
   },
   {
    "duration": 18,
    "start_time": "2021-12-16T14:12:00.866Z"
   },
   {
    "duration": 40,
    "start_time": "2021-12-16T14:12:00.886Z"
   },
   {
    "duration": 30,
    "start_time": "2021-12-16T14:12:00.929Z"
   },
   {
    "duration": 14,
    "start_time": "2021-12-16T14:12:00.961Z"
   },
   {
    "duration": 521,
    "start_time": "2021-12-16T14:12:00.978Z"
   },
   {
    "duration": 482,
    "start_time": "2021-12-16T14:12:01.502Z"
   },
   {
    "duration": 9,
    "start_time": "2021-12-16T14:12:01.987Z"
   },
   {
    "duration": 685,
    "start_time": "2021-12-16T14:12:01.998Z"
   },
   {
    "duration": 5,
    "start_time": "2021-12-16T14:12:02.686Z"
   },
   {
    "duration": 25,
    "start_time": "2021-12-16T14:12:02.693Z"
   },
   {
    "duration": 5,
    "start_time": "2021-12-16T14:12:02.721Z"
   },
   {
    "duration": 513,
    "start_time": "2021-12-16T14:12:02.729Z"
   },
   {
    "duration": 12,
    "start_time": "2021-12-16T14:12:03.244Z"
   },
   {
    "duration": 24,
    "start_time": "2021-12-16T14:12:03.259Z"
   },
   {
    "duration": 583,
    "start_time": "2021-12-16T14:12:03.285Z"
   },
   {
    "duration": 12,
    "start_time": "2021-12-16T14:12:03.870Z"
   },
   {
    "duration": 208,
    "start_time": "2021-12-16T14:12:03.885Z"
   },
   {
    "duration": 4,
    "start_time": "2021-12-16T14:12:04.095Z"
   },
   {
    "duration": 20,
    "start_time": "2021-12-16T14:12:04.101Z"
   },
   {
    "duration": 4,
    "start_time": "2021-12-16T14:12:04.123Z"
   },
   {
    "duration": 442,
    "start_time": "2021-12-16T14:12:04.129Z"
   },
   {
    "duration": 6,
    "start_time": "2021-12-16T14:12:04.574Z"
   },
   {
    "duration": 17,
    "start_time": "2021-12-16T14:12:04.583Z"
   },
   {
    "duration": 417,
    "start_time": "2021-12-16T14:12:04.602Z"
   },
   {
    "duration": 9,
    "start_time": "2021-12-16T14:12:05.022Z"
   },
   {
    "duration": 18,
    "start_time": "2021-12-16T14:12:05.033Z"
   },
   {
    "duration": 9,
    "start_time": "2021-12-16T14:12:05.054Z"
   },
   {
    "duration": 14,
    "start_time": "2021-12-16T14:12:05.065Z"
   },
   {
    "duration": 35,
    "start_time": "2021-12-16T14:12:05.082Z"
   },
   {
    "duration": 7,
    "start_time": "2021-12-16T14:12:05.120Z"
   },
   {
    "duration": 7,
    "start_time": "2021-12-16T14:12:05.129Z"
   },
   {
    "duration": 11,
    "start_time": "2021-12-16T14:12:05.138Z"
   },
   {
    "duration": 9,
    "start_time": "2021-12-16T14:12:05.152Z"
   },
   {
    "duration": 7,
    "start_time": "2021-12-16T14:12:05.163Z"
   },
   {
    "duration": 7,
    "start_time": "2021-12-16T14:12:05.172Z"
   },
   {
    "duration": 36,
    "start_time": "2021-12-16T14:12:05.181Z"
   },
   {
    "duration": 5,
    "start_time": "2021-12-16T14:12:05.219Z"
   },
   {
    "duration": 10,
    "start_time": "2021-12-16T14:12:05.226Z"
   },
   {
    "duration": 14,
    "start_time": "2021-12-16T14:12:05.238Z"
   },
   {
    "duration": 14,
    "start_time": "2021-12-16T14:12:05.255Z"
   },
   {
    "duration": 45,
    "start_time": "2021-12-16T14:12:05.276Z"
   },
   {
    "duration": 12,
    "start_time": "2021-12-16T14:12:05.324Z"
   },
   {
    "duration": 9,
    "start_time": "2021-12-16T14:12:05.339Z"
   },
   {
    "duration": 12,
    "start_time": "2021-12-16T14:12:05.350Z"
   },
   {
    "duration": 9,
    "start_time": "2021-12-16T14:12:05.365Z"
   },
   {
    "duration": 7,
    "start_time": "2021-12-16T14:12:05.377Z"
   },
   {
    "duration": 35,
    "start_time": "2021-12-16T14:12:05.387Z"
   },
   {
    "duration": 15,
    "start_time": "2021-12-16T14:12:05.426Z"
   },
   {
    "duration": 23,
    "start_time": "2021-12-16T14:12:05.444Z"
   },
   {
    "duration": 5,
    "start_time": "2021-12-16T18:29:53.649Z"
   },
   {
    "duration": 1711,
    "start_time": "2021-12-16T18:29:53.657Z"
   },
   {
    "duration": 43,
    "start_time": "2021-12-16T18:29:55.372Z"
   },
   {
    "duration": 44,
    "start_time": "2021-12-16T18:29:55.419Z"
   },
   {
    "duration": 36,
    "start_time": "2021-12-16T18:29:55.465Z"
   },
   {
    "duration": 4,
    "start_time": "2021-12-16T18:29:55.503Z"
   },
   {
    "duration": 18,
    "start_time": "2021-12-16T18:29:55.509Z"
   },
   {
    "duration": 6,
    "start_time": "2021-12-16T18:29:55.529Z"
   },
   {
    "duration": 9,
    "start_time": "2021-12-16T18:29:55.539Z"
   },
   {
    "duration": 9,
    "start_time": "2021-12-16T18:29:55.550Z"
   },
   {
    "duration": 4,
    "start_time": "2021-12-16T18:30:14.023Z"
   },
   {
    "duration": 12,
    "start_time": "2021-12-16T18:30:15.179Z"
   },
   {
    "duration": 5,
    "start_time": "2021-12-16T18:35:36.785Z"
   },
   {
    "duration": 1440,
    "start_time": "2021-12-16T18:35:36.793Z"
   },
   {
    "duration": 20,
    "start_time": "2021-12-16T18:35:38.236Z"
   },
   {
    "duration": 44,
    "start_time": "2021-12-16T18:35:38.258Z"
   },
   {
    "duration": 18,
    "start_time": "2021-12-16T18:35:38.304Z"
   },
   {
    "duration": 5,
    "start_time": "2021-12-16T18:35:38.325Z"
   },
   {
    "duration": 18,
    "start_time": "2021-12-16T18:35:38.332Z"
   },
   {
    "duration": 7,
    "start_time": "2021-12-16T18:35:38.353Z"
   },
   {
    "duration": 5,
    "start_time": "2021-12-16T18:35:40.800Z"
   },
   {
    "duration": 516,
    "start_time": "2021-12-16T18:35:44.364Z"
   },
   {
    "duration": 11,
    "start_time": "2021-12-16T18:36:10.732Z"
   },
   {
    "duration": 10,
    "start_time": "2021-12-16T18:36:24.408Z"
   },
   {
    "duration": 6,
    "start_time": "2021-12-16T18:37:06.574Z"
   },
   {
    "duration": 6,
    "start_time": "2021-12-16T18:37:10.744Z"
   },
   {
    "duration": 14,
    "start_time": "2021-12-16T18:37:12.510Z"
   },
   {
    "duration": 5,
    "start_time": "2021-12-16T18:37:20.752Z"
   },
   {
    "duration": 4,
    "start_time": "2021-12-16T18:47:18.504Z"
   },
   {
    "duration": 1404,
    "start_time": "2021-12-16T18:47:18.511Z"
   },
   {
    "duration": 21,
    "start_time": "2021-12-16T18:47:19.918Z"
   },
   {
    "duration": 44,
    "start_time": "2021-12-16T18:47:19.942Z"
   },
   {
    "duration": 21,
    "start_time": "2021-12-16T18:47:19.990Z"
   },
   {
    "duration": 9,
    "start_time": "2021-12-16T18:47:20.015Z"
   },
   {
    "duration": 24,
    "start_time": "2021-12-16T18:47:20.026Z"
   },
   {
    "duration": 10,
    "start_time": "2021-12-16T18:47:20.052Z"
   },
   {
    "duration": 19,
    "start_time": "2021-12-16T18:47:20.065Z"
   },
   {
    "duration": 6,
    "start_time": "2021-12-16T18:47:20.087Z"
   },
   {
    "duration": 18,
    "start_time": "2021-12-16T18:47:20.095Z"
   },
   {
    "duration": 16,
    "start_time": "2021-12-16T18:47:20.115Z"
   },
   {
    "duration": 26,
    "start_time": "2021-12-16T18:47:20.133Z"
   },
   {
    "duration": 12,
    "start_time": "2021-12-16T18:47:28.883Z"
   },
   {
    "duration": 13,
    "start_time": "2021-12-16T18:47:30.302Z"
   },
   {
    "duration": 6,
    "start_time": "2021-12-16T18:47:31.905Z"
   },
   {
    "duration": 19,
    "start_time": "2021-12-16T18:47:33.343Z"
   },
   {
    "duration": 9,
    "start_time": "2021-12-16T18:47:33.874Z"
   },
   {
    "duration": 20,
    "start_time": "2021-12-16T18:47:35.532Z"
   },
   {
    "duration": 8,
    "start_time": "2021-12-16T18:47:36.342Z"
   },
   {
    "duration": 34,
    "start_time": "2021-12-16T18:47:46.330Z"
   },
   {
    "duration": 9,
    "start_time": "2021-12-16T18:47:46.925Z"
   },
   {
    "duration": 10,
    "start_time": "2021-12-16T18:53:43.390Z"
   },
   {
    "duration": 12,
    "start_time": "2021-12-16T18:54:02.922Z"
   },
   {
    "duration": 13,
    "start_time": "2021-12-16T18:55:12.714Z"
   },
   {
    "duration": 11,
    "start_time": "2021-12-16T18:55:55.879Z"
   },
   {
    "duration": 11,
    "start_time": "2021-12-16T18:56:09.908Z"
   },
   {
    "duration": 10,
    "start_time": "2021-12-16T18:58:01.725Z"
   },
   {
    "duration": 12,
    "start_time": "2021-12-16T18:58:07.885Z"
   },
   {
    "duration": 8822,
    "start_time": "2021-12-16T18:59:03.988Z"
   },
   {
    "duration": 13,
    "start_time": "2021-12-16T18:59:34.076Z"
   },
   {
    "duration": 13,
    "start_time": "2021-12-16T19:00:01.676Z"
   },
   {
    "duration": 500,
    "start_time": "2021-12-16T19:01:53.318Z"
   },
   {
    "duration": 14,
    "start_time": "2021-12-16T19:02:11.834Z"
   },
   {
    "duration": 13,
    "start_time": "2021-12-16T19:14:10.650Z"
   },
   {
    "duration": 4,
    "start_time": "2021-12-17T04:46:42.789Z"
   },
   {
    "duration": 1410,
    "start_time": "2021-12-17T04:46:42.796Z"
   },
   {
    "duration": 17,
    "start_time": "2021-12-17T04:46:44.209Z"
   },
   {
    "duration": 62,
    "start_time": "2021-12-17T04:46:44.228Z"
   },
   {
    "duration": 24,
    "start_time": "2021-12-17T04:46:44.293Z"
   },
   {
    "duration": 27,
    "start_time": "2021-12-17T04:46:44.319Z"
   },
   {
    "duration": 34,
    "start_time": "2021-12-17T04:46:44.349Z"
   },
   {
    "duration": 19,
    "start_time": "2021-12-17T04:46:44.387Z"
   },
   {
    "duration": 19,
    "start_time": "2021-12-17T04:46:44.409Z"
   },
   {
    "duration": 22,
    "start_time": "2021-12-17T04:46:44.430Z"
   },
   {
    "duration": 29,
    "start_time": "2021-12-17T04:46:44.454Z"
   },
   {
    "duration": 18,
    "start_time": "2021-12-17T04:46:44.486Z"
   },
   {
    "duration": 33,
    "start_time": "2021-12-17T04:46:44.506Z"
   },
   {
    "duration": 23,
    "start_time": "2021-12-17T04:46:44.541Z"
   },
   {
    "duration": 36,
    "start_time": "2021-12-17T04:46:44.566Z"
   },
   {
    "duration": 21,
    "start_time": "2021-12-17T04:46:44.605Z"
   },
   {
    "duration": 38,
    "start_time": "2021-12-17T04:46:44.628Z"
   },
   {
    "duration": 29,
    "start_time": "2021-12-17T04:46:44.669Z"
   },
   {
    "duration": 28,
    "start_time": "2021-12-17T04:46:44.700Z"
   },
   {
    "duration": 36,
    "start_time": "2021-12-17T04:46:44.731Z"
   },
   {
    "duration": 9,
    "start_time": "2021-12-17T04:46:56.901Z"
   },
   {
    "duration": 8,
    "start_time": "2021-12-17T05:40:56.857Z"
   },
   {
    "duration": 9,
    "start_time": "2021-12-17T05:41:14.976Z"
   },
   {
    "duration": 9,
    "start_time": "2021-12-17T05:42:28.743Z"
   },
   {
    "duration": 5,
    "start_time": "2021-12-17T05:43:34.311Z"
   },
   {
    "duration": 5,
    "start_time": "2021-12-17T05:47:34.628Z"
   },
   {
    "duration": 12,
    "start_time": "2021-12-17T05:48:42.026Z"
   },
   {
    "duration": 10,
    "start_time": "2021-12-17T05:48:54.195Z"
   },
   {
    "duration": 19,
    "start_time": "2021-12-17T06:02:23.112Z"
   },
   {
    "duration": 6,
    "start_time": "2021-12-17T06:02:25.807Z"
   },
   {
    "duration": 8,
    "start_time": "2021-12-17T06:04:51.062Z"
   },
   {
    "duration": 15,
    "start_time": "2021-12-17T06:04:52.133Z"
   },
   {
    "duration": 306,
    "start_time": "2021-12-17T06:04:55.461Z"
   },
   {
    "duration": 266,
    "start_time": "2021-12-17T06:04:57.885Z"
   },
   {
    "duration": 9,
    "start_time": "2021-12-17T06:04:59.197Z"
   },
   {
    "duration": 4,
    "start_time": "2021-12-17T06:05:00.965Z"
   },
   {
    "duration": 18,
    "start_time": "2021-12-17T06:05:16.541Z"
   },
   {
    "duration": 8,
    "start_time": "2021-12-17T06:05:23.940Z"
   },
   {
    "duration": 6,
    "start_time": "2021-12-17T06:05:25.597Z"
   },
   {
    "duration": 488,
    "start_time": "2021-12-17T06:05:28.229Z"
   },
   {
    "duration": 475,
    "start_time": "2021-12-17T06:05:52.757Z"
   },
   {
    "duration": 8,
    "start_time": "2021-12-17T06:06:04.157Z"
   },
   {
    "duration": 544,
    "start_time": "2021-12-17T06:06:08.037Z"
   },
   {
    "duration": 5,
    "start_time": "2021-12-17T06:06:13.724Z"
   },
   {
    "duration": 6,
    "start_time": "2021-12-17T06:06:41.683Z"
   },
   {
    "duration": 5,
    "start_time": "2021-12-17T06:06:43.060Z"
   },
   {
    "duration": 479,
    "start_time": "2021-12-17T06:06:55.627Z"
   },
   {
    "duration": 13,
    "start_time": "2021-12-17T06:07:11.683Z"
   },
   {
    "duration": 12,
    "start_time": "2021-12-17T06:07:13.700Z"
   },
   {
    "duration": 539,
    "start_time": "2021-12-17T06:07:15.283Z"
   },
   {
    "duration": 565,
    "start_time": "2021-12-17T06:07:30.676Z"
   },
   {
    "duration": 523,
    "start_time": "2021-12-17T06:07:36.524Z"
   },
   {
    "duration": 539,
    "start_time": "2021-12-17T06:07:42.540Z"
   },
   {
    "duration": 11,
    "start_time": "2021-12-17T06:08:21.042Z"
   },
   {
    "duration": 212,
    "start_time": "2021-12-17T06:08:22.762Z"
   },
   {
    "duration": 4,
    "start_time": "2021-12-17T06:08:24.362Z"
   },
   {
    "duration": 9,
    "start_time": "2021-12-17T06:08:25.810Z"
   },
   {
    "duration": 4,
    "start_time": "2021-12-17T06:09:32.689Z"
   },
   {
    "duration": 436,
    "start_time": "2021-12-17T06:09:33.378Z"
   },
   {
    "duration": 5,
    "start_time": "2021-12-17T06:09:43.553Z"
   },
   {
    "duration": 4,
    "start_time": "2021-12-17T06:10:23.145Z"
   },
   {
    "duration": 404,
    "start_time": "2021-12-17T06:10:23.889Z"
   },
   {
    "duration": 8,
    "start_time": "2021-12-17T06:10:28.828Z"
   },
   {
    "duration": 12,
    "start_time": "2021-12-17T06:10:35.401Z"
   },
   {
    "duration": 6,
    "start_time": "2021-12-17T06:10:43.056Z"
   },
   {
    "duration": 6,
    "start_time": "2021-12-17T06:11:28.848Z"
   },
   {
    "duration": 4,
    "start_time": "2021-12-17T06:11:29.560Z"
   },
   {
    "duration": 7,
    "start_time": "2021-12-17T06:11:30.056Z"
   },
   {
    "duration": 4,
    "start_time": "2021-12-17T06:11:30.504Z"
   },
   {
    "duration": 7,
    "start_time": "2021-12-17T06:11:33.040Z"
   },
   {
    "duration": 7,
    "start_time": "2021-12-17T06:11:34.400Z"
   },
   {
    "duration": 5,
    "start_time": "2021-12-17T06:13:29.982Z"
   },
   {
    "duration": 6,
    "start_time": "2021-12-17T06:13:30.590Z"
   },
   {
    "duration": 5,
    "start_time": "2021-12-17T06:13:31.150Z"
   },
   {
    "duration": 5,
    "start_time": "2021-12-17T06:13:31.695Z"
   },
   {
    "duration": 9,
    "start_time": "2021-12-17T06:13:33.078Z"
   },
   {
    "duration": 9,
    "start_time": "2021-12-17T06:13:58.894Z"
   },
   {
    "duration": 9,
    "start_time": "2021-12-17T06:14:05.124Z"
   },
   {
    "duration": 10,
    "start_time": "2021-12-17T06:14:14.078Z"
   },
   {
    "duration": 15,
    "start_time": "2021-12-17T06:14:54.181Z"
   },
   {
    "duration": 7,
    "start_time": "2021-12-17T06:16:03.349Z"
   },
   {
    "duration": 12,
    "start_time": "2021-12-17T06:16:04.180Z"
   },
   {
    "duration": 6,
    "start_time": "2021-12-17T06:16:04.828Z"
   },
   {
    "duration": 7,
    "start_time": "2021-12-17T06:16:05.365Z"
   },
   {
    "duration": 5,
    "start_time": "2021-12-17T06:16:09.316Z"
   },
   {
    "duration": 7,
    "start_time": "2021-12-17T06:16:15.563Z"
   },
   {
    "duration": 6,
    "start_time": "2021-12-17T06:16:16.916Z"
   },
   {
    "duration": 10,
    "start_time": "2021-12-17T06:16:20.339Z"
   },
   {
    "duration": 9,
    "start_time": "2021-12-17T06:16:23.860Z"
   },
   {
    "duration": 9,
    "start_time": "2021-12-17T06:16:28.887Z"
   },
   {
    "duration": 20,
    "start_time": "2021-12-17T06:17:09.300Z"
   },
   {
    "duration": 6,
    "start_time": "2021-12-17T06:29:12.800Z"
   },
   {
    "duration": 5,
    "start_time": "2021-12-17T12:15:00.305Z"
   },
   {
    "duration": 1604,
    "start_time": "2021-12-17T12:15:00.313Z"
   },
   {
    "duration": 21,
    "start_time": "2021-12-17T12:15:01.921Z"
   },
   {
    "duration": 39,
    "start_time": "2021-12-17T12:15:01.945Z"
   },
   {
    "duration": 21,
    "start_time": "2021-12-17T12:15:01.987Z"
   },
   {
    "duration": 15,
    "start_time": "2021-12-17T12:15:02.011Z"
   },
   {
    "duration": 24,
    "start_time": "2021-12-17T12:15:02.032Z"
   },
   {
    "duration": 8,
    "start_time": "2021-12-17T12:15:02.060Z"
   },
   {
    "duration": 11,
    "start_time": "2021-12-17T12:15:02.070Z"
   },
   {
    "duration": 36,
    "start_time": "2021-12-17T12:15:02.084Z"
   },
   {
    "duration": 17,
    "start_time": "2021-12-17T12:15:02.123Z"
   },
   {
    "duration": 12,
    "start_time": "2021-12-17T12:15:02.142Z"
   },
   {
    "duration": 8,
    "start_time": "2021-12-17T12:15:02.158Z"
   },
   {
    "duration": 54,
    "start_time": "2021-12-17T12:15:02.168Z"
   },
   {
    "duration": 19,
    "start_time": "2021-12-17T12:15:02.225Z"
   },
   {
    "duration": 7,
    "start_time": "2021-12-17T12:15:02.247Z"
   },
   {
    "duration": 20,
    "start_time": "2021-12-17T12:15:02.258Z"
   },
   {
    "duration": 15,
    "start_time": "2021-12-17T12:15:02.318Z"
   },
   {
    "duration": 18,
    "start_time": "2021-12-17T12:15:02.336Z"
   },
   {
    "duration": 10,
    "start_time": "2021-12-17T12:15:06.627Z"
   },
   {
    "duration": 12,
    "start_time": "2021-12-17T12:15:48.693Z"
   },
   {
    "duration": 99,
    "start_time": "2021-12-17T12:20:24.737Z"
   },
   {
    "duration": 13,
    "start_time": "2021-12-17T12:20:32.279Z"
   },
   {
    "duration": 7,
    "start_time": "2021-12-17T12:20:54.625Z"
   },
   {
    "duration": 6,
    "start_time": "2021-12-17T12:20:56.113Z"
   },
   {
    "duration": 21,
    "start_time": "2021-12-17T12:21:16.242Z"
   },
   {
    "duration": 28,
    "start_time": "2021-12-17T12:21:41.207Z"
   },
   {
    "duration": 7,
    "start_time": "2021-12-17T12:21:41.775Z"
   },
   {
    "duration": 12,
    "start_time": "2021-12-17T12:21:47.159Z"
   },
   {
    "duration": 18,
    "start_time": "2021-12-17T12:21:47.848Z"
   },
   {
    "duration": 356,
    "start_time": "2021-12-17T12:22:31.135Z"
   },
   {
    "duration": 297,
    "start_time": "2021-12-17T12:22:33.286Z"
   },
   {
    "duration": 13,
    "start_time": "2021-12-17T12:22:35.975Z"
   },
   {
    "duration": 4,
    "start_time": "2021-12-17T12:22:36.583Z"
   },
   {
    "duration": 24,
    "start_time": "2021-12-17T12:22:37.159Z"
   },
   {
    "duration": 10,
    "start_time": "2021-12-17T12:22:40.144Z"
   },
   {
    "duration": 9,
    "start_time": "2021-12-17T12:22:40.640Z"
   },
   {
    "duration": 779,
    "start_time": "2021-12-17T12:22:41.095Z"
   },
   {
    "duration": 574,
    "start_time": "2021-12-17T12:23:53.910Z"
   },
   {
    "duration": 9,
    "start_time": "2021-12-17T12:24:07.285Z"
   },
   {
    "duration": 754,
    "start_time": "2021-12-17T12:24:10.486Z"
   },
   {
    "duration": 7,
    "start_time": "2021-12-17T12:24:24.005Z"
   },
   {
    "duration": 6,
    "start_time": "2021-12-17T12:24:50.125Z"
   },
   {
    "duration": 5,
    "start_time": "2021-12-17T12:24:50.605Z"
   },
   {
    "duration": 647,
    "start_time": "2021-12-17T12:24:53.685Z"
   },
   {
    "duration": 514,
    "start_time": "2021-12-17T12:25:15.509Z"
   },
   {
    "duration": 499,
    "start_time": "2021-12-17T12:25:26.357Z"
   },
   {
    "duration": 18,
    "start_time": "2021-12-17T12:26:04.220Z"
   },
   {
    "duration": 12,
    "start_time": "2021-12-17T12:26:06.204Z"
   },
   {
    "duration": 525,
    "start_time": "2021-12-17T12:26:07.149Z"
   },
   {
    "duration": 566,
    "start_time": "2021-12-17T12:26:20.172Z"
   },
   {
    "duration": 12,
    "start_time": "2021-12-17T12:27:10.386Z"
   },
   {
    "duration": 228,
    "start_time": "2021-12-17T12:27:12.220Z"
   },
   {
    "duration": 4,
    "start_time": "2021-12-17T12:27:14.611Z"
   },
   {
    "duration": 10,
    "start_time": "2021-12-17T12:27:15.927Z"
   },
   {
    "duration": 6,
    "start_time": "2021-12-17T12:27:56.635Z"
   },
   {
    "duration": 509,
    "start_time": "2021-12-17T12:27:57.540Z"
   },
   {
    "duration": 7,
    "start_time": "2021-12-17T12:28:11.322Z"
   },
   {
    "duration": 4,
    "start_time": "2021-12-17T12:29:25.154Z"
   },
   {
    "duration": 546,
    "start_time": "2021-12-17T12:29:26.378Z"
   },
   {
    "duration": 8,
    "start_time": "2021-12-17T12:29:29.889Z"
   },
   {
    "duration": 14,
    "start_time": "2021-12-17T12:29:33.553Z"
   },
   {
    "duration": 6,
    "start_time": "2021-12-17T12:29:36.041Z"
   },
   {
    "duration": 7,
    "start_time": "2021-12-17T12:31:09.383Z"
   },
   {
    "duration": 6,
    "start_time": "2021-12-17T12:31:10.120Z"
   },
   {
    "duration": 14,
    "start_time": "2021-12-17T12:31:10.721Z"
   },
   {
    "duration": 3,
    "start_time": "2021-12-17T12:31:11.288Z"
   },
   {
    "duration": 6,
    "start_time": "2021-12-17T12:31:13.752Z"
   },
   {
    "duration": 7,
    "start_time": "2021-12-17T12:31:14.352Z"
   },
   {
    "duration": 5,
    "start_time": "2021-12-17T12:31:16.847Z"
   },
   {
    "duration": 6,
    "start_time": "2021-12-17T12:31:17.375Z"
   },
   {
    "duration": 5,
    "start_time": "2021-12-17T12:31:17.960Z"
   },
   {
    "duration": 6,
    "start_time": "2021-12-17T12:31:18.729Z"
   },
   {
    "duration": 9,
    "start_time": "2021-12-17T12:31:20.536Z"
   },
   {
    "duration": 14,
    "start_time": "2021-12-17T12:31:24.463Z"
   },
   {
    "duration": 9,
    "start_time": "2021-12-17T12:31:31.600Z"
   },
   {
    "duration": 15,
    "start_time": "2021-12-17T12:32:24.991Z"
   },
   {
    "duration": 7,
    "start_time": "2021-12-17T12:33:19.046Z"
   },
   {
    "duration": 6,
    "start_time": "2021-12-17T12:33:21.062Z"
   },
   {
    "duration": 6,
    "start_time": "2021-12-17T12:33:21.654Z"
   },
   {
    "duration": 10,
    "start_time": "2021-12-17T12:33:38.214Z"
   },
   {
    "duration": 6,
    "start_time": "2021-12-17T12:33:38.773Z"
   },
   {
    "duration": 11,
    "start_time": "2021-12-17T12:33:39.823Z"
   },
   {
    "duration": 6,
    "start_time": "2021-12-17T12:33:40.398Z"
   },
   {
    "duration": 5,
    "start_time": "2021-12-17T12:33:43.286Z"
   },
   {
    "duration": 7,
    "start_time": "2021-12-17T12:33:55.573Z"
   },
   {
    "duration": 7,
    "start_time": "2021-12-17T12:33:56.070Z"
   },
   {
    "duration": 11,
    "start_time": "2021-12-17T12:33:58.318Z"
   },
   {
    "duration": 12,
    "start_time": "2021-12-17T12:34:06.222Z"
   },
   {
    "duration": 21,
    "start_time": "2021-12-17T12:35:22.237Z"
   },
   {
    "duration": 3,
    "start_time": "2021-12-17T13:14:52.704Z"
   },
   {
    "duration": 1003,
    "start_time": "2021-12-17T13:14:52.709Z"
   },
   {
    "duration": 17,
    "start_time": "2021-12-17T13:14:53.714Z"
   },
   {
    "duration": 50,
    "start_time": "2021-12-17T13:14:53.733Z"
   },
   {
    "duration": 17,
    "start_time": "2021-12-17T13:14:53.785Z"
   },
   {
    "duration": 23,
    "start_time": "2021-12-17T13:14:53.803Z"
   },
   {
    "duration": 24,
    "start_time": "2021-12-17T13:14:53.828Z"
   },
   {
    "duration": 18,
    "start_time": "2021-12-17T13:14:53.854Z"
   },
   {
    "duration": 23,
    "start_time": "2021-12-17T13:14:53.874Z"
   },
   {
    "duration": 7,
    "start_time": "2021-12-17T13:14:53.899Z"
   },
   {
    "duration": 17,
    "start_time": "2021-12-17T13:14:53.908Z"
   },
   {
    "duration": 11,
    "start_time": "2021-12-17T13:14:53.926Z"
   },
   {
    "duration": 19,
    "start_time": "2021-12-17T13:14:53.938Z"
   },
   {
    "duration": 18,
    "start_time": "2021-12-17T13:14:53.958Z"
   },
   {
    "duration": 16,
    "start_time": "2021-12-17T13:14:53.978Z"
   },
   {
    "duration": 34,
    "start_time": "2021-12-17T13:14:53.995Z"
   },
   {
    "duration": 15,
    "start_time": "2021-12-17T13:14:54.030Z"
   },
   {
    "duration": 7,
    "start_time": "2021-12-17T13:14:54.046Z"
   },
   {
    "duration": 10,
    "start_time": "2021-12-17T13:14:54.056Z"
   },
   {
    "duration": 9,
    "start_time": "2021-12-17T13:14:54.068Z"
   },
   {
    "duration": 9,
    "start_time": "2021-12-17T13:14:54.078Z"
   },
   {
    "duration": 9,
    "start_time": "2021-12-17T13:14:54.088Z"
   },
   {
    "duration": 4,
    "start_time": "2021-12-17T13:14:54.098Z"
   },
   {
    "duration": 7,
    "start_time": "2021-12-17T13:14:54.103Z"
   },
   {
    "duration": 10,
    "start_time": "2021-12-17T13:14:54.112Z"
   },
   {
    "duration": 10,
    "start_time": "2021-12-17T13:14:54.123Z"
   },
   {
    "duration": 15,
    "start_time": "2021-12-17T13:14:54.135Z"
   },
   {
    "duration": 10,
    "start_time": "2021-12-17T13:14:54.152Z"
   },
   {
    "duration": 14,
    "start_time": "2021-12-17T13:14:54.163Z"
   },
   {
    "duration": 181,
    "start_time": "2021-12-17T13:14:54.179Z"
   },
   {
    "duration": 155,
    "start_time": "2021-12-17T13:14:54.362Z"
   },
   {
    "duration": 6,
    "start_time": "2021-12-17T13:14:54.518Z"
   },
   {
    "duration": 6,
    "start_time": "2021-12-17T13:14:54.525Z"
   },
   {
    "duration": 13,
    "start_time": "2021-12-17T13:14:54.532Z"
   },
   {
    "duration": 5,
    "start_time": "2021-12-17T13:14:54.547Z"
   },
   {
    "duration": 5,
    "start_time": "2021-12-17T13:14:54.554Z"
   },
   {
    "duration": 296,
    "start_time": "2021-12-17T13:14:54.561Z"
   },
   {
    "duration": 263,
    "start_time": "2021-12-17T13:14:54.859Z"
   },
   {
    "duration": 6,
    "start_time": "2021-12-17T13:14:55.124Z"
   },
   {
    "duration": 327,
    "start_time": "2021-12-17T13:14:55.132Z"
   },
   {
    "duration": 4,
    "start_time": "2021-12-17T13:14:55.461Z"
   },
   {
    "duration": 7,
    "start_time": "2021-12-17T13:14:55.467Z"
   },
   {
    "duration": 12,
    "start_time": "2021-12-17T13:14:55.476Z"
   },
   {
    "duration": 255,
    "start_time": "2021-12-17T13:14:55.489Z"
   },
   {
    "duration": 7,
    "start_time": "2021-12-17T13:14:55.745Z"
   },
   {
    "duration": 9,
    "start_time": "2021-12-17T13:14:55.753Z"
   },
   {
    "duration": 393,
    "start_time": "2021-12-17T13:14:55.764Z"
   },
   {
    "duration": 7,
    "start_time": "2021-12-17T13:14:56.159Z"
   },
   {
    "duration": 102,
    "start_time": "2021-12-17T13:14:56.168Z"
   },
   {
    "duration": 16,
    "start_time": "2021-12-17T13:14:56.272Z"
   },
   {
    "duration": 7,
    "start_time": "2021-12-17T13:14:56.290Z"
   },
   {
    "duration": 4,
    "start_time": "2021-12-17T13:14:56.299Z"
   },
   {
    "duration": 293,
    "start_time": "2021-12-17T13:14:56.305Z"
   },
   {
    "duration": 3,
    "start_time": "2021-12-17T13:14:56.600Z"
   },
   {
    "duration": 3,
    "start_time": "2021-12-17T13:14:56.608Z"
   },
   {
    "duration": 281,
    "start_time": "2021-12-17T13:14:56.613Z"
   },
   {
    "duration": 6,
    "start_time": "2021-12-17T13:14:56.895Z"
   },
   {
    "duration": 13,
    "start_time": "2021-12-17T13:14:56.902Z"
   },
   {
    "duration": 5,
    "start_time": "2021-12-17T13:14:56.916Z"
   },
   {
    "duration": 5,
    "start_time": "2021-12-17T13:14:56.923Z"
   },
   {
    "duration": 5,
    "start_time": "2021-12-17T13:14:56.930Z"
   },
   {
    "duration": 7,
    "start_time": "2021-12-17T13:14:56.936Z"
   },
   {
    "duration": 4,
    "start_time": "2021-12-17T13:14:56.944Z"
   },
   {
    "duration": 8,
    "start_time": "2021-12-17T13:14:56.950Z"
   },
   {
    "duration": 9,
    "start_time": "2021-12-17T13:14:56.959Z"
   },
   {
    "duration": 19,
    "start_time": "2021-12-17T13:14:56.969Z"
   },
   {
    "duration": 3,
    "start_time": "2021-12-17T13:14:56.989Z"
   },
   {
    "duration": 8,
    "start_time": "2021-12-17T13:14:56.994Z"
   },
   {
    "duration": 7,
    "start_time": "2021-12-17T13:14:57.003Z"
   },
   {
    "duration": 9,
    "start_time": "2021-12-17T13:14:57.011Z"
   },
   {
    "duration": 9,
    "start_time": "2021-12-17T13:14:57.022Z"
   },
   {
    "duration": 8,
    "start_time": "2021-12-17T13:14:57.033Z"
   },
   {
    "duration": 4,
    "start_time": "2021-12-17T13:14:57.042Z"
   },
   {
    "duration": 6,
    "start_time": "2021-12-17T13:14:57.048Z"
   },
   {
    "duration": 10,
    "start_time": "2021-12-17T13:14:57.056Z"
   },
   {
    "duration": 22,
    "start_time": "2021-12-17T13:14:57.067Z"
   },
   {
    "duration": 3,
    "start_time": "2021-12-17T13:14:57.091Z"
   },
   {
    "duration": 5,
    "start_time": "2021-12-17T13:14:57.096Z"
   },
   {
    "duration": 6,
    "start_time": "2021-12-17T13:14:57.102Z"
   },
   {
    "duration": 9,
    "start_time": "2021-12-17T13:14:57.109Z"
   },
   {
    "duration": 10,
    "start_time": "2021-12-17T13:14:57.120Z"
   },
   {
    "duration": 975,
    "start_time": "2021-12-17T13:37:40.252Z"
   },
   {
    "duration": 16,
    "start_time": "2021-12-17T13:37:41.229Z"
   },
   {
    "duration": 35,
    "start_time": "2021-12-17T13:37:41.496Z"
   },
   {
    "duration": 15,
    "start_time": "2021-12-17T13:37:41.901Z"
   },
   {
    "duration": 3,
    "start_time": "2021-12-17T13:37:42.621Z"
   },
   {
    "duration": 10,
    "start_time": "2021-12-17T13:37:43.000Z"
   },
   {
    "duration": 9,
    "start_time": "2021-12-17T13:37:45.177Z"
   },
   {
    "duration": 7,
    "start_time": "2021-12-17T13:37:45.467Z"
   },
   {
    "duration": 3,
    "start_time": "2021-12-17T13:37:48.440Z"
   },
   {
    "duration": 5,
    "start_time": "2021-12-17T13:37:49.288Z"
   },
   {
    "duration": 8,
    "start_time": "2021-12-17T13:37:49.757Z"
   },
   {
    "duration": 3,
    "start_time": "2021-12-17T13:37:50.318Z"
   },
   {
    "duration": 8,
    "start_time": "2021-12-17T13:37:53.300Z"
   },
   {
    "duration": 7,
    "start_time": "2021-12-17T13:37:53.632Z"
   },
   {
    "duration": 5,
    "start_time": "2021-12-17T13:37:54.097Z"
   },
   {
    "duration": 14,
    "start_time": "2021-12-17T13:37:56.581Z"
   },
   {
    "duration": 6,
    "start_time": "2021-12-17T13:37:56.864Z"
   },
   {
    "duration": 11,
    "start_time": "2021-12-17T13:37:57.253Z"
   },
   {
    "duration": 6,
    "start_time": "2021-12-17T13:37:57.804Z"
   },
   {
    "duration": 6,
    "start_time": "2021-12-17T13:38:14.610Z"
   },
   {
    "duration": 79,
    "start_time": "2021-12-17T13:38:21.604Z"
   },
   {
    "duration": 8,
    "start_time": "2021-12-17T13:38:24.312Z"
   },
   {
    "duration": 7,
    "start_time": "2021-12-17T13:38:31.348Z"
   },
   {
    "duration": 10,
    "start_time": "2021-12-17T13:39:38.644Z"
   },
   {
    "duration": 375,
    "start_time": "2021-12-17T15:16:28.436Z"
   },
   {
    "duration": 1070,
    "start_time": "2021-12-17T15:16:36.749Z"
   },
   {
    "duration": 16,
    "start_time": "2021-12-17T15:16:38.256Z"
   },
   {
    "duration": 34,
    "start_time": "2021-12-17T15:16:38.599Z"
   },
   {
    "duration": 15,
    "start_time": "2021-12-17T15:16:38.932Z"
   },
   {
    "duration": 3,
    "start_time": "2021-12-17T15:16:39.736Z"
   },
   {
    "duration": 11,
    "start_time": "2021-12-17T15:16:39.923Z"
   },
   {
    "duration": 8,
    "start_time": "2021-12-17T15:16:44.465Z"
   },
   {
    "duration": 7,
    "start_time": "2021-12-17T15:16:44.724Z"
   },
   {
    "duration": 4,
    "start_time": "2021-12-17T15:16:46.534Z"
   },
   {
    "duration": 12,
    "start_time": "2021-12-17T15:16:46.798Z"
   },
   {
    "duration": 6,
    "start_time": "2021-12-17T15:16:47.820Z"
   },
   {
    "duration": 11,
    "start_time": "2021-12-17T15:16:48.459Z"
   },
   {
    "duration": 5,
    "start_time": "2021-12-17T15:16:49.124Z"
   },
   {
    "duration": 9,
    "start_time": "2021-12-17T15:16:54.780Z"
   },
   {
    "duration": 6207,
    "start_time": "2021-12-17T15:16:56.856Z"
   },
   {
    "duration": 11,
    "start_time": "2021-12-17T15:17:29.667Z"
   },
   {
    "duration": 9,
    "start_time": "2021-12-17T15:18:02.798Z"
   },
   {
    "duration": 3,
    "start_time": "2021-12-17T15:19:15.464Z"
   },
   {
    "duration": 1047,
    "start_time": "2021-12-17T15:19:15.469Z"
   },
   {
    "duration": 17,
    "start_time": "2021-12-17T15:19:16.518Z"
   },
   {
    "duration": 35,
    "start_time": "2021-12-17T15:19:16.539Z"
   },
   {
    "duration": 15,
    "start_time": "2021-12-17T15:19:16.575Z"
   },
   {
    "duration": 7,
    "start_time": "2021-12-17T15:19:16.592Z"
   },
   {
    "duration": 11,
    "start_time": "2021-12-17T15:19:16.601Z"
   },
   {
    "duration": 3,
    "start_time": "2021-12-17T15:19:16.614Z"
   },
   {
    "duration": 9,
    "start_time": "2021-12-17T15:19:16.619Z"
   },
   {
    "duration": 7,
    "start_time": "2021-12-17T15:19:16.629Z"
   },
   {
    "duration": 5,
    "start_time": "2021-12-17T15:19:16.637Z"
   },
   {
    "duration": 11,
    "start_time": "2021-12-17T15:19:16.643Z"
   },
   {
    "duration": 5,
    "start_time": "2021-12-17T15:19:16.656Z"
   },
   {
    "duration": 10,
    "start_time": "2021-12-17T15:19:16.662Z"
   },
   {
    "duration": 6,
    "start_time": "2021-12-17T15:19:16.688Z"
   },
   {
    "duration": 5,
    "start_time": "2021-12-17T15:19:16.696Z"
   },
   {
    "duration": 15,
    "start_time": "2021-12-17T15:19:16.702Z"
   },
   {
    "duration": 6,
    "start_time": "2021-12-17T15:19:16.721Z"
   },
   {
    "duration": 11,
    "start_time": "2021-12-17T15:19:16.729Z"
   },
   {
    "duration": 6,
    "start_time": "2021-12-17T15:19:16.742Z"
   },
   {
    "duration": 47,
    "start_time": "2021-12-17T15:19:16.749Z"
   },
   {
    "duration": 9,
    "start_time": "2021-12-17T15:19:16.798Z"
   },
   {
    "duration": 4,
    "start_time": "2021-12-17T15:19:16.808Z"
   },
   {
    "duration": 5,
    "start_time": "2021-12-17T15:19:16.813Z"
   },
   {
    "duration": 9,
    "start_time": "2021-12-17T15:19:16.820Z"
   },
   {
    "duration": 13,
    "start_time": "2021-12-17T15:19:16.831Z"
   },
   {
    "duration": 8,
    "start_time": "2021-12-17T15:19:16.845Z"
   },
   {
    "duration": 6,
    "start_time": "2021-12-17T15:19:16.888Z"
   },
   {
    "duration": 11,
    "start_time": "2021-12-17T15:19:16.896Z"
   },
   {
    "duration": 183,
    "start_time": "2021-12-17T15:19:16.909Z"
   },
   {
    "duration": 149,
    "start_time": "2021-12-17T15:19:17.094Z"
   },
   {
    "duration": 6,
    "start_time": "2021-12-17T15:19:17.244Z"
   },
   {
    "duration": 6,
    "start_time": "2021-12-17T15:19:17.251Z"
   },
   {
    "duration": 13,
    "start_time": "2021-12-17T15:19:17.258Z"
   },
   {
    "duration": 17,
    "start_time": "2021-12-17T15:19:17.273Z"
   },
   {
    "duration": 5,
    "start_time": "2021-12-17T15:19:17.292Z"
   },
   {
    "duration": 303,
    "start_time": "2021-12-17T15:19:17.298Z"
   },
   {
    "duration": 264,
    "start_time": "2021-12-17T15:19:17.602Z"
   },
   {
    "duration": 6,
    "start_time": "2021-12-17T15:19:17.867Z"
   },
   {
    "duration": 369,
    "start_time": "2021-12-17T15:19:17.875Z"
   },
   {
    "duration": 4,
    "start_time": "2021-12-17T15:19:18.246Z"
   },
   {
    "duration": 5,
    "start_time": "2021-12-17T15:19:18.252Z"
   },
   {
    "duration": 5,
    "start_time": "2021-12-17T15:19:18.258Z"
   },
   {
    "duration": 271,
    "start_time": "2021-12-17T15:19:18.265Z"
   },
   {
    "duration": 7,
    "start_time": "2021-12-17T15:19:18.538Z"
   },
   {
    "duration": 9,
    "start_time": "2021-12-17T15:19:18.547Z"
   },
   {
    "duration": 374,
    "start_time": "2021-12-17T15:19:18.558Z"
   },
   {
    "duration": 7,
    "start_time": "2021-12-17T15:19:18.934Z"
   },
   {
    "duration": 110,
    "start_time": "2021-12-17T15:19:18.942Z"
   },
   {
    "duration": 3,
    "start_time": "2021-12-17T15:19:19.053Z"
   },
   {
    "duration": 8,
    "start_time": "2021-12-17T15:19:19.057Z"
   },
   {
    "duration": 5,
    "start_time": "2021-12-17T15:19:19.066Z"
   },
   {
    "duration": 276,
    "start_time": "2021-12-17T15:19:19.088Z"
   },
   {
    "duration": 4,
    "start_time": "2021-12-17T15:19:19.368Z"
   },
   {
    "duration": 16,
    "start_time": "2021-12-17T15:19:19.374Z"
   },
   {
    "duration": 275,
    "start_time": "2021-12-17T15:19:19.391Z"
   },
   {
    "duration": 5,
    "start_time": "2021-12-17T15:19:19.667Z"
   },
   {
    "duration": 19,
    "start_time": "2021-12-17T15:19:19.674Z"
   },
   {
    "duration": 5,
    "start_time": "2021-12-17T15:19:19.695Z"
   },
   {
    "duration": 5,
    "start_time": "2021-12-17T15:19:19.701Z"
   },
   {
    "duration": 4,
    "start_time": "2021-12-17T15:19:19.708Z"
   },
   {
    "duration": 6,
    "start_time": "2021-12-17T15:19:19.714Z"
   },
   {
    "duration": 4,
    "start_time": "2021-12-17T15:19:19.721Z"
   },
   {
    "duration": 6,
    "start_time": "2021-12-17T15:19:19.727Z"
   },
   {
    "duration": 6,
    "start_time": "2021-12-17T15:19:19.734Z"
   },
   {
    "duration": 6,
    "start_time": "2021-12-17T15:19:19.741Z"
   },
   {
    "duration": 8,
    "start_time": "2021-12-17T15:19:19.748Z"
   },
   {
    "duration": 4,
    "start_time": "2021-12-17T15:19:19.758Z"
   },
   {
    "duration": 25,
    "start_time": "2021-12-17T15:19:19.764Z"
   },
   {
    "duration": 6,
    "start_time": "2021-12-17T15:19:19.791Z"
   },
   {
    "duration": 8,
    "start_time": "2021-12-17T15:19:19.798Z"
   },
   {
    "duration": 9,
    "start_time": "2021-12-17T15:19:19.807Z"
   },
   {
    "duration": 4,
    "start_time": "2021-12-17T15:19:19.817Z"
   },
   {
    "duration": 4,
    "start_time": "2021-12-17T15:19:19.823Z"
   },
   {
    "duration": 6,
    "start_time": "2021-12-17T15:19:19.828Z"
   },
   {
    "duration": 6,
    "start_time": "2021-12-17T15:19:19.836Z"
   },
   {
    "duration": 4,
    "start_time": "2021-12-17T15:19:19.843Z"
   },
   {
    "duration": 39,
    "start_time": "2021-12-17T15:19:19.849Z"
   },
   {
    "duration": 6,
    "start_time": "2021-12-17T15:19:19.889Z"
   },
   {
    "duration": 11,
    "start_time": "2021-12-17T15:19:19.897Z"
   },
   {
    "duration": 12,
    "start_time": "2021-12-17T15:19:19.909Z"
   }
  ],
  "kernelspec": {
   "display_name": "Python 3 (ipykernel)",
   "language": "python",
   "name": "python3"
  },
  "language_info": {
   "codemirror_mode": {
    "name": "ipython",
    "version": 3
   },
   "file_extension": ".py",
   "mimetype": "text/x-python",
   "name": "python",
   "nbconvert_exporter": "python",
   "pygments_lexer": "ipython3",
   "version": "3.9.12"
  },
  "notebookId": "70036461-2981-4bb5-80c0-4017aefadddc",
  "notebookPath": "da-business-decisions.ipynb",
  "toc": {
   "base_numbering": 1,
   "nav_menu": {},
   "number_sections": true,
   "sideBar": true,
   "skip_h1_title": true,
   "title_cell": "Table of Contents",
   "title_sidebar": "Contents",
   "toc_cell": false,
   "toc_position": {
    "height": "calc(100% - 180px)",
    "left": "10px",
    "top": "150px",
    "width": "168.018px"
   },
   "toc_section_display": true,
   "toc_window_display": true
  }
 },
 "nbformat": 4,
 "nbformat_minor": 4
}
